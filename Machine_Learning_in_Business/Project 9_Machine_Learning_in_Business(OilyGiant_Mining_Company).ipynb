{
 "cells": [
  {
   "cell_type": "markdown",
   "metadata": {},
   "source": [
    "# OilyGiant mining company project"
   ]
  },
  {
   "cell_type": "markdown",
   "metadata": {},
   "source": [
    "Introduction: \n",
    "\n",
    "For this project I am working for OilyGiant mining company and the task is to find the next best region for a new well. I will pick the model and the oil wells with the highest estimated value and the region with highest total profit to find the next best region."
   ]
  },
  {
   "cell_type": "markdown",
   "metadata": {},
   "source": [
    "Downloading libraries and datasets to prepare the data in the cells below."
   ]
  },
  {
   "cell_type": "code",
   "execution_count": 1,
   "metadata": {},
   "outputs": [],
   "source": [
    "import pandas as pd\n",
    "import numpy as np\n",
    "import matplotlib.pyplot as plt\n",
    "from sklearn.preprocessing import StandardScaler\n",
    "from sklearn.model_selection import train_test_split\n",
    "from sklearn.linear_model import LinearRegression\n",
    "from sklearn.metrics import mean_squared_error"
   ]
  },
  {
   "cell_type": "code",
   "execution_count": 2,
   "metadata": {},
   "outputs": [
    {
     "data": {
      "text/html": [
       "<div>\n",
       "<style scoped>\n",
       "    .dataframe tbody tr th:only-of-type {\n",
       "        vertical-align: middle;\n",
       "    }\n",
       "\n",
       "    .dataframe tbody tr th {\n",
       "        vertical-align: top;\n",
       "    }\n",
       "\n",
       "    .dataframe thead th {\n",
       "        text-align: right;\n",
       "    }\n",
       "</style>\n",
       "<table border=\"1\" class=\"dataframe\">\n",
       "  <thead>\n",
       "    <tr style=\"text-align: right;\">\n",
       "      <th></th>\n",
       "      <th>id</th>\n",
       "      <th>f0</th>\n",
       "      <th>f1</th>\n",
       "      <th>f2</th>\n",
       "      <th>product</th>\n",
       "    </tr>\n",
       "  </thead>\n",
       "  <tbody>\n",
       "    <tr>\n",
       "      <th>0</th>\n",
       "      <td>txEyH</td>\n",
       "      <td>0.705745</td>\n",
       "      <td>-0.497823</td>\n",
       "      <td>1.221170</td>\n",
       "      <td>105.280062</td>\n",
       "    </tr>\n",
       "    <tr>\n",
       "      <th>1</th>\n",
       "      <td>2acmU</td>\n",
       "      <td>1.334711</td>\n",
       "      <td>-0.340164</td>\n",
       "      <td>4.365080</td>\n",
       "      <td>73.037750</td>\n",
       "    </tr>\n",
       "    <tr>\n",
       "      <th>2</th>\n",
       "      <td>409Wp</td>\n",
       "      <td>1.022732</td>\n",
       "      <td>0.151990</td>\n",
       "      <td>1.419926</td>\n",
       "      <td>85.265647</td>\n",
       "    </tr>\n",
       "    <tr>\n",
       "      <th>3</th>\n",
       "      <td>iJLyR</td>\n",
       "      <td>-0.032172</td>\n",
       "      <td>0.139033</td>\n",
       "      <td>2.978566</td>\n",
       "      <td>168.620776</td>\n",
       "    </tr>\n",
       "    <tr>\n",
       "      <th>4</th>\n",
       "      <td>Xdl7t</td>\n",
       "      <td>1.988431</td>\n",
       "      <td>0.155413</td>\n",
       "      <td>4.751769</td>\n",
       "      <td>154.036647</td>\n",
       "    </tr>\n",
       "    <tr>\n",
       "      <th>5</th>\n",
       "      <td>wX4Hy</td>\n",
       "      <td>0.969570</td>\n",
       "      <td>0.489775</td>\n",
       "      <td>-0.735383</td>\n",
       "      <td>64.741541</td>\n",
       "    </tr>\n",
       "    <tr>\n",
       "      <th>6</th>\n",
       "      <td>tL6pL</td>\n",
       "      <td>0.645075</td>\n",
       "      <td>0.530656</td>\n",
       "      <td>1.780266</td>\n",
       "      <td>49.055285</td>\n",
       "    </tr>\n",
       "    <tr>\n",
       "      <th>7</th>\n",
       "      <td>BYPU6</td>\n",
       "      <td>-0.400648</td>\n",
       "      <td>0.808337</td>\n",
       "      <td>-5.624670</td>\n",
       "      <td>72.943292</td>\n",
       "    </tr>\n",
       "    <tr>\n",
       "      <th>8</th>\n",
       "      <td>j9Oui</td>\n",
       "      <td>0.643105</td>\n",
       "      <td>-0.551583</td>\n",
       "      <td>2.372141</td>\n",
       "      <td>113.356160</td>\n",
       "    </tr>\n",
       "    <tr>\n",
       "      <th>9</th>\n",
       "      <td>OLuZU</td>\n",
       "      <td>2.173381</td>\n",
       "      <td>0.563698</td>\n",
       "      <td>9.441852</td>\n",
       "      <td>127.910945</td>\n",
       "    </tr>\n",
       "  </tbody>\n",
       "</table>\n",
       "</div>"
      ],
      "text/plain": [
       "      id        f0        f1        f2     product\n",
       "0  txEyH  0.705745 -0.497823  1.221170  105.280062\n",
       "1  2acmU  1.334711 -0.340164  4.365080   73.037750\n",
       "2  409Wp  1.022732  0.151990  1.419926   85.265647\n",
       "3  iJLyR -0.032172  0.139033  2.978566  168.620776\n",
       "4  Xdl7t  1.988431  0.155413  4.751769  154.036647\n",
       "5  wX4Hy  0.969570  0.489775 -0.735383   64.741541\n",
       "6  tL6pL  0.645075  0.530656  1.780266   49.055285\n",
       "7  BYPU6 -0.400648  0.808337 -5.624670   72.943292\n",
       "8  j9Oui  0.643105 -0.551583  2.372141  113.356160\n",
       "9  OLuZU  2.173381  0.563698  9.441852  127.910945"
      ]
     },
     "execution_count": 2,
     "metadata": {},
     "output_type": "execute_result"
    }
   ],
   "source": [
    "try:\n",
    "    oil_0 = pd.read_csv(\"/datasets/geo_data_0.csv\")\n",
    "except FileNotFoundError:\n",
    "    oil_0 = pd.read_csv('https://practicum-content.s3.us-west-1.amazonaws.com/datasets/geo_data_0.csv')\n",
    "\n",
    "oil_0.head(10)"
   ]
  },
  {
   "cell_type": "code",
   "execution_count": 3,
   "metadata": {},
   "outputs": [
    {
     "data": {
      "text/html": [
       "<div>\n",
       "<style scoped>\n",
       "    .dataframe tbody tr th:only-of-type {\n",
       "        vertical-align: middle;\n",
       "    }\n",
       "\n",
       "    .dataframe tbody tr th {\n",
       "        vertical-align: top;\n",
       "    }\n",
       "\n",
       "    .dataframe thead th {\n",
       "        text-align: right;\n",
       "    }\n",
       "</style>\n",
       "<table border=\"1\" class=\"dataframe\">\n",
       "  <thead>\n",
       "    <tr style=\"text-align: right;\">\n",
       "      <th></th>\n",
       "      <th>id</th>\n",
       "      <th>f0</th>\n",
       "      <th>f1</th>\n",
       "      <th>f2</th>\n",
       "      <th>product</th>\n",
       "    </tr>\n",
       "  </thead>\n",
       "  <tbody>\n",
       "    <tr>\n",
       "      <th>0</th>\n",
       "      <td>kBEdx</td>\n",
       "      <td>-15.001348</td>\n",
       "      <td>-8.276000</td>\n",
       "      <td>-0.005876</td>\n",
       "      <td>3.179103</td>\n",
       "    </tr>\n",
       "    <tr>\n",
       "      <th>1</th>\n",
       "      <td>62mP7</td>\n",
       "      <td>14.272088</td>\n",
       "      <td>-3.475083</td>\n",
       "      <td>0.999183</td>\n",
       "      <td>26.953261</td>\n",
       "    </tr>\n",
       "    <tr>\n",
       "      <th>2</th>\n",
       "      <td>vyE1P</td>\n",
       "      <td>6.263187</td>\n",
       "      <td>-5.948386</td>\n",
       "      <td>5.001160</td>\n",
       "      <td>134.766305</td>\n",
       "    </tr>\n",
       "    <tr>\n",
       "      <th>3</th>\n",
       "      <td>KcrkZ</td>\n",
       "      <td>-13.081196</td>\n",
       "      <td>-11.506057</td>\n",
       "      <td>4.999415</td>\n",
       "      <td>137.945408</td>\n",
       "    </tr>\n",
       "    <tr>\n",
       "      <th>4</th>\n",
       "      <td>AHL4O</td>\n",
       "      <td>12.702195</td>\n",
       "      <td>-8.147433</td>\n",
       "      <td>5.004363</td>\n",
       "      <td>134.766305</td>\n",
       "    </tr>\n",
       "    <tr>\n",
       "      <th>5</th>\n",
       "      <td>HHckp</td>\n",
       "      <td>-3.327590</td>\n",
       "      <td>-2.205276</td>\n",
       "      <td>3.003647</td>\n",
       "      <td>84.038886</td>\n",
       "    </tr>\n",
       "    <tr>\n",
       "      <th>6</th>\n",
       "      <td>h5Ujo</td>\n",
       "      <td>-11.142655</td>\n",
       "      <td>-10.133399</td>\n",
       "      <td>4.002382</td>\n",
       "      <td>110.992147</td>\n",
       "    </tr>\n",
       "    <tr>\n",
       "      <th>7</th>\n",
       "      <td>muH9x</td>\n",
       "      <td>4.234715</td>\n",
       "      <td>-0.001354</td>\n",
       "      <td>2.004588</td>\n",
       "      <td>53.906522</td>\n",
       "    </tr>\n",
       "    <tr>\n",
       "      <th>8</th>\n",
       "      <td>YiRkx</td>\n",
       "      <td>13.355129</td>\n",
       "      <td>-0.332068</td>\n",
       "      <td>4.998647</td>\n",
       "      <td>134.766305</td>\n",
       "    </tr>\n",
       "    <tr>\n",
       "      <th>9</th>\n",
       "      <td>jG6Gi</td>\n",
       "      <td>1.069227</td>\n",
       "      <td>-11.025667</td>\n",
       "      <td>4.997844</td>\n",
       "      <td>137.945408</td>\n",
       "    </tr>\n",
       "  </tbody>\n",
       "</table>\n",
       "</div>"
      ],
      "text/plain": [
       "      id         f0         f1        f2     product\n",
       "0  kBEdx -15.001348  -8.276000 -0.005876    3.179103\n",
       "1  62mP7  14.272088  -3.475083  0.999183   26.953261\n",
       "2  vyE1P   6.263187  -5.948386  5.001160  134.766305\n",
       "3  KcrkZ -13.081196 -11.506057  4.999415  137.945408\n",
       "4  AHL4O  12.702195  -8.147433  5.004363  134.766305\n",
       "5  HHckp  -3.327590  -2.205276  3.003647   84.038886\n",
       "6  h5Ujo -11.142655 -10.133399  4.002382  110.992147\n",
       "7  muH9x   4.234715  -0.001354  2.004588   53.906522\n",
       "8  YiRkx  13.355129  -0.332068  4.998647  134.766305\n",
       "9  jG6Gi   1.069227 -11.025667  4.997844  137.945408"
      ]
     },
     "execution_count": 3,
     "metadata": {},
     "output_type": "execute_result"
    }
   ],
   "source": [
    "try:\n",
    "    oil_1 = pd.read_csv(\"/datasets/geo_data_1.csv\")\n",
    "except FileNotFoundError:\n",
    "    oil_1 = pd.read_csv('https://practicum-content.s3.us-west-1.amazonaws.com/datasets/geo_data_1.csv')\n",
    "\n",
    "oil_1.head(10)"
   ]
  },
  {
   "cell_type": "code",
   "execution_count": 4,
   "metadata": {},
   "outputs": [
    {
     "data": {
      "text/html": [
       "<div>\n",
       "<style scoped>\n",
       "    .dataframe tbody tr th:only-of-type {\n",
       "        vertical-align: middle;\n",
       "    }\n",
       "\n",
       "    .dataframe tbody tr th {\n",
       "        vertical-align: top;\n",
       "    }\n",
       "\n",
       "    .dataframe thead th {\n",
       "        text-align: right;\n",
       "    }\n",
       "</style>\n",
       "<table border=\"1\" class=\"dataframe\">\n",
       "  <thead>\n",
       "    <tr style=\"text-align: right;\">\n",
       "      <th></th>\n",
       "      <th>id</th>\n",
       "      <th>f0</th>\n",
       "      <th>f1</th>\n",
       "      <th>f2</th>\n",
       "      <th>product</th>\n",
       "    </tr>\n",
       "  </thead>\n",
       "  <tbody>\n",
       "    <tr>\n",
       "      <th>0</th>\n",
       "      <td>fwXo0</td>\n",
       "      <td>-1.146987</td>\n",
       "      <td>0.963328</td>\n",
       "      <td>-0.828965</td>\n",
       "      <td>27.758673</td>\n",
       "    </tr>\n",
       "    <tr>\n",
       "      <th>1</th>\n",
       "      <td>WJtFt</td>\n",
       "      <td>0.262778</td>\n",
       "      <td>0.269839</td>\n",
       "      <td>-2.530187</td>\n",
       "      <td>56.069697</td>\n",
       "    </tr>\n",
       "    <tr>\n",
       "      <th>2</th>\n",
       "      <td>ovLUW</td>\n",
       "      <td>0.194587</td>\n",
       "      <td>0.289035</td>\n",
       "      <td>-5.586433</td>\n",
       "      <td>62.871910</td>\n",
       "    </tr>\n",
       "    <tr>\n",
       "      <th>3</th>\n",
       "      <td>q6cA6</td>\n",
       "      <td>2.236060</td>\n",
       "      <td>-0.553760</td>\n",
       "      <td>0.930038</td>\n",
       "      <td>114.572842</td>\n",
       "    </tr>\n",
       "    <tr>\n",
       "      <th>4</th>\n",
       "      <td>WPMUX</td>\n",
       "      <td>-0.515993</td>\n",
       "      <td>1.716266</td>\n",
       "      <td>5.899011</td>\n",
       "      <td>149.600746</td>\n",
       "    </tr>\n",
       "    <tr>\n",
       "      <th>5</th>\n",
       "      <td>LzZXx</td>\n",
       "      <td>-0.758092</td>\n",
       "      <td>0.710691</td>\n",
       "      <td>2.585887</td>\n",
       "      <td>90.222465</td>\n",
       "    </tr>\n",
       "    <tr>\n",
       "      <th>6</th>\n",
       "      <td>WBHRv</td>\n",
       "      <td>-0.574891</td>\n",
       "      <td>0.317727</td>\n",
       "      <td>1.773745</td>\n",
       "      <td>45.641478</td>\n",
       "    </tr>\n",
       "    <tr>\n",
       "      <th>7</th>\n",
       "      <td>XO8fn</td>\n",
       "      <td>-1.906649</td>\n",
       "      <td>-2.458350</td>\n",
       "      <td>-0.177097</td>\n",
       "      <td>72.480640</td>\n",
       "    </tr>\n",
       "    <tr>\n",
       "      <th>8</th>\n",
       "      <td>ybmQ5</td>\n",
       "      <td>1.776292</td>\n",
       "      <td>-0.279356</td>\n",
       "      <td>3.004156</td>\n",
       "      <td>106.616832</td>\n",
       "    </tr>\n",
       "    <tr>\n",
       "      <th>9</th>\n",
       "      <td>OilcN</td>\n",
       "      <td>-1.214452</td>\n",
       "      <td>-0.439314</td>\n",
       "      <td>5.922514</td>\n",
       "      <td>52.954532</td>\n",
       "    </tr>\n",
       "  </tbody>\n",
       "</table>\n",
       "</div>"
      ],
      "text/plain": [
       "      id        f0        f1        f2     product\n",
       "0  fwXo0 -1.146987  0.963328 -0.828965   27.758673\n",
       "1  WJtFt  0.262778  0.269839 -2.530187   56.069697\n",
       "2  ovLUW  0.194587  0.289035 -5.586433   62.871910\n",
       "3  q6cA6  2.236060 -0.553760  0.930038  114.572842\n",
       "4  WPMUX -0.515993  1.716266  5.899011  149.600746\n",
       "5  LzZXx -0.758092  0.710691  2.585887   90.222465\n",
       "6  WBHRv -0.574891  0.317727  1.773745   45.641478\n",
       "7  XO8fn -1.906649 -2.458350 -0.177097   72.480640\n",
       "8  ybmQ5  1.776292 -0.279356  3.004156  106.616832\n",
       "9  OilcN -1.214452 -0.439314  5.922514   52.954532"
      ]
     },
     "execution_count": 4,
     "metadata": {},
     "output_type": "execute_result"
    }
   ],
   "source": [
    "try:\n",
    "    oil_2 = pd.read_csv(\"/datasets/geo_data_2.csv\")\n",
    "except FileNotFoundError:\n",
    "    oil_2 = pd.read_csv('https://practicum-content.s3.us-west-1.amazonaws.com/datasets/geo_data_2.csv')\n",
    "\n",
    "oil_2.head(10)"
   ]
  },
  {
   "cell_type": "code",
   "execution_count": 3,
   "metadata": {},
   "outputs": [
    {
     "data": {
      "text/html": [
       "<div>\n",
       "<style scoped>\n",
       "    .dataframe tbody tr th:only-of-type {\n",
       "        vertical-align: middle;\n",
       "    }\n",
       "\n",
       "    .dataframe tbody tr th {\n",
       "        vertical-align: top;\n",
       "    }\n",
       "\n",
       "    .dataframe thead th {\n",
       "        text-align: right;\n",
       "    }\n",
       "</style>\n",
       "<table border=\"1\" class=\"dataframe\">\n",
       "  <thead>\n",
       "    <tr style=\"text-align: right;\">\n",
       "      <th></th>\n",
       "      <th>id</th>\n",
       "      <th>f0</th>\n",
       "      <th>f1</th>\n",
       "      <th>f2</th>\n",
       "      <th>product</th>\n",
       "    </tr>\n",
       "  </thead>\n",
       "  <tbody>\n",
       "    <tr>\n",
       "      <th>0</th>\n",
       "      <td>txEyH</td>\n",
       "      <td>0.705745</td>\n",
       "      <td>-0.497823</td>\n",
       "      <td>1.221170</td>\n",
       "      <td>105.280062</td>\n",
       "    </tr>\n",
       "    <tr>\n",
       "      <th>1</th>\n",
       "      <td>2acmU</td>\n",
       "      <td>1.334711</td>\n",
       "      <td>-0.340164</td>\n",
       "      <td>4.365080</td>\n",
       "      <td>73.037750</td>\n",
       "    </tr>\n",
       "    <tr>\n",
       "      <th>2</th>\n",
       "      <td>409Wp</td>\n",
       "      <td>1.022732</td>\n",
       "      <td>0.151990</td>\n",
       "      <td>1.419926</td>\n",
       "      <td>85.265647</td>\n",
       "    </tr>\n",
       "    <tr>\n",
       "      <th>3</th>\n",
       "      <td>iJLyR</td>\n",
       "      <td>-0.032172</td>\n",
       "      <td>0.139033</td>\n",
       "      <td>2.978566</td>\n",
       "      <td>168.620776</td>\n",
       "    </tr>\n",
       "    <tr>\n",
       "      <th>4</th>\n",
       "      <td>Xdl7t</td>\n",
       "      <td>1.988431</td>\n",
       "      <td>0.155413</td>\n",
       "      <td>4.751769</td>\n",
       "      <td>154.036647</td>\n",
       "    </tr>\n",
       "    <tr>\n",
       "      <th>5</th>\n",
       "      <td>wX4Hy</td>\n",
       "      <td>0.969570</td>\n",
       "      <td>0.489775</td>\n",
       "      <td>-0.735383</td>\n",
       "      <td>64.741541</td>\n",
       "    </tr>\n",
       "    <tr>\n",
       "      <th>6</th>\n",
       "      <td>tL6pL</td>\n",
       "      <td>0.645075</td>\n",
       "      <td>0.530656</td>\n",
       "      <td>1.780266</td>\n",
       "      <td>49.055285</td>\n",
       "    </tr>\n",
       "    <tr>\n",
       "      <th>7</th>\n",
       "      <td>BYPU6</td>\n",
       "      <td>-0.400648</td>\n",
       "      <td>0.808337</td>\n",
       "      <td>-5.624670</td>\n",
       "      <td>72.943292</td>\n",
       "    </tr>\n",
       "    <tr>\n",
       "      <th>8</th>\n",
       "      <td>j9Oui</td>\n",
       "      <td>0.643105</td>\n",
       "      <td>-0.551583</td>\n",
       "      <td>2.372141</td>\n",
       "      <td>113.356160</td>\n",
       "    </tr>\n",
       "    <tr>\n",
       "      <th>9</th>\n",
       "      <td>OLuZU</td>\n",
       "      <td>2.173381</td>\n",
       "      <td>0.563698</td>\n",
       "      <td>9.441852</td>\n",
       "      <td>127.910945</td>\n",
       "    </tr>\n",
       "  </tbody>\n",
       "</table>\n",
       "</div>"
      ],
      "text/plain": [
       "      id        f0        f1        f2     product\n",
       "0  txEyH  0.705745 -0.497823  1.221170  105.280062\n",
       "1  2acmU  1.334711 -0.340164  4.365080   73.037750\n",
       "2  409Wp  1.022732  0.151990  1.419926   85.265647\n",
       "3  iJLyR -0.032172  0.139033  2.978566  168.620776\n",
       "4  Xdl7t  1.988431  0.155413  4.751769  154.036647\n",
       "5  wX4Hy  0.969570  0.489775 -0.735383   64.741541\n",
       "6  tL6pL  0.645075  0.530656  1.780266   49.055285\n",
       "7  BYPU6 -0.400648  0.808337 -5.624670   72.943292\n",
       "8  j9Oui  0.643105 -0.551583  2.372141  113.356160\n",
       "9  OLuZU  2.173381  0.563698  9.441852  127.910945"
      ]
     },
     "execution_count": 3,
     "metadata": {},
     "output_type": "execute_result"
    }
   ],
   "source": [
    "oil_0.head(10)"
   ]
  },
  {
   "cell_type": "code",
   "execution_count": 4,
   "metadata": {},
   "outputs": [
    {
     "data": {
      "text/html": [
       "<div>\n",
       "<style scoped>\n",
       "    .dataframe tbody tr th:only-of-type {\n",
       "        vertical-align: middle;\n",
       "    }\n",
       "\n",
       "    .dataframe tbody tr th {\n",
       "        vertical-align: top;\n",
       "    }\n",
       "\n",
       "    .dataframe thead th {\n",
       "        text-align: right;\n",
       "    }\n",
       "</style>\n",
       "<table border=\"1\" class=\"dataframe\">\n",
       "  <thead>\n",
       "    <tr style=\"text-align: right;\">\n",
       "      <th></th>\n",
       "      <th>id</th>\n",
       "      <th>f0</th>\n",
       "      <th>f1</th>\n",
       "      <th>f2</th>\n",
       "      <th>product</th>\n",
       "    </tr>\n",
       "  </thead>\n",
       "  <tbody>\n",
       "    <tr>\n",
       "      <th>0</th>\n",
       "      <td>kBEdx</td>\n",
       "      <td>-15.001348</td>\n",
       "      <td>-8.276000</td>\n",
       "      <td>-0.005876</td>\n",
       "      <td>3.179103</td>\n",
       "    </tr>\n",
       "    <tr>\n",
       "      <th>1</th>\n",
       "      <td>62mP7</td>\n",
       "      <td>14.272088</td>\n",
       "      <td>-3.475083</td>\n",
       "      <td>0.999183</td>\n",
       "      <td>26.953261</td>\n",
       "    </tr>\n",
       "    <tr>\n",
       "      <th>2</th>\n",
       "      <td>vyE1P</td>\n",
       "      <td>6.263187</td>\n",
       "      <td>-5.948386</td>\n",
       "      <td>5.001160</td>\n",
       "      <td>134.766305</td>\n",
       "    </tr>\n",
       "    <tr>\n",
       "      <th>3</th>\n",
       "      <td>KcrkZ</td>\n",
       "      <td>-13.081196</td>\n",
       "      <td>-11.506057</td>\n",
       "      <td>4.999415</td>\n",
       "      <td>137.945408</td>\n",
       "    </tr>\n",
       "    <tr>\n",
       "      <th>4</th>\n",
       "      <td>AHL4O</td>\n",
       "      <td>12.702195</td>\n",
       "      <td>-8.147433</td>\n",
       "      <td>5.004363</td>\n",
       "      <td>134.766305</td>\n",
       "    </tr>\n",
       "    <tr>\n",
       "      <th>5</th>\n",
       "      <td>HHckp</td>\n",
       "      <td>-3.327590</td>\n",
       "      <td>-2.205276</td>\n",
       "      <td>3.003647</td>\n",
       "      <td>84.038886</td>\n",
       "    </tr>\n",
       "    <tr>\n",
       "      <th>6</th>\n",
       "      <td>h5Ujo</td>\n",
       "      <td>-11.142655</td>\n",
       "      <td>-10.133399</td>\n",
       "      <td>4.002382</td>\n",
       "      <td>110.992147</td>\n",
       "    </tr>\n",
       "    <tr>\n",
       "      <th>7</th>\n",
       "      <td>muH9x</td>\n",
       "      <td>4.234715</td>\n",
       "      <td>-0.001354</td>\n",
       "      <td>2.004588</td>\n",
       "      <td>53.906522</td>\n",
       "    </tr>\n",
       "    <tr>\n",
       "      <th>8</th>\n",
       "      <td>YiRkx</td>\n",
       "      <td>13.355129</td>\n",
       "      <td>-0.332068</td>\n",
       "      <td>4.998647</td>\n",
       "      <td>134.766305</td>\n",
       "    </tr>\n",
       "    <tr>\n",
       "      <th>9</th>\n",
       "      <td>jG6Gi</td>\n",
       "      <td>1.069227</td>\n",
       "      <td>-11.025667</td>\n",
       "      <td>4.997844</td>\n",
       "      <td>137.945408</td>\n",
       "    </tr>\n",
       "  </tbody>\n",
       "</table>\n",
       "</div>"
      ],
      "text/plain": [
       "      id         f0         f1        f2     product\n",
       "0  kBEdx -15.001348  -8.276000 -0.005876    3.179103\n",
       "1  62mP7  14.272088  -3.475083  0.999183   26.953261\n",
       "2  vyE1P   6.263187  -5.948386  5.001160  134.766305\n",
       "3  KcrkZ -13.081196 -11.506057  4.999415  137.945408\n",
       "4  AHL4O  12.702195  -8.147433  5.004363  134.766305\n",
       "5  HHckp  -3.327590  -2.205276  3.003647   84.038886\n",
       "6  h5Ujo -11.142655 -10.133399  4.002382  110.992147\n",
       "7  muH9x   4.234715  -0.001354  2.004588   53.906522\n",
       "8  YiRkx  13.355129  -0.332068  4.998647  134.766305\n",
       "9  jG6Gi   1.069227 -11.025667  4.997844  137.945408"
      ]
     },
     "execution_count": 4,
     "metadata": {},
     "output_type": "execute_result"
    }
   ],
   "source": [
    "oil_1.head(10)"
   ]
  },
  {
   "cell_type": "code",
   "execution_count": 5,
   "metadata": {},
   "outputs": [
    {
     "data": {
      "text/html": [
       "<div>\n",
       "<style scoped>\n",
       "    .dataframe tbody tr th:only-of-type {\n",
       "        vertical-align: middle;\n",
       "    }\n",
       "\n",
       "    .dataframe tbody tr th {\n",
       "        vertical-align: top;\n",
       "    }\n",
       "\n",
       "    .dataframe thead th {\n",
       "        text-align: right;\n",
       "    }\n",
       "</style>\n",
       "<table border=\"1\" class=\"dataframe\">\n",
       "  <thead>\n",
       "    <tr style=\"text-align: right;\">\n",
       "      <th></th>\n",
       "      <th>id</th>\n",
       "      <th>f0</th>\n",
       "      <th>f1</th>\n",
       "      <th>f2</th>\n",
       "      <th>product</th>\n",
       "    </tr>\n",
       "  </thead>\n",
       "  <tbody>\n",
       "    <tr>\n",
       "      <th>0</th>\n",
       "      <td>fwXo0</td>\n",
       "      <td>-1.146987</td>\n",
       "      <td>0.963328</td>\n",
       "      <td>-0.828965</td>\n",
       "      <td>27.758673</td>\n",
       "    </tr>\n",
       "    <tr>\n",
       "      <th>1</th>\n",
       "      <td>WJtFt</td>\n",
       "      <td>0.262778</td>\n",
       "      <td>0.269839</td>\n",
       "      <td>-2.530187</td>\n",
       "      <td>56.069697</td>\n",
       "    </tr>\n",
       "    <tr>\n",
       "      <th>2</th>\n",
       "      <td>ovLUW</td>\n",
       "      <td>0.194587</td>\n",
       "      <td>0.289035</td>\n",
       "      <td>-5.586433</td>\n",
       "      <td>62.871910</td>\n",
       "    </tr>\n",
       "    <tr>\n",
       "      <th>3</th>\n",
       "      <td>q6cA6</td>\n",
       "      <td>2.236060</td>\n",
       "      <td>-0.553760</td>\n",
       "      <td>0.930038</td>\n",
       "      <td>114.572842</td>\n",
       "    </tr>\n",
       "    <tr>\n",
       "      <th>4</th>\n",
       "      <td>WPMUX</td>\n",
       "      <td>-0.515993</td>\n",
       "      <td>1.716266</td>\n",
       "      <td>5.899011</td>\n",
       "      <td>149.600746</td>\n",
       "    </tr>\n",
       "    <tr>\n",
       "      <th>5</th>\n",
       "      <td>LzZXx</td>\n",
       "      <td>-0.758092</td>\n",
       "      <td>0.710691</td>\n",
       "      <td>2.585887</td>\n",
       "      <td>90.222465</td>\n",
       "    </tr>\n",
       "    <tr>\n",
       "      <th>6</th>\n",
       "      <td>WBHRv</td>\n",
       "      <td>-0.574891</td>\n",
       "      <td>0.317727</td>\n",
       "      <td>1.773745</td>\n",
       "      <td>45.641478</td>\n",
       "    </tr>\n",
       "    <tr>\n",
       "      <th>7</th>\n",
       "      <td>XO8fn</td>\n",
       "      <td>-1.906649</td>\n",
       "      <td>-2.458350</td>\n",
       "      <td>-0.177097</td>\n",
       "      <td>72.480640</td>\n",
       "    </tr>\n",
       "    <tr>\n",
       "      <th>8</th>\n",
       "      <td>ybmQ5</td>\n",
       "      <td>1.776292</td>\n",
       "      <td>-0.279356</td>\n",
       "      <td>3.004156</td>\n",
       "      <td>106.616832</td>\n",
       "    </tr>\n",
       "    <tr>\n",
       "      <th>9</th>\n",
       "      <td>OilcN</td>\n",
       "      <td>-1.214452</td>\n",
       "      <td>-0.439314</td>\n",
       "      <td>5.922514</td>\n",
       "      <td>52.954532</td>\n",
       "    </tr>\n",
       "  </tbody>\n",
       "</table>\n",
       "</div>"
      ],
      "text/plain": [
       "      id        f0        f1        f2     product\n",
       "0  fwXo0 -1.146987  0.963328 -0.828965   27.758673\n",
       "1  WJtFt  0.262778  0.269839 -2.530187   56.069697\n",
       "2  ovLUW  0.194587  0.289035 -5.586433   62.871910\n",
       "3  q6cA6  2.236060 -0.553760  0.930038  114.572842\n",
       "4  WPMUX -0.515993  1.716266  5.899011  149.600746\n",
       "5  LzZXx -0.758092  0.710691  2.585887   90.222465\n",
       "6  WBHRv -0.574891  0.317727  1.773745   45.641478\n",
       "7  XO8fn -1.906649 -2.458350 -0.177097   72.480640\n",
       "8  ybmQ5  1.776292 -0.279356  3.004156  106.616832\n",
       "9  OilcN -1.214452 -0.439314  5.922514   52.954532"
      ]
     },
     "execution_count": 5,
     "metadata": {},
     "output_type": "execute_result"
    }
   ],
   "source": [
    "oil_2.head(10)"
   ]
  },
  {
   "cell_type": "markdown",
   "metadata": {},
   "source": [
    "showing information of the dataset and if there is any duplicates in the cells below."
   ]
  },
  {
   "cell_type": "code",
   "execution_count": 6,
   "metadata": {},
   "outputs": [
    {
     "name": "stdout",
     "output_type": "stream",
     "text": [
      "      id        f0        f1        f2     product\n",
      "0  txEyH  0.705745 -0.497823  1.221170  105.280062\n",
      "1  2acmU  1.334711 -0.340164  4.365080   73.037750\n",
      "2  409Wp  1.022732  0.151990  1.419926   85.265647\n",
      "3  iJLyR -0.032172  0.139033  2.978566  168.620776\n",
      "4  Xdl7t  1.988431  0.155413  4.751769  154.036647\n",
      "id         0\n",
      "f0         0\n",
      "f1         0\n",
      "f2         0\n",
      "product    0\n",
      "dtype: int64\n",
      "<class 'pandas.core.frame.DataFrame'>\n",
      "RangeIndex: 100000 entries, 0 to 99999\n",
      "Data columns (total 5 columns):\n",
      " #   Column   Non-Null Count   Dtype  \n",
      "---  ------   --------------   -----  \n",
      " 0   id       100000 non-null  object \n",
      " 1   f0       100000 non-null  float64\n",
      " 2   f1       100000 non-null  float64\n",
      " 3   f2       100000 non-null  float64\n",
      " 4   product  100000 non-null  float64\n",
      "dtypes: float64(4), object(1)\n",
      "memory usage: 3.8+ MB\n",
      "None\n",
      "                  f0             f1             f2        product\n",
      "count  100000.000000  100000.000000  100000.000000  100000.000000\n",
      "mean        0.500419       0.250143       2.502647      92.500000\n",
      "std         0.871832       0.504433       3.248248      44.288691\n",
      "min        -1.408605      -0.848218     -12.088328       0.000000\n",
      "25%        -0.072580      -0.200881       0.287748      56.497507\n",
      "50%         0.502360       0.250252       2.515969      91.849972\n",
      "75%         1.073581       0.700646       4.715088     128.564089\n",
      "max         2.362331       1.343769      16.003790     185.364347\n"
     ]
    }
   ],
   "source": [
    "print(oil_0.head())\n",
    "print(oil_0.isna().sum())\n",
    "print(oil_0.info())\n",
    "print(oil_0.describe())\n"
   ]
  },
  {
   "cell_type": "code",
   "execution_count": 7,
   "metadata": {},
   "outputs": [
    {
     "name": "stdout",
     "output_type": "stream",
     "text": [
      "      id         f0         f1        f2     product\n",
      "0  kBEdx -15.001348  -8.276000 -0.005876    3.179103\n",
      "1  62mP7  14.272088  -3.475083  0.999183   26.953261\n",
      "2  vyE1P   6.263187  -5.948386  5.001160  134.766305\n",
      "3  KcrkZ -13.081196 -11.506057  4.999415  137.945408\n",
      "4  AHL4O  12.702195  -8.147433  5.004363  134.766305\n",
      "id         0\n",
      "f0         0\n",
      "f1         0\n",
      "f2         0\n",
      "product    0\n",
      "dtype: int64\n",
      "<class 'pandas.core.frame.DataFrame'>\n",
      "RangeIndex: 100000 entries, 0 to 99999\n",
      "Data columns (total 5 columns):\n",
      " #   Column   Non-Null Count   Dtype  \n",
      "---  ------   --------------   -----  \n",
      " 0   id       100000 non-null  object \n",
      " 1   f0       100000 non-null  float64\n",
      " 2   f1       100000 non-null  float64\n",
      " 3   f2       100000 non-null  float64\n",
      " 4   product  100000 non-null  float64\n",
      "dtypes: float64(4), object(1)\n",
      "memory usage: 3.8+ MB\n",
      "None\n",
      "                  f0             f1             f2        product\n",
      "count  100000.000000  100000.000000  100000.000000  100000.000000\n",
      "mean        1.141296      -4.796579       2.494541      68.825000\n",
      "std         8.965932       5.119872       1.703572      45.944423\n",
      "min       -31.609576     -26.358598      -0.018144       0.000000\n",
      "25%        -6.298551      -8.267985       1.000021      26.953261\n",
      "50%         1.153055      -4.813172       2.011479      57.085625\n",
      "75%         8.621015      -1.332816       3.999904     107.813044\n",
      "max        29.421755      18.734063       5.019721     137.945408\n"
     ]
    }
   ],
   "source": [
    "print(oil_1.head())\n",
    "print(oil_1.isna().sum())\n",
    "print(oil_1.info())\n",
    "print(oil_1.describe())"
   ]
  },
  {
   "cell_type": "code",
   "execution_count": 8,
   "metadata": {},
   "outputs": [
    {
     "name": "stdout",
     "output_type": "stream",
     "text": [
      "      id        f0        f1        f2     product\n",
      "0  fwXo0 -1.146987  0.963328 -0.828965   27.758673\n",
      "1  WJtFt  0.262778  0.269839 -2.530187   56.069697\n",
      "2  ovLUW  0.194587  0.289035 -5.586433   62.871910\n",
      "3  q6cA6  2.236060 -0.553760  0.930038  114.572842\n",
      "4  WPMUX -0.515993  1.716266  5.899011  149.600746\n",
      "id         0\n",
      "f0         0\n",
      "f1         0\n",
      "f2         0\n",
      "product    0\n",
      "dtype: int64\n",
      "<class 'pandas.core.frame.DataFrame'>\n",
      "RangeIndex: 100000 entries, 0 to 99999\n",
      "Data columns (total 5 columns):\n",
      " #   Column   Non-Null Count   Dtype  \n",
      "---  ------   --------------   -----  \n",
      " 0   id       100000 non-null  object \n",
      " 1   f0       100000 non-null  float64\n",
      " 2   f1       100000 non-null  float64\n",
      " 3   f2       100000 non-null  float64\n",
      " 4   product  100000 non-null  float64\n",
      "dtypes: float64(4), object(1)\n",
      "memory usage: 3.8+ MB\n",
      "None\n",
      "                  f0             f1             f2        product\n",
      "count  100000.000000  100000.000000  100000.000000  100000.000000\n",
      "mean        0.002023      -0.002081       2.495128      95.000000\n",
      "std         1.732045       1.730417       3.473445      44.749921\n",
      "min        -8.760004      -7.084020     -11.970335       0.000000\n",
      "25%        -1.162288      -1.174820       0.130359      59.450441\n",
      "50%         0.009424      -0.009482       2.484236      94.925613\n",
      "75%         1.158535       1.163678       4.858794     130.595027\n",
      "max         7.238262       7.844801      16.739402     190.029838\n"
     ]
    }
   ],
   "source": [
    "print(oil_2.head())\n",
    "print(oil_2.isna().sum())\n",
    "print(oil_2.info())\n",
    "print(oil_2.describe())"
   ]
  },
  {
   "cell_type": "code",
   "execution_count": 9,
   "metadata": {},
   "outputs": [
    {
     "name": "stdout",
     "output_type": "stream",
     "text": [
      "0\n"
     ]
    }
   ],
   "source": [
    "duplicate_count_0 = oil_0.duplicated().sum()\n",
    "\n",
    "print(duplicate_count_0)"
   ]
  },
  {
   "cell_type": "code",
   "execution_count": 10,
   "metadata": {},
   "outputs": [
    {
     "name": "stdout",
     "output_type": "stream",
     "text": [
      "0\n"
     ]
    }
   ],
   "source": [
    "duplicate_count_1 = oil_1.duplicated().sum()\n",
    "\n",
    "print(duplicate_count_1)"
   ]
  },
  {
   "cell_type": "code",
   "execution_count": 11,
   "metadata": {},
   "outputs": [
    {
     "name": "stdout",
     "output_type": "stream",
     "text": [
      "0\n"
     ]
    }
   ],
   "source": [
    "duplicate_count_2 = oil_2.duplicated().sum()\n",
    "\n",
    "print(duplicate_count_2)"
   ]
  },
  {
   "cell_type": "code",
   "execution_count": 12,
   "metadata": {},
   "outputs": [
    {
     "name": "stdout",
     "output_type": "stream",
     "text": [
      "          id        f0        f1         f2     product\n",
      "931    HZww2  0.755284  0.368511   1.863211   30.681774\n",
      "1364   bxg6G  0.411645  0.856830  -3.653440   73.604260\n",
      "1949   QcMuo  0.506563 -0.323775  -2.215583   75.496502\n",
      "3389   A5aEY -0.039949  0.156872   0.209861   89.249364\n",
      "7530   HZww2  1.061194 -0.373969  10.430210  158.828695\n",
      "16633  fiKDv  0.157341  1.028359   5.585586   95.817889\n",
      "21426  Tdehs  0.829407  0.298807  -0.049563   96.035308\n",
      "41724  bxg6G -0.823752  0.546319   3.630479   93.007798\n",
      "42529  AGS9W  1.454747 -0.479651   0.683380  126.370504\n",
      "51970  A5aEY -0.180335  0.935548  -2.094773   33.020205\n",
      "60140  TtcGQ  0.569276 -0.104876   6.440215   85.350186\n",
      "63593  QcMuo  0.635635 -0.473422   0.862670   64.578675\n",
      "64022  74z30  0.741456  0.459229   5.153109  140.771492\n",
      "66136  74z30  1.084962 -0.312358   6.990771  127.643327\n",
      "69163  AGS9W -0.933795  0.116194  -3.655896   19.230453\n",
      "75715  Tdehs  0.112079  0.430296   3.218993   60.964018\n",
      "89582  bsk9y  0.398908 -0.400253  10.122376  163.433078\n",
      "90815  fiKDv  0.049883  0.841313   6.394613  137.346586\n",
      "92341  TtcGQ  0.110711  1.022689   0.911381  101.318008\n",
      "97785  bsk9y  0.378429  0.005837   0.160827  160.637302\n"
     ]
    }
   ],
   "source": [
    "duplicates = oil_0[oil_0.duplicated(subset=['id'], keep=False)]\n",
    "\n",
    "print(duplicates)\n",
    "\n",
    "oil_0.drop_duplicates(subset='id', keep='first', inplace=True)"
   ]
  },
  {
   "cell_type": "code",
   "execution_count": 13,
   "metadata": {},
   "outputs": [
    {
     "name": "stdout",
     "output_type": "stream",
     "text": [
      "          id         f0         f1        f2     product\n",
      "1305   LHZR0  11.170835  -1.945066  3.002872   80.859783\n",
      "2721   bfPNe  -9.494442  -5.463692  4.006042  110.992147\n",
      "5849   5ltQ6  -3.435401 -12.296043  1.999796   57.085625\n",
      "41906  LHZR0  -8.989672  -4.286607  2.009139   57.085625\n",
      "47591  wt4Uk  -9.091098  -8.109279 -0.002314    3.179103\n",
      "82178  bfPNe  -6.202799  -4.820045  2.995107   84.038886\n",
      "82873  wt4Uk  10.259972  -9.376355  4.994297  134.766305\n",
      "84461  5ltQ6  18.213839   2.191999  3.993869  107.813044\n"
     ]
    }
   ],
   "source": [
    "duplicates = oil_1[oil_1.duplicated(subset=['id'], keep=False)]\n",
    "\n",
    "print(duplicates)\n",
    "\n",
    "oil_1.drop_duplicates(subset='id', keep='first', inplace=True)"
   ]
  },
  {
   "cell_type": "code",
   "execution_count": 14,
   "metadata": {},
   "outputs": [
    {
     "name": "stdout",
     "output_type": "stream",
     "text": [
      "          id        f0        f1        f2     product\n",
      "11449  VF7Jo  2.122656 -0.858275  5.746001  181.716817\n",
      "28039  xCHr8  1.633027  0.368135 -2.378367    6.120525\n",
      "43233  xCHr8 -0.847066  2.101796  5.597130  184.388641\n",
      "44378  Vcm5J -1.229484 -2.439204  1.222909  137.968290\n",
      "45404  KUPhW  0.231846 -1.698941  4.990775   11.716299\n",
      "49564  VF7Jo -0.883115  0.560537  0.723601  136.233420\n",
      "55967  KUPhW  1.211150  3.176408  5.543540  132.831802\n",
      "95090  Vcm5J  2.587702  1.986875  2.482245   92.327572\n"
     ]
    }
   ],
   "source": [
    "duplicates = oil_2[oil_2.duplicated(subset=['id'], keep=False)]\n",
    "\n",
    "print(duplicates)\n",
    "\n",
    "oil_2.drop_duplicates(subset='id', keep='first', inplace=True)"
   ]
  },
  {
   "cell_type": "code",
   "execution_count": 15,
   "metadata": {},
   "outputs": [
    {
     "data": {
      "image/png": "[encoded data removed]",
      "text/plain": [
       "<Figure size 640x480 with 4 Axes>"
      ]
     },
     "metadata": {},
     "output_type": "display_data"
    }
   ],
   "source": [
    "oil_0.hist()\n",
    "plt.show()"
   ]
  },
  {
   "cell_type": "markdown",
   "metadata": {},
   "source": [
    "From the distribution charts we can say that on F0 it was topped off at around 16,000 points at around 0.5 and the lowest is at less than -1 at 2,000 points.\n",
    "F1 tops off at 0.4 at around 14,000 points and lowest at -0.3 at 1,000 points.\n",
    "F2 tops off at 5 with 31,000 points and lowest at -3 with 0 points.\n",
    "Product has the highest at 70 units for $14,000."
   ]
  },
  {
   "cell_type": "code",
   "execution_count": 16,
   "metadata": {},
   "outputs": [
    {
     "data": {
      "image/png": "[encoded data removed]",
      "text/plain": [
       "<Figure size 640x480 with 4 Axes>"
      ]
     },
     "metadata": {},
     "output_type": "display_data"
    }
   ],
   "source": [
    "oil_1.hist()\n",
    "plt.show()"
   ]
  },
  {
   "cell_type": "markdown",
   "metadata": {},
   "source": [
    "F0 tops off at 10 with 24,000 points and lowest at 20 with 2,000.\n",
    "F1 tops off at -5 with 38,000 points and lowest at 10 with 0.\n",
    "F2 tops off at 0 with 18,000 points and lowest at 3.5 with 3,000.\n",
    "Product has the highest with 10 units with $18,000."
   ]
  },
  {
   "cell_type": "code",
   "execution_count": 17,
   "metadata": {},
   "outputs": [
    {
     "data": {
      "image/png": "[encoded data removed]",
      "text/plain": [
       "<Figure size 640x480 with 4 Axes>"
      ]
     },
     "metadata": {},
     "output_type": "display_data"
    }
   ],
   "source": [
    "oil_2.hist()\n",
    "plt.show()"
   ]
  },
  {
   "cell_type": "markdown",
   "metadata": {},
   "source": [
    "F0 tops off at 0 with 38,000 points and lowest at 5 with 1.\n",
    "F1 tops off at 0 with 38,000 points and lowest at -5 with 1.\n",
    "F2 tops off at 5 with 30,000 points and lowest at -6 with 1.\n",
    "Product has the highest in 100 units with $14,000."
   ]
  },
  {
   "cell_type": "markdown",
   "metadata": {},
   "source": [
    "splitting the data to use in the Linear Regression model and tested them in the cell below."
   ]
  },
  {
   "cell_type": "code",
   "execution_count": 18,
   "metadata": {},
   "outputs": [
    {
     "name": "stdout",
     "output_type": "stream",
     "text": [
      "\n",
      "oil_0 has an average volume of predicted reserves of 92.79 thousand barrels and a RMSE of 37.85\n",
      "\n",
      "oil_1 has an average volume of predicted reserves of 69.18 thousand barrels and a RMSE of 0.89\n",
      "\n",
      "oil_2 has an average volume of predicted reserves of 94.87 thousand barrels and a RMSE of 40.08\n"
     ]
    }
   ],
   "source": [
    "saved_predictions_valid = []\n",
    "saved_target_valid = []\n",
    "\n",
    "for oil, name in [(oil_0, \"oil_0\"), (oil_1, \"oil_1\"), (oil_2, \"oil_2\")]:\n",
    "    target = oil['product']\n",
    "    features = oil.drop(['id', 'product'], axis=1)\n",
    "\n",
    "    features_train, features_valid, target_train, target_valid = train_test_split(features, target, test_size=0.25, random_state = 12345)\n",
    "    \n",
    "    scaler = StandardScaler()\n",
    "    scaler.fit(features_train)\n",
    "    scaler.transform(features_train, copy=False)\n",
    "    scaler.transform(features_valid, copy=False)\n",
    "    \n",
    "    model = LinearRegression()\n",
    "    model.fit(features_train, target_train)\n",
    "    \n",
    "    predictions_valid = model.predict(features_valid)\n",
    "    \n",
    "    saved_predictions_valid.append(predictions_valid)\n",
    "    saved_target_valid.append(target_valid)\n",
    "\n",
    "    rmse = mean_squared_error(target_valid, predictions_valid) ** 0.5\n",
    "\n",
    "    print('')\n",
    "    print(name, \"has an average volume of predicted reserves of\", round(predictions_valid.mean(), 2), \"thousand barrels and a RMSE of\", round(rmse, 2))"
   ]
  },
  {
   "cell_type": "markdown",
   "metadata": {},
   "source": [
    "The 3 datasets were train test split with a 75:25 ratio which means 75% training dataset and 25% validation dataset.\n",
    "Then Standard scaler was used to standardize the data then the Linear Regression model was used.\n",
    "From the results it appears that oil 0 and oil 2 are similar to each other.\n",
    "Oil 1 has the lowest RMSE so it indicates that it is a better fit."
   ]
  },
  {
   "cell_type": "markdown",
   "metadata": {},
   "source": [
    "preparing for profit calculation in the 2 cells below."
   ]
  },
  {
   "cell_type": "code",
   "execution_count": 19,
   "metadata": {},
   "outputs": [
    {
     "name": "stdout",
     "output_type": "stream",
     "text": [
      "Volume of reserves sufficient for developing a new well without losses: 111.11\n"
     ]
    }
   ],
   "source": [
    "points = 500\n",
    "oil_wells = 200\n",
    "budget = 100000000\n",
    "price = 4.5\n",
    "revenue_1000_barrels = 4500\n",
    "unit = 1000\n",
    "risk = 0.025\n",
    "break_even_vol = budget / oil_wells / revenue_1000_barrels\n",
    "print(\"Volume of reserves sufficient for developing a new well without losses:\", round(break_even_vol, 2))"
   ]
  },
  {
   "cell_type": "markdown",
   "metadata": {},
   "source": [
    "This equation was used for developing a new well which leads to be 111.11 thousand barrels. This number is higher than the averge predicted reserves of all 3 regions."
   ]
  },
  {
   "cell_type": "code",
   "execution_count": 20,
   "metadata": {},
   "outputs": [
    {
     "name": "stdout",
     "output_type": "stream",
     "text": [
      "Average volume of reserves in oil_0 : 92.49968421774354\n",
      "Average volume of reserves in oil_1 : 68.82391591804064\n",
      "Average volume of reserves in oil_2 : 94.99834211933378\n"
     ]
    }
   ],
   "source": [
    "for oil, name in [(oil_0, \"oil_0\"), (oil_1, \"oil_1\"), (oil_2, \"oil_2\")]:\n",
    "    print(\"Average volume of reserves in\", name, \":\", oil['product'].mean())"
   ]
  },
  {
   "cell_type": "markdown",
   "metadata": {},
   "source": [
    "This is the average mean number for the average volume of reserves from the product of oil well 0,1,and 2."
   ]
  },
  {
   "cell_type": "markdown",
   "metadata": {},
   "source": [
    "Writing a function to calculate profit from a set of selected oil wells and model predictions in the 2 cells below."
   ]
  },
  {
   "cell_type": "code",
   "execution_count": 21,
   "metadata": {},
   "outputs": [],
   "source": [
    "def profit(target, predictions):\n",
    "    preds_sorted = pd.Series(predictions, index=target.index).sort_values(ascending=False)\n",
    "    selected = target[preds_sorted.index][:200]\n",
    "    \n",
    "    return selected.sum(), selected.sum() * revenue_1000_barrels - budget"
   ]
  },
  {
   "cell_type": "code",
   "execution_count": 22,
   "metadata": {},
   "outputs": [
    {
     "name": "stdout",
     "output_type": "stream",
     "text": [
      "--- oil_0 ---\n",
      "Target reserve sum: 29700.42 thousand barrels\n",
      "Profit: 33651872.38 USD\n",
      "\n",
      "--- oil_1 ---\n",
      "Target reserve sum: 27589.08 thousand barrels\n",
      "Profit: 24150866.97 USD\n",
      "\n",
      "--- oil_2 ---\n",
      "Target reserve sum: 27780.63 thousand barrels\n",
      "Profit: 25012838.53 USD\n",
      "\n"
     ]
    }
   ],
   "source": [
    "for num in range(3):\n",
    "    x, y = profit(saved_target_valid[num], saved_predictions_valid[num])\n",
    "    print(f\"--- oil_{num} ---\")\n",
    "    print(\"Target reserve sum:\", round(x, 2), \"thousand barrels\")\n",
    "    print('Profit:', round(y, 2), \"USD\")\n",
    "    print(\"\")"
   ]
  },
  {
   "cell_type": "markdown",
   "metadata": {},
   "source": [
    "Calculated risks and profits for each region in the cell below."
   ]
  },
  {
   "cell_type": "code",
   "execution_count": 23,
   "metadata": {},
   "outputs": [
    {
     "name": "stdout",
     "output_type": "stream",
     "text": [
      "--- oil_0 ---\n",
      "Average profit: 4094280.38621436\n",
      "2.5% percentile: -1315360.2870166434\n",
      "97.5% percentile: 9443955.827546729\n",
      "Risk of losses: 7.1\n",
      "\n",
      "--- oil_1 ---\n",
      "Average profit: 5364001.994351031\n",
      "2.5% percentile: 1129542.4712370117\n",
      "97.5% percentile: 9985041.566468805\n",
      "Risk of losses: 0.3\n",
      "\n",
      "--- oil_2 ---\n",
      "Average profit: 3394780.3419779968\n",
      "2.5% percentile: -2240892.217440757\n",
      "97.5% percentile: 8470675.876863923\n",
      "Risk of losses: 11.8\n",
      "\n"
     ]
    }
   ],
   "source": [
    "state = np.random.RandomState(12345)\n",
    "\n",
    "for num in range(3):\n",
    "    values = []\n",
    "    for i in range(1000):\n",
    "        subsample = saved_target_valid[num].sample(n=500, replace=True, random_state=state)\n",
    "        preds_subsample = pd.Series(saved_predictions_valid[num], index=saved_target_valid[num].index)[subsample.index]\n",
    "        target.reset_index(drop=True)\n",
    "        values.append(profit(subsample, preds_subsample)[1])\n",
    "    \n",
    "    values = pd.Series(values)\n",
    "    lower = values.quantile(.025)\n",
    "    upper = values.quantile(.975)\n",
    "    loss = round(values.loc[lambda x : x < 0].count() / len(values) * 100, 2)\n",
    "\n",
    "    print(f\"--- oil_{num} ---\")\n",
    "    print(\"Average profit:\", values.mean())\n",
    "    print(\"2.5% percentile:\", lower)\n",
    "    print(\"97.5% percentile:\", upper)\n",
    "    print(\"Risk of losses:\", loss)\n",
    "    print(\"\")"
   ]
  },
  {
   "cell_type": "markdown",
   "metadata": {},
   "source": [
    "Conclusion:\n",
    "\n",
    "The Bootstrapping technique was used to analyze potential profits and risks.\n",
    "\n",
    "The 3 datasets were train test split with a 75:25 ratio which means 75% training dataset and 25% validation dataset.\n",
    "Then Standard scaler was used to standardize the data then the Linear Regression model was used.\n",
    "From the results it appears that oil 0 and oil 2 are similar to each other.\n",
    "Oil 1 has the lowest RMSE so it indicates that it is a better fit.\n",
    "\n",
    "Algebra equation was used for developing a new well which leads to be 111.11 thousand barrels. This number is higher than the averge predicted reserves of all 3 regions.\n",
    "\n",
    "The regions oil 0 and oil 2 have risk factor higher than the risk cap requirement of 2.5%. \n",
    "\n",
    "So regions oil 0 and oil 2 cannot be considered for high loss risk.\n",
    "\n",
    "The region represented as oil 1 is the best region so far for the development of oil wells since it shows a profit of $5,364,001.99 and the risk of losses is 0.3%."
   ]
  }
 ],
 "metadata": {
  "ExecuteTimeLog": [
   {
    "duration": 2787,
    "start_time": "2025-01-19T20:02:51.668Z"
   },
   {
    "duration": 281,
    "start_time": "2025-01-19T20:02:54.458Z"
   },
   {
    "duration": 11,
    "start_time": "2025-01-19T20:02:54.740Z"
   },
   {
    "duration": 3,
    "start_time": "2025-01-19T20:05:37.867Z"
   },
   {
    "duration": 40,
    "start_time": "2025-01-19T20:10:50.849Z"
   },
   {
    "duration": 8,
    "start_time": "2025-01-19T20:11:15.160Z"
   },
   {
    "duration": 8,
    "start_time": "2025-01-19T20:11:38.920Z"
   },
   {
    "duration": 8,
    "start_time": "2025-01-19T20:11:56.225Z"
   },
   {
    "duration": 9,
    "start_time": "2025-01-19T20:12:21.820Z"
   },
   {
    "duration": 9,
    "start_time": "2025-01-19T20:12:37.168Z"
   },
   {
    "duration": 34,
    "start_time": "2025-01-19T20:13:17.974Z"
   },
   {
    "duration": 34,
    "start_time": "2025-01-19T20:14:02.972Z"
   },
   {
    "duration": 227,
    "start_time": "2025-01-19T20:18:56.262Z"
   },
   {
    "duration": 7,
    "start_time": "2025-01-19T20:22:10.580Z"
   },
   {
    "duration": 3,
    "start_time": "2025-01-19T20:22:17.547Z"
   },
   {
    "duration": 4,
    "start_time": "2025-01-19T20:22:36.775Z"
   },
   {
    "duration": 16,
    "start_time": "2025-01-19T20:35:33.972Z"
   },
   {
    "duration": 23,
    "start_time": "2025-01-19T20:36:10.009Z"
   },
   {
    "duration": 3,
    "start_time": "2025-01-19T20:37:16.335Z"
   },
   {
    "duration": 4,
    "start_time": "2025-01-19T20:38:09.342Z"
   },
   {
    "duration": 6,
    "start_time": "2025-01-19T20:38:39.584Z"
   },
   {
    "duration": 18,
    "start_time": "2025-01-19T20:38:46.133Z"
   },
   {
    "duration": 4,
    "start_time": "2025-01-19T21:00:02.517Z"
   },
   {
    "duration": 3,
    "start_time": "2025-01-19T21:02:12.454Z"
   },
   {
    "duration": 3,
    "start_time": "2025-01-19T21:02:35.261Z"
   },
   {
    "duration": 3,
    "start_time": "2025-01-19T21:03:19.099Z"
   },
   {
    "duration": 903,
    "start_time": "2025-01-19T21:03:28.085Z"
   },
   {
    "duration": 217,
    "start_time": "2025-01-19T21:03:28.991Z"
   },
   {
    "duration": 15,
    "start_time": "2025-01-19T21:03:29.210Z"
   },
   {
    "duration": 7,
    "start_time": "2025-01-19T21:03:29.226Z"
   },
   {
    "duration": 8,
    "start_time": "2025-01-19T21:03:29.235Z"
   },
   {
    "duration": 297,
    "start_time": "2025-01-19T21:03:29.244Z"
   },
   {
    "duration": 0,
    "start_time": "2025-01-19T21:03:29.543Z"
   },
   {
    "duration": 0,
    "start_time": "2025-01-19T21:03:29.544Z"
   },
   {
    "duration": 0,
    "start_time": "2025-01-19T21:03:29.545Z"
   },
   {
    "duration": 0,
    "start_time": "2025-01-19T21:03:29.546Z"
   },
   {
    "duration": 0,
    "start_time": "2025-01-19T21:03:29.548Z"
   },
   {
    "duration": 3,
    "start_time": "2025-01-19T21:04:57.223Z"
   },
   {
    "duration": 937,
    "start_time": "2025-01-19T21:05:04.082Z"
   },
   {
    "duration": 224,
    "start_time": "2025-01-19T21:05:05.023Z"
   },
   {
    "duration": 12,
    "start_time": "2025-01-19T21:05:05.251Z"
   },
   {
    "duration": 9,
    "start_time": "2025-01-19T21:05:05.265Z"
   },
   {
    "duration": 8,
    "start_time": "2025-01-19T21:05:05.277Z"
   },
   {
    "duration": 3,
    "start_time": "2025-01-19T21:05:05.287Z"
   },
   {
    "duration": 32,
    "start_time": "2025-01-19T21:05:05.292Z"
   },
   {
    "duration": 5,
    "start_time": "2025-01-19T21:05:05.325Z"
   },
   {
    "duration": 3,
    "start_time": "2025-01-19T21:05:05.332Z"
   },
   {
    "duration": 278,
    "start_time": "2025-01-19T21:15:08.790Z"
   },
   {
    "duration": 45,
    "start_time": "2025-01-19T21:16:49.273Z"
   },
   {
    "duration": 36,
    "start_time": "2025-01-19T21:17:48.955Z"
   },
   {
    "duration": 35,
    "start_time": "2025-01-19T21:17:55.349Z"
   },
   {
    "duration": 26,
    "start_time": "2025-01-19T21:20:31.742Z"
   },
   {
    "duration": 19,
    "start_time": "2025-01-19T21:25:57.693Z"
   },
   {
    "duration": 19,
    "start_time": "2025-01-19T21:27:38.889Z"
   },
   {
    "duration": 19,
    "start_time": "2025-01-19T21:32:58.846Z"
   },
   {
    "duration": 15,
    "start_time": "2025-01-19T21:34:15.792Z"
   },
   {
    "duration": 966,
    "start_time": "2025-01-19T21:35:40.561Z"
   },
   {
    "duration": 225,
    "start_time": "2025-01-19T21:35:41.529Z"
   },
   {
    "duration": 11,
    "start_time": "2025-01-19T21:35:41.757Z"
   },
   {
    "duration": 7,
    "start_time": "2025-01-19T21:35:41.770Z"
   },
   {
    "duration": 7,
    "start_time": "2025-01-19T21:35:41.779Z"
   },
   {
    "duration": 61,
    "start_time": "2025-01-19T21:35:41.788Z"
   },
   {
    "duration": 34,
    "start_time": "2025-01-19T21:35:41.850Z"
   },
   {
    "duration": 47,
    "start_time": "2025-01-19T21:35:41.886Z"
   },
   {
    "duration": 28,
    "start_time": "2025-01-19T21:35:41.934Z"
   },
   {
    "duration": 22,
    "start_time": "2025-01-19T21:35:41.965Z"
   },
   {
    "duration": 383,
    "start_time": "2025-01-19T21:35:42.025Z"
   },
   {
    "duration": 20,
    "start_time": "2025-01-19T21:36:28.658Z"
   },
   {
    "duration": 11,
    "start_time": "2025-01-19T21:44:14.988Z"
   },
   {
    "duration": 21,
    "start_time": "2025-01-19T21:44:22.246Z"
   },
   {
    "duration": 11,
    "start_time": "2025-01-19T21:45:39.023Z"
   },
   {
    "duration": 9,
    "start_time": "2025-01-19T21:53:35.669Z"
   },
   {
    "duration": 12,
    "start_time": "2025-01-19T21:53:45.658Z"
   },
   {
    "duration": 16,
    "start_time": "2025-01-19T21:56:39.091Z"
   },
   {
    "duration": 3,
    "start_time": "2025-01-19T21:58:41.621Z"
   },
   {
    "duration": 17,
    "start_time": "2025-01-19T22:00:42.216Z"
   },
   {
    "duration": 3,
    "start_time": "2025-01-19T22:04:33.670Z"
   },
   {
    "duration": 16,
    "start_time": "2025-01-19T22:09:00.185Z"
   },
   {
    "duration": 30,
    "start_time": "2025-01-19T22:10:58.695Z"
   },
   {
    "duration": 29,
    "start_time": "2025-01-19T22:12:13.473Z"
   },
   {
    "duration": 29,
    "start_time": "2025-01-19T22:13:12.161Z"
   },
   {
    "duration": 14,
    "start_time": "2025-01-19T22:13:46.800Z"
   },
   {
    "duration": 15,
    "start_time": "2025-01-19T22:14:16.302Z"
   },
   {
    "duration": 2796,
    "start_time": "2025-01-20T22:49:15.956Z"
   },
   {
    "duration": 308,
    "start_time": "2025-01-20T22:49:18.754Z"
   },
   {
    "duration": 10,
    "start_time": "2025-01-20T22:49:19.064Z"
   },
   {
    "duration": 9,
    "start_time": "2025-01-20T22:49:19.079Z"
   },
   {
    "duration": 11,
    "start_time": "2025-01-20T22:49:19.089Z"
   },
   {
    "duration": 69,
    "start_time": "2025-01-20T22:49:19.102Z"
   },
   {
    "duration": 33,
    "start_time": "2025-01-20T22:49:19.173Z"
   },
   {
    "duration": 46,
    "start_time": "2025-01-20T22:49:19.208Z"
   },
   {
    "duration": 33,
    "start_time": "2025-01-20T22:49:19.256Z"
   },
   {
    "duration": 308,
    "start_time": "2025-01-20T22:49:19.293Z"
   },
   {
    "duration": 0,
    "start_time": "2025-01-20T22:49:19.602Z"
   },
   {
    "duration": 0,
    "start_time": "2025-01-20T22:49:19.604Z"
   },
   {
    "duration": 198,
    "start_time": "2025-01-20T23:07:32.546Z"
   },
   {
    "duration": 16,
    "start_time": "2025-01-20T23:08:00.904Z"
   },
   {
    "duration": 16,
    "start_time": "2025-01-20T23:10:05.244Z"
   },
   {
    "duration": 17,
    "start_time": "2025-01-20T23:11:11.777Z"
   },
   {
    "duration": 952,
    "start_time": "2025-01-20T23:11:28.851Z"
   },
   {
    "duration": 232,
    "start_time": "2025-01-20T23:11:29.807Z"
   },
   {
    "duration": 12,
    "start_time": "2025-01-20T23:11:30.040Z"
   },
   {
    "duration": 8,
    "start_time": "2025-01-20T23:11:30.053Z"
   },
   {
    "duration": 8,
    "start_time": "2025-01-20T23:11:30.063Z"
   },
   {
    "duration": 37,
    "start_time": "2025-01-20T23:11:30.073Z"
   },
   {
    "duration": 64,
    "start_time": "2025-01-20T23:11:30.112Z"
   },
   {
    "duration": 36,
    "start_time": "2025-01-20T23:11:30.178Z"
   },
   {
    "duration": 47,
    "start_time": "2025-01-20T23:11:30.216Z"
   },
   {
    "duration": 18,
    "start_time": "2025-01-20T23:11:30.265Z"
   },
   {
    "duration": 74,
    "start_time": "2025-01-20T23:11:30.284Z"
   },
   {
    "duration": 92,
    "start_time": "2025-01-20T23:11:30.360Z"
   },
   {
    "duration": 425,
    "start_time": "2025-01-20T23:11:30.454Z"
   },
   {
    "duration": 0,
    "start_time": "2025-01-20T23:11:30.882Z"
   },
   {
    "duration": 4,
    "start_time": "2025-01-20T23:12:30.261Z"
   },
   {
    "duration": 13,
    "start_time": "2025-01-20T23:34:05.690Z"
   },
   {
    "duration": 14,
    "start_time": "2025-01-20T23:56:08.584Z"
   },
   {
    "duration": 3,
    "start_time": "2025-01-21T00:00:09.631Z"
   },
   {
    "duration": 3,
    "start_time": "2025-01-21T00:03:54.341Z"
   },
   {
    "duration": 13,
    "start_time": "2025-01-21T00:04:30.728Z"
   },
   {
    "duration": 910,
    "start_time": "2025-01-21T00:06:41.973Z"
   },
   {
    "duration": 229,
    "start_time": "2025-01-21T00:06:42.885Z"
   },
   {
    "duration": 10,
    "start_time": "2025-01-21T00:06:43.116Z"
   },
   {
    "duration": 15,
    "start_time": "2025-01-21T00:06:43.128Z"
   },
   {
    "duration": 7,
    "start_time": "2025-01-21T00:06:43.145Z"
   },
   {
    "duration": 36,
    "start_time": "2025-01-21T00:06:43.153Z"
   },
   {
    "duration": 52,
    "start_time": "2025-01-21T00:06:43.191Z"
   },
   {
    "duration": 35,
    "start_time": "2025-01-21T00:06:43.244Z"
   },
   {
    "duration": 29,
    "start_time": "2025-01-21T00:06:43.280Z"
   },
   {
    "duration": 34,
    "start_time": "2025-01-21T00:06:43.313Z"
   },
   {
    "duration": 97,
    "start_time": "2025-01-21T00:06:43.348Z"
   },
   {
    "duration": 99,
    "start_time": "2025-01-21T00:06:43.447Z"
   },
   {
    "duration": 4,
    "start_time": "2025-01-21T00:06:43.548Z"
   },
   {
    "duration": 4,
    "start_time": "2025-01-21T00:06:43.553Z"
   },
   {
    "duration": 3,
    "start_time": "2025-01-21T00:06:43.559Z"
   },
   {
    "duration": 3519,
    "start_time": "2025-01-21T22:10:12.861Z"
   },
   {
    "duration": 401,
    "start_time": "2025-01-21T22:10:16.383Z"
   },
   {
    "duration": 14,
    "start_time": "2025-01-21T22:10:16.787Z"
   },
   {
    "duration": 12,
    "start_time": "2025-01-21T22:10:16.803Z"
   },
   {
    "duration": 10,
    "start_time": "2025-01-21T22:10:16.817Z"
   },
   {
    "duration": 57,
    "start_time": "2025-01-21T22:10:16.831Z"
   },
   {
    "duration": 43,
    "start_time": "2025-01-21T22:10:16.891Z"
   },
   {
    "duration": 47,
    "start_time": "2025-01-21T22:10:16.944Z"
   },
   {
    "duration": 50,
    "start_time": "2025-01-21T22:10:16.993Z"
   },
   {
    "duration": 104,
    "start_time": "2025-01-21T22:10:17.045Z"
   },
   {
    "duration": 102,
    "start_time": "2025-01-21T22:10:17.162Z"
   },
   {
    "duration": 93,
    "start_time": "2025-01-21T22:10:17.271Z"
   },
   {
    "duration": 8,
    "start_time": "2025-01-21T22:10:17.370Z"
   },
   {
    "duration": 57,
    "start_time": "2025-01-21T22:10:17.386Z"
   },
   {
    "duration": 4,
    "start_time": "2025-01-21T22:10:17.445Z"
   },
   {
    "duration": 47,
    "start_time": "2025-01-21T22:25:19.989Z"
   },
   {
    "duration": 23,
    "start_time": "2025-01-21T22:27:35.545Z"
   },
   {
    "duration": 26,
    "start_time": "2025-01-21T22:29:14.757Z"
   },
   {
    "duration": 20,
    "start_time": "2025-01-21T22:31:09.988Z"
   },
   {
    "duration": 17,
    "start_time": "2025-01-21T22:31:24.367Z"
   },
   {
    "duration": 982,
    "start_time": "2025-01-21T22:31:45.343Z"
   },
   {
    "duration": 290,
    "start_time": "2025-01-21T22:31:46.328Z"
   },
   {
    "duration": 15,
    "start_time": "2025-01-21T22:31:46.619Z"
   },
   {
    "duration": 11,
    "start_time": "2025-01-21T22:31:46.635Z"
   },
   {
    "duration": 10,
    "start_time": "2025-01-21T22:31:46.648Z"
   },
   {
    "duration": 46,
    "start_time": "2025-01-21T22:31:46.660Z"
   },
   {
    "duration": 65,
    "start_time": "2025-01-21T22:31:46.708Z"
   },
   {
    "duration": 46,
    "start_time": "2025-01-21T22:31:46.775Z"
   },
   {
    "duration": 34,
    "start_time": "2025-01-21T22:31:46.823Z"
   },
   {
    "duration": 22,
    "start_time": "2025-01-21T22:31:46.860Z"
   },
   {
    "duration": 23,
    "start_time": "2025-01-21T22:31:46.884Z"
   },
   {
    "duration": 63,
    "start_time": "2025-01-21T22:31:46.909Z"
   },
   {
    "duration": 26,
    "start_time": "2025-01-21T22:31:46.973Z"
   },
   {
    "duration": 101,
    "start_time": "2025-01-21T22:31:47.044Z"
   },
   {
    "duration": 22,
    "start_time": "2025-01-21T22:31:47.147Z"
   },
   {
    "duration": 71,
    "start_time": "2025-01-21T22:31:47.171Z"
   },
   {
    "duration": 4,
    "start_time": "2025-01-21T22:31:47.244Z"
   },
   {
    "duration": 4,
    "start_time": "2025-01-21T22:31:47.250Z"
   },
   {
    "duration": 4,
    "start_time": "2025-01-21T23:04:03.455Z"
   },
   {
    "duration": 338,
    "start_time": "2025-01-21T23:16:15.097Z"
   },
   {
    "duration": 41,
    "start_time": "2025-01-21T23:17:15.310Z"
   },
   {
    "duration": 23,
    "start_time": "2025-01-21T23:17:23.615Z"
   },
   {
    "duration": 1005,
    "start_time": "2025-01-21T23:17:50.491Z"
   },
   {
    "duration": 224,
    "start_time": "2025-01-21T23:17:51.498Z"
   },
   {
    "duration": 11,
    "start_time": "2025-01-21T23:17:51.724Z"
   },
   {
    "duration": 12,
    "start_time": "2025-01-21T23:17:51.736Z"
   },
   {
    "duration": 9,
    "start_time": "2025-01-21T23:17:51.753Z"
   },
   {
    "duration": 38,
    "start_time": "2025-01-21T23:17:51.764Z"
   },
   {
    "duration": 72,
    "start_time": "2025-01-21T23:17:51.804Z"
   },
   {
    "duration": 39,
    "start_time": "2025-01-21T23:17:51.878Z"
   },
   {
    "duration": 34,
    "start_time": "2025-01-21T23:17:51.919Z"
   },
   {
    "duration": 18,
    "start_time": "2025-01-21T23:17:51.955Z"
   },
   {
    "duration": 24,
    "start_time": "2025-01-21T23:17:51.976Z"
   },
   {
    "duration": 66,
    "start_time": "2025-01-21T23:17:52.002Z"
   },
   {
    "duration": 22,
    "start_time": "2025-01-21T23:17:52.071Z"
   },
   {
    "duration": 59,
    "start_time": "2025-01-21T23:17:52.097Z"
   },
   {
    "duration": 89,
    "start_time": "2025-01-21T23:17:52.158Z"
   },
   {
    "duration": 5,
    "start_time": "2025-01-21T23:17:52.249Z"
   },
   {
    "duration": 5,
    "start_time": "2025-01-21T23:17:52.256Z"
   },
   {
    "duration": 439,
    "start_time": "2025-01-21T23:17:52.263Z"
   },
   {
    "duration": 796,
    "start_time": "2025-01-21T23:18:47.570Z"
   },
   {
    "duration": 230,
    "start_time": "2025-01-21T23:18:48.368Z"
   },
   {
    "duration": 15,
    "start_time": "2025-01-21T23:18:48.601Z"
   },
   {
    "duration": 9,
    "start_time": "2025-01-21T23:18:48.618Z"
   },
   {
    "duration": 10,
    "start_time": "2025-01-21T23:18:48.642Z"
   },
   {
    "duration": 41,
    "start_time": "2025-01-21T23:18:48.654Z"
   },
   {
    "duration": 65,
    "start_time": "2025-01-21T23:18:48.697Z"
   },
   {
    "duration": 45,
    "start_time": "2025-01-21T23:18:48.764Z"
   },
   {
    "duration": 41,
    "start_time": "2025-01-21T23:18:48.813Z"
   },
   {
    "duration": 20,
    "start_time": "2025-01-21T23:18:48.856Z"
   },
   {
    "duration": 18,
    "start_time": "2025-01-21T23:18:48.878Z"
   },
   {
    "duration": 63,
    "start_time": "2025-01-21T23:18:48.898Z"
   },
   {
    "duration": 20,
    "start_time": "2025-01-21T23:18:48.963Z"
   },
   {
    "duration": 68,
    "start_time": "2025-01-21T23:18:48.986Z"
   },
   {
    "duration": 88,
    "start_time": "2025-01-21T23:18:49.056Z"
   },
   {
    "duration": 4,
    "start_time": "2025-01-21T23:18:49.146Z"
   },
   {
    "duration": 6,
    "start_time": "2025-01-21T23:18:49.154Z"
   },
   {
    "duration": 282,
    "start_time": "2025-01-21T23:18:49.162Z"
   },
   {
    "duration": 30,
    "start_time": "2025-01-21T23:22:01.979Z"
   },
   {
    "duration": 43,
    "start_time": "2025-01-21T23:22:25.875Z"
   },
   {
    "duration": 30,
    "start_time": "2025-01-21T23:22:56.329Z"
   },
   {
    "duration": 826,
    "start_time": "2025-01-21T23:23:04.460Z"
   },
   {
    "duration": 241,
    "start_time": "2025-01-21T23:23:05.289Z"
   },
   {
    "duration": 14,
    "start_time": "2025-01-21T23:23:05.534Z"
   },
   {
    "duration": 8,
    "start_time": "2025-01-21T23:23:05.552Z"
   },
   {
    "duration": 7,
    "start_time": "2025-01-21T23:23:05.563Z"
   },
   {
    "duration": 48,
    "start_time": "2025-01-21T23:23:05.572Z"
   },
   {
    "duration": 46,
    "start_time": "2025-01-21T23:23:05.643Z"
   },
   {
    "duration": 57,
    "start_time": "2025-01-21T23:23:05.691Z"
   },
   {
    "duration": 40,
    "start_time": "2025-01-21T23:23:05.750Z"
   },
   {
    "duration": 31,
    "start_time": "2025-01-21T23:23:05.794Z"
   },
   {
    "duration": 37,
    "start_time": "2025-01-21T23:23:05.842Z"
   },
   {
    "duration": 39,
    "start_time": "2025-01-21T23:23:05.882Z"
   },
   {
    "duration": 40,
    "start_time": "2025-01-21T23:23:05.925Z"
   },
   {
    "duration": 93,
    "start_time": "2025-01-21T23:23:05.967Z"
   },
   {
    "duration": 100,
    "start_time": "2025-01-21T23:23:06.062Z"
   },
   {
    "duration": 4,
    "start_time": "2025-01-21T23:23:06.164Z"
   },
   {
    "duration": 76,
    "start_time": "2025-01-21T23:23:06.169Z"
   },
   {
    "duration": 287,
    "start_time": "2025-01-21T23:23:06.252Z"
   },
   {
    "duration": 20,
    "start_time": "2025-01-21T23:23:48.334Z"
   },
   {
    "duration": 70,
    "start_time": "2025-01-21T23:30:41.693Z"
   },
   {
    "duration": 793,
    "start_time": "2025-01-21T23:33:09.671Z"
   },
   {
    "duration": 298,
    "start_time": "2025-01-21T23:33:10.466Z"
   },
   {
    "duration": 16,
    "start_time": "2025-01-21T23:33:10.766Z"
   },
   {
    "duration": 11,
    "start_time": "2025-01-21T23:33:10.785Z"
   },
   {
    "duration": 10,
    "start_time": "2025-01-21T23:33:10.800Z"
   },
   {
    "duration": 60,
    "start_time": "2025-01-21T23:33:10.812Z"
   },
   {
    "duration": 48,
    "start_time": "2025-01-21T23:33:10.874Z"
   },
   {
    "duration": 72,
    "start_time": "2025-01-21T23:33:10.924Z"
   },
   {
    "duration": 37,
    "start_time": "2025-01-21T23:33:10.999Z"
   },
   {
    "duration": 41,
    "start_time": "2025-01-21T23:33:11.039Z"
   },
   {
    "duration": 44,
    "start_time": "2025-01-21T23:33:11.083Z"
   },
   {
    "duration": 229,
    "start_time": "2025-01-21T23:33:11.129Z"
   },
   {
    "duration": 4,
    "start_time": "2025-01-21T23:33:11.360Z"
   },
   {
    "duration": 5,
    "start_time": "2025-01-21T23:33:11.368Z"
   },
   {
    "duration": 321,
    "start_time": "2025-01-21T23:33:11.375Z"
   },
   {
    "duration": 795,
    "start_time": "2025-01-21T23:37:02.525Z"
   },
   {
    "duration": 225,
    "start_time": "2025-01-21T23:37:03.324Z"
   },
   {
    "duration": 13,
    "start_time": "2025-01-21T23:37:03.551Z"
   },
   {
    "duration": 8,
    "start_time": "2025-01-21T23:37:03.566Z"
   },
   {
    "duration": 9,
    "start_time": "2025-01-21T23:37:03.577Z"
   },
   {
    "duration": 73,
    "start_time": "2025-01-21T23:37:03.588Z"
   },
   {
    "duration": 37,
    "start_time": "2025-01-21T23:37:03.663Z"
   },
   {
    "duration": 54,
    "start_time": "2025-01-21T23:37:03.702Z"
   },
   {
    "duration": 37,
    "start_time": "2025-01-21T23:37:03.759Z"
   },
   {
    "duration": 49,
    "start_time": "2025-01-21T23:37:03.798Z"
   },
   {
    "duration": 29,
    "start_time": "2025-01-21T23:37:03.849Z"
   },
   {
    "duration": 263,
    "start_time": "2025-01-21T23:37:03.880Z"
   },
   {
    "duration": 3,
    "start_time": "2025-01-21T23:37:04.145Z"
   },
   {
    "duration": 6,
    "start_time": "2025-01-21T23:37:04.152Z"
   },
   {
    "duration": 4,
    "start_time": "2025-01-21T23:37:04.160Z"
   },
   {
    "duration": 8,
    "start_time": "2025-01-21T23:37:04.165Z"
   },
   {
    "duration": 0,
    "start_time": "2025-01-21T23:37:04.174Z"
   },
   {
    "duration": 16,
    "start_time": "2025-01-21T23:37:18.028Z"
   },
   {
    "duration": 18,
    "start_time": "2025-01-21T23:37:26.952Z"
   },
   {
    "duration": 804,
    "start_time": "2025-01-23T22:12:09.062Z"
   },
   {
    "duration": 285,
    "start_time": "2025-01-23T22:12:09.868Z"
   },
   {
    "duration": 15,
    "start_time": "2025-01-23T22:12:10.154Z"
   },
   {
    "duration": 7,
    "start_time": "2025-01-23T22:12:10.172Z"
   },
   {
    "duration": 6,
    "start_time": "2025-01-23T22:12:10.183Z"
   },
   {
    "duration": 55,
    "start_time": "2025-01-23T22:12:10.191Z"
   },
   {
    "duration": 36,
    "start_time": "2025-01-23T22:12:10.248Z"
   },
   {
    "duration": 34,
    "start_time": "2025-01-23T22:12:10.286Z"
   },
   {
    "duration": 46,
    "start_time": "2025-01-23T22:12:10.321Z"
   },
   {
    "duration": 29,
    "start_time": "2025-01-23T22:12:10.369Z"
   },
   {
    "duration": 44,
    "start_time": "2025-01-23T22:12:10.399Z"
   },
   {
    "duration": 129,
    "start_time": "2025-01-23T22:12:10.445Z"
   },
   {
    "duration": 12,
    "start_time": "2025-01-23T22:12:10.653Z"
   },
   {
    "duration": 72,
    "start_time": "2025-01-23T22:12:10.671Z"
   },
   {
    "duration": 4,
    "start_time": "2025-01-23T22:12:10.745Z"
   },
   {
    "duration": 16,
    "start_time": "2025-01-23T22:12:10.750Z"
   },
   {
    "duration": 3225,
    "start_time": "2025-01-23T22:12:10.768Z"
   },
   {
    "duration": 3092,
    "start_time": "2025-01-23T22:33:25.481Z"
   },
   {
    "duration": 125,
    "start_time": "2025-01-23T22:39:32.692Z"
   },
   {
    "duration": 14,
    "start_time": "2025-01-23T22:39:45.594Z"
   },
   {
    "duration": 818,
    "start_time": "2025-01-25T23:26:11.913Z"
   },
   {
    "duration": 301,
    "start_time": "2025-01-25T23:26:12.736Z"
   },
   {
    "duration": 13,
    "start_time": "2025-01-25T23:26:13.042Z"
   },
   {
    "duration": 8,
    "start_time": "2025-01-25T23:26:13.058Z"
   },
   {
    "duration": 8,
    "start_time": "2025-01-25T23:26:13.069Z"
   },
   {
    "duration": 61,
    "start_time": "2025-01-25T23:26:13.078Z"
   },
   {
    "duration": 46,
    "start_time": "2025-01-25T23:26:13.141Z"
   },
   {
    "duration": 58,
    "start_time": "2025-01-25T23:26:13.189Z"
   },
   {
    "duration": 37,
    "start_time": "2025-01-25T23:26:13.249Z"
   },
   {
    "duration": 48,
    "start_time": "2025-01-25T23:26:13.288Z"
   },
   {
    "duration": 27,
    "start_time": "2025-01-25T23:26:13.338Z"
   },
   {
    "duration": 271,
    "start_time": "2025-01-25T23:26:13.367Z"
   },
   {
    "duration": 5,
    "start_time": "2025-01-25T23:26:13.644Z"
   },
   {
    "duration": 6,
    "start_time": "2025-01-25T23:26:13.651Z"
   },
   {
    "duration": 6,
    "start_time": "2025-01-25T23:26:13.727Z"
   },
   {
    "duration": 17,
    "start_time": "2025-01-25T23:26:13.734Z"
   },
   {
    "duration": 3260,
    "start_time": "2025-01-25T23:26:13.752Z"
   },
   {
    "duration": 3,
    "start_time": "2025-01-25T23:29:03.636Z"
   },
   {
    "duration": 14,
    "start_time": "2025-01-25T23:29:07.681Z"
   },
   {
    "duration": 3,
    "start_time": "2025-01-25T23:36:00.098Z"
   },
   {
    "duration": 5,
    "start_time": "2025-01-25T23:36:10.856Z"
   },
   {
    "duration": 3,
    "start_time": "2025-01-25T23:37:06.014Z"
   },
   {
    "duration": 14,
    "start_time": "2025-01-25T23:37:11.950Z"
   },
   {
    "duration": 3152,
    "start_time": "2025-01-25T23:38:46.151Z"
   },
   {
    "duration": 713,
    "start_time": "2025-01-26T00:07:06.414Z"
   },
   {
    "duration": 221,
    "start_time": "2025-01-26T00:07:07.130Z"
   },
   {
    "duration": 12,
    "start_time": "2025-01-26T00:07:07.353Z"
   },
   {
    "duration": 7,
    "start_time": "2025-01-26T00:07:07.367Z"
   },
   {
    "duration": 8,
    "start_time": "2025-01-26T00:07:07.377Z"
   },
   {
    "duration": 58,
    "start_time": "2025-01-26T00:07:07.386Z"
   },
   {
    "duration": 35,
    "start_time": "2025-01-26T00:07:07.446Z"
   },
   {
    "duration": 53,
    "start_time": "2025-01-26T00:07:07.482Z"
   },
   {
    "duration": 27,
    "start_time": "2025-01-26T00:07:07.538Z"
   },
   {
    "duration": 29,
    "start_time": "2025-01-26T00:07:07.567Z"
   },
   {
    "duration": 52,
    "start_time": "2025-01-26T00:07:07.597Z"
   },
   {
    "duration": 183,
    "start_time": "2025-01-26T00:07:07.651Z"
   },
   {
    "duration": 6,
    "start_time": "2025-01-26T00:07:07.843Z"
   },
   {
    "duration": 75,
    "start_time": "2025-01-26T00:07:07.852Z"
   },
   {
    "duration": 3,
    "start_time": "2025-01-26T00:07:07.929Z"
   },
   {
    "duration": 16,
    "start_time": "2025-01-26T00:07:07.934Z"
   },
   {
    "duration": 3126,
    "start_time": "2025-01-26T00:07:07.952Z"
   },
   {
    "duration": 816,
    "start_time": "2025-01-26T00:19:27.178Z"
   },
   {
    "duration": 356,
    "start_time": "2025-01-26T00:19:27.996Z"
   },
   {
    "duration": 15,
    "start_time": "2025-01-26T00:19:28.354Z"
   },
   {
    "duration": 9,
    "start_time": "2025-01-26T00:19:28.371Z"
   },
   {
    "duration": 8,
    "start_time": "2025-01-26T00:19:28.384Z"
   },
   {
    "duration": 58,
    "start_time": "2025-01-26T00:19:28.394Z"
   },
   {
    "duration": 39,
    "start_time": "2025-01-26T00:19:28.455Z"
   },
   {
    "duration": 49,
    "start_time": "2025-01-26T00:19:28.496Z"
   },
   {
    "duration": 28,
    "start_time": "2025-01-26T00:19:28.546Z"
   },
   {
    "duration": 29,
    "start_time": "2025-01-26T00:19:28.576Z"
   },
   {
    "duration": 51,
    "start_time": "2025-01-26T00:19:28.607Z"
   },
   {
    "duration": 181,
    "start_time": "2025-01-26T00:19:28.660Z"
   },
   {
    "duration": 4,
    "start_time": "2025-01-26T00:19:28.843Z"
   },
   {
    "duration": 79,
    "start_time": "2025-01-26T00:19:28.852Z"
   },
   {
    "duration": 4,
    "start_time": "2025-01-26T00:19:28.937Z"
   },
   {
    "duration": 17,
    "start_time": "2025-01-26T00:19:28.943Z"
   },
   {
    "duration": 3277,
    "start_time": "2025-01-26T00:19:28.961Z"
   },
   {
    "duration": 3,
    "start_time": "2025-01-26T00:35:57.979Z"
   },
   {
    "duration": 236,
    "start_time": "2025-01-26T00:35:57.984Z"
   },
   {
    "duration": 9,
    "start_time": "2025-01-26T00:35:58.222Z"
   },
   {
    "duration": 10,
    "start_time": "2025-01-26T00:35:58.234Z"
   },
   {
    "duration": 8,
    "start_time": "2025-01-26T00:35:58.246Z"
   },
   {
    "duration": 38,
    "start_time": "2025-01-26T00:35:58.256Z"
   },
   {
    "duration": 61,
    "start_time": "2025-01-26T00:35:58.296Z"
   },
   {
    "duration": 38,
    "start_time": "2025-01-26T00:35:58.359Z"
   },
   {
    "duration": 46,
    "start_time": "2025-01-26T00:35:58.400Z"
   },
   {
    "duration": 30,
    "start_time": "2025-01-26T00:35:58.448Z"
   },
   {
    "duration": 30,
    "start_time": "2025-01-26T00:35:58.480Z"
   },
   {
    "duration": 205,
    "start_time": "2025-01-26T00:35:58.530Z"
   },
   {
    "duration": 4,
    "start_time": "2025-01-26T00:35:58.737Z"
   },
   {
    "duration": 5,
    "start_time": "2025-01-26T00:35:58.745Z"
   },
   {
    "duration": 4,
    "start_time": "2025-01-26T00:35:58.751Z"
   },
   {
    "duration": 91,
    "start_time": "2025-01-26T00:35:58.756Z"
   },
   {
    "duration": 3192,
    "start_time": "2025-01-26T00:35:58.849Z"
   },
   {
    "duration": 168,
    "start_time": "2025-01-26T01:57:45.442Z"
   },
   {
    "duration": 817,
    "start_time": "2025-01-26T01:58:38.740Z"
   },
   {
    "duration": 320,
    "start_time": "2025-01-26T01:58:39.560Z"
   },
   {
    "duration": 12,
    "start_time": "2025-01-26T01:58:39.882Z"
   },
   {
    "duration": 16,
    "start_time": "2025-01-26T01:58:39.896Z"
   },
   {
    "duration": 8,
    "start_time": "2025-01-26T01:58:39.914Z"
   },
   {
    "duration": 42,
    "start_time": "2025-01-26T01:58:39.925Z"
   },
   {
    "duration": 58,
    "start_time": "2025-01-26T01:58:39.969Z"
   },
   {
    "duration": 38,
    "start_time": "2025-01-26T01:58:40.029Z"
   },
   {
    "duration": 84,
    "start_time": "2025-01-26T01:58:40.069Z"
   },
   {
    "duration": 71,
    "start_time": "2025-01-26T01:58:40.155Z"
   },
   {
    "duration": 63,
    "start_time": "2025-01-26T01:58:40.228Z"
   },
   {
    "duration": 218,
    "start_time": "2025-01-26T01:58:40.293Z"
   },
   {
    "duration": 5,
    "start_time": "2025-01-26T01:58:40.513Z"
   },
   {
    "duration": 4,
    "start_time": "2025-01-26T01:58:40.521Z"
   },
   {
    "duration": 3,
    "start_time": "2025-01-26T01:58:40.527Z"
   },
   {
    "duration": 85,
    "start_time": "2025-01-26T01:58:40.532Z"
   },
   {
    "duration": 3394,
    "start_time": "2025-01-26T01:58:40.618Z"
   },
   {
    "duration": 6,
    "start_time": "2025-01-26T02:00:10.838Z"
   },
   {
    "duration": 35,
    "start_time": "2025-01-26T02:00:18.263Z"
   },
   {
    "duration": 34,
    "start_time": "2025-01-26T02:01:30.805Z"
   },
   {
    "duration": 36,
    "start_time": "2025-01-26T02:01:34.778Z"
   },
   {
    "duration": 810,
    "start_time": "2025-01-26T02:01:41.634Z"
   },
   {
    "duration": 236,
    "start_time": "2025-01-26T02:01:42.446Z"
   },
   {
    "duration": 14,
    "start_time": "2025-01-26T02:01:42.683Z"
   },
   {
    "duration": 19,
    "start_time": "2025-01-26T02:01:42.699Z"
   },
   {
    "duration": 9,
    "start_time": "2025-01-26T02:01:42.721Z"
   },
   {
    "duration": 39,
    "start_time": "2025-01-26T02:01:42.731Z"
   },
   {
    "duration": 60,
    "start_time": "2025-01-26T02:01:42.772Z"
   },
   {
    "duration": 38,
    "start_time": "2025-01-26T02:01:42.835Z"
   },
   {
    "duration": 53,
    "start_time": "2025-01-26T02:01:42.875Z"
   },
   {
    "duration": 32,
    "start_time": "2025-01-26T02:01:42.931Z"
   },
   {
    "duration": 47,
    "start_time": "2025-01-26T02:01:42.965Z"
   },
   {
    "duration": 32,
    "start_time": "2025-01-26T02:01:43.015Z"
   },
   {
    "duration": 31,
    "start_time": "2025-01-26T02:01:43.049Z"
   },
   {
    "duration": 54,
    "start_time": "2025-01-26T02:01:43.083Z"
   },
   {
    "duration": 186,
    "start_time": "2025-01-26T02:01:43.138Z"
   },
   {
    "duration": 4,
    "start_time": "2025-01-26T02:01:43.327Z"
   },
   {
    "duration": 84,
    "start_time": "2025-01-26T02:01:43.333Z"
   },
   {
    "duration": 3,
    "start_time": "2025-01-26T02:01:43.419Z"
   },
   {
    "duration": 17,
    "start_time": "2025-01-26T02:01:43.424Z"
   },
   {
    "duration": 3344,
    "start_time": "2025-01-26T02:01:43.443Z"
   },
   {
    "duration": 2495,
    "start_time": "2025-01-26T02:03:19.879Z"
   },
   {
    "duration": 963,
    "start_time": "2025-01-26T02:04:10.938Z"
   },
   {
    "duration": 224,
    "start_time": "2025-01-26T02:04:11.904Z"
   },
   {
    "duration": 10,
    "start_time": "2025-01-26T02:04:12.130Z"
   },
   {
    "duration": 8,
    "start_time": "2025-01-26T02:04:12.143Z"
   },
   {
    "duration": 8,
    "start_time": "2025-01-26T02:04:12.152Z"
   },
   {
    "duration": 64,
    "start_time": "2025-01-26T02:04:12.162Z"
   },
   {
    "duration": 35,
    "start_time": "2025-01-26T02:04:12.229Z"
   },
   {
    "duration": 51,
    "start_time": "2025-01-26T02:04:12.266Z"
   },
   {
    "duration": 34,
    "start_time": "2025-01-26T02:04:12.318Z"
   },
   {
    "duration": 27,
    "start_time": "2025-01-26T02:04:12.354Z"
   },
   {
    "duration": 57,
    "start_time": "2025-01-26T02:04:12.383Z"
   },
   {
    "duration": 29,
    "start_time": "2025-01-26T02:04:12.442Z"
   },
   {
    "duration": 53,
    "start_time": "2025-01-26T02:04:12.473Z"
   },
   {
    "duration": 30,
    "start_time": "2025-01-26T02:04:12.527Z"
   },
   {
    "duration": 362,
    "start_time": "2025-01-26T02:04:12.559Z"
   },
   {
    "duration": 188,
    "start_time": "2025-01-26T02:04:12.923Z"
   },
   {
    "duration": 4,
    "start_time": "2025-01-26T02:04:13.113Z"
   },
   {
    "duration": 8,
    "start_time": "2025-01-26T02:04:13.119Z"
   },
   {
    "duration": 4,
    "start_time": "2025-01-26T02:04:13.129Z"
   },
   {
    "duration": 90,
    "start_time": "2025-01-26T02:04:13.135Z"
   },
   {
    "duration": 3270,
    "start_time": "2025-01-26T02:04:13.227Z"
   },
   {
    "duration": 276,
    "start_time": "2025-01-26T02:05:45.084Z"
   },
   {
    "duration": 256,
    "start_time": "2025-01-26T02:05:53.409Z"
   },
   {
    "duration": 2600,
    "start_time": "2025-01-26T18:47:41.814Z"
   },
   {
    "duration": 303,
    "start_time": "2025-01-26T18:47:44.416Z"
   },
   {
    "duration": 13,
    "start_time": "2025-01-26T18:47:44.721Z"
   },
   {
    "duration": 7,
    "start_time": "2025-01-26T18:47:44.736Z"
   },
   {
    "duration": 8,
    "start_time": "2025-01-26T18:47:44.745Z"
   },
   {
    "duration": 57,
    "start_time": "2025-01-26T18:47:44.754Z"
   },
   {
    "duration": 37,
    "start_time": "2025-01-26T18:47:44.813Z"
   },
   {
    "duration": 33,
    "start_time": "2025-01-26T18:47:44.852Z"
   },
   {
    "duration": 31,
    "start_time": "2025-01-26T18:47:48.430Z"
   },
   {
    "duration": 27,
    "start_time": "2025-01-26T18:47:51.986Z"
   },
   {
    "duration": 920,
    "start_time": "2025-01-26T18:54:36.856Z"
   },
   {
    "duration": 225,
    "start_time": "2025-01-26T18:54:37.778Z"
   },
   {
    "duration": 10,
    "start_time": "2025-01-26T18:54:38.007Z"
   },
   {
    "duration": 9,
    "start_time": "2025-01-26T18:54:38.019Z"
   },
   {
    "duration": 9,
    "start_time": "2025-01-26T18:54:38.031Z"
   },
   {
    "duration": 36,
    "start_time": "2025-01-26T18:54:38.042Z"
   },
   {
    "duration": 59,
    "start_time": "2025-01-26T18:54:38.080Z"
   },
   {
    "duration": 32,
    "start_time": "2025-01-26T18:54:38.141Z"
   },
   {
    "duration": 47,
    "start_time": "2025-01-26T18:54:38.174Z"
   },
   {
    "duration": 28,
    "start_time": "2025-01-26T18:54:38.222Z"
   },
   {
    "duration": 29,
    "start_time": "2025-01-26T18:54:38.252Z"
   },
   {
    "duration": 44,
    "start_time": "2025-01-26T18:54:38.283Z"
   },
   {
    "duration": 26,
    "start_time": "2025-01-26T18:54:38.329Z"
   },
   {
    "duration": 26,
    "start_time": "2025-01-26T18:54:38.358Z"
   },
   {
    "duration": 330,
    "start_time": "2025-01-26T18:54:38.386Z"
   },
   {
    "duration": 269,
    "start_time": "2025-01-26T18:54:38.717Z"
   },
   {
    "duration": 258,
    "start_time": "2025-01-26T18:54:38.988Z"
   },
   {
    "duration": 165,
    "start_time": "2025-01-26T18:54:39.248Z"
   },
   {
    "duration": 5,
    "start_time": "2025-01-26T18:54:39.415Z"
   },
   {
    "duration": 5,
    "start_time": "2025-01-26T18:54:39.421Z"
   },
   {
    "duration": 3,
    "start_time": "2025-01-26T18:54:39.428Z"
   },
   {
    "duration": 85,
    "start_time": "2025-01-26T18:54:39.433Z"
   },
   {
    "duration": 3114,
    "start_time": "2025-01-26T18:54:39.520Z"
   },
   {
    "duration": 148,
    "start_time": "2025-01-26T19:27:55.181Z"
   },
   {
    "duration": 2587,
    "start_time": "2025-01-26T21:31:51.593Z"
   },
   {
    "duration": 297,
    "start_time": "2025-01-26T21:31:54.182Z"
   },
   {
    "duration": 11,
    "start_time": "2025-01-26T21:31:54.480Z"
   },
   {
    "duration": 7,
    "start_time": "2025-01-26T21:31:54.492Z"
   },
   {
    "duration": 8,
    "start_time": "2025-01-26T21:31:54.501Z"
   },
   {
    "duration": 62,
    "start_time": "2025-01-26T21:31:54.511Z"
   },
   {
    "duration": 34,
    "start_time": "2025-01-26T21:31:54.575Z"
   },
   {
    "duration": 45,
    "start_time": "2025-01-26T21:31:54.611Z"
   },
   {
    "duration": 31,
    "start_time": "2025-01-26T21:31:54.658Z"
   },
   {
    "duration": 28,
    "start_time": "2025-01-26T21:31:54.690Z"
   },
   {
    "duration": 47,
    "start_time": "2025-01-26T21:31:54.720Z"
   },
   {
    "duration": 27,
    "start_time": "2025-01-26T21:31:54.768Z"
   },
   {
    "duration": 47,
    "start_time": "2025-01-26T21:31:54.796Z"
   },
   {
    "duration": 27,
    "start_time": "2025-01-26T21:31:54.846Z"
   },
   {
    "duration": 277,
    "start_time": "2025-01-26T21:31:54.875Z"
   },
   {
    "duration": 279,
    "start_time": "2025-01-26T21:31:55.154Z"
   },
   {
    "duration": 308,
    "start_time": "2025-01-26T21:31:55.435Z"
   },
   {
    "duration": 119,
    "start_time": "2025-01-26T21:31:55.744Z"
   },
   {
    "duration": 79,
    "start_time": "2025-01-26T21:31:55.865Z"
   },
   {
    "duration": 8,
    "start_time": "2025-01-26T21:31:55.946Z"
   },
   {
    "duration": 3,
    "start_time": "2025-01-26T21:31:55.956Z"
   },
   {
    "duration": 16,
    "start_time": "2025-01-26T21:31:55.961Z"
   },
   {
    "duration": 3206,
    "start_time": "2025-01-26T21:31:56.043Z"
   },
   {
    "duration": 2709,
    "start_time": "2025-01-26T23:24:43.749Z"
   },
   {
    "duration": 308,
    "start_time": "2025-01-26T23:24:46.462Z"
   },
   {
    "duration": 12,
    "start_time": "2025-01-26T23:24:46.771Z"
   },
   {
    "duration": 9,
    "start_time": "2025-01-26T23:24:46.785Z"
   },
   {
    "duration": 8,
    "start_time": "2025-01-26T23:24:46.796Z"
   },
   {
    "duration": 60,
    "start_time": "2025-01-26T23:24:46.805Z"
   },
   {
    "duration": 33,
    "start_time": "2025-01-26T23:24:46.867Z"
   },
   {
    "duration": 47,
    "start_time": "2025-01-26T23:24:46.902Z"
   },
   {
    "duration": 30,
    "start_time": "2025-01-26T23:24:46.951Z"
   },
   {
    "duration": 31,
    "start_time": "2025-01-26T23:24:46.984Z"
   },
   {
    "duration": 53,
    "start_time": "2025-01-26T23:24:47.018Z"
   },
   {
    "duration": 29,
    "start_time": "2025-01-26T23:24:47.073Z"
   },
   {
    "duration": 48,
    "start_time": "2025-01-26T23:24:47.104Z"
   },
   {
    "duration": 27,
    "start_time": "2025-01-26T23:24:47.155Z"
   },
   {
    "duration": 291,
    "start_time": "2025-01-26T23:24:47.184Z"
   },
   {
    "duration": 320,
    "start_time": "2025-01-26T23:24:47.477Z"
   },
   {
    "duration": 273,
    "start_time": "2025-01-26T23:24:47.799Z"
   },
   {
    "duration": 170,
    "start_time": "2025-01-26T23:24:48.073Z"
   },
   {
    "duration": 3,
    "start_time": "2025-01-26T23:24:48.245Z"
   },
   {
    "duration": 15,
    "start_time": "2025-01-26T23:24:48.250Z"
   },
   {
    "duration": 3,
    "start_time": "2025-01-26T23:24:48.267Z"
   },
   {
    "duration": 74,
    "start_time": "2025-01-26T23:24:48.271Z"
   },
   {
    "duration": 3227,
    "start_time": "2025-01-26T23:24:48.347Z"
   },
   {
    "duration": 2683,
    "start_time": "2025-01-28T01:29:33.501Z"
   },
   {
    "duration": 313,
    "start_time": "2025-01-28T01:29:36.186Z"
   },
   {
    "duration": 11,
    "start_time": "2025-01-28T01:29:36.501Z"
   },
   {
    "duration": 8,
    "start_time": "2025-01-28T01:29:36.514Z"
   },
   {
    "duration": 10,
    "start_time": "2025-01-28T01:29:36.523Z"
   },
   {
    "duration": 52,
    "start_time": "2025-01-28T01:29:36.538Z"
   },
   {
    "duration": 35,
    "start_time": "2025-01-28T01:29:36.592Z"
   },
   {
    "duration": 51,
    "start_time": "2025-01-28T01:29:36.629Z"
   },
   {
    "duration": 29,
    "start_time": "2025-01-28T01:29:36.682Z"
   },
   {
    "duration": 27,
    "start_time": "2025-01-28T01:29:36.714Z"
   },
   {
    "duration": 55,
    "start_time": "2025-01-28T01:29:36.743Z"
   },
   {
    "duration": 27,
    "start_time": "2025-01-28T01:29:36.800Z"
   },
   {
    "duration": 41,
    "start_time": "2025-01-28T01:29:36.829Z"
   },
   {
    "duration": 30,
    "start_time": "2025-01-28T01:29:36.874Z"
   },
   {
    "duration": 298,
    "start_time": "2025-01-28T01:29:36.906Z"
   },
   {
    "duration": 334,
    "start_time": "2025-01-28T01:29:37.206Z"
   },
   {
    "duration": 256,
    "start_time": "2025-01-28T01:29:37.543Z"
   },
   {
    "duration": 171,
    "start_time": "2025-01-28T01:29:37.801Z"
   },
   {
    "duration": 4,
    "start_time": "2025-01-28T01:29:37.973Z"
   },
   {
    "duration": 4,
    "start_time": "2025-01-28T01:29:37.979Z"
   },
   {
    "duration": 5,
    "start_time": "2025-01-28T01:29:37.986Z"
   },
   {
    "duration": 88,
    "start_time": "2025-01-28T01:29:37.993Z"
   },
   {
    "duration": 3219,
    "start_time": "2025-01-28T01:29:38.082Z"
   },
   {
    "duration": 2628,
    "start_time": "2025-01-28T21:53:53.566Z"
   },
   {
    "duration": 330,
    "start_time": "2025-01-28T21:53:56.196Z"
   },
   {
    "duration": 11,
    "start_time": "2025-01-28T21:53:56.528Z"
   },
   {
    "duration": 7,
    "start_time": "2025-01-28T21:53:56.540Z"
   },
   {
    "duration": 8,
    "start_time": "2025-01-28T21:53:56.549Z"
   },
   {
    "duration": 36,
    "start_time": "2025-01-28T21:53:56.558Z"
   },
   {
    "duration": 59,
    "start_time": "2025-01-28T21:53:56.596Z"
   },
   {
    "duration": 35,
    "start_time": "2025-01-28T21:53:56.656Z"
   },
   {
    "duration": 45,
    "start_time": "2025-01-28T21:53:56.692Z"
   },
   {
    "duration": 29,
    "start_time": "2025-01-28T21:53:56.739Z"
   },
   {
    "duration": 31,
    "start_time": "2025-01-28T21:53:56.770Z"
   },
   {
    "duration": 50,
    "start_time": "2025-01-28T21:53:56.804Z"
   },
   {
    "duration": 29,
    "start_time": "2025-01-28T21:53:56.857Z"
   },
   {
    "duration": 42,
    "start_time": "2025-01-28T21:53:56.890Z"
   },
   {
    "duration": 295,
    "start_time": "2025-01-28T21:53:56.933Z"
   },
   {
    "duration": 327,
    "start_time": "2025-01-28T21:53:57.230Z"
   },
   {
    "duration": 279,
    "start_time": "2025-01-28T21:53:57.559Z"
   },
   {
    "duration": 114,
    "start_time": "2025-01-28T21:53:57.840Z"
   },
   {
    "duration": 8,
    "start_time": "2025-01-28T21:53:58.032Z"
   },
   {
    "duration": 9,
    "start_time": "2025-01-28T21:53:58.045Z"
   },
   {
    "duration": 4,
    "start_time": "2025-01-28T21:53:58.057Z"
   },
   {
    "duration": 82,
    "start_time": "2025-01-28T21:53:58.064Z"
   },
   {
    "duration": 3180,
    "start_time": "2025-01-28T21:53:58.148Z"
   }
  ],
  "kernelspec": {
   "display_name": "base",
   "language": "python",
   "name": "python3"
  },
  "language_info": {
   "codemirror_mode": {
    "name": "ipython",
    "version": 3
   },
   "file_extension": ".py",
   "mimetype": "text/x-python",
   "name": "python",
   "nbconvert_exporter": "python",
   "pygments_lexer": "ipython3",
   "version": "3.12.7"
  },
  "toc": {
   "base_numbering": 1,
   "nav_menu": {},
   "number_sections": true,
   "sideBar": true,
   "skip_h1_title": true,
   "title_cell": "Table of Contents",
   "title_sidebar": "Contents",
   "toc_cell": false,
   "toc_position": {},
   "toc_section_display": true,
   "toc_window_display": false
  }
 },
 "nbformat": 4,
 "nbformat_minor": 2
}
