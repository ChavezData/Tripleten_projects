{
 "cells": [
  {
   "cell_type": "markdown",
   "metadata": {},
   "source": [
    "# Gold Ore Project"
   ]
  },
  {
   "cell_type": "markdown",
   "metadata": {},
   "source": [
    "Introduction: this project contains the gold ore extraction and purfication stages and creating a model that helps optimize producttion and eliminate parameters that are not needed."
   ]
  },
  {
   "cell_type": "code",
   "execution_count": 1,
   "metadata": {},
   "outputs": [],
   "source": [
    "import pandas as pd\n",
    "import numpy as np\n",
    "from sklearn.metrics import mean_absolute_error\n",
    "import matplotlib.pyplot as plt\n",
    "from sklearn.model_selection import train_test_split\n",
    "from sklearn.preprocessing import StandardScaler\n",
    "from sklearn.metrics import make_scorer\n",
    "from sklearn.model_selection import cross_validate\n",
    "from sklearn.model_selection import cross_val_score\n",
    "from sklearn.tree import DecisionTreeRegressor\n",
    "from sklearn.ensemble import RandomForestRegressor\n",
    "from sklearn.linear_model import LinearRegression\n",
    "from sklearn.linear_model import ElasticNet\n",
    "from sklearn.dummy import DummyRegressor\n",
    "from sklearn.model_selection import KFold\n",
    "import warnings\n",
    "pd.set_option('display.max_columns', 100)\n",
    "warnings.filterwarnings('ignore')"
   ]
  },
  {
   "cell_type": "code",
   "execution_count": 2,
   "metadata": {},
   "outputs": [],
   "source": [
    "#Prepare the data\n",
    "try:\n",
    "    gold_train = pd.read_csv(\"/datasets/gold_recovery_train.csv\")\n",
    "except FileNotFoundError:\n",
    "    gold_train = pd.read_csv('https://practicum-content.s3.us-west-1.amazonaws.com/datasets/gold_recovery_train.csv')\n"
   ]
  },
  {
   "cell_type": "code",
   "execution_count": 3,
   "metadata": {},
   "outputs": [],
   "source": [
    "try:\n",
    "    gold_test = pd.read_csv(\"/datasets/gold_recovery_test.csv\")\n",
    "except FileNotFoundError:\n",
    "    gold_test = pd.read_csv('https://practicum-content.s3.us-west-1.amazonaws.com/datasets/gold_recovery_test.csv')\n"
   ]
  },
  {
   "cell_type": "code",
   "execution_count": 4,
   "metadata": {},
   "outputs": [],
   "source": [
    "try:\n",
    "    gold_full = pd.read_csv(\"/datasets/gold_recovery_full.csv\")\n",
    "except FileNotFoundError:\n",
    "    gold_full = pd.read_csv('https://practicum-content.s3.us-west-1.amazonaws.com/datasets/gold_recovery_full.csv')\n"
   ]
  },
  {
   "cell_type": "code",
   "execution_count": 3,
   "metadata": {},
   "outputs": [
    {
     "data": {
      "text/html": [
       "<div>\n",
       "<style scoped>\n",
       "    .dataframe tbody tr th:only-of-type {\n",
       "        vertical-align: middle;\n",
       "    }\n",
       "\n",
       "    .dataframe tbody tr th {\n",
       "        vertical-align: top;\n",
       "    }\n",
       "\n",
       "    .dataframe thead th {\n",
       "        text-align: right;\n",
       "    }\n",
       "</style>\n",
       "<table border=\"1\" class=\"dataframe\">\n",
       "  <thead>\n",
       "    <tr style=\"text-align: right;\">\n",
       "      <th></th>\n",
       "      <th>date</th>\n",
       "      <th>final.output.concentrate_ag</th>\n",
       "      <th>final.output.concentrate_pb</th>\n",
       "      <th>final.output.concentrate_sol</th>\n",
       "      <th>final.output.concentrate_au</th>\n",
       "      <th>final.output.recovery</th>\n",
       "      <th>final.output.tail_ag</th>\n",
       "      <th>final.output.tail_pb</th>\n",
       "      <th>final.output.tail_sol</th>\n",
       "      <th>final.output.tail_au</th>\n",
       "      <th>primary_cleaner.input.sulfate</th>\n",
       "      <th>primary_cleaner.input.depressant</th>\n",
       "      <th>primary_cleaner.input.feed_size</th>\n",
       "      <th>primary_cleaner.input.xanthate</th>\n",
       "      <th>primary_cleaner.output.concentrate_ag</th>\n",
       "      <th>primary_cleaner.output.concentrate_pb</th>\n",
       "      <th>primary_cleaner.output.concentrate_sol</th>\n",
       "      <th>primary_cleaner.output.concentrate_au</th>\n",
       "      <th>primary_cleaner.output.tail_ag</th>\n",
       "      <th>primary_cleaner.output.tail_pb</th>\n",
       "      <th>primary_cleaner.output.tail_sol</th>\n",
       "      <th>primary_cleaner.output.tail_au</th>\n",
       "      <th>primary_cleaner.state.floatbank8_a_air</th>\n",
       "      <th>primary_cleaner.state.floatbank8_a_level</th>\n",
       "      <th>primary_cleaner.state.floatbank8_b_air</th>\n",
       "      <th>primary_cleaner.state.floatbank8_b_level</th>\n",
       "      <th>primary_cleaner.state.floatbank8_c_air</th>\n",
       "      <th>primary_cleaner.state.floatbank8_c_level</th>\n",
       "      <th>primary_cleaner.state.floatbank8_d_air</th>\n",
       "      <th>primary_cleaner.state.floatbank8_d_level</th>\n",
       "      <th>rougher.calculation.sulfate_to_au_concentrate</th>\n",
       "      <th>rougher.calculation.floatbank10_sulfate_to_au_feed</th>\n",
       "      <th>rougher.calculation.floatbank11_sulfate_to_au_feed</th>\n",
       "      <th>rougher.calculation.au_pb_ratio</th>\n",
       "      <th>rougher.input.feed_ag</th>\n",
       "      <th>rougher.input.feed_pb</th>\n",
       "      <th>rougher.input.feed_rate</th>\n",
       "      <th>rougher.input.feed_size</th>\n",
       "      <th>rougher.input.feed_sol</th>\n",
       "      <th>rougher.input.feed_au</th>\n",
       "      <th>rougher.input.floatbank10_sulfate</th>\n",
       "      <th>rougher.input.floatbank10_xanthate</th>\n",
       "      <th>rougher.input.floatbank11_sulfate</th>\n",
       "      <th>rougher.input.floatbank11_xanthate</th>\n",
       "      <th>rougher.output.concentrate_ag</th>\n",
       "      <th>rougher.output.concentrate_pb</th>\n",
       "      <th>rougher.output.concentrate_sol</th>\n",
       "      <th>rougher.output.concentrate_au</th>\n",
       "      <th>rougher.output.recovery</th>\n",
       "      <th>rougher.output.tail_ag</th>\n",
       "      <th>rougher.output.tail_pb</th>\n",
       "      <th>rougher.output.tail_sol</th>\n",
       "      <th>rougher.output.tail_au</th>\n",
       "      <th>rougher.state.floatbank10_a_air</th>\n",
       "      <th>rougher.state.floatbank10_a_level</th>\n",
       "      <th>rougher.state.floatbank10_b_air</th>\n",
       "      <th>rougher.state.floatbank10_b_level</th>\n",
       "      <th>rougher.state.floatbank10_c_air</th>\n",
       "      <th>rougher.state.floatbank10_c_level</th>\n",
       "      <th>rougher.state.floatbank10_d_air</th>\n",
       "      <th>rougher.state.floatbank10_d_level</th>\n",
       "      <th>rougher.state.floatbank10_e_air</th>\n",
       "      <th>rougher.state.floatbank10_e_level</th>\n",
       "      <th>rougher.state.floatbank10_f_air</th>\n",
       "      <th>rougher.state.floatbank10_f_level</th>\n",
       "      <th>secondary_cleaner.output.tail_ag</th>\n",
       "      <th>secondary_cleaner.output.tail_pb</th>\n",
       "      <th>secondary_cleaner.output.tail_sol</th>\n",
       "      <th>secondary_cleaner.output.tail_au</th>\n",
       "      <th>secondary_cleaner.state.floatbank2_a_air</th>\n",
       "      <th>secondary_cleaner.state.floatbank2_a_level</th>\n",
       "      <th>secondary_cleaner.state.floatbank2_b_air</th>\n",
       "      <th>secondary_cleaner.state.floatbank2_b_level</th>\n",
       "      <th>secondary_cleaner.state.floatbank3_a_air</th>\n",
       "      <th>secondary_cleaner.state.floatbank3_a_level</th>\n",
       "      <th>secondary_cleaner.state.floatbank3_b_air</th>\n",
       "      <th>secondary_cleaner.state.floatbank3_b_level</th>\n",
       "      <th>secondary_cleaner.state.floatbank4_a_air</th>\n",
       "      <th>secondary_cleaner.state.floatbank4_a_level</th>\n",
       "      <th>secondary_cleaner.state.floatbank4_b_air</th>\n",
       "      <th>secondary_cleaner.state.floatbank4_b_level</th>\n",
       "      <th>secondary_cleaner.state.floatbank5_a_air</th>\n",
       "      <th>secondary_cleaner.state.floatbank5_a_level</th>\n",
       "      <th>secondary_cleaner.state.floatbank5_b_air</th>\n",
       "      <th>secondary_cleaner.state.floatbank5_b_level</th>\n",
       "      <th>secondary_cleaner.state.floatbank6_a_air</th>\n",
       "      <th>secondary_cleaner.state.floatbank6_a_level</th>\n",
       "    </tr>\n",
       "  </thead>\n",
       "  <tbody>\n",
       "    <tr>\n",
       "      <th>0</th>\n",
       "      <td>2016-01-15 00:00:00</td>\n",
       "      <td>6.055403</td>\n",
       "      <td>9.889648</td>\n",
       "      <td>5.507324</td>\n",
       "      <td>42.192020</td>\n",
       "      <td>70.541216</td>\n",
       "      <td>10.411962</td>\n",
       "      <td>0.895447</td>\n",
       "      <td>16.904297</td>\n",
       "      <td>2.143149</td>\n",
       "      <td>127.092003</td>\n",
       "      <td>10.128295</td>\n",
       "      <td>7.25</td>\n",
       "      <td>0.988759</td>\n",
       "      <td>8.547551</td>\n",
       "      <td>10.389648</td>\n",
       "      <td>19.529297</td>\n",
       "      <td>34.174427</td>\n",
       "      <td>14.936526</td>\n",
       "      <td>2.534912</td>\n",
       "      <td>7.476074</td>\n",
       "      <td>2.106679</td>\n",
       "      <td>1549.775757</td>\n",
       "      <td>-498.912140</td>\n",
       "      <td>1551.434204</td>\n",
       "      <td>-516.403442</td>\n",
       "      <td>1549.873901</td>\n",
       "      <td>-498.666595</td>\n",
       "      <td>1554.367432</td>\n",
       "      <td>-493.428131</td>\n",
       "      <td>41885.707031</td>\n",
       "      <td>3481.779053</td>\n",
       "      <td>3520.337158</td>\n",
       "      <td>2.838687</td>\n",
       "      <td>6.100378</td>\n",
       "      <td>2.284912</td>\n",
       "      <td>523.546326</td>\n",
       "      <td>55.486599</td>\n",
       "      <td>36.808594</td>\n",
       "      <td>6.486150</td>\n",
       "      <td>11.986616</td>\n",
       "      <td>6.007990</td>\n",
       "      <td>11.836743</td>\n",
       "      <td>6.005818</td>\n",
       "      <td>11.500771</td>\n",
       "      <td>7.101074</td>\n",
       "      <td>28.029297</td>\n",
       "      <td>19.793808</td>\n",
       "      <td>87.107763</td>\n",
       "      <td>5.008018</td>\n",
       "      <td>0.508728</td>\n",
       "      <td>19.154297</td>\n",
       "      <td>1.170244</td>\n",
       "      <td>999.706909</td>\n",
       "      <td>-404.066986</td>\n",
       "      <td>1603.011353</td>\n",
       "      <td>-434.715027</td>\n",
       "      <td>1602.375000</td>\n",
       "      <td>-442.204468</td>\n",
       "      <td>1598.937256</td>\n",
       "      <td>-451.294128</td>\n",
       "      <td>1404.472046</td>\n",
       "      <td>-455.462982</td>\n",
       "      <td>1416.354980</td>\n",
       "      <td>-451.939636</td>\n",
       "      <td>14.500184</td>\n",
       "      <td>4.694824</td>\n",
       "      <td>8.764648</td>\n",
       "      <td>2.606185</td>\n",
       "      <td>25.853109</td>\n",
       "      <td>-498.526489</td>\n",
       "      <td>23.893660</td>\n",
       "      <td>-501.406281</td>\n",
       "      <td>23.961798</td>\n",
       "      <td>-495.262817</td>\n",
       "      <td>21.940409</td>\n",
       "      <td>-499.340973</td>\n",
       "      <td>14.016835</td>\n",
       "      <td>-502.488007</td>\n",
       "      <td>12.099931</td>\n",
       "      <td>-504.715942</td>\n",
       "      <td>9.925633</td>\n",
       "      <td>-498.310211</td>\n",
       "      <td>8.079666</td>\n",
       "      <td>-500.470978</td>\n",
       "      <td>14.151341</td>\n",
       "      <td>-605.841980</td>\n",
       "    </tr>\n",
       "    <tr>\n",
       "      <th>1</th>\n",
       "      <td>2016-01-15 01:00:00</td>\n",
       "      <td>6.029369</td>\n",
       "      <td>9.968944</td>\n",
       "      <td>5.257781</td>\n",
       "      <td>42.701629</td>\n",
       "      <td>69.266198</td>\n",
       "      <td>10.462676</td>\n",
       "      <td>0.927452</td>\n",
       "      <td>16.634514</td>\n",
       "      <td>2.224930</td>\n",
       "      <td>125.629232</td>\n",
       "      <td>10.296251</td>\n",
       "      <td>7.25</td>\n",
       "      <td>1.002663</td>\n",
       "      <td>8.558743</td>\n",
       "      <td>10.497069</td>\n",
       "      <td>19.369147</td>\n",
       "      <td>34.118526</td>\n",
       "      <td>16.250511</td>\n",
       "      <td>3.049646</td>\n",
       "      <td>6.733907</td>\n",
       "      <td>2.353017</td>\n",
       "      <td>1576.166671</td>\n",
       "      <td>-500.904965</td>\n",
       "      <td>1575.950626</td>\n",
       "      <td>-499.865889</td>\n",
       "      <td>1575.994189</td>\n",
       "      <td>-499.315107</td>\n",
       "      <td>1574.479259</td>\n",
       "      <td>-498.931665</td>\n",
       "      <td>42050.861809</td>\n",
       "      <td>3498.370979</td>\n",
       "      <td>3489.981857</td>\n",
       "      <td>2.858998</td>\n",
       "      <td>6.161113</td>\n",
       "      <td>2.266033</td>\n",
       "      <td>525.290581</td>\n",
       "      <td>57.278666</td>\n",
       "      <td>35.753385</td>\n",
       "      <td>6.478583</td>\n",
       "      <td>11.971193</td>\n",
       "      <td>6.005766</td>\n",
       "      <td>11.996163</td>\n",
       "      <td>6.012594</td>\n",
       "      <td>11.615865</td>\n",
       "      <td>7.278807</td>\n",
       "      <td>28.067063</td>\n",
       "      <td>20.050975</td>\n",
       "      <td>86.843261</td>\n",
       "      <td>4.955378</td>\n",
       "      <td>0.536689</td>\n",
       "      <td>18.965234</td>\n",
       "      <td>1.184827</td>\n",
       "      <td>1000.286398</td>\n",
       "      <td>-400.065196</td>\n",
       "      <td>1600.754587</td>\n",
       "      <td>-449.953435</td>\n",
       "      <td>1600.479580</td>\n",
       "      <td>-449.830646</td>\n",
       "      <td>1600.527589</td>\n",
       "      <td>-449.953649</td>\n",
       "      <td>1399.227084</td>\n",
       "      <td>-450.869848</td>\n",
       "      <td>1399.719514</td>\n",
       "      <td>-450.119001</td>\n",
       "      <td>14.265474</td>\n",
       "      <td>4.592547</td>\n",
       "      <td>9.001494</td>\n",
       "      <td>2.488248</td>\n",
       "      <td>25.880539</td>\n",
       "      <td>-499.989656</td>\n",
       "      <td>23.889530</td>\n",
       "      <td>-500.372428</td>\n",
       "      <td>23.970550</td>\n",
       "      <td>-500.085473</td>\n",
       "      <td>22.085714</td>\n",
       "      <td>-499.446897</td>\n",
       "      <td>13.992281</td>\n",
       "      <td>-505.503262</td>\n",
       "      <td>11.950531</td>\n",
       "      <td>-501.331529</td>\n",
       "      <td>10.039245</td>\n",
       "      <td>-500.169983</td>\n",
       "      <td>7.984757</td>\n",
       "      <td>-500.582168</td>\n",
       "      <td>13.998353</td>\n",
       "      <td>-599.787184</td>\n",
       "    </tr>\n",
       "    <tr>\n",
       "      <th>2</th>\n",
       "      <td>2016-01-15 02:00:00</td>\n",
       "      <td>6.055926</td>\n",
       "      <td>10.213995</td>\n",
       "      <td>5.383759</td>\n",
       "      <td>42.657501</td>\n",
       "      <td>68.116445</td>\n",
       "      <td>10.507046</td>\n",
       "      <td>0.953716</td>\n",
       "      <td>16.208849</td>\n",
       "      <td>2.257889</td>\n",
       "      <td>123.819808</td>\n",
       "      <td>11.316280</td>\n",
       "      <td>7.25</td>\n",
       "      <td>0.991265</td>\n",
       "      <td>8.603505</td>\n",
       "      <td>10.354494</td>\n",
       "      <td>19.167579</td>\n",
       "      <td>33.969464</td>\n",
       "      <td>16.491823</td>\n",
       "      <td>3.124664</td>\n",
       "      <td>6.471768</td>\n",
       "      <td>2.416800</td>\n",
       "      <td>1601.556163</td>\n",
       "      <td>-499.997791</td>\n",
       "      <td>1600.386685</td>\n",
       "      <td>-500.607762</td>\n",
       "      <td>1602.003542</td>\n",
       "      <td>-500.870069</td>\n",
       "      <td>1599.541515</td>\n",
       "      <td>-499.827444</td>\n",
       "      <td>42018.101184</td>\n",
       "      <td>3495.348910</td>\n",
       "      <td>3502.359819</td>\n",
       "      <td>2.945989</td>\n",
       "      <td>6.116455</td>\n",
       "      <td>2.159622</td>\n",
       "      <td>530.026610</td>\n",
       "      <td>57.510649</td>\n",
       "      <td>35.971630</td>\n",
       "      <td>6.362222</td>\n",
       "      <td>11.920603</td>\n",
       "      <td>6.197377</td>\n",
       "      <td>11.920305</td>\n",
       "      <td>6.204633</td>\n",
       "      <td>11.695753</td>\n",
       "      <td>7.216833</td>\n",
       "      <td>27.454037</td>\n",
       "      <td>19.737170</td>\n",
       "      <td>86.842308</td>\n",
       "      <td>4.843460</td>\n",
       "      <td>0.546416</td>\n",
       "      <td>18.808533</td>\n",
       "      <td>1.162562</td>\n",
       "      <td>999.719565</td>\n",
       "      <td>-400.074028</td>\n",
       "      <td>1599.337330</td>\n",
       "      <td>-450.008530</td>\n",
       "      <td>1599.672797</td>\n",
       "      <td>-449.954491</td>\n",
       "      <td>1599.849325</td>\n",
       "      <td>-449.954185</td>\n",
       "      <td>1399.180945</td>\n",
       "      <td>-449.937588</td>\n",
       "      <td>1400.316682</td>\n",
       "      <td>-450.527147</td>\n",
       "      <td>14.115662</td>\n",
       "      <td>4.624775</td>\n",
       "      <td>8.842896</td>\n",
       "      <td>2.458187</td>\n",
       "      <td>26.005245</td>\n",
       "      <td>-499.929616</td>\n",
       "      <td>23.886657</td>\n",
       "      <td>-499.951928</td>\n",
       "      <td>23.913535</td>\n",
       "      <td>-499.442343</td>\n",
       "      <td>23.957717</td>\n",
       "      <td>-499.901982</td>\n",
       "      <td>14.015015</td>\n",
       "      <td>-502.520901</td>\n",
       "      <td>11.912783</td>\n",
       "      <td>-501.133383</td>\n",
       "      <td>10.070913</td>\n",
       "      <td>-500.129135</td>\n",
       "      <td>8.013877</td>\n",
       "      <td>-500.517572</td>\n",
       "      <td>14.028663</td>\n",
       "      <td>-601.427363</td>\n",
       "    </tr>\n",
       "    <tr>\n",
       "      <th>3</th>\n",
       "      <td>2016-01-15 03:00:00</td>\n",
       "      <td>6.047977</td>\n",
       "      <td>9.977019</td>\n",
       "      <td>4.858634</td>\n",
       "      <td>42.689819</td>\n",
       "      <td>68.347543</td>\n",
       "      <td>10.422762</td>\n",
       "      <td>0.883763</td>\n",
       "      <td>16.532835</td>\n",
       "      <td>2.146849</td>\n",
       "      <td>122.270188</td>\n",
       "      <td>11.322140</td>\n",
       "      <td>7.25</td>\n",
       "      <td>0.996739</td>\n",
       "      <td>7.221879</td>\n",
       "      <td>8.496563</td>\n",
       "      <td>15.978538</td>\n",
       "      <td>28.260743</td>\n",
       "      <td>16.024359</td>\n",
       "      <td>2.960362</td>\n",
       "      <td>6.843791</td>\n",
       "      <td>2.262051</td>\n",
       "      <td>1599.968720</td>\n",
       "      <td>-500.951778</td>\n",
       "      <td>1600.659236</td>\n",
       "      <td>-499.677094</td>\n",
       "      <td>1600.304144</td>\n",
       "      <td>-500.727997</td>\n",
       "      <td>1600.449520</td>\n",
       "      <td>-500.052575</td>\n",
       "      <td>42029.447991</td>\n",
       "      <td>3498.578313</td>\n",
       "      <td>3499.162912</td>\n",
       "      <td>3.002340</td>\n",
       "      <td>6.043309</td>\n",
       "      <td>2.037807</td>\n",
       "      <td>542.590390</td>\n",
       "      <td>57.792734</td>\n",
       "      <td>36.862241</td>\n",
       "      <td>6.118189</td>\n",
       "      <td>11.630094</td>\n",
       "      <td>6.203177</td>\n",
       "      <td>11.692450</td>\n",
       "      <td>6.196578</td>\n",
       "      <td>11.915047</td>\n",
       "      <td>7.175616</td>\n",
       "      <td>27.341277</td>\n",
       "      <td>19.320810</td>\n",
       "      <td>87.226430</td>\n",
       "      <td>4.655288</td>\n",
       "      <td>0.542525</td>\n",
       "      <td>19.330200</td>\n",
       "      <td>1.079755</td>\n",
       "      <td>999.814770</td>\n",
       "      <td>-400.200179</td>\n",
       "      <td>1600.059442</td>\n",
       "      <td>-450.619948</td>\n",
       "      <td>1600.012842</td>\n",
       "      <td>-449.910497</td>\n",
       "      <td>1597.725177</td>\n",
       "      <td>-450.130127</td>\n",
       "      <td>1400.943157</td>\n",
       "      <td>-450.030142</td>\n",
       "      <td>1400.234743</td>\n",
       "      <td>-449.790835</td>\n",
       "      <td>13.732071</td>\n",
       "      <td>4.482453</td>\n",
       "      <td>9.122857</td>\n",
       "      <td>2.322062</td>\n",
       "      <td>25.942508</td>\n",
       "      <td>-499.176749</td>\n",
       "      <td>23.955516</td>\n",
       "      <td>-499.848796</td>\n",
       "      <td>23.966838</td>\n",
       "      <td>-500.008812</td>\n",
       "      <td>23.954443</td>\n",
       "      <td>-499.944710</td>\n",
       "      <td>14.036510</td>\n",
       "      <td>-500.857308</td>\n",
       "      <td>11.999550</td>\n",
       "      <td>-501.193686</td>\n",
       "      <td>9.970366</td>\n",
       "      <td>-499.201640</td>\n",
       "      <td>7.977324</td>\n",
       "      <td>-500.255908</td>\n",
       "      <td>14.005551</td>\n",
       "      <td>-599.996129</td>\n",
       "    </tr>\n",
       "    <tr>\n",
       "      <th>4</th>\n",
       "      <td>2016-01-15 04:00:00</td>\n",
       "      <td>6.148599</td>\n",
       "      <td>10.142511</td>\n",
       "      <td>4.939416</td>\n",
       "      <td>42.774141</td>\n",
       "      <td>66.927016</td>\n",
       "      <td>10.360302</td>\n",
       "      <td>0.792826</td>\n",
       "      <td>16.525686</td>\n",
       "      <td>2.055292</td>\n",
       "      <td>117.988169</td>\n",
       "      <td>11.913613</td>\n",
       "      <td>7.25</td>\n",
       "      <td>1.009869</td>\n",
       "      <td>9.089428</td>\n",
       "      <td>9.986786</td>\n",
       "      <td>19.199864</td>\n",
       "      <td>33.044932</td>\n",
       "      <td>16.480185</td>\n",
       "      <td>3.112100</td>\n",
       "      <td>6.550154</td>\n",
       "      <td>2.277073</td>\n",
       "      <td>1601.339707</td>\n",
       "      <td>-498.975456</td>\n",
       "      <td>1601.437854</td>\n",
       "      <td>-500.323246</td>\n",
       "      <td>1599.581894</td>\n",
       "      <td>-500.888152</td>\n",
       "      <td>1602.649541</td>\n",
       "      <td>-500.593010</td>\n",
       "      <td>42125.354245</td>\n",
       "      <td>3494.800771</td>\n",
       "      <td>3506.679315</td>\n",
       "      <td>3.169615</td>\n",
       "      <td>6.060915</td>\n",
       "      <td>1.786875</td>\n",
       "      <td>540.531893</td>\n",
       "      <td>56.047189</td>\n",
       "      <td>34.347666</td>\n",
       "      <td>5.663707</td>\n",
       "      <td>10.957755</td>\n",
       "      <td>6.198826</td>\n",
       "      <td>10.960521</td>\n",
       "      <td>6.194897</td>\n",
       "      <td>12.411054</td>\n",
       "      <td>7.240205</td>\n",
       "      <td>27.041023</td>\n",
       "      <td>19.216101</td>\n",
       "      <td>86.688794</td>\n",
       "      <td>4.552800</td>\n",
       "      <td>0.515438</td>\n",
       "      <td>19.267422</td>\n",
       "      <td>1.012642</td>\n",
       "      <td>999.678690</td>\n",
       "      <td>-399.752729</td>\n",
       "      <td>1600.208824</td>\n",
       "      <td>-449.599614</td>\n",
       "      <td>1600.357732</td>\n",
       "      <td>-450.034364</td>\n",
       "      <td>1599.759049</td>\n",
       "      <td>-449.909799</td>\n",
       "      <td>1401.560902</td>\n",
       "      <td>-448.877187</td>\n",
       "      <td>1401.160227</td>\n",
       "      <td>-450.407128</td>\n",
       "      <td>14.079996</td>\n",
       "      <td>4.470737</td>\n",
       "      <td>8.871028</td>\n",
       "      <td>2.330448</td>\n",
       "      <td>26.024787</td>\n",
       "      <td>-500.279091</td>\n",
       "      <td>23.955345</td>\n",
       "      <td>-500.593614</td>\n",
       "      <td>23.985703</td>\n",
       "      <td>-500.083811</td>\n",
       "      <td>23.958945</td>\n",
       "      <td>-499.990309</td>\n",
       "      <td>14.027298</td>\n",
       "      <td>-499.838632</td>\n",
       "      <td>11.953070</td>\n",
       "      <td>-501.053894</td>\n",
       "      <td>9.925709</td>\n",
       "      <td>-501.686727</td>\n",
       "      <td>7.894242</td>\n",
       "      <td>-500.356035</td>\n",
       "      <td>13.996647</td>\n",
       "      <td>-601.496691</td>\n",
       "    </tr>\n",
       "  </tbody>\n",
       "</table>\n",
       "</div>"
      ],
      "text/plain": [
       "                  date  final.output.concentrate_ag  \\\n",
       "0  2016-01-15 00:00:00                     6.055403   \n",
       "1  2016-01-15 01:00:00                     6.029369   \n",
       "2  2016-01-15 02:00:00                     6.055926   \n",
       "3  2016-01-15 03:00:00                     6.047977   \n",
       "4  2016-01-15 04:00:00                     6.148599   \n",
       "\n",
       "   final.output.concentrate_pb  final.output.concentrate_sol  \\\n",
       "0                     9.889648                      5.507324   \n",
       "1                     9.968944                      5.257781   \n",
       "2                    10.213995                      5.383759   \n",
       "3                     9.977019                      4.858634   \n",
       "4                    10.142511                      4.939416   \n",
       "\n",
       "   final.output.concentrate_au  final.output.recovery  final.output.tail_ag  \\\n",
       "0                    42.192020              70.541216             10.411962   \n",
       "1                    42.701629              69.266198             10.462676   \n",
       "2                    42.657501              68.116445             10.507046   \n",
       "3                    42.689819              68.347543             10.422762   \n",
       "4                    42.774141              66.927016             10.360302   \n",
       "\n",
       "   final.output.tail_pb  final.output.tail_sol  final.output.tail_au  \\\n",
       "0              0.895447              16.904297              2.143149   \n",
       "1              0.927452              16.634514              2.224930   \n",
       "2              0.953716              16.208849              2.257889   \n",
       "3              0.883763              16.532835              2.146849   \n",
       "4              0.792826              16.525686              2.055292   \n",
       "\n",
       "   primary_cleaner.input.sulfate  primary_cleaner.input.depressant  \\\n",
       "0                     127.092003                         10.128295   \n",
       "1                     125.629232                         10.296251   \n",
       "2                     123.819808                         11.316280   \n",
       "3                     122.270188                         11.322140   \n",
       "4                     117.988169                         11.913613   \n",
       "\n",
       "   primary_cleaner.input.feed_size  primary_cleaner.input.xanthate  \\\n",
       "0                             7.25                        0.988759   \n",
       "1                             7.25                        1.002663   \n",
       "2                             7.25                        0.991265   \n",
       "3                             7.25                        0.996739   \n",
       "4                             7.25                        1.009869   \n",
       "\n",
       "   primary_cleaner.output.concentrate_ag  \\\n",
       "0                               8.547551   \n",
       "1                               8.558743   \n",
       "2                               8.603505   \n",
       "3                               7.221879   \n",
       "4                               9.089428   \n",
       "\n",
       "   primary_cleaner.output.concentrate_pb  \\\n",
       "0                              10.389648   \n",
       "1                              10.497069   \n",
       "2                              10.354494   \n",
       "3                               8.496563   \n",
       "4                               9.986786   \n",
       "\n",
       "   primary_cleaner.output.concentrate_sol  \\\n",
       "0                               19.529297   \n",
       "1                               19.369147   \n",
       "2                               19.167579   \n",
       "3                               15.978538   \n",
       "4                               19.199864   \n",
       "\n",
       "   primary_cleaner.output.concentrate_au  primary_cleaner.output.tail_ag  \\\n",
       "0                              34.174427                       14.936526   \n",
       "1                              34.118526                       16.250511   \n",
       "2                              33.969464                       16.491823   \n",
       "3                              28.260743                       16.024359   \n",
       "4                              33.044932                       16.480185   \n",
       "\n",
       "   primary_cleaner.output.tail_pb  primary_cleaner.output.tail_sol  \\\n",
       "0                        2.534912                         7.476074   \n",
       "1                        3.049646                         6.733907   \n",
       "2                        3.124664                         6.471768   \n",
       "3                        2.960362                         6.843791   \n",
       "4                        3.112100                         6.550154   \n",
       "\n",
       "   primary_cleaner.output.tail_au  primary_cleaner.state.floatbank8_a_air  \\\n",
       "0                        2.106679                             1549.775757   \n",
       "1                        2.353017                             1576.166671   \n",
       "2                        2.416800                             1601.556163   \n",
       "3                        2.262051                             1599.968720   \n",
       "4                        2.277073                             1601.339707   \n",
       "\n",
       "   primary_cleaner.state.floatbank8_a_level  \\\n",
       "0                               -498.912140   \n",
       "1                               -500.904965   \n",
       "2                               -499.997791   \n",
       "3                               -500.951778   \n",
       "4                               -498.975456   \n",
       "\n",
       "   primary_cleaner.state.floatbank8_b_air  \\\n",
       "0                             1551.434204   \n",
       "1                             1575.950626   \n",
       "2                             1600.386685   \n",
       "3                             1600.659236   \n",
       "4                             1601.437854   \n",
       "\n",
       "   primary_cleaner.state.floatbank8_b_level  \\\n",
       "0                               -516.403442   \n",
       "1                               -499.865889   \n",
       "2                               -500.607762   \n",
       "3                               -499.677094   \n",
       "4                               -500.323246   \n",
       "\n",
       "   primary_cleaner.state.floatbank8_c_air  \\\n",
       "0                             1549.873901   \n",
       "1                             1575.994189   \n",
       "2                             1602.003542   \n",
       "3                             1600.304144   \n",
       "4                             1599.581894   \n",
       "\n",
       "   primary_cleaner.state.floatbank8_c_level  \\\n",
       "0                               -498.666595   \n",
       "1                               -499.315107   \n",
       "2                               -500.870069   \n",
       "3                               -500.727997   \n",
       "4                               -500.888152   \n",
       "\n",
       "   primary_cleaner.state.floatbank8_d_air  \\\n",
       "0                             1554.367432   \n",
       "1                             1574.479259   \n",
       "2                             1599.541515   \n",
       "3                             1600.449520   \n",
       "4                             1602.649541   \n",
       "\n",
       "   primary_cleaner.state.floatbank8_d_level  \\\n",
       "0                               -493.428131   \n",
       "1                               -498.931665   \n",
       "2                               -499.827444   \n",
       "3                               -500.052575   \n",
       "4                               -500.593010   \n",
       "\n",
       "   rougher.calculation.sulfate_to_au_concentrate  \\\n",
       "0                                   41885.707031   \n",
       "1                                   42050.861809   \n",
       "2                                   42018.101184   \n",
       "3                                   42029.447991   \n",
       "4                                   42125.354245   \n",
       "\n",
       "   rougher.calculation.floatbank10_sulfate_to_au_feed  \\\n",
       "0                                        3481.779053    \n",
       "1                                        3498.370979    \n",
       "2                                        3495.348910    \n",
       "3                                        3498.578313    \n",
       "4                                        3494.800771    \n",
       "\n",
       "   rougher.calculation.floatbank11_sulfate_to_au_feed  \\\n",
       "0                                        3520.337158    \n",
       "1                                        3489.981857    \n",
       "2                                        3502.359819    \n",
       "3                                        3499.162912    \n",
       "4                                        3506.679315    \n",
       "\n",
       "   rougher.calculation.au_pb_ratio  rougher.input.feed_ag  \\\n",
       "0                         2.838687               6.100378   \n",
       "1                         2.858998               6.161113   \n",
       "2                         2.945989               6.116455   \n",
       "3                         3.002340               6.043309   \n",
       "4                         3.169615               6.060915   \n",
       "\n",
       "   rougher.input.feed_pb  rougher.input.feed_rate  rougher.input.feed_size  \\\n",
       "0               2.284912               523.546326                55.486599   \n",
       "1               2.266033               525.290581                57.278666   \n",
       "2               2.159622               530.026610                57.510649   \n",
       "3               2.037807               542.590390                57.792734   \n",
       "4               1.786875               540.531893                56.047189   \n",
       "\n",
       "   rougher.input.feed_sol  rougher.input.feed_au  \\\n",
       "0               36.808594               6.486150   \n",
       "1               35.753385               6.478583   \n",
       "2               35.971630               6.362222   \n",
       "3               36.862241               6.118189   \n",
       "4               34.347666               5.663707   \n",
       "\n",
       "   rougher.input.floatbank10_sulfate  rougher.input.floatbank10_xanthate  \\\n",
       "0                          11.986616                            6.007990   \n",
       "1                          11.971193                            6.005766   \n",
       "2                          11.920603                            6.197377   \n",
       "3                          11.630094                            6.203177   \n",
       "4                          10.957755                            6.198826   \n",
       "\n",
       "   rougher.input.floatbank11_sulfate  rougher.input.floatbank11_xanthate  \\\n",
       "0                          11.836743                            6.005818   \n",
       "1                          11.996163                            6.012594   \n",
       "2                          11.920305                            6.204633   \n",
       "3                          11.692450                            6.196578   \n",
       "4                          10.960521                            6.194897   \n",
       "\n",
       "   rougher.output.concentrate_ag  rougher.output.concentrate_pb  \\\n",
       "0                      11.500771                       7.101074   \n",
       "1                      11.615865                       7.278807   \n",
       "2                      11.695753                       7.216833   \n",
       "3                      11.915047                       7.175616   \n",
       "4                      12.411054                       7.240205   \n",
       "\n",
       "   rougher.output.concentrate_sol  rougher.output.concentrate_au  \\\n",
       "0                       28.029297                      19.793808   \n",
       "1                       28.067063                      20.050975   \n",
       "2                       27.454037                      19.737170   \n",
       "3                       27.341277                      19.320810   \n",
       "4                       27.041023                      19.216101   \n",
       "\n",
       "   rougher.output.recovery  rougher.output.tail_ag  rougher.output.tail_pb  \\\n",
       "0                87.107763                5.008018                0.508728   \n",
       "1                86.843261                4.955378                0.536689   \n",
       "2                86.842308                4.843460                0.546416   \n",
       "3                87.226430                4.655288                0.542525   \n",
       "4                86.688794                4.552800                0.515438   \n",
       "\n",
       "   rougher.output.tail_sol  rougher.output.tail_au  \\\n",
       "0                19.154297                1.170244   \n",
       "1                18.965234                1.184827   \n",
       "2                18.808533                1.162562   \n",
       "3                19.330200                1.079755   \n",
       "4                19.267422                1.012642   \n",
       "\n",
       "   rougher.state.floatbank10_a_air  rougher.state.floatbank10_a_level  \\\n",
       "0                       999.706909                        -404.066986   \n",
       "1                      1000.286398                        -400.065196   \n",
       "2                       999.719565                        -400.074028   \n",
       "3                       999.814770                        -400.200179   \n",
       "4                       999.678690                        -399.752729   \n",
       "\n",
       "   rougher.state.floatbank10_b_air  rougher.state.floatbank10_b_level  \\\n",
       "0                      1603.011353                        -434.715027   \n",
       "1                      1600.754587                        -449.953435   \n",
       "2                      1599.337330                        -450.008530   \n",
       "3                      1600.059442                        -450.619948   \n",
       "4                      1600.208824                        -449.599614   \n",
       "\n",
       "   rougher.state.floatbank10_c_air  rougher.state.floatbank10_c_level  \\\n",
       "0                      1602.375000                        -442.204468   \n",
       "1                      1600.479580                        -449.830646   \n",
       "2                      1599.672797                        -449.954491   \n",
       "3                      1600.012842                        -449.910497   \n",
       "4                      1600.357732                        -450.034364   \n",
       "\n",
       "   rougher.state.floatbank10_d_air  rougher.state.floatbank10_d_level  \\\n",
       "0                      1598.937256                        -451.294128   \n",
       "1                      1600.527589                        -449.953649   \n",
       "2                      1599.849325                        -449.954185   \n",
       "3                      1597.725177                        -450.130127   \n",
       "4                      1599.759049                        -449.909799   \n",
       "\n",
       "   rougher.state.floatbank10_e_air  rougher.state.floatbank10_e_level  \\\n",
       "0                      1404.472046                        -455.462982   \n",
       "1                      1399.227084                        -450.869848   \n",
       "2                      1399.180945                        -449.937588   \n",
       "3                      1400.943157                        -450.030142   \n",
       "4                      1401.560902                        -448.877187   \n",
       "\n",
       "   rougher.state.floatbank10_f_air  rougher.state.floatbank10_f_level  \\\n",
       "0                      1416.354980                        -451.939636   \n",
       "1                      1399.719514                        -450.119001   \n",
       "2                      1400.316682                        -450.527147   \n",
       "3                      1400.234743                        -449.790835   \n",
       "4                      1401.160227                        -450.407128   \n",
       "\n",
       "   secondary_cleaner.output.tail_ag  secondary_cleaner.output.tail_pb  \\\n",
       "0                         14.500184                          4.694824   \n",
       "1                         14.265474                          4.592547   \n",
       "2                         14.115662                          4.624775   \n",
       "3                         13.732071                          4.482453   \n",
       "4                         14.079996                          4.470737   \n",
       "\n",
       "   secondary_cleaner.output.tail_sol  secondary_cleaner.output.tail_au  \\\n",
       "0                           8.764648                          2.606185   \n",
       "1                           9.001494                          2.488248   \n",
       "2                           8.842896                          2.458187   \n",
       "3                           9.122857                          2.322062   \n",
       "4                           8.871028                          2.330448   \n",
       "\n",
       "   secondary_cleaner.state.floatbank2_a_air  \\\n",
       "0                                 25.853109   \n",
       "1                                 25.880539   \n",
       "2                                 26.005245   \n",
       "3                                 25.942508   \n",
       "4                                 26.024787   \n",
       "\n",
       "   secondary_cleaner.state.floatbank2_a_level  \\\n",
       "0                                 -498.526489   \n",
       "1                                 -499.989656   \n",
       "2                                 -499.929616   \n",
       "3                                 -499.176749   \n",
       "4                                 -500.279091   \n",
       "\n",
       "   secondary_cleaner.state.floatbank2_b_air  \\\n",
       "0                                 23.893660   \n",
       "1                                 23.889530   \n",
       "2                                 23.886657   \n",
       "3                                 23.955516   \n",
       "4                                 23.955345   \n",
       "\n",
       "   secondary_cleaner.state.floatbank2_b_level  \\\n",
       "0                                 -501.406281   \n",
       "1                                 -500.372428   \n",
       "2                                 -499.951928   \n",
       "3                                 -499.848796   \n",
       "4                                 -500.593614   \n",
       "\n",
       "   secondary_cleaner.state.floatbank3_a_air  \\\n",
       "0                                 23.961798   \n",
       "1                                 23.970550   \n",
       "2                                 23.913535   \n",
       "3                                 23.966838   \n",
       "4                                 23.985703   \n",
       "\n",
       "   secondary_cleaner.state.floatbank3_a_level  \\\n",
       "0                                 -495.262817   \n",
       "1                                 -500.085473   \n",
       "2                                 -499.442343   \n",
       "3                                 -500.008812   \n",
       "4                                 -500.083811   \n",
       "\n",
       "   secondary_cleaner.state.floatbank3_b_air  \\\n",
       "0                                 21.940409   \n",
       "1                                 22.085714   \n",
       "2                                 23.957717   \n",
       "3                                 23.954443   \n",
       "4                                 23.958945   \n",
       "\n",
       "   secondary_cleaner.state.floatbank3_b_level  \\\n",
       "0                                 -499.340973   \n",
       "1                                 -499.446897   \n",
       "2                                 -499.901982   \n",
       "3                                 -499.944710   \n",
       "4                                 -499.990309   \n",
       "\n",
       "   secondary_cleaner.state.floatbank4_a_air  \\\n",
       "0                                 14.016835   \n",
       "1                                 13.992281   \n",
       "2                                 14.015015   \n",
       "3                                 14.036510   \n",
       "4                                 14.027298   \n",
       "\n",
       "   secondary_cleaner.state.floatbank4_a_level  \\\n",
       "0                                 -502.488007   \n",
       "1                                 -505.503262   \n",
       "2                                 -502.520901   \n",
       "3                                 -500.857308   \n",
       "4                                 -499.838632   \n",
       "\n",
       "   secondary_cleaner.state.floatbank4_b_air  \\\n",
       "0                                 12.099931   \n",
       "1                                 11.950531   \n",
       "2                                 11.912783   \n",
       "3                                 11.999550   \n",
       "4                                 11.953070   \n",
       "\n",
       "   secondary_cleaner.state.floatbank4_b_level  \\\n",
       "0                                 -504.715942   \n",
       "1                                 -501.331529   \n",
       "2                                 -501.133383   \n",
       "3                                 -501.193686   \n",
       "4                                 -501.053894   \n",
       "\n",
       "   secondary_cleaner.state.floatbank5_a_air  \\\n",
       "0                                  9.925633   \n",
       "1                                 10.039245   \n",
       "2                                 10.070913   \n",
       "3                                  9.970366   \n",
       "4                                  9.925709   \n",
       "\n",
       "   secondary_cleaner.state.floatbank5_a_level  \\\n",
       "0                                 -498.310211   \n",
       "1                                 -500.169983   \n",
       "2                                 -500.129135   \n",
       "3                                 -499.201640   \n",
       "4                                 -501.686727   \n",
       "\n",
       "   secondary_cleaner.state.floatbank5_b_air  \\\n",
       "0                                  8.079666   \n",
       "1                                  7.984757   \n",
       "2                                  8.013877   \n",
       "3                                  7.977324   \n",
       "4                                  7.894242   \n",
       "\n",
       "   secondary_cleaner.state.floatbank5_b_level  \\\n",
       "0                                 -500.470978   \n",
       "1                                 -500.582168   \n",
       "2                                 -500.517572   \n",
       "3                                 -500.255908   \n",
       "4                                 -500.356035   \n",
       "\n",
       "   secondary_cleaner.state.floatbank6_a_air  \\\n",
       "0                                 14.151341   \n",
       "1                                 13.998353   \n",
       "2                                 14.028663   \n",
       "3                                 14.005551   \n",
       "4                                 13.996647   \n",
       "\n",
       "   secondary_cleaner.state.floatbank6_a_level  \n",
       "0                                 -605.841980  \n",
       "1                                 -599.787184  \n",
       "2                                 -601.427363  \n",
       "3                                 -599.996129  \n",
       "4                                 -601.496691  "
      ]
     },
     "execution_count": 3,
     "metadata": {},
     "output_type": "execute_result"
    }
   ],
   "source": [
    "gold_train.head()"
   ]
  },
  {
   "cell_type": "code",
   "execution_count": 4,
   "metadata": {},
   "outputs": [
    {
     "data": {
      "text/html": [
       "<div>\n",
       "<style scoped>\n",
       "    .dataframe tbody tr th:only-of-type {\n",
       "        vertical-align: middle;\n",
       "    }\n",
       "\n",
       "    .dataframe tbody tr th {\n",
       "        vertical-align: top;\n",
       "    }\n",
       "\n",
       "    .dataframe thead th {\n",
       "        text-align: right;\n",
       "    }\n",
       "</style>\n",
       "<table border=\"1\" class=\"dataframe\">\n",
       "  <thead>\n",
       "    <tr style=\"text-align: right;\">\n",
       "      <th></th>\n",
       "      <th>date</th>\n",
       "      <th>primary_cleaner.input.sulfate</th>\n",
       "      <th>primary_cleaner.input.depressant</th>\n",
       "      <th>primary_cleaner.input.feed_size</th>\n",
       "      <th>primary_cleaner.input.xanthate</th>\n",
       "      <th>primary_cleaner.state.floatbank8_a_air</th>\n",
       "      <th>primary_cleaner.state.floatbank8_a_level</th>\n",
       "      <th>primary_cleaner.state.floatbank8_b_air</th>\n",
       "      <th>primary_cleaner.state.floatbank8_b_level</th>\n",
       "      <th>primary_cleaner.state.floatbank8_c_air</th>\n",
       "      <th>primary_cleaner.state.floatbank8_c_level</th>\n",
       "      <th>primary_cleaner.state.floatbank8_d_air</th>\n",
       "      <th>primary_cleaner.state.floatbank8_d_level</th>\n",
       "      <th>rougher.input.feed_ag</th>\n",
       "      <th>rougher.input.feed_pb</th>\n",
       "      <th>rougher.input.feed_rate</th>\n",
       "      <th>rougher.input.feed_size</th>\n",
       "      <th>rougher.input.feed_sol</th>\n",
       "      <th>rougher.input.feed_au</th>\n",
       "      <th>rougher.input.floatbank10_sulfate</th>\n",
       "      <th>rougher.input.floatbank10_xanthate</th>\n",
       "      <th>rougher.input.floatbank11_sulfate</th>\n",
       "      <th>rougher.input.floatbank11_xanthate</th>\n",
       "      <th>rougher.state.floatbank10_a_air</th>\n",
       "      <th>rougher.state.floatbank10_a_level</th>\n",
       "      <th>rougher.state.floatbank10_b_air</th>\n",
       "      <th>rougher.state.floatbank10_b_level</th>\n",
       "      <th>rougher.state.floatbank10_c_air</th>\n",
       "      <th>rougher.state.floatbank10_c_level</th>\n",
       "      <th>rougher.state.floatbank10_d_air</th>\n",
       "      <th>rougher.state.floatbank10_d_level</th>\n",
       "      <th>rougher.state.floatbank10_e_air</th>\n",
       "      <th>rougher.state.floatbank10_e_level</th>\n",
       "      <th>rougher.state.floatbank10_f_air</th>\n",
       "      <th>rougher.state.floatbank10_f_level</th>\n",
       "      <th>secondary_cleaner.state.floatbank2_a_air</th>\n",
       "      <th>secondary_cleaner.state.floatbank2_a_level</th>\n",
       "      <th>secondary_cleaner.state.floatbank2_b_air</th>\n",
       "      <th>secondary_cleaner.state.floatbank2_b_level</th>\n",
       "      <th>secondary_cleaner.state.floatbank3_a_air</th>\n",
       "      <th>secondary_cleaner.state.floatbank3_a_level</th>\n",
       "      <th>secondary_cleaner.state.floatbank3_b_air</th>\n",
       "      <th>secondary_cleaner.state.floatbank3_b_level</th>\n",
       "      <th>secondary_cleaner.state.floatbank4_a_air</th>\n",
       "      <th>secondary_cleaner.state.floatbank4_a_level</th>\n",
       "      <th>secondary_cleaner.state.floatbank4_b_air</th>\n",
       "      <th>secondary_cleaner.state.floatbank4_b_level</th>\n",
       "      <th>secondary_cleaner.state.floatbank5_a_air</th>\n",
       "      <th>secondary_cleaner.state.floatbank5_a_level</th>\n",
       "      <th>secondary_cleaner.state.floatbank5_b_air</th>\n",
       "      <th>secondary_cleaner.state.floatbank5_b_level</th>\n",
       "      <th>secondary_cleaner.state.floatbank6_a_air</th>\n",
       "      <th>secondary_cleaner.state.floatbank6_a_level</th>\n",
       "    </tr>\n",
       "  </thead>\n",
       "  <tbody>\n",
       "    <tr>\n",
       "      <th>0</th>\n",
       "      <td>2016-09-01 00:59:59</td>\n",
       "      <td>210.800909</td>\n",
       "      <td>14.993118</td>\n",
       "      <td>8.080000</td>\n",
       "      <td>1.005021</td>\n",
       "      <td>1398.981301</td>\n",
       "      <td>-500.225577</td>\n",
       "      <td>1399.144926</td>\n",
       "      <td>-499.919735</td>\n",
       "      <td>1400.102998</td>\n",
       "      <td>-500.704369</td>\n",
       "      <td>1399.001695</td>\n",
       "      <td>-499.485144</td>\n",
       "      <td>13.128569</td>\n",
       "      <td>5.636710</td>\n",
       "      <td>489.793655</td>\n",
       "      <td>62.710452</td>\n",
       "      <td>42.022440</td>\n",
       "      <td>12.084103</td>\n",
       "      <td>16.922877</td>\n",
       "      <td>6.153479</td>\n",
       "      <td>16.867518</td>\n",
       "      <td>6.150709</td>\n",
       "      <td>1001.849317</td>\n",
       "      <td>-350.301265</td>\n",
       "      <td>1249.738612</td>\n",
       "      <td>-399.107531</td>\n",
       "      <td>1249.750520</td>\n",
       "      <td>-399.396730</td>\n",
       "      <td>1198.287855</td>\n",
       "      <td>-399.488594</td>\n",
       "      <td>999.472250</td>\n",
       "      <td>-399.530962</td>\n",
       "      <td>949.566189</td>\n",
       "      <td>-398.180807</td>\n",
       "      <td>24.938200</td>\n",
       "      <td>-500.490963</td>\n",
       "      <td>14.947607</td>\n",
       "      <td>-500.013837</td>\n",
       "      <td>20.018166</td>\n",
       "      <td>-450.395995</td>\n",
       "      <td>13.987058</td>\n",
       "      <td>-449.831513</td>\n",
       "      <td>12.023554</td>\n",
       "      <td>-497.795834</td>\n",
       "      <td>8.016656</td>\n",
       "      <td>-501.289139</td>\n",
       "      <td>7.946562</td>\n",
       "      <td>-432.317850</td>\n",
       "      <td>4.872511</td>\n",
       "      <td>-500.037437</td>\n",
       "      <td>26.705889</td>\n",
       "      <td>-499.709414</td>\n",
       "    </tr>\n",
       "    <tr>\n",
       "      <th>1</th>\n",
       "      <td>2016-09-01 01:59:59</td>\n",
       "      <td>215.392455</td>\n",
       "      <td>14.987471</td>\n",
       "      <td>8.080000</td>\n",
       "      <td>0.990469</td>\n",
       "      <td>1398.777912</td>\n",
       "      <td>-500.057435</td>\n",
       "      <td>1398.055362</td>\n",
       "      <td>-499.778182</td>\n",
       "      <td>1396.151033</td>\n",
       "      <td>-499.240168</td>\n",
       "      <td>1399.508091</td>\n",
       "      <td>-500.416324</td>\n",
       "      <td>13.036280</td>\n",
       "      <td>5.526065</td>\n",
       "      <td>490.104534</td>\n",
       "      <td>61.961163</td>\n",
       "      <td>41.187903</td>\n",
       "      <td>11.918977</td>\n",
       "      <td>17.002532</td>\n",
       "      <td>5.999043</td>\n",
       "      <td>16.996063</td>\n",
       "      <td>6.002315</td>\n",
       "      <td>998.690785</td>\n",
       "      <td>-350.425704</td>\n",
       "      <td>1248.395457</td>\n",
       "      <td>-399.946025</td>\n",
       "      <td>1249.514451</td>\n",
       "      <td>-399.630810</td>\n",
       "      <td>1200.506459</td>\n",
       "      <td>-399.942434</td>\n",
       "      <td>1000.002114</td>\n",
       "      <td>-399.491528</td>\n",
       "      <td>950.200009</td>\n",
       "      <td>-405.787514</td>\n",
       "      <td>24.923466</td>\n",
       "      <td>-499.813963</td>\n",
       "      <td>14.930873</td>\n",
       "      <td>-500.764452</td>\n",
       "      <td>19.988503</td>\n",
       "      <td>-450.114024</td>\n",
       "      <td>14.092981</td>\n",
       "      <td>-450.059163</td>\n",
       "      <td>12.058140</td>\n",
       "      <td>-498.695773</td>\n",
       "      <td>8.130979</td>\n",
       "      <td>-499.634209</td>\n",
       "      <td>7.958270</td>\n",
       "      <td>-525.839648</td>\n",
       "      <td>4.878850</td>\n",
       "      <td>-500.162375</td>\n",
       "      <td>25.019940</td>\n",
       "      <td>-499.819438</td>\n",
       "    </tr>\n",
       "    <tr>\n",
       "      <th>2</th>\n",
       "      <td>2016-09-01 02:59:59</td>\n",
       "      <td>215.259946</td>\n",
       "      <td>12.884934</td>\n",
       "      <td>7.786667</td>\n",
       "      <td>0.996043</td>\n",
       "      <td>1398.493666</td>\n",
       "      <td>-500.868360</td>\n",
       "      <td>1398.860436</td>\n",
       "      <td>-499.764529</td>\n",
       "      <td>1398.075709</td>\n",
       "      <td>-502.151509</td>\n",
       "      <td>1399.497088</td>\n",
       "      <td>-499.715479</td>\n",
       "      <td>13.138412</td>\n",
       "      <td>5.426561</td>\n",
       "      <td>489.617969</td>\n",
       "      <td>66.903807</td>\n",
       "      <td>42.546294</td>\n",
       "      <td>12.091332</td>\n",
       "      <td>16.992520</td>\n",
       "      <td>5.850632</td>\n",
       "      <td>16.982096</td>\n",
       "      <td>5.853594</td>\n",
       "      <td>998.516720</td>\n",
       "      <td>-349.783538</td>\n",
       "      <td>1247.440748</td>\n",
       "      <td>-400.264330</td>\n",
       "      <td>1248.207204</td>\n",
       "      <td>-401.074405</td>\n",
       "      <td>1199.770026</td>\n",
       "      <td>-400.790582</td>\n",
       "      <td>999.925519</td>\n",
       "      <td>-399.236999</td>\n",
       "      <td>950.320481</td>\n",
       "      <td>-400.864340</td>\n",
       "      <td>24.908732</td>\n",
       "      <td>-500.304035</td>\n",
       "      <td>14.996511</td>\n",
       "      <td>-500.993821</td>\n",
       "      <td>20.039689</td>\n",
       "      <td>-450.263164</td>\n",
       "      <td>14.077881</td>\n",
       "      <td>-449.660997</td>\n",
       "      <td>11.962366</td>\n",
       "      <td>-498.767484</td>\n",
       "      <td>8.096893</td>\n",
       "      <td>-500.827423</td>\n",
       "      <td>8.071056</td>\n",
       "      <td>-500.801673</td>\n",
       "      <td>4.905125</td>\n",
       "      <td>-499.828510</td>\n",
       "      <td>24.994862</td>\n",
       "      <td>-500.622559</td>\n",
       "    </tr>\n",
       "    <tr>\n",
       "      <th>3</th>\n",
       "      <td>2016-09-01 03:59:59</td>\n",
       "      <td>215.336236</td>\n",
       "      <td>12.006805</td>\n",
       "      <td>7.640000</td>\n",
       "      <td>0.863514</td>\n",
       "      <td>1399.618111</td>\n",
       "      <td>-498.863574</td>\n",
       "      <td>1397.440120</td>\n",
       "      <td>-499.211024</td>\n",
       "      <td>1400.129303</td>\n",
       "      <td>-498.355873</td>\n",
       "      <td>1401.065165</td>\n",
       "      <td>-501.038738</td>\n",
       "      <td>12.400507</td>\n",
       "      <td>5.114758</td>\n",
       "      <td>476.618130</td>\n",
       "      <td>59.865919</td>\n",
       "      <td>41.060195</td>\n",
       "      <td>12.181597</td>\n",
       "      <td>16.532144</td>\n",
       "      <td>5.801935</td>\n",
       "      <td>16.515277</td>\n",
       "      <td>5.803657</td>\n",
       "      <td>1000.276604</td>\n",
       "      <td>-350.172597</td>\n",
       "      <td>1251.322675</td>\n",
       "      <td>-398.655289</td>\n",
       "      <td>1250.493702</td>\n",
       "      <td>-399.746728</td>\n",
       "      <td>1199.398691</td>\n",
       "      <td>-397.503052</td>\n",
       "      <td>1001.930679</td>\n",
       "      <td>-400.437573</td>\n",
       "      <td>950.735324</td>\n",
       "      <td>-399.802986</td>\n",
       "      <td>24.893998</td>\n",
       "      <td>-499.382374</td>\n",
       "      <td>14.916674</td>\n",
       "      <td>-499.862299</td>\n",
       "      <td>20.031100</td>\n",
       "      <td>-449.372570</td>\n",
       "      <td>14.013968</td>\n",
       "      <td>-449.526900</td>\n",
       "      <td>12.033091</td>\n",
       "      <td>-498.350935</td>\n",
       "      <td>8.074946</td>\n",
       "      <td>-499.474407</td>\n",
       "      <td>7.897085</td>\n",
       "      <td>-500.868509</td>\n",
       "      <td>4.931400</td>\n",
       "      <td>-499.963623</td>\n",
       "      <td>24.948919</td>\n",
       "      <td>-498.709987</td>\n",
       "    </tr>\n",
       "    <tr>\n",
       "      <th>4</th>\n",
       "      <td>2016-09-01 04:59:59</td>\n",
       "      <td>199.099327</td>\n",
       "      <td>10.682530</td>\n",
       "      <td>7.530000</td>\n",
       "      <td>0.805575</td>\n",
       "      <td>1401.268123</td>\n",
       "      <td>-500.808305</td>\n",
       "      <td>1398.128818</td>\n",
       "      <td>-499.504543</td>\n",
       "      <td>1402.172226</td>\n",
       "      <td>-500.810606</td>\n",
       "      <td>1399.480508</td>\n",
       "      <td>-499.374053</td>\n",
       "      <td>11.327427</td>\n",
       "      <td>4.767383</td>\n",
       "      <td>488.248117</td>\n",
       "      <td>63.315324</td>\n",
       "      <td>41.269161</td>\n",
       "      <td>11.290425</td>\n",
       "      <td>13.607257</td>\n",
       "      <td>5.738081</td>\n",
       "      <td>13.650053</td>\n",
       "      <td>5.739634</td>\n",
       "      <td>996.541302</td>\n",
       "      <td>-350.562517</td>\n",
       "      <td>1304.658848</td>\n",
       "      <td>-399.511519</td>\n",
       "      <td>1306.455515</td>\n",
       "      <td>-399.050685</td>\n",
       "      <td>1248.699349</td>\n",
       "      <td>-400.876894</td>\n",
       "      <td>1058.839106</td>\n",
       "      <td>-398.988239</td>\n",
       "      <td>949.645313</td>\n",
       "      <td>-399.277632</td>\n",
       "      <td>24.886905</td>\n",
       "      <td>-499.357375</td>\n",
       "      <td>14.979233</td>\n",
       "      <td>-500.186804</td>\n",
       "      <td>19.962364</td>\n",
       "      <td>-450.638828</td>\n",
       "      <td>14.009245</td>\n",
       "      <td>-450.022259</td>\n",
       "      <td>12.025367</td>\n",
       "      <td>-500.786497</td>\n",
       "      <td>8.054678</td>\n",
       "      <td>-500.397500</td>\n",
       "      <td>8.107890</td>\n",
       "      <td>-509.526725</td>\n",
       "      <td>4.957674</td>\n",
       "      <td>-500.360026</td>\n",
       "      <td>25.003331</td>\n",
       "      <td>-500.856333</td>\n",
       "    </tr>\n",
       "  </tbody>\n",
       "</table>\n",
       "</div>"
      ],
      "text/plain": [
       "                  date  primary_cleaner.input.sulfate  \\\n",
       "0  2016-09-01 00:59:59                     210.800909   \n",
       "1  2016-09-01 01:59:59                     215.392455   \n",
       "2  2016-09-01 02:59:59                     215.259946   \n",
       "3  2016-09-01 03:59:59                     215.336236   \n",
       "4  2016-09-01 04:59:59                     199.099327   \n",
       "\n",
       "   primary_cleaner.input.depressant  primary_cleaner.input.feed_size  \\\n",
       "0                         14.993118                         8.080000   \n",
       "1                         14.987471                         8.080000   \n",
       "2                         12.884934                         7.786667   \n",
       "3                         12.006805                         7.640000   \n",
       "4                         10.682530                         7.530000   \n",
       "\n",
       "   primary_cleaner.input.xanthate  primary_cleaner.state.floatbank8_a_air  \\\n",
       "0                        1.005021                             1398.981301   \n",
       "1                        0.990469                             1398.777912   \n",
       "2                        0.996043                             1398.493666   \n",
       "3                        0.863514                             1399.618111   \n",
       "4                        0.805575                             1401.268123   \n",
       "\n",
       "   primary_cleaner.state.floatbank8_a_level  \\\n",
       "0                               -500.225577   \n",
       "1                               -500.057435   \n",
       "2                               -500.868360   \n",
       "3                               -498.863574   \n",
       "4                               -500.808305   \n",
       "\n",
       "   primary_cleaner.state.floatbank8_b_air  \\\n",
       "0                             1399.144926   \n",
       "1                             1398.055362   \n",
       "2                             1398.860436   \n",
       "3                             1397.440120   \n",
       "4                             1398.128818   \n",
       "\n",
       "   primary_cleaner.state.floatbank8_b_level  \\\n",
       "0                               -499.919735   \n",
       "1                               -499.778182   \n",
       "2                               -499.764529   \n",
       "3                               -499.211024   \n",
       "4                               -499.504543   \n",
       "\n",
       "   primary_cleaner.state.floatbank8_c_air  \\\n",
       "0                             1400.102998   \n",
       "1                             1396.151033   \n",
       "2                             1398.075709   \n",
       "3                             1400.129303   \n",
       "4                             1402.172226   \n",
       "\n",
       "   primary_cleaner.state.floatbank8_c_level  \\\n",
       "0                               -500.704369   \n",
       "1                               -499.240168   \n",
       "2                               -502.151509   \n",
       "3                               -498.355873   \n",
       "4                               -500.810606   \n",
       "\n",
       "   primary_cleaner.state.floatbank8_d_air  \\\n",
       "0                             1399.001695   \n",
       "1                             1399.508091   \n",
       "2                             1399.497088   \n",
       "3                             1401.065165   \n",
       "4                             1399.480508   \n",
       "\n",
       "   primary_cleaner.state.floatbank8_d_level  rougher.input.feed_ag  \\\n",
       "0                               -499.485144              13.128569   \n",
       "1                               -500.416324              13.036280   \n",
       "2                               -499.715479              13.138412   \n",
       "3                               -501.038738              12.400507   \n",
       "4                               -499.374053              11.327427   \n",
       "\n",
       "   rougher.input.feed_pb  rougher.input.feed_rate  rougher.input.feed_size  \\\n",
       "0               5.636710               489.793655                62.710452   \n",
       "1               5.526065               490.104534                61.961163   \n",
       "2               5.426561               489.617969                66.903807   \n",
       "3               5.114758               476.618130                59.865919   \n",
       "4               4.767383               488.248117                63.315324   \n",
       "\n",
       "   rougher.input.feed_sol  rougher.input.feed_au  \\\n",
       "0               42.022440              12.084103   \n",
       "1               41.187903              11.918977   \n",
       "2               42.546294              12.091332   \n",
       "3               41.060195              12.181597   \n",
       "4               41.269161              11.290425   \n",
       "\n",
       "   rougher.input.floatbank10_sulfate  rougher.input.floatbank10_xanthate  \\\n",
       "0                          16.922877                            6.153479   \n",
       "1                          17.002532                            5.999043   \n",
       "2                          16.992520                            5.850632   \n",
       "3                          16.532144                            5.801935   \n",
       "4                          13.607257                            5.738081   \n",
       "\n",
       "   rougher.input.floatbank11_sulfate  rougher.input.floatbank11_xanthate  \\\n",
       "0                          16.867518                            6.150709   \n",
       "1                          16.996063                            6.002315   \n",
       "2                          16.982096                            5.853594   \n",
       "3                          16.515277                            5.803657   \n",
       "4                          13.650053                            5.739634   \n",
       "\n",
       "   rougher.state.floatbank10_a_air  rougher.state.floatbank10_a_level  \\\n",
       "0                      1001.849317                        -350.301265   \n",
       "1                       998.690785                        -350.425704   \n",
       "2                       998.516720                        -349.783538   \n",
       "3                      1000.276604                        -350.172597   \n",
       "4                       996.541302                        -350.562517   \n",
       "\n",
       "   rougher.state.floatbank10_b_air  rougher.state.floatbank10_b_level  \\\n",
       "0                      1249.738612                        -399.107531   \n",
       "1                      1248.395457                        -399.946025   \n",
       "2                      1247.440748                        -400.264330   \n",
       "3                      1251.322675                        -398.655289   \n",
       "4                      1304.658848                        -399.511519   \n",
       "\n",
       "   rougher.state.floatbank10_c_air  rougher.state.floatbank10_c_level  \\\n",
       "0                      1249.750520                        -399.396730   \n",
       "1                      1249.514451                        -399.630810   \n",
       "2                      1248.207204                        -401.074405   \n",
       "3                      1250.493702                        -399.746728   \n",
       "4                      1306.455515                        -399.050685   \n",
       "\n",
       "   rougher.state.floatbank10_d_air  rougher.state.floatbank10_d_level  \\\n",
       "0                      1198.287855                        -399.488594   \n",
       "1                      1200.506459                        -399.942434   \n",
       "2                      1199.770026                        -400.790582   \n",
       "3                      1199.398691                        -397.503052   \n",
       "4                      1248.699349                        -400.876894   \n",
       "\n",
       "   rougher.state.floatbank10_e_air  rougher.state.floatbank10_e_level  \\\n",
       "0                       999.472250                        -399.530962   \n",
       "1                      1000.002114                        -399.491528   \n",
       "2                       999.925519                        -399.236999   \n",
       "3                      1001.930679                        -400.437573   \n",
       "4                      1058.839106                        -398.988239   \n",
       "\n",
       "   rougher.state.floatbank10_f_air  rougher.state.floatbank10_f_level  \\\n",
       "0                       949.566189                        -398.180807   \n",
       "1                       950.200009                        -405.787514   \n",
       "2                       950.320481                        -400.864340   \n",
       "3                       950.735324                        -399.802986   \n",
       "4                       949.645313                        -399.277632   \n",
       "\n",
       "   secondary_cleaner.state.floatbank2_a_air  \\\n",
       "0                                 24.938200   \n",
       "1                                 24.923466   \n",
       "2                                 24.908732   \n",
       "3                                 24.893998   \n",
       "4                                 24.886905   \n",
       "\n",
       "   secondary_cleaner.state.floatbank2_a_level  \\\n",
       "0                                 -500.490963   \n",
       "1                                 -499.813963   \n",
       "2                                 -500.304035   \n",
       "3                                 -499.382374   \n",
       "4                                 -499.357375   \n",
       "\n",
       "   secondary_cleaner.state.floatbank2_b_air  \\\n",
       "0                                 14.947607   \n",
       "1                                 14.930873   \n",
       "2                                 14.996511   \n",
       "3                                 14.916674   \n",
       "4                                 14.979233   \n",
       "\n",
       "   secondary_cleaner.state.floatbank2_b_level  \\\n",
       "0                                 -500.013837   \n",
       "1                                 -500.764452   \n",
       "2                                 -500.993821   \n",
       "3                                 -499.862299   \n",
       "4                                 -500.186804   \n",
       "\n",
       "   secondary_cleaner.state.floatbank3_a_air  \\\n",
       "0                                 20.018166   \n",
       "1                                 19.988503   \n",
       "2                                 20.039689   \n",
       "3                                 20.031100   \n",
       "4                                 19.962364   \n",
       "\n",
       "   secondary_cleaner.state.floatbank3_a_level  \\\n",
       "0                                 -450.395995   \n",
       "1                                 -450.114024   \n",
       "2                                 -450.263164   \n",
       "3                                 -449.372570   \n",
       "4                                 -450.638828   \n",
       "\n",
       "   secondary_cleaner.state.floatbank3_b_air  \\\n",
       "0                                 13.987058   \n",
       "1                                 14.092981   \n",
       "2                                 14.077881   \n",
       "3                                 14.013968   \n",
       "4                                 14.009245   \n",
       "\n",
       "   secondary_cleaner.state.floatbank3_b_level  \\\n",
       "0                                 -449.831513   \n",
       "1                                 -450.059163   \n",
       "2                                 -449.660997   \n",
       "3                                 -449.526900   \n",
       "4                                 -450.022259   \n",
       "\n",
       "   secondary_cleaner.state.floatbank4_a_air  \\\n",
       "0                                 12.023554   \n",
       "1                                 12.058140   \n",
       "2                                 11.962366   \n",
       "3                                 12.033091   \n",
       "4                                 12.025367   \n",
       "\n",
       "   secondary_cleaner.state.floatbank4_a_level  \\\n",
       "0                                 -497.795834   \n",
       "1                                 -498.695773   \n",
       "2                                 -498.767484   \n",
       "3                                 -498.350935   \n",
       "4                                 -500.786497   \n",
       "\n",
       "   secondary_cleaner.state.floatbank4_b_air  \\\n",
       "0                                  8.016656   \n",
       "1                                  8.130979   \n",
       "2                                  8.096893   \n",
       "3                                  8.074946   \n",
       "4                                  8.054678   \n",
       "\n",
       "   secondary_cleaner.state.floatbank4_b_level  \\\n",
       "0                                 -501.289139   \n",
       "1                                 -499.634209   \n",
       "2                                 -500.827423   \n",
       "3                                 -499.474407   \n",
       "4                                 -500.397500   \n",
       "\n",
       "   secondary_cleaner.state.floatbank5_a_air  \\\n",
       "0                                  7.946562   \n",
       "1                                  7.958270   \n",
       "2                                  8.071056   \n",
       "3                                  7.897085   \n",
       "4                                  8.107890   \n",
       "\n",
       "   secondary_cleaner.state.floatbank5_a_level  \\\n",
       "0                                 -432.317850   \n",
       "1                                 -525.839648   \n",
       "2                                 -500.801673   \n",
       "3                                 -500.868509   \n",
       "4                                 -509.526725   \n",
       "\n",
       "   secondary_cleaner.state.floatbank5_b_air  \\\n",
       "0                                  4.872511   \n",
       "1                                  4.878850   \n",
       "2                                  4.905125   \n",
       "3                                  4.931400   \n",
       "4                                  4.957674   \n",
       "\n",
       "   secondary_cleaner.state.floatbank5_b_level  \\\n",
       "0                                 -500.037437   \n",
       "1                                 -500.162375   \n",
       "2                                 -499.828510   \n",
       "3                                 -499.963623   \n",
       "4                                 -500.360026   \n",
       "\n",
       "   secondary_cleaner.state.floatbank6_a_air  \\\n",
       "0                                 26.705889   \n",
       "1                                 25.019940   \n",
       "2                                 24.994862   \n",
       "3                                 24.948919   \n",
       "4                                 25.003331   \n",
       "\n",
       "   secondary_cleaner.state.floatbank6_a_level  \n",
       "0                                 -499.709414  \n",
       "1                                 -499.819438  \n",
       "2                                 -500.622559  \n",
       "3                                 -498.709987  \n",
       "4                                 -500.856333  "
      ]
     },
     "execution_count": 4,
     "metadata": {},
     "output_type": "execute_result"
    }
   ],
   "source": [
    "gold_test.head()"
   ]
  },
  {
   "cell_type": "code",
   "execution_count": 5,
   "metadata": {},
   "outputs": [
    {
     "data": {
      "text/html": [
       "<div>\n",
       "<style scoped>\n",
       "    .dataframe tbody tr th:only-of-type {\n",
       "        vertical-align: middle;\n",
       "    }\n",
       "\n",
       "    .dataframe tbody tr th {\n",
       "        vertical-align: top;\n",
       "    }\n",
       "\n",
       "    .dataframe thead th {\n",
       "        text-align: right;\n",
       "    }\n",
       "</style>\n",
       "<table border=\"1\" class=\"dataframe\">\n",
       "  <thead>\n",
       "    <tr style=\"text-align: right;\">\n",
       "      <th></th>\n",
       "      <th>date</th>\n",
       "      <th>final.output.concentrate_ag</th>\n",
       "      <th>final.output.concentrate_pb</th>\n",
       "      <th>final.output.concentrate_sol</th>\n",
       "      <th>final.output.concentrate_au</th>\n",
       "      <th>final.output.recovery</th>\n",
       "      <th>final.output.tail_ag</th>\n",
       "      <th>final.output.tail_pb</th>\n",
       "      <th>final.output.tail_sol</th>\n",
       "      <th>final.output.tail_au</th>\n",
       "      <th>primary_cleaner.input.sulfate</th>\n",
       "      <th>primary_cleaner.input.depressant</th>\n",
       "      <th>primary_cleaner.input.feed_size</th>\n",
       "      <th>primary_cleaner.input.xanthate</th>\n",
       "      <th>primary_cleaner.output.concentrate_ag</th>\n",
       "      <th>primary_cleaner.output.concentrate_pb</th>\n",
       "      <th>primary_cleaner.output.concentrate_sol</th>\n",
       "      <th>primary_cleaner.output.concentrate_au</th>\n",
       "      <th>primary_cleaner.output.tail_ag</th>\n",
       "      <th>primary_cleaner.output.tail_pb</th>\n",
       "      <th>primary_cleaner.output.tail_sol</th>\n",
       "      <th>primary_cleaner.output.tail_au</th>\n",
       "      <th>primary_cleaner.state.floatbank8_a_air</th>\n",
       "      <th>primary_cleaner.state.floatbank8_a_level</th>\n",
       "      <th>primary_cleaner.state.floatbank8_b_air</th>\n",
       "      <th>primary_cleaner.state.floatbank8_b_level</th>\n",
       "      <th>primary_cleaner.state.floatbank8_c_air</th>\n",
       "      <th>primary_cleaner.state.floatbank8_c_level</th>\n",
       "      <th>primary_cleaner.state.floatbank8_d_air</th>\n",
       "      <th>primary_cleaner.state.floatbank8_d_level</th>\n",
       "      <th>rougher.calculation.sulfate_to_au_concentrate</th>\n",
       "      <th>rougher.calculation.floatbank10_sulfate_to_au_feed</th>\n",
       "      <th>rougher.calculation.floatbank11_sulfate_to_au_feed</th>\n",
       "      <th>rougher.calculation.au_pb_ratio</th>\n",
       "      <th>rougher.input.feed_ag</th>\n",
       "      <th>rougher.input.feed_pb</th>\n",
       "      <th>rougher.input.feed_rate</th>\n",
       "      <th>rougher.input.feed_size</th>\n",
       "      <th>rougher.input.feed_sol</th>\n",
       "      <th>rougher.input.feed_au</th>\n",
       "      <th>rougher.input.floatbank10_sulfate</th>\n",
       "      <th>rougher.input.floatbank10_xanthate</th>\n",
       "      <th>rougher.input.floatbank11_sulfate</th>\n",
       "      <th>rougher.input.floatbank11_xanthate</th>\n",
       "      <th>rougher.output.concentrate_ag</th>\n",
       "      <th>rougher.output.concentrate_pb</th>\n",
       "      <th>rougher.output.concentrate_sol</th>\n",
       "      <th>rougher.output.concentrate_au</th>\n",
       "      <th>rougher.output.recovery</th>\n",
       "      <th>rougher.output.tail_ag</th>\n",
       "      <th>rougher.output.tail_pb</th>\n",
       "      <th>rougher.output.tail_sol</th>\n",
       "      <th>rougher.output.tail_au</th>\n",
       "      <th>rougher.state.floatbank10_a_air</th>\n",
       "      <th>rougher.state.floatbank10_a_level</th>\n",
       "      <th>rougher.state.floatbank10_b_air</th>\n",
       "      <th>rougher.state.floatbank10_b_level</th>\n",
       "      <th>rougher.state.floatbank10_c_air</th>\n",
       "      <th>rougher.state.floatbank10_c_level</th>\n",
       "      <th>rougher.state.floatbank10_d_air</th>\n",
       "      <th>rougher.state.floatbank10_d_level</th>\n",
       "      <th>rougher.state.floatbank10_e_air</th>\n",
       "      <th>rougher.state.floatbank10_e_level</th>\n",
       "      <th>rougher.state.floatbank10_f_air</th>\n",
       "      <th>rougher.state.floatbank10_f_level</th>\n",
       "      <th>secondary_cleaner.output.tail_ag</th>\n",
       "      <th>secondary_cleaner.output.tail_pb</th>\n",
       "      <th>secondary_cleaner.output.tail_sol</th>\n",
       "      <th>secondary_cleaner.output.tail_au</th>\n",
       "      <th>secondary_cleaner.state.floatbank2_a_air</th>\n",
       "      <th>secondary_cleaner.state.floatbank2_a_level</th>\n",
       "      <th>secondary_cleaner.state.floatbank2_b_air</th>\n",
       "      <th>secondary_cleaner.state.floatbank2_b_level</th>\n",
       "      <th>secondary_cleaner.state.floatbank3_a_air</th>\n",
       "      <th>secondary_cleaner.state.floatbank3_a_level</th>\n",
       "      <th>secondary_cleaner.state.floatbank3_b_air</th>\n",
       "      <th>secondary_cleaner.state.floatbank3_b_level</th>\n",
       "      <th>secondary_cleaner.state.floatbank4_a_air</th>\n",
       "      <th>secondary_cleaner.state.floatbank4_a_level</th>\n",
       "      <th>secondary_cleaner.state.floatbank4_b_air</th>\n",
       "      <th>secondary_cleaner.state.floatbank4_b_level</th>\n",
       "      <th>secondary_cleaner.state.floatbank5_a_air</th>\n",
       "      <th>secondary_cleaner.state.floatbank5_a_level</th>\n",
       "      <th>secondary_cleaner.state.floatbank5_b_air</th>\n",
       "      <th>secondary_cleaner.state.floatbank5_b_level</th>\n",
       "      <th>secondary_cleaner.state.floatbank6_a_air</th>\n",
       "      <th>secondary_cleaner.state.floatbank6_a_level</th>\n",
       "    </tr>\n",
       "  </thead>\n",
       "  <tbody>\n",
       "    <tr>\n",
       "      <th>0</th>\n",
       "      <td>2016-01-15 00:00:00</td>\n",
       "      <td>6.055403</td>\n",
       "      <td>9.889648</td>\n",
       "      <td>5.507324</td>\n",
       "      <td>42.192020</td>\n",
       "      <td>70.541216</td>\n",
       "      <td>10.411962</td>\n",
       "      <td>0.895447</td>\n",
       "      <td>16.904297</td>\n",
       "      <td>2.143149</td>\n",
       "      <td>127.092003</td>\n",
       "      <td>10.128295</td>\n",
       "      <td>7.25</td>\n",
       "      <td>0.988759</td>\n",
       "      <td>8.547551</td>\n",
       "      <td>10.389648</td>\n",
       "      <td>19.529297</td>\n",
       "      <td>34.174427</td>\n",
       "      <td>14.936526</td>\n",
       "      <td>2.534912</td>\n",
       "      <td>7.476074</td>\n",
       "      <td>2.106679</td>\n",
       "      <td>1549.775757</td>\n",
       "      <td>-498.912140</td>\n",
       "      <td>1551.434204</td>\n",
       "      <td>-516.403442</td>\n",
       "      <td>1549.873901</td>\n",
       "      <td>-498.666595</td>\n",
       "      <td>1554.367432</td>\n",
       "      <td>-493.428131</td>\n",
       "      <td>41885.707031</td>\n",
       "      <td>3481.779053</td>\n",
       "      <td>3520.337158</td>\n",
       "      <td>2.838687</td>\n",
       "      <td>6.100378</td>\n",
       "      <td>2.284912</td>\n",
       "      <td>523.546326</td>\n",
       "      <td>55.486599</td>\n",
       "      <td>36.808594</td>\n",
       "      <td>6.486150</td>\n",
       "      <td>11.986616</td>\n",
       "      <td>6.007990</td>\n",
       "      <td>11.836743</td>\n",
       "      <td>6.005818</td>\n",
       "      <td>11.500771</td>\n",
       "      <td>7.101074</td>\n",
       "      <td>28.029297</td>\n",
       "      <td>19.793808</td>\n",
       "      <td>87.107763</td>\n",
       "      <td>5.008018</td>\n",
       "      <td>0.508728</td>\n",
       "      <td>19.154297</td>\n",
       "      <td>1.170244</td>\n",
       "      <td>999.706909</td>\n",
       "      <td>-404.066986</td>\n",
       "      <td>1603.011353</td>\n",
       "      <td>-434.715027</td>\n",
       "      <td>1602.375000</td>\n",
       "      <td>-442.204468</td>\n",
       "      <td>1598.937256</td>\n",
       "      <td>-451.294128</td>\n",
       "      <td>1404.472046</td>\n",
       "      <td>-455.462982</td>\n",
       "      <td>1416.354980</td>\n",
       "      <td>-451.939636</td>\n",
       "      <td>14.500184</td>\n",
       "      <td>4.694824</td>\n",
       "      <td>8.764648</td>\n",
       "      <td>2.606185</td>\n",
       "      <td>25.853109</td>\n",
       "      <td>-498.526489</td>\n",
       "      <td>23.893660</td>\n",
       "      <td>-501.406281</td>\n",
       "      <td>23.961798</td>\n",
       "      <td>-495.262817</td>\n",
       "      <td>21.940409</td>\n",
       "      <td>-499.340973</td>\n",
       "      <td>14.016835</td>\n",
       "      <td>-502.488007</td>\n",
       "      <td>12.099931</td>\n",
       "      <td>-504.715942</td>\n",
       "      <td>9.925633</td>\n",
       "      <td>-498.310211</td>\n",
       "      <td>8.079666</td>\n",
       "      <td>-500.470978</td>\n",
       "      <td>14.151341</td>\n",
       "      <td>-605.841980</td>\n",
       "    </tr>\n",
       "    <tr>\n",
       "      <th>1</th>\n",
       "      <td>2016-01-15 01:00:00</td>\n",
       "      <td>6.029369</td>\n",
       "      <td>9.968944</td>\n",
       "      <td>5.257781</td>\n",
       "      <td>42.701629</td>\n",
       "      <td>69.266198</td>\n",
       "      <td>10.462676</td>\n",
       "      <td>0.927452</td>\n",
       "      <td>16.634514</td>\n",
       "      <td>2.224930</td>\n",
       "      <td>125.629232</td>\n",
       "      <td>10.296251</td>\n",
       "      <td>7.25</td>\n",
       "      <td>1.002663</td>\n",
       "      <td>8.558743</td>\n",
       "      <td>10.497069</td>\n",
       "      <td>19.369147</td>\n",
       "      <td>34.118526</td>\n",
       "      <td>16.250511</td>\n",
       "      <td>3.049646</td>\n",
       "      <td>6.733907</td>\n",
       "      <td>2.353017</td>\n",
       "      <td>1576.166671</td>\n",
       "      <td>-500.904965</td>\n",
       "      <td>1575.950626</td>\n",
       "      <td>-499.865889</td>\n",
       "      <td>1575.994189</td>\n",
       "      <td>-499.315107</td>\n",
       "      <td>1574.479259</td>\n",
       "      <td>-498.931665</td>\n",
       "      <td>42050.861809</td>\n",
       "      <td>3498.370979</td>\n",
       "      <td>3489.981857</td>\n",
       "      <td>2.858998</td>\n",
       "      <td>6.161113</td>\n",
       "      <td>2.266033</td>\n",
       "      <td>525.290581</td>\n",
       "      <td>57.278666</td>\n",
       "      <td>35.753385</td>\n",
       "      <td>6.478583</td>\n",
       "      <td>11.971193</td>\n",
       "      <td>6.005766</td>\n",
       "      <td>11.996163</td>\n",
       "      <td>6.012594</td>\n",
       "      <td>11.615865</td>\n",
       "      <td>7.278807</td>\n",
       "      <td>28.067063</td>\n",
       "      <td>20.050975</td>\n",
       "      <td>86.843261</td>\n",
       "      <td>4.955378</td>\n",
       "      <td>0.536689</td>\n",
       "      <td>18.965234</td>\n",
       "      <td>1.184827</td>\n",
       "      <td>1000.286398</td>\n",
       "      <td>-400.065196</td>\n",
       "      <td>1600.754587</td>\n",
       "      <td>-449.953435</td>\n",
       "      <td>1600.479580</td>\n",
       "      <td>-449.830646</td>\n",
       "      <td>1600.527589</td>\n",
       "      <td>-449.953649</td>\n",
       "      <td>1399.227084</td>\n",
       "      <td>-450.869848</td>\n",
       "      <td>1399.719514</td>\n",
       "      <td>-450.119001</td>\n",
       "      <td>14.265474</td>\n",
       "      <td>4.592547</td>\n",
       "      <td>9.001494</td>\n",
       "      <td>2.488248</td>\n",
       "      <td>25.880539</td>\n",
       "      <td>-499.989656</td>\n",
       "      <td>23.889530</td>\n",
       "      <td>-500.372428</td>\n",
       "      <td>23.970550</td>\n",
       "      <td>-500.085473</td>\n",
       "      <td>22.085714</td>\n",
       "      <td>-499.446897</td>\n",
       "      <td>13.992281</td>\n",
       "      <td>-505.503262</td>\n",
       "      <td>11.950531</td>\n",
       "      <td>-501.331529</td>\n",
       "      <td>10.039245</td>\n",
       "      <td>-500.169983</td>\n",
       "      <td>7.984757</td>\n",
       "      <td>-500.582168</td>\n",
       "      <td>13.998353</td>\n",
       "      <td>-599.787184</td>\n",
       "    </tr>\n",
       "    <tr>\n",
       "      <th>2</th>\n",
       "      <td>2016-01-15 02:00:00</td>\n",
       "      <td>6.055926</td>\n",
       "      <td>10.213995</td>\n",
       "      <td>5.383759</td>\n",
       "      <td>42.657501</td>\n",
       "      <td>68.116445</td>\n",
       "      <td>10.507046</td>\n",
       "      <td>0.953716</td>\n",
       "      <td>16.208849</td>\n",
       "      <td>2.257889</td>\n",
       "      <td>123.819808</td>\n",
       "      <td>11.316280</td>\n",
       "      <td>7.25</td>\n",
       "      <td>0.991265</td>\n",
       "      <td>8.603505</td>\n",
       "      <td>10.354494</td>\n",
       "      <td>19.167579</td>\n",
       "      <td>33.969464</td>\n",
       "      <td>16.491823</td>\n",
       "      <td>3.124664</td>\n",
       "      <td>6.471768</td>\n",
       "      <td>2.416800</td>\n",
       "      <td>1601.556163</td>\n",
       "      <td>-499.997791</td>\n",
       "      <td>1600.386685</td>\n",
       "      <td>-500.607762</td>\n",
       "      <td>1602.003542</td>\n",
       "      <td>-500.870069</td>\n",
       "      <td>1599.541515</td>\n",
       "      <td>-499.827444</td>\n",
       "      <td>42018.101184</td>\n",
       "      <td>3495.348910</td>\n",
       "      <td>3502.359819</td>\n",
       "      <td>2.945989</td>\n",
       "      <td>6.116455</td>\n",
       "      <td>2.159622</td>\n",
       "      <td>530.026610</td>\n",
       "      <td>57.510649</td>\n",
       "      <td>35.971630</td>\n",
       "      <td>6.362222</td>\n",
       "      <td>11.920603</td>\n",
       "      <td>6.197377</td>\n",
       "      <td>11.920305</td>\n",
       "      <td>6.204633</td>\n",
       "      <td>11.695753</td>\n",
       "      <td>7.216833</td>\n",
       "      <td>27.454037</td>\n",
       "      <td>19.737170</td>\n",
       "      <td>86.842308</td>\n",
       "      <td>4.843460</td>\n",
       "      <td>0.546416</td>\n",
       "      <td>18.808533</td>\n",
       "      <td>1.162562</td>\n",
       "      <td>999.719565</td>\n",
       "      <td>-400.074028</td>\n",
       "      <td>1599.337330</td>\n",
       "      <td>-450.008530</td>\n",
       "      <td>1599.672797</td>\n",
       "      <td>-449.954491</td>\n",
       "      <td>1599.849325</td>\n",
       "      <td>-449.954185</td>\n",
       "      <td>1399.180945</td>\n",
       "      <td>-449.937588</td>\n",
       "      <td>1400.316682</td>\n",
       "      <td>-450.527147</td>\n",
       "      <td>14.115662</td>\n",
       "      <td>4.624775</td>\n",
       "      <td>8.842896</td>\n",
       "      <td>2.458187</td>\n",
       "      <td>26.005245</td>\n",
       "      <td>-499.929616</td>\n",
       "      <td>23.886657</td>\n",
       "      <td>-499.951928</td>\n",
       "      <td>23.913535</td>\n",
       "      <td>-499.442343</td>\n",
       "      <td>23.957717</td>\n",
       "      <td>-499.901982</td>\n",
       "      <td>14.015015</td>\n",
       "      <td>-502.520901</td>\n",
       "      <td>11.912783</td>\n",
       "      <td>-501.133383</td>\n",
       "      <td>10.070913</td>\n",
       "      <td>-500.129135</td>\n",
       "      <td>8.013877</td>\n",
       "      <td>-500.517572</td>\n",
       "      <td>14.028663</td>\n",
       "      <td>-601.427363</td>\n",
       "    </tr>\n",
       "    <tr>\n",
       "      <th>3</th>\n",
       "      <td>2016-01-15 03:00:00</td>\n",
       "      <td>6.047977</td>\n",
       "      <td>9.977019</td>\n",
       "      <td>4.858634</td>\n",
       "      <td>42.689819</td>\n",
       "      <td>68.347543</td>\n",
       "      <td>10.422762</td>\n",
       "      <td>0.883763</td>\n",
       "      <td>16.532835</td>\n",
       "      <td>2.146849</td>\n",
       "      <td>122.270188</td>\n",
       "      <td>11.322140</td>\n",
       "      <td>7.25</td>\n",
       "      <td>0.996739</td>\n",
       "      <td>7.221879</td>\n",
       "      <td>8.496563</td>\n",
       "      <td>15.978538</td>\n",
       "      <td>28.260743</td>\n",
       "      <td>16.024359</td>\n",
       "      <td>2.960362</td>\n",
       "      <td>6.843791</td>\n",
       "      <td>2.262051</td>\n",
       "      <td>1599.968720</td>\n",
       "      <td>-500.951778</td>\n",
       "      <td>1600.659236</td>\n",
       "      <td>-499.677094</td>\n",
       "      <td>1600.304144</td>\n",
       "      <td>-500.727997</td>\n",
       "      <td>1600.449520</td>\n",
       "      <td>-500.052575</td>\n",
       "      <td>42029.447991</td>\n",
       "      <td>3498.578313</td>\n",
       "      <td>3499.162912</td>\n",
       "      <td>3.002340</td>\n",
       "      <td>6.043309</td>\n",
       "      <td>2.037807</td>\n",
       "      <td>542.590390</td>\n",
       "      <td>57.792734</td>\n",
       "      <td>36.862241</td>\n",
       "      <td>6.118189</td>\n",
       "      <td>11.630094</td>\n",
       "      <td>6.203177</td>\n",
       "      <td>11.692450</td>\n",
       "      <td>6.196578</td>\n",
       "      <td>11.915047</td>\n",
       "      <td>7.175616</td>\n",
       "      <td>27.341277</td>\n",
       "      <td>19.320810</td>\n",
       "      <td>87.226430</td>\n",
       "      <td>4.655288</td>\n",
       "      <td>0.542525</td>\n",
       "      <td>19.330200</td>\n",
       "      <td>1.079755</td>\n",
       "      <td>999.814770</td>\n",
       "      <td>-400.200179</td>\n",
       "      <td>1600.059442</td>\n",
       "      <td>-450.619948</td>\n",
       "      <td>1600.012842</td>\n",
       "      <td>-449.910497</td>\n",
       "      <td>1597.725177</td>\n",
       "      <td>-450.130127</td>\n",
       "      <td>1400.943157</td>\n",
       "      <td>-450.030142</td>\n",
       "      <td>1400.234743</td>\n",
       "      <td>-449.790835</td>\n",
       "      <td>13.732071</td>\n",
       "      <td>4.482453</td>\n",
       "      <td>9.122857</td>\n",
       "      <td>2.322062</td>\n",
       "      <td>25.942508</td>\n",
       "      <td>-499.176749</td>\n",
       "      <td>23.955516</td>\n",
       "      <td>-499.848796</td>\n",
       "      <td>23.966838</td>\n",
       "      <td>-500.008812</td>\n",
       "      <td>23.954443</td>\n",
       "      <td>-499.944710</td>\n",
       "      <td>14.036510</td>\n",
       "      <td>-500.857308</td>\n",
       "      <td>11.999550</td>\n",
       "      <td>-501.193686</td>\n",
       "      <td>9.970366</td>\n",
       "      <td>-499.201640</td>\n",
       "      <td>7.977324</td>\n",
       "      <td>-500.255908</td>\n",
       "      <td>14.005551</td>\n",
       "      <td>-599.996129</td>\n",
       "    </tr>\n",
       "    <tr>\n",
       "      <th>4</th>\n",
       "      <td>2016-01-15 04:00:00</td>\n",
       "      <td>6.148599</td>\n",
       "      <td>10.142511</td>\n",
       "      <td>4.939416</td>\n",
       "      <td>42.774141</td>\n",
       "      <td>66.927016</td>\n",
       "      <td>10.360302</td>\n",
       "      <td>0.792826</td>\n",
       "      <td>16.525686</td>\n",
       "      <td>2.055292</td>\n",
       "      <td>117.988169</td>\n",
       "      <td>11.913613</td>\n",
       "      <td>7.25</td>\n",
       "      <td>1.009869</td>\n",
       "      <td>9.089428</td>\n",
       "      <td>9.986786</td>\n",
       "      <td>19.199864</td>\n",
       "      <td>33.044932</td>\n",
       "      <td>16.480185</td>\n",
       "      <td>3.112100</td>\n",
       "      <td>6.550154</td>\n",
       "      <td>2.277073</td>\n",
       "      <td>1601.339707</td>\n",
       "      <td>-498.975456</td>\n",
       "      <td>1601.437854</td>\n",
       "      <td>-500.323246</td>\n",
       "      <td>1599.581894</td>\n",
       "      <td>-500.888152</td>\n",
       "      <td>1602.649541</td>\n",
       "      <td>-500.593010</td>\n",
       "      <td>42125.354245</td>\n",
       "      <td>3494.800771</td>\n",
       "      <td>3506.679315</td>\n",
       "      <td>3.169615</td>\n",
       "      <td>6.060915</td>\n",
       "      <td>1.786875</td>\n",
       "      <td>540.531893</td>\n",
       "      <td>56.047189</td>\n",
       "      <td>34.347666</td>\n",
       "      <td>5.663707</td>\n",
       "      <td>10.957755</td>\n",
       "      <td>6.198826</td>\n",
       "      <td>10.960521</td>\n",
       "      <td>6.194897</td>\n",
       "      <td>12.411054</td>\n",
       "      <td>7.240205</td>\n",
       "      <td>27.041023</td>\n",
       "      <td>19.216101</td>\n",
       "      <td>86.688794</td>\n",
       "      <td>4.552800</td>\n",
       "      <td>0.515438</td>\n",
       "      <td>19.267422</td>\n",
       "      <td>1.012642</td>\n",
       "      <td>999.678690</td>\n",
       "      <td>-399.752729</td>\n",
       "      <td>1600.208824</td>\n",
       "      <td>-449.599614</td>\n",
       "      <td>1600.357732</td>\n",
       "      <td>-450.034364</td>\n",
       "      <td>1599.759049</td>\n",
       "      <td>-449.909799</td>\n",
       "      <td>1401.560902</td>\n",
       "      <td>-448.877187</td>\n",
       "      <td>1401.160227</td>\n",
       "      <td>-450.407128</td>\n",
       "      <td>14.079996</td>\n",
       "      <td>4.470737</td>\n",
       "      <td>8.871028</td>\n",
       "      <td>2.330448</td>\n",
       "      <td>26.024787</td>\n",
       "      <td>-500.279091</td>\n",
       "      <td>23.955345</td>\n",
       "      <td>-500.593614</td>\n",
       "      <td>23.985703</td>\n",
       "      <td>-500.083811</td>\n",
       "      <td>23.958945</td>\n",
       "      <td>-499.990309</td>\n",
       "      <td>14.027298</td>\n",
       "      <td>-499.838632</td>\n",
       "      <td>11.953070</td>\n",
       "      <td>-501.053894</td>\n",
       "      <td>9.925709</td>\n",
       "      <td>-501.686727</td>\n",
       "      <td>7.894242</td>\n",
       "      <td>-500.356035</td>\n",
       "      <td>13.996647</td>\n",
       "      <td>-601.496691</td>\n",
       "    </tr>\n",
       "  </tbody>\n",
       "</table>\n",
       "</div>"
      ],
      "text/plain": [
       "                  date  final.output.concentrate_ag  \\\n",
       "0  2016-01-15 00:00:00                     6.055403   \n",
       "1  2016-01-15 01:00:00                     6.029369   \n",
       "2  2016-01-15 02:00:00                     6.055926   \n",
       "3  2016-01-15 03:00:00                     6.047977   \n",
       "4  2016-01-15 04:00:00                     6.148599   \n",
       "\n",
       "   final.output.concentrate_pb  final.output.concentrate_sol  \\\n",
       "0                     9.889648                      5.507324   \n",
       "1                     9.968944                      5.257781   \n",
       "2                    10.213995                      5.383759   \n",
       "3                     9.977019                      4.858634   \n",
       "4                    10.142511                      4.939416   \n",
       "\n",
       "   final.output.concentrate_au  final.output.recovery  final.output.tail_ag  \\\n",
       "0                    42.192020              70.541216             10.411962   \n",
       "1                    42.701629              69.266198             10.462676   \n",
       "2                    42.657501              68.116445             10.507046   \n",
       "3                    42.689819              68.347543             10.422762   \n",
       "4                    42.774141              66.927016             10.360302   \n",
       "\n",
       "   final.output.tail_pb  final.output.tail_sol  final.output.tail_au  \\\n",
       "0              0.895447              16.904297              2.143149   \n",
       "1              0.927452              16.634514              2.224930   \n",
       "2              0.953716              16.208849              2.257889   \n",
       "3              0.883763              16.532835              2.146849   \n",
       "4              0.792826              16.525686              2.055292   \n",
       "\n",
       "   primary_cleaner.input.sulfate  primary_cleaner.input.depressant  \\\n",
       "0                     127.092003                         10.128295   \n",
       "1                     125.629232                         10.296251   \n",
       "2                     123.819808                         11.316280   \n",
       "3                     122.270188                         11.322140   \n",
       "4                     117.988169                         11.913613   \n",
       "\n",
       "   primary_cleaner.input.feed_size  primary_cleaner.input.xanthate  \\\n",
       "0                             7.25                        0.988759   \n",
       "1                             7.25                        1.002663   \n",
       "2                             7.25                        0.991265   \n",
       "3                             7.25                        0.996739   \n",
       "4                             7.25                        1.009869   \n",
       "\n",
       "   primary_cleaner.output.concentrate_ag  \\\n",
       "0                               8.547551   \n",
       "1                               8.558743   \n",
       "2                               8.603505   \n",
       "3                               7.221879   \n",
       "4                               9.089428   \n",
       "\n",
       "   primary_cleaner.output.concentrate_pb  \\\n",
       "0                              10.389648   \n",
       "1                              10.497069   \n",
       "2                              10.354494   \n",
       "3                               8.496563   \n",
       "4                               9.986786   \n",
       "\n",
       "   primary_cleaner.output.concentrate_sol  \\\n",
       "0                               19.529297   \n",
       "1                               19.369147   \n",
       "2                               19.167579   \n",
       "3                               15.978538   \n",
       "4                               19.199864   \n",
       "\n",
       "   primary_cleaner.output.concentrate_au  primary_cleaner.output.tail_ag  \\\n",
       "0                              34.174427                       14.936526   \n",
       "1                              34.118526                       16.250511   \n",
       "2                              33.969464                       16.491823   \n",
       "3                              28.260743                       16.024359   \n",
       "4                              33.044932                       16.480185   \n",
       "\n",
       "   primary_cleaner.output.tail_pb  primary_cleaner.output.tail_sol  \\\n",
       "0                        2.534912                         7.476074   \n",
       "1                        3.049646                         6.733907   \n",
       "2                        3.124664                         6.471768   \n",
       "3                        2.960362                         6.843791   \n",
       "4                        3.112100                         6.550154   \n",
       "\n",
       "   primary_cleaner.output.tail_au  primary_cleaner.state.floatbank8_a_air  \\\n",
       "0                        2.106679                             1549.775757   \n",
       "1                        2.353017                             1576.166671   \n",
       "2                        2.416800                             1601.556163   \n",
       "3                        2.262051                             1599.968720   \n",
       "4                        2.277073                             1601.339707   \n",
       "\n",
       "   primary_cleaner.state.floatbank8_a_level  \\\n",
       "0                               -498.912140   \n",
       "1                               -500.904965   \n",
       "2                               -499.997791   \n",
       "3                               -500.951778   \n",
       "4                               -498.975456   \n",
       "\n",
       "   primary_cleaner.state.floatbank8_b_air  \\\n",
       "0                             1551.434204   \n",
       "1                             1575.950626   \n",
       "2                             1600.386685   \n",
       "3                             1600.659236   \n",
       "4                             1601.437854   \n",
       "\n",
       "   primary_cleaner.state.floatbank8_b_level  \\\n",
       "0                               -516.403442   \n",
       "1                               -499.865889   \n",
       "2                               -500.607762   \n",
       "3                               -499.677094   \n",
       "4                               -500.323246   \n",
       "\n",
       "   primary_cleaner.state.floatbank8_c_air  \\\n",
       "0                             1549.873901   \n",
       "1                             1575.994189   \n",
       "2                             1602.003542   \n",
       "3                             1600.304144   \n",
       "4                             1599.581894   \n",
       "\n",
       "   primary_cleaner.state.floatbank8_c_level  \\\n",
       "0                               -498.666595   \n",
       "1                               -499.315107   \n",
       "2                               -500.870069   \n",
       "3                               -500.727997   \n",
       "4                               -500.888152   \n",
       "\n",
       "   primary_cleaner.state.floatbank8_d_air  \\\n",
       "0                             1554.367432   \n",
       "1                             1574.479259   \n",
       "2                             1599.541515   \n",
       "3                             1600.449520   \n",
       "4                             1602.649541   \n",
       "\n",
       "   primary_cleaner.state.floatbank8_d_level  \\\n",
       "0                               -493.428131   \n",
       "1                               -498.931665   \n",
       "2                               -499.827444   \n",
       "3                               -500.052575   \n",
       "4                               -500.593010   \n",
       "\n",
       "   rougher.calculation.sulfate_to_au_concentrate  \\\n",
       "0                                   41885.707031   \n",
       "1                                   42050.861809   \n",
       "2                                   42018.101184   \n",
       "3                                   42029.447991   \n",
       "4                                   42125.354245   \n",
       "\n",
       "   rougher.calculation.floatbank10_sulfate_to_au_feed  \\\n",
       "0                                        3481.779053    \n",
       "1                                        3498.370979    \n",
       "2                                        3495.348910    \n",
       "3                                        3498.578313    \n",
       "4                                        3494.800771    \n",
       "\n",
       "   rougher.calculation.floatbank11_sulfate_to_au_feed  \\\n",
       "0                                        3520.337158    \n",
       "1                                        3489.981857    \n",
       "2                                        3502.359819    \n",
       "3                                        3499.162912    \n",
       "4                                        3506.679315    \n",
       "\n",
       "   rougher.calculation.au_pb_ratio  rougher.input.feed_ag  \\\n",
       "0                         2.838687               6.100378   \n",
       "1                         2.858998               6.161113   \n",
       "2                         2.945989               6.116455   \n",
       "3                         3.002340               6.043309   \n",
       "4                         3.169615               6.060915   \n",
       "\n",
       "   rougher.input.feed_pb  rougher.input.feed_rate  rougher.input.feed_size  \\\n",
       "0               2.284912               523.546326                55.486599   \n",
       "1               2.266033               525.290581                57.278666   \n",
       "2               2.159622               530.026610                57.510649   \n",
       "3               2.037807               542.590390                57.792734   \n",
       "4               1.786875               540.531893                56.047189   \n",
       "\n",
       "   rougher.input.feed_sol  rougher.input.feed_au  \\\n",
       "0               36.808594               6.486150   \n",
       "1               35.753385               6.478583   \n",
       "2               35.971630               6.362222   \n",
       "3               36.862241               6.118189   \n",
       "4               34.347666               5.663707   \n",
       "\n",
       "   rougher.input.floatbank10_sulfate  rougher.input.floatbank10_xanthate  \\\n",
       "0                          11.986616                            6.007990   \n",
       "1                          11.971193                            6.005766   \n",
       "2                          11.920603                            6.197377   \n",
       "3                          11.630094                            6.203177   \n",
       "4                          10.957755                            6.198826   \n",
       "\n",
       "   rougher.input.floatbank11_sulfate  rougher.input.floatbank11_xanthate  \\\n",
       "0                          11.836743                            6.005818   \n",
       "1                          11.996163                            6.012594   \n",
       "2                          11.920305                            6.204633   \n",
       "3                          11.692450                            6.196578   \n",
       "4                          10.960521                            6.194897   \n",
       "\n",
       "   rougher.output.concentrate_ag  rougher.output.concentrate_pb  \\\n",
       "0                      11.500771                       7.101074   \n",
       "1                      11.615865                       7.278807   \n",
       "2                      11.695753                       7.216833   \n",
       "3                      11.915047                       7.175616   \n",
       "4                      12.411054                       7.240205   \n",
       "\n",
       "   rougher.output.concentrate_sol  rougher.output.concentrate_au  \\\n",
       "0                       28.029297                      19.793808   \n",
       "1                       28.067063                      20.050975   \n",
       "2                       27.454037                      19.737170   \n",
       "3                       27.341277                      19.320810   \n",
       "4                       27.041023                      19.216101   \n",
       "\n",
       "   rougher.output.recovery  rougher.output.tail_ag  rougher.output.tail_pb  \\\n",
       "0                87.107763                5.008018                0.508728   \n",
       "1                86.843261                4.955378                0.536689   \n",
       "2                86.842308                4.843460                0.546416   \n",
       "3                87.226430                4.655288                0.542525   \n",
       "4                86.688794                4.552800                0.515438   \n",
       "\n",
       "   rougher.output.tail_sol  rougher.output.tail_au  \\\n",
       "0                19.154297                1.170244   \n",
       "1                18.965234                1.184827   \n",
       "2                18.808533                1.162562   \n",
       "3                19.330200                1.079755   \n",
       "4                19.267422                1.012642   \n",
       "\n",
       "   rougher.state.floatbank10_a_air  rougher.state.floatbank10_a_level  \\\n",
       "0                       999.706909                        -404.066986   \n",
       "1                      1000.286398                        -400.065196   \n",
       "2                       999.719565                        -400.074028   \n",
       "3                       999.814770                        -400.200179   \n",
       "4                       999.678690                        -399.752729   \n",
       "\n",
       "   rougher.state.floatbank10_b_air  rougher.state.floatbank10_b_level  \\\n",
       "0                      1603.011353                        -434.715027   \n",
       "1                      1600.754587                        -449.953435   \n",
       "2                      1599.337330                        -450.008530   \n",
       "3                      1600.059442                        -450.619948   \n",
       "4                      1600.208824                        -449.599614   \n",
       "\n",
       "   rougher.state.floatbank10_c_air  rougher.state.floatbank10_c_level  \\\n",
       "0                      1602.375000                        -442.204468   \n",
       "1                      1600.479580                        -449.830646   \n",
       "2                      1599.672797                        -449.954491   \n",
       "3                      1600.012842                        -449.910497   \n",
       "4                      1600.357732                        -450.034364   \n",
       "\n",
       "   rougher.state.floatbank10_d_air  rougher.state.floatbank10_d_level  \\\n",
       "0                      1598.937256                        -451.294128   \n",
       "1                      1600.527589                        -449.953649   \n",
       "2                      1599.849325                        -449.954185   \n",
       "3                      1597.725177                        -450.130127   \n",
       "4                      1599.759049                        -449.909799   \n",
       "\n",
       "   rougher.state.floatbank10_e_air  rougher.state.floatbank10_e_level  \\\n",
       "0                      1404.472046                        -455.462982   \n",
       "1                      1399.227084                        -450.869848   \n",
       "2                      1399.180945                        -449.937588   \n",
       "3                      1400.943157                        -450.030142   \n",
       "4                      1401.560902                        -448.877187   \n",
       "\n",
       "   rougher.state.floatbank10_f_air  rougher.state.floatbank10_f_level  \\\n",
       "0                      1416.354980                        -451.939636   \n",
       "1                      1399.719514                        -450.119001   \n",
       "2                      1400.316682                        -450.527147   \n",
       "3                      1400.234743                        -449.790835   \n",
       "4                      1401.160227                        -450.407128   \n",
       "\n",
       "   secondary_cleaner.output.tail_ag  secondary_cleaner.output.tail_pb  \\\n",
       "0                         14.500184                          4.694824   \n",
       "1                         14.265474                          4.592547   \n",
       "2                         14.115662                          4.624775   \n",
       "3                         13.732071                          4.482453   \n",
       "4                         14.079996                          4.470737   \n",
       "\n",
       "   secondary_cleaner.output.tail_sol  secondary_cleaner.output.tail_au  \\\n",
       "0                           8.764648                          2.606185   \n",
       "1                           9.001494                          2.488248   \n",
       "2                           8.842896                          2.458187   \n",
       "3                           9.122857                          2.322062   \n",
       "4                           8.871028                          2.330448   \n",
       "\n",
       "   secondary_cleaner.state.floatbank2_a_air  \\\n",
       "0                                 25.853109   \n",
       "1                                 25.880539   \n",
       "2                                 26.005245   \n",
       "3                                 25.942508   \n",
       "4                                 26.024787   \n",
       "\n",
       "   secondary_cleaner.state.floatbank2_a_level  \\\n",
       "0                                 -498.526489   \n",
       "1                                 -499.989656   \n",
       "2                                 -499.929616   \n",
       "3                                 -499.176749   \n",
       "4                                 -500.279091   \n",
       "\n",
       "   secondary_cleaner.state.floatbank2_b_air  \\\n",
       "0                                 23.893660   \n",
       "1                                 23.889530   \n",
       "2                                 23.886657   \n",
       "3                                 23.955516   \n",
       "4                                 23.955345   \n",
       "\n",
       "   secondary_cleaner.state.floatbank2_b_level  \\\n",
       "0                                 -501.406281   \n",
       "1                                 -500.372428   \n",
       "2                                 -499.951928   \n",
       "3                                 -499.848796   \n",
       "4                                 -500.593614   \n",
       "\n",
       "   secondary_cleaner.state.floatbank3_a_air  \\\n",
       "0                                 23.961798   \n",
       "1                                 23.970550   \n",
       "2                                 23.913535   \n",
       "3                                 23.966838   \n",
       "4                                 23.985703   \n",
       "\n",
       "   secondary_cleaner.state.floatbank3_a_level  \\\n",
       "0                                 -495.262817   \n",
       "1                                 -500.085473   \n",
       "2                                 -499.442343   \n",
       "3                                 -500.008812   \n",
       "4                                 -500.083811   \n",
       "\n",
       "   secondary_cleaner.state.floatbank3_b_air  \\\n",
       "0                                 21.940409   \n",
       "1                                 22.085714   \n",
       "2                                 23.957717   \n",
       "3                                 23.954443   \n",
       "4                                 23.958945   \n",
       "\n",
       "   secondary_cleaner.state.floatbank3_b_level  \\\n",
       "0                                 -499.340973   \n",
       "1                                 -499.446897   \n",
       "2                                 -499.901982   \n",
       "3                                 -499.944710   \n",
       "4                                 -499.990309   \n",
       "\n",
       "   secondary_cleaner.state.floatbank4_a_air  \\\n",
       "0                                 14.016835   \n",
       "1                                 13.992281   \n",
       "2                                 14.015015   \n",
       "3                                 14.036510   \n",
       "4                                 14.027298   \n",
       "\n",
       "   secondary_cleaner.state.floatbank4_a_level  \\\n",
       "0                                 -502.488007   \n",
       "1                                 -505.503262   \n",
       "2                                 -502.520901   \n",
       "3                                 -500.857308   \n",
       "4                                 -499.838632   \n",
       "\n",
       "   secondary_cleaner.state.floatbank4_b_air  \\\n",
       "0                                 12.099931   \n",
       "1                                 11.950531   \n",
       "2                                 11.912783   \n",
       "3                                 11.999550   \n",
       "4                                 11.953070   \n",
       "\n",
       "   secondary_cleaner.state.floatbank4_b_level  \\\n",
       "0                                 -504.715942   \n",
       "1                                 -501.331529   \n",
       "2                                 -501.133383   \n",
       "3                                 -501.193686   \n",
       "4                                 -501.053894   \n",
       "\n",
       "   secondary_cleaner.state.floatbank5_a_air  \\\n",
       "0                                  9.925633   \n",
       "1                                 10.039245   \n",
       "2                                 10.070913   \n",
       "3                                  9.970366   \n",
       "4                                  9.925709   \n",
       "\n",
       "   secondary_cleaner.state.floatbank5_a_level  \\\n",
       "0                                 -498.310211   \n",
       "1                                 -500.169983   \n",
       "2                                 -500.129135   \n",
       "3                                 -499.201640   \n",
       "4                                 -501.686727   \n",
       "\n",
       "   secondary_cleaner.state.floatbank5_b_air  \\\n",
       "0                                  8.079666   \n",
       "1                                  7.984757   \n",
       "2                                  8.013877   \n",
       "3                                  7.977324   \n",
       "4                                  7.894242   \n",
       "\n",
       "   secondary_cleaner.state.floatbank5_b_level  \\\n",
       "0                                 -500.470978   \n",
       "1                                 -500.582168   \n",
       "2                                 -500.517572   \n",
       "3                                 -500.255908   \n",
       "4                                 -500.356035   \n",
       "\n",
       "   secondary_cleaner.state.floatbank6_a_air  \\\n",
       "0                                 14.151341   \n",
       "1                                 13.998353   \n",
       "2                                 14.028663   \n",
       "3                                 14.005551   \n",
       "4                                 13.996647   \n",
       "\n",
       "   secondary_cleaner.state.floatbank6_a_level  \n",
       "0                                 -605.841980  \n",
       "1                                 -599.787184  \n",
       "2                                 -601.427363  \n",
       "3                                 -599.996129  \n",
       "4                                 -601.496691  "
      ]
     },
     "execution_count": 5,
     "metadata": {},
     "output_type": "execute_result"
    }
   ],
   "source": [
    "gold_full.head()"
   ]
  },
  {
   "cell_type": "code",
   "execution_count": 6,
   "metadata": {},
   "outputs": [
    {
     "name": "stdout",
     "output_type": "stream",
     "text": [
      "<class 'pandas.core.frame.DataFrame'>\n",
      "RangeIndex: 16860 entries, 0 to 16859\n",
      "Data columns (total 87 columns):\n",
      " #   Column                                              Non-Null Count  Dtype  \n",
      "---  ------                                              --------------  -----  \n",
      " 0   date                                                16860 non-null  object \n",
      " 1   final.output.concentrate_ag                         16788 non-null  float64\n",
      " 2   final.output.concentrate_pb                         16788 non-null  float64\n",
      " 3   final.output.concentrate_sol                        16490 non-null  float64\n",
      " 4   final.output.concentrate_au                         16789 non-null  float64\n",
      " 5   final.output.recovery                               15339 non-null  float64\n",
      " 6   final.output.tail_ag                                16794 non-null  float64\n",
      " 7   final.output.tail_pb                                16677 non-null  float64\n",
      " 8   final.output.tail_sol                               16715 non-null  float64\n",
      " 9   final.output.tail_au                                16794 non-null  float64\n",
      " 10  primary_cleaner.input.sulfate                       15553 non-null  float64\n",
      " 11  primary_cleaner.input.depressant                    15598 non-null  float64\n",
      " 12  primary_cleaner.input.feed_size                     16860 non-null  float64\n",
      " 13  primary_cleaner.input.xanthate                      15875 non-null  float64\n",
      " 14  primary_cleaner.output.concentrate_ag               16778 non-null  float64\n",
      " 15  primary_cleaner.output.concentrate_pb               16502 non-null  float64\n",
      " 16  primary_cleaner.output.concentrate_sol              16224 non-null  float64\n",
      " 17  primary_cleaner.output.concentrate_au               16778 non-null  float64\n",
      " 18  primary_cleaner.output.tail_ag                      16777 non-null  float64\n",
      " 19  primary_cleaner.output.tail_pb                      16761 non-null  float64\n",
      " 20  primary_cleaner.output.tail_sol                     16579 non-null  float64\n",
      " 21  primary_cleaner.output.tail_au                      16777 non-null  float64\n",
      " 22  primary_cleaner.state.floatbank8_a_air              16820 non-null  float64\n",
      " 23  primary_cleaner.state.floatbank8_a_level            16827 non-null  float64\n",
      " 24  primary_cleaner.state.floatbank8_b_air              16820 non-null  float64\n",
      " 25  primary_cleaner.state.floatbank8_b_level            16833 non-null  float64\n",
      " 26  primary_cleaner.state.floatbank8_c_air              16822 non-null  float64\n",
      " 27  primary_cleaner.state.floatbank8_c_level            16833 non-null  float64\n",
      " 28  primary_cleaner.state.floatbank8_d_air              16821 non-null  float64\n",
      " 29  primary_cleaner.state.floatbank8_d_level            16833 non-null  float64\n",
      " 30  rougher.calculation.sulfate_to_au_concentrate       16833 non-null  float64\n",
      " 31  rougher.calculation.floatbank10_sulfate_to_au_feed  16833 non-null  float64\n",
      " 32  rougher.calculation.floatbank11_sulfate_to_au_feed  16833 non-null  float64\n",
      " 33  rougher.calculation.au_pb_ratio                     15618 non-null  float64\n",
      " 34  rougher.input.feed_ag                               16778 non-null  float64\n",
      " 35  rougher.input.feed_pb                               16632 non-null  float64\n",
      " 36  rougher.input.feed_rate                             16347 non-null  float64\n",
      " 37  rougher.input.feed_size                             16443 non-null  float64\n",
      " 38  rougher.input.feed_sol                              16568 non-null  float64\n",
      " 39  rougher.input.feed_au                               16777 non-null  float64\n",
      " 40  rougher.input.floatbank10_sulfate                   15816 non-null  float64\n",
      " 41  rougher.input.floatbank10_xanthate                  16514 non-null  float64\n",
      " 42  rougher.input.floatbank11_sulfate                   16237 non-null  float64\n",
      " 43  rougher.input.floatbank11_xanthate                  14956 non-null  float64\n",
      " 44  rougher.output.concentrate_ag                       16778 non-null  float64\n",
      " 45  rougher.output.concentrate_pb                       16778 non-null  float64\n",
      " 46  rougher.output.concentrate_sol                      16698 non-null  float64\n",
      " 47  rougher.output.concentrate_au                       16778 non-null  float64\n",
      " 48  rougher.output.recovery                             14287 non-null  float64\n",
      " 49  rougher.output.tail_ag                              14610 non-null  float64\n",
      " 50  rougher.output.tail_pb                              16778 non-null  float64\n",
      " 51  rougher.output.tail_sol                             14611 non-null  float64\n",
      " 52  rougher.output.tail_au                              14611 non-null  float64\n",
      " 53  rougher.state.floatbank10_a_air                     16807 non-null  float64\n",
      " 54  rougher.state.floatbank10_a_level                   16807 non-null  float64\n",
      " 55  rougher.state.floatbank10_b_air                     16807 non-null  float64\n",
      " 56  rougher.state.floatbank10_b_level                   16807 non-null  float64\n",
      " 57  rougher.state.floatbank10_c_air                     16807 non-null  float64\n",
      " 58  rougher.state.floatbank10_c_level                   16814 non-null  float64\n",
      " 59  rougher.state.floatbank10_d_air                     16802 non-null  float64\n",
      " 60  rougher.state.floatbank10_d_level                   16809 non-null  float64\n",
      " 61  rougher.state.floatbank10_e_air                     16257 non-null  float64\n",
      " 62  rougher.state.floatbank10_e_level                   16809 non-null  float64\n",
      " 63  rougher.state.floatbank10_f_air                     16802 non-null  float64\n",
      " 64  rougher.state.floatbank10_f_level                   16802 non-null  float64\n",
      " 65  secondary_cleaner.output.tail_ag                    16776 non-null  float64\n",
      " 66  secondary_cleaner.output.tail_pb                    16764 non-null  float64\n",
      " 67  secondary_cleaner.output.tail_sol                   14874 non-null  float64\n",
      " 68  secondary_cleaner.output.tail_au                    16778 non-null  float64\n",
      " 69  secondary_cleaner.state.floatbank2_a_air            16497 non-null  float64\n",
      " 70  secondary_cleaner.state.floatbank2_a_level          16751 non-null  float64\n",
      " 71  secondary_cleaner.state.floatbank2_b_air            16705 non-null  float64\n",
      " 72  secondary_cleaner.state.floatbank2_b_level          16748 non-null  float64\n",
      " 73  secondary_cleaner.state.floatbank3_a_air            16763 non-null  float64\n",
      " 74  secondary_cleaner.state.floatbank3_a_level          16747 non-null  float64\n",
      " 75  secondary_cleaner.state.floatbank3_b_air            16752 non-null  float64\n",
      " 76  secondary_cleaner.state.floatbank3_b_level          16750 non-null  float64\n",
      " 77  secondary_cleaner.state.floatbank4_a_air            16731 non-null  float64\n",
      " 78  secondary_cleaner.state.floatbank4_a_level          16747 non-null  float64\n",
      " 79  secondary_cleaner.state.floatbank4_b_air            16768 non-null  float64\n",
      " 80  secondary_cleaner.state.floatbank4_b_level          16767 non-null  float64\n",
      " 81  secondary_cleaner.state.floatbank5_a_air            16775 non-null  float64\n",
      " 82  secondary_cleaner.state.floatbank5_a_level          16775 non-null  float64\n",
      " 83  secondary_cleaner.state.floatbank5_b_air            16775 non-null  float64\n",
      " 84  secondary_cleaner.state.floatbank5_b_level          16776 non-null  float64\n",
      " 85  secondary_cleaner.state.floatbank6_a_air            16757 non-null  float64\n",
      " 86  secondary_cleaner.state.floatbank6_a_level          16775 non-null  float64\n",
      "dtypes: float64(86), object(1)\n",
      "memory usage: 11.2+ MB\n"
     ]
    }
   ],
   "source": [
    "gold_train.info()"
   ]
  },
  {
   "cell_type": "code",
   "execution_count": 7,
   "metadata": {},
   "outputs": [
    {
     "name": "stdout",
     "output_type": "stream",
     "text": [
      "<class 'pandas.core.frame.DataFrame'>\n",
      "RangeIndex: 5856 entries, 0 to 5855\n",
      "Data columns (total 53 columns):\n",
      " #   Column                                      Non-Null Count  Dtype  \n",
      "---  ------                                      --------------  -----  \n",
      " 0   date                                        5856 non-null   object \n",
      " 1   primary_cleaner.input.sulfate               5554 non-null   float64\n",
      " 2   primary_cleaner.input.depressant            5572 non-null   float64\n",
      " 3   primary_cleaner.input.feed_size             5856 non-null   float64\n",
      " 4   primary_cleaner.input.xanthate              5690 non-null   float64\n",
      " 5   primary_cleaner.state.floatbank8_a_air      5840 non-null   float64\n",
      " 6   primary_cleaner.state.floatbank8_a_level    5840 non-null   float64\n",
      " 7   primary_cleaner.state.floatbank8_b_air      5840 non-null   float64\n",
      " 8   primary_cleaner.state.floatbank8_b_level    5840 non-null   float64\n",
      " 9   primary_cleaner.state.floatbank8_c_air      5840 non-null   float64\n",
      " 10  primary_cleaner.state.floatbank8_c_level    5840 non-null   float64\n",
      " 11  primary_cleaner.state.floatbank8_d_air      5840 non-null   float64\n",
      " 12  primary_cleaner.state.floatbank8_d_level    5840 non-null   float64\n",
      " 13  rougher.input.feed_ag                       5840 non-null   float64\n",
      " 14  rougher.input.feed_pb                       5840 non-null   float64\n",
      " 15  rougher.input.feed_rate                     5816 non-null   float64\n",
      " 16  rougher.input.feed_size                     5834 non-null   float64\n",
      " 17  rougher.input.feed_sol                      5789 non-null   float64\n",
      " 18  rougher.input.feed_au                       5840 non-null   float64\n",
      " 19  rougher.input.floatbank10_sulfate           5599 non-null   float64\n",
      " 20  rougher.input.floatbank10_xanthate          5733 non-null   float64\n",
      " 21  rougher.input.floatbank11_sulfate           5801 non-null   float64\n",
      " 22  rougher.input.floatbank11_xanthate          5503 non-null   float64\n",
      " 23  rougher.state.floatbank10_a_air             5839 non-null   float64\n",
      " 24  rougher.state.floatbank10_a_level           5840 non-null   float64\n",
      " 25  rougher.state.floatbank10_b_air             5839 non-null   float64\n",
      " 26  rougher.state.floatbank10_b_level           5840 non-null   float64\n",
      " 27  rougher.state.floatbank10_c_air             5839 non-null   float64\n",
      " 28  rougher.state.floatbank10_c_level           5840 non-null   float64\n",
      " 29  rougher.state.floatbank10_d_air             5839 non-null   float64\n",
      " 30  rougher.state.floatbank10_d_level           5840 non-null   float64\n",
      " 31  rougher.state.floatbank10_e_air             5839 non-null   float64\n",
      " 32  rougher.state.floatbank10_e_level           5840 non-null   float64\n",
      " 33  rougher.state.floatbank10_f_air             5839 non-null   float64\n",
      " 34  rougher.state.floatbank10_f_level           5840 non-null   float64\n",
      " 35  secondary_cleaner.state.floatbank2_a_air    5836 non-null   float64\n",
      " 36  secondary_cleaner.state.floatbank2_a_level  5840 non-null   float64\n",
      " 37  secondary_cleaner.state.floatbank2_b_air    5833 non-null   float64\n",
      " 38  secondary_cleaner.state.floatbank2_b_level  5840 non-null   float64\n",
      " 39  secondary_cleaner.state.floatbank3_a_air    5822 non-null   float64\n",
      " 40  secondary_cleaner.state.floatbank3_a_level  5840 non-null   float64\n",
      " 41  secondary_cleaner.state.floatbank3_b_air    5840 non-null   float64\n",
      " 42  secondary_cleaner.state.floatbank3_b_level  5840 non-null   float64\n",
      " 43  secondary_cleaner.state.floatbank4_a_air    5840 non-null   float64\n",
      " 44  secondary_cleaner.state.floatbank4_a_level  5840 non-null   float64\n",
      " 45  secondary_cleaner.state.floatbank4_b_air    5840 non-null   float64\n",
      " 46  secondary_cleaner.state.floatbank4_b_level  5840 non-null   float64\n",
      " 47  secondary_cleaner.state.floatbank5_a_air    5840 non-null   float64\n",
      " 48  secondary_cleaner.state.floatbank5_a_level  5840 non-null   float64\n",
      " 49  secondary_cleaner.state.floatbank5_b_air    5840 non-null   float64\n",
      " 50  secondary_cleaner.state.floatbank5_b_level  5840 non-null   float64\n",
      " 51  secondary_cleaner.state.floatbank6_a_air    5840 non-null   float64\n",
      " 52  secondary_cleaner.state.floatbank6_a_level  5840 non-null   float64\n",
      "dtypes: float64(52), object(1)\n",
      "memory usage: 2.4+ MB\n"
     ]
    }
   ],
   "source": [
    "gold_test.info()"
   ]
  },
  {
   "cell_type": "code",
   "execution_count": 8,
   "metadata": {},
   "outputs": [
    {
     "name": "stdout",
     "output_type": "stream",
     "text": [
      "<class 'pandas.core.frame.DataFrame'>\n",
      "RangeIndex: 22716 entries, 0 to 22715\n",
      "Data columns (total 87 columns):\n",
      " #   Column                                              Non-Null Count  Dtype  \n",
      "---  ------                                              --------------  -----  \n",
      " 0   date                                                22716 non-null  object \n",
      " 1   final.output.concentrate_ag                         22627 non-null  float64\n",
      " 2   final.output.concentrate_pb                         22629 non-null  float64\n",
      " 3   final.output.concentrate_sol                        22331 non-null  float64\n",
      " 4   final.output.concentrate_au                         22630 non-null  float64\n",
      " 5   final.output.recovery                               20753 non-null  float64\n",
      " 6   final.output.tail_ag                                22633 non-null  float64\n",
      " 7   final.output.tail_pb                                22516 non-null  float64\n",
      " 8   final.output.tail_sol                               22445 non-null  float64\n",
      " 9   final.output.tail_au                                22635 non-null  float64\n",
      " 10  primary_cleaner.input.sulfate                       21107 non-null  float64\n",
      " 11  primary_cleaner.input.depressant                    21170 non-null  float64\n",
      " 12  primary_cleaner.input.feed_size                     22716 non-null  float64\n",
      " 13  primary_cleaner.input.xanthate                      21565 non-null  float64\n",
      " 14  primary_cleaner.output.concentrate_ag               22618 non-null  float64\n",
      " 15  primary_cleaner.output.concentrate_pb               22268 non-null  float64\n",
      " 16  primary_cleaner.output.concentrate_sol              21918 non-null  float64\n",
      " 17  primary_cleaner.output.concentrate_au               22618 non-null  float64\n",
      " 18  primary_cleaner.output.tail_ag                      22614 non-null  float64\n",
      " 19  primary_cleaner.output.tail_pb                      22594 non-null  float64\n",
      " 20  primary_cleaner.output.tail_sol                     22365 non-null  float64\n",
      " 21  primary_cleaner.output.tail_au                      22617 non-null  float64\n",
      " 22  primary_cleaner.state.floatbank8_a_air              22660 non-null  float64\n",
      " 23  primary_cleaner.state.floatbank8_a_level            22667 non-null  float64\n",
      " 24  primary_cleaner.state.floatbank8_b_air              22660 non-null  float64\n",
      " 25  primary_cleaner.state.floatbank8_b_level            22673 non-null  float64\n",
      " 26  primary_cleaner.state.floatbank8_c_air              22662 non-null  float64\n",
      " 27  primary_cleaner.state.floatbank8_c_level            22673 non-null  float64\n",
      " 28  primary_cleaner.state.floatbank8_d_air              22661 non-null  float64\n",
      " 29  primary_cleaner.state.floatbank8_d_level            22673 non-null  float64\n",
      " 30  rougher.calculation.sulfate_to_au_concentrate       22672 non-null  float64\n",
      " 31  rougher.calculation.floatbank10_sulfate_to_au_feed  22672 non-null  float64\n",
      " 32  rougher.calculation.floatbank11_sulfate_to_au_feed  22672 non-null  float64\n",
      " 33  rougher.calculation.au_pb_ratio                     21089 non-null  float64\n",
      " 34  rougher.input.feed_ag                               22618 non-null  float64\n",
      " 35  rougher.input.feed_pb                               22472 non-null  float64\n",
      " 36  rougher.input.feed_rate                             22163 non-null  float64\n",
      " 37  rougher.input.feed_size                             22277 non-null  float64\n",
      " 38  rougher.input.feed_sol                              22357 non-null  float64\n",
      " 39  rougher.input.feed_au                               22617 non-null  float64\n",
      " 40  rougher.input.floatbank10_sulfate                   21415 non-null  float64\n",
      " 41  rougher.input.floatbank10_xanthate                  22247 non-null  float64\n",
      " 42  rougher.input.floatbank11_sulfate                   22038 non-null  float64\n",
      " 43  rougher.input.floatbank11_xanthate                  20459 non-null  float64\n",
      " 44  rougher.output.concentrate_ag                       22618 non-null  float64\n",
      " 45  rougher.output.concentrate_pb                       22618 non-null  float64\n",
      " 46  rougher.output.concentrate_sol                      22526 non-null  float64\n",
      " 47  rougher.output.concentrate_au                       22618 non-null  float64\n",
      " 48  rougher.output.recovery                             19597 non-null  float64\n",
      " 49  rougher.output.tail_ag                              19979 non-null  float64\n",
      " 50  rougher.output.tail_pb                              22618 non-null  float64\n",
      " 51  rougher.output.tail_sol                             19980 non-null  float64\n",
      " 52  rougher.output.tail_au                              19980 non-null  float64\n",
      " 53  rougher.state.floatbank10_a_air                     22646 non-null  float64\n",
      " 54  rougher.state.floatbank10_a_level                   22647 non-null  float64\n",
      " 55  rougher.state.floatbank10_b_air                     22646 non-null  float64\n",
      " 56  rougher.state.floatbank10_b_level                   22647 non-null  float64\n",
      " 57  rougher.state.floatbank10_c_air                     22646 non-null  float64\n",
      " 58  rougher.state.floatbank10_c_level                   22654 non-null  float64\n",
      " 59  rougher.state.floatbank10_d_air                     22641 non-null  float64\n",
      " 60  rougher.state.floatbank10_d_level                   22649 non-null  float64\n",
      " 61  rougher.state.floatbank10_e_air                     22096 non-null  float64\n",
      " 62  rougher.state.floatbank10_e_level                   22649 non-null  float64\n",
      " 63  rougher.state.floatbank10_f_air                     22641 non-null  float64\n",
      " 64  rougher.state.floatbank10_f_level                   22642 non-null  float64\n",
      " 65  secondary_cleaner.output.tail_ag                    22616 non-null  float64\n",
      " 66  secondary_cleaner.output.tail_pb                    22600 non-null  float64\n",
      " 67  secondary_cleaner.output.tail_sol                   20501 non-null  float64\n",
      " 68  secondary_cleaner.output.tail_au                    22618 non-null  float64\n",
      " 69  secondary_cleaner.state.floatbank2_a_air            22333 non-null  float64\n",
      " 70  secondary_cleaner.state.floatbank2_a_level          22591 non-null  float64\n",
      " 71  secondary_cleaner.state.floatbank2_b_air            22538 non-null  float64\n",
      " 72  secondary_cleaner.state.floatbank2_b_level          22588 non-null  float64\n",
      " 73  secondary_cleaner.state.floatbank3_a_air            22585 non-null  float64\n",
      " 74  secondary_cleaner.state.floatbank3_a_level          22587 non-null  float64\n",
      " 75  secondary_cleaner.state.floatbank3_b_air            22592 non-null  float64\n",
      " 76  secondary_cleaner.state.floatbank3_b_level          22590 non-null  float64\n",
      " 77  secondary_cleaner.state.floatbank4_a_air            22571 non-null  float64\n",
      " 78  secondary_cleaner.state.floatbank4_a_level          22587 non-null  float64\n",
      " 79  secondary_cleaner.state.floatbank4_b_air            22608 non-null  float64\n",
      " 80  secondary_cleaner.state.floatbank4_b_level          22607 non-null  float64\n",
      " 81  secondary_cleaner.state.floatbank5_a_air            22615 non-null  float64\n",
      " 82  secondary_cleaner.state.floatbank5_a_level          22615 non-null  float64\n",
      " 83  secondary_cleaner.state.floatbank5_b_air            22615 non-null  float64\n",
      " 84  secondary_cleaner.state.floatbank5_b_level          22616 non-null  float64\n",
      " 85  secondary_cleaner.state.floatbank6_a_air            22597 non-null  float64\n",
      " 86  secondary_cleaner.state.floatbank6_a_level          22615 non-null  float64\n",
      "dtypes: float64(86), object(1)\n",
      "memory usage: 15.1+ MB\n"
     ]
    }
   ],
   "source": [
    "gold_full.info()"
   ]
  },
  {
   "cell_type": "code",
   "execution_count": 9,
   "metadata": {},
   "outputs": [
    {
     "data": {
      "text/plain": [
       "rougher.output.concentrate_au      82\n",
       "rougher.input.feed_au              83\n",
       "rougher.output.tail_au           2249\n",
       "dtype: int64"
      ]
     },
     "execution_count": 9,
     "metadata": {},
     "output_type": "execute_result"
    }
   ],
   "source": [
    "#Check that recovery is calculated correctly. Using the training set, calculate recovery for the rougher.output.recovery feature. \n",
    "#checking for missing value\n",
    "gold_train[['rougher.output.concentrate_au', 'rougher.input.feed_au', 'rougher.output.tail_au']].isnull().sum()"
   ]
  },
  {
   "cell_type": "code",
   "execution_count": 10,
   "metadata": {},
   "outputs": [],
   "source": [
    "gold_train['numerator'] = gold_train['rougher.output.concentrate_au'] * (gold_train['rougher.input.feed_au'] - gold_train['rougher.output.tail_au'])\n",
    "gold_train['denominator'] = gold_train['rougher.input.feed_au'] * (gold_train['rougher.output.concentrate_au'] - gold_train['rougher.output.tail_au'])"
   ]
  },
  {
   "cell_type": "code",
   "execution_count": 11,
   "metadata": {},
   "outputs": [
    {
     "data": {
      "text/plain": [
       "numerator      2250\n",
       "denominator    2250\n",
       "dtype: int64"
      ]
     },
     "execution_count": 11,
     "metadata": {},
     "output_type": "execute_result"
    }
   ],
   "source": [
    "gold_train[['numerator', 'denominator']].isnull().sum()"
   ]
  },
  {
   "cell_type": "code",
   "execution_count": 12,
   "metadata": {},
   "outputs": [],
   "source": [
    "gold_train['numerator'] = gold_train['numerator'].fillna(0)\n",
    "gold_train['denominator'] = gold_train['denominator'].fillna(1)"
   ]
  },
  {
   "cell_type": "code",
   "execution_count": 13,
   "metadata": {},
   "outputs": [],
   "source": [
    "#Find the MAE between your calculations and the feature values. Provide findings.\n",
    "gold_train['formula'] = gold_train['numerator'] / gold_train['denominator'] * 100"
   ]
  },
  {
   "cell_type": "code",
   "execution_count": 14,
   "metadata": {},
   "outputs": [
    {
     "name": "stdout",
     "output_type": "stream",
     "text": [
      "The difference between the calculation results and the original results is 9.303415616264301e-15\n"
     ]
    }
   ],
   "source": [
    "results = (gold_train['formula'] - gold_train['rougher.output.recovery']).abs().mean()\n",
    "\n",
    "print('The difference between the calculation results and the original results is {}'.format(results))"
   ]
  },
  {
   "cell_type": "markdown",
   "metadata": {},
   "source": [
    "The mean absolute error of 9.303415616264301e-15 measures accruracy for continous variables and is calculated to find difference between underfitting and overfitting. The result of the score indicates that there is a very low chance of recovery."
   ]
  },
  {
   "cell_type": "code",
   "execution_count": 15,
   "metadata": {},
   "outputs": [],
   "source": [
    "#Analyze the features not available in the test set. What are these parameters? What is their type?\n",
    "missed_columns = set(list(gold_train.columns.values))-set(list(gold_test.columns.values))"
   ]
  },
  {
   "cell_type": "code",
   "execution_count": 16,
   "metadata": {},
   "outputs": [
    {
     "data": {
      "text/plain": [
       "{'denominator',\n",
       " 'final.output.concentrate_ag',\n",
       " 'final.output.concentrate_au',\n",
       " 'final.output.concentrate_pb',\n",
       " 'final.output.concentrate_sol',\n",
       " 'final.output.recovery',\n",
       " 'final.output.tail_ag',\n",
       " 'final.output.tail_au',\n",
       " 'final.output.tail_pb',\n",
       " 'final.output.tail_sol',\n",
       " 'formula',\n",
       " 'numerator',\n",
       " 'primary_cleaner.output.concentrate_ag',\n",
       " 'primary_cleaner.output.concentrate_au',\n",
       " 'primary_cleaner.output.concentrate_pb',\n",
       " 'primary_cleaner.output.concentrate_sol',\n",
       " 'primary_cleaner.output.tail_ag',\n",
       " 'primary_cleaner.output.tail_au',\n",
       " 'primary_cleaner.output.tail_pb',\n",
       " 'primary_cleaner.output.tail_sol',\n",
       " 'rougher.calculation.au_pb_ratio',\n",
       " 'rougher.calculation.floatbank10_sulfate_to_au_feed',\n",
       " 'rougher.calculation.floatbank11_sulfate_to_au_feed',\n",
       " 'rougher.calculation.sulfate_to_au_concentrate',\n",
       " 'rougher.output.concentrate_ag',\n",
       " 'rougher.output.concentrate_au',\n",
       " 'rougher.output.concentrate_pb',\n",
       " 'rougher.output.concentrate_sol',\n",
       " 'rougher.output.recovery',\n",
       " 'rougher.output.tail_ag',\n",
       " 'rougher.output.tail_au',\n",
       " 'rougher.output.tail_pb',\n",
       " 'rougher.output.tail_sol',\n",
       " 'secondary_cleaner.output.tail_ag',\n",
       " 'secondary_cleaner.output.tail_au',\n",
       " 'secondary_cleaner.output.tail_pb',\n",
       " 'secondary_cleaner.output.tail_sol'}"
      ]
     },
     "execution_count": 16,
     "metadata": {},
     "output_type": "execute_result"
    }
   ],
   "source": [
    "missed_columns"
   ]
  },
  {
   "cell_type": "code",
   "execution_count": 17,
   "metadata": {},
   "outputs": [
    {
     "data": {
      "text/plain": [
       "date                                           object\n",
       "final.output.concentrate_ag                   float64\n",
       "final.output.concentrate_pb                   float64\n",
       "final.output.concentrate_sol                  float64\n",
       "final.output.concentrate_au                   float64\n",
       "                                               ...   \n",
       "secondary_cleaner.state.floatbank5_a_level    float64\n",
       "secondary_cleaner.state.floatbank5_b_air      float64\n",
       "secondary_cleaner.state.floatbank5_b_level    float64\n",
       "secondary_cleaner.state.floatbank6_a_air      float64\n",
       "secondary_cleaner.state.floatbank6_a_level    float64\n",
       "Length: 87, dtype: object"
      ]
     },
     "execution_count": 17,
     "metadata": {},
     "output_type": "execute_result"
    }
   ],
   "source": [
    "gold_full.dtypes"
   ]
  },
  {
   "cell_type": "markdown",
   "metadata": {},
   "source": [
    "All of the columns type is float. Target feature is also missing. We cannot use them during training."
   ]
  },
  {
   "cell_type": "code",
   "execution_count": 18,
   "metadata": {},
   "outputs": [
    {
     "data": {
      "image/png": "[encoded data removed]",
      "text/plain": [
       "<Figure size 640x480 with 1 Axes>"
      ]
     },
     "metadata": {},
     "output_type": "display_data"
    }
   ],
   "source": [
    "#Take note of how the concentrations of metals (Au, Ag, Pb) change depending on the purification stage.\n",
    "stages = [\n",
    "    'rougher.input.feed_{}',\n",
    "    'rougher.output.concentrate_{}',\n",
    "    'primary_cleaner.output.concentrate_{}',\n",
    "    'final.output.concentrate_{}',\n",
    "]\n",
    "\n",
    "def progress(logam):\n",
    "    step = [s.format(logam) for s in stages]\n",
    "    for i in step:\n",
    "        gold_full[i].hist(alpha=0.5, bins=50)\n",
    "    plt.legend(step)\n",
    "    \n",
    "progress('au')\n",
    "plt.title('Concentration Changes of Gold Concentration (Au)');"
   ]
  },
  {
   "cell_type": "code",
   "execution_count": 19,
   "metadata": {},
   "outputs": [
    {
     "data": {
      "image/png": "[encoded data removed]",
      "text/plain": [
       "<Figure size 640x480 with 1 Axes>"
      ]
     },
     "metadata": {},
     "output_type": "display_data"
    }
   ],
   "source": [
    "progress('ag')\n",
    "plt.title('Concentration Changes of Silver Concentration (Ag)');"
   ]
  },
  {
   "cell_type": "code",
   "execution_count": 20,
   "metadata": {},
   "outputs": [
    {
     "data": {
      "image/png": "[encoded data removed]",
      "text/plain": [
       "<Figure size 640x480 with 1 Axes>"
      ]
     },
     "metadata": {},
     "output_type": "display_data"
    }
   ],
   "source": [
    "progress('pb')\n",
    "plt.title('Concentration Changes of Lead Concentration (Pb)');"
   ]
  },
  {
   "cell_type": "markdown",
   "metadata": {},
   "source": [
    "In the Au graph, as the purification stage increases so does the concentration.\n",
    "\n",
    "In the Ag graph, it is highest at its floatation stage but decreases at each purification stage.\n",
    "\n",
    "In the Pb graph, the concentration increases and the primary cleaner and final output are level."
   ]
  },
  {
   "cell_type": "code",
   "execution_count": 21,
   "metadata": {},
   "outputs": [],
   "source": [
    "#Merging rougher.output.recovery and final.output.recovery targets from full set into test set\n",
    "gold_full_test = gold_test.merge(gold_full[['date', 'rougher.output.recovery', 'final.output.recovery']], how=\"left\", on=\"date\")\n",
    "\n",
    "gold_train_test = gold_train[gold_full_test.columns]"
   ]
  },
  {
   "cell_type": "code",
   "execution_count": 22,
   "metadata": {},
   "outputs": [
    {
     "data": {
      "text/plain": [
       "<matplotlib.legend.Legend at 0x7fb27df8a640>"
      ]
     },
     "execution_count": 22,
     "metadata": {},
     "output_type": "execute_result"
    },
    {
     "data": {
      "image/png": "[encoded data removed]",
      "text/plain": [
       "<Figure size 640x480 with 1 Axes>"
      ]
     },
     "metadata": {},
     "output_type": "display_data"
    }
   ],
   "source": [
    "#Compare the feed particle size distributions in the training set and in the test set. \n",
    "#If the distributions vary significantly, the model evaluation will be incorrect.\n",
    "gold_train['rougher.input.feed_size'].plot.kde();\n",
    "gold_test['rougher.input.feed_size'].plot.kde();\n",
    "plt.legend(['train', 'test'])"
   ]
  },
  {
   "cell_type": "markdown",
   "metadata": {},
   "source": [
    "The distribution is balanced between the training and test set, as they are even."
   ]
  },
  {
   "cell_type": "code",
   "execution_count": 23,
   "metadata": {},
   "outputs": [
    {
     "data": {
      "image/png": "[encoded data removed]",
      "text/plain": [
       "<Figure size 1000x600 with 1 Axes>"
      ]
     },
     "metadata": {},
     "output_type": "display_data"
    }
   ],
   "source": [
    "plt.figure(figsize=(10, 6))\n",
    "plt.hist(gold_full['rougher.output.recovery'], bins=50, alpha=0.5, label='Rougher Output Recovery')\n",
    "plt.xlabel('Recovery Rate')\n",
    "plt.ylabel('Frequency')\n",
    "plt.title('Distribution of Rougher Output Recovery')\n",
    "plt.legend(loc='upper right')\n",
    "plt.grid(True)\n",
    "plt.show()"
   ]
  },
  {
   "cell_type": "code",
   "execution_count": 24,
   "metadata": {},
   "outputs": [
    {
     "data": {
      "image/png": "[encoded data removed]",
      "text/plain": [
       "<Figure size 1000x600 with 1 Axes>"
      ]
     },
     "metadata": {},
     "output_type": "display_data"
    }
   ],
   "source": [
    "plt.figure(figsize=(10, 6))\n",
    "plt.hist(gold_full['final.output.recovery'], bins=50, alpha=0.5, label='Final Output Recovery', color='green')\n",
    "plt.xlabel('Recovery Rate')\n",
    "plt.ylabel('Frequency')\n",
    "plt.title('Distribution of Final Output Recovery')\n",
    "plt.legend(loc='upper right')\n",
    "plt.grid(True)\n",
    "plt.show()"
   ]
  },
  {
   "cell_type": "code",
   "execution_count": 25,
   "metadata": {},
   "outputs": [
    {
     "data": {
      "text/plain": [
       "<AxesSubplot:>"
      ]
     },
     "execution_count": 25,
     "metadata": {},
     "output_type": "execute_result"
    },
    {
     "data": {
      "image/png": "[encoded data removed]",
      "text/plain": [
       "<Figure size 640x480 with 1 Axes>"
      ]
     },
     "metadata": {},
     "output_type": "display_data"
    }
   ],
   "source": [
    "feature_input = [\n",
    "    'rougher.input.feed_au',\n",
    "    'rougher.input.feed_ag',\n",
    "    'rougher.input.feed_pb',\n",
    "    'rougher.input.feed_sol',\n",
    "]\n",
    "gold_full[feature_input].sum(1).hist(bins=30)"
   ]
  },
  {
   "cell_type": "markdown",
   "metadata": {},
   "source": [
    "There is anomaly of 0 and it will be removed further down."
   ]
  },
  {
   "cell_type": "code",
   "execution_count": 26,
   "metadata": {},
   "outputs": [
    {
     "data": {
      "text/plain": [
       "<AxesSubplot:>"
      ]
     },
     "execution_count": 26,
     "metadata": {},
     "output_type": "execute_result"
    },
    {
     "data": {
      "image/png": "[encoded data removed]",
      "text/plain": [
       "<Figure size 640x480 with 1 Axes>"
      ]
     },
     "metadata": {},
     "output_type": "display_data"
    }
   ],
   "source": [
    "feature_output = [\n",
    "    'rougher.output.concentrate_au',\n",
    "    'rougher.output.concentrate_ag',\n",
    "    'rougher.output.concentrate_pb',\n",
    "    'rougher.output.concentrate_sol',\n",
    "]\n",
    "gold_full[feature_output].sum(1).hist(bins=30)"
   ]
  },
  {
   "cell_type": "markdown",
   "metadata": {},
   "source": [
    "There is anomaly of 0 and it will be removed further down."
   ]
  },
  {
   "cell_type": "code",
   "execution_count": 27,
   "metadata": {},
   "outputs": [
    {
     "data": {
      "text/plain": [
       "count    16443.000000\n",
       "mean        58.676444\n",
       "std         23.922591\n",
       "min          9.659576\n",
       "25%         47.575879\n",
       "50%         54.104257\n",
       "75%         65.051064\n",
       "max        484.967466\n",
       "Name: rougher.input.feed_size, dtype: float64"
      ]
     },
     "execution_count": 27,
     "metadata": {},
     "output_type": "execute_result"
    }
   ],
   "source": [
    "gold_train['rougher.input.feed_size'].describe()"
   ]
  },
  {
   "cell_type": "code",
   "execution_count": 28,
   "metadata": {},
   "outputs": [
    {
     "data": {
      "text/plain": [
       "count    22277.000000\n",
       "mean        57.959166\n",
       "std         23.644823\n",
       "min          0.046369\n",
       "25%         46.687088\n",
       "50%         53.405122\n",
       "75%         64.096151\n",
       "max        484.967466\n",
       "Name: rougher.input.feed_size, dtype: float64"
      ]
     },
     "execution_count": 28,
     "metadata": {},
     "output_type": "execute_result"
    }
   ],
   "source": [
    "gold_full['rougher.input.feed_size'].describe()"
   ]
  },
  {
   "cell_type": "markdown",
   "metadata": {},
   "source": [
    "Based on the distribution and mean, the training set and test set are similar."
   ]
  },
  {
   "cell_type": "code",
   "execution_count": 29,
   "metadata": {
    "scrolled": false
   },
   "outputs": [
    {
     "data": {
      "text/plain": [
       "<AxesSubplot:>"
      ]
     },
     "execution_count": 29,
     "metadata": {},
     "output_type": "execute_result"
    },
    {
     "data": {
      "image/png": "[encoded data removed]",
      "text/plain": [
       "<Figure size 640x480 with 1 Axes>"
      ]
     },
     "metadata": {},
     "output_type": "display_data"
    }
   ],
   "source": [
    "#Consider the total concentrations of all substances at different stages: raw feed, rougher concentrate, and final concentrate. \n",
    "#Do you notice any abnormal values in the total distribution? If you do, is it worth removing such values from both samples? \n",
    "#Describe the findings and eliminate anomalies.\n",
    "feature_final = [\n",
    "    'final.output.concentrate_au',\n",
    "    'final.output.concentrate_ag',\n",
    "    'final.output.concentrate_pb',\n",
    "    'final.output.concentrate_sol',\n",
    "]\n",
    "gold_full[feature_final].sum(1).hist(bins=30)"
   ]
  },
  {
   "cell_type": "code",
   "execution_count": 30,
   "metadata": {},
   "outputs": [
    {
     "name": "stdout",
     "output_type": "stream",
     "text": [
      "(15096, 90)\n",
      "(5278, 53)\n"
     ]
    }
   ],
   "source": [
    "# 0 will be removed here.\n",
    "i = 0\n",
    "\n",
    "gold_train = gold_train[gold_train[feature_input].sum(1) > i]\n",
    "gold_train = gold_train[gold_train[feature_output].sum(1) > i]\n",
    "gold_train = gold_train[gold_train[feature_final].sum(1) > i]\n",
    "\n",
    "gold_full_test = gold_full[gold_full['date'].isin(gold_test['date'])].reset_index(drop = True)\n",
    "gold_test = gold_test[gold_full_test[feature_input].sum(1) > i]\n",
    "gold_test = gold_test[gold_full_test[feature_output].sum(1) > i]\n",
    "gold_test = gold_test[gold_full_test[feature_final].sum(1) > i]\n",
    "print(gold_train.shape)\n",
    "print(gold_test.shape)"
   ]
  },
  {
   "cell_type": "code",
   "execution_count": 31,
   "metadata": {},
   "outputs": [
    {
     "name": "stdout",
     "output_type": "stream",
     "text": [
      "(13795, 55)\n",
      "(5278, 53)\n"
     ]
    }
   ],
   "source": [
    "#fixing missing value\n",
    "columns_used = gold_test.columns.values.tolist()\n",
    "columns_used.append('rougher.output.recovery')\n",
    "columns_used.append('final.output.recovery')\n",
    "gold_train_fix = gold_train[columns_used]\n",
    "gold_train_fix = gold_train_fix[gold_train_fix['rougher.output.recovery'].notnull()].reset_index(drop = True)\n",
    "gold_train_fix = gold_train_fix[gold_train_fix['final.output.recovery'].notnull()].reset_index(drop = True)\n",
    "print(gold_train_fix.shape)\n",
    "print(gold_test.shape)"
   ]
  },
  {
   "cell_type": "code",
   "execution_count": 32,
   "metadata": {},
   "outputs": [
    {
     "data": {
      "text/plain": [
       "final.output.recovery                         0.276726\n",
       "rougher.output.recovery                       0.276726\n",
       "rougher.input.floatbank11_xanthate            0.022283\n",
       "rougher.state.floatbank10_e_air               0.019556\n",
       "secondary_cleaner.state.floatbank2_a_air      0.011325\n",
       "rougher.input.feed_size                       0.007340\n",
       "rougher.input.feed_pb                         0.005243\n",
       "rougher.input.feed_sol                        0.005191\n",
       "primary_cleaner.input.xanthate                0.005138\n",
       "rougher.input.floatbank10_sulfate             0.001887\n",
       "rougher.input.floatbank11_sulfate             0.001730\n",
       "primary_cleaner.input.depressant              0.001573\n",
       "primary_cleaner.input.sulfate                 0.001101\n",
       "secondary_cleaner.state.floatbank2_b_air      0.001049\n",
       "rougher.input.feed_rate                       0.000786\n",
       "secondary_cleaner.state.floatbank3_a_air      0.000629\n",
       "rougher.input.floatbank10_xanthate            0.000472\n",
       "secondary_cleaner.state.floatbank4_a_air      0.000210\n",
       "primary_cleaner.state.floatbank8_a_air        0.000210\n",
       "primary_cleaner.state.floatbank8_b_air        0.000210\n",
       "primary_cleaner.state.floatbank8_d_air        0.000157\n",
       "primary_cleaner.state.floatbank8_c_air        0.000105\n",
       "secondary_cleaner.state.floatbank2_a_level    0.000052\n",
       "secondary_cleaner.state.floatbank3_b_level    0.000052\n",
       "secondary_cleaner.state.floatbank2_b_level    0.000052\n",
       "secondary_cleaner.state.floatbank6_a_air      0.000052\n",
       "secondary_cleaner.state.floatbank3_a_level    0.000052\n",
       "secondary_cleaner.state.floatbank3_b_air      0.000052\n",
       "secondary_cleaner.state.floatbank5_b_level    0.000052\n",
       "secondary_cleaner.state.floatbank6_a_level    0.000052\n",
       "secondary_cleaner.state.floatbank4_a_level    0.000052\n",
       "secondary_cleaner.state.floatbank4_b_air      0.000052\n",
       "secondary_cleaner.state.floatbank4_b_level    0.000052\n",
       "secondary_cleaner.state.floatbank5_b_air      0.000052\n",
       "secondary_cleaner.state.floatbank5_a_level    0.000052\n",
       "secondary_cleaner.state.floatbank5_a_air      0.000052\n",
       "rougher.state.floatbank10_c_air               0.000052\n",
       "rougher.state.floatbank10_a_air               0.000052\n",
       "primary_cleaner.state.floatbank8_a_level      0.000052\n",
       "primary_cleaner.state.floatbank8_b_level      0.000052\n",
       "rougher.state.floatbank10_c_level             0.000052\n",
       "rougher.state.floatbank10_b_level             0.000052\n",
       "rougher.state.floatbank10_b_air               0.000052\n",
       "rougher.state.floatbank10_a_level             0.000052\n",
       "primary_cleaner.state.floatbank8_c_level      0.000052\n",
       "primary_cleaner.state.floatbank8_d_level      0.000052\n",
       "rougher.input.feed_ag                         0.000000\n",
       "primary_cleaner.input.feed_size               0.000000\n",
       "rougher.state.floatbank10_f_level             0.000000\n",
       "rougher.input.feed_au                         0.000000\n",
       "rougher.state.floatbank10_f_air               0.000000\n",
       "rougher.state.floatbank10_d_air               0.000000\n",
       "rougher.state.floatbank10_d_level             0.000000\n",
       "rougher.state.floatbank10_e_level             0.000000\n",
       "date                                          0.000000\n",
       "dtype: float64"
      ]
     },
     "execution_count": 32,
     "metadata": {},
     "output_type": "execute_result"
    }
   ],
   "source": [
    "gold_full_fix = pd.concat([gold_train_fix, gold_test])\n",
    "gold_full_fix.isnull().mean().sort_values(ascending = False)\n"
   ]
  },
  {
   "cell_type": "code",
   "execution_count": 33,
   "metadata": {},
   "outputs": [],
   "source": [
    "for i in gold_full_fix.isnull().mean().sort_values(ascending = False)[2:-2].index:\n",
    "    median_cols = gold_full_fix[i].median()\n",
    "    gold_full_fix[i] = gold_full_fix[i].fillna(median_cols)\n",
    "gold_test_final = gold_full_fix[gold_full_fix['rougher.output.recovery'].isnull()]\n",
    "gold_test_final = gold_test_final.drop(columns = ['rougher.output.recovery', 'final.output.recovery'])\n",
    "\n",
    "gold_train_final = gold_full_fix[gold_full_fix['rougher.output.recovery'].notnull()].reset_index(drop = True)"
   ]
  },
  {
   "cell_type": "code",
   "execution_count": 34,
   "metadata": {},
   "outputs": [],
   "source": [
    "#Building the model\n",
    "feature = gold_test_final.drop(columns = ['date']).columns.values\n",
    "target = ['rougher.output.recovery', 'final.output.recovery']\n",
    "feature_train = gold_train_final[feature].reset_index(drop = True)\n",
    "target_train = gold_train_final[target].reset_index(drop = True)\n",
    "target_train.columns = [0,1]\n",
    "feature_test = gold_test_final[feature].reset_index(drop = True)\n",
    "target_test = gold_full[target].loc[gold_test_final.index].reset_index(drop = True)\n",
    "target_test.columns = [0,1]"
   ]
  },
  {
   "cell_type": "code",
   "execution_count": 35,
   "metadata": {},
   "outputs": [],
   "source": [
    "#Write a function to calculate the final sMAPE value.\n",
    "def smape(y_true, y_pred):\n",
    "    error = (y_true - y_pred).abs()\n",
    "    scale = (y_true.abs() + y_pred.abs()) / 2\n",
    "    \n",
    "    return (error / scale).mean() * 100\n",
    "\n",
    "def smape_weighted(y_true, y_pred):\n",
    "    rougher = smape(y_true[0], y_pred[0])\n",
    "    final = smape(y_true[1], y_pred[1])\n",
    "    \n",
    "    return 0.25 * rougher + 0.75 * final"
   ]
  },
  {
   "cell_type": "code",
   "execution_count": 36,
   "metadata": {},
   "outputs": [
    {
     "name": "stdout",
     "output_type": "stream",
     "text": [
      "9.468182190998984\n",
      "12.58658219842897\n"
     ]
    }
   ],
   "source": [
    "#Train different models. Evaluate them using cross-validation. \n",
    "#Pick the best model and test it using the test sample. Provide findings.\n",
    "#Baseline Model\n",
    "pred_median = target_train.copy()\n",
    "pred_median[0] = target_train[0].median()\n",
    "pred_median[1] = target_train[1].median()\n",
    "print(smape_weighted(target_train, pred_median))\n",
    "\n",
    "pred_median = target_test.copy()\n",
    "pred_median[0] = target_train[0].median()\n",
    "pred_median[1] = target_train[1].median()\n",
    "print(smape_weighted(target_test, pred_median))"
   ]
  },
  {
   "cell_type": "code",
   "execution_count": 37,
   "metadata": {},
   "outputs": [],
   "source": [
    "# Create a function to train model with cross-validation to get the best hyperparamater for model\n",
    "def score_model(model, cv = 4):\n",
    "    score = []\n",
    "    \n",
    "    for subtrain_index, valid_index in KFold(n_splits=cv).split(feature_train):\n",
    "        \n",
    "        feature_subtrain = feature_train.loc[subtrain_index].reset_index(drop = True)\n",
    "        target_subtrain = target_train.loc[subtrain_index].reset_index(drop = True)\n",
    "        \n",
    "        feature_valid = feature_train.loc[valid_index].reset_index(drop = True)\n",
    "        target_valid = target_train.loc[valid_index].reset_index(drop = True)\n",
    "        \n",
    "        model.fit(feature_subtrain, target_subtrain)\n",
    "        pred_valid = pd.DataFrame(model.predict(feature_valid))\n",
    "        \n",
    "        score.append(smape_weighted(target_valid, pred_valid))\n",
    "        \n",
    "    return pd.Series(score).mean()"
   ]
  },
  {
   "cell_type": "code",
   "execution_count": 38,
   "metadata": {},
   "outputs": [
    {
     "name": "stdout",
     "output_type": "stream",
     "text": [
      "RF, depth =  1 score =  10.234362942796965\n",
      "RF, depth =  2 score =  9.803892473144353\n",
      "RF, depth =  3 score =  9.3635246678597\n",
      "RF, depth =  4 score =  9.434909125771096\n"
     ]
    }
   ],
   "source": [
    "#Random Forest Regression\n",
    "for depth in range(1,5):\n",
    "    model_rf = RandomForestRegressor(max_depth= depth, n_estimators = 50, random_state=12345)\n",
    "    score = score_model(model_rf)\n",
    "    print('RF, depth = ', depth, 'score = ', score)"
   ]
  },
  {
   "cell_type": "code",
   "execution_count": 39,
   "metadata": {},
   "outputs": [
    {
     "name": "stdout",
     "output_type": "stream",
     "text": [
      "LR :  10.29831784913301\n"
     ]
    }
   ],
   "source": [
    "#Linear Regression\n",
    "model_lr = LinearRegression()\n",
    "linear_score = score_model(model_lr)\n",
    "print('LR : ', linear_score)"
   ]
  },
  {
   "cell_type": "code",
   "execution_count": 40,
   "metadata": {},
   "outputs": [
    {
     "name": "stdout",
     "output_type": "stream",
     "text": [
      "train :  7.489940076936724\n",
      "test :  13.989139883476396\n"
     ]
    }
   ],
   "source": [
    "#Checking the quality of tuned model and testing it with the test set with a hyperparameter.\n",
    "# Using RandomForest with depth = 3 as the best model\n",
    "model = RandomForestRegressor(max_depth= 3, n_estimators = 50, random_state=12345)\n",
    "model.fit(feature_train, target_train)\n",
    "\n",
    "predict = pd.DataFrame(model.predict(feature_train))\n",
    "print('train : ', smape_weighted(target_train, predict))\n",
    "\n",
    "predict = pd.DataFrame(model.predict(feature_test))\n",
    "print('test : ', smape_weighted(target_test, predict))"
   ]
  },
  {
   "cell_type": "markdown",
   "metadata": {},
   "source": [
    "Conclusion:\n",
    "\n",
    "gold_train had missing values.\n",
    "\n",
    "The mean absolute error of 9.303415616264301e-15 measures accruracy for continous variables and is calculated to find difference between underfitting and overfitting. The result of the score indicates that there is a very low chance of recovery.\n",
    "\n",
    "The concentration of gold varies significantly with each refining process.\n",
    "\n",
    "Silver concentration varies, but not to the extent of the gold refining process.\n",
    "\n",
    "The final output concentration is slightly lower than the input concentration.\n",
    "\n",
    "Lead concentration changes, but not to the extent of the gold refining process.\n",
    "\n",
    "Compare the particle size distribution of the feed in the training set and the test set. The data from both sets is evenly distributed.\n",
    "\n",
    "There is an anomaly number 0 at every stage of pufification. It was removed.\n",
    "\n",
    "To handle missing values in all tables, we can fill them in with the median value.\n",
    "\n",
    "The Random Forest model with a depth of 3 is the most effective model.\n",
    "\n",
    "The SMAPE for the training data is 7.49%, while the SMAPE for the test data is 13.99%.\n",
    "\n",
    "The lower SMAPE value for the training data indicates that the model performs better in predicting the target variable for the data it was trained on."
   ]
  }
 ],
 "metadata": {
  "ExecuteTimeLog": [
   {
    "duration": 2603,
    "start_time": "2025-01-29T22:52:28.974Z"
   },
   {
    "duration": 601,
    "start_time": "2025-01-29T22:52:31.580Z"
   },
   {
    "duration": 18,
    "start_time": "2025-01-29T22:52:54.382Z"
   },
   {
    "duration": 16,
    "start_time": "2025-01-29T22:53:50.983Z"
   },
   {
    "duration": 15,
    "start_time": "2025-01-29T22:54:02.498Z"
   },
   {
    "duration": 15,
    "start_time": "2025-01-29T22:54:20.554Z"
   },
   {
    "duration": 11,
    "start_time": "2025-01-29T22:54:41.238Z"
   },
   {
    "duration": 13,
    "start_time": "2025-01-29T22:54:57.902Z"
   },
   {
    "duration": 154,
    "start_time": "2025-01-29T23:02:14.919Z"
   },
   {
    "duration": 85,
    "start_time": "2025-01-29T23:02:57.029Z"
   },
   {
    "duration": 164,
    "start_time": "2025-01-29T23:03:15.322Z"
   },
   {
    "duration": 4,
    "start_time": "2025-01-29T23:18:38.509Z"
   },
   {
    "duration": 14,
    "start_time": "2025-01-29T23:18:41.944Z"
   },
   {
    "duration": 5,
    "start_time": "2025-01-29T23:19:22.863Z"
   },
   {
    "duration": 155,
    "start_time": "2025-01-30T22:43:32.679Z"
   },
   {
    "duration": 2626,
    "start_time": "2025-01-30T22:43:41.554Z"
   },
   {
    "duration": 619,
    "start_time": "2025-01-30T22:43:44.182Z"
   },
   {
    "duration": 27,
    "start_time": "2025-01-30T22:43:44.803Z"
   },
   {
    "duration": 20,
    "start_time": "2025-01-30T22:43:44.833Z"
   },
   {
    "duration": 16,
    "start_time": "2025-01-30T22:43:44.856Z"
   },
   {
    "duration": 38,
    "start_time": "2025-01-30T22:43:44.874Z"
   },
   {
    "duration": 11,
    "start_time": "2025-01-30T22:43:44.914Z"
   },
   {
    "duration": 13,
    "start_time": "2025-01-30T22:43:44.927Z"
   },
   {
    "duration": 4,
    "start_time": "2025-01-30T22:43:44.941Z"
   },
   {
    "duration": 7,
    "start_time": "2025-01-30T22:43:44.947Z"
   },
   {
    "duration": 4,
    "start_time": "2025-01-30T22:43:44.955Z"
   },
   {
    "duration": 14,
    "start_time": "2025-01-30T22:43:44.961Z"
   },
   {
    "duration": 9,
    "start_time": "2025-01-30T22:47:34.800Z"
   },
   {
    "duration": 415,
    "start_time": "2025-01-30T22:56:44.457Z"
   },
   {
    "duration": 1093,
    "start_time": "2025-01-30T22:57:13.885Z"
   },
   {
    "duration": 197,
    "start_time": "2025-01-30T23:02:17.269Z"
   },
   {
    "duration": 14,
    "start_time": "2025-01-30T23:07:18.621Z"
   },
   {
    "duration": 244,
    "start_time": "2025-01-30T23:07:27.858Z"
   },
   {
    "duration": 8,
    "start_time": "2025-01-30T23:10:48.725Z"
   },
   {
    "duration": 7,
    "start_time": "2025-01-30T23:11:23.429Z"
   },
   {
    "duration": 650,
    "start_time": "2025-01-30T23:15:37.270Z"
   },
   {
    "duration": 2732,
    "start_time": "2025-01-31T22:08:56.588Z"
   },
   {
    "duration": 657,
    "start_time": "2025-01-31T22:08:59.322Z"
   },
   {
    "duration": 21,
    "start_time": "2025-01-31T22:08:59.981Z"
   },
   {
    "duration": 17,
    "start_time": "2025-01-31T22:09:00.004Z"
   },
   {
    "duration": 16,
    "start_time": "2025-01-31T22:09:00.042Z"
   },
   {
    "duration": 15,
    "start_time": "2025-01-31T22:09:00.060Z"
   },
   {
    "duration": 9,
    "start_time": "2025-01-31T22:09:00.076Z"
   },
   {
    "duration": 12,
    "start_time": "2025-01-31T22:09:00.087Z"
   },
   {
    "duration": 3,
    "start_time": "2025-01-31T22:09:00.101Z"
   },
   {
    "duration": 40,
    "start_time": "2025-01-31T22:09:00.106Z"
   },
   {
    "duration": 3,
    "start_time": "2025-01-31T22:09:00.148Z"
   },
   {
    "duration": 15,
    "start_time": "2025-01-31T22:09:00.153Z"
   },
   {
    "duration": 9,
    "start_time": "2025-01-31T22:09:00.170Z"
   },
   {
    "duration": 1252,
    "start_time": "2025-01-31T22:09:00.182Z"
   },
   {
    "duration": 17,
    "start_time": "2025-01-31T22:09:01.437Z"
   },
   {
    "duration": 269,
    "start_time": "2025-01-31T22:09:01.456Z"
   },
   {
    "duration": 15,
    "start_time": "2025-01-31T22:09:01.727Z"
   },
   {
    "duration": 6,
    "start_time": "2025-01-31T22:09:01.744Z"
   },
   {
    "duration": 758,
    "start_time": "2025-01-31T22:09:01.752Z"
   },
   {
    "duration": 23,
    "start_time": "2025-01-31T22:17:50.182Z"
   },
   {
    "duration": 13,
    "start_time": "2025-01-31T22:20:38.641Z"
   },
   {
    "duration": 616,
    "start_time": "2025-01-31T22:23:04.295Z"
   },
   {
    "duration": 3,
    "start_time": "2025-01-31T22:36:17.300Z"
   },
   {
    "duration": 26,
    "start_time": "2025-01-31T22:39:20.465Z"
   },
   {
    "duration": 9,
    "start_time": "2025-01-31T22:45:10.246Z"
   },
   {
    "duration": 300,
    "start_time": "2025-01-31T22:50:11.007Z"
   },
   {
    "duration": 32056,
    "start_time": "2025-01-31T22:50:22.082Z"
   },
   {
    "duration": 31787,
    "start_time": "2025-01-31T22:51:04.253Z"
   },
   {
    "duration": 31766,
    "start_time": "2025-01-31T22:53:45.272Z"
   },
   {
    "duration": 3,
    "start_time": "2025-01-31T22:55:14.102Z"
   },
   {
    "duration": 1005,
    "start_time": "2025-01-31T22:55:24.269Z"
   },
   {
    "duration": 608,
    "start_time": "2025-01-31T22:55:25.277Z"
   },
   {
    "duration": 17,
    "start_time": "2025-01-31T22:55:25.887Z"
   },
   {
    "duration": 15,
    "start_time": "2025-01-31T22:55:25.905Z"
   },
   {
    "duration": 34,
    "start_time": "2025-01-31T22:55:25.923Z"
   },
   {
    "duration": 26,
    "start_time": "2025-01-31T22:55:25.959Z"
   },
   {
    "duration": 83,
    "start_time": "2025-01-31T22:55:25.987Z"
   },
   {
    "duration": 13,
    "start_time": "2025-01-31T22:55:26.075Z"
   },
   {
    "duration": 4,
    "start_time": "2025-01-31T22:55:26.089Z"
   },
   {
    "duration": 7,
    "start_time": "2025-01-31T22:55:26.094Z"
   },
   {
    "duration": 3,
    "start_time": "2025-01-31T22:55:26.103Z"
   },
   {
    "duration": 14,
    "start_time": "2025-01-31T22:55:26.109Z"
   },
   {
    "duration": 16,
    "start_time": "2025-01-31T22:55:26.147Z"
   },
   {
    "duration": 1307,
    "start_time": "2025-01-31T22:55:26.168Z"
   },
   {
    "duration": 12,
    "start_time": "2025-01-31T22:55:27.477Z"
   },
   {
    "duration": 387,
    "start_time": "2025-01-31T22:55:27.491Z"
   },
   {
    "duration": 7,
    "start_time": "2025-01-31T22:55:27.881Z"
   },
   {
    "duration": 6,
    "start_time": "2025-01-31T22:55:27.889Z"
   },
   {
    "duration": 727,
    "start_time": "2025-01-31T22:55:27.897Z"
   },
   {
    "duration": 39,
    "start_time": "2025-01-31T22:55:28.626Z"
   },
   {
    "duration": 16,
    "start_time": "2025-01-31T22:55:28.668Z"
   },
   {
    "duration": 750,
    "start_time": "2025-01-31T22:55:28.686Z"
   },
   {
    "duration": 5,
    "start_time": "2025-01-31T22:55:29.438Z"
   },
   {
    "duration": 37,
    "start_time": "2025-01-31T22:55:29.445Z"
   },
   {
    "duration": 3,
    "start_time": "2025-01-31T22:55:29.484Z"
   },
   {
    "duration": 31742,
    "start_time": "2025-01-31T22:55:29.488Z"
   },
   {
    "duration": 31768,
    "start_time": "2025-01-31T22:56:01.641Z"
   },
   {
    "duration": 874,
    "start_time": "2025-01-31T22:58:30.916Z"
   },
   {
    "duration": 911,
    "start_time": "2025-01-31T22:59:53.959Z"
   },
   {
    "duration": 2692,
    "start_time": "2025-02-01T19:38:22.977Z"
   },
   {
    "duration": 611,
    "start_time": "2025-02-01T19:38:25.671Z"
   },
   {
    "duration": 19,
    "start_time": "2025-02-01T19:38:26.283Z"
   },
   {
    "duration": 27,
    "start_time": "2025-02-01T19:38:26.304Z"
   },
   {
    "duration": 14,
    "start_time": "2025-02-01T19:38:26.333Z"
   },
   {
    "duration": 14,
    "start_time": "2025-02-01T19:38:26.350Z"
   },
   {
    "duration": 10,
    "start_time": "2025-02-01T19:38:26.366Z"
   },
   {
    "duration": 13,
    "start_time": "2025-02-01T19:38:26.378Z"
   },
   {
    "duration": 4,
    "start_time": "2025-02-01T19:38:26.393Z"
   },
   {
    "duration": 7,
    "start_time": "2025-02-01T19:38:26.434Z"
   },
   {
    "duration": 4,
    "start_time": "2025-02-01T19:38:26.442Z"
   },
   {
    "duration": 14,
    "start_time": "2025-02-01T19:38:26.448Z"
   },
   {
    "duration": 9,
    "start_time": "2025-02-01T19:38:26.464Z"
   },
   {
    "duration": 1207,
    "start_time": "2025-02-01T19:38:26.475Z"
   },
   {
    "duration": 13,
    "start_time": "2025-02-01T19:38:27.683Z"
   },
   {
    "duration": 277,
    "start_time": "2025-02-01T19:38:27.697Z"
   },
   {
    "duration": 7,
    "start_time": "2025-02-01T19:38:27.976Z"
   },
   {
    "duration": 6,
    "start_time": "2025-02-01T19:38:27.985Z"
   },
   {
    "duration": 741,
    "start_time": "2025-02-01T19:38:27.993Z"
   },
   {
    "duration": 23,
    "start_time": "2025-02-01T19:38:28.736Z"
   },
   {
    "duration": 13,
    "start_time": "2025-02-01T19:38:28.761Z"
   },
   {
    "duration": 650,
    "start_time": "2025-02-01T19:38:28.776Z"
   },
   {
    "duration": 4,
    "start_time": "2025-02-01T19:38:29.428Z"
   },
   {
    "duration": 20,
    "start_time": "2025-02-01T19:38:29.433Z"
   },
   {
    "duration": 2,
    "start_time": "2025-02-01T19:38:29.455Z"
   },
   {
    "duration": 29431,
    "start_time": "2025-02-01T19:38:29.460Z"
   },
   {
    "duration": 453,
    "start_time": "2025-02-01T19:38:58.893Z"
   },
   {
    "duration": 701,
    "start_time": "2025-02-01T19:38:59.351Z"
   },
   {
    "duration": 7466,
    "start_time": "2025-02-01T19:54:18.187Z"
   },
   {
    "duration": 26,
    "start_time": "2025-02-01T19:57:45.930Z"
   },
   {
    "duration": 8,
    "start_time": "2025-02-01T20:01:21.369Z"
   },
   {
    "duration": 9,
    "start_time": "2025-02-01T21:03:26.776Z"
   },
   {
    "duration": 3,
    "start_time": "2025-02-01T21:19:28.890Z"
   },
   {
    "duration": 3,
    "start_time": "2025-02-01T21:19:41.995Z"
   },
   {
    "duration": 3,
    "start_time": "2025-02-01T21:20:09.226Z"
   },
   {
    "duration": 983,
    "start_time": "2025-02-01T21:45:15.244Z"
   },
   {
    "duration": 536,
    "start_time": "2025-02-01T21:45:16.231Z"
   },
   {
    "duration": 19,
    "start_time": "2025-02-01T21:45:16.769Z"
   },
   {
    "duration": 16,
    "start_time": "2025-02-01T21:45:16.789Z"
   },
   {
    "duration": 36,
    "start_time": "2025-02-01T21:45:16.807Z"
   },
   {
    "duration": 15,
    "start_time": "2025-02-01T21:45:16.845Z"
   },
   {
    "duration": 87,
    "start_time": "2025-02-01T21:45:16.862Z"
   },
   {
    "duration": 14,
    "start_time": "2025-02-01T21:45:16.951Z"
   },
   {
    "duration": 4,
    "start_time": "2025-02-01T21:45:16.967Z"
   },
   {
    "duration": 8,
    "start_time": "2025-02-01T21:45:16.973Z"
   },
   {
    "duration": 4,
    "start_time": "2025-02-01T21:45:16.983Z"
   },
   {
    "duration": 44,
    "start_time": "2025-02-01T21:45:16.989Z"
   },
   {
    "duration": 10,
    "start_time": "2025-02-01T21:45:17.035Z"
   },
   {
    "duration": 1196,
    "start_time": "2025-02-01T21:45:17.049Z"
   },
   {
    "duration": 14,
    "start_time": "2025-02-01T21:45:18.247Z"
   },
   {
    "duration": 362,
    "start_time": "2025-02-01T21:45:18.262Z"
   },
   {
    "duration": 11,
    "start_time": "2025-02-01T21:45:18.626Z"
   },
   {
    "duration": 7,
    "start_time": "2025-02-01T21:45:18.639Z"
   },
   {
    "duration": 655,
    "start_time": "2025-02-01T21:45:18.647Z"
   },
   {
    "duration": 31,
    "start_time": "2025-02-01T21:45:19.304Z"
   },
   {
    "duration": 5,
    "start_time": "2025-02-01T21:45:19.337Z"
   },
   {
    "duration": 13,
    "start_time": "2025-02-01T21:45:19.343Z"
   },
   {
    "duration": 4,
    "start_time": "2025-02-01T21:45:19.358Z"
   },
   {
    "duration": 4,
    "start_time": "2025-02-01T21:45:19.363Z"
   },
   {
    "duration": 671,
    "start_time": "2025-02-01T21:45:19.368Z"
   },
   {
    "duration": 4,
    "start_time": "2025-02-01T21:45:20.041Z"
   },
   {
    "duration": 19,
    "start_time": "2025-02-01T21:45:20.046Z"
   },
   {
    "duration": 2,
    "start_time": "2025-02-01T21:45:20.067Z"
   },
   {
    "duration": 29662,
    "start_time": "2025-02-01T21:45:20.071Z"
   },
   {
    "duration": 712,
    "start_time": "2025-02-01T21:45:49.735Z"
   },
   {
    "duration": 881,
    "start_time": "2025-02-01T21:45:50.450Z"
   },
   {
    "duration": 7118,
    "start_time": "2025-02-01T21:45:51.333Z"
   },
   {
    "duration": 189,
    "start_time": "2025-02-01T21:45:58.452Z"
   },
   {
    "duration": 89,
    "start_time": "2025-02-01T21:45:58.643Z"
   },
   {
    "duration": 2690,
    "start_time": "2025-02-04T22:11:40.635Z"
   },
   {
    "duration": 627,
    "start_time": "2025-02-04T22:11:43.329Z"
   },
   {
    "duration": 18,
    "start_time": "2025-02-04T22:11:43.958Z"
   },
   {
    "duration": 16,
    "start_time": "2025-02-04T22:11:43.986Z"
   },
   {
    "duration": 15,
    "start_time": "2025-02-04T22:11:44.005Z"
   },
   {
    "duration": 14,
    "start_time": "2025-02-04T22:11:44.022Z"
   },
   {
    "duration": 10,
    "start_time": "2025-02-04T22:11:44.038Z"
   },
   {
    "duration": 42,
    "start_time": "2025-02-04T22:11:44.049Z"
   },
   {
    "duration": 4,
    "start_time": "2025-02-04T22:11:44.092Z"
   },
   {
    "duration": 7,
    "start_time": "2025-02-04T22:11:44.097Z"
   },
   {
    "duration": 4,
    "start_time": "2025-02-04T22:11:44.105Z"
   },
   {
    "duration": 14,
    "start_time": "2025-02-04T22:11:44.111Z"
   },
   {
    "duration": 9,
    "start_time": "2025-02-04T22:11:44.128Z"
   },
   {
    "duration": 1188,
    "start_time": "2025-02-04T22:11:44.142Z"
   },
   {
    "duration": 13,
    "start_time": "2025-02-04T22:11:45.332Z"
   },
   {
    "duration": 254,
    "start_time": "2025-02-04T22:11:45.347Z"
   },
   {
    "duration": 8,
    "start_time": "2025-02-04T22:11:45.603Z"
   },
   {
    "duration": 6,
    "start_time": "2025-02-04T22:11:45.613Z"
   },
   {
    "duration": 744,
    "start_time": "2025-02-04T22:11:45.621Z"
   },
   {
    "duration": 31,
    "start_time": "2025-02-04T22:11:46.367Z"
   },
   {
    "duration": 4,
    "start_time": "2025-02-04T22:11:46.399Z"
   },
   {
    "duration": 12,
    "start_time": "2025-02-04T22:11:46.405Z"
   },
   {
    "duration": 4,
    "start_time": "2025-02-04T22:11:46.419Z"
   },
   {
    "duration": 4,
    "start_time": "2025-02-04T22:11:46.425Z"
   },
   {
    "duration": 662,
    "start_time": "2025-02-04T22:11:46.431Z"
   },
   {
    "duration": 4,
    "start_time": "2025-02-04T22:11:47.095Z"
   },
   {
    "duration": 20,
    "start_time": "2025-02-04T22:11:47.101Z"
   },
   {
    "duration": 3,
    "start_time": "2025-02-04T22:11:47.123Z"
   },
   {
    "duration": 30019,
    "start_time": "2025-02-04T22:11:47.128Z"
   },
   {
    "duration": 454,
    "start_time": "2025-02-04T22:12:17.149Z"
   },
   {
    "duration": 705,
    "start_time": "2025-02-04T22:12:17.604Z"
   },
   {
    "duration": 7489,
    "start_time": "2025-02-04T22:12:18.311Z"
   },
   {
    "duration": 181,
    "start_time": "2025-02-04T22:12:25.805Z"
   },
   {
    "duration": 8,
    "start_time": "2025-02-04T22:12:25.988Z"
   },
   {
    "duration": 10,
    "start_time": "2025-02-04T22:21:41.582Z"
   },
   {
    "duration": 13,
    "start_time": "2025-02-04T22:24:29.131Z"
   },
   {
    "duration": 12,
    "start_time": "2025-02-04T22:25:26.527Z"
   },
   {
    "duration": 11,
    "start_time": "2025-02-04T22:26:09.070Z"
   },
   {
    "duration": 2731,
    "start_time": "2025-02-06T22:33:58.397Z"
   },
   {
    "duration": 595,
    "start_time": "2025-02-06T22:34:01.130Z"
   },
   {
    "duration": 18,
    "start_time": "2025-02-06T22:34:01.728Z"
   },
   {
    "duration": 14,
    "start_time": "2025-02-06T22:34:01.748Z"
   },
   {
    "duration": 16,
    "start_time": "2025-02-06T22:34:01.764Z"
   },
   {
    "duration": 35,
    "start_time": "2025-02-06T22:34:01.781Z"
   },
   {
    "duration": 9,
    "start_time": "2025-02-06T22:34:01.818Z"
   },
   {
    "duration": 13,
    "start_time": "2025-02-06T22:34:01.829Z"
   },
   {
    "duration": 4,
    "start_time": "2025-02-06T22:34:01.844Z"
   },
   {
    "duration": 8,
    "start_time": "2025-02-06T22:34:01.849Z"
   },
   {
    "duration": 4,
    "start_time": "2025-02-06T22:34:01.858Z"
   },
   {
    "duration": 46,
    "start_time": "2025-02-06T22:34:01.863Z"
   },
   {
    "duration": 12,
    "start_time": "2025-02-06T22:34:01.911Z"
   },
   {
    "duration": 9,
    "start_time": "2025-02-06T22:34:01.928Z"
   },
   {
    "duration": 11,
    "start_time": "2025-02-06T22:34:01.939Z"
   },
   {
    "duration": 10,
    "start_time": "2025-02-06T22:34:01.951Z"
   },
   {
    "duration": 1200,
    "start_time": "2025-02-06T22:34:01.962Z"
   },
   {
    "duration": 23,
    "start_time": "2025-02-06T22:34:03.164Z"
   },
   {
    "duration": 254,
    "start_time": "2025-02-06T22:34:03.189Z"
   },
   {
    "duration": 7,
    "start_time": "2025-02-06T22:34:03.445Z"
   },
   {
    "duration": 5,
    "start_time": "2025-02-06T22:34:03.455Z"
   },
   {
    "duration": 733,
    "start_time": "2025-02-06T22:34:03.462Z"
   },
   {
    "duration": 28,
    "start_time": "2025-02-06T22:34:04.196Z"
   },
   {
    "duration": 4,
    "start_time": "2025-02-06T22:34:04.227Z"
   },
   {
    "duration": 13,
    "start_time": "2025-02-06T22:34:04.233Z"
   },
   {
    "duration": 4,
    "start_time": "2025-02-06T22:34:04.248Z"
   },
   {
    "duration": 4,
    "start_time": "2025-02-06T22:34:04.254Z"
   },
   {
    "duration": 649,
    "start_time": "2025-02-06T22:34:04.260Z"
   },
   {
    "duration": 4,
    "start_time": "2025-02-06T22:34:04.910Z"
   },
   {
    "duration": 21,
    "start_time": "2025-02-06T22:34:04.916Z"
   },
   {
    "duration": 3,
    "start_time": "2025-02-06T22:34:04.938Z"
   },
   {
    "duration": 29398,
    "start_time": "2025-02-06T22:34:04.943Z"
   },
   {
    "duration": 477,
    "start_time": "2025-02-06T22:34:34.342Z"
   },
   {
    "duration": 802,
    "start_time": "2025-02-06T22:34:34.821Z"
   },
   {
    "duration": 7884,
    "start_time": "2025-02-06T22:34:35.625Z"
   },
   {
    "duration": 101,
    "start_time": "2025-02-06T22:34:43.511Z"
   },
   {
    "duration": 14,
    "start_time": "2025-02-06T22:34:43.615Z"
   },
   {
    "duration": 208,
    "start_time": "2025-02-06T22:46:32.983Z"
   },
   {
    "duration": 8,
    "start_time": "2025-02-06T22:46:49.447Z"
   },
   {
    "duration": 283,
    "start_time": "2025-02-06T22:47:14.212Z"
   },
   {
    "duration": 131,
    "start_time": "2025-02-06T22:50:07.747Z"
   },
   {
    "duration": 238,
    "start_time": "2025-02-06T22:51:25.362Z"
   },
   {
    "duration": 121,
    "start_time": "2025-02-06T22:53:08.513Z"
   },
   {
    "duration": 152,
    "start_time": "2025-02-06T22:54:18.422Z"
   },
   {
    "duration": 158,
    "start_time": "2025-02-06T22:56:29.792Z"
   },
   {
    "duration": 153,
    "start_time": "2025-02-06T22:57:37.104Z"
   },
   {
    "duration": 133,
    "start_time": "2025-02-06T22:57:56.544Z"
   },
   {
    "duration": 2602,
    "start_time": "2025-02-07T01:22:45.519Z"
   },
   {
    "duration": 577,
    "start_time": "2025-02-07T01:22:48.123Z"
   },
   {
    "duration": 18,
    "start_time": "2025-02-07T01:22:48.702Z"
   },
   {
    "duration": 23,
    "start_time": "2025-02-07T01:22:48.721Z"
   },
   {
    "duration": 15,
    "start_time": "2025-02-07T01:22:48.747Z"
   },
   {
    "duration": 13,
    "start_time": "2025-02-07T01:22:48.763Z"
   },
   {
    "duration": 10,
    "start_time": "2025-02-07T01:22:48.778Z"
   },
   {
    "duration": 14,
    "start_time": "2025-02-07T01:22:48.789Z"
   },
   {
    "duration": 4,
    "start_time": "2025-02-07T01:22:48.804Z"
   },
   {
    "duration": 7,
    "start_time": "2025-02-07T01:22:48.842Z"
   },
   {
    "duration": 4,
    "start_time": "2025-02-07T01:22:48.851Z"
   },
   {
    "duration": 14,
    "start_time": "2025-02-07T01:22:48.857Z"
   },
   {
    "duration": 10,
    "start_time": "2025-02-07T01:22:48.873Z"
   },
   {
    "duration": 9,
    "start_time": "2025-02-07T01:22:48.886Z"
   },
   {
    "duration": 11,
    "start_time": "2025-02-07T01:22:48.896Z"
   },
   {
    "duration": 10,
    "start_time": "2025-02-07T01:22:48.943Z"
   },
   {
    "duration": 1140,
    "start_time": "2025-02-07T01:22:48.954Z"
   },
   {
    "duration": 12,
    "start_time": "2025-02-07T01:22:50.095Z"
   },
   {
    "duration": 249,
    "start_time": "2025-02-07T01:22:50.109Z"
   },
   {
    "duration": 162,
    "start_time": "2025-02-07T01:22:50.359Z"
   },
   {
    "duration": 227,
    "start_time": "2025-02-07T01:22:50.523Z"
   },
   {
    "duration": 8,
    "start_time": "2025-02-07T01:22:50.753Z"
   },
   {
    "duration": 6,
    "start_time": "2025-02-07T01:22:50.763Z"
   },
   {
    "duration": 651,
    "start_time": "2025-02-07T01:22:50.771Z"
   },
   {
    "duration": 26,
    "start_time": "2025-02-07T01:22:51.424Z"
   },
   {
    "duration": 3,
    "start_time": "2025-02-07T01:22:51.452Z"
   },
   {
    "duration": 13,
    "start_time": "2025-02-07T01:22:51.457Z"
   },
   {
    "duration": 4,
    "start_time": "2025-02-07T01:22:51.472Z"
   },
   {
    "duration": 3,
    "start_time": "2025-02-07T01:22:51.478Z"
   },
   {
    "duration": 635,
    "start_time": "2025-02-07T01:22:51.483Z"
   },
   {
    "duration": 4,
    "start_time": "2025-02-07T01:22:52.119Z"
   },
   {
    "duration": 28,
    "start_time": "2025-02-07T01:22:52.124Z"
   },
   {
    "duration": 2,
    "start_time": "2025-02-07T01:22:52.154Z"
   },
   {
    "duration": 29419,
    "start_time": "2025-02-07T01:22:52.157Z"
   },
   {
    "duration": 464,
    "start_time": "2025-02-07T01:23:21.578Z"
   },
   {
    "duration": 898,
    "start_time": "2025-02-07T01:23:22.044Z"
   },
   {
    "duration": 7014,
    "start_time": "2025-02-07T01:23:22.947Z"
   },
   {
    "duration": 282,
    "start_time": "2025-02-07T01:23:29.963Z"
   },
   {
    "duration": 9,
    "start_time": "2025-02-07T01:23:30.247Z"
   },
   {
    "duration": 2835,
    "start_time": "2025-02-07T22:10:30.391Z"
   },
   {
    "duration": 602,
    "start_time": "2025-02-07T22:10:33.228Z"
   },
   {
    "duration": 17,
    "start_time": "2025-02-07T22:10:33.832Z"
   },
   {
    "duration": 15,
    "start_time": "2025-02-07T22:10:33.851Z"
   },
   {
    "duration": 14,
    "start_time": "2025-02-07T22:10:33.869Z"
   },
   {
    "duration": 14,
    "start_time": "2025-02-07T22:10:33.905Z"
   },
   {
    "duration": 11,
    "start_time": "2025-02-07T22:10:33.922Z"
   },
   {
    "duration": 13,
    "start_time": "2025-02-07T22:10:33.935Z"
   },
   {
    "duration": 4,
    "start_time": "2025-02-07T22:10:33.950Z"
   },
   {
    "duration": 8,
    "start_time": "2025-02-07T22:10:33.956Z"
   },
   {
    "duration": 39,
    "start_time": "2025-02-07T22:10:33.966Z"
   },
   {
    "duration": 15,
    "start_time": "2025-02-07T22:10:34.007Z"
   },
   {
    "duration": 11,
    "start_time": "2025-02-07T22:10:34.023Z"
   },
   {
    "duration": 9,
    "start_time": "2025-02-07T22:10:34.038Z"
   },
   {
    "duration": 11,
    "start_time": "2025-02-07T22:10:34.049Z"
   },
   {
    "duration": 481,
    "start_time": "2025-02-07T22:10:34.062Z"
   },
   {
    "duration": 0,
    "start_time": "2025-02-07T22:10:34.545Z"
   },
   {
    "duration": 0,
    "start_time": "2025-02-07T22:10:34.546Z"
   },
   {
    "duration": 0,
    "start_time": "2025-02-07T22:10:34.548Z"
   },
   {
    "duration": 0,
    "start_time": "2025-02-07T22:10:34.549Z"
   },
   {
    "duration": 0,
    "start_time": "2025-02-07T22:10:34.549Z"
   },
   {
    "duration": 0,
    "start_time": "2025-02-07T22:10:34.551Z"
   },
   {
    "duration": 0,
    "start_time": "2025-02-07T22:10:34.551Z"
   },
   {
    "duration": 0,
    "start_time": "2025-02-07T22:10:34.552Z"
   },
   {
    "duration": 0,
    "start_time": "2025-02-07T22:10:34.553Z"
   },
   {
    "duration": 0,
    "start_time": "2025-02-07T22:10:34.554Z"
   },
   {
    "duration": 0,
    "start_time": "2025-02-07T22:10:34.555Z"
   },
   {
    "duration": 0,
    "start_time": "2025-02-07T22:10:34.557Z"
   },
   {
    "duration": 0,
    "start_time": "2025-02-07T22:10:34.558Z"
   },
   {
    "duration": 0,
    "start_time": "2025-02-07T22:10:34.559Z"
   },
   {
    "duration": 0,
    "start_time": "2025-02-07T22:10:34.560Z"
   },
   {
    "duration": 0,
    "start_time": "2025-02-07T22:10:34.561Z"
   },
   {
    "duration": 0,
    "start_time": "2025-02-07T22:10:34.563Z"
   },
   {
    "duration": 1,
    "start_time": "2025-02-07T22:10:34.563Z"
   },
   {
    "duration": 0,
    "start_time": "2025-02-07T22:10:34.564Z"
   },
   {
    "duration": 0,
    "start_time": "2025-02-07T22:10:34.566Z"
   },
   {
    "duration": 0,
    "start_time": "2025-02-07T22:10:34.568Z"
   },
   {
    "duration": 0,
    "start_time": "2025-02-07T22:10:34.605Z"
   },
   {
    "duration": 1,
    "start_time": "2025-02-07T22:10:34.606Z"
   },
   {
    "duration": 0,
    "start_time": "2025-02-07T22:10:34.608Z"
   },
   {
    "duration": 896,
    "start_time": "2025-02-07T22:24:11.769Z"
   },
   {
    "duration": 510,
    "start_time": "2025-02-07T22:24:12.667Z"
   },
   {
    "duration": 28,
    "start_time": "2025-02-07T22:24:13.179Z"
   },
   {
    "duration": 16,
    "start_time": "2025-02-07T22:24:13.209Z"
   },
   {
    "duration": 15,
    "start_time": "2025-02-07T22:24:13.228Z"
   },
   {
    "duration": 14,
    "start_time": "2025-02-07T22:24:13.244Z"
   },
   {
    "duration": 76,
    "start_time": "2025-02-07T22:24:13.259Z"
   },
   {
    "duration": 12,
    "start_time": "2025-02-07T22:24:13.337Z"
   },
   {
    "duration": 3,
    "start_time": "2025-02-07T22:24:13.351Z"
   },
   {
    "duration": 7,
    "start_time": "2025-02-07T22:24:13.355Z"
   },
   {
    "duration": 3,
    "start_time": "2025-02-07T22:24:13.364Z"
   },
   {
    "duration": 43,
    "start_time": "2025-02-07T22:24:13.368Z"
   },
   {
    "duration": 12,
    "start_time": "2025-02-07T22:24:13.412Z"
   },
   {
    "duration": 10,
    "start_time": "2025-02-07T22:24:13.428Z"
   },
   {
    "duration": 11,
    "start_time": "2025-02-07T22:24:13.439Z"
   },
   {
    "duration": 2,
    "start_time": "2025-02-07T22:24:13.452Z"
   },
   {
    "duration": 2,
    "start_time": "2025-02-07T22:24:13.456Z"
   },
   {
    "duration": 1124,
    "start_time": "2025-02-07T22:24:13.460Z"
   },
   {
    "duration": 23,
    "start_time": "2025-02-07T22:24:14.586Z"
   },
   {
    "duration": 334,
    "start_time": "2025-02-07T22:24:14.611Z"
   },
   {
    "duration": 147,
    "start_time": "2025-02-07T22:24:14.947Z"
   },
   {
    "duration": 144,
    "start_time": "2025-02-07T22:24:15.095Z"
   },
   {
    "duration": 7,
    "start_time": "2025-02-07T22:24:15.241Z"
   },
   {
    "duration": 6,
    "start_time": "2025-02-07T22:24:15.250Z"
   },
   {
    "duration": 650,
    "start_time": "2025-02-07T22:24:15.258Z"
   },
   {
    "duration": 24,
    "start_time": "2025-02-07T22:24:15.910Z"
   },
   {
    "duration": 7,
    "start_time": "2025-02-07T22:24:15.935Z"
   },
   {
    "duration": 12,
    "start_time": "2025-02-07T22:24:15.944Z"
   },
   {
    "duration": 3,
    "start_time": "2025-02-07T22:24:15.958Z"
   },
   {
    "duration": 3,
    "start_time": "2025-02-07T22:24:15.963Z"
   },
   {
    "duration": 627,
    "start_time": "2025-02-07T22:24:15.968Z"
   },
   {
    "duration": 9,
    "start_time": "2025-02-07T22:24:16.596Z"
   },
   {
    "duration": 19,
    "start_time": "2025-02-07T22:24:16.607Z"
   },
   {
    "duration": 3,
    "start_time": "2025-02-07T22:24:16.627Z"
   },
   {
    "duration": 121,
    "start_time": "2025-02-07T22:24:16.631Z"
   },
   {
    "duration": 21,
    "start_time": "2025-02-07T22:24:16.754Z"
   },
   {
    "duration": 416,
    "start_time": "2025-02-07T22:24:16.777Z"
   },
   {
    "duration": 0,
    "start_time": "2025-02-07T22:24:17.195Z"
   },
   {
    "duration": 0,
    "start_time": "2025-02-07T22:24:17.205Z"
   },
   {
    "duration": 0,
    "start_time": "2025-02-07T22:24:17.206Z"
   },
   {
    "duration": 10,
    "start_time": "2025-02-07T22:37:35.254Z"
   },
   {
    "duration": 920,
    "start_time": "2025-02-07T22:54:14.737Z"
   },
   {
    "duration": 494,
    "start_time": "2025-02-07T22:54:15.659Z"
   },
   {
    "duration": 18,
    "start_time": "2025-02-07T22:54:16.156Z"
   },
   {
    "duration": 29,
    "start_time": "2025-02-07T22:54:16.176Z"
   },
   {
    "duration": 17,
    "start_time": "2025-02-07T22:54:16.207Z"
   },
   {
    "duration": 13,
    "start_time": "2025-02-07T22:54:16.225Z"
   },
   {
    "duration": 75,
    "start_time": "2025-02-07T22:54:16.240Z"
   },
   {
    "duration": 13,
    "start_time": "2025-02-07T22:54:16.317Z"
   },
   {
    "duration": 4,
    "start_time": "2025-02-07T22:54:16.331Z"
   },
   {
    "duration": 6,
    "start_time": "2025-02-07T22:54:16.339Z"
   },
   {
    "duration": 4,
    "start_time": "2025-02-07T22:54:16.346Z"
   },
   {
    "duration": 13,
    "start_time": "2025-02-07T22:54:16.352Z"
   },
   {
    "duration": 48,
    "start_time": "2025-02-07T22:54:16.367Z"
   },
   {
    "duration": 10,
    "start_time": "2025-02-07T22:54:16.416Z"
   },
   {
    "duration": 10,
    "start_time": "2025-02-07T22:54:16.428Z"
   },
   {
    "duration": 12,
    "start_time": "2025-02-07T22:54:16.440Z"
   },
   {
    "duration": 1135,
    "start_time": "2025-02-07T22:54:16.454Z"
   },
   {
    "duration": 18,
    "start_time": "2025-02-07T22:54:17.591Z"
   },
   {
    "duration": 325,
    "start_time": "2025-02-07T22:54:17.610Z"
   },
   {
    "duration": 146,
    "start_time": "2025-02-07T22:54:17.938Z"
   },
   {
    "duration": 142,
    "start_time": "2025-02-07T22:54:18.086Z"
   },
   {
    "duration": 7,
    "start_time": "2025-02-07T22:54:18.229Z"
   },
   {
    "duration": 6,
    "start_time": "2025-02-07T22:54:18.237Z"
   },
   {
    "duration": 642,
    "start_time": "2025-02-07T22:54:18.246Z"
   },
   {
    "duration": 32,
    "start_time": "2025-02-07T22:54:18.890Z"
   },
   {
    "duration": 4,
    "start_time": "2025-02-07T22:54:18.924Z"
   },
   {
    "duration": 13,
    "start_time": "2025-02-07T22:54:18.930Z"
   },
   {
    "duration": 3,
    "start_time": "2025-02-07T22:54:18.947Z"
   },
   {
    "duration": 4,
    "start_time": "2025-02-07T22:54:18.952Z"
   },
   {
    "duration": 636,
    "start_time": "2025-02-07T22:54:18.958Z"
   },
   {
    "duration": 10,
    "start_time": "2025-02-07T22:54:19.596Z"
   },
   {
    "duration": 20,
    "start_time": "2025-02-07T22:54:19.609Z"
   },
   {
    "duration": 2,
    "start_time": "2025-02-07T22:54:19.631Z"
   },
   {
    "duration": 140,
    "start_time": "2025-02-07T22:54:19.635Z"
   },
   {
    "duration": 35,
    "start_time": "2025-02-07T22:54:19.777Z"
   },
   {
    "duration": 2,
    "start_time": "2025-02-07T22:54:19.817Z"
   },
   {
    "duration": 2,
    "start_time": "2025-02-07T22:54:19.821Z"
   },
   {
    "duration": 226,
    "start_time": "2025-02-07T22:55:25.969Z"
   },
   {
    "duration": 3,
    "start_time": "2025-02-07T22:56:38.395Z"
   },
   {
    "duration": 3,
    "start_time": "2025-02-07T22:56:42.279Z"
   },
   {
    "duration": 4,
    "start_time": "2025-02-07T22:57:58.973Z"
   },
   {
    "duration": 419,
    "start_time": "2025-02-07T22:58:31.957Z"
   },
   {
    "duration": 16,
    "start_time": "2025-02-07T23:02:06.932Z"
   },
   {
    "duration": 11,
    "start_time": "2025-02-07T23:09:47.945Z"
   },
   {
    "duration": 908,
    "start_time": "2025-02-07T23:10:10.543Z"
   },
   {
    "duration": 517,
    "start_time": "2025-02-07T23:10:11.454Z"
   },
   {
    "duration": 18,
    "start_time": "2025-02-07T23:10:11.973Z"
   },
   {
    "duration": 23,
    "start_time": "2025-02-07T23:10:11.992Z"
   },
   {
    "duration": 15,
    "start_time": "2025-02-07T23:10:12.017Z"
   },
   {
    "duration": 14,
    "start_time": "2025-02-07T23:10:12.033Z"
   },
   {
    "duration": 70,
    "start_time": "2025-02-07T23:10:12.050Z"
   },
   {
    "duration": 13,
    "start_time": "2025-02-07T23:10:12.121Z"
   },
   {
    "duration": 4,
    "start_time": "2025-02-07T23:10:12.136Z"
   },
   {
    "duration": 7,
    "start_time": "2025-02-07T23:10:12.141Z"
   },
   {
    "duration": 4,
    "start_time": "2025-02-07T23:10:12.149Z"
   },
   {
    "duration": 13,
    "start_time": "2025-02-07T23:10:12.155Z"
   },
   {
    "duration": 43,
    "start_time": "2025-02-07T23:10:12.170Z"
   },
   {
    "duration": 11,
    "start_time": "2025-02-07T23:10:12.216Z"
   },
   {
    "duration": 11,
    "start_time": "2025-02-07T23:10:12.228Z"
   },
   {
    "duration": 12,
    "start_time": "2025-02-07T23:10:12.240Z"
   },
   {
    "duration": 10,
    "start_time": "2025-02-07T23:10:12.254Z"
   },
   {
    "duration": 1198,
    "start_time": "2025-02-07T23:10:12.266Z"
   },
   {
    "duration": 12,
    "start_time": "2025-02-07T23:10:13.466Z"
   },
   {
    "duration": 353,
    "start_time": "2025-02-07T23:10:13.481Z"
   },
   {
    "duration": 149,
    "start_time": "2025-02-07T23:10:13.835Z"
   },
   {
    "duration": 148,
    "start_time": "2025-02-07T23:10:13.985Z"
   },
   {
    "duration": 10,
    "start_time": "2025-02-07T23:10:14.135Z"
   },
   {
    "duration": 8,
    "start_time": "2025-02-07T23:10:14.146Z"
   },
   {
    "duration": 642,
    "start_time": "2025-02-07T23:10:14.155Z"
   },
   {
    "duration": 27,
    "start_time": "2025-02-07T23:10:14.799Z"
   },
   {
    "duration": 4,
    "start_time": "2025-02-07T23:10:14.827Z"
   },
   {
    "duration": 12,
    "start_time": "2025-02-07T23:10:14.833Z"
   },
   {
    "duration": 4,
    "start_time": "2025-02-07T23:10:14.847Z"
   },
   {
    "duration": 3,
    "start_time": "2025-02-07T23:10:14.853Z"
   },
   {
    "duration": 633,
    "start_time": "2025-02-07T23:10:14.858Z"
   },
   {
    "duration": 4,
    "start_time": "2025-02-07T23:10:15.493Z"
   },
   {
    "duration": 332,
    "start_time": "2025-02-07T23:10:15.506Z"
   },
   {
    "duration": 0,
    "start_time": "2025-02-07T23:10:15.840Z"
   },
   {
    "duration": 0,
    "start_time": "2025-02-07T23:10:15.841Z"
   },
   {
    "duration": 0,
    "start_time": "2025-02-07T23:10:15.842Z"
   },
   {
    "duration": 0,
    "start_time": "2025-02-07T23:10:15.843Z"
   },
   {
    "duration": 0,
    "start_time": "2025-02-07T23:10:15.844Z"
   },
   {
    "duration": 0,
    "start_time": "2025-02-07T23:10:15.845Z"
   },
   {
    "duration": 0,
    "start_time": "2025-02-07T23:10:15.846Z"
   },
   {
    "duration": 0,
    "start_time": "2025-02-07T23:10:15.847Z"
   },
   {
    "duration": 0,
    "start_time": "2025-02-07T23:10:15.849Z"
   },
   {
    "duration": 55,
    "start_time": "2025-02-07T23:12:47.383Z"
   },
   {
    "duration": 515,
    "start_time": "2025-02-07T23:12:56.161Z"
   },
   {
    "duration": 866,
    "start_time": "2025-02-07T23:16:23.291Z"
   },
   {
    "duration": 497,
    "start_time": "2025-02-07T23:16:24.159Z"
   },
   {
    "duration": 18,
    "start_time": "2025-02-07T23:16:24.658Z"
   },
   {
    "duration": 29,
    "start_time": "2025-02-07T23:16:24.678Z"
   },
   {
    "duration": 16,
    "start_time": "2025-02-07T23:16:24.710Z"
   },
   {
    "duration": 13,
    "start_time": "2025-02-07T23:16:24.727Z"
   },
   {
    "duration": 80,
    "start_time": "2025-02-07T23:16:24.741Z"
   },
   {
    "duration": 12,
    "start_time": "2025-02-07T23:16:24.823Z"
   },
   {
    "duration": 4,
    "start_time": "2025-02-07T23:16:24.837Z"
   },
   {
    "duration": 7,
    "start_time": "2025-02-07T23:16:24.842Z"
   },
   {
    "duration": 4,
    "start_time": "2025-02-07T23:16:24.850Z"
   },
   {
    "duration": 14,
    "start_time": "2025-02-07T23:16:24.855Z"
   },
   {
    "duration": 44,
    "start_time": "2025-02-07T23:16:24.871Z"
   },
   {
    "duration": 9,
    "start_time": "2025-02-07T23:16:24.919Z"
   },
   {
    "duration": 1285,
    "start_time": "2025-02-07T23:16:24.929Z"
   },
   {
    "duration": 14,
    "start_time": "2025-02-07T23:16:26.216Z"
   },
   {
    "duration": 369,
    "start_time": "2025-02-07T23:16:26.231Z"
   },
   {
    "duration": 156,
    "start_time": "2025-02-07T23:16:26.605Z"
   },
   {
    "duration": 153,
    "start_time": "2025-02-07T23:16:26.763Z"
   },
   {
    "duration": 7,
    "start_time": "2025-02-07T23:16:26.917Z"
   },
   {
    "duration": 6,
    "start_time": "2025-02-07T23:16:26.926Z"
   },
   {
    "duration": 734,
    "start_time": "2025-02-07T23:16:26.934Z"
   },
   {
    "duration": 36,
    "start_time": "2025-02-07T23:16:27.670Z"
   },
   {
    "duration": 4,
    "start_time": "2025-02-07T23:16:27.708Z"
   },
   {
    "duration": 16,
    "start_time": "2025-02-07T23:16:27.714Z"
   },
   {
    "duration": 4,
    "start_time": "2025-02-07T23:16:27.733Z"
   },
   {
    "duration": 5,
    "start_time": "2025-02-07T23:16:27.738Z"
   },
   {
    "duration": 705,
    "start_time": "2025-02-07T23:16:27.745Z"
   },
   {
    "duration": 3,
    "start_time": "2025-02-07T23:16:28.452Z"
   },
   {
    "duration": 332,
    "start_time": "2025-02-07T23:16:28.457Z"
   },
   {
    "duration": 0,
    "start_time": "2025-02-07T23:16:28.791Z"
   },
   {
    "duration": 0,
    "start_time": "2025-02-07T23:16:28.793Z"
   },
   {
    "duration": 0,
    "start_time": "2025-02-07T23:16:28.797Z"
   },
   {
    "duration": 0,
    "start_time": "2025-02-07T23:16:28.798Z"
   },
   {
    "duration": 0,
    "start_time": "2025-02-07T23:16:28.806Z"
   },
   {
    "duration": 0,
    "start_time": "2025-02-07T23:16:28.807Z"
   },
   {
    "duration": 0,
    "start_time": "2025-02-07T23:16:28.809Z"
   },
   {
    "duration": 0,
    "start_time": "2025-02-07T23:16:28.810Z"
   },
   {
    "duration": 41,
    "start_time": "2025-02-07T23:21:52.390Z"
   },
   {
    "duration": 9,
    "start_time": "2025-02-07T23:23:04.561Z"
   },
   {
    "duration": 135,
    "start_time": "2025-02-07T23:23:09.237Z"
   },
   {
    "duration": 915,
    "start_time": "2025-02-07T23:29:12.943Z"
   },
   {
    "duration": 494,
    "start_time": "2025-02-07T23:29:13.861Z"
   },
   {
    "duration": 18,
    "start_time": "2025-02-07T23:29:14.357Z"
   },
   {
    "duration": 15,
    "start_time": "2025-02-07T23:29:14.376Z"
   },
   {
    "duration": 14,
    "start_time": "2025-02-07T23:29:14.407Z"
   },
   {
    "duration": 14,
    "start_time": "2025-02-07T23:29:14.423Z"
   },
   {
    "duration": 81,
    "start_time": "2025-02-07T23:29:14.439Z"
   },
   {
    "duration": 13,
    "start_time": "2025-02-07T23:29:14.521Z"
   },
   {
    "duration": 4,
    "start_time": "2025-02-07T23:29:14.535Z"
   },
   {
    "duration": 8,
    "start_time": "2025-02-07T23:29:14.540Z"
   },
   {
    "duration": 3,
    "start_time": "2025-02-07T23:29:14.550Z"
   },
   {
    "duration": 14,
    "start_time": "2025-02-07T23:29:14.555Z"
   },
   {
    "duration": 45,
    "start_time": "2025-02-07T23:29:14.570Z"
   },
   {
    "duration": 11,
    "start_time": "2025-02-07T23:29:14.620Z"
   },
   {
    "duration": 1142,
    "start_time": "2025-02-07T23:29:14.632Z"
   },
   {
    "duration": 12,
    "start_time": "2025-02-07T23:29:15.776Z"
   },
   {
    "duration": 347,
    "start_time": "2025-02-07T23:29:15.789Z"
   },
   {
    "duration": 148,
    "start_time": "2025-02-07T23:29:16.138Z"
   },
   {
    "duration": 150,
    "start_time": "2025-02-07T23:29:16.288Z"
   },
   {
    "duration": 8,
    "start_time": "2025-02-07T23:29:16.440Z"
   },
   {
    "duration": 6,
    "start_time": "2025-02-07T23:29:16.450Z"
   },
   {
    "duration": 640,
    "start_time": "2025-02-07T23:29:16.458Z"
   },
   {
    "duration": 24,
    "start_time": "2025-02-07T23:29:17.100Z"
   },
   {
    "duration": 4,
    "start_time": "2025-02-07T23:29:17.126Z"
   },
   {
    "duration": 15,
    "start_time": "2025-02-07T23:29:17.132Z"
   },
   {
    "duration": 3,
    "start_time": "2025-02-07T23:29:17.149Z"
   },
   {
    "duration": 4,
    "start_time": "2025-02-07T23:29:17.154Z"
   },
   {
    "duration": 645,
    "start_time": "2025-02-07T23:29:17.160Z"
   },
   {
    "duration": 3,
    "start_time": "2025-02-07T23:29:17.807Z"
   },
   {
    "duration": 32,
    "start_time": "2025-02-07T23:29:17.812Z"
   },
   {
    "duration": 10,
    "start_time": "2025-02-07T23:29:17.846Z"
   },
   {
    "duration": 464,
    "start_time": "2025-02-07T23:29:17.858Z"
   },
   {
    "duration": 0,
    "start_time": "2025-02-07T23:29:18.324Z"
   },
   {
    "duration": 0,
    "start_time": "2025-02-07T23:29:18.325Z"
   },
   {
    "duration": 0,
    "start_time": "2025-02-07T23:29:18.326Z"
   },
   {
    "duration": 0,
    "start_time": "2025-02-07T23:29:18.327Z"
   },
   {
    "duration": 0,
    "start_time": "2025-02-07T23:29:18.328Z"
   },
   {
    "duration": 5,
    "start_time": "2025-02-07T23:31:45.800Z"
   },
   {
    "duration": 41,
    "start_time": "2025-02-07T23:35:15.717Z"
   },
   {
    "duration": 2607,
    "start_time": "2025-02-08T16:42:20.378Z"
   },
   {
    "duration": 624,
    "start_time": "2025-02-08T16:42:22.987Z"
   },
   {
    "duration": 18,
    "start_time": "2025-02-08T16:42:23.612Z"
   },
   {
    "duration": 15,
    "start_time": "2025-02-08T16:42:23.633Z"
   },
   {
    "duration": 14,
    "start_time": "2025-02-08T16:42:23.650Z"
   },
   {
    "duration": 43,
    "start_time": "2025-02-08T16:42:23.667Z"
   },
   {
    "duration": 12,
    "start_time": "2025-02-08T16:42:23.711Z"
   },
   {
    "duration": 13,
    "start_time": "2025-02-08T16:42:23.724Z"
   },
   {
    "duration": 4,
    "start_time": "2025-02-08T16:42:23.738Z"
   },
   {
    "duration": 7,
    "start_time": "2025-02-08T16:42:23.745Z"
   },
   {
    "duration": 4,
    "start_time": "2025-02-08T16:42:23.753Z"
   },
   {
    "duration": 14,
    "start_time": "2025-02-08T16:42:23.758Z"
   },
   {
    "duration": 45,
    "start_time": "2025-02-08T16:42:23.773Z"
   },
   {
    "duration": 10,
    "start_time": "2025-02-08T16:42:23.820Z"
   },
   {
    "duration": 1157,
    "start_time": "2025-02-08T16:42:23.831Z"
   },
   {
    "duration": 20,
    "start_time": "2025-02-08T16:42:24.990Z"
   },
   {
    "duration": 263,
    "start_time": "2025-02-08T16:42:25.012Z"
   },
   {
    "duration": 147,
    "start_time": "2025-02-08T16:42:25.277Z"
   },
   {
    "duration": 243,
    "start_time": "2025-02-08T16:42:25.426Z"
   },
   {
    "duration": 7,
    "start_time": "2025-02-08T16:42:25.671Z"
   },
   {
    "duration": 6,
    "start_time": "2025-02-08T16:42:25.679Z"
   },
   {
    "duration": 655,
    "start_time": "2025-02-08T16:42:25.687Z"
   },
   {
    "duration": 23,
    "start_time": "2025-02-08T16:42:26.345Z"
   },
   {
    "duration": 5,
    "start_time": "2025-02-08T16:42:26.369Z"
   },
   {
    "duration": 12,
    "start_time": "2025-02-08T16:42:26.376Z"
   },
   {
    "duration": 20,
    "start_time": "2025-02-08T16:42:26.390Z"
   },
   {
    "duration": 4,
    "start_time": "2025-02-08T16:42:26.411Z"
   },
   {
    "duration": 599,
    "start_time": "2025-02-08T16:42:26.419Z"
   },
   {
    "duration": 3,
    "start_time": "2025-02-08T16:42:27.020Z"
   },
   {
    "duration": 32,
    "start_time": "2025-02-08T16:42:27.025Z"
   },
   {
    "duration": 11,
    "start_time": "2025-02-08T16:42:27.058Z"
   },
   {
    "duration": 485,
    "start_time": "2025-02-08T16:42:27.073Z"
   },
   {
    "duration": 0,
    "start_time": "2025-02-08T16:42:27.560Z"
   },
   {
    "duration": 0,
    "start_time": "2025-02-08T16:42:27.562Z"
   },
   {
    "duration": 0,
    "start_time": "2025-02-08T16:42:27.564Z"
   },
   {
    "duration": 0,
    "start_time": "2025-02-08T16:42:27.565Z"
   },
   {
    "duration": 0,
    "start_time": "2025-02-08T16:42:27.567Z"
   },
   {
    "duration": 4,
    "start_time": "2025-02-08T16:47:38.733Z"
   },
   {
    "duration": 7,
    "start_time": "2025-02-08T16:47:42.964Z"
   },
   {
    "duration": 44,
    "start_time": "2025-02-08T16:47:47.672Z"
   },
   {
    "duration": 4,
    "start_time": "2025-02-08T16:50:28.572Z"
   },
   {
    "duration": 21,
    "start_time": "2025-02-08T16:50:33.966Z"
   },
   {
    "duration": 25,
    "start_time": "2025-02-08T16:51:23.039Z"
   },
   {
    "duration": 902,
    "start_time": "2025-02-08T16:58:54.765Z"
   },
   {
    "duration": 530,
    "start_time": "2025-02-08T16:58:55.670Z"
   },
   {
    "duration": 22,
    "start_time": "2025-02-08T16:58:56.202Z"
   },
   {
    "duration": 14,
    "start_time": "2025-02-08T16:58:56.226Z"
   },
   {
    "duration": 16,
    "start_time": "2025-02-08T16:58:56.244Z"
   },
   {
    "duration": 14,
    "start_time": "2025-02-08T16:58:56.261Z"
   },
   {
    "duration": 80,
    "start_time": "2025-02-08T16:58:56.277Z"
   },
   {
    "duration": 16,
    "start_time": "2025-02-08T16:58:56.359Z"
   },
   {
    "duration": 3,
    "start_time": "2025-02-08T16:58:56.377Z"
   },
   {
    "duration": 28,
    "start_time": "2025-02-08T16:58:56.382Z"
   },
   {
    "duration": 4,
    "start_time": "2025-02-08T16:58:56.412Z"
   },
   {
    "duration": 14,
    "start_time": "2025-02-08T16:58:56.418Z"
   },
   {
    "duration": 13,
    "start_time": "2025-02-08T16:58:56.434Z"
   },
   {
    "duration": 9,
    "start_time": "2025-02-08T16:58:56.450Z"
   },
   {
    "duration": 1202,
    "start_time": "2025-02-08T16:58:56.461Z"
   },
   {
    "duration": 12,
    "start_time": "2025-02-08T16:58:57.665Z"
   },
   {
    "duration": 351,
    "start_time": "2025-02-08T16:58:57.678Z"
   },
   {
    "duration": 165,
    "start_time": "2025-02-08T16:58:58.031Z"
   },
   {
    "duration": 149,
    "start_time": "2025-02-08T16:58:58.198Z"
   },
   {
    "duration": 7,
    "start_time": "2025-02-08T16:58:58.349Z"
   },
   {
    "duration": 6,
    "start_time": "2025-02-08T16:58:58.358Z"
   },
   {
    "duration": 662,
    "start_time": "2025-02-08T16:58:58.366Z"
   },
   {
    "duration": 22,
    "start_time": "2025-02-08T16:58:59.030Z"
   },
   {
    "duration": 6,
    "start_time": "2025-02-08T16:58:59.054Z"
   },
   {
    "duration": 13,
    "start_time": "2025-02-08T16:58:59.061Z"
   },
   {
    "duration": 5,
    "start_time": "2025-02-08T16:58:59.076Z"
   },
   {
    "duration": 28,
    "start_time": "2025-02-08T16:58:59.082Z"
   },
   {
    "duration": 650,
    "start_time": "2025-02-08T16:58:59.111Z"
   },
   {
    "duration": 50,
    "start_time": "2025-02-08T16:58:59.763Z"
   },
   {
    "duration": 11,
    "start_time": "2025-02-08T16:58:59.815Z"
   },
   {
    "duration": 3,
    "start_time": "2025-02-08T16:58:59.827Z"
   },
   {
    "duration": 5,
    "start_time": "2025-02-08T16:58:59.832Z"
   },
   {
    "duration": 452,
    "start_time": "2025-02-08T16:58:59.838Z"
   },
   {
    "duration": 0,
    "start_time": "2025-02-08T16:59:00.293Z"
   },
   {
    "duration": 0,
    "start_time": "2025-02-08T16:59:00.293Z"
   },
   {
    "duration": 0,
    "start_time": "2025-02-08T16:59:00.295Z"
   },
   {
    "duration": 0,
    "start_time": "2025-02-08T16:59:00.296Z"
   },
   {
    "duration": 0,
    "start_time": "2025-02-08T16:59:00.309Z"
   },
   {
    "duration": 0,
    "start_time": "2025-02-08T16:59:00.310Z"
   },
   {
    "duration": 4,
    "start_time": "2025-02-08T17:07:05.987Z"
   },
   {
    "duration": 12,
    "start_time": "2025-02-08T17:07:55.306Z"
   },
   {
    "duration": 44,
    "start_time": "2025-02-08T17:08:31.328Z"
   },
   {
    "duration": 3,
    "start_time": "2025-02-08T17:14:48.061Z"
   },
   {
    "duration": 3,
    "start_time": "2025-02-08T17:15:15.173Z"
   },
   {
    "duration": 4,
    "start_time": "2025-02-08T17:15:33.224Z"
   },
   {
    "duration": 4,
    "start_time": "2025-02-08T17:15:53.371Z"
   },
   {
    "duration": 12,
    "start_time": "2025-02-08T17:16:36.076Z"
   },
   {
    "duration": 29,
    "start_time": "2025-02-08T17:17:09.750Z"
   },
   {
    "duration": 2786,
    "start_time": "2025-02-09T00:37:58.627Z"
   },
   {
    "duration": 643,
    "start_time": "2025-02-09T00:38:01.415Z"
   },
   {
    "duration": 19,
    "start_time": "2025-02-09T00:38:02.060Z"
   },
   {
    "duration": 14,
    "start_time": "2025-02-09T00:38:02.081Z"
   },
   {
    "duration": 15,
    "start_time": "2025-02-09T00:38:02.097Z"
   },
   {
    "duration": 32,
    "start_time": "2025-02-09T00:38:02.113Z"
   },
   {
    "duration": 9,
    "start_time": "2025-02-09T00:38:02.147Z"
   },
   {
    "duration": 14,
    "start_time": "2025-02-09T00:38:02.158Z"
   },
   {
    "duration": 6,
    "start_time": "2025-02-09T00:38:02.173Z"
   },
   {
    "duration": 7,
    "start_time": "2025-02-09T00:38:02.181Z"
   },
   {
    "duration": 3,
    "start_time": "2025-02-09T00:38:02.190Z"
   },
   {
    "duration": 49,
    "start_time": "2025-02-09T00:38:02.195Z"
   },
   {
    "duration": 10,
    "start_time": "2025-02-09T00:38:02.247Z"
   },
   {
    "duration": 12,
    "start_time": "2025-02-09T00:38:02.260Z"
   },
   {
    "duration": 1219,
    "start_time": "2025-02-09T00:38:02.273Z"
   },
   {
    "duration": 12,
    "start_time": "2025-02-09T00:38:03.494Z"
   },
   {
    "duration": 265,
    "start_time": "2025-02-09T00:38:03.508Z"
   },
   {
    "duration": 145,
    "start_time": "2025-02-09T00:38:03.775Z"
   },
   {
    "duration": 253,
    "start_time": "2025-02-09T00:38:03.922Z"
   },
   {
    "duration": 8,
    "start_time": "2025-02-09T00:38:04.177Z"
   },
   {
    "duration": 6,
    "start_time": "2025-02-09T00:38:04.187Z"
   },
   {
    "duration": 639,
    "start_time": "2025-02-09T00:38:04.196Z"
   },
   {
    "duration": 22,
    "start_time": "2025-02-09T00:38:04.837Z"
   },
   {
    "duration": 4,
    "start_time": "2025-02-09T00:38:04.860Z"
   },
   {
    "duration": 13,
    "start_time": "2025-02-09T00:38:04.866Z"
   },
   {
    "duration": 3,
    "start_time": "2025-02-09T00:38:04.881Z"
   },
   {
    "duration": 4,
    "start_time": "2025-02-09T00:38:04.885Z"
   },
   {
    "duration": 651,
    "start_time": "2025-02-09T00:38:04.890Z"
   },
   {
    "duration": 32,
    "start_time": "2025-02-09T00:38:05.543Z"
   },
   {
    "duration": 11,
    "start_time": "2025-02-09T00:38:05.577Z"
   },
   {
    "duration": 5,
    "start_time": "2025-02-09T00:38:05.590Z"
   },
   {
    "duration": 6,
    "start_time": "2025-02-09T00:38:05.597Z"
   },
   {
    "duration": 470,
    "start_time": "2025-02-09T00:38:05.605Z"
   },
   {
    "duration": 0,
    "start_time": "2025-02-09T00:38:06.077Z"
   },
   {
    "duration": 0,
    "start_time": "2025-02-09T00:38:06.078Z"
   },
   {
    "duration": 0,
    "start_time": "2025-02-09T00:38:06.079Z"
   },
   {
    "duration": 0,
    "start_time": "2025-02-09T00:38:06.080Z"
   },
   {
    "duration": 0,
    "start_time": "2025-02-09T00:38:06.082Z"
   },
   {
    "duration": 0,
    "start_time": "2025-02-09T00:38:06.083Z"
   },
   {
    "duration": 16,
    "start_time": "2025-02-09T00:39:20.077Z"
   },
   {
    "duration": 19,
    "start_time": "2025-02-09T00:39:48.597Z"
   },
   {
    "duration": 886,
    "start_time": "2025-02-09T00:39:56.514Z"
   },
   {
    "duration": 545,
    "start_time": "2025-02-09T00:39:57.403Z"
   },
   {
    "duration": 18,
    "start_time": "2025-02-09T00:39:57.950Z"
   },
   {
    "duration": 16,
    "start_time": "2025-02-09T00:39:57.971Z"
   },
   {
    "duration": 14,
    "start_time": "2025-02-09T00:39:57.989Z"
   },
   {
    "duration": 42,
    "start_time": "2025-02-09T00:39:58.005Z"
   },
   {
    "duration": 63,
    "start_time": "2025-02-09T00:39:58.049Z"
   },
   {
    "duration": 32,
    "start_time": "2025-02-09T00:39:58.115Z"
   },
   {
    "duration": 4,
    "start_time": "2025-02-09T00:39:58.149Z"
   },
   {
    "duration": 7,
    "start_time": "2025-02-09T00:39:58.157Z"
   },
   {
    "duration": 4,
    "start_time": "2025-02-09T00:39:58.165Z"
   },
   {
    "duration": 23,
    "start_time": "2025-02-09T00:39:58.171Z"
   },
   {
    "duration": 36,
    "start_time": "2025-02-09T00:39:58.196Z"
   },
   {
    "duration": 11,
    "start_time": "2025-02-09T00:39:58.235Z"
   },
   {
    "duration": 1158,
    "start_time": "2025-02-09T00:39:58.247Z"
   },
   {
    "duration": 12,
    "start_time": "2025-02-09T00:39:59.407Z"
   },
   {
    "duration": 364,
    "start_time": "2025-02-09T00:39:59.420Z"
   },
   {
    "duration": 147,
    "start_time": "2025-02-09T00:39:59.786Z"
   },
   {
    "duration": 156,
    "start_time": "2025-02-09T00:39:59.935Z"
   },
   {
    "duration": 8,
    "start_time": "2025-02-09T00:40:00.093Z"
   },
   {
    "duration": 7,
    "start_time": "2025-02-09T00:40:00.102Z"
   },
   {
    "duration": 673,
    "start_time": "2025-02-09T00:40:00.110Z"
   },
   {
    "duration": 24,
    "start_time": "2025-02-09T00:40:00.784Z"
   },
   {
    "duration": 4,
    "start_time": "2025-02-09T00:40:00.809Z"
   },
   {
    "duration": 27,
    "start_time": "2025-02-09T00:40:00.815Z"
   },
   {
    "duration": 4,
    "start_time": "2025-02-09T00:40:00.844Z"
   },
   {
    "duration": 4,
    "start_time": "2025-02-09T00:40:00.849Z"
   },
   {
    "duration": 641,
    "start_time": "2025-02-09T00:40:00.857Z"
   },
   {
    "duration": 40,
    "start_time": "2025-02-09T00:40:01.499Z"
   },
   {
    "duration": 11,
    "start_time": "2025-02-09T00:40:01.541Z"
   },
   {
    "duration": 131,
    "start_time": "2025-02-09T00:40:01.554Z"
   },
   {
    "duration": 4,
    "start_time": "2025-02-09T00:40:01.687Z"
   },
   {
    "duration": 721,
    "start_time": "2025-02-09T00:40:01.692Z"
   },
   {
    "duration": 0,
    "start_time": "2025-02-09T00:40:02.414Z"
   },
   {
    "duration": 0,
    "start_time": "2025-02-09T00:40:02.416Z"
   },
   {
    "duration": 0,
    "start_time": "2025-02-09T00:40:02.416Z"
   },
   {
    "duration": 0,
    "start_time": "2025-02-09T00:40:02.418Z"
   },
   {
    "duration": 4,
    "start_time": "2025-02-09T00:41:49.618Z"
   },
   {
    "duration": 22,
    "start_time": "2025-02-09T00:41:54.596Z"
   },
   {
    "duration": 2,
    "start_time": "2025-02-09T00:42:54.066Z"
   },
   {
    "duration": 4,
    "start_time": "2025-02-09T00:42:58.212Z"
   },
   {
    "duration": 58,
    "start_time": "2025-02-09T00:45:37.688Z"
   },
   {
    "duration": 916,
    "start_time": "2025-02-09T00:48:18.593Z"
   },
   {
    "duration": 523,
    "start_time": "2025-02-09T00:48:19.511Z"
   },
   {
    "duration": 19,
    "start_time": "2025-02-09T00:48:20.036Z"
   },
   {
    "duration": 16,
    "start_time": "2025-02-09T00:48:20.057Z"
   },
   {
    "duration": 16,
    "start_time": "2025-02-09T00:48:20.075Z"
   },
   {
    "duration": 44,
    "start_time": "2025-02-09T00:48:20.092Z"
   },
   {
    "duration": 64,
    "start_time": "2025-02-09T00:48:20.138Z"
   },
   {
    "duration": 27,
    "start_time": "2025-02-09T00:48:20.204Z"
   },
   {
    "duration": 5,
    "start_time": "2025-02-09T00:48:20.233Z"
   },
   {
    "duration": 8,
    "start_time": "2025-02-09T00:48:20.241Z"
   },
   {
    "duration": 4,
    "start_time": "2025-02-09T00:48:20.250Z"
   },
   {
    "duration": 15,
    "start_time": "2025-02-09T00:48:20.256Z"
   },
   {
    "duration": 14,
    "start_time": "2025-02-09T00:48:20.273Z"
   },
   {
    "duration": 43,
    "start_time": "2025-02-09T00:48:20.289Z"
   },
   {
    "duration": 1143,
    "start_time": "2025-02-09T00:48:20.334Z"
   },
   {
    "duration": 13,
    "start_time": "2025-02-09T00:48:21.479Z"
   },
   {
    "duration": 357,
    "start_time": "2025-02-09T00:48:21.494Z"
   },
   {
    "duration": 158,
    "start_time": "2025-02-09T00:48:21.853Z"
   },
   {
    "duration": 142,
    "start_time": "2025-02-09T00:48:22.012Z"
   },
   {
    "duration": 7,
    "start_time": "2025-02-09T00:48:22.156Z"
   },
   {
    "duration": 7,
    "start_time": "2025-02-09T00:48:22.164Z"
   },
   {
    "duration": 658,
    "start_time": "2025-02-09T00:48:22.173Z"
   },
   {
    "duration": 23,
    "start_time": "2025-02-09T00:48:22.834Z"
   },
   {
    "duration": 4,
    "start_time": "2025-02-09T00:48:22.860Z"
   },
   {
    "duration": 14,
    "start_time": "2025-02-09T00:48:22.866Z"
   },
   {
    "duration": 4,
    "start_time": "2025-02-09T00:48:22.882Z"
   },
   {
    "duration": 5,
    "start_time": "2025-02-09T00:48:22.888Z"
   },
   {
    "duration": 664,
    "start_time": "2025-02-09T00:48:22.896Z"
   },
   {
    "duration": 34,
    "start_time": "2025-02-09T00:48:23.563Z"
   },
   {
    "duration": 13,
    "start_time": "2025-02-09T00:48:23.600Z"
   },
   {
    "duration": 153,
    "start_time": "2025-02-09T00:48:23.615Z"
   },
   {
    "duration": 4,
    "start_time": "2025-02-09T00:48:23.769Z"
   },
   {
    "duration": 5,
    "start_time": "2025-02-09T00:48:23.775Z"
   },
   {
    "duration": 256,
    "start_time": "2025-02-09T00:48:23.782Z"
   },
   {
    "duration": 0,
    "start_time": "2025-02-09T00:48:24.040Z"
   },
   {
    "duration": 0,
    "start_time": "2025-02-09T00:48:24.042Z"
   },
   {
    "duration": 2640,
    "start_time": "2025-02-11T02:14:41.156Z"
   },
   {
    "duration": 648,
    "start_time": "2025-02-11T02:14:43.798Z"
   },
   {
    "duration": 18,
    "start_time": "2025-02-11T02:14:44.447Z"
   },
   {
    "duration": 15,
    "start_time": "2025-02-11T02:14:44.466Z"
   },
   {
    "duration": 14,
    "start_time": "2025-02-11T02:14:44.484Z"
   },
   {
    "duration": 15,
    "start_time": "2025-02-11T02:14:44.523Z"
   },
   {
    "duration": 10,
    "start_time": "2025-02-11T02:14:44.539Z"
   },
   {
    "duration": 12,
    "start_time": "2025-02-11T02:14:44.550Z"
   },
   {
    "duration": 3,
    "start_time": "2025-02-11T02:14:44.564Z"
   },
   {
    "duration": 8,
    "start_time": "2025-02-11T02:14:44.568Z"
   },
   {
    "duration": 3,
    "start_time": "2025-02-11T02:14:44.577Z"
   },
   {
    "duration": 48,
    "start_time": "2025-02-11T02:14:44.582Z"
   },
   {
    "duration": 13,
    "start_time": "2025-02-11T02:14:44.631Z"
   },
   {
    "duration": 9,
    "start_time": "2025-02-11T02:14:44.648Z"
   },
   {
    "duration": 1157,
    "start_time": "2025-02-11T02:14:44.659Z"
   },
   {
    "duration": 16,
    "start_time": "2025-02-11T02:14:45.818Z"
   },
   {
    "duration": 279,
    "start_time": "2025-02-11T02:14:45.836Z"
   },
   {
    "duration": 138,
    "start_time": "2025-02-11T02:14:46.118Z"
   },
   {
    "duration": 139,
    "start_time": "2025-02-11T02:14:46.258Z"
   },
   {
    "duration": 7,
    "start_time": "2025-02-11T02:14:46.399Z"
   },
   {
    "duration": 18,
    "start_time": "2025-02-11T02:14:46.407Z"
   },
   {
    "duration": 749,
    "start_time": "2025-02-11T02:14:46.426Z"
   },
   {
    "duration": 26,
    "start_time": "2025-02-11T02:14:47.176Z"
   },
   {
    "duration": 20,
    "start_time": "2025-02-11T02:14:47.204Z"
   },
   {
    "duration": 14,
    "start_time": "2025-02-11T02:14:47.228Z"
   },
   {
    "duration": 3,
    "start_time": "2025-02-11T02:14:47.244Z"
   },
   {
    "duration": 4,
    "start_time": "2025-02-11T02:14:47.249Z"
   },
   {
    "duration": 659,
    "start_time": "2025-02-11T02:14:47.255Z"
   },
   {
    "duration": 37,
    "start_time": "2025-02-11T02:14:47.916Z"
   },
   {
    "duration": 10,
    "start_time": "2025-02-11T02:14:47.955Z"
   },
   {
    "duration": 17,
    "start_time": "2025-02-11T02:14:47.967Z"
   },
   {
    "duration": 3,
    "start_time": "2025-02-11T02:14:47.986Z"
   },
   {
    "duration": 3,
    "start_time": "2025-02-11T02:14:47.991Z"
   },
   {
    "duration": 275,
    "start_time": "2025-02-11T02:14:47.996Z"
   },
   {
    "duration": 0,
    "start_time": "2025-02-11T02:14:48.272Z"
   },
   {
    "duration": 0,
    "start_time": "2025-02-11T02:14:48.274Z"
   },
   {
    "duration": 22,
    "start_time": "2025-02-11T02:20:12.582Z"
   },
   {
    "duration": 18,
    "start_time": "2025-02-11T02:21:03.283Z"
   },
   {
    "duration": 436,
    "start_time": "2025-02-11T02:26:30.026Z"
   },
   {
    "duration": 967,
    "start_time": "2025-02-11T02:31:06.837Z"
   },
   {
    "duration": 527,
    "start_time": "2025-02-11T02:31:07.806Z"
   },
   {
    "duration": 18,
    "start_time": "2025-02-11T02:31:08.334Z"
   },
   {
    "duration": 15,
    "start_time": "2025-02-11T02:31:08.354Z"
   },
   {
    "duration": 14,
    "start_time": "2025-02-11T02:31:08.371Z"
   },
   {
    "duration": 39,
    "start_time": "2025-02-11T02:31:08.387Z"
   },
   {
    "duration": 54,
    "start_time": "2025-02-11T02:31:08.427Z"
   },
   {
    "duration": 13,
    "start_time": "2025-02-11T02:31:08.483Z"
   },
   {
    "duration": 3,
    "start_time": "2025-02-11T02:31:08.498Z"
   },
   {
    "duration": 6,
    "start_time": "2025-02-11T02:31:08.525Z"
   },
   {
    "duration": 4,
    "start_time": "2025-02-11T02:31:08.533Z"
   },
   {
    "duration": 14,
    "start_time": "2025-02-11T02:31:08.538Z"
   },
   {
    "duration": 12,
    "start_time": "2025-02-11T02:31:08.553Z"
   },
   {
    "duration": 9,
    "start_time": "2025-02-11T02:31:08.567Z"
   },
   {
    "duration": 1128,
    "start_time": "2025-02-11T02:31:08.578Z"
   },
   {
    "duration": 21,
    "start_time": "2025-02-11T02:31:09.708Z"
   },
   {
    "duration": 330,
    "start_time": "2025-02-11T02:31:09.731Z"
   },
   {
    "duration": 145,
    "start_time": "2025-02-11T02:31:10.063Z"
   },
   {
    "duration": 149,
    "start_time": "2025-02-11T02:31:10.210Z"
   },
   {
    "duration": 7,
    "start_time": "2025-02-11T02:31:10.361Z"
   },
   {
    "duration": 6,
    "start_time": "2025-02-11T02:31:10.369Z"
   },
   {
    "duration": 627,
    "start_time": "2025-02-11T02:31:10.377Z"
   },
   {
    "duration": 31,
    "start_time": "2025-02-11T02:31:11.006Z"
   },
   {
    "duration": 3,
    "start_time": "2025-02-11T02:31:11.039Z"
   },
   {
    "duration": 13,
    "start_time": "2025-02-11T02:31:11.044Z"
   },
   {
    "duration": 4,
    "start_time": "2025-02-11T02:31:11.058Z"
   },
   {
    "duration": 3,
    "start_time": "2025-02-11T02:31:11.064Z"
   },
   {
    "duration": 642,
    "start_time": "2025-02-11T02:31:11.071Z"
   },
   {
    "duration": 39,
    "start_time": "2025-02-11T02:31:11.715Z"
   },
   {
    "duration": 11,
    "start_time": "2025-02-11T02:31:11.755Z"
   },
   {
    "duration": 110,
    "start_time": "2025-02-11T02:31:11.768Z"
   },
   {
    "duration": 4,
    "start_time": "2025-02-11T02:31:11.880Z"
   },
   {
    "duration": 4,
    "start_time": "2025-02-11T02:31:11.886Z"
   },
   {
    "duration": 256,
    "start_time": "2025-02-11T02:31:11.892Z"
   },
   {
    "duration": 0,
    "start_time": "2025-02-11T02:31:12.149Z"
   },
   {
    "duration": 0,
    "start_time": "2025-02-11T02:31:12.150Z"
   },
   {
    "duration": 25,
    "start_time": "2025-02-11T02:40:51.966Z"
   },
   {
    "duration": 4,
    "start_time": "2025-02-11T02:42:15.668Z"
   },
   {
    "duration": 1024,
    "start_time": "2025-02-11T02:42:23.264Z"
   },
   {
    "duration": 612,
    "start_time": "2025-02-11T02:42:24.290Z"
   },
   {
    "duration": 21,
    "start_time": "2025-02-11T02:42:24.904Z"
   },
   {
    "duration": 19,
    "start_time": "2025-02-11T02:42:24.928Z"
   },
   {
    "duration": 20,
    "start_time": "2025-02-11T02:42:24.948Z"
   },
   {
    "duration": 13,
    "start_time": "2025-02-11T02:42:24.970Z"
   },
   {
    "duration": 95,
    "start_time": "2025-02-11T02:42:24.985Z"
   },
   {
    "duration": 14,
    "start_time": "2025-02-11T02:42:25.082Z"
   },
   {
    "duration": 4,
    "start_time": "2025-02-11T02:42:25.098Z"
   },
   {
    "duration": 28,
    "start_time": "2025-02-11T02:42:25.105Z"
   },
   {
    "duration": 5,
    "start_time": "2025-02-11T02:42:25.135Z"
   },
   {
    "duration": 23,
    "start_time": "2025-02-11T02:42:25.142Z"
   },
   {
    "duration": 14,
    "start_time": "2025-02-11T02:42:25.169Z"
   },
   {
    "duration": 11,
    "start_time": "2025-02-11T02:42:25.185Z"
   },
   {
    "duration": 1337,
    "start_time": "2025-02-11T02:42:25.198Z"
   },
   {
    "duration": 21,
    "start_time": "2025-02-11T02:42:26.537Z"
   },
   {
    "duration": 386,
    "start_time": "2025-02-11T02:42:26.560Z"
   },
   {
    "duration": 157,
    "start_time": "2025-02-11T02:42:26.948Z"
   },
   {
    "duration": 172,
    "start_time": "2025-02-11T02:42:27.107Z"
   },
   {
    "duration": 7,
    "start_time": "2025-02-11T02:42:27.282Z"
   },
   {
    "duration": 7,
    "start_time": "2025-02-11T02:42:27.291Z"
   },
   {
    "duration": 794,
    "start_time": "2025-02-11T02:42:27.299Z"
   },
   {
    "duration": 29,
    "start_time": "2025-02-11T02:42:28.095Z"
   },
   {
    "duration": 8,
    "start_time": "2025-02-11T02:42:28.126Z"
   },
   {
    "duration": 20,
    "start_time": "2025-02-11T02:42:28.136Z"
   },
   {
    "duration": 4,
    "start_time": "2025-02-11T02:42:28.158Z"
   },
   {
    "duration": 4,
    "start_time": "2025-02-11T02:42:28.164Z"
   },
   {
    "duration": 738,
    "start_time": "2025-02-11T02:42:28.172Z"
   },
   {
    "duration": 44,
    "start_time": "2025-02-11T02:42:28.911Z"
   },
   {
    "duration": 13,
    "start_time": "2025-02-11T02:42:28.957Z"
   },
   {
    "duration": 131,
    "start_time": "2025-02-11T02:42:28.972Z"
   },
   {
    "duration": 4,
    "start_time": "2025-02-11T02:42:29.104Z"
   },
   {
    "duration": 16,
    "start_time": "2025-02-11T02:42:29.110Z"
   },
   {
    "duration": 302,
    "start_time": "2025-02-11T02:42:29.127Z"
   },
   {
    "duration": 0,
    "start_time": "2025-02-11T02:42:29.431Z"
   },
   {
    "duration": 0,
    "start_time": "2025-02-11T02:42:29.434Z"
   },
   {
    "duration": 892,
    "start_time": "2025-02-11T02:42:44.908Z"
   },
   {
    "duration": 626,
    "start_time": "2025-02-11T02:42:45.803Z"
   },
   {
    "duration": 27,
    "start_time": "2025-02-11T02:42:46.431Z"
   },
   {
    "duration": 18,
    "start_time": "2025-02-11T02:42:46.460Z"
   },
   {
    "duration": 14,
    "start_time": "2025-02-11T02:42:46.480Z"
   },
   {
    "duration": 37,
    "start_time": "2025-02-11T02:42:46.496Z"
   },
   {
    "duration": 70,
    "start_time": "2025-02-11T02:42:46.535Z"
   },
   {
    "duration": 19,
    "start_time": "2025-02-11T02:42:46.606Z"
   },
   {
    "duration": 5,
    "start_time": "2025-02-11T02:42:46.626Z"
   },
   {
    "duration": 8,
    "start_time": "2025-02-11T02:42:46.633Z"
   },
   {
    "duration": 4,
    "start_time": "2025-02-11T02:42:46.643Z"
   },
   {
    "duration": 19,
    "start_time": "2025-02-11T02:42:46.649Z"
   },
   {
    "duration": 11,
    "start_time": "2025-02-11T02:42:46.671Z"
   },
   {
    "duration": 43,
    "start_time": "2025-02-11T02:42:46.686Z"
   },
   {
    "duration": 1322,
    "start_time": "2025-02-11T02:42:46.731Z"
   },
   {
    "duration": 17,
    "start_time": "2025-02-11T02:42:48.057Z"
   },
   {
    "duration": 420,
    "start_time": "2025-02-11T02:42:48.077Z"
   },
   {
    "duration": 166,
    "start_time": "2025-02-11T02:42:48.499Z"
   },
   {
    "duration": 144,
    "start_time": "2025-02-11T02:42:48.667Z"
   },
   {
    "duration": 15,
    "start_time": "2025-02-11T02:42:48.813Z"
   },
   {
    "duration": 9,
    "start_time": "2025-02-11T02:42:48.830Z"
   },
   {
    "duration": 727,
    "start_time": "2025-02-11T02:42:48.840Z"
   },
   {
    "duration": 25,
    "start_time": "2025-02-11T02:42:49.569Z"
   },
   {
    "duration": 4,
    "start_time": "2025-02-11T02:42:49.596Z"
   },
   {
    "duration": 31,
    "start_time": "2025-02-11T02:42:49.602Z"
   },
   {
    "duration": 5,
    "start_time": "2025-02-11T02:42:49.635Z"
   },
   {
    "duration": 4,
    "start_time": "2025-02-11T02:42:49.642Z"
   },
   {
    "duration": 710,
    "start_time": "2025-02-11T02:42:49.648Z"
   },
   {
    "duration": 38,
    "start_time": "2025-02-11T02:42:50.360Z"
   },
   {
    "duration": 11,
    "start_time": "2025-02-11T02:42:50.400Z"
   },
   {
    "duration": 107,
    "start_time": "2025-02-11T02:42:50.428Z"
   },
   {
    "duration": 4,
    "start_time": "2025-02-11T02:42:50.539Z"
   },
   {
    "duration": 6,
    "start_time": "2025-02-11T02:42:50.545Z"
   },
   {
    "duration": 301,
    "start_time": "2025-02-11T02:42:50.552Z"
   },
   {
    "duration": 0,
    "start_time": "2025-02-11T02:42:50.854Z"
   },
   {
    "duration": 0,
    "start_time": "2025-02-11T02:42:50.856Z"
   },
   {
    "duration": 22,
    "start_time": "2025-02-11T02:43:27.701Z"
   },
   {
    "duration": 5,
    "start_time": "2025-02-11T02:43:34.752Z"
   },
   {
    "duration": 32,
    "start_time": "2025-02-11T02:43:38.654Z"
   },
   {
    "duration": 7,
    "start_time": "2025-02-11T02:44:10.931Z"
   },
   {
    "duration": 181,
    "start_time": "2025-02-11T02:44:14.162Z"
   },
   {
    "duration": 901,
    "start_time": "2025-02-11T02:48:48.776Z"
   },
   {
    "duration": 502,
    "start_time": "2025-02-11T02:48:49.679Z"
   },
   {
    "duration": 19,
    "start_time": "2025-02-11T02:48:50.182Z"
   },
   {
    "duration": 29,
    "start_time": "2025-02-11T02:48:50.202Z"
   },
   {
    "duration": 13,
    "start_time": "2025-02-11T02:48:50.234Z"
   },
   {
    "duration": 14,
    "start_time": "2025-02-11T02:48:50.249Z"
   },
   {
    "duration": 71,
    "start_time": "2025-02-11T02:48:50.264Z"
   },
   {
    "duration": 14,
    "start_time": "2025-02-11T02:48:50.337Z"
   },
   {
    "duration": 4,
    "start_time": "2025-02-11T02:48:50.353Z"
   },
   {
    "duration": 7,
    "start_time": "2025-02-11T02:48:50.359Z"
   },
   {
    "duration": 3,
    "start_time": "2025-02-11T02:48:50.368Z"
   },
   {
    "duration": 51,
    "start_time": "2025-02-11T02:48:50.373Z"
   },
   {
    "duration": 14,
    "start_time": "2025-02-11T02:48:50.426Z"
   },
   {
    "duration": 10,
    "start_time": "2025-02-11T02:48:50.444Z"
   },
   {
    "duration": 1130,
    "start_time": "2025-02-11T02:48:50.456Z"
   },
   {
    "duration": 12,
    "start_time": "2025-02-11T02:48:51.588Z"
   },
   {
    "duration": 345,
    "start_time": "2025-02-11T02:48:51.601Z"
   },
   {
    "duration": 142,
    "start_time": "2025-02-11T02:48:51.949Z"
   },
   {
    "duration": 146,
    "start_time": "2025-02-11T02:48:52.093Z"
   },
   {
    "duration": 8,
    "start_time": "2025-02-11T02:48:52.241Z"
   },
   {
    "duration": 8,
    "start_time": "2025-02-11T02:48:52.251Z"
   },
   {
    "duration": 657,
    "start_time": "2025-02-11T02:48:52.260Z"
   },
   {
    "duration": 23,
    "start_time": "2025-02-11T02:48:52.919Z"
   },
   {
    "duration": 4,
    "start_time": "2025-02-11T02:48:52.944Z"
   },
   {
    "duration": 12,
    "start_time": "2025-02-11T02:48:52.950Z"
   },
   {
    "duration": 4,
    "start_time": "2025-02-11T02:48:52.963Z"
   },
   {
    "duration": 3,
    "start_time": "2025-02-11T02:48:52.969Z"
   },
   {
    "duration": 623,
    "start_time": "2025-02-11T02:48:52.974Z"
   },
   {
    "duration": 36,
    "start_time": "2025-02-11T02:48:53.599Z"
   },
   {
    "duration": 11,
    "start_time": "2025-02-11T02:48:53.637Z"
   },
   {
    "duration": 125,
    "start_time": "2025-02-11T02:48:53.650Z"
   },
   {
    "duration": 3,
    "start_time": "2025-02-11T02:48:53.777Z"
   },
   {
    "duration": 5,
    "start_time": "2025-02-11T02:48:53.782Z"
   },
   {
    "duration": 366,
    "start_time": "2025-02-11T02:48:53.788Z"
   },
   {
    "duration": 0,
    "start_time": "2025-02-11T02:48:54.156Z"
   },
   {
    "duration": 0,
    "start_time": "2025-02-11T02:48:54.157Z"
   },
   {
    "duration": 4,
    "start_time": "2025-02-11T02:55:47.365Z"
   },
   {
    "duration": 47,
    "start_time": "2025-02-11T02:55:51.759Z"
   },
   {
    "duration": 4,
    "start_time": "2025-02-11T02:56:30.449Z"
   },
   {
    "duration": 306,
    "start_time": "2025-02-11T02:56:33.634Z"
   },
   {
    "duration": 4,
    "start_time": "2025-02-11T02:58:10.225Z"
   },
   {
    "duration": 48,
    "start_time": "2025-02-11T02:58:14.923Z"
   },
   {
    "duration": 3,
    "start_time": "2025-02-11T02:59:58.572Z"
   },
   {
    "duration": 180,
    "start_time": "2025-02-11T03:00:02.835Z"
   },
   {
    "duration": 6,
    "start_time": "2025-02-11T03:03:53.008Z"
   },
   {
    "duration": 31,
    "start_time": "2025-02-11T03:03:55.871Z"
   },
   {
    "duration": 5,
    "start_time": "2025-02-11T03:04:49.174Z"
   },
   {
    "duration": 25,
    "start_time": "2025-02-11T03:04:52.606Z"
   },
   {
    "duration": 918,
    "start_time": "2025-02-11T03:05:26.025Z"
   },
   {
    "duration": 505,
    "start_time": "2025-02-11T03:05:26.945Z"
   },
   {
    "duration": 24,
    "start_time": "2025-02-11T03:05:27.452Z"
   },
   {
    "duration": 19,
    "start_time": "2025-02-11T03:05:27.479Z"
   },
   {
    "duration": 28,
    "start_time": "2025-02-11T03:05:27.500Z"
   },
   {
    "duration": 18,
    "start_time": "2025-02-11T03:05:27.530Z"
   },
   {
    "duration": 89,
    "start_time": "2025-02-11T03:05:27.550Z"
   },
   {
    "duration": 20,
    "start_time": "2025-02-11T03:05:27.640Z"
   },
   {
    "duration": 4,
    "start_time": "2025-02-11T03:05:27.662Z"
   },
   {
    "duration": 7,
    "start_time": "2025-02-11T03:05:27.671Z"
   },
   {
    "duration": 5,
    "start_time": "2025-02-11T03:05:27.680Z"
   },
   {
    "duration": 46,
    "start_time": "2025-02-11T03:05:27.686Z"
   },
   {
    "duration": 13,
    "start_time": "2025-02-11T03:05:27.734Z"
   },
   {
    "duration": 13,
    "start_time": "2025-02-11T03:05:27.749Z"
   },
   {
    "duration": 1254,
    "start_time": "2025-02-11T03:05:27.764Z"
   },
   {
    "duration": 13,
    "start_time": "2025-02-11T03:05:29.024Z"
   },
   {
    "duration": 415,
    "start_time": "2025-02-11T03:05:29.039Z"
   },
   {
    "duration": 155,
    "start_time": "2025-02-11T03:05:29.456Z"
   },
   {
    "duration": 161,
    "start_time": "2025-02-11T03:05:29.614Z"
   },
   {
    "duration": 8,
    "start_time": "2025-02-11T03:05:29.777Z"
   },
   {
    "duration": 7,
    "start_time": "2025-02-11T03:05:29.787Z"
   },
   {
    "duration": 681,
    "start_time": "2025-02-11T03:05:29.796Z"
   },
   {
    "duration": 22,
    "start_time": "2025-02-11T03:05:30.479Z"
   },
   {
    "duration": 4,
    "start_time": "2025-02-11T03:05:30.502Z"
   },
   {
    "duration": 28,
    "start_time": "2025-02-11T03:05:30.507Z"
   },
   {
    "duration": 6,
    "start_time": "2025-02-11T03:05:30.537Z"
   },
   {
    "duration": 3,
    "start_time": "2025-02-11T03:05:30.545Z"
   },
   {
    "duration": 657,
    "start_time": "2025-02-11T03:05:30.553Z"
   },
   {
    "duration": 46,
    "start_time": "2025-02-11T03:05:31.213Z"
   },
   {
    "duration": 13,
    "start_time": "2025-02-11T03:05:31.261Z"
   },
   {
    "duration": 172,
    "start_time": "2025-02-11T03:05:31.276Z"
   },
   {
    "duration": 5,
    "start_time": "2025-02-11T03:05:31.451Z"
   },
   {
    "duration": 6,
    "start_time": "2025-02-11T03:05:31.459Z"
   },
   {
    "duration": 294,
    "start_time": "2025-02-11T03:05:31.467Z"
   },
   {
    "duration": 4,
    "start_time": "2025-02-11T03:06:44.759Z"
   },
   {
    "duration": 147,
    "start_time": "2025-02-11T03:06:46.885Z"
   },
   {
    "duration": 4,
    "start_time": "2025-02-11T03:08:21.952Z"
   },
   {
    "duration": 25,
    "start_time": "2025-02-11T03:08:25.446Z"
   },
   {
    "duration": 4,
    "start_time": "2025-02-11T03:09:30.578Z"
   },
   {
    "duration": 202,
    "start_time": "2025-02-11T03:09:36.005Z"
   },
   {
    "duration": 4,
    "start_time": "2025-02-11T03:11:39.796Z"
   },
   {
    "duration": 115,
    "start_time": "2025-02-11T03:11:45.599Z"
   },
   {
    "duration": 4,
    "start_time": "2025-02-11T03:12:25.061Z"
   },
   {
    "duration": 47,
    "start_time": "2025-02-11T03:12:28.614Z"
   },
   {
    "duration": 4,
    "start_time": "2025-02-11T03:13:14.483Z"
   },
   {
    "duration": 47,
    "start_time": "2025-02-11T03:13:21.231Z"
   },
   {
    "duration": 4,
    "start_time": "2025-02-11T03:13:35.503Z"
   },
   {
    "duration": 54,
    "start_time": "2025-02-11T03:13:37.878Z"
   },
   {
    "duration": 9,
    "start_time": "2025-02-11T03:37:49.779Z"
   },
   {
    "duration": 156,
    "start_time": "2025-02-11T22:10:29.783Z"
   },
   {
    "duration": 2640,
    "start_time": "2025-02-11T22:10:41.432Z"
   },
   {
    "duration": 585,
    "start_time": "2025-02-11T22:10:44.074Z"
   },
   {
    "duration": 18,
    "start_time": "2025-02-11T22:10:44.662Z"
   },
   {
    "duration": 16,
    "start_time": "2025-02-11T22:10:44.681Z"
   },
   {
    "duration": 15,
    "start_time": "2025-02-11T22:10:44.700Z"
   },
   {
    "duration": 35,
    "start_time": "2025-02-11T22:10:44.716Z"
   },
   {
    "duration": 10,
    "start_time": "2025-02-11T22:10:44.753Z"
   },
   {
    "duration": 13,
    "start_time": "2025-02-11T22:10:44.765Z"
   },
   {
    "duration": 5,
    "start_time": "2025-02-11T22:10:44.779Z"
   },
   {
    "duration": 12,
    "start_time": "2025-02-11T22:12:23.669Z"
   },
   {
    "duration": 10,
    "start_time": "2025-02-11T22:13:21.375Z"
   },
   {
    "duration": 3,
    "start_time": "2025-02-11T22:15:09.810Z"
   },
   {
    "duration": 4,
    "start_time": "2025-02-11T22:17:12.528Z"
   },
   {
    "duration": 4,
    "start_time": "2025-02-11T22:20:57.780Z"
   },
   {
    "duration": 2,
    "start_time": "2025-02-11T22:23:31.927Z"
   },
   {
    "duration": 3,
    "start_time": "2025-02-11T22:27:36.947Z"
   },
   {
    "duration": 391,
    "start_time": "2025-02-11T22:28:26.080Z"
   },
   {
    "duration": 5,
    "start_time": "2025-02-11T22:30:40.557Z"
   },
   {
    "duration": 33,
    "start_time": "2025-02-11T22:32:59.162Z"
   },
   {
    "duration": 6,
    "start_time": "2025-02-11T22:33:09.639Z"
   },
   {
    "duration": 363,
    "start_time": "2025-02-11T22:35:11.483Z"
   },
   {
    "duration": 353,
    "start_time": "2025-02-11T22:45:17.155Z"
   },
   {
    "duration": 371,
    "start_time": "2025-02-11T22:45:34.913Z"
   },
   {
    "duration": 229,
    "start_time": "2025-02-11T22:46:50.713Z"
   },
   {
    "duration": 176,
    "start_time": "2025-02-11T22:47:40.247Z"
   },
   {
    "duration": 681,
    "start_time": "2025-02-11T22:47:59.220Z"
   },
   {
    "duration": 129,
    "start_time": "2025-02-11T22:48:48.388Z"
   },
   {
    "duration": 136,
    "start_time": "2025-02-11T22:49:18.119Z"
   },
   {
    "duration": 6,
    "start_time": "2025-02-11T22:51:12.195Z"
   },
   {
    "duration": 7,
    "start_time": "2025-02-11T22:51:16.057Z"
   },
   {
    "duration": 114,
    "start_time": "2025-02-11T22:51:37.700Z"
   },
   {
    "duration": 137,
    "start_time": "2025-02-11T22:51:45.788Z"
   },
   {
    "duration": 135,
    "start_time": "2025-02-11T22:51:55.359Z"
   },
   {
    "duration": 17,
    "start_time": "2025-02-11T22:55:11.289Z"
   },
   {
    "duration": 159,
    "start_time": "2025-02-11T22:58:24.542Z"
   },
   {
    "duration": 128,
    "start_time": "2025-02-11T22:58:32.762Z"
   },
   {
    "duration": 119,
    "start_time": "2025-02-11T22:59:24.092Z"
   },
   {
    "duration": 8,
    "start_time": "2025-02-11T22:59:32.540Z"
   },
   {
    "duration": 7,
    "start_time": "2025-02-11T22:59:36.173Z"
   },
   {
    "duration": 127,
    "start_time": "2025-02-11T22:59:45.257Z"
   },
   {
    "duration": 32,
    "start_time": "2025-02-11T22:59:54.641Z"
   },
   {
    "duration": 22,
    "start_time": "2025-02-11T23:00:05.053Z"
   },
   {
    "duration": 4,
    "start_time": "2025-02-11T23:00:52.210Z"
   },
   {
    "duration": 96,
    "start_time": "2025-02-11T23:01:01.888Z"
   },
   {
    "duration": 3,
    "start_time": "2025-02-11T23:01:49.999Z"
   },
   {
    "duration": 50,
    "start_time": "2025-02-11T23:04:23.081Z"
   },
   {
    "duration": 925,
    "start_time": "2025-02-11T23:07:04.965Z"
   },
   {
    "duration": 512,
    "start_time": "2025-02-11T23:07:05.892Z"
   },
   {
    "duration": 19,
    "start_time": "2025-02-11T23:07:06.405Z"
   },
   {
    "duration": 23,
    "start_time": "2025-02-11T23:07:06.427Z"
   },
   {
    "duration": 15,
    "start_time": "2025-02-11T23:07:06.453Z"
   },
   {
    "duration": 13,
    "start_time": "2025-02-11T23:07:06.470Z"
   },
   {
    "duration": 74,
    "start_time": "2025-02-11T23:07:06.485Z"
   },
   {
    "duration": 12,
    "start_time": "2025-02-11T23:07:06.561Z"
   },
   {
    "duration": 6,
    "start_time": "2025-02-11T23:07:06.575Z"
   },
   {
    "duration": 4,
    "start_time": "2025-02-11T23:07:06.584Z"
   },
   {
    "duration": 10,
    "start_time": "2025-02-11T23:07:06.590Z"
   },
   {
    "duration": 4,
    "start_time": "2025-02-11T23:07:06.601Z"
   },
   {
    "duration": 3,
    "start_time": "2025-02-11T23:07:06.606Z"
   },
   {
    "duration": 4,
    "start_time": "2025-02-11T23:07:06.643Z"
   },
   {
    "duration": 3,
    "start_time": "2025-02-11T23:07:06.648Z"
   },
   {
    "duration": 4,
    "start_time": "2025-02-11T23:07:06.653Z"
   },
   {
    "duration": 5,
    "start_time": "2025-02-11T23:07:06.659Z"
   },
   {
    "duration": 379,
    "start_time": "2025-02-11T23:07:06.665Z"
   },
   {
    "duration": 341,
    "start_time": "2025-02-11T23:07:07.046Z"
   },
   {
    "duration": 396,
    "start_time": "2025-02-11T23:07:07.389Z"
   },
   {
    "duration": 16,
    "start_time": "2025-02-11T23:07:07.787Z"
   },
   {
    "duration": 700,
    "start_time": "2025-02-11T23:07:07.805Z"
   },
   {
    "duration": 217,
    "start_time": "2025-02-11T23:07:08.507Z"
   },
   {
    "duration": 131,
    "start_time": "2025-02-11T23:07:08.726Z"
   },
   {
    "duration": 6,
    "start_time": "2025-02-11T23:07:08.861Z"
   },
   {
    "duration": 6,
    "start_time": "2025-02-11T23:07:08.869Z"
   },
   {
    "duration": 141,
    "start_time": "2025-02-11T23:07:08.876Z"
   },
   {
    "duration": 34,
    "start_time": "2025-02-11T23:07:09.021Z"
   },
   {
    "duration": 234,
    "start_time": "2025-02-11T23:07:09.057Z"
   },
   {
    "duration": 0,
    "start_time": "2025-02-11T23:07:09.293Z"
   },
   {
    "duration": 0,
    "start_time": "2025-02-11T23:07:09.294Z"
   },
   {
    "duration": 0,
    "start_time": "2025-02-11T23:07:09.295Z"
   },
   {
    "duration": 0,
    "start_time": "2025-02-11T23:07:09.296Z"
   },
   {
    "duration": 0,
    "start_time": "2025-02-11T23:07:09.297Z"
   },
   {
    "duration": 0,
    "start_time": "2025-02-11T23:07:09.298Z"
   },
   {
    "duration": 0,
    "start_time": "2025-02-11T23:07:09.299Z"
   },
   {
    "duration": 12,
    "start_time": "2025-02-11T23:09:10.589Z"
   },
   {
    "duration": 10,
    "start_time": "2025-02-11T23:10:28.591Z"
   },
   {
    "duration": 20,
    "start_time": "2025-02-11T23:12:05.323Z"
   },
   {
    "duration": 42,
    "start_time": "2025-02-11T23:12:11.308Z"
   },
   {
    "duration": 509,
    "start_time": "2025-02-11T23:12:22.757Z"
   },
   {
    "duration": 941,
    "start_time": "2025-02-11T23:14:30.271Z"
   },
   {
    "duration": 497,
    "start_time": "2025-02-11T23:14:31.214Z"
   },
   {
    "duration": 18,
    "start_time": "2025-02-11T23:14:31.713Z"
   },
   {
    "duration": 23,
    "start_time": "2025-02-11T23:14:31.733Z"
   },
   {
    "duration": 15,
    "start_time": "2025-02-11T23:14:31.757Z"
   },
   {
    "duration": 14,
    "start_time": "2025-02-11T23:14:31.773Z"
   },
   {
    "duration": 87,
    "start_time": "2025-02-11T23:14:31.789Z"
   },
   {
    "duration": 15,
    "start_time": "2025-02-11T23:14:31.878Z"
   },
   {
    "duration": 7,
    "start_time": "2025-02-11T23:14:31.895Z"
   },
   {
    "duration": 5,
    "start_time": "2025-02-11T23:14:31.905Z"
   },
   {
    "duration": 32,
    "start_time": "2025-02-11T23:14:31.913Z"
   },
   {
    "duration": 4,
    "start_time": "2025-02-11T23:14:31.947Z"
   },
   {
    "duration": 4,
    "start_time": "2025-02-11T23:14:31.952Z"
   },
   {
    "duration": 5,
    "start_time": "2025-02-11T23:14:31.957Z"
   },
   {
    "duration": 3,
    "start_time": "2025-02-11T23:14:31.966Z"
   },
   {
    "duration": 4,
    "start_time": "2025-02-11T23:14:31.971Z"
   },
   {
    "duration": 5,
    "start_time": "2025-02-11T23:14:31.976Z"
   },
   {
    "duration": 411,
    "start_time": "2025-02-11T23:14:31.983Z"
   },
   {
    "duration": 353,
    "start_time": "2025-02-11T23:14:32.396Z"
   },
   {
    "duration": 402,
    "start_time": "2025-02-11T23:14:32.751Z"
   },
   {
    "duration": 16,
    "start_time": "2025-02-11T23:14:33.155Z"
   },
   {
    "duration": 722,
    "start_time": "2025-02-11T23:14:33.173Z"
   },
   {
    "duration": 222,
    "start_time": "2025-02-11T23:14:33.897Z"
   },
   {
    "duration": 128,
    "start_time": "2025-02-11T23:14:34.120Z"
   },
   {
    "duration": 6,
    "start_time": "2025-02-11T23:14:34.250Z"
   },
   {
    "duration": 8,
    "start_time": "2025-02-11T23:14:34.258Z"
   },
   {
    "duration": 152,
    "start_time": "2025-02-11T23:14:34.267Z"
   },
   {
    "duration": 33,
    "start_time": "2025-02-11T23:14:34.423Z"
   },
   {
    "duration": 13,
    "start_time": "2025-02-11T23:14:34.458Z"
   },
   {
    "duration": 10,
    "start_time": "2025-02-11T23:14:34.473Z"
   },
   {
    "duration": 59,
    "start_time": "2025-02-11T23:14:34.485Z"
   },
   {
    "duration": 349,
    "start_time": "2025-02-11T23:14:34.545Z"
   },
   {
    "duration": 0,
    "start_time": "2025-02-11T23:14:34.896Z"
   },
   {
    "duration": 0,
    "start_time": "2025-02-11T23:14:34.898Z"
   },
   {
    "duration": 0,
    "start_time": "2025-02-11T23:14:34.899Z"
   },
   {
    "duration": 0,
    "start_time": "2025-02-11T23:14:34.900Z"
   },
   {
    "duration": 0,
    "start_time": "2025-02-11T23:14:34.901Z"
   },
   {
    "duration": 8,
    "start_time": "2025-02-11T23:16:18.320Z"
   },
   {
    "duration": 4,
    "start_time": "2025-02-11T23:16:51.888Z"
   },
   {
    "duration": 11,
    "start_time": "2025-02-11T23:17:40.569Z"
   },
   {
    "duration": 4,
    "start_time": "2025-02-11T23:19:02.181Z"
   },
   {
    "duration": 63818,
    "start_time": "2025-02-11T23:19:20.163Z"
   },
   {
    "duration": 321,
    "start_time": "2025-02-11T23:23:59.627Z"
   },
   {
    "duration": 6492,
    "start_time": "2025-02-11T23:25:26.166Z"
   },
   {
    "duration": 887,
    "start_time": "2025-02-11T23:27:34.816Z"
   },
   {
    "duration": 505,
    "start_time": "2025-02-11T23:27:35.706Z"
   },
   {
    "duration": 19,
    "start_time": "2025-02-11T23:27:36.213Z"
   },
   {
    "duration": 20,
    "start_time": "2025-02-11T23:27:36.233Z"
   },
   {
    "duration": 14,
    "start_time": "2025-02-11T23:27:36.256Z"
   },
   {
    "duration": 14,
    "start_time": "2025-02-11T23:27:36.272Z"
   },
   {
    "duration": 76,
    "start_time": "2025-02-11T23:27:36.288Z"
   },
   {
    "duration": 13,
    "start_time": "2025-02-11T23:27:36.365Z"
   },
   {
    "duration": 5,
    "start_time": "2025-02-11T23:27:36.380Z"
   },
   {
    "duration": 5,
    "start_time": "2025-02-11T23:27:36.387Z"
   },
   {
    "duration": 9,
    "start_time": "2025-02-11T23:27:36.394Z"
   },
   {
    "duration": 3,
    "start_time": "2025-02-11T23:27:36.405Z"
   },
   {
    "duration": 33,
    "start_time": "2025-02-11T23:27:36.410Z"
   },
   {
    "duration": 4,
    "start_time": "2025-02-11T23:27:36.447Z"
   },
   {
    "duration": 3,
    "start_time": "2025-02-11T23:27:36.452Z"
   },
   {
    "duration": 5,
    "start_time": "2025-02-11T23:27:36.457Z"
   },
   {
    "duration": 6,
    "start_time": "2025-02-11T23:27:36.463Z"
   },
   {
    "duration": 399,
    "start_time": "2025-02-11T23:27:36.471Z"
   },
   {
    "duration": 345,
    "start_time": "2025-02-11T23:27:36.871Z"
   },
   {
    "duration": 384,
    "start_time": "2025-02-11T23:27:37.218Z"
   },
   {
    "duration": 17,
    "start_time": "2025-02-11T23:27:37.604Z"
   },
   {
    "duration": 769,
    "start_time": "2025-02-11T23:27:37.623Z"
   },
   {
    "duration": 216,
    "start_time": "2025-02-11T23:27:38.394Z"
   },
   {
    "duration": 141,
    "start_time": "2025-02-11T23:27:38.611Z"
   },
   {
    "duration": 10,
    "start_time": "2025-02-11T23:27:38.754Z"
   },
   {
    "duration": 8,
    "start_time": "2025-02-11T23:27:38.765Z"
   },
   {
    "duration": 160,
    "start_time": "2025-02-11T23:27:38.774Z"
   },
   {
    "duration": 25,
    "start_time": "2025-02-11T23:27:38.943Z"
   },
   {
    "duration": 13,
    "start_time": "2025-02-11T23:27:38.970Z"
   },
   {
    "duration": 11,
    "start_time": "2025-02-11T23:27:38.984Z"
   },
   {
    "duration": 62,
    "start_time": "2025-02-11T23:27:38.997Z"
   },
   {
    "duration": 9,
    "start_time": "2025-02-11T23:27:39.061Z"
   },
   {
    "duration": 5,
    "start_time": "2025-02-11T23:27:39.073Z"
   },
   {
    "duration": 10,
    "start_time": "2025-02-11T23:27:39.079Z"
   },
   {
    "duration": 4,
    "start_time": "2025-02-11T23:27:39.090Z"
   },
   {
    "duration": 63785,
    "start_time": "2025-02-11T23:27:39.096Z"
   },
   {
    "duration": 274,
    "start_time": "2025-02-11T23:28:42.883Z"
   },
   {
    "duration": 6600,
    "start_time": "2025-02-11T23:28:43.159Z"
   },
   {
    "duration": 2648,
    "start_time": "2025-02-12T00:25:18.450Z"
   },
   {
    "duration": 664,
    "start_time": "2025-02-12T00:25:21.100Z"
   },
   {
    "duration": 17,
    "start_time": "2025-02-12T00:25:21.765Z"
   },
   {
    "duration": 14,
    "start_time": "2025-02-12T00:25:21.784Z"
   },
   {
    "duration": 14,
    "start_time": "2025-02-12T00:25:21.807Z"
   },
   {
    "duration": 14,
    "start_time": "2025-02-12T00:25:21.823Z"
   },
   {
    "duration": 9,
    "start_time": "2025-02-12T00:25:21.839Z"
   },
   {
    "duration": 12,
    "start_time": "2025-02-12T00:25:21.849Z"
   },
   {
    "duration": 5,
    "start_time": "2025-02-12T00:25:21.863Z"
   },
   {
    "duration": 5,
    "start_time": "2025-02-12T00:25:21.905Z"
   },
   {
    "duration": 9,
    "start_time": "2025-02-12T00:25:21.911Z"
   },
   {
    "duration": 3,
    "start_time": "2025-02-12T00:25:21.921Z"
   },
   {
    "duration": 4,
    "start_time": "2025-02-12T00:25:21.926Z"
   },
   {
    "duration": 4,
    "start_time": "2025-02-12T00:25:21.933Z"
   },
   {
    "duration": 3,
    "start_time": "2025-02-12T00:25:21.938Z"
   },
   {
    "duration": 4,
    "start_time": "2025-02-12T00:25:21.942Z"
   },
   {
    "duration": 4,
    "start_time": "2025-02-12T00:25:21.948Z"
   },
   {
    "duration": 408,
    "start_time": "2025-02-12T00:25:21.954Z"
   },
   {
    "duration": 443,
    "start_time": "2025-02-12T00:25:22.364Z"
   },
   {
    "duration": 392,
    "start_time": "2025-02-12T00:25:22.810Z"
   },
   {
    "duration": 18,
    "start_time": "2025-02-12T00:25:23.205Z"
   },
   {
    "duration": 735,
    "start_time": "2025-02-12T00:25:23.225Z"
   },
   {
    "duration": 136,
    "start_time": "2025-02-12T00:25:23.963Z"
   },
   {
    "duration": 137,
    "start_time": "2025-02-12T00:25:24.105Z"
   },
   {
    "duration": 7,
    "start_time": "2025-02-12T00:25:24.244Z"
   },
   {
    "duration": 6,
    "start_time": "2025-02-12T00:25:24.253Z"
   },
   {
    "duration": 148,
    "start_time": "2025-02-12T00:25:24.261Z"
   },
   {
    "duration": 26,
    "start_time": "2025-02-12T00:25:24.411Z"
   },
   {
    "duration": 13,
    "start_time": "2025-02-12T00:25:24.439Z"
   },
   {
    "duration": 11,
    "start_time": "2025-02-12T00:25:24.453Z"
   },
   {
    "duration": 68,
    "start_time": "2025-02-12T00:25:24.465Z"
   },
   {
    "duration": 8,
    "start_time": "2025-02-12T00:25:24.535Z"
   },
   {
    "duration": 3,
    "start_time": "2025-02-12T00:25:24.545Z"
   },
   {
    "duration": 9,
    "start_time": "2025-02-12T00:25:24.551Z"
   },
   {
    "duration": 5,
    "start_time": "2025-02-12T00:25:24.561Z"
   },
   {
    "duration": 63728,
    "start_time": "2025-02-12T00:25:24.567Z"
   },
   {
    "duration": 509,
    "start_time": "2025-02-12T00:26:28.297Z"
   },
   {
    "duration": 6746,
    "start_time": "2025-02-12T00:26:28.808Z"
   },
   {
    "duration": 868,
    "start_time": "2025-02-12T00:27:51.477Z"
   },
   {
    "duration": 535,
    "start_time": "2025-02-12T00:27:52.347Z"
   },
   {
    "duration": 44,
    "start_time": "2025-02-12T00:27:52.884Z"
   },
   {
    "duration": 28,
    "start_time": "2025-02-12T00:27:52.930Z"
   },
   {
    "duration": 55,
    "start_time": "2025-02-12T00:27:52.962Z"
   },
   {
    "duration": 15,
    "start_time": "2025-02-12T00:27:53.018Z"
   },
   {
    "duration": 71,
    "start_time": "2025-02-12T00:27:53.034Z"
   },
   {
    "duration": 13,
    "start_time": "2025-02-12T00:27:53.107Z"
   },
   {
    "duration": 9,
    "start_time": "2025-02-12T00:27:53.123Z"
   },
   {
    "duration": 4,
    "start_time": "2025-02-12T00:27:53.134Z"
   },
   {
    "duration": 9,
    "start_time": "2025-02-12T00:27:53.140Z"
   },
   {
    "duration": 3,
    "start_time": "2025-02-12T00:27:53.150Z"
   },
   {
    "duration": 3,
    "start_time": "2025-02-12T00:27:53.155Z"
   },
   {
    "duration": 3,
    "start_time": "2025-02-12T00:27:53.163Z"
   },
   {
    "duration": 37,
    "start_time": "2025-02-12T00:27:53.168Z"
   },
   {
    "duration": 4,
    "start_time": "2025-02-12T00:27:53.207Z"
   },
   {
    "duration": 5,
    "start_time": "2025-02-12T00:27:53.212Z"
   },
   {
    "duration": 384,
    "start_time": "2025-02-12T00:27:53.219Z"
   },
   {
    "duration": 351,
    "start_time": "2025-02-12T00:27:53.605Z"
   },
   {
    "duration": 540,
    "start_time": "2025-02-12T00:27:53.958Z"
   },
   {
    "duration": 27,
    "start_time": "2025-02-12T00:27:54.505Z"
   },
   {
    "duration": 727,
    "start_time": "2025-02-12T00:27:54.534Z"
   },
   {
    "duration": 204,
    "start_time": "2025-02-12T00:27:55.263Z"
   },
   {
    "duration": 131,
    "start_time": "2025-02-12T00:27:55.469Z"
   },
   {
    "duration": 9,
    "start_time": "2025-02-12T00:27:55.601Z"
   },
   {
    "duration": 6,
    "start_time": "2025-02-12T00:27:55.612Z"
   },
   {
    "duration": 146,
    "start_time": "2025-02-12T00:27:55.620Z"
   },
   {
    "duration": 24,
    "start_time": "2025-02-12T00:27:55.768Z"
   },
   {
    "duration": 21,
    "start_time": "2025-02-12T00:27:55.794Z"
   },
   {
    "duration": 10,
    "start_time": "2025-02-12T00:27:55.817Z"
   },
   {
    "duration": 40,
    "start_time": "2025-02-12T00:27:55.828Z"
   },
   {
    "duration": 38,
    "start_time": "2025-02-12T00:27:55.870Z"
   },
   {
    "duration": 4,
    "start_time": "2025-02-12T00:27:55.909Z"
   },
   {
    "duration": 10,
    "start_time": "2025-02-12T00:27:55.915Z"
   },
   {
    "duration": 4,
    "start_time": "2025-02-12T00:27:55.928Z"
   },
   {
    "duration": 63594,
    "start_time": "2025-02-12T00:27:55.936Z"
   },
   {
    "duration": 284,
    "start_time": "2025-02-12T00:28:59.532Z"
   },
   {
    "duration": 6644,
    "start_time": "2025-02-12T00:28:59.818Z"
   },
   {
    "duration": 537,
    "start_time": "2025-02-12T00:33:16.444Z"
   },
   {
    "duration": 5,
    "start_time": "2025-02-12T00:33:25.628Z"
   },
   {
    "duration": 1037,
    "start_time": "2025-02-12T03:24:57.717Z"
   },
   {
    "duration": 561,
    "start_time": "2025-02-12T03:24:58.757Z"
   },
   {
    "duration": 43,
    "start_time": "2025-02-12T03:24:59.320Z"
   },
   {
    "duration": 28,
    "start_time": "2025-02-12T03:24:59.364Z"
   },
   {
    "duration": 52,
    "start_time": "2025-02-12T03:24:59.394Z"
   },
   {
    "duration": 16,
    "start_time": "2025-02-12T03:24:59.447Z"
   },
   {
    "duration": 66,
    "start_time": "2025-02-12T03:24:59.464Z"
   },
   {
    "duration": 12,
    "start_time": "2025-02-12T03:24:59.531Z"
   },
   {
    "duration": 5,
    "start_time": "2025-02-12T03:24:59.545Z"
   },
   {
    "duration": 5,
    "start_time": "2025-02-12T03:24:59.552Z"
   },
   {
    "duration": 9,
    "start_time": "2025-02-12T03:24:59.559Z"
   },
   {
    "duration": 3,
    "start_time": "2025-02-12T03:24:59.570Z"
   },
   {
    "duration": 36,
    "start_time": "2025-02-12T03:24:59.575Z"
   },
   {
    "duration": 6,
    "start_time": "2025-02-12T03:24:59.615Z"
   },
   {
    "duration": 3,
    "start_time": "2025-02-12T03:24:59.622Z"
   },
   {
    "duration": 5,
    "start_time": "2025-02-12T03:24:59.627Z"
   },
   {
    "duration": 5,
    "start_time": "2025-02-12T03:24:59.634Z"
   },
   {
    "duration": 413,
    "start_time": "2025-02-12T03:24:59.641Z"
   },
   {
    "duration": 343,
    "start_time": "2025-02-12T03:25:00.055Z"
   },
   {
    "duration": 401,
    "start_time": "2025-02-12T03:25:00.400Z"
   },
   {
    "duration": 21,
    "start_time": "2025-02-12T03:25:00.803Z"
   },
   {
    "duration": 732,
    "start_time": "2025-02-12T03:25:00.826Z"
   },
   {
    "duration": 203,
    "start_time": "2025-02-12T03:25:01.559Z"
   },
   {
    "duration": 136,
    "start_time": "2025-02-12T03:25:01.764Z"
   },
   {
    "duration": 7,
    "start_time": "2025-02-12T03:25:01.902Z"
   },
   {
    "duration": 6,
    "start_time": "2025-02-12T03:25:01.911Z"
   },
   {
    "duration": 144,
    "start_time": "2025-02-12T03:25:01.919Z"
   },
   {
    "duration": 25,
    "start_time": "2025-02-12T03:25:02.065Z"
   },
   {
    "duration": 25,
    "start_time": "2025-02-12T03:25:02.092Z"
   },
   {
    "duration": 10,
    "start_time": "2025-02-12T03:25:02.119Z"
   },
   {
    "duration": 39,
    "start_time": "2025-02-12T03:25:02.130Z"
   },
   {
    "duration": 54,
    "start_time": "2025-02-12T03:25:02.171Z"
   },
   {
    "duration": 35,
    "start_time": "2025-02-12T03:27:42.304Z"
   },
   {
    "duration": 34,
    "start_time": "2025-02-12T03:28:24.000Z"
   },
   {
    "duration": 35,
    "start_time": "2025-02-12T03:29:13.668Z"
   },
   {
    "duration": 158,
    "start_time": "2025-02-12T04:21:32.188Z"
   },
   {
    "duration": 2834,
    "start_time": "2025-02-12T04:21:41.705Z"
   },
   {
    "duration": 658,
    "start_time": "2025-02-12T04:21:44.542Z"
   },
   {
    "duration": 49,
    "start_time": "2025-02-12T04:21:45.202Z"
   },
   {
    "duration": 28,
    "start_time": "2025-02-12T04:21:45.253Z"
   },
   {
    "duration": 58,
    "start_time": "2025-02-12T04:21:45.284Z"
   },
   {
    "duration": 14,
    "start_time": "2025-02-12T04:21:45.344Z"
   },
   {
    "duration": 11,
    "start_time": "2025-02-12T04:21:45.361Z"
   },
   {
    "duration": 38,
    "start_time": "2025-02-12T04:21:45.374Z"
   },
   {
    "duration": 6,
    "start_time": "2025-02-12T04:21:45.413Z"
   },
   {
    "duration": 5,
    "start_time": "2025-02-12T04:21:45.422Z"
   },
   {
    "duration": 10,
    "start_time": "2025-02-12T04:21:45.429Z"
   },
   {
    "duration": 4,
    "start_time": "2025-02-12T04:21:45.441Z"
   },
   {
    "duration": 3,
    "start_time": "2025-02-12T04:21:45.447Z"
   },
   {
    "duration": 4,
    "start_time": "2025-02-12T04:21:45.454Z"
   },
   {
    "duration": 3,
    "start_time": "2025-02-12T04:21:45.460Z"
   },
   {
    "duration": 47,
    "start_time": "2025-02-12T04:21:45.465Z"
   },
   {
    "duration": 6,
    "start_time": "2025-02-12T04:21:45.513Z"
   },
   {
    "duration": 458,
    "start_time": "2025-02-12T04:21:45.521Z"
   },
   {
    "duration": 355,
    "start_time": "2025-02-12T04:21:45.981Z"
   },
   {
    "duration": 382,
    "start_time": "2025-02-12T04:21:46.338Z"
   },
   {
    "duration": 16,
    "start_time": "2025-02-12T04:21:46.722Z"
   },
   {
    "duration": 726,
    "start_time": "2025-02-12T04:21:46.740Z"
   },
   {
    "duration": 236,
    "start_time": "2025-02-12T04:21:47.468Z"
   },
   {
    "duration": 254,
    "start_time": "2025-02-12T04:21:47.708Z"
   },
   {
    "duration": 128,
    "start_time": "2025-02-12T04:21:47.965Z"
   },
   {
    "duration": 16,
    "start_time": "2025-02-12T04:21:48.095Z"
   },
   {
    "duration": 7,
    "start_time": "2025-02-12T04:21:48.113Z"
   },
   {
    "duration": 140,
    "start_time": "2025-02-12T04:21:48.122Z"
   },
   {
    "duration": 25,
    "start_time": "2025-02-12T04:21:48.264Z"
   },
   {
    "duration": 25,
    "start_time": "2025-02-12T04:21:48.292Z"
   },
   {
    "duration": 11,
    "start_time": "2025-02-12T04:21:48.318Z"
   },
   {
    "duration": 41,
    "start_time": "2025-02-12T04:21:48.330Z"
   },
   {
    "duration": 8,
    "start_time": "2025-02-12T04:21:48.372Z"
   },
   {
    "duration": 28,
    "start_time": "2025-02-12T04:21:48.382Z"
   },
   {
    "duration": 10,
    "start_time": "2025-02-12T04:21:48.412Z"
   },
   {
    "duration": 4,
    "start_time": "2025-02-12T04:21:48.423Z"
   },
   {
    "duration": 63764,
    "start_time": "2025-02-12T04:21:48.429Z"
   },
   {
    "duration": 325,
    "start_time": "2025-02-12T04:22:52.194Z"
   },
   {
    "duration": 6576,
    "start_time": "2025-02-12T04:22:52.520Z"
   },
   {
    "duration": 169,
    "start_time": "2025-02-12T04:22:59.100Z"
   },
   {
    "duration": 157,
    "start_time": "2025-02-12T04:23:47.921Z"
   },
   {
    "duration": 1004,
    "start_time": "2025-02-12T07:15:37.548Z"
   },
   {
    "duration": 521,
    "start_time": "2025-02-12T07:15:38.554Z"
   },
   {
    "duration": 46,
    "start_time": "2025-02-12T07:15:39.077Z"
   },
   {
    "duration": 27,
    "start_time": "2025-02-12T07:15:39.126Z"
   },
   {
    "duration": 56,
    "start_time": "2025-02-12T07:15:39.155Z"
   },
   {
    "duration": 14,
    "start_time": "2025-02-12T07:15:39.213Z"
   },
   {
    "duration": 57,
    "start_time": "2025-02-12T07:15:39.228Z"
   },
   {
    "duration": 34,
    "start_time": "2025-02-12T07:15:39.287Z"
   },
   {
    "duration": 6,
    "start_time": "2025-02-12T07:15:39.322Z"
   },
   {
    "duration": 5,
    "start_time": "2025-02-12T07:15:39.331Z"
   },
   {
    "duration": 9,
    "start_time": "2025-02-12T07:15:39.338Z"
   },
   {
    "duration": 4,
    "start_time": "2025-02-12T07:15:39.348Z"
   },
   {
    "duration": 4,
    "start_time": "2025-02-12T07:15:39.353Z"
   },
   {
    "duration": 5,
    "start_time": "2025-02-12T07:15:39.358Z"
   },
   {
    "duration": 4,
    "start_time": "2025-02-12T07:15:39.364Z"
   },
   {
    "duration": 44,
    "start_time": "2025-02-12T07:15:39.369Z"
   },
   {
    "duration": 5,
    "start_time": "2025-02-12T07:15:39.414Z"
   },
   {
    "duration": 393,
    "start_time": "2025-02-12T07:15:39.421Z"
   },
   {
    "duration": 363,
    "start_time": "2025-02-12T07:15:39.816Z"
   },
   {
    "duration": 403,
    "start_time": "2025-02-12T07:15:40.181Z"
   },
   {
    "duration": 31,
    "start_time": "2025-02-12T07:15:40.586Z"
   },
   {
    "duration": 751,
    "start_time": "2025-02-12T07:15:40.619Z"
   },
   {
    "duration": 727,
    "start_time": "2025-02-12T07:15:41.372Z"
   },
   {
    "duration": 2689,
    "start_time": "2025-04-21T23:12:23.703Z"
   },
   {
    "duration": 1333,
    "start_time": "2025-04-21T23:12:26.394Z"
   },
   {
    "duration": 44,
    "start_time": "2025-04-21T23:12:27.729Z"
   },
   {
    "duration": 26,
    "start_time": "2025-04-21T23:12:27.775Z"
   },
   {
    "duration": 40,
    "start_time": "2025-04-21T23:12:27.802Z"
   },
   {
    "duration": 34,
    "start_time": "2025-04-21T23:12:27.844Z"
   },
   {
    "duration": 9,
    "start_time": "2025-04-21T23:12:27.880Z"
   },
   {
    "duration": 16,
    "start_time": "2025-04-21T23:12:27.891Z"
   },
   {
    "duration": 8,
    "start_time": "2025-04-21T23:12:27.908Z"
   },
   {
    "duration": 5,
    "start_time": "2025-04-21T23:12:27.919Z"
   },
   {
    "duration": 10,
    "start_time": "2025-04-21T23:12:27.925Z"
   },
   {
    "duration": 34,
    "start_time": "2025-04-21T23:12:27.937Z"
   },
   {
    "duration": 4,
    "start_time": "2025-04-21T23:12:27.973Z"
   },
   {
    "duration": 5,
    "start_time": "2025-04-21T23:12:27.978Z"
   },
   {
    "duration": 4,
    "start_time": "2025-04-21T23:12:27.984Z"
   },
   {
    "duration": 5,
    "start_time": "2025-04-21T23:12:27.989Z"
   },
   {
    "duration": 5,
    "start_time": "2025-04-21T23:12:27.995Z"
   },
   {
    "duration": 386,
    "start_time": "2025-04-21T23:12:28.002Z"
   },
   {
    "duration": 394,
    "start_time": "2025-04-21T23:12:28.389Z"
   },
   {
    "duration": 364,
    "start_time": "2025-04-21T23:12:28.785Z"
   },
   {
    "duration": 26,
    "start_time": "2025-04-21T23:12:29.152Z"
   },
   {
    "duration": 746,
    "start_time": "2025-04-21T23:12:29.180Z"
   },
   {
    "duration": 170,
    "start_time": "2025-04-21T23:12:29.928Z"
   },
   {
    "duration": 170,
    "start_time": "2025-04-21T23:12:30.100Z"
   },
   {
    "duration": 136,
    "start_time": "2025-04-21T23:12:30.271Z"
   },
   {
    "duration": 199,
    "start_time": "2025-04-21T23:12:30.408Z"
   },
   {
    "duration": 8,
    "start_time": "2025-04-21T23:12:30.608Z"
   },
   {
    "duration": 6,
    "start_time": "2025-04-21T23:12:30.620Z"
   },
   {
    "duration": 144,
    "start_time": "2025-04-21T23:12:30.627Z"
   },
   {
    "duration": 25,
    "start_time": "2025-04-21T23:12:30.774Z"
   },
   {
    "duration": 13,
    "start_time": "2025-04-21T23:12:30.801Z"
   },
   {
    "duration": 10,
    "start_time": "2025-04-21T23:12:30.816Z"
   },
   {
    "duration": 70,
    "start_time": "2025-04-21T23:12:30.827Z"
   },
   {
    "duration": 9,
    "start_time": "2025-04-21T23:12:30.899Z"
   },
   {
    "duration": 5,
    "start_time": "2025-04-21T23:12:30.910Z"
   },
   {
    "duration": 10,
    "start_time": "2025-04-21T23:12:30.916Z"
   },
   {
    "duration": 4,
    "start_time": "2025-04-21T23:12:30.927Z"
   },
   {
    "duration": 63255,
    "start_time": "2025-04-21T23:12:30.933Z"
   },
   {
    "duration": 498,
    "start_time": "2025-04-21T23:13:34.190Z"
   },
   {
    "duration": 6587,
    "start_time": "2025-04-21T23:13:34.690Z"
   }
  ],
  "kernelspec": {
   "display_name": "base",
   "language": "python",
   "name": "python3"
  },
  "language_info": {
   "codemirror_mode": {
    "name": "ipython",
    "version": 3
   },
   "file_extension": ".py",
   "mimetype": "text/x-python",
   "name": "python",
   "nbconvert_exporter": "python",
   "pygments_lexer": "ipython3",
   "version": "3.12.7"
  },
  "toc": {
   "base_numbering": 1,
   "nav_menu": {},
   "number_sections": true,
   "sideBar": true,
   "skip_h1_title": true,
   "title_cell": "Table of Contents",
   "title_sidebar": "Contents",
   "toc_cell": false,
   "toc_position": {
    "height": "calc(100% - 180px)",
    "left": "10px",
    "top": "150px",
    "width": "198px"
   },
   "toc_section_display": true,
   "toc_window_display": true
  }
 },
 "nbformat": 4,
 "nbformat_minor": 2
}
