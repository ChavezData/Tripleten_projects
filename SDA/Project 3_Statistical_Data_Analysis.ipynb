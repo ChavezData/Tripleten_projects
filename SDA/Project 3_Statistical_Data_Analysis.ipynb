{
 "cells": [
  {
   "cell_type": "markdown",
   "metadata": {},
   "source": [
    "# Which one is a better plan?\n",
    "\n",
    "You work as an analyst for the telecom operator Megaline. The company offers its clients two prepaid plans, Surf and Ultimate. The commercial department wants to know which of the plans brings in more revenue in order to adjust the advertising budget.\n",
    "\n",
    "You are going to carry out a preliminary analysis of the plans based on a relatively small client selection. You'll have the data on 500 Megaline clients: who the clients are, where they're from, which plan they use, and the number of calls they made and text messages they sent in 2018. Your job is to analyze the clients' behavior and determine which prepaid plan brings in more revenue."
   ]
  },
  {
   "cell_type": "markdown",
   "metadata": {},
   "source": [
    "## Initialization"
   ]
  },
  {
   "cell_type": "markdown",
   "metadata": {},
   "source": []
  },
  {
   "cell_type": "code",
   "execution_count": 1,
   "metadata": {},
   "outputs": [],
   "source": [
    "# Loading all the libraries\n",
    "import pandas as pd \n",
    "import seaborn as sns\n",
    "import matplotlib.pyplot as plt\n",
    "import numpy as np\n",
    "from scipy import stats as st\n",
    "from scipy.stats import shapiro, mannwhitneyu, ttest_ind\n",
    "\n"
   ]
  },
  {
   "cell_type": "markdown",
   "metadata": {},
   "source": [
    "## Load data"
   ]
  },
  {
   "cell_type": "markdown",
   "metadata": {},
   "source": []
  },
  {
   "cell_type": "code",
   "execution_count": null,
   "metadata": {},
   "outputs": [
    {
     "data": {
      "text/html": [
       "<div>\n",
       "<style scoped>\n",
       "    .dataframe tbody tr th:only-of-type {\n",
       "        vertical-align: middle;\n",
       "    }\n",
       "\n",
       "    .dataframe tbody tr th {\n",
       "        vertical-align: top;\n",
       "    }\n",
       "\n",
       "    .dataframe thead th {\n",
       "        text-align: right;\n",
       "    }\n",
       "</style>\n",
       "<table border=\"1\" class=\"dataframe\">\n",
       "  <thead>\n",
       "    <tr style=\"text-align: right;\">\n",
       "      <th></th>\n",
       "      <th>id</th>\n",
       "      <th>user_id</th>\n",
       "      <th>call_date</th>\n",
       "      <th>duration</th>\n",
       "    </tr>\n",
       "  </thead>\n",
       "  <tbody>\n",
       "    <tr>\n",
       "      <th>0</th>\n",
       "      <td>1000_93</td>\n",
       "      <td>1000</td>\n",
       "      <td>2018-12-27</td>\n",
       "      <td>8.52</td>\n",
       "    </tr>\n",
       "    <tr>\n",
       "      <th>1</th>\n",
       "      <td>1000_145</td>\n",
       "      <td>1000</td>\n",
       "      <td>2018-12-27</td>\n",
       "      <td>13.66</td>\n",
       "    </tr>\n",
       "    <tr>\n",
       "      <th>2</th>\n",
       "      <td>1000_247</td>\n",
       "      <td>1000</td>\n",
       "      <td>2018-12-27</td>\n",
       "      <td>14.48</td>\n",
       "    </tr>\n",
       "    <tr>\n",
       "      <th>3</th>\n",
       "      <td>1000_309</td>\n",
       "      <td>1000</td>\n",
       "      <td>2018-12-28</td>\n",
       "      <td>5.76</td>\n",
       "    </tr>\n",
       "    <tr>\n",
       "      <th>4</th>\n",
       "      <td>1000_380</td>\n",
       "      <td>1000</td>\n",
       "      <td>2018-12-30</td>\n",
       "      <td>4.22</td>\n",
       "    </tr>\n",
       "    <tr>\n",
       "      <th>...</th>\n",
       "      <td>...</td>\n",
       "      <td>...</td>\n",
       "      <td>...</td>\n",
       "      <td>...</td>\n",
       "    </tr>\n",
       "    <tr>\n",
       "      <th>137730</th>\n",
       "      <td>1499_199</td>\n",
       "      <td>1499</td>\n",
       "      <td>2018-11-21</td>\n",
       "      <td>8.72</td>\n",
       "    </tr>\n",
       "    <tr>\n",
       "      <th>137731</th>\n",
       "      <td>1499_200</td>\n",
       "      <td>1499</td>\n",
       "      <td>2018-10-20</td>\n",
       "      <td>10.89</td>\n",
       "    </tr>\n",
       "    <tr>\n",
       "      <th>137732</th>\n",
       "      <td>1499_201</td>\n",
       "      <td>1499</td>\n",
       "      <td>2018-09-21</td>\n",
       "      <td>8.12</td>\n",
       "    </tr>\n",
       "    <tr>\n",
       "      <th>137733</th>\n",
       "      <td>1499_202</td>\n",
       "      <td>1499</td>\n",
       "      <td>2018-10-10</td>\n",
       "      <td>0.37</td>\n",
       "    </tr>\n",
       "    <tr>\n",
       "      <th>137734</th>\n",
       "      <td>1499_203</td>\n",
       "      <td>1499</td>\n",
       "      <td>2018-12-29</td>\n",
       "      <td>13.86</td>\n",
       "    </tr>\n",
       "  </tbody>\n",
       "</table>\n",
       "<p>137735 rows × 4 columns</p>\n",
       "</div>"
      ],
      "text/plain": [
       "              id  user_id   call_date  duration\n",
       "0        1000_93     1000  2018-12-27      8.52\n",
       "1       1000_145     1000  2018-12-27     13.66\n",
       "2       1000_247     1000  2018-12-27     14.48\n",
       "3       1000_309     1000  2018-12-28      5.76\n",
       "4       1000_380     1000  2018-12-30      4.22\n",
       "...          ...      ...         ...       ...\n",
       "137730  1499_199     1499  2018-11-21      8.72\n",
       "137731  1499_200     1499  2018-10-20     10.89\n",
       "137732  1499_201     1499  2018-09-21      8.12\n",
       "137733  1499_202     1499  2018-10-10      0.37\n",
       "137734  1499_203     1499  2018-12-29     13.86\n",
       "\n",
       "[137735 rows x 4 columns]"
      ]
     },
     "execution_count": 2,
     "metadata": {},
     "output_type": "execute_result"
    }
   ],
   "source": [
    "# Load the data files into different DataFrames\n",
    "\n",
    "try:\n",
    "    df_megaline_calls = pd.read_csv(\"/datasets/megaline_calls.csv\")\n",
    "except FileNotFoundError:\n",
    "    df_megaline_calls = pd.read_csv('https://practicum-content.s3.us-west-1.amazonaws.com/datasets/megaline_calls.csv')\n",
    "df_megaline_calls"
   ]
  },
  {
   "cell_type": "code",
   "execution_count": 3,
   "metadata": {},
   "outputs": [
    {
     "data": {
      "text/html": [
       "<div>\n",
       "<style scoped>\n",
       "    .dataframe tbody tr th:only-of-type {\n",
       "        vertical-align: middle;\n",
       "    }\n",
       "\n",
       "    .dataframe tbody tr th {\n",
       "        vertical-align: top;\n",
       "    }\n",
       "\n",
       "    .dataframe thead th {\n",
       "        text-align: right;\n",
       "    }\n",
       "</style>\n",
       "<table border=\"1\" class=\"dataframe\">\n",
       "  <thead>\n",
       "    <tr style=\"text-align: right;\">\n",
       "      <th></th>\n",
       "      <th>id</th>\n",
       "      <th>user_id</th>\n",
       "      <th>session_date</th>\n",
       "      <th>mb_used</th>\n",
       "    </tr>\n",
       "  </thead>\n",
       "  <tbody>\n",
       "    <tr>\n",
       "      <th>0</th>\n",
       "      <td>1000_13</td>\n",
       "      <td>1000</td>\n",
       "      <td>2018-12-29</td>\n",
       "      <td>89.86</td>\n",
       "    </tr>\n",
       "    <tr>\n",
       "      <th>1</th>\n",
       "      <td>1000_204</td>\n",
       "      <td>1000</td>\n",
       "      <td>2018-12-31</td>\n",
       "      <td>0.00</td>\n",
       "    </tr>\n",
       "    <tr>\n",
       "      <th>2</th>\n",
       "      <td>1000_379</td>\n",
       "      <td>1000</td>\n",
       "      <td>2018-12-28</td>\n",
       "      <td>660.40</td>\n",
       "    </tr>\n",
       "    <tr>\n",
       "      <th>3</th>\n",
       "      <td>1000_413</td>\n",
       "      <td>1000</td>\n",
       "      <td>2018-12-26</td>\n",
       "      <td>270.99</td>\n",
       "    </tr>\n",
       "    <tr>\n",
       "      <th>4</th>\n",
       "      <td>1000_442</td>\n",
       "      <td>1000</td>\n",
       "      <td>2018-12-27</td>\n",
       "      <td>880.22</td>\n",
       "    </tr>\n",
       "    <tr>\n",
       "      <th>...</th>\n",
       "      <td>...</td>\n",
       "      <td>...</td>\n",
       "      <td>...</td>\n",
       "      <td>...</td>\n",
       "    </tr>\n",
       "    <tr>\n",
       "      <th>104820</th>\n",
       "      <td>1499_215</td>\n",
       "      <td>1499</td>\n",
       "      <td>2018-10-20</td>\n",
       "      <td>218.06</td>\n",
       "    </tr>\n",
       "    <tr>\n",
       "      <th>104821</th>\n",
       "      <td>1499_216</td>\n",
       "      <td>1499</td>\n",
       "      <td>2018-12-30</td>\n",
       "      <td>304.72</td>\n",
       "    </tr>\n",
       "    <tr>\n",
       "      <th>104822</th>\n",
       "      <td>1499_217</td>\n",
       "      <td>1499</td>\n",
       "      <td>2018-09-22</td>\n",
       "      <td>292.75</td>\n",
       "    </tr>\n",
       "    <tr>\n",
       "      <th>104823</th>\n",
       "      <td>1499_218</td>\n",
       "      <td>1499</td>\n",
       "      <td>2018-12-07</td>\n",
       "      <td>0.00</td>\n",
       "    </tr>\n",
       "    <tr>\n",
       "      <th>104824</th>\n",
       "      <td>1499_219</td>\n",
       "      <td>1499</td>\n",
       "      <td>2018-12-24</td>\n",
       "      <td>758.31</td>\n",
       "    </tr>\n",
       "  </tbody>\n",
       "</table>\n",
       "<p>104825 rows × 4 columns</p>\n",
       "</div>"
      ],
      "text/plain": [
       "              id  user_id session_date  mb_used\n",
       "0        1000_13     1000   2018-12-29    89.86\n",
       "1       1000_204     1000   2018-12-31     0.00\n",
       "2       1000_379     1000   2018-12-28   660.40\n",
       "3       1000_413     1000   2018-12-26   270.99\n",
       "4       1000_442     1000   2018-12-27   880.22\n",
       "...          ...      ...          ...      ...\n",
       "104820  1499_215     1499   2018-10-20   218.06\n",
       "104821  1499_216     1499   2018-12-30   304.72\n",
       "104822  1499_217     1499   2018-09-22   292.75\n",
       "104823  1499_218     1499   2018-12-07     0.00\n",
       "104824  1499_219     1499   2018-12-24   758.31\n",
       "\n",
       "[104825 rows x 4 columns]"
      ]
     },
     "execution_count": 3,
     "metadata": {},
     "output_type": "execute_result"
    }
   ],
   "source": [
    "try:\n",
    "    df_megaline_internet = pd.read_csv(\"/datasets/megaline_internet.csv\")\n",
    "except FileNotFoundError:\n",
    "    df_megaline_internet = pd.read_csv('https://practicum-content.s3.us-west-1.amazonaws.com/datasets/megaline_internet.csv')\n",
    "df_megaline_internet"
   ]
  },
  {
   "cell_type": "code",
   "execution_count": 4,
   "metadata": {},
   "outputs": [
    {
     "data": {
      "text/html": [
       "<div>\n",
       "<style scoped>\n",
       "    .dataframe tbody tr th:only-of-type {\n",
       "        vertical-align: middle;\n",
       "    }\n",
       "\n",
       "    .dataframe tbody tr th {\n",
       "        vertical-align: top;\n",
       "    }\n",
       "\n",
       "    .dataframe thead th {\n",
       "        text-align: right;\n",
       "    }\n",
       "</style>\n",
       "<table border=\"1\" class=\"dataframe\">\n",
       "  <thead>\n",
       "    <tr style=\"text-align: right;\">\n",
       "      <th></th>\n",
       "      <th>id</th>\n",
       "      <th>user_id</th>\n",
       "      <th>message_date</th>\n",
       "    </tr>\n",
       "  </thead>\n",
       "  <tbody>\n",
       "    <tr>\n",
       "      <th>0</th>\n",
       "      <td>1000_125</td>\n",
       "      <td>1000</td>\n",
       "      <td>2018-12-27</td>\n",
       "    </tr>\n",
       "    <tr>\n",
       "      <th>1</th>\n",
       "      <td>1000_160</td>\n",
       "      <td>1000</td>\n",
       "      <td>2018-12-31</td>\n",
       "    </tr>\n",
       "    <tr>\n",
       "      <th>2</th>\n",
       "      <td>1000_223</td>\n",
       "      <td>1000</td>\n",
       "      <td>2018-12-31</td>\n",
       "    </tr>\n",
       "    <tr>\n",
       "      <th>3</th>\n",
       "      <td>1000_251</td>\n",
       "      <td>1000</td>\n",
       "      <td>2018-12-27</td>\n",
       "    </tr>\n",
       "    <tr>\n",
       "      <th>4</th>\n",
       "      <td>1000_255</td>\n",
       "      <td>1000</td>\n",
       "      <td>2018-12-26</td>\n",
       "    </tr>\n",
       "    <tr>\n",
       "      <th>...</th>\n",
       "      <td>...</td>\n",
       "      <td>...</td>\n",
       "      <td>...</td>\n",
       "    </tr>\n",
       "    <tr>\n",
       "      <th>76046</th>\n",
       "      <td>1497_526</td>\n",
       "      <td>1497</td>\n",
       "      <td>2018-12-24</td>\n",
       "    </tr>\n",
       "    <tr>\n",
       "      <th>76047</th>\n",
       "      <td>1497_536</td>\n",
       "      <td>1497</td>\n",
       "      <td>2018-12-24</td>\n",
       "    </tr>\n",
       "    <tr>\n",
       "      <th>76048</th>\n",
       "      <td>1497_547</td>\n",
       "      <td>1497</td>\n",
       "      <td>2018-12-31</td>\n",
       "    </tr>\n",
       "    <tr>\n",
       "      <th>76049</th>\n",
       "      <td>1497_558</td>\n",
       "      <td>1497</td>\n",
       "      <td>2018-12-24</td>\n",
       "    </tr>\n",
       "    <tr>\n",
       "      <th>76050</th>\n",
       "      <td>1497_613</td>\n",
       "      <td>1497</td>\n",
       "      <td>2018-12-23</td>\n",
       "    </tr>\n",
       "  </tbody>\n",
       "</table>\n",
       "<p>76051 rows × 3 columns</p>\n",
       "</div>"
      ],
      "text/plain": [
       "             id  user_id message_date\n",
       "0      1000_125     1000   2018-12-27\n",
       "1      1000_160     1000   2018-12-31\n",
       "2      1000_223     1000   2018-12-31\n",
       "3      1000_251     1000   2018-12-27\n",
       "4      1000_255     1000   2018-12-26\n",
       "...         ...      ...          ...\n",
       "76046  1497_526     1497   2018-12-24\n",
       "76047  1497_536     1497   2018-12-24\n",
       "76048  1497_547     1497   2018-12-31\n",
       "76049  1497_558     1497   2018-12-24\n",
       "76050  1497_613     1497   2018-12-23\n",
       "\n",
       "[76051 rows x 3 columns]"
      ]
     },
     "execution_count": 4,
     "metadata": {},
     "output_type": "execute_result"
    }
   ],
   "source": [
    "try:\n",
    "    df_megaline_messages = pd.read_csv(\"/datasets/megaline_messages.csv\")\n",
    "except FileNotFoundError:\n",
    "    df_megaline_messages = pd.read_csv('https://practicum-content.s3.us-west-1.amazonaws.com/datasets/megaline_messages.csv')\n",
    "df_megaline_messages"
   ]
  },
  {
   "cell_type": "code",
   "execution_count": 5,
   "metadata": {},
   "outputs": [
    {
     "data": {
      "text/html": [
       "<div>\n",
       "<style scoped>\n",
       "    .dataframe tbody tr th:only-of-type {\n",
       "        vertical-align: middle;\n",
       "    }\n",
       "\n",
       "    .dataframe tbody tr th {\n",
       "        vertical-align: top;\n",
       "    }\n",
       "\n",
       "    .dataframe thead th {\n",
       "        text-align: right;\n",
       "    }\n",
       "</style>\n",
       "<table border=\"1\" class=\"dataframe\">\n",
       "  <thead>\n",
       "    <tr style=\"text-align: right;\">\n",
       "      <th></th>\n",
       "      <th>messages_included</th>\n",
       "      <th>mb_per_month_included</th>\n",
       "      <th>minutes_included</th>\n",
       "      <th>usd_monthly_pay</th>\n",
       "      <th>usd_per_gb</th>\n",
       "      <th>usd_per_message</th>\n",
       "      <th>usd_per_minute</th>\n",
       "      <th>plan_name</th>\n",
       "    </tr>\n",
       "  </thead>\n",
       "  <tbody>\n",
       "    <tr>\n",
       "      <th>0</th>\n",
       "      <td>50</td>\n",
       "      <td>15360</td>\n",
       "      <td>500</td>\n",
       "      <td>20</td>\n",
       "      <td>10</td>\n",
       "      <td>0.03</td>\n",
       "      <td>0.03</td>\n",
       "      <td>surf</td>\n",
       "    </tr>\n",
       "    <tr>\n",
       "      <th>1</th>\n",
       "      <td>1000</td>\n",
       "      <td>30720</td>\n",
       "      <td>3000</td>\n",
       "      <td>70</td>\n",
       "      <td>7</td>\n",
       "      <td>0.01</td>\n",
       "      <td>0.01</td>\n",
       "      <td>ultimate</td>\n",
       "    </tr>\n",
       "  </tbody>\n",
       "</table>\n",
       "</div>"
      ],
      "text/plain": [
       "   messages_included  mb_per_month_included  minutes_included  \\\n",
       "0                 50                  15360               500   \n",
       "1               1000                  30720              3000   \n",
       "\n",
       "   usd_monthly_pay  usd_per_gb  usd_per_message  usd_per_minute plan_name  \n",
       "0               20          10             0.03            0.03      surf  \n",
       "1               70           7             0.01            0.01  ultimate  "
      ]
     },
     "execution_count": 5,
     "metadata": {},
     "output_type": "execute_result"
    }
   ],
   "source": [
    "try:\n",
    "    df_megaline_plans = pd.read_csv(\"/datasets/megaline_plans.csv\")\n",
    "except FileNotFoundError:\n",
    "    df_megaline_plans = pd.read_csv('https://practicum-content.s3.us-west-1.amazonaws.com/datasets/megaline_plans.csv')\n",
    "df_megaline_plans"
   ]
  },
  {
   "cell_type": "code",
   "execution_count": 6,
   "metadata": {},
   "outputs": [
    {
     "data": {
      "text/html": [
       "<div>\n",
       "<style scoped>\n",
       "    .dataframe tbody tr th:only-of-type {\n",
       "        vertical-align: middle;\n",
       "    }\n",
       "\n",
       "    .dataframe tbody tr th {\n",
       "        vertical-align: top;\n",
       "    }\n",
       "\n",
       "    .dataframe thead th {\n",
       "        text-align: right;\n",
       "    }\n",
       "</style>\n",
       "<table border=\"1\" class=\"dataframe\">\n",
       "  <thead>\n",
       "    <tr style=\"text-align: right;\">\n",
       "      <th></th>\n",
       "      <th>user_id</th>\n",
       "      <th>first_name</th>\n",
       "      <th>last_name</th>\n",
       "      <th>age</th>\n",
       "      <th>city</th>\n",
       "      <th>reg_date</th>\n",
       "      <th>plan</th>\n",
       "      <th>churn_date</th>\n",
       "    </tr>\n",
       "  </thead>\n",
       "  <tbody>\n",
       "    <tr>\n",
       "      <th>0</th>\n",
       "      <td>1000</td>\n",
       "      <td>Anamaria</td>\n",
       "      <td>Bauer</td>\n",
       "      <td>45</td>\n",
       "      <td>Atlanta-Sandy Springs-Roswell, GA MSA</td>\n",
       "      <td>2018-12-24</td>\n",
       "      <td>ultimate</td>\n",
       "      <td>NaN</td>\n",
       "    </tr>\n",
       "    <tr>\n",
       "      <th>1</th>\n",
       "      <td>1001</td>\n",
       "      <td>Mickey</td>\n",
       "      <td>Wilkerson</td>\n",
       "      <td>28</td>\n",
       "      <td>Seattle-Tacoma-Bellevue, WA MSA</td>\n",
       "      <td>2018-08-13</td>\n",
       "      <td>surf</td>\n",
       "      <td>NaN</td>\n",
       "    </tr>\n",
       "    <tr>\n",
       "      <th>2</th>\n",
       "      <td>1002</td>\n",
       "      <td>Carlee</td>\n",
       "      <td>Hoffman</td>\n",
       "      <td>36</td>\n",
       "      <td>Las Vegas-Henderson-Paradise, NV MSA</td>\n",
       "      <td>2018-10-21</td>\n",
       "      <td>surf</td>\n",
       "      <td>NaN</td>\n",
       "    </tr>\n",
       "    <tr>\n",
       "      <th>3</th>\n",
       "      <td>1003</td>\n",
       "      <td>Reynaldo</td>\n",
       "      <td>Jenkins</td>\n",
       "      <td>52</td>\n",
       "      <td>Tulsa, OK MSA</td>\n",
       "      <td>2018-01-28</td>\n",
       "      <td>surf</td>\n",
       "      <td>NaN</td>\n",
       "    </tr>\n",
       "    <tr>\n",
       "      <th>4</th>\n",
       "      <td>1004</td>\n",
       "      <td>Leonila</td>\n",
       "      <td>Thompson</td>\n",
       "      <td>40</td>\n",
       "      <td>Seattle-Tacoma-Bellevue, WA MSA</td>\n",
       "      <td>2018-05-23</td>\n",
       "      <td>surf</td>\n",
       "      <td>NaN</td>\n",
       "    </tr>\n",
       "    <tr>\n",
       "      <th>...</th>\n",
       "      <td>...</td>\n",
       "      <td>...</td>\n",
       "      <td>...</td>\n",
       "      <td>...</td>\n",
       "      <td>...</td>\n",
       "      <td>...</td>\n",
       "      <td>...</td>\n",
       "      <td>...</td>\n",
       "    </tr>\n",
       "    <tr>\n",
       "      <th>495</th>\n",
       "      <td>1495</td>\n",
       "      <td>Fidel</td>\n",
       "      <td>Sharpe</td>\n",
       "      <td>67</td>\n",
       "      <td>New York-Newark-Jersey City, NY-NJ-PA MSA</td>\n",
       "      <td>2018-09-04</td>\n",
       "      <td>surf</td>\n",
       "      <td>NaN</td>\n",
       "    </tr>\n",
       "    <tr>\n",
       "      <th>496</th>\n",
       "      <td>1496</td>\n",
       "      <td>Ariel</td>\n",
       "      <td>Shepherd</td>\n",
       "      <td>49</td>\n",
       "      <td>New Orleans-Metairie, LA MSA</td>\n",
       "      <td>2018-02-20</td>\n",
       "      <td>surf</td>\n",
       "      <td>NaN</td>\n",
       "    </tr>\n",
       "    <tr>\n",
       "      <th>497</th>\n",
       "      <td>1497</td>\n",
       "      <td>Donte</td>\n",
       "      <td>Barrera</td>\n",
       "      <td>49</td>\n",
       "      <td>Los Angeles-Long Beach-Anaheim, CA MSA</td>\n",
       "      <td>2018-12-10</td>\n",
       "      <td>ultimate</td>\n",
       "      <td>NaN</td>\n",
       "    </tr>\n",
       "    <tr>\n",
       "      <th>498</th>\n",
       "      <td>1498</td>\n",
       "      <td>Scot</td>\n",
       "      <td>Williamson</td>\n",
       "      <td>51</td>\n",
       "      <td>New York-Newark-Jersey City, NY-NJ-PA MSA</td>\n",
       "      <td>2018-02-04</td>\n",
       "      <td>surf</td>\n",
       "      <td>NaN</td>\n",
       "    </tr>\n",
       "    <tr>\n",
       "      <th>499</th>\n",
       "      <td>1499</td>\n",
       "      <td>Shena</td>\n",
       "      <td>Dickson</td>\n",
       "      <td>37</td>\n",
       "      <td>Orlando-Kissimmee-Sanford, FL MSA</td>\n",
       "      <td>2018-05-06</td>\n",
       "      <td>surf</td>\n",
       "      <td>NaN</td>\n",
       "    </tr>\n",
       "  </tbody>\n",
       "</table>\n",
       "<p>500 rows × 8 columns</p>\n",
       "</div>"
      ],
      "text/plain": [
       "     user_id first_name   last_name  age  \\\n",
       "0       1000   Anamaria       Bauer   45   \n",
       "1       1001     Mickey   Wilkerson   28   \n",
       "2       1002     Carlee     Hoffman   36   \n",
       "3       1003   Reynaldo     Jenkins   52   \n",
       "4       1004    Leonila    Thompson   40   \n",
       "..       ...        ...         ...  ...   \n",
       "495     1495      Fidel      Sharpe   67   \n",
       "496     1496      Ariel    Shepherd   49   \n",
       "497     1497      Donte     Barrera   49   \n",
       "498     1498       Scot  Williamson   51   \n",
       "499     1499      Shena     Dickson   37   \n",
       "\n",
       "                                          city    reg_date      plan  \\\n",
       "0        Atlanta-Sandy Springs-Roswell, GA MSA  2018-12-24  ultimate   \n",
       "1              Seattle-Tacoma-Bellevue, WA MSA  2018-08-13      surf   \n",
       "2         Las Vegas-Henderson-Paradise, NV MSA  2018-10-21      surf   \n",
       "3                                Tulsa, OK MSA  2018-01-28      surf   \n",
       "4              Seattle-Tacoma-Bellevue, WA MSA  2018-05-23      surf   \n",
       "..                                         ...         ...       ...   \n",
       "495  New York-Newark-Jersey City, NY-NJ-PA MSA  2018-09-04      surf   \n",
       "496               New Orleans-Metairie, LA MSA  2018-02-20      surf   \n",
       "497     Los Angeles-Long Beach-Anaheim, CA MSA  2018-12-10  ultimate   \n",
       "498  New York-Newark-Jersey City, NY-NJ-PA MSA  2018-02-04      surf   \n",
       "499          Orlando-Kissimmee-Sanford, FL MSA  2018-05-06      surf   \n",
       "\n",
       "    churn_date  \n",
       "0          NaN  \n",
       "1          NaN  \n",
       "2          NaN  \n",
       "3          NaN  \n",
       "4          NaN  \n",
       "..         ...  \n",
       "495        NaN  \n",
       "496        NaN  \n",
       "497        NaN  \n",
       "498        NaN  \n",
       "499        NaN  \n",
       "\n",
       "[500 rows x 8 columns]"
      ]
     },
     "execution_count": 6,
     "metadata": {},
     "output_type": "execute_result"
    }
   ],
   "source": [
    "try:\n",
    "    df_megaline_users = pd.read_csv(\"/datasets/megaline_users.csv\")\n",
    "except FileNotFoundError:\n",
    "    df_megaline_users = pd.read_csv('https://practicum-content.s3.us-west-1.amazonaws.com/datasets/megaline_users.csv')\n",
    "df_megaline_users"
   ]
  },
  {
   "cell_type": "markdown",
   "metadata": {},
   "source": [
    "## Prepare the data"
   ]
  },
  {
   "cell_type": "markdown",
   "metadata": {},
   "source": [
    "[The data for this project is split into several tables. Explore each one to get an initial understanding of the data. Do necessary corrections to each table if necessary.]"
   ]
  },
  {
   "cell_type": "markdown",
   "metadata": {},
   "source": [
    "## Plans"
   ]
  },
  {
   "cell_type": "code",
   "execution_count": 7,
   "metadata": {},
   "outputs": [
    {
     "name": "stdout",
     "output_type": "stream",
     "text": [
      "<class 'pandas.core.frame.DataFrame'>\n",
      "RangeIndex: 2 entries, 0 to 1\n",
      "Data columns (total 8 columns):\n",
      " #   Column                 Non-Null Count  Dtype  \n",
      "---  ------                 --------------  -----  \n",
      " 0   messages_included      2 non-null      int64  \n",
      " 1   mb_per_month_included  2 non-null      int64  \n",
      " 2   minutes_included       2 non-null      int64  \n",
      " 3   usd_monthly_pay        2 non-null      int64  \n",
      " 4   usd_per_gb             2 non-null      int64  \n",
      " 5   usd_per_message        2 non-null      float64\n",
      " 6   usd_per_minute         2 non-null      float64\n",
      " 7   plan_name              2 non-null      object \n",
      "dtypes: float64(2), int64(5), object(1)\n",
      "memory usage: 256.0+ bytes\n"
     ]
    }
   ],
   "source": [
    "# Print the general/summary information about the plans' DataFrame\n",
    "\n",
    "df_megaline_plans.info()"
   ]
  },
  {
   "cell_type": "code",
   "execution_count": 8,
   "metadata": {},
   "outputs": [
    {
     "data": {
      "text/html": [
       "<div>\n",
       "<style scoped>\n",
       "    .dataframe tbody tr th:only-of-type {\n",
       "        vertical-align: middle;\n",
       "    }\n",
       "\n",
       "    .dataframe tbody tr th {\n",
       "        vertical-align: top;\n",
       "    }\n",
       "\n",
       "    .dataframe thead th {\n",
       "        text-align: right;\n",
       "    }\n",
       "</style>\n",
       "<table border=\"1\" class=\"dataframe\">\n",
       "  <thead>\n",
       "    <tr style=\"text-align: right;\">\n",
       "      <th></th>\n",
       "      <th>messages_included</th>\n",
       "      <th>mb_per_month_included</th>\n",
       "      <th>minutes_included</th>\n",
       "      <th>usd_monthly_pay</th>\n",
       "      <th>usd_per_gb</th>\n",
       "      <th>usd_per_message</th>\n",
       "      <th>usd_per_minute</th>\n",
       "      <th>plan_name</th>\n",
       "    </tr>\n",
       "  </thead>\n",
       "  <tbody>\n",
       "    <tr>\n",
       "      <th>0</th>\n",
       "      <td>50</td>\n",
       "      <td>15360</td>\n",
       "      <td>500</td>\n",
       "      <td>20</td>\n",
       "      <td>10</td>\n",
       "      <td>0.03</td>\n",
       "      <td>0.03</td>\n",
       "      <td>surf</td>\n",
       "    </tr>\n",
       "    <tr>\n",
       "      <th>1</th>\n",
       "      <td>1000</td>\n",
       "      <td>30720</td>\n",
       "      <td>3000</td>\n",
       "      <td>70</td>\n",
       "      <td>7</td>\n",
       "      <td>0.01</td>\n",
       "      <td>0.01</td>\n",
       "      <td>ultimate</td>\n",
       "    </tr>\n",
       "  </tbody>\n",
       "</table>\n",
       "</div>"
      ],
      "text/plain": [
       "   messages_included  mb_per_month_included  minutes_included  \\\n",
       "0                 50                  15360               500   \n",
       "1               1000                  30720              3000   \n",
       "\n",
       "   usd_monthly_pay  usd_per_gb  usd_per_message  usd_per_minute plan_name  \n",
       "0               20          10             0.03            0.03      surf  \n",
       "1               70           7             0.01            0.01  ultimate  "
      ]
     },
     "execution_count": 8,
     "metadata": {},
     "output_type": "execute_result"
    }
   ],
   "source": [
    "# Print a sample of data for plans\n",
    "\n",
    "df_megaline_plans"
   ]
  },
  {
   "cell_type": "markdown",
   "metadata": {},
   "source": [
    "Dataframe only has 2 rows and it needs to be placed into rows and columns."
   ]
  },
  {
   "cell_type": "markdown",
   "metadata": {},
   "source": [
    "[Describe what you see and notice in the general information and the printed data sample for the above price of data. Are there any issues (inappropriate data types, missing data etc) that may need further investigation and changes? How that can be fixed?]"
   ]
  },
  {
   "cell_type": "markdown",
   "metadata": {},
   "source": [
    "## Fix data"
   ]
  },
  {
   "cell_type": "markdown",
   "metadata": {},
   "source": [
    "[Fix obvious issues with the data given the initial observations.]"
   ]
  },
  {
   "cell_type": "markdown",
   "metadata": {},
   "source": [
    "the megaline plans dataframe has no errors to fix."
   ]
  },
  {
   "cell_type": "markdown",
   "metadata": {},
   "source": []
  },
  {
   "cell_type": "markdown",
   "metadata": {},
   "source": [
    "## Enrich data"
   ]
  },
  {
   "cell_type": "markdown",
   "metadata": {},
   "source": [
    "[Add additional factors to the data if you believe they might be useful.]"
   ]
  },
  {
   "cell_type": "markdown",
   "metadata": {},
   "source": [
    "nothing to change here."
   ]
  },
  {
   "cell_type": "markdown",
   "metadata": {},
   "source": [
    "## Users"
   ]
  },
  {
   "cell_type": "code",
   "execution_count": 9,
   "metadata": {},
   "outputs": [
    {
     "name": "stdout",
     "output_type": "stream",
     "text": [
      "<class 'pandas.core.frame.DataFrame'>\n",
      "RangeIndex: 500 entries, 0 to 499\n",
      "Data columns (total 8 columns):\n",
      " #   Column      Non-Null Count  Dtype \n",
      "---  ------      --------------  ----- \n",
      " 0   user_id     500 non-null    int64 \n",
      " 1   first_name  500 non-null    object\n",
      " 2   last_name   500 non-null    object\n",
      " 3   age         500 non-null    int64 \n",
      " 4   city        500 non-null    object\n",
      " 5   reg_date    500 non-null    object\n",
      " 6   plan        500 non-null    object\n",
      " 7   churn_date  34 non-null     object\n",
      "dtypes: int64(2), object(6)\n",
      "memory usage: 31.4+ KB\n"
     ]
    }
   ],
   "source": [
    "# Print the general/summary information about the users' DataFrame\n",
    "\n",
    "df_megaline_users.info()"
   ]
  },
  {
   "cell_type": "code",
   "execution_count": 10,
   "metadata": {},
   "outputs": [
    {
     "data": {
      "text/html": [
       "<div>\n",
       "<style scoped>\n",
       "    .dataframe tbody tr th:only-of-type {\n",
       "        vertical-align: middle;\n",
       "    }\n",
       "\n",
       "    .dataframe tbody tr th {\n",
       "        vertical-align: top;\n",
       "    }\n",
       "\n",
       "    .dataframe thead th {\n",
       "        text-align: right;\n",
       "    }\n",
       "</style>\n",
       "<table border=\"1\" class=\"dataframe\">\n",
       "  <thead>\n",
       "    <tr style=\"text-align: right;\">\n",
       "      <th></th>\n",
       "      <th>user_id</th>\n",
       "      <th>first_name</th>\n",
       "      <th>last_name</th>\n",
       "      <th>age</th>\n",
       "      <th>city</th>\n",
       "      <th>reg_date</th>\n",
       "      <th>plan</th>\n",
       "      <th>churn_date</th>\n",
       "    </tr>\n",
       "  </thead>\n",
       "  <tbody>\n",
       "    <tr>\n",
       "      <th>0</th>\n",
       "      <td>1000</td>\n",
       "      <td>Anamaria</td>\n",
       "      <td>Bauer</td>\n",
       "      <td>45</td>\n",
       "      <td>Atlanta-Sandy Springs-Roswell, GA MSA</td>\n",
       "      <td>2018-12-24</td>\n",
       "      <td>ultimate</td>\n",
       "      <td>NaN</td>\n",
       "    </tr>\n",
       "    <tr>\n",
       "      <th>1</th>\n",
       "      <td>1001</td>\n",
       "      <td>Mickey</td>\n",
       "      <td>Wilkerson</td>\n",
       "      <td>28</td>\n",
       "      <td>Seattle-Tacoma-Bellevue, WA MSA</td>\n",
       "      <td>2018-08-13</td>\n",
       "      <td>surf</td>\n",
       "      <td>NaN</td>\n",
       "    </tr>\n",
       "    <tr>\n",
       "      <th>2</th>\n",
       "      <td>1002</td>\n",
       "      <td>Carlee</td>\n",
       "      <td>Hoffman</td>\n",
       "      <td>36</td>\n",
       "      <td>Las Vegas-Henderson-Paradise, NV MSA</td>\n",
       "      <td>2018-10-21</td>\n",
       "      <td>surf</td>\n",
       "      <td>NaN</td>\n",
       "    </tr>\n",
       "    <tr>\n",
       "      <th>3</th>\n",
       "      <td>1003</td>\n",
       "      <td>Reynaldo</td>\n",
       "      <td>Jenkins</td>\n",
       "      <td>52</td>\n",
       "      <td>Tulsa, OK MSA</td>\n",
       "      <td>2018-01-28</td>\n",
       "      <td>surf</td>\n",
       "      <td>NaN</td>\n",
       "    </tr>\n",
       "    <tr>\n",
       "      <th>4</th>\n",
       "      <td>1004</td>\n",
       "      <td>Leonila</td>\n",
       "      <td>Thompson</td>\n",
       "      <td>40</td>\n",
       "      <td>Seattle-Tacoma-Bellevue, WA MSA</td>\n",
       "      <td>2018-05-23</td>\n",
       "      <td>surf</td>\n",
       "      <td>NaN</td>\n",
       "    </tr>\n",
       "    <tr>\n",
       "      <th>...</th>\n",
       "      <td>...</td>\n",
       "      <td>...</td>\n",
       "      <td>...</td>\n",
       "      <td>...</td>\n",
       "      <td>...</td>\n",
       "      <td>...</td>\n",
       "      <td>...</td>\n",
       "      <td>...</td>\n",
       "    </tr>\n",
       "    <tr>\n",
       "      <th>495</th>\n",
       "      <td>1495</td>\n",
       "      <td>Fidel</td>\n",
       "      <td>Sharpe</td>\n",
       "      <td>67</td>\n",
       "      <td>New York-Newark-Jersey City, NY-NJ-PA MSA</td>\n",
       "      <td>2018-09-04</td>\n",
       "      <td>surf</td>\n",
       "      <td>NaN</td>\n",
       "    </tr>\n",
       "    <tr>\n",
       "      <th>496</th>\n",
       "      <td>1496</td>\n",
       "      <td>Ariel</td>\n",
       "      <td>Shepherd</td>\n",
       "      <td>49</td>\n",
       "      <td>New Orleans-Metairie, LA MSA</td>\n",
       "      <td>2018-02-20</td>\n",
       "      <td>surf</td>\n",
       "      <td>NaN</td>\n",
       "    </tr>\n",
       "    <tr>\n",
       "      <th>497</th>\n",
       "      <td>1497</td>\n",
       "      <td>Donte</td>\n",
       "      <td>Barrera</td>\n",
       "      <td>49</td>\n",
       "      <td>Los Angeles-Long Beach-Anaheim, CA MSA</td>\n",
       "      <td>2018-12-10</td>\n",
       "      <td>ultimate</td>\n",
       "      <td>NaN</td>\n",
       "    </tr>\n",
       "    <tr>\n",
       "      <th>498</th>\n",
       "      <td>1498</td>\n",
       "      <td>Scot</td>\n",
       "      <td>Williamson</td>\n",
       "      <td>51</td>\n",
       "      <td>New York-Newark-Jersey City, NY-NJ-PA MSA</td>\n",
       "      <td>2018-02-04</td>\n",
       "      <td>surf</td>\n",
       "      <td>NaN</td>\n",
       "    </tr>\n",
       "    <tr>\n",
       "      <th>499</th>\n",
       "      <td>1499</td>\n",
       "      <td>Shena</td>\n",
       "      <td>Dickson</td>\n",
       "      <td>37</td>\n",
       "      <td>Orlando-Kissimmee-Sanford, FL MSA</td>\n",
       "      <td>2018-05-06</td>\n",
       "      <td>surf</td>\n",
       "      <td>NaN</td>\n",
       "    </tr>\n",
       "  </tbody>\n",
       "</table>\n",
       "<p>500 rows × 8 columns</p>\n",
       "</div>"
      ],
      "text/plain": [
       "     user_id first_name   last_name  age  \\\n",
       "0       1000   Anamaria       Bauer   45   \n",
       "1       1001     Mickey   Wilkerson   28   \n",
       "2       1002     Carlee     Hoffman   36   \n",
       "3       1003   Reynaldo     Jenkins   52   \n",
       "4       1004    Leonila    Thompson   40   \n",
       "..       ...        ...         ...  ...   \n",
       "495     1495      Fidel      Sharpe   67   \n",
       "496     1496      Ariel    Shepherd   49   \n",
       "497     1497      Donte     Barrera   49   \n",
       "498     1498       Scot  Williamson   51   \n",
       "499     1499      Shena     Dickson   37   \n",
       "\n",
       "                                          city    reg_date      plan  \\\n",
       "0        Atlanta-Sandy Springs-Roswell, GA MSA  2018-12-24  ultimate   \n",
       "1              Seattle-Tacoma-Bellevue, WA MSA  2018-08-13      surf   \n",
       "2         Las Vegas-Henderson-Paradise, NV MSA  2018-10-21      surf   \n",
       "3                                Tulsa, OK MSA  2018-01-28      surf   \n",
       "4              Seattle-Tacoma-Bellevue, WA MSA  2018-05-23      surf   \n",
       "..                                         ...         ...       ...   \n",
       "495  New York-Newark-Jersey City, NY-NJ-PA MSA  2018-09-04      surf   \n",
       "496               New Orleans-Metairie, LA MSA  2018-02-20      surf   \n",
       "497     Los Angeles-Long Beach-Anaheim, CA MSA  2018-12-10  ultimate   \n",
       "498  New York-Newark-Jersey City, NY-NJ-PA MSA  2018-02-04      surf   \n",
       "499          Orlando-Kissimmee-Sanford, FL MSA  2018-05-06      surf   \n",
       "\n",
       "    churn_date  \n",
       "0          NaN  \n",
       "1          NaN  \n",
       "2          NaN  \n",
       "3          NaN  \n",
       "4          NaN  \n",
       "..         ...  \n",
       "495        NaN  \n",
       "496        NaN  \n",
       "497        NaN  \n",
       "498        NaN  \n",
       "499        NaN  \n",
       "\n",
       "[500 rows x 8 columns]"
      ]
     },
     "metadata": {},
     "output_type": "display_data"
    }
   ],
   "source": [
    "# Print a sample of data for users\n",
    "\n",
    "display(df_megaline_users)"
   ]
  },
  {
   "cell_type": "markdown",
   "metadata": {},
   "source": [
    "[Describe what you see and notice in the general information and the printed data sample for the above price of data. Are there any issues (inappropriate data types, missing data etc) that may need further investigation and changes? How that can be fixed?]"
   ]
  },
  {
   "cell_type": "markdown",
   "metadata": {},
   "source": [
    " "
   ]
  },
  {
   "cell_type": "markdown",
   "metadata": {},
   "source": [
    "### Fix Data"
   ]
  },
  {
   "cell_type": "markdown",
   "metadata": {},
   "source": [
    "[Fix obvious issues with the data given the initial observations.]"
   ]
  },
  {
   "cell_type": "code",
   "execution_count": 11,
   "metadata": {},
   "outputs": [],
   "source": [
    "df_megaline_users['churn_date'] = df_megaline_users['churn_date'].fillna(method='bfill')\n"
   ]
  },
  {
   "cell_type": "markdown",
   "metadata": {},
   "source": [
    "filled in missing value for churn date with a date in the cell above."
   ]
  },
  {
   "cell_type": "markdown",
   "metadata": {},
   "source": [
    "### Enrich Data"
   ]
  },
  {
   "cell_type": "markdown",
   "metadata": {},
   "source": [
    "[Add additional factors to the data if you believe they might be useful.]"
   ]
  },
  {
   "cell_type": "code",
   "execution_count": 12,
   "metadata": {},
   "outputs": [
    {
     "name": "stdout",
     "output_type": "stream",
     "text": [
      "<class 'pandas.core.frame.DataFrame'>\n",
      "RangeIndex: 500 entries, 0 to 499\n",
      "Data columns (total 8 columns):\n",
      " #   Column      Non-Null Count  Dtype         \n",
      "---  ------      --------------  -----         \n",
      " 0   user_id     500 non-null    int64         \n",
      " 1   first_name  500 non-null    object        \n",
      " 2   last_name   500 non-null    object        \n",
      " 3   age         500 non-null    int64         \n",
      " 4   city        500 non-null    object        \n",
      " 5   reg_date    500 non-null    datetime64[ns]\n",
      " 6   plan        500 non-null    object        \n",
      " 7   churn_date  492 non-null    datetime64[ns]\n",
      "dtypes: datetime64[ns](2), int64(2), object(4)\n",
      "memory usage: 31.4+ KB\n",
      "None\n"
     ]
    }
   ],
   "source": [
    "df_megaline_users['reg_date'] = pd.to_datetime(df_megaline_users['reg_date'])\n",
    "df_megaline_users['churn_date'] = pd.to_datetime(df_megaline_users['churn_date'])\n",
    "\n",
    "print(df_megaline_users.info())"
   ]
  },
  {
   "cell_type": "markdown",
   "metadata": {},
   "source": [
    "converted reg date and churn date to datetime format in the cell above."
   ]
  },
  {
   "cell_type": "markdown",
   "metadata": {},
   "source": [
    "## Calls"
   ]
  },
  {
   "cell_type": "code",
   "execution_count": 13,
   "metadata": {},
   "outputs": [
    {
     "name": "stdout",
     "output_type": "stream",
     "text": [
      "<class 'pandas.core.frame.DataFrame'>\n",
      "RangeIndex: 137735 entries, 0 to 137734\n",
      "Data columns (total 4 columns):\n",
      " #   Column     Non-Null Count   Dtype  \n",
      "---  ------     --------------   -----  \n",
      " 0   id         137735 non-null  object \n",
      " 1   user_id    137735 non-null  int64  \n",
      " 2   call_date  137735 non-null  object \n",
      " 3   duration   137735 non-null  float64\n",
      "dtypes: float64(1), int64(1), object(2)\n",
      "memory usage: 4.2+ MB\n"
     ]
    }
   ],
   "source": [
    "# Print the general/summary information about the calls' DataFrame\n",
    "\n",
    "df_megaline_calls.info()"
   ]
  },
  {
   "cell_type": "code",
   "execution_count": 14,
   "metadata": {},
   "outputs": [
    {
     "data": {
      "text/html": [
       "<div>\n",
       "<style scoped>\n",
       "    .dataframe tbody tr th:only-of-type {\n",
       "        vertical-align: middle;\n",
       "    }\n",
       "\n",
       "    .dataframe tbody tr th {\n",
       "        vertical-align: top;\n",
       "    }\n",
       "\n",
       "    .dataframe thead th {\n",
       "        text-align: right;\n",
       "    }\n",
       "</style>\n",
       "<table border=\"1\" class=\"dataframe\">\n",
       "  <thead>\n",
       "    <tr style=\"text-align: right;\">\n",
       "      <th></th>\n",
       "      <th>id</th>\n",
       "      <th>user_id</th>\n",
       "      <th>call_date</th>\n",
       "      <th>duration</th>\n",
       "    </tr>\n",
       "  </thead>\n",
       "  <tbody>\n",
       "    <tr>\n",
       "      <th>0</th>\n",
       "      <td>1000_93</td>\n",
       "      <td>1000</td>\n",
       "      <td>2018-12-27</td>\n",
       "      <td>8.52</td>\n",
       "    </tr>\n",
       "    <tr>\n",
       "      <th>1</th>\n",
       "      <td>1000_145</td>\n",
       "      <td>1000</td>\n",
       "      <td>2018-12-27</td>\n",
       "      <td>13.66</td>\n",
       "    </tr>\n",
       "    <tr>\n",
       "      <th>2</th>\n",
       "      <td>1000_247</td>\n",
       "      <td>1000</td>\n",
       "      <td>2018-12-27</td>\n",
       "      <td>14.48</td>\n",
       "    </tr>\n",
       "    <tr>\n",
       "      <th>3</th>\n",
       "      <td>1000_309</td>\n",
       "      <td>1000</td>\n",
       "      <td>2018-12-28</td>\n",
       "      <td>5.76</td>\n",
       "    </tr>\n",
       "    <tr>\n",
       "      <th>4</th>\n",
       "      <td>1000_380</td>\n",
       "      <td>1000</td>\n",
       "      <td>2018-12-30</td>\n",
       "      <td>4.22</td>\n",
       "    </tr>\n",
       "    <tr>\n",
       "      <th>...</th>\n",
       "      <td>...</td>\n",
       "      <td>...</td>\n",
       "      <td>...</td>\n",
       "      <td>...</td>\n",
       "    </tr>\n",
       "    <tr>\n",
       "      <th>137730</th>\n",
       "      <td>1499_199</td>\n",
       "      <td>1499</td>\n",
       "      <td>2018-11-21</td>\n",
       "      <td>8.72</td>\n",
       "    </tr>\n",
       "    <tr>\n",
       "      <th>137731</th>\n",
       "      <td>1499_200</td>\n",
       "      <td>1499</td>\n",
       "      <td>2018-10-20</td>\n",
       "      <td>10.89</td>\n",
       "    </tr>\n",
       "    <tr>\n",
       "      <th>137732</th>\n",
       "      <td>1499_201</td>\n",
       "      <td>1499</td>\n",
       "      <td>2018-09-21</td>\n",
       "      <td>8.12</td>\n",
       "    </tr>\n",
       "    <tr>\n",
       "      <th>137733</th>\n",
       "      <td>1499_202</td>\n",
       "      <td>1499</td>\n",
       "      <td>2018-10-10</td>\n",
       "      <td>0.37</td>\n",
       "    </tr>\n",
       "    <tr>\n",
       "      <th>137734</th>\n",
       "      <td>1499_203</td>\n",
       "      <td>1499</td>\n",
       "      <td>2018-12-29</td>\n",
       "      <td>13.86</td>\n",
       "    </tr>\n",
       "  </tbody>\n",
       "</table>\n",
       "<p>137735 rows × 4 columns</p>\n",
       "</div>"
      ],
      "text/plain": [
       "              id  user_id   call_date  duration\n",
       "0        1000_93     1000  2018-12-27      8.52\n",
       "1       1000_145     1000  2018-12-27     13.66\n",
       "2       1000_247     1000  2018-12-27     14.48\n",
       "3       1000_309     1000  2018-12-28      5.76\n",
       "4       1000_380     1000  2018-12-30      4.22\n",
       "...          ...      ...         ...       ...\n",
       "137730  1499_199     1499  2018-11-21      8.72\n",
       "137731  1499_200     1499  2018-10-20     10.89\n",
       "137732  1499_201     1499  2018-09-21      8.12\n",
       "137733  1499_202     1499  2018-10-10      0.37\n",
       "137734  1499_203     1499  2018-12-29     13.86\n",
       "\n",
       "[137735 rows x 4 columns]"
      ]
     },
     "metadata": {},
     "output_type": "display_data"
    }
   ],
   "source": [
    "# Print a sample of data for calls\n",
    "\n",
    "display(df_megaline_calls)"
   ]
  },
  {
   "cell_type": "markdown",
   "metadata": {},
   "source": [
    "[Describe what you see and notice in the general information and the printed data sample for the above price of data. Are there any issues (inappropriate data types, missing data etc) that may need further investigation and changes? How that can be fixed?]"
   ]
  },
  {
   "cell_type": "markdown",
   "metadata": {},
   "source": [
    "### Fix data"
   ]
  },
  {
   "cell_type": "markdown",
   "metadata": {},
   "source": [
    "[Fix obvious issues with the data given the initial observations.]"
   ]
  },
  {
   "cell_type": "code",
   "execution_count": 15,
   "metadata": {},
   "outputs": [
    {
     "name": "stdout",
     "output_type": "stream",
     "text": [
      "Data types before conversion:\n",
      "id            object\n",
      "user_id        int64\n",
      "call_date     object\n",
      "duration     float64\n",
      "dtype: object\n",
      "Data types after conversion:\n",
      "id                   object\n",
      "user_id               int64\n",
      "call_date    datetime64[ns]\n",
      "duration            float64\n",
      "dtype: object\n"
     ]
    }
   ],
   "source": [
    "# convert call_date to datetime data type\n",
    "\n",
    "print(\"Data types before conversion:\")\n",
    "print(df_megaline_calls.dtypes)\n",
    "\n",
    "df_megaline_calls['call_date'] = pd.to_datetime(df_megaline_calls['call_date'], errors='coerce')\n",
    "\n",
    "print(\"Data types after conversion:\")\n",
    "print(df_megaline_calls.dtypes)"
   ]
  },
  {
   "cell_type": "markdown",
   "metadata": {},
   "source": [
    "### Enrich data"
   ]
  },
  {
   "cell_type": "markdown",
   "metadata": {},
   "source": [
    "[Add additional factors to the data if you believe they might be useful.]"
   ]
  },
  {
   "cell_type": "code",
   "execution_count": 16,
   "metadata": {},
   "outputs": [
    {
     "data": {
      "text/html": [
       "<div>\n",
       "<style scoped>\n",
       "    .dataframe tbody tr th:only-of-type {\n",
       "        vertical-align: middle;\n",
       "    }\n",
       "\n",
       "    .dataframe tbody tr th {\n",
       "        vertical-align: top;\n",
       "    }\n",
       "\n",
       "    .dataframe thead th {\n",
       "        text-align: right;\n",
       "    }\n",
       "</style>\n",
       "<table border=\"1\" class=\"dataframe\">\n",
       "  <thead>\n",
       "    <tr style=\"text-align: right;\">\n",
       "      <th></th>\n",
       "      <th>id</th>\n",
       "      <th>user_id</th>\n",
       "      <th>call_date</th>\n",
       "      <th>duration</th>\n",
       "    </tr>\n",
       "  </thead>\n",
       "  <tbody>\n",
       "    <tr>\n",
       "      <th>0</th>\n",
       "      <td>1000_93</td>\n",
       "      <td>1000</td>\n",
       "      <td>2018-12-27</td>\n",
       "      <td>9</td>\n",
       "    </tr>\n",
       "    <tr>\n",
       "      <th>1</th>\n",
       "      <td>1000_145</td>\n",
       "      <td>1000</td>\n",
       "      <td>2018-12-27</td>\n",
       "      <td>14</td>\n",
       "    </tr>\n",
       "    <tr>\n",
       "      <th>2</th>\n",
       "      <td>1000_247</td>\n",
       "      <td>1000</td>\n",
       "      <td>2018-12-27</td>\n",
       "      <td>15</td>\n",
       "    </tr>\n",
       "    <tr>\n",
       "      <th>3</th>\n",
       "      <td>1000_309</td>\n",
       "      <td>1000</td>\n",
       "      <td>2018-12-28</td>\n",
       "      <td>6</td>\n",
       "    </tr>\n",
       "    <tr>\n",
       "      <th>4</th>\n",
       "      <td>1000_380</td>\n",
       "      <td>1000</td>\n",
       "      <td>2018-12-30</td>\n",
       "      <td>5</td>\n",
       "    </tr>\n",
       "    <tr>\n",
       "      <th>...</th>\n",
       "      <td>...</td>\n",
       "      <td>...</td>\n",
       "      <td>...</td>\n",
       "      <td>...</td>\n",
       "    </tr>\n",
       "    <tr>\n",
       "      <th>137730</th>\n",
       "      <td>1499_199</td>\n",
       "      <td>1499</td>\n",
       "      <td>2018-11-21</td>\n",
       "      <td>9</td>\n",
       "    </tr>\n",
       "    <tr>\n",
       "      <th>137731</th>\n",
       "      <td>1499_200</td>\n",
       "      <td>1499</td>\n",
       "      <td>2018-10-20</td>\n",
       "      <td>11</td>\n",
       "    </tr>\n",
       "    <tr>\n",
       "      <th>137732</th>\n",
       "      <td>1499_201</td>\n",
       "      <td>1499</td>\n",
       "      <td>2018-09-21</td>\n",
       "      <td>9</td>\n",
       "    </tr>\n",
       "    <tr>\n",
       "      <th>137733</th>\n",
       "      <td>1499_202</td>\n",
       "      <td>1499</td>\n",
       "      <td>2018-10-10</td>\n",
       "      <td>1</td>\n",
       "    </tr>\n",
       "    <tr>\n",
       "      <th>137734</th>\n",
       "      <td>1499_203</td>\n",
       "      <td>1499</td>\n",
       "      <td>2018-12-29</td>\n",
       "      <td>14</td>\n",
       "    </tr>\n",
       "  </tbody>\n",
       "</table>\n",
       "<p>137735 rows × 4 columns</p>\n",
       "</div>"
      ],
      "text/plain": [
       "              id  user_id  call_date  duration\n",
       "0        1000_93     1000 2018-12-27         9\n",
       "1       1000_145     1000 2018-12-27        14\n",
       "2       1000_247     1000 2018-12-27        15\n",
       "3       1000_309     1000 2018-12-28         6\n",
       "4       1000_380     1000 2018-12-30         5\n",
       "...          ...      ...        ...       ...\n",
       "137730  1499_199     1499 2018-11-21         9\n",
       "137731  1499_200     1499 2018-10-20        11\n",
       "137732  1499_201     1499 2018-09-21         9\n",
       "137733  1499_202     1499 2018-10-10         1\n",
       "137734  1499_203     1499 2018-12-29        14\n",
       "\n",
       "[137735 rows x 4 columns]"
      ]
     },
     "execution_count": 16,
     "metadata": {},
     "output_type": "execute_result"
    }
   ],
   "source": [
    "df_megaline_calls['duration'] = df_megaline_calls['duration'].apply(np.ceil).astype(int)\n",
    "df_megaline_calls"
   ]
  },
  {
   "cell_type": "markdown",
   "metadata": {},
   "source": [
    "## Messages"
   ]
  },
  {
   "cell_type": "code",
   "execution_count": 17,
   "metadata": {},
   "outputs": [
    {
     "name": "stdout",
     "output_type": "stream",
     "text": [
      "<class 'pandas.core.frame.DataFrame'>\n",
      "RangeIndex: 76051 entries, 0 to 76050\n",
      "Data columns (total 3 columns):\n",
      " #   Column        Non-Null Count  Dtype \n",
      "---  ------        --------------  ----- \n",
      " 0   id            76051 non-null  object\n",
      " 1   user_id       76051 non-null  int64 \n",
      " 2   message_date  76051 non-null  object\n",
      "dtypes: int64(1), object(2)\n",
      "memory usage: 1.7+ MB\n"
     ]
    }
   ],
   "source": [
    "# Print the general/summary information about the messages' DataFrame\n",
    "\n",
    "df_megaline_messages.info()         "
   ]
  },
  {
   "cell_type": "code",
   "execution_count": 18,
   "metadata": {},
   "outputs": [
    {
     "data": {
      "text/html": [
       "<div>\n",
       "<style scoped>\n",
       "    .dataframe tbody tr th:only-of-type {\n",
       "        vertical-align: middle;\n",
       "    }\n",
       "\n",
       "    .dataframe tbody tr th {\n",
       "        vertical-align: top;\n",
       "    }\n",
       "\n",
       "    .dataframe thead th {\n",
       "        text-align: right;\n",
       "    }\n",
       "</style>\n",
       "<table border=\"1\" class=\"dataframe\">\n",
       "  <thead>\n",
       "    <tr style=\"text-align: right;\">\n",
       "      <th></th>\n",
       "      <th>id</th>\n",
       "      <th>user_id</th>\n",
       "      <th>message_date</th>\n",
       "    </tr>\n",
       "  </thead>\n",
       "  <tbody>\n",
       "    <tr>\n",
       "      <th>0</th>\n",
       "      <td>1000_125</td>\n",
       "      <td>1000</td>\n",
       "      <td>2018-12-27</td>\n",
       "    </tr>\n",
       "    <tr>\n",
       "      <th>1</th>\n",
       "      <td>1000_160</td>\n",
       "      <td>1000</td>\n",
       "      <td>2018-12-31</td>\n",
       "    </tr>\n",
       "    <tr>\n",
       "      <th>2</th>\n",
       "      <td>1000_223</td>\n",
       "      <td>1000</td>\n",
       "      <td>2018-12-31</td>\n",
       "    </tr>\n",
       "    <tr>\n",
       "      <th>3</th>\n",
       "      <td>1000_251</td>\n",
       "      <td>1000</td>\n",
       "      <td>2018-12-27</td>\n",
       "    </tr>\n",
       "    <tr>\n",
       "      <th>4</th>\n",
       "      <td>1000_255</td>\n",
       "      <td>1000</td>\n",
       "      <td>2018-12-26</td>\n",
       "    </tr>\n",
       "    <tr>\n",
       "      <th>...</th>\n",
       "      <td>...</td>\n",
       "      <td>...</td>\n",
       "      <td>...</td>\n",
       "    </tr>\n",
       "    <tr>\n",
       "      <th>76046</th>\n",
       "      <td>1497_526</td>\n",
       "      <td>1497</td>\n",
       "      <td>2018-12-24</td>\n",
       "    </tr>\n",
       "    <tr>\n",
       "      <th>76047</th>\n",
       "      <td>1497_536</td>\n",
       "      <td>1497</td>\n",
       "      <td>2018-12-24</td>\n",
       "    </tr>\n",
       "    <tr>\n",
       "      <th>76048</th>\n",
       "      <td>1497_547</td>\n",
       "      <td>1497</td>\n",
       "      <td>2018-12-31</td>\n",
       "    </tr>\n",
       "    <tr>\n",
       "      <th>76049</th>\n",
       "      <td>1497_558</td>\n",
       "      <td>1497</td>\n",
       "      <td>2018-12-24</td>\n",
       "    </tr>\n",
       "    <tr>\n",
       "      <th>76050</th>\n",
       "      <td>1497_613</td>\n",
       "      <td>1497</td>\n",
       "      <td>2018-12-23</td>\n",
       "    </tr>\n",
       "  </tbody>\n",
       "</table>\n",
       "<p>76051 rows × 3 columns</p>\n",
       "</div>"
      ],
      "text/plain": [
       "             id  user_id message_date\n",
       "0      1000_125     1000   2018-12-27\n",
       "1      1000_160     1000   2018-12-31\n",
       "2      1000_223     1000   2018-12-31\n",
       "3      1000_251     1000   2018-12-27\n",
       "4      1000_255     1000   2018-12-26\n",
       "...         ...      ...          ...\n",
       "76046  1497_526     1497   2018-12-24\n",
       "76047  1497_536     1497   2018-12-24\n",
       "76048  1497_547     1497   2018-12-31\n",
       "76049  1497_558     1497   2018-12-24\n",
       "76050  1497_613     1497   2018-12-23\n",
       "\n",
       "[76051 rows x 3 columns]"
      ]
     },
     "metadata": {},
     "output_type": "display_data"
    }
   ],
   "source": [
    "# Print a sample of data for messages\n",
    "\n",
    "display(df_megaline_messages)"
   ]
  },
  {
   "cell_type": "markdown",
   "metadata": {},
   "source": [
    "[Describe what you see and notice in the general information and the printed data sample for the above price of data. Are there any issues (inappropriate data types, missing data etc) that may need further investigation and changes? How that can be fixed?]"
   ]
  },
  {
   "cell_type": "markdown",
   "metadata": {},
   "source": [
    "### Fix data"
   ]
  },
  {
   "cell_type": "markdown",
   "metadata": {},
   "source": [
    "[Fix obvious issues with the data given the initial observations.]"
   ]
  },
  {
   "cell_type": "code",
   "execution_count": 19,
   "metadata": {},
   "outputs": [
    {
     "name": "stdout",
     "output_type": "stream",
     "text": [
      "            id  user_id message_date\n",
      "0      1000125     1000   2018-12-27\n",
      "1      1000160     1000   2018-12-31\n",
      "2      1000223     1000   2018-12-31\n",
      "3      1000251     1000   2018-12-27\n",
      "4      1000255     1000   2018-12-26\n",
      "...        ...      ...          ...\n",
      "76046  1497526     1497   2018-12-24\n",
      "76047  1497536     1497   2018-12-24\n",
      "76048  1497547     1497   2018-12-31\n",
      "76049  1497558     1497   2018-12-24\n",
      "76050  1497613     1497   2018-12-23\n",
      "\n",
      "[76051 rows x 3 columns]\n"
     ]
    }
   ],
   "source": [
    "df_megaline_messages['id'] = df_megaline_messages['id'].astype(int)\n",
    "\n",
    "df_megaline_messages['message_date'] = pd.to_datetime(df_megaline_messages['message_date'])\n",
    "\n",
    "\n",
    "print(df_megaline_messages)"
   ]
  },
  {
   "cell_type": "markdown",
   "metadata": {},
   "source": [
    "changed the datatypes for id to integer and message date to datetime format."
   ]
  },
  {
   "cell_type": "markdown",
   "metadata": {},
   "source": [
    "### Enrich data"
   ]
  },
  {
   "cell_type": "markdown",
   "metadata": {},
   "source": [
    "[Add additional factors to the data if you believe they might be useful.]"
   ]
  },
  {
   "cell_type": "markdown",
   "metadata": {},
   "source": [
    "## Internet"
   ]
  },
  {
   "cell_type": "code",
   "execution_count": 20,
   "metadata": {},
   "outputs": [
    {
     "name": "stdout",
     "output_type": "stream",
     "text": [
      "<class 'pandas.core.frame.DataFrame'>\n",
      "RangeIndex: 104825 entries, 0 to 104824\n",
      "Data columns (total 4 columns):\n",
      " #   Column        Non-Null Count   Dtype  \n",
      "---  ------        --------------   -----  \n",
      " 0   id            104825 non-null  object \n",
      " 1   user_id       104825 non-null  int64  \n",
      " 2   session_date  104825 non-null  object \n",
      " 3   mb_used       104825 non-null  float64\n",
      "dtypes: float64(1), int64(1), object(2)\n",
      "memory usage: 3.2+ MB\n"
     ]
    }
   ],
   "source": [
    "# Print the general/summary information about the internet DataFrame\n",
    "\n",
    "df_megaline_internet.info()"
   ]
  },
  {
   "cell_type": "code",
   "execution_count": 21,
   "metadata": {},
   "outputs": [
    {
     "data": {
      "text/html": [
       "<div>\n",
       "<style scoped>\n",
       "    .dataframe tbody tr th:only-of-type {\n",
       "        vertical-align: middle;\n",
       "    }\n",
       "\n",
       "    .dataframe tbody tr th {\n",
       "        vertical-align: top;\n",
       "    }\n",
       "\n",
       "    .dataframe thead th {\n",
       "        text-align: right;\n",
       "    }\n",
       "</style>\n",
       "<table border=\"1\" class=\"dataframe\">\n",
       "  <thead>\n",
       "    <tr style=\"text-align: right;\">\n",
       "      <th></th>\n",
       "      <th>id</th>\n",
       "      <th>user_id</th>\n",
       "      <th>session_date</th>\n",
       "      <th>mb_used</th>\n",
       "    </tr>\n",
       "  </thead>\n",
       "  <tbody>\n",
       "    <tr>\n",
       "      <th>0</th>\n",
       "      <td>1000_13</td>\n",
       "      <td>1000</td>\n",
       "      <td>2018-12-29</td>\n",
       "      <td>89.86</td>\n",
       "    </tr>\n",
       "    <tr>\n",
       "      <th>1</th>\n",
       "      <td>1000_204</td>\n",
       "      <td>1000</td>\n",
       "      <td>2018-12-31</td>\n",
       "      <td>0.00</td>\n",
       "    </tr>\n",
       "    <tr>\n",
       "      <th>2</th>\n",
       "      <td>1000_379</td>\n",
       "      <td>1000</td>\n",
       "      <td>2018-12-28</td>\n",
       "      <td>660.40</td>\n",
       "    </tr>\n",
       "    <tr>\n",
       "      <th>3</th>\n",
       "      <td>1000_413</td>\n",
       "      <td>1000</td>\n",
       "      <td>2018-12-26</td>\n",
       "      <td>270.99</td>\n",
       "    </tr>\n",
       "    <tr>\n",
       "      <th>4</th>\n",
       "      <td>1000_442</td>\n",
       "      <td>1000</td>\n",
       "      <td>2018-12-27</td>\n",
       "      <td>880.22</td>\n",
       "    </tr>\n",
       "    <tr>\n",
       "      <th>...</th>\n",
       "      <td>...</td>\n",
       "      <td>...</td>\n",
       "      <td>...</td>\n",
       "      <td>...</td>\n",
       "    </tr>\n",
       "    <tr>\n",
       "      <th>104820</th>\n",
       "      <td>1499_215</td>\n",
       "      <td>1499</td>\n",
       "      <td>2018-10-20</td>\n",
       "      <td>218.06</td>\n",
       "    </tr>\n",
       "    <tr>\n",
       "      <th>104821</th>\n",
       "      <td>1499_216</td>\n",
       "      <td>1499</td>\n",
       "      <td>2018-12-30</td>\n",
       "      <td>304.72</td>\n",
       "    </tr>\n",
       "    <tr>\n",
       "      <th>104822</th>\n",
       "      <td>1499_217</td>\n",
       "      <td>1499</td>\n",
       "      <td>2018-09-22</td>\n",
       "      <td>292.75</td>\n",
       "    </tr>\n",
       "    <tr>\n",
       "      <th>104823</th>\n",
       "      <td>1499_218</td>\n",
       "      <td>1499</td>\n",
       "      <td>2018-12-07</td>\n",
       "      <td>0.00</td>\n",
       "    </tr>\n",
       "    <tr>\n",
       "      <th>104824</th>\n",
       "      <td>1499_219</td>\n",
       "      <td>1499</td>\n",
       "      <td>2018-12-24</td>\n",
       "      <td>758.31</td>\n",
       "    </tr>\n",
       "  </tbody>\n",
       "</table>\n",
       "<p>104825 rows × 4 columns</p>\n",
       "</div>"
      ],
      "text/plain": [
       "              id  user_id session_date  mb_used\n",
       "0        1000_13     1000   2018-12-29    89.86\n",
       "1       1000_204     1000   2018-12-31     0.00\n",
       "2       1000_379     1000   2018-12-28   660.40\n",
       "3       1000_413     1000   2018-12-26   270.99\n",
       "4       1000_442     1000   2018-12-27   880.22\n",
       "...          ...      ...          ...      ...\n",
       "104820  1499_215     1499   2018-10-20   218.06\n",
       "104821  1499_216     1499   2018-12-30   304.72\n",
       "104822  1499_217     1499   2018-09-22   292.75\n",
       "104823  1499_218     1499   2018-12-07     0.00\n",
       "104824  1499_219     1499   2018-12-24   758.31\n",
       "\n",
       "[104825 rows x 4 columns]"
      ]
     },
     "metadata": {},
     "output_type": "display_data"
    }
   ],
   "source": [
    "# Print a sample of data for the internet traffic\n",
    "\n",
    "display(df_megaline_internet)"
   ]
  },
  {
   "cell_type": "markdown",
   "metadata": {},
   "source": [
    "[Describe what you see and notice in the general information and the printed data sample for the above price of data. Are there any issues (inappropriate data types, missing data etc) that may need further investigation and changes? How that can be fixed?]"
   ]
  },
  {
   "cell_type": "markdown",
   "metadata": {},
   "source": [
    "### Fix data"
   ]
  },
  {
   "cell_type": "markdown",
   "metadata": {},
   "source": [
    "[Fix obvious issues with the data given the initial observations.]"
   ]
  },
  {
   "cell_type": "code",
   "execution_count": 22,
   "metadata": {},
   "outputs": [
    {
     "name": "stdout",
     "output_type": "stream",
     "text": [
      "              id  user_id session_date  mb_used  session_month\n",
      "0        1000_13     1000   2018-12-29    89.86             12\n",
      "1       1000_204     1000   2018-12-31     0.00             12\n",
      "2       1000_379     1000   2018-12-28   660.40             12\n",
      "3       1000_413     1000   2018-12-26   270.99             12\n",
      "4       1000_442     1000   2018-12-27   880.22             12\n",
      "...          ...      ...          ...      ...            ...\n",
      "104820  1499_215     1499   2018-10-20   218.06             10\n",
      "104821  1499_216     1499   2018-12-30   304.72             12\n",
      "104822  1499_217     1499   2018-09-22   292.75              9\n",
      "104823  1499_218     1499   2018-12-07     0.00             12\n",
      "104824  1499_219     1499   2018-12-24   758.31             12\n",
      "\n",
      "[104825 rows x 5 columns]\n"
     ]
    }
   ],
   "source": [
    "df_megaline_internet['id'] = df_megaline_internet['id'].astype(str)\n",
    "\n",
    "df_megaline_internet['session_date'] = pd.to_datetime(df_megaline_internet['session_date'])\n",
    "\n",
    "\n",
    "df_megaline_internet['session_month'] = df_megaline_internet['session_date'].dt.month\n",
    "\n",
    "print(df_megaline_internet)"
   ]
  },
  {
   "cell_type": "markdown",
   "metadata": {},
   "source": [
    "### Enrich data"
   ]
  },
  {
   "cell_type": "markdown",
   "metadata": {},
   "source": [
    "Converted session date into datetime type."
   ]
  },
  {
   "cell_type": "markdown",
   "metadata": {},
   "source": [
    "## Study plan conditions"
   ]
  },
  {
   "cell_type": "markdown",
   "metadata": {},
   "source": [
    "[It is critical to understand how the plans work, how users are charged based on their plan subscription. So, we suggest printing out the plan information to view their conditions once again.]"
   ]
  },
  {
   "cell_type": "code",
   "execution_count": 23,
   "metadata": {},
   "outputs": [
    {
     "data": {
      "text/html": [
       "<div>\n",
       "<style scoped>\n",
       "    .dataframe tbody tr th:only-of-type {\n",
       "        vertical-align: middle;\n",
       "    }\n",
       "\n",
       "    .dataframe tbody tr th {\n",
       "        vertical-align: top;\n",
       "    }\n",
       "\n",
       "    .dataframe thead th {\n",
       "        text-align: right;\n",
       "    }\n",
       "</style>\n",
       "<table border=\"1\" class=\"dataframe\">\n",
       "  <thead>\n",
       "    <tr style=\"text-align: right;\">\n",
       "      <th></th>\n",
       "      <th>messages_included</th>\n",
       "      <th>mb_per_month_included</th>\n",
       "      <th>minutes_included</th>\n",
       "      <th>usd_monthly_pay</th>\n",
       "      <th>usd_per_gb</th>\n",
       "      <th>usd_per_message</th>\n",
       "      <th>usd_per_minute</th>\n",
       "      <th>plan_name</th>\n",
       "    </tr>\n",
       "  </thead>\n",
       "  <tbody>\n",
       "    <tr>\n",
       "      <th>0</th>\n",
       "      <td>50</td>\n",
       "      <td>15360</td>\n",
       "      <td>500</td>\n",
       "      <td>20</td>\n",
       "      <td>10</td>\n",
       "      <td>0.03</td>\n",
       "      <td>0.03</td>\n",
       "      <td>surf</td>\n",
       "    </tr>\n",
       "    <tr>\n",
       "      <th>1</th>\n",
       "      <td>1000</td>\n",
       "      <td>30720</td>\n",
       "      <td>3000</td>\n",
       "      <td>70</td>\n",
       "      <td>7</td>\n",
       "      <td>0.01</td>\n",
       "      <td>0.01</td>\n",
       "      <td>ultimate</td>\n",
       "    </tr>\n",
       "  </tbody>\n",
       "</table>\n",
       "</div>"
      ],
      "text/plain": [
       "   messages_included  mb_per_month_included  minutes_included  \\\n",
       "0                 50                  15360               500   \n",
       "1               1000                  30720              3000   \n",
       "\n",
       "   usd_monthly_pay  usd_per_gb  usd_per_message  usd_per_minute plan_name  \n",
       "0               20          10             0.03            0.03      surf  \n",
       "1               70           7             0.01            0.01  ultimate  "
      ]
     },
     "metadata": {},
     "output_type": "display_data"
    }
   ],
   "source": [
    "# Print out the plan conditions and make sure they are clear for you\n",
    "\n",
    "display(df_megaline_plans)"
   ]
  },
  {
   "cell_type": "markdown",
   "metadata": {},
   "source": [
    "## Aggregate data per user\n",
    "\n",
    "[Now, as the data is clean, aggregate data per user per period in order to have just one record per user per period. It should ease the further analysis a lot.]"
   ]
  },
  {
   "cell_type": "code",
   "execution_count": 24,
   "metadata": {},
   "outputs": [
    {
     "data": {
      "text/html": [
       "<div>\n",
       "<style scoped>\n",
       "    .dataframe tbody tr th:only-of-type {\n",
       "        vertical-align: middle;\n",
       "    }\n",
       "\n",
       "    .dataframe tbody tr th {\n",
       "        vertical-align: top;\n",
       "    }\n",
       "\n",
       "    .dataframe thead th {\n",
       "        text-align: right;\n",
       "    }\n",
       "</style>\n",
       "<table border=\"1\" class=\"dataframe\">\n",
       "  <thead>\n",
       "    <tr style=\"text-align: right;\">\n",
       "      <th></th>\n",
       "      <th>id</th>\n",
       "      <th>user_id</th>\n",
       "      <th>call_date</th>\n",
       "      <th>duration</th>\n",
       "    </tr>\n",
       "  </thead>\n",
       "  <tbody>\n",
       "    <tr>\n",
       "      <th>0</th>\n",
       "      <td>1000_93</td>\n",
       "      <td>1000</td>\n",
       "      <td>2018-12-27</td>\n",
       "      <td>9</td>\n",
       "    </tr>\n",
       "    <tr>\n",
       "      <th>1</th>\n",
       "      <td>1000_145</td>\n",
       "      <td>1000</td>\n",
       "      <td>2018-12-27</td>\n",
       "      <td>14</td>\n",
       "    </tr>\n",
       "    <tr>\n",
       "      <th>2</th>\n",
       "      <td>1000_247</td>\n",
       "      <td>1000</td>\n",
       "      <td>2018-12-27</td>\n",
       "      <td>15</td>\n",
       "    </tr>\n",
       "    <tr>\n",
       "      <th>3</th>\n",
       "      <td>1000_309</td>\n",
       "      <td>1000</td>\n",
       "      <td>2018-12-28</td>\n",
       "      <td>6</td>\n",
       "    </tr>\n",
       "    <tr>\n",
       "      <th>4</th>\n",
       "      <td>1000_380</td>\n",
       "      <td>1000</td>\n",
       "      <td>2018-12-30</td>\n",
       "      <td>5</td>\n",
       "    </tr>\n",
       "    <tr>\n",
       "      <th>...</th>\n",
       "      <td>...</td>\n",
       "      <td>...</td>\n",
       "      <td>...</td>\n",
       "      <td>...</td>\n",
       "    </tr>\n",
       "    <tr>\n",
       "      <th>137730</th>\n",
       "      <td>1499_199</td>\n",
       "      <td>1499</td>\n",
       "      <td>2018-11-21</td>\n",
       "      <td>9</td>\n",
       "    </tr>\n",
       "    <tr>\n",
       "      <th>137731</th>\n",
       "      <td>1499_200</td>\n",
       "      <td>1499</td>\n",
       "      <td>2018-10-20</td>\n",
       "      <td>11</td>\n",
       "    </tr>\n",
       "    <tr>\n",
       "      <th>137732</th>\n",
       "      <td>1499_201</td>\n",
       "      <td>1499</td>\n",
       "      <td>2018-09-21</td>\n",
       "      <td>9</td>\n",
       "    </tr>\n",
       "    <tr>\n",
       "      <th>137733</th>\n",
       "      <td>1499_202</td>\n",
       "      <td>1499</td>\n",
       "      <td>2018-10-10</td>\n",
       "      <td>1</td>\n",
       "    </tr>\n",
       "    <tr>\n",
       "      <th>137734</th>\n",
       "      <td>1499_203</td>\n",
       "      <td>1499</td>\n",
       "      <td>2018-12-29</td>\n",
       "      <td>14</td>\n",
       "    </tr>\n",
       "  </tbody>\n",
       "</table>\n",
       "<p>137735 rows × 4 columns</p>\n",
       "</div>"
      ],
      "text/plain": [
       "              id  user_id  call_date  duration\n",
       "0        1000_93     1000 2018-12-27         9\n",
       "1       1000_145     1000 2018-12-27        14\n",
       "2       1000_247     1000 2018-12-27        15\n",
       "3       1000_309     1000 2018-12-28         6\n",
       "4       1000_380     1000 2018-12-30         5\n",
       "...          ...      ...        ...       ...\n",
       "137730  1499_199     1499 2018-11-21         9\n",
       "137731  1499_200     1499 2018-10-20        11\n",
       "137732  1499_201     1499 2018-09-21         9\n",
       "137733  1499_202     1499 2018-10-10         1\n",
       "137734  1499_203     1499 2018-12-29        14\n",
       "\n",
       "[137735 rows x 4 columns]"
      ]
     },
     "execution_count": 24,
     "metadata": {},
     "output_type": "execute_result"
    }
   ],
   "source": [
    "df_megaline_calls"
   ]
  },
  {
   "cell_type": "code",
   "execution_count": 25,
   "metadata": {},
   "outputs": [
    {
     "data": {
      "text/html": [
       "<div>\n",
       "<style scoped>\n",
       "    .dataframe tbody tr th:only-of-type {\n",
       "        vertical-align: middle;\n",
       "    }\n",
       "\n",
       "    .dataframe tbody tr th {\n",
       "        vertical-align: top;\n",
       "    }\n",
       "\n",
       "    .dataframe thead th {\n",
       "        text-align: right;\n",
       "    }\n",
       "</style>\n",
       "<table border=\"1\" class=\"dataframe\">\n",
       "  <thead>\n",
       "    <tr style=\"text-align: right;\">\n",
       "      <th></th>\n",
       "      <th>user_id</th>\n",
       "      <th>month</th>\n",
       "      <th>call_count</th>\n",
       "    </tr>\n",
       "  </thead>\n",
       "  <tbody>\n",
       "    <tr>\n",
       "      <th>0</th>\n",
       "      <td>1000</td>\n",
       "      <td>12</td>\n",
       "      <td>16</td>\n",
       "    </tr>\n",
       "    <tr>\n",
       "      <th>1</th>\n",
       "      <td>1001</td>\n",
       "      <td>8</td>\n",
       "      <td>27</td>\n",
       "    </tr>\n",
       "    <tr>\n",
       "      <th>2</th>\n",
       "      <td>1001</td>\n",
       "      <td>9</td>\n",
       "      <td>49</td>\n",
       "    </tr>\n",
       "    <tr>\n",
       "      <th>3</th>\n",
       "      <td>1001</td>\n",
       "      <td>10</td>\n",
       "      <td>65</td>\n",
       "    </tr>\n",
       "    <tr>\n",
       "      <th>4</th>\n",
       "      <td>1001</td>\n",
       "      <td>11</td>\n",
       "      <td>64</td>\n",
       "    </tr>\n",
       "    <tr>\n",
       "      <th>...</th>\n",
       "      <td>...</td>\n",
       "      <td>...</td>\n",
       "      <td>...</td>\n",
       "    </tr>\n",
       "    <tr>\n",
       "      <th>2253</th>\n",
       "      <td>1498</td>\n",
       "      <td>12</td>\n",
       "      <td>39</td>\n",
       "    </tr>\n",
       "    <tr>\n",
       "      <th>2254</th>\n",
       "      <td>1499</td>\n",
       "      <td>9</td>\n",
       "      <td>41</td>\n",
       "    </tr>\n",
       "    <tr>\n",
       "      <th>2255</th>\n",
       "      <td>1499</td>\n",
       "      <td>10</td>\n",
       "      <td>53</td>\n",
       "    </tr>\n",
       "    <tr>\n",
       "      <th>2256</th>\n",
       "      <td>1499</td>\n",
       "      <td>11</td>\n",
       "      <td>45</td>\n",
       "    </tr>\n",
       "    <tr>\n",
       "      <th>2257</th>\n",
       "      <td>1499</td>\n",
       "      <td>12</td>\n",
       "      <td>65</td>\n",
       "    </tr>\n",
       "  </tbody>\n",
       "</table>\n",
       "<p>2258 rows × 3 columns</p>\n",
       "</div>"
      ],
      "text/plain": [
       "      user_id  month  call_count\n",
       "0        1000     12          16\n",
       "1        1001      8          27\n",
       "2        1001      9          49\n",
       "3        1001     10          65\n",
       "4        1001     11          64\n",
       "...       ...    ...         ...\n",
       "2253     1498     12          39\n",
       "2254     1499      9          41\n",
       "2255     1499     10          53\n",
       "2256     1499     11          45\n",
       "2257     1499     12          65\n",
       "\n",
       "[2258 rows x 3 columns]"
      ]
     },
     "metadata": {},
     "output_type": "display_data"
    }
   ],
   "source": [
    "# Calculate the number of calls made by each user per month. Save the result.\n",
    "\n",
    "df_megaline_calls['call_date'] = pd.to_datetime(df_megaline_calls['call_date'])\n",
    "\n",
    "df_megaline_calls['month'] = df_megaline_calls['call_date'].dt.month\n",
    "\n",
    "call_counts = df_megaline_calls.groupby(['user_id', 'month']).size().reset_index(name='call_count')\n",
    "\n",
    "display(call_counts)\n"
   ]
  },
  {
   "cell_type": "code",
   "execution_count": 26,
   "metadata": {},
   "outputs": [
    {
     "name": "stdout",
     "output_type": "stream",
     "text": [
      "      user_id  month  total_minutes\n",
      "0        1000     12            124\n",
      "1        1001      8            182\n",
      "2        1001      9            315\n",
      "3        1001     10            393\n",
      "4        1001     11            426\n",
      "...       ...    ...            ...\n",
      "2253     1498     12            339\n",
      "2254     1499      9            346\n",
      "2255     1499     10            385\n",
      "2256     1499     11            308\n",
      "2257     1499     12            496\n",
      "\n",
      "[2258 rows x 3 columns]\n"
     ]
    }
   ],
   "source": [
    "# Calculate the amount of minutes spent by each user per month. Save the result.\n",
    "\n",
    "df_megaline_calls['call_date'] = pd.to_datetime(df_megaline_calls['call_date'])\n",
    "\n",
    "monthly_minutes = df_megaline_calls.groupby(['user_id', 'month'])['duration'].sum().reset_index()\n",
    "\n",
    "monthly_minutes.columns = ['user_id', 'month', 'total_minutes']\n",
    "\n",
    "print(monthly_minutes)"
   ]
  },
  {
   "cell_type": "code",
   "execution_count": 27,
   "metadata": {},
   "outputs": [
    {
     "data": {
      "text/html": [
       "<div>\n",
       "<style scoped>\n",
       "    .dataframe tbody tr th:only-of-type {\n",
       "        vertical-align: middle;\n",
       "    }\n",
       "\n",
       "    .dataframe tbody tr th {\n",
       "        vertical-align: top;\n",
       "    }\n",
       "\n",
       "    .dataframe thead th {\n",
       "        text-align: right;\n",
       "    }\n",
       "</style>\n",
       "<table border=\"1\" class=\"dataframe\">\n",
       "  <thead>\n",
       "    <tr style=\"text-align: right;\">\n",
       "      <th></th>\n",
       "      <th>id</th>\n",
       "      <th>user_id</th>\n",
       "      <th>message_date</th>\n",
       "    </tr>\n",
       "  </thead>\n",
       "  <tbody>\n",
       "    <tr>\n",
       "      <th>0</th>\n",
       "      <td>1000125</td>\n",
       "      <td>1000</td>\n",
       "      <td>2018-12-27</td>\n",
       "    </tr>\n",
       "    <tr>\n",
       "      <th>1</th>\n",
       "      <td>1000160</td>\n",
       "      <td>1000</td>\n",
       "      <td>2018-12-31</td>\n",
       "    </tr>\n",
       "    <tr>\n",
       "      <th>2</th>\n",
       "      <td>1000223</td>\n",
       "      <td>1000</td>\n",
       "      <td>2018-12-31</td>\n",
       "    </tr>\n",
       "    <tr>\n",
       "      <th>3</th>\n",
       "      <td>1000251</td>\n",
       "      <td>1000</td>\n",
       "      <td>2018-12-27</td>\n",
       "    </tr>\n",
       "    <tr>\n",
       "      <th>4</th>\n",
       "      <td>1000255</td>\n",
       "      <td>1000</td>\n",
       "      <td>2018-12-26</td>\n",
       "    </tr>\n",
       "    <tr>\n",
       "      <th>...</th>\n",
       "      <td>...</td>\n",
       "      <td>...</td>\n",
       "      <td>...</td>\n",
       "    </tr>\n",
       "    <tr>\n",
       "      <th>76046</th>\n",
       "      <td>1497526</td>\n",
       "      <td>1497</td>\n",
       "      <td>2018-12-24</td>\n",
       "    </tr>\n",
       "    <tr>\n",
       "      <th>76047</th>\n",
       "      <td>1497536</td>\n",
       "      <td>1497</td>\n",
       "      <td>2018-12-24</td>\n",
       "    </tr>\n",
       "    <tr>\n",
       "      <th>76048</th>\n",
       "      <td>1497547</td>\n",
       "      <td>1497</td>\n",
       "      <td>2018-12-31</td>\n",
       "    </tr>\n",
       "    <tr>\n",
       "      <th>76049</th>\n",
       "      <td>1497558</td>\n",
       "      <td>1497</td>\n",
       "      <td>2018-12-24</td>\n",
       "    </tr>\n",
       "    <tr>\n",
       "      <th>76050</th>\n",
       "      <td>1497613</td>\n",
       "      <td>1497</td>\n",
       "      <td>2018-12-23</td>\n",
       "    </tr>\n",
       "  </tbody>\n",
       "</table>\n",
       "<p>76051 rows × 3 columns</p>\n",
       "</div>"
      ],
      "text/plain": [
       "            id  user_id message_date\n",
       "0      1000125     1000   2018-12-27\n",
       "1      1000160     1000   2018-12-31\n",
       "2      1000223     1000   2018-12-31\n",
       "3      1000251     1000   2018-12-27\n",
       "4      1000255     1000   2018-12-26\n",
       "...        ...      ...          ...\n",
       "76046  1497526     1497   2018-12-24\n",
       "76047  1497536     1497   2018-12-24\n",
       "76048  1497547     1497   2018-12-31\n",
       "76049  1497558     1497   2018-12-24\n",
       "76050  1497613     1497   2018-12-23\n",
       "\n",
       "[76051 rows x 3 columns]"
      ]
     },
     "execution_count": 27,
     "metadata": {},
     "output_type": "execute_result"
    }
   ],
   "source": [
    "df_megaline_messages"
   ]
  },
  {
   "cell_type": "code",
   "execution_count": 28,
   "metadata": {},
   "outputs": [
    {
     "name": "stdout",
     "output_type": "stream",
     "text": [
      "      user_id  month  message_count\n",
      "0        1000     12             11\n",
      "1        1001      8             30\n",
      "2        1001      9             44\n",
      "3        1001     10             53\n",
      "4        1001     11             36\n",
      "...       ...    ...            ...\n",
      "1801     1496      9             21\n",
      "1802     1496     10             18\n",
      "1803     1496     11             13\n",
      "1804     1496     12             11\n",
      "1805     1497     12             50\n",
      "\n",
      "[1806 rows x 3 columns]\n"
     ]
    }
   ],
   "source": [
    "# Calculate the number of messages sent by each user per month. Save the result.\n",
    "\n",
    "df_megaline_messages['message_date'] = pd.to_datetime(df_megaline_messages['message_date'])\n",
    "\n",
    "df_megaline_messages['month'] = df_megaline_messages['message_date'].dt.month\n",
    "\n",
    "messages_per_user_month = df_megaline_messages.groupby(['user_id', 'month']).size().reset_index(name='message_count')\n",
    "\n",
    "print(messages_per_user_month)"
   ]
  },
  {
   "cell_type": "code",
   "execution_count": 29,
   "metadata": {},
   "outputs": [
    {
     "data": {
      "text/html": [
       "<div>\n",
       "<style scoped>\n",
       "    .dataframe tbody tr th:only-of-type {\n",
       "        vertical-align: middle;\n",
       "    }\n",
       "\n",
       "    .dataframe tbody tr th {\n",
       "        vertical-align: top;\n",
       "    }\n",
       "\n",
       "    .dataframe thead th {\n",
       "        text-align: right;\n",
       "    }\n",
       "</style>\n",
       "<table border=\"1\" class=\"dataframe\">\n",
       "  <thead>\n",
       "    <tr style=\"text-align: right;\">\n",
       "      <th></th>\n",
       "      <th>id</th>\n",
       "      <th>user_id</th>\n",
       "      <th>session_date</th>\n",
       "      <th>mb_used</th>\n",
       "      <th>session_month</th>\n",
       "    </tr>\n",
       "  </thead>\n",
       "  <tbody>\n",
       "    <tr>\n",
       "      <th>0</th>\n",
       "      <td>1000_13</td>\n",
       "      <td>1000</td>\n",
       "      <td>2018-12-29</td>\n",
       "      <td>89.86</td>\n",
       "      <td>12</td>\n",
       "    </tr>\n",
       "    <tr>\n",
       "      <th>1</th>\n",
       "      <td>1000_204</td>\n",
       "      <td>1000</td>\n",
       "      <td>2018-12-31</td>\n",
       "      <td>0.00</td>\n",
       "      <td>12</td>\n",
       "    </tr>\n",
       "    <tr>\n",
       "      <th>2</th>\n",
       "      <td>1000_379</td>\n",
       "      <td>1000</td>\n",
       "      <td>2018-12-28</td>\n",
       "      <td>660.40</td>\n",
       "      <td>12</td>\n",
       "    </tr>\n",
       "    <tr>\n",
       "      <th>3</th>\n",
       "      <td>1000_413</td>\n",
       "      <td>1000</td>\n",
       "      <td>2018-12-26</td>\n",
       "      <td>270.99</td>\n",
       "      <td>12</td>\n",
       "    </tr>\n",
       "    <tr>\n",
       "      <th>4</th>\n",
       "      <td>1000_442</td>\n",
       "      <td>1000</td>\n",
       "      <td>2018-12-27</td>\n",
       "      <td>880.22</td>\n",
       "      <td>12</td>\n",
       "    </tr>\n",
       "    <tr>\n",
       "      <th>...</th>\n",
       "      <td>...</td>\n",
       "      <td>...</td>\n",
       "      <td>...</td>\n",
       "      <td>...</td>\n",
       "      <td>...</td>\n",
       "    </tr>\n",
       "    <tr>\n",
       "      <th>104820</th>\n",
       "      <td>1499_215</td>\n",
       "      <td>1499</td>\n",
       "      <td>2018-10-20</td>\n",
       "      <td>218.06</td>\n",
       "      <td>10</td>\n",
       "    </tr>\n",
       "    <tr>\n",
       "      <th>104821</th>\n",
       "      <td>1499_216</td>\n",
       "      <td>1499</td>\n",
       "      <td>2018-12-30</td>\n",
       "      <td>304.72</td>\n",
       "      <td>12</td>\n",
       "    </tr>\n",
       "    <tr>\n",
       "      <th>104822</th>\n",
       "      <td>1499_217</td>\n",
       "      <td>1499</td>\n",
       "      <td>2018-09-22</td>\n",
       "      <td>292.75</td>\n",
       "      <td>9</td>\n",
       "    </tr>\n",
       "    <tr>\n",
       "      <th>104823</th>\n",
       "      <td>1499_218</td>\n",
       "      <td>1499</td>\n",
       "      <td>2018-12-07</td>\n",
       "      <td>0.00</td>\n",
       "      <td>12</td>\n",
       "    </tr>\n",
       "    <tr>\n",
       "      <th>104824</th>\n",
       "      <td>1499_219</td>\n",
       "      <td>1499</td>\n",
       "      <td>2018-12-24</td>\n",
       "      <td>758.31</td>\n",
       "      <td>12</td>\n",
       "    </tr>\n",
       "  </tbody>\n",
       "</table>\n",
       "<p>104825 rows × 5 columns</p>\n",
       "</div>"
      ],
      "text/plain": [
       "              id  user_id session_date  mb_used  session_month\n",
       "0        1000_13     1000   2018-12-29    89.86             12\n",
       "1       1000_204     1000   2018-12-31     0.00             12\n",
       "2       1000_379     1000   2018-12-28   660.40             12\n",
       "3       1000_413     1000   2018-12-26   270.99             12\n",
       "4       1000_442     1000   2018-12-27   880.22             12\n",
       "...          ...      ...          ...      ...            ...\n",
       "104820  1499_215     1499   2018-10-20   218.06             10\n",
       "104821  1499_216     1499   2018-12-30   304.72             12\n",
       "104822  1499_217     1499   2018-09-22   292.75              9\n",
       "104823  1499_218     1499   2018-12-07     0.00             12\n",
       "104824  1499_219     1499   2018-12-24   758.31             12\n",
       "\n",
       "[104825 rows x 5 columns]"
      ]
     },
     "execution_count": 29,
     "metadata": {},
     "output_type": "execute_result"
    }
   ],
   "source": [
    "df_megaline_internet"
   ]
  },
  {
   "cell_type": "code",
   "execution_count": 30,
   "metadata": {},
   "outputs": [
    {
     "name": "stdout",
     "output_type": "stream",
     "text": [
      "   user_id  month   mb_used\n",
      "0     1000     12   1901.47\n",
      "1     1001      8   6919.15\n",
      "2     1001      9  13314.82\n",
      "3     1001     10  22330.49\n",
      "4     1001     11  18504.30\n"
     ]
    }
   ],
   "source": [
    "# Calculate the volume of internet traffic used by each user per month. Save the result.\n",
    "\n",
    "df_megaline_internet['session_date'] = pd.to_datetime(df_megaline_internet['session_date'])\n",
    "\n",
    "df_megaline_internet['month'] = df_megaline_internet['session_date'].dt.month\n",
    "\n",
    "monthly_usage = df_megaline_internet.groupby(['user_id', 'month'])['mb_used'].sum().reset_index()\n",
    "\n",
    "monthly_usage.columns=['user_id', 'month', 'mb_used']\n",
    "\n",
    "print(monthly_usage.head())"
   ]
  },
  {
   "cell_type": "markdown",
   "metadata": {},
   "source": [
    "[Put the aggregate data together into one DataFrame so that one record in it would represent what an unique user consumed in a given month.]"
   ]
  },
  {
   "cell_type": "code",
   "execution_count": 31,
   "metadata": {},
   "outputs": [
    {
     "data": {
      "text/html": [
       "<div>\n",
       "<style scoped>\n",
       "    .dataframe tbody tr th:only-of-type {\n",
       "        vertical-align: middle;\n",
       "    }\n",
       "\n",
       "    .dataframe tbody tr th {\n",
       "        vertical-align: top;\n",
       "    }\n",
       "\n",
       "    .dataframe thead th {\n",
       "        text-align: right;\n",
       "    }\n",
       "</style>\n",
       "<table border=\"1\" class=\"dataframe\">\n",
       "  <thead>\n",
       "    <tr style=\"text-align: right;\">\n",
       "      <th></th>\n",
       "      <th>user_id</th>\n",
       "      <th>month</th>\n",
       "      <th>total_minutes</th>\n",
       "      <th>message_count</th>\n",
       "      <th>mb_used</th>\n",
       "    </tr>\n",
       "  </thead>\n",
       "  <tbody>\n",
       "    <tr>\n",
       "      <th>0</th>\n",
       "      <td>1000</td>\n",
       "      <td>12</td>\n",
       "      <td>124.0</td>\n",
       "      <td>11.0</td>\n",
       "      <td>1901.47</td>\n",
       "    </tr>\n",
       "    <tr>\n",
       "      <th>1</th>\n",
       "      <td>1001</td>\n",
       "      <td>8</td>\n",
       "      <td>182.0</td>\n",
       "      <td>30.0</td>\n",
       "      <td>6919.15</td>\n",
       "    </tr>\n",
       "    <tr>\n",
       "      <th>2</th>\n",
       "      <td>1001</td>\n",
       "      <td>9</td>\n",
       "      <td>315.0</td>\n",
       "      <td>44.0</td>\n",
       "      <td>13314.82</td>\n",
       "    </tr>\n",
       "    <tr>\n",
       "      <th>3</th>\n",
       "      <td>1001</td>\n",
       "      <td>10</td>\n",
       "      <td>393.0</td>\n",
       "      <td>53.0</td>\n",
       "      <td>22330.49</td>\n",
       "    </tr>\n",
       "    <tr>\n",
       "      <th>4</th>\n",
       "      <td>1001</td>\n",
       "      <td>11</td>\n",
       "      <td>426.0</td>\n",
       "      <td>36.0</td>\n",
       "      <td>18504.30</td>\n",
       "    </tr>\n",
       "    <tr>\n",
       "      <th>...</th>\n",
       "      <td>...</td>\n",
       "      <td>...</td>\n",
       "      <td>...</td>\n",
       "      <td>...</td>\n",
       "      <td>...</td>\n",
       "    </tr>\n",
       "    <tr>\n",
       "      <th>2288</th>\n",
       "      <td>1349</td>\n",
       "      <td>12</td>\n",
       "      <td>0.0</td>\n",
       "      <td>61.0</td>\n",
       "      <td>13039.91</td>\n",
       "    </tr>\n",
       "    <tr>\n",
       "      <th>2289</th>\n",
       "      <td>1361</td>\n",
       "      <td>5</td>\n",
       "      <td>0.0</td>\n",
       "      <td>2.0</td>\n",
       "      <td>1519.69</td>\n",
       "    </tr>\n",
       "    <tr>\n",
       "      <th>2290</th>\n",
       "      <td>1482</td>\n",
       "      <td>10</td>\n",
       "      <td>0.0</td>\n",
       "      <td>2.0</td>\n",
       "      <td>0.00</td>\n",
       "    </tr>\n",
       "    <tr>\n",
       "      <th>2291</th>\n",
       "      <td>1108</td>\n",
       "      <td>12</td>\n",
       "      <td>0.0</td>\n",
       "      <td>0.0</td>\n",
       "      <td>233.17</td>\n",
       "    </tr>\n",
       "    <tr>\n",
       "      <th>2292</th>\n",
       "      <td>1311</td>\n",
       "      <td>6</td>\n",
       "      <td>0.0</td>\n",
       "      <td>0.0</td>\n",
       "      <td>1498.83</td>\n",
       "    </tr>\n",
       "  </tbody>\n",
       "</table>\n",
       "<p>2293 rows × 5 columns</p>\n",
       "</div>"
      ],
      "text/plain": [
       "      user_id  month  total_minutes  message_count   mb_used\n",
       "0        1000     12          124.0           11.0   1901.47\n",
       "1        1001      8          182.0           30.0   6919.15\n",
       "2        1001      9          315.0           44.0  13314.82\n",
       "3        1001     10          393.0           53.0  22330.49\n",
       "4        1001     11          426.0           36.0  18504.30\n",
       "...       ...    ...            ...            ...       ...\n",
       "2288     1349     12            0.0           61.0  13039.91\n",
       "2289     1361      5            0.0            2.0   1519.69\n",
       "2290     1482     10            0.0            2.0      0.00\n",
       "2291     1108     12            0.0            0.0    233.17\n",
       "2292     1311      6            0.0            0.0   1498.83\n",
       "\n",
       "[2293 rows x 5 columns]"
      ]
     },
     "metadata": {},
     "output_type": "display_data"
    }
   ],
   "source": [
    "# Merge the data for calls, minutes, messages, internet based on user_id and month\n",
    "\n",
    "df_megaline_calls_messages = pd.merge(monthly_minutes, messages_per_user_month, on=['user_id', 'month'], how='outer')\n",
    "\n",
    "df_merged = pd.merge(df_megaline_calls_messages, monthly_usage, on=['user_id', 'month'], how='outer')\n",
    "\n",
    "df_merged.fillna(0, inplace=True)\n",
    "\n",
    "display(df_merged)\n"
   ]
  },
  {
   "cell_type": "code",
   "execution_count": 32,
   "metadata": {
    "scrolled": true
   },
   "outputs": [
    {
     "data": {
      "text/html": [
       "<div>\n",
       "<style scoped>\n",
       "    .dataframe tbody tr th:only-of-type {\n",
       "        vertical-align: middle;\n",
       "    }\n",
       "\n",
       "    .dataframe tbody tr th {\n",
       "        vertical-align: top;\n",
       "    }\n",
       "\n",
       "    .dataframe thead th {\n",
       "        text-align: right;\n",
       "    }\n",
       "</style>\n",
       "<table border=\"1\" class=\"dataframe\">\n",
       "  <thead>\n",
       "    <tr style=\"text-align: right;\">\n",
       "      <th></th>\n",
       "      <th>user_id</th>\n",
       "      <th>month</th>\n",
       "      <th>total_minutes</th>\n",
       "      <th>message_count</th>\n",
       "      <th>mb_used</th>\n",
       "      <th>first_name</th>\n",
       "      <th>last_name</th>\n",
       "      <th>age</th>\n",
       "      <th>city</th>\n",
       "      <th>reg_date</th>\n",
       "      <th>plan</th>\n",
       "      <th>churn_date</th>\n",
       "      <th>messages_included</th>\n",
       "      <th>mb_per_month_included</th>\n",
       "      <th>minutes_included</th>\n",
       "      <th>usd_monthly_pay</th>\n",
       "      <th>usd_per_gb</th>\n",
       "      <th>usd_per_message</th>\n",
       "      <th>usd_per_minute</th>\n",
       "      <th>plan_name</th>\n",
       "    </tr>\n",
       "  </thead>\n",
       "  <tbody>\n",
       "    <tr>\n",
       "      <th>0</th>\n",
       "      <td>1000</td>\n",
       "      <td>12</td>\n",
       "      <td>124.0</td>\n",
       "      <td>11.0</td>\n",
       "      <td>1901.47</td>\n",
       "      <td>Anamaria</td>\n",
       "      <td>Bauer</td>\n",
       "      <td>45</td>\n",
       "      <td>Atlanta-Sandy Springs-Roswell, GA MSA</td>\n",
       "      <td>2018-12-24</td>\n",
       "      <td>ultimate</td>\n",
       "      <td>2018-12-18</td>\n",
       "      <td>1000</td>\n",
       "      <td>30720</td>\n",
       "      <td>3000</td>\n",
       "      <td>70</td>\n",
       "      <td>7</td>\n",
       "      <td>0.01</td>\n",
       "      <td>0.01</td>\n",
       "      <td>ultimate</td>\n",
       "    </tr>\n",
       "    <tr>\n",
       "      <th>1</th>\n",
       "      <td>1006</td>\n",
       "      <td>11</td>\n",
       "      <td>10.0</td>\n",
       "      <td>15.0</td>\n",
       "      <td>2068.37</td>\n",
       "      <td>Jesusa</td>\n",
       "      <td>Bradford</td>\n",
       "      <td>73</td>\n",
       "      <td>San Francisco-Oakland-Berkeley, CA MSA</td>\n",
       "      <td>2018-11-27</td>\n",
       "      <td>ultimate</td>\n",
       "      <td>2018-12-18</td>\n",
       "      <td>1000</td>\n",
       "      <td>30720</td>\n",
       "      <td>3000</td>\n",
       "      <td>70</td>\n",
       "      <td>7</td>\n",
       "      <td>0.01</td>\n",
       "      <td>0.01</td>\n",
       "      <td>ultimate</td>\n",
       "    </tr>\n",
       "    <tr>\n",
       "      <th>2</th>\n",
       "      <td>1006</td>\n",
       "      <td>12</td>\n",
       "      <td>59.0</td>\n",
       "      <td>139.0</td>\n",
       "      <td>32118.82</td>\n",
       "      <td>Jesusa</td>\n",
       "      <td>Bradford</td>\n",
       "      <td>73</td>\n",
       "      <td>San Francisco-Oakland-Berkeley, CA MSA</td>\n",
       "      <td>2018-11-27</td>\n",
       "      <td>ultimate</td>\n",
       "      <td>2018-12-18</td>\n",
       "      <td>1000</td>\n",
       "      <td>30720</td>\n",
       "      <td>3000</td>\n",
       "      <td>70</td>\n",
       "      <td>7</td>\n",
       "      <td>0.01</td>\n",
       "      <td>0.01</td>\n",
       "      <td>ultimate</td>\n",
       "    </tr>\n",
       "    <tr>\n",
       "      <th>3</th>\n",
       "      <td>1008</td>\n",
       "      <td>10</td>\n",
       "      <td>476.0</td>\n",
       "      <td>21.0</td>\n",
       "      <td>17106.99</td>\n",
       "      <td>Emely</td>\n",
       "      <td>Hoffman</td>\n",
       "      <td>53</td>\n",
       "      <td>Orlando-Kissimmee-Sanford, FL MSA</td>\n",
       "      <td>2018-08-03</td>\n",
       "      <td>ultimate</td>\n",
       "      <td>2018-11-16</td>\n",
       "      <td>1000</td>\n",
       "      <td>30720</td>\n",
       "      <td>3000</td>\n",
       "      <td>70</td>\n",
       "      <td>7</td>\n",
       "      <td>0.01</td>\n",
       "      <td>0.01</td>\n",
       "      <td>ultimate</td>\n",
       "    </tr>\n",
       "    <tr>\n",
       "      <th>4</th>\n",
       "      <td>1008</td>\n",
       "      <td>11</td>\n",
       "      <td>446.0</td>\n",
       "      <td>37.0</td>\n",
       "      <td>23676.72</td>\n",
       "      <td>Emely</td>\n",
       "      <td>Hoffman</td>\n",
       "      <td>53</td>\n",
       "      <td>Orlando-Kissimmee-Sanford, FL MSA</td>\n",
       "      <td>2018-08-03</td>\n",
       "      <td>ultimate</td>\n",
       "      <td>2018-11-16</td>\n",
       "      <td>1000</td>\n",
       "      <td>30720</td>\n",
       "      <td>3000</td>\n",
       "      <td>70</td>\n",
       "      <td>7</td>\n",
       "      <td>0.01</td>\n",
       "      <td>0.01</td>\n",
       "      <td>ultimate</td>\n",
       "    </tr>\n",
       "    <tr>\n",
       "      <th>...</th>\n",
       "      <td>...</td>\n",
       "      <td>...</td>\n",
       "      <td>...</td>\n",
       "      <td>...</td>\n",
       "      <td>...</td>\n",
       "      <td>...</td>\n",
       "      <td>...</td>\n",
       "      <td>...</td>\n",
       "      <td>...</td>\n",
       "      <td>...</td>\n",
       "      <td>...</td>\n",
       "      <td>...</td>\n",
       "      <td>...</td>\n",
       "      <td>...</td>\n",
       "      <td>...</td>\n",
       "      <td>...</td>\n",
       "      <td>...</td>\n",
       "      <td>...</td>\n",
       "      <td>...</td>\n",
       "      <td>...</td>\n",
       "    </tr>\n",
       "    <tr>\n",
       "      <th>2288</th>\n",
       "      <td>1194</td>\n",
       "      <td>11</td>\n",
       "      <td>0.0</td>\n",
       "      <td>62.0</td>\n",
       "      <td>42866.10</td>\n",
       "      <td>Robert</td>\n",
       "      <td>Mclean</td>\n",
       "      <td>40</td>\n",
       "      <td>San Jose-Sunnyvale-Santa Clara, CA MSA</td>\n",
       "      <td>2018-05-31</td>\n",
       "      <td>surf</td>\n",
       "      <td>2018-10-13</td>\n",
       "      <td>50</td>\n",
       "      <td>15360</td>\n",
       "      <td>500</td>\n",
       "      <td>20</td>\n",
       "      <td>10</td>\n",
       "      <td>0.03</td>\n",
       "      <td>0.03</td>\n",
       "      <td>surf</td>\n",
       "    </tr>\n",
       "    <tr>\n",
       "      <th>2289</th>\n",
       "      <td>1194</td>\n",
       "      <td>12</td>\n",
       "      <td>0.0</td>\n",
       "      <td>56.0</td>\n",
       "      <td>31088.49</td>\n",
       "      <td>Robert</td>\n",
       "      <td>Mclean</td>\n",
       "      <td>40</td>\n",
       "      <td>San Jose-Sunnyvale-Santa Clara, CA MSA</td>\n",
       "      <td>2018-05-31</td>\n",
       "      <td>surf</td>\n",
       "      <td>2018-10-13</td>\n",
       "      <td>50</td>\n",
       "      <td>15360</td>\n",
       "      <td>500</td>\n",
       "      <td>20</td>\n",
       "      <td>10</td>\n",
       "      <td>0.03</td>\n",
       "      <td>0.03</td>\n",
       "      <td>surf</td>\n",
       "    </tr>\n",
       "    <tr>\n",
       "      <th>2290</th>\n",
       "      <td>1349</td>\n",
       "      <td>10</td>\n",
       "      <td>0.0</td>\n",
       "      <td>76.0</td>\n",
       "      <td>13093.55</td>\n",
       "      <td>Florentina</td>\n",
       "      <td>Diaz</td>\n",
       "      <td>69</td>\n",
       "      <td>Boston-Cambridge-Newton, MA-NH MSA</td>\n",
       "      <td>2018-10-01</td>\n",
       "      <td>surf</td>\n",
       "      <td>2018-10-22</td>\n",
       "      <td>50</td>\n",
       "      <td>15360</td>\n",
       "      <td>500</td>\n",
       "      <td>20</td>\n",
       "      <td>10</td>\n",
       "      <td>0.03</td>\n",
       "      <td>0.03</td>\n",
       "      <td>surf</td>\n",
       "    </tr>\n",
       "    <tr>\n",
       "      <th>2291</th>\n",
       "      <td>1349</td>\n",
       "      <td>11</td>\n",
       "      <td>0.0</td>\n",
       "      <td>72.0</td>\n",
       "      <td>17128.26</td>\n",
       "      <td>Florentina</td>\n",
       "      <td>Diaz</td>\n",
       "      <td>69</td>\n",
       "      <td>Boston-Cambridge-Newton, MA-NH MSA</td>\n",
       "      <td>2018-10-01</td>\n",
       "      <td>surf</td>\n",
       "      <td>2018-10-22</td>\n",
       "      <td>50</td>\n",
       "      <td>15360</td>\n",
       "      <td>500</td>\n",
       "      <td>20</td>\n",
       "      <td>10</td>\n",
       "      <td>0.03</td>\n",
       "      <td>0.03</td>\n",
       "      <td>surf</td>\n",
       "    </tr>\n",
       "    <tr>\n",
       "      <th>2292</th>\n",
       "      <td>1349</td>\n",
       "      <td>12</td>\n",
       "      <td>0.0</td>\n",
       "      <td>61.0</td>\n",
       "      <td>13039.91</td>\n",
       "      <td>Florentina</td>\n",
       "      <td>Diaz</td>\n",
       "      <td>69</td>\n",
       "      <td>Boston-Cambridge-Newton, MA-NH MSA</td>\n",
       "      <td>2018-10-01</td>\n",
       "      <td>surf</td>\n",
       "      <td>2018-10-22</td>\n",
       "      <td>50</td>\n",
       "      <td>15360</td>\n",
       "      <td>500</td>\n",
       "      <td>20</td>\n",
       "      <td>10</td>\n",
       "      <td>0.03</td>\n",
       "      <td>0.03</td>\n",
       "      <td>surf</td>\n",
       "    </tr>\n",
       "  </tbody>\n",
       "</table>\n",
       "<p>2293 rows × 20 columns</p>\n",
       "</div>"
      ],
      "text/plain": [
       "      user_id  month  total_minutes  message_count   mb_used  first_name  \\\n",
       "0        1000     12          124.0           11.0   1901.47    Anamaria   \n",
       "1        1006     11           10.0           15.0   2068.37      Jesusa   \n",
       "2        1006     12           59.0          139.0  32118.82      Jesusa   \n",
       "3        1008     10          476.0           21.0  17106.99       Emely   \n",
       "4        1008     11          446.0           37.0  23676.72       Emely   \n",
       "...       ...    ...            ...            ...       ...         ...   \n",
       "2288     1194     11            0.0           62.0  42866.10      Robert   \n",
       "2289     1194     12            0.0           56.0  31088.49      Robert   \n",
       "2290     1349     10            0.0           76.0  13093.55  Florentina   \n",
       "2291     1349     11            0.0           72.0  17128.26  Florentina   \n",
       "2292     1349     12            0.0           61.0  13039.91  Florentina   \n",
       "\n",
       "     last_name  age                                    city   reg_date  \\\n",
       "0        Bauer   45   Atlanta-Sandy Springs-Roswell, GA MSA 2018-12-24   \n",
       "1     Bradford   73  San Francisco-Oakland-Berkeley, CA MSA 2018-11-27   \n",
       "2     Bradford   73  San Francisco-Oakland-Berkeley, CA MSA 2018-11-27   \n",
       "3      Hoffman   53       Orlando-Kissimmee-Sanford, FL MSA 2018-08-03   \n",
       "4      Hoffman   53       Orlando-Kissimmee-Sanford, FL MSA 2018-08-03   \n",
       "...        ...  ...                                     ...        ...   \n",
       "2288    Mclean   40  San Jose-Sunnyvale-Santa Clara, CA MSA 2018-05-31   \n",
       "2289    Mclean   40  San Jose-Sunnyvale-Santa Clara, CA MSA 2018-05-31   \n",
       "2290      Diaz   69      Boston-Cambridge-Newton, MA-NH MSA 2018-10-01   \n",
       "2291      Diaz   69      Boston-Cambridge-Newton, MA-NH MSA 2018-10-01   \n",
       "2292      Diaz   69      Boston-Cambridge-Newton, MA-NH MSA 2018-10-01   \n",
       "\n",
       "          plan churn_date  messages_included  mb_per_month_included  \\\n",
       "0     ultimate 2018-12-18               1000                  30720   \n",
       "1     ultimate 2018-12-18               1000                  30720   \n",
       "2     ultimate 2018-12-18               1000                  30720   \n",
       "3     ultimate 2018-11-16               1000                  30720   \n",
       "4     ultimate 2018-11-16               1000                  30720   \n",
       "...        ...        ...                ...                    ...   \n",
       "2288      surf 2018-10-13                 50                  15360   \n",
       "2289      surf 2018-10-13                 50                  15360   \n",
       "2290      surf 2018-10-22                 50                  15360   \n",
       "2291      surf 2018-10-22                 50                  15360   \n",
       "2292      surf 2018-10-22                 50                  15360   \n",
       "\n",
       "      minutes_included  usd_monthly_pay  usd_per_gb  usd_per_message  \\\n",
       "0                 3000               70           7             0.01   \n",
       "1                 3000               70           7             0.01   \n",
       "2                 3000               70           7             0.01   \n",
       "3                 3000               70           7             0.01   \n",
       "4                 3000               70           7             0.01   \n",
       "...                ...              ...         ...              ...   \n",
       "2288               500               20          10             0.03   \n",
       "2289               500               20          10             0.03   \n",
       "2290               500               20          10             0.03   \n",
       "2291               500               20          10             0.03   \n",
       "2292               500               20          10             0.03   \n",
       "\n",
       "      usd_per_minute plan_name  \n",
       "0               0.01  ultimate  \n",
       "1               0.01  ultimate  \n",
       "2               0.01  ultimate  \n",
       "3               0.01  ultimate  \n",
       "4               0.01  ultimate  \n",
       "...              ...       ...  \n",
       "2288            0.03      surf  \n",
       "2289            0.03      surf  \n",
       "2290            0.03      surf  \n",
       "2291            0.03      surf  \n",
       "2292            0.03      surf  \n",
       "\n",
       "[2293 rows x 20 columns]"
      ]
     },
     "execution_count": 32,
     "metadata": {},
     "output_type": "execute_result"
    }
   ],
   "source": [
    "# Add the plan information\n",
    "\n",
    "df_merged = df_merged.merge(df_megaline_users, on='user_id')\n",
    "df_merged = df_merged.merge(df_megaline_plans, left_on='plan', right_on='plan_name')\n",
    "\n",
    "df_merged"
   ]
  },
  {
   "cell_type": "markdown",
   "metadata": {},
   "source": [
    "[Calculate the monthly revenue from each user (subtract the free package limit from the total number of calls, text messages, and data; multiply the result by the calling plan value; add the monthly charge depending on the calling plan). N.B. This might not be as trivial as just a couple of lines given the plan conditions! So, it's okay to spend some time on it.]"
   ]
  },
  {
   "cell_type": "code",
   "execution_count": 33,
   "metadata": {},
   "outputs": [
    {
     "data": {
      "text/html": [
       "<div>\n",
       "<style scoped>\n",
       "    .dataframe tbody tr th:only-of-type {\n",
       "        vertical-align: middle;\n",
       "    }\n",
       "\n",
       "    .dataframe tbody tr th {\n",
       "        vertical-align: top;\n",
       "    }\n",
       "\n",
       "    .dataframe thead th {\n",
       "        text-align: right;\n",
       "    }\n",
       "</style>\n",
       "<table border=\"1\" class=\"dataframe\">\n",
       "  <thead>\n",
       "    <tr style=\"text-align: right;\">\n",
       "      <th></th>\n",
       "      <th>user_id</th>\n",
       "      <th>month</th>\n",
       "      <th>total_minutes</th>\n",
       "      <th>message_count</th>\n",
       "      <th>mb_used</th>\n",
       "      <th>first_name</th>\n",
       "      <th>last_name</th>\n",
       "      <th>age</th>\n",
       "      <th>city</th>\n",
       "      <th>reg_date</th>\n",
       "      <th>...</th>\n",
       "      <th>usd_per_message</th>\n",
       "      <th>usd_per_minute</th>\n",
       "      <th>plan_name</th>\n",
       "      <th>extra_minutes</th>\n",
       "      <th>extra_messages</th>\n",
       "      <th>extra_mb</th>\n",
       "      <th>extra_minutes_charge</th>\n",
       "      <th>extra_messages_charge</th>\n",
       "      <th>extra_data_charge</th>\n",
       "      <th>total_charge</th>\n",
       "    </tr>\n",
       "  </thead>\n",
       "  <tbody>\n",
       "    <tr>\n",
       "      <th>0</th>\n",
       "      <td>1000</td>\n",
       "      <td>12</td>\n",
       "      <td>124.0</td>\n",
       "      <td>11.0</td>\n",
       "      <td>1901.47</td>\n",
       "      <td>Anamaria</td>\n",
       "      <td>Bauer</td>\n",
       "      <td>45</td>\n",
       "      <td>Atlanta-Sandy Springs-Roswell, GA MSA</td>\n",
       "      <td>2018-12-24</td>\n",
       "      <td>...</td>\n",
       "      <td>0.01</td>\n",
       "      <td>0.01</td>\n",
       "      <td>ultimate</td>\n",
       "      <td>0.0</td>\n",
       "      <td>0.0</td>\n",
       "      <td>0.00</td>\n",
       "      <td>0.0</td>\n",
       "      <td>0.00</td>\n",
       "      <td>0.0</td>\n",
       "      <td>70.00</td>\n",
       "    </tr>\n",
       "    <tr>\n",
       "      <th>1</th>\n",
       "      <td>1006</td>\n",
       "      <td>11</td>\n",
       "      <td>10.0</td>\n",
       "      <td>15.0</td>\n",
       "      <td>2068.37</td>\n",
       "      <td>Jesusa</td>\n",
       "      <td>Bradford</td>\n",
       "      <td>73</td>\n",
       "      <td>San Francisco-Oakland-Berkeley, CA MSA</td>\n",
       "      <td>2018-11-27</td>\n",
       "      <td>...</td>\n",
       "      <td>0.01</td>\n",
       "      <td>0.01</td>\n",
       "      <td>ultimate</td>\n",
       "      <td>0.0</td>\n",
       "      <td>0.0</td>\n",
       "      <td>0.00</td>\n",
       "      <td>0.0</td>\n",
       "      <td>0.00</td>\n",
       "      <td>0.0</td>\n",
       "      <td>70.00</td>\n",
       "    </tr>\n",
       "    <tr>\n",
       "      <th>2</th>\n",
       "      <td>1006</td>\n",
       "      <td>12</td>\n",
       "      <td>59.0</td>\n",
       "      <td>139.0</td>\n",
       "      <td>32118.82</td>\n",
       "      <td>Jesusa</td>\n",
       "      <td>Bradford</td>\n",
       "      <td>73</td>\n",
       "      <td>San Francisco-Oakland-Berkeley, CA MSA</td>\n",
       "      <td>2018-11-27</td>\n",
       "      <td>...</td>\n",
       "      <td>0.01</td>\n",
       "      <td>0.01</td>\n",
       "      <td>ultimate</td>\n",
       "      <td>0.0</td>\n",
       "      <td>0.0</td>\n",
       "      <td>1398.82</td>\n",
       "      <td>0.0</td>\n",
       "      <td>0.00</td>\n",
       "      <td>14.0</td>\n",
       "      <td>84.00</td>\n",
       "    </tr>\n",
       "    <tr>\n",
       "      <th>3</th>\n",
       "      <td>1008</td>\n",
       "      <td>10</td>\n",
       "      <td>476.0</td>\n",
       "      <td>21.0</td>\n",
       "      <td>17106.99</td>\n",
       "      <td>Emely</td>\n",
       "      <td>Hoffman</td>\n",
       "      <td>53</td>\n",
       "      <td>Orlando-Kissimmee-Sanford, FL MSA</td>\n",
       "      <td>2018-08-03</td>\n",
       "      <td>...</td>\n",
       "      <td>0.01</td>\n",
       "      <td>0.01</td>\n",
       "      <td>ultimate</td>\n",
       "      <td>0.0</td>\n",
       "      <td>0.0</td>\n",
       "      <td>0.00</td>\n",
       "      <td>0.0</td>\n",
       "      <td>0.00</td>\n",
       "      <td>0.0</td>\n",
       "      <td>70.00</td>\n",
       "    </tr>\n",
       "    <tr>\n",
       "      <th>4</th>\n",
       "      <td>1008</td>\n",
       "      <td>11</td>\n",
       "      <td>446.0</td>\n",
       "      <td>37.0</td>\n",
       "      <td>23676.72</td>\n",
       "      <td>Emely</td>\n",
       "      <td>Hoffman</td>\n",
       "      <td>53</td>\n",
       "      <td>Orlando-Kissimmee-Sanford, FL MSA</td>\n",
       "      <td>2018-08-03</td>\n",
       "      <td>...</td>\n",
       "      <td>0.01</td>\n",
       "      <td>0.01</td>\n",
       "      <td>ultimate</td>\n",
       "      <td>0.0</td>\n",
       "      <td>0.0</td>\n",
       "      <td>0.00</td>\n",
       "      <td>0.0</td>\n",
       "      <td>0.00</td>\n",
       "      <td>0.0</td>\n",
       "      <td>70.00</td>\n",
       "    </tr>\n",
       "    <tr>\n",
       "      <th>...</th>\n",
       "      <td>...</td>\n",
       "      <td>...</td>\n",
       "      <td>...</td>\n",
       "      <td>...</td>\n",
       "      <td>...</td>\n",
       "      <td>...</td>\n",
       "      <td>...</td>\n",
       "      <td>...</td>\n",
       "      <td>...</td>\n",
       "      <td>...</td>\n",
       "      <td>...</td>\n",
       "      <td>...</td>\n",
       "      <td>...</td>\n",
       "      <td>...</td>\n",
       "      <td>...</td>\n",
       "      <td>...</td>\n",
       "      <td>...</td>\n",
       "      <td>...</td>\n",
       "      <td>...</td>\n",
       "      <td>...</td>\n",
       "      <td>...</td>\n",
       "    </tr>\n",
       "    <tr>\n",
       "      <th>2288</th>\n",
       "      <td>1194</td>\n",
       "      <td>11</td>\n",
       "      <td>0.0</td>\n",
       "      <td>62.0</td>\n",
       "      <td>42866.10</td>\n",
       "      <td>Robert</td>\n",
       "      <td>Mclean</td>\n",
       "      <td>40</td>\n",
       "      <td>San Jose-Sunnyvale-Santa Clara, CA MSA</td>\n",
       "      <td>2018-05-31</td>\n",
       "      <td>...</td>\n",
       "      <td>0.03</td>\n",
       "      <td>0.03</td>\n",
       "      <td>surf</td>\n",
       "      <td>0.0</td>\n",
       "      <td>12.0</td>\n",
       "      <td>27506.10</td>\n",
       "      <td>0.0</td>\n",
       "      <td>0.36</td>\n",
       "      <td>270.0</td>\n",
       "      <td>290.36</td>\n",
       "    </tr>\n",
       "    <tr>\n",
       "      <th>2289</th>\n",
       "      <td>1194</td>\n",
       "      <td>12</td>\n",
       "      <td>0.0</td>\n",
       "      <td>56.0</td>\n",
       "      <td>31088.49</td>\n",
       "      <td>Robert</td>\n",
       "      <td>Mclean</td>\n",
       "      <td>40</td>\n",
       "      <td>San Jose-Sunnyvale-Santa Clara, CA MSA</td>\n",
       "      <td>2018-05-31</td>\n",
       "      <td>...</td>\n",
       "      <td>0.03</td>\n",
       "      <td>0.03</td>\n",
       "      <td>surf</td>\n",
       "      <td>0.0</td>\n",
       "      <td>6.0</td>\n",
       "      <td>15728.49</td>\n",
       "      <td>0.0</td>\n",
       "      <td>0.18</td>\n",
       "      <td>160.0</td>\n",
       "      <td>180.18</td>\n",
       "    </tr>\n",
       "    <tr>\n",
       "      <th>2290</th>\n",
       "      <td>1349</td>\n",
       "      <td>10</td>\n",
       "      <td>0.0</td>\n",
       "      <td>76.0</td>\n",
       "      <td>13093.55</td>\n",
       "      <td>Florentina</td>\n",
       "      <td>Diaz</td>\n",
       "      <td>69</td>\n",
       "      <td>Boston-Cambridge-Newton, MA-NH MSA</td>\n",
       "      <td>2018-10-01</td>\n",
       "      <td>...</td>\n",
       "      <td>0.03</td>\n",
       "      <td>0.03</td>\n",
       "      <td>surf</td>\n",
       "      <td>0.0</td>\n",
       "      <td>26.0</td>\n",
       "      <td>0.00</td>\n",
       "      <td>0.0</td>\n",
       "      <td>0.78</td>\n",
       "      <td>0.0</td>\n",
       "      <td>20.78</td>\n",
       "    </tr>\n",
       "    <tr>\n",
       "      <th>2291</th>\n",
       "      <td>1349</td>\n",
       "      <td>11</td>\n",
       "      <td>0.0</td>\n",
       "      <td>72.0</td>\n",
       "      <td>17128.26</td>\n",
       "      <td>Florentina</td>\n",
       "      <td>Diaz</td>\n",
       "      <td>69</td>\n",
       "      <td>Boston-Cambridge-Newton, MA-NH MSA</td>\n",
       "      <td>2018-10-01</td>\n",
       "      <td>...</td>\n",
       "      <td>0.03</td>\n",
       "      <td>0.03</td>\n",
       "      <td>surf</td>\n",
       "      <td>0.0</td>\n",
       "      <td>22.0</td>\n",
       "      <td>1768.26</td>\n",
       "      <td>0.0</td>\n",
       "      <td>0.66</td>\n",
       "      <td>20.0</td>\n",
       "      <td>40.66</td>\n",
       "    </tr>\n",
       "    <tr>\n",
       "      <th>2292</th>\n",
       "      <td>1349</td>\n",
       "      <td>12</td>\n",
       "      <td>0.0</td>\n",
       "      <td>61.0</td>\n",
       "      <td>13039.91</td>\n",
       "      <td>Florentina</td>\n",
       "      <td>Diaz</td>\n",
       "      <td>69</td>\n",
       "      <td>Boston-Cambridge-Newton, MA-NH MSA</td>\n",
       "      <td>2018-10-01</td>\n",
       "      <td>...</td>\n",
       "      <td>0.03</td>\n",
       "      <td>0.03</td>\n",
       "      <td>surf</td>\n",
       "      <td>0.0</td>\n",
       "      <td>11.0</td>\n",
       "      <td>0.00</td>\n",
       "      <td>0.0</td>\n",
       "      <td>0.33</td>\n",
       "      <td>0.0</td>\n",
       "      <td>20.33</td>\n",
       "    </tr>\n",
       "  </tbody>\n",
       "</table>\n",
       "<p>2293 rows × 27 columns</p>\n",
       "</div>"
      ],
      "text/plain": [
       "      user_id  month  total_minutes  message_count   mb_used  first_name  \\\n",
       "0        1000     12          124.0           11.0   1901.47    Anamaria   \n",
       "1        1006     11           10.0           15.0   2068.37      Jesusa   \n",
       "2        1006     12           59.0          139.0  32118.82      Jesusa   \n",
       "3        1008     10          476.0           21.0  17106.99       Emely   \n",
       "4        1008     11          446.0           37.0  23676.72       Emely   \n",
       "...       ...    ...            ...            ...       ...         ...   \n",
       "2288     1194     11            0.0           62.0  42866.10      Robert   \n",
       "2289     1194     12            0.0           56.0  31088.49      Robert   \n",
       "2290     1349     10            0.0           76.0  13093.55  Florentina   \n",
       "2291     1349     11            0.0           72.0  17128.26  Florentina   \n",
       "2292     1349     12            0.0           61.0  13039.91  Florentina   \n",
       "\n",
       "     last_name  age                                    city   reg_date  ...  \\\n",
       "0        Bauer   45   Atlanta-Sandy Springs-Roswell, GA MSA 2018-12-24  ...   \n",
       "1     Bradford   73  San Francisco-Oakland-Berkeley, CA MSA 2018-11-27  ...   \n",
       "2     Bradford   73  San Francisco-Oakland-Berkeley, CA MSA 2018-11-27  ...   \n",
       "3      Hoffman   53       Orlando-Kissimmee-Sanford, FL MSA 2018-08-03  ...   \n",
       "4      Hoffman   53       Orlando-Kissimmee-Sanford, FL MSA 2018-08-03  ...   \n",
       "...        ...  ...                                     ...        ...  ...   \n",
       "2288    Mclean   40  San Jose-Sunnyvale-Santa Clara, CA MSA 2018-05-31  ...   \n",
       "2289    Mclean   40  San Jose-Sunnyvale-Santa Clara, CA MSA 2018-05-31  ...   \n",
       "2290      Diaz   69      Boston-Cambridge-Newton, MA-NH MSA 2018-10-01  ...   \n",
       "2291      Diaz   69      Boston-Cambridge-Newton, MA-NH MSA 2018-10-01  ...   \n",
       "2292      Diaz   69      Boston-Cambridge-Newton, MA-NH MSA 2018-10-01  ...   \n",
       "\n",
       "     usd_per_message usd_per_minute  plan_name  extra_minutes  extra_messages  \\\n",
       "0               0.01           0.01   ultimate            0.0             0.0   \n",
       "1               0.01           0.01   ultimate            0.0             0.0   \n",
       "2               0.01           0.01   ultimate            0.0             0.0   \n",
       "3               0.01           0.01   ultimate            0.0             0.0   \n",
       "4               0.01           0.01   ultimate            0.0             0.0   \n",
       "...              ...            ...        ...            ...             ...   \n",
       "2288            0.03           0.03       surf            0.0            12.0   \n",
       "2289            0.03           0.03       surf            0.0             6.0   \n",
       "2290            0.03           0.03       surf            0.0            26.0   \n",
       "2291            0.03           0.03       surf            0.0            22.0   \n",
       "2292            0.03           0.03       surf            0.0            11.0   \n",
       "\n",
       "      extra_mb  extra_minutes_charge  extra_messages_charge  \\\n",
       "0         0.00                   0.0                   0.00   \n",
       "1         0.00                   0.0                   0.00   \n",
       "2      1398.82                   0.0                   0.00   \n",
       "3         0.00                   0.0                   0.00   \n",
       "4         0.00                   0.0                   0.00   \n",
       "...        ...                   ...                    ...   \n",
       "2288  27506.10                   0.0                   0.36   \n",
       "2289  15728.49                   0.0                   0.18   \n",
       "2290      0.00                   0.0                   0.78   \n",
       "2291   1768.26                   0.0                   0.66   \n",
       "2292      0.00                   0.0                   0.33   \n",
       "\n",
       "      extra_data_charge total_charge  \n",
       "0                   0.0        70.00  \n",
       "1                   0.0        70.00  \n",
       "2                  14.0        84.00  \n",
       "3                   0.0        70.00  \n",
       "4                   0.0        70.00  \n",
       "...                 ...          ...  \n",
       "2288              270.0       290.36  \n",
       "2289              160.0       180.18  \n",
       "2290                0.0        20.78  \n",
       "2291               20.0        40.66  \n",
       "2292                0.0        20.33  \n",
       "\n",
       "[2293 rows x 27 columns]"
      ]
     },
     "metadata": {},
     "output_type": "display_data"
    }
   ],
   "source": [
    "df_merged['extra_minutes'] = df_merged['total_minutes'] - df_merged['minutes_included']\n",
    "df_merged['extra_messages'] = df_merged['message_count'] - df_merged['messages_included']\n",
    "df_merged['extra_mb'] = df_merged['mb_used'] - df_merged['mb_per_month_included']\n",
    "\n",
    "\n",
    "df_merged[['extra_minutes', 'extra_messages', 'extra_mb']] = df_merged[['extra_minutes', 'extra_messages', 'extra_mb']].clip(lower=0)\n",
    "\n",
    "\n",
    "df_merged['extra_minutes_charge'] = df_merged['extra_minutes'] * df_merged['usd_per_minute']\n",
    "df_merged['extra_messages_charge'] = df_merged['extra_messages'] * df_merged['usd_per_message']\n",
    "df_merged['extra_data_charge'] = np.ceil(df_merged['extra_mb'] /1024) * df_merged['usd_per_gb']\n",
    "\n",
    "\n",
    "df_merged['total_charge'] = df_merged['extra_minutes_charge'] + df_merged['extra_messages_charge'] + df_merged['extra_data_charge'] + df_merged['usd_monthly_pay']\n",
    "\n",
    "display(df_merged)"
   ]
  },
  {
   "cell_type": "markdown",
   "metadata": {},
   "source": [
    "## Study user behaviour"
   ]
  },
  {
   "cell_type": "markdown",
   "metadata": {},
   "source": [
    "[Calculate some useful descriptive statistics for the aggregated and merged data, which typically reveal an overall picture captured by the data. Draw useful plots to help the understanding. Given that the main task is to compare the plans and decide on which one is more profitable, the statistics and the plots should be calculated on a per-plan basis.]\n",
    "\n",
    "[There are relevant hints in the comments for Calls but they are not provided for Messages and Internet though the principle of statistical study is the same for them as for Calls.]"
   ]
  },
  {
   "cell_type": "markdown",
   "metadata": {},
   "source": [
    "### Calls"
   ]
  },
  {
   "cell_type": "code",
   "execution_count": 34,
   "metadata": {},
   "outputs": [
    {
     "data": {
      "text/html": [
       "<div>\n",
       "<style scoped>\n",
       "    .dataframe tbody tr th:only-of-type {\n",
       "        vertical-align: middle;\n",
       "    }\n",
       "\n",
       "    .dataframe tbody tr th {\n",
       "        vertical-align: top;\n",
       "    }\n",
       "\n",
       "    .dataframe thead th {\n",
       "        text-align: right;\n",
       "    }\n",
       "</style>\n",
       "<table border=\"1\" class=\"dataframe\">\n",
       "  <thead>\n",
       "    <tr style=\"text-align: right;\">\n",
       "      <th></th>\n",
       "      <th>id</th>\n",
       "      <th>user_id</th>\n",
       "      <th>call_date</th>\n",
       "      <th>duration</th>\n",
       "      <th>month</th>\n",
       "    </tr>\n",
       "  </thead>\n",
       "  <tbody>\n",
       "    <tr>\n",
       "      <th>0</th>\n",
       "      <td>1000_93</td>\n",
       "      <td>1000</td>\n",
       "      <td>2018-12-27</td>\n",
       "      <td>9</td>\n",
       "      <td>12</td>\n",
       "    </tr>\n",
       "    <tr>\n",
       "      <th>1</th>\n",
       "      <td>1000_145</td>\n",
       "      <td>1000</td>\n",
       "      <td>2018-12-27</td>\n",
       "      <td>14</td>\n",
       "      <td>12</td>\n",
       "    </tr>\n",
       "    <tr>\n",
       "      <th>2</th>\n",
       "      <td>1000_247</td>\n",
       "      <td>1000</td>\n",
       "      <td>2018-12-27</td>\n",
       "      <td>15</td>\n",
       "      <td>12</td>\n",
       "    </tr>\n",
       "    <tr>\n",
       "      <th>3</th>\n",
       "      <td>1000_309</td>\n",
       "      <td>1000</td>\n",
       "      <td>2018-12-28</td>\n",
       "      <td>6</td>\n",
       "      <td>12</td>\n",
       "    </tr>\n",
       "    <tr>\n",
       "      <th>4</th>\n",
       "      <td>1000_380</td>\n",
       "      <td>1000</td>\n",
       "      <td>2018-12-30</td>\n",
       "      <td>5</td>\n",
       "      <td>12</td>\n",
       "    </tr>\n",
       "    <tr>\n",
       "      <th>...</th>\n",
       "      <td>...</td>\n",
       "      <td>...</td>\n",
       "      <td>...</td>\n",
       "      <td>...</td>\n",
       "      <td>...</td>\n",
       "    </tr>\n",
       "    <tr>\n",
       "      <th>137730</th>\n",
       "      <td>1499_199</td>\n",
       "      <td>1499</td>\n",
       "      <td>2018-11-21</td>\n",
       "      <td>9</td>\n",
       "      <td>11</td>\n",
       "    </tr>\n",
       "    <tr>\n",
       "      <th>137731</th>\n",
       "      <td>1499_200</td>\n",
       "      <td>1499</td>\n",
       "      <td>2018-10-20</td>\n",
       "      <td>11</td>\n",
       "      <td>10</td>\n",
       "    </tr>\n",
       "    <tr>\n",
       "      <th>137732</th>\n",
       "      <td>1499_201</td>\n",
       "      <td>1499</td>\n",
       "      <td>2018-09-21</td>\n",
       "      <td>9</td>\n",
       "      <td>9</td>\n",
       "    </tr>\n",
       "    <tr>\n",
       "      <th>137733</th>\n",
       "      <td>1499_202</td>\n",
       "      <td>1499</td>\n",
       "      <td>2018-10-10</td>\n",
       "      <td>1</td>\n",
       "      <td>10</td>\n",
       "    </tr>\n",
       "    <tr>\n",
       "      <th>137734</th>\n",
       "      <td>1499_203</td>\n",
       "      <td>1499</td>\n",
       "      <td>2018-12-29</td>\n",
       "      <td>14</td>\n",
       "      <td>12</td>\n",
       "    </tr>\n",
       "  </tbody>\n",
       "</table>\n",
       "<p>137735 rows × 5 columns</p>\n",
       "</div>"
      ],
      "text/plain": [
       "              id  user_id  call_date  duration  month\n",
       "0        1000_93     1000 2018-12-27         9     12\n",
       "1       1000_145     1000 2018-12-27        14     12\n",
       "2       1000_247     1000 2018-12-27        15     12\n",
       "3       1000_309     1000 2018-12-28         6     12\n",
       "4       1000_380     1000 2018-12-30         5     12\n",
       "...          ...      ...        ...       ...    ...\n",
       "137730  1499_199     1499 2018-11-21         9     11\n",
       "137731  1499_200     1499 2018-10-20        11     10\n",
       "137732  1499_201     1499 2018-09-21         9      9\n",
       "137733  1499_202     1499 2018-10-10         1     10\n",
       "137734  1499_203     1499 2018-12-29        14     12\n",
       "\n",
       "[137735 rows x 5 columns]"
      ]
     },
     "execution_count": 34,
     "metadata": {},
     "output_type": "execute_result"
    }
   ],
   "source": [
    "df_megaline_calls"
   ]
  },
  {
   "cell_type": "code",
   "execution_count": 35,
   "metadata": {},
   "outputs": [
    {
     "data": {
      "text/html": [
       "<div>\n",
       "<style scoped>\n",
       "    .dataframe tbody tr th:only-of-type {\n",
       "        vertical-align: middle;\n",
       "    }\n",
       "\n",
       "    .dataframe tbody tr th {\n",
       "        vertical-align: top;\n",
       "    }\n",
       "\n",
       "    .dataframe thead th {\n",
       "        text-align: right;\n",
       "    }\n",
       "</style>\n",
       "<table border=\"1\" class=\"dataframe\">\n",
       "  <thead>\n",
       "    <tr style=\"text-align: right;\">\n",
       "      <th>plan</th>\n",
       "      <th>surf</th>\n",
       "      <th>ultimate</th>\n",
       "    </tr>\n",
       "    <tr>\n",
       "      <th>month</th>\n",
       "      <th></th>\n",
       "      <th></th>\n",
       "    </tr>\n",
       "  </thead>\n",
       "  <tbody>\n",
       "    <tr>\n",
       "      <th>1</th>\n",
       "      <td>203.000000</td>\n",
       "      <td>193.500000</td>\n",
       "    </tr>\n",
       "    <tr>\n",
       "      <th>2</th>\n",
       "      <td>297.000000</td>\n",
       "      <td>403.142857</td>\n",
       "    </tr>\n",
       "    <tr>\n",
       "      <th>3</th>\n",
       "      <td>330.000000</td>\n",
       "      <td>304.250000</td>\n",
       "    </tr>\n",
       "    <tr>\n",
       "      <th>4</th>\n",
       "      <td>351.540000</td>\n",
       "      <td>336.857143</td>\n",
       "    </tr>\n",
       "    <tr>\n",
       "      <th>5</th>\n",
       "      <td>399.584416</td>\n",
       "      <td>406.241379</td>\n",
       "    </tr>\n",
       "    <tr>\n",
       "      <th>6</th>\n",
       "      <td>431.298969</td>\n",
       "      <td>370.957447</td>\n",
       "    </tr>\n",
       "    <tr>\n",
       "      <th>7</th>\n",
       "      <td>449.983471</td>\n",
       "      <td>427.067797</td>\n",
       "    </tr>\n",
       "    <tr>\n",
       "      <th>8</th>\n",
       "      <td>410.111111</td>\n",
       "      <td>421.436620</td>\n",
       "    </tr>\n",
       "    <tr>\n",
       "      <th>9</th>\n",
       "      <td>414.226804</td>\n",
       "      <td>437.511628</td>\n",
       "    </tr>\n",
       "    <tr>\n",
       "      <th>10</th>\n",
       "      <td>429.729958</td>\n",
       "      <td>450.735849</td>\n",
       "    </tr>\n",
       "    <tr>\n",
       "      <th>11</th>\n",
       "      <td>423.325088</td>\n",
       "      <td>445.196850</td>\n",
       "    </tr>\n",
       "    <tr>\n",
       "      <th>12</th>\n",
       "      <td>473.836478</td>\n",
       "      <td>459.099338</td>\n",
       "    </tr>\n",
       "  </tbody>\n",
       "</table>\n",
       "</div>"
      ],
      "text/plain": [
       "plan         surf    ultimate\n",
       "month                        \n",
       "1      203.000000  193.500000\n",
       "2      297.000000  403.142857\n",
       "3      330.000000  304.250000\n",
       "4      351.540000  336.857143\n",
       "5      399.584416  406.241379\n",
       "6      431.298969  370.957447\n",
       "7      449.983471  427.067797\n",
       "8      410.111111  421.436620\n",
       "9      414.226804  437.511628\n",
       "10     429.729958  450.735849\n",
       "11     423.325088  445.196850\n",
       "12     473.836478  459.099338"
      ]
     },
     "metadata": {},
     "output_type": "display_data"
    },
    {
     "data": {
      "image/png": "[encoded data removed]",
      "text/plain": [
       "<Figure size 640x480 with 1 Axes>"
      ]
     },
     "metadata": {},
     "output_type": "display_data"
    }
   ],
   "source": [
    "# Compare average duration of calls per each plan per each distinct month. Plot a bar plot to visualize it.\n",
    "\n",
    "avg_duration = df_merged.groupby(['plan', 'month'])['total_minutes'].mean().unstack(level=0)\n",
    "\n",
    "\n",
    "display(avg_duration)\n",
    "avg_duration.plot(kind='bar')\n",
    "plt.xlabel('Month')\n",
    "plt.ylabel('Average Call Duration')\n",
    "plt.title('Average Call Duration per Plan per Month')\n",
    "plt.show()"
   ]
  },
  {
   "cell_type": "code",
   "execution_count": 36,
   "metadata": {},
   "outputs": [],
   "source": [
    "surf = df_merged[df_merged['plan'] == 'surf']\n",
    "ultimate = df_merged[df_merged['plan'] == 'ultimate']"
   ]
  },
  {
   "cell_type": "code",
   "execution_count": 37,
   "metadata": {},
   "outputs": [
    {
     "data": {
      "image/png": "[encoded data removed]",
      "text/plain": [
       "<Figure size 640x480 with 1 Axes>"
      ]
     },
     "metadata": {},
     "output_type": "display_data"
    }
   ],
   "source": [
    "# Compare the number of minutes users of each plan require each month. Plot a histogram.\n",
    "\n",
    "surf['total_minutes'].plot.hist(bins=20, alpha=0.5, label='Surf')\n",
    "ultimate['total_minutes'].plot.hist(bins=20, alpha=0.5, label='Ultimate')\n",
    "plt.xlabel('Total Minutes')\n",
    "plt.ylabel('Plan')\n",
    "plt.title('Minutes Used by Plan')\n",
    "plt.legend()\n",
    "plt.show()"
   ]
  },
  {
   "cell_type": "markdown",
   "metadata": {},
   "source": [
    "[Calculate the mean and the variable of the call duration to reason on whether users on the different plans have different behaviours for their calls.]"
   ]
  },
  {
   "cell_type": "code",
   "execution_count": 38,
   "metadata": {},
   "outputs": [
    {
     "name": "stdout",
     "output_type": "stream",
     "text": [
      "Mean call duration (surf): 428.7495232040687\n",
      "Variance of call duration (surf): 54968.27946065038\n",
      "Mean call duration(ultimate): 430.45\n",
      "Variance of call duration(ultimate): 57844.464812239225\n"
     ]
    }
   ],
   "source": [
    "# Calculate the mean and the variance of the monthly call duration\n",
    "\n",
    "s_mean_duration = surf['total_minutes'].mean()\n",
    "s_variance_duration = surf['total_minutes'].var()\n",
    "u_mean_duration = ultimate['total_minutes'].mean()\n",
    "u_variance_duration = ultimate['total_minutes'].var()\n",
    "\n",
    "print(\"Mean call duration (surf):\", s_mean_duration)\n",
    "print(\"Variance of call duration (surf):\", s_variance_duration)\n",
    "print(\"Mean call duration(ultimate):\", u_mean_duration)\n",
    "print(\"Variance of call duration(ultimate):\", u_variance_duration)\n"
   ]
  },
  {
   "cell_type": "code",
   "execution_count": 39,
   "metadata": {},
   "outputs": [
    {
     "data": {
      "image/png": "[encoded data removed]",
      "text/plain": [
       "<Figure size 640x480 with 1 Axes>"
      ]
     },
     "metadata": {},
     "output_type": "display_data"
    }
   ],
   "source": [
    "# Plot a boxplot to visualize the distribution of the monthly call duration\n",
    "\n",
    "\n",
    "df_merged.boxplot(column='total_minutes', by='plan', grid=False)\n",
    "plt.title(\"Monthly Call Duration Distribution\")\n",
    "plt.ylabel(\"Duration (minutes)\")\n",
    "plt.show()"
   ]
  },
  {
   "cell_type": "markdown",
   "metadata": {},
   "source": [
    "[Formulate conclusions on how the users behave in terms of calling. Is their behaviour different between the plans?]"
   ]
  },
  {
   "cell_type": "markdown",
   "metadata": {},
   "source": [
    " "
   ]
  },
  {
   "cell_type": "markdown",
   "metadata": {},
   "source": [
    "### Messages"
   ]
  },
  {
   "cell_type": "code",
   "execution_count": 40,
   "metadata": {},
   "outputs": [
    {
     "data": {
      "image/png": "[encoded data removed]",
      "text/plain": [
       "<Figure size 640x480 with 1 Axes>"
      ]
     },
     "metadata": {},
     "output_type": "display_data"
    }
   ],
   "source": [
    "# Compare the number of messages users of each plan tend to send each month\n",
    "\n",
    "# messages_by_plan = df_merged.groupby('plan_name')['message_count'].agg(['mean', 'count'])\n",
    "\n",
    "# display(messages_by_plan) \n",
    "\n",
    "surf['message_count'].plot.hist(bins=20, alpha=0.5, label='Surf')\n",
    "ultimate['message_count'].plot.hist(bins=20, alpha=0.5, label='Ultimate')\n",
    "plt.xlabel('Total Messages')\n",
    "plt.ylabel('Plan')\n",
    "plt.title('Messages Used by Plan')\n",
    "plt.legend()\n",
    "plt.show()"
   ]
  },
  {
   "cell_type": "code",
   "execution_count": 41,
   "metadata": {},
   "outputs": [
    {
     "data": {
      "text/html": [
       "<div>\n",
       "<style scoped>\n",
       "    .dataframe tbody tr th:only-of-type {\n",
       "        vertical-align: middle;\n",
       "    }\n",
       "\n",
       "    .dataframe tbody tr th {\n",
       "        vertical-align: top;\n",
       "    }\n",
       "\n",
       "    .dataframe thead th {\n",
       "        text-align: right;\n",
       "    }\n",
       "</style>\n",
       "<table border=\"1\" class=\"dataframe\">\n",
       "  <thead>\n",
       "    <tr style=\"text-align: right;\">\n",
       "      <th></th>\n",
       "      <th>plan_name</th>\n",
       "      <th>mb_used</th>\n",
       "    </tr>\n",
       "  </thead>\n",
       "  <tbody>\n",
       "    <tr>\n",
       "      <th>0</th>\n",
       "      <td>surf</td>\n",
       "      <td>26046179.93</td>\n",
       "    </tr>\n",
       "    <tr>\n",
       "      <th>1</th>\n",
       "      <td>ultimate</td>\n",
       "      <td>12394583.78</td>\n",
       "    </tr>\n",
       "  </tbody>\n",
       "</table>\n",
       "</div>"
      ],
      "text/plain": [
       "  plan_name      mb_used\n",
       "0      surf  26046179.93\n",
       "1  ultimate  12394583.78"
      ]
     },
     "metadata": {},
     "output_type": "display_data"
    }
   ],
   "source": [
    "# Compare the amount of internet traffic consumed by users per plan\n",
    "\n",
    "\n",
    "plan_data_usage = df_merged.groupby('plan_name')['mb_used'].sum().reset_index()\n",
    "\n",
    "\n",
    "plan_data_usage = plan_data_usage.sort_values(by='mb_used', ascending=False)\n",
    "\n",
    "display(plan_data_usage)"
   ]
  },
  {
   "cell_type": "markdown",
   "metadata": {},
   "source": [
    "[Formulate conclusions on how the users behave in terms of messaging. Is their behaviour different between the plans?]"
   ]
  },
  {
   "cell_type": "markdown",
   "metadata": {},
   "source": [
    "### Internet"
   ]
  },
  {
   "cell_type": "code",
   "execution_count": 42,
   "metadata": {},
   "outputs": [
    {
     "data": {
      "image/png": "[encoded data removed]",
      "text/plain": [
       "<Figure size 640x480 with 1 Axes>"
      ]
     },
     "metadata": {},
     "output_type": "display_data"
    }
   ],
   "source": [
    "surf['mb_used'].plot.hist(bins=20, alpha=0.5, label='Surf')\n",
    "ultimate['mb_used'].plot.hist(bins=20, alpha=0.5, label='Ultimate')\n",
    "plt.xlabel('Total Megabytes')\n",
    "plt.ylabel('Plan')\n",
    "plt.title('Megabytes Used by Plan')\n",
    "plt.legend()\n",
    "plt.show()"
   ]
  },
  {
   "cell_type": "markdown",
   "metadata": {},
   "source": [
    "the histogram above shows that the surf plan has far more megabytes used than the ultimate plan."
   ]
  },
  {
   "cell_type": "markdown",
   "metadata": {},
   "source": [
    "[Formulate conclusions on how the users tend to consume the internet traffic? Is their behaviour different between the plans?]"
   ]
  },
  {
   "cell_type": "markdown",
   "metadata": {},
   "source": [
    "## Revenue"
   ]
  },
  {
   "cell_type": "markdown",
   "metadata": {},
   "source": [
    "[Likewise you have studied the user behaviour, statistically describe the revenue between the plans.]"
   ]
  },
  {
   "cell_type": "code",
   "execution_count": 43,
   "metadata": {},
   "outputs": [
    {
     "data": {
      "text/plain": [
       "count    1573.000000\n",
       "mean       60.706408\n",
       "std        55.388042\n",
       "min        20.000000\n",
       "25%        20.000000\n",
       "50%        40.360000\n",
       "75%        80.360000\n",
       "max       590.370000\n",
       "Name: total_charge, dtype: float64"
      ]
     },
     "execution_count": 43,
     "metadata": {},
     "output_type": "execute_result"
    }
   ],
   "source": [
    "surf['total_charge'].describe()"
   ]
  },
  {
   "cell_type": "code",
   "execution_count": 44,
   "metadata": {},
   "outputs": [
    {
     "data": {
      "text/plain": [
       "count    720.000000\n",
       "mean      72.313889\n",
       "std       11.395108\n",
       "min       70.000000\n",
       "25%       70.000000\n",
       "50%       70.000000\n",
       "75%       70.000000\n",
       "max      182.000000\n",
       "Name: total_charge, dtype: float64"
      ]
     },
     "execution_count": 44,
     "metadata": {},
     "output_type": "execute_result"
    }
   ],
   "source": [
    "ultimate['total_charge'].describe()"
   ]
  },
  {
   "cell_type": "markdown",
   "metadata": {},
   "source": [
    "the surf plan max is 590 and the ultimate plan max is 182 so the surf plan is highest out of both."
   ]
  },
  {
   "cell_type": "markdown",
   "metadata": {},
   "source": [
    "[Formulate conclusions about how the revenue differs between the plans.]"
   ]
  },
  {
   "cell_type": "markdown",
   "metadata": {},
   "source": [
    " "
   ]
  },
  {
   "cell_type": "markdown",
   "metadata": {},
   "source": [
    "## Test statistical hypotheses"
   ]
  },
  {
   "cell_type": "markdown",
   "metadata": {},
   "source": [
    "[Test the hypothesis that the average revenue from users of the Ultimate and Surf calling plans differs.]"
   ]
  },
  {
   "cell_type": "markdown",
   "metadata": {},
   "source": [
    "[Formulate the null and the alternative hypotheses, choose the statistical test, decide on the alpha value.]"
   ]
  },
  {
   "cell_type": "markdown",
   "metadata": {},
   "source": [
    "Null Hypothesis (H0): ... is the same\n",
    "Alternative Hypothesis (H1): ... is not the same"
   ]
  },
  {
   "cell_type": "code",
   "execution_count": 45,
   "metadata": {},
   "outputs": [
    {
     "name": "stdout",
     "output_type": "stream",
     "text": [
      "p-value:  2.862674510698644e-08\n",
      "We reject the null hypothesis\n"
     ]
    }
   ],
   "source": [
    "# Test the hypotheses\n",
    "\n",
    "alpha = 0.05\n",
    "\n",
    "results = st.ttest_ind(surf['total_charge'], ultimate['total_charge'])\n",
    "\n",
    "print('p-value: ', results.pvalue)\n",
    "\n",
    "if results.pvalue < alpha:\n",
    "    print('We reject the null hypothesis')\n",
    "else:\n",
    "    print(\"We can't reject the null hypothesis\")\n"
   ]
  },
  {
   "cell_type": "code",
   "execution_count": 46,
   "metadata": {},
   "outputs": [
    {
     "name": "stdout",
     "output_type": "stream",
     "text": [
      "Surf Plan Shapiro-Wilk Test p-value: 1.5414283107572988e-44\n",
      "Ultimate Plan Shapiro-Wilk Test p-value: 0.0\n",
      "Statistical Test Used: Mann-Whitney U test\n",
      "Statistic: 355086.0\n",
      "P-Value: 1.9121791624159787e-48\n",
      "Reject the null hypothesis: There is a significant difference in average revenue between Surf and Ultimate plans.\n"
     ]
    }
   ],
   "source": [
    "\n",
    "\n",
    "stat_s, p_s = shapiro(surf['total_charge'])\n",
    "print(f\"Surf Plan Shapiro-Wilk Test p-value: {p_s}\")\n",
    "\n",
    "\n",
    "stat_u, p_u = shapiro(ultimate['total_charge'])\n",
    "print(f\"Ultimate Plan Shapiro-Wilk Test p-value: {p_u}\")\n",
    "\n",
    "\n",
    "alpha = 0.05\n",
    "if p_s > alpha and p_u > alpha:\n",
    "    results = ttest_ind(surf['total_charge'], ultimate['total_charge'], equal_var=False)\n",
    "    test_used = \"t-test\"\n",
    "else:\n",
    "    results = mannwhitneyu(surf['total_charge'], ultimate['total_charge'], alternative='two-sided')\n",
    "    test_used = \"Mann-Whitney U test\"\n",
    "\n",
    "\n",
    "print(f\"Statistical Test Used: {test_used}\")\n",
    "print(f\"Statistic: {results.statistic}\")\n",
    "print(f\"P-Value: {results.pvalue}\")\n",
    "\n",
    "\n",
    "if results.pvalue < alpha:\n",
    "    print(\"Reject the null hypothesis: There is a significant difference in average revenue between Surf and Ultimate plans.\")\n",
    "else:\n",
    "    print(\"Fail to reject the null hypothesis: No significant difference in average revenue between Surf and Ultimate plans.\")"
   ]
  },
  {
   "cell_type": "markdown",
   "metadata": {},
   "source": [
    "We reject / fail to reject the null hypothesis..."
   ]
  },
  {
   "cell_type": "markdown",
   "metadata": {},
   "source": [
    "[Test the hypothesis that the average revenue from users in the NY-NJ area is different from that of the users from the other regions.]"
   ]
  },
  {
   "cell_type": "markdown",
   "metadata": {},
   "source": [
    "[Formulate the null and the alternative hypotheses, choose the statistical test, decide on the alpha value.]"
   ]
  },
  {
   "cell_type": "code",
   "execution_count": 47,
   "metadata": {},
   "outputs": [
    {
     "data": {
      "text/html": [
       "<div>\n",
       "<style scoped>\n",
       "    .dataframe tbody tr th:only-of-type {\n",
       "        vertical-align: middle;\n",
       "    }\n",
       "\n",
       "    .dataframe tbody tr th {\n",
       "        vertical-align: top;\n",
       "    }\n",
       "\n",
       "    .dataframe thead th {\n",
       "        text-align: right;\n",
       "    }\n",
       "</style>\n",
       "<table border=\"1\" class=\"dataframe\">\n",
       "  <thead>\n",
       "    <tr style=\"text-align: right;\">\n",
       "      <th></th>\n",
       "      <th>user_id</th>\n",
       "      <th>month</th>\n",
       "      <th>total_minutes</th>\n",
       "      <th>message_count</th>\n",
       "      <th>mb_used</th>\n",
       "      <th>first_name</th>\n",
       "      <th>last_name</th>\n",
       "      <th>age</th>\n",
       "      <th>city</th>\n",
       "      <th>reg_date</th>\n",
       "      <th>...</th>\n",
       "      <th>usd_per_message</th>\n",
       "      <th>usd_per_minute</th>\n",
       "      <th>plan_name</th>\n",
       "      <th>extra_minutes</th>\n",
       "      <th>extra_messages</th>\n",
       "      <th>extra_mb</th>\n",
       "      <th>extra_minutes_charge</th>\n",
       "      <th>extra_messages_charge</th>\n",
       "      <th>extra_data_charge</th>\n",
       "      <th>total_charge</th>\n",
       "    </tr>\n",
       "  </thead>\n",
       "  <tbody>\n",
       "    <tr>\n",
       "      <th>0</th>\n",
       "      <td>1000</td>\n",
       "      <td>12</td>\n",
       "      <td>124.0</td>\n",
       "      <td>11.0</td>\n",
       "      <td>1901.47</td>\n",
       "      <td>Anamaria</td>\n",
       "      <td>Bauer</td>\n",
       "      <td>45</td>\n",
       "      <td>Atlanta-Sandy Springs-Roswell, GA MSA</td>\n",
       "      <td>2018-12-24</td>\n",
       "      <td>...</td>\n",
       "      <td>0.01</td>\n",
       "      <td>0.01</td>\n",
       "      <td>ultimate</td>\n",
       "      <td>0.0</td>\n",
       "      <td>0.0</td>\n",
       "      <td>0.00</td>\n",
       "      <td>0.0</td>\n",
       "      <td>0.00</td>\n",
       "      <td>0.0</td>\n",
       "      <td>70.00</td>\n",
       "    </tr>\n",
       "    <tr>\n",
       "      <th>1</th>\n",
       "      <td>1006</td>\n",
       "      <td>11</td>\n",
       "      <td>10.0</td>\n",
       "      <td>15.0</td>\n",
       "      <td>2068.37</td>\n",
       "      <td>Jesusa</td>\n",
       "      <td>Bradford</td>\n",
       "      <td>73</td>\n",
       "      <td>San Francisco-Oakland-Berkeley, CA MSA</td>\n",
       "      <td>2018-11-27</td>\n",
       "      <td>...</td>\n",
       "      <td>0.01</td>\n",
       "      <td>0.01</td>\n",
       "      <td>ultimate</td>\n",
       "      <td>0.0</td>\n",
       "      <td>0.0</td>\n",
       "      <td>0.00</td>\n",
       "      <td>0.0</td>\n",
       "      <td>0.00</td>\n",
       "      <td>0.0</td>\n",
       "      <td>70.00</td>\n",
       "    </tr>\n",
       "    <tr>\n",
       "      <th>2</th>\n",
       "      <td>1006</td>\n",
       "      <td>12</td>\n",
       "      <td>59.0</td>\n",
       "      <td>139.0</td>\n",
       "      <td>32118.82</td>\n",
       "      <td>Jesusa</td>\n",
       "      <td>Bradford</td>\n",
       "      <td>73</td>\n",
       "      <td>San Francisco-Oakland-Berkeley, CA MSA</td>\n",
       "      <td>2018-11-27</td>\n",
       "      <td>...</td>\n",
       "      <td>0.01</td>\n",
       "      <td>0.01</td>\n",
       "      <td>ultimate</td>\n",
       "      <td>0.0</td>\n",
       "      <td>0.0</td>\n",
       "      <td>1398.82</td>\n",
       "      <td>0.0</td>\n",
       "      <td>0.00</td>\n",
       "      <td>14.0</td>\n",
       "      <td>84.00</td>\n",
       "    </tr>\n",
       "    <tr>\n",
       "      <th>3</th>\n",
       "      <td>1008</td>\n",
       "      <td>10</td>\n",
       "      <td>476.0</td>\n",
       "      <td>21.0</td>\n",
       "      <td>17106.99</td>\n",
       "      <td>Emely</td>\n",
       "      <td>Hoffman</td>\n",
       "      <td>53</td>\n",
       "      <td>Orlando-Kissimmee-Sanford, FL MSA</td>\n",
       "      <td>2018-08-03</td>\n",
       "      <td>...</td>\n",
       "      <td>0.01</td>\n",
       "      <td>0.01</td>\n",
       "      <td>ultimate</td>\n",
       "      <td>0.0</td>\n",
       "      <td>0.0</td>\n",
       "      <td>0.00</td>\n",
       "      <td>0.0</td>\n",
       "      <td>0.00</td>\n",
       "      <td>0.0</td>\n",
       "      <td>70.00</td>\n",
       "    </tr>\n",
       "    <tr>\n",
       "      <th>4</th>\n",
       "      <td>1008</td>\n",
       "      <td>11</td>\n",
       "      <td>446.0</td>\n",
       "      <td>37.0</td>\n",
       "      <td>23676.72</td>\n",
       "      <td>Emely</td>\n",
       "      <td>Hoffman</td>\n",
       "      <td>53</td>\n",
       "      <td>Orlando-Kissimmee-Sanford, FL MSA</td>\n",
       "      <td>2018-08-03</td>\n",
       "      <td>...</td>\n",
       "      <td>0.01</td>\n",
       "      <td>0.01</td>\n",
       "      <td>ultimate</td>\n",
       "      <td>0.0</td>\n",
       "      <td>0.0</td>\n",
       "      <td>0.00</td>\n",
       "      <td>0.0</td>\n",
       "      <td>0.00</td>\n",
       "      <td>0.0</td>\n",
       "      <td>70.00</td>\n",
       "    </tr>\n",
       "    <tr>\n",
       "      <th>...</th>\n",
       "      <td>...</td>\n",
       "      <td>...</td>\n",
       "      <td>...</td>\n",
       "      <td>...</td>\n",
       "      <td>...</td>\n",
       "      <td>...</td>\n",
       "      <td>...</td>\n",
       "      <td>...</td>\n",
       "      <td>...</td>\n",
       "      <td>...</td>\n",
       "      <td>...</td>\n",
       "      <td>...</td>\n",
       "      <td>...</td>\n",
       "      <td>...</td>\n",
       "      <td>...</td>\n",
       "      <td>...</td>\n",
       "      <td>...</td>\n",
       "      <td>...</td>\n",
       "      <td>...</td>\n",
       "      <td>...</td>\n",
       "      <td>...</td>\n",
       "    </tr>\n",
       "    <tr>\n",
       "      <th>2288</th>\n",
       "      <td>1194</td>\n",
       "      <td>11</td>\n",
       "      <td>0.0</td>\n",
       "      <td>62.0</td>\n",
       "      <td>42866.10</td>\n",
       "      <td>Robert</td>\n",
       "      <td>Mclean</td>\n",
       "      <td>40</td>\n",
       "      <td>San Jose-Sunnyvale-Santa Clara, CA MSA</td>\n",
       "      <td>2018-05-31</td>\n",
       "      <td>...</td>\n",
       "      <td>0.03</td>\n",
       "      <td>0.03</td>\n",
       "      <td>surf</td>\n",
       "      <td>0.0</td>\n",
       "      <td>12.0</td>\n",
       "      <td>27506.10</td>\n",
       "      <td>0.0</td>\n",
       "      <td>0.36</td>\n",
       "      <td>270.0</td>\n",
       "      <td>290.36</td>\n",
       "    </tr>\n",
       "    <tr>\n",
       "      <th>2289</th>\n",
       "      <td>1194</td>\n",
       "      <td>12</td>\n",
       "      <td>0.0</td>\n",
       "      <td>56.0</td>\n",
       "      <td>31088.49</td>\n",
       "      <td>Robert</td>\n",
       "      <td>Mclean</td>\n",
       "      <td>40</td>\n",
       "      <td>San Jose-Sunnyvale-Santa Clara, CA MSA</td>\n",
       "      <td>2018-05-31</td>\n",
       "      <td>...</td>\n",
       "      <td>0.03</td>\n",
       "      <td>0.03</td>\n",
       "      <td>surf</td>\n",
       "      <td>0.0</td>\n",
       "      <td>6.0</td>\n",
       "      <td>15728.49</td>\n",
       "      <td>0.0</td>\n",
       "      <td>0.18</td>\n",
       "      <td>160.0</td>\n",
       "      <td>180.18</td>\n",
       "    </tr>\n",
       "    <tr>\n",
       "      <th>2290</th>\n",
       "      <td>1349</td>\n",
       "      <td>10</td>\n",
       "      <td>0.0</td>\n",
       "      <td>76.0</td>\n",
       "      <td>13093.55</td>\n",
       "      <td>Florentina</td>\n",
       "      <td>Diaz</td>\n",
       "      <td>69</td>\n",
       "      <td>Boston-Cambridge-Newton, MA-NH MSA</td>\n",
       "      <td>2018-10-01</td>\n",
       "      <td>...</td>\n",
       "      <td>0.03</td>\n",
       "      <td>0.03</td>\n",
       "      <td>surf</td>\n",
       "      <td>0.0</td>\n",
       "      <td>26.0</td>\n",
       "      <td>0.00</td>\n",
       "      <td>0.0</td>\n",
       "      <td>0.78</td>\n",
       "      <td>0.0</td>\n",
       "      <td>20.78</td>\n",
       "    </tr>\n",
       "    <tr>\n",
       "      <th>2291</th>\n",
       "      <td>1349</td>\n",
       "      <td>11</td>\n",
       "      <td>0.0</td>\n",
       "      <td>72.0</td>\n",
       "      <td>17128.26</td>\n",
       "      <td>Florentina</td>\n",
       "      <td>Diaz</td>\n",
       "      <td>69</td>\n",
       "      <td>Boston-Cambridge-Newton, MA-NH MSA</td>\n",
       "      <td>2018-10-01</td>\n",
       "      <td>...</td>\n",
       "      <td>0.03</td>\n",
       "      <td>0.03</td>\n",
       "      <td>surf</td>\n",
       "      <td>0.0</td>\n",
       "      <td>22.0</td>\n",
       "      <td>1768.26</td>\n",
       "      <td>0.0</td>\n",
       "      <td>0.66</td>\n",
       "      <td>20.0</td>\n",
       "      <td>40.66</td>\n",
       "    </tr>\n",
       "    <tr>\n",
       "      <th>2292</th>\n",
       "      <td>1349</td>\n",
       "      <td>12</td>\n",
       "      <td>0.0</td>\n",
       "      <td>61.0</td>\n",
       "      <td>13039.91</td>\n",
       "      <td>Florentina</td>\n",
       "      <td>Diaz</td>\n",
       "      <td>69</td>\n",
       "      <td>Boston-Cambridge-Newton, MA-NH MSA</td>\n",
       "      <td>2018-10-01</td>\n",
       "      <td>...</td>\n",
       "      <td>0.03</td>\n",
       "      <td>0.03</td>\n",
       "      <td>surf</td>\n",
       "      <td>0.0</td>\n",
       "      <td>11.0</td>\n",
       "      <td>0.00</td>\n",
       "      <td>0.0</td>\n",
       "      <td>0.33</td>\n",
       "      <td>0.0</td>\n",
       "      <td>20.33</td>\n",
       "    </tr>\n",
       "  </tbody>\n",
       "</table>\n",
       "<p>2293 rows × 27 columns</p>\n",
       "</div>"
      ],
      "text/plain": [
       "      user_id  month  total_minutes  message_count   mb_used  first_name  \\\n",
       "0        1000     12          124.0           11.0   1901.47    Anamaria   \n",
       "1        1006     11           10.0           15.0   2068.37      Jesusa   \n",
       "2        1006     12           59.0          139.0  32118.82      Jesusa   \n",
       "3        1008     10          476.0           21.0  17106.99       Emely   \n",
       "4        1008     11          446.0           37.0  23676.72       Emely   \n",
       "...       ...    ...            ...            ...       ...         ...   \n",
       "2288     1194     11            0.0           62.0  42866.10      Robert   \n",
       "2289     1194     12            0.0           56.0  31088.49      Robert   \n",
       "2290     1349     10            0.0           76.0  13093.55  Florentina   \n",
       "2291     1349     11            0.0           72.0  17128.26  Florentina   \n",
       "2292     1349     12            0.0           61.0  13039.91  Florentina   \n",
       "\n",
       "     last_name  age                                    city   reg_date  ...  \\\n",
       "0        Bauer   45   Atlanta-Sandy Springs-Roswell, GA MSA 2018-12-24  ...   \n",
       "1     Bradford   73  San Francisco-Oakland-Berkeley, CA MSA 2018-11-27  ...   \n",
       "2     Bradford   73  San Francisco-Oakland-Berkeley, CA MSA 2018-11-27  ...   \n",
       "3      Hoffman   53       Orlando-Kissimmee-Sanford, FL MSA 2018-08-03  ...   \n",
       "4      Hoffman   53       Orlando-Kissimmee-Sanford, FL MSA 2018-08-03  ...   \n",
       "...        ...  ...                                     ...        ...  ...   \n",
       "2288    Mclean   40  San Jose-Sunnyvale-Santa Clara, CA MSA 2018-05-31  ...   \n",
       "2289    Mclean   40  San Jose-Sunnyvale-Santa Clara, CA MSA 2018-05-31  ...   \n",
       "2290      Diaz   69      Boston-Cambridge-Newton, MA-NH MSA 2018-10-01  ...   \n",
       "2291      Diaz   69      Boston-Cambridge-Newton, MA-NH MSA 2018-10-01  ...   \n",
       "2292      Diaz   69      Boston-Cambridge-Newton, MA-NH MSA 2018-10-01  ...   \n",
       "\n",
       "     usd_per_message usd_per_minute  plan_name  extra_minutes  extra_messages  \\\n",
       "0               0.01           0.01   ultimate            0.0             0.0   \n",
       "1               0.01           0.01   ultimate            0.0             0.0   \n",
       "2               0.01           0.01   ultimate            0.0             0.0   \n",
       "3               0.01           0.01   ultimate            0.0             0.0   \n",
       "4               0.01           0.01   ultimate            0.0             0.0   \n",
       "...              ...            ...        ...            ...             ...   \n",
       "2288            0.03           0.03       surf            0.0            12.0   \n",
       "2289            0.03           0.03       surf            0.0             6.0   \n",
       "2290            0.03           0.03       surf            0.0            26.0   \n",
       "2291            0.03           0.03       surf            0.0            22.0   \n",
       "2292            0.03           0.03       surf            0.0            11.0   \n",
       "\n",
       "      extra_mb  extra_minutes_charge  extra_messages_charge  \\\n",
       "0         0.00                   0.0                   0.00   \n",
       "1         0.00                   0.0                   0.00   \n",
       "2      1398.82                   0.0                   0.00   \n",
       "3         0.00                   0.0                   0.00   \n",
       "4         0.00                   0.0                   0.00   \n",
       "...        ...                   ...                    ...   \n",
       "2288  27506.10                   0.0                   0.36   \n",
       "2289  15728.49                   0.0                   0.18   \n",
       "2290      0.00                   0.0                   0.78   \n",
       "2291   1768.26                   0.0                   0.66   \n",
       "2292      0.00                   0.0                   0.33   \n",
       "\n",
       "      extra_data_charge total_charge  \n",
       "0                   0.0        70.00  \n",
       "1                   0.0        70.00  \n",
       "2                  14.0        84.00  \n",
       "3                   0.0        70.00  \n",
       "4                   0.0        70.00  \n",
       "...                 ...          ...  \n",
       "2288              270.0       290.36  \n",
       "2289              160.0       180.18  \n",
       "2290                0.0        20.78  \n",
       "2291               20.0        40.66  \n",
       "2292                0.0        20.33  \n",
       "\n",
       "[2293 rows x 27 columns]"
      ]
     },
     "execution_count": 47,
     "metadata": {},
     "output_type": "execute_result"
    }
   ],
   "source": [
    "df_merged"
   ]
  },
  {
   "cell_type": "code",
   "execution_count": 48,
   "metadata": {},
   "outputs": [
    {
     "data": {
      "text/html": [
       "<div>\n",
       "<style scoped>\n",
       "    .dataframe tbody tr th:only-of-type {\n",
       "        vertical-align: middle;\n",
       "    }\n",
       "\n",
       "    .dataframe tbody tr th {\n",
       "        vertical-align: top;\n",
       "    }\n",
       "\n",
       "    .dataframe thead th {\n",
       "        text-align: right;\n",
       "    }\n",
       "</style>\n",
       "<table border=\"1\" class=\"dataframe\">\n",
       "  <thead>\n",
       "    <tr style=\"text-align: right;\">\n",
       "      <th></th>\n",
       "      <th>month</th>\n",
       "      <th>total_minutes</th>\n",
       "      <th>message_count</th>\n",
       "      <th>mb_used</th>\n",
       "      <th>first_name</th>\n",
       "      <th>last_name</th>\n",
       "      <th>age</th>\n",
       "      <th>city</th>\n",
       "      <th>reg_date</th>\n",
       "      <th>plan</th>\n",
       "      <th>...</th>\n",
       "      <th>usd_per_minute</th>\n",
       "      <th>plan_name</th>\n",
       "      <th>extra_minutes</th>\n",
       "      <th>extra_messages</th>\n",
       "      <th>extra_mb</th>\n",
       "      <th>extra_minutes_charge</th>\n",
       "      <th>extra_messages_charge</th>\n",
       "      <th>extra_data_charge</th>\n",
       "      <th>total_charge</th>\n",
       "      <th>state</th>\n",
       "    </tr>\n",
       "    <tr>\n",
       "      <th>user_id</th>\n",
       "      <th></th>\n",
       "      <th></th>\n",
       "      <th></th>\n",
       "      <th></th>\n",
       "      <th></th>\n",
       "      <th></th>\n",
       "      <th></th>\n",
       "      <th></th>\n",
       "      <th></th>\n",
       "      <th></th>\n",
       "      <th></th>\n",
       "      <th></th>\n",
       "      <th></th>\n",
       "      <th></th>\n",
       "      <th></th>\n",
       "      <th></th>\n",
       "      <th></th>\n",
       "      <th></th>\n",
       "      <th></th>\n",
       "      <th></th>\n",
       "      <th></th>\n",
       "    </tr>\n",
       "  </thead>\n",
       "  <tbody>\n",
       "    <tr>\n",
       "      <th>1000</th>\n",
       "      <td>12</td>\n",
       "      <td>124.0</td>\n",
       "      <td>11.0</td>\n",
       "      <td>1901.47</td>\n",
       "      <td>Anamaria</td>\n",
       "      <td>Bauer</td>\n",
       "      <td>45</td>\n",
       "      <td>Atlanta-Sandy Springs-Roswell, GA MSA</td>\n",
       "      <td>2018-12-24</td>\n",
       "      <td>ultimate</td>\n",
       "      <td>...</td>\n",
       "      <td>0.01</td>\n",
       "      <td>ultimate</td>\n",
       "      <td>0.0</td>\n",
       "      <td>0.0</td>\n",
       "      <td>0.00</td>\n",
       "      <td>0.0</td>\n",
       "      <td>0.0</td>\n",
       "      <td>0.0</td>\n",
       "      <td>70.0</td>\n",
       "      <td>GA</td>\n",
       "    </tr>\n",
       "    <tr>\n",
       "      <th>1006</th>\n",
       "      <td>11</td>\n",
       "      <td>10.0</td>\n",
       "      <td>15.0</td>\n",
       "      <td>2068.37</td>\n",
       "      <td>Jesusa</td>\n",
       "      <td>Bradford</td>\n",
       "      <td>73</td>\n",
       "      <td>San Francisco-Oakland-Berkeley, CA MSA</td>\n",
       "      <td>2018-11-27</td>\n",
       "      <td>ultimate</td>\n",
       "      <td>...</td>\n",
       "      <td>0.01</td>\n",
       "      <td>ultimate</td>\n",
       "      <td>0.0</td>\n",
       "      <td>0.0</td>\n",
       "      <td>0.00</td>\n",
       "      <td>0.0</td>\n",
       "      <td>0.0</td>\n",
       "      <td>0.0</td>\n",
       "      <td>70.0</td>\n",
       "      <td>CA</td>\n",
       "    </tr>\n",
       "    <tr>\n",
       "      <th>1006</th>\n",
       "      <td>12</td>\n",
       "      <td>59.0</td>\n",
       "      <td>139.0</td>\n",
       "      <td>32118.82</td>\n",
       "      <td>Jesusa</td>\n",
       "      <td>Bradford</td>\n",
       "      <td>73</td>\n",
       "      <td>San Francisco-Oakland-Berkeley, CA MSA</td>\n",
       "      <td>2018-11-27</td>\n",
       "      <td>ultimate</td>\n",
       "      <td>...</td>\n",
       "      <td>0.01</td>\n",
       "      <td>ultimate</td>\n",
       "      <td>0.0</td>\n",
       "      <td>0.0</td>\n",
       "      <td>1398.82</td>\n",
       "      <td>0.0</td>\n",
       "      <td>0.0</td>\n",
       "      <td>14.0</td>\n",
       "      <td>84.0</td>\n",
       "      <td>CA</td>\n",
       "    </tr>\n",
       "    <tr>\n",
       "      <th>1008</th>\n",
       "      <td>10</td>\n",
       "      <td>476.0</td>\n",
       "      <td>21.0</td>\n",
       "      <td>17106.99</td>\n",
       "      <td>Emely</td>\n",
       "      <td>Hoffman</td>\n",
       "      <td>53</td>\n",
       "      <td>Orlando-Kissimmee-Sanford, FL MSA</td>\n",
       "      <td>2018-08-03</td>\n",
       "      <td>ultimate</td>\n",
       "      <td>...</td>\n",
       "      <td>0.01</td>\n",
       "      <td>ultimate</td>\n",
       "      <td>0.0</td>\n",
       "      <td>0.0</td>\n",
       "      <td>0.00</td>\n",
       "      <td>0.0</td>\n",
       "      <td>0.0</td>\n",
       "      <td>0.0</td>\n",
       "      <td>70.0</td>\n",
       "      <td>FL</td>\n",
       "    </tr>\n",
       "    <tr>\n",
       "      <th>1008</th>\n",
       "      <td>11</td>\n",
       "      <td>446.0</td>\n",
       "      <td>37.0</td>\n",
       "      <td>23676.72</td>\n",
       "      <td>Emely</td>\n",
       "      <td>Hoffman</td>\n",
       "      <td>53</td>\n",
       "      <td>Orlando-Kissimmee-Sanford, FL MSA</td>\n",
       "      <td>2018-08-03</td>\n",
       "      <td>ultimate</td>\n",
       "      <td>...</td>\n",
       "      <td>0.01</td>\n",
       "      <td>ultimate</td>\n",
       "      <td>0.0</td>\n",
       "      <td>0.0</td>\n",
       "      <td>0.00</td>\n",
       "      <td>0.0</td>\n",
       "      <td>0.0</td>\n",
       "      <td>0.0</td>\n",
       "      <td>70.0</td>\n",
       "      <td>FL</td>\n",
       "    </tr>\n",
       "  </tbody>\n",
       "</table>\n",
       "<p>5 rows × 27 columns</p>\n",
       "</div>"
      ],
      "text/plain": [
       "         month  total_minutes  message_count   mb_used first_name last_name  \\\n",
       "user_id                                                                       \n",
       "1000        12          124.0           11.0   1901.47   Anamaria     Bauer   \n",
       "1006        11           10.0           15.0   2068.37     Jesusa  Bradford   \n",
       "1006        12           59.0          139.0  32118.82     Jesusa  Bradford   \n",
       "1008        10          476.0           21.0  17106.99      Emely   Hoffman   \n",
       "1008        11          446.0           37.0  23676.72      Emely   Hoffman   \n",
       "\n",
       "         age                                    city   reg_date      plan  \\\n",
       "user_id                                                                     \n",
       "1000      45   Atlanta-Sandy Springs-Roswell, GA MSA 2018-12-24  ultimate   \n",
       "1006      73  San Francisco-Oakland-Berkeley, CA MSA 2018-11-27  ultimate   \n",
       "1006      73  San Francisco-Oakland-Berkeley, CA MSA 2018-11-27  ultimate   \n",
       "1008      53       Orlando-Kissimmee-Sanford, FL MSA 2018-08-03  ultimate   \n",
       "1008      53       Orlando-Kissimmee-Sanford, FL MSA 2018-08-03  ultimate   \n",
       "\n",
       "         ... usd_per_minute  plan_name  extra_minutes  extra_messages  \\\n",
       "user_id  ...                                                            \n",
       "1000     ...           0.01   ultimate            0.0             0.0   \n",
       "1006     ...           0.01   ultimate            0.0             0.0   \n",
       "1006     ...           0.01   ultimate            0.0             0.0   \n",
       "1008     ...           0.01   ultimate            0.0             0.0   \n",
       "1008     ...           0.01   ultimate            0.0             0.0   \n",
       "\n",
       "         extra_mb  extra_minutes_charge  extra_messages_charge  \\\n",
       "user_id                                                          \n",
       "1000         0.00                   0.0                    0.0   \n",
       "1006         0.00                   0.0                    0.0   \n",
       "1006      1398.82                   0.0                    0.0   \n",
       "1008         0.00                   0.0                    0.0   \n",
       "1008         0.00                   0.0                    0.0   \n",
       "\n",
       "         extra_data_charge total_charge  state  \n",
       "user_id                                         \n",
       "1000                   0.0         70.0     GA  \n",
       "1006                   0.0         70.0     CA  \n",
       "1006                  14.0         84.0     CA  \n",
       "1008                   0.0         70.0     FL  \n",
       "1008                   0.0         70.0     FL  \n",
       "\n",
       "[5 rows x 27 columns]"
      ]
     },
     "execution_count": 48,
     "metadata": {},
     "output_type": "execute_result"
    }
   ],
   "source": [
    "df_merged['state'] = df_merged['city'].str[-6:].str[:2]\n",
    "\n",
    "df_merged = df_merged.set_index('user_id')\n",
    "\n",
    "df_merged.head()\n"
   ]
  },
  {
   "cell_type": "code",
   "execution_count": 49,
   "metadata": {},
   "outputs": [
    {
     "name": "stdout",
     "output_type": "stream",
     "text": [
      "NY-NJ users monthly income: 1890.5177172681153\n",
      "Other state users monthly income: 2223.8866958162175\n"
     ]
    }
   ],
   "source": [
    "#NY_NJ_income = df_merged[(df_merged['state']=='NY') | (df_merged['state']=='NJ')]['total_charge']\n",
    "NY_NJ_income = df_merged[df_merged['city'].str.contains('NY-NJ')]['total_charge']\n",
    "#Other_state_income = df_merged[(df_merged['state']!='NY') & (df_merged['state']!='NJ')]['total_charge']\n",
    "Other_state_income = df_merged[~df_merged['city'].str.contains('NY-NJ')]['total_charge']\n",
    "\n",
    "print('NY-NJ users monthly income:', np.var(NY_NJ_income))\n",
    "print('Other state users monthly income:', np.var(Other_state_income))"
   ]
  },
  {
   "cell_type": "markdown",
   "metadata": {},
   "source": [
    "Average revenue of NY and NJ is higher than other states."
   ]
  },
  {
   "cell_type": "code",
   "execution_count": 50,
   "metadata": {},
   "outputs": [
    {
     "name": "stdout",
     "output_type": "stream",
     "text": [
      "p-value: 0.04355743162134274\n",
      "We reject the null hypothesis\n"
     ]
    }
   ],
   "source": [
    "# Test the hypotheses\n",
    "\n",
    "alpha = 0.05\n",
    "\n",
    "results = st.ttest_ind(NY_NJ_income, Other_state_income)\n",
    "\n",
    "print('p-value:', results.pvalue) \n",
    "\n",
    "if results.pvalue < alpha:\n",
    "    print(\"We reject the null hypothesis\")\n",
    "else:\n",
    "    print(\"We can't reject the null hypothesis\")"
   ]
  },
  {
   "cell_type": "code",
   "execution_count": 51,
   "metadata": {},
   "outputs": [
    {
     "name": "stdout",
     "output_type": "stream",
     "text": [
      "Surf Plan Shapiro-Wilk Test p-value: 9.160523805778421e-20\n",
      "Ultimate Plan Shapiro-Wilk Test p-value: 0.0\n",
      "Statistical Test Used: Mann-Whitney U test\n",
      "Statistic: 327910.0\n",
      "P-Value: 0.0039281722381623845\n",
      "Reject the null hypothesis: There is a significant difference in average revenue between Surf and Ultimate plans.\n"
     ]
    }
   ],
   "source": [
    "\n",
    "\n",
    "stat_s, p_s = shapiro(NY_NJ_income)\n",
    "print(f\"Surf Plan Shapiro-Wilk Test p-value: {p_s}\")\n",
    "\n",
    "\n",
    "stat_u, p_u = shapiro(Other_state_income)\n",
    "print(f\"Ultimate Plan Shapiro-Wilk Test p-value: {p_u}\")\n",
    "\n",
    "\n",
    "alpha = 0.05\n",
    "if p_s > alpha and p_u > alpha:\n",
    "    results = ttest_ind(NY_NJ_income, Other_state_income, equal_var=False)\n",
    "    test_used = \"t-test\"\n",
    "else:\n",
    "    results = mannwhitneyu(NY_NJ_income, Other_state_income, alternative='two-sided')\n",
    "    test_used = \"Mann-Whitney U test\"\n",
    "\n",
    "\n",
    "print(f\"Statistical Test Used: {test_used}\")\n",
    "print(f\"Statistic: {results.statistic}\")\n",
    "print(f\"P-Value: {results.pvalue}\")\n",
    "\n",
    "\n",
    "if results.pvalue < alpha:\n",
    "    print(\"Reject the null hypothesis: There is a significant difference in average revenue between Surf and Ultimate plans.\")\n",
    "else:\n",
    "    print(\"Fail to reject the null hypothesis: No significant difference in average revenue between Surf and Ultimate plans.\")"
   ]
  },
  {
   "cell_type": "markdown",
   "metadata": {},
   "source": [
    "The null hypothesis cant be rejected and it states that the average revenue from the users in the NY and NJ states are equal to other user revenue from other states."
   ]
  },
  {
   "cell_type": "markdown",
   "metadata": {},
   "source": [
    "## General conclusion\n",
    "\n",
    "[List your important conclusions in this final section, make sure they cover all those important decisions (assumptions) that you've made and that led you to the way you processed and analyzed the data.]"
   ]
  },
  {
   "cell_type": "markdown",
   "metadata": {},
   "source": [
    "Users on Surf plan go well beyond their limit each month unlike the users from Ultimate plan.\n",
    "\n",
    "The average revenue from users in NY and NJ states are equal from revenue in other states."
   ]
  }
 ],
 "metadata": {
  "ExecuteTimeLog": [
   {
    "duration": 828,
    "start_time": "2021-11-16T09:21:11.304Z"
   },
   {
    "duration": 893,
    "start_time": "2021-11-16T09:21:17.728Z"
   },
   {
    "duration": 1150,
    "start_time": "2021-11-16T09:21:29.568Z"
   },
   {
    "duration": 3,
    "start_time": "2021-11-16T09:24:14.495Z"
   },
   {
    "duration": 120,
    "start_time": "2021-11-16T09:24:46.630Z"
   },
   {
    "duration": 3,
    "start_time": "2021-11-16T09:28:27.882Z"
   },
   {
    "duration": 4,
    "start_time": "2021-11-16T09:29:54.281Z"
   },
   {
    "duration": 3,
    "start_time": "2021-11-16T09:30:45.936Z"
   },
   {
    "duration": 4,
    "start_time": "2021-11-16T09:31:06.300Z"
   },
   {
    "duration": 113,
    "start_time": "2021-11-16T09:31:37.208Z"
   },
   {
    "duration": 143,
    "start_time": "2021-11-16T09:31:48.656Z"
   },
   {
    "duration": 98,
    "start_time": "2021-11-16T09:31:55.678Z"
   },
   {
    "duration": 3,
    "start_time": "2021-11-16T09:32:08.535Z"
   },
   {
    "duration": 111,
    "start_time": "2021-11-16T09:32:10.120Z"
   },
   {
    "duration": 3,
    "start_time": "2021-11-16T09:32:15.732Z"
   },
   {
    "duration": 4,
    "start_time": "2021-11-16T09:32:29.423Z"
   },
   {
    "duration": 3,
    "start_time": "2021-11-16T10:03:03.074Z"
   },
   {
    "duration": 3,
    "start_time": "2021-11-16T10:10:01.288Z"
   },
   {
    "duration": 3,
    "start_time": "2021-11-16T10:10:46.923Z"
   },
   {
    "duration": 121,
    "start_time": "2021-11-16T10:37:46.494Z"
   },
   {
    "duration": 125,
    "start_time": "2021-11-16T10:38:20.632Z"
   },
   {
    "duration": 112,
    "start_time": "2021-11-16T10:46:53.001Z"
   },
   {
    "duration": 110,
    "start_time": "2021-11-16T10:48:25.775Z"
   },
   {
    "duration": 3,
    "start_time": "2021-11-16T10:50:18.720Z"
   },
   {
    "duration": 4,
    "start_time": "2021-11-16T10:50:37.649Z"
   },
   {
    "duration": 2,
    "start_time": "2021-11-16T10:50:51.884Z"
   },
   {
    "duration": 3,
    "start_time": "2021-11-16T10:51:56.237Z"
   },
   {
    "duration": 101,
    "start_time": "2021-11-16T10:53:13.791Z"
   },
   {
    "duration": 3,
    "start_time": "2021-11-16T10:55:59.186Z"
   },
   {
    "duration": 3,
    "start_time": "2021-11-16T10:56:10.751Z"
   },
   {
    "duration": 3,
    "start_time": "2021-11-16T10:56:49.038Z"
   },
   {
    "duration": 3,
    "start_time": "2021-11-16T10:56:49.174Z"
   },
   {
    "duration": 4,
    "start_time": "2021-11-16T10:56:49.414Z"
   },
   {
    "duration": 3,
    "start_time": "2021-11-16T10:56:49.680Z"
   },
   {
    "duration": 3,
    "start_time": "2021-11-16T10:56:50.370Z"
   },
   {
    "duration": 114,
    "start_time": "2021-11-16T10:59:34.518Z"
   },
   {
    "duration": 3,
    "start_time": "2021-11-16T11:01:41.201Z"
   },
   {
    "duration": 116,
    "start_time": "2021-11-16T11:01:48.754Z"
   },
   {
    "duration": 3,
    "start_time": "2021-11-16T11:02:16.685Z"
   },
   {
    "duration": 3,
    "start_time": "2021-11-16T11:02:19.479Z"
   },
   {
    "duration": 3,
    "start_time": "2021-11-16T11:02:47.067Z"
   },
   {
    "duration": 3,
    "start_time": "2021-11-16T11:02:49.353Z"
   },
   {
    "duration": 3,
    "start_time": "2021-11-16T11:03:07.835Z"
   },
   {
    "duration": 3,
    "start_time": "2021-11-16T11:03:07.953Z"
   },
   {
    "duration": 112,
    "start_time": "2021-11-16T11:07:52.072Z"
   },
   {
    "duration": 187,
    "start_time": "2021-11-16T11:09:23.468Z"
   },
   {
    "duration": 4,
    "start_time": "2021-11-16T11:10:01.455Z"
   },
   {
    "duration": 3,
    "start_time": "2021-11-16T11:10:05.069Z"
   },
   {
    "duration": 4,
    "start_time": "2021-11-16T11:10:13.376Z"
   },
   {
    "duration": 3,
    "start_time": "2021-11-16T11:10:14.434Z"
   },
   {
    "duration": 3,
    "start_time": "2021-11-16T11:10:22.853Z"
   },
   {
    "duration": 4,
    "start_time": "2021-11-16T11:27:29.279Z"
   },
   {
    "duration": 4,
    "start_time": "2021-11-16T11:29:08.919Z"
   },
   {
    "duration": 118,
    "start_time": "2021-11-16T11:29:46.703Z"
   },
   {
    "duration": 437,
    "start_time": "2021-11-16T11:36:02.181Z"
   },
   {
    "duration": 157,
    "start_time": "2021-11-16T11:36:14.388Z"
   },
   {
    "duration": 207,
    "start_time": "2021-11-16T11:47:15.898Z"
   },
   {
    "duration": 3,
    "start_time": "2021-11-16T11:53:52.092Z"
   },
   {
    "duration": 3,
    "start_time": "2021-11-16T11:53:52.236Z"
   },
   {
    "duration": 3,
    "start_time": "2021-11-16T11:59:12.005Z"
   },
   {
    "duration": 112,
    "start_time": "2021-11-16T12:00:33.446Z"
   },
   {
    "duration": 3,
    "start_time": "2021-11-16T12:02:14.453Z"
   },
   {
    "duration": 3,
    "start_time": "2021-11-16T12:02:39.512Z"
   },
   {
    "duration": 106,
    "start_time": "2021-11-16T12:03:03.460Z"
   },
   {
    "duration": 3,
    "start_time": "2021-11-17T20:37:21.139Z"
   },
   {
    "duration": 3,
    "start_time": "2021-11-17T20:37:22.229Z"
   },
   {
    "duration": 3,
    "start_time": "2021-11-17T20:38:38.806Z"
   },
   {
    "duration": 3,
    "start_time": "2021-11-17T20:38:41.958Z"
   },
   {
    "duration": 3,
    "start_time": "2021-11-17T20:43:46.551Z"
   },
   {
    "duration": 4,
    "start_time": "2021-11-17T20:58:21.835Z"
   },
   {
    "duration": 3,
    "start_time": "2021-11-17T20:59:21.872Z"
   },
   {
    "duration": 4,
    "start_time": "2021-11-17T20:59:45.352Z"
   },
   {
    "duration": 4,
    "start_time": "2021-11-17T20:59:49.646Z"
   },
   {
    "duration": 159,
    "start_time": "2021-11-17T21:02:26.949Z"
   },
   {
    "duration": 3,
    "start_time": "2021-11-17T21:03:53.461Z"
   },
   {
    "duration": 3,
    "start_time": "2021-11-17T21:03:53.694Z"
   },
   {
    "duration": 3,
    "start_time": "2021-11-17T21:05:28.145Z"
   },
   {
    "duration": 116,
    "start_time": "2021-11-17T21:05:57.787Z"
   },
   {
    "duration": 3,
    "start_time": "2021-11-17T21:06:37.993Z"
   },
   {
    "duration": 3,
    "start_time": "2021-11-17T21:06:38.261Z"
   },
   {
    "duration": 3,
    "start_time": "2021-11-17T21:11:54.358Z"
   },
   {
    "duration": 3,
    "start_time": "2021-11-17T21:12:43.846Z"
   },
   {
    "duration": 4,
    "start_time": "2021-11-17T21:13:08.773Z"
   },
   {
    "duration": 3,
    "start_time": "2021-11-17T21:14:44.441Z"
   },
   {
    "duration": 3,
    "start_time": "2021-11-17T21:15:42.059Z"
   },
   {
    "duration": 4,
    "start_time": "2021-11-17T21:15:51.995Z"
   },
   {
    "duration": 3,
    "start_time": "2021-11-17T21:15:53.923Z"
   },
   {
    "duration": 3,
    "start_time": "2021-11-17T21:15:55.282Z"
   },
   {
    "duration": 3,
    "start_time": "2021-11-17T21:16:28.492Z"
   },
   {
    "duration": 3,
    "start_time": "2021-11-17T21:16:32.603Z"
   },
   {
    "duration": 3,
    "start_time": "2021-11-17T21:17:06.941Z"
   },
   {
    "duration": 98,
    "start_time": "2021-11-17T21:18:05.733Z"
   },
   {
    "duration": 4,
    "start_time": "2021-11-17T21:21:35.255Z"
   },
   {
    "duration": 3,
    "start_time": "2021-11-17T21:21:37.804Z"
   },
   {
    "duration": 4,
    "start_time": "2021-11-17T21:23:06.071Z"
   },
   {
    "duration": 3,
    "start_time": "2021-11-17T21:23:24.799Z"
   },
   {
    "duration": 3,
    "start_time": "2021-11-17T21:23:32.591Z"
   },
   {
    "duration": 98,
    "start_time": "2021-11-17T21:28:31.559Z"
   },
   {
    "duration": 3,
    "start_time": "2021-11-17T21:28:45.448Z"
   },
   {
    "duration": 3,
    "start_time": "2021-11-17T21:29:17.303Z"
   },
   {
    "duration": 3,
    "start_time": "2021-11-17T21:29:29.617Z"
   },
   {
    "duration": 3,
    "start_time": "2021-11-17T21:29:32.681Z"
   },
   {
    "duration": 3,
    "start_time": "2021-11-17T21:36:11.474Z"
   },
   {
    "duration": 3,
    "start_time": "2021-11-17T21:36:14.791Z"
   },
   {
    "duration": 3,
    "start_time": "2021-11-17T21:36:53.943Z"
   },
   {
    "duration": 3,
    "start_time": "2021-11-17T21:36:56.165Z"
   },
   {
    "duration": 4,
    "start_time": "2021-11-17T21:37:16.590Z"
   },
   {
    "duration": 3,
    "start_time": "2021-11-17T21:37:22.702Z"
   },
   {
    "duration": 4,
    "start_time": "2021-11-17T21:38:03.479Z"
   },
   {
    "duration": 3,
    "start_time": "2021-11-17T21:38:08.601Z"
   },
   {
    "duration": 3,
    "start_time": "2021-11-17T21:38:12.928Z"
   },
   {
    "duration": 3,
    "start_time": "2021-11-17T21:38:48.896Z"
   },
   {
    "duration": 2,
    "start_time": "2021-11-17T21:38:49.171Z"
   },
   {
    "duration": 4,
    "start_time": "2021-11-17T21:39:57.889Z"
   },
   {
    "duration": 3,
    "start_time": "2021-11-17T21:39:58.057Z"
   },
   {
    "duration": 3,
    "start_time": "2021-11-17T21:41:20.108Z"
   },
   {
    "duration": 3,
    "start_time": "2021-11-17T21:41:20.629Z"
   },
   {
    "duration": 3,
    "start_time": "2021-11-17T21:42:49.136Z"
   },
   {
    "duration": 3,
    "start_time": "2021-11-17T21:43:15.137Z"
   },
   {
    "duration": 4,
    "start_time": "2021-11-17T21:43:16.766Z"
   },
   {
    "duration": 4,
    "start_time": "2021-11-17T21:43:31.711Z"
   },
   {
    "duration": 3,
    "start_time": "2021-11-17T21:43:36.312Z"
   },
   {
    "duration": 4,
    "start_time": "2021-11-17T21:45:08.825Z"
   },
   {
    "duration": 4,
    "start_time": "2021-11-17T21:45:10.119Z"
   },
   {
    "duration": 4,
    "start_time": "2021-11-17T21:45:13.748Z"
   },
   {
    "duration": 3,
    "start_time": "2021-11-17T21:45:22.219Z"
   },
   {
    "duration": 3,
    "start_time": "2021-11-17T21:45:33.412Z"
   },
   {
    "duration": 2,
    "start_time": "2021-11-17T21:46:01.885Z"
   },
   {
    "duration": 3,
    "start_time": "2021-11-17T21:46:03.628Z"
   },
   {
    "duration": 107,
    "start_time": "2021-11-17T21:47:32.512Z"
   },
   {
    "duration": 103,
    "start_time": "2021-11-17T21:50:36.243Z"
   },
   {
    "duration": 3,
    "start_time": "2021-11-18T06:28:31.440Z"
   },
   {
    "duration": 3,
    "start_time": "2021-11-18T06:29:00.168Z"
   },
   {
    "duration": 3,
    "start_time": "2021-11-18T06:31:27.008Z"
   },
   {
    "duration": 2,
    "start_time": "2021-11-18T06:35:34.288Z"
   },
   {
    "duration": 2,
    "start_time": "2021-11-18T06:38:04.527Z"
   },
   {
    "duration": 851,
    "start_time": "2024-11-11T23:02:36.121Z"
   },
   {
    "duration": 1884,
    "start_time": "2024-11-11T23:07:37.026Z"
   },
   {
    "duration": 102,
    "start_time": "2024-11-11T23:10:59.456Z"
   },
   {
    "duration": 76,
    "start_time": "2024-11-11T23:11:43.437Z"
   },
   {
    "duration": 91,
    "start_time": "2024-11-11T23:14:18.930Z"
   },
   {
    "duration": 68,
    "start_time": "2024-11-11T23:16:09.814Z"
   },
   {
    "duration": 15,
    "start_time": "2024-11-11T23:18:54.941Z"
   },
   {
    "duration": 18,
    "start_time": "2024-11-11T23:20:41.650Z"
   },
   {
    "duration": 2,
    "start_time": "2024-11-11T23:29:01.787Z"
   },
   {
    "duration": 548,
    "start_time": "2024-11-11T23:29:51.782Z"
   },
   {
    "duration": 152,
    "start_time": "2024-11-11T23:29:52.332Z"
   },
   {
    "duration": 74,
    "start_time": "2024-11-11T23:29:52.486Z"
   },
   {
    "duration": 44,
    "start_time": "2024-11-11T23:29:52.562Z"
   },
   {
    "duration": 27,
    "start_time": "2024-11-11T23:29:52.609Z"
   },
   {
    "duration": 20,
    "start_time": "2024-11-11T23:29:52.638Z"
   },
   {
    "duration": 3,
    "start_time": "2024-11-11T23:29:52.660Z"
   },
   {
    "duration": 2,
    "start_time": "2024-11-11T23:29:52.665Z"
   },
   {
    "duration": 3,
    "start_time": "2024-11-11T23:29:52.669Z"
   },
   {
    "duration": 3,
    "start_time": "2024-11-11T23:29:52.674Z"
   },
   {
    "duration": 3,
    "start_time": "2024-11-11T23:29:52.678Z"
   },
   {
    "duration": 2,
    "start_time": "2024-11-11T23:29:52.683Z"
   },
   {
    "duration": 3,
    "start_time": "2024-11-11T23:29:52.724Z"
   },
   {
    "duration": 4,
    "start_time": "2024-11-11T23:29:52.732Z"
   },
   {
    "duration": 3,
    "start_time": "2024-11-11T23:29:52.737Z"
   },
   {
    "duration": 3,
    "start_time": "2024-11-11T23:29:52.741Z"
   },
   {
    "duration": 3,
    "start_time": "2024-11-11T23:29:52.746Z"
   },
   {
    "duration": 3,
    "start_time": "2024-11-11T23:29:52.750Z"
   },
   {
    "duration": 2,
    "start_time": "2024-11-11T23:29:52.755Z"
   },
   {
    "duration": 2,
    "start_time": "2024-11-11T23:29:52.759Z"
   },
   {
    "duration": 2,
    "start_time": "2024-11-11T23:29:52.763Z"
   },
   {
    "duration": 3,
    "start_time": "2024-11-11T23:29:52.767Z"
   },
   {
    "duration": 2,
    "start_time": "2024-11-11T23:29:52.772Z"
   },
   {
    "duration": 2,
    "start_time": "2024-11-11T23:29:52.777Z"
   },
   {
    "duration": 4,
    "start_time": "2024-11-11T23:29:52.825Z"
   },
   {
    "duration": 4,
    "start_time": "2024-11-11T23:29:52.831Z"
   },
   {
    "duration": 3,
    "start_time": "2024-11-11T23:29:52.836Z"
   },
   {
    "duration": 2,
    "start_time": "2024-11-11T23:29:52.841Z"
   },
   {
    "duration": 3,
    "start_time": "2024-11-11T23:29:52.845Z"
   },
   {
    "duration": 2,
    "start_time": "2024-11-11T23:29:52.850Z"
   },
   {
    "duration": 3,
    "start_time": "2024-11-11T23:29:52.854Z"
   },
   {
    "duration": 2,
    "start_time": "2024-11-11T23:29:52.859Z"
   },
   {
    "duration": 12,
    "start_time": "2024-11-11T23:31:28.874Z"
   },
   {
    "duration": 11,
    "start_time": "2024-11-11T23:31:45.726Z"
   },
   {
    "duration": 433,
    "start_time": "2024-11-11T23:32:27.313Z"
   },
   {
    "duration": 114,
    "start_time": "2024-11-11T23:32:27.749Z"
   },
   {
    "duration": 65,
    "start_time": "2024-11-11T23:32:27.865Z"
   },
   {
    "duration": 40,
    "start_time": "2024-11-11T23:32:27.936Z"
   },
   {
    "duration": 8,
    "start_time": "2024-11-11T23:32:27.978Z"
   },
   {
    "duration": 10,
    "start_time": "2024-11-11T23:32:27.988Z"
   },
   {
    "duration": 24,
    "start_time": "2024-11-11T23:32:28.000Z"
   },
   {
    "duration": 3,
    "start_time": "2024-11-11T23:32:28.026Z"
   },
   {
    "duration": 2,
    "start_time": "2024-11-11T23:32:28.033Z"
   },
   {
    "duration": 2,
    "start_time": "2024-11-11T23:32:28.039Z"
   },
   {
    "duration": 2,
    "start_time": "2024-11-11T23:32:28.044Z"
   },
   {
    "duration": 3,
    "start_time": "2024-11-11T23:32:28.047Z"
   },
   {
    "duration": 2,
    "start_time": "2024-11-11T23:32:28.052Z"
   },
   {
    "duration": 2,
    "start_time": "2024-11-11T23:32:28.056Z"
   },
   {
    "duration": 2,
    "start_time": "2024-11-11T23:32:28.060Z"
   },
   {
    "duration": 3,
    "start_time": "2024-11-11T23:32:28.064Z"
   },
   {
    "duration": 3,
    "start_time": "2024-11-11T23:32:28.069Z"
   },
   {
    "duration": 2,
    "start_time": "2024-11-11T23:32:28.073Z"
   },
   {
    "duration": 51,
    "start_time": "2024-11-11T23:32:28.077Z"
   },
   {
    "duration": 2,
    "start_time": "2024-11-11T23:32:28.130Z"
   },
   {
    "duration": 4,
    "start_time": "2024-11-11T23:32:28.134Z"
   },
   {
    "duration": 3,
    "start_time": "2024-11-11T23:32:28.139Z"
   },
   {
    "duration": 3,
    "start_time": "2024-11-11T23:32:28.144Z"
   },
   {
    "duration": 2,
    "start_time": "2024-11-11T23:32:28.149Z"
   },
   {
    "duration": 3,
    "start_time": "2024-11-11T23:32:28.153Z"
   },
   {
    "duration": 3,
    "start_time": "2024-11-11T23:32:28.157Z"
   },
   {
    "duration": 2,
    "start_time": "2024-11-11T23:32:28.162Z"
   },
   {
    "duration": 2,
    "start_time": "2024-11-11T23:32:28.169Z"
   },
   {
    "duration": 3,
    "start_time": "2024-11-11T23:32:28.172Z"
   },
   {
    "duration": 3,
    "start_time": "2024-11-11T23:32:28.177Z"
   },
   {
    "duration": 5,
    "start_time": "2024-11-11T23:32:28.225Z"
   },
   {
    "duration": 4,
    "start_time": "2024-11-11T23:32:28.231Z"
   },
   {
    "duration": 159,
    "start_time": "2024-11-12T00:43:22.791Z"
   },
   {
    "duration": 2267,
    "start_time": "2024-11-12T00:43:32.230Z"
   },
   {
    "duration": 119,
    "start_time": "2024-11-12T00:43:34.499Z"
   },
   {
    "duration": 93,
    "start_time": "2024-11-12T00:43:34.625Z"
   },
   {
    "duration": 69,
    "start_time": "2024-11-12T00:43:34.721Z"
   },
   {
    "duration": 11,
    "start_time": "2024-11-12T00:43:34.792Z"
   },
   {
    "duration": 14,
    "start_time": "2024-11-12T00:43:34.805Z"
   },
   {
    "duration": 9,
    "start_time": "2024-11-12T00:43:34.820Z"
   },
   {
    "duration": 221,
    "start_time": "2024-11-12T00:43:34.830Z"
   },
   {
    "duration": 0,
    "start_time": "2024-11-12T00:43:35.054Z"
   },
   {
    "duration": 0,
    "start_time": "2024-11-12T00:43:35.056Z"
   },
   {
    "duration": 0,
    "start_time": "2024-11-12T00:43:35.057Z"
   },
   {
    "duration": 0,
    "start_time": "2024-11-12T00:43:35.059Z"
   },
   {
    "duration": 0,
    "start_time": "2024-11-12T00:43:35.060Z"
   },
   {
    "duration": 0,
    "start_time": "2024-11-12T00:43:35.062Z"
   },
   {
    "duration": 0,
    "start_time": "2024-11-12T00:43:35.063Z"
   },
   {
    "duration": 0,
    "start_time": "2024-11-12T00:43:35.064Z"
   },
   {
    "duration": 0,
    "start_time": "2024-11-12T00:43:35.066Z"
   },
   {
    "duration": 0,
    "start_time": "2024-11-12T00:43:35.067Z"
   },
   {
    "duration": 0,
    "start_time": "2024-11-12T00:43:35.068Z"
   },
   {
    "duration": 0,
    "start_time": "2024-11-12T00:43:35.070Z"
   },
   {
    "duration": 0,
    "start_time": "2024-11-12T00:43:35.071Z"
   },
   {
    "duration": 0,
    "start_time": "2024-11-12T00:43:35.142Z"
   },
   {
    "duration": 0,
    "start_time": "2024-11-12T00:43:35.143Z"
   },
   {
    "duration": 0,
    "start_time": "2024-11-12T00:43:35.144Z"
   },
   {
    "duration": 0,
    "start_time": "2024-11-12T00:43:35.146Z"
   },
   {
    "duration": 0,
    "start_time": "2024-11-12T00:43:35.147Z"
   },
   {
    "duration": 0,
    "start_time": "2024-11-12T00:43:35.147Z"
   },
   {
    "duration": 0,
    "start_time": "2024-11-12T00:43:35.149Z"
   },
   {
    "duration": 0,
    "start_time": "2024-11-12T00:43:35.149Z"
   },
   {
    "duration": 0,
    "start_time": "2024-11-12T00:43:35.150Z"
   },
   {
    "duration": 0,
    "start_time": "2024-11-12T00:43:35.151Z"
   },
   {
    "duration": 0,
    "start_time": "2024-11-12T00:43:35.152Z"
   },
   {
    "duration": 227,
    "start_time": "2024-11-12T00:45:15.078Z"
   },
   {
    "duration": 4,
    "start_time": "2024-11-12T00:45:27.129Z"
   },
   {
    "duration": 7,
    "start_time": "2024-11-12T00:45:44.336Z"
   },
   {
    "duration": 6,
    "start_time": "2024-11-12T00:49:48.109Z"
   },
   {
    "duration": 8,
    "start_time": "2024-11-12T00:50:24.477Z"
   },
   {
    "duration": 8,
    "start_time": "2024-11-12T00:51:07.774Z"
   },
   {
    "duration": 11,
    "start_time": "2024-11-12T00:51:32.265Z"
   },
   {
    "duration": 15,
    "start_time": "2024-11-12T00:52:02.394Z"
   },
   {
    "duration": 10,
    "start_time": "2024-11-12T00:52:16.269Z"
   },
   {
    "duration": 12,
    "start_time": "2024-11-12T00:53:06.677Z"
   },
   {
    "duration": 14,
    "start_time": "2024-11-12T00:53:24.532Z"
   },
   {
    "duration": 12,
    "start_time": "2024-11-12T00:53:43.842Z"
   },
   {
    "duration": 8,
    "start_time": "2024-11-12T00:54:24.262Z"
   },
   {
    "duration": 2233,
    "start_time": "2024-11-12T01:57:18.131Z"
   },
   {
    "duration": 95,
    "start_time": "2024-11-12T01:57:20.368Z"
   },
   {
    "duration": 82,
    "start_time": "2024-11-12T01:57:20.465Z"
   },
   {
    "duration": 47,
    "start_time": "2024-11-12T01:57:20.550Z"
   },
   {
    "duration": 8,
    "start_time": "2024-11-12T01:57:20.599Z"
   },
   {
    "duration": 9,
    "start_time": "2024-11-12T01:57:20.609Z"
   },
   {
    "duration": 8,
    "start_time": "2024-11-12T01:57:20.624Z"
   },
   {
    "duration": 5,
    "start_time": "2024-11-12T01:57:20.634Z"
   },
   {
    "duration": 8,
    "start_time": "2024-11-12T01:57:20.641Z"
   },
   {
    "duration": 4,
    "start_time": "2024-11-12T01:57:20.653Z"
   },
   {
    "duration": 11,
    "start_time": "2024-11-12T01:57:20.659Z"
   },
   {
    "duration": 8,
    "start_time": "2024-11-12T01:57:20.672Z"
   },
   {
    "duration": 42,
    "start_time": "2024-11-12T01:57:20.682Z"
   },
   {
    "duration": 8,
    "start_time": "2024-11-12T01:57:20.726Z"
   },
   {
    "duration": 2,
    "start_time": "2024-11-12T01:57:20.735Z"
   },
   {
    "duration": 2,
    "start_time": "2024-11-12T01:57:20.739Z"
   },
   {
    "duration": 2,
    "start_time": "2024-11-12T01:57:20.743Z"
   },
   {
    "duration": 3,
    "start_time": "2024-11-12T01:57:20.747Z"
   },
   {
    "duration": 3,
    "start_time": "2024-11-12T01:57:20.751Z"
   },
   {
    "duration": 3,
    "start_time": "2024-11-12T01:57:20.755Z"
   },
   {
    "duration": 3,
    "start_time": "2024-11-12T01:57:20.760Z"
   },
   {
    "duration": 3,
    "start_time": "2024-11-12T01:57:20.764Z"
   },
   {
    "duration": 4,
    "start_time": "2024-11-12T01:57:20.768Z"
   },
   {
    "duration": 3,
    "start_time": "2024-11-12T01:57:20.773Z"
   },
   {
    "duration": 2,
    "start_time": "2024-11-12T01:57:20.825Z"
   },
   {
    "duration": 3,
    "start_time": "2024-11-12T01:57:20.828Z"
   },
   {
    "duration": 3,
    "start_time": "2024-11-12T01:57:20.833Z"
   },
   {
    "duration": 2,
    "start_time": "2024-11-12T01:57:20.839Z"
   },
   {
    "duration": 2,
    "start_time": "2024-11-12T01:57:20.843Z"
   },
   {
    "duration": 3,
    "start_time": "2024-11-12T01:57:20.846Z"
   },
   {
    "duration": 2,
    "start_time": "2024-11-12T01:57:20.851Z"
   },
   {
    "duration": 2,
    "start_time": "2024-11-12T01:57:20.855Z"
   },
   {
    "duration": 12,
    "start_time": "2024-11-12T01:59:24.126Z"
   },
   {
    "duration": 9,
    "start_time": "2024-11-12T01:59:47.102Z"
   },
   {
    "duration": 12,
    "start_time": "2024-11-12T02:08:12.979Z"
   },
   {
    "duration": 7,
    "start_time": "2024-11-12T02:08:21.493Z"
   },
   {
    "duration": 185,
    "start_time": "2024-11-12T02:12:32.384Z"
   },
   {
    "duration": 414,
    "start_time": "2024-11-12T02:13:12.830Z"
   },
   {
    "duration": 521,
    "start_time": "2024-11-12T02:14:15.603Z"
   },
   {
    "duration": 138,
    "start_time": "2024-11-12T02:14:16.126Z"
   },
   {
    "duration": 81,
    "start_time": "2024-11-12T02:14:16.265Z"
   },
   {
    "duration": 52,
    "start_time": "2024-11-12T02:14:16.349Z"
   },
   {
    "duration": 20,
    "start_time": "2024-11-12T02:14:16.404Z"
   },
   {
    "duration": 10,
    "start_time": "2024-11-12T02:14:16.426Z"
   },
   {
    "duration": 9,
    "start_time": "2024-11-12T02:14:16.438Z"
   },
   {
    "duration": 6,
    "start_time": "2024-11-12T02:14:16.450Z"
   },
   {
    "duration": 10,
    "start_time": "2024-11-12T02:14:16.457Z"
   },
   {
    "duration": 6,
    "start_time": "2024-11-12T02:14:16.469Z"
   },
   {
    "duration": 13,
    "start_time": "2024-11-12T02:14:16.477Z"
   },
   {
    "duration": 8,
    "start_time": "2024-11-12T02:14:16.524Z"
   },
   {
    "duration": 12,
    "start_time": "2024-11-12T02:14:16.534Z"
   },
   {
    "duration": 7,
    "start_time": "2024-11-12T02:14:16.550Z"
   },
   {
    "duration": 14,
    "start_time": "2024-11-12T02:14:16.559Z"
   },
   {
    "duration": 11,
    "start_time": "2024-11-12T02:14:16.576Z"
   },
   {
    "duration": 4,
    "start_time": "2024-11-12T02:14:16.590Z"
   },
   {
    "duration": 30,
    "start_time": "2024-11-12T02:14:16.596Z"
   },
   {
    "duration": 955,
    "start_time": "2024-11-12T02:14:16.628Z"
   },
   {
    "duration": 0,
    "start_time": "2024-11-12T02:14:17.585Z"
   },
   {
    "duration": 0,
    "start_time": "2024-11-12T02:14:17.588Z"
   },
   {
    "duration": 0,
    "start_time": "2024-11-12T02:14:17.591Z"
   },
   {
    "duration": 0,
    "start_time": "2024-11-12T02:14:17.594Z"
   },
   {
    "duration": 0,
    "start_time": "2024-11-12T02:14:17.595Z"
   },
   {
    "duration": 0,
    "start_time": "2024-11-12T02:14:17.597Z"
   },
   {
    "duration": 0,
    "start_time": "2024-11-12T02:14:17.598Z"
   },
   {
    "duration": 0,
    "start_time": "2024-11-12T02:14:17.601Z"
   },
   {
    "duration": 0,
    "start_time": "2024-11-12T02:14:17.603Z"
   },
   {
    "duration": 0,
    "start_time": "2024-11-12T02:14:17.604Z"
   },
   {
    "duration": 0,
    "start_time": "2024-11-12T02:14:17.605Z"
   },
   {
    "duration": 0,
    "start_time": "2024-11-12T02:14:17.607Z"
   },
   {
    "duration": 0,
    "start_time": "2024-11-12T02:14:17.624Z"
   },
   {
    "duration": 0,
    "start_time": "2024-11-12T02:14:17.625Z"
   },
   {
    "duration": 8,
    "start_time": "2024-11-12T02:15:34.276Z"
   },
   {
    "duration": 7,
    "start_time": "2024-11-12T02:26:30.303Z"
   },
   {
    "duration": 8,
    "start_time": "2024-11-12T02:30:19.204Z"
   },
   {
    "duration": 157,
    "start_time": "2024-11-12T22:11:25.857Z"
   },
   {
    "duration": 2128,
    "start_time": "2024-11-12T22:11:36.646Z"
   },
   {
    "duration": 93,
    "start_time": "2024-11-12T22:11:38.777Z"
   },
   {
    "duration": 77,
    "start_time": "2024-11-12T22:11:38.872Z"
   },
   {
    "duration": 49,
    "start_time": "2024-11-12T22:11:38.951Z"
   },
   {
    "duration": 8,
    "start_time": "2024-11-12T22:11:39.002Z"
   },
   {
    "duration": 10,
    "start_time": "2024-11-12T22:11:39.012Z"
   },
   {
    "duration": 8,
    "start_time": "2024-11-12T22:11:39.023Z"
   },
   {
    "duration": 6,
    "start_time": "2024-11-12T22:11:39.032Z"
   },
   {
    "duration": 7,
    "start_time": "2024-11-12T22:11:39.039Z"
   },
   {
    "duration": 28,
    "start_time": "2024-11-12T22:11:39.047Z"
   },
   {
    "duration": 12,
    "start_time": "2024-11-12T22:11:39.076Z"
   },
   {
    "duration": 7,
    "start_time": "2024-11-12T22:11:39.089Z"
   },
   {
    "duration": 8,
    "start_time": "2024-11-12T22:11:39.098Z"
   },
   {
    "duration": 6,
    "start_time": "2024-11-12T22:11:39.111Z"
   },
   {
    "duration": 10,
    "start_time": "2024-11-12T22:11:39.119Z"
   },
   {
    "duration": 45,
    "start_time": "2024-11-12T22:11:39.130Z"
   },
   {
    "duration": 2,
    "start_time": "2024-11-12T22:11:39.177Z"
   },
   {
    "duration": 6,
    "start_time": "2024-11-12T22:11:39.181Z"
   },
   {
    "duration": 572,
    "start_time": "2024-11-12T22:11:39.188Z"
   },
   {
    "duration": 0,
    "start_time": "2024-11-12T22:11:39.762Z"
   },
   {
    "duration": 0,
    "start_time": "2024-11-12T22:11:39.763Z"
   },
   {
    "duration": 0,
    "start_time": "2024-11-12T22:11:39.764Z"
   },
   {
    "duration": 0,
    "start_time": "2024-11-12T22:11:39.770Z"
   },
   {
    "duration": 0,
    "start_time": "2024-11-12T22:11:39.771Z"
   },
   {
    "duration": 0,
    "start_time": "2024-11-12T22:11:39.771Z"
   },
   {
    "duration": 0,
    "start_time": "2024-11-12T22:11:39.772Z"
   },
   {
    "duration": 0,
    "start_time": "2024-11-12T22:11:39.773Z"
   },
   {
    "duration": 0,
    "start_time": "2024-11-12T22:11:39.774Z"
   },
   {
    "duration": 0,
    "start_time": "2024-11-12T22:11:39.775Z"
   },
   {
    "duration": 0,
    "start_time": "2024-11-12T22:11:39.776Z"
   },
   {
    "duration": 0,
    "start_time": "2024-11-12T22:11:39.777Z"
   },
   {
    "duration": 0,
    "start_time": "2024-11-12T22:11:39.779Z"
   },
   {
    "duration": 0,
    "start_time": "2024-11-12T22:11:39.779Z"
   },
   {
    "duration": 0,
    "start_time": "2024-11-12T22:11:39.781Z"
   },
   {
    "duration": 0,
    "start_time": "2024-11-12T22:11:39.782Z"
   },
   {
    "duration": 98,
    "start_time": "2024-11-12T22:13:30.929Z"
   },
   {
    "duration": 7,
    "start_time": "2024-11-12T22:15:44.007Z"
   },
   {
    "duration": 8,
    "start_time": "2024-11-12T22:16:11.442Z"
   },
   {
    "duration": 11,
    "start_time": "2024-11-12T22:16:32.371Z"
   },
   {
    "duration": 10,
    "start_time": "2024-11-12T22:17:18.748Z"
   },
   {
    "duration": 11,
    "start_time": "2024-11-12T22:17:37.050Z"
   },
   {
    "duration": 40,
    "start_time": "2024-11-12T22:17:45.640Z"
   },
   {
    "duration": 6,
    "start_time": "2024-11-12T22:18:47.619Z"
   },
   {
    "duration": 40,
    "start_time": "2024-11-12T22:26:55.744Z"
   },
   {
    "duration": 7,
    "start_time": "2024-11-12T22:28:25.805Z"
   },
   {
    "duration": 41,
    "start_time": "2024-11-12T22:31:32.392Z"
   },
   {
    "duration": 7,
    "start_time": "2024-11-12T22:35:01.748Z"
   },
   {
    "duration": 422,
    "start_time": "2024-11-12T22:35:11.017Z"
   },
   {
    "duration": 106,
    "start_time": "2024-11-12T22:35:11.441Z"
   },
   {
    "duration": 63,
    "start_time": "2024-11-12T22:35:11.548Z"
   },
   {
    "duration": 37,
    "start_time": "2024-11-12T22:35:11.613Z"
   },
   {
    "duration": 17,
    "start_time": "2024-11-12T22:35:11.654Z"
   },
   {
    "duration": 9,
    "start_time": "2024-11-12T22:35:11.672Z"
   },
   {
    "duration": 8,
    "start_time": "2024-11-12T22:35:11.682Z"
   },
   {
    "duration": 6,
    "start_time": "2024-11-12T22:35:11.691Z"
   },
   {
    "duration": 7,
    "start_time": "2024-11-12T22:35:11.699Z"
   },
   {
    "duration": 6,
    "start_time": "2024-11-12T22:35:11.707Z"
   },
   {
    "duration": 12,
    "start_time": "2024-11-12T22:35:11.715Z"
   },
   {
    "duration": 45,
    "start_time": "2024-11-12T22:35:11.728Z"
   },
   {
    "duration": 9,
    "start_time": "2024-11-12T22:35:11.775Z"
   },
   {
    "duration": 6,
    "start_time": "2024-11-12T22:35:11.787Z"
   },
   {
    "duration": 10,
    "start_time": "2024-11-12T22:35:11.794Z"
   },
   {
    "duration": 7,
    "start_time": "2024-11-12T22:35:11.805Z"
   },
   {
    "duration": 2,
    "start_time": "2024-11-12T22:35:11.814Z"
   },
   {
    "duration": 6,
    "start_time": "2024-11-12T22:35:11.818Z"
   },
   {
    "duration": 604,
    "start_time": "2024-11-12T22:35:11.825Z"
   },
   {
    "duration": 0,
    "start_time": "2024-11-12T22:35:12.431Z"
   },
   {
    "duration": 0,
    "start_time": "2024-11-12T22:35:12.433Z"
   },
   {
    "duration": 0,
    "start_time": "2024-11-12T22:35:12.434Z"
   },
   {
    "duration": 0,
    "start_time": "2024-11-12T22:35:12.436Z"
   },
   {
    "duration": 0,
    "start_time": "2024-11-12T22:35:12.438Z"
   },
   {
    "duration": 0,
    "start_time": "2024-11-12T22:35:12.439Z"
   },
   {
    "duration": 0,
    "start_time": "2024-11-12T22:35:12.441Z"
   },
   {
    "duration": 0,
    "start_time": "2024-11-12T22:35:12.442Z"
   },
   {
    "duration": 0,
    "start_time": "2024-11-12T22:35:12.444Z"
   },
   {
    "duration": 0,
    "start_time": "2024-11-12T22:35:12.445Z"
   },
   {
    "duration": 0,
    "start_time": "2024-11-12T22:35:12.470Z"
   },
   {
    "duration": 0,
    "start_time": "2024-11-12T22:35:12.471Z"
   },
   {
    "duration": 0,
    "start_time": "2024-11-12T22:35:12.472Z"
   },
   {
    "duration": 0,
    "start_time": "2024-11-12T22:35:12.474Z"
   },
   {
    "duration": 0,
    "start_time": "2024-11-12T22:35:12.475Z"
   },
   {
    "duration": 0,
    "start_time": "2024-11-12T22:35:12.476Z"
   },
   {
    "duration": 7,
    "start_time": "2024-11-12T22:35:37.234Z"
   },
   {
    "duration": 7,
    "start_time": "2024-11-12T23:05:12.637Z"
   },
   {
    "duration": 7,
    "start_time": "2024-11-12T23:05:21.472Z"
   },
   {
    "duration": 769,
    "start_time": "2024-11-12T23:22:40.037Z"
   },
   {
    "duration": 74,
    "start_time": "2024-11-12T23:22:40.808Z"
   },
   {
    "duration": 58,
    "start_time": "2024-11-12T23:22:40.884Z"
   },
   {
    "duration": 49,
    "start_time": "2024-11-12T23:22:40.944Z"
   },
   {
    "duration": 6,
    "start_time": "2024-11-12T23:22:40.996Z"
   },
   {
    "duration": 9,
    "start_time": "2024-11-12T23:22:41.004Z"
   },
   {
    "duration": 8,
    "start_time": "2024-11-12T23:22:41.015Z"
   },
   {
    "duration": 6,
    "start_time": "2024-11-12T23:22:41.024Z"
   },
   {
    "duration": 7,
    "start_time": "2024-11-12T23:22:41.031Z"
   },
   {
    "duration": 33,
    "start_time": "2024-11-12T23:22:41.040Z"
   },
   {
    "duration": 10,
    "start_time": "2024-11-12T23:22:41.075Z"
   },
   {
    "duration": 8,
    "start_time": "2024-11-12T23:22:41.087Z"
   },
   {
    "duration": 9,
    "start_time": "2024-11-12T23:22:41.097Z"
   },
   {
    "duration": 6,
    "start_time": "2024-11-12T23:22:41.110Z"
   },
   {
    "duration": 10,
    "start_time": "2024-11-12T23:22:41.119Z"
   },
   {
    "duration": 47,
    "start_time": "2024-11-12T23:22:41.130Z"
   },
   {
    "duration": 2,
    "start_time": "2024-11-12T23:22:41.179Z"
   },
   {
    "duration": 7,
    "start_time": "2024-11-12T23:22:41.183Z"
   },
   {
    "duration": 708,
    "start_time": "2024-11-12T23:22:41.191Z"
   },
   {
    "duration": 0,
    "start_time": "2024-11-12T23:22:41.901Z"
   },
   {
    "duration": 0,
    "start_time": "2024-11-12T23:22:41.903Z"
   },
   {
    "duration": 0,
    "start_time": "2024-11-12T23:22:41.904Z"
   },
   {
    "duration": 1,
    "start_time": "2024-11-12T23:22:41.905Z"
   },
   {
    "duration": 0,
    "start_time": "2024-11-12T23:22:41.907Z"
   },
   {
    "duration": 0,
    "start_time": "2024-11-12T23:22:41.908Z"
   },
   {
    "duration": 0,
    "start_time": "2024-11-12T23:22:41.910Z"
   },
   {
    "duration": 0,
    "start_time": "2024-11-12T23:22:41.911Z"
   },
   {
    "duration": 0,
    "start_time": "2024-11-12T23:22:41.913Z"
   },
   {
    "duration": 0,
    "start_time": "2024-11-12T23:22:41.914Z"
   },
   {
    "duration": 0,
    "start_time": "2024-11-12T23:22:41.915Z"
   },
   {
    "duration": 0,
    "start_time": "2024-11-12T23:22:41.916Z"
   },
   {
    "duration": 0,
    "start_time": "2024-11-12T23:22:41.917Z"
   },
   {
    "duration": 0,
    "start_time": "2024-11-12T23:22:41.918Z"
   },
   {
    "duration": 0,
    "start_time": "2024-11-12T23:22:41.918Z"
   },
   {
    "duration": 0,
    "start_time": "2024-11-12T23:22:41.919Z"
   },
   {
    "duration": 234,
    "start_time": "2024-11-12T23:22:56.914Z"
   },
   {
    "duration": 70,
    "start_time": "2024-11-12T23:23:12.591Z"
   },
   {
    "duration": 69,
    "start_time": "2024-11-12T23:24:10.401Z"
   },
   {
    "duration": 59,
    "start_time": "2024-11-12T23:24:36.109Z"
   },
   {
    "duration": 37,
    "start_time": "2024-11-12T23:24:53.609Z"
   },
   {
    "duration": 6,
    "start_time": "2024-11-12T23:25:01.873Z"
   },
   {
    "duration": 8,
    "start_time": "2024-11-12T23:25:11.846Z"
   },
   {
    "duration": 12,
    "start_time": "2024-11-12T23:25:46.191Z"
   },
   {
    "duration": 5,
    "start_time": "2024-11-12T23:32:21.224Z"
   },
   {
    "duration": 7,
    "start_time": "2024-11-12T23:32:29.037Z"
   },
   {
    "duration": 162,
    "start_time": "2024-11-14T23:33:56.959Z"
   },
   {
    "duration": 2593,
    "start_time": "2024-11-14T23:34:09.312Z"
   },
   {
    "duration": 93,
    "start_time": "2024-11-14T23:34:11.908Z"
   },
   {
    "duration": 76,
    "start_time": "2024-11-14T23:34:12.002Z"
   },
   {
    "duration": 47,
    "start_time": "2024-11-14T23:34:12.081Z"
   },
   {
    "duration": 7,
    "start_time": "2024-11-14T23:34:12.130Z"
   },
   {
    "duration": 9,
    "start_time": "2024-11-14T23:34:12.139Z"
   },
   {
    "duration": 7,
    "start_time": "2024-11-14T23:34:12.150Z"
   },
   {
    "duration": 7,
    "start_time": "2024-11-14T23:34:12.159Z"
   },
   {
    "duration": 7,
    "start_time": "2024-11-14T23:34:12.167Z"
   },
   {
    "duration": 5,
    "start_time": "2024-11-14T23:34:12.177Z"
   },
   {
    "duration": 34,
    "start_time": "2024-11-14T23:34:12.184Z"
   },
   {
    "duration": 7,
    "start_time": "2024-11-14T23:34:12.220Z"
   },
   {
    "duration": 9,
    "start_time": "2024-11-14T23:34:12.229Z"
   },
   {
    "duration": 8,
    "start_time": "2024-11-14T23:34:12.239Z"
   },
   {
    "duration": 11,
    "start_time": "2024-11-14T23:34:12.248Z"
   },
   {
    "duration": 7,
    "start_time": "2024-11-14T23:34:12.261Z"
   },
   {
    "duration": 2,
    "start_time": "2024-11-14T23:34:12.270Z"
   },
   {
    "duration": 7,
    "start_time": "2024-11-14T23:34:12.312Z"
   },
   {
    "duration": 619,
    "start_time": "2024-11-14T23:34:12.321Z"
   },
   {
    "duration": 0,
    "start_time": "2024-11-14T23:34:12.942Z"
   },
   {
    "duration": 0,
    "start_time": "2024-11-14T23:34:12.943Z"
   },
   {
    "duration": 0,
    "start_time": "2024-11-14T23:34:12.944Z"
   },
   {
    "duration": 0,
    "start_time": "2024-11-14T23:34:12.945Z"
   },
   {
    "duration": 0,
    "start_time": "2024-11-14T23:34:12.946Z"
   },
   {
    "duration": 0,
    "start_time": "2024-11-14T23:34:12.948Z"
   },
   {
    "duration": 0,
    "start_time": "2024-11-14T23:34:12.949Z"
   },
   {
    "duration": 0,
    "start_time": "2024-11-14T23:34:12.951Z"
   },
   {
    "duration": 0,
    "start_time": "2024-11-14T23:34:12.953Z"
   },
   {
    "duration": 0,
    "start_time": "2024-11-14T23:34:12.954Z"
   },
   {
    "duration": 0,
    "start_time": "2024-11-14T23:34:12.955Z"
   },
   {
    "duration": 0,
    "start_time": "2024-11-14T23:34:12.956Z"
   },
   {
    "duration": 0,
    "start_time": "2024-11-14T23:34:12.957Z"
   },
   {
    "duration": 0,
    "start_time": "2024-11-14T23:34:12.958Z"
   },
   {
    "duration": 0,
    "start_time": "2024-11-14T23:34:12.959Z"
   },
   {
    "duration": 0,
    "start_time": "2024-11-14T23:34:12.960Z"
   },
   {
    "duration": 1,
    "start_time": "2024-11-14T23:34:12.961Z"
   },
   {
    "duration": 6,
    "start_time": "2024-11-14T23:34:21.441Z"
   },
   {
    "duration": 164,
    "start_time": "2024-11-15T01:34:16.770Z"
   },
   {
    "duration": 2538,
    "start_time": "2024-11-15T01:34:25.795Z"
   },
   {
    "duration": 95,
    "start_time": "2024-11-15T01:34:28.336Z"
   },
   {
    "duration": 73,
    "start_time": "2024-11-15T01:34:28.433Z"
   },
   {
    "duration": 54,
    "start_time": "2024-11-15T01:34:28.508Z"
   },
   {
    "duration": 9,
    "start_time": "2024-11-15T01:34:28.564Z"
   },
   {
    "duration": 10,
    "start_time": "2024-11-15T01:34:28.575Z"
   },
   {
    "duration": 7,
    "start_time": "2024-11-15T01:34:28.587Z"
   },
   {
    "duration": 8,
    "start_time": "2024-11-15T01:34:28.596Z"
   },
   {
    "duration": 7,
    "start_time": "2024-11-15T01:34:28.605Z"
   },
   {
    "duration": 6,
    "start_time": "2024-11-15T01:34:28.614Z"
   },
   {
    "duration": 15,
    "start_time": "2024-11-15T01:34:28.621Z"
   },
   {
    "duration": 8,
    "start_time": "2024-11-15T01:34:28.637Z"
   },
   {
    "duration": 9,
    "start_time": "2024-11-15T01:34:28.647Z"
   },
   {
    "duration": 6,
    "start_time": "2024-11-15T01:34:28.657Z"
   },
   {
    "duration": 10,
    "start_time": "2024-11-15T01:34:28.665Z"
   },
   {
    "duration": 7,
    "start_time": "2024-11-15T01:34:28.712Z"
   },
   {
    "duration": 2,
    "start_time": "2024-11-15T01:34:28.721Z"
   },
   {
    "duration": 9,
    "start_time": "2024-11-15T01:34:28.725Z"
   },
   {
    "duration": 35,
    "start_time": "2024-11-15T01:34:28.736Z"
   },
   {
    "duration": 577,
    "start_time": "2024-11-15T01:34:28.772Z"
   },
   {
    "duration": 0,
    "start_time": "2024-11-15T01:34:29.351Z"
   },
   {
    "duration": 0,
    "start_time": "2024-11-15T01:34:29.353Z"
   },
   {
    "duration": 0,
    "start_time": "2024-11-15T01:34:29.354Z"
   },
   {
    "duration": 0,
    "start_time": "2024-11-15T01:34:29.356Z"
   },
   {
    "duration": 0,
    "start_time": "2024-11-15T01:34:29.357Z"
   },
   {
    "duration": 0,
    "start_time": "2024-11-15T01:34:29.359Z"
   },
   {
    "duration": 0,
    "start_time": "2024-11-15T01:34:29.361Z"
   },
   {
    "duration": 0,
    "start_time": "2024-11-15T01:34:29.362Z"
   },
   {
    "duration": 0,
    "start_time": "2024-11-15T01:34:29.364Z"
   },
   {
    "duration": 0,
    "start_time": "2024-11-15T01:34:29.365Z"
   },
   {
    "duration": 0,
    "start_time": "2024-11-15T01:34:29.367Z"
   },
   {
    "duration": 0,
    "start_time": "2024-11-15T01:34:29.368Z"
   },
   {
    "duration": 0,
    "start_time": "2024-11-15T01:34:29.370Z"
   },
   {
    "duration": 0,
    "start_time": "2024-11-15T01:34:29.371Z"
   },
   {
    "duration": 0,
    "start_time": "2024-11-15T01:34:29.373Z"
   },
   {
    "duration": 0,
    "start_time": "2024-11-15T01:34:29.374Z"
   },
   {
    "duration": 60,
    "start_time": "2024-11-15T01:34:48.294Z"
   },
   {
    "duration": 37,
    "start_time": "2024-11-15T01:34:55.377Z"
   },
   {
    "duration": 8,
    "start_time": "2024-11-15T01:35:01.966Z"
   },
   {
    "duration": 11,
    "start_time": "2024-11-15T01:35:09.696Z"
   },
   {
    "duration": 73,
    "start_time": "2024-11-15T01:36:04.511Z"
   },
   {
    "duration": 73,
    "start_time": "2024-11-15T01:36:17.386Z"
   },
   {
    "duration": 55,
    "start_time": "2024-11-15T01:36:26.073Z"
   },
   {
    "duration": 800,
    "start_time": "2024-11-15T01:37:09.555Z"
   },
   {
    "duration": 79,
    "start_time": "2024-11-15T01:37:10.358Z"
   },
   {
    "duration": 60,
    "start_time": "2024-11-15T01:37:10.439Z"
   },
   {
    "duration": 46,
    "start_time": "2024-11-15T01:37:10.501Z"
   },
   {
    "duration": 10,
    "start_time": "2024-11-15T01:37:10.549Z"
   },
   {
    "duration": 14,
    "start_time": "2024-11-15T01:37:10.560Z"
   },
   {
    "duration": 9,
    "start_time": "2024-11-15T01:37:14.122Z"
   },
   {
    "duration": 7,
    "start_time": "2024-11-15T01:37:37.360Z"
   },
   {
    "duration": 7,
    "start_time": "2024-11-15T01:37:59.897Z"
   },
   {
    "duration": 7,
    "start_time": "2024-11-15T01:38:19.652Z"
   },
   {
    "duration": 9,
    "start_time": "2024-11-15T01:39:09.724Z"
   },
   {
    "duration": 818,
    "start_time": "2024-11-15T01:39:15.221Z"
   },
   {
    "duration": 80,
    "start_time": "2024-11-15T01:39:16.042Z"
   },
   {
    "duration": 58,
    "start_time": "2024-11-15T01:39:16.124Z"
   },
   {
    "duration": 51,
    "start_time": "2024-11-15T01:39:16.185Z"
   },
   {
    "duration": 9,
    "start_time": "2024-11-15T01:39:16.238Z"
   },
   {
    "duration": 17,
    "start_time": "2024-11-15T01:39:16.249Z"
   },
   {
    "duration": 10,
    "start_time": "2024-11-15T01:39:16.268Z"
   },
   {
    "duration": 32,
    "start_time": "2024-11-15T01:39:16.280Z"
   },
   {
    "duration": 9,
    "start_time": "2024-11-15T01:39:16.314Z"
   },
   {
    "duration": 8,
    "start_time": "2024-11-15T01:39:16.327Z"
   },
   {
    "duration": 15,
    "start_time": "2024-11-15T01:39:16.337Z"
   },
   {
    "duration": 9,
    "start_time": "2024-11-15T01:39:16.354Z"
   },
   {
    "duration": 12,
    "start_time": "2024-11-15T01:39:16.364Z"
   },
   {
    "duration": 42,
    "start_time": "2024-11-15T01:39:16.377Z"
   },
   {
    "duration": 13,
    "start_time": "2024-11-15T01:39:16.421Z"
   },
   {
    "duration": 9,
    "start_time": "2024-11-15T01:39:16.436Z"
   },
   {
    "duration": 3,
    "start_time": "2024-11-15T01:39:16.446Z"
   },
   {
    "duration": 10,
    "start_time": "2024-11-15T01:39:16.450Z"
   },
   {
    "duration": 72,
    "start_time": "2024-11-15T01:39:16.461Z"
   },
   {
    "duration": 555,
    "start_time": "2024-11-15T01:39:16.534Z"
   },
   {
    "duration": 0,
    "start_time": "2024-11-15T01:39:17.091Z"
   },
   {
    "duration": 0,
    "start_time": "2024-11-15T01:39:17.093Z"
   },
   {
    "duration": 0,
    "start_time": "2024-11-15T01:39:17.094Z"
   },
   {
    "duration": 0,
    "start_time": "2024-11-15T01:39:17.095Z"
   },
   {
    "duration": 0,
    "start_time": "2024-11-15T01:39:17.112Z"
   },
   {
    "duration": 0,
    "start_time": "2024-11-15T01:39:17.113Z"
   },
   {
    "duration": 0,
    "start_time": "2024-11-15T01:39:17.113Z"
   },
   {
    "duration": 0,
    "start_time": "2024-11-15T01:39:17.114Z"
   },
   {
    "duration": 0,
    "start_time": "2024-11-15T01:39:17.115Z"
   },
   {
    "duration": 0,
    "start_time": "2024-11-15T01:39:17.116Z"
   },
   {
    "duration": 0,
    "start_time": "2024-11-15T01:39:17.116Z"
   },
   {
    "duration": 0,
    "start_time": "2024-11-15T01:39:17.118Z"
   },
   {
    "duration": 0,
    "start_time": "2024-11-15T01:39:17.119Z"
   },
   {
    "duration": 0,
    "start_time": "2024-11-15T01:39:17.120Z"
   },
   {
    "duration": 0,
    "start_time": "2024-11-15T01:39:17.121Z"
   },
   {
    "duration": 0,
    "start_time": "2024-11-15T01:39:17.122Z"
   },
   {
    "duration": 92,
    "start_time": "2024-11-15T01:42:26.237Z"
   },
   {
    "duration": 812,
    "start_time": "2024-11-15T01:42:46.210Z"
   },
   {
    "duration": 74,
    "start_time": "2024-11-15T01:42:47.024Z"
   },
   {
    "duration": 63,
    "start_time": "2024-11-15T01:42:47.100Z"
   },
   {
    "duration": 50,
    "start_time": "2024-11-15T01:42:47.164Z"
   },
   {
    "duration": 11,
    "start_time": "2024-11-15T01:42:47.217Z"
   },
   {
    "duration": 22,
    "start_time": "2024-11-15T01:42:47.232Z"
   },
   {
    "duration": 10,
    "start_time": "2024-11-15T01:42:47.256Z"
   },
   {
    "duration": 7,
    "start_time": "2024-11-15T01:42:47.267Z"
   },
   {
    "duration": 11,
    "start_time": "2024-11-15T01:42:47.275Z"
   },
   {
    "duration": 30,
    "start_time": "2024-11-15T01:42:47.287Z"
   },
   {
    "duration": 15,
    "start_time": "2024-11-15T01:42:47.319Z"
   },
   {
    "duration": 9,
    "start_time": "2024-11-15T01:42:47.335Z"
   },
   {
    "duration": 13,
    "start_time": "2024-11-15T01:42:47.345Z"
   },
   {
    "duration": 7,
    "start_time": "2024-11-15T01:42:47.360Z"
   },
   {
    "duration": 46,
    "start_time": "2024-11-15T01:42:47.369Z"
   },
   {
    "duration": 9,
    "start_time": "2024-11-15T01:42:47.417Z"
   },
   {
    "duration": 2,
    "start_time": "2024-11-15T01:42:47.428Z"
   },
   {
    "duration": 9,
    "start_time": "2024-11-15T01:42:47.432Z"
   },
   {
    "duration": 592,
    "start_time": "2024-11-15T01:42:47.442Z"
   },
   {
    "duration": 29,
    "start_time": "2024-11-15T01:43:09.792Z"
   },
   {
    "duration": 13,
    "start_time": "2024-11-15T01:46:04.921Z"
   },
   {
    "duration": 92,
    "start_time": "2024-11-15T01:48:33.335Z"
   },
   {
    "duration": 19,
    "start_time": "2024-11-15T01:49:21.928Z"
   },
   {
    "duration": 14,
    "start_time": "2024-11-15T01:55:51.001Z"
   },
   {
    "duration": 832,
    "start_time": "2024-11-15T01:56:07.316Z"
   },
   {
    "duration": 88,
    "start_time": "2024-11-15T01:56:08.150Z"
   },
   {
    "duration": 58,
    "start_time": "2024-11-15T01:56:08.240Z"
   },
   {
    "duration": 39,
    "start_time": "2024-11-15T01:56:08.301Z"
   },
   {
    "duration": 10,
    "start_time": "2024-11-15T01:56:08.342Z"
   },
   {
    "duration": 14,
    "start_time": "2024-11-15T01:56:08.354Z"
   },
   {
    "duration": 9,
    "start_time": "2024-11-15T01:56:08.369Z"
   },
   {
    "duration": 32,
    "start_time": "2024-11-15T01:56:08.380Z"
   },
   {
    "duration": 8,
    "start_time": "2024-11-15T01:56:08.414Z"
   },
   {
    "duration": 8,
    "start_time": "2024-11-15T01:56:08.425Z"
   },
   {
    "duration": 16,
    "start_time": "2024-11-15T01:56:08.434Z"
   },
   {
    "duration": 9,
    "start_time": "2024-11-15T01:56:08.452Z"
   },
   {
    "duration": 2,
    "start_time": "2024-11-15T01:56:08.463Z"
   },
   {
    "duration": 47,
    "start_time": "2024-11-15T01:56:08.466Z"
   },
   {
    "duration": 270,
    "start_time": "2024-11-15T01:59:46.306Z"
   },
   {
    "duration": 9,
    "start_time": "2024-11-15T02:01:47.353Z"
   },
   {
    "duration": 9,
    "start_time": "2024-11-15T02:02:01.326Z"
   },
   {
    "duration": 7,
    "start_time": "2024-11-15T02:02:46.922Z"
   },
   {
    "duration": 7,
    "start_time": "2024-11-15T02:03:07.134Z"
   },
   {
    "duration": 156,
    "start_time": "2024-11-15T22:16:18.565Z"
   },
   {
    "duration": 2518,
    "start_time": "2024-11-15T22:16:29.073Z"
   },
   {
    "duration": 99,
    "start_time": "2024-11-15T22:16:31.593Z"
   },
   {
    "duration": 79,
    "start_time": "2024-11-15T22:16:31.693Z"
   },
   {
    "duration": 49,
    "start_time": "2024-11-15T22:16:31.774Z"
   },
   {
    "duration": 10,
    "start_time": "2024-11-15T22:16:31.826Z"
   },
   {
    "duration": 15,
    "start_time": "2024-11-15T22:16:31.838Z"
   },
   {
    "duration": 8,
    "start_time": "2024-11-15T22:16:31.855Z"
   },
   {
    "duration": 7,
    "start_time": "2024-11-15T22:16:31.864Z"
   },
   {
    "duration": 9,
    "start_time": "2024-11-15T22:16:31.873Z"
   },
   {
    "duration": 10,
    "start_time": "2024-11-15T22:16:31.884Z"
   },
   {
    "duration": 16,
    "start_time": "2024-11-15T22:16:31.923Z"
   },
   {
    "duration": 9,
    "start_time": "2024-11-15T22:16:31.941Z"
   },
   {
    "duration": 2,
    "start_time": "2024-11-15T22:16:31.951Z"
   },
   {
    "duration": 10,
    "start_time": "2024-11-15T22:16:31.958Z"
   },
   {
    "duration": 11,
    "start_time": "2024-11-15T22:16:31.970Z"
   },
   {
    "duration": 43,
    "start_time": "2024-11-15T22:16:31.982Z"
   },
   {
    "duration": 13,
    "start_time": "2024-11-15T22:16:32.026Z"
   },
   {
    "duration": 8,
    "start_time": "2024-11-15T22:16:32.040Z"
   },
   {
    "duration": 3,
    "start_time": "2024-11-15T22:16:32.049Z"
   },
   {
    "duration": 10,
    "start_time": "2024-11-15T22:16:32.053Z"
   },
   {
    "duration": 62,
    "start_time": "2024-11-15T22:16:32.064Z"
   },
   {
    "duration": 21,
    "start_time": "2024-11-15T22:16:32.128Z"
   },
   {
    "duration": 8,
    "start_time": "2024-11-15T22:16:32.151Z"
   },
   {
    "duration": 20,
    "start_time": "2024-11-15T22:16:32.161Z"
   },
   {
    "duration": 9,
    "start_time": "2024-11-15T22:16:32.183Z"
   },
   {
    "duration": 2,
    "start_time": "2024-11-15T22:16:32.225Z"
   },
   {
    "duration": 273,
    "start_time": "2024-11-15T22:16:32.228Z"
   },
   {
    "duration": 0,
    "start_time": "2024-11-15T22:16:32.504Z"
   },
   {
    "duration": 0,
    "start_time": "2024-11-15T22:16:32.506Z"
   },
   {
    "duration": 0,
    "start_time": "2024-11-15T22:16:32.507Z"
   },
   {
    "duration": 0,
    "start_time": "2024-11-15T22:16:32.509Z"
   },
   {
    "duration": 0,
    "start_time": "2024-11-15T22:16:32.510Z"
   },
   {
    "duration": 0,
    "start_time": "2024-11-15T22:16:32.512Z"
   },
   {
    "duration": 0,
    "start_time": "2024-11-15T22:16:32.525Z"
   },
   {
    "duration": 0,
    "start_time": "2024-11-15T22:16:32.526Z"
   },
   {
    "duration": 0,
    "start_time": "2024-11-15T22:16:32.528Z"
   },
   {
    "duration": 0,
    "start_time": "2024-11-15T22:16:32.529Z"
   },
   {
    "duration": 0,
    "start_time": "2024-11-15T22:16:32.531Z"
   },
   {
    "duration": 9,
    "start_time": "2024-11-15T22:17:30.006Z"
   },
   {
    "duration": 15,
    "start_time": "2024-11-15T22:17:52.216Z"
   },
   {
    "duration": 13,
    "start_time": "2024-11-15T22:18:08.515Z"
   },
   {
    "duration": 11,
    "start_time": "2024-11-15T22:18:24.359Z"
   },
   {
    "duration": 10,
    "start_time": "2024-11-15T22:18:50.549Z"
   },
   {
    "duration": 10,
    "start_time": "2024-11-15T22:19:16.141Z"
   },
   {
    "duration": 11,
    "start_time": "2024-11-15T22:19:32.899Z"
   },
   {
    "duration": 409,
    "start_time": "2024-11-15T22:21:01.299Z"
   },
   {
    "duration": 5,
    "start_time": "2024-11-15T22:21:30.724Z"
   },
   {
    "duration": 8,
    "start_time": "2024-11-15T22:21:45.090Z"
   },
   {
    "duration": 7,
    "start_time": "2024-11-15T22:38:15.199Z"
   },
   {
    "duration": 8,
    "start_time": "2024-11-15T22:38:21.396Z"
   },
   {
    "duration": 12,
    "start_time": "2024-11-15T22:44:44.769Z"
   },
   {
    "duration": 161,
    "start_time": "2024-11-15T22:51:54.247Z"
   },
   {
    "duration": 8,
    "start_time": "2024-11-15T22:55:35.787Z"
   },
   {
    "duration": 37,
    "start_time": "2024-11-15T22:57:26.702Z"
   },
   {
    "duration": 33,
    "start_time": "2024-11-15T22:58:36.308Z"
   },
   {
    "duration": 34,
    "start_time": "2024-11-15T22:59:13.126Z"
   },
   {
    "duration": 33,
    "start_time": "2024-11-15T22:59:26.257Z"
   },
   {
    "duration": 33,
    "start_time": "2024-11-15T22:59:56.404Z"
   },
   {
    "duration": 26,
    "start_time": "2024-11-15T23:06:45.995Z"
   },
   {
    "duration": 8,
    "start_time": "2024-11-15T23:11:35.036Z"
   },
   {
    "duration": 4,
    "start_time": "2024-11-15T23:12:17.456Z"
   },
   {
    "duration": 117,
    "start_time": "2024-11-15T23:16:22.657Z"
   },
   {
    "duration": 6,
    "start_time": "2024-11-15T23:17:48.364Z"
   },
   {
    "duration": 108,
    "start_time": "2024-11-15T23:19:31.608Z"
   },
   {
    "duration": 12,
    "start_time": "2024-11-15T23:26:17.278Z"
   },
   {
    "duration": 2551,
    "start_time": "2024-11-16T17:30:08.971Z"
   },
   {
    "duration": 101,
    "start_time": "2024-11-16T17:30:11.524Z"
   },
   {
    "duration": 81,
    "start_time": "2024-11-16T17:30:11.627Z"
   },
   {
    "duration": 50,
    "start_time": "2024-11-16T17:30:11.709Z"
   },
   {
    "duration": 10,
    "start_time": "2024-11-16T17:30:11.761Z"
   },
   {
    "duration": 15,
    "start_time": "2024-11-16T17:30:11.773Z"
   },
   {
    "duration": 9,
    "start_time": "2024-11-16T17:30:11.789Z"
   },
   {
    "duration": 7,
    "start_time": "2024-11-16T17:30:11.799Z"
   },
   {
    "duration": 8,
    "start_time": "2024-11-16T17:30:11.807Z"
   },
   {
    "duration": 10,
    "start_time": "2024-11-16T17:30:11.816Z"
   },
   {
    "duration": 47,
    "start_time": "2024-11-16T17:30:11.828Z"
   },
   {
    "duration": 12,
    "start_time": "2024-11-16T17:30:11.876Z"
   },
   {
    "duration": 3,
    "start_time": "2024-11-16T17:30:11.891Z"
   },
   {
    "duration": 10,
    "start_time": "2024-11-16T17:30:11.898Z"
   },
   {
    "duration": 12,
    "start_time": "2024-11-16T17:30:11.910Z"
   },
   {
    "duration": 8,
    "start_time": "2024-11-16T17:30:11.924Z"
   },
   {
    "duration": 45,
    "start_time": "2024-11-16T17:30:11.933Z"
   },
   {
    "duration": 9,
    "start_time": "2024-11-16T17:30:11.980Z"
   },
   {
    "duration": 7,
    "start_time": "2024-11-16T17:30:11.991Z"
   },
   {
    "duration": 9,
    "start_time": "2024-11-16T17:30:12.000Z"
   },
   {
    "duration": 63,
    "start_time": "2024-11-16T17:30:12.011Z"
   },
   {
    "duration": 20,
    "start_time": "2024-11-16T17:30:12.076Z"
   },
   {
    "duration": 9,
    "start_time": "2024-11-16T17:30:12.098Z"
   },
   {
    "duration": 20,
    "start_time": "2024-11-16T17:30:12.108Z"
   },
   {
    "duration": 9,
    "start_time": "2024-11-16T17:30:12.130Z"
   },
   {
    "duration": 24,
    "start_time": "2024-11-16T17:30:12.170Z"
   },
   {
    "duration": 279,
    "start_time": "2024-11-16T17:30:12.196Z"
   },
   {
    "duration": 0,
    "start_time": "2024-11-16T17:30:12.477Z"
   },
   {
    "duration": 0,
    "start_time": "2024-11-16T17:30:12.481Z"
   },
   {
    "duration": 0,
    "start_time": "2024-11-16T17:30:12.482Z"
   },
   {
    "duration": 0,
    "start_time": "2024-11-16T17:30:12.483Z"
   },
   {
    "duration": 0,
    "start_time": "2024-11-16T17:30:12.484Z"
   },
   {
    "duration": 0,
    "start_time": "2024-11-16T17:30:12.485Z"
   },
   {
    "duration": 0,
    "start_time": "2024-11-16T17:30:12.486Z"
   },
   {
    "duration": 0,
    "start_time": "2024-11-16T17:30:12.487Z"
   },
   {
    "duration": 0,
    "start_time": "2024-11-16T17:30:12.488Z"
   },
   {
    "duration": 0,
    "start_time": "2024-11-16T17:30:12.489Z"
   },
   {
    "duration": 0,
    "start_time": "2024-11-16T17:30:12.490Z"
   },
   {
    "duration": 0,
    "start_time": "2024-11-16T17:30:12.491Z"
   },
   {
    "duration": 0,
    "start_time": "2024-11-16T17:30:12.492Z"
   },
   {
    "duration": 0,
    "start_time": "2024-11-16T17:30:12.493Z"
   },
   {
    "duration": 6,
    "start_time": "2024-11-16T17:30:28.385Z"
   },
   {
    "duration": 5,
    "start_time": "2024-11-16T17:30:34.359Z"
   },
   {
    "duration": 16,
    "start_time": "2024-11-16T17:30:58.321Z"
   },
   {
    "duration": 5,
    "start_time": "2024-11-16T17:31:14.401Z"
   },
   {
    "duration": 13,
    "start_time": "2024-11-16T17:31:42.632Z"
   },
   {
    "duration": 107,
    "start_time": "2024-11-16T17:32:25.938Z"
   },
   {
    "duration": 12,
    "start_time": "2024-11-16T17:38:18.975Z"
   },
   {
    "duration": 848,
    "start_time": "2024-11-16T17:56:28.856Z"
   },
   {
    "duration": 100,
    "start_time": "2024-11-16T17:56:29.706Z"
   },
   {
    "duration": 77,
    "start_time": "2024-11-16T17:56:29.807Z"
   },
   {
    "duration": 49,
    "start_time": "2024-11-16T17:56:29.886Z"
   },
   {
    "duration": 11,
    "start_time": "2024-11-16T17:56:29.938Z"
   },
   {
    "duration": 19,
    "start_time": "2024-11-16T17:56:29.951Z"
   },
   {
    "duration": 10,
    "start_time": "2024-11-16T17:56:29.971Z"
   },
   {
    "duration": 6,
    "start_time": "2024-11-16T17:56:29.982Z"
   },
   {
    "duration": 8,
    "start_time": "2024-11-16T17:56:29.990Z"
   },
   {
    "duration": 12,
    "start_time": "2024-11-16T17:56:29.999Z"
   },
   {
    "duration": 15,
    "start_time": "2024-11-16T17:56:30.013Z"
   },
   {
    "duration": 46,
    "start_time": "2024-11-16T17:56:30.029Z"
   },
   {
    "duration": 20,
    "start_time": "2024-11-16T17:56:30.076Z"
   },
   {
    "duration": 11,
    "start_time": "2024-11-16T17:56:30.099Z"
   },
   {
    "duration": 11,
    "start_time": "2024-11-16T17:56:30.111Z"
   },
   {
    "duration": 9,
    "start_time": "2024-11-16T17:56:30.123Z"
   },
   {
    "duration": 42,
    "start_time": "2024-11-16T17:56:30.133Z"
   },
   {
    "duration": 10,
    "start_time": "2024-11-16T17:56:30.177Z"
   },
   {
    "duration": 6,
    "start_time": "2024-11-16T17:56:30.188Z"
   },
   {
    "duration": 9,
    "start_time": "2024-11-16T17:56:30.196Z"
   },
   {
    "duration": 27,
    "start_time": "2024-11-16T17:56:30.207Z"
   },
   {
    "duration": 54,
    "start_time": "2024-11-16T17:56:30.235Z"
   },
   {
    "duration": 8,
    "start_time": "2024-11-16T17:56:30.290Z"
   },
   {
    "duration": 21,
    "start_time": "2024-11-16T17:56:30.300Z"
   },
   {
    "duration": 9,
    "start_time": "2024-11-16T17:56:30.323Z"
   },
   {
    "duration": 49,
    "start_time": "2024-11-16T17:56:30.333Z"
   },
   {
    "duration": 158,
    "start_time": "2024-11-16T17:57:00.915Z"
   },
   {
    "duration": 822,
    "start_time": "2024-11-16T17:57:34.981Z"
   },
   {
    "duration": 142,
    "start_time": "2024-11-16T17:57:35.805Z"
   },
   {
    "duration": 74,
    "start_time": "2024-11-16T17:57:35.949Z"
   },
   {
    "duration": 48,
    "start_time": "2024-11-16T17:57:36.025Z"
   },
   {
    "duration": 11,
    "start_time": "2024-11-16T17:57:36.076Z"
   },
   {
    "duration": 14,
    "start_time": "2024-11-16T17:57:36.088Z"
   },
   {
    "duration": 8,
    "start_time": "2024-11-16T17:57:36.103Z"
   },
   {
    "duration": 7,
    "start_time": "2024-11-16T17:57:36.114Z"
   },
   {
    "duration": 8,
    "start_time": "2024-11-16T17:57:36.122Z"
   },
   {
    "duration": 39,
    "start_time": "2024-11-16T17:57:36.132Z"
   },
   {
    "duration": 16,
    "start_time": "2024-11-16T17:57:36.172Z"
   },
   {
    "duration": 9,
    "start_time": "2024-11-16T17:57:36.190Z"
   },
   {
    "duration": 18,
    "start_time": "2024-11-16T17:57:36.200Z"
   },
   {
    "duration": 10,
    "start_time": "2024-11-16T17:57:36.221Z"
   },
   {
    "duration": 42,
    "start_time": "2024-11-16T17:57:36.233Z"
   },
   {
    "duration": 9,
    "start_time": "2024-11-16T17:57:36.277Z"
   },
   {
    "duration": 13,
    "start_time": "2024-11-16T17:57:36.287Z"
   },
   {
    "duration": 13,
    "start_time": "2024-11-16T17:57:36.302Z"
   },
   {
    "duration": 6,
    "start_time": "2024-11-16T17:57:36.317Z"
   },
   {
    "duration": 44,
    "start_time": "2024-11-16T17:57:36.326Z"
   },
   {
    "duration": 26,
    "start_time": "2024-11-16T17:57:36.371Z"
   },
   {
    "duration": 20,
    "start_time": "2024-11-16T17:57:36.399Z"
   },
   {
    "duration": 8,
    "start_time": "2024-11-16T17:57:36.421Z"
   },
   {
    "duration": 46,
    "start_time": "2024-11-16T17:57:36.431Z"
   },
   {
    "duration": 10,
    "start_time": "2024-11-16T17:57:36.479Z"
   },
   {
    "duration": 24,
    "start_time": "2024-11-16T17:57:36.491Z"
   },
   {
    "duration": 158,
    "start_time": "2024-11-16T17:59:03.587Z"
   },
   {
    "duration": 11,
    "start_time": "2024-11-16T18:02:13.109Z"
   },
   {
    "duration": 774,
    "start_time": "2024-11-16T18:02:23.320Z"
   },
   {
    "duration": 97,
    "start_time": "2024-11-16T18:02:24.096Z"
   },
   {
    "duration": 74,
    "start_time": "2024-11-16T18:02:24.194Z"
   },
   {
    "duration": 48,
    "start_time": "2024-11-16T18:02:24.269Z"
   },
   {
    "duration": 10,
    "start_time": "2024-11-16T18:02:24.319Z"
   },
   {
    "duration": 15,
    "start_time": "2024-11-16T18:02:24.331Z"
   },
   {
    "duration": 9,
    "start_time": "2024-11-16T18:02:24.348Z"
   },
   {
    "duration": 15,
    "start_time": "2024-11-16T18:02:24.359Z"
   },
   {
    "duration": 8,
    "start_time": "2024-11-16T18:02:24.376Z"
   },
   {
    "duration": 11,
    "start_time": "2024-11-16T18:02:24.386Z"
   },
   {
    "duration": 15,
    "start_time": "2024-11-16T18:02:24.398Z"
   },
   {
    "duration": 10,
    "start_time": "2024-11-16T18:02:24.414Z"
   },
   {
    "duration": 52,
    "start_time": "2024-11-16T18:02:24.426Z"
   },
   {
    "duration": 11,
    "start_time": "2024-11-16T18:02:24.482Z"
   },
   {
    "duration": 12,
    "start_time": "2024-11-16T18:02:24.495Z"
   },
   {
    "duration": 9,
    "start_time": "2024-11-16T18:02:24.508Z"
   },
   {
    "duration": 14,
    "start_time": "2024-11-16T18:02:24.518Z"
   },
   {
    "duration": 44,
    "start_time": "2024-11-16T18:02:24.533Z"
   },
   {
    "duration": 6,
    "start_time": "2024-11-16T18:02:24.579Z"
   },
   {
    "duration": 9,
    "start_time": "2024-11-16T18:02:24.587Z"
   },
   {
    "duration": 26,
    "start_time": "2024-11-16T18:02:24.597Z"
   },
   {
    "duration": 45,
    "start_time": "2024-11-16T18:02:24.625Z"
   },
   {
    "duration": 8,
    "start_time": "2024-11-16T18:02:24.672Z"
   },
   {
    "duration": 20,
    "start_time": "2024-11-16T18:02:24.682Z"
   },
   {
    "duration": 9,
    "start_time": "2024-11-16T18:02:24.704Z"
   },
   {
    "duration": 25,
    "start_time": "2024-11-16T18:02:24.714Z"
   },
   {
    "duration": 154,
    "start_time": "2024-11-16T18:17:15.556Z"
   },
   {
    "duration": 891,
    "start_time": "2024-11-16T18:18:25.285Z"
   },
   {
    "duration": 117,
    "start_time": "2024-11-16T18:18:26.179Z"
   },
   {
    "duration": 83,
    "start_time": "2024-11-16T18:18:26.298Z"
   },
   {
    "duration": 50,
    "start_time": "2024-11-16T18:18:26.383Z"
   },
   {
    "duration": 10,
    "start_time": "2024-11-16T18:18:26.435Z"
   },
   {
    "duration": 15,
    "start_time": "2024-11-16T18:18:26.446Z"
   },
   {
    "duration": 9,
    "start_time": "2024-11-16T18:18:26.463Z"
   },
   {
    "duration": 6,
    "start_time": "2024-11-16T18:18:26.474Z"
   },
   {
    "duration": 8,
    "start_time": "2024-11-16T18:18:26.482Z"
   },
   {
    "duration": 11,
    "start_time": "2024-11-16T18:18:26.492Z"
   },
   {
    "duration": 14,
    "start_time": "2024-11-16T18:18:26.505Z"
   },
   {
    "duration": 15,
    "start_time": "2024-11-16T18:18:26.521Z"
   },
   {
    "duration": 21,
    "start_time": "2024-11-16T18:18:26.569Z"
   },
   {
    "duration": 10,
    "start_time": "2024-11-16T18:18:26.592Z"
   },
   {
    "duration": 12,
    "start_time": "2024-11-16T18:18:26.604Z"
   },
   {
    "duration": 9,
    "start_time": "2024-11-16T18:18:26.617Z"
   },
   {
    "duration": 42,
    "start_time": "2024-11-16T18:18:26.628Z"
   },
   {
    "duration": 10,
    "start_time": "2024-11-16T18:18:26.672Z"
   },
   {
    "duration": 7,
    "start_time": "2024-11-16T18:18:26.683Z"
   },
   {
    "duration": 9,
    "start_time": "2024-11-16T18:18:26.692Z"
   },
   {
    "duration": 26,
    "start_time": "2024-11-16T18:18:26.703Z"
   },
   {
    "duration": 55,
    "start_time": "2024-11-16T18:18:26.731Z"
   },
   {
    "duration": 8,
    "start_time": "2024-11-16T18:18:26.787Z"
   },
   {
    "duration": 19,
    "start_time": "2024-11-16T18:18:26.797Z"
   },
   {
    "duration": 10,
    "start_time": "2024-11-16T18:18:26.817Z"
   },
   {
    "duration": 50,
    "start_time": "2024-11-16T18:18:26.828Z"
   },
   {
    "duration": 2673,
    "start_time": "2024-11-16T20:18:11.207Z"
   },
   {
    "duration": 104,
    "start_time": "2024-11-16T20:18:13.882Z"
   },
   {
    "duration": 84,
    "start_time": "2024-11-16T20:18:13.987Z"
   },
   {
    "duration": 50,
    "start_time": "2024-11-16T20:18:14.074Z"
   },
   {
    "duration": 11,
    "start_time": "2024-11-16T20:18:14.126Z"
   },
   {
    "duration": 16,
    "start_time": "2024-11-16T20:18:14.138Z"
   },
   {
    "duration": 8,
    "start_time": "2024-11-16T20:18:14.156Z"
   },
   {
    "duration": 7,
    "start_time": "2024-11-16T20:18:14.166Z"
   },
   {
    "duration": 9,
    "start_time": "2024-11-16T20:18:14.174Z"
   },
   {
    "duration": 11,
    "start_time": "2024-11-16T20:18:14.186Z"
   },
   {
    "duration": 45,
    "start_time": "2024-11-16T20:18:14.199Z"
   },
   {
    "duration": 10,
    "start_time": "2024-11-16T20:18:14.246Z"
   },
   {
    "duration": 21,
    "start_time": "2024-11-16T20:18:14.257Z"
   },
   {
    "duration": 11,
    "start_time": "2024-11-16T20:18:14.280Z"
   },
   {
    "duration": 37,
    "start_time": "2024-11-16T20:18:14.294Z"
   },
   {
    "duration": 9,
    "start_time": "2024-11-16T20:18:14.334Z"
   },
   {
    "duration": 14,
    "start_time": "2024-11-16T20:18:14.345Z"
   },
   {
    "duration": 10,
    "start_time": "2024-11-16T20:18:14.360Z"
   },
   {
    "duration": 7,
    "start_time": "2024-11-16T20:18:14.371Z"
   },
   {
    "duration": 10,
    "start_time": "2024-11-16T20:18:14.380Z"
   },
   {
    "duration": 63,
    "start_time": "2024-11-16T20:18:14.392Z"
   },
   {
    "duration": 23,
    "start_time": "2024-11-16T20:18:14.457Z"
   },
   {
    "duration": 8,
    "start_time": "2024-11-16T20:18:14.482Z"
   },
   {
    "duration": 40,
    "start_time": "2024-11-16T20:18:14.492Z"
   },
   {
    "duration": 11,
    "start_time": "2024-11-16T20:18:14.534Z"
   },
   {
    "duration": 24,
    "start_time": "2024-11-16T20:18:14.547Z"
   },
   {
    "duration": 162,
    "start_time": "2024-11-16T20:23:00.043Z"
   },
   {
    "duration": 13,
    "start_time": "2024-11-16T20:23:08.885Z"
   },
   {
    "duration": 841,
    "start_time": "2024-11-16T20:23:22.923Z"
   },
   {
    "duration": 99,
    "start_time": "2024-11-16T20:23:23.766Z"
   },
   {
    "duration": 76,
    "start_time": "2024-11-16T20:23:23.866Z"
   },
   {
    "duration": 49,
    "start_time": "2024-11-16T20:23:23.945Z"
   },
   {
    "duration": 10,
    "start_time": "2024-11-16T20:23:23.996Z"
   },
   {
    "duration": 14,
    "start_time": "2024-11-16T20:23:24.007Z"
   },
   {
    "duration": 15,
    "start_time": "2024-11-16T20:23:24.023Z"
   },
   {
    "duration": 8,
    "start_time": "2024-11-16T20:23:24.039Z"
   },
   {
    "duration": 8,
    "start_time": "2024-11-16T20:23:24.049Z"
   },
   {
    "duration": 11,
    "start_time": "2024-11-16T20:23:24.061Z"
   },
   {
    "duration": 17,
    "start_time": "2024-11-16T20:23:24.073Z"
   },
   {
    "duration": 47,
    "start_time": "2024-11-16T20:23:24.091Z"
   },
   {
    "duration": 20,
    "start_time": "2024-11-16T20:23:24.140Z"
   },
   {
    "duration": 11,
    "start_time": "2024-11-16T20:23:24.163Z"
   },
   {
    "duration": 12,
    "start_time": "2024-11-16T20:23:24.176Z"
   },
   {
    "duration": 8,
    "start_time": "2024-11-16T20:23:24.190Z"
   },
   {
    "duration": 45,
    "start_time": "2024-11-16T20:23:24.199Z"
   },
   {
    "duration": 10,
    "start_time": "2024-11-16T20:23:24.245Z"
   },
   {
    "duration": 8,
    "start_time": "2024-11-16T20:23:24.256Z"
   },
   {
    "duration": 11,
    "start_time": "2024-11-16T20:23:24.266Z"
   },
   {
    "duration": 57,
    "start_time": "2024-11-16T20:23:24.280Z"
   },
   {
    "duration": 22,
    "start_time": "2024-11-16T20:23:24.339Z"
   },
   {
    "duration": 9,
    "start_time": "2024-11-16T20:23:24.362Z"
   },
   {
    "duration": 22,
    "start_time": "2024-11-16T20:23:24.372Z"
   },
   {
    "duration": 36,
    "start_time": "2024-11-16T20:23:24.396Z"
   },
   {
    "duration": 25,
    "start_time": "2024-11-16T20:23:24.434Z"
   },
   {
    "duration": 10,
    "start_time": "2024-11-16T20:27:42.163Z"
   },
   {
    "duration": 155,
    "start_time": "2024-11-16T20:28:19.284Z"
   },
   {
    "duration": 842,
    "start_time": "2024-11-16T20:28:27.677Z"
   },
   {
    "duration": 99,
    "start_time": "2024-11-16T20:28:28.521Z"
   },
   {
    "duration": 84,
    "start_time": "2024-11-16T20:28:28.623Z"
   },
   {
    "duration": 48,
    "start_time": "2024-11-16T20:28:28.708Z"
   },
   {
    "duration": 10,
    "start_time": "2024-11-16T20:28:28.758Z"
   },
   {
    "duration": 14,
    "start_time": "2024-11-16T20:28:28.770Z"
   },
   {
    "duration": 9,
    "start_time": "2024-11-16T20:28:28.786Z"
   },
   {
    "duration": 7,
    "start_time": "2024-11-16T20:28:28.796Z"
   },
   {
    "duration": 32,
    "start_time": "2024-11-16T20:28:28.805Z"
   },
   {
    "duration": 12,
    "start_time": "2024-11-16T20:28:28.838Z"
   },
   {
    "duration": 15,
    "start_time": "2024-11-16T20:28:28.851Z"
   },
   {
    "duration": 9,
    "start_time": "2024-11-16T20:28:28.868Z"
   },
   {
    "duration": 19,
    "start_time": "2024-11-16T20:28:28.878Z"
   },
   {
    "duration": 39,
    "start_time": "2024-11-16T20:28:28.901Z"
   },
   {
    "duration": 12,
    "start_time": "2024-11-16T20:28:28.941Z"
   },
   {
    "duration": 9,
    "start_time": "2024-11-16T20:28:28.955Z"
   },
   {
    "duration": 13,
    "start_time": "2024-11-16T20:28:28.965Z"
   },
   {
    "duration": 10,
    "start_time": "2024-11-16T20:28:28.979Z"
   },
   {
    "duration": 42,
    "start_time": "2024-11-16T20:28:28.990Z"
   },
   {
    "duration": 11,
    "start_time": "2024-11-16T20:28:29.034Z"
   },
   {
    "duration": 27,
    "start_time": "2024-11-16T20:28:29.046Z"
   },
   {
    "duration": 21,
    "start_time": "2024-11-16T20:28:29.075Z"
   },
   {
    "duration": 35,
    "start_time": "2024-11-16T20:28:29.097Z"
   },
   {
    "duration": 20,
    "start_time": "2024-11-16T20:28:29.134Z"
   },
   {
    "duration": 10,
    "start_time": "2024-11-16T20:28:29.156Z"
   },
   {
    "duration": 25,
    "start_time": "2024-11-16T20:28:29.167Z"
   },
   {
    "duration": 165,
    "start_time": "2024-11-16T20:30:30.519Z"
   },
   {
    "duration": 12,
    "start_time": "2024-11-16T20:44:34.248Z"
   },
   {
    "duration": 838,
    "start_time": "2024-11-16T20:44:44.678Z"
   },
   {
    "duration": 101,
    "start_time": "2024-11-16T20:44:45.518Z"
   },
   {
    "duration": 85,
    "start_time": "2024-11-16T20:44:45.623Z"
   },
   {
    "duration": 50,
    "start_time": "2024-11-16T20:44:45.710Z"
   },
   {
    "duration": 11,
    "start_time": "2024-11-16T20:44:45.762Z"
   },
   {
    "duration": 15,
    "start_time": "2024-11-16T20:44:45.775Z"
   },
   {
    "duration": 8,
    "start_time": "2024-11-16T20:44:45.792Z"
   },
   {
    "duration": 7,
    "start_time": "2024-11-16T20:44:45.802Z"
   },
   {
    "duration": 25,
    "start_time": "2024-11-16T20:44:45.811Z"
   },
   {
    "duration": 12,
    "start_time": "2024-11-16T20:44:45.840Z"
   },
   {
    "duration": 16,
    "start_time": "2024-11-16T20:44:45.853Z"
   },
   {
    "duration": 9,
    "start_time": "2024-11-16T20:44:45.871Z"
   },
   {
    "duration": 49,
    "start_time": "2024-11-16T20:44:45.882Z"
   },
   {
    "duration": 11,
    "start_time": "2024-11-16T20:44:45.933Z"
   },
   {
    "duration": 12,
    "start_time": "2024-11-16T20:44:45.946Z"
   },
   {
    "duration": 9,
    "start_time": "2024-11-16T20:44:45.960Z"
   },
   {
    "duration": 14,
    "start_time": "2024-11-16T20:44:45.971Z"
   },
   {
    "duration": 9,
    "start_time": "2024-11-16T20:44:45.986Z"
   },
   {
    "duration": 7,
    "start_time": "2024-11-16T20:44:46.031Z"
   },
   {
    "duration": 9,
    "start_time": "2024-11-16T20:44:46.039Z"
   },
   {
    "duration": 31,
    "start_time": "2024-11-16T20:44:46.050Z"
   },
   {
    "duration": 20,
    "start_time": "2024-11-16T20:44:46.083Z"
   },
   {
    "duration": 35,
    "start_time": "2024-11-16T20:44:46.105Z"
   },
   {
    "duration": 22,
    "start_time": "2024-11-16T20:44:46.143Z"
   },
   {
    "duration": 9,
    "start_time": "2024-11-16T20:44:46.166Z"
   },
   {
    "duration": 26,
    "start_time": "2024-11-16T20:44:46.177Z"
   },
   {
    "duration": 895,
    "start_time": "2024-11-16T20:45:04.683Z"
   },
   {
    "duration": 101,
    "start_time": "2024-11-16T20:45:05.580Z"
   },
   {
    "duration": 79,
    "start_time": "2024-11-16T20:45:05.682Z"
   },
   {
    "duration": 51,
    "start_time": "2024-11-16T20:45:05.762Z"
   },
   {
    "duration": 10,
    "start_time": "2024-11-16T20:45:05.816Z"
   },
   {
    "duration": 14,
    "start_time": "2024-11-16T20:45:05.828Z"
   },
   {
    "duration": 9,
    "start_time": "2024-11-16T20:45:05.843Z"
   },
   {
    "duration": 7,
    "start_time": "2024-11-16T20:45:05.854Z"
   },
   {
    "duration": 8,
    "start_time": "2024-11-16T20:45:05.862Z"
   },
   {
    "duration": 12,
    "start_time": "2024-11-16T20:45:05.872Z"
   },
   {
    "duration": 50,
    "start_time": "2024-11-16T20:45:05.886Z"
   },
   {
    "duration": 12,
    "start_time": "2024-11-16T20:45:05.937Z"
   },
   {
    "duration": 26,
    "start_time": "2024-11-16T20:45:05.951Z"
   },
   {
    "duration": 13,
    "start_time": "2024-11-16T20:45:05.982Z"
   },
   {
    "duration": 12,
    "start_time": "2024-11-16T20:45:05.997Z"
   },
   {
    "duration": 25,
    "start_time": "2024-11-16T20:45:06.012Z"
   },
   {
    "duration": 13,
    "start_time": "2024-11-16T20:45:06.039Z"
   },
   {
    "duration": 9,
    "start_time": "2024-11-16T20:45:06.053Z"
   },
   {
    "duration": 6,
    "start_time": "2024-11-16T20:45:06.064Z"
   },
   {
    "duration": 9,
    "start_time": "2024-11-16T20:45:06.072Z"
   },
   {
    "duration": 60,
    "start_time": "2024-11-16T20:45:06.083Z"
   },
   {
    "duration": 22,
    "start_time": "2024-11-16T20:45:06.145Z"
   },
   {
    "duration": 8,
    "start_time": "2024-11-16T20:45:06.169Z"
   },
   {
    "duration": 21,
    "start_time": "2024-11-16T20:45:06.178Z"
   },
   {
    "duration": 33,
    "start_time": "2024-11-16T20:45:06.201Z"
   },
   {
    "duration": 29,
    "start_time": "2024-11-16T20:45:06.237Z"
   },
   {
    "duration": 2523,
    "start_time": "2024-11-18T21:17:38.113Z"
   },
   {
    "duration": 96,
    "start_time": "2024-11-18T21:17:40.638Z"
   },
   {
    "duration": 76,
    "start_time": "2024-11-18T21:17:40.735Z"
   },
   {
    "duration": 48,
    "start_time": "2024-11-18T21:17:40.815Z"
   },
   {
    "duration": 11,
    "start_time": "2024-11-18T21:17:40.865Z"
   },
   {
    "duration": 13,
    "start_time": "2024-11-18T21:17:40.877Z"
   },
   {
    "duration": 9,
    "start_time": "2024-11-18T21:17:40.892Z"
   },
   {
    "duration": 8,
    "start_time": "2024-11-18T21:17:40.902Z"
   },
   {
    "duration": 8,
    "start_time": "2024-11-18T21:17:40.914Z"
   },
   {
    "duration": 11,
    "start_time": "2024-11-18T21:17:40.926Z"
   },
   {
    "duration": 15,
    "start_time": "2024-11-18T21:17:40.938Z"
   },
   {
    "duration": 38,
    "start_time": "2024-11-18T21:17:40.954Z"
   },
   {
    "duration": 19,
    "start_time": "2024-11-18T21:17:40.994Z"
   },
   {
    "duration": 12,
    "start_time": "2024-11-18T21:17:41.014Z"
   },
   {
    "duration": 12,
    "start_time": "2024-11-18T21:17:41.027Z"
   },
   {
    "duration": 9,
    "start_time": "2024-11-18T21:17:41.040Z"
   },
   {
    "duration": 43,
    "start_time": "2024-11-18T21:17:41.051Z"
   },
   {
    "duration": 10,
    "start_time": "2024-11-18T21:17:41.095Z"
   },
   {
    "duration": 7,
    "start_time": "2024-11-18T21:17:41.107Z"
   },
   {
    "duration": 9,
    "start_time": "2024-11-18T21:17:41.116Z"
   },
   {
    "duration": 59,
    "start_time": "2024-11-18T21:17:41.127Z"
   },
   {
    "duration": 23,
    "start_time": "2024-11-18T21:17:41.188Z"
   },
   {
    "duration": 9,
    "start_time": "2024-11-18T21:17:41.212Z"
   },
   {
    "duration": 20,
    "start_time": "2024-11-18T21:17:41.222Z"
   },
   {
    "duration": 9,
    "start_time": "2024-11-18T21:17:41.243Z"
   },
   {
    "duration": 53,
    "start_time": "2024-11-18T21:17:41.254Z"
   },
   {
    "duration": 821,
    "start_time": "2024-11-18T21:18:07.769Z"
   },
   {
    "duration": 96,
    "start_time": "2024-11-18T21:18:08.592Z"
   },
   {
    "duration": 76,
    "start_time": "2024-11-18T21:18:08.690Z"
   },
   {
    "duration": 48,
    "start_time": "2024-11-18T21:18:08.768Z"
   },
   {
    "duration": 11,
    "start_time": "2024-11-18T21:18:08.818Z"
   },
   {
    "duration": 16,
    "start_time": "2024-11-18T21:18:08.830Z"
   },
   {
    "duration": 10,
    "start_time": "2024-11-18T21:18:08.848Z"
   },
   {
    "duration": 8,
    "start_time": "2024-11-18T21:18:08.861Z"
   },
   {
    "duration": 10,
    "start_time": "2024-11-18T21:18:08.886Z"
   },
   {
    "duration": 11,
    "start_time": "2024-11-18T21:18:08.902Z"
   },
   {
    "duration": 15,
    "start_time": "2024-11-18T21:18:08.915Z"
   },
   {
    "duration": 9,
    "start_time": "2024-11-18T21:18:08.932Z"
   },
   {
    "duration": 47,
    "start_time": "2024-11-18T21:18:08.942Z"
   },
   {
    "duration": 9,
    "start_time": "2024-11-18T21:18:08.993Z"
   },
   {
    "duration": 10,
    "start_time": "2024-11-18T21:18:09.004Z"
   },
   {
    "duration": 10,
    "start_time": "2024-11-18T21:18:09.016Z"
   },
   {
    "duration": 13,
    "start_time": "2024-11-18T21:18:09.027Z"
   },
   {
    "duration": 10,
    "start_time": "2024-11-18T21:18:09.042Z"
   },
   {
    "duration": 40,
    "start_time": "2024-11-18T21:18:09.053Z"
   },
   {
    "duration": 11,
    "start_time": "2024-11-18T21:18:09.094Z"
   },
   {
    "duration": 26,
    "start_time": "2024-11-18T21:18:09.106Z"
   },
   {
    "duration": 20,
    "start_time": "2024-11-18T21:18:09.134Z"
   },
   {
    "duration": 35,
    "start_time": "2024-11-18T21:18:09.155Z"
   },
   {
    "duration": 20,
    "start_time": "2024-11-18T21:18:09.192Z"
   },
   {
    "duration": 9,
    "start_time": "2024-11-18T21:18:09.214Z"
   },
   {
    "duration": 24,
    "start_time": "2024-11-18T21:18:09.224Z"
   },
   {
    "duration": 156,
    "start_time": "2024-11-18T21:28:43.856Z"
   },
   {
    "duration": 835,
    "start_time": "2024-11-18T21:32:10.879Z"
   },
   {
    "duration": 97,
    "start_time": "2024-11-18T21:32:11.717Z"
   },
   {
    "duration": 75,
    "start_time": "2024-11-18T21:32:11.816Z"
   },
   {
    "duration": 47,
    "start_time": "2024-11-18T21:32:11.893Z"
   },
   {
    "duration": 9,
    "start_time": "2024-11-18T21:32:11.942Z"
   },
   {
    "duration": 14,
    "start_time": "2024-11-18T21:32:11.953Z"
   },
   {
    "duration": 9,
    "start_time": "2024-11-18T21:32:11.968Z"
   },
   {
    "duration": 13,
    "start_time": "2024-11-18T21:32:11.978Z"
   },
   {
    "duration": 8,
    "start_time": "2024-11-18T21:32:11.993Z"
   },
   {
    "duration": 11,
    "start_time": "2024-11-18T21:32:12.005Z"
   },
   {
    "duration": 15,
    "start_time": "2024-11-18T21:32:12.017Z"
   },
   {
    "duration": 9,
    "start_time": "2024-11-18T21:32:12.034Z"
   },
   {
    "duration": 50,
    "start_time": "2024-11-18T21:32:12.044Z"
   },
   {
    "duration": 11,
    "start_time": "2024-11-18T21:32:12.096Z"
   },
   {
    "duration": 11,
    "start_time": "2024-11-18T21:32:12.109Z"
   },
   {
    "duration": 7,
    "start_time": "2024-11-18T21:32:12.122Z"
   },
   {
    "duration": 16,
    "start_time": "2024-11-18T21:32:12.131Z"
   },
   {
    "duration": 38,
    "start_time": "2024-11-18T21:32:12.149Z"
   },
   {
    "duration": 8,
    "start_time": "2024-11-18T21:32:12.189Z"
   },
   {
    "duration": 10,
    "start_time": "2024-11-18T21:32:12.199Z"
   },
   {
    "duration": 26,
    "start_time": "2024-11-18T21:32:12.211Z"
   },
   {
    "duration": 21,
    "start_time": "2024-11-18T21:32:12.239Z"
   },
   {
    "duration": 9,
    "start_time": "2024-11-18T21:32:12.287Z"
   },
   {
    "duration": 19,
    "start_time": "2024-11-18T21:32:12.298Z"
   },
   {
    "duration": 9,
    "start_time": "2024-11-18T21:32:12.319Z"
   },
   {
    "duration": 23,
    "start_time": "2024-11-18T21:32:12.329Z"
   },
   {
    "duration": 156,
    "start_time": "2024-11-18T21:33:37.699Z"
   },
   {
    "duration": 802,
    "start_time": "2024-11-18T21:33:49.760Z"
   },
   {
    "duration": 142,
    "start_time": "2024-11-18T21:33:50.564Z"
   },
   {
    "duration": 76,
    "start_time": "2024-11-18T21:33:50.708Z"
   },
   {
    "duration": 46,
    "start_time": "2024-11-18T21:33:50.786Z"
   },
   {
    "duration": 10,
    "start_time": "2024-11-18T21:33:50.834Z"
   },
   {
    "duration": 15,
    "start_time": "2024-11-18T21:33:50.845Z"
   },
   {
    "duration": 8,
    "start_time": "2024-11-18T21:33:50.862Z"
   },
   {
    "duration": 8,
    "start_time": "2024-11-18T21:33:50.871Z"
   },
   {
    "duration": 9,
    "start_time": "2024-11-18T21:33:50.886Z"
   },
   {
    "duration": 10,
    "start_time": "2024-11-18T21:33:50.898Z"
   },
   {
    "duration": 15,
    "start_time": "2024-11-18T21:33:50.910Z"
   },
   {
    "duration": 8,
    "start_time": "2024-11-18T21:33:50.927Z"
   },
   {
    "duration": 18,
    "start_time": "2024-11-18T21:33:50.937Z"
   },
   {
    "duration": 10,
    "start_time": "2024-11-18T21:33:50.987Z"
   },
   {
    "duration": 11,
    "start_time": "2024-11-18T21:33:50.998Z"
   },
   {
    "duration": 9,
    "start_time": "2024-11-18T21:33:51.010Z"
   },
   {
    "duration": 16,
    "start_time": "2024-11-18T21:33:51.020Z"
   },
   {
    "duration": 10,
    "start_time": "2024-11-18T21:33:51.038Z"
   },
   {
    "duration": 42,
    "start_time": "2024-11-18T21:33:51.050Z"
   },
   {
    "duration": 12,
    "start_time": "2024-11-18T21:33:51.093Z"
   },
   {
    "duration": 25,
    "start_time": "2024-11-18T21:33:51.107Z"
   },
   {
    "duration": 19,
    "start_time": "2024-11-18T21:33:51.134Z"
   },
   {
    "duration": 33,
    "start_time": "2024-11-18T21:33:51.155Z"
   },
   {
    "duration": 20,
    "start_time": "2024-11-18T21:33:51.190Z"
   },
   {
    "duration": 9,
    "start_time": "2024-11-18T21:33:51.212Z"
   },
   {
    "duration": 23,
    "start_time": "2024-11-18T21:33:51.222Z"
   },
   {
    "duration": 443,
    "start_time": "2024-11-18T21:33:51.248Z"
   },
   {
    "duration": 158,
    "start_time": "2024-11-18T21:36:39.525Z"
   },
   {
    "duration": 826,
    "start_time": "2024-11-18T21:37:39.691Z"
   },
   {
    "duration": 96,
    "start_time": "2024-11-18T21:37:40.519Z"
   },
   {
    "duration": 80,
    "start_time": "2024-11-18T21:37:40.616Z"
   },
   {
    "duration": 60,
    "start_time": "2024-11-18T21:37:40.698Z"
   },
   {
    "duration": 11,
    "start_time": "2024-11-18T21:37:40.760Z"
   },
   {
    "duration": 18,
    "start_time": "2024-11-18T21:37:40.772Z"
   },
   {
    "duration": 8,
    "start_time": "2024-11-18T21:37:40.792Z"
   },
   {
    "duration": 8,
    "start_time": "2024-11-18T21:37:40.802Z"
   },
   {
    "duration": 8,
    "start_time": "2024-11-18T21:37:40.811Z"
   },
   {
    "duration": 10,
    "start_time": "2024-11-18T21:37:40.823Z"
   },
   {
    "duration": 16,
    "start_time": "2024-11-18T21:37:40.834Z"
   },
   {
    "duration": 12,
    "start_time": "2024-11-18T21:37:40.886Z"
   },
   {
    "duration": 18,
    "start_time": "2024-11-18T21:37:40.900Z"
   },
   {
    "duration": 11,
    "start_time": "2024-11-18T21:37:40.920Z"
   },
   {
    "duration": 13,
    "start_time": "2024-11-18T21:37:40.932Z"
   },
   {
    "duration": 7,
    "start_time": "2024-11-18T21:37:40.947Z"
   },
   {
    "duration": 45,
    "start_time": "2024-11-18T21:37:40.956Z"
   },
   {
    "duration": 11,
    "start_time": "2024-11-18T21:37:41.002Z"
   },
   {
    "duration": 11,
    "start_time": "2024-11-18T21:37:41.014Z"
   },
   {
    "duration": 11,
    "start_time": "2024-11-18T21:37:41.026Z"
   },
   {
    "duration": 52,
    "start_time": "2024-11-18T21:37:41.039Z"
   },
   {
    "duration": 22,
    "start_time": "2024-11-18T21:37:41.093Z"
   },
   {
    "duration": 9,
    "start_time": "2024-11-18T21:37:41.116Z"
   },
   {
    "duration": 26,
    "start_time": "2024-11-18T21:37:41.127Z"
   },
   {
    "duration": 32,
    "start_time": "2024-11-18T21:37:41.155Z"
   },
   {
    "duration": 23,
    "start_time": "2024-11-18T21:37:41.189Z"
   },
   {
    "duration": 482,
    "start_time": "2024-11-18T21:37:41.214Z"
   },
   {
    "duration": 889,
    "start_time": "2024-11-18T21:38:02.598Z"
   },
   {
    "duration": 97,
    "start_time": "2024-11-18T21:38:03.489Z"
   },
   {
    "duration": 97,
    "start_time": "2024-11-18T21:38:03.589Z"
   },
   {
    "duration": 59,
    "start_time": "2024-11-18T21:38:03.690Z"
   },
   {
    "duration": 11,
    "start_time": "2024-11-18T21:38:03.752Z"
   },
   {
    "duration": 14,
    "start_time": "2024-11-18T21:38:03.765Z"
   },
   {
    "duration": 14,
    "start_time": "2024-11-18T21:38:03.781Z"
   },
   {
    "duration": 7,
    "start_time": "2024-11-18T21:38:03.797Z"
   },
   {
    "duration": 8,
    "start_time": "2024-11-18T21:38:03.806Z"
   },
   {
    "duration": 13,
    "start_time": "2024-11-18T21:38:03.816Z"
   },
   {
    "duration": 20,
    "start_time": "2024-11-18T21:38:03.831Z"
   },
   {
    "duration": 46,
    "start_time": "2024-11-18T21:38:03.853Z"
   },
   {
    "duration": 28,
    "start_time": "2024-11-18T21:38:03.901Z"
   },
   {
    "duration": 13,
    "start_time": "2024-11-18T21:38:03.933Z"
   },
   {
    "duration": 13,
    "start_time": "2024-11-18T21:38:03.950Z"
   },
   {
    "duration": 39,
    "start_time": "2024-11-18T21:38:03.965Z"
   },
   {
    "duration": 14,
    "start_time": "2024-11-18T21:38:04.006Z"
   },
   {
    "duration": 12,
    "start_time": "2024-11-18T21:38:04.023Z"
   },
   {
    "duration": 8,
    "start_time": "2024-11-18T21:38:04.037Z"
   },
   {
    "duration": 9,
    "start_time": "2024-11-18T21:38:04.047Z"
   },
   {
    "duration": 50,
    "start_time": "2024-11-18T21:38:04.058Z"
   },
   {
    "duration": 26,
    "start_time": "2024-11-18T21:38:04.109Z"
   },
   {
    "duration": 10,
    "start_time": "2024-11-18T21:38:04.136Z"
   },
   {
    "duration": 42,
    "start_time": "2024-11-18T21:38:04.149Z"
   },
   {
    "duration": 9,
    "start_time": "2024-11-18T21:38:04.195Z"
   },
   {
    "duration": 25,
    "start_time": "2024-11-18T21:38:04.205Z"
   },
   {
    "duration": 399,
    "start_time": "2024-11-18T21:38:11.811Z"
   },
   {
    "duration": 15,
    "start_time": "2024-11-18T21:38:21.351Z"
   },
   {
    "duration": 12,
    "start_time": "2024-11-18T21:39:48.868Z"
   },
   {
    "duration": 12,
    "start_time": "2024-11-18T21:40:10.084Z"
   },
   {
    "duration": 7,
    "start_time": "2024-11-18T21:43:48.150Z"
   },
   {
    "duration": 11,
    "start_time": "2024-11-18T21:44:05.957Z"
   },
   {
    "duration": 10,
    "start_time": "2024-11-18T21:44:57.226Z"
   },
   {
    "duration": 14,
    "start_time": "2024-11-18T21:45:55.016Z"
   },
   {
    "duration": 802,
    "start_time": "2024-11-18T21:47:01.245Z"
   },
   {
    "duration": 81,
    "start_time": "2024-11-18T21:47:02.048Z"
   },
   {
    "duration": 63,
    "start_time": "2024-11-18T21:47:02.130Z"
   },
   {
    "duration": 44,
    "start_time": "2024-11-18T21:47:02.196Z"
   },
   {
    "duration": 12,
    "start_time": "2024-11-18T21:47:02.241Z"
   },
   {
    "duration": 15,
    "start_time": "2024-11-18T21:47:02.255Z"
   },
   {
    "duration": 9,
    "start_time": "2024-11-18T21:47:02.287Z"
   },
   {
    "duration": 7,
    "start_time": "2024-11-18T21:47:02.298Z"
   },
   {
    "duration": 8,
    "start_time": "2024-11-18T21:47:02.306Z"
   },
   {
    "duration": 10,
    "start_time": "2024-11-18T21:47:02.318Z"
   },
   {
    "duration": 15,
    "start_time": "2024-11-18T21:47:02.330Z"
   },
   {
    "duration": 44,
    "start_time": "2024-11-18T21:47:02.346Z"
   },
   {
    "duration": 19,
    "start_time": "2024-11-18T21:47:02.392Z"
   },
   {
    "duration": 11,
    "start_time": "2024-11-18T21:47:02.412Z"
   },
   {
    "duration": 11,
    "start_time": "2024-11-18T21:47:02.425Z"
   },
   {
    "duration": 8,
    "start_time": "2024-11-18T21:47:02.438Z"
   },
   {
    "duration": 41,
    "start_time": "2024-11-18T21:47:02.448Z"
   },
   {
    "duration": 9,
    "start_time": "2024-11-18T21:47:02.491Z"
   },
   {
    "duration": 7,
    "start_time": "2024-11-18T21:47:02.501Z"
   },
   {
    "duration": 10,
    "start_time": "2024-11-18T21:47:02.509Z"
   },
   {
    "duration": 28,
    "start_time": "2024-11-18T21:47:02.520Z"
   },
   {
    "duration": 50,
    "start_time": "2024-11-18T21:47:02.550Z"
   },
   {
    "duration": 8,
    "start_time": "2024-11-18T21:47:02.602Z"
   },
   {
    "duration": 20,
    "start_time": "2024-11-18T21:47:02.612Z"
   },
   {
    "duration": 9,
    "start_time": "2024-11-18T21:47:02.633Z"
   },
   {
    "duration": 53,
    "start_time": "2024-11-18T21:47:02.644Z"
   },
   {
    "duration": 13,
    "start_time": "2024-11-18T21:47:02.699Z"
   },
   {
    "duration": 2,
    "start_time": "2024-11-18T21:47:02.716Z"
   },
   {
    "duration": 7,
    "start_time": "2024-11-18T21:47:02.719Z"
   },
   {
    "duration": 6,
    "start_time": "2024-11-18T21:47:02.727Z"
   },
   {
    "duration": 10,
    "start_time": "2024-11-18T21:47:02.735Z"
   },
   {
    "duration": 40,
    "start_time": "2024-11-18T21:47:02.746Z"
   },
   {
    "duration": 5,
    "start_time": "2024-11-18T21:47:02.788Z"
   },
   {
    "duration": 0,
    "start_time": "2024-11-18T21:47:02.794Z"
   },
   {
    "duration": 0,
    "start_time": "2024-11-18T21:47:02.796Z"
   },
   {
    "duration": 0,
    "start_time": "2024-11-18T21:47:02.798Z"
   },
   {
    "duration": 0,
    "start_time": "2024-11-18T21:47:02.799Z"
   },
   {
    "duration": 0,
    "start_time": "2024-11-18T21:47:02.800Z"
   },
   {
    "duration": 0,
    "start_time": "2024-11-18T21:47:02.801Z"
   },
   {
    "duration": 0,
    "start_time": "2024-11-18T21:47:02.803Z"
   },
   {
    "duration": 0,
    "start_time": "2024-11-18T21:47:02.805Z"
   },
   {
    "duration": 6,
    "start_time": "2024-11-18T21:55:13.687Z"
   },
   {
    "duration": 196,
    "start_time": "2024-11-18T21:56:33.367Z"
   },
   {
    "duration": 158,
    "start_time": "2024-11-18T22:47:26.568Z"
   },
   {
    "duration": 2600,
    "start_time": "2024-11-18T22:47:36.276Z"
   },
   {
    "duration": 99,
    "start_time": "2024-11-18T22:47:38.878Z"
   },
   {
    "duration": 77,
    "start_time": "2024-11-18T22:47:38.979Z"
   },
   {
    "duration": 60,
    "start_time": "2024-11-18T22:47:39.058Z"
   },
   {
    "duration": 12,
    "start_time": "2024-11-18T22:47:39.120Z"
   },
   {
    "duration": 17,
    "start_time": "2024-11-18T22:47:39.134Z"
   },
   {
    "duration": 9,
    "start_time": "2024-11-18T22:47:39.153Z"
   },
   {
    "duration": 7,
    "start_time": "2024-11-18T22:47:39.164Z"
   },
   {
    "duration": 4,
    "start_time": "2024-11-18T22:47:39.172Z"
   },
   {
    "duration": 0,
    "start_time": "2024-11-18T22:47:39.179Z"
   },
   {
    "duration": 1,
    "start_time": "2024-11-18T22:47:39.180Z"
   },
   {
    "duration": 0,
    "start_time": "2024-11-18T22:47:39.182Z"
   },
   {
    "duration": 0,
    "start_time": "2024-11-18T22:47:39.183Z"
   },
   {
    "duration": 0,
    "start_time": "2024-11-18T22:47:39.184Z"
   },
   {
    "duration": 0,
    "start_time": "2024-11-18T22:47:39.185Z"
   },
   {
    "duration": 0,
    "start_time": "2024-11-18T22:47:39.187Z"
   },
   {
    "duration": 0,
    "start_time": "2024-11-18T22:47:39.188Z"
   },
   {
    "duration": 0,
    "start_time": "2024-11-18T22:47:39.189Z"
   },
   {
    "duration": 0,
    "start_time": "2024-11-18T22:47:39.190Z"
   },
   {
    "duration": 0,
    "start_time": "2024-11-18T22:47:39.190Z"
   },
   {
    "duration": 0,
    "start_time": "2024-11-18T22:47:39.191Z"
   },
   {
    "duration": 0,
    "start_time": "2024-11-18T22:47:39.194Z"
   },
   {
    "duration": 0,
    "start_time": "2024-11-18T22:47:39.195Z"
   },
   {
    "duration": 0,
    "start_time": "2024-11-18T22:47:39.197Z"
   },
   {
    "duration": 0,
    "start_time": "2024-11-18T22:47:39.198Z"
   },
   {
    "duration": 0,
    "start_time": "2024-11-18T22:47:39.200Z"
   },
   {
    "duration": 0,
    "start_time": "2024-11-18T22:47:39.201Z"
   },
   {
    "duration": 0,
    "start_time": "2024-11-18T22:47:39.203Z"
   },
   {
    "duration": 0,
    "start_time": "2024-11-18T22:47:39.205Z"
   },
   {
    "duration": 0,
    "start_time": "2024-11-18T22:47:39.206Z"
   },
   {
    "duration": 0,
    "start_time": "2024-11-18T22:47:39.208Z"
   },
   {
    "duration": 0,
    "start_time": "2024-11-18T22:47:39.208Z"
   },
   {
    "duration": 0,
    "start_time": "2024-11-18T22:47:39.209Z"
   },
   {
    "duration": 0,
    "start_time": "2024-11-18T22:47:39.210Z"
   },
   {
    "duration": 0,
    "start_time": "2024-11-18T22:47:39.211Z"
   },
   {
    "duration": 0,
    "start_time": "2024-11-18T22:47:39.212Z"
   },
   {
    "duration": 0,
    "start_time": "2024-11-18T22:47:39.213Z"
   },
   {
    "duration": 0,
    "start_time": "2024-11-18T22:47:39.214Z"
   },
   {
    "duration": 0,
    "start_time": "2024-11-18T22:47:39.215Z"
   },
   {
    "duration": 0,
    "start_time": "2024-11-18T22:47:39.215Z"
   },
   {
    "duration": 0,
    "start_time": "2024-11-18T22:47:39.216Z"
   },
   {
    "duration": 0,
    "start_time": "2024-11-18T22:47:39.216Z"
   },
   {
    "duration": 0,
    "start_time": "2024-11-18T22:47:39.217Z"
   },
   {
    "duration": 796,
    "start_time": "2024-11-18T22:48:06.151Z"
   },
   {
    "duration": 84,
    "start_time": "2024-11-18T22:48:06.949Z"
   },
   {
    "duration": 68,
    "start_time": "2024-11-18T22:48:07.035Z"
   },
   {
    "duration": 38,
    "start_time": "2024-11-18T22:48:07.106Z"
   },
   {
    "duration": 9,
    "start_time": "2024-11-18T22:48:07.146Z"
   },
   {
    "duration": 21,
    "start_time": "2024-11-18T22:48:07.169Z"
   },
   {
    "duration": 8,
    "start_time": "2024-11-18T22:48:07.192Z"
   },
   {
    "duration": 7,
    "start_time": "2024-11-18T22:48:07.202Z"
   },
   {
    "duration": 14,
    "start_time": "2024-11-18T22:48:07.211Z"
   },
   {
    "duration": 11,
    "start_time": "2024-11-18T22:48:07.230Z"
   },
   {
    "duration": 33,
    "start_time": "2024-11-18T22:48:07.242Z"
   },
   {
    "duration": 15,
    "start_time": "2024-11-18T22:48:07.277Z"
   },
   {
    "duration": 8,
    "start_time": "2024-11-18T22:48:07.294Z"
   },
   {
    "duration": 18,
    "start_time": "2024-11-18T22:48:07.304Z"
   },
   {
    "duration": 11,
    "start_time": "2024-11-18T22:48:07.325Z"
   },
   {
    "duration": 40,
    "start_time": "2024-11-18T22:48:07.338Z"
   },
   {
    "duration": 9,
    "start_time": "2024-11-18T22:48:07.380Z"
   },
   {
    "duration": 14,
    "start_time": "2024-11-18T22:48:07.390Z"
   },
   {
    "duration": 10,
    "start_time": "2024-11-18T22:48:07.405Z"
   },
   {
    "duration": 7,
    "start_time": "2024-11-18T22:48:07.416Z"
   },
   {
    "duration": 47,
    "start_time": "2024-11-18T22:48:07.424Z"
   },
   {
    "duration": 26,
    "start_time": "2024-11-18T22:48:07.472Z"
   },
   {
    "duration": 20,
    "start_time": "2024-11-18T22:48:07.500Z"
   },
   {
    "duration": 8,
    "start_time": "2024-11-18T22:48:07.522Z"
   },
   {
    "duration": 49,
    "start_time": "2024-11-18T22:48:07.531Z"
   },
   {
    "duration": 9,
    "start_time": "2024-11-18T22:48:07.583Z"
   },
   {
    "duration": 24,
    "start_time": "2024-11-18T22:48:07.594Z"
   },
   {
    "duration": 11,
    "start_time": "2024-11-18T22:48:07.622Z"
   },
   {
    "duration": 9,
    "start_time": "2024-11-18T22:48:07.635Z"
   },
   {
    "duration": 8,
    "start_time": "2024-11-18T22:48:07.671Z"
   },
   {
    "duration": 6,
    "start_time": "2024-11-18T22:48:07.690Z"
   },
   {
    "duration": 11,
    "start_time": "2024-11-18T22:48:07.697Z"
   },
   {
    "duration": 6,
    "start_time": "2024-11-18T22:48:07.710Z"
   },
   {
    "duration": 207,
    "start_time": "2024-11-18T22:48:07.718Z"
   },
   {
    "duration": 0,
    "start_time": "2024-11-18T22:48:07.927Z"
   },
   {
    "duration": 0,
    "start_time": "2024-11-18T22:48:07.928Z"
   },
   {
    "duration": 0,
    "start_time": "2024-11-18T22:48:07.928Z"
   },
   {
    "duration": 0,
    "start_time": "2024-11-18T22:48:07.930Z"
   },
   {
    "duration": 0,
    "start_time": "2024-11-18T22:48:07.931Z"
   },
   {
    "duration": 0,
    "start_time": "2024-11-18T22:48:07.932Z"
   },
   {
    "duration": 0,
    "start_time": "2024-11-18T22:48:07.933Z"
   },
   {
    "duration": 0,
    "start_time": "2024-11-18T22:48:07.934Z"
   },
   {
    "duration": 13,
    "start_time": "2024-11-18T22:48:45.016Z"
   },
   {
    "duration": 13,
    "start_time": "2024-11-18T22:51:28.155Z"
   },
   {
    "duration": 15,
    "start_time": "2024-11-18T23:01:03.669Z"
   },
   {
    "duration": 9,
    "start_time": "2024-11-18T23:01:53.574Z"
   },
   {
    "duration": 16,
    "start_time": "2024-11-18T23:12:48.144Z"
   },
   {
    "duration": 104,
    "start_time": "2024-11-18T23:15:58.252Z"
   },
   {
    "duration": 17,
    "start_time": "2024-11-18T23:16:07.921Z"
   },
   {
    "duration": 13,
    "start_time": "2024-11-18T23:17:30.040Z"
   },
   {
    "duration": 811,
    "start_time": "2024-11-18T23:17:57.859Z"
   },
   {
    "duration": 76,
    "start_time": "2024-11-18T23:17:58.672Z"
   },
   {
    "duration": 69,
    "start_time": "2024-11-18T23:17:58.749Z"
   },
   {
    "duration": 38,
    "start_time": "2024-11-18T23:17:58.821Z"
   },
   {
    "duration": 18,
    "start_time": "2024-11-18T23:17:58.861Z"
   },
   {
    "duration": 14,
    "start_time": "2024-11-18T23:17:58.881Z"
   },
   {
    "duration": 8,
    "start_time": "2024-11-18T23:17:58.896Z"
   },
   {
    "duration": 8,
    "start_time": "2024-11-18T23:17:58.906Z"
   },
   {
    "duration": 8,
    "start_time": "2024-11-18T23:17:58.915Z"
   },
   {
    "duration": 10,
    "start_time": "2024-11-18T23:17:58.926Z"
   },
   {
    "duration": 33,
    "start_time": "2024-11-18T23:17:58.937Z"
   },
   {
    "duration": 11,
    "start_time": "2024-11-18T23:17:58.972Z"
   },
   {
    "duration": 15,
    "start_time": "2024-11-18T23:17:58.984Z"
   },
   {
    "duration": 9,
    "start_time": "2024-11-18T23:17:59.000Z"
   },
   {
    "duration": 19,
    "start_time": "2024-11-18T23:17:59.011Z"
   },
   {
    "duration": 43,
    "start_time": "2024-11-18T23:17:59.032Z"
   },
   {
    "duration": 11,
    "start_time": "2024-11-18T23:17:59.077Z"
   },
   {
    "duration": 8,
    "start_time": "2024-11-18T23:17:59.090Z"
   },
   {
    "duration": 17,
    "start_time": "2024-11-18T23:17:59.099Z"
   },
   {
    "duration": 13,
    "start_time": "2024-11-18T23:17:59.118Z"
   },
   {
    "duration": 38,
    "start_time": "2024-11-18T23:17:59.133Z"
   },
   {
    "duration": 6,
    "start_time": "2024-11-18T23:17:59.173Z"
   },
   {
    "duration": 9,
    "start_time": "2024-11-18T23:17:59.181Z"
   },
   {
    "duration": 26,
    "start_time": "2024-11-18T23:17:59.192Z"
   },
   {
    "duration": 20,
    "start_time": "2024-11-18T23:17:59.219Z"
   },
   {
    "duration": 36,
    "start_time": "2024-11-18T23:17:59.241Z"
   },
   {
    "duration": 62,
    "start_time": "2024-11-18T23:17:59.278Z"
   },
   {
    "duration": 25,
    "start_time": "2024-11-18T23:17:59.344Z"
   },
   {
    "duration": 25,
    "start_time": "2024-11-18T23:17:59.370Z"
   },
   {
    "duration": 13,
    "start_time": "2024-11-18T23:17:59.396Z"
   },
   {
    "duration": 9,
    "start_time": "2024-11-18T23:17:59.410Z"
   },
   {
    "duration": 6,
    "start_time": "2024-11-18T23:17:59.422Z"
   },
   {
    "duration": 6,
    "start_time": "2024-11-18T23:17:59.430Z"
   },
   {
    "duration": 39,
    "start_time": "2024-11-18T23:17:59.438Z"
   },
   {
    "duration": 6,
    "start_time": "2024-11-18T23:17:59.480Z"
   },
   {
    "duration": 164,
    "start_time": "2024-11-18T23:17:59.488Z"
   },
   {
    "duration": 0,
    "start_time": "2024-11-18T23:17:59.654Z"
   },
   {
    "duration": 0,
    "start_time": "2024-11-18T23:17:59.655Z"
   },
   {
    "duration": 0,
    "start_time": "2024-11-18T23:17:59.656Z"
   },
   {
    "duration": 0,
    "start_time": "2024-11-18T23:17:59.657Z"
   },
   {
    "duration": 0,
    "start_time": "2024-11-18T23:17:59.670Z"
   },
   {
    "duration": 0,
    "start_time": "2024-11-18T23:17:59.671Z"
   },
   {
    "duration": 0,
    "start_time": "2024-11-18T23:17:59.672Z"
   },
   {
    "duration": 0,
    "start_time": "2024-11-18T23:17:59.673Z"
   },
   {
    "duration": 17,
    "start_time": "2024-11-18T23:23:45.216Z"
   },
   {
    "duration": 20,
    "start_time": "2024-11-18T23:24:03.652Z"
   },
   {
    "duration": 114,
    "start_time": "2024-11-18T23:27:30.142Z"
   },
   {
    "duration": 33,
    "start_time": "2024-11-18T23:29:51.851Z"
   },
   {
    "duration": 443,
    "start_time": "2024-11-18T23:30:11.108Z"
   },
   {
    "duration": 12,
    "start_time": "2024-11-18T23:30:40.700Z"
   },
   {
    "duration": 6,
    "start_time": "2024-11-18T23:31:00.198Z"
   },
   {
    "duration": 2509,
    "start_time": "2024-11-19T01:27:43.426Z"
   },
   {
    "duration": 97,
    "start_time": "2024-11-19T01:27:45.937Z"
   },
   {
    "duration": 77,
    "start_time": "2024-11-19T01:27:46.036Z"
   },
   {
    "duration": 48,
    "start_time": "2024-11-19T01:27:46.116Z"
   },
   {
    "duration": 11,
    "start_time": "2024-11-19T01:27:46.165Z"
   },
   {
    "duration": 14,
    "start_time": "2024-11-19T01:27:46.177Z"
   },
   {
    "duration": 8,
    "start_time": "2024-11-19T01:27:46.193Z"
   },
   {
    "duration": 7,
    "start_time": "2024-11-19T01:27:46.203Z"
   },
   {
    "duration": 8,
    "start_time": "2024-11-19T01:27:46.224Z"
   },
   {
    "duration": 11,
    "start_time": "2024-11-19T01:27:46.236Z"
   },
   {
    "duration": 3,
    "start_time": "2024-11-19T01:27:46.249Z"
   },
   {
    "duration": 10,
    "start_time": "2024-11-19T01:27:46.253Z"
   },
   {
    "duration": 14,
    "start_time": "2024-11-19T01:27:46.265Z"
   },
   {
    "duration": 44,
    "start_time": "2024-11-19T01:27:46.281Z"
   },
   {
    "duration": 18,
    "start_time": "2024-11-19T01:27:46.326Z"
   },
   {
    "duration": 11,
    "start_time": "2024-11-19T01:27:46.345Z"
   },
   {
    "duration": 13,
    "start_time": "2024-11-19T01:27:46.357Z"
   },
   {
    "duration": 10,
    "start_time": "2024-11-19T01:27:46.372Z"
   },
   {
    "duration": 43,
    "start_time": "2024-11-19T01:27:46.383Z"
   },
   {
    "duration": 16,
    "start_time": "2024-11-19T01:27:46.427Z"
   },
   {
    "duration": 9,
    "start_time": "2024-11-19T01:27:46.445Z"
   },
   {
    "duration": 22,
    "start_time": "2024-11-19T01:27:46.455Z"
   },
   {
    "duration": 6,
    "start_time": "2024-11-19T01:27:46.479Z"
   },
   {
    "duration": 45,
    "start_time": "2024-11-19T01:27:46.487Z"
   },
   {
    "duration": 26,
    "start_time": "2024-11-19T01:27:46.534Z"
   },
   {
    "duration": 20,
    "start_time": "2024-11-19T01:27:46.561Z"
   },
   {
    "duration": 8,
    "start_time": "2024-11-19T01:27:46.583Z"
   },
   {
    "duration": 42,
    "start_time": "2024-11-19T01:27:46.596Z"
   },
   {
    "duration": 10,
    "start_time": "2024-11-19T01:27:46.640Z"
   },
   {
    "duration": 21,
    "start_time": "2024-11-19T01:27:46.651Z"
   },
   {
    "duration": 12,
    "start_time": "2024-11-19T01:27:46.673Z"
   },
   {
    "duration": 38,
    "start_time": "2024-11-19T01:27:46.687Z"
   },
   {
    "duration": 11,
    "start_time": "2024-11-19T01:27:46.726Z"
   },
   {
    "duration": 7,
    "start_time": "2024-11-19T01:27:46.738Z"
   },
   {
    "duration": 10,
    "start_time": "2024-11-19T01:27:46.747Z"
   },
   {
    "duration": 276,
    "start_time": "2024-11-19T01:27:46.758Z"
   },
   {
    "duration": 0,
    "start_time": "2024-11-19T01:27:47.037Z"
   },
   {
    "duration": 0,
    "start_time": "2024-11-19T01:27:47.038Z"
   },
   {
    "duration": 0,
    "start_time": "2024-11-19T01:27:47.039Z"
   },
   {
    "duration": 0,
    "start_time": "2024-11-19T01:27:47.040Z"
   },
   {
    "duration": 0,
    "start_time": "2024-11-19T01:27:47.041Z"
   },
   {
    "duration": 0,
    "start_time": "2024-11-19T01:27:47.042Z"
   },
   {
    "duration": 0,
    "start_time": "2024-11-19T01:27:47.043Z"
   },
   {
    "duration": 1,
    "start_time": "2024-11-19T01:27:47.043Z"
   },
   {
    "duration": 0,
    "start_time": "2024-11-19T01:27:47.044Z"
   },
   {
    "duration": 0,
    "start_time": "2024-11-19T01:27:47.045Z"
   },
   {
    "duration": 37,
    "start_time": "2024-11-19T01:28:43.739Z"
   },
   {
    "duration": 29,
    "start_time": "2024-11-19T01:35:44.230Z"
   },
   {
    "duration": 800,
    "start_time": "2024-11-19T01:35:55.042Z"
   },
   {
    "duration": 74,
    "start_time": "2024-11-19T01:35:55.846Z"
   },
   {
    "duration": 58,
    "start_time": "2024-11-19T01:35:55.924Z"
   },
   {
    "duration": 50,
    "start_time": "2024-11-19T01:35:55.984Z"
   },
   {
    "duration": 10,
    "start_time": "2024-11-19T01:35:56.036Z"
   },
   {
    "duration": 14,
    "start_time": "2024-11-19T01:35:56.048Z"
   },
   {
    "duration": 8,
    "start_time": "2024-11-19T01:35:56.063Z"
   },
   {
    "duration": 6,
    "start_time": "2024-11-19T01:35:56.073Z"
   },
   {
    "duration": 8,
    "start_time": "2024-11-19T01:35:56.080Z"
   },
   {
    "duration": 36,
    "start_time": "2024-11-19T01:35:56.089Z"
   },
   {
    "duration": 3,
    "start_time": "2024-11-19T01:35:56.127Z"
   },
   {
    "duration": 11,
    "start_time": "2024-11-19T01:35:56.132Z"
   },
   {
    "duration": 15,
    "start_time": "2024-11-19T01:35:56.146Z"
   },
   {
    "duration": 9,
    "start_time": "2024-11-19T01:35:56.164Z"
   },
   {
    "duration": 18,
    "start_time": "2024-11-19T01:35:56.174Z"
   },
   {
    "duration": 10,
    "start_time": "2024-11-19T01:35:56.224Z"
   },
   {
    "duration": 12,
    "start_time": "2024-11-19T01:35:56.236Z"
   },
   {
    "duration": 9,
    "start_time": "2024-11-19T01:35:56.250Z"
   },
   {
    "duration": 21,
    "start_time": "2024-11-19T01:35:56.261Z"
   },
   {
    "duration": 45,
    "start_time": "2024-11-19T01:35:56.284Z"
   },
   {
    "duration": 9,
    "start_time": "2024-11-19T01:35:56.331Z"
   },
   {
    "duration": 28,
    "start_time": "2024-11-19T01:35:56.343Z"
   },
   {
    "duration": 6,
    "start_time": "2024-11-19T01:35:56.373Z"
   },
   {
    "duration": 9,
    "start_time": "2024-11-19T01:35:56.381Z"
   },
   {
    "duration": 59,
    "start_time": "2024-11-19T01:35:56.391Z"
   },
   {
    "duration": 19,
    "start_time": "2024-11-19T01:35:56.451Z"
   },
   {
    "duration": 8,
    "start_time": "2024-11-19T01:35:56.472Z"
   },
   {
    "duration": 81,
    "start_time": "2024-11-19T01:35:56.482Z"
   },
   {
    "duration": 12,
    "start_time": "2024-11-19T01:35:56.565Z"
   },
   {
    "duration": 21,
    "start_time": "2024-11-19T01:35:56.579Z"
   },
   {
    "duration": 37,
    "start_time": "2024-11-19T01:35:56.602Z"
   },
   {
    "duration": 9,
    "start_time": "2024-11-19T01:35:56.640Z"
   },
   {
    "duration": 10,
    "start_time": "2024-11-19T01:35:56.651Z"
   },
   {
    "duration": 11,
    "start_time": "2024-11-19T01:35:56.665Z"
   },
   {
    "duration": 12,
    "start_time": "2024-11-19T01:35:56.677Z"
   },
   {
    "duration": 175,
    "start_time": "2024-11-19T01:35:56.691Z"
   },
   {
    "duration": 0,
    "start_time": "2024-11-19T01:35:56.869Z"
   },
   {
    "duration": 0,
    "start_time": "2024-11-19T01:35:56.871Z"
   },
   {
    "duration": 0,
    "start_time": "2024-11-19T01:35:56.872Z"
   },
   {
    "duration": 0,
    "start_time": "2024-11-19T01:35:56.873Z"
   },
   {
    "duration": 0,
    "start_time": "2024-11-19T01:35:56.875Z"
   },
   {
    "duration": 0,
    "start_time": "2024-11-19T01:35:56.876Z"
   },
   {
    "duration": 0,
    "start_time": "2024-11-19T01:35:56.877Z"
   },
   {
    "duration": 0,
    "start_time": "2024-11-19T01:35:56.878Z"
   },
   {
    "duration": 0,
    "start_time": "2024-11-19T01:35:56.880Z"
   },
   {
    "duration": 17,
    "start_time": "2024-11-19T01:38:34.003Z"
   },
   {
    "duration": 27,
    "start_time": "2024-11-19T01:39:34.338Z"
   },
   {
    "duration": 18,
    "start_time": "2024-11-19T01:40:23.625Z"
   },
   {
    "duration": 758,
    "start_time": "2024-11-19T01:42:05.879Z"
   },
   {
    "duration": 74,
    "start_time": "2024-11-19T01:42:06.639Z"
   },
   {
    "duration": 55,
    "start_time": "2024-11-19T01:42:06.724Z"
   },
   {
    "duration": 49,
    "start_time": "2024-11-19T01:42:06.783Z"
   },
   {
    "duration": 10,
    "start_time": "2024-11-19T01:42:06.834Z"
   },
   {
    "duration": 13,
    "start_time": "2024-11-19T01:42:06.845Z"
   },
   {
    "duration": 8,
    "start_time": "2024-11-19T01:42:06.860Z"
   },
   {
    "duration": 7,
    "start_time": "2024-11-19T01:42:06.869Z"
   },
   {
    "duration": 8,
    "start_time": "2024-11-19T01:42:06.877Z"
   },
   {
    "duration": 44,
    "start_time": "2024-11-19T01:42:06.888Z"
   },
   {
    "duration": 3,
    "start_time": "2024-11-19T01:42:06.933Z"
   },
   {
    "duration": 10,
    "start_time": "2024-11-19T01:42:06.938Z"
   },
   {
    "duration": 14,
    "start_time": "2024-11-19T01:42:06.950Z"
   },
   {
    "duration": 10,
    "start_time": "2024-11-19T01:42:06.965Z"
   },
   {
    "duration": 19,
    "start_time": "2024-11-19T01:42:06.976Z"
   },
   {
    "duration": 11,
    "start_time": "2024-11-19T01:42:07.023Z"
   },
   {
    "duration": 12,
    "start_time": "2024-11-19T01:42:07.035Z"
   },
   {
    "duration": 9,
    "start_time": "2024-11-19T01:42:07.048Z"
   },
   {
    "duration": 17,
    "start_time": "2024-11-19T01:42:07.058Z"
   },
   {
    "duration": 13,
    "start_time": "2024-11-19T01:42:07.077Z"
   },
   {
    "duration": 9,
    "start_time": "2024-11-19T01:42:07.123Z"
   },
   {
    "duration": 22,
    "start_time": "2024-11-19T01:42:07.134Z"
   },
   {
    "duration": 7,
    "start_time": "2024-11-19T01:42:07.157Z"
   },
   {
    "duration": 9,
    "start_time": "2024-11-19T01:42:07.166Z"
   },
   {
    "duration": 54,
    "start_time": "2024-11-19T01:42:07.177Z"
   },
   {
    "duration": 2,
    "start_time": "2024-11-19T01:42:07.233Z"
   },
   {
    "duration": 19,
    "start_time": "2024-11-19T01:42:07.236Z"
   },
   {
    "duration": 8,
    "start_time": "2024-11-19T01:42:07.259Z"
   },
   {
    "duration": 84,
    "start_time": "2024-11-19T01:42:07.269Z"
   },
   {
    "duration": 11,
    "start_time": "2024-11-19T01:42:07.355Z"
   },
   {
    "duration": 249,
    "start_time": "2024-11-19T01:42:07.367Z"
   },
   {
    "duration": 0,
    "start_time": "2024-11-19T01:42:07.618Z"
   },
   {
    "duration": 0,
    "start_time": "2024-11-19T01:42:07.625Z"
   },
   {
    "duration": 0,
    "start_time": "2024-11-19T01:42:07.626Z"
   },
   {
    "duration": 0,
    "start_time": "2024-11-19T01:42:07.627Z"
   },
   {
    "duration": 0,
    "start_time": "2024-11-19T01:42:07.628Z"
   },
   {
    "duration": 0,
    "start_time": "2024-11-19T01:42:07.629Z"
   },
   {
    "duration": 0,
    "start_time": "2024-11-19T01:42:07.632Z"
   },
   {
    "duration": 0,
    "start_time": "2024-11-19T01:42:07.633Z"
   },
   {
    "duration": 0,
    "start_time": "2024-11-19T01:42:07.634Z"
   },
   {
    "duration": 0,
    "start_time": "2024-11-19T01:42:07.635Z"
   },
   {
    "duration": 0,
    "start_time": "2024-11-19T01:42:07.637Z"
   },
   {
    "duration": 0,
    "start_time": "2024-11-19T01:42:07.638Z"
   },
   {
    "duration": 0,
    "start_time": "2024-11-19T01:42:07.640Z"
   },
   {
    "duration": 0,
    "start_time": "2024-11-19T01:42:07.641Z"
   },
   {
    "duration": 0,
    "start_time": "2024-11-19T01:42:07.642Z"
   },
   {
    "duration": 21,
    "start_time": "2024-11-19T01:43:01.478Z"
   },
   {
    "duration": 32,
    "start_time": "2024-11-19T01:43:37.293Z"
   },
   {
    "duration": 21,
    "start_time": "2024-11-19T01:44:49.908Z"
   },
   {
    "duration": 176,
    "start_time": "2024-11-19T01:45:00.958Z"
   },
   {
    "duration": 780,
    "start_time": "2024-11-19T01:46:15.861Z"
   },
   {
    "duration": 74,
    "start_time": "2024-11-19T01:46:16.643Z"
   },
   {
    "duration": 56,
    "start_time": "2024-11-19T01:46:16.724Z"
   },
   {
    "duration": 45,
    "start_time": "2024-11-19T01:46:16.782Z"
   },
   {
    "duration": 8,
    "start_time": "2024-11-19T01:46:16.830Z"
   },
   {
    "duration": 13,
    "start_time": "2024-11-19T01:46:16.840Z"
   },
   {
    "duration": 9,
    "start_time": "2024-11-19T01:46:16.854Z"
   },
   {
    "duration": 6,
    "start_time": "2024-11-19T01:46:16.865Z"
   },
   {
    "duration": 7,
    "start_time": "2024-11-19T01:46:16.873Z"
   },
   {
    "duration": 46,
    "start_time": "2024-11-19T01:46:16.882Z"
   },
   {
    "duration": 2,
    "start_time": "2024-11-19T01:46:16.930Z"
   },
   {
    "duration": 10,
    "start_time": "2024-11-19T01:46:16.934Z"
   },
   {
    "duration": 15,
    "start_time": "2024-11-19T01:46:16.945Z"
   },
   {
    "duration": 10,
    "start_time": "2024-11-19T01:46:16.963Z"
   },
   {
    "duration": 18,
    "start_time": "2024-11-19T01:46:16.975Z"
   },
   {
    "duration": 34,
    "start_time": "2024-11-19T01:46:16.995Z"
   },
   {
    "duration": 11,
    "start_time": "2024-11-19T01:46:17.031Z"
   },
   {
    "duration": 12,
    "start_time": "2024-11-19T01:46:17.044Z"
   },
   {
    "duration": 19,
    "start_time": "2024-11-19T01:46:17.057Z"
   },
   {
    "duration": 14,
    "start_time": "2024-11-19T01:46:17.077Z"
   },
   {
    "duration": 10,
    "start_time": "2024-11-19T01:46:17.124Z"
   },
   {
    "duration": 21,
    "start_time": "2024-11-19T01:46:17.136Z"
   },
   {
    "duration": 6,
    "start_time": "2024-11-19T01:46:17.159Z"
   },
   {
    "duration": 9,
    "start_time": "2024-11-19T01:46:17.167Z"
   },
   {
    "duration": 56,
    "start_time": "2024-11-19T01:46:17.178Z"
   },
   {
    "duration": 2,
    "start_time": "2024-11-19T01:46:17.235Z"
   },
   {
    "duration": 20,
    "start_time": "2024-11-19T01:46:17.239Z"
   },
   {
    "duration": 9,
    "start_time": "2024-11-19T01:46:17.261Z"
   },
   {
    "duration": 78,
    "start_time": "2024-11-19T01:46:17.271Z"
   },
   {
    "duration": 11,
    "start_time": "2024-11-19T01:46:17.351Z"
   },
   {
    "duration": 21,
    "start_time": "2024-11-19T01:46:17.364Z"
   },
   {
    "duration": 38,
    "start_time": "2024-11-19T01:46:17.386Z"
   },
   {
    "duration": 15,
    "start_time": "2024-11-19T01:46:21.033Z"
   },
   {
    "duration": 132,
    "start_time": "2024-11-19T01:48:03.394Z"
   },
   {
    "duration": 9,
    "start_time": "2024-11-19T01:48:22.730Z"
   },
   {
    "duration": 7,
    "start_time": "2024-11-19T01:48:29.759Z"
   },
   {
    "duration": 19,
    "start_time": "2024-11-19T01:50:16.254Z"
   },
   {
    "duration": 23,
    "start_time": "2024-11-19T01:52:13.346Z"
   },
   {
    "duration": 746,
    "start_time": "2024-11-19T01:52:37.990Z"
   },
   {
    "duration": 75,
    "start_time": "2024-11-19T01:52:38.737Z"
   },
   {
    "duration": 65,
    "start_time": "2024-11-19T01:52:38.814Z"
   },
   {
    "duration": 46,
    "start_time": "2024-11-19T01:52:38.881Z"
   },
   {
    "duration": 10,
    "start_time": "2024-11-19T01:52:38.929Z"
   },
   {
    "duration": 14,
    "start_time": "2024-11-19T01:52:38.940Z"
   },
   {
    "duration": 9,
    "start_time": "2024-11-19T01:52:38.956Z"
   },
   {
    "duration": 6,
    "start_time": "2024-11-19T01:52:38.966Z"
   },
   {
    "duration": 8,
    "start_time": "2024-11-19T01:52:38.974Z"
   },
   {
    "duration": 40,
    "start_time": "2024-11-19T01:52:38.985Z"
   },
   {
    "duration": 2,
    "start_time": "2024-11-19T01:52:39.028Z"
   },
   {
    "duration": 11,
    "start_time": "2024-11-19T01:52:39.032Z"
   },
   {
    "duration": 14,
    "start_time": "2024-11-19T01:52:39.045Z"
   },
   {
    "duration": 8,
    "start_time": "2024-11-19T01:52:39.062Z"
   },
   {
    "duration": 18,
    "start_time": "2024-11-19T01:52:39.072Z"
   },
   {
    "duration": 43,
    "start_time": "2024-11-19T01:52:39.091Z"
   },
   {
    "duration": 14,
    "start_time": "2024-11-19T01:52:39.136Z"
   },
   {
    "duration": 10,
    "start_time": "2024-11-19T01:52:39.151Z"
   },
   {
    "duration": 18,
    "start_time": "2024-11-19T01:52:39.164Z"
   },
   {
    "duration": 14,
    "start_time": "2024-11-19T01:52:39.183Z"
   },
   {
    "duration": 9,
    "start_time": "2024-11-19T01:52:39.223Z"
   },
   {
    "duration": 22,
    "start_time": "2024-11-19T01:52:39.234Z"
   },
   {
    "duration": 7,
    "start_time": "2024-11-19T01:52:39.257Z"
   },
   {
    "duration": 9,
    "start_time": "2024-11-19T01:52:39.266Z"
   },
   {
    "duration": 53,
    "start_time": "2024-11-19T01:52:39.276Z"
   },
   {
    "duration": 3,
    "start_time": "2024-11-19T01:52:39.331Z"
   },
   {
    "duration": 19,
    "start_time": "2024-11-19T01:52:39.335Z"
   },
   {
    "duration": 8,
    "start_time": "2024-11-19T01:52:39.358Z"
   },
   {
    "duration": 82,
    "start_time": "2024-11-19T01:52:39.368Z"
   },
   {
    "duration": 11,
    "start_time": "2024-11-19T01:52:39.453Z"
   },
   {
    "duration": 20,
    "start_time": "2024-11-19T01:52:39.465Z"
   },
   {
    "duration": 39,
    "start_time": "2024-11-19T01:52:39.486Z"
   },
   {
    "duration": 24,
    "start_time": "2024-11-19T01:52:39.526Z"
   },
   {
    "duration": 169,
    "start_time": "2024-11-19T01:58:18.924Z"
   },
   {
    "duration": 102,
    "start_time": "2024-11-19T01:58:34.611Z"
   },
   {
    "duration": 112,
    "start_time": "2024-11-19T01:59:05.548Z"
   },
   {
    "duration": 282,
    "start_time": "2024-11-19T02:00:50.024Z"
   },
   {
    "duration": 163,
    "start_time": "2024-11-19T02:01:49.646Z"
   },
   {
    "duration": 112,
    "start_time": "2024-11-19T02:02:59.145Z"
   },
   {
    "duration": 802,
    "start_time": "2024-11-19T02:03:11.844Z"
   },
   {
    "duration": 79,
    "start_time": "2024-11-19T02:03:12.649Z"
   },
   {
    "duration": 57,
    "start_time": "2024-11-19T02:03:12.729Z"
   },
   {
    "duration": 45,
    "start_time": "2024-11-19T02:03:12.787Z"
   },
   {
    "duration": 9,
    "start_time": "2024-11-19T02:03:12.835Z"
   },
   {
    "duration": 13,
    "start_time": "2024-11-19T02:03:12.846Z"
   },
   {
    "duration": 8,
    "start_time": "2024-11-19T02:03:12.861Z"
   },
   {
    "duration": 6,
    "start_time": "2024-11-19T02:03:12.871Z"
   },
   {
    "duration": 7,
    "start_time": "2024-11-19T02:03:12.879Z"
   },
   {
    "duration": 44,
    "start_time": "2024-11-19T02:03:12.888Z"
   },
   {
    "duration": 3,
    "start_time": "2024-11-19T02:03:12.933Z"
   },
   {
    "duration": 10,
    "start_time": "2024-11-19T02:03:12.938Z"
   },
   {
    "duration": 15,
    "start_time": "2024-11-19T02:03:12.949Z"
   },
   {
    "duration": 8,
    "start_time": "2024-11-19T02:03:12.968Z"
   },
   {
    "duration": 19,
    "start_time": "2024-11-19T02:03:12.978Z"
   },
   {
    "duration": 10,
    "start_time": "2024-11-19T02:03:13.024Z"
   },
   {
    "duration": 11,
    "start_time": "2024-11-19T02:03:13.036Z"
   },
   {
    "duration": 8,
    "start_time": "2024-11-19T02:03:13.050Z"
   },
   {
    "duration": 18,
    "start_time": "2024-11-19T02:03:13.059Z"
   },
   {
    "duration": 13,
    "start_time": "2024-11-19T02:03:13.078Z"
   },
   {
    "duration": 8,
    "start_time": "2024-11-19T02:03:13.124Z"
   },
   {
    "duration": 26,
    "start_time": "2024-11-19T02:03:13.133Z"
   },
   {
    "duration": 8,
    "start_time": "2024-11-19T02:03:13.161Z"
   },
   {
    "duration": 10,
    "start_time": "2024-11-19T02:03:13.170Z"
   },
   {
    "duration": 56,
    "start_time": "2024-11-19T02:03:13.183Z"
   },
   {
    "duration": 2,
    "start_time": "2024-11-19T02:03:13.242Z"
   },
   {
    "duration": 19,
    "start_time": "2024-11-19T02:03:13.246Z"
   },
   {
    "duration": 9,
    "start_time": "2024-11-19T02:03:13.267Z"
   },
   {
    "duration": 80,
    "start_time": "2024-11-19T02:03:13.277Z"
   },
   {
    "duration": 10,
    "start_time": "2024-11-19T02:03:13.359Z"
   },
   {
    "duration": 22,
    "start_time": "2024-11-19T02:03:13.371Z"
   },
   {
    "duration": 33,
    "start_time": "2024-11-19T02:03:13.394Z"
   },
   {
    "duration": 25,
    "start_time": "2024-11-19T02:03:13.429Z"
   },
   {
    "duration": 2,
    "start_time": "2024-11-19T02:03:13.456Z"
   },
   {
    "duration": 10,
    "start_time": "2024-11-19T02:03:13.459Z"
   },
   {
    "duration": 194,
    "start_time": "2024-11-19T02:03:13.470Z"
   },
   {
    "duration": 128,
    "start_time": "2024-11-19T02:03:13.666Z"
   },
   {
    "duration": 4,
    "start_time": "2024-11-19T02:03:13.796Z"
   },
   {
    "duration": 107,
    "start_time": "2024-11-19T02:03:13.801Z"
   },
   {
    "duration": 19,
    "start_time": "2024-11-19T02:03:13.909Z"
   },
   {
    "duration": 555,
    "start_time": "2024-11-19T02:03:13.932Z"
   },
   {
    "duration": 1,
    "start_time": "2024-11-19T02:03:14.489Z"
   },
   {
    "duration": 0,
    "start_time": "2024-11-19T02:03:14.491Z"
   },
   {
    "duration": 0,
    "start_time": "2024-11-19T02:03:14.493Z"
   },
   {
    "duration": 0,
    "start_time": "2024-11-19T02:03:14.494Z"
   },
   {
    "duration": 2652,
    "start_time": "2024-11-19T22:21:34.989Z"
   },
   {
    "duration": 111,
    "start_time": "2024-11-19T22:21:37.643Z"
   },
   {
    "duration": 91,
    "start_time": "2024-11-19T22:21:37.756Z"
   },
   {
    "duration": 61,
    "start_time": "2024-11-19T22:21:37.848Z"
   },
   {
    "duration": 12,
    "start_time": "2024-11-19T22:21:37.913Z"
   },
   {
    "duration": 21,
    "start_time": "2024-11-19T22:21:37.927Z"
   },
   {
    "duration": 11,
    "start_time": "2024-11-19T22:21:37.949Z"
   },
   {
    "duration": 7,
    "start_time": "2024-11-19T22:21:37.962Z"
   },
   {
    "duration": 8,
    "start_time": "2024-11-19T22:21:37.971Z"
   },
   {
    "duration": 17,
    "start_time": "2024-11-19T22:21:37.980Z"
   },
   {
    "duration": 3,
    "start_time": "2024-11-19T22:21:37.999Z"
   },
   {
    "duration": 40,
    "start_time": "2024-11-19T22:21:38.003Z"
   },
   {
    "duration": 15,
    "start_time": "2024-11-19T22:21:38.046Z"
   },
   {
    "duration": 9,
    "start_time": "2024-11-19T22:21:38.065Z"
   },
   {
    "duration": 18,
    "start_time": "2024-11-19T22:21:38.076Z"
   },
   {
    "duration": 35,
    "start_time": "2024-11-19T22:21:38.096Z"
   },
   {
    "duration": 15,
    "start_time": "2024-11-19T22:21:38.136Z"
   },
   {
    "duration": 9,
    "start_time": "2024-11-19T22:21:38.153Z"
   },
   {
    "duration": 20,
    "start_time": "2024-11-19T22:21:38.163Z"
   },
   {
    "duration": 14,
    "start_time": "2024-11-19T22:21:38.184Z"
   },
   {
    "duration": 41,
    "start_time": "2024-11-19T22:21:38.200Z"
   },
   {
    "duration": 25,
    "start_time": "2024-11-19T22:21:38.243Z"
   },
   {
    "duration": 6,
    "start_time": "2024-11-19T22:21:38.271Z"
   },
   {
    "duration": 11,
    "start_time": "2024-11-19T22:21:38.279Z"
   },
   {
    "duration": 61,
    "start_time": "2024-11-19T22:21:38.291Z"
   },
   {
    "duration": 4,
    "start_time": "2024-11-19T22:21:38.354Z"
   },
   {
    "duration": 21,
    "start_time": "2024-11-19T22:21:38.360Z"
   },
   {
    "duration": 8,
    "start_time": "2024-11-19T22:21:38.383Z"
   },
   {
    "duration": 41,
    "start_time": "2024-11-19T22:21:38.393Z"
   },
   {
    "duration": 12,
    "start_time": "2024-11-19T22:21:38.435Z"
   },
   {
    "duration": 25,
    "start_time": "2024-11-19T22:21:38.449Z"
   },
   {
    "duration": 17,
    "start_time": "2024-11-19T22:21:38.475Z"
   },
   {
    "duration": 55,
    "start_time": "2024-11-19T22:21:38.493Z"
   },
   {
    "duration": 3,
    "start_time": "2024-11-19T22:21:38.550Z"
   },
   {
    "duration": 10,
    "start_time": "2024-11-19T22:21:38.555Z"
   },
   {
    "duration": 244,
    "start_time": "2024-11-19T22:21:38.567Z"
   },
   {
    "duration": 123,
    "start_time": "2024-11-19T22:21:38.813Z"
   },
   {
    "duration": 4,
    "start_time": "2024-11-19T22:21:38.938Z"
   },
   {
    "duration": 106,
    "start_time": "2024-11-19T22:21:38.944Z"
   },
   {
    "duration": 10,
    "start_time": "2024-11-19T22:21:39.053Z"
   },
   {
    "duration": 592,
    "start_time": "2024-11-19T22:21:39.067Z"
   },
   {
    "duration": 0,
    "start_time": "2024-11-19T22:21:39.661Z"
   },
   {
    "duration": 0,
    "start_time": "2024-11-19T22:21:39.662Z"
   },
   {
    "duration": 0,
    "start_time": "2024-11-19T22:21:39.663Z"
   },
   {
    "duration": 0,
    "start_time": "2024-11-19T22:21:39.664Z"
   },
   {
    "duration": 220,
    "start_time": "2024-11-19T22:51:33.039Z"
   },
   {
    "duration": 45,
    "start_time": "2024-11-19T22:53:50.724Z"
   },
   {
    "duration": 20,
    "start_time": "2024-11-19T22:54:16.091Z"
   },
   {
    "duration": 30,
    "start_time": "2024-11-19T22:54:45.359Z"
   },
   {
    "duration": 196,
    "start_time": "2024-11-19T22:56:44.453Z"
   },
   {
    "duration": 199,
    "start_time": "2024-11-19T22:57:41.302Z"
   },
   {
    "duration": 26,
    "start_time": "2024-11-19T23:03:31.264Z"
   },
   {
    "duration": 100,
    "start_time": "2024-11-19T23:05:55.048Z"
   },
   {
    "duration": 140,
    "start_time": "2024-11-19T23:06:32.550Z"
   },
   {
    "duration": 15,
    "start_time": "2024-11-19T23:09:12.081Z"
   },
   {
    "duration": 94,
    "start_time": "2024-11-19T23:09:19.872Z"
   },
   {
    "duration": 111,
    "start_time": "2024-11-19T23:09:43.390Z"
   },
   {
    "duration": 112,
    "start_time": "2024-11-19T23:10:26.362Z"
   },
   {
    "duration": 26,
    "start_time": "2024-11-19T23:12:44.247Z"
   },
   {
    "duration": 26,
    "start_time": "2024-11-19T23:15:58.780Z"
   },
   {
    "duration": 8,
    "start_time": "2024-11-19T23:17:08.825Z"
   },
   {
    "duration": 26,
    "start_time": "2024-11-19T23:20:12.102Z"
   },
   {
    "duration": 17,
    "start_time": "2024-11-19T23:26:39.742Z"
   },
   {
    "duration": 8,
    "start_time": "2024-11-19T23:28:06.012Z"
   },
   {
    "duration": 2676,
    "start_time": "2024-11-20T01:55:11.251Z"
   },
   {
    "duration": 103,
    "start_time": "2024-11-20T01:55:13.929Z"
   },
   {
    "duration": 82,
    "start_time": "2024-11-20T01:55:14.034Z"
   },
   {
    "duration": 55,
    "start_time": "2024-11-20T01:55:14.118Z"
   },
   {
    "duration": 11,
    "start_time": "2024-11-20T01:55:14.175Z"
   },
   {
    "duration": 18,
    "start_time": "2024-11-20T01:55:14.188Z"
   },
   {
    "duration": 9,
    "start_time": "2024-11-20T01:55:14.207Z"
   },
   {
    "duration": 7,
    "start_time": "2024-11-20T01:55:14.217Z"
   },
   {
    "duration": 8,
    "start_time": "2024-11-20T01:55:14.226Z"
   },
   {
    "duration": 12,
    "start_time": "2024-11-20T01:55:14.236Z"
   },
   {
    "duration": 3,
    "start_time": "2024-11-20T01:55:14.249Z"
   },
   {
    "duration": 11,
    "start_time": "2024-11-20T01:55:14.254Z"
   },
   {
    "duration": 53,
    "start_time": "2024-11-20T01:55:14.266Z"
   },
   {
    "duration": 10,
    "start_time": "2024-11-20T01:55:14.322Z"
   },
   {
    "duration": 18,
    "start_time": "2024-11-20T01:55:14.334Z"
   },
   {
    "duration": 13,
    "start_time": "2024-11-20T01:55:14.354Z"
   },
   {
    "duration": 46,
    "start_time": "2024-11-20T01:55:14.369Z"
   },
   {
    "duration": 11,
    "start_time": "2024-11-20T01:55:14.417Z"
   },
   {
    "duration": 23,
    "start_time": "2024-11-20T01:55:14.430Z"
   },
   {
    "duration": 17,
    "start_time": "2024-11-20T01:55:14.455Z"
   },
   {
    "duration": 37,
    "start_time": "2024-11-20T01:55:14.473Z"
   },
   {
    "duration": 27,
    "start_time": "2024-11-20T01:55:14.513Z"
   },
   {
    "duration": 8,
    "start_time": "2024-11-20T01:55:14.543Z"
   },
   {
    "duration": 11,
    "start_time": "2024-11-20T01:55:14.553Z"
   },
   {
    "duration": 66,
    "start_time": "2024-11-20T01:55:14.566Z"
   },
   {
    "duration": 3,
    "start_time": "2024-11-20T01:55:14.634Z"
   },
   {
    "duration": 31,
    "start_time": "2024-11-20T01:55:14.638Z"
   },
   {
    "duration": 35,
    "start_time": "2024-11-20T01:55:14.671Z"
   },
   {
    "duration": 27,
    "start_time": "2024-11-20T01:55:14.709Z"
   },
   {
    "duration": 17,
    "start_time": "2024-11-20T01:55:14.738Z"
   },
   {
    "duration": 46,
    "start_time": "2024-11-20T01:55:14.759Z"
   },
   {
    "duration": 23,
    "start_time": "2024-11-20T01:55:14.808Z"
   },
   {
    "duration": 30,
    "start_time": "2024-11-20T01:55:14.834Z"
   },
   {
    "duration": 59,
    "start_time": "2024-11-20T01:55:14.866Z"
   },
   {
    "duration": 13,
    "start_time": "2024-11-20T01:55:14.927Z"
   },
   {
    "duration": 210,
    "start_time": "2024-11-20T01:55:14.941Z"
   },
   {
    "duration": 194,
    "start_time": "2024-11-20T01:55:15.154Z"
   },
   {
    "duration": 6,
    "start_time": "2024-11-20T01:55:15.350Z"
   },
   {
    "duration": 106,
    "start_time": "2024-11-20T01:55:15.358Z"
   },
   {
    "duration": 10,
    "start_time": "2024-11-20T01:55:15.466Z"
   },
   {
    "duration": 27,
    "start_time": "2024-11-20T01:55:15.482Z"
   },
   {
    "duration": 12,
    "start_time": "2024-11-20T01:55:15.512Z"
   },
   {
    "duration": 2,
    "start_time": "2024-11-20T01:55:15.527Z"
   },
   {
    "duration": 3,
    "start_time": "2024-11-20T01:55:15.531Z"
   },
   {
    "duration": 238,
    "start_time": "2024-11-20T01:55:36.363Z"
   },
   {
    "duration": 15,
    "start_time": "2024-11-20T01:56:03.455Z"
   },
   {
    "duration": 8,
    "start_time": "2024-11-20T01:56:39.978Z"
   },
   {
    "duration": 25,
    "start_time": "2024-11-20T02:06:10.502Z"
   },
   {
    "duration": 4,
    "start_time": "2024-11-20T02:08:13.351Z"
   },
   {
    "duration": 87,
    "start_time": "2024-11-20T02:09:15.252Z"
   },
   {
    "duration": 846,
    "start_time": "2024-11-20T02:57:02.504Z"
   },
   {
    "duration": 83,
    "start_time": "2024-11-20T02:57:03.352Z"
   },
   {
    "duration": 59,
    "start_time": "2024-11-20T02:57:03.437Z"
   },
   {
    "duration": 44,
    "start_time": "2024-11-20T02:57:03.498Z"
   },
   {
    "duration": 10,
    "start_time": "2024-11-20T02:57:03.543Z"
   },
   {
    "duration": 13,
    "start_time": "2024-11-20T02:57:03.555Z"
   },
   {
    "duration": 9,
    "start_time": "2024-11-20T02:57:03.569Z"
   },
   {
    "duration": 7,
    "start_time": "2024-11-20T02:57:03.604Z"
   },
   {
    "duration": 8,
    "start_time": "2024-11-20T02:57:03.613Z"
   },
   {
    "duration": 11,
    "start_time": "2024-11-20T02:57:03.625Z"
   },
   {
    "duration": 3,
    "start_time": "2024-11-20T02:57:03.638Z"
   },
   {
    "duration": 10,
    "start_time": "2024-11-20T02:57:03.643Z"
   },
   {
    "duration": 15,
    "start_time": "2024-11-20T02:57:03.655Z"
   },
   {
    "duration": 9,
    "start_time": "2024-11-20T02:57:03.705Z"
   },
   {
    "duration": 20,
    "start_time": "2024-11-20T02:57:03.716Z"
   },
   {
    "duration": 11,
    "start_time": "2024-11-20T02:57:03.737Z"
   },
   {
    "duration": 12,
    "start_time": "2024-11-20T02:57:03.749Z"
   },
   {
    "duration": 7,
    "start_time": "2024-11-20T02:57:03.763Z"
   },
   {
    "duration": 19,
    "start_time": "2024-11-20T02:57:03.805Z"
   },
   {
    "duration": 13,
    "start_time": "2024-11-20T02:57:03.826Z"
   },
   {
    "duration": 9,
    "start_time": "2024-11-20T02:57:03.840Z"
   },
   {
    "duration": 24,
    "start_time": "2024-11-20T02:57:03.850Z"
   },
   {
    "duration": 30,
    "start_time": "2024-11-20T02:57:03.876Z"
   },
   {
    "duration": 10,
    "start_time": "2024-11-20T02:57:03.907Z"
   },
   {
    "duration": 28,
    "start_time": "2024-11-20T02:57:03.919Z"
   },
   {
    "duration": 3,
    "start_time": "2024-11-20T02:57:03.948Z"
   },
   {
    "duration": 21,
    "start_time": "2024-11-20T02:57:03.952Z"
   },
   {
    "duration": 9,
    "start_time": "2024-11-20T02:57:04.005Z"
   },
   {
    "duration": 70,
    "start_time": "2024-11-20T02:57:04.015Z"
   },
   {
    "duration": 30,
    "start_time": "2024-11-20T02:57:04.086Z"
   },
   {
    "duration": 23,
    "start_time": "2024-11-20T02:57:04.119Z"
   },
   {
    "duration": 19,
    "start_time": "2024-11-20T02:57:04.143Z"
   },
   {
    "duration": 47,
    "start_time": "2024-11-20T02:57:04.164Z"
   },
   {
    "duration": 32,
    "start_time": "2024-11-20T02:57:04.213Z"
   },
   {
    "duration": 11,
    "start_time": "2024-11-20T02:57:04.246Z"
   },
   {
    "duration": 193,
    "start_time": "2024-11-20T02:57:04.258Z"
   },
   {
    "duration": 114,
    "start_time": "2024-11-20T02:57:04.453Z"
   },
   {
    "duration": 4,
    "start_time": "2024-11-20T02:57:04.569Z"
   },
   {
    "duration": 102,
    "start_time": "2024-11-20T02:57:04.575Z"
   },
   {
    "duration": 9,
    "start_time": "2024-11-20T02:57:04.679Z"
   },
   {
    "duration": 20,
    "start_time": "2024-11-20T02:57:04.689Z"
   },
   {
    "duration": 3,
    "start_time": "2024-11-20T02:57:04.711Z"
   },
   {
    "duration": 3,
    "start_time": "2024-11-20T02:57:04.716Z"
   },
   {
    "duration": 2636,
    "start_time": "2024-11-22T00:52:35.106Z"
   },
   {
    "duration": 99,
    "start_time": "2024-11-22T00:52:37.744Z"
   },
   {
    "duration": 83,
    "start_time": "2024-11-22T00:52:37.844Z"
   },
   {
    "duration": 48,
    "start_time": "2024-11-22T00:52:37.930Z"
   },
   {
    "duration": 10,
    "start_time": "2024-11-22T00:52:37.980Z"
   },
   {
    "duration": 15,
    "start_time": "2024-11-22T00:52:37.992Z"
   },
   {
    "duration": 10,
    "start_time": "2024-11-22T00:52:38.009Z"
   },
   {
    "duration": 7,
    "start_time": "2024-11-22T00:52:38.020Z"
   },
   {
    "duration": 8,
    "start_time": "2024-11-22T00:52:38.028Z"
   },
   {
    "duration": 11,
    "start_time": "2024-11-22T00:52:38.040Z"
   },
   {
    "duration": 3,
    "start_time": "2024-11-22T00:52:38.053Z"
   },
   {
    "duration": 10,
    "start_time": "2024-11-22T00:52:38.058Z"
   },
   {
    "duration": 51,
    "start_time": "2024-11-22T00:52:38.070Z"
   },
   {
    "duration": 10,
    "start_time": "2024-11-22T00:52:38.122Z"
   },
   {
    "duration": 20,
    "start_time": "2024-11-22T00:52:38.133Z"
   },
   {
    "duration": 11,
    "start_time": "2024-11-22T00:52:38.154Z"
   },
   {
    "duration": 41,
    "start_time": "2024-11-22T00:52:38.168Z"
   },
   {
    "duration": 9,
    "start_time": "2024-11-22T00:52:38.211Z"
   },
   {
    "duration": 18,
    "start_time": "2024-11-22T00:52:38.221Z"
   },
   {
    "duration": 13,
    "start_time": "2024-11-22T00:52:38.241Z"
   },
   {
    "duration": 10,
    "start_time": "2024-11-22T00:52:38.255Z"
   },
   {
    "duration": 53,
    "start_time": "2024-11-22T00:52:38.266Z"
   },
   {
    "duration": 7,
    "start_time": "2024-11-22T00:52:38.322Z"
   },
   {
    "duration": 11,
    "start_time": "2024-11-22T00:52:38.331Z"
   },
   {
    "duration": 29,
    "start_time": "2024-11-22T00:52:38.343Z"
   },
   {
    "duration": 2,
    "start_time": "2024-11-22T00:52:38.374Z"
   },
   {
    "duration": 49,
    "start_time": "2024-11-22T00:52:38.377Z"
   },
   {
    "duration": 8,
    "start_time": "2024-11-22T00:52:38.430Z"
   },
   {
    "duration": 19,
    "start_time": "2024-11-22T00:52:38.440Z"
   },
   {
    "duration": 11,
    "start_time": "2024-11-22T00:52:38.461Z"
   },
   {
    "duration": 45,
    "start_time": "2024-11-22T00:52:38.474Z"
   },
   {
    "duration": 16,
    "start_time": "2024-11-22T00:52:38.521Z"
   },
   {
    "duration": 26,
    "start_time": "2024-11-22T00:52:38.539Z"
   },
   {
    "duration": 57,
    "start_time": "2024-11-22T00:52:38.567Z"
   },
   {
    "duration": 10,
    "start_time": "2024-11-22T00:52:38.627Z"
   },
   {
    "duration": 188,
    "start_time": "2024-11-22T00:52:38.639Z"
   },
   {
    "duration": 120,
    "start_time": "2024-11-22T00:52:38.829Z"
   },
   {
    "duration": 3,
    "start_time": "2024-11-22T00:52:38.951Z"
   },
   {
    "duration": 99,
    "start_time": "2024-11-22T00:52:38.956Z"
   },
   {
    "duration": 8,
    "start_time": "2024-11-22T00:52:39.057Z"
   },
   {
    "duration": 8,
    "start_time": "2024-11-22T00:52:39.067Z"
   },
   {
    "duration": 2,
    "start_time": "2024-11-22T00:52:39.076Z"
   },
   {
    "duration": 3,
    "start_time": "2024-11-22T00:52:39.080Z"
   },
   {
    "duration": 179,
    "start_time": "2024-11-22T00:53:17.374Z"
   },
   {
    "duration": 111,
    "start_time": "2024-11-22T00:53:32.744Z"
   },
   {
    "duration": 5,
    "start_time": "2024-11-22T01:05:30.289Z"
   },
   {
    "duration": 833,
    "start_time": "2024-11-22T01:05:40.115Z"
   },
   {
    "duration": 82,
    "start_time": "2024-11-22T01:05:40.950Z"
   },
   {
    "duration": 63,
    "start_time": "2024-11-22T01:05:41.034Z"
   },
   {
    "duration": 49,
    "start_time": "2024-11-22T01:05:41.108Z"
   },
   {
    "duration": 11,
    "start_time": "2024-11-22T01:05:41.158Z"
   },
   {
    "duration": 15,
    "start_time": "2024-11-22T01:05:41.171Z"
   },
   {
    "duration": 9,
    "start_time": "2024-11-22T01:05:41.187Z"
   },
   {
    "duration": 15,
    "start_time": "2024-11-22T01:05:41.198Z"
   },
   {
    "duration": 8,
    "start_time": "2024-11-22T01:05:41.214Z"
   },
   {
    "duration": 11,
    "start_time": "2024-11-22T01:05:41.225Z"
   },
   {
    "duration": 5,
    "start_time": "2024-11-22T01:05:41.238Z"
   },
   {
    "duration": 10,
    "start_time": "2024-11-22T01:05:41.244Z"
   },
   {
    "duration": 15,
    "start_time": "2024-11-22T01:05:41.256Z"
   },
   {
    "duration": 44,
    "start_time": "2024-11-22T01:05:41.273Z"
   },
   {
    "duration": 18,
    "start_time": "2024-11-22T01:05:41.319Z"
   },
   {
    "duration": 12,
    "start_time": "2024-11-22T01:05:41.339Z"
   },
   {
    "duration": 12,
    "start_time": "2024-11-22T01:05:41.352Z"
   },
   {
    "duration": 8,
    "start_time": "2024-11-22T01:05:41.368Z"
   },
   {
    "duration": 18,
    "start_time": "2024-11-22T01:05:41.409Z"
   },
   {
    "duration": 13,
    "start_time": "2024-11-22T01:05:41.429Z"
   },
   {
    "duration": 9,
    "start_time": "2024-11-22T01:05:41.444Z"
   },
   {
    "duration": 24,
    "start_time": "2024-11-22T01:05:41.454Z"
   },
   {
    "duration": 31,
    "start_time": "2024-11-22T01:05:41.480Z"
   },
   {
    "duration": 10,
    "start_time": "2024-11-22T01:05:41.513Z"
   },
   {
    "duration": 28,
    "start_time": "2024-11-22T01:05:41.525Z"
   },
   {
    "duration": 2,
    "start_time": "2024-11-22T01:05:41.555Z"
   },
   {
    "duration": 50,
    "start_time": "2024-11-22T01:05:41.559Z"
   },
   {
    "duration": 8,
    "start_time": "2024-11-22T01:05:41.613Z"
   },
   {
    "duration": 68,
    "start_time": "2024-11-22T01:05:41.622Z"
   },
   {
    "duration": 14,
    "start_time": "2024-11-22T01:05:41.709Z"
   },
   {
    "duration": 22,
    "start_time": "2024-11-22T01:05:41.725Z"
   },
   {
    "duration": 15,
    "start_time": "2024-11-22T01:05:41.749Z"
   },
   {
    "duration": 52,
    "start_time": "2024-11-22T01:05:41.766Z"
   },
   {
    "duration": 32,
    "start_time": "2024-11-22T01:05:41.820Z"
   },
   {
    "duration": 9,
    "start_time": "2024-11-22T01:05:41.854Z"
   },
   {
    "duration": 189,
    "start_time": "2024-11-22T01:05:41.865Z"
   },
   {
    "duration": 5,
    "start_time": "2024-11-22T01:05:42.057Z"
   },
   {
    "duration": 121,
    "start_time": "2024-11-22T01:06:19.761Z"
   },
   {
    "duration": 136,
    "start_time": "2024-11-22T01:07:20.035Z"
   },
   {
    "duration": 135,
    "start_time": "2024-11-22T01:12:23.438Z"
   },
   {
    "duration": 161,
    "start_time": "2024-11-22T01:12:54.787Z"
   },
   {
    "duration": 171,
    "start_time": "2024-11-22T01:14:08.398Z"
   },
   {
    "duration": 4,
    "start_time": "2024-11-22T01:16:46.585Z"
   },
   {
    "duration": 306,
    "start_time": "2024-11-22T01:17:39.654Z"
   },
   {
    "duration": 110,
    "start_time": "2024-11-22T01:18:13.050Z"
   },
   {
    "duration": 105,
    "start_time": "2024-11-22T01:18:30.237Z"
   },
   {
    "duration": 879,
    "start_time": "2024-11-22T01:23:36.526Z"
   },
   {
    "duration": 83,
    "start_time": "2024-11-22T01:23:37.407Z"
   },
   {
    "duration": 103,
    "start_time": "2024-11-22T01:23:37.493Z"
   },
   {
    "duration": 67,
    "start_time": "2024-11-22T01:23:37.599Z"
   },
   {
    "duration": 10,
    "start_time": "2024-11-22T01:23:37.669Z"
   },
   {
    "duration": 14,
    "start_time": "2024-11-22T01:23:37.681Z"
   },
   {
    "duration": 18,
    "start_time": "2024-11-22T01:23:37.697Z"
   },
   {
    "duration": 8,
    "start_time": "2024-11-22T01:23:37.717Z"
   },
   {
    "duration": 8,
    "start_time": "2024-11-22T01:23:37.727Z"
   },
   {
    "duration": 14,
    "start_time": "2024-11-22T01:23:37.738Z"
   },
   {
    "duration": 3,
    "start_time": "2024-11-22T01:23:37.754Z"
   },
   {
    "duration": 11,
    "start_time": "2024-11-22T01:23:37.760Z"
   },
   {
    "duration": 50,
    "start_time": "2024-11-22T01:23:37.773Z"
   },
   {
    "duration": 9,
    "start_time": "2024-11-22T01:23:37.825Z"
   },
   {
    "duration": 19,
    "start_time": "2024-11-22T01:23:37.836Z"
   },
   {
    "duration": 11,
    "start_time": "2024-11-22T01:23:37.857Z"
   },
   {
    "duration": 13,
    "start_time": "2024-11-22T01:23:37.870Z"
   },
   {
    "duration": 9,
    "start_time": "2024-11-22T01:23:37.910Z"
   },
   {
    "duration": 21,
    "start_time": "2024-11-22T01:23:37.920Z"
   },
   {
    "duration": 15,
    "start_time": "2024-11-22T01:23:37.942Z"
   },
   {
    "duration": 9,
    "start_time": "2024-11-22T01:23:37.958Z"
   },
   {
    "duration": 52,
    "start_time": "2024-11-22T01:23:37.969Z"
   },
   {
    "duration": 7,
    "start_time": "2024-11-22T01:23:38.023Z"
   },
   {
    "duration": 9,
    "start_time": "2024-11-22T01:23:38.031Z"
   },
   {
    "duration": 28,
    "start_time": "2024-11-22T01:23:38.042Z"
   },
   {
    "duration": 2,
    "start_time": "2024-11-22T01:23:38.072Z"
   },
   {
    "duration": 51,
    "start_time": "2024-11-22T01:23:38.076Z"
   },
   {
    "duration": 8,
    "start_time": "2024-11-22T01:23:38.132Z"
   },
   {
    "duration": 80,
    "start_time": "2024-11-22T01:23:38.142Z"
   },
   {
    "duration": 11,
    "start_time": "2024-11-22T01:23:38.225Z"
   },
   {
    "duration": 23,
    "start_time": "2024-11-22T01:23:38.237Z"
   },
   {
    "duration": 16,
    "start_time": "2024-11-22T01:23:38.262Z"
   },
   {
    "duration": 51,
    "start_time": "2024-11-22T01:23:38.280Z"
   },
   {
    "duration": 34,
    "start_time": "2024-11-22T01:23:45.326Z"
   },
   {
    "duration": 830,
    "start_time": "2024-11-22T01:25:36.633Z"
   },
   {
    "duration": 84,
    "start_time": "2024-11-22T01:25:37.465Z"
   },
   {
    "duration": 65,
    "start_time": "2024-11-22T01:25:37.551Z"
   },
   {
    "duration": 39,
    "start_time": "2024-11-22T01:25:37.621Z"
   },
   {
    "duration": 9,
    "start_time": "2024-11-22T01:25:37.661Z"
   },
   {
    "duration": 14,
    "start_time": "2024-11-22T01:25:37.672Z"
   },
   {
    "duration": 28,
    "start_time": "2024-11-22T01:25:37.688Z"
   },
   {
    "duration": 9,
    "start_time": "2024-11-22T01:25:37.718Z"
   },
   {
    "duration": 12,
    "start_time": "2024-11-22T01:25:37.733Z"
   },
   {
    "duration": 12,
    "start_time": "2024-11-22T01:25:37.748Z"
   },
   {
    "duration": 4,
    "start_time": "2024-11-22T01:25:37.763Z"
   },
   {
    "duration": 12,
    "start_time": "2024-11-22T01:25:37.768Z"
   },
   {
    "duration": 17,
    "start_time": "2024-11-22T01:25:37.809Z"
   },
   {
    "duration": 9,
    "start_time": "2024-11-22T01:25:37.828Z"
   },
   {
    "duration": 19,
    "start_time": "2024-11-22T01:25:37.838Z"
   },
   {
    "duration": 11,
    "start_time": "2024-11-22T01:25:37.859Z"
   },
   {
    "duration": 40,
    "start_time": "2024-11-22T01:25:37.872Z"
   },
   {
    "duration": 9,
    "start_time": "2024-11-22T01:25:37.914Z"
   },
   {
    "duration": 21,
    "start_time": "2024-11-22T01:25:37.925Z"
   },
   {
    "duration": 13,
    "start_time": "2024-11-22T01:25:37.948Z"
   },
   {
    "duration": 9,
    "start_time": "2024-11-22T01:25:37.963Z"
   },
   {
    "duration": 51,
    "start_time": "2024-11-22T01:25:37.974Z"
   },
   {
    "duration": 7,
    "start_time": "2024-11-22T01:25:38.027Z"
   },
   {
    "duration": 9,
    "start_time": "2024-11-22T01:25:38.036Z"
   },
   {
    "duration": 30,
    "start_time": "2024-11-22T01:25:38.047Z"
   },
   {
    "duration": 31,
    "start_time": "2024-11-22T01:25:38.078Z"
   },
   {
    "duration": 20,
    "start_time": "2024-11-22T01:25:38.111Z"
   },
   {
    "duration": 7,
    "start_time": "2024-11-22T01:25:38.136Z"
   },
   {
    "duration": 84,
    "start_time": "2024-11-22T01:25:38.145Z"
   },
   {
    "duration": 11,
    "start_time": "2024-11-22T01:25:38.231Z"
   },
   {
    "duration": 22,
    "start_time": "2024-11-22T01:25:38.243Z"
   },
   {
    "duration": 16,
    "start_time": "2024-11-22T01:25:38.267Z"
   },
   {
    "duration": 25,
    "start_time": "2024-11-22T01:25:38.308Z"
   },
   {
    "duration": 39,
    "start_time": "2024-11-22T01:25:56.679Z"
   },
   {
    "duration": 211,
    "start_time": "2024-11-22T01:28:39.934Z"
   },
   {
    "duration": 866,
    "start_time": "2024-11-22T01:28:46.152Z"
   },
   {
    "duration": 79,
    "start_time": "2024-11-22T01:28:47.020Z"
   },
   {
    "duration": 66,
    "start_time": "2024-11-22T01:28:47.100Z"
   },
   {
    "duration": 67,
    "start_time": "2024-11-22T01:28:47.169Z"
   },
   {
    "duration": 15,
    "start_time": "2024-11-22T01:28:47.242Z"
   },
   {
    "duration": 19,
    "start_time": "2024-11-22T01:28:47.259Z"
   },
   {
    "duration": 11,
    "start_time": "2024-11-22T01:28:47.280Z"
   },
   {
    "duration": 9,
    "start_time": "2024-11-22T01:28:47.308Z"
   },
   {
    "duration": 9,
    "start_time": "2024-11-22T01:28:47.319Z"
   },
   {
    "duration": 13,
    "start_time": "2024-11-22T01:28:47.330Z"
   },
   {
    "duration": 4,
    "start_time": "2024-11-22T01:28:47.344Z"
   },
   {
    "duration": 11,
    "start_time": "2024-11-22T01:28:47.349Z"
   },
   {
    "duration": 53,
    "start_time": "2024-11-22T01:28:47.362Z"
   },
   {
    "duration": 12,
    "start_time": "2024-11-22T01:28:47.418Z"
   },
   {
    "duration": 21,
    "start_time": "2024-11-22T01:28:47.432Z"
   },
   {
    "duration": 12,
    "start_time": "2024-11-22T01:28:47.455Z"
   },
   {
    "duration": 12,
    "start_time": "2024-11-22T01:28:47.468Z"
   },
   {
    "duration": 10,
    "start_time": "2024-11-22T01:28:47.509Z"
   },
   {
    "duration": 19,
    "start_time": "2024-11-22T01:28:47.522Z"
   },
   {
    "duration": 13,
    "start_time": "2024-11-22T01:28:47.543Z"
   },
   {
    "duration": 9,
    "start_time": "2024-11-22T01:28:47.558Z"
   },
   {
    "duration": 62,
    "start_time": "2024-11-22T01:28:47.569Z"
   },
   {
    "duration": 8,
    "start_time": "2024-11-22T01:28:47.633Z"
   },
   {
    "duration": 11,
    "start_time": "2024-11-22T01:28:47.644Z"
   },
   {
    "duration": 31,
    "start_time": "2024-11-22T01:28:47.657Z"
   },
   {
    "duration": 3,
    "start_time": "2024-11-22T01:28:47.708Z"
   },
   {
    "duration": 23,
    "start_time": "2024-11-22T01:28:47.713Z"
   },
   {
    "duration": 9,
    "start_time": "2024-11-22T01:28:47.737Z"
   },
   {
    "duration": 105,
    "start_time": "2024-11-22T01:28:47.748Z"
   },
   {
    "duration": 11,
    "start_time": "2024-11-22T01:28:47.854Z"
   },
   {
    "duration": 23,
    "start_time": "2024-11-22T01:28:47.867Z"
   },
   {
    "duration": 18,
    "start_time": "2024-11-22T01:28:47.909Z"
   },
   {
    "duration": 28,
    "start_time": "2024-11-22T01:28:47.929Z"
   },
   {
    "duration": 52,
    "start_time": "2024-11-22T01:28:47.958Z"
   },
   {
    "duration": 13,
    "start_time": "2024-11-22T01:28:48.011Z"
   },
   {
    "duration": 187,
    "start_time": "2024-11-22T01:28:48.026Z"
   },
   {
    "duration": 6,
    "start_time": "2024-11-22T01:28:48.215Z"
   },
   {
    "duration": 186,
    "start_time": "2024-11-22T01:28:48.223Z"
   },
   {
    "duration": 5,
    "start_time": "2024-11-22T01:28:48.411Z"
   },
   {
    "duration": 126,
    "start_time": "2024-11-22T01:28:48.417Z"
   },
   {
    "duration": 170,
    "start_time": "2024-11-22T01:28:48.551Z"
   },
   {
    "duration": 8,
    "start_time": "2024-11-22T01:28:48.723Z"
   },
   {
    "duration": 184,
    "start_time": "2024-11-22T01:28:48.733Z"
   },
   {
    "duration": 43,
    "start_time": "2024-11-22T01:28:48.918Z"
   },
   {
    "duration": 3,
    "start_time": "2024-11-22T01:28:48.963Z"
   },
   {
    "duration": 3,
    "start_time": "2024-11-22T01:28:48.967Z"
   },
   {
    "duration": 6,
    "start_time": "2024-11-22T01:29:23.122Z"
   },
   {
    "duration": 8,
    "start_time": "2024-11-22T01:29:35.249Z"
   },
   {
    "duration": 281,
    "start_time": "2024-11-22T01:30:02.485Z"
   },
   {
    "duration": 6,
    "start_time": "2024-11-22T01:30:21.569Z"
   },
   {
    "duration": 782,
    "start_time": "2024-11-22T01:49:11.880Z"
   },
   {
    "duration": 81,
    "start_time": "2024-11-22T01:49:12.665Z"
   },
   {
    "duration": 63,
    "start_time": "2024-11-22T01:49:12.748Z"
   },
   {
    "duration": 39,
    "start_time": "2024-11-22T01:49:12.813Z"
   },
   {
    "duration": 9,
    "start_time": "2024-11-22T01:49:12.853Z"
   },
   {
    "duration": 14,
    "start_time": "2024-11-22T01:49:12.864Z"
   },
   {
    "duration": 32,
    "start_time": "2024-11-22T01:49:12.879Z"
   },
   {
    "duration": 7,
    "start_time": "2024-11-22T01:49:12.913Z"
   },
   {
    "duration": 8,
    "start_time": "2024-11-22T01:49:12.922Z"
   },
   {
    "duration": 11,
    "start_time": "2024-11-22T01:49:12.933Z"
   },
   {
    "duration": 3,
    "start_time": "2024-11-22T01:49:12.945Z"
   },
   {
    "duration": 11,
    "start_time": "2024-11-22T01:49:12.950Z"
   },
   {
    "duration": 51,
    "start_time": "2024-11-22T01:49:12.962Z"
   },
   {
    "duration": 10,
    "start_time": "2024-11-22T01:49:13.015Z"
   },
   {
    "duration": 19,
    "start_time": "2024-11-22T01:49:13.026Z"
   },
   {
    "duration": 12,
    "start_time": "2024-11-22T01:49:13.047Z"
   },
   {
    "duration": 11,
    "start_time": "2024-11-22T01:49:13.060Z"
   },
   {
    "duration": 36,
    "start_time": "2024-11-22T01:49:13.073Z"
   },
   {
    "duration": 18,
    "start_time": "2024-11-22T01:49:13.111Z"
   },
   {
    "duration": 13,
    "start_time": "2024-11-22T01:49:13.130Z"
   },
   {
    "duration": 9,
    "start_time": "2024-11-22T01:49:13.144Z"
   },
   {
    "duration": 24,
    "start_time": "2024-11-22T01:49:13.155Z"
   },
   {
    "duration": 30,
    "start_time": "2024-11-22T01:49:13.181Z"
   },
   {
    "duration": 9,
    "start_time": "2024-11-22T01:49:13.213Z"
   },
   {
    "duration": 28,
    "start_time": "2024-11-22T01:49:13.224Z"
   },
   {
    "duration": 2,
    "start_time": "2024-11-22T01:49:13.254Z"
   },
   {
    "duration": 22,
    "start_time": "2024-11-22T01:49:13.257Z"
   },
   {
    "duration": 8,
    "start_time": "2024-11-22T01:49:13.312Z"
   },
   {
    "duration": 69,
    "start_time": "2024-11-22T01:49:13.322Z"
   },
   {
    "duration": 25,
    "start_time": "2024-11-22T01:49:13.392Z"
   },
   {
    "duration": 20,
    "start_time": "2024-11-22T01:49:13.419Z"
   },
   {
    "duration": 16,
    "start_time": "2024-11-22T01:49:13.441Z"
   },
   {
    "duration": 52,
    "start_time": "2024-11-22T01:49:13.458Z"
   },
   {
    "duration": 32,
    "start_time": "2024-11-22T01:49:13.512Z"
   },
   {
    "duration": 9,
    "start_time": "2024-11-22T01:49:13.547Z"
   },
   {
    "duration": 192,
    "start_time": "2024-11-22T01:49:13.558Z"
   },
   {
    "duration": 6,
    "start_time": "2024-11-22T01:49:13.751Z"
   },
   {
    "duration": 178,
    "start_time": "2024-11-22T01:49:13.759Z"
   },
   {
    "duration": 4,
    "start_time": "2024-11-22T01:49:13.939Z"
   },
   {
    "duration": 116,
    "start_time": "2024-11-22T01:49:13.945Z"
   },
   {
    "duration": 171,
    "start_time": "2024-11-22T01:49:14.063Z"
   },
   {
    "duration": 8,
    "start_time": "2024-11-22T01:49:14.236Z"
   },
   {
    "duration": 183,
    "start_time": "2024-11-22T01:49:14.246Z"
   },
   {
    "duration": 7,
    "start_time": "2024-11-22T01:49:14.431Z"
   },
   {
    "duration": 6,
    "start_time": "2024-11-22T01:49:14.440Z"
   },
   {
    "duration": 2,
    "start_time": "2024-11-22T01:49:14.447Z"
   },
   {
    "duration": 3,
    "start_time": "2024-11-22T01:49:14.451Z"
   },
   {
    "duration": 26,
    "start_time": "2024-11-22T02:04:54.237Z"
   },
   {
    "duration": 293,
    "start_time": "2024-11-22T02:30:08.303Z"
   },
   {
    "duration": 19,
    "start_time": "2024-11-22T02:30:27.930Z"
   },
   {
    "duration": 3,
    "start_time": "2024-11-22T02:31:22.851Z"
   },
   {
    "duration": 75,
    "start_time": "2024-11-22T02:31:22.856Z"
   },
   {
    "duration": 62,
    "start_time": "2024-11-22T02:31:22.933Z"
   },
   {
    "duration": 45,
    "start_time": "2024-11-22T02:31:22.997Z"
   },
   {
    "duration": 10,
    "start_time": "2024-11-22T02:31:23.044Z"
   },
   {
    "duration": 14,
    "start_time": "2024-11-22T02:31:23.056Z"
   },
   {
    "duration": 9,
    "start_time": "2024-11-22T02:31:23.072Z"
   },
   {
    "duration": 29,
    "start_time": "2024-11-22T02:31:23.083Z"
   },
   {
    "duration": 8,
    "start_time": "2024-11-22T02:31:23.114Z"
   },
   {
    "duration": 11,
    "start_time": "2024-11-22T02:31:23.124Z"
   },
   {
    "duration": 3,
    "start_time": "2024-11-22T02:31:23.138Z"
   },
   {
    "duration": 10,
    "start_time": "2024-11-22T02:31:23.143Z"
   },
   {
    "duration": 15,
    "start_time": "2024-11-22T02:31:23.155Z"
   },
   {
    "duration": 44,
    "start_time": "2024-11-22T02:31:23.172Z"
   },
   {
    "duration": 17,
    "start_time": "2024-11-22T02:31:23.218Z"
   },
   {
    "duration": 13,
    "start_time": "2024-11-22T02:31:23.237Z"
   },
   {
    "duration": 12,
    "start_time": "2024-11-22T02:31:23.251Z"
   },
   {
    "duration": 8,
    "start_time": "2024-11-22T02:31:23.265Z"
   },
   {
    "duration": 18,
    "start_time": "2024-11-22T02:31:23.309Z"
   },
   {
    "duration": 14,
    "start_time": "2024-11-22T02:31:23.328Z"
   },
   {
    "duration": 10,
    "start_time": "2024-11-22T02:31:23.343Z"
   },
   {
    "duration": 26,
    "start_time": "2024-11-22T02:31:23.355Z"
   },
   {
    "duration": 31,
    "start_time": "2024-11-22T02:31:23.383Z"
   },
   {
    "duration": 9,
    "start_time": "2024-11-22T02:31:23.416Z"
   },
   {
    "duration": 29,
    "start_time": "2024-11-22T02:31:23.426Z"
   },
   {
    "duration": 3,
    "start_time": "2024-11-22T02:31:23.456Z"
   },
   {
    "duration": 20,
    "start_time": "2024-11-22T02:31:23.460Z"
   },
   {
    "duration": 8,
    "start_time": "2024-11-22T02:31:23.508Z"
   },
   {
    "duration": 19,
    "start_time": "2024-11-22T02:31:23.520Z"
   },
   {
    "duration": 11,
    "start_time": "2024-11-22T02:31:23.541Z"
   },
   {
    "duration": 21,
    "start_time": "2024-11-22T02:31:23.554Z"
   },
   {
    "duration": 52,
    "start_time": "2024-11-22T02:31:23.577Z"
   },
   {
    "duration": 42,
    "start_time": "2024-11-22T02:31:23.630Z"
   },
   {
    "duration": 53,
    "start_time": "2024-11-22T02:31:23.674Z"
   },
   {
    "duration": 11,
    "start_time": "2024-11-22T02:31:23.729Z"
   },
   {
    "duration": 285,
    "start_time": "2024-11-22T02:31:23.742Z"
   },
   {
    "duration": 6,
    "start_time": "2024-11-22T02:31:24.029Z"
   },
   {
    "duration": 174,
    "start_time": "2024-11-22T02:31:24.037Z"
   },
   {
    "duration": 4,
    "start_time": "2024-11-22T02:31:24.213Z"
   },
   {
    "duration": 116,
    "start_time": "2024-11-22T02:31:24.219Z"
   },
   {
    "duration": 167,
    "start_time": "2024-11-22T02:31:24.337Z"
   },
   {
    "duration": 9,
    "start_time": "2024-11-22T02:31:24.509Z"
   },
   {
    "duration": 182,
    "start_time": "2024-11-22T02:31:24.519Z"
   },
   {
    "duration": 46,
    "start_time": "2024-11-22T02:31:24.703Z"
   },
   {
    "duration": 7,
    "start_time": "2024-11-22T02:31:24.752Z"
   },
   {
    "duration": 7,
    "start_time": "2024-11-22T02:31:24.761Z"
   },
   {
    "duration": 208,
    "start_time": "2024-11-22T02:31:42.330Z"
   },
   {
    "duration": 406,
    "start_time": "2024-11-22T02:31:57.374Z"
   },
   {
    "duration": 27,
    "start_time": "2024-11-22T02:35:51.588Z"
   },
   {
    "duration": 20,
    "start_time": "2024-11-22T02:38:42.112Z"
   },
   {
    "duration": 421,
    "start_time": "2024-11-22T02:38:55.355Z"
   },
   {
    "duration": 46,
    "start_time": "2024-11-22T02:41:06.882Z"
   },
   {
    "duration": 19,
    "start_time": "2024-11-22T02:41:23.808Z"
   },
   {
    "duration": 109,
    "start_time": "2024-11-22T02:43:32.521Z"
   },
   {
    "duration": 109,
    "start_time": "2024-11-22T02:45:15.859Z"
   },
   {
    "duration": 6,
    "start_time": "2024-11-22T02:45:37.244Z"
   },
   {
    "duration": 835,
    "start_time": "2024-11-22T03:00:16.009Z"
   },
   {
    "duration": 77,
    "start_time": "2024-11-22T03:00:16.846Z"
   },
   {
    "duration": 60,
    "start_time": "2024-11-22T03:00:16.925Z"
   },
   {
    "duration": 54,
    "start_time": "2024-11-22T03:00:16.988Z"
   },
   {
    "duration": 11,
    "start_time": "2024-11-22T03:00:17.043Z"
   },
   {
    "duration": 14,
    "start_time": "2024-11-22T03:00:17.055Z"
   },
   {
    "duration": 9,
    "start_time": "2024-11-22T03:00:17.070Z"
   },
   {
    "duration": 6,
    "start_time": "2024-11-22T03:00:17.081Z"
   },
   {
    "duration": 26,
    "start_time": "2024-11-22T03:00:17.089Z"
   },
   {
    "duration": 11,
    "start_time": "2024-11-22T03:00:17.118Z"
   },
   {
    "duration": 5,
    "start_time": "2024-11-22T03:00:17.130Z"
   },
   {
    "duration": 11,
    "start_time": "2024-11-22T03:00:17.136Z"
   },
   {
    "duration": 14,
    "start_time": "2024-11-22T03:00:17.148Z"
   },
   {
    "duration": 9,
    "start_time": "2024-11-22T03:00:17.164Z"
   },
   {
    "duration": 59,
    "start_time": "2024-11-22T03:00:17.174Z"
   },
   {
    "duration": 16,
    "start_time": "2024-11-22T03:00:17.237Z"
   },
   {
    "duration": 14,
    "start_time": "2024-11-22T03:00:17.255Z"
   },
   {
    "duration": 10,
    "start_time": "2024-11-22T03:00:17.271Z"
   },
   {
    "duration": 48,
    "start_time": "2024-11-22T03:00:17.284Z"
   },
   {
    "duration": 15,
    "start_time": "2024-11-22T03:00:17.335Z"
   },
   {
    "duration": 9,
    "start_time": "2024-11-22T03:00:17.352Z"
   },
   {
    "duration": 46,
    "start_time": "2024-11-22T03:00:17.363Z"
   },
   {
    "duration": 7,
    "start_time": "2024-11-22T03:00:17.412Z"
   },
   {
    "duration": 10,
    "start_time": "2024-11-22T03:00:17.422Z"
   },
   {
    "duration": 29,
    "start_time": "2024-11-22T03:00:17.433Z"
   },
   {
    "duration": 3,
    "start_time": "2024-11-22T03:00:17.463Z"
   },
   {
    "duration": 52,
    "start_time": "2024-11-22T03:00:17.468Z"
   },
   {
    "duration": 7,
    "start_time": "2024-11-22T03:00:17.525Z"
   },
   {
    "duration": 97,
    "start_time": "2024-11-22T03:00:17.534Z"
   },
   {
    "duration": 11,
    "start_time": "2024-11-22T03:00:17.633Z"
   },
   {
    "duration": 21,
    "start_time": "2024-11-22T03:00:17.645Z"
   },
   {
    "duration": 17,
    "start_time": "2024-11-22T03:00:17.668Z"
   },
   {
    "duration": 27,
    "start_time": "2024-11-22T03:00:17.708Z"
   },
   {
    "duration": 34,
    "start_time": "2024-11-22T03:00:17.737Z"
   },
   {
    "duration": 11,
    "start_time": "2024-11-22T03:00:17.773Z"
   },
   {
    "duration": 181,
    "start_time": "2024-11-22T03:00:17.808Z"
   },
   {
    "duration": 5,
    "start_time": "2024-11-22T03:00:17.991Z"
   },
   {
    "duration": 171,
    "start_time": "2024-11-22T03:00:17.999Z"
   },
   {
    "duration": 4,
    "start_time": "2024-11-22T03:00:18.172Z"
   },
   {
    "duration": 118,
    "start_time": "2024-11-22T03:00:18.178Z"
   },
   {
    "duration": 169,
    "start_time": "2024-11-22T03:00:18.298Z"
   },
   {
    "duration": 8,
    "start_time": "2024-11-22T03:00:18.469Z"
   },
   {
    "duration": 192,
    "start_time": "2024-11-22T03:00:18.479Z"
   },
   {
    "duration": 8,
    "start_time": "2024-11-22T03:00:18.673Z"
   },
   {
    "duration": 9,
    "start_time": "2024-11-22T03:00:18.683Z"
   },
   {
    "duration": 412,
    "start_time": "2024-11-22T03:00:18.708Z"
   },
   {
    "duration": 0,
    "start_time": "2024-11-22T03:00:19.121Z"
   },
   {
    "duration": 0,
    "start_time": "2024-11-22T03:00:19.123Z"
   },
   {
    "duration": 0,
    "start_time": "2024-11-22T03:00:19.124Z"
   },
   {
    "duration": 26,
    "start_time": "2024-11-22T03:03:39.960Z"
   },
   {
    "duration": 4,
    "start_time": "2024-11-22T03:10:09.221Z"
   },
   {
    "duration": 26,
    "start_time": "2024-11-22T03:12:11.414Z"
   },
   {
    "duration": 6,
    "start_time": "2024-11-22T03:12:24.232Z"
   },
   {
    "duration": 6,
    "start_time": "2024-11-22T03:15:58.036Z"
   },
   {
    "duration": 5,
    "start_time": "2024-11-22T03:17:27.402Z"
   },
   {
    "duration": 15,
    "start_time": "2024-11-22T03:19:18.484Z"
   },
   {
    "duration": 12,
    "start_time": "2024-11-22T03:19:30.740Z"
   },
   {
    "duration": 5,
    "start_time": "2024-11-22T03:20:06.488Z"
   },
   {
    "duration": 3,
    "start_time": "2024-11-22T03:24:01.194Z"
   },
   {
    "duration": 5,
    "start_time": "2024-11-22T03:30:03.252Z"
   },
   {
    "duration": 2567,
    "start_time": "2024-11-22T22:18:18.511Z"
   },
   {
    "duration": 103,
    "start_time": "2024-11-22T22:18:21.081Z"
   },
   {
    "duration": 84,
    "start_time": "2024-11-22T22:18:21.186Z"
   },
   {
    "duration": 52,
    "start_time": "2024-11-22T22:18:21.274Z"
   },
   {
    "duration": 12,
    "start_time": "2024-11-22T22:18:21.329Z"
   },
   {
    "duration": 15,
    "start_time": "2024-11-22T22:18:21.342Z"
   },
   {
    "duration": 11,
    "start_time": "2024-11-22T22:18:21.360Z"
   },
   {
    "duration": 10,
    "start_time": "2024-11-22T22:18:21.377Z"
   },
   {
    "duration": 8,
    "start_time": "2024-11-22T22:18:21.389Z"
   },
   {
    "duration": 15,
    "start_time": "2024-11-22T22:18:21.401Z"
   },
   {
    "duration": 4,
    "start_time": "2024-11-22T22:18:21.418Z"
   },
   {
    "duration": 14,
    "start_time": "2024-11-22T22:18:21.423Z"
   },
   {
    "duration": 49,
    "start_time": "2024-11-22T22:18:21.439Z"
   },
   {
    "duration": 12,
    "start_time": "2024-11-22T22:18:21.489Z"
   },
   {
    "duration": 28,
    "start_time": "2024-11-22T22:18:21.503Z"
   },
   {
    "duration": 11,
    "start_time": "2024-11-22T22:18:21.533Z"
   },
   {
    "duration": 21,
    "start_time": "2024-11-22T22:18:21.570Z"
   },
   {
    "duration": 11,
    "start_time": "2024-11-22T22:18:21.593Z"
   },
   {
    "duration": 29,
    "start_time": "2024-11-22T22:18:21.606Z"
   },
   {
    "duration": 14,
    "start_time": "2024-11-22T22:18:21.636Z"
   },
   {
    "duration": 26,
    "start_time": "2024-11-22T22:18:21.651Z"
   },
   {
    "duration": 24,
    "start_time": "2024-11-22T22:18:21.679Z"
   },
   {
    "duration": 7,
    "start_time": "2024-11-22T22:18:21.706Z"
   },
   {
    "duration": 22,
    "start_time": "2024-11-22T22:18:21.715Z"
   },
   {
    "duration": 62,
    "start_time": "2024-11-22T22:18:21.739Z"
   },
   {
    "duration": 3,
    "start_time": "2024-11-22T22:18:21.805Z"
   },
   {
    "duration": 31,
    "start_time": "2024-11-22T22:18:21.811Z"
   },
   {
    "duration": 24,
    "start_time": "2024-11-22T22:18:21.847Z"
   },
   {
    "duration": 28,
    "start_time": "2024-11-22T22:18:21.873Z"
   },
   {
    "duration": 14,
    "start_time": "2024-11-22T22:18:21.903Z"
   },
   {
    "duration": 31,
    "start_time": "2024-11-22T22:18:21.919Z"
   },
   {
    "duration": 23,
    "start_time": "2024-11-22T22:18:21.971Z"
   },
   {
    "duration": 27,
    "start_time": "2024-11-22T22:18:21.996Z"
   },
   {
    "duration": 69,
    "start_time": "2024-11-22T22:18:22.025Z"
   },
   {
    "duration": 15,
    "start_time": "2024-11-22T22:18:22.097Z"
   },
   {
    "duration": 233,
    "start_time": "2024-11-22T22:18:22.114Z"
   },
   {
    "duration": 6,
    "start_time": "2024-11-22T22:18:22.349Z"
   },
   {
    "duration": 174,
    "start_time": "2024-11-22T22:18:22.358Z"
   },
   {
    "duration": 5,
    "start_time": "2024-11-22T22:18:22.534Z"
   },
   {
    "duration": 161,
    "start_time": "2024-11-22T22:18:22.541Z"
   },
   {
    "duration": 254,
    "start_time": "2024-11-22T22:18:22.704Z"
   },
   {
    "duration": 18,
    "start_time": "2024-11-22T22:18:22.960Z"
   },
   {
    "duration": 259,
    "start_time": "2024-11-22T22:18:22.980Z"
   },
   {
    "duration": 8,
    "start_time": "2024-11-22T22:18:23.241Z"
   },
   {
    "duration": 22,
    "start_time": "2024-11-22T22:18:23.252Z"
   },
   {
    "duration": 33,
    "start_time": "2024-11-22T22:18:23.276Z"
   },
   {
    "duration": 5,
    "start_time": "2024-11-22T22:18:23.311Z"
   },
   {
    "duration": 53,
    "start_time": "2024-11-22T22:18:23.318Z"
   },
   {
    "duration": 5,
    "start_time": "2024-11-22T22:18:23.374Z"
   },
   {
    "duration": 6,
    "start_time": "2024-11-22T22:18:23.381Z"
   },
   {
    "duration": 0,
    "start_time": "2024-11-22T22:18:23.389Z"
   },
   {
    "duration": 0,
    "start_time": "2024-11-22T22:18:23.390Z"
   },
   {
    "duration": 18,
    "start_time": "2024-11-22T22:30:48.650Z"
   },
   {
    "duration": 797,
    "start_time": "2024-11-22T22:35:00.520Z"
   },
   {
    "duration": 82,
    "start_time": "2024-11-22T22:35:01.321Z"
   },
   {
    "duration": 65,
    "start_time": "2024-11-22T22:35:01.404Z"
   },
   {
    "duration": 40,
    "start_time": "2024-11-22T22:35:01.472Z"
   },
   {
    "duration": 10,
    "start_time": "2024-11-22T22:35:01.513Z"
   },
   {
    "duration": 17,
    "start_time": "2024-11-22T22:35:01.524Z"
   },
   {
    "duration": 9,
    "start_time": "2024-11-22T22:35:01.542Z"
   },
   {
    "duration": 22,
    "start_time": "2024-11-22T22:35:01.553Z"
   },
   {
    "duration": 7,
    "start_time": "2024-11-22T22:35:01.577Z"
   },
   {
    "duration": 11,
    "start_time": "2024-11-22T22:35:01.587Z"
   },
   {
    "duration": 3,
    "start_time": "2024-11-22T22:35:01.600Z"
   },
   {
    "duration": 10,
    "start_time": "2024-11-22T22:35:01.605Z"
   },
   {
    "duration": 14,
    "start_time": "2024-11-22T22:35:01.617Z"
   },
   {
    "duration": 42,
    "start_time": "2024-11-22T22:35:01.632Z"
   },
   {
    "duration": 19,
    "start_time": "2024-11-22T22:35:01.676Z"
   },
   {
    "duration": 10,
    "start_time": "2024-11-22T22:35:01.697Z"
   },
   {
    "duration": 12,
    "start_time": "2024-11-22T22:35:01.709Z"
   },
   {
    "duration": 8,
    "start_time": "2024-11-22T22:35:01.723Z"
   },
   {
    "duration": 52,
    "start_time": "2024-11-22T22:35:01.732Z"
   },
   {
    "duration": 13,
    "start_time": "2024-11-22T22:35:01.786Z"
   },
   {
    "duration": 10,
    "start_time": "2024-11-22T22:35:01.801Z"
   },
   {
    "duration": 24,
    "start_time": "2024-11-22T22:35:01.813Z"
   },
   {
    "duration": 34,
    "start_time": "2024-11-22T22:35:01.838Z"
   },
   {
    "duration": 10,
    "start_time": "2024-11-22T22:35:01.874Z"
   },
   {
    "duration": 29,
    "start_time": "2024-11-22T22:35:01.886Z"
   },
   {
    "duration": 3,
    "start_time": "2024-11-22T22:35:01.917Z"
   },
   {
    "duration": 50,
    "start_time": "2024-11-22T22:35:01.922Z"
   },
   {
    "duration": 9,
    "start_time": "2024-11-22T22:35:01.976Z"
   },
   {
    "duration": 62,
    "start_time": "2024-11-22T22:35:01.987Z"
   },
   {
    "duration": 28,
    "start_time": "2024-11-22T22:35:02.051Z"
   },
   {
    "duration": 23,
    "start_time": "2024-11-22T22:35:02.080Z"
   },
   {
    "duration": 21,
    "start_time": "2024-11-22T22:35:02.105Z"
   },
   {
    "duration": 47,
    "start_time": "2024-11-22T22:35:02.127Z"
   },
   {
    "duration": 31,
    "start_time": "2024-11-22T22:35:02.176Z"
   },
   {
    "duration": 11,
    "start_time": "2024-11-22T22:35:02.209Z"
   },
   {
    "duration": 195,
    "start_time": "2024-11-22T22:35:02.221Z"
   },
   {
    "duration": 6,
    "start_time": "2024-11-22T22:35:02.418Z"
   },
   {
    "duration": 176,
    "start_time": "2024-11-22T22:35:02.425Z"
   },
   {
    "duration": 6,
    "start_time": "2024-11-22T22:35:02.602Z"
   },
   {
    "duration": 122,
    "start_time": "2024-11-22T22:35:02.610Z"
   },
   {
    "duration": 169,
    "start_time": "2024-11-22T22:35:02.733Z"
   },
   {
    "duration": 9,
    "start_time": "2024-11-22T22:35:02.904Z"
   },
   {
    "duration": 183,
    "start_time": "2024-11-22T22:35:02.914Z"
   },
   {
    "duration": 6,
    "start_time": "2024-11-22T22:35:03.098Z"
   },
   {
    "duration": 6,
    "start_time": "2024-11-22T22:35:03.106Z"
   },
   {
    "duration": 26,
    "start_time": "2024-11-22T22:35:03.113Z"
   },
   {
    "duration": 5,
    "start_time": "2024-11-22T22:35:03.140Z"
   },
   {
    "duration": 50,
    "start_time": "2024-11-22T22:35:03.146Z"
   },
   {
    "duration": 16,
    "start_time": "2024-11-22T22:35:03.199Z"
   },
   {
    "duration": 7,
    "start_time": "2024-11-22T22:35:03.216Z"
   },
   {
    "duration": 306,
    "start_time": "2024-11-22T22:35:03.225Z"
   },
   {
    "duration": 21,
    "start_time": "2024-11-22T22:42:27.878Z"
   },
   {
    "duration": 6,
    "start_time": "2024-11-22T22:43:42.226Z"
   },
   {
    "duration": 6,
    "start_time": "2024-11-22T22:43:53.913Z"
   },
   {
    "duration": 7,
    "start_time": "2024-11-22T22:43:59.773Z"
   },
   {
    "duration": 7,
    "start_time": "2024-11-22T22:44:46.778Z"
   },
   {
    "duration": 6,
    "start_time": "2024-11-22T22:49:20.384Z"
   },
   {
    "duration": 169,
    "start_time": "2024-11-22T22:50:13.875Z"
   },
   {
    "duration": 26,
    "start_time": "2024-11-22T22:50:43.342Z"
   },
   {
    "duration": 24,
    "start_time": "2024-11-22T22:51:47.252Z"
   },
   {
    "duration": 3,
    "start_time": "2024-11-22T22:52:05.790Z"
   },
   {
    "duration": 77,
    "start_time": "2024-11-22T22:52:05.795Z"
   },
   {
    "duration": 60,
    "start_time": "2024-11-22T22:52:05.873Z"
   },
   {
    "duration": 59,
    "start_time": "2024-11-22T22:52:05.935Z"
   },
   {
    "duration": 10,
    "start_time": "2024-11-22T22:52:05.997Z"
   },
   {
    "duration": 14,
    "start_time": "2024-11-22T22:52:06.008Z"
   },
   {
    "duration": 8,
    "start_time": "2024-11-22T22:52:06.023Z"
   },
   {
    "duration": 7,
    "start_time": "2024-11-22T22:52:06.033Z"
   },
   {
    "duration": 29,
    "start_time": "2024-11-22T22:52:06.042Z"
   },
   {
    "duration": 11,
    "start_time": "2024-11-22T22:52:06.072Z"
   },
   {
    "duration": 2,
    "start_time": "2024-11-22T22:52:06.085Z"
   },
   {
    "duration": 10,
    "start_time": "2024-11-22T22:52:06.090Z"
   },
   {
    "duration": 16,
    "start_time": "2024-11-22T22:52:06.101Z"
   },
   {
    "duration": 9,
    "start_time": "2024-11-22T22:52:06.120Z"
   },
   {
    "duration": 55,
    "start_time": "2024-11-22T22:52:06.131Z"
   },
   {
    "duration": 11,
    "start_time": "2024-11-22T22:52:06.188Z"
   },
   {
    "duration": 12,
    "start_time": "2024-11-22T22:52:06.200Z"
   },
   {
    "duration": 8,
    "start_time": "2024-11-22T22:52:06.213Z"
   },
   {
    "duration": 17,
    "start_time": "2024-11-22T22:52:06.223Z"
   },
   {
    "duration": 39,
    "start_time": "2024-11-22T22:52:06.242Z"
   },
   {
    "duration": 10,
    "start_time": "2024-11-22T22:52:06.282Z"
   },
   {
    "duration": 22,
    "start_time": "2024-11-22T22:52:06.293Z"
   },
   {
    "duration": 7,
    "start_time": "2024-11-22T22:52:06.317Z"
   },
   {
    "duration": 15,
    "start_time": "2024-11-22T22:52:06.328Z"
   },
   {
    "duration": 32,
    "start_time": "2024-11-22T22:52:06.371Z"
   },
   {
    "duration": 2,
    "start_time": "2024-11-22T22:52:06.405Z"
   },
   {
    "duration": 20,
    "start_time": "2024-11-22T22:52:06.409Z"
   },
   {
    "duration": 9,
    "start_time": "2024-11-22T22:52:06.430Z"
   },
   {
    "duration": 47,
    "start_time": "2024-11-22T22:52:06.440Z"
   },
   {
    "duration": 9,
    "start_time": "2024-11-22T22:52:06.489Z"
   },
   {
    "duration": 110,
    "start_time": "2024-11-22T22:52:06.500Z"
   },
   {
    "duration": 15,
    "start_time": "2024-11-22T22:52:06.612Z"
   },
   {
    "duration": 45,
    "start_time": "2024-11-22T22:52:06.629Z"
   },
   {
    "duration": 34,
    "start_time": "2024-11-22T22:52:06.676Z"
   },
   {
    "duration": 11,
    "start_time": "2024-11-22T22:52:06.711Z"
   },
   {
    "duration": 180,
    "start_time": "2024-11-22T22:52:06.723Z"
   },
   {
    "duration": 5,
    "start_time": "2024-11-22T22:52:06.905Z"
   },
   {
    "duration": 183,
    "start_time": "2024-11-22T22:52:06.911Z"
   },
   {
    "duration": 4,
    "start_time": "2024-11-22T22:52:07.096Z"
   },
   {
    "duration": 130,
    "start_time": "2024-11-22T22:52:07.102Z"
   },
   {
    "duration": 173,
    "start_time": "2024-11-22T22:52:07.236Z"
   },
   {
    "duration": 9,
    "start_time": "2024-11-22T22:52:07.410Z"
   },
   {
    "duration": 188,
    "start_time": "2024-11-22T22:52:07.421Z"
   },
   {
    "duration": 7,
    "start_time": "2024-11-22T22:52:07.611Z"
   },
   {
    "duration": 6,
    "start_time": "2024-11-22T22:52:07.619Z"
   },
   {
    "duration": 46,
    "start_time": "2024-11-22T22:52:07.627Z"
   },
   {
    "duration": 6,
    "start_time": "2024-11-22T22:52:07.674Z"
   },
   {
    "duration": 39,
    "start_time": "2024-11-22T22:52:07.681Z"
   },
   {
    "duration": 22,
    "start_time": "2024-11-22T22:52:07.721Z"
   },
   {
    "duration": 4,
    "start_time": "2024-11-22T22:54:21.066Z"
   },
   {
    "duration": 4,
    "start_time": "2024-11-22T22:55:13.587Z"
   },
   {
    "duration": 27,
    "start_time": "2024-11-22T23:03:45.455Z"
   },
   {
    "duration": 810,
    "start_time": "2024-11-22T23:11:22.066Z"
   },
   {
    "duration": 77,
    "start_time": "2024-11-22T23:11:22.878Z"
   },
   {
    "duration": 65,
    "start_time": "2024-11-22T23:11:22.957Z"
   },
   {
    "duration": 38,
    "start_time": "2024-11-22T23:11:23.025Z"
   },
   {
    "duration": 10,
    "start_time": "2024-11-22T23:11:23.070Z"
   },
   {
    "duration": 13,
    "start_time": "2024-11-22T23:11:23.082Z"
   },
   {
    "duration": 8,
    "start_time": "2024-11-22T23:11:23.097Z"
   },
   {
    "duration": 6,
    "start_time": "2024-11-22T23:11:23.107Z"
   },
   {
    "duration": 7,
    "start_time": "2024-11-22T23:11:23.115Z"
   },
   {
    "duration": 45,
    "start_time": "2024-11-22T23:11:23.125Z"
   },
   {
    "duration": 3,
    "start_time": "2024-11-22T23:11:23.171Z"
   },
   {
    "duration": 11,
    "start_time": "2024-11-22T23:11:23.176Z"
   },
   {
    "duration": 15,
    "start_time": "2024-11-22T23:11:23.188Z"
   },
   {
    "duration": 10,
    "start_time": "2024-11-22T23:11:23.205Z"
   },
   {
    "duration": 18,
    "start_time": "2024-11-22T23:11:23.216Z"
   },
   {
    "duration": 35,
    "start_time": "2024-11-22T23:11:23.236Z"
   },
   {
    "duration": 12,
    "start_time": "2024-11-22T23:11:23.273Z"
   },
   {
    "duration": 8,
    "start_time": "2024-11-22T23:11:23.287Z"
   },
   {
    "duration": 17,
    "start_time": "2024-11-22T23:11:23.298Z"
   },
   {
    "duration": 16,
    "start_time": "2024-11-22T23:11:23.317Z"
   },
   {
    "duration": 44,
    "start_time": "2024-11-22T23:11:23.334Z"
   },
   {
    "duration": 23,
    "start_time": "2024-11-22T23:11:23.380Z"
   },
   {
    "duration": 6,
    "start_time": "2024-11-22T23:11:23.405Z"
   },
   {
    "duration": 9,
    "start_time": "2024-11-22T23:11:23.413Z"
   },
   {
    "duration": 56,
    "start_time": "2024-11-22T23:11:23.424Z"
   },
   {
    "duration": 20,
    "start_time": "2024-11-22T23:11:23.482Z"
   },
   {
    "duration": 8,
    "start_time": "2024-11-22T23:11:23.504Z"
   },
   {
    "duration": 81,
    "start_time": "2024-11-22T23:11:23.517Z"
   },
   {
    "duration": 10,
    "start_time": "2024-11-22T23:11:23.600Z"
   },
   {
    "duration": 20,
    "start_time": "2024-11-22T23:11:23.612Z"
   },
   {
    "duration": 36,
    "start_time": "2024-11-22T23:11:23.634Z"
   },
   {
    "duration": 25,
    "start_time": "2024-11-22T23:11:23.672Z"
   },
   {
    "duration": 32,
    "start_time": "2024-11-22T23:11:23.699Z"
   },
   {
    "duration": 10,
    "start_time": "2024-11-22T23:11:23.733Z"
   },
   {
    "duration": 192,
    "start_time": "2024-11-22T23:11:23.745Z"
   },
   {
    "duration": 5,
    "start_time": "2024-11-22T23:11:23.940Z"
   },
   {
    "duration": 170,
    "start_time": "2024-11-22T23:11:23.947Z"
   },
   {
    "duration": 5,
    "start_time": "2024-11-22T23:11:24.118Z"
   },
   {
    "duration": 118,
    "start_time": "2024-11-22T23:11:24.125Z"
   },
   {
    "duration": 177,
    "start_time": "2024-11-22T23:11:24.245Z"
   },
   {
    "duration": 8,
    "start_time": "2024-11-22T23:11:24.424Z"
   },
   {
    "duration": 184,
    "start_time": "2024-11-22T23:11:24.434Z"
   },
   {
    "duration": 7,
    "start_time": "2024-11-22T23:11:24.620Z"
   },
   {
    "duration": 7,
    "start_time": "2024-11-22T23:11:24.629Z"
   },
   {
    "duration": 4,
    "start_time": "2024-11-22T23:11:24.637Z"
   },
   {
    "duration": 48,
    "start_time": "2024-11-22T23:11:24.643Z"
   },
   {
    "duration": 21,
    "start_time": "2024-11-22T23:11:24.693Z"
   },
   {
    "duration": 7,
    "start_time": "2024-11-22T23:11:24.716Z"
   },
   {
    "duration": 4,
    "start_time": "2024-11-22T23:11:24.724Z"
   },
   {
    "duration": 2541,
    "start_time": "2024-11-23T00:45:41.802Z"
   },
   {
    "duration": 94,
    "start_time": "2024-11-23T00:45:44.346Z"
   },
   {
    "duration": 78,
    "start_time": "2024-11-23T00:45:44.442Z"
   },
   {
    "duration": 65,
    "start_time": "2024-11-23T00:45:44.522Z"
   },
   {
    "duration": 13,
    "start_time": "2024-11-23T00:45:44.590Z"
   },
   {
    "duration": 17,
    "start_time": "2024-11-23T00:45:44.605Z"
   },
   {
    "duration": 9,
    "start_time": "2024-11-23T00:45:44.624Z"
   },
   {
    "duration": 7,
    "start_time": "2024-11-23T00:45:44.635Z"
   },
   {
    "duration": 9,
    "start_time": "2024-11-23T00:45:44.643Z"
   },
   {
    "duration": 11,
    "start_time": "2024-11-23T00:45:44.654Z"
   },
   {
    "duration": 3,
    "start_time": "2024-11-23T00:45:44.667Z"
   },
   {
    "duration": 40,
    "start_time": "2024-11-23T00:45:44.672Z"
   },
   {
    "duration": 17,
    "start_time": "2024-11-23T00:45:44.715Z"
   },
   {
    "duration": 10,
    "start_time": "2024-11-23T00:45:44.736Z"
   },
   {
    "duration": 18,
    "start_time": "2024-11-23T00:45:44.747Z"
   },
   {
    "duration": 11,
    "start_time": "2024-11-23T00:45:44.767Z"
   },
   {
    "duration": 12,
    "start_time": "2024-11-23T00:45:44.812Z"
   },
   {
    "duration": 8,
    "start_time": "2024-11-23T00:45:44.826Z"
   },
   {
    "duration": 18,
    "start_time": "2024-11-23T00:45:44.836Z"
   },
   {
    "duration": 14,
    "start_time": "2024-11-23T00:45:44.856Z"
   },
   {
    "duration": 40,
    "start_time": "2024-11-23T00:45:44.872Z"
   },
   {
    "duration": 26,
    "start_time": "2024-11-23T00:45:44.914Z"
   },
   {
    "duration": 7,
    "start_time": "2024-11-23T00:45:44.942Z"
   },
   {
    "duration": 10,
    "start_time": "2024-11-23T00:45:44.951Z"
   },
   {
    "duration": 58,
    "start_time": "2024-11-23T00:45:44.963Z"
   },
   {
    "duration": 20,
    "start_time": "2024-11-23T00:45:45.023Z"
   },
   {
    "duration": 9,
    "start_time": "2024-11-23T00:45:45.046Z"
   },
   {
    "duration": 21,
    "start_time": "2024-11-23T00:45:45.057Z"
   },
   {
    "duration": 33,
    "start_time": "2024-11-23T00:45:45.080Z"
   },
   {
    "duration": 25,
    "start_time": "2024-11-23T00:45:45.115Z"
   },
   {
    "duration": 16,
    "start_time": "2024-11-23T00:45:45.141Z"
   },
   {
    "duration": 30,
    "start_time": "2024-11-23T00:45:45.158Z"
   },
   {
    "duration": 56,
    "start_time": "2024-11-23T00:45:45.190Z"
   },
   {
    "duration": 10,
    "start_time": "2024-11-23T00:45:45.248Z"
   },
   {
    "duration": 195,
    "start_time": "2024-11-23T00:45:45.260Z"
   },
   {
    "duration": 6,
    "start_time": "2024-11-23T00:45:45.456Z"
   },
   {
    "duration": 232,
    "start_time": "2024-11-23T00:45:45.464Z"
   },
   {
    "duration": 5,
    "start_time": "2024-11-23T00:45:45.698Z"
   },
   {
    "duration": 123,
    "start_time": "2024-11-23T00:45:45.704Z"
   },
   {
    "duration": 166,
    "start_time": "2024-11-23T00:45:45.829Z"
   },
   {
    "duration": 15,
    "start_time": "2024-11-23T00:45:46.001Z"
   },
   {
    "duration": 186,
    "start_time": "2024-11-23T00:45:46.018Z"
   },
   {
    "duration": 11,
    "start_time": "2024-11-23T00:45:46.206Z"
   },
   {
    "duration": 7,
    "start_time": "2024-11-23T00:45:46.219Z"
   },
   {
    "duration": 5,
    "start_time": "2024-11-23T00:45:46.227Z"
   },
   {
    "duration": 26,
    "start_time": "2024-11-23T00:45:46.235Z"
   },
   {
    "duration": 50,
    "start_time": "2024-11-23T00:45:46.263Z"
   },
   {
    "duration": 8,
    "start_time": "2024-11-23T00:45:46.315Z"
   },
   {
    "duration": 4,
    "start_time": "2024-11-23T00:45:46.325Z"
   },
   {
    "duration": 2616,
    "start_time": "2024-11-23T01:53:07.682Z"
   },
   {
    "duration": 102,
    "start_time": "2024-11-23T01:53:10.308Z"
   },
   {
    "duration": 86,
    "start_time": "2024-11-23T01:53:10.412Z"
   },
   {
    "duration": 52,
    "start_time": "2024-11-23T01:53:10.501Z"
   },
   {
    "duration": 13,
    "start_time": "2024-11-23T01:53:10.555Z"
   },
   {
    "duration": 16,
    "start_time": "2024-11-23T01:53:10.570Z"
   },
   {
    "duration": 10,
    "start_time": "2024-11-23T01:53:10.588Z"
   },
   {
    "duration": 15,
    "start_time": "2024-11-23T01:53:10.599Z"
   },
   {
    "duration": 8,
    "start_time": "2024-11-23T01:53:10.616Z"
   },
   {
    "duration": 12,
    "start_time": "2024-11-23T01:53:10.627Z"
   },
   {
    "duration": 3,
    "start_time": "2024-11-23T01:53:10.641Z"
   },
   {
    "duration": 10,
    "start_time": "2024-11-23T01:53:10.646Z"
   },
   {
    "duration": 15,
    "start_time": "2024-11-23T01:53:10.658Z"
   },
   {
    "duration": 10,
    "start_time": "2024-11-23T01:53:10.709Z"
   },
   {
    "duration": 20,
    "start_time": "2024-11-23T01:53:10.720Z"
   },
   {
    "duration": 11,
    "start_time": "2024-11-23T01:53:10.742Z"
   },
   {
    "duration": 12,
    "start_time": "2024-11-23T01:53:10.755Z"
   },
   {
    "duration": 40,
    "start_time": "2024-11-23T01:53:10.769Z"
   },
   {
    "duration": 18,
    "start_time": "2024-11-23T01:53:10.811Z"
   },
   {
    "duration": 14,
    "start_time": "2024-11-23T01:53:10.831Z"
   },
   {
    "duration": 10,
    "start_time": "2024-11-23T01:53:10.847Z"
   },
   {
    "duration": 50,
    "start_time": "2024-11-23T01:53:10.859Z"
   },
   {
    "duration": 9,
    "start_time": "2024-11-23T01:53:10.911Z"
   },
   {
    "duration": 10,
    "start_time": "2024-11-23T01:53:10.922Z"
   },
   {
    "duration": 29,
    "start_time": "2024-11-23T01:53:10.933Z"
   },
   {
    "duration": 46,
    "start_time": "2024-11-23T01:53:10.964Z"
   },
   {
    "duration": 9,
    "start_time": "2024-11-23T01:53:11.012Z"
   },
   {
    "duration": 20,
    "start_time": "2024-11-23T01:53:11.025Z"
   },
   {
    "duration": 11,
    "start_time": "2024-11-23T01:53:11.047Z"
   },
   {
    "duration": 49,
    "start_time": "2024-11-23T01:53:11.060Z"
   },
   {
    "duration": 18,
    "start_time": "2024-11-23T01:53:11.111Z"
   },
   {
    "duration": 27,
    "start_time": "2024-11-23T01:53:11.130Z"
   },
   {
    "duration": 54,
    "start_time": "2024-11-23T01:53:11.159Z"
   },
   {
    "duration": 12,
    "start_time": "2024-11-23T01:53:11.215Z"
   },
   {
    "duration": 191,
    "start_time": "2024-11-23T01:53:11.228Z"
   },
   {
    "duration": 6,
    "start_time": "2024-11-23T01:53:11.421Z"
   },
   {
    "duration": 237,
    "start_time": "2024-11-23T01:53:11.429Z"
   },
   {
    "duration": 4,
    "start_time": "2024-11-23T01:53:11.669Z"
   },
   {
    "duration": 123,
    "start_time": "2024-11-23T01:53:11.675Z"
   },
   {
    "duration": 160,
    "start_time": "2024-11-23T01:53:11.808Z"
   },
   {
    "duration": 9,
    "start_time": "2024-11-23T01:53:11.970Z"
   },
   {
    "duration": 190,
    "start_time": "2024-11-23T01:53:11.981Z"
   },
   {
    "duration": 7,
    "start_time": "2024-11-23T01:53:12.174Z"
   },
   {
    "duration": 7,
    "start_time": "2024-11-23T01:53:12.183Z"
   },
   {
    "duration": 5,
    "start_time": "2024-11-23T01:53:12.209Z"
   },
   {
    "duration": 26,
    "start_time": "2024-11-23T01:53:12.216Z"
   },
   {
    "duration": 23,
    "start_time": "2024-11-23T01:53:12.243Z"
   },
   {
    "duration": 7,
    "start_time": "2024-11-23T01:53:12.268Z"
   },
   {
    "duration": 32,
    "start_time": "2024-11-23T01:53:12.277Z"
   },
   {
    "duration": 2527,
    "start_time": "2024-11-25T22:09:48.458Z"
   },
   {
    "duration": 99,
    "start_time": "2024-11-25T22:09:50.987Z"
   },
   {
    "duration": 87,
    "start_time": "2024-11-25T22:09:51.088Z"
   },
   {
    "duration": 63,
    "start_time": "2024-11-25T22:09:51.177Z"
   },
   {
    "duration": 11,
    "start_time": "2024-11-25T22:09:51.243Z"
   },
   {
    "duration": 17,
    "start_time": "2024-11-25T22:09:51.256Z"
   },
   {
    "duration": 8,
    "start_time": "2024-11-25T22:09:51.275Z"
   },
   {
    "duration": 6,
    "start_time": "2024-11-25T22:09:51.285Z"
   },
   {
    "duration": 8,
    "start_time": "2024-11-25T22:09:51.293Z"
   },
   {
    "duration": 11,
    "start_time": "2024-11-25T22:09:51.303Z"
   },
   {
    "duration": 3,
    "start_time": "2024-11-25T22:09:51.315Z"
   },
   {
    "duration": 11,
    "start_time": "2024-11-25T22:09:51.320Z"
   },
   {
    "duration": 15,
    "start_time": "2024-11-25T22:09:51.332Z"
   },
   {
    "duration": 8,
    "start_time": "2024-11-25T22:09:51.389Z"
   },
   {
    "duration": 18,
    "start_time": "2024-11-25T22:09:51.399Z"
   },
   {
    "duration": 10,
    "start_time": "2024-11-25T22:09:51.419Z"
   },
   {
    "duration": 11,
    "start_time": "2024-11-25T22:09:51.430Z"
   },
   {
    "duration": 8,
    "start_time": "2024-11-25T22:09:51.444Z"
   },
   {
    "duration": 46,
    "start_time": "2024-11-25T22:09:51.453Z"
   },
   {
    "duration": 13,
    "start_time": "2024-11-25T22:09:51.501Z"
   },
   {
    "duration": 9,
    "start_time": "2024-11-25T22:09:51.516Z"
   },
   {
    "duration": 22,
    "start_time": "2024-11-25T22:09:51.527Z"
   },
   {
    "duration": 7,
    "start_time": "2024-11-25T22:09:51.550Z"
   },
   {
    "duration": 38,
    "start_time": "2024-11-25T22:09:51.558Z"
   },
   {
    "duration": 28,
    "start_time": "2024-11-25T22:09:51.597Z"
   },
   {
    "duration": 20,
    "start_time": "2024-11-25T22:09:51.627Z"
   },
   {
    "duration": 9,
    "start_time": "2024-11-25T22:09:51.648Z"
   },
   {
    "duration": 19,
    "start_time": "2024-11-25T22:09:51.686Z"
   },
   {
    "duration": 11,
    "start_time": "2024-11-25T22:09:51.706Z"
   },
   {
    "duration": 80,
    "start_time": "2024-11-25T22:09:51.719Z"
   },
   {
    "duration": 15,
    "start_time": "2024-11-25T22:09:51.801Z"
   },
   {
    "duration": 26,
    "start_time": "2024-11-25T22:09:51.817Z"
   },
   {
    "duration": 51,
    "start_time": "2024-11-25T22:09:51.845Z"
   },
   {
    "duration": 10,
    "start_time": "2024-11-25T22:09:51.898Z"
   },
   {
    "duration": 187,
    "start_time": "2024-11-25T22:09:51.909Z"
   },
   {
    "duration": 5,
    "start_time": "2024-11-25T22:09:52.098Z"
   },
   {
    "duration": 183,
    "start_time": "2024-11-25T22:09:52.104Z"
   },
   {
    "duration": 5,
    "start_time": "2024-11-25T22:09:52.288Z"
   },
   {
    "duration": 122,
    "start_time": "2024-11-25T22:09:52.295Z"
   },
   {
    "duration": 201,
    "start_time": "2024-11-25T22:09:52.419Z"
   },
   {
    "duration": 10,
    "start_time": "2024-11-25T22:09:52.624Z"
   },
   {
    "duration": 185,
    "start_time": "2024-11-25T22:09:52.635Z"
   },
   {
    "duration": 6,
    "start_time": "2024-11-25T22:09:52.822Z"
   },
   {
    "duration": 6,
    "start_time": "2024-11-25T22:09:52.830Z"
   },
   {
    "duration": 5,
    "start_time": "2024-11-25T22:09:52.837Z"
   },
   {
    "duration": 50,
    "start_time": "2024-11-25T22:09:52.844Z"
   },
   {
    "duration": 21,
    "start_time": "2024-11-25T22:09:52.895Z"
   },
   {
    "duration": 7,
    "start_time": "2024-11-25T22:09:52.918Z"
   },
   {
    "duration": 4,
    "start_time": "2024-11-25T22:09:52.927Z"
   },
   {
    "duration": 2570,
    "start_time": "2024-11-26T01:30:08.248Z"
   },
   {
    "duration": 101,
    "start_time": "2024-11-26T01:30:10.820Z"
   },
   {
    "duration": 80,
    "start_time": "2024-11-26T01:30:10.923Z"
   },
   {
    "duration": 63,
    "start_time": "2024-11-26T01:30:11.006Z"
   },
   {
    "duration": 13,
    "start_time": "2024-11-26T01:30:11.071Z"
   },
   {
    "duration": 17,
    "start_time": "2024-11-26T01:30:11.085Z"
   },
   {
    "duration": 8,
    "start_time": "2024-11-26T01:30:11.104Z"
   },
   {
    "duration": 7,
    "start_time": "2024-11-26T01:30:11.115Z"
   },
   {
    "duration": 26,
    "start_time": "2024-11-26T01:30:11.124Z"
   },
   {
    "duration": 11,
    "start_time": "2024-11-26T01:30:11.155Z"
   },
   {
    "duration": 4,
    "start_time": "2024-11-26T01:30:11.168Z"
   },
   {
    "duration": 10,
    "start_time": "2024-11-26T01:30:11.174Z"
   },
   {
    "duration": 15,
    "start_time": "2024-11-26T01:30:11.186Z"
   },
   {
    "duration": 46,
    "start_time": "2024-11-26T01:30:11.203Z"
   },
   {
    "duration": 20,
    "start_time": "2024-11-26T01:30:11.251Z"
   },
   {
    "duration": 12,
    "start_time": "2024-11-26T01:30:11.272Z"
   },
   {
    "duration": 11,
    "start_time": "2024-11-26T01:30:11.285Z"
   },
   {
    "duration": 8,
    "start_time": "2024-11-26T01:30:11.298Z"
   },
   {
    "duration": 47,
    "start_time": "2024-11-26T01:30:11.307Z"
   },
   {
    "duration": 13,
    "start_time": "2024-11-26T01:30:11.356Z"
   },
   {
    "duration": 10,
    "start_time": "2024-11-26T01:30:11.371Z"
   },
   {
    "duration": 24,
    "start_time": "2024-11-26T01:30:11.382Z"
   },
   {
    "duration": 36,
    "start_time": "2024-11-26T01:30:11.407Z"
   },
   {
    "duration": 10,
    "start_time": "2024-11-26T01:30:11.444Z"
   },
   {
    "duration": 30,
    "start_time": "2024-11-26T01:30:11.456Z"
   },
   {
    "duration": 20,
    "start_time": "2024-11-26T01:30:11.488Z"
   },
   {
    "duration": 33,
    "start_time": "2024-11-26T01:30:11.510Z"
   },
   {
    "duration": 20,
    "start_time": "2024-11-26T01:30:11.548Z"
   },
   {
    "duration": 12,
    "start_time": "2024-11-26T01:30:11.570Z"
   },
   {
    "duration": 23,
    "start_time": "2024-11-26T01:30:11.583Z"
   },
   {
    "duration": 43,
    "start_time": "2024-11-26T01:30:11.607Z"
   },
   {
    "duration": 27,
    "start_time": "2024-11-26T01:30:11.652Z"
   },
   {
    "duration": 41,
    "start_time": "2024-11-26T01:30:11.681Z"
   },
   {
    "duration": 29,
    "start_time": "2024-11-26T01:30:11.724Z"
   },
   {
    "duration": 189,
    "start_time": "2024-11-26T01:30:11.755Z"
   },
   {
    "duration": 5,
    "start_time": "2024-11-26T01:30:11.946Z"
   },
   {
    "duration": 215,
    "start_time": "2024-11-26T01:30:11.952Z"
   },
   {
    "duration": 5,
    "start_time": "2024-11-26T01:30:12.169Z"
   },
   {
    "duration": 127,
    "start_time": "2024-11-26T01:30:12.176Z"
   },
   {
    "duration": 175,
    "start_time": "2024-11-26T01:30:12.305Z"
   },
   {
    "duration": 8,
    "start_time": "2024-11-26T01:30:12.482Z"
   },
   {
    "duration": 185,
    "start_time": "2024-11-26T01:30:12.491Z"
   },
   {
    "duration": 7,
    "start_time": "2024-11-26T01:30:12.679Z"
   },
   {
    "duration": 5,
    "start_time": "2024-11-26T01:30:12.688Z"
   },
   {
    "duration": 4,
    "start_time": "2024-11-26T01:30:12.695Z"
   },
   {
    "duration": 50,
    "start_time": "2024-11-26T01:30:12.701Z"
   },
   {
    "duration": 25,
    "start_time": "2024-11-26T01:30:12.753Z"
   },
   {
    "duration": 8,
    "start_time": "2024-11-26T01:30:12.779Z"
   },
   {
    "duration": 5,
    "start_time": "2024-11-26T01:30:12.790Z"
   },
   {
    "duration": 821,
    "start_time": "2024-11-26T01:46:23.437Z"
   },
   {
    "duration": 86,
    "start_time": "2024-11-26T01:46:24.260Z"
   },
   {
    "duration": 58,
    "start_time": "2024-11-26T01:46:24.348Z"
   },
   {
    "duration": 46,
    "start_time": "2024-11-26T01:46:24.409Z"
   },
   {
    "duration": 10,
    "start_time": "2024-11-26T01:46:24.457Z"
   },
   {
    "duration": 14,
    "start_time": "2024-11-26T01:46:24.469Z"
   },
   {
    "duration": 9,
    "start_time": "2024-11-26T01:46:24.484Z"
   },
   {
    "duration": 7,
    "start_time": "2024-11-26T01:46:24.494Z"
   },
   {
    "duration": 7,
    "start_time": "2024-11-26T01:46:24.503Z"
   },
   {
    "duration": 12,
    "start_time": "2024-11-26T01:46:24.543Z"
   },
   {
    "duration": 5,
    "start_time": "2024-11-26T01:46:24.556Z"
   },
   {
    "duration": 11,
    "start_time": "2024-11-26T01:46:24.562Z"
   },
   {
    "duration": 15,
    "start_time": "2024-11-26T01:46:24.575Z"
   },
   {
    "duration": 9,
    "start_time": "2024-11-26T01:46:24.592Z"
   },
   {
    "duration": 47,
    "start_time": "2024-11-26T01:46:24.602Z"
   },
   {
    "duration": 12,
    "start_time": "2024-11-26T01:46:24.650Z"
   },
   {
    "duration": 12,
    "start_time": "2024-11-26T01:46:24.663Z"
   },
   {
    "duration": 8,
    "start_time": "2024-11-26T01:46:24.677Z"
   },
   {
    "duration": 18,
    "start_time": "2024-11-26T01:46:24.687Z"
   },
   {
    "duration": 46,
    "start_time": "2024-11-26T01:46:24.707Z"
   },
   {
    "duration": 9,
    "start_time": "2024-11-26T01:46:24.755Z"
   },
   {
    "duration": 23,
    "start_time": "2024-11-26T01:46:24.767Z"
   },
   {
    "duration": 9,
    "start_time": "2024-11-26T01:46:24.792Z"
   },
   {
    "duration": 43,
    "start_time": "2024-11-26T01:46:24.803Z"
   },
   {
    "duration": 29,
    "start_time": "2024-11-26T01:46:24.848Z"
   },
   {
    "duration": 20,
    "start_time": "2024-11-26T01:46:24.878Z"
   },
   {
    "duration": 8,
    "start_time": "2024-11-26T01:46:24.900Z"
   },
   {
    "duration": 83,
    "start_time": "2024-11-26T01:46:24.913Z"
   },
   {
    "duration": 11,
    "start_time": "2024-11-26T01:46:24.998Z"
   },
   {
    "duration": 41,
    "start_time": "2024-11-26T01:46:25.011Z"
   },
   {
    "duration": 19,
    "start_time": "2024-11-26T01:46:25.054Z"
   },
   {
    "duration": 26,
    "start_time": "2024-11-26T01:46:25.075Z"
   },
   {
    "duration": 48,
    "start_time": "2024-11-26T01:46:25.102Z"
   },
   {
    "duration": 10,
    "start_time": "2024-11-26T01:46:25.152Z"
   },
   {
    "duration": 197,
    "start_time": "2024-11-26T01:46:25.164Z"
   },
   {
    "duration": 5,
    "start_time": "2024-11-26T01:46:25.363Z"
   },
   {
    "duration": 174,
    "start_time": "2024-11-26T01:46:25.370Z"
   },
   {
    "duration": 5,
    "start_time": "2024-11-26T01:46:25.546Z"
   },
   {
    "duration": 123,
    "start_time": "2024-11-26T01:46:25.553Z"
   },
   {
    "duration": 166,
    "start_time": "2024-11-26T01:46:25.678Z"
   },
   {
    "duration": 11,
    "start_time": "2024-11-26T01:46:25.846Z"
   },
   {
    "duration": 208,
    "start_time": "2024-11-26T01:46:25.859Z"
   },
   {
    "duration": 7,
    "start_time": "2024-11-26T01:46:26.068Z"
   },
   {
    "duration": 7,
    "start_time": "2024-11-26T01:46:26.077Z"
   },
   {
    "duration": 4,
    "start_time": "2024-11-26T01:46:26.085Z"
   },
   {
    "duration": 51,
    "start_time": "2024-11-26T01:46:26.091Z"
   },
   {
    "duration": 22,
    "start_time": "2024-11-26T01:46:26.144Z"
   },
   {
    "duration": 7,
    "start_time": "2024-11-26T01:46:26.168Z"
   },
   {
    "duration": 4,
    "start_time": "2024-11-26T01:46:26.177Z"
   },
   {
    "duration": 8,
    "start_time": "2024-11-26T01:46:26.182Z"
   },
   {
    "duration": 4,
    "start_time": "2024-11-26T01:49:02.047Z"
   },
   {
    "duration": 5,
    "start_time": "2024-11-26T01:49:27.658Z"
   },
   {
    "duration": 9,
    "start_time": "2024-11-26T01:52:37.429Z"
   },
   {
    "duration": 4,
    "start_time": "2024-11-26T01:52:42.268Z"
   },
   {
    "duration": 4,
    "start_time": "2024-11-26T01:53:09.143Z"
   },
   {
    "duration": 8,
    "start_time": "2024-11-26T01:59:30.664Z"
   },
   {
    "duration": 799,
    "start_time": "2024-11-26T02:03:28.714Z"
   },
   {
    "duration": 79,
    "start_time": "2024-11-26T02:03:29.516Z"
   },
   {
    "duration": 65,
    "start_time": "2024-11-26T02:03:29.597Z"
   },
   {
    "duration": 39,
    "start_time": "2024-11-26T02:03:29.664Z"
   },
   {
    "duration": 10,
    "start_time": "2024-11-26T02:03:29.707Z"
   },
   {
    "duration": 27,
    "start_time": "2024-11-26T02:03:29.719Z"
   },
   {
    "duration": 9,
    "start_time": "2024-11-26T02:03:29.748Z"
   },
   {
    "duration": 7,
    "start_time": "2024-11-26T02:03:29.759Z"
   },
   {
    "duration": 8,
    "start_time": "2024-11-26T02:03:29.768Z"
   },
   {
    "duration": 11,
    "start_time": "2024-11-26T02:03:29.778Z"
   },
   {
    "duration": 4,
    "start_time": "2024-11-26T02:03:29.790Z"
   },
   {
    "duration": 12,
    "start_time": "2024-11-26T02:03:29.795Z"
   },
   {
    "duration": 15,
    "start_time": "2024-11-26T02:03:29.843Z"
   },
   {
    "duration": 9,
    "start_time": "2024-11-26T02:03:29.863Z"
   },
   {
    "duration": 18,
    "start_time": "2024-11-26T02:03:29.874Z"
   },
   {
    "duration": 11,
    "start_time": "2024-11-26T02:03:29.894Z"
   },
   {
    "duration": 40,
    "start_time": "2024-11-26T02:03:29.906Z"
   },
   {
    "duration": 8,
    "start_time": "2024-11-26T02:03:29.948Z"
   },
   {
    "duration": 17,
    "start_time": "2024-11-26T02:03:29.959Z"
   },
   {
    "duration": 14,
    "start_time": "2024-11-26T02:03:29.978Z"
   },
   {
    "duration": 10,
    "start_time": "2024-11-26T02:03:29.993Z"
   },
   {
    "duration": 57,
    "start_time": "2024-11-26T02:03:30.004Z"
   },
   {
    "duration": 7,
    "start_time": "2024-11-26T02:03:30.063Z"
   },
   {
    "duration": 10,
    "start_time": "2024-11-26T02:03:30.072Z"
   },
   {
    "duration": 30,
    "start_time": "2024-11-26T02:03:30.084Z"
   },
   {
    "duration": 42,
    "start_time": "2024-11-26T02:03:30.116Z"
   },
   {
    "duration": 9,
    "start_time": "2024-11-26T02:03:30.160Z"
   },
   {
    "duration": 79,
    "start_time": "2024-11-26T02:03:30.171Z"
   },
   {
    "duration": 12,
    "start_time": "2024-11-26T02:03:30.252Z"
   },
   {
    "duration": 23,
    "start_time": "2024-11-26T02:03:30.265Z"
   },
   {
    "duration": 16,
    "start_time": "2024-11-26T02:03:30.290Z"
   },
   {
    "duration": 50,
    "start_time": "2024-11-26T02:03:30.307Z"
   },
   {
    "duration": 32,
    "start_time": "2024-11-26T02:03:30.358Z"
   },
   {
    "duration": 10,
    "start_time": "2024-11-26T02:03:30.392Z"
   },
   {
    "duration": 219,
    "start_time": "2024-11-26T02:03:30.404Z"
   },
   {
    "duration": 5,
    "start_time": "2024-11-26T02:03:30.625Z"
   },
   {
    "duration": 184,
    "start_time": "2024-11-26T02:03:30.632Z"
   },
   {
    "duration": 5,
    "start_time": "2024-11-26T02:03:30.818Z"
   },
   {
    "duration": 131,
    "start_time": "2024-11-26T02:03:30.824Z"
   },
   {
    "duration": 172,
    "start_time": "2024-11-26T02:03:30.957Z"
   },
   {
    "duration": 11,
    "start_time": "2024-11-26T02:03:31.143Z"
   },
   {
    "duration": 186,
    "start_time": "2024-11-26T02:03:31.156Z"
   },
   {
    "duration": 7,
    "start_time": "2024-11-26T02:03:31.344Z"
   },
   {
    "duration": 6,
    "start_time": "2024-11-26T02:03:31.353Z"
   },
   {
    "duration": 4,
    "start_time": "2024-11-26T02:03:31.361Z"
   },
   {
    "duration": 8,
    "start_time": "2024-11-26T02:03:31.367Z"
   },
   {
    "duration": 26,
    "start_time": "2024-11-26T02:03:31.376Z"
   },
   {
    "duration": 59,
    "start_time": "2024-11-26T02:03:31.404Z"
   },
   {
    "duration": 7,
    "start_time": "2024-11-26T02:03:31.465Z"
   },
   {
    "duration": 4,
    "start_time": "2024-11-26T02:03:31.474Z"
   },
   {
    "duration": 8,
    "start_time": "2024-11-26T02:03:31.480Z"
   },
   {
    "duration": 853,
    "start_time": "2025-04-21T21:29:14.653Z"
   },
   {
    "duration": 255,
    "start_time": "2025-04-21T21:29:15.509Z"
   },
   {
    "duration": 84,
    "start_time": "2025-04-21T21:29:15.766Z"
   },
   {
    "duration": 52,
    "start_time": "2025-04-21T21:29:15.853Z"
   },
   {
    "duration": 12,
    "start_time": "2025-04-21T21:29:15.907Z"
   },
   {
    "duration": 18,
    "start_time": "2025-04-21T21:29:15.922Z"
   },
   {
    "duration": 9,
    "start_time": "2025-04-21T21:29:15.942Z"
   },
   {
    "duration": 20,
    "start_time": "2025-04-21T21:29:15.953Z"
   },
   {
    "duration": 8,
    "start_time": "2025-04-21T21:29:15.974Z"
   },
   {
    "duration": 12,
    "start_time": "2025-04-21T21:29:15.985Z"
   },
   {
    "duration": 3,
    "start_time": "2025-04-21T21:29:15.999Z"
   },
   {
    "duration": 13,
    "start_time": "2025-04-21T21:29:16.003Z"
   },
   {
    "duration": 14,
    "start_time": "2025-04-21T21:29:16.018Z"
   },
   {
    "duration": 39,
    "start_time": "2025-04-21T21:29:16.033Z"
   },
   {
    "duration": 28,
    "start_time": "2025-04-21T21:29:16.073Z"
   },
   {
    "duration": 10,
    "start_time": "2025-04-21T21:29:16.103Z"
   },
   {
    "duration": 12,
    "start_time": "2025-04-21T21:29:16.115Z"
   },
   {
    "duration": 9,
    "start_time": "2025-04-21T21:29:16.129Z"
   },
   {
    "duration": 54,
    "start_time": "2025-04-21T21:29:16.140Z"
   },
   {
    "duration": 15,
    "start_time": "2025-04-21T21:29:16.196Z"
   },
   {
    "duration": 11,
    "start_time": "2025-04-21T21:29:16.213Z"
   },
   {
    "duration": 22,
    "start_time": "2025-04-21T21:29:16.226Z"
   },
   {
    "duration": 7,
    "start_time": "2025-04-21T21:29:16.271Z"
   },
   {
    "duration": 10,
    "start_time": "2025-04-21T21:29:16.279Z"
   },
   {
    "duration": 33,
    "start_time": "2025-04-21T21:29:16.290Z"
   },
   {
    "duration": 45,
    "start_time": "2025-04-21T21:29:16.326Z"
   },
   {
    "duration": 12,
    "start_time": "2025-04-21T21:29:16.373Z"
   },
   {
    "duration": 85,
    "start_time": "2025-04-21T21:29:16.391Z"
   },
   {
    "duration": 12,
    "start_time": "2025-04-21T21:29:16.478Z"
   },
   {
    "duration": 22,
    "start_time": "2025-04-21T21:29:16.492Z"
   },
   {
    "duration": 16,
    "start_time": "2025-04-21T21:29:16.516Z"
   },
   {
    "duration": 51,
    "start_time": "2025-04-21T21:29:16.534Z"
   },
   {
    "duration": 41,
    "start_time": "2025-04-21T21:29:16.586Z"
   },
   {
    "duration": 11,
    "start_time": "2025-04-21T21:29:16.628Z"
   },
   {
    "duration": 227,
    "start_time": "2025-04-21T21:29:16.640Z"
   },
   {
    "duration": 7,
    "start_time": "2025-04-21T21:29:16.869Z"
   },
   {
    "duration": 207,
    "start_time": "2025-04-21T21:29:16.880Z"
   },
   {
    "duration": 5,
    "start_time": "2025-04-21T21:29:17.089Z"
   },
   {
    "duration": 155,
    "start_time": "2025-04-21T21:29:17.096Z"
   },
   {
    "duration": 166,
    "start_time": "2025-04-21T21:29:17.255Z"
   },
   {
    "duration": 9,
    "start_time": "2025-04-21T21:29:17.423Z"
   },
   {
    "duration": 186,
    "start_time": "2025-04-21T21:29:17.433Z"
   },
   {
    "duration": 6,
    "start_time": "2025-04-21T21:29:17.621Z"
   },
   {
    "duration": 6,
    "start_time": "2025-04-21T21:29:17.629Z"
   },
   {
    "duration": 4,
    "start_time": "2025-04-21T21:29:17.637Z"
   },
   {
    "duration": 27,
    "start_time": "2025-04-21T21:29:17.643Z"
   },
   {
    "duration": 30,
    "start_time": "2025-04-21T21:29:17.672Z"
   },
   {
    "duration": 25,
    "start_time": "2025-04-21T21:29:17.704Z"
   },
   {
    "duration": 10,
    "start_time": "2025-04-21T21:29:17.730Z"
   },
   {
    "duration": 28,
    "start_time": "2025-04-21T21:29:17.742Z"
   },
   {
    "duration": 7,
    "start_time": "2025-04-21T21:29:17.772Z"
   }
  ],
  "kernelspec": {
   "display_name": "base",
   "language": "python",
   "name": "python3"
  },
  "language_info": {
   "codemirror_mode": {
    "name": "ipython",
    "version": 3
   },
   "file_extension": ".py",
   "mimetype": "text/x-python",
   "name": "python",
   "nbconvert_exporter": "python",
   "pygments_lexer": "ipython3",
   "version": "3.12.7"
  },
  "toc": {
   "base_numbering": 1,
   "nav_menu": {},
   "number_sections": true,
   "sideBar": true,
   "skip_h1_title": false,
   "title_cell": "Table of Contents",
   "title_sidebar": "Contents",
   "toc_cell": false,
   "toc_position": {
    "height": "calc(100% - 180px)",
    "left": "10px",
    "top": "150px",
    "width": "205.4px"
   },
   "toc_section_display": true,
   "toc_window_display": true
  }
 },
 "nbformat": 4,
 "nbformat_minor": 2
}
