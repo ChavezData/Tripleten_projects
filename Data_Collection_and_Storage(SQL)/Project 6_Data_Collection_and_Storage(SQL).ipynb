{
 "cells": [
  {
   "cell_type": "markdown",
   "metadata": {},
   "source": [
    "# SQL RESULTS PROJECTS"
   ]
  },
  {
   "cell_type": "markdown",
   "metadata": {},
   "source": [
    "This analysis are the sql results of the projects and have been checked for error and fixed."
   ]
  },
  {
   "cell_type": "code",
   "execution_count": 1,
   "metadata": {},
   "outputs": [],
   "source": [
    "import pandas as pd\n",
    "import numpy as np\n",
    "import matplotlib.pyplot as plt\n",
    "import seaborn as sns\n",
    "from scipy import stats as st"
   ]
  },
  {
   "cell_type": "markdown",
   "metadata": {},
   "source": [
    "imported libraries above."
   ]
  },
  {
   "cell_type": "code",
   "execution_count": 3,
   "metadata": {},
   "outputs": [],
   "source": [
    "try:\n",
    "    df_trips = pd.read_csv(\"/datasets/project_sql_result_01.csv\")\n",
    "except FileNotFoundError:\n",
    "    df_trips = pd.read_csv('https://practicum-content.s3.us-west-1.amazonaws.com/datasets/project_sql_result_01.csv')"
   ]
  },
  {
   "cell_type": "code",
   "execution_count": 7,
   "metadata": {},
   "outputs": [],
   "source": [
    "try:\n",
    "    df_chicago = pd.read_csv(\"/datasets/project_sql_result_04.csv\")\n",
    "except FileNotFoundError:\n",
    "    df_chicago = pd.read_csv('https://practicum-content.s3.us-west-1.amazonaws.com/datasets/project_sql_result_04.csv')"
   ]
  },
  {
   "cell_type": "code",
   "execution_count": 5,
   "metadata": {},
   "outputs": [],
   "source": [
    "try:\n",
    "    df_airport = pd.read_csv(\"/datasets/project_sql_result_07.csv\")\n",
    "except FileNotFoundError:\n",
    "    df_airport = pd.read_csv('https://practicum-content.s3.us-west-1.amazonaws.com/datasets/project_sql_result_07.csv')"
   ]
  },
  {
   "cell_type": "markdown",
   "metadata": {},
   "source": [
    "downloaded datasets above."
   ]
  },
  {
   "cell_type": "code",
   "execution_count": 3,
   "metadata": {},
   "outputs": [
    {
     "data": {
      "text/plain": [
       "<bound method DataFrame.info of                        company_name  trips_amount\n",
       "0                         Flash Cab         19558\n",
       "1         Taxi Affiliation Services         11422\n",
       "2                 Medallion Leasing         10367\n",
       "3                        Yellow Cab          9888\n",
       "4   Taxi Affiliation Service Yellow          9299\n",
       "..                              ...           ...\n",
       "59     4053 - 40193 Adwar H. Nikola             7\n",
       "60          2733 - 74600 Benny Jona             7\n",
       "61    5874 - 73628 Sergey Cab Corp.             5\n",
       "62       2241 - 44667 - Felman Corp             3\n",
       "63      3556 - 36214 RC Andrews Cab             2\n",
       "\n",
       "[64 rows x 2 columns]>"
      ]
     },
     "execution_count": 3,
     "metadata": {},
     "output_type": "execute_result"
    }
   ],
   "source": [
    "df_trips.info"
   ]
  },
  {
   "cell_type": "markdown",
   "metadata": {},
   "source": [
    "basic info of the dataset above."
   ]
  },
  {
   "cell_type": "code",
   "execution_count": 4,
   "metadata": {},
   "outputs": [
    {
     "data": {
      "text/plain": [
       "0"
      ]
     },
     "execution_count": 4,
     "metadata": {},
     "output_type": "execute_result"
    }
   ],
   "source": [
    "df_trips.duplicated().sum()"
   ]
  },
  {
   "cell_type": "markdown",
   "metadata": {},
   "source": [
    "no duplicates above in this dataset."
   ]
  },
  {
   "cell_type": "code",
   "execution_count": 5,
   "metadata": {},
   "outputs": [
    {
     "data": {
      "text/plain": [
       "company_name    0\n",
       "trips_amount    0\n",
       "dtype: int64"
      ]
     },
     "execution_count": 5,
     "metadata": {},
     "output_type": "execute_result"
    }
   ],
   "source": [
    "df_trips.isna().sum()"
   ]
  },
  {
   "cell_type": "markdown",
   "metadata": {},
   "source": [
    "no missing values above in this dataset."
   ]
  },
  {
   "cell_type": "code",
   "execution_count": 6,
   "metadata": {},
   "outputs": [
    {
     "data": {
      "text/plain": [
       "company_name    object\n",
       "trips_amount     int64\n",
       "dtype: object"
      ]
     },
     "execution_count": 6,
     "metadata": {},
     "output_type": "execute_result"
    }
   ],
   "source": [
    "df_trips.dtypes"
   ]
  },
  {
   "cell_type": "markdown",
   "metadata": {},
   "source": [
    "datatypes listed above."
   ]
  },
  {
   "cell_type": "code",
   "execution_count": 7,
   "metadata": {},
   "outputs": [
    {
     "data": {
      "text/html": [
       "<div>\n",
       "<style scoped>\n",
       "    .dataframe tbody tr th:only-of-type {\n",
       "        vertical-align: middle;\n",
       "    }\n",
       "\n",
       "    .dataframe tbody tr th {\n",
       "        vertical-align: top;\n",
       "    }\n",
       "\n",
       "    .dataframe thead th {\n",
       "        text-align: right;\n",
       "    }\n",
       "</style>\n",
       "<table border=\"1\" class=\"dataframe\">\n",
       "  <thead>\n",
       "    <tr style=\"text-align: right;\">\n",
       "      <th></th>\n",
       "      <th>company_name</th>\n",
       "      <th>trips_amount</th>\n",
       "    </tr>\n",
       "  </thead>\n",
       "  <tbody>\n",
       "    <tr>\n",
       "      <th>0</th>\n",
       "      <td>Flash Cab</td>\n",
       "      <td>19558</td>\n",
       "    </tr>\n",
       "    <tr>\n",
       "      <th>1</th>\n",
       "      <td>Taxi Affiliation Services</td>\n",
       "      <td>11422</td>\n",
       "    </tr>\n",
       "    <tr>\n",
       "      <th>2</th>\n",
       "      <td>Medallion Leasing</td>\n",
       "      <td>10367</td>\n",
       "    </tr>\n",
       "    <tr>\n",
       "      <th>3</th>\n",
       "      <td>Yellow Cab</td>\n",
       "      <td>9888</td>\n",
       "    </tr>\n",
       "    <tr>\n",
       "      <th>4</th>\n",
       "      <td>Taxi Affiliation Service Yellow</td>\n",
       "      <td>9299</td>\n",
       "    </tr>\n",
       "    <tr>\n",
       "      <th>5</th>\n",
       "      <td>Chicago Carriage Cab Corp</td>\n",
       "      <td>9181</td>\n",
       "    </tr>\n",
       "    <tr>\n",
       "      <th>6</th>\n",
       "      <td>City Service</td>\n",
       "      <td>8448</td>\n",
       "    </tr>\n",
       "    <tr>\n",
       "      <th>7</th>\n",
       "      <td>Sun Taxi</td>\n",
       "      <td>7701</td>\n",
       "    </tr>\n",
       "    <tr>\n",
       "      <th>8</th>\n",
       "      <td>Star North Management LLC</td>\n",
       "      <td>7455</td>\n",
       "    </tr>\n",
       "    <tr>\n",
       "      <th>9</th>\n",
       "      <td>Blue Ribbon Taxi Association Inc.</td>\n",
       "      <td>5953</td>\n",
       "    </tr>\n",
       "  </tbody>\n",
       "</table>\n",
       "</div>"
      ],
      "text/plain": [
       "                        company_name  trips_amount\n",
       "0                          Flash Cab         19558\n",
       "1          Taxi Affiliation Services         11422\n",
       "2                  Medallion Leasing         10367\n",
       "3                         Yellow Cab          9888\n",
       "4    Taxi Affiliation Service Yellow          9299\n",
       "5          Chicago Carriage Cab Corp          9181\n",
       "6                       City Service          8448\n",
       "7                           Sun Taxi          7701\n",
       "8          Star North Management LLC          7455\n",
       "9  Blue Ribbon Taxi Association Inc.          5953"
      ]
     },
     "execution_count": 7,
     "metadata": {},
     "output_type": "execute_result"
    }
   ],
   "source": [
    "df_trips.head(10)"
   ]
  },
  {
   "cell_type": "markdown",
   "metadata": {},
   "source": [
    "the top 10 companies listed above."
   ]
  },
  {
   "cell_type": "code",
   "execution_count": 8,
   "metadata": {},
   "outputs": [
    {
     "data": {
      "image/png": "[encoded data removed]",
      "text/plain": [
       "<Figure size 640x480 with 1 Axes>"
      ]
     },
     "metadata": {},
     "output_type": "display_data"
    }
   ],
   "source": [
    "top_10_companies = df_trips.groupby('company_name')['trips_amount'].sum().nlargest(10)\n",
    "\n",
    "top_10_companies.plot(kind='bar')\n",
    "plt.title('Top 10 Companies by Trips Amount')\n",
    "plt.xlabel('Company')\n",
    "plt.ylabel('Total Trips Amount')\n",
    "plt.show()"
   ]
  },
  {
   "cell_type": "markdown",
   "metadata": {},
   "source": [
    "boxplot above shows the top 10 companies."
   ]
  },
  {
   "cell_type": "code",
   "execution_count": 9,
   "metadata": {},
   "outputs": [
    {
     "name": "stdout",
     "output_type": "stream",
     "text": [
      "<class 'pandas.core.frame.DataFrame'>\n",
      "RangeIndex: 94 entries, 0 to 93\n",
      "Data columns (total 2 columns):\n",
      " #   Column                 Non-Null Count  Dtype  \n",
      "---  ------                 --------------  -----  \n",
      " 0   dropoff_location_name  94 non-null     object \n",
      " 1   average_trips          94 non-null     float64\n",
      "dtypes: float64(1), object(1)\n",
      "memory usage: 1.6+ KB\n"
     ]
    }
   ],
   "source": [
    "df_chicago.info()"
   ]
  },
  {
   "cell_type": "markdown",
   "metadata": {},
   "source": [
    "basic info of the dataset above."
   ]
  },
  {
   "cell_type": "code",
   "execution_count": 10,
   "metadata": {},
   "outputs": [
    {
     "data": {
      "text/plain": [
       "0"
      ]
     },
     "execution_count": 10,
     "metadata": {},
     "output_type": "execute_result"
    }
   ],
   "source": [
    "df_chicago.duplicated().sum()"
   ]
  },
  {
   "cell_type": "markdown",
   "metadata": {},
   "source": [
    "no duplicates in this dataset above."
   ]
  },
  {
   "cell_type": "code",
   "execution_count": 11,
   "metadata": {},
   "outputs": [
    {
     "data": {
      "text/plain": [
       "dropoff_location_name    0\n",
       "average_trips            0\n",
       "dtype: int64"
      ]
     },
     "execution_count": 11,
     "metadata": {},
     "output_type": "execute_result"
    }
   ],
   "source": [
    "df_chicago.isna().sum()"
   ]
  },
  {
   "cell_type": "markdown",
   "metadata": {},
   "source": [
    "no missing values in this dataset above."
   ]
  },
  {
   "cell_type": "code",
   "execution_count": 12,
   "metadata": {},
   "outputs": [
    {
     "data": {
      "text/plain": [
       "dropoff_location_name     object\n",
       "average_trips            float64\n",
       "dtype: object"
      ]
     },
     "execution_count": 12,
     "metadata": {},
     "output_type": "execute_result"
    }
   ],
   "source": [
    "df_chicago.dtypes"
   ]
  },
  {
   "cell_type": "markdown",
   "metadata": {},
   "source": [
    "showing the datatypes for the dataset above."
   ]
  },
  {
   "cell_type": "code",
   "execution_count": 13,
   "metadata": {},
   "outputs": [
    {
     "data": {
      "text/html": [
       "<div>\n",
       "<style scoped>\n",
       "    .dataframe tbody tr th:only-of-type {\n",
       "        vertical-align: middle;\n",
       "    }\n",
       "\n",
       "    .dataframe tbody tr th {\n",
       "        vertical-align: top;\n",
       "    }\n",
       "\n",
       "    .dataframe thead th {\n",
       "        text-align: right;\n",
       "    }\n",
       "</style>\n",
       "<table border=\"1\" class=\"dataframe\">\n",
       "  <thead>\n",
       "    <tr style=\"text-align: right;\">\n",
       "      <th></th>\n",
       "      <th>dropoff_location_name</th>\n",
       "      <th>average_trips</th>\n",
       "    </tr>\n",
       "  </thead>\n",
       "  <tbody>\n",
       "    <tr>\n",
       "      <th>0</th>\n",
       "      <td>Loop</td>\n",
       "      <td>10727.466667</td>\n",
       "    </tr>\n",
       "    <tr>\n",
       "      <th>1</th>\n",
       "      <td>River North</td>\n",
       "      <td>9523.666667</td>\n",
       "    </tr>\n",
       "    <tr>\n",
       "      <th>2</th>\n",
       "      <td>Streeterville</td>\n",
       "      <td>6664.666667</td>\n",
       "    </tr>\n",
       "    <tr>\n",
       "      <th>3</th>\n",
       "      <td>West Loop</td>\n",
       "      <td>5163.666667</td>\n",
       "    </tr>\n",
       "    <tr>\n",
       "      <th>4</th>\n",
       "      <td>O'Hare</td>\n",
       "      <td>2546.900000</td>\n",
       "    </tr>\n",
       "    <tr>\n",
       "      <th>5</th>\n",
       "      <td>Lake View</td>\n",
       "      <td>2420.966667</td>\n",
       "    </tr>\n",
       "    <tr>\n",
       "      <th>6</th>\n",
       "      <td>Grant Park</td>\n",
       "      <td>2068.533333</td>\n",
       "    </tr>\n",
       "    <tr>\n",
       "      <th>7</th>\n",
       "      <td>Museum Campus</td>\n",
       "      <td>1510.000000</td>\n",
       "    </tr>\n",
       "    <tr>\n",
       "      <th>8</th>\n",
       "      <td>Gold Coast</td>\n",
       "      <td>1364.233333</td>\n",
       "    </tr>\n",
       "    <tr>\n",
       "      <th>9</th>\n",
       "      <td>Sheffield &amp; DePaul</td>\n",
       "      <td>1259.766667</td>\n",
       "    </tr>\n",
       "  </tbody>\n",
       "</table>\n",
       "</div>"
      ],
      "text/plain": [
       "  dropoff_location_name  average_trips\n",
       "0                  Loop   10727.466667\n",
       "1           River North    9523.666667\n",
       "2         Streeterville    6664.666667\n",
       "3             West Loop    5163.666667\n",
       "4                O'Hare    2546.900000\n",
       "5             Lake View    2420.966667\n",
       "6            Grant Park    2068.533333\n",
       "7         Museum Campus    1510.000000\n",
       "8            Gold Coast    1364.233333\n",
       "9    Sheffield & DePaul    1259.766667"
      ]
     },
     "execution_count": 13,
     "metadata": {},
     "output_type": "execute_result"
    }
   ],
   "source": [
    "df_chicago.head(10)"
   ]
  },
  {
   "cell_type": "markdown",
   "metadata": {},
   "source": [
    "the top 10 locations based on average trips above."
   ]
  },
  {
   "cell_type": "code",
   "execution_count": 14,
   "metadata": {},
   "outputs": [
    {
     "data": {
      "image/png": "[encoded data removed]",
      "text/plain": [
       "<Figure size 640x480 with 1 Axes>"
      ]
     },
     "metadata": {},
     "output_type": "display_data"
    }
   ],
   "source": [
    "top_10_locations = df_chicago.groupby('dropoff_location_name')['average_trips'].sum().nlargest(10)\n",
    "\n",
    "top_10_locations.plot(kind='barh')\n",
    "plt.title('Top 10 Location by Average Trips')\n",
    "plt.xlabel('Total Average Trips') \n",
    "plt.ylabel('Location')\n",
    "plt.show()"
   ]
  },
  {
   "cell_type": "markdown",
   "metadata": {},
   "source": [
    "showing distribution of the dataset for top 10 locations for average trips above."
   ]
  },
  {
   "cell_type": "code",
   "execution_count": 15,
   "metadata": {},
   "outputs": [
    {
     "data": {
      "text/plain": [
       "start_ts               object\n",
       "weather_conditions     object\n",
       "duration_seconds      float64\n",
       "dtype: object"
      ]
     },
     "execution_count": 15,
     "metadata": {},
     "output_type": "execute_result"
    }
   ],
   "source": [
    "df_airport.dtypes"
   ]
  },
  {
   "cell_type": "markdown",
   "metadata": {},
   "source": [
    "datatypes for the dataset listed above."
   ]
  },
  {
   "cell_type": "code",
   "execution_count": 16,
   "metadata": {},
   "outputs": [
    {
     "data": {
      "text/plain": [
       "197"
      ]
     },
     "execution_count": 16,
     "metadata": {},
     "output_type": "execute_result"
    }
   ],
   "source": [
    "df_airport.duplicated().sum()"
   ]
  },
  {
   "cell_type": "markdown",
   "metadata": {},
   "source": [
    "there are 197 duplicates for the dataset above."
   ]
  },
  {
   "cell_type": "code",
   "execution_count": 17,
   "metadata": {},
   "outputs": [
    {
     "data": {
      "text/plain": [
       "start_ts              0\n",
       "weather_conditions    0\n",
       "duration_seconds      0\n",
       "dtype: int64"
      ]
     },
     "execution_count": 17,
     "metadata": {},
     "output_type": "execute_result"
    }
   ],
   "source": [
    "df_airport.isna().sum()"
   ]
  },
  {
   "cell_type": "markdown",
   "metadata": {},
   "source": [
    "no missing values in this dataset above."
   ]
  },
  {
   "cell_type": "code",
   "execution_count": 18,
   "metadata": {},
   "outputs": [],
   "source": [
    "df_airport['start_ts'] = pd.to_datetime(df_airport['start_ts'], format='%Y-%m-%d %H:%M:%S')"
   ]
  },
  {
   "cell_type": "markdown",
   "metadata": {},
   "source": [
    "changed the format of start_ts to datetime format above."
   ]
  },
  {
   "cell_type": "code",
   "execution_count": 19,
   "metadata": {},
   "outputs": [
    {
     "name": "stdout",
     "output_type": "stream",
     "text": [
      "<class 'pandas.core.frame.DataFrame'>\n",
      "RangeIndex: 1068 entries, 0 to 1067\n",
      "Data columns (total 3 columns):\n",
      " #   Column              Non-Null Count  Dtype         \n",
      "---  ------              --------------  -----         \n",
      " 0   start_ts            1068 non-null   datetime64[ns]\n",
      " 1   weather_conditions  1068 non-null   object        \n",
      " 2   duration_seconds    1068 non-null   float64       \n",
      "dtypes: datetime64[ns](1), float64(1), object(1)\n",
      "memory usage: 25.2+ KB\n"
     ]
    }
   ],
   "source": [
    "df_airport.info()"
   ]
  },
  {
   "cell_type": "markdown",
   "metadata": {},
   "source": [
    "checking to make sure start_ts is in datetime format above."
   ]
  },
  {
   "cell_type": "code",
   "execution_count": 20,
   "metadata": {},
   "outputs": [
    {
     "data": {
      "text/html": [
       "<div>\n",
       "<style scoped>\n",
       "    .dataframe tbody tr th:only-of-type {\n",
       "        vertical-align: middle;\n",
       "    }\n",
       "\n",
       "    .dataframe tbody tr th {\n",
       "        vertical-align: top;\n",
       "    }\n",
       "\n",
       "    .dataframe thead th {\n",
       "        text-align: right;\n",
       "    }\n",
       "</style>\n",
       "<table border=\"1\" class=\"dataframe\">\n",
       "  <thead>\n",
       "    <tr style=\"text-align: right;\">\n",
       "      <th></th>\n",
       "      <th>duration_seconds</th>\n",
       "    </tr>\n",
       "  </thead>\n",
       "  <tbody>\n",
       "    <tr>\n",
       "      <th>count</th>\n",
       "      <td>1068.000000</td>\n",
       "    </tr>\n",
       "    <tr>\n",
       "      <th>mean</th>\n",
       "      <td>2071.731273</td>\n",
       "    </tr>\n",
       "    <tr>\n",
       "      <th>std</th>\n",
       "      <td>769.461125</td>\n",
       "    </tr>\n",
       "    <tr>\n",
       "      <th>min</th>\n",
       "      <td>0.000000</td>\n",
       "    </tr>\n",
       "    <tr>\n",
       "      <th>25%</th>\n",
       "      <td>1438.250000</td>\n",
       "    </tr>\n",
       "    <tr>\n",
       "      <th>50%</th>\n",
       "      <td>1980.000000</td>\n",
       "    </tr>\n",
       "    <tr>\n",
       "      <th>75%</th>\n",
       "      <td>2580.000000</td>\n",
       "    </tr>\n",
       "    <tr>\n",
       "      <th>max</th>\n",
       "      <td>7440.000000</td>\n",
       "    </tr>\n",
       "  </tbody>\n",
       "</table>\n",
       "</div>"
      ],
      "text/plain": [
       "       duration_seconds\n",
       "count       1068.000000\n",
       "mean        2071.731273\n",
       "std          769.461125\n",
       "min            0.000000\n",
       "25%         1438.250000\n",
       "50%         1980.000000\n",
       "75%         2580.000000\n",
       "max         7440.000000"
      ]
     },
     "execution_count": 20,
     "metadata": {},
     "output_type": "execute_result"
    }
   ],
   "source": [
    "df_airport.describe()"
   ]
  },
  {
   "cell_type": "markdown",
   "metadata": {},
   "source": [
    "a summary descriptive statistics for this dataset above."
   ]
  },
  {
   "cell_type": "code",
   "execution_count": 21,
   "metadata": {},
   "outputs": [],
   "source": [
    "real_duration = df_airport.loc[df_airport['duration_seconds'] > 900]\n",
    "\n",
    "median_duration_minute = real_duration['duration_seconds'].median()\n",
    "\n",
    "df_airport.loc[df_airport['duration_seconds'] < 900, 'duration_seconds'] = median_duration_minute\n"
   ]
  },
  {
   "cell_type": "markdown",
   "metadata": {},
   "source": [
    "added more columns to make a better analysis."
   ]
  },
  {
   "cell_type": "code",
   "execution_count": 22,
   "metadata": {},
   "outputs": [
    {
     "data": {
      "text/html": [
       "<div>\n",
       "<style scoped>\n",
       "    .dataframe tbody tr th:only-of-type {\n",
       "        vertical-align: middle;\n",
       "    }\n",
       "\n",
       "    .dataframe tbody tr th {\n",
       "        vertical-align: top;\n",
       "    }\n",
       "\n",
       "    .dataframe thead th {\n",
       "        text-align: right;\n",
       "    }\n",
       "</style>\n",
       "<table border=\"1\" class=\"dataframe\">\n",
       "  <thead>\n",
       "    <tr style=\"text-align: right;\">\n",
       "      <th></th>\n",
       "      <th>start_ts</th>\n",
       "      <th>weather_conditions</th>\n",
       "      <th>duration_seconds</th>\n",
       "      <th>duration_minute</th>\n",
       "      <th>duration_hour</th>\n",
       "      <th>pick_up_day</th>\n",
       "      <th>pick_up_date</th>\n",
       "      <th>pick_up_time</th>\n",
       "    </tr>\n",
       "  </thead>\n",
       "  <tbody>\n",
       "    <tr>\n",
       "      <th>0</th>\n",
       "      <td>2017-11-25 16:00:00</td>\n",
       "      <td>Good</td>\n",
       "      <td>2410.0</td>\n",
       "      <td>40.166667</td>\n",
       "      <td>0.669444</td>\n",
       "      <td>Saturday</td>\n",
       "      <td>2017-11-25</td>\n",
       "      <td>16:00:00</td>\n",
       "    </tr>\n",
       "    <tr>\n",
       "      <th>1</th>\n",
       "      <td>2017-11-25 14:00:00</td>\n",
       "      <td>Good</td>\n",
       "      <td>1920.0</td>\n",
       "      <td>32.000000</td>\n",
       "      <td>0.533333</td>\n",
       "      <td>Saturday</td>\n",
       "      <td>2017-11-25</td>\n",
       "      <td>14:00:00</td>\n",
       "    </tr>\n",
       "    <tr>\n",
       "      <th>2</th>\n",
       "      <td>2017-11-25 12:00:00</td>\n",
       "      <td>Good</td>\n",
       "      <td>1543.0</td>\n",
       "      <td>25.716667</td>\n",
       "      <td>0.428611</td>\n",
       "      <td>Saturday</td>\n",
       "      <td>2017-11-25</td>\n",
       "      <td>12:00:00</td>\n",
       "    </tr>\n",
       "    <tr>\n",
       "      <th>3</th>\n",
       "      <td>2017-11-04 10:00:00</td>\n",
       "      <td>Good</td>\n",
       "      <td>2512.0</td>\n",
       "      <td>41.866667</td>\n",
       "      <td>0.697778</td>\n",
       "      <td>Saturday</td>\n",
       "      <td>2017-11-04</td>\n",
       "      <td>10:00:00</td>\n",
       "    </tr>\n",
       "    <tr>\n",
       "      <th>4</th>\n",
       "      <td>2017-11-11 07:00:00</td>\n",
       "      <td>Good</td>\n",
       "      <td>1440.0</td>\n",
       "      <td>24.000000</td>\n",
       "      <td>0.400000</td>\n",
       "      <td>Saturday</td>\n",
       "      <td>2017-11-11</td>\n",
       "      <td>07:00:00</td>\n",
       "    </tr>\n",
       "  </tbody>\n",
       "</table>\n",
       "</div>"
      ],
      "text/plain": [
       "             start_ts weather_conditions  duration_seconds  duration_minute  \\\n",
       "0 2017-11-25 16:00:00               Good            2410.0        40.166667   \n",
       "1 2017-11-25 14:00:00               Good            1920.0        32.000000   \n",
       "2 2017-11-25 12:00:00               Good            1543.0        25.716667   \n",
       "3 2017-11-04 10:00:00               Good            2512.0        41.866667   \n",
       "4 2017-11-11 07:00:00               Good            1440.0        24.000000   \n",
       "\n",
       "   duration_hour pick_up_day pick_up_date pick_up_time  \n",
       "0       0.669444    Saturday   2017-11-25     16:00:00  \n",
       "1       0.533333    Saturday   2017-11-25     14:00:00  \n",
       "2       0.428611    Saturday   2017-11-25     12:00:00  \n",
       "3       0.697778    Saturday   2017-11-04     10:00:00  \n",
       "4       0.400000    Saturday   2017-11-11     07:00:00  "
      ]
     },
     "execution_count": 22,
     "metadata": {},
     "output_type": "execute_result"
    }
   ],
   "source": [
    "df_airport['duration_minute'] = df_airport['duration_seconds'] / 60\n",
    "\n",
    "df_airport['duration_hour'] = df_airport['duration_minute'] / 60\n",
    "\n",
    "df_airport['pick_up_day'] = df_airport['start_ts'].dt.day_name()\n",
    "\n",
    "df_airport['pick_up_date'] = pd.to_datetime(df_airport['start_ts']).dt.date.astype('datetime64')\n",
    "\n",
    "df_airport['pick_up_time'] = pd.to_datetime(df_airport['start_ts'], format='%H-%M-%S').dt.time\n",
    "\n",
    "df_airport.head()"
   ]
  },
  {
   "cell_type": "code",
   "execution_count": 23,
   "metadata": {},
   "outputs": [
    {
     "data": {
      "text/html": [
       "<div>\n",
       "<style scoped>\n",
       "    .dataframe tbody tr th:only-of-type {\n",
       "        vertical-align: middle;\n",
       "    }\n",
       "\n",
       "    .dataframe tbody tr th {\n",
       "        vertical-align: top;\n",
       "    }\n",
       "\n",
       "    .dataframe thead th {\n",
       "        text-align: right;\n",
       "    }\n",
       "</style>\n",
       "<table border=\"1\" class=\"dataframe\">\n",
       "  <thead>\n",
       "    <tr style=\"text-align: right;\">\n",
       "      <th></th>\n",
       "      <th>duration_seconds</th>\n",
       "      <th>duration_minute</th>\n",
       "      <th>duration_hour</th>\n",
       "    </tr>\n",
       "  </thead>\n",
       "  <tbody>\n",
       "    <tr>\n",
       "      <th>count</th>\n",
       "      <td>1068.000000</td>\n",
       "      <td>1068.000000</td>\n",
       "      <td>1068.000000</td>\n",
       "    </tr>\n",
       "    <tr>\n",
       "      <th>mean</th>\n",
       "      <td>2088.922285</td>\n",
       "      <td>34.815371</td>\n",
       "      <td>0.580256</td>\n",
       "    </tr>\n",
       "    <tr>\n",
       "      <th>std</th>\n",
       "      <td>746.069201</td>\n",
       "      <td>12.434487</td>\n",
       "      <td>0.207241</td>\n",
       "    </tr>\n",
       "    <tr>\n",
       "      <th>min</th>\n",
       "      <td>1018.000000</td>\n",
       "      <td>16.966667</td>\n",
       "      <td>0.282778</td>\n",
       "    </tr>\n",
       "    <tr>\n",
       "      <th>25%</th>\n",
       "      <td>1440.000000</td>\n",
       "      <td>24.000000</td>\n",
       "      <td>0.400000</td>\n",
       "    </tr>\n",
       "    <tr>\n",
       "      <th>50%</th>\n",
       "      <td>1980.000000</td>\n",
       "      <td>33.000000</td>\n",
       "      <td>0.550000</td>\n",
       "    </tr>\n",
       "    <tr>\n",
       "      <th>75%</th>\n",
       "      <td>2580.000000</td>\n",
       "      <td>43.000000</td>\n",
       "      <td>0.716667</td>\n",
       "    </tr>\n",
       "    <tr>\n",
       "      <th>max</th>\n",
       "      <td>7440.000000</td>\n",
       "      <td>124.000000</td>\n",
       "      <td>2.066667</td>\n",
       "    </tr>\n",
       "  </tbody>\n",
       "</table>\n",
       "</div>"
      ],
      "text/plain": [
       "       duration_seconds  duration_minute  duration_hour\n",
       "count       1068.000000      1068.000000    1068.000000\n",
       "mean        2088.922285        34.815371       0.580256\n",
       "std          746.069201        12.434487       0.207241\n",
       "min         1018.000000        16.966667       0.282778\n",
       "25%         1440.000000        24.000000       0.400000\n",
       "50%         1980.000000        33.000000       0.550000\n",
       "75%         2580.000000        43.000000       0.716667\n",
       "max         7440.000000       124.000000       2.066667"
      ]
     },
     "execution_count": 23,
     "metadata": {},
     "output_type": "execute_result"
    }
   ],
   "source": [
    "df_airport.describe()"
   ]
  },
  {
   "cell_type": "code",
   "execution_count": 24,
   "metadata": {},
   "outputs": [
    {
     "data": {
      "image/png": "[encoded data removed]",
      "text/plain": [
       "<Figure size 1000x500 with 2 Axes>"
      ]
     },
     "metadata": {},
     "output_type": "display_data"
    }
   ],
   "source": [
    "fig, axes = plt.subplots(1, 2, figsize=(10, 5))\n",
    "\n",
    "df_airport.boxplot(column='duration_minute', ax=axes[0])\n",
    "axes[0].set_title('Duration in Minutes')\n",
    "axes[0].set_ylabel('Minutes')\n",
    "\n",
    "df_airport.boxplot(column='duration_hour', ax=axes[1])\n",
    "axes[1].set_title('Duration in Hours')\n",
    "axes[1].set_ylabel('Hours')\n",
    "\n",
    "plt.tight_layout()\n",
    "plt.show()"
   ]
  },
  {
   "cell_type": "markdown",
   "metadata": {},
   "source": [
    "the above boxplots show duration in minutes and hours."
   ]
  },
  {
   "cell_type": "markdown",
   "metadata": {},
   "source": [
    "Hypothesis:\n",
    "\n",
    "H0: Average trip duration from Loop to Airport does not change when it rained on Saturday.\n",
    "\n",
    "H1: Average trip duration from Loop to Airport changes when it rained on Saturday."
   ]
  },
  {
   "cell_type": "code",
   "execution_count": 25,
   "metadata": {},
   "outputs": [],
   "source": [
    "sunny = df_airport.loc[(df_airport['weather_conditions'] == 'Good') & (df_airport['pick_up_day'] == 'Saturday')]\n",
    "rainy = df_airport.loc[(df_airport['weather_conditions'] == 'Bad') & (df_airport['pick_up_day'] == 'Saturday')]\n",
    "\n",
    "variance_sunny = sunny['duration_hour']\n",
    "variance_rainy = rainy['duration_hour']\n"
   ]
  },
  {
   "cell_type": "markdown",
   "metadata": {},
   "source": [
    "A commonly used significance level is 0.05 (5%), which means you are willing to accept a 5% chance of incorrectly rejecting the null hypothesis."
   ]
  },
  {
   "cell_type": "code",
   "execution_count": 26,
   "metadata": {
    "scrolled": true
   },
   "outputs": [
    {
     "name": "stdout",
     "output_type": "stream",
     "text": [
      "p-value: 1.4673086945855461e-12\n",
      "Average trip duration from Loop to Airport changed when it rained on Saturday\n"
     ]
    }
   ],
   "source": [
    "alpha = 0.05\n",
    "result = st.ttest_ind(variance_sunny, variance_rainy, equal_var=True)\n",
    "\n",
    "print('p-value:', result.pvalue)\n",
    "\n",
    "if result.pvalue < alpha:\n",
    "    print('Average trip duration from Loop to Airport changed when it rained on Saturday')\n",
    "else:\n",
    "    print('Average trip duration from Loop to Airport did not changed when it rained on Saturday')\n"
   ]
  },
  {
   "cell_type": "markdown",
   "metadata": {},
   "source": [
    "CONCLUSION:\n",
    "\n",
    "The top 10 company names for most trips amount are Flash Cab, Taxi Affiliation Services, Medallion Leasing, Yellow Cab, Taxi Affiliation Service Yellow, Chicago Carriage Cab Corp, City Service, Sun Taxi, Star North Management LLC, Blue Ribbon Taxi Association Inc.\n",
    "\n",
    "The top 10 locations for average trips are Loop, River North, Streeterville, West Loop, O'Hare, Lake View, Grant Park, Museum Campus, Gold Coast, Sheffield & DePaul.\n",
    "\n",
    "THERE WAS ONE HYPOTHESIS TESTED:\n",
    "\n",
    "Average trip duration from Loop to Airport changed when it rained on Saturday."
   ]
  }
 ],
 "metadata": {
  "ExecuteTimeLog": [
   {
    "duration": 2655,
    "start_time": "2024-12-27T22:07:55.157Z"
   },
   {
    "duration": 9,
    "start_time": "2024-12-27T22:08:02.147Z"
   },
   {
    "duration": 9,
    "start_time": "2024-12-27T22:08:27.279Z"
   },
   {
    "duration": 7,
    "start_time": "2024-12-27T22:09:16.476Z"
   },
   {
    "duration": 860,
    "start_time": "2024-12-27T22:12:57.906Z"
   },
   {
    "duration": 7,
    "start_time": "2024-12-27T22:12:58.769Z"
   },
   {
    "duration": 10,
    "start_time": "2024-12-27T22:12:58.779Z"
   },
   {
    "duration": 6,
    "start_time": "2024-12-27T22:12:58.791Z"
   },
   {
    "duration": 5,
    "start_time": "2024-12-27T22:14:37.025Z"
   },
   {
    "duration": 5,
    "start_time": "2024-12-27T22:15:01.984Z"
   },
   {
    "duration": 5,
    "start_time": "2024-12-27T22:15:07.069Z"
   },
   {
    "duration": 5,
    "start_time": "2024-12-27T22:15:41.775Z"
   },
   {
    "duration": 5,
    "start_time": "2024-12-27T22:21:54.415Z"
   },
   {
    "duration": 6,
    "start_time": "2024-12-27T22:29:08.209Z"
   },
   {
    "duration": 268,
    "start_time": "2024-12-27T22:30:10.876Z"
   },
   {
    "duration": 18,
    "start_time": "2024-12-27T22:31:56.413Z"
   },
   {
    "duration": 305,
    "start_time": "2024-12-27T22:32:34.868Z"
   },
   {
    "duration": 7,
    "start_time": "2024-12-27T22:37:06.859Z"
   },
   {
    "duration": 42,
    "start_time": "2024-12-27T22:41:02.202Z"
   },
   {
    "duration": 14,
    "start_time": "2024-12-27T22:43:54.147Z"
   },
   {
    "duration": 6,
    "start_time": "2024-12-27T22:58:45.858Z"
   },
   {
    "duration": 18,
    "start_time": "2024-12-27T23:00:03.370Z"
   },
   {
    "duration": 1552,
    "start_time": "2024-12-27T23:00:26.415Z"
   },
   {
    "duration": 152,
    "start_time": "2024-12-27T23:04:24.571Z"
   },
   {
    "duration": 9,
    "start_time": "2024-12-27T23:17:48.060Z"
   },
   {
    "duration": 7,
    "start_time": "2024-12-27T23:18:14.004Z"
   },
   {
    "duration": 4,
    "start_time": "2024-12-27T23:18:36.656Z"
   },
   {
    "duration": 6,
    "start_time": "2024-12-27T23:19:22.446Z"
   },
   {
    "duration": 6,
    "start_time": "2024-12-27T23:19:43.386Z"
   },
   {
    "duration": 4,
    "start_time": "2024-12-27T23:21:42.682Z"
   },
   {
    "duration": 6,
    "start_time": "2024-12-27T23:21:58.369Z"
   },
   {
    "duration": 799,
    "start_time": "2024-12-27T23:25:29.664Z"
   },
   {
    "duration": 7,
    "start_time": "2024-12-27T23:25:30.469Z"
   },
   {
    "duration": 8,
    "start_time": "2024-12-27T23:25:30.477Z"
   },
   {
    "duration": 4,
    "start_time": "2024-12-27T23:25:30.486Z"
   },
   {
    "duration": 4,
    "start_time": "2024-12-27T23:25:30.493Z"
   },
   {
    "duration": 4,
    "start_time": "2024-12-27T23:25:30.499Z"
   },
   {
    "duration": 6,
    "start_time": "2024-12-27T23:25:30.505Z"
   },
   {
    "duration": 192,
    "start_time": "2024-12-27T23:25:30.513Z"
   },
   {
    "duration": 6,
    "start_time": "2024-12-27T23:25:30.708Z"
   },
   {
    "duration": 7,
    "start_time": "2024-12-27T23:25:30.715Z"
   },
   {
    "duration": 5,
    "start_time": "2024-12-27T23:25:30.723Z"
   },
   {
    "duration": 4,
    "start_time": "2024-12-27T23:25:30.730Z"
   },
   {
    "duration": 34,
    "start_time": "2024-12-27T23:25:30.736Z"
   },
   {
    "duration": 6,
    "start_time": "2024-12-27T23:25:30.772Z"
   },
   {
    "duration": 5,
    "start_time": "2024-12-27T23:25:30.779Z"
   },
   {
    "duration": 4,
    "start_time": "2024-12-27T23:26:43.266Z"
   },
   {
    "duration": 7,
    "start_time": "2024-12-27T23:27:10.490Z"
   },
   {
    "duration": 6,
    "start_time": "2024-12-27T23:27:37.499Z"
   },
   {
    "duration": 10,
    "start_time": "2024-12-27T23:28:02.141Z"
   },
   {
    "duration": 9,
    "start_time": "2024-12-27T23:28:31.172Z"
   },
   {
    "duration": 9,
    "start_time": "2024-12-27T23:31:54.983Z"
   },
   {
    "duration": 10,
    "start_time": "2024-12-27T23:40:26.363Z"
   },
   {
    "duration": 18,
    "start_time": "2024-12-27T23:43:11.923Z"
   },
   {
    "duration": 14,
    "start_time": "2024-12-27T23:43:49.222Z"
   },
   {
    "duration": 717,
    "start_time": "2024-12-27T23:46:43.831Z"
   },
   {
    "duration": 295,
    "start_time": "2024-12-27T23:50:04.439Z"
   },
   {
    "duration": 10,
    "start_time": "2024-12-27T23:56:20.674Z"
   },
   {
    "duration": 15,
    "start_time": "2024-12-27T23:56:28.497Z"
   },
   {
    "duration": 8,
    "start_time": "2024-12-27T23:58:44.884Z"
   },
   {
    "duration": 6,
    "start_time": "2024-12-27T23:59:15.299Z"
   },
   {
    "duration": 5,
    "start_time": "2024-12-27T23:59:48.349Z"
   },
   {
    "duration": 10,
    "start_time": "2024-12-28T00:00:25.815Z"
   },
   {
    "duration": 6,
    "start_time": "2024-12-28T00:00:55.793Z"
   },
   {
    "duration": 130,
    "start_time": "2024-12-28T01:11:12.929Z"
   },
   {
    "duration": 824,
    "start_time": "2024-12-28T01:13:56.731Z"
   },
   {
    "duration": 12,
    "start_time": "2024-12-28T01:13:57.558Z"
   },
   {
    "duration": 8,
    "start_time": "2024-12-28T01:13:57.572Z"
   },
   {
    "duration": 5,
    "start_time": "2024-12-28T01:13:57.582Z"
   },
   {
    "duration": 5,
    "start_time": "2024-12-28T01:13:57.589Z"
   },
   {
    "duration": 5,
    "start_time": "2024-12-28T01:13:57.596Z"
   },
   {
    "duration": 8,
    "start_time": "2024-12-28T01:13:57.603Z"
   },
   {
    "duration": 200,
    "start_time": "2024-12-28T01:13:57.613Z"
   },
   {
    "duration": 10,
    "start_time": "2024-12-28T01:13:57.816Z"
   },
   {
    "duration": 4,
    "start_time": "2024-12-28T01:13:57.830Z"
   },
   {
    "duration": 6,
    "start_time": "2024-12-28T01:13:57.836Z"
   },
   {
    "duration": 27,
    "start_time": "2024-12-28T01:13:57.844Z"
   },
   {
    "duration": 7,
    "start_time": "2024-12-28T01:13:57.873Z"
   },
   {
    "duration": 146,
    "start_time": "2024-12-28T01:13:57.881Z"
   },
   {
    "duration": 7,
    "start_time": "2024-12-28T01:13:58.029Z"
   },
   {
    "duration": 4,
    "start_time": "2024-12-28T01:13:58.038Z"
   },
   {
    "duration": 6,
    "start_time": "2024-12-28T01:13:58.044Z"
   },
   {
    "duration": 22,
    "start_time": "2024-12-28T01:13:58.051Z"
   },
   {
    "duration": 4,
    "start_time": "2024-12-28T01:13:58.075Z"
   },
   {
    "duration": 4,
    "start_time": "2024-12-28T01:13:58.081Z"
   },
   {
    "duration": 4,
    "start_time": "2024-12-28T01:13:58.087Z"
   },
   {
    "duration": 8,
    "start_time": "2024-12-28T01:13:58.092Z"
   },
   {
    "duration": 92,
    "start_time": "2024-12-28T01:13:58.102Z"
   },
   {
    "duration": 9,
    "start_time": "2024-12-28T01:13:58.196Z"
   },
   {
    "duration": 6,
    "start_time": "2024-12-28T01:13:58.206Z"
   },
   {
    "duration": 17,
    "start_time": "2024-12-28T01:13:58.213Z"
   },
   {
    "duration": 12,
    "start_time": "2024-12-28T01:13:58.231Z"
   },
   {
    "duration": 285,
    "start_time": "2024-12-28T01:13:58.272Z"
   },
   {
    "duration": 8,
    "start_time": "2024-12-28T01:39:12.863Z"
   },
   {
    "duration": 8,
    "start_time": "2024-12-28T01:50:38.369Z"
   },
   {
    "duration": 7,
    "start_time": "2024-12-28T02:01:22.783Z"
   },
   {
    "duration": 6,
    "start_time": "2024-12-28T02:07:44.320Z"
   },
   {
    "duration": 7,
    "start_time": "2024-12-28T02:13:38.861Z"
   },
   {
    "duration": 7,
    "start_time": "2024-12-28T02:14:58.999Z"
   },
   {
    "duration": 6,
    "start_time": "2024-12-28T02:15:43.694Z"
   },
   {
    "duration": 4,
    "start_time": "2024-12-28T02:15:46.660Z"
   },
   {
    "duration": 796,
    "start_time": "2024-12-28T02:47:21.068Z"
   },
   {
    "duration": 13,
    "start_time": "2024-12-28T02:47:21.867Z"
   },
   {
    "duration": 8,
    "start_time": "2024-12-28T02:47:21.881Z"
   },
   {
    "duration": 4,
    "start_time": "2024-12-28T02:47:21.891Z"
   },
   {
    "duration": 5,
    "start_time": "2024-12-28T02:47:21.896Z"
   },
   {
    "duration": 5,
    "start_time": "2024-12-28T02:47:21.902Z"
   },
   {
    "duration": 6,
    "start_time": "2024-12-28T02:47:21.909Z"
   },
   {
    "duration": 191,
    "start_time": "2024-12-28T02:47:21.916Z"
   },
   {
    "duration": 9,
    "start_time": "2024-12-28T02:47:22.109Z"
   },
   {
    "duration": 4,
    "start_time": "2024-12-28T02:47:22.121Z"
   },
   {
    "duration": 5,
    "start_time": "2024-12-28T02:47:22.127Z"
   },
   {
    "duration": 4,
    "start_time": "2024-12-28T02:47:22.134Z"
   },
   {
    "duration": 7,
    "start_time": "2024-12-28T02:47:22.170Z"
   },
   {
    "duration": 138,
    "start_time": "2024-12-28T02:47:22.179Z"
   },
   {
    "duration": 7,
    "start_time": "2024-12-28T02:47:22.319Z"
   },
   {
    "duration": 4,
    "start_time": "2024-12-28T02:47:22.328Z"
   },
   {
    "duration": 5,
    "start_time": "2024-12-28T02:47:22.334Z"
   },
   {
    "duration": 3,
    "start_time": "2024-12-28T02:47:22.342Z"
   },
   {
    "duration": 5,
    "start_time": "2024-12-28T02:47:22.371Z"
   },
   {
    "duration": 5,
    "start_time": "2024-12-28T02:47:22.377Z"
   },
   {
    "duration": 4,
    "start_time": "2024-12-28T02:47:22.384Z"
   },
   {
    "duration": 8,
    "start_time": "2024-12-28T02:47:22.389Z"
   },
   {
    "duration": 80,
    "start_time": "2024-12-28T02:47:22.398Z"
   },
   {
    "duration": 6,
    "start_time": "2024-12-28T02:47:22.480Z"
   },
   {
    "duration": 16,
    "start_time": "2024-12-28T02:47:22.487Z"
   },
   {
    "duration": 11,
    "start_time": "2024-12-28T02:47:22.505Z"
   },
   {
    "duration": 320,
    "start_time": "2024-12-28T02:47:22.518Z"
   },
   {
    "duration": 6,
    "start_time": "2024-12-28T02:47:22.841Z"
   },
   {
    "duration": 4,
    "start_time": "2024-12-28T02:47:22.849Z"
   },
   {
    "duration": 2514,
    "start_time": "2024-12-28T23:58:26.277Z"
   },
   {
    "duration": 18,
    "start_time": "2024-12-28T23:58:28.794Z"
   },
   {
    "duration": 6,
    "start_time": "2024-12-28T23:58:28.814Z"
   },
   {
    "duration": 3,
    "start_time": "2024-12-28T23:58:28.822Z"
   },
   {
    "duration": 15,
    "start_time": "2024-12-28T23:58:28.828Z"
   },
   {
    "duration": 4,
    "start_time": "2024-12-28T23:58:28.845Z"
   },
   {
    "duration": 5,
    "start_time": "2024-12-28T23:58:28.851Z"
   },
   {
    "duration": 174,
    "start_time": "2024-12-28T23:58:28.859Z"
   },
   {
    "duration": 9,
    "start_time": "2024-12-28T23:58:29.043Z"
   },
   {
    "duration": 5,
    "start_time": "2024-12-28T23:58:29.053Z"
   },
   {
    "duration": 6,
    "start_time": "2024-12-28T23:58:29.060Z"
   },
   {
    "duration": 4,
    "start_time": "2024-12-28T23:58:29.067Z"
   },
   {
    "duration": 7,
    "start_time": "2024-12-28T23:58:29.073Z"
   },
   {
    "duration": 169,
    "start_time": "2024-12-28T23:58:29.084Z"
   },
   {
    "duration": 4,
    "start_time": "2024-12-28T23:58:29.255Z"
   },
   {
    "duration": 4,
    "start_time": "2024-12-28T23:58:29.261Z"
   },
   {
    "duration": 4,
    "start_time": "2024-12-28T23:58:29.267Z"
   },
   {
    "duration": 5,
    "start_time": "2024-12-28T23:58:29.272Z"
   },
   {
    "duration": 5,
    "start_time": "2024-12-28T23:58:29.279Z"
   },
   {
    "duration": 4,
    "start_time": "2024-12-28T23:58:29.285Z"
   },
   {
    "duration": 8,
    "start_time": "2024-12-28T23:58:29.291Z"
   },
   {
    "duration": 50,
    "start_time": "2024-12-28T23:58:29.300Z"
   },
   {
    "duration": 6,
    "start_time": "2024-12-28T23:58:29.352Z"
   },
   {
    "duration": 16,
    "start_time": "2024-12-28T23:58:29.360Z"
   },
   {
    "duration": 11,
    "start_time": "2024-12-28T23:58:29.378Z"
   },
   {
    "duration": 341,
    "start_time": "2024-12-28T23:58:29.391Z"
   },
   {
    "duration": 14,
    "start_time": "2024-12-28T23:58:29.733Z"
   },
   {
    "duration": 3,
    "start_time": "2024-12-28T23:58:29.749Z"
   },
   {
    "duration": 14,
    "start_time": "2024-12-29T00:01:26.527Z"
   },
   {
    "duration": 787,
    "start_time": "2024-12-29T00:26:53.032Z"
   },
   {
    "duration": 15,
    "start_time": "2024-12-29T00:26:53.821Z"
   },
   {
    "duration": 7,
    "start_time": "2024-12-29T00:26:53.837Z"
   },
   {
    "duration": 3,
    "start_time": "2024-12-29T00:26:53.847Z"
   },
   {
    "duration": 5,
    "start_time": "2024-12-29T00:26:53.852Z"
   },
   {
    "duration": 4,
    "start_time": "2024-12-29T00:26:53.859Z"
   },
   {
    "duration": 7,
    "start_time": "2024-12-29T00:26:53.864Z"
   },
   {
    "duration": 192,
    "start_time": "2024-12-29T00:26:53.872Z"
   },
   {
    "duration": 10,
    "start_time": "2024-12-29T00:26:54.067Z"
   },
   {
    "duration": 4,
    "start_time": "2024-12-29T00:26:54.080Z"
   },
   {
    "duration": 5,
    "start_time": "2024-12-29T00:26:54.085Z"
   },
   {
    "duration": 4,
    "start_time": "2024-12-29T00:26:54.092Z"
   },
   {
    "duration": 7,
    "start_time": "2024-12-29T00:26:54.097Z"
   },
   {
    "duration": 164,
    "start_time": "2024-12-29T00:26:54.106Z"
   },
   {
    "duration": 6,
    "start_time": "2024-12-29T00:26:54.271Z"
   },
   {
    "duration": 5,
    "start_time": "2024-12-29T00:26:54.279Z"
   },
   {
    "duration": 3,
    "start_time": "2024-12-29T00:26:54.286Z"
   },
   {
    "duration": 4,
    "start_time": "2024-12-29T00:26:54.291Z"
   },
   {
    "duration": 5,
    "start_time": "2024-12-29T00:26:54.296Z"
   },
   {
    "duration": 3,
    "start_time": "2024-12-29T00:26:54.303Z"
   },
   {
    "duration": 36,
    "start_time": "2024-12-29T00:26:54.308Z"
   },
   {
    "duration": 9,
    "start_time": "2024-12-29T00:26:54.345Z"
   },
   {
    "duration": 47,
    "start_time": "2024-12-29T00:26:54.356Z"
   },
   {
    "duration": 39,
    "start_time": "2024-12-29T00:26:54.405Z"
   },
   {
    "duration": 12,
    "start_time": "2024-12-29T00:26:54.445Z"
   },
   {
    "duration": 271,
    "start_time": "2024-12-29T00:26:54.459Z"
   },
   {
    "duration": 14,
    "start_time": "2024-12-29T00:26:54.732Z"
   },
   {
    "duration": 3,
    "start_time": "2024-12-29T00:26:54.750Z"
   },
   {
    "duration": 754,
    "start_time": "2024-12-29T00:29:41.225Z"
   },
   {
    "duration": 11,
    "start_time": "2024-12-29T00:29:41.981Z"
   },
   {
    "duration": 7,
    "start_time": "2024-12-29T00:29:41.994Z"
   },
   {
    "duration": 4,
    "start_time": "2024-12-29T00:29:42.002Z"
   },
   {
    "duration": 4,
    "start_time": "2024-12-29T00:29:42.010Z"
   },
   {
    "duration": 3,
    "start_time": "2024-12-29T00:29:42.017Z"
   },
   {
    "duration": 7,
    "start_time": "2024-12-29T00:29:42.043Z"
   },
   {
    "duration": 193,
    "start_time": "2024-12-29T00:29:42.052Z"
   },
   {
    "duration": 8,
    "start_time": "2024-12-29T00:29:42.247Z"
   },
   {
    "duration": 5,
    "start_time": "2024-12-29T00:29:42.257Z"
   },
   {
    "duration": 4,
    "start_time": "2024-12-29T00:29:42.264Z"
   },
   {
    "duration": 4,
    "start_time": "2024-12-29T00:29:42.270Z"
   },
   {
    "duration": 6,
    "start_time": "2024-12-29T00:29:42.276Z"
   },
   {
    "duration": 163,
    "start_time": "2024-12-29T00:29:42.285Z"
   },
   {
    "duration": 6,
    "start_time": "2024-12-29T00:29:42.449Z"
   },
   {
    "duration": 6,
    "start_time": "2024-12-29T00:29:42.457Z"
   },
   {
    "duration": 4,
    "start_time": "2024-12-29T00:29:42.464Z"
   },
   {
    "duration": 4,
    "start_time": "2024-12-29T00:29:42.470Z"
   },
   {
    "duration": 5,
    "start_time": "2024-12-29T00:29:42.475Z"
   },
   {
    "duration": 4,
    "start_time": "2024-12-29T00:29:42.481Z"
   },
   {
    "duration": 7,
    "start_time": "2024-12-29T00:29:42.487Z"
   },
   {
    "duration": 49,
    "start_time": "2024-12-29T00:29:42.496Z"
   },
   {
    "duration": 51,
    "start_time": "2024-12-29T00:29:42.547Z"
   },
   {
    "duration": 16,
    "start_time": "2024-12-29T00:29:42.599Z"
   },
   {
    "duration": 33,
    "start_time": "2024-12-29T00:29:42.616Z"
   },
   {
    "duration": 273,
    "start_time": "2024-12-29T00:29:42.650Z"
   },
   {
    "duration": 5,
    "start_time": "2024-12-29T00:29:42.925Z"
   },
   {
    "duration": 4,
    "start_time": "2024-12-29T00:29:42.942Z"
   },
   {
    "duration": 2506,
    "start_time": "2024-12-29T18:26:08.686Z"
   },
   {
    "duration": 19,
    "start_time": "2024-12-29T18:26:11.194Z"
   },
   {
    "duration": 8,
    "start_time": "2024-12-29T18:26:11.215Z"
   },
   {
    "duration": 4,
    "start_time": "2024-12-29T18:26:11.226Z"
   },
   {
    "duration": 5,
    "start_time": "2024-12-29T18:26:11.232Z"
   },
   {
    "duration": 3,
    "start_time": "2024-12-29T18:26:11.239Z"
   },
   {
    "duration": 28,
    "start_time": "2024-12-29T18:26:11.244Z"
   },
   {
    "duration": 171,
    "start_time": "2024-12-29T18:26:11.274Z"
   },
   {
    "duration": 8,
    "start_time": "2024-12-29T18:26:11.447Z"
   },
   {
    "duration": 13,
    "start_time": "2024-12-29T18:26:11.459Z"
   },
   {
    "duration": 5,
    "start_time": "2024-12-29T18:26:11.474Z"
   },
   {
    "duration": 4,
    "start_time": "2024-12-29T18:26:11.481Z"
   },
   {
    "duration": 6,
    "start_time": "2024-12-29T18:26:11.487Z"
   },
   {
    "duration": 161,
    "start_time": "2024-12-29T18:26:11.495Z"
   },
   {
    "duration": 4,
    "start_time": "2024-12-29T18:26:11.658Z"
   },
   {
    "duration": 5,
    "start_time": "2024-12-29T18:26:11.669Z"
   },
   {
    "duration": 4,
    "start_time": "2024-12-29T18:26:11.675Z"
   },
   {
    "duration": 5,
    "start_time": "2024-12-29T18:26:11.681Z"
   },
   {
    "duration": 5,
    "start_time": "2024-12-29T18:26:11.688Z"
   },
   {
    "duration": 4,
    "start_time": "2024-12-29T18:26:11.695Z"
   },
   {
    "duration": 9,
    "start_time": "2024-12-29T18:26:11.700Z"
   },
   {
    "duration": 8,
    "start_time": "2024-12-29T18:26:11.710Z"
   },
   {
    "duration": 50,
    "start_time": "2024-12-29T18:26:11.720Z"
   },
   {
    "duration": 17,
    "start_time": "2024-12-29T18:26:11.771Z"
   },
   {
    "duration": 12,
    "start_time": "2024-12-29T18:26:11.790Z"
   },
   {
    "duration": 315,
    "start_time": "2024-12-29T18:26:11.804Z"
   },
   {
    "duration": 5,
    "start_time": "2024-12-29T18:26:12.121Z"
   },
   {
    "duration": 4,
    "start_time": "2024-12-29T18:26:12.130Z"
   },
   {
    "duration": 190,
    "start_time": "2024-12-29T18:30:36.564Z"
   },
   {
    "duration": 131,
    "start_time": "2024-12-29T18:31:45.695Z"
   },
   {
    "duration": 129,
    "start_time": "2024-12-29T18:32:48.597Z"
   },
   {
    "duration": 2458,
    "start_time": "2024-12-31T01:26:37.566Z"
   },
   {
    "duration": 19,
    "start_time": "2024-12-31T01:26:40.026Z"
   },
   {
    "duration": 7,
    "start_time": "2024-12-31T01:26:40.046Z"
   },
   {
    "duration": 5,
    "start_time": "2024-12-31T01:26:40.054Z"
   },
   {
    "duration": 4,
    "start_time": "2024-12-31T01:26:40.062Z"
   },
   {
    "duration": 20,
    "start_time": "2024-12-31T01:26:40.068Z"
   },
   {
    "duration": 7,
    "start_time": "2024-12-31T01:26:40.089Z"
   },
   {
    "duration": 180,
    "start_time": "2024-12-31T01:26:40.097Z"
   },
   {
    "duration": 14,
    "start_time": "2024-12-31T01:26:40.279Z"
   },
   {
    "duration": 5,
    "start_time": "2024-12-31T01:26:40.294Z"
   },
   {
    "duration": 5,
    "start_time": "2024-12-31T01:26:40.300Z"
   },
   {
    "duration": 4,
    "start_time": "2024-12-31T01:26:40.306Z"
   },
   {
    "duration": 6,
    "start_time": "2024-12-31T01:26:40.312Z"
   },
   {
    "duration": 166,
    "start_time": "2024-12-31T01:26:40.322Z"
   },
   {
    "duration": 4,
    "start_time": "2024-12-31T01:26:40.490Z"
   },
   {
    "duration": 6,
    "start_time": "2024-12-31T01:26:40.496Z"
   },
   {
    "duration": 4,
    "start_time": "2024-12-31T01:26:40.503Z"
   },
   {
    "duration": 4,
    "start_time": "2024-12-31T01:26:40.509Z"
   },
   {
    "duration": 4,
    "start_time": "2024-12-31T01:26:40.515Z"
   },
   {
    "duration": 4,
    "start_time": "2024-12-31T01:26:40.521Z"
   },
   {
    "duration": 8,
    "start_time": "2024-12-31T01:26:40.527Z"
   },
   {
    "duration": 54,
    "start_time": "2024-12-31T01:26:40.537Z"
   },
   {
    "duration": 6,
    "start_time": "2024-12-31T01:26:40.592Z"
   },
   {
    "duration": 17,
    "start_time": "2024-12-31T01:26:40.600Z"
   },
   {
    "duration": 12,
    "start_time": "2024-12-31T01:26:40.618Z"
   },
   {
    "duration": 345,
    "start_time": "2024-12-31T01:26:40.631Z"
   },
   {
    "duration": 12,
    "start_time": "2024-12-31T01:26:40.978Z"
   },
   {
    "duration": 5,
    "start_time": "2024-12-31T01:26:40.991Z"
   },
   {
    "duration": 124,
    "start_time": "2024-12-31T01:35:38.497Z"
   },
   {
    "duration": 173,
    "start_time": "2024-12-31T01:36:27.480Z"
   },
   {
    "duration": 787,
    "start_time": "2024-12-31T01:37:40.175Z"
   },
   {
    "duration": 12,
    "start_time": "2024-12-31T01:37:40.964Z"
   },
   {
    "duration": 9,
    "start_time": "2024-12-31T01:37:40.978Z"
   },
   {
    "duration": 4,
    "start_time": "2024-12-31T01:37:40.990Z"
   },
   {
    "duration": 5,
    "start_time": "2024-12-31T01:37:40.995Z"
   },
   {
    "duration": 5,
    "start_time": "2024-12-31T01:37:41.001Z"
   },
   {
    "duration": 6,
    "start_time": "2024-12-31T01:37:41.007Z"
   },
   {
    "duration": 200,
    "start_time": "2024-12-31T01:37:41.015Z"
   },
   {
    "duration": 9,
    "start_time": "2024-12-31T01:37:41.217Z"
   },
   {
    "duration": 4,
    "start_time": "2024-12-31T01:37:41.229Z"
   },
   {
    "duration": 5,
    "start_time": "2024-12-31T01:37:41.235Z"
   },
   {
    "duration": 5,
    "start_time": "2024-12-31T01:37:41.241Z"
   },
   {
    "duration": 6,
    "start_time": "2024-12-31T01:37:41.247Z"
   },
   {
    "duration": 159,
    "start_time": "2024-12-31T01:37:41.254Z"
   },
   {
    "duration": 5,
    "start_time": "2024-12-31T01:37:41.415Z"
   },
   {
    "duration": 5,
    "start_time": "2024-12-31T01:37:41.421Z"
   },
   {
    "duration": 5,
    "start_time": "2024-12-31T01:37:41.427Z"
   },
   {
    "duration": 5,
    "start_time": "2024-12-31T01:37:41.433Z"
   },
   {
    "duration": 3,
    "start_time": "2024-12-31T01:37:41.440Z"
   },
   {
    "duration": 42,
    "start_time": "2024-12-31T01:37:41.445Z"
   },
   {
    "duration": 8,
    "start_time": "2024-12-31T01:37:41.489Z"
   },
   {
    "duration": 51,
    "start_time": "2024-12-31T01:37:41.499Z"
   },
   {
    "duration": 36,
    "start_time": "2024-12-31T01:37:41.551Z"
   },
   {
    "duration": 13,
    "start_time": "2024-12-31T01:37:41.588Z"
   },
   {
    "duration": 271,
    "start_time": "2024-12-31T01:37:41.603Z"
   },
   {
    "duration": 14,
    "start_time": "2024-12-31T01:37:41.876Z"
   },
   {
    "duration": 4,
    "start_time": "2024-12-31T01:37:41.892Z"
   },
   {
    "duration": 792,
    "start_time": "2024-12-31T01:39:12.656Z"
   },
   {
    "duration": 12,
    "start_time": "2024-12-31T01:39:13.451Z"
   },
   {
    "duration": 8,
    "start_time": "2024-12-31T01:39:13.464Z"
   },
   {
    "duration": 14,
    "start_time": "2024-12-31T01:39:13.473Z"
   },
   {
    "duration": 5,
    "start_time": "2024-12-31T01:39:13.490Z"
   },
   {
    "duration": 6,
    "start_time": "2024-12-31T01:39:13.496Z"
   },
   {
    "duration": 6,
    "start_time": "2024-12-31T01:39:13.504Z"
   },
   {
    "duration": 189,
    "start_time": "2024-12-31T01:39:13.511Z"
   },
   {
    "duration": 13,
    "start_time": "2024-12-31T01:39:13.702Z"
   },
   {
    "duration": 4,
    "start_time": "2024-12-31T01:39:13.717Z"
   },
   {
    "duration": 6,
    "start_time": "2024-12-31T01:39:13.722Z"
   },
   {
    "duration": 5,
    "start_time": "2024-12-31T01:39:13.730Z"
   },
   {
    "duration": 28,
    "start_time": "2024-12-31T01:39:13.737Z"
   },
   {
    "duration": 136,
    "start_time": "2024-12-31T01:39:13.770Z"
   },
   {
    "duration": 5,
    "start_time": "2024-12-31T01:39:13.908Z"
   },
   {
    "duration": 5,
    "start_time": "2024-12-31T01:39:13.915Z"
   },
   {
    "duration": 6,
    "start_time": "2024-12-31T01:39:13.921Z"
   },
   {
    "duration": 4,
    "start_time": "2024-12-31T01:39:13.928Z"
   },
   {
    "duration": 8,
    "start_time": "2024-12-31T01:39:13.934Z"
   },
   {
    "duration": 46,
    "start_time": "2024-12-31T01:39:13.944Z"
   },
   {
    "duration": 60,
    "start_time": "2024-12-31T01:39:13.992Z"
   },
   {
    "duration": 35,
    "start_time": "2024-12-31T01:39:14.054Z"
   },
   {
    "duration": 13,
    "start_time": "2024-12-31T01:39:14.090Z"
   },
   {
    "duration": 264,
    "start_time": "2024-12-31T01:39:14.105Z"
   },
   {
    "duration": 16,
    "start_time": "2024-12-31T01:39:14.371Z"
   },
   {
    "duration": 3,
    "start_time": "2024-12-31T01:39:14.390Z"
   }
  ],
  "kernelspec": {
   "display_name": "base",
   "language": "python",
   "name": "python3"
  },
  "language_info": {
   "codemirror_mode": {
    "name": "ipython",
    "version": 3
   },
   "file_extension": ".py",
   "mimetype": "text/x-python",
   "name": "python",
   "nbconvert_exporter": "python",
   "pygments_lexer": "ipython3",
   "version": "3.12.7"
  },
  "toc": {
   "base_numbering": 1,
   "nav_menu": {},
   "number_sections": true,
   "sideBar": true,
   "skip_h1_title": true,
   "title_cell": "Table of Contents",
   "title_sidebar": "Contents",
   "toc_cell": false,
   "toc_position": {},
   "toc_section_display": true,
   "toc_window_display": false
  }
 },
 "nbformat": 4,
 "nbformat_minor": 2
}
