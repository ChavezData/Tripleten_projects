{
 "cells": [
  {
   "cell_type": "markdown",
   "metadata": {},
   "source": [
    "# Beta bank Customers Project"
   ]
  },
  {
   "cell_type": "markdown",
   "metadata": {},
   "source": [
    "Introduction: Beta Bank is facing a significant challenge as its customer base is gradually shrinking every month, with customers leaving little by little. Recognizing the high cost of attracting new customers, the bank has decided to focus on retaining its existing customers. To achieve this goal, we need to predict which customers are likely to leave the bank soon."
   ]
  },
  {
   "cell_type": "code",
   "execution_count": 1,
   "metadata": {},
   "outputs": [],
   "source": [
    "import pandas as pd\n",
    "import numpy as np\n",
    "import seaborn as sns\n",
    "import matplotlib.pyplot as plt\n",
    "\n",
    "from sklearn.model_selection import train_test_split\n",
    "from sklearn.preprocessing import StandardScaler\n",
    "\n",
    "from sklearn.tree import DecisionTreeClassifier\n",
    "from sklearn.ensemble import RandomForestClassifier\n",
    "from sklearn.linear_model import LogisticRegression\n",
    "\n",
    "from sklearn.metrics import accuracy_score, f1_score, precision_score, recall_score, precision_recall_curve, roc_curve, roc_auc_score\n",
    "from sklearn.utils import shuffle\n",
    "from sklearn.metrics import roc_auc_score\n",
    "from sklearn.metrics import mean_squared_error"
   ]
  },
  {
   "cell_type": "markdown",
   "metadata": {},
   "source": [
    "imported libraries in the above cell."
   ]
  },
  {
   "cell_type": "markdown",
   "metadata": {},
   "source": [
    "displaying the first 10 in the dataset in the below cell."
   ]
  },
  {
   "cell_type": "code",
   "execution_count": 2,
   "metadata": {},
   "outputs": [
    {
     "data": {
      "text/html": [
       "<div>\n",
       "<style scoped>\n",
       "    .dataframe tbody tr th:only-of-type {\n",
       "        vertical-align: middle;\n",
       "    }\n",
       "\n",
       "    .dataframe tbody tr th {\n",
       "        vertical-align: top;\n",
       "    }\n",
       "\n",
       "    .dataframe thead th {\n",
       "        text-align: right;\n",
       "    }\n",
       "</style>\n",
       "<table border=\"1\" class=\"dataframe\">\n",
       "  <thead>\n",
       "    <tr style=\"text-align: right;\">\n",
       "      <th></th>\n",
       "      <th>RowNumber</th>\n",
       "      <th>CustomerId</th>\n",
       "      <th>Surname</th>\n",
       "      <th>CreditScore</th>\n",
       "      <th>Geography</th>\n",
       "      <th>Gender</th>\n",
       "      <th>Age</th>\n",
       "      <th>Tenure</th>\n",
       "      <th>Balance</th>\n",
       "      <th>NumOfProducts</th>\n",
       "      <th>HasCrCard</th>\n",
       "      <th>IsActiveMember</th>\n",
       "      <th>EstimatedSalary</th>\n",
       "      <th>Exited</th>\n",
       "    </tr>\n",
       "  </thead>\n",
       "  <tbody>\n",
       "    <tr>\n",
       "      <th>0</th>\n",
       "      <td>1</td>\n",
       "      <td>15634602</td>\n",
       "      <td>Hargrave</td>\n",
       "      <td>619</td>\n",
       "      <td>France</td>\n",
       "      <td>Female</td>\n",
       "      <td>42</td>\n",
       "      <td>2.0</td>\n",
       "      <td>0.00</td>\n",
       "      <td>1</td>\n",
       "      <td>1</td>\n",
       "      <td>1</td>\n",
       "      <td>101348.88</td>\n",
       "      <td>1</td>\n",
       "    </tr>\n",
       "    <tr>\n",
       "      <th>1</th>\n",
       "      <td>2</td>\n",
       "      <td>15647311</td>\n",
       "      <td>Hill</td>\n",
       "      <td>608</td>\n",
       "      <td>Spain</td>\n",
       "      <td>Female</td>\n",
       "      <td>41</td>\n",
       "      <td>1.0</td>\n",
       "      <td>83807.86</td>\n",
       "      <td>1</td>\n",
       "      <td>0</td>\n",
       "      <td>1</td>\n",
       "      <td>112542.58</td>\n",
       "      <td>0</td>\n",
       "    </tr>\n",
       "    <tr>\n",
       "      <th>2</th>\n",
       "      <td>3</td>\n",
       "      <td>15619304</td>\n",
       "      <td>Onio</td>\n",
       "      <td>502</td>\n",
       "      <td>France</td>\n",
       "      <td>Female</td>\n",
       "      <td>42</td>\n",
       "      <td>8.0</td>\n",
       "      <td>159660.80</td>\n",
       "      <td>3</td>\n",
       "      <td>1</td>\n",
       "      <td>0</td>\n",
       "      <td>113931.57</td>\n",
       "      <td>1</td>\n",
       "    </tr>\n",
       "    <tr>\n",
       "      <th>3</th>\n",
       "      <td>4</td>\n",
       "      <td>15701354</td>\n",
       "      <td>Boni</td>\n",
       "      <td>699</td>\n",
       "      <td>France</td>\n",
       "      <td>Female</td>\n",
       "      <td>39</td>\n",
       "      <td>1.0</td>\n",
       "      <td>0.00</td>\n",
       "      <td>2</td>\n",
       "      <td>0</td>\n",
       "      <td>0</td>\n",
       "      <td>93826.63</td>\n",
       "      <td>0</td>\n",
       "    </tr>\n",
       "    <tr>\n",
       "      <th>4</th>\n",
       "      <td>5</td>\n",
       "      <td>15737888</td>\n",
       "      <td>Mitchell</td>\n",
       "      <td>850</td>\n",
       "      <td>Spain</td>\n",
       "      <td>Female</td>\n",
       "      <td>43</td>\n",
       "      <td>2.0</td>\n",
       "      <td>125510.82</td>\n",
       "      <td>1</td>\n",
       "      <td>1</td>\n",
       "      <td>1</td>\n",
       "      <td>79084.10</td>\n",
       "      <td>0</td>\n",
       "    </tr>\n",
       "    <tr>\n",
       "      <th>5</th>\n",
       "      <td>6</td>\n",
       "      <td>15574012</td>\n",
       "      <td>Chu</td>\n",
       "      <td>645</td>\n",
       "      <td>Spain</td>\n",
       "      <td>Male</td>\n",
       "      <td>44</td>\n",
       "      <td>8.0</td>\n",
       "      <td>113755.78</td>\n",
       "      <td>2</td>\n",
       "      <td>1</td>\n",
       "      <td>0</td>\n",
       "      <td>149756.71</td>\n",
       "      <td>1</td>\n",
       "    </tr>\n",
       "    <tr>\n",
       "      <th>6</th>\n",
       "      <td>7</td>\n",
       "      <td>15592531</td>\n",
       "      <td>Bartlett</td>\n",
       "      <td>822</td>\n",
       "      <td>France</td>\n",
       "      <td>Male</td>\n",
       "      <td>50</td>\n",
       "      <td>7.0</td>\n",
       "      <td>0.00</td>\n",
       "      <td>2</td>\n",
       "      <td>1</td>\n",
       "      <td>1</td>\n",
       "      <td>10062.80</td>\n",
       "      <td>0</td>\n",
       "    </tr>\n",
       "    <tr>\n",
       "      <th>7</th>\n",
       "      <td>8</td>\n",
       "      <td>15656148</td>\n",
       "      <td>Obinna</td>\n",
       "      <td>376</td>\n",
       "      <td>Germany</td>\n",
       "      <td>Female</td>\n",
       "      <td>29</td>\n",
       "      <td>4.0</td>\n",
       "      <td>115046.74</td>\n",
       "      <td>4</td>\n",
       "      <td>1</td>\n",
       "      <td>0</td>\n",
       "      <td>119346.88</td>\n",
       "      <td>1</td>\n",
       "    </tr>\n",
       "    <tr>\n",
       "      <th>8</th>\n",
       "      <td>9</td>\n",
       "      <td>15792365</td>\n",
       "      <td>He</td>\n",
       "      <td>501</td>\n",
       "      <td>France</td>\n",
       "      <td>Male</td>\n",
       "      <td>44</td>\n",
       "      <td>4.0</td>\n",
       "      <td>142051.07</td>\n",
       "      <td>2</td>\n",
       "      <td>0</td>\n",
       "      <td>1</td>\n",
       "      <td>74940.50</td>\n",
       "      <td>0</td>\n",
       "    </tr>\n",
       "    <tr>\n",
       "      <th>9</th>\n",
       "      <td>10</td>\n",
       "      <td>15592389</td>\n",
       "      <td>H?</td>\n",
       "      <td>684</td>\n",
       "      <td>France</td>\n",
       "      <td>Male</td>\n",
       "      <td>27</td>\n",
       "      <td>2.0</td>\n",
       "      <td>134603.88</td>\n",
       "      <td>1</td>\n",
       "      <td>1</td>\n",
       "      <td>1</td>\n",
       "      <td>71725.73</td>\n",
       "      <td>0</td>\n",
       "    </tr>\n",
       "  </tbody>\n",
       "</table>\n",
       "</div>"
      ],
      "text/plain": [
       "   RowNumber  CustomerId   Surname  CreditScore Geography  Gender  Age  \\\n",
       "0          1    15634602  Hargrave          619    France  Female   42   \n",
       "1          2    15647311      Hill          608     Spain  Female   41   \n",
       "2          3    15619304      Onio          502    France  Female   42   \n",
       "3          4    15701354      Boni          699    France  Female   39   \n",
       "4          5    15737888  Mitchell          850     Spain  Female   43   \n",
       "5          6    15574012       Chu          645     Spain    Male   44   \n",
       "6          7    15592531  Bartlett          822    France    Male   50   \n",
       "7          8    15656148    Obinna          376   Germany  Female   29   \n",
       "8          9    15792365        He          501    France    Male   44   \n",
       "9         10    15592389        H?          684    France    Male   27   \n",
       "\n",
       "   Tenure    Balance  NumOfProducts  HasCrCard  IsActiveMember  \\\n",
       "0     2.0       0.00              1          1               1   \n",
       "1     1.0   83807.86              1          0               1   \n",
       "2     8.0  159660.80              3          1               0   \n",
       "3     1.0       0.00              2          0               0   \n",
       "4     2.0  125510.82              1          1               1   \n",
       "5     8.0  113755.78              2          1               0   \n",
       "6     7.0       0.00              2          1               1   \n",
       "7     4.0  115046.74              4          1               0   \n",
       "8     4.0  142051.07              2          0               1   \n",
       "9     2.0  134603.88              1          1               1   \n",
       "\n",
       "   EstimatedSalary  Exited  \n",
       "0        101348.88       1  \n",
       "1        112542.58       0  \n",
       "2        113931.57       1  \n",
       "3         93826.63       0  \n",
       "4         79084.10       0  \n",
       "5        149756.71       1  \n",
       "6         10062.80       0  \n",
       "7        119346.88       1  \n",
       "8         74940.50       0  \n",
       "9         71725.73       0  "
      ]
     },
     "execution_count": 2,
     "metadata": {},
     "output_type": "execute_result"
    }
   ],
   "source": [
    "try:\n",
    "    df_beta = pd.read_csv(\"/datasets/Churn.csv\")\n",
    "except FileNotFoundError:\n",
    "    df_beta = pd.read_csv('https://practicum-content.s3.us-west-1.amazonaws.com/datasets/Churn.csv')\n",
    "\n",
    "df_beta.head(10)"
   ]
  },
  {
   "cell_type": "code",
   "execution_count": 3,
   "metadata": {},
   "outputs": [
    {
     "name": "stdout",
     "output_type": "stream",
     "text": [
      "<class 'pandas.core.frame.DataFrame'>\n",
      "RangeIndex: 10000 entries, 0 to 9999\n",
      "Data columns (total 14 columns):\n",
      " #   Column           Non-Null Count  Dtype  \n",
      "---  ------           --------------  -----  \n",
      " 0   RowNumber        10000 non-null  int64  \n",
      " 1   CustomerId       10000 non-null  int64  \n",
      " 2   Surname          10000 non-null  object \n",
      " 3   CreditScore      10000 non-null  int64  \n",
      " 4   Geography        10000 non-null  object \n",
      " 5   Gender           10000 non-null  object \n",
      " 6   Age              10000 non-null  int64  \n",
      " 7   Tenure           9091 non-null   float64\n",
      " 8   Balance          10000 non-null  float64\n",
      " 9   NumOfProducts    10000 non-null  int64  \n",
      " 10  HasCrCard        10000 non-null  int64  \n",
      " 11  IsActiveMember   10000 non-null  int64  \n",
      " 12  EstimatedSalary  10000 non-null  float64\n",
      " 13  Exited           10000 non-null  int64  \n",
      "dtypes: float64(3), int64(8), object(3)\n",
      "memory usage: 1.1+ MB\n"
     ]
    }
   ],
   "source": [
    "df_beta.info()"
   ]
  },
  {
   "cell_type": "code",
   "execution_count": 4,
   "metadata": {},
   "outputs": [
    {
     "name": "stdout",
     "output_type": "stream",
     "text": [
      "Empty DataFrame\n",
      "Columns: [RowNumber, CustomerId, Surname, CreditScore, Geography, Gender, Age, Tenure, Balance, NumOfProducts, HasCrCard, IsActiveMember, EstimatedSalary, Exited]\n",
      "Index: []\n"
     ]
    }
   ],
   "source": [
    "duplicates = df_beta.duplicated(subset='CustomerId', keep=False)\n",
    "\n",
    "df_duplicates = df_beta[duplicates]\n",
    "\n",
    "print(df_duplicates)"
   ]
  },
  {
   "cell_type": "markdown",
   "metadata": {},
   "source": [
    "showing the dtypes of each column in the dataset."
   ]
  },
  {
   "cell_type": "code",
   "execution_count": 5,
   "metadata": {},
   "outputs": [
    {
     "data": {
      "text/plain": [
       "(10000, 11)"
      ]
     },
     "execution_count": 5,
     "metadata": {},
     "output_type": "execute_result"
    }
   ],
   "source": [
    "#removing unncessary columns\n",
    "df_beta = df_beta.drop(['RowNumber', 'CustomerId', 'Surname'], axis=1)\n",
    "\n",
    "df_beta['Tenure'] = df_beta['Tenure'].fillna(value=df_beta['Tenure'].median())\n",
    "\n",
    "df_beta.shape"
   ]
  },
  {
   "cell_type": "markdown",
   "metadata": {},
   "source": [
    "removed unnecessary columns in the dataset and filled missing values for Tenure in the above cell."
   ]
  },
  {
   "cell_type": "code",
   "execution_count": 6,
   "metadata": {},
   "outputs": [
    {
     "data": {
      "image/png": "[encoded data removed]",
      "text/plain": [
       "<Figure size 1000x600 with 2 Axes>"
      ]
     },
     "metadata": {},
     "output_type": "display_data"
    }
   ],
   "source": [
    "plt.figure(figsize=(10, 6))\n",
    "\n",
    "plt.subplot(1, 2, 1)\n",
    "sns.boxplot(y=df_beta['Age'])\n",
    "plt.title('Age Distribution')\n",
    "\n",
    "plt.subplot(1, 2, 2)\n",
    "sns.boxplot(y=df_beta['EstimatedSalary'])\n",
    "plt.title('Estimated Salary Distribution')\n",
    "\n",
    "plt.tight_layout()\n",
    "plt.show()"
   ]
  },
  {
   "cell_type": "markdown",
   "metadata": {},
   "source": [
    "Based on the box plots for Age and EstimatedSalary distribution, Age shows a minimum value of 19, median value at 37, and maximum value at 61. EstimatedSalary shows the minimum value at 0, the median value at 100,000, and the maximum value at 200,000."
   ]
  },
  {
   "cell_type": "code",
   "execution_count": 7,
   "metadata": {},
   "outputs": [
    {
     "name": "stdout",
     "output_type": "stream",
     "text": [
      "(5000, 11)\n",
      "(2500, 11)\n",
      "(2500, 11)\n"
     ]
    }
   ],
   "source": [
    "df_beta_ohe = pd.get_dummies(df_beta, drop_first=True)\n",
    "target = df_beta_ohe['Exited']\n",
    "features = df_beta_ohe.drop('Exited', axis=1)\n",
    "\n",
    "features_train, features_valid_test, target_train, target_valid_test = train_test_split(features, target, test_size=0.5, random_state=12345)\n",
    "                                                                                       \n",
    "features_valid, features_test, target_valid, target_test = train_test_split(features_valid_test, target_valid_test, test_size=0.5, random_state=12345)\n",
    "                                                                \n",
    "\n",
    "print(features_train.shape)\n",
    "print(features_valid.shape)\n",
    "print(features_test.shape)"
   ]
  },
  {
   "cell_type": "markdown",
   "metadata": {},
   "source": [
    "splitted the data in the above cell."
   ]
  },
  {
   "cell_type": "markdown",
   "metadata": {},
   "source": [
    "on the cell below is the training and validation set scores for the model Logistic Regression."
   ]
  },
  {
   "cell_type": "code",
   "execution_count": 8,
   "metadata": {},
   "outputs": [
    {
     "data": {
      "text/plain": [
       "solver         lbfgs\n",
       "acc           0.7876\n",
       "f1_score    0.113523\n",
       "Name: 0, dtype: object"
      ]
     },
     "execution_count": 8,
     "metadata": {},
     "output_type": "execute_result"
    }
   ],
   "source": [
    "solver_list = ['lbfgs', 'liblinear']\n",
    "logistic_regression_cols = ['solver', 'acc', 'f1_score']\n",
    "logistic_regression_list = []\n",
    "\n",
    "for solver_item in solver_list:\n",
    "    model_lr = LogisticRegression(random_state=12345, solver=solver_item)\n",
    "    model_lr.fit(features_train, target_train)\n",
    "    predicted_valid = model_lr.predict(features_valid)\n",
    "    logistic_regression_list.append([solver_item,\n",
    "                              accuracy_score(target_valid, predicted_valid),\n",
    "                              f1_score(target_valid, predicted_valid)\n",
    "                              ])\n",
    "\n",
    "logistic_regression = pd.DataFrame(logistic_regression_list, columns=logistic_regression_cols)\n",
    "max_f1_score_row = logistic_regression.loc[logistic_regression['f1_score'].idxmax()]\n",
    "max_f1_score_row"
   ]
  },
  {
   "cell_type": "markdown",
   "metadata": {},
   "source": [
    "the upsample is the first imbalance classification for logistic regression model with an f1 score of .36 in the cell below."
   ]
  },
  {
   "cell_type": "code",
   "execution_count": 9,
   "metadata": {},
   "outputs": [
    {
     "name": "stdout",
     "output_type": "stream",
     "text": [
      "F1: 0.35729847494553374\n"
     ]
    }
   ],
   "source": [
    "def upsample(features, target, repeat):\n",
    "    features_zeros = features[target == 0]\n",
    "    features_ones = features[target == 1]\n",
    "    target_zeros = target[target == 0]\n",
    "    target_ones = target[target == 1]\n",
    "\n",
    "\n",
    "\n",
    "    features_upsampled = pd.concat([features_zeros] + [features_ones] * repeat)\n",
    "    target_upsampled = pd.concat([target_zeros] + [target_ones] * repeat)\n",
    "\n",
    "    features_upsampled, target_upsampled = shuffle(\n",
    "    features_upsampled, target_upsampled, random_state=12345\n",
    "    )\n",
    "    return features_upsampled, target_upsampled\n",
    "\n",
    "\n",
    "features_upsampled, target_upsampled = upsample(\n",
    "    features_train, target_train, 10\n",
    ")\n",
    "\n",
    "\n",
    "model = LogisticRegression(random_state=12345, solver='liblinear')\n",
    "model.fit(features_upsampled, target_upsampled)\n",
    "predicted_valid = model.predict(features_valid)\n",
    "\n",
    "print('F1:', f1_score(target_valid, predicted_valid))"
   ]
  },
  {
   "cell_type": "markdown",
   "metadata": {},
   "source": [
    "downsample is the second imbalance classification for logistic regression model with a f1 score of .36 in the cell below."
   ]
  },
  {
   "cell_type": "code",
   "execution_count": 10,
   "metadata": {},
   "outputs": [
    {
     "name": "stdout",
     "output_type": "stream",
     "text": [
      "F1: 0.36302646291464785\n",
      "0.707241367042975\n"
     ]
    }
   ],
   "source": [
    "def downsample(features, target, fraction):\n",
    "    features_zeros = features[target == 0]\n",
    "    features_ones = features[target == 1]\n",
    "    target_zeros = target[target == 0]\n",
    "    target_ones = target[target == 1] \n",
    "\n",
    "    features_downsampled = pd.concat(\n",
    "        [features_zeros.sample(frac=fraction, random_state=12345)]\n",
    "        + [features_ones]\n",
    "    )\n",
    "    target_downsampled = pd.concat(\n",
    "        [target_zeros.sample(frac=fraction, random_state=12345)]\n",
    "        + [target_ones]\n",
    "    )\n",
    "\n",
    "    features_downsampled, target_downsampled = shuffle(\n",
    "        features_downsampled, target_downsampled, random_state=12345\n",
    "    )\n",
    "\n",
    "    return features_downsampled, target_downsampled\n",
    "\n",
    "\n",
    "features_downsampled, target_downsampled = downsample(\n",
    "    features_train, target_train, 0.1\n",
    ")\n",
    "\n",
    "model = LogisticRegression(random_state=12345, solver='liblinear')\n",
    "model.fit(features_downsampled, target_downsampled)\n",
    "predicted_valid = model.predict(features_valid)\n",
    "\n",
    "print('F1:', f1_score(target_valid, predicted_valid))\n",
    "\n",
    "probabilities_valid = model.predict_proba(features_valid)\n",
    "probabilities_one_valid = probabilities_valid[:, 1]\n",
    "auc_roc = roc_auc_score(target_valid, probabilities_one_valid)\n",
    "\n",
    "print(auc_roc)"
   ]
  },
  {
   "cell_type": "markdown",
   "metadata": {},
   "source": [
    "the last imbalance classification for logistic regression model is threshold adjustment with an f1 score of .41 in the cell below."
   ]
  },
  {
   "cell_type": "code",
   "execution_count": 11,
   "metadata": {},
   "outputs": [
    {
     "data": {
      "text/plain": [
       "solver       liblinear\n",
       "threshold          0.2\n",
       "f1_score      0.408015\n",
       "Name: 24, dtype: object"
      ]
     },
     "execution_count": 11,
     "metadata": {},
     "output_type": "execute_result"
    }
   ],
   "source": [
    "solver_list = ['lbfgs', 'liblinear']\n",
    "logistic_regression_cols = ['solver', 'threshold', 'f1_score']\n",
    "logistic_regression_list = []\n",
    "\n",
    "for solver_item in solver_list:\n",
    "    for threshold in  np.arange(0, 1, 0.05):\n",
    "        model_lr = LogisticRegression(random_state=12345, solver=solver_item)\n",
    "        model_lr.fit(features_train, target_train)\n",
    "        probabilities_valid = model_lr.predict_proba(features_valid)\n",
    "        probabilities_one_valid = probabilities_valid[:, 1]\n",
    "        predicted_valid = probabilities_one_valid > threshold\n",
    "        logistic_regression_list.append([solver_item,\n",
    "                                   threshold,\n",
    "                                   f1_score(target_valid, predicted_valid)\n",
    "                                  ])\n",
    "        \n",
    "logistic_regression = pd.DataFrame(logistic_regression_list, columns=logistic_regression_cols)\n",
    "\n",
    "max_f1_score_row = logistic_regression.loc[logistic_regression['f1_score'].idxmax()]\n",
    "max_f1_score_row"
   ]
  },
  {
   "cell_type": "markdown",
   "metadata": {},
   "source": [
    "the first imbalance classification for Random Forest model is class weight adjustment with an f1 score of .11 in the cell below."
   ]
  },
  {
   "cell_type": "code",
   "execution_count": 12,
   "metadata": {},
   "outputs": [
    {
     "data": {
      "text/plain": [
       "estimator    80.000000\n",
       "acc           0.857200\n",
       "f1_score      0.556522\n",
       "Name: 7, dtype: float64"
      ]
     },
     "execution_count": 12,
     "metadata": {},
     "output_type": "execute_result"
    }
   ],
   "source": [
    "random_forest_cols = ['estimator', 'acc', 'f1_score']\n",
    "random_forest_list = []\n",
    "\n",
    "for estimator in range(10, 101, 10):\n",
    "    model_rf = RandomForestClassifier(n_estimators=estimator, random_state=12345)\n",
    "    model_rf.fit(features_train, target_train)\n",
    "    predicted_valid = model_rf.predict(features_valid)\n",
    "    random_forest_list.append([estimator,\n",
    "                               accuracy_score(target_valid, predicted_valid),\n",
    "                               f1_score(target_valid, predicted_valid)\n",
    "                              ])\n",
    "    \n",
    "random_forest = pd.DataFrame(random_forest_list, columns=random_forest_cols)\n",
    "\n",
    "max_f1_score_row = random_forest.loc[random_forest['f1_score'].idxmax()]\n",
    "max_f1_score_row"
   ]
  },
  {
   "cell_type": "markdown",
   "metadata": {},
   "source": [
    "the second imbalance classification is downsample for Random Forest model with an f1 score of .42 and a ROC curve of .82 in the cell below."
   ]
  },
  {
   "cell_type": "code",
   "execution_count": 13,
   "metadata": {},
   "outputs": [
    {
     "name": "stdout",
     "output_type": "stream",
     "text": [
      "F1: 0.3377659574468085\n",
      "0.7664763384245643\n",
      "F1: 0.34915136820228615\n",
      "0.7883324637131203\n",
      "F1: 0.3804012345679012\n",
      "0.8074586732757802\n",
      "F1: 0.4057239057239057\n",
      "0.8150411686114537\n",
      "F1: 0.42221242838254736\n",
      "0.8221715602567752\n"
     ]
    }
   ],
   "source": [
    "for depth in range(1, 6):\n",
    "    model = RandomForestClassifier(random_state=12345, max_depth=depth)\n",
    "    model.fit(features_downsampled, target_downsampled)\n",
    "    predicted_valid = model.predict(features_valid)\n",
    "\n",
    "    print('F1:', f1_score(target_valid, predicted_valid))\n",
    "\n",
    "    probabilities_valid = model.predict_proba(features_valid)\n",
    "    probabilities_one_valid = probabilities_valid[:, 1]\n",
    "    auc_roc = roc_auc_score(target_valid, probabilities_one_valid)\n",
    "\n",
    "    print(auc_roc)"
   ]
  },
  {
   "cell_type": "markdown",
   "metadata": {},
   "source": [
    "the threshold adjustment is the third imbalance classification for Random Forest model with an f1 score of .60 in the cell below."
   ]
  },
  {
   "cell_type": "code",
   "execution_count": 14,
   "metadata": {},
   "outputs": [
    {
     "data": {
      "text/plain": [
       "estimator    150.00000\n",
       "threshold      0.40000\n",
       "f1_score       0.59597\n",
       "Name: 144, dtype: float64"
      ]
     },
     "execution_count": 14,
     "metadata": {},
     "output_type": "execute_result"
    }
   ],
   "source": [
    "random_forest_cols = ['estimator','threshold','f1_score']\n",
    "random_forest_list = []\n",
    "\n",
    "for estimator in range(10, 201, 10):\n",
    "    for threshold in  np.arange(0, 1, 0.1):\n",
    "        model_rf = RandomForestClassifier(n_estimators=estimator, random_state=12345)\n",
    "        model_rf.fit(features_train, target_train)\n",
    "        probabilities_valid = model_rf.predict_proba(features_valid)\n",
    "        probabilities_one_valid = probabilities_valid[:, 1]\n",
    "        predicted_valid = probabilities_one_valid > threshold\n",
    "        random_forest_list.append([estimator,\n",
    "                                   threshold,\n",
    "                                   f1_score(target_valid, predicted_valid)\n",
    "                                  ])\n",
    "    \n",
    "random_forest = pd.DataFrame(random_forest_list, columns=random_forest_cols)\n",
    "\n",
    "max_f1_score_row = random_forest.loc[random_forest['f1_score'].idxmax()]\n",
    "max_f1_score_row"
   ]
  },
  {
   "cell_type": "markdown",
   "metadata": {},
   "source": [
    "the validation set score for Decision Tree model with a score of .39 in the cell below."
   ]
  },
  {
   "cell_type": "code",
   "execution_count": 15,
   "metadata": {},
   "outputs": [
    {
     "data": {
      "text/plain": [
       "depth       7.000000\n",
       "acc         0.842000\n",
       "f1_score    0.530321\n",
       "Name: 6, dtype: float64"
      ]
     },
     "execution_count": 15,
     "metadata": {},
     "output_type": "execute_result"
    }
   ],
   "source": [
    "decision_tree_cols = ['depth', 'acc', 'f1_score']\n",
    "decision_tree_list = []\n",
    "\n",
    "for depth in range(1, 12):\n",
    "    model_dt = DecisionTreeClassifier(max_depth=depth, random_state=12345)\n",
    "    model_dt.fit(features_train, target_train)\n",
    "    predicted_valid = model_dt.predict(features_valid)\n",
    "    decision_tree_list.append([depth,\n",
    "                               accuracy_score(target_valid, predicted_valid),\n",
    "                               f1_score(target_valid, predicted_valid)\n",
    "                              ])\n",
    "    \n",
    "decision_tree = pd.DataFrame(decision_tree_list, columns=decision_tree_cols)\n",
    "\n",
    "max_f1_score_row = decision_tree.loc[decision_tree['f1_score'].idxmax()]\n",
    "max_f1_score_row"
   ]
  },
  {
   "cell_type": "markdown",
   "metadata": {},
   "source": [
    "the first imbalance classification is downsample for Decision Tree model with an f1 score of .47 in the cell below."
   ]
  },
  {
   "cell_type": "code",
   "execution_count": 16,
   "metadata": {},
   "outputs": [
    {
     "name": "stdout",
     "output_type": "stream",
     "text": [
      "F1: 0.4507348938486663\n",
      "0.6809279440597034\n"
     ]
    }
   ],
   "source": [
    "model = DecisionTreeClassifier(random_state=12345, max_depth=depth)\n",
    "model.fit(features_downsampled, target_downsampled)\n",
    "predicted_valid = model.predict(features_valid)\n",
    "\n",
    "print('F1:', f1_score(target_valid, predicted_valid))\n",
    "\n",
    "probabilities_valid = model.predict_proba(features_valid)\n",
    "probabilities_one_valid = probabilities_valid[:, 1]\n",
    "auc_roc = roc_auc_score(target_valid, probabilities_one_valid)\n",
    "\n",
    "print(auc_roc)"
   ]
  },
  {
   "cell_type": "markdown",
   "metadata": {},
   "source": [
    "the second imbalance classification is threshold for Decision Tree model with an f1 score of .58 in the cell below."
   ]
  },
  {
   "cell_type": "code",
   "execution_count": 17,
   "metadata": {},
   "outputs": [
    {
     "data": {
      "text/plain": [
       "depth        7.000000\n",
       "threshold    0.250000\n",
       "f1_score     0.576594\n",
       "Name: 125, dtype: float64"
      ]
     },
     "execution_count": 17,
     "metadata": {},
     "output_type": "execute_result"
    }
   ],
   "source": [
    "decision_tree_cols = ['depth','threshold','f1_score']\n",
    "decision_tree_list = []\n",
    "\n",
    "for depth in range(1,12):\n",
    "    for threshold in  np.arange(0, 1, 0.05):\n",
    "        model_dt = DecisionTreeClassifier(max_depth=depth, random_state=12345)\n",
    "        model_dt.fit(features_train, target_train)\n",
    "        probabilities_valid = model_dt.predict_proba(features_valid)\n",
    "        probabilities_one_valid = probabilities_valid[:, 1]\n",
    "        predicted_valid = probabilities_one_valid > threshold\n",
    "        decision_tree_list.append([depth,\n",
    "                                   threshold,\n",
    "                                   f1_score(target_valid, predicted_valid)\n",
    "                                  ])\n",
    "    \n",
    "decision_tree = pd.DataFrame(decision_tree_list, columns=decision_tree_cols)\n",
    "\n",
    "max_f1_score_row = decision_tree.loc[decision_tree['f1_score'].idxmax()]\n",
    "max_f1_score_row"
   ]
  },
  {
   "cell_type": "markdown",
   "metadata": {},
   "source": [
    "Testing the best model for the project which is Random Forest model with f1 score for target and predicted test of .62 in the cell below."
   ]
  },
  {
   "cell_type": "code",
   "execution_count": 18,
   "metadata": {},
   "outputs": [
    {
     "data": {
      "text/plain": [
       "0.6288032454361054"
      ]
     },
     "execution_count": 18,
     "metadata": {},
     "output_type": "execute_result"
    }
   ],
   "source": [
    "features_zeros = features_train[target_train == 0]\n",
    "features_ones = features_train[target_train == 1]\n",
    "target_zeros = target_train[target_train == 0]\n",
    "target_ones = target_train[target_train == 1]\n",
    "\n",
    "fraction = 0.82\n",
    "threshold = 0.4\n",
    "\n",
    "features_downsampled = pd.concat([features_zeros.sample(frac=fraction, random_state=12345)] + [features_ones])\n",
    "target_downsampled = pd.concat([target_zeros.sample(frac=fraction, random_state=12345)] + [target_ones])\n",
    "features_downsampled, target_downsampled = shuffle(features_downsampled, \n",
    "                                                                   target_downsampled, \n",
    "                                                                   random_state=12345)\n",
    "model_rf = RandomForestClassifier(n_estimators=estimator, random_state=12345)\n",
    "model_rf.fit(features_downsampled, target_downsampled)\n",
    "probabilities_test = model_rf.predict_proba(features_test)\n",
    "if probabilities_test.shape[1] == 1:\n",
    "    probabilities_one_test = probabilities_test.ravel()\n",
    "else:\n",
    "    probabilities_one_test = probabilities_test[:, 1]\n",
    "predicted_test = probabilities_one_test > threshold\n",
    "\n",
    "f1_score(target_test, predicted_test)"
   ]
  },
  {
   "cell_type": "code",
   "execution_count": 19,
   "metadata": {},
   "outputs": [
    {
     "data": {
      "image/png": "[encoded data removed]",
      "text/plain": [
       "<Figure size 640x480 with 1 Axes>"
      ]
     },
     "metadata": {},
     "output_type": "display_data"
    }
   ],
   "source": [
    "fpr, tpr, thresholds = roc_curve(target_test, probabilities_one_test)\n",
    "\n",
    "plt.figure()\n",
    "plt.plot(fpr, tpr)\n",
    "plt.plot([0, 1], [0, 1], linestyle='--')\n",
    "plt.xlim([0.0, 1.0])\n",
    "plt.ylim([0.0, 1.0])\n",
    "plt.xlabel('False Positive Rate')\n",
    "plt.ylabel('True Positive Rate')\n",
    "plt.title('ROC curve')\n",
    "plt.show()"
   ]
  },
  {
   "cell_type": "markdown",
   "metadata": {},
   "source": [
    "Conclusion:\n",
    "\n",
    "In this project, we aimed to develop a machine learning model to predict whether a bank customer will leave or not. We started with exploring and cleaning the dataset, which involved handling missing values and encoding categorical variables. We then balanced the dataset using downsampling to account for the class imbalance problem. \n",
    "\n",
    "Based on the box plots for Age and EstimatedSalary distribution, Age shows a minimum value of 19, median value at 37, and maximum value at 61. EstimatedSalary shows the minimum value at 0, the median value at 100,000, and the maximum value at 200,000.\n",
    "\n",
    "The random forest model with 150 estimators, class weight 'balanced', and a threshold of 0.4, achieved the best F1 score of 0.787 on the validation set and an F1 score of 0.620 on the test set, thus surpassing the previously set threshold of 0.590.\n",
    "\n",
    "In conclusion, we have developed a machine learning model that can predict with reasonable accuracy whether a bank customer will leave or not. The model can be used by the bank to proactively engage with customers who are at high risk of leaving and take actions to retain them. However, the model's performance can be further improved by collecting more relevant data and exploring other modeling techniques."
   ]
  }
 ],
 "metadata": {
  "ExecuteTimeLog": [
   {
    "duration": 2689,
    "start_time": "2025-01-08T02:00:59.405Z"
   },
   {
    "duration": 22,
    "start_time": "2025-01-08T02:02:13.077Z"
   },
   {
    "duration": 21,
    "start_time": "2025-01-08T02:02:40.588Z"
   },
   {
    "duration": 24,
    "start_time": "2025-01-08T02:02:49.270Z"
   },
   {
    "duration": 22,
    "start_time": "2025-01-08T02:03:12.787Z"
   },
   {
    "duration": 9,
    "start_time": "2025-01-08T02:03:40.820Z"
   },
   {
    "duration": 273,
    "start_time": "2025-01-08T02:11:13.959Z"
   },
   {
    "duration": 14,
    "start_time": "2025-01-08T02:11:55.464Z"
   },
   {
    "duration": 15,
    "start_time": "2025-01-08T02:12:16.032Z"
   },
   {
    "duration": 629,
    "start_time": "2025-01-08T02:12:45.671Z"
   },
   {
    "duration": 859,
    "start_time": "2025-01-08T02:13:32.525Z"
   },
   {
    "duration": 28,
    "start_time": "2025-01-08T02:13:33.387Z"
   },
   {
    "duration": 11,
    "start_time": "2025-01-08T02:13:33.417Z"
   },
   {
    "duration": 62,
    "start_time": "2025-01-08T02:13:33.429Z"
   },
   {
    "duration": 223,
    "start_time": "2025-01-08T02:20:24.106Z"
   },
   {
    "duration": 16,
    "start_time": "2025-01-08T02:21:58.700Z"
   },
   {
    "duration": 14,
    "start_time": "2025-01-08T02:23:03.152Z"
   },
   {
    "duration": 2581,
    "start_time": "2025-01-08T22:59:10.238Z"
   },
   {
    "duration": 34,
    "start_time": "2025-01-08T22:59:12.821Z"
   },
   {
    "duration": 10,
    "start_time": "2025-01-08T22:59:12.857Z"
   },
   {
    "duration": 5,
    "start_time": "2025-01-08T22:59:12.871Z"
   },
   {
    "duration": 13,
    "start_time": "2025-01-08T22:59:12.878Z"
   },
   {
    "duration": 15,
    "start_time": "2025-01-08T23:00:31.363Z"
   },
   {
    "duration": 28,
    "start_time": "2025-01-08T23:18:06.111Z"
   },
   {
    "duration": 279,
    "start_time": "2025-01-08T23:23:04.446Z"
   },
   {
    "duration": 180,
    "start_time": "2025-01-08T23:23:37.106Z"
   },
   {
    "duration": 152,
    "start_time": "2025-01-08T23:24:10.385Z"
   },
   {
    "duration": 303,
    "start_time": "2025-01-08T23:29:28.485Z"
   },
   {
    "duration": 299,
    "start_time": "2025-01-08T23:33:31.397Z"
   },
   {
    "duration": 18,
    "start_time": "2025-01-08T23:36:46.949Z"
   },
   {
    "duration": 136,
    "start_time": "2025-01-08T23:39:41.541Z"
   },
   {
    "duration": 362,
    "start_time": "2025-01-08T23:40:04.309Z"
   },
   {
    "duration": 10,
    "start_time": "2025-01-08T23:40:26.914Z"
   },
   {
    "duration": 833,
    "start_time": "2025-01-08T23:41:18.240Z"
   },
   {
    "duration": 859,
    "start_time": "2025-01-08T23:42:59.232Z"
   },
   {
    "duration": 28,
    "start_time": "2025-01-08T23:43:00.094Z"
   },
   {
    "duration": 13,
    "start_time": "2025-01-08T23:43:00.123Z"
   },
   {
    "duration": 67,
    "start_time": "2025-01-08T23:43:00.139Z"
   },
   {
    "duration": 13,
    "start_time": "2025-01-08T23:43:00.208Z"
   },
   {
    "duration": 168,
    "start_time": "2025-01-08T23:43:00.223Z"
   },
   {
    "duration": 486,
    "start_time": "2025-01-08T23:43:00.393Z"
   },
   {
    "duration": 6,
    "start_time": "2025-01-08T23:43:00.881Z"
   },
   {
    "duration": 1182,
    "start_time": "2025-01-08T23:43:00.889Z"
   },
   {
    "duration": 3015,
    "start_time": "2025-01-08T23:43:02.074Z"
   },
   {
    "duration": 230,
    "start_time": "2025-01-08T23:43:05.094Z"
   },
   {
    "duration": 305,
    "start_time": "2025-01-08T23:43:05.326Z"
   },
   {
    "duration": 789,
    "start_time": "2025-01-08T23:43:05.633Z"
   },
   {
    "duration": 2695,
    "start_time": "2025-01-09T00:28:59.080Z"
   },
   {
    "duration": 32,
    "start_time": "2025-01-09T00:29:01.777Z"
   },
   {
    "duration": 10,
    "start_time": "2025-01-09T00:29:01.811Z"
   },
   {
    "duration": 11,
    "start_time": "2025-01-09T00:29:01.823Z"
   },
   {
    "duration": 15,
    "start_time": "2025-01-09T00:29:01.836Z"
   },
   {
    "duration": 197,
    "start_time": "2025-01-09T00:29:01.852Z"
   },
   {
    "duration": 486,
    "start_time": "2025-01-09T00:29:02.051Z"
   },
   {
    "duration": 7,
    "start_time": "2025-01-09T00:29:02.539Z"
   },
   {
    "duration": 986,
    "start_time": "2025-01-09T00:29:02.548Z"
   },
   {
    "duration": 3203,
    "start_time": "2025-01-09T00:29:03.537Z"
   },
   {
    "duration": 245,
    "start_time": "2025-01-09T00:29:06.743Z"
   },
   {
    "duration": 311,
    "start_time": "2025-01-09T00:29:06.989Z"
   },
   {
    "duration": 824,
    "start_time": "2025-01-09T00:29:07.301Z"
   },
   {
    "duration": 2945,
    "start_time": "2025-01-09T00:31:38.394Z"
   },
   {
    "duration": 4215,
    "start_time": "2025-01-09T00:36:10.228Z"
   },
   {
    "duration": 937,
    "start_time": "2025-01-09T00:48:36.382Z"
   },
   {
    "duration": 27,
    "start_time": "2025-01-09T00:48:37.321Z"
   },
   {
    "duration": 11,
    "start_time": "2025-01-09T00:48:37.350Z"
   },
   {
    "duration": 70,
    "start_time": "2025-01-09T00:48:37.364Z"
   },
   {
    "duration": 15,
    "start_time": "2025-01-09T00:48:37.436Z"
   },
   {
    "duration": 186,
    "start_time": "2025-01-09T00:48:37.454Z"
   },
   {
    "duration": 503,
    "start_time": "2025-01-09T00:48:37.642Z"
   },
   {
    "duration": 87,
    "start_time": "2025-01-09T00:48:38.149Z"
   },
   {
    "duration": 1001,
    "start_time": "2025-01-09T00:48:38.238Z"
   },
   {
    "duration": 3201,
    "start_time": "2025-01-09T00:48:39.242Z"
   },
   {
    "duration": 4192,
    "start_time": "2025-01-09T00:48:42.449Z"
   },
   {
    "duration": 2841,
    "start_time": "2025-01-09T00:48:46.646Z"
   },
   {
    "duration": 5432,
    "start_time": "2025-01-09T00:51:55.066Z"
   },
   {
    "duration": 910,
    "start_time": "2025-01-09T00:58:08.201Z"
   },
   {
    "duration": 29,
    "start_time": "2025-01-09T00:58:09.113Z"
   },
   {
    "duration": 11,
    "start_time": "2025-01-09T00:58:09.144Z"
   },
   {
    "duration": 76,
    "start_time": "2025-01-09T00:58:09.156Z"
   },
   {
    "duration": 16,
    "start_time": "2025-01-09T00:58:09.235Z"
   },
   {
    "duration": 284,
    "start_time": "2025-01-09T00:58:09.253Z"
   },
   {
    "duration": 406,
    "start_time": "2025-01-09T00:58:09.539Z"
   },
   {
    "duration": 6,
    "start_time": "2025-01-09T00:58:09.947Z"
   },
   {
    "duration": 997,
    "start_time": "2025-01-09T00:58:10.034Z"
   },
   {
    "duration": 3105,
    "start_time": "2025-01-09T00:58:11.035Z"
   },
   {
    "duration": 4095,
    "start_time": "2025-01-09T00:58:14.143Z"
   },
   {
    "duration": 2834,
    "start_time": "2025-01-09T00:58:18.239Z"
   },
   {
    "duration": 5433,
    "start_time": "2025-01-09T00:58:21.075Z"
   },
   {
    "duration": 49235,
    "start_time": "2025-01-09T00:58:26.510Z"
   },
   {
    "duration": 132315,
    "start_time": "2025-01-09T01:02:00.928Z"
   },
   {
    "duration": 102210,
    "start_time": "2025-01-09T01:11:50.152Z"
   },
   {
    "duration": 941,
    "start_time": "2025-01-09T01:55:59.745Z"
   },
   {
    "duration": 27,
    "start_time": "2025-01-09T01:56:00.688Z"
   },
   {
    "duration": 19,
    "start_time": "2025-01-09T01:56:00.717Z"
   },
   {
    "duration": 60,
    "start_time": "2025-01-09T01:56:00.739Z"
   },
   {
    "duration": 14,
    "start_time": "2025-01-09T01:56:00.800Z"
   },
   {
    "duration": 216,
    "start_time": "2025-01-09T01:56:00.818Z"
   },
   {
    "duration": 494,
    "start_time": "2025-01-09T01:56:01.039Z"
   },
   {
    "duration": 10,
    "start_time": "2025-01-09T01:56:01.538Z"
   },
   {
    "duration": 1005,
    "start_time": "2025-01-09T01:56:01.551Z"
   },
   {
    "duration": 3118,
    "start_time": "2025-01-09T01:56:02.632Z"
   },
   {
    "duration": 4089,
    "start_time": "2025-01-09T01:56:05.753Z"
   },
   {
    "duration": 2823,
    "start_time": "2025-01-09T01:56:09.843Z"
   },
   {
    "duration": 5357,
    "start_time": "2025-01-09T01:56:12.668Z"
   },
   {
    "duration": 49458,
    "start_time": "2025-01-09T01:56:18.030Z"
   },
   {
    "duration": 132805,
    "start_time": "2025-01-09T01:57:07.490Z"
   },
   {
    "duration": 101981,
    "start_time": "2025-01-09T01:59:20.297Z"
   },
   {
    "duration": 3144,
    "start_time": "2025-01-10T17:32:36.407Z"
   },
   {
    "duration": 37,
    "start_time": "2025-01-10T17:32:39.554Z"
   },
   {
    "duration": 13,
    "start_time": "2025-01-10T17:32:39.593Z"
   },
   {
    "duration": 18,
    "start_time": "2025-01-10T17:32:39.608Z"
   },
   {
    "duration": 15,
    "start_time": "2025-01-10T17:32:39.629Z"
   },
   {
    "duration": 187,
    "start_time": "2025-01-10T17:32:39.646Z"
   },
   {
    "duration": 513,
    "start_time": "2025-01-10T17:32:39.835Z"
   },
   {
    "duration": 80,
    "start_time": "2025-01-10T17:32:40.350Z"
   },
   {
    "duration": 808,
    "start_time": "2025-01-10T17:32:40.431Z"
   },
   {
    "duration": 3484,
    "start_time": "2025-01-10T17:32:41.241Z"
   },
   {
    "duration": 5097,
    "start_time": "2025-01-10T17:32:44.727Z"
   },
   {
    "duration": 2885,
    "start_time": "2025-01-10T17:32:49.826Z"
   },
   {
    "duration": 5554,
    "start_time": "2025-01-10T17:32:52.713Z"
   },
   {
    "duration": 51219,
    "start_time": "2025-01-10T17:32:58.272Z"
   },
   {
    "duration": 29,
    "start_time": "2025-01-10T18:22:57.590Z"
   },
   {
    "duration": 304,
    "start_time": "2025-01-10T18:24:02.941Z"
   },
   {
    "duration": 14,
    "start_time": "2025-01-10T18:31:56.462Z"
   },
   {
    "duration": 16,
    "start_time": "2025-01-10T18:32:20.053Z"
   },
   {
    "duration": 6,
    "start_time": "2025-01-10T18:34:19.631Z"
   },
   {
    "duration": 993,
    "start_time": "2025-01-10T18:34:51.351Z"
   },
   {
    "duration": 463,
    "start_time": "2025-01-10T18:36:20.662Z"
   },
   {
    "duration": 997,
    "start_time": "2025-01-10T18:37:21.048Z"
   },
   {
    "duration": 1185,
    "start_time": "2025-01-10T18:39:14.753Z"
   },
   {
    "duration": 1217,
    "start_time": "2025-01-10T18:40:35.610Z"
   },
   {
    "duration": 11019,
    "start_time": "2025-01-10T18:41:00.707Z"
   },
   {
    "duration": 606,
    "start_time": "2025-01-10T18:41:15.831Z"
   },
   {
    "duration": 19,
    "start_time": "2025-01-10T18:47:21.997Z"
   },
   {
    "duration": 27,
    "start_time": "2025-01-10T18:47:55.868Z"
   },
   {
    "duration": 27,
    "start_time": "2025-01-10T18:55:36.482Z"
   },
   {
    "duration": 4,
    "start_time": "2025-01-10T18:56:17.377Z"
   },
   {
    "duration": 4,
    "start_time": "2025-01-10T18:58:19.187Z"
   },
   {
    "duration": 7,
    "start_time": "2025-01-10T18:59:22.240Z"
   },
   {
    "duration": 4,
    "start_time": "2025-01-10T18:59:53.246Z"
   },
   {
    "duration": 10,
    "start_time": "2025-01-10T19:00:29.433Z"
   },
   {
    "duration": 9,
    "start_time": "2025-01-10T19:00:47.713Z"
   },
   {
    "duration": 9,
    "start_time": "2025-01-10T19:01:34.852Z"
   },
   {
    "duration": 10,
    "start_time": "2025-01-10T19:02:39.407Z"
   },
   {
    "duration": 9,
    "start_time": "2025-01-10T19:04:27.177Z"
   },
   {
    "duration": 5,
    "start_time": "2025-01-10T19:04:39.952Z"
   },
   {
    "duration": 7,
    "start_time": "2025-01-10T19:04:50.853Z"
   },
   {
    "duration": 4,
    "start_time": "2025-01-10T19:05:09.341Z"
   },
   {
    "duration": 4,
    "start_time": "2025-01-10T19:06:39.741Z"
   },
   {
    "duration": 7,
    "start_time": "2025-01-10T19:06:52.263Z"
   },
   {
    "duration": 4,
    "start_time": "2025-01-10T19:10:03.032Z"
   },
   {
    "duration": 5,
    "start_time": "2025-01-10T19:10:43.354Z"
   },
   {
    "duration": 18,
    "start_time": "2025-01-10T19:10:58.425Z"
   },
   {
    "duration": 192,
    "start_time": "2025-01-10T19:11:57.232Z"
   },
   {
    "duration": 35,
    "start_time": "2025-01-10T19:22:35.138Z"
   },
   {
    "duration": 5,
    "start_time": "2025-01-10T19:38:27.785Z"
   },
   {
    "duration": 3,
    "start_time": "2025-01-10T19:38:44.969Z"
   },
   {
    "duration": 3,
    "start_time": "2025-01-10T19:38:57.255Z"
   },
   {
    "duration": 6,
    "start_time": "2025-01-10T19:39:11.992Z"
   },
   {
    "duration": 4,
    "start_time": "2025-01-10T19:39:20.515Z"
   },
   {
    "duration": 5,
    "start_time": "2025-01-10T19:39:38.910Z"
   },
   {
    "duration": 4,
    "start_time": "2025-01-10T19:40:00.281Z"
   },
   {
    "duration": 62,
    "start_time": "2025-01-10T19:47:01.384Z"
   },
   {
    "duration": 2578,
    "start_time": "2025-01-12T17:36:40.443Z"
   },
   {
    "duration": 36,
    "start_time": "2025-01-12T17:36:43.024Z"
   },
   {
    "duration": 10,
    "start_time": "2025-01-12T17:36:43.063Z"
   },
   {
    "duration": 6,
    "start_time": "2025-01-12T17:36:43.075Z"
   },
   {
    "duration": 15,
    "start_time": "2025-01-12T17:36:43.082Z"
   },
   {
    "duration": 24,
    "start_time": "2025-01-12T17:36:43.099Z"
   },
   {
    "duration": 166,
    "start_time": "2025-01-12T17:36:43.127Z"
   },
   {
    "duration": 5,
    "start_time": "2025-01-12T17:36:43.298Z"
   },
   {
    "duration": 6,
    "start_time": "2025-01-12T17:36:43.307Z"
   },
   {
    "duration": 1,
    "start_time": "2025-01-12T17:36:43.315Z"
   },
   {
    "duration": 0,
    "start_time": "2025-01-12T17:36:43.386Z"
   },
   {
    "duration": 0,
    "start_time": "2025-01-12T17:36:43.388Z"
   },
   {
    "duration": 0,
    "start_time": "2025-01-12T17:36:43.389Z"
   },
   {
    "duration": 0,
    "start_time": "2025-01-12T17:36:43.390Z"
   },
   {
    "duration": 0,
    "start_time": "2025-01-12T17:36:43.393Z"
   },
   {
    "duration": 54,
    "start_time": "2025-01-12T18:03:44.497Z"
   },
   {
    "duration": 886,
    "start_time": "2025-01-12T18:03:58.186Z"
   },
   {
    "duration": 31,
    "start_time": "2025-01-12T18:03:59.074Z"
   },
   {
    "duration": 10,
    "start_time": "2025-01-12T18:03:59.107Z"
   },
   {
    "duration": 52,
    "start_time": "2025-01-12T18:03:59.118Z"
   },
   {
    "duration": 13,
    "start_time": "2025-01-12T18:03:59.186Z"
   },
   {
    "duration": 26,
    "start_time": "2025-01-12T18:03:59.201Z"
   },
   {
    "duration": 160,
    "start_time": "2025-01-12T18:03:59.229Z"
   },
   {
    "duration": 4,
    "start_time": "2025-01-12T18:03:59.391Z"
   },
   {
    "duration": 129,
    "start_time": "2025-01-12T18:03:59.397Z"
   },
   {
    "duration": 64,
    "start_time": "2025-01-12T18:03:59.528Z"
   },
   {
    "duration": 212,
    "start_time": "2025-01-12T18:03:59.594Z"
   },
   {
    "duration": 492,
    "start_time": "2025-01-12T18:03:59.808Z"
   },
   {
    "duration": 119,
    "start_time": "2025-01-12T18:04:00.302Z"
   },
   {
    "duration": 64,
    "start_time": "2025-01-12T18:04:00.424Z"
   },
   {
    "duration": 0,
    "start_time": "2025-01-12T18:04:00.490Z"
   },
   {
    "duration": 921,
    "start_time": "2025-01-12T18:09:11.310Z"
   },
   {
    "duration": 25,
    "start_time": "2025-01-12T18:09:12.233Z"
   },
   {
    "duration": 11,
    "start_time": "2025-01-12T18:09:12.260Z"
   },
   {
    "duration": 54,
    "start_time": "2025-01-12T18:09:12.286Z"
   },
   {
    "duration": 14,
    "start_time": "2025-01-12T18:09:12.342Z"
   },
   {
    "duration": 39,
    "start_time": "2025-01-12T18:09:12.358Z"
   },
   {
    "duration": 105,
    "start_time": "2025-01-12T18:09:12.399Z"
   },
   {
    "duration": 181,
    "start_time": "2025-01-12T18:09:12.506Z"
   },
   {
    "duration": 20,
    "start_time": "2025-01-12T18:09:12.689Z"
   },
   {
    "duration": 204,
    "start_time": "2025-01-12T18:09:12.786Z"
   },
   {
    "duration": 502,
    "start_time": "2025-01-12T18:09:12.992Z"
   },
   {
    "duration": 124,
    "start_time": "2025-01-12T18:09:13.496Z"
   },
   {
    "duration": 5,
    "start_time": "2025-01-12T18:09:13.622Z"
   },
   {
    "duration": 0,
    "start_time": "2025-01-12T18:09:13.629Z"
   },
   {
    "duration": 5,
    "start_time": "2025-01-12T18:10:49.028Z"
   },
   {
    "duration": 223,
    "start_time": "2025-01-12T18:11:10.667Z"
   },
   {
    "duration": 12,
    "start_time": "2025-01-12T18:15:48.056Z"
   },
   {
    "duration": 130,
    "start_time": "2025-01-12T18:16:02.472Z"
   },
   {
    "duration": 125,
    "start_time": "2025-01-12T18:27:33.164Z"
   },
   {
    "duration": 620,
    "start_time": "2025-01-12T18:29:20.937Z"
   },
   {
    "duration": 20,
    "start_time": "2025-01-12T18:34:57.185Z"
   },
   {
    "duration": 646,
    "start_time": "2025-01-12T18:35:38.264Z"
   },
   {
    "duration": 878,
    "start_time": "2025-01-12T18:35:50.418Z"
   },
   {
    "duration": 25,
    "start_time": "2025-01-12T18:35:51.299Z"
   },
   {
    "duration": 10,
    "start_time": "2025-01-12T18:35:51.326Z"
   },
   {
    "duration": 66,
    "start_time": "2025-01-12T18:35:51.338Z"
   },
   {
    "duration": 14,
    "start_time": "2025-01-12T18:35:51.407Z"
   },
   {
    "duration": 25,
    "start_time": "2025-01-12T18:35:51.422Z"
   },
   {
    "duration": 144,
    "start_time": "2025-01-12T18:35:51.448Z"
   },
   {
    "duration": 125,
    "start_time": "2025-01-12T18:35:51.594Z"
   },
   {
    "duration": 83,
    "start_time": "2025-01-12T18:35:51.721Z"
   },
   {
    "duration": 583,
    "start_time": "2025-01-12T18:35:51.806Z"
   },
   {
    "duration": 121,
    "start_time": "2025-01-12T18:35:52.393Z"
   },
   {
    "duration": 803,
    "start_time": "2025-01-12T18:35:52.519Z"
   },
   {
    "duration": 8,
    "start_time": "2025-01-12T19:33:16.392Z"
   },
   {
    "duration": 232,
    "start_time": "2025-01-12T19:33:24.755Z"
   },
   {
    "duration": 18,
    "start_time": "2025-01-12T19:56:27.334Z"
   },
   {
    "duration": 22,
    "start_time": "2025-01-12T19:57:17.978Z"
   },
   {
    "duration": 4,
    "start_time": "2025-01-12T19:58:01.072Z"
   },
   {
    "duration": 44,
    "start_time": "2025-01-12T19:58:09.042Z"
   },
   {
    "duration": 55,
    "start_time": "2025-01-12T19:59:28.329Z"
   },
   {
    "duration": 73,
    "start_time": "2025-01-12T20:02:08.979Z"
   },
   {
    "duration": 26,
    "start_time": "2025-01-12T20:04:22.193Z"
   },
   {
    "duration": 168,
    "start_time": "2025-01-12T20:15:12.533Z"
   },
   {
    "duration": 13,
    "start_time": "2025-01-12T20:17:40.083Z"
   },
   {
    "duration": 71,
    "start_time": "2025-01-12T20:24:02.500Z"
   },
   {
    "duration": 860,
    "start_time": "2025-01-12T20:24:11.449Z"
   },
   {
    "duration": 25,
    "start_time": "2025-01-12T20:24:12.311Z"
   },
   {
    "duration": 10,
    "start_time": "2025-01-12T20:24:12.338Z"
   },
   {
    "duration": 66,
    "start_time": "2025-01-12T20:24:12.350Z"
   },
   {
    "duration": 15,
    "start_time": "2025-01-12T20:24:12.417Z"
   },
   {
    "duration": 53,
    "start_time": "2025-01-12T20:24:12.434Z"
   },
   {
    "duration": 109,
    "start_time": "2025-01-12T20:24:12.489Z"
   },
   {
    "duration": 122,
    "start_time": "2025-01-12T20:24:12.600Z"
   },
   {
    "duration": 85,
    "start_time": "2025-01-12T20:24:12.724Z"
   },
   {
    "duration": 326,
    "start_time": "2025-01-12T20:24:12.889Z"
   },
   {
    "duration": 0,
    "start_time": "2025-01-12T20:24:13.217Z"
   },
   {
    "duration": 0,
    "start_time": "2025-01-12T20:24:13.219Z"
   },
   {
    "duration": 0,
    "start_time": "2025-01-12T20:24:13.220Z"
   },
   {
    "duration": 0,
    "start_time": "2025-01-12T20:24:13.221Z"
   },
   {
    "duration": 0,
    "start_time": "2025-01-12T20:24:13.222Z"
   },
   {
    "duration": 0,
    "start_time": "2025-01-12T20:24:13.223Z"
   },
   {
    "duration": 4,
    "start_time": "2025-01-12T20:25:08.190Z"
   },
   {
    "duration": 963,
    "start_time": "2025-01-12T20:25:41.935Z"
   },
   {
    "duration": 898,
    "start_time": "2025-01-12T20:26:02.674Z"
   },
   {
    "duration": 27,
    "start_time": "2025-01-12T20:26:03.574Z"
   },
   {
    "duration": 10,
    "start_time": "2025-01-12T20:26:03.603Z"
   },
   {
    "duration": 54,
    "start_time": "2025-01-12T20:26:03.616Z"
   },
   {
    "duration": 17,
    "start_time": "2025-01-12T20:26:03.686Z"
   },
   {
    "duration": 26,
    "start_time": "2025-01-12T20:26:03.705Z"
   },
   {
    "duration": 157,
    "start_time": "2025-01-12T20:26:03.732Z"
   },
   {
    "duration": 122,
    "start_time": "2025-01-12T20:26:03.891Z"
   },
   {
    "duration": 86,
    "start_time": "2025-01-12T20:26:04.015Z"
   },
   {
    "duration": 1096,
    "start_time": "2025-01-12T20:26:04.104Z"
   },
   {
    "duration": 125,
    "start_time": "2025-01-12T20:26:05.202Z"
   },
   {
    "duration": 306,
    "start_time": "2025-01-12T20:26:05.387Z"
   },
   {
    "duration": 0,
    "start_time": "2025-01-12T20:26:05.695Z"
   },
   {
    "duration": 0,
    "start_time": "2025-01-12T20:26:05.696Z"
   },
   {
    "duration": 0,
    "start_time": "2025-01-12T20:26:05.697Z"
   },
   {
    "duration": 0,
    "start_time": "2025-01-12T20:26:05.698Z"
   },
   {
    "duration": 5,
    "start_time": "2025-01-12T20:27:35.017Z"
   },
   {
    "duration": 711,
    "start_time": "2025-01-12T20:27:46.007Z"
   },
   {
    "duration": 44,
    "start_time": "2025-01-12T20:27:53.890Z"
   },
   {
    "duration": 861,
    "start_time": "2025-01-12T20:28:09.561Z"
   },
   {
    "duration": 26,
    "start_time": "2025-01-12T20:28:10.424Z"
   },
   {
    "duration": 11,
    "start_time": "2025-01-12T20:28:10.452Z"
   },
   {
    "duration": 69,
    "start_time": "2025-01-12T20:28:10.466Z"
   },
   {
    "duration": 14,
    "start_time": "2025-01-12T20:28:10.537Z"
   },
   {
    "duration": 41,
    "start_time": "2025-01-12T20:28:10.553Z"
   },
   {
    "duration": 108,
    "start_time": "2025-01-12T20:28:10.595Z"
   },
   {
    "duration": 183,
    "start_time": "2025-01-12T20:28:10.704Z"
   },
   {
    "duration": 100,
    "start_time": "2025-01-12T20:28:10.889Z"
   },
   {
    "duration": 1097,
    "start_time": "2025-01-12T20:28:10.992Z"
   },
   {
    "duration": 120,
    "start_time": "2025-01-12T20:28:12.095Z"
   },
   {
    "duration": 841,
    "start_time": "2025-01-12T20:28:12.220Z"
   },
   {
    "duration": 50,
    "start_time": "2025-01-12T20:28:13.063Z"
   },
   {
    "duration": 88,
    "start_time": "2025-01-12T20:28:13.115Z"
   },
   {
    "duration": 25,
    "start_time": "2025-01-12T20:28:13.204Z"
   },
   {
    "duration": 13,
    "start_time": "2025-01-12T20:28:13.231Z"
   },
   {
    "duration": 951,
    "start_time": "2025-01-14T01:00:17.732Z"
   },
   {
    "duration": 30,
    "start_time": "2025-01-14T01:00:18.685Z"
   },
   {
    "duration": 11,
    "start_time": "2025-01-14T01:00:18.716Z"
   },
   {
    "duration": 54,
    "start_time": "2025-01-14T01:00:18.729Z"
   },
   {
    "duration": 31,
    "start_time": "2025-01-14T01:00:18.785Z"
   },
   {
    "duration": 27,
    "start_time": "2025-01-14T01:00:18.817Z"
   },
   {
    "duration": 167,
    "start_time": "2025-01-14T01:00:18.845Z"
   },
   {
    "duration": 129,
    "start_time": "2025-01-14T01:00:19.014Z"
   },
   {
    "duration": 72,
    "start_time": "2025-01-14T01:00:19.145Z"
   },
   {
    "duration": 1097,
    "start_time": "2025-01-14T01:00:19.221Z"
   },
   {
    "duration": 120,
    "start_time": "2025-01-14T01:00:20.323Z"
   },
   {
    "duration": 848,
    "start_time": "2025-01-14T01:00:20.448Z"
   },
   {
    "duration": 51,
    "start_time": "2025-01-14T01:00:21.298Z"
   },
   {
    "duration": 80,
    "start_time": "2025-01-14T01:00:21.350Z"
   },
   {
    "duration": 24,
    "start_time": "2025-01-14T01:00:21.432Z"
   },
   {
    "duration": 12,
    "start_time": "2025-01-14T01:00:21.458Z"
   },
   {
    "duration": 138,
    "start_time": "2025-01-14T01:07:35.189Z"
   },
   {
    "duration": 913,
    "start_time": "2025-01-14T02:18:22.875Z"
   },
   {
    "duration": 26,
    "start_time": "2025-01-14T02:18:23.790Z"
   },
   {
    "duration": 11,
    "start_time": "2025-01-14T02:18:23.817Z"
   },
   {
    "duration": 56,
    "start_time": "2025-01-14T02:18:23.830Z"
   },
   {
    "duration": 32,
    "start_time": "2025-01-14T02:18:23.888Z"
   },
   {
    "duration": 27,
    "start_time": "2025-01-14T02:18:23.923Z"
   },
   {
    "duration": 163,
    "start_time": "2025-01-14T02:18:23.951Z"
   },
   {
    "duration": 128,
    "start_time": "2025-01-14T02:18:24.115Z"
   },
   {
    "duration": 76,
    "start_time": "2025-01-14T02:18:24.245Z"
   },
   {
    "duration": 1106,
    "start_time": "2025-01-14T02:18:24.323Z"
   },
   {
    "duration": 181,
    "start_time": "2025-01-14T02:18:25.431Z"
   },
   {
    "duration": 791,
    "start_time": "2025-01-14T02:18:25.615Z"
   },
   {
    "duration": 44,
    "start_time": "2025-01-14T02:18:26.408Z"
   },
   {
    "duration": 83,
    "start_time": "2025-01-14T02:18:26.453Z"
   },
   {
    "duration": 25,
    "start_time": "2025-01-14T02:18:26.537Z"
   },
   {
    "duration": 12,
    "start_time": "2025-01-14T02:18:26.563Z"
   },
   {
    "duration": 226,
    "start_time": "2025-01-14T02:21:36.491Z"
   },
   {
    "duration": 3965,
    "start_time": "2025-01-14T02:23:39.656Z"
   },
   {
    "duration": 4156,
    "start_time": "2025-01-14T02:24:04.759Z"
   },
   {
    "duration": 2889,
    "start_time": "2025-01-14T02:25:32.091Z"
   },
   {
    "duration": 888,
    "start_time": "2025-01-14T02:29:29.488Z"
   },
   {
    "duration": 26,
    "start_time": "2025-01-14T02:29:30.378Z"
   },
   {
    "duration": 14,
    "start_time": "2025-01-14T02:29:30.406Z"
   },
   {
    "duration": 52,
    "start_time": "2025-01-14T02:29:30.422Z"
   },
   {
    "duration": 13,
    "start_time": "2025-01-14T02:29:30.477Z"
   },
   {
    "duration": 23,
    "start_time": "2025-01-14T02:29:30.511Z"
   },
   {
    "duration": 97,
    "start_time": "2025-01-14T02:29:30.535Z"
   },
   {
    "duration": 188,
    "start_time": "2025-01-14T02:29:30.634Z"
   },
   {
    "duration": 93,
    "start_time": "2025-01-14T02:29:30.824Z"
   },
   {
    "duration": 3915,
    "start_time": "2025-01-14T02:29:30.919Z"
   },
   {
    "duration": 1080,
    "start_time": "2025-01-14T02:29:34.839Z"
   },
   {
    "duration": 125,
    "start_time": "2025-01-14T02:29:35.921Z"
   },
   {
    "duration": 866,
    "start_time": "2025-01-14T02:29:36.050Z"
   },
   {
    "duration": 206,
    "start_time": "2025-01-14T02:29:36.920Z"
   },
   {
    "duration": 43,
    "start_time": "2025-01-14T02:29:37.128Z"
   },
   {
    "duration": 88,
    "start_time": "2025-01-14T02:29:37.173Z"
   },
   {
    "duration": 29,
    "start_time": "2025-01-14T02:29:37.263Z"
   },
   {
    "duration": 23,
    "start_time": "2025-01-14T02:29:37.295Z"
   },
   {
    "duration": 2882,
    "start_time": "2025-01-14T02:29:37.320Z"
   },
   {
    "duration": 267,
    "start_time": "2025-01-14T02:36:10.920Z"
   },
   {
    "duration": 915,
    "start_time": "2025-01-14T02:37:35.422Z"
   },
   {
    "duration": 25,
    "start_time": "2025-01-14T02:37:36.339Z"
   },
   {
    "duration": 10,
    "start_time": "2025-01-14T02:37:36.367Z"
   },
   {
    "duration": 66,
    "start_time": "2025-01-14T02:37:36.379Z"
   },
   {
    "duration": 14,
    "start_time": "2025-01-14T02:37:36.447Z"
   },
   {
    "duration": 55,
    "start_time": "2025-01-14T02:37:36.462Z"
   },
   {
    "duration": 102,
    "start_time": "2025-01-14T02:37:36.519Z"
   },
   {
    "duration": 131,
    "start_time": "2025-01-14T02:37:36.623Z"
   },
   {
    "duration": 72,
    "start_time": "2025-01-14T02:37:36.756Z"
   },
   {
    "duration": 4197,
    "start_time": "2025-01-14T02:37:36.832Z"
   },
   {
    "duration": 2092,
    "start_time": "2025-01-14T02:37:41.031Z"
   },
   {
    "duration": 120,
    "start_time": "2025-01-14T02:37:43.128Z"
   },
   {
    "duration": 801,
    "start_time": "2025-01-14T02:37:43.311Z"
   },
   {
    "duration": 20281,
    "start_time": "2025-01-14T02:37:44.114Z"
   },
   {
    "duration": 49,
    "start_time": "2025-01-14T02:38:04.396Z"
   },
   {
    "duration": 80,
    "start_time": "2025-01-14T02:38:04.447Z"
   },
   {
    "duration": 26,
    "start_time": "2025-01-14T02:38:04.529Z"
   },
   {
    "duration": 13,
    "start_time": "2025-01-14T02:38:04.556Z"
   },
   {
    "duration": 2919,
    "start_time": "2025-01-14T02:38:04.571Z"
   },
   {
    "duration": 869,
    "start_time": "2025-01-14T02:39:49.978Z"
   },
   {
    "duration": 26,
    "start_time": "2025-01-14T02:39:50.849Z"
   },
   {
    "duration": 11,
    "start_time": "2025-01-14T02:39:50.876Z"
   },
   {
    "duration": 67,
    "start_time": "2025-01-14T02:39:50.889Z"
   },
   {
    "duration": 13,
    "start_time": "2025-01-14T02:39:50.959Z"
   },
   {
    "duration": 40,
    "start_time": "2025-01-14T02:39:50.973Z"
   },
   {
    "duration": 106,
    "start_time": "2025-01-14T02:39:51.015Z"
   },
   {
    "duration": 130,
    "start_time": "2025-01-14T02:39:51.123Z"
   },
   {
    "duration": 75,
    "start_time": "2025-01-14T02:39:51.255Z"
   },
   {
    "duration": 3988,
    "start_time": "2025-01-14T02:39:51.333Z"
   },
   {
    "duration": 2103,
    "start_time": "2025-01-14T02:39:55.323Z"
   },
   {
    "duration": 123,
    "start_time": "2025-01-14T02:39:57.428Z"
   },
   {
    "duration": 803,
    "start_time": "2025-01-14T02:39:57.611Z"
   },
   {
    "duration": 102045,
    "start_time": "2025-01-14T02:39:58.417Z"
   },
   {
    "duration": 52,
    "start_time": "2025-01-14T02:41:40.464Z"
   },
   {
    "duration": 71,
    "start_time": "2025-01-14T02:41:40.518Z"
   },
   {
    "duration": 42,
    "start_time": "2025-01-14T02:41:40.590Z"
   },
   {
    "duration": 12,
    "start_time": "2025-01-14T02:41:40.634Z"
   },
   {
    "duration": 2958,
    "start_time": "2025-01-14T02:41:40.648Z"
   },
   {
    "duration": 882,
    "start_time": "2025-01-14T02:46:09.979Z"
   },
   {
    "duration": 25,
    "start_time": "2025-01-14T02:46:10.863Z"
   },
   {
    "duration": 10,
    "start_time": "2025-01-14T02:46:10.891Z"
   },
   {
    "duration": 55,
    "start_time": "2025-01-14T02:46:10.912Z"
   },
   {
    "duration": 14,
    "start_time": "2025-01-14T02:46:10.968Z"
   },
   {
    "duration": 39,
    "start_time": "2025-01-14T02:46:10.985Z"
   },
   {
    "duration": 121,
    "start_time": "2025-01-14T02:46:11.028Z"
   },
   {
    "duration": 77,
    "start_time": "2025-01-14T02:46:11.151Z"
   },
   {
    "duration": 3992,
    "start_time": "2025-01-14T02:46:11.229Z"
   },
   {
    "duration": 2015,
    "start_time": "2025-01-14T02:46:15.224Z"
   },
   {
    "duration": 741,
    "start_time": "2025-01-14T02:46:17.311Z"
   },
   {
    "duration": 101465,
    "start_time": "2025-01-14T02:46:18.054Z"
   },
   {
    "duration": 43,
    "start_time": "2025-01-14T02:47:59.521Z"
   },
   {
    "duration": 11,
    "start_time": "2025-01-14T02:47:59.566Z"
   },
   {
    "duration": 2881,
    "start_time": "2025-01-14T02:47:59.579Z"
   },
   {
    "duration": 2699,
    "start_time": "2025-01-14T22:03:47.660Z"
   },
   {
    "duration": 37,
    "start_time": "2025-01-14T22:03:50.361Z"
   },
   {
    "duration": 11,
    "start_time": "2025-01-14T22:03:50.400Z"
   },
   {
    "duration": 6,
    "start_time": "2025-01-14T22:03:50.413Z"
   },
   {
    "duration": 14,
    "start_time": "2025-01-14T22:03:50.421Z"
   },
   {
    "duration": 40,
    "start_time": "2025-01-14T22:03:50.437Z"
   },
   {
    "duration": 137,
    "start_time": "2025-01-14T22:03:50.479Z"
   },
   {
    "duration": 74,
    "start_time": "2025-01-14T22:03:50.618Z"
   },
   {
    "duration": 4230,
    "start_time": "2025-01-14T22:03:50.769Z"
   },
   {
    "duration": 2205,
    "start_time": "2025-01-14T22:03:55.075Z"
   },
   {
    "duration": 837,
    "start_time": "2025-01-14T22:03:57.284Z"
   },
   {
    "duration": 105093,
    "start_time": "2025-01-14T22:03:58.123Z"
   },
   {
    "duration": 54,
    "start_time": "2025-01-14T22:05:43.218Z"
   },
   {
    "duration": 14,
    "start_time": "2025-01-14T22:05:43.275Z"
   },
   {
    "duration": 2951,
    "start_time": "2025-01-14T22:05:43.291Z"
   },
   {
    "duration": 305,
    "start_time": "2025-01-14T22:21:16.052Z"
   },
   {
    "duration": 699,
    "start_time": "2025-01-14T22:24:48.074Z"
   },
   {
    "duration": 704,
    "start_time": "2025-01-14T22:30:37.327Z"
   },
   {
    "duration": 858,
    "start_time": "2025-01-14T22:31:42.348Z"
   },
   {
    "duration": 863,
    "start_time": "2025-01-14T22:32:12.790Z"
   },
   {
    "duration": 856,
    "start_time": "2025-01-14T22:49:01.372Z"
   },
   {
    "duration": 959,
    "start_time": "2025-01-15T02:13:16.837Z"
   },
   {
    "duration": 42,
    "start_time": "2025-01-15T02:13:17.798Z"
   },
   {
    "duration": 14,
    "start_time": "2025-01-15T02:13:17.842Z"
   },
   {
    "duration": 58,
    "start_time": "2025-01-15T02:13:17.861Z"
   },
   {
    "duration": 13,
    "start_time": "2025-01-15T02:13:17.921Z"
   },
   {
    "duration": 52,
    "start_time": "2025-01-15T02:13:17.936Z"
   },
   {
    "duration": 128,
    "start_time": "2025-01-15T02:13:17.990Z"
   },
   {
    "duration": 78,
    "start_time": "2025-01-15T02:13:18.130Z"
   },
   {
    "duration": 2606,
    "start_time": "2025-01-15T21:55:05.067Z"
   },
   {
    "duration": 35,
    "start_time": "2025-01-15T21:55:07.675Z"
   },
   {
    "duration": 11,
    "start_time": "2025-01-15T21:55:07.713Z"
   },
   {
    "duration": 7,
    "start_time": "2025-01-15T21:55:07.727Z"
   },
   {
    "duration": 14,
    "start_time": "2025-01-15T21:55:07.735Z"
   },
   {
    "duration": 25,
    "start_time": "2025-01-15T21:55:07.751Z"
   },
   {
    "duration": 134,
    "start_time": "2025-01-15T21:55:07.824Z"
   },
   {
    "duration": 76,
    "start_time": "2025-01-15T21:55:07.960Z"
   },
   {
    "duration": 4095,
    "start_time": "2025-01-15T21:55:08.039Z"
   },
   {
    "duration": 2101,
    "start_time": "2025-01-15T21:55:12.137Z"
   },
   {
    "duration": 821,
    "start_time": "2025-01-15T21:55:14.240Z"
   },
   {
    "duration": 102348,
    "start_time": "2025-01-15T21:55:15.063Z"
   },
   {
    "duration": 48,
    "start_time": "2025-01-15T21:56:57.413Z"
   },
   {
    "duration": 11,
    "start_time": "2025-01-15T21:56:57.463Z"
   },
   {
    "duration": 2910,
    "start_time": "2025-01-15T21:56:57.476Z"
   },
   {
    "duration": 857,
    "start_time": "2025-01-15T21:57:00.388Z"
   },
   {
    "duration": 155,
    "start_time": "2025-01-15T22:05:11.748Z"
   },
   {
    "duration": 167,
    "start_time": "2025-01-15T22:10:28.265Z"
   },
   {
    "duration": 7,
    "start_time": "2025-01-15T22:25:50.898Z"
   },
   {
    "duration": 270,
    "start_time": "2025-01-15T22:26:32.041Z"
   },
   {
    "duration": 98,
    "start_time": "2025-01-15T22:26:40.018Z"
   },
   {
    "duration": 69,
    "start_time": "2025-01-15T22:29:48.250Z"
   },
   {
    "duration": 388,
    "start_time": "2025-01-15T22:30:17.484Z"
   },
   {
    "duration": 106,
    "start_time": "2025-01-15T22:30:57.427Z"
   },
   {
    "duration": 959,
    "start_time": "2025-01-15T22:31:45.776Z"
   },
   {
    "duration": 26,
    "start_time": "2025-01-15T22:31:46.737Z"
   },
   {
    "duration": 10,
    "start_time": "2025-01-15T22:31:46.765Z"
   },
   {
    "duration": 6,
    "start_time": "2025-01-15T22:31:46.777Z"
   },
   {
    "duration": 13,
    "start_time": "2025-01-15T22:31:46.785Z"
   },
   {
    "duration": 230,
    "start_time": "2025-01-15T22:31:46.800Z"
   },
   {
    "duration": 132,
    "start_time": "2025-01-15T22:31:47.033Z"
   },
   {
    "duration": 72,
    "start_time": "2025-01-15T22:31:47.167Z"
   },
   {
    "duration": 4190,
    "start_time": "2025-01-15T22:31:47.241Z"
   },
   {
    "duration": 2114,
    "start_time": "2025-01-15T22:31:51.434Z"
   },
   {
    "duration": 806,
    "start_time": "2025-01-15T22:31:53.629Z"
   },
   {
    "duration": 102431,
    "start_time": "2025-01-15T22:31:54.437Z"
   },
   {
    "duration": 161,
    "start_time": "2025-01-15T22:33:36.869Z"
   },
   {
    "duration": 13,
    "start_time": "2025-01-15T22:33:37.032Z"
   },
   {
    "duration": 2916,
    "start_time": "2025-01-15T22:33:37.047Z"
   },
   {
    "duration": 866,
    "start_time": "2025-01-15T22:33:39.964Z"
   },
   {
    "duration": 2703,
    "start_time": "2025-01-15T22:38:09.146Z"
   },
   {
    "duration": 2712,
    "start_time": "2025-01-15T22:38:41.183Z"
   },
   {
    "duration": 972,
    "start_time": "2025-01-15T22:39:26.483Z"
   },
   {
    "duration": 31,
    "start_time": "2025-01-15T22:39:27.458Z"
   },
   {
    "duration": 9,
    "start_time": "2025-01-15T22:39:27.491Z"
   },
   {
    "duration": 8,
    "start_time": "2025-01-15T22:39:27.501Z"
   },
   {
    "duration": 15,
    "start_time": "2025-01-15T22:39:27.528Z"
   },
   {
    "duration": 198,
    "start_time": "2025-01-15T22:39:27.545Z"
   },
   {
    "duration": 123,
    "start_time": "2025-01-15T22:39:27.745Z"
   },
   {
    "duration": 79,
    "start_time": "2025-01-15T22:39:27.869Z"
   },
   {
    "duration": 4184,
    "start_time": "2025-01-15T22:39:27.949Z"
   },
   {
    "duration": 2799,
    "start_time": "2025-01-15T22:39:32.135Z"
   },
   {
    "duration": 728,
    "start_time": "2025-01-15T22:39:34.937Z"
   },
   {
    "duration": 102696,
    "start_time": "2025-01-15T22:39:35.666Z"
   },
   {
    "duration": 160,
    "start_time": "2025-01-15T22:41:18.364Z"
   },
   {
    "duration": 14,
    "start_time": "2025-01-15T22:41:18.527Z"
   },
   {
    "duration": 2922,
    "start_time": "2025-01-15T22:41:18.543Z"
   },
   {
    "duration": 879,
    "start_time": "2025-01-15T22:41:21.466Z"
   },
   {
    "duration": 116,
    "start_time": "2025-01-15T22:47:07.971Z"
   },
   {
    "duration": 158,
    "start_time": "2025-01-16T03:47:17.186Z"
   },
   {
    "duration": 2817,
    "start_time": "2025-01-16T03:47:29.708Z"
   },
   {
    "duration": 36,
    "start_time": "2025-01-16T03:47:32.528Z"
   },
   {
    "duration": 10,
    "start_time": "2025-01-16T03:47:32.565Z"
   },
   {
    "duration": 6,
    "start_time": "2025-01-16T03:47:32.578Z"
   },
   {
    "duration": 24,
    "start_time": "2025-01-16T03:47:32.586Z"
   },
   {
    "duration": 217,
    "start_time": "2025-01-16T03:47:32.612Z"
   },
   {
    "duration": 106,
    "start_time": "2025-01-16T03:47:32.908Z"
   },
   {
    "duration": 96,
    "start_time": "2025-01-16T03:47:33.016Z"
   },
   {
    "duration": 3999,
    "start_time": "2025-01-16T03:47:33.114Z"
   },
   {
    "duration": 2800,
    "start_time": "2025-01-16T03:47:37.119Z"
   },
   {
    "duration": 731,
    "start_time": "2025-01-16T03:47:39.921Z"
   },
   {
    "duration": 102022,
    "start_time": "2025-01-16T03:47:40.654Z"
   },
   {
    "duration": 166,
    "start_time": "2025-01-16T03:49:22.677Z"
   },
   {
    "duration": 14,
    "start_time": "2025-01-16T03:49:22.845Z"
   },
   {
    "duration": 2919,
    "start_time": "2025-01-16T03:49:22.860Z"
   },
   {
    "duration": 883,
    "start_time": "2025-01-16T03:49:25.781Z"
   },
   {
    "duration": 107,
    "start_time": "2025-01-16T03:49:26.666Z"
   },
   {
    "duration": 374,
    "start_time": "2025-01-16T03:53:11.833Z"
   },
   {
    "duration": 82,
    "start_time": "2025-01-16T03:53:50.899Z"
   },
   {
    "duration": 21,
    "start_time": "2025-01-16T03:57:44.934Z"
   },
   {
    "duration": 23,
    "start_time": "2025-01-16T04:00:15.659Z"
   },
   {
    "duration": 1024,
    "start_time": "2025-01-16T04:00:28.500Z"
   },
   {
    "duration": 26,
    "start_time": "2025-01-16T04:00:29.527Z"
   },
   {
    "duration": 10,
    "start_time": "2025-01-16T04:00:29.555Z"
   },
   {
    "duration": 409,
    "start_time": "2025-01-16T04:00:29.566Z"
   },
   {
    "duration": 0,
    "start_time": "2025-01-16T04:00:29.977Z"
   },
   {
    "duration": 0,
    "start_time": "2025-01-16T04:00:29.979Z"
   },
   {
    "duration": 0,
    "start_time": "2025-01-16T04:00:29.980Z"
   },
   {
    "duration": 0,
    "start_time": "2025-01-16T04:00:29.982Z"
   },
   {
    "duration": 0,
    "start_time": "2025-01-16T04:00:29.983Z"
   },
   {
    "duration": 0,
    "start_time": "2025-01-16T04:00:29.984Z"
   },
   {
    "duration": 0,
    "start_time": "2025-01-16T04:00:30.005Z"
   },
   {
    "duration": 0,
    "start_time": "2025-01-16T04:00:30.007Z"
   },
   {
    "duration": 0,
    "start_time": "2025-01-16T04:00:30.008Z"
   },
   {
    "duration": 0,
    "start_time": "2025-01-16T04:00:30.009Z"
   },
   {
    "duration": 0,
    "start_time": "2025-01-16T04:00:30.010Z"
   },
   {
    "duration": 0,
    "start_time": "2025-01-16T04:00:30.012Z"
   },
   {
    "duration": 0,
    "start_time": "2025-01-16T04:00:30.013Z"
   },
   {
    "duration": 0,
    "start_time": "2025-01-16T04:00:30.015Z"
   },
   {
    "duration": 3,
    "start_time": "2025-01-16T04:01:12.584Z"
   },
   {
    "duration": 23,
    "start_time": "2025-01-16T04:01:12.590Z"
   },
   {
    "duration": 13,
    "start_time": "2025-01-16T04:01:12.615Z"
   },
   {
    "duration": 83,
    "start_time": "2025-01-16T04:01:17.282Z"
   },
   {
    "duration": 2952,
    "start_time": "2025-01-17T22:11:40.770Z"
   },
   {
    "duration": 40,
    "start_time": "2025-01-17T22:11:43.724Z"
   },
   {
    "duration": 12,
    "start_time": "2025-01-17T22:11:43.767Z"
   },
   {
    "duration": 6,
    "start_time": "2025-01-17T22:14:48.723Z"
   },
   {
    "duration": 4,
    "start_time": "2025-01-17T22:15:14.482Z"
   },
   {
    "duration": 33,
    "start_time": "2025-01-17T22:15:14.488Z"
   },
   {
    "duration": 11,
    "start_time": "2025-01-17T22:15:14.522Z"
   },
   {
    "duration": 6,
    "start_time": "2025-01-17T22:15:18.005Z"
   },
   {
    "duration": 4,
    "start_time": "2025-01-17T22:15:50.841Z"
   },
   {
    "duration": 6,
    "start_time": "2025-01-17T22:18:24.182Z"
   },
   {
    "duration": 318,
    "start_time": "2025-01-17T22:24:40.693Z"
   },
   {
    "duration": 272,
    "start_time": "2025-01-17T22:25:36.240Z"
   },
   {
    "duration": 1070,
    "start_time": "2025-01-17T22:26:18.609Z"
   },
   {
    "duration": 32,
    "start_time": "2025-01-17T22:26:19.681Z"
   },
   {
    "duration": 10,
    "start_time": "2025-01-17T22:26:19.715Z"
   },
   {
    "duration": 5,
    "start_time": "2025-01-17T22:26:19.728Z"
   },
   {
    "duration": 7,
    "start_time": "2025-01-17T22:26:19.735Z"
   },
   {
    "duration": 336,
    "start_time": "2025-01-17T22:26:19.744Z"
   },
   {
    "duration": 29,
    "start_time": "2025-01-17T22:26:20.082Z"
   },
   {
    "duration": 201,
    "start_time": "2025-01-17T22:26:20.113Z"
   },
   {
    "duration": 129,
    "start_time": "2025-01-17T22:26:20.316Z"
   },
   {
    "duration": 156,
    "start_time": "2025-01-17T22:26:20.449Z"
   },
   {
    "duration": 4405,
    "start_time": "2025-01-17T22:26:20.607Z"
   },
   {
    "duration": 2802,
    "start_time": "2025-01-17T22:26:25.014Z"
   },
   {
    "duration": 725,
    "start_time": "2025-01-17T22:26:27.818Z"
   },
   {
    "duration": 101882,
    "start_time": "2025-01-17T22:26:28.544Z"
   },
   {
    "duration": 169,
    "start_time": "2025-01-17T22:28:10.427Z"
   },
   {
    "duration": 19,
    "start_time": "2025-01-17T22:28:10.598Z"
   },
   {
    "duration": 2934,
    "start_time": "2025-01-17T22:28:10.618Z"
   },
   {
    "duration": 870,
    "start_time": "2025-01-17T22:28:13.554Z"
   },
   {
    "duration": 106,
    "start_time": "2025-01-17T22:28:14.426Z"
   },
   {
    "duration": 2664,
    "start_time": "2025-01-18T19:17:01.148Z"
   },
   {
    "duration": 37,
    "start_time": "2025-01-18T19:17:03.814Z"
   },
   {
    "duration": 10,
    "start_time": "2025-01-18T19:17:03.852Z"
   },
   {
    "duration": 9,
    "start_time": "2025-01-18T19:17:03.864Z"
   },
   {
    "duration": 6,
    "start_time": "2025-01-18T19:17:03.874Z"
   },
   {
    "duration": 302,
    "start_time": "2025-01-18T19:17:03.882Z"
   },
   {
    "duration": 13,
    "start_time": "2025-01-18T19:17:04.186Z"
   },
   {
    "duration": 182,
    "start_time": "2025-01-18T19:17:04.200Z"
   },
   {
    "duration": 130,
    "start_time": "2025-01-18T19:17:04.383Z"
   },
   {
    "duration": 77,
    "start_time": "2025-01-18T19:17:04.516Z"
   },
   {
    "duration": 4205,
    "start_time": "2025-01-18T19:17:04.672Z"
   },
   {
    "duration": 2829,
    "start_time": "2025-01-18T19:17:08.883Z"
   },
   {
    "duration": 717,
    "start_time": "2025-01-18T19:17:11.713Z"
   },
   {
    "duration": 101932,
    "start_time": "2025-01-18T19:17:12.432Z"
   },
   {
    "duration": 156,
    "start_time": "2025-01-18T19:18:54.369Z"
   },
   {
    "duration": 14,
    "start_time": "2025-01-18T19:18:54.527Z"
   },
   {
    "duration": 2918,
    "start_time": "2025-01-18T19:18:54.543Z"
   },
   {
    "duration": 868,
    "start_time": "2025-01-18T19:18:57.463Z"
   },
   {
    "duration": 112,
    "start_time": "2025-01-18T19:18:58.334Z"
   }
  ],
  "kernelspec": {
   "display_name": "base",
   "language": "python",
   "name": "python3"
  },
  "language_info": {
   "codemirror_mode": {
    "name": "ipython",
    "version": 3
   },
   "file_extension": ".py",
   "mimetype": "text/x-python",
   "name": "python",
   "nbconvert_exporter": "python",
   "pygments_lexer": "ipython3",
   "version": "3.12.7"
  },
  "toc": {
   "base_numbering": 1,
   "nav_menu": {},
   "number_sections": true,
   "sideBar": true,
   "skip_h1_title": true,
   "title_cell": "Table of Contents",
   "title_sidebar": "Contents",
   "toc_cell": false,
   "toc_position": {
    "height": "calc(100% - 180px)",
    "left": "10px",
    "top": "150px",
    "width": "237.6px"
   },
   "toc_section_display": true,
   "toc_window_display": true
  }
 },
 "nbformat": 4,
 "nbformat_minor": 2
}
