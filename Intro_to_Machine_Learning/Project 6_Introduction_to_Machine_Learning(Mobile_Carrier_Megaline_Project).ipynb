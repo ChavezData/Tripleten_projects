{
 "cells": [
  {
   "cell_type": "markdown",
   "metadata": {},
   "source": [
    "# Mobile Carrier Megaline Project"
   ]
  },
  {
   "cell_type": "markdown",
   "metadata": {},
   "source": [
    "Introduction: This analysis is to develop a model that would analyze subscribers' behavior and use tuning models to determine which model will pass the threshold on the test set."
   ]
  },
  {
   "cell_type": "code",
   "execution_count": 1,
   "metadata": {},
   "outputs": [],
   "source": [
    "import numpy as np\n",
    "import pandas as pd\n",
    "from sklearn.tree import DecisionTreeClassifier\n",
    "from sklearn.ensemble import RandomForestClassifier\n",
    "from sklearn.linear_model import LogisticRegression\n",
    "from sklearn.model_selection import train_test_split\n",
    "from sklearn.tree import plot_tree\n",
    "import matplotlib.pyplot as plt\n",
    "from sklearn.metrics import accuracy_score"
   ]
  },
  {
   "cell_type": "markdown",
   "metadata": {},
   "source": [
    "imported libraries in the above cell."
   ]
  },
  {
   "cell_type": "code",
   "execution_count": 2,
   "metadata": {},
   "outputs": [
    {
     "data": {
      "text/html": [
       "<div>\n",
       "<style scoped>\n",
       "    .dataframe tbody tr th:only-of-type {\n",
       "        vertical-align: middle;\n",
       "    }\n",
       "\n",
       "    .dataframe tbody tr th {\n",
       "        vertical-align: top;\n",
       "    }\n",
       "\n",
       "    .dataframe thead th {\n",
       "        text-align: right;\n",
       "    }\n",
       "</style>\n",
       "<table border=\"1\" class=\"dataframe\">\n",
       "  <thead>\n",
       "    <tr style=\"text-align: right;\">\n",
       "      <th></th>\n",
       "      <th>calls</th>\n",
       "      <th>minutes</th>\n",
       "      <th>messages</th>\n",
       "      <th>mb_used</th>\n",
       "      <th>is_ultra</th>\n",
       "    </tr>\n",
       "  </thead>\n",
       "  <tbody>\n",
       "    <tr>\n",
       "      <th>0</th>\n",
       "      <td>40.0</td>\n",
       "      <td>311.90</td>\n",
       "      <td>83.0</td>\n",
       "      <td>19915.42</td>\n",
       "      <td>0</td>\n",
       "    </tr>\n",
       "    <tr>\n",
       "      <th>1</th>\n",
       "      <td>85.0</td>\n",
       "      <td>516.75</td>\n",
       "      <td>56.0</td>\n",
       "      <td>22696.96</td>\n",
       "      <td>0</td>\n",
       "    </tr>\n",
       "    <tr>\n",
       "      <th>2</th>\n",
       "      <td>77.0</td>\n",
       "      <td>467.66</td>\n",
       "      <td>86.0</td>\n",
       "      <td>21060.45</td>\n",
       "      <td>0</td>\n",
       "    </tr>\n",
       "    <tr>\n",
       "      <th>3</th>\n",
       "      <td>106.0</td>\n",
       "      <td>745.53</td>\n",
       "      <td>81.0</td>\n",
       "      <td>8437.39</td>\n",
       "      <td>1</td>\n",
       "    </tr>\n",
       "    <tr>\n",
       "      <th>4</th>\n",
       "      <td>66.0</td>\n",
       "      <td>418.74</td>\n",
       "      <td>1.0</td>\n",
       "      <td>14502.75</td>\n",
       "      <td>0</td>\n",
       "    </tr>\n",
       "  </tbody>\n",
       "</table>\n",
       "</div>"
      ],
      "text/plain": [
       "   calls  minutes  messages   mb_used  is_ultra\n",
       "0   40.0   311.90      83.0  19915.42         0\n",
       "1   85.0   516.75      56.0  22696.96         0\n",
       "2   77.0   467.66      86.0  21060.45         0\n",
       "3  106.0   745.53      81.0   8437.39         1\n",
       "4   66.0   418.74       1.0  14502.75         0"
      ]
     },
     "execution_count": 2,
     "metadata": {},
     "output_type": "execute_result"
    }
   ],
   "source": [
    "try:\n",
    "    df_users = pd.read_csv(\"/datasets/users_behavior.csv\")\n",
    "except FileNotFoundError:\n",
    "    df_users = pd.read_csv('https://practicum-content.s3.us-west-1.amazonaws.com/datasets/users_behavior.csv')\n",
    "\n",
    "df_users.head()"
   ]
  },
  {
   "cell_type": "markdown",
   "metadata": {},
   "source": [
    "downloaded dataset."
   ]
  },
  {
   "cell_type": "code",
   "execution_count": 3,
   "metadata": {},
   "outputs": [],
   "source": [
    "df_train, df_valid_and_test = train_test_split(df_users, test_size=0.25, random_state=12345)\n",
    "\n",
    "df_valid, df_test = train_test_split(df_valid_and_test, test_size=0.5, random_state=12345)\n",
    "\n",
    "features_train = df_train.drop(['is_ultra'], axis=1)\n",
    "target_train = df_train['is_ultra']\n",
    "features_valid = df_valid.drop(['is_ultra'], axis=1)\n",
    "target_valid = df_valid['is_ultra']\n",
    "features_test = df_test.drop(['is_ultra'], axis=1)\n",
    "target_test = df_test['is_ultra']"
   ]
  },
  {
   "cell_type": "markdown",
   "metadata": {},
   "source": [
    "splitted the source data in the cell above."
   ]
  },
  {
   "cell_type": "code",
   "execution_count": 4,
   "metadata": {
    "scrolled": true
   },
   "outputs": [
    {
     "name": "stdout",
     "output_type": "stream",
     "text": [
      "max_depth = 1 : 0.763681592039801\n",
      "max_depth = 2 : 0.7935323383084577\n",
      "max_depth = 3 : 0.7985074626865671\n",
      "max_depth = 4 : 0.7985074626865671\n",
      "max_depth = 5 : 0.7960199004975125\n"
     ]
    }
   ],
   "source": [
    "for depth in range(1, 6):\n",
    "    model = DecisionTreeClassifier(random_state=35, max_depth=depth)\n",
    "    model.fit(features_train, target_train)\n",
    "    predictions_valid = model.predict(features_valid)\n",
    "    print('max_depth =', depth, ': ', end='')\n",
    "    print(accuracy_score(target_valid, predictions_valid))"
   ]
  },
  {
   "cell_type": "markdown",
   "metadata": {},
   "source": [
    "ran the first tuning model with decision tree classifier and shows accuracy of 80%."
   ]
  },
  {
   "cell_type": "code",
   "execution_count": 5,
   "metadata": {
    "scrolled": true
   },
   "outputs": [
    {
     "name": "stdout",
     "output_type": "stream",
     "text": [
      "Number of estimators: 10 Score: 0.7960199004975125\n",
      "Number of estimators: 20 Score: 0.7910447761194029\n",
      "Number of estimators: 30 Score: 0.7935323383084577\n",
      "Number of estimators: 40 Score: 0.7960199004975125\n",
      "Number of estimators: 50 Score: 0.8009950248756219\n",
      "Number of estimators: 60 Score: 0.8084577114427861\n",
      "Number of estimators: 70 Score: 0.8009950248756219\n",
      "Number of estimators: 80 Score: 0.7985074626865671\n",
      "Number of estimators: 90 Score: 0.7985074626865671\n",
      "Number of estimators: 100 Score: 0.8009950248756219\n",
      "Accuracy of the best model on the validation set (n_estimators = 60): 0.8084577114427861\n"
     ]
    },
    {
     "data": {
      "text/plain": [
       "RandomForestClassifier(n_estimators=60, random_state=12345)"
      ]
     },
     "execution_count": 5,
     "metadata": {},
     "output_type": "execute_result"
    }
   ],
   "source": [
    "best_score = 0\n",
    "best_est = 0\n",
    "for est in range(10, 101, 10): \n",
    "    model = RandomForestClassifier(random_state=12345, n_estimators=est) \n",
    "    model.fit(features_train, target_train)\n",
    "    score = model.score(features_valid, target_valid) \n",
    "    print(\"Number of estimators:\", est, \"Score:\", score)\n",
    "    if score > best_score:\n",
    "        best_score = score\n",
    "        best_est = est\n",
    "\n",
    "print(\"Accuracy of the best model on the validation set (n_estimators = {}): {}\".format(best_est, best_score))\n",
    "\n",
    "final_model = RandomForestClassifier(random_state=12345, n_estimators=best_est) \n",
    "final_model.fit(features_train, target_train)"
   ]
  },
  {
   "cell_type": "markdown",
   "metadata": {},
   "source": [
    "the second tuning model will be the random forest classifier and shows accuracy of 81%."
   ]
  },
  {
   "cell_type": "code",
   "execution_count": 6,
   "metadata": {},
   "outputs": [
    {
     "name": "stdout",
     "output_type": "stream",
     "text": [
      "Accuracy of the logistic regression model on the training set: 0.74149377593361\n",
      "Accuracy of the logistic regression model on the validation set: 0.7661691542288557\n"
     ]
    }
   ],
   "source": [
    "model = LogisticRegression(\n",
    "    random_state=54321, solver=\"liblinear\"\n",
    ")\n",
    "model.fit(features_train, target_train)\n",
    "score_train = model.score(features_train, target_train)\n",
    "score_valid = model.score(features_valid, target_valid)\n",
    "\n",
    "print(\n",
    "    \"Accuracy of the logistic regression model on the training set:\",\n",
    "    score_train,\n",
    ")\n",
    "print(\n",
    "    \"Accuracy of the logistic regression model on the validation set:\",\n",
    "    score_valid,\n",
    ")"
   ]
  },
  {
   "cell_type": "markdown",
   "metadata": {},
   "source": [
    "the third is logistic regression model with an accuracy of 77%."
   ]
  },
  {
   "cell_type": "markdown",
   "metadata": {},
   "source": [
    "Below is the model Random Forest with an estimator of 90 to show the high accuracy of train, validation, and test set."
   ]
  },
  {
   "cell_type": "code",
   "execution_count": 7,
   "metadata": {},
   "outputs": [
    {
     "name": "stdout",
     "output_type": "stream",
     "text": [
      "Accuracy of the best model on the train set: 1.0\n",
      "Accuracy of the best model on the validation set: 0.7985074626865671\n",
      "Accuracy of the best model on the test set: 0.7885572139303483\n"
     ]
    }
   ],
   "source": [
    "model = RandomForestClassifier(n_estimators=80, random_state=12345)\n",
    "model.fit(features_train, target_train)\n",
    "\n",
    "print('Accuracy of the best model on the train set:', model.score(features_train, target_train))\n",
    "print('Accuracy of the best model on the validation set:', model.score(features_valid, target_valid))\n",
    "print('Accuracy of the best model on the test set:', model.score(features_test, target_test))"
   ]
  },
  {
   "cell_type": "markdown",
   "metadata": {},
   "source": [
    "CONCLUSION:\n",
    "\n",
    "The Random Forest has the highest accuracy of 81% which is passing the threshold of the recommended 75%.\n",
    "\n",
    "The runner up is the Decision Tree at 80% accuracy which has also passed the threshold of the recommended 75%.\n",
    "\n",
    "At third is the Logistic Regression at 76% which is just barely above the recommended threshold.\n"
   ]
  }
 ],
 "metadata": {
  "ExecuteTimeLog": [
   {
    "duration": 802,
    "start_time": "2025-01-02T01:40:28.698Z"
   },
   {
    "duration": 15,
    "start_time": "2025-01-02T01:41:31.909Z"
   },
   {
    "duration": 17,
    "start_time": "2025-01-02T01:45:24.285Z"
   },
   {
    "duration": 15,
    "start_time": "2025-01-02T01:50:28.871Z"
   },
   {
    "duration": 891,
    "start_time": "2025-01-02T02:13:56.832Z"
   },
   {
    "duration": 18,
    "start_time": "2025-01-02T02:17:16.432Z"
   },
   {
    "duration": 16,
    "start_time": "2025-01-02T02:26:14.349Z"
   },
   {
    "duration": 92,
    "start_time": "2025-01-02T02:26:48.787Z"
   },
   {
    "duration": 37,
    "start_time": "2025-01-02T02:29:55.377Z"
   },
   {
    "duration": 16,
    "start_time": "2025-01-02T02:32:03.438Z"
   },
   {
    "duration": 166,
    "start_time": "2025-01-03T00:12:16.413Z"
   },
   {
    "duration": 13,
    "start_time": "2025-01-03T00:14:01.561Z"
   },
   {
    "duration": 1059,
    "start_time": "2025-01-03T00:14:11.215Z"
   },
   {
    "duration": 0,
    "start_time": "2025-01-03T00:14:12.277Z"
   },
   {
    "duration": 0,
    "start_time": "2025-01-03T00:14:12.278Z"
   },
   {
    "duration": 14,
    "start_time": "2025-01-03T00:14:34.283Z"
   },
   {
    "duration": 1984,
    "start_time": "2025-01-03T00:14:48.446Z"
   },
   {
    "duration": 888,
    "start_time": "2025-01-03T00:14:56.989Z"
   },
   {
    "duration": 22,
    "start_time": "2025-01-03T00:14:57.880Z"
   },
   {
    "duration": 310,
    "start_time": "2025-01-03T00:14:57.904Z"
   },
   {
    "duration": 12,
    "start_time": "2025-01-03T00:17:48.070Z"
   },
   {
    "duration": 18,
    "start_time": "2025-01-03T00:30:59.406Z"
   },
   {
    "duration": 18,
    "start_time": "2025-01-03T00:31:51.131Z"
   },
   {
    "duration": 9,
    "start_time": "2025-01-03T00:32:09.133Z"
   },
   {
    "duration": 158,
    "start_time": "2025-01-03T22:08:02.891Z"
   },
   {
    "duration": 2672,
    "start_time": "2025-01-03T22:08:11.632Z"
   },
   {
    "duration": 19,
    "start_time": "2025-01-03T22:08:14.306Z"
   },
   {
    "duration": 339,
    "start_time": "2025-01-03T22:08:14.327Z"
   },
   {
    "duration": 26,
    "start_time": "2025-01-03T22:09:19.862Z"
   },
   {
    "duration": 3,
    "start_time": "2025-01-03T22:11:33.264Z"
   },
   {
    "duration": 39,
    "start_time": "2025-01-03T22:11:37.743Z"
   },
   {
    "duration": 280,
    "start_time": "2025-01-03T22:18:54.175Z"
   },
   {
    "duration": 14,
    "start_time": "2025-01-03T22:25:42.112Z"
   },
   {
    "duration": 936,
    "start_time": "2025-01-03T22:28:12.011Z"
   },
   {
    "duration": 15,
    "start_time": "2025-01-03T22:28:12.950Z"
   },
   {
    "duration": 6,
    "start_time": "2025-01-03T22:28:12.967Z"
   },
   {
    "duration": 45,
    "start_time": "2025-01-03T22:28:12.975Z"
   },
   {
    "duration": 287,
    "start_time": "2025-01-03T22:28:13.021Z"
   },
   {
    "duration": 17,
    "start_time": "2025-01-03T22:28:13.310Z"
   },
   {
    "duration": 13,
    "start_time": "2025-01-03T22:28:49.248Z"
   },
   {
    "duration": 273,
    "start_time": "2025-01-03T22:29:00.299Z"
   },
   {
    "duration": 942,
    "start_time": "2025-01-03T22:29:50.420Z"
   },
   {
    "duration": 16,
    "start_time": "2025-01-03T22:29:51.365Z"
   },
   {
    "duration": 6,
    "start_time": "2025-01-03T22:29:51.382Z"
   },
   {
    "duration": 46,
    "start_time": "2025-01-03T22:29:51.389Z"
   },
   {
    "duration": 296,
    "start_time": "2025-01-03T22:29:51.437Z"
   },
   {
    "duration": 11,
    "start_time": "2025-01-03T22:29:51.736Z"
   },
   {
    "duration": 345,
    "start_time": "2025-01-03T22:31:20.261Z"
   },
   {
    "duration": 12,
    "start_time": "2025-01-03T22:31:31.500Z"
   },
   {
    "duration": 393,
    "start_time": "2025-01-03T22:36:33.858Z"
   },
   {
    "duration": 928,
    "start_time": "2025-01-03T22:38:00.521Z"
   },
   {
    "duration": 15,
    "start_time": "2025-01-03T22:38:01.451Z"
   },
   {
    "duration": 303,
    "start_time": "2025-01-03T22:38:01.467Z"
   },
   {
    "duration": 0,
    "start_time": "2025-01-03T22:38:01.772Z"
   },
   {
    "duration": 0,
    "start_time": "2025-01-03T22:38:01.773Z"
   },
   {
    "duration": 0,
    "start_time": "2025-01-03T22:38:01.775Z"
   },
   {
    "duration": 0,
    "start_time": "2025-01-03T22:38:01.776Z"
   },
   {
    "duration": 900,
    "start_time": "2025-01-03T22:38:52.964Z"
   },
   {
    "duration": 14,
    "start_time": "2025-01-03T22:38:53.867Z"
   },
   {
    "duration": 288,
    "start_time": "2025-01-03T22:38:53.883Z"
   },
   {
    "duration": 0,
    "start_time": "2025-01-03T22:38:54.173Z"
   },
   {
    "duration": 0,
    "start_time": "2025-01-03T22:38:54.175Z"
   },
   {
    "duration": 0,
    "start_time": "2025-01-03T22:38:54.176Z"
   },
   {
    "duration": 0,
    "start_time": "2025-01-03T22:38:54.177Z"
   },
   {
    "duration": 867,
    "start_time": "2025-01-03T22:39:42.293Z"
   },
   {
    "duration": 16,
    "start_time": "2025-01-03T22:39:43.162Z"
   },
   {
    "duration": 286,
    "start_time": "2025-01-03T22:39:43.180Z"
   },
   {
    "duration": 0,
    "start_time": "2025-01-03T22:39:43.468Z"
   },
   {
    "duration": 0,
    "start_time": "2025-01-03T22:39:43.469Z"
   },
   {
    "duration": 0,
    "start_time": "2025-01-03T22:39:43.471Z"
   },
   {
    "duration": 0,
    "start_time": "2025-01-03T22:39:43.472Z"
   },
   {
    "duration": 8,
    "start_time": "2025-01-03T22:41:43.495Z"
   },
   {
    "duration": 858,
    "start_time": "2025-01-03T22:41:54.089Z"
   },
   {
    "duration": 15,
    "start_time": "2025-01-03T22:41:54.949Z"
   },
   {
    "duration": 293,
    "start_time": "2025-01-03T22:41:54.966Z"
   },
   {
    "duration": 0,
    "start_time": "2025-01-03T22:41:55.261Z"
   },
   {
    "duration": 0,
    "start_time": "2025-01-03T22:41:55.262Z"
   },
   {
    "duration": 0,
    "start_time": "2025-01-03T22:41:55.263Z"
   },
   {
    "duration": 0,
    "start_time": "2025-01-03T22:41:55.264Z"
   },
   {
    "duration": 7,
    "start_time": "2025-01-03T22:42:24.705Z"
   },
   {
    "duration": 922,
    "start_time": "2025-01-03T22:42:38.743Z"
   },
   {
    "duration": 15,
    "start_time": "2025-01-03T22:42:39.667Z"
   },
   {
    "duration": 7,
    "start_time": "2025-01-03T22:42:39.684Z"
   },
   {
    "duration": 46,
    "start_time": "2025-01-03T22:42:39.692Z"
   },
   {
    "duration": 286,
    "start_time": "2025-01-03T22:42:39.740Z"
   },
   {
    "duration": 13,
    "start_time": "2025-01-03T22:42:40.028Z"
   },
   {
    "duration": 516,
    "start_time": "2025-01-03T22:42:40.042Z"
   },
   {
    "duration": 20,
    "start_time": "2025-01-03T22:54:05.938Z"
   },
   {
    "duration": 33,
    "start_time": "2025-01-03T22:54:15.777Z"
   },
   {
    "duration": 890,
    "start_time": "2025-01-03T23:41:59.169Z"
   },
   {
    "duration": 16,
    "start_time": "2025-01-03T23:42:00.061Z"
   },
   {
    "duration": 7,
    "start_time": "2025-01-03T23:42:00.079Z"
   },
   {
    "duration": 41,
    "start_time": "2025-01-03T23:42:00.088Z"
   },
   {
    "duration": 279,
    "start_time": "2025-01-03T23:42:00.130Z"
   },
   {
    "duration": 10,
    "start_time": "2025-01-03T23:42:00.411Z"
   },
   {
    "duration": 471,
    "start_time": "2025-01-03T23:42:00.422Z"
   },
   {
    "duration": 2758,
    "start_time": "2025-01-04T00:34:28.236Z"
   },
   {
    "duration": 23,
    "start_time": "2025-01-04T00:34:30.997Z"
   },
   {
    "duration": 8,
    "start_time": "2025-01-04T00:34:31.021Z"
   },
   {
    "duration": 41,
    "start_time": "2025-01-04T00:34:31.031Z"
   },
   {
    "duration": 280,
    "start_time": "2025-01-04T00:34:31.074Z"
   },
   {
    "duration": 10,
    "start_time": "2025-01-04T00:34:31.356Z"
   },
   {
    "duration": 509,
    "start_time": "2025-01-04T00:34:31.367Z"
   },
   {
    "duration": 7,
    "start_time": "2025-01-04T01:09:43.555Z"
   },
   {
    "duration": 50,
    "start_time": "2025-01-04T01:11:08.767Z"
   },
   {
    "duration": 437,
    "start_time": "2025-01-04T01:12:26.164Z"
   },
   {
    "duration": 27,
    "start_time": "2025-01-04T01:15:49.665Z"
   },
   {
    "duration": 3384,
    "start_time": "2025-01-04T01:16:46.131Z"
   },
   {
    "duration": 376,
    "start_time": "2025-01-04T01:17:20.120Z"
   },
   {
    "duration": 3671,
    "start_time": "2025-01-04T01:17:38.188Z"
   },
   {
    "duration": 376,
    "start_time": "2025-01-04T01:18:07.256Z"
   },
   {
    "duration": 370,
    "start_time": "2025-01-04T01:18:31.414Z"
   },
   {
    "duration": 870,
    "start_time": "2025-01-04T01:18:39.410Z"
   },
   {
    "duration": 16,
    "start_time": "2025-01-04T01:18:40.282Z"
   },
   {
    "duration": 6,
    "start_time": "2025-01-04T01:18:40.300Z"
   },
   {
    "duration": 43,
    "start_time": "2025-01-04T01:18:40.308Z"
   },
   {
    "duration": 3672,
    "start_time": "2025-01-04T01:18:40.352Z"
   },
   {
    "duration": 19,
    "start_time": "2025-01-04T01:18:44.025Z"
   },
   {
    "duration": 453,
    "start_time": "2025-01-04T01:18:44.046Z"
   },
   {
    "duration": 365,
    "start_time": "2025-01-04T01:20:41.267Z"
   },
   {
    "duration": 895,
    "start_time": "2025-01-04T01:23:01.605Z"
   },
   {
    "duration": 16,
    "start_time": "2025-01-04T01:23:02.502Z"
   },
   {
    "duration": 7,
    "start_time": "2025-01-04T01:23:02.520Z"
   },
   {
    "duration": 36,
    "start_time": "2025-01-04T01:23:02.529Z"
   },
   {
    "duration": 3716,
    "start_time": "2025-01-04T01:23:02.567Z"
   },
   {
    "duration": 17,
    "start_time": "2025-01-04T01:23:06.286Z"
   },
   {
    "duration": 485,
    "start_time": "2025-01-04T01:23:06.305Z"
   },
   {
    "duration": 2719,
    "start_time": "2025-01-07T01:33:52.378Z"
   },
   {
    "duration": 23,
    "start_time": "2025-01-07T01:33:55.098Z"
   },
   {
    "duration": 6,
    "start_time": "2025-01-07T01:33:55.123Z"
   },
   {
    "duration": 295,
    "start_time": "2025-01-07T01:33:55.831Z"
   },
   {
    "duration": 946,
    "start_time": "2025-01-07T01:34:12.617Z"
   },
   {
    "duration": 15,
    "start_time": "2025-01-07T01:34:13.565Z"
   },
   {
    "duration": 4,
    "start_time": "2025-01-07T01:34:13.582Z"
   },
   {
    "duration": 0,
    "start_time": "2025-01-07T01:34:13.588Z"
   },
   {
    "duration": 0,
    "start_time": "2025-01-07T01:34:13.589Z"
   },
   {
    "duration": 0,
    "start_time": "2025-01-07T01:34:13.591Z"
   },
   {
    "duration": 0,
    "start_time": "2025-01-07T01:34:13.592Z"
   },
   {
    "duration": 922,
    "start_time": "2025-01-07T01:34:44.910Z"
   },
   {
    "duration": 14,
    "start_time": "2025-01-07T01:34:45.834Z"
   },
   {
    "duration": 8,
    "start_time": "2025-01-07T01:34:45.850Z"
   },
   {
    "duration": 28,
    "start_time": "2025-01-07T01:34:45.860Z"
   },
   {
    "duration": 3729,
    "start_time": "2025-01-07T01:34:45.889Z"
   },
   {
    "duration": 14,
    "start_time": "2025-01-07T01:34:49.620Z"
   },
   {
    "duration": 498,
    "start_time": "2025-01-07T01:34:49.636Z"
   },
   {
    "duration": 2398,
    "start_time": "2025-01-07T01:40:31.954Z"
   },
   {
    "duration": 2395,
    "start_time": "2025-01-07T01:46:26.271Z"
   },
   {
    "duration": 321,
    "start_time": "2025-01-07T02:08:21.465Z"
   },
   {
    "duration": 58,
    "start_time": "2025-01-07T02:08:37.504Z"
   },
   {
    "duration": 28,
    "start_time": "2025-01-07T02:09:41.007Z"
   },
   {
    "duration": 61,
    "start_time": "2025-01-07T02:11:04.258Z"
   },
   {
    "duration": 57,
    "start_time": "2025-01-07T02:11:13.274Z"
   },
   {
    "duration": 927,
    "start_time": "2025-01-07T02:11:32.736Z"
   },
   {
    "duration": 16,
    "start_time": "2025-01-07T02:11:33.665Z"
   },
   {
    "duration": 7,
    "start_time": "2025-01-07T02:11:33.682Z"
   },
   {
    "duration": 298,
    "start_time": "2025-01-07T02:11:33.690Z"
   },
   {
    "duration": 0,
    "start_time": "2025-01-07T02:11:33.990Z"
   },
   {
    "duration": 0,
    "start_time": "2025-01-07T02:11:33.991Z"
   },
   {
    "duration": 0,
    "start_time": "2025-01-07T02:11:33.992Z"
   },
   {
    "duration": 27,
    "start_time": "2025-01-07T02:14:04.954Z"
   },
   {
    "duration": 922,
    "start_time": "2025-01-07T02:15:45.335Z"
   },
   {
    "duration": 16,
    "start_time": "2025-01-07T02:15:46.259Z"
   },
   {
    "duration": 8,
    "start_time": "2025-01-07T02:15:46.276Z"
   },
   {
    "duration": 40,
    "start_time": "2025-01-07T02:15:46.286Z"
   },
   {
    "duration": 323,
    "start_time": "2025-01-07T02:15:46.328Z"
   },
   {
    "duration": 0,
    "start_time": "2025-01-07T02:15:46.653Z"
   },
   {
    "duration": 0,
    "start_time": "2025-01-07T02:15:46.654Z"
   },
   {
    "duration": 57,
    "start_time": "2025-01-07T02:18:04.179Z"
   },
   {
    "duration": 15,
    "start_time": "2025-01-07T02:18:18.006Z"
   },
   {
    "duration": 10,
    "start_time": "2025-01-07T02:18:34.663Z"
   },
   {
    "duration": 10,
    "start_time": "2025-01-07T02:18:44.625Z"
   },
   {
    "duration": 14,
    "start_time": "2025-01-07T02:18:55.110Z"
   },
   {
    "duration": 2225,
    "start_time": "2025-01-07T02:21:15.283Z"
   },
   {
    "duration": 945,
    "start_time": "2025-01-07T02:21:38.421Z"
   },
   {
    "duration": 16,
    "start_time": "2025-01-07T02:21:39.369Z"
   },
   {
    "duration": 8,
    "start_time": "2025-01-07T02:21:39.386Z"
   },
   {
    "duration": 40,
    "start_time": "2025-01-07T02:21:39.395Z"
   },
   {
    "duration": 2247,
    "start_time": "2025-01-07T02:21:39.437Z"
   },
   {
    "duration": 30,
    "start_time": "2025-01-07T02:21:41.686Z"
   },
   {
    "duration": 415,
    "start_time": "2025-01-07T02:21:41.718Z"
   },
   {
    "duration": 11,
    "start_time": "2025-01-07T02:22:41.959Z"
   },
   {
    "duration": 901,
    "start_time": "2025-01-07T02:23:50.768Z"
   },
   {
    "duration": 16,
    "start_time": "2025-01-07T02:23:51.671Z"
   },
   {
    "duration": 7,
    "start_time": "2025-01-07T02:23:51.689Z"
   },
   {
    "duration": 27,
    "start_time": "2025-01-07T02:23:51.712Z"
   },
   {
    "duration": 2343,
    "start_time": "2025-01-07T02:23:51.741Z"
   },
   {
    "duration": 29,
    "start_time": "2025-01-07T02:23:54.086Z"
   },
   {
    "duration": 421,
    "start_time": "2025-01-07T02:23:54.116Z"
   }
  ],
  "kernelspec": {
   "display_name": "base",
   "language": "python",
   "name": "python3"
  },
  "language_info": {
   "codemirror_mode": {
    "name": "ipython",
    "version": 3
   },
   "file_extension": ".py",
   "mimetype": "text/x-python",
   "name": "python",
   "nbconvert_exporter": "python",
   "pygments_lexer": "ipython3",
   "version": "3.12.7"
  },
  "toc": {
   "base_numbering": 1,
   "nav_menu": {},
   "number_sections": true,
   "sideBar": true,
   "skip_h1_title": true,
   "title_cell": "Table of Contents",
   "title_sidebar": "Contents",
   "toc_cell": false,
   "toc_position": {},
   "toc_section_display": true,
   "toc_window_display": false
  }
 },
 "nbformat": 4,
 "nbformat_minor": 2
}
