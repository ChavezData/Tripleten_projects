{
 "cells": [
  {
   "cell_type": "markdown",
   "id": "c2e1ed65",
   "metadata": {},
   "source": [
    "# EDA Project"
   ]
  },
  {
   "cell_type": "code",
   "execution_count": 2,
   "id": "fbf1adab",
   "metadata": {},
   "outputs": [
    {
     "name": "stdout",
     "output_type": "stream",
     "text": [
      "<class 'pandas.core.frame.DataFrame'>\n",
      "RangeIndex: 478967 entries, 0 to 478966\n",
      "Data columns (total 6 columns):\n",
      " #   Column                  Non-Null Count   Dtype  \n",
      "---  ------                  --------------   -----  \n",
      " 0   order_id                478967 non-null  int64  \n",
      " 1   user_id                 478967 non-null  int64  \n",
      " 2   order_number            478967 non-null  int64  \n",
      " 3   order_dow               478967 non-null  int64  \n",
      " 4   order_hour_of_day       478967 non-null  int64  \n",
      " 5   days_since_prior_order  450148 non-null  float64\n",
      "dtypes: float64(1), int64(5)\n",
      "memory usage: 21.9 MB\n"
     ]
    }
   ],
   "source": [
    "import pandas as pd\n",
    "import matplotlib.pyplot as plt\n",
    "\n",
    "try:\n",
    "    df_products = pd.read_csv(\"/datasets/instacart_orders.csv\")\n",
    "except FileNotFoundError:\n",
    "    df_products = pd.read_csv('https://practicum-content.s3.us-west-1.amazonaws.com/datasets/instacart_orders.csv', sep=';')\n",
    "df_products.info()"
   ]
  },
  {
   "cell_type": "code",
   "execution_count": 2,
   "id": "ad36396d",
   "metadata": {},
   "outputs": [
    {
     "name": "stdout",
     "output_type": "stream",
     "text": [
      "<class 'pandas.core.frame.DataFrame'>\n",
      "RangeIndex: 478967 entries, 0 to 478966\n",
      "Data columns (total 6 columns):\n",
      " #   Column                  Non-Null Count   Dtype  \n",
      "---  ------                  --------------   -----  \n",
      " 0   order_id                478967 non-null  int64  \n",
      " 1   user_id                 478967 non-null  int64  \n",
      " 2   order_number            478967 non-null  int64  \n",
      " 3   order_dow               478967 non-null  int64  \n",
      " 4   order_hour_of_day       478967 non-null  int64  \n",
      " 5   days_since_prior_order  450148 non-null  float64\n",
      "dtypes: float64(1), int64(5)\n",
      "memory usage: 21.9 MB\n"
     ]
    },
    {
     "data": {
      "text/html": [
       "<div>\n",
       "<style scoped>\n",
       "    .dataframe tbody tr th:only-of-type {\n",
       "        vertical-align: middle;\n",
       "    }\n",
       "\n",
       "    .dataframe tbody tr th {\n",
       "        vertical-align: top;\n",
       "    }\n",
       "\n",
       "    .dataframe thead th {\n",
       "        text-align: right;\n",
       "    }\n",
       "</style>\n",
       "<table border=\"1\" class=\"dataframe\">\n",
       "  <thead>\n",
       "    <tr style=\"text-align: right;\">\n",
       "      <th></th>\n",
       "      <th>order_id</th>\n",
       "      <th>user_id</th>\n",
       "      <th>order_number</th>\n",
       "      <th>order_dow</th>\n",
       "      <th>order_hour_of_day</th>\n",
       "      <th>days_since_prior_order</th>\n",
       "    </tr>\n",
       "  </thead>\n",
       "  <tbody>\n",
       "    <tr>\n",
       "      <th>0</th>\n",
       "      <td>1515936</td>\n",
       "      <td>183418</td>\n",
       "      <td>11</td>\n",
       "      <td>6</td>\n",
       "      <td>13</td>\n",
       "      <td>30.0</td>\n",
       "    </tr>\n",
       "    <tr>\n",
       "      <th>1</th>\n",
       "      <td>1690866</td>\n",
       "      <td>163593</td>\n",
       "      <td>5</td>\n",
       "      <td>5</td>\n",
       "      <td>12</td>\n",
       "      <td>9.0</td>\n",
       "    </tr>\n",
       "    <tr>\n",
       "      <th>2</th>\n",
       "      <td>1454967</td>\n",
       "      <td>39980</td>\n",
       "      <td>4</td>\n",
       "      <td>5</td>\n",
       "      <td>19</td>\n",
       "      <td>2.0</td>\n",
       "    </tr>\n",
       "    <tr>\n",
       "      <th>3</th>\n",
       "      <td>1768857</td>\n",
       "      <td>82516</td>\n",
       "      <td>56</td>\n",
       "      <td>0</td>\n",
       "      <td>20</td>\n",
       "      <td>10.0</td>\n",
       "    </tr>\n",
       "    <tr>\n",
       "      <th>4</th>\n",
       "      <td>3007858</td>\n",
       "      <td>196724</td>\n",
       "      <td>2</td>\n",
       "      <td>4</td>\n",
       "      <td>12</td>\n",
       "      <td>17.0</td>\n",
       "    </tr>\n",
       "    <tr>\n",
       "      <th>...</th>\n",
       "      <td>...</td>\n",
       "      <td>...</td>\n",
       "      <td>...</td>\n",
       "      <td>...</td>\n",
       "      <td>...</td>\n",
       "      <td>...</td>\n",
       "    </tr>\n",
       "    <tr>\n",
       "      <th>478962</th>\n",
       "      <td>3210681</td>\n",
       "      <td>5617</td>\n",
       "      <td>5</td>\n",
       "      <td>1</td>\n",
       "      <td>14</td>\n",
       "      <td>7.0</td>\n",
       "    </tr>\n",
       "    <tr>\n",
       "      <th>478963</th>\n",
       "      <td>3270802</td>\n",
       "      <td>112087</td>\n",
       "      <td>2</td>\n",
       "      <td>3</td>\n",
       "      <td>13</td>\n",
       "      <td>6.0</td>\n",
       "    </tr>\n",
       "    <tr>\n",
       "      <th>478964</th>\n",
       "      <td>885349</td>\n",
       "      <td>82944</td>\n",
       "      <td>16</td>\n",
       "      <td>2</td>\n",
       "      <td>11</td>\n",
       "      <td>6.0</td>\n",
       "    </tr>\n",
       "    <tr>\n",
       "      <th>478965</th>\n",
       "      <td>216274</td>\n",
       "      <td>4391</td>\n",
       "      <td>3</td>\n",
       "      <td>3</td>\n",
       "      <td>8</td>\n",
       "      <td>8.0</td>\n",
       "    </tr>\n",
       "    <tr>\n",
       "      <th>478966</th>\n",
       "      <td>2071924</td>\n",
       "      <td>1730</td>\n",
       "      <td>18</td>\n",
       "      <td>1</td>\n",
       "      <td>14</td>\n",
       "      <td>15.0</td>\n",
       "    </tr>\n",
       "  </tbody>\n",
       "</table>\n",
       "<p>478967 rows × 6 columns</p>\n",
       "</div>"
      ],
      "text/plain": [
       "        order_id  user_id  order_number  order_dow  order_hour_of_day  \\\n",
       "0        1515936   183418            11          6                 13   \n",
       "1        1690866   163593             5          5                 12   \n",
       "2        1454967    39980             4          5                 19   \n",
       "3        1768857    82516            56          0                 20   \n",
       "4        3007858   196724             2          4                 12   \n",
       "...          ...      ...           ...        ...                ...   \n",
       "478962   3210681     5617             5          1                 14   \n",
       "478963   3270802   112087             2          3                 13   \n",
       "478964    885349    82944            16          2                 11   \n",
       "478965    216274     4391             3          3                  8   \n",
       "478966   2071924     1730            18          1                 14   \n",
       "\n",
       "        days_since_prior_order  \n",
       "0                         30.0  \n",
       "1                          9.0  \n",
       "2                          2.0  \n",
       "3                         10.0  \n",
       "4                         17.0  \n",
       "...                        ...  \n",
       "478962                     7.0  \n",
       "478963                     6.0  \n",
       "478964                     6.0  \n",
       "478965                     8.0  \n",
       "478966                    15.0  \n",
       "\n",
       "[478967 rows x 6 columns]"
      ]
     },
     "metadata": {},
     "output_type": "display_data"
    }
   ],
   "source": [
    "\n",
    "\n",
    "\n",
    "df_instacart_orders = pd.read_csv(\"/datasets/instacart_orders.csv\", sep=';')\n",
    "\n",
    "df_instacart_orders.info(show_counts=True)\n",
    "\n",
    "display(df_instacart_orders)"
   ]
  },
  {
   "cell_type": "code",
   "execution_count": 3,
   "id": "ad6a1efa",
   "metadata": {},
   "outputs": [
    {
     "name": "stdout",
     "output_type": "stream",
     "text": [
      "<class 'pandas.core.frame.DataFrame'>\n",
      "RangeIndex: 4545007 entries, 0 to 4545006\n",
      "Data columns (total 4 columns):\n",
      " #   Column             Non-Null Count    Dtype  \n",
      "---  ------             --------------    -----  \n",
      " 0   order_id           4545007 non-null  int64  \n",
      " 1   product_id         4545007 non-null  int64  \n",
      " 2   add_to_cart_order  4544171 non-null  float64\n",
      " 3   reordered          4545007 non-null  int64  \n",
      "dtypes: float64(1), int64(3)\n",
      "memory usage: 138.7 MB\n"
     ]
    },
    {
     "data": {
      "text/html": [
       "<div>\n",
       "<style scoped>\n",
       "    .dataframe tbody tr th:only-of-type {\n",
       "        vertical-align: middle;\n",
       "    }\n",
       "\n",
       "    .dataframe tbody tr th {\n",
       "        vertical-align: top;\n",
       "    }\n",
       "\n",
       "    .dataframe thead th {\n",
       "        text-align: right;\n",
       "    }\n",
       "</style>\n",
       "<table border=\"1\" class=\"dataframe\">\n",
       "  <thead>\n",
       "    <tr style=\"text-align: right;\">\n",
       "      <th></th>\n",
       "      <th>order_id</th>\n",
       "      <th>product_id</th>\n",
       "      <th>add_to_cart_order</th>\n",
       "      <th>reordered</th>\n",
       "    </tr>\n",
       "  </thead>\n",
       "  <tbody>\n",
       "    <tr>\n",
       "      <th>0</th>\n",
       "      <td>2141543</td>\n",
       "      <td>11440</td>\n",
       "      <td>17.0</td>\n",
       "      <td>0</td>\n",
       "    </tr>\n",
       "    <tr>\n",
       "      <th>1</th>\n",
       "      <td>567889</td>\n",
       "      <td>1560</td>\n",
       "      <td>1.0</td>\n",
       "      <td>1</td>\n",
       "    </tr>\n",
       "    <tr>\n",
       "      <th>2</th>\n",
       "      <td>2261212</td>\n",
       "      <td>26683</td>\n",
       "      <td>1.0</td>\n",
       "      <td>1</td>\n",
       "    </tr>\n",
       "    <tr>\n",
       "      <th>3</th>\n",
       "      <td>491251</td>\n",
       "      <td>8670</td>\n",
       "      <td>35.0</td>\n",
       "      <td>1</td>\n",
       "    </tr>\n",
       "    <tr>\n",
       "      <th>4</th>\n",
       "      <td>2571142</td>\n",
       "      <td>1940</td>\n",
       "      <td>5.0</td>\n",
       "      <td>1</td>\n",
       "    </tr>\n",
       "    <tr>\n",
       "      <th>...</th>\n",
       "      <td>...</td>\n",
       "      <td>...</td>\n",
       "      <td>...</td>\n",
       "      <td>...</td>\n",
       "    </tr>\n",
       "    <tr>\n",
       "      <th>4545002</th>\n",
       "      <td>577211</td>\n",
       "      <td>15290</td>\n",
       "      <td>12.0</td>\n",
       "      <td>1</td>\n",
       "    </tr>\n",
       "    <tr>\n",
       "      <th>4545003</th>\n",
       "      <td>1219554</td>\n",
       "      <td>21914</td>\n",
       "      <td>9.0</td>\n",
       "      <td>0</td>\n",
       "    </tr>\n",
       "    <tr>\n",
       "      <th>4545004</th>\n",
       "      <td>692640</td>\n",
       "      <td>47766</td>\n",
       "      <td>4.0</td>\n",
       "      <td>1</td>\n",
       "    </tr>\n",
       "    <tr>\n",
       "      <th>4545005</th>\n",
       "      <td>319435</td>\n",
       "      <td>691</td>\n",
       "      <td>8.0</td>\n",
       "      <td>1</td>\n",
       "    </tr>\n",
       "    <tr>\n",
       "      <th>4545006</th>\n",
       "      <td>1398151</td>\n",
       "      <td>28733</td>\n",
       "      <td>9.0</td>\n",
       "      <td>0</td>\n",
       "    </tr>\n",
       "  </tbody>\n",
       "</table>\n",
       "<p>4545007 rows × 4 columns</p>\n",
       "</div>"
      ],
      "text/plain": [
       "         order_id  product_id  add_to_cart_order  reordered\n",
       "0         2141543       11440               17.0          0\n",
       "1          567889        1560                1.0          1\n",
       "2         2261212       26683                1.0          1\n",
       "3          491251        8670               35.0          1\n",
       "4         2571142        1940                5.0          1\n",
       "...           ...         ...                ...        ...\n",
       "4545002    577211       15290               12.0          1\n",
       "4545003   1219554       21914                9.0          0\n",
       "4545004    692640       47766                4.0          1\n",
       "4545005    319435         691                8.0          1\n",
       "4545006   1398151       28733                9.0          0\n",
       "\n",
       "[4545007 rows x 4 columns]"
      ]
     },
     "metadata": {},
     "output_type": "display_data"
    }
   ],
   "source": [
    "\n",
    "df_order_products = pd.read_csv(\"/datasets/order_products.csv\", sep=';')\n",
    "\n",
    "df_order_products.info(show_counts=True)\n",
    "\n",
    "display(df_order_products)"
   ]
  },
  {
   "cell_type": "code",
   "execution_count": 4,
   "id": "5130e05e",
   "metadata": {},
   "outputs": [
    {
     "name": "stdout",
     "output_type": "stream",
     "text": [
      "<class 'pandas.core.frame.DataFrame'>\n",
      "RangeIndex: 134 entries, 0 to 133\n",
      "Data columns (total 2 columns):\n",
      " #   Column    Non-Null Count  Dtype \n",
      "---  ------    --------------  ----- \n",
      " 0   aisle_id  134 non-null    int64 \n",
      " 1   aisle     134 non-null    object\n",
      "dtypes: int64(1), object(1)\n",
      "memory usage: 2.2+ KB\n"
     ]
    },
    {
     "data": {
      "text/html": [
       "<div>\n",
       "<style scoped>\n",
       "    .dataframe tbody tr th:only-of-type {\n",
       "        vertical-align: middle;\n",
       "    }\n",
       "\n",
       "    .dataframe tbody tr th {\n",
       "        vertical-align: top;\n",
       "    }\n",
       "\n",
       "    .dataframe thead th {\n",
       "        text-align: right;\n",
       "    }\n",
       "</style>\n",
       "<table border=\"1\" class=\"dataframe\">\n",
       "  <thead>\n",
       "    <tr style=\"text-align: right;\">\n",
       "      <th></th>\n",
       "      <th>aisle_id</th>\n",
       "      <th>aisle</th>\n",
       "    </tr>\n",
       "  </thead>\n",
       "  <tbody>\n",
       "    <tr>\n",
       "      <th>0</th>\n",
       "      <td>1</td>\n",
       "      <td>prepared soups salads</td>\n",
       "    </tr>\n",
       "    <tr>\n",
       "      <th>1</th>\n",
       "      <td>2</td>\n",
       "      <td>specialty cheeses</td>\n",
       "    </tr>\n",
       "    <tr>\n",
       "      <th>2</th>\n",
       "      <td>3</td>\n",
       "      <td>energy granola bars</td>\n",
       "    </tr>\n",
       "    <tr>\n",
       "      <th>3</th>\n",
       "      <td>4</td>\n",
       "      <td>instant foods</td>\n",
       "    </tr>\n",
       "    <tr>\n",
       "      <th>4</th>\n",
       "      <td>5</td>\n",
       "      <td>marinades meat preparation</td>\n",
       "    </tr>\n",
       "    <tr>\n",
       "      <th>...</th>\n",
       "      <td>...</td>\n",
       "      <td>...</td>\n",
       "    </tr>\n",
       "    <tr>\n",
       "      <th>129</th>\n",
       "      <td>130</td>\n",
       "      <td>hot cereal pancake mixes</td>\n",
       "    </tr>\n",
       "    <tr>\n",
       "      <th>130</th>\n",
       "      <td>131</td>\n",
       "      <td>dry pasta</td>\n",
       "    </tr>\n",
       "    <tr>\n",
       "      <th>131</th>\n",
       "      <td>132</td>\n",
       "      <td>beauty</td>\n",
       "    </tr>\n",
       "    <tr>\n",
       "      <th>132</th>\n",
       "      <td>133</td>\n",
       "      <td>muscles joints pain relief</td>\n",
       "    </tr>\n",
       "    <tr>\n",
       "      <th>133</th>\n",
       "      <td>134</td>\n",
       "      <td>specialty wines champagnes</td>\n",
       "    </tr>\n",
       "  </tbody>\n",
       "</table>\n",
       "<p>134 rows × 2 columns</p>\n",
       "</div>"
      ],
      "text/plain": [
       "     aisle_id                       aisle\n",
       "0           1       prepared soups salads\n",
       "1           2           specialty cheeses\n",
       "2           3         energy granola bars\n",
       "3           4               instant foods\n",
       "4           5  marinades meat preparation\n",
       "..        ...                         ...\n",
       "129       130    hot cereal pancake mixes\n",
       "130       131                   dry pasta\n",
       "131       132                      beauty\n",
       "132       133  muscles joints pain relief\n",
       "133       134  specialty wines champagnes\n",
       "\n",
       "[134 rows x 2 columns]"
      ]
     },
     "metadata": {},
     "output_type": "display_data"
    }
   ],
   "source": [
    "df_aisles = pd.read_csv(\"/datasets/aisles.csv\", sep=';')\n",
    "\n",
    "df_aisles.info(show_counts=True)\n",
    "\n",
    "display(df_aisles)"
   ]
  },
  {
   "cell_type": "code",
   "execution_count": 5,
   "id": "d8370c05",
   "metadata": {
    "scrolled": true
   },
   "outputs": [
    {
     "name": "stdout",
     "output_type": "stream",
     "text": [
      "<class 'pandas.core.frame.DataFrame'>\n",
      "RangeIndex: 21 entries, 0 to 20\n",
      "Data columns (total 2 columns):\n",
      " #   Column         Non-Null Count  Dtype \n",
      "---  ------         --------------  ----- \n",
      " 0   department_id  21 non-null     int64 \n",
      " 1   department     21 non-null     object\n",
      "dtypes: int64(1), object(1)\n",
      "memory usage: 464.0+ bytes\n"
     ]
    },
    {
     "data": {
      "text/html": [
       "<div>\n",
       "<style scoped>\n",
       "    .dataframe tbody tr th:only-of-type {\n",
       "        vertical-align: middle;\n",
       "    }\n",
       "\n",
       "    .dataframe tbody tr th {\n",
       "        vertical-align: top;\n",
       "    }\n",
       "\n",
       "    .dataframe thead th {\n",
       "        text-align: right;\n",
       "    }\n",
       "</style>\n",
       "<table border=\"1\" class=\"dataframe\">\n",
       "  <thead>\n",
       "    <tr style=\"text-align: right;\">\n",
       "      <th></th>\n",
       "      <th>department_id</th>\n",
       "      <th>department</th>\n",
       "    </tr>\n",
       "  </thead>\n",
       "  <tbody>\n",
       "    <tr>\n",
       "      <th>0</th>\n",
       "      <td>1</td>\n",
       "      <td>frozen</td>\n",
       "    </tr>\n",
       "    <tr>\n",
       "      <th>1</th>\n",
       "      <td>2</td>\n",
       "      <td>other</td>\n",
       "    </tr>\n",
       "    <tr>\n",
       "      <th>2</th>\n",
       "      <td>3</td>\n",
       "      <td>bakery</td>\n",
       "    </tr>\n",
       "    <tr>\n",
       "      <th>3</th>\n",
       "      <td>4</td>\n",
       "      <td>produce</td>\n",
       "    </tr>\n",
       "    <tr>\n",
       "      <th>4</th>\n",
       "      <td>5</td>\n",
       "      <td>alcohol</td>\n",
       "    </tr>\n",
       "    <tr>\n",
       "      <th>5</th>\n",
       "      <td>6</td>\n",
       "      <td>international</td>\n",
       "    </tr>\n",
       "    <tr>\n",
       "      <th>6</th>\n",
       "      <td>7</td>\n",
       "      <td>beverages</td>\n",
       "    </tr>\n",
       "    <tr>\n",
       "      <th>7</th>\n",
       "      <td>8</td>\n",
       "      <td>pets</td>\n",
       "    </tr>\n",
       "    <tr>\n",
       "      <th>8</th>\n",
       "      <td>9</td>\n",
       "      <td>dry goods pasta</td>\n",
       "    </tr>\n",
       "    <tr>\n",
       "      <th>9</th>\n",
       "      <td>10</td>\n",
       "      <td>bulk</td>\n",
       "    </tr>\n",
       "    <tr>\n",
       "      <th>10</th>\n",
       "      <td>11</td>\n",
       "      <td>personal care</td>\n",
       "    </tr>\n",
       "    <tr>\n",
       "      <th>11</th>\n",
       "      <td>12</td>\n",
       "      <td>meat seafood</td>\n",
       "    </tr>\n",
       "    <tr>\n",
       "      <th>12</th>\n",
       "      <td>13</td>\n",
       "      <td>pantry</td>\n",
       "    </tr>\n",
       "    <tr>\n",
       "      <th>13</th>\n",
       "      <td>14</td>\n",
       "      <td>breakfast</td>\n",
       "    </tr>\n",
       "    <tr>\n",
       "      <th>14</th>\n",
       "      <td>15</td>\n",
       "      <td>canned goods</td>\n",
       "    </tr>\n",
       "    <tr>\n",
       "      <th>15</th>\n",
       "      <td>16</td>\n",
       "      <td>dairy eggs</td>\n",
       "    </tr>\n",
       "    <tr>\n",
       "      <th>16</th>\n",
       "      <td>17</td>\n",
       "      <td>household</td>\n",
       "    </tr>\n",
       "    <tr>\n",
       "      <th>17</th>\n",
       "      <td>18</td>\n",
       "      <td>babies</td>\n",
       "    </tr>\n",
       "    <tr>\n",
       "      <th>18</th>\n",
       "      <td>19</td>\n",
       "      <td>snacks</td>\n",
       "    </tr>\n",
       "    <tr>\n",
       "      <th>19</th>\n",
       "      <td>20</td>\n",
       "      <td>deli</td>\n",
       "    </tr>\n",
       "    <tr>\n",
       "      <th>20</th>\n",
       "      <td>21</td>\n",
       "      <td>missing</td>\n",
       "    </tr>\n",
       "  </tbody>\n",
       "</table>\n",
       "</div>"
      ],
      "text/plain": [
       "    department_id       department\n",
       "0               1           frozen\n",
       "1               2            other\n",
       "2               3           bakery\n",
       "3               4          produce\n",
       "4               5          alcohol\n",
       "5               6    international\n",
       "6               7        beverages\n",
       "7               8             pets\n",
       "8               9  dry goods pasta\n",
       "9              10             bulk\n",
       "10             11    personal care\n",
       "11             12     meat seafood\n",
       "12             13           pantry\n",
       "13             14        breakfast\n",
       "14             15     canned goods\n",
       "15             16       dairy eggs\n",
       "16             17        household\n",
       "17             18           babies\n",
       "18             19           snacks\n",
       "19             20             deli\n",
       "20             21          missing"
      ]
     },
     "metadata": {},
     "output_type": "display_data"
    }
   ],
   "source": [
    "df_departments = pd.read_csv(\"/datasets/departments.csv\", sep=';')\n",
    "\n",
    "df_departments.info(show_counts=True)\n",
    "\n",
    "display(df_departments)"
   ]
  },
  {
   "cell_type": "markdown",
   "id": "07357848-dc64-4156-9cc3-01ff4365226d",
   "metadata": {},
   "source": [
    "## Find and remove duplicate values (and describe why you make your choices)"
   ]
  },
  {
   "cell_type": "markdown",
   "id": "f179f0a9",
   "metadata": {},
   "source": [
    "### `orders` data frame"
   ]
  },
  {
   "cell_type": "code",
   "execution_count": 6,
   "id": "b99297a5-405a-463d-8535-9adc3da4ad74",
   "metadata": {},
   "outputs": [
    {
     "name": "stdout",
     "output_type": "stream",
     "text": [
      "15\n"
     ]
    }
   ],
   "source": [
    "# Check for duplicated orders\n",
    "\n",
    "duplicate_orders = df_instacart_orders.duplicated().sum()\n",
    "\n",
    "print(duplicate_orders)\n"
   ]
  },
  {
   "cell_type": "markdown",
   "id": "d615677d",
   "metadata": {},
   "source": [
    "used the variable duplicate orders to get the duplicated sum of orders data frame"
   ]
  },
  {
   "cell_type": "code",
   "execution_count": 7,
   "id": "0d44de5d",
   "metadata": {},
   "outputs": [
    {
     "data": {
      "text/html": [
       "<div>\n",
       "<style scoped>\n",
       "    .dataframe tbody tr th:only-of-type {\n",
       "        vertical-align: middle;\n",
       "    }\n",
       "\n",
       "    .dataframe tbody tr th {\n",
       "        vertical-align: top;\n",
       "    }\n",
       "\n",
       "    .dataframe thead th {\n",
       "        text-align: right;\n",
       "    }\n",
       "</style>\n",
       "<table border=\"1\" class=\"dataframe\">\n",
       "  <thead>\n",
       "    <tr style=\"text-align: right;\">\n",
       "      <th></th>\n",
       "      <th>order_id</th>\n",
       "      <th>user_id</th>\n",
       "      <th>order_number</th>\n",
       "      <th>order_dow</th>\n",
       "      <th>order_hour_of_day</th>\n",
       "      <th>days_since_prior_order</th>\n",
       "    </tr>\n",
       "  </thead>\n",
       "  <tbody>\n",
       "    <tr>\n",
       "      <th>4838</th>\n",
       "      <td>2766110</td>\n",
       "      <td>162084</td>\n",
       "      <td>41</td>\n",
       "      <td>3</td>\n",
       "      <td>2</td>\n",
       "      <td>16.0</td>\n",
       "    </tr>\n",
       "    <tr>\n",
       "      <th>5156</th>\n",
       "      <td>2190225</td>\n",
       "      <td>138285</td>\n",
       "      <td>18</td>\n",
       "      <td>3</td>\n",
       "      <td>2</td>\n",
       "      <td>11.0</td>\n",
       "    </tr>\n",
       "    <tr>\n",
       "      <th>15506</th>\n",
       "      <td>553049</td>\n",
       "      <td>58599</td>\n",
       "      <td>13</td>\n",
       "      <td>3</td>\n",
       "      <td>2</td>\n",
       "      <td>7.0</td>\n",
       "    </tr>\n",
       "    <tr>\n",
       "      <th>18420</th>\n",
       "      <td>382357</td>\n",
       "      <td>120200</td>\n",
       "      <td>19</td>\n",
       "      <td>3</td>\n",
       "      <td>2</td>\n",
       "      <td>11.0</td>\n",
       "    </tr>\n",
       "    <tr>\n",
       "      <th>24691</th>\n",
       "      <td>690242</td>\n",
       "      <td>77357</td>\n",
       "      <td>2</td>\n",
       "      <td>3</td>\n",
       "      <td>2</td>\n",
       "      <td>9.0</td>\n",
       "    </tr>\n",
       "    <tr>\n",
       "      <th>...</th>\n",
       "      <td>...</td>\n",
       "      <td>...</td>\n",
       "      <td>...</td>\n",
       "      <td>...</td>\n",
       "      <td>...</td>\n",
       "      <td>...</td>\n",
       "    </tr>\n",
       "    <tr>\n",
       "      <th>457013</th>\n",
       "      <td>3384021</td>\n",
       "      <td>14881</td>\n",
       "      <td>6</td>\n",
       "      <td>3</td>\n",
       "      <td>2</td>\n",
       "      <td>30.0</td>\n",
       "    </tr>\n",
       "    <tr>\n",
       "      <th>458816</th>\n",
       "      <td>910166</td>\n",
       "      <td>164782</td>\n",
       "      <td>18</td>\n",
       "      <td>3</td>\n",
       "      <td>2</td>\n",
       "      <td>4.0</td>\n",
       "    </tr>\n",
       "    <tr>\n",
       "      <th>459635</th>\n",
       "      <td>1680532</td>\n",
       "      <td>106435</td>\n",
       "      <td>6</td>\n",
       "      <td>3</td>\n",
       "      <td>2</td>\n",
       "      <td>21.0</td>\n",
       "    </tr>\n",
       "    <tr>\n",
       "      <th>468324</th>\n",
       "      <td>222962</td>\n",
       "      <td>54979</td>\n",
       "      <td>59</td>\n",
       "      <td>3</td>\n",
       "      <td>2</td>\n",
       "      <td>3.0</td>\n",
       "    </tr>\n",
       "    <tr>\n",
       "      <th>477526</th>\n",
       "      <td>2592344</td>\n",
       "      <td>46860</td>\n",
       "      <td>38</td>\n",
       "      <td>3</td>\n",
       "      <td>2</td>\n",
       "      <td>3.0</td>\n",
       "    </tr>\n",
       "  </tbody>\n",
       "</table>\n",
       "<p>121 rows × 6 columns</p>\n",
       "</div>"
      ],
      "text/plain": [
       "        order_id  user_id  order_number  order_dow  order_hour_of_day  \\\n",
       "4838     2766110   162084            41          3                  2   \n",
       "5156     2190225   138285            18          3                  2   \n",
       "15506     553049    58599            13          3                  2   \n",
       "18420     382357   120200            19          3                  2   \n",
       "24691     690242    77357             2          3                  2   \n",
       "...          ...      ...           ...        ...                ...   \n",
       "457013   3384021    14881             6          3                  2   \n",
       "458816    910166   164782            18          3                  2   \n",
       "459635   1680532   106435             6          3                  2   \n",
       "468324    222962    54979            59          3                  2   \n",
       "477526   2592344    46860            38          3                  2   \n",
       "\n",
       "        days_since_prior_order  \n",
       "4838                      16.0  \n",
       "5156                      11.0  \n",
       "15506                      7.0  \n",
       "18420                     11.0  \n",
       "24691                      9.0  \n",
       "...                        ...  \n",
       "457013                    30.0  \n",
       "458816                     4.0  \n",
       "459635                    21.0  \n",
       "468324                     3.0  \n",
       "477526                     3.0  \n",
       "\n",
       "[121 rows x 6 columns]"
      ]
     },
     "execution_count": 7,
     "metadata": {},
     "output_type": "execute_result"
    }
   ],
   "source": [
    "# Check for all orders placed Wednesday at 2:00 AM\n",
    "\n",
    "df_instacart_orders[(df_instacart_orders['order_dow']==3) & (df_instacart_orders['order_hour_of_day']==2)]\n"
   ]
  },
  {
   "cell_type": "code",
   "execution_count": 8,
   "id": "480563c7",
   "metadata": {},
   "outputs": [],
   "source": [
    "# Remove duplicate orders\n",
    "\n",
    "df_instacart_orders.drop_duplicates(inplace=True)\n"
   ]
  },
  {
   "cell_type": "markdown",
   "id": "48a0752d",
   "metadata": {},
   "source": [
    "removed the duplicate with the drop duplicate method"
   ]
  },
  {
   "cell_type": "code",
   "execution_count": 9,
   "id": "0b2396a2",
   "metadata": {},
   "outputs": [
    {
     "name": "stdout",
     "output_type": "stream",
     "text": [
      "0\n"
     ]
    }
   ],
   "source": [
    "# Double check for duplicate rows\n",
    "\n",
    "duplicate_orders = df_instacart_orders.duplicated().sum()\n",
    "\n",
    "print(duplicate_orders)"
   ]
  },
  {
   "cell_type": "code",
   "execution_count": 10,
   "id": "f6113ef1",
   "metadata": {},
   "outputs": [
    {
     "name": "stdout",
     "output_type": "stream",
     "text": [
      "0\n"
     ]
    }
   ],
   "source": [
    "# Double check for duplicate order IDs only\n",
    "\n",
    "duplicate_orders = df_instacart_orders.duplicated('order_id').sum()\n",
    "\n",
    "print(duplicate_orders)"
   ]
  },
  {
   "cell_type": "markdown",
   "id": "45e6bc46",
   "metadata": {},
   "source": [
    "### `products` data frame"
   ]
  },
  {
   "cell_type": "code",
   "execution_count": 11,
   "id": "5f526b5b-8175-46fa-a0fd-441767d50e64",
   "metadata": {},
   "outputs": [
    {
     "name": "stdout",
     "output_type": "stream",
     "text": [
      "0\n"
     ]
    }
   ],
   "source": [
    "# Check for fully duplicate rows\n",
    "\n",
    "duplicate_rows = df_products.duplicated().sum()\n",
    "\n",
    "print(duplicate_rows)"
   ]
  },
  {
   "cell_type": "code",
   "execution_count": 12,
   "id": "88daa4f4",
   "metadata": {},
   "outputs": [
    {
     "name": "stdout",
     "output_type": "stream",
     "text": [
      "0\n"
     ]
    }
   ],
   "source": [
    "# Check for just duplicate product IDs\n",
    "\n",
    "duplicate_id = df_products.duplicated('product_id').sum()\n",
    "\n",
    "print(duplicate_id)"
   ]
  },
  {
   "cell_type": "code",
   "execution_count": 13,
   "id": "c773f0bf",
   "metadata": {},
   "outputs": [
    {
     "name": "stdout",
     "output_type": "stream",
     "text": [
      "1361\n"
     ]
    },
    {
     "data": {
      "text/html": [
       "<div>\n",
       "<style scoped>\n",
       "    .dataframe tbody tr th:only-of-type {\n",
       "        vertical-align: middle;\n",
       "    }\n",
       "\n",
       "    .dataframe tbody tr th {\n",
       "        vertical-align: top;\n",
       "    }\n",
       "\n",
       "    .dataframe thead th {\n",
       "        text-align: right;\n",
       "    }\n",
       "</style>\n",
       "<table border=\"1\" class=\"dataframe\">\n",
       "  <thead>\n",
       "    <tr style=\"text-align: right;\">\n",
       "      <th></th>\n",
       "      <th>product_id</th>\n",
       "      <th>product_name</th>\n",
       "      <th>aisle_id</th>\n",
       "      <th>department_id</th>\n",
       "      <th>product_name_lowercase</th>\n",
       "    </tr>\n",
       "  </thead>\n",
       "  <tbody>\n",
       "    <tr>\n",
       "      <th>0</th>\n",
       "      <td>1</td>\n",
       "      <td>Chocolate Sandwich Cookies</td>\n",
       "      <td>61</td>\n",
       "      <td>19</td>\n",
       "      <td>chocolate sandwich cookies</td>\n",
       "    </tr>\n",
       "    <tr>\n",
       "      <th>1</th>\n",
       "      <td>2</td>\n",
       "      <td>All-Seasons Salt</td>\n",
       "      <td>104</td>\n",
       "      <td>13</td>\n",
       "      <td>all-seasons salt</td>\n",
       "    </tr>\n",
       "    <tr>\n",
       "      <th>2</th>\n",
       "      <td>3</td>\n",
       "      <td>Robust Golden Unsweetened Oolong Tea</td>\n",
       "      <td>94</td>\n",
       "      <td>7</td>\n",
       "      <td>robust golden unsweetened oolong tea</td>\n",
       "    </tr>\n",
       "    <tr>\n",
       "      <th>3</th>\n",
       "      <td>4</td>\n",
       "      <td>Smart Ones Classic Favorites Mini Rigatoni Wit...</td>\n",
       "      <td>38</td>\n",
       "      <td>1</td>\n",
       "      <td>smart ones classic favorites mini rigatoni wit...</td>\n",
       "    </tr>\n",
       "    <tr>\n",
       "      <th>4</th>\n",
       "      <td>5</td>\n",
       "      <td>Green Chile Anytime Sauce</td>\n",
       "      <td>5</td>\n",
       "      <td>13</td>\n",
       "      <td>green chile anytime sauce</td>\n",
       "    </tr>\n",
       "    <tr>\n",
       "      <th>...</th>\n",
       "      <td>...</td>\n",
       "      <td>...</td>\n",
       "      <td>...</td>\n",
       "      <td>...</td>\n",
       "      <td>...</td>\n",
       "    </tr>\n",
       "    <tr>\n",
       "      <th>49689</th>\n",
       "      <td>49690</td>\n",
       "      <td>HIGH PERFORMANCE ENERGY DRINK</td>\n",
       "      <td>64</td>\n",
       "      <td>7</td>\n",
       "      <td>high performance energy drink</td>\n",
       "    </tr>\n",
       "    <tr>\n",
       "      <th>49690</th>\n",
       "      <td>49691</td>\n",
       "      <td>ORIGINAL PANCAKE &amp; WAFFLE MIX</td>\n",
       "      <td>130</td>\n",
       "      <td>14</td>\n",
       "      <td>original pancake &amp; waffle mix</td>\n",
       "    </tr>\n",
       "    <tr>\n",
       "      <th>49691</th>\n",
       "      <td>49692</td>\n",
       "      <td>ORGANIC INSTANT OATMEAL LIGHT MAPLE BROWN SUGAR</td>\n",
       "      <td>130</td>\n",
       "      <td>14</td>\n",
       "      <td>organic instant oatmeal light maple brown sugar</td>\n",
       "    </tr>\n",
       "    <tr>\n",
       "      <th>49692</th>\n",
       "      <td>49693</td>\n",
       "      <td>SPRING WATER BODY WASH</td>\n",
       "      <td>127</td>\n",
       "      <td>11</td>\n",
       "      <td>spring water body wash</td>\n",
       "    </tr>\n",
       "    <tr>\n",
       "      <th>49693</th>\n",
       "      <td>49694</td>\n",
       "      <td>BURRITO- STEAK &amp; CHEESE</td>\n",
       "      <td>38</td>\n",
       "      <td>1</td>\n",
       "      <td>burrito- steak &amp; cheese</td>\n",
       "    </tr>\n",
       "  </tbody>\n",
       "</table>\n",
       "<p>49694 rows × 5 columns</p>\n",
       "</div>"
      ],
      "text/plain": [
       "       product_id                                       product_name  \\\n",
       "0               1                         Chocolate Sandwich Cookies   \n",
       "1               2                                   All-Seasons Salt   \n",
       "2               3               Robust Golden Unsweetened Oolong Tea   \n",
       "3               4  Smart Ones Classic Favorites Mini Rigatoni Wit...   \n",
       "4               5                          Green Chile Anytime Sauce   \n",
       "...           ...                                                ...   \n",
       "49689       49690                      HIGH PERFORMANCE ENERGY DRINK   \n",
       "49690       49691                      ORIGINAL PANCAKE & WAFFLE MIX   \n",
       "49691       49692    ORGANIC INSTANT OATMEAL LIGHT MAPLE BROWN SUGAR   \n",
       "49692       49693                             SPRING WATER BODY WASH   \n",
       "49693       49694                            BURRITO- STEAK & CHEESE   \n",
       "\n",
       "       aisle_id  department_id  \\\n",
       "0            61             19   \n",
       "1           104             13   \n",
       "2            94              7   \n",
       "3            38              1   \n",
       "4             5             13   \n",
       "...         ...            ...   \n",
       "49689        64              7   \n",
       "49690       130             14   \n",
       "49691       130             14   \n",
       "49692       127             11   \n",
       "49693        38              1   \n",
       "\n",
       "                                  product_name_lowercase  \n",
       "0                             chocolate sandwich cookies  \n",
       "1                                       all-seasons salt  \n",
       "2                   robust golden unsweetened oolong tea  \n",
       "3      smart ones classic favorites mini rigatoni wit...  \n",
       "4                              green chile anytime sauce  \n",
       "...                                                  ...  \n",
       "49689                      high performance energy drink  \n",
       "49690                      original pancake & waffle mix  \n",
       "49691    organic instant oatmeal light maple brown sugar  \n",
       "49692                             spring water body wash  \n",
       "49693                            burrito- steak & cheese  \n",
       "\n",
       "[49694 rows x 5 columns]"
      ]
     },
     "metadata": {},
     "output_type": "display_data"
    }
   ],
   "source": [
    "# Check for just duplicate product names (convert names to lowercase to compare better)\n",
    "\n",
    "df_products['product_name_lowercase'] = df_products['product_name'].str.lower()\n",
    "\n",
    "print(df_products['product_name_lowercase'].duplicated().sum())\n",
    "\n",
    "display(df_products)"
   ]
  },
  {
   "cell_type": "code",
   "execution_count": 14,
   "id": "01efd02e",
   "metadata": {},
   "outputs": [
    {
     "data": {
      "text/plain": [
       "104"
      ]
     },
     "execution_count": 14,
     "metadata": {},
     "output_type": "execute_result"
    }
   ],
   "source": [
    "# Check for duplicate product names that aren't missing\n",
    "\n",
    "\n",
    "df_products[~(df_products['product_name_lowercase']).isna()]['product_name_lowercase'].duplicated().sum()\n",
    "\n"
   ]
  },
  {
   "cell_type": "markdown",
   "id": "60f30db1",
   "metadata": {},
   "source": [
    "### `departments` data frame"
   ]
  },
  {
   "cell_type": "code",
   "execution_count": 15,
   "id": "fb410ad4-0fbf-4b80-bb09-23fdea79afe3",
   "metadata": {},
   "outputs": [
    {
     "name": "stdout",
     "output_type": "stream",
     "text": [
      "0\n"
     ]
    }
   ],
   "source": [
    "duplicate_orders = df_departments.duplicated().sum()\n",
    "\n",
    "print(duplicate_orders)"
   ]
  },
  {
   "cell_type": "code",
   "execution_count": 16,
   "id": "332b12bb",
   "metadata": {},
   "outputs": [],
   "source": [
    "df_departments.drop_duplicates(inplace=True)"
   ]
  },
  {
   "cell_type": "markdown",
   "id": "bd30d78e",
   "metadata": {},
   "source": []
  },
  {
   "cell_type": "markdown",
   "id": "889349c1",
   "metadata": {},
   "source": [
    "### `aisles` data frame"
   ]
  },
  {
   "cell_type": "code",
   "execution_count": 17,
   "id": "9da89fb9-4679-40f5-ad0d-c34df753a3f8",
   "metadata": {},
   "outputs": [
    {
     "name": "stdout",
     "output_type": "stream",
     "text": [
      "0\n"
     ]
    }
   ],
   "source": [
    "duplicate_orders = df_aisles.duplicated().sum()\n",
    "\n",
    "print(duplicate_orders)"
   ]
  },
  {
   "cell_type": "code",
   "execution_count": 18,
   "id": "da7c2822",
   "metadata": {},
   "outputs": [],
   "source": [
    "df_aisles.drop_duplicates(inplace=True)"
   ]
  },
  {
   "cell_type": "markdown",
   "id": "ac63826f",
   "metadata": {},
   "source": []
  },
  {
   "cell_type": "markdown",
   "id": "274cd06a",
   "metadata": {},
   "source": [
    "### `order_products` data frame"
   ]
  },
  {
   "cell_type": "code",
   "execution_count": 19,
   "id": "52326689-84a8-4b8f-a881-7c68780f62c9",
   "metadata": {},
   "outputs": [
    {
     "name": "stdout",
     "output_type": "stream",
     "text": [
      "0\n"
     ]
    }
   ],
   "source": [
    "# Check for fullly duplicate rows\n",
    "\n",
    "duplicate_rows = df_order_products.duplicated().sum()\n",
    "\n",
    "print(duplicate_rows)"
   ]
  },
  {
   "cell_type": "code",
   "execution_count": 20,
   "id": "04795222",
   "metadata": {},
   "outputs": [
    {
     "name": "stdout",
     "output_type": "stream",
     "text": [
      "   order_id  product_id  add_to_cart_order  reordered\n",
      "0   2141543       11440               17.0          0\n",
      "1    567889        1560                1.0          1\n",
      "2   2261212       26683                1.0          1\n",
      "3    491251        8670               35.0          1\n",
      "4   2571142        1940                5.0          1\n"
     ]
    }
   ],
   "source": [
    "print(df_order_products.head())"
   ]
  },
  {
   "cell_type": "code",
   "execution_count": 21,
   "id": "7b861391",
   "metadata": {},
   "outputs": [
    {
     "data": {
      "text/plain": [
       "0"
      ]
     },
     "execution_count": 21,
     "metadata": {},
     "output_type": "execute_result"
    }
   ],
   "source": [
    "# Double check for any other tricky duplicates\n",
    "\n",
    "df_order_products.duplicated(subset= ['order_id', 'product_id']).sum()\n"
   ]
  },
  {
   "cell_type": "markdown",
   "id": "1e46de76",
   "metadata": {},
   "source": [
    "## Find and remove missing values\n"
   ]
  },
  {
   "cell_type": "markdown",
   "id": "c0aebd78",
   "metadata": {},
   "source": [
    "### `products` data frame"
   ]
  },
  {
   "cell_type": "code",
   "execution_count": 22,
   "id": "fe4a8b0f",
   "metadata": {},
   "outputs": [
    {
     "name": "stdout",
     "output_type": "stream",
     "text": [
      "<class 'pandas.core.frame.DataFrame'>\n",
      "RangeIndex: 49694 entries, 0 to 49693\n",
      "Data columns (total 5 columns):\n",
      " #   Column                  Non-Null Count  Dtype\n",
      "---  ------                  --------------  -----\n",
      " 0   product_id              49694 non-null  bool \n",
      " 1   product_name            49694 non-null  bool \n",
      " 2   aisle_id                49694 non-null  bool \n",
      " 3   department_id           49694 non-null  bool \n",
      " 4   product_name_lowercase  49694 non-null  bool \n",
      "dtypes: bool(5)\n",
      "memory usage: 242.8 KB\n"
     ]
    }
   ],
   "source": [
    "df_products.isna().info()"
   ]
  },
  {
   "cell_type": "code",
   "execution_count": 23,
   "id": "8864149e",
   "metadata": {},
   "outputs": [
    {
     "name": "stdout",
     "output_type": "stream",
     "text": [
      "   product_id                                       product_name  aisle_id  \\\n",
      "0           1                         Chocolate Sandwich Cookies        61   \n",
      "1           2                                   All-Seasons Salt       104   \n",
      "2           3               Robust Golden Unsweetened Oolong Tea        94   \n",
      "3           4  Smart Ones Classic Favorites Mini Rigatoni Wit...        38   \n",
      "4           5                          Green Chile Anytime Sauce         5   \n",
      "\n",
      "   department_id                             product_name_lowercase  \n",
      "0             19                         chocolate sandwich cookies  \n",
      "1             13                                   all-seasons salt  \n",
      "2              7               robust golden unsweetened oolong tea  \n",
      "3              1  smart ones classic favorites mini rigatoni wit...  \n",
      "4             13                          green chile anytime sauce  \n"
     ]
    }
   ],
   "source": [
    "print(df_products.head())"
   ]
  },
  {
   "cell_type": "code",
   "execution_count": 24,
   "id": "e96167bc",
   "metadata": {},
   "outputs": [
    {
     "name": "stdout",
     "output_type": "stream",
     "text": [
      "True\n"
     ]
    }
   ],
   "source": [
    "# Are all of the missing product names associated with aisle ID 100?\n",
    "# Filter on multiple conditions. product_name.isna() & aisle_id == 100\n",
    "\n",
    "print(len(df_products[(df_products['product_name'].isna()) & (df_products['aisle_id'] == 100)]) == df_products['product_name'].isna().sum())"
   ]
  },
  {
   "cell_type": "code",
   "execution_count": 25,
   "id": "8fd0a541",
   "metadata": {},
   "outputs": [
    {
     "name": "stdout",
     "output_type": "stream",
     "text": [
      "True\n"
     ]
    }
   ],
   "source": [
    "# Are all of the missing product names associated with department ID 21?\n",
    "print(len(df_products[(df_products['product_name'].isna()) & (df_products['department_id'] == 21)]) == df_products['product_name'].isna().sum())\n"
   ]
  },
  {
   "cell_type": "code",
   "execution_count": 26,
   "id": "325c3464",
   "metadata": {},
   "outputs": [
    {
     "name": "stdout",
     "output_type": "stream",
     "text": [
      "Aisle: missing\n",
      "Department: missing\n"
     ]
    }
   ],
   "source": [
    "# What is this ailse and department?\n",
    "print('Aisle:', df_aisles[df_aisles['aisle_id'] == 100]['aisle'].values[0])\n",
    "print('Department:', df_departments[df_departments['department_id'] == 21]['department'].values[0])\n"
   ]
  },
  {
   "cell_type": "code",
   "execution_count": 27,
   "id": "6b295120",
   "metadata": {},
   "outputs": [],
   "source": [
    "# Fill missing product names with 'Unknown'\n",
    "df_products['product_name'] = df_products['product_name'].fillna('Unknown')\n"
   ]
  },
  {
   "cell_type": "markdown",
   "id": "7eb45c86",
   "metadata": {},
   "source": [
    "### `orders` data frame"
   ]
  },
  {
   "cell_type": "code",
   "execution_count": 28,
   "id": "93e41d96",
   "metadata": {},
   "outputs": [
    {
     "data": {
      "text/plain": [
       "order_id                      0\n",
       "user_id                       0\n",
       "order_number                  0\n",
       "order_dow                     0\n",
       "order_hour_of_day             0\n",
       "days_since_prior_order    28817\n",
       "dtype: int64"
      ]
     },
     "execution_count": 28,
     "metadata": {},
     "output_type": "execute_result"
    }
   ],
   "source": [
    "df_instacart_orders.isna().sum()"
   ]
  },
  {
   "cell_type": "code",
   "execution_count": 29,
   "id": "166e5a86",
   "metadata": {},
   "outputs": [
    {
     "name": "stdout",
     "output_type": "stream",
     "text": [
      "0\n"
     ]
    }
   ],
   "source": [
    "# Are there any missing values where it's not a customer's first order?\n",
    "print(df_instacart_orders[df_instacart_orders['order_number'] != 1]['days_since_prior_order'].isna().sum())"
   ]
  },
  {
   "cell_type": "markdown",
   "id": "69dc9ca4",
   "metadata": {},
   "source": [
    "### `order_products` data frame"
   ]
  },
  {
   "cell_type": "code",
   "execution_count": 30,
   "id": "b8240253",
   "metadata": {},
   "outputs": [
    {
     "data": {
      "text/plain": [
       "order_id               0\n",
       "product_id             0\n",
       "add_to_cart_order    836\n",
       "reordered              0\n",
       "dtype: int64"
      ]
     },
     "execution_count": 30,
     "metadata": {},
     "output_type": "execute_result"
    }
   ],
   "source": [
    "df_order_products.isna().sum()"
   ]
  },
  {
   "cell_type": "code",
   "execution_count": 31,
   "id": "6f007417",
   "metadata": {},
   "outputs": [
    {
     "name": "stdout",
     "output_type": "stream",
     "text": [
      "   order_id  product_id  add_to_cart_order  reordered\n",
      "0   2141543       11440               17.0          0\n",
      "1    567889        1560                1.0          1\n",
      "2   2261212       26683                1.0          1\n",
      "3    491251        8670               35.0          1\n",
      "4   2571142        1940                5.0          1\n"
     ]
    }
   ],
   "source": [
    "print(df_order_products.head())"
   ]
  },
  {
   "cell_type": "code",
   "execution_count": 32,
   "id": "9a78e5ee",
   "metadata": {},
   "outputs": [
    {
     "name": "stdout",
     "output_type": "stream",
     "text": [
      "Min: 4\n",
      "Max: 3421079\n"
     ]
    }
   ],
   "source": [
    "# What are the min and max values in this column?\n",
    "\n",
    "print('Min:', df_order_products['order_id'].min())\n",
    "\n",
    "print('Max:', df_order_products['order_id'].max())\n"
   ]
  },
  {
   "cell_type": "code",
   "execution_count": 33,
   "id": "ab9d0c2b",
   "metadata": {},
   "outputs": [
    {
     "name": "stdout",
     "output_type": "stream",
     "text": [
      "[2449164 1968313 2926893 1717990 1959075  844733   61355  936852  264710\n",
      " 1564093  129627  293169 2849370 1386261 3308010  903110 2136777 3347453\n",
      " 1888628  165801 2094761 1038146 2997021  813364 2256933  171934 2409109\n",
      " 1730767 1169835  733526  404157 3125735  747668 1800005 1961723  871281\n",
      "  388234 1648217 1477139  102236 1021563 1832957 2721963  678116 1220886\n",
      " 1673227 2999801 1633337 2470674 2625444 1677118 2479011 3383594 1183255\n",
      " 1713430 2652650 1598369 1916118  854647 1302315  888470  180546 2621907\n",
      " 1308785 2729254    9310 2170451 2979697 1625713 1529171]\n"
     ]
    }
   ],
   "source": [
    "# Save all order IDs with at least one missing value in 'add_to_cart_order'\n",
    "# filter df_order_products's add_to_cart_order that are missing (.isna()), subset 'order_id' and use .unique() - save into a variable\n",
    "# print variable\n",
    "\n",
    "df_with_missing_values = df_order_products[df_order_products['add_to_cart_order'].isna()]\n",
    "\n",
    "order_ids_with_missing_values = df_with_missing_values['order_id'].unique()\n",
    "\n",
    "print(order_ids_with_missing_values)"
   ]
  },
  {
   "cell_type": "code",
   "execution_count": 34,
   "id": "ebbadecd",
   "metadata": {},
   "outputs": [
    {
     "data": {
      "text/html": [
       "<div>\n",
       "<style scoped>\n",
       "    .dataframe tbody tr th:only-of-type {\n",
       "        vertical-align: middle;\n",
       "    }\n",
       "\n",
       "    .dataframe tbody tr th {\n",
       "        vertical-align: top;\n",
       "    }\n",
       "\n",
       "    .dataframe thead th {\n",
       "        text-align: right;\n",
       "    }\n",
       "</style>\n",
       "<table border=\"1\" class=\"dataframe\">\n",
       "  <thead>\n",
       "    <tr style=\"text-align: right;\">\n",
       "      <th></th>\n",
       "      <th>order_id</th>\n",
       "      <th>product_id</th>\n",
       "      <th>add_to_cart_order</th>\n",
       "      <th>reordered</th>\n",
       "    </tr>\n",
       "  </thead>\n",
       "  <tbody>\n",
       "    <tr>\n",
       "      <th>0</th>\n",
       "      <td>2141543</td>\n",
       "      <td>11440</td>\n",
       "      <td>17.0</td>\n",
       "      <td>0</td>\n",
       "    </tr>\n",
       "    <tr>\n",
       "      <th>1</th>\n",
       "      <td>567889</td>\n",
       "      <td>1560</td>\n",
       "      <td>1.0</td>\n",
       "      <td>1</td>\n",
       "    </tr>\n",
       "    <tr>\n",
       "      <th>2</th>\n",
       "      <td>2261212</td>\n",
       "      <td>26683</td>\n",
       "      <td>1.0</td>\n",
       "      <td>1</td>\n",
       "    </tr>\n",
       "    <tr>\n",
       "      <th>3</th>\n",
       "      <td>491251</td>\n",
       "      <td>8670</td>\n",
       "      <td>35.0</td>\n",
       "      <td>1</td>\n",
       "    </tr>\n",
       "    <tr>\n",
       "      <th>4</th>\n",
       "      <td>2571142</td>\n",
       "      <td>1940</td>\n",
       "      <td>5.0</td>\n",
       "      <td>1</td>\n",
       "    </tr>\n",
       "    <tr>\n",
       "      <th>...</th>\n",
       "      <td>...</td>\n",
       "      <td>...</td>\n",
       "      <td>...</td>\n",
       "      <td>...</td>\n",
       "    </tr>\n",
       "    <tr>\n",
       "      <th>4545002</th>\n",
       "      <td>577211</td>\n",
       "      <td>15290</td>\n",
       "      <td>12.0</td>\n",
       "      <td>1</td>\n",
       "    </tr>\n",
       "    <tr>\n",
       "      <th>4545003</th>\n",
       "      <td>1219554</td>\n",
       "      <td>21914</td>\n",
       "      <td>9.0</td>\n",
       "      <td>0</td>\n",
       "    </tr>\n",
       "    <tr>\n",
       "      <th>4545004</th>\n",
       "      <td>692640</td>\n",
       "      <td>47766</td>\n",
       "      <td>4.0</td>\n",
       "      <td>1</td>\n",
       "    </tr>\n",
       "    <tr>\n",
       "      <th>4545005</th>\n",
       "      <td>319435</td>\n",
       "      <td>691</td>\n",
       "      <td>8.0</td>\n",
       "      <td>1</td>\n",
       "    </tr>\n",
       "    <tr>\n",
       "      <th>4545006</th>\n",
       "      <td>1398151</td>\n",
       "      <td>28733</td>\n",
       "      <td>9.0</td>\n",
       "      <td>0</td>\n",
       "    </tr>\n",
       "  </tbody>\n",
       "</table>\n",
       "<p>4545007 rows × 4 columns</p>\n",
       "</div>"
      ],
      "text/plain": [
       "         order_id  product_id  add_to_cart_order  reordered\n",
       "0         2141543       11440               17.0          0\n",
       "1          567889        1560                1.0          1\n",
       "2         2261212       26683                1.0          1\n",
       "3          491251        8670               35.0          1\n",
       "4         2571142        1940                5.0          1\n",
       "...           ...         ...                ...        ...\n",
       "4545002    577211       15290               12.0          1\n",
       "4545003   1219554       21914                9.0          0\n",
       "4545004    692640       47766                4.0          1\n",
       "4545005    319435         691                8.0          1\n",
       "4545006   1398151       28733                9.0          0\n",
       "\n",
       "[4545007 rows x 4 columns]"
      ]
     },
     "execution_count": 34,
     "metadata": {},
     "output_type": "execute_result"
    }
   ],
   "source": [
    "df_order_products"
   ]
  },
  {
   "cell_type": "code",
   "execution_count": 35,
   "id": "54c31695",
   "metadata": {
    "scrolled": true
   },
   "outputs": [
    {
     "name": "stdout",
     "output_type": "stream",
     "text": [
      "65\n"
     ]
    }
   ],
   "source": [
    "# Do all orders with missing values have more than 64 products?\n",
    "# filter df_order_products where order_id is in the variable in previous cell (.isin(variable))\n",
    "    # groupby order_id then count product_id\n",
    "    \n",
    "    # Two options:\n",
    "        # sort variable from groupby, print (last value should answer that question)\n",
    "        # use .min() to see the lowest number of products to answer the question\n",
    "        \n",
    "df_with_missing_values = df_order_products[df_order_products['order_id'].isin(order_ids_with_missing_values)].groupby('order_id')['product_id'].count().min()\n",
    "\n",
    "\n",
    "\n",
    "print(df_with_missing_values)\n",
    "        "
   ]
  },
  {
   "cell_type": "markdown",
   "id": "acee4d21",
   "metadata": {},
   "source": [
    "Yes they have more than 64 products since the minimum number of products in those order ids."
   ]
  },
  {
   "cell_type": "code",
   "execution_count": 36,
   "id": "7a987d08",
   "metadata": {},
   "outputs": [
    {
     "data": {
      "text/html": [
       "<div>\n",
       "<style scoped>\n",
       "    .dataframe tbody tr th:only-of-type {\n",
       "        vertical-align: middle;\n",
       "    }\n",
       "\n",
       "    .dataframe tbody tr th {\n",
       "        vertical-align: top;\n",
       "    }\n",
       "\n",
       "    .dataframe thead th {\n",
       "        text-align: right;\n",
       "    }\n",
       "</style>\n",
       "<table border=\"1\" class=\"dataframe\">\n",
       "  <thead>\n",
       "    <tr style=\"text-align: right;\">\n",
       "      <th></th>\n",
       "      <th>order_id</th>\n",
       "      <th>product_id</th>\n",
       "      <th>add_to_cart_order</th>\n",
       "      <th>reordered</th>\n",
       "    </tr>\n",
       "  </thead>\n",
       "  <tbody>\n",
       "    <tr>\n",
       "      <th>0</th>\n",
       "      <td>2141543</td>\n",
       "      <td>11440</td>\n",
       "      <td>17.0</td>\n",
       "      <td>0</td>\n",
       "    </tr>\n",
       "    <tr>\n",
       "      <th>1</th>\n",
       "      <td>567889</td>\n",
       "      <td>1560</td>\n",
       "      <td>1.0</td>\n",
       "      <td>1</td>\n",
       "    </tr>\n",
       "    <tr>\n",
       "      <th>2</th>\n",
       "      <td>2261212</td>\n",
       "      <td>26683</td>\n",
       "      <td>1.0</td>\n",
       "      <td>1</td>\n",
       "    </tr>\n",
       "    <tr>\n",
       "      <th>3</th>\n",
       "      <td>491251</td>\n",
       "      <td>8670</td>\n",
       "      <td>35.0</td>\n",
       "      <td>1</td>\n",
       "    </tr>\n",
       "    <tr>\n",
       "      <th>4</th>\n",
       "      <td>2571142</td>\n",
       "      <td>1940</td>\n",
       "      <td>5.0</td>\n",
       "      <td>1</td>\n",
       "    </tr>\n",
       "    <tr>\n",
       "      <th>...</th>\n",
       "      <td>...</td>\n",
       "      <td>...</td>\n",
       "      <td>...</td>\n",
       "      <td>...</td>\n",
       "    </tr>\n",
       "    <tr>\n",
       "      <th>4545002</th>\n",
       "      <td>577211</td>\n",
       "      <td>15290</td>\n",
       "      <td>12.0</td>\n",
       "      <td>1</td>\n",
       "    </tr>\n",
       "    <tr>\n",
       "      <th>4545003</th>\n",
       "      <td>1219554</td>\n",
       "      <td>21914</td>\n",
       "      <td>9.0</td>\n",
       "      <td>0</td>\n",
       "    </tr>\n",
       "    <tr>\n",
       "      <th>4545004</th>\n",
       "      <td>692640</td>\n",
       "      <td>47766</td>\n",
       "      <td>4.0</td>\n",
       "      <td>1</td>\n",
       "    </tr>\n",
       "    <tr>\n",
       "      <th>4545005</th>\n",
       "      <td>319435</td>\n",
       "      <td>691</td>\n",
       "      <td>8.0</td>\n",
       "      <td>1</td>\n",
       "    </tr>\n",
       "    <tr>\n",
       "      <th>4545006</th>\n",
       "      <td>1398151</td>\n",
       "      <td>28733</td>\n",
       "      <td>9.0</td>\n",
       "      <td>0</td>\n",
       "    </tr>\n",
       "  </tbody>\n",
       "</table>\n",
       "<p>4545007 rows × 4 columns</p>\n",
       "</div>"
      ],
      "text/plain": [
       "         order_id  product_id  add_to_cart_order  reordered\n",
       "0         2141543       11440               17.0          0\n",
       "1          567889        1560                1.0          1\n",
       "2         2261212       26683                1.0          1\n",
       "3          491251        8670               35.0          1\n",
       "4         2571142        1940                5.0          1\n",
       "...           ...         ...                ...        ...\n",
       "4545002    577211       15290               12.0          1\n",
       "4545003   1219554       21914                9.0          0\n",
       "4545004    692640       47766                4.0          1\n",
       "4545005    319435         691                8.0          1\n",
       "4545006   1398151       28733                9.0          0\n",
       "\n",
       "[4545007 rows x 4 columns]"
      ]
     },
     "execution_count": 36,
     "metadata": {},
     "output_type": "execute_result"
    }
   ],
   "source": [
    "# Replace missing values with 999 and convert column to integer type\n",
    "\n",
    "\n",
    "df_order_products['product_id'] = df_order_products['product_id'].fillna(999)\n",
    "\n",
    "df_order_products['product_id'] = df_order_products['product_id'].astype(int)\n",
    "\n",
    "df_order_products\n"
   ]
  },
  {
   "cell_type": "code",
   "execution_count": 37,
   "id": "8d49991d",
   "metadata": {},
   "outputs": [
    {
     "name": "stdout",
     "output_type": "stream",
     "text": [
      "<class 'pandas.core.frame.DataFrame'>\n",
      "RangeIndex: 4545007 entries, 0 to 4545006\n",
      "Data columns (total 4 columns):\n",
      " #   Column             Dtype  \n",
      "---  ------             -----  \n",
      " 0   order_id           int64  \n",
      " 1   product_id         int64  \n",
      " 2   add_to_cart_order  float64\n",
      " 3   reordered          int64  \n",
      "dtypes: float64(1), int64(3)\n",
      "memory usage: 138.7 MB\n"
     ]
    }
   ],
   "source": [
    "df_order_products.info()"
   ]
  },
  {
   "cell_type": "markdown",
   "id": "turkish-kidney",
   "metadata": {},
   "source": [
    "# [A] Easy (must complete all to pass)"
   ]
  },
  {
   "cell_type": "markdown",
   "id": "short-capability",
   "metadata": {},
   "source": [
    "### [A1] Verify that the `'order_hour_of_day'` and `'order_dow'` values in the `orders` tables are sensible (i.e. `'order_hour_of_day'` ranges from 0 to 23 and `'order_dow'` ranges from 0 to 6)"
   ]
  },
  {
   "cell_type": "code",
   "execution_count": 38,
   "id": "growing-fruit",
   "metadata": {},
   "outputs": [
    {
     "name": "stdout",
     "output_type": "stream",
     "text": [
      "The values in 'order_hour_of_day' and 'order_dow' are sensible.\n"
     ]
    }
   ],
   "source": [
    "is_hour_valid = df_instacart_orders['order_hour_of_day'].between(0, 23).all()\n",
    "\n",
    "is_dow_valid = df_instacart_orders['order_dow'].between(0, 6).all()\n",
    "\n",
    "if is_hour_valid and is_dow_valid:\n",
    "    print(\"The values in 'order_hour_of_day' and 'order_dow' are sensible.\")\n",
    "else:\n",
    "    print(\"There are invalid values in 'order_hour_of_day' or 'order_dow'.\")"
   ]
  },
  {
   "cell_type": "markdown",
   "id": "a6743a70",
   "metadata": {},
   "source": [
    "### [A2] What time of day do people shop for groceries?"
   ]
  },
  {
   "cell_type": "code",
   "execution_count": 39,
   "id": "0ad18691",
   "metadata": {},
   "outputs": [
    {
     "data": {
      "text/html": [
       "<div>\n",
       "<style scoped>\n",
       "    .dataframe tbody tr th:only-of-type {\n",
       "        vertical-align: middle;\n",
       "    }\n",
       "\n",
       "    .dataframe tbody tr th {\n",
       "        vertical-align: top;\n",
       "    }\n",
       "\n",
       "    .dataframe thead th {\n",
       "        text-align: right;\n",
       "    }\n",
       "</style>\n",
       "<table border=\"1\" class=\"dataframe\">\n",
       "  <thead>\n",
       "    <tr style=\"text-align: right;\">\n",
       "      <th></th>\n",
       "      <th>order_id</th>\n",
       "      <th>user_id</th>\n",
       "      <th>order_number</th>\n",
       "      <th>order_dow</th>\n",
       "      <th>order_hour_of_day</th>\n",
       "      <th>days_since_prior_order</th>\n",
       "    </tr>\n",
       "  </thead>\n",
       "  <tbody>\n",
       "    <tr>\n",
       "      <th>0</th>\n",
       "      <td>1515936</td>\n",
       "      <td>183418</td>\n",
       "      <td>11</td>\n",
       "      <td>6</td>\n",
       "      <td>13</td>\n",
       "      <td>30.0</td>\n",
       "    </tr>\n",
       "    <tr>\n",
       "      <th>1</th>\n",
       "      <td>1690866</td>\n",
       "      <td>163593</td>\n",
       "      <td>5</td>\n",
       "      <td>5</td>\n",
       "      <td>12</td>\n",
       "      <td>9.0</td>\n",
       "    </tr>\n",
       "    <tr>\n",
       "      <th>2</th>\n",
       "      <td>1454967</td>\n",
       "      <td>39980</td>\n",
       "      <td>4</td>\n",
       "      <td>5</td>\n",
       "      <td>19</td>\n",
       "      <td>2.0</td>\n",
       "    </tr>\n",
       "    <tr>\n",
       "      <th>3</th>\n",
       "      <td>1768857</td>\n",
       "      <td>82516</td>\n",
       "      <td>56</td>\n",
       "      <td>0</td>\n",
       "      <td>20</td>\n",
       "      <td>10.0</td>\n",
       "    </tr>\n",
       "    <tr>\n",
       "      <th>4</th>\n",
       "      <td>3007858</td>\n",
       "      <td>196724</td>\n",
       "      <td>2</td>\n",
       "      <td>4</td>\n",
       "      <td>12</td>\n",
       "      <td>17.0</td>\n",
       "    </tr>\n",
       "  </tbody>\n",
       "</table>\n",
       "</div>"
      ],
      "text/plain": [
       "   order_id  user_id  order_number  order_dow  order_hour_of_day  \\\n",
       "0   1515936   183418            11          6                 13   \n",
       "1   1690866   163593             5          5                 12   \n",
       "2   1454967    39980             4          5                 19   \n",
       "3   1768857    82516            56          0                 20   \n",
       "4   3007858   196724             2          4                 12   \n",
       "\n",
       "   days_since_prior_order  \n",
       "0                    30.0  \n",
       "1                     9.0  \n",
       "2                     2.0  \n",
       "3                    10.0  \n",
       "4                    17.0  "
      ]
     },
     "metadata": {},
     "output_type": "display_data"
    }
   ],
   "source": [
    "display(df_instacart_orders.head())"
   ]
  },
  {
   "cell_type": "code",
   "execution_count": 40,
   "id": "a36cca27",
   "metadata": {},
   "outputs": [
    {
     "data": {
      "image/png": "[encoded data removed]",
      "text/plain": [
       "<Figure size 640x480 with 1 Axes>"
      ]
     },
     "metadata": {},
     "output_type": "display_data"
    }
   ],
   "source": [
    "\n",
    "\n",
    "pd.api.types.is_datetime64_any_dtype(df_instacart_orders['order_hour_of_day'])\n",
    "\n",
    "order_frequency_by_hour = df_instacart_orders['order_hour_of_day'].value_counts().sort_index()\n",
    "\n",
    "\n",
    "order_frequency_by_hour.plot(kind='bar')\n",
    "plt.xlabel('Hour of the Day')\n",
    "plt.ylabel('Number of Orders')\n",
    "plt.title('Instacart Order Frequency by Hour')\n",
    "plt.show()"
   ]
  },
  {
   "cell_type": "markdown",
   "id": "documented-command",
   "metadata": {},
   "source": [
    "### [A3] What day of the week do people shop for groceries?"
   ]
  },
  {
   "cell_type": "code",
   "execution_count": 41,
   "id": "chief-digit",
   "metadata": {},
   "outputs": [
    {
     "name": "stdout",
     "output_type": "stream",
     "text": [
      "The most common day for grocery shopping is: 0\n"
     ]
    },
    {
     "data": {
      "image/png": "[encoded data removed]",
      "text/plain": [
       "<Figure size 640x480 with 1 Axes>"
      ]
     },
     "metadata": {},
     "output_type": "display_data"
    }
   ],
   "source": [
    "most_common_day = df_instacart_orders['order_dow'].mode()[0]\n",
    "days = {0: 'Sunday', 1: 'Monday', 2:'Tuesday', 3: 'Wednesday', 4: 'Thursday', 5: 'Friday', 6: 'Saturday'}\n",
    "orders_per_day = df_instacart_orders.groupby('order_dow')['order_id'].count()\n",
    "orders_per_day.index = orders_per_day.index.map(days)\n",
    "print(f\"The most common day for grocery shopping is: {most_common_day}\")\n",
    "\n",
    "\n",
    "orders_per_day.plot(kind='bar')\n",
    "plt.xlabel('Day of Week')\n",
    "plt.ylabel('Number of Orders')\n",
    "plt.title('Distribution of Orders by Day of Week')\n",
    "plt.show()"
   ]
  },
  {
   "cell_type": "markdown",
   "id": "cutting-concert",
   "metadata": {},
   "source": [
    "### [A4] How long do people wait until placing another order?"
   ]
  },
  {
   "cell_type": "code",
   "execution_count": 42,
   "id": "c231f523",
   "metadata": {},
   "outputs": [
    {
     "data": {
      "image/png": "[encoded data removed]",
      "text/plain": [
       "<Figure size 1000x600 with 1 Axes>"
      ]
     },
     "metadata": {},
     "output_type": "display_data"
    }
   ],
   "source": [
    "\n",
    "df_instacart_orders.groupby('days_since_prior_order')['user_id'].count().plot(kind='bar', figsize=(10,6), xlabel='Days', ylabel='Users', title='Days Until User Places Another Order')\n",
    "plt.show()"
   ]
  },
  {
   "cell_type": "markdown",
   "id": "discrete-vertex",
   "metadata": {},
   "source": []
  },
  {
   "cell_type": "code",
   "execution_count": 43,
   "id": "d9113ad1",
   "metadata": {},
   "outputs": [],
   "source": [
    "days = {0: 'Sunday', 1: 'Monday', 2: 'Tuesday', 3: 'Wednesday', 4: 'Thursday', 5: 'Friday', 6: 'Saturday'}#new directory"
   ]
  },
  {
   "cell_type": "code",
   "execution_count": 44,
   "id": "exciting-fantasy",
   "metadata": {},
   "outputs": [
    {
     "name": "stdout",
     "output_type": "stream",
     "text": [
      "order_dow\n",
      "Sunday       84090\n",
      "Monday       82185\n",
      "Tuesday      65833\n",
      "Wednesday    60897\n",
      "Thursday     59810\n",
      "Friday       63488\n",
      "Saturday     62649\n",
      "Name: order_id, dtype: int64\n"
     ]
    },
    {
     "data": {
      "text/plain": [
       "<AxesSubplot:xlabel='order_dow'>"
      ]
     },
     "execution_count": 44,
     "metadata": {},
     "output_type": "execute_result"
    },
    {
     "data": {
      "image/png": "[encoded data removed]",
      "text/plain": [
       "<Figure size 640x480 with 1 Axes>"
      ]
     },
     "metadata": {},
     "output_type": "display_data"
    }
   ],
   "source": [
    "orders_per_day = df_instacart_orders.groupby('order_dow')['order_id'].count()\n",
    "orders_per_day.index = orders_per_day.index.map(days)\n",
    "print(orders_per_day)\n",
    "orders_per_day.plot(kind='bar')"
   ]
  },
  {
   "cell_type": "markdown",
   "id": "tight-staff",
   "metadata": {},
   "source": [
    "# [B] Medium (must complete all to pass)"
   ]
  },
  {
   "cell_type": "markdown",
   "id": "packed-classic",
   "metadata": {},
   "source": [
    "### [B1] Is there a difference in `'order_hour_of_day'` distributions on Wednesdays and Saturdays? Plot the histograms for both days and describe the differences that you see."
   ]
  },
  {
   "cell_type": "code",
   "execution_count": 45,
   "id": "d89b8403",
   "metadata": {},
   "outputs": [
    {
     "data": {
      "text/html": [
       "<div>\n",
       "<style scoped>\n",
       "    .dataframe tbody tr th:only-of-type {\n",
       "        vertical-align: middle;\n",
       "    }\n",
       "\n",
       "    .dataframe tbody tr th {\n",
       "        vertical-align: top;\n",
       "    }\n",
       "\n",
       "    .dataframe thead th {\n",
       "        text-align: right;\n",
       "    }\n",
       "</style>\n",
       "<table border=\"1\" class=\"dataframe\">\n",
       "  <thead>\n",
       "    <tr style=\"text-align: right;\">\n",
       "      <th></th>\n",
       "      <th>order_id</th>\n",
       "      <th>user_id</th>\n",
       "      <th>order_number</th>\n",
       "      <th>order_dow</th>\n",
       "      <th>order_hour_of_day</th>\n",
       "      <th>days_since_prior_order</th>\n",
       "    </tr>\n",
       "  </thead>\n",
       "  <tbody>\n",
       "    <tr>\n",
       "      <th>0</th>\n",
       "      <td>1515936</td>\n",
       "      <td>183418</td>\n",
       "      <td>11</td>\n",
       "      <td>6</td>\n",
       "      <td>13</td>\n",
       "      <td>30.0</td>\n",
       "    </tr>\n",
       "    <tr>\n",
       "      <th>1</th>\n",
       "      <td>1690866</td>\n",
       "      <td>163593</td>\n",
       "      <td>5</td>\n",
       "      <td>5</td>\n",
       "      <td>12</td>\n",
       "      <td>9.0</td>\n",
       "    </tr>\n",
       "    <tr>\n",
       "      <th>2</th>\n",
       "      <td>1454967</td>\n",
       "      <td>39980</td>\n",
       "      <td>4</td>\n",
       "      <td>5</td>\n",
       "      <td>19</td>\n",
       "      <td>2.0</td>\n",
       "    </tr>\n",
       "    <tr>\n",
       "      <th>3</th>\n",
       "      <td>1768857</td>\n",
       "      <td>82516</td>\n",
       "      <td>56</td>\n",
       "      <td>0</td>\n",
       "      <td>20</td>\n",
       "      <td>10.0</td>\n",
       "    </tr>\n",
       "    <tr>\n",
       "      <th>4</th>\n",
       "      <td>3007858</td>\n",
       "      <td>196724</td>\n",
       "      <td>2</td>\n",
       "      <td>4</td>\n",
       "      <td>12</td>\n",
       "      <td>17.0</td>\n",
       "    </tr>\n",
       "  </tbody>\n",
       "</table>\n",
       "</div>"
      ],
      "text/plain": [
       "   order_id  user_id  order_number  order_dow  order_hour_of_day  \\\n",
       "0   1515936   183418            11          6                 13   \n",
       "1   1690866   163593             5          5                 12   \n",
       "2   1454967    39980             4          5                 19   \n",
       "3   1768857    82516            56          0                 20   \n",
       "4   3007858   196724             2          4                 12   \n",
       "\n",
       "   days_since_prior_order  \n",
       "0                    30.0  \n",
       "1                     9.0  \n",
       "2                     2.0  \n",
       "3                    10.0  \n",
       "4                    17.0  "
      ]
     },
     "execution_count": 45,
     "metadata": {},
     "output_type": "execute_result"
    }
   ],
   "source": [
    "df_instacart_orders.head()"
   ]
  },
  {
   "cell_type": "code",
   "execution_count": 46,
   "id": "94e54e8a",
   "metadata": {},
   "outputs": [],
   "source": [
    "wednesday_orders = df_instacart_orders[df_instacart_orders['order_dow'] == 3]\n",
    "\n",
    "saturday_orders = df_instacart_orders[df_instacart_orders['order_dow'] == 6]\n"
   ]
  },
  {
   "cell_type": "code",
   "execution_count": 47,
   "id": "797c90a8",
   "metadata": {},
   "outputs": [
    {
     "data": {
      "image/png": "[encoded data removed]",
      "text/plain": [
       "<Figure size 1200x600 with 2 Axes>"
      ]
     },
     "metadata": {},
     "output_type": "display_data"
    }
   ],
   "source": [
    "import seaborn as sns\n",
    "\n",
    "plt.figure(figsize=(12, 6))\n",
    "\n",
    "plt.subplot(1, 2, 1)\n",
    "\n",
    "sns.histplot(wednesday_orders['order_hour_of_day'], bins=24, kde=True, color='blue')\n",
    "\n",
    "plt.title('Order Hour Distribution on Wednesdays')\n",
    "\n",
    "plt.xlabel('Hour of Day')\n",
    "\n",
    "plt.ylabel('Number of Orders')\n",
    "\n",
    "plt.subplot(1, 2, 2)\n",
    "\n",
    "sns.histplot(saturday_orders['order_hour_of_day'], bins=24, kde=True, color='orange')\n",
    "\n",
    "plt.title('Order Hour Distribution on Saturdays')\n",
    "\n",
    "plt.xlabel('Hour of Day')\n",
    "\n",
    "plt.ylabel('Number of Orders')\n",
    "\n",
    "plt.tight_layout()\n",
    "\n",
    "plt.show()\n",
    "\n"
   ]
  },
  {
   "cell_type": "markdown",
   "id": "e3891143",
   "metadata": {},
   "source": [
    "### [B2] What's the distribution for the number of orders per customer?"
   ]
  },
  {
   "cell_type": "code",
   "execution_count": 48,
   "id": "d8c26c23",
   "metadata": {},
   "outputs": [
    {
     "data": {
      "text/html": [
       "<div>\n",
       "<style scoped>\n",
       "    .dataframe tbody tr th:only-of-type {\n",
       "        vertical-align: middle;\n",
       "    }\n",
       "\n",
       "    .dataframe tbody tr th {\n",
       "        vertical-align: top;\n",
       "    }\n",
       "\n",
       "    .dataframe thead th {\n",
       "        text-align: right;\n",
       "    }\n",
       "</style>\n",
       "<table border=\"1\" class=\"dataframe\">\n",
       "  <thead>\n",
       "    <tr style=\"text-align: right;\">\n",
       "      <th></th>\n",
       "      <th>order_id</th>\n",
       "      <th>user_id</th>\n",
       "      <th>order_number</th>\n",
       "      <th>order_dow</th>\n",
       "      <th>order_hour_of_day</th>\n",
       "      <th>days_since_prior_order</th>\n",
       "    </tr>\n",
       "  </thead>\n",
       "  <tbody>\n",
       "    <tr>\n",
       "      <th>0</th>\n",
       "      <td>1515936</td>\n",
       "      <td>183418</td>\n",
       "      <td>11</td>\n",
       "      <td>6</td>\n",
       "      <td>13</td>\n",
       "      <td>30.0</td>\n",
       "    </tr>\n",
       "    <tr>\n",
       "      <th>1</th>\n",
       "      <td>1690866</td>\n",
       "      <td>163593</td>\n",
       "      <td>5</td>\n",
       "      <td>5</td>\n",
       "      <td>12</td>\n",
       "      <td>9.0</td>\n",
       "    </tr>\n",
       "    <tr>\n",
       "      <th>2</th>\n",
       "      <td>1454967</td>\n",
       "      <td>39980</td>\n",
       "      <td>4</td>\n",
       "      <td>5</td>\n",
       "      <td>19</td>\n",
       "      <td>2.0</td>\n",
       "    </tr>\n",
       "    <tr>\n",
       "      <th>3</th>\n",
       "      <td>1768857</td>\n",
       "      <td>82516</td>\n",
       "      <td>56</td>\n",
       "      <td>0</td>\n",
       "      <td>20</td>\n",
       "      <td>10.0</td>\n",
       "    </tr>\n",
       "    <tr>\n",
       "      <th>4</th>\n",
       "      <td>3007858</td>\n",
       "      <td>196724</td>\n",
       "      <td>2</td>\n",
       "      <td>4</td>\n",
       "      <td>12</td>\n",
       "      <td>17.0</td>\n",
       "    </tr>\n",
       "  </tbody>\n",
       "</table>\n",
       "</div>"
      ],
      "text/plain": [
       "   order_id  user_id  order_number  order_dow  order_hour_of_day  \\\n",
       "0   1515936   183418            11          6                 13   \n",
       "1   1690866   163593             5          5                 12   \n",
       "2   1454967    39980             4          5                 19   \n",
       "3   1768857    82516            56          0                 20   \n",
       "4   3007858   196724             2          4                 12   \n",
       "\n",
       "   days_since_prior_order  \n",
       "0                    30.0  \n",
       "1                     9.0  \n",
       "2                     2.0  \n",
       "3                    10.0  \n",
       "4                    17.0  "
      ]
     },
     "execution_count": 48,
     "metadata": {},
     "output_type": "execute_result"
    }
   ],
   "source": [
    "df_instacart_orders.head()"
   ]
  },
  {
   "cell_type": "code",
   "execution_count": 49,
   "id": "00e69a66",
   "metadata": {},
   "outputs": [
    {
     "name": "stdout",
     "output_type": "stream",
     "text": [
      "Difference in the number of orders per customer: 27\n"
     ]
    },
    {
     "data": {
      "image/png": "[encoded data removed]",
      "text/plain": [
       "<Figure size 1000x600 with 1 Axes>"
      ]
     },
     "metadata": {},
     "output_type": "display_data"
    }
   ],
   "source": [
    "orders_per_customer = df_instacart_orders.groupby('user_id').size()\n",
    "\n",
    "difference_in_orders = orders_per_customer.max() - orders_per_customer.min()\n",
    "\n",
    "print(\"Difference in the number of orders per customer:\", difference_in_orders)\n",
    "\n",
    "plt.figure(figsize=(10, 6))\n",
    "orders_per_customer.plot(kind='hist', bins=30)\n",
    "plt.xlabel('Number of Orders')\n",
    "plt.ylabel('Number of Customers')\n",
    "plt.title('Distribution of Orders per Customer')\n",
    "plt.show()"
   ]
  },
  {
   "cell_type": "markdown",
   "id": "54a0319c",
   "metadata": {},
   "source": [
    "### [B3] What are the top 20 popular products (display their id and name)?"
   ]
  },
  {
   "cell_type": "code",
   "execution_count": 50,
   "id": "exterior-arizona",
   "metadata": {
    "scrolled": true
   },
   "outputs": [
    {
     "data": {
      "text/html": [
       "<div>\n",
       "<style scoped>\n",
       "    .dataframe tbody tr th:only-of-type {\n",
       "        vertical-align: middle;\n",
       "    }\n",
       "\n",
       "    .dataframe tbody tr th {\n",
       "        vertical-align: top;\n",
       "    }\n",
       "\n",
       "    .dataframe thead th {\n",
       "        text-align: right;\n",
       "    }\n",
       "</style>\n",
       "<table border=\"1\" class=\"dataframe\">\n",
       "  <thead>\n",
       "    <tr style=\"text-align: right;\">\n",
       "      <th></th>\n",
       "      <th>order_id</th>\n",
       "      <th>user_id</th>\n",
       "      <th>order_number</th>\n",
       "      <th>order_dow</th>\n",
       "      <th>order_hour_of_day</th>\n",
       "      <th>days_since_prior_order</th>\n",
       "    </tr>\n",
       "  </thead>\n",
       "  <tbody>\n",
       "    <tr>\n",
       "      <th>0</th>\n",
       "      <td>1515936</td>\n",
       "      <td>183418</td>\n",
       "      <td>11</td>\n",
       "      <td>6</td>\n",
       "      <td>13</td>\n",
       "      <td>30.0</td>\n",
       "    </tr>\n",
       "    <tr>\n",
       "      <th>1</th>\n",
       "      <td>1690866</td>\n",
       "      <td>163593</td>\n",
       "      <td>5</td>\n",
       "      <td>5</td>\n",
       "      <td>12</td>\n",
       "      <td>9.0</td>\n",
       "    </tr>\n",
       "    <tr>\n",
       "      <th>2</th>\n",
       "      <td>1454967</td>\n",
       "      <td>39980</td>\n",
       "      <td>4</td>\n",
       "      <td>5</td>\n",
       "      <td>19</td>\n",
       "      <td>2.0</td>\n",
       "    </tr>\n",
       "    <tr>\n",
       "      <th>3</th>\n",
       "      <td>1768857</td>\n",
       "      <td>82516</td>\n",
       "      <td>56</td>\n",
       "      <td>0</td>\n",
       "      <td>20</td>\n",
       "      <td>10.0</td>\n",
       "    </tr>\n",
       "    <tr>\n",
       "      <th>4</th>\n",
       "      <td>3007858</td>\n",
       "      <td>196724</td>\n",
       "      <td>2</td>\n",
       "      <td>4</td>\n",
       "      <td>12</td>\n",
       "      <td>17.0</td>\n",
       "    </tr>\n",
       "  </tbody>\n",
       "</table>\n",
       "</div>"
      ],
      "text/plain": [
       "   order_id  user_id  order_number  order_dow  order_hour_of_day  \\\n",
       "0   1515936   183418            11          6                 13   \n",
       "1   1690866   163593             5          5                 12   \n",
       "2   1454967    39980             4          5                 19   \n",
       "3   1768857    82516            56          0                 20   \n",
       "4   3007858   196724             2          4                 12   \n",
       "\n",
       "   days_since_prior_order  \n",
       "0                    30.0  \n",
       "1                     9.0  \n",
       "2                     2.0  \n",
       "3                    10.0  \n",
       "4                    17.0  "
      ]
     },
     "execution_count": 50,
     "metadata": {},
     "output_type": "execute_result"
    }
   ],
   "source": [
    "df_instacart_orders.head()"
   ]
  },
  {
   "cell_type": "code",
   "execution_count": 51,
   "id": "universal-facial",
   "metadata": {},
   "outputs": [
    {
     "data": {
      "text/plain": [
       "product_id  product_name            \n",
       "24852       Banana                      66050\n",
       "13176       Bag of Organic Bananas      53297\n",
       "21137       Organic Strawberries        37039\n",
       "21903       Organic Baby Spinach        33971\n",
       "47209       Organic Hass Avocado        29773\n",
       "47766       Organic Avocado             24689\n",
       "47626       Large Lemon                 21495\n",
       "16797       Strawberries                20018\n",
       "26209       Limes                       19690\n",
       "27845       Organic Whole Milk          19600\n",
       "27966       Organic Raspberries         19197\n",
       "22935       Organic Yellow Onion        15898\n",
       "24964       Organic Garlic              15292\n",
       "45007       Organic Zucchini            14584\n",
       "39275       Organic Blueberries         13879\n",
       "49683       Cucumber Kirby              13675\n",
       "28204       Organic Fuji Apple          12544\n",
       "5876        Organic Lemon               12232\n",
       "8277        Apple Honeycrisp Organic    11993\n",
       "40706       Organic Grape Tomatoes      11781\n",
       "dtype: int64"
      ]
     },
     "execution_count": 51,
     "metadata": {},
     "output_type": "execute_result"
    }
   ],
   "source": [
    "product_counts = df_instacart_orders['order_number'].value_counts()\n",
    "\n",
    "top_20_products = product_counts.head(20).index\n",
    "\n",
    "top_20_products = df_instacart_orders[df_instacart_orders['order_number'].isin(top_20_products)]\n",
    "\n",
    "top_20_products = top_20_products.merge(product_counts.head(20), left_on='order_number', right_index=True)\n",
    "\n",
    "\n",
    "merged = pd.merge(df_order_products, df_products, on='product_id')\n",
    "product_counts = merged.groupby(['product_id', 'product_name']).size()\n",
    "product_counts.sort_values(ascending=False).head(20)"
   ]
  },
  {
   "cell_type": "markdown",
   "id": "gross-theme",
   "metadata": {},
   "source": [
    "# [C] Hard (must complete at least two to pass)"
   ]
  },
  {
   "cell_type": "markdown",
   "id": "romantic-deposit",
   "metadata": {},
   "source": [
    "### [C1] How many items do people typically buy in one order? What does the distribution look like?"
   ]
  },
  {
   "cell_type": "code",
   "execution_count": 52,
   "id": "virtual-punch",
   "metadata": {},
   "outputs": [
    {
     "data": {
      "text/html": [
       "<div>\n",
       "<style scoped>\n",
       "    .dataframe tbody tr th:only-of-type {\n",
       "        vertical-align: middle;\n",
       "    }\n",
       "\n",
       "    .dataframe tbody tr th {\n",
       "        vertical-align: top;\n",
       "    }\n",
       "\n",
       "    .dataframe thead th {\n",
       "        text-align: right;\n",
       "    }\n",
       "</style>\n",
       "<table border=\"1\" class=\"dataframe\">\n",
       "  <thead>\n",
       "    <tr style=\"text-align: right;\">\n",
       "      <th></th>\n",
       "      <th>order_id</th>\n",
       "      <th>user_id</th>\n",
       "      <th>order_number</th>\n",
       "      <th>order_dow</th>\n",
       "      <th>order_hour_of_day</th>\n",
       "      <th>days_since_prior_order</th>\n",
       "    </tr>\n",
       "  </thead>\n",
       "  <tbody>\n",
       "    <tr>\n",
       "      <th>0</th>\n",
       "      <td>1515936</td>\n",
       "      <td>183418</td>\n",
       "      <td>11</td>\n",
       "      <td>6</td>\n",
       "      <td>13</td>\n",
       "      <td>30.0</td>\n",
       "    </tr>\n",
       "    <tr>\n",
       "      <th>1</th>\n",
       "      <td>1690866</td>\n",
       "      <td>163593</td>\n",
       "      <td>5</td>\n",
       "      <td>5</td>\n",
       "      <td>12</td>\n",
       "      <td>9.0</td>\n",
       "    </tr>\n",
       "    <tr>\n",
       "      <th>2</th>\n",
       "      <td>1454967</td>\n",
       "      <td>39980</td>\n",
       "      <td>4</td>\n",
       "      <td>5</td>\n",
       "      <td>19</td>\n",
       "      <td>2.0</td>\n",
       "    </tr>\n",
       "    <tr>\n",
       "      <th>3</th>\n",
       "      <td>1768857</td>\n",
       "      <td>82516</td>\n",
       "      <td>56</td>\n",
       "      <td>0</td>\n",
       "      <td>20</td>\n",
       "      <td>10.0</td>\n",
       "    </tr>\n",
       "    <tr>\n",
       "      <th>4</th>\n",
       "      <td>3007858</td>\n",
       "      <td>196724</td>\n",
       "      <td>2</td>\n",
       "      <td>4</td>\n",
       "      <td>12</td>\n",
       "      <td>17.0</td>\n",
       "    </tr>\n",
       "  </tbody>\n",
       "</table>\n",
       "</div>"
      ],
      "text/plain": [
       "   order_id  user_id  order_number  order_dow  order_hour_of_day  \\\n",
       "0   1515936   183418            11          6                 13   \n",
       "1   1690866   163593             5          5                 12   \n",
       "2   1454967    39980             4          5                 19   \n",
       "3   1768857    82516            56          0                 20   \n",
       "4   3007858   196724             2          4                 12   \n",
       "\n",
       "   days_since_prior_order  \n",
       "0                    30.0  \n",
       "1                     9.0  \n",
       "2                     2.0  \n",
       "3                    10.0  \n",
       "4                    17.0  "
      ]
     },
     "execution_count": 52,
     "metadata": {},
     "output_type": "execute_result"
    }
   ],
   "source": [
    "df_instacart_orders.head()"
   ]
  },
  {
   "cell_type": "code",
   "execution_count": 53,
   "id": "sensitive-breathing",
   "metadata": {},
   "outputs": [
    {
     "name": "stdout",
     "output_type": "stream",
     "text": [
      "10.098983215049127\n"
     ]
    }
   ],
   "source": [
    "order_counts = df_order_products.groupby('order_id')['product_id'].count()\n",
    "\n",
    "average_items_per_order = order_counts.mean()\n",
    "\n",
    "print(average_items_per_order)"
   ]
  },
  {
   "cell_type": "code",
   "execution_count": 54,
   "id": "completed-frank",
   "metadata": {},
   "outputs": [
    {
     "data": {
      "image/png": "[encoded data removed]",
      "text/plain": [
       "<Figure size 640x480 with 1 Axes>"
      ]
     },
     "metadata": {},
     "output_type": "display_data"
    }
   ],
   "source": [
    "import matplotlib.pyplot as plt\n",
    "\n",
    "import seaborn as sns\n",
    "\n",
    "sns.histplot(order_counts, bins=30, kde=False)\n",
    "\n",
    "plt.xlabel('Distribution of Items per Order')\n",
    "\n",
    "plt.ylabel('Number of Items')\n",
    "\n",
    "plt.title('Frequency')\n",
    "\n",
    "plt.show()"
   ]
  },
  {
   "cell_type": "markdown",
   "id": "5e6b5537",
   "metadata": {},
   "source": [
    "### [C2] What are the top 20 items that are reordered most frequently (display their names and product IDs)?"
   ]
  },
  {
   "cell_type": "code",
   "execution_count": 55,
   "id": "54d49a19",
   "metadata": {},
   "outputs": [
    {
     "data": {
      "text/html": [
       "<div>\n",
       "<style scoped>\n",
       "    .dataframe tbody tr th:only-of-type {\n",
       "        vertical-align: middle;\n",
       "    }\n",
       "\n",
       "    .dataframe tbody tr th {\n",
       "        vertical-align: top;\n",
       "    }\n",
       "\n",
       "    .dataframe thead th {\n",
       "        text-align: right;\n",
       "    }\n",
       "</style>\n",
       "<table border=\"1\" class=\"dataframe\">\n",
       "  <thead>\n",
       "    <tr style=\"text-align: right;\">\n",
       "      <th></th>\n",
       "      <th>order_id</th>\n",
       "      <th>product_id</th>\n",
       "      <th>add_to_cart_order</th>\n",
       "      <th>reordered</th>\n",
       "    </tr>\n",
       "  </thead>\n",
       "  <tbody>\n",
       "    <tr>\n",
       "      <th>0</th>\n",
       "      <td>2141543</td>\n",
       "      <td>11440</td>\n",
       "      <td>17.0</td>\n",
       "      <td>0</td>\n",
       "    </tr>\n",
       "    <tr>\n",
       "      <th>1</th>\n",
       "      <td>567889</td>\n",
       "      <td>1560</td>\n",
       "      <td>1.0</td>\n",
       "      <td>1</td>\n",
       "    </tr>\n",
       "    <tr>\n",
       "      <th>2</th>\n",
       "      <td>2261212</td>\n",
       "      <td>26683</td>\n",
       "      <td>1.0</td>\n",
       "      <td>1</td>\n",
       "    </tr>\n",
       "    <tr>\n",
       "      <th>3</th>\n",
       "      <td>491251</td>\n",
       "      <td>8670</td>\n",
       "      <td>35.0</td>\n",
       "      <td>1</td>\n",
       "    </tr>\n",
       "    <tr>\n",
       "      <th>4</th>\n",
       "      <td>2571142</td>\n",
       "      <td>1940</td>\n",
       "      <td>5.0</td>\n",
       "      <td>1</td>\n",
       "    </tr>\n",
       "    <tr>\n",
       "      <th>...</th>\n",
       "      <td>...</td>\n",
       "      <td>...</td>\n",
       "      <td>...</td>\n",
       "      <td>...</td>\n",
       "    </tr>\n",
       "    <tr>\n",
       "      <th>4545002</th>\n",
       "      <td>577211</td>\n",
       "      <td>15290</td>\n",
       "      <td>12.0</td>\n",
       "      <td>1</td>\n",
       "    </tr>\n",
       "    <tr>\n",
       "      <th>4545003</th>\n",
       "      <td>1219554</td>\n",
       "      <td>21914</td>\n",
       "      <td>9.0</td>\n",
       "      <td>0</td>\n",
       "    </tr>\n",
       "    <tr>\n",
       "      <th>4545004</th>\n",
       "      <td>692640</td>\n",
       "      <td>47766</td>\n",
       "      <td>4.0</td>\n",
       "      <td>1</td>\n",
       "    </tr>\n",
       "    <tr>\n",
       "      <th>4545005</th>\n",
       "      <td>319435</td>\n",
       "      <td>691</td>\n",
       "      <td>8.0</td>\n",
       "      <td>1</td>\n",
       "    </tr>\n",
       "    <tr>\n",
       "      <th>4545006</th>\n",
       "      <td>1398151</td>\n",
       "      <td>28733</td>\n",
       "      <td>9.0</td>\n",
       "      <td>0</td>\n",
       "    </tr>\n",
       "  </tbody>\n",
       "</table>\n",
       "<p>4545007 rows × 4 columns</p>\n",
       "</div>"
      ],
      "text/plain": [
       "         order_id  product_id  add_to_cart_order  reordered\n",
       "0         2141543       11440               17.0          0\n",
       "1          567889        1560                1.0          1\n",
       "2         2261212       26683                1.0          1\n",
       "3          491251        8670               35.0          1\n",
       "4         2571142        1940                5.0          1\n",
       "...           ...         ...                ...        ...\n",
       "4545002    577211       15290               12.0          1\n",
       "4545003   1219554       21914                9.0          0\n",
       "4545004    692640       47766                4.0          1\n",
       "4545005    319435         691                8.0          1\n",
       "4545006   1398151       28733                9.0          0\n",
       "\n",
       "[4545007 rows x 4 columns]"
      ]
     },
     "execution_count": 55,
     "metadata": {},
     "output_type": "execute_result"
    }
   ],
   "source": [
    "df_order_products"
   ]
  },
  {
   "cell_type": "code",
   "execution_count": 56,
   "id": "9374e55a",
   "metadata": {},
   "outputs": [
    {
     "data": {
      "text/html": [
       "<div>\n",
       "<style scoped>\n",
       "    .dataframe tbody tr th:only-of-type {\n",
       "        vertical-align: middle;\n",
       "    }\n",
       "\n",
       "    .dataframe tbody tr th {\n",
       "        vertical-align: top;\n",
       "    }\n",
       "\n",
       "    .dataframe thead th {\n",
       "        text-align: right;\n",
       "    }\n",
       "</style>\n",
       "<table border=\"1\" class=\"dataframe\">\n",
       "  <thead>\n",
       "    <tr style=\"text-align: right;\">\n",
       "      <th></th>\n",
       "      <th>product_id</th>\n",
       "      <th>number_of_reorder</th>\n",
       "      <th>product_name</th>\n",
       "    </tr>\n",
       "  </thead>\n",
       "  <tbody>\n",
       "    <tr>\n",
       "      <th>0</th>\n",
       "      <td>24852</td>\n",
       "      <td>55763</td>\n",
       "      <td>Banana</td>\n",
       "    </tr>\n",
       "    <tr>\n",
       "      <th>1</th>\n",
       "      <td>13176</td>\n",
       "      <td>44450</td>\n",
       "      <td>Bag of Organic Bananas</td>\n",
       "    </tr>\n",
       "    <tr>\n",
       "      <th>2</th>\n",
       "      <td>21137</td>\n",
       "      <td>28639</td>\n",
       "      <td>Organic Strawberries</td>\n",
       "    </tr>\n",
       "    <tr>\n",
       "      <th>3</th>\n",
       "      <td>21903</td>\n",
       "      <td>26233</td>\n",
       "      <td>Organic Baby Spinach</td>\n",
       "    </tr>\n",
       "    <tr>\n",
       "      <th>4</th>\n",
       "      <td>47209</td>\n",
       "      <td>23629</td>\n",
       "      <td>Organic Hass Avocado</td>\n",
       "    </tr>\n",
       "    <tr>\n",
       "      <th>5</th>\n",
       "      <td>47766</td>\n",
       "      <td>18743</td>\n",
       "      <td>Organic Avocado</td>\n",
       "    </tr>\n",
       "    <tr>\n",
       "      <th>6</th>\n",
       "      <td>27845</td>\n",
       "      <td>16251</td>\n",
       "      <td>Organic Whole Milk</td>\n",
       "    </tr>\n",
       "    <tr>\n",
       "      <th>7</th>\n",
       "      <td>47626</td>\n",
       "      <td>15044</td>\n",
       "      <td>Large Lemon</td>\n",
       "    </tr>\n",
       "    <tr>\n",
       "      <th>8</th>\n",
       "      <td>27966</td>\n",
       "      <td>14748</td>\n",
       "      <td>Organic Raspberries</td>\n",
       "    </tr>\n",
       "    <tr>\n",
       "      <th>9</th>\n",
       "      <td>16797</td>\n",
       "      <td>13945</td>\n",
       "      <td>Strawberries</td>\n",
       "    </tr>\n",
       "    <tr>\n",
       "      <th>10</th>\n",
       "      <td>26209</td>\n",
       "      <td>13327</td>\n",
       "      <td>Limes</td>\n",
       "    </tr>\n",
       "    <tr>\n",
       "      <th>11</th>\n",
       "      <td>22935</td>\n",
       "      <td>11145</td>\n",
       "      <td>Organic Yellow Onion</td>\n",
       "    </tr>\n",
       "    <tr>\n",
       "      <th>12</th>\n",
       "      <td>24964</td>\n",
       "      <td>10411</td>\n",
       "      <td>Organic Garlic</td>\n",
       "    </tr>\n",
       "    <tr>\n",
       "      <th>13</th>\n",
       "      <td>45007</td>\n",
       "      <td>10076</td>\n",
       "      <td>Organic Zucchini</td>\n",
       "    </tr>\n",
       "    <tr>\n",
       "      <th>14</th>\n",
       "      <td>49683</td>\n",
       "      <td>9538</td>\n",
       "      <td>Cucumber Kirby</td>\n",
       "    </tr>\n",
       "    <tr>\n",
       "      <th>15</th>\n",
       "      <td>28204</td>\n",
       "      <td>8989</td>\n",
       "      <td>Organic Fuji Apple</td>\n",
       "    </tr>\n",
       "    <tr>\n",
       "      <th>16</th>\n",
       "      <td>8277</td>\n",
       "      <td>8836</td>\n",
       "      <td>Apple Honeycrisp Organic</td>\n",
       "    </tr>\n",
       "    <tr>\n",
       "      <th>17</th>\n",
       "      <td>39275</td>\n",
       "      <td>8799</td>\n",
       "      <td>Organic Blueberries</td>\n",
       "    </tr>\n",
       "    <tr>\n",
       "      <th>18</th>\n",
       "      <td>5876</td>\n",
       "      <td>8412</td>\n",
       "      <td>Organic Lemon</td>\n",
       "    </tr>\n",
       "    <tr>\n",
       "      <th>19</th>\n",
       "      <td>49235</td>\n",
       "      <td>8389</td>\n",
       "      <td>Organic Half &amp; Half</td>\n",
       "    </tr>\n",
       "  </tbody>\n",
       "</table>\n",
       "</div>"
      ],
      "text/plain": [
       "    product_id  number_of_reorder              product_name\n",
       "0        24852              55763                    Banana\n",
       "1        13176              44450    Bag of Organic Bananas\n",
       "2        21137              28639      Organic Strawberries\n",
       "3        21903              26233      Organic Baby Spinach\n",
       "4        47209              23629      Organic Hass Avocado\n",
       "5        47766              18743           Organic Avocado\n",
       "6        27845              16251        Organic Whole Milk\n",
       "7        47626              15044               Large Lemon\n",
       "8        27966              14748       Organic Raspberries\n",
       "9        16797              13945              Strawberries\n",
       "10       26209              13327                     Limes\n",
       "11       22935              11145      Organic Yellow Onion\n",
       "12       24964              10411            Organic Garlic\n",
       "13       45007              10076          Organic Zucchini\n",
       "14       49683               9538            Cucumber Kirby\n",
       "15       28204               8989        Organic Fuji Apple\n",
       "16        8277               8836  Apple Honeycrisp Organic\n",
       "17       39275               8799       Organic Blueberries\n",
       "18        5876               8412             Organic Lemon\n",
       "19       49235               8389       Organic Half & Half"
      ]
     },
     "execution_count": 56,
     "metadata": {},
     "output_type": "execute_result"
    }
   ],
   "source": [
    "reorder_df = df_order_products[df_order_products['reordered'] == 1]\n",
    "top_20_reorder_id = reorder_df['product_id'].value_counts()[:20].reset_index()\n",
    "top_20_reorder_id = top_20_reorder_id.rename(columns={'index': 'product_id', 'product_id': 'number_of_reorder'})\n",
    "top_20_reorder = top_20_reorder_id.merge(df_products[['product_id', 'product_name']], on='product_id', how='left')\n",
    "top_20_reorder"
   ]
  },
  {
   "cell_type": "code",
   "execution_count": 57,
   "id": "86d803a2",
   "metadata": {},
   "outputs": [
    {
     "data": {
      "text/html": [
       "<div>\n",
       "<style scoped>\n",
       "    .dataframe tbody tr th:only-of-type {\n",
       "        vertical-align: middle;\n",
       "    }\n",
       "\n",
       "    .dataframe tbody tr th {\n",
       "        vertical-align: top;\n",
       "    }\n",
       "\n",
       "    .dataframe thead th {\n",
       "        text-align: right;\n",
       "    }\n",
       "</style>\n",
       "<table border=\"1\" class=\"dataframe\">\n",
       "  <thead>\n",
       "    <tr style=\"text-align: right;\">\n",
       "      <th></th>\n",
       "      <th>order_id</th>\n",
       "      <th>product_id</th>\n",
       "      <th>add_to_cart_order</th>\n",
       "      <th>reordered</th>\n",
       "    </tr>\n",
       "  </thead>\n",
       "  <tbody>\n",
       "    <tr>\n",
       "      <th>100</th>\n",
       "      <td>194806</td>\n",
       "      <td>24852</td>\n",
       "      <td>3.0</td>\n",
       "      <td>1</td>\n",
       "    </tr>\n",
       "    <tr>\n",
       "      <th>109</th>\n",
       "      <td>3176371</td>\n",
       "      <td>24852</td>\n",
       "      <td>1.0</td>\n",
       "      <td>1</td>\n",
       "    </tr>\n",
       "    <tr>\n",
       "      <th>151</th>\n",
       "      <td>1442232</td>\n",
       "      <td>24852</td>\n",
       "      <td>3.0</td>\n",
       "      <td>1</td>\n",
       "    </tr>\n",
       "    <tr>\n",
       "      <th>362</th>\n",
       "      <td>1926105</td>\n",
       "      <td>24852</td>\n",
       "      <td>3.0</td>\n",
       "      <td>1</td>\n",
       "    </tr>\n",
       "    <tr>\n",
       "      <th>424</th>\n",
       "      <td>1544211</td>\n",
       "      <td>24852</td>\n",
       "      <td>1.0</td>\n",
       "      <td>1</td>\n",
       "    </tr>\n",
       "    <tr>\n",
       "      <th>...</th>\n",
       "      <td>...</td>\n",
       "      <td>...</td>\n",
       "      <td>...</td>\n",
       "      <td>...</td>\n",
       "    </tr>\n",
       "    <tr>\n",
       "      <th>4544722</th>\n",
       "      <td>3006846</td>\n",
       "      <td>24852</td>\n",
       "      <td>2.0</td>\n",
       "      <td>1</td>\n",
       "    </tr>\n",
       "    <tr>\n",
       "      <th>4544731</th>\n",
       "      <td>2713872</td>\n",
       "      <td>24852</td>\n",
       "      <td>7.0</td>\n",
       "      <td>1</td>\n",
       "    </tr>\n",
       "    <tr>\n",
       "      <th>4544823</th>\n",
       "      <td>2774827</td>\n",
       "      <td>24852</td>\n",
       "      <td>2.0</td>\n",
       "      <td>1</td>\n",
       "    </tr>\n",
       "    <tr>\n",
       "      <th>4544842</th>\n",
       "      <td>3402221</td>\n",
       "      <td>24852</td>\n",
       "      <td>1.0</td>\n",
       "      <td>1</td>\n",
       "    </tr>\n",
       "    <tr>\n",
       "      <th>4544999</th>\n",
       "      <td>1622300</td>\n",
       "      <td>24852</td>\n",
       "      <td>1.0</td>\n",
       "      <td>1</td>\n",
       "    </tr>\n",
       "  </tbody>\n",
       "</table>\n",
       "<p>55763 rows × 4 columns</p>\n",
       "</div>"
      ],
      "text/plain": [
       "         order_id  product_id  add_to_cart_order  reordered\n",
       "100        194806       24852                3.0          1\n",
       "109       3176371       24852                1.0          1\n",
       "151       1442232       24852                3.0          1\n",
       "362       1926105       24852                3.0          1\n",
       "424       1544211       24852                1.0          1\n",
       "...           ...         ...                ...        ...\n",
       "4544722   3006846       24852                2.0          1\n",
       "4544731   2713872       24852                7.0          1\n",
       "4544823   2774827       24852                2.0          1\n",
       "4544842   3402221       24852                1.0          1\n",
       "4544999   1622300       24852                1.0          1\n",
       "\n",
       "[55763 rows x 4 columns]"
      ]
     },
     "execution_count": 57,
     "metadata": {},
     "output_type": "execute_result"
    }
   ],
   "source": [
    "reorder_df[reorder_df['product_id'] == 24852]"
   ]
  },
  {
   "cell_type": "code",
   "execution_count": 58,
   "id": "48dd3658",
   "metadata": {},
   "outputs": [
    {
     "data": {
      "text/plain": [
       "<Figure size 1000x600 with 0 Axes>"
      ]
     },
     "metadata": {},
     "output_type": "display_data"
    },
    {
     "data": {
      "image/png": "[encoded data removed]",
      "text/plain": [
       "<Figure size 640x480 with 1 Axes>"
      ]
     },
     "metadata": {},
     "output_type": "display_data"
    }
   ],
   "source": [
    "plt.figure(figsize=(10, 6))\n",
    "top_20_reorder.plot.barh(x='product_name', y='number_of_reorder')\n",
    "plt.title('20 Most Reordered Products')\n",
    "plt.xlabel('Product Name')\n",
    "plt.ylabel('Number of Reordered')\n",
    "plt.show()"
   ]
  }
 ],
 "metadata": {
  "ExecuteTimeLog": [
   {
    "duration": 251,
    "start_time": "2024-10-22T21:49:33.727Z"
   },
   {
    "duration": 11,
    "start_time": "2024-10-22T21:51:23.468Z"
   },
   {
    "duration": 11,
    "start_time": "2024-10-22T21:51:35.579Z"
   },
   {
    "duration": 332,
    "start_time": "2024-10-22T21:54:12.833Z"
   },
   {
    "duration": 34,
    "start_time": "2024-10-22T21:54:17.639Z"
   },
   {
    "duration": 7,
    "start_time": "2024-10-22T21:57:23.734Z"
   },
   {
    "duration": 3,
    "start_time": "2024-10-22T22:00:52.736Z"
   },
   {
    "duration": 11,
    "start_time": "2024-10-22T22:00:58.816Z"
   },
   {
    "duration": 252,
    "start_time": "2024-10-22T22:03:08.279Z"
   },
   {
    "duration": 240,
    "start_time": "2024-10-22T22:04:09.255Z"
   },
   {
    "duration": 240,
    "start_time": "2024-10-22T22:04:22.855Z"
   },
   {
    "duration": 236,
    "start_time": "2024-10-22T22:04:36.342Z"
   },
   {
    "duration": 263,
    "start_time": "2024-10-22T22:04:46.801Z"
   },
   {
    "duration": 1825,
    "start_time": "2024-10-22T22:05:13.205Z"
   },
   {
    "duration": 77,
    "start_time": "2024-10-22T22:06:17.785Z"
   },
   {
    "duration": 12,
    "start_time": "2024-10-22T22:07:42.191Z"
   },
   {
    "duration": 300,
    "start_time": "2024-10-22T22:08:10.971Z"
   },
   {
    "duration": 257,
    "start_time": "2024-10-22T22:08:11.273Z"
   },
   {
    "duration": 1724,
    "start_time": "2024-10-22T22:08:11.532Z"
   },
   {
    "duration": 73,
    "start_time": "2024-10-22T22:08:13.258Z"
   },
   {
    "duration": 10,
    "start_time": "2024-10-22T22:08:13.335Z"
   },
   {
    "duration": 2,
    "start_time": "2024-10-22T22:08:13.346Z"
   },
   {
    "duration": 2,
    "start_time": "2024-10-22T22:08:13.350Z"
   },
   {
    "duration": 3,
    "start_time": "2024-10-22T22:08:13.354Z"
   },
   {
    "duration": 2,
    "start_time": "2024-10-22T22:08:13.359Z"
   },
   {
    "duration": 2,
    "start_time": "2024-10-22T22:08:13.363Z"
   },
   {
    "duration": 2,
    "start_time": "2024-10-22T22:08:13.368Z"
   },
   {
    "duration": 2,
    "start_time": "2024-10-22T22:08:13.372Z"
   },
   {
    "duration": 3,
    "start_time": "2024-10-22T22:08:13.376Z"
   },
   {
    "duration": 43,
    "start_time": "2024-10-22T22:08:13.381Z"
   },
   {
    "duration": 3,
    "start_time": "2024-10-22T22:08:13.426Z"
   },
   {
    "duration": 3,
    "start_time": "2024-10-22T22:08:13.430Z"
   },
   {
    "duration": 3,
    "start_time": "2024-10-22T22:08:13.434Z"
   },
   {
    "duration": 2,
    "start_time": "2024-10-22T22:08:13.439Z"
   },
   {
    "duration": 2,
    "start_time": "2024-10-22T22:08:13.443Z"
   },
   {
    "duration": 2,
    "start_time": "2024-10-22T22:08:13.447Z"
   },
   {
    "duration": 3,
    "start_time": "2024-10-22T22:08:13.451Z"
   },
   {
    "duration": 3,
    "start_time": "2024-10-22T22:08:13.455Z"
   },
   {
    "duration": 2,
    "start_time": "2024-10-22T22:08:13.460Z"
   },
   {
    "duration": 3,
    "start_time": "2024-10-22T22:08:13.464Z"
   },
   {
    "duration": 3,
    "start_time": "2024-10-22T22:08:13.468Z"
   },
   {
    "duration": 1901,
    "start_time": "2024-10-22T22:09:56.443Z"
   },
   {
    "duration": 1802,
    "start_time": "2024-10-22T22:10:06.623Z"
   },
   {
    "duration": 1941,
    "start_time": "2024-10-22T22:11:22.658Z"
   },
   {
    "duration": 331,
    "start_time": "2024-10-22T22:13:31.483Z"
   },
   {
    "duration": 260,
    "start_time": "2024-10-22T22:13:53.571Z"
   },
   {
    "duration": 4,
    "start_time": "2024-10-22T22:19:52.344Z"
   },
   {
    "duration": 12,
    "start_time": "2024-10-22T22:20:25.762Z"
   },
   {
    "duration": 16,
    "start_time": "2024-10-22T22:21:01.740Z"
   },
   {
    "duration": 16,
    "start_time": "2024-10-22T22:23:11.169Z"
   },
   {
    "duration": 12,
    "start_time": "2024-10-22T22:24:19.737Z"
   },
   {
    "duration": 188,
    "start_time": "2024-10-22T22:33:45.955Z"
   },
   {
    "duration": 12,
    "start_time": "2024-10-22T22:34:41.712Z"
   },
   {
    "duration": 13,
    "start_time": "2024-10-22T22:35:01.148Z"
   },
   {
    "duration": 20,
    "start_time": "2024-10-22T22:37:46.596Z"
   },
   {
    "duration": 186,
    "start_time": "2024-10-23T21:18:13.020Z"
   },
   {
    "duration": 13,
    "start_time": "2024-10-23T21:18:37.634Z"
   },
   {
    "duration": 13,
    "start_time": "2024-10-23T21:18:56.202Z"
   },
   {
    "duration": 320,
    "start_time": "2024-10-23T21:19:05.915Z"
   },
   {
    "duration": 263,
    "start_time": "2024-10-23T21:19:06.238Z"
   },
   {
    "duration": 2044,
    "start_time": "2024-10-23T21:19:06.503Z"
   },
   {
    "duration": 78,
    "start_time": "2024-10-23T21:19:08.549Z"
   },
   {
    "duration": 8,
    "start_time": "2024-10-23T21:19:08.630Z"
   },
   {
    "duration": 368,
    "start_time": "2024-10-23T21:19:08.639Z"
   },
   {
    "duration": 0,
    "start_time": "2024-10-23T21:19:09.010Z"
   },
   {
    "duration": 0,
    "start_time": "2024-10-23T21:19:09.011Z"
   },
   {
    "duration": 0,
    "start_time": "2024-10-23T21:19:09.013Z"
   },
   {
    "duration": 0,
    "start_time": "2024-10-23T21:19:09.014Z"
   },
   {
    "duration": 0,
    "start_time": "2024-10-23T21:19:09.016Z"
   },
   {
    "duration": 0,
    "start_time": "2024-10-23T21:19:09.018Z"
   },
   {
    "duration": 0,
    "start_time": "2024-10-23T21:19:09.019Z"
   },
   {
    "duration": 0,
    "start_time": "2024-10-23T21:19:09.021Z"
   },
   {
    "duration": 0,
    "start_time": "2024-10-23T21:19:09.022Z"
   },
   {
    "duration": 1,
    "start_time": "2024-10-23T21:19:09.023Z"
   },
   {
    "duration": 0,
    "start_time": "2024-10-23T21:19:09.026Z"
   },
   {
    "duration": 0,
    "start_time": "2024-10-23T21:19:09.026Z"
   },
   {
    "duration": 0,
    "start_time": "2024-10-23T21:19:09.028Z"
   },
   {
    "duration": 0,
    "start_time": "2024-10-23T21:19:09.030Z"
   },
   {
    "duration": 0,
    "start_time": "2024-10-23T21:19:09.031Z"
   },
   {
    "duration": 0,
    "start_time": "2024-10-23T21:19:09.033Z"
   },
   {
    "duration": 0,
    "start_time": "2024-10-23T21:19:09.034Z"
   },
   {
    "duration": 0,
    "start_time": "2024-10-23T21:19:09.036Z"
   },
   {
    "duration": 1,
    "start_time": "2024-10-23T21:19:09.037Z"
   },
   {
    "duration": 253,
    "start_time": "2024-10-23T21:23:32.790Z"
   },
   {
    "duration": 243,
    "start_time": "2024-10-23T21:24:29.406Z"
   },
   {
    "duration": 245,
    "start_time": "2024-10-23T21:25:16.652Z"
   },
   {
    "duration": 259,
    "start_time": "2024-10-23T21:25:39.589Z"
   },
   {
    "duration": 228,
    "start_time": "2024-10-23T21:30:54.459Z"
   },
   {
    "duration": 218,
    "start_time": "2024-10-23T21:31:25.335Z"
   },
   {
    "duration": 218,
    "start_time": "2024-10-23T21:32:44.444Z"
   },
   {
    "duration": 217,
    "start_time": "2024-10-23T21:33:06.109Z"
   },
   {
    "duration": 210,
    "start_time": "2024-10-23T21:33:24.855Z"
   },
   {
    "duration": 230,
    "start_time": "2024-10-23T21:33:37.390Z"
   },
   {
    "duration": 216,
    "start_time": "2024-10-23T21:35:31.154Z"
   },
   {
    "duration": 218,
    "start_time": "2024-10-23T21:36:24.060Z"
   },
   {
    "duration": 216,
    "start_time": "2024-10-23T21:39:37.896Z"
   },
   {
    "duration": 206,
    "start_time": "2024-10-23T21:40:04.929Z"
   },
   {
    "duration": 221,
    "start_time": "2024-10-23T21:43:27.757Z"
   },
   {
    "duration": 297,
    "start_time": "2024-10-23T21:43:42.140Z"
   },
   {
    "duration": 258,
    "start_time": "2024-10-23T21:43:42.439Z"
   },
   {
    "duration": 2291,
    "start_time": "2024-10-23T21:43:42.699Z"
   },
   {
    "duration": 76,
    "start_time": "2024-10-23T21:43:44.992Z"
   },
   {
    "duration": 20,
    "start_time": "2024-10-23T21:43:45.071Z"
   },
   {
    "duration": 376,
    "start_time": "2024-10-23T21:43:45.093Z"
   },
   {
    "duration": 0,
    "start_time": "2024-10-23T21:43:45.472Z"
   },
   {
    "duration": 0,
    "start_time": "2024-10-23T21:43:45.473Z"
   },
   {
    "duration": 0,
    "start_time": "2024-10-23T21:43:45.475Z"
   },
   {
    "duration": 0,
    "start_time": "2024-10-23T21:43:45.486Z"
   },
   {
    "duration": 0,
    "start_time": "2024-10-23T21:43:45.488Z"
   },
   {
    "duration": 0,
    "start_time": "2024-10-23T21:43:45.489Z"
   },
   {
    "duration": 0,
    "start_time": "2024-10-23T21:43:45.491Z"
   },
   {
    "duration": 0,
    "start_time": "2024-10-23T21:43:45.493Z"
   },
   {
    "duration": 0,
    "start_time": "2024-10-23T21:43:45.494Z"
   },
   {
    "duration": 0,
    "start_time": "2024-10-23T21:43:45.496Z"
   },
   {
    "duration": 0,
    "start_time": "2024-10-23T21:43:45.497Z"
   },
   {
    "duration": 0,
    "start_time": "2024-10-23T21:43:45.499Z"
   },
   {
    "duration": 0,
    "start_time": "2024-10-23T21:43:45.500Z"
   },
   {
    "duration": 0,
    "start_time": "2024-10-23T21:43:45.502Z"
   },
   {
    "duration": 0,
    "start_time": "2024-10-23T21:43:45.502Z"
   },
   {
    "duration": 0,
    "start_time": "2024-10-23T21:43:45.503Z"
   },
   {
    "duration": 0,
    "start_time": "2024-10-23T21:43:45.504Z"
   },
   {
    "duration": 0,
    "start_time": "2024-10-23T21:43:45.505Z"
   },
   {
    "duration": 0,
    "start_time": "2024-10-23T21:43:45.507Z"
   },
   {
    "duration": 231,
    "start_time": "2024-10-23T21:47:17.309Z"
   },
   {
    "duration": 222,
    "start_time": "2024-10-23T21:47:42.570Z"
   },
   {
    "duration": 223,
    "start_time": "2024-10-23T21:48:03.520Z"
   },
   {
    "duration": 208,
    "start_time": "2024-10-23T21:48:16.301Z"
   },
   {
    "duration": 245,
    "start_time": "2024-10-23T22:03:23.009Z"
   },
   {
    "duration": 218,
    "start_time": "2024-10-23T22:04:29.535Z"
   },
   {
    "duration": 215,
    "start_time": "2024-10-23T22:04:59.139Z"
   },
   {
    "duration": 211,
    "start_time": "2024-10-23T22:06:06.400Z"
   },
   {
    "duration": 256,
    "start_time": "2024-10-23T22:08:43.198Z"
   },
   {
    "duration": 431,
    "start_time": "2024-10-23T22:09:00.145Z"
   },
   {
    "duration": 206,
    "start_time": "2024-10-23T22:09:15.710Z"
   },
   {
    "duration": 217,
    "start_time": "2024-10-23T22:14:10.909Z"
   },
   {
    "duration": 1801,
    "start_time": "2024-10-23T22:14:11.411Z"
   },
   {
    "duration": 1931,
    "start_time": "2024-10-23T22:16:48.355Z"
   },
   {
    "duration": 272,
    "start_time": "2024-10-23T22:19:28.212Z"
   },
   {
    "duration": 15,
    "start_time": "2024-10-23T22:19:43.410Z"
   },
   {
    "duration": 209,
    "start_time": "2024-10-23T22:23:06.458Z"
   },
   {
    "duration": 246,
    "start_time": "2024-10-23T22:23:49.550Z"
   },
   {
    "duration": 20,
    "start_time": "2024-10-23T22:24:34.582Z"
   },
   {
    "duration": 12,
    "start_time": "2024-10-23T22:24:51.530Z"
   },
   {
    "duration": 12,
    "start_time": "2024-10-23T22:26:10.044Z"
   },
   {
    "duration": 245,
    "start_time": "2024-10-23T22:27:43.082Z"
   },
   {
    "duration": 10,
    "start_time": "2024-10-23T22:28:25.024Z"
   },
   {
    "duration": 294,
    "start_time": "2024-10-23T22:28:32.651Z"
   },
   {
    "duration": 4,
    "start_time": "2024-10-23T22:28:32.947Z"
   },
   {
    "duration": 0,
    "start_time": "2024-10-23T22:28:32.954Z"
   },
   {
    "duration": 0,
    "start_time": "2024-10-23T22:28:32.956Z"
   },
   {
    "duration": 0,
    "start_time": "2024-10-23T22:28:32.958Z"
   },
   {
    "duration": 0,
    "start_time": "2024-10-23T22:28:32.959Z"
   },
   {
    "duration": 0,
    "start_time": "2024-10-23T22:28:32.961Z"
   },
   {
    "duration": 0,
    "start_time": "2024-10-23T22:28:32.962Z"
   },
   {
    "duration": 0,
    "start_time": "2024-10-23T22:28:32.964Z"
   },
   {
    "duration": 0,
    "start_time": "2024-10-23T22:28:32.965Z"
   },
   {
    "duration": 0,
    "start_time": "2024-10-23T22:28:32.966Z"
   },
   {
    "duration": 0,
    "start_time": "2024-10-23T22:28:32.986Z"
   },
   {
    "duration": 0,
    "start_time": "2024-10-23T22:28:32.987Z"
   },
   {
    "duration": 0,
    "start_time": "2024-10-23T22:28:32.988Z"
   },
   {
    "duration": 0,
    "start_time": "2024-10-23T22:28:32.990Z"
   },
   {
    "duration": 0,
    "start_time": "2024-10-23T22:28:32.991Z"
   },
   {
    "duration": 1,
    "start_time": "2024-10-23T22:28:32.991Z"
   },
   {
    "duration": 0,
    "start_time": "2024-10-23T22:28:32.992Z"
   },
   {
    "duration": 0,
    "start_time": "2024-10-23T22:28:32.993Z"
   },
   {
    "duration": 0,
    "start_time": "2024-10-23T22:28:32.995Z"
   },
   {
    "duration": 0,
    "start_time": "2024-10-23T22:28:32.996Z"
   },
   {
    "duration": 0,
    "start_time": "2024-10-23T22:28:32.997Z"
   },
   {
    "duration": 0,
    "start_time": "2024-10-23T22:28:32.998Z"
   },
   {
    "duration": 0,
    "start_time": "2024-10-23T22:28:32.999Z"
   },
   {
    "duration": 0,
    "start_time": "2024-10-23T22:28:33.000Z"
   },
   {
    "duration": 268,
    "start_time": "2024-10-23T22:29:00.578Z"
   },
   {
    "duration": 308,
    "start_time": "2024-10-23T22:31:02.527Z"
   },
   {
    "duration": 1989,
    "start_time": "2024-10-23T22:31:58.598Z"
   },
   {
    "duration": 1890,
    "start_time": "2024-10-23T22:32:41.759Z"
   },
   {
    "duration": 108,
    "start_time": "2024-10-23T22:34:08.923Z"
   },
   {
    "duration": 18,
    "start_time": "2024-10-23T22:34:15.536Z"
   },
   {
    "duration": 18,
    "start_time": "2024-10-23T22:34:41.106Z"
   },
   {
    "duration": 271,
    "start_time": "2024-10-23T22:35:42.012Z"
   },
   {
    "duration": 294,
    "start_time": "2024-10-23T22:36:00.192Z"
   },
   {
    "duration": 289,
    "start_time": "2024-10-23T22:36:46.067Z"
   },
   {
    "duration": 283,
    "start_time": "2024-10-23T22:37:05.586Z"
   },
   {
    "duration": 306,
    "start_time": "2024-10-23T22:39:01.724Z"
   },
   {
    "duration": 308,
    "start_time": "2024-10-23T22:39:02.032Z"
   },
   {
    "duration": 1883,
    "start_time": "2024-10-23T22:39:02.341Z"
   },
   {
    "duration": 125,
    "start_time": "2024-10-23T22:39:04.226Z"
   },
   {
    "duration": 16,
    "start_time": "2024-10-23T22:39:04.354Z"
   },
   {
    "duration": 16,
    "start_time": "2024-10-23T22:39:04.372Z"
   },
   {
    "duration": 0,
    "start_time": "2024-10-23T22:39:04.390Z"
   },
   {
    "duration": 0,
    "start_time": "2024-10-23T22:39:04.391Z"
   },
   {
    "duration": 0,
    "start_time": "2024-10-23T22:39:04.393Z"
   },
   {
    "duration": 0,
    "start_time": "2024-10-23T22:39:04.394Z"
   },
   {
    "duration": 0,
    "start_time": "2024-10-23T22:39:04.396Z"
   },
   {
    "duration": 0,
    "start_time": "2024-10-23T22:39:04.397Z"
   },
   {
    "duration": 1,
    "start_time": "2024-10-23T22:39:04.397Z"
   },
   {
    "duration": 0,
    "start_time": "2024-10-23T22:39:04.399Z"
   },
   {
    "duration": 0,
    "start_time": "2024-10-23T22:39:04.400Z"
   },
   {
    "duration": 0,
    "start_time": "2024-10-23T22:39:04.400Z"
   },
   {
    "duration": 0,
    "start_time": "2024-10-23T22:39:04.401Z"
   },
   {
    "duration": 0,
    "start_time": "2024-10-23T22:39:04.402Z"
   },
   {
    "duration": 0,
    "start_time": "2024-10-23T22:39:04.403Z"
   },
   {
    "duration": 0,
    "start_time": "2024-10-23T22:39:04.404Z"
   },
   {
    "duration": 0,
    "start_time": "2024-10-23T22:39:04.405Z"
   },
   {
    "duration": 0,
    "start_time": "2024-10-23T22:39:04.406Z"
   },
   {
    "duration": 0,
    "start_time": "2024-10-23T22:39:04.407Z"
   },
   {
    "duration": 0,
    "start_time": "2024-10-23T22:39:04.408Z"
   },
   {
    "duration": 0,
    "start_time": "2024-10-23T22:39:04.410Z"
   },
   {
    "duration": 292,
    "start_time": "2024-10-23T22:40:31.439Z"
   },
   {
    "duration": 292,
    "start_time": "2024-10-23T22:40:56.603Z"
   },
   {
    "duration": 160,
    "start_time": "2024-10-23T23:38:08.324Z"
   },
   {
    "duration": 2082,
    "start_time": "2024-10-23T23:39:32.199Z"
   },
   {
    "duration": 398,
    "start_time": "2024-10-23T23:40:07.619Z"
   },
   {
    "duration": 1660,
    "start_time": "2024-10-23T23:42:44.238Z"
   },
   {
    "duration": 2153,
    "start_time": "2024-10-24T00:47:07.073Z"
   },
   {
    "duration": 173,
    "start_time": "2024-10-24T00:51:28.053Z"
   },
   {
    "duration": 2079,
    "start_time": "2024-10-24T00:51:36.888Z"
   },
   {
    "duration": 3,
    "start_time": "2024-10-24T00:51:39.071Z"
   },
   {
    "duration": 12,
    "start_time": "2024-10-24T00:52:42.039Z"
   },
   {
    "duration": 2008,
    "start_time": "2024-10-24T00:52:52.181Z"
   },
   {
    "duration": 2,
    "start_time": "2024-10-24T00:52:54.751Z"
   },
   {
    "duration": 2,
    "start_time": "2024-10-24T00:52:55.964Z"
   },
   {
    "duration": 291,
    "start_time": "2024-10-24T00:56:19.286Z"
   },
   {
    "duration": 1736,
    "start_time": "2024-10-24T00:57:13.665Z"
   },
   {
    "duration": 19,
    "start_time": "2024-10-24T00:57:59.350Z"
   },
   {
    "duration": 18,
    "start_time": "2024-10-24T00:58:41.167Z"
   },
   {
    "duration": 236,
    "start_time": "2024-10-24T00:59:06.570Z"
   },
   {
    "duration": 221,
    "start_time": "2024-10-24T00:59:48.134Z"
   },
   {
    "duration": 203,
    "start_time": "2024-10-24T01:00:08.952Z"
   },
   {
    "duration": 222,
    "start_time": "2024-10-24T01:02:59.552Z"
   },
   {
    "duration": 226,
    "start_time": "2024-10-24T01:03:09.504Z"
   },
   {
    "duration": 211,
    "start_time": "2024-10-24T01:03:27.535Z"
   },
   {
    "duration": 440,
    "start_time": "2024-10-24T01:05:42.094Z"
   },
   {
    "duration": 2,
    "start_time": "2024-10-24T01:05:42.538Z"
   },
   {
    "duration": 435,
    "start_time": "2024-10-24T01:09:19.955Z"
   },
   {
    "duration": 440,
    "start_time": "2024-10-24T01:09:30.490Z"
   },
   {
    "duration": 465,
    "start_time": "2024-10-24T01:10:05.046Z"
   },
   {
    "duration": 443,
    "start_time": "2024-10-24T01:14:29.378Z"
   },
   {
    "duration": 263,
    "start_time": "2024-10-24T01:15:46.138Z"
   },
   {
    "duration": 1260,
    "start_time": "2024-10-24T01:16:37.416Z"
   },
   {
    "duration": 1218,
    "start_time": "2024-10-24T01:17:03.662Z"
   },
   {
    "duration": 1215,
    "start_time": "2024-10-24T01:17:29.440Z"
   },
   {
    "duration": 614,
    "start_time": "2024-10-24T01:20:18.198Z"
   },
   {
    "duration": 1830,
    "start_time": "2024-10-24T01:20:18.815Z"
   },
   {
    "duration": 24,
    "start_time": "2024-10-24T01:20:20.647Z"
   },
   {
    "duration": 15,
    "start_time": "2024-10-24T01:20:20.674Z"
   },
   {
    "duration": 1234,
    "start_time": "2024-10-24T01:20:20.692Z"
   },
   {
    "duration": 2,
    "start_time": "2024-10-24T01:20:21.928Z"
   },
   {
    "duration": 3,
    "start_time": "2024-10-24T01:20:21.932Z"
   },
   {
    "duration": 2,
    "start_time": "2024-10-24T01:20:21.936Z"
   },
   {
    "duration": 3,
    "start_time": "2024-10-24T01:20:21.940Z"
   },
   {
    "duration": 26,
    "start_time": "2024-10-24T01:20:21.945Z"
   },
   {
    "duration": 3,
    "start_time": "2024-10-24T01:20:21.972Z"
   },
   {
    "duration": 3,
    "start_time": "2024-10-24T01:20:21.976Z"
   },
   {
    "duration": 2,
    "start_time": "2024-10-24T01:20:21.981Z"
   },
   {
    "duration": 2,
    "start_time": "2024-10-24T01:20:21.986Z"
   },
   {
    "duration": 2,
    "start_time": "2024-10-24T01:20:21.990Z"
   },
   {
    "duration": 2,
    "start_time": "2024-10-24T01:20:21.994Z"
   },
   {
    "duration": 2,
    "start_time": "2024-10-24T01:20:21.998Z"
   },
   {
    "duration": 2,
    "start_time": "2024-10-24T01:20:22.002Z"
   },
   {
    "duration": 3,
    "start_time": "2024-10-24T01:20:22.006Z"
   },
   {
    "duration": 3,
    "start_time": "2024-10-24T01:20:22.010Z"
   },
   {
    "duration": 3,
    "start_time": "2024-10-24T01:20:22.014Z"
   },
   {
    "duration": 55,
    "start_time": "2024-10-24T01:20:22.018Z"
   },
   {
    "duration": 2,
    "start_time": "2024-10-24T01:20:22.074Z"
   },
   {
    "duration": 2,
    "start_time": "2024-10-24T01:20:22.078Z"
   },
   {
    "duration": 87,
    "start_time": "2024-10-24T01:26:38.740Z"
   },
   {
    "duration": 166,
    "start_time": "2024-10-24T01:26:56.345Z"
   },
   {
    "duration": 0,
    "start_time": "2024-10-24T01:26:56.514Z"
   },
   {
    "duration": 0,
    "start_time": "2024-10-24T01:26:56.516Z"
   },
   {
    "duration": 0,
    "start_time": "2024-10-24T01:26:56.517Z"
   },
   {
    "duration": 0,
    "start_time": "2024-10-24T01:26:56.518Z"
   },
   {
    "duration": 0,
    "start_time": "2024-10-24T01:26:56.519Z"
   },
   {
    "duration": 0,
    "start_time": "2024-10-24T01:26:56.521Z"
   },
   {
    "duration": 0,
    "start_time": "2024-10-24T01:26:56.521Z"
   },
   {
    "duration": 0,
    "start_time": "2024-10-24T01:26:56.522Z"
   },
   {
    "duration": 0,
    "start_time": "2024-10-24T01:26:56.523Z"
   },
   {
    "duration": 0,
    "start_time": "2024-10-24T01:26:56.524Z"
   },
   {
    "duration": 0,
    "start_time": "2024-10-24T01:26:56.525Z"
   },
   {
    "duration": 0,
    "start_time": "2024-10-24T01:26:56.526Z"
   },
   {
    "duration": 0,
    "start_time": "2024-10-24T01:26:56.527Z"
   },
   {
    "duration": 0,
    "start_time": "2024-10-24T01:26:56.531Z"
   },
   {
    "duration": 0,
    "start_time": "2024-10-24T01:26:56.532Z"
   },
   {
    "duration": 0,
    "start_time": "2024-10-24T01:26:56.534Z"
   },
   {
    "duration": 0,
    "start_time": "2024-10-24T01:26:56.535Z"
   },
   {
    "duration": 0,
    "start_time": "2024-10-24T01:26:56.537Z"
   },
   {
    "duration": 0,
    "start_time": "2024-10-24T01:26:56.538Z"
   },
   {
    "duration": 0,
    "start_time": "2024-10-24T01:26:56.539Z"
   },
   {
    "duration": 0,
    "start_time": "2024-10-24T01:26:56.540Z"
   },
   {
    "duration": 0,
    "start_time": "2024-10-24T01:26:56.541Z"
   },
   {
    "duration": 0,
    "start_time": "2024-10-24T01:26:56.571Z"
   },
   {
    "duration": 0,
    "start_time": "2024-10-24T01:26:56.572Z"
   },
   {
    "duration": 347,
    "start_time": "2024-10-24T01:27:22.491Z"
   },
   {
    "duration": 305,
    "start_time": "2024-10-24T01:27:34.550Z"
   },
   {
    "duration": 19,
    "start_time": "2024-10-24T01:27:52.713Z"
   },
   {
    "duration": 16,
    "start_time": "2024-10-24T01:28:00.764Z"
   },
   {
    "duration": 62,
    "start_time": "2024-10-24T01:30:43.206Z"
   },
   {
    "duration": 797,
    "start_time": "2024-10-24T21:20:48.616Z"
   },
   {
    "duration": 180,
    "start_time": "2024-10-24T21:21:31.491Z"
   },
   {
    "duration": 280,
    "start_time": "2024-10-24T21:24:52.770Z"
   },
   {
    "duration": 122,
    "start_time": "2024-10-24T21:35:30.435Z"
   },
   {
    "duration": 126,
    "start_time": "2024-10-24T21:35:37.808Z"
   },
   {
    "duration": 2,
    "start_time": "2024-10-24T21:35:40.130Z"
   },
   {
    "duration": 126,
    "start_time": "2024-10-24T21:36:17.579Z"
   },
   {
    "duration": 135,
    "start_time": "2024-10-24T21:36:49.927Z"
   },
   {
    "duration": 130,
    "start_time": "2024-10-24T21:37:03.237Z"
   },
   {
    "duration": 132,
    "start_time": "2024-10-24T21:37:13.793Z"
   },
   {
    "duration": 2,
    "start_time": "2024-10-24T21:37:14.164Z"
   },
   {
    "duration": 285,
    "start_time": "2024-10-24T21:55:43.172Z"
   },
   {
    "duration": 276,
    "start_time": "2024-10-24T21:56:30.151Z"
   },
   {
    "duration": 267,
    "start_time": "2024-10-24T21:56:36.846Z"
   },
   {
    "duration": 22,
    "start_time": "2024-10-24T21:59:17.357Z"
   },
   {
    "duration": 18,
    "start_time": "2024-10-24T22:03:23.562Z"
   },
   {
    "duration": 263,
    "start_time": "2024-10-24T22:07:12.207Z"
   },
   {
    "duration": 271,
    "start_time": "2024-10-24T22:13:27.654Z"
   },
   {
    "duration": 272,
    "start_time": "2024-10-24T22:20:56.391Z"
   },
   {
    "duration": 156,
    "start_time": "2024-10-24T22:25:13.382Z"
   },
   {
    "duration": 130,
    "start_time": "2024-10-24T22:26:03.530Z"
   },
   {
    "duration": 147,
    "start_time": "2024-10-24T22:27:40.118Z"
   },
   {
    "duration": 170,
    "start_time": "2024-10-24T22:27:52.778Z"
   },
   {
    "duration": 431,
    "start_time": "2024-10-25T21:28:47.829Z"
   },
   {
    "duration": 343,
    "start_time": "2024-10-25T21:28:48.263Z"
   },
   {
    "duration": 2027,
    "start_time": "2024-10-25T21:28:48.614Z"
   },
   {
    "duration": 19,
    "start_time": "2024-10-25T21:28:50.643Z"
   },
   {
    "duration": 17,
    "start_time": "2024-10-25T21:28:50.665Z"
   },
   {
    "duration": 151,
    "start_time": "2024-10-25T21:28:50.684Z"
   },
   {
    "duration": 2,
    "start_time": "2024-10-25T21:28:50.840Z"
   },
   {
    "duration": 318,
    "start_time": "2024-10-25T21:28:50.843Z"
   },
   {
    "duration": 304,
    "start_time": "2024-10-25T21:28:51.163Z"
   },
   {
    "duration": 2,
    "start_time": "2024-10-25T21:28:51.469Z"
   },
   {
    "duration": 4,
    "start_time": "2024-10-25T21:28:51.472Z"
   },
   {
    "duration": 3,
    "start_time": "2024-10-25T21:28:51.477Z"
   },
   {
    "duration": 2,
    "start_time": "2024-10-25T21:28:51.482Z"
   },
   {
    "duration": 24,
    "start_time": "2024-10-25T21:28:51.488Z"
   },
   {
    "duration": 5,
    "start_time": "2024-10-25T21:28:51.520Z"
   },
   {
    "duration": 6,
    "start_time": "2024-10-25T21:28:51.526Z"
   },
   {
    "duration": 11,
    "start_time": "2024-10-25T21:28:51.533Z"
   },
   {
    "duration": 4,
    "start_time": "2024-10-25T21:28:51.545Z"
   },
   {
    "duration": 3,
    "start_time": "2024-10-25T21:28:51.551Z"
   },
   {
    "duration": 2,
    "start_time": "2024-10-25T21:28:51.556Z"
   },
   {
    "duration": 3,
    "start_time": "2024-10-25T21:28:51.560Z"
   },
   {
    "duration": 3,
    "start_time": "2024-10-25T21:28:51.564Z"
   },
   {
    "duration": 2,
    "start_time": "2024-10-25T21:28:51.569Z"
   },
   {
    "duration": 2,
    "start_time": "2024-10-25T21:28:51.573Z"
   },
   {
    "duration": 3,
    "start_time": "2024-10-25T21:28:51.577Z"
   },
   {
    "duration": 140,
    "start_time": "2024-10-25T21:37:45.024Z"
   },
   {
    "duration": 73,
    "start_time": "2024-10-25T21:40:08.720Z"
   },
   {
    "duration": 324,
    "start_time": "2024-10-25T21:40:08.796Z"
   },
   {
    "duration": 2018,
    "start_time": "2024-10-25T21:40:09.131Z"
   },
   {
    "duration": 17,
    "start_time": "2024-10-25T21:40:11.151Z"
   },
   {
    "duration": 15,
    "start_time": "2024-10-25T21:40:11.170Z"
   },
   {
    "duration": 181,
    "start_time": "2024-10-25T21:40:29.842Z"
   },
   {
    "duration": 244,
    "start_time": "2024-10-25T21:41:11.029Z"
   },
   {
    "duration": 14,
    "start_time": "2024-10-25T21:43:23.013Z"
   },
   {
    "duration": 44,
    "start_time": "2024-10-25T21:44:44.697Z"
   },
   {
    "duration": 58,
    "start_time": "2024-10-25T21:45:12.049Z"
   },
   {
    "duration": 84,
    "start_time": "2024-10-25T21:45:30.859Z"
   },
   {
    "duration": 322,
    "start_time": "2024-10-25T21:46:43.398Z"
   },
   {
    "duration": 2257,
    "start_time": "2024-10-25T21:46:58.157Z"
   },
   {
    "duration": 28,
    "start_time": "2024-10-25T21:47:14.638Z"
   },
   {
    "duration": 87,
    "start_time": "2024-10-25T21:48:04.193Z"
   },
   {
    "duration": 386,
    "start_time": "2024-10-25T21:48:33.249Z"
   },
   {
    "duration": 196,
    "start_time": "2024-10-25T21:48:53.467Z"
   },
   {
    "duration": 184,
    "start_time": "2024-10-25T21:49:23.793Z"
   },
   {
    "duration": 1210,
    "start_time": "2024-10-25T21:49:37.274Z"
   },
   {
    "duration": 32,
    "start_time": "2024-10-25T21:49:53.432Z"
   },
   {
    "duration": 45,
    "start_time": "2024-10-25T21:50:24.302Z"
   },
   {
    "duration": 8,
    "start_time": "2024-10-25T21:50:53.141Z"
   },
   {
    "duration": 17,
    "start_time": "2024-10-25T22:03:00.369Z"
   },
   {
    "duration": 121,
    "start_time": "2024-10-25T22:10:19.020Z"
   },
   {
    "duration": 128,
    "start_time": "2024-10-25T22:10:32.407Z"
   },
   {
    "duration": 115,
    "start_time": "2024-10-25T22:10:44.455Z"
   },
   {
    "duration": 104,
    "start_time": "2024-10-25T22:11:39.260Z"
   },
   {
    "duration": 124,
    "start_time": "2024-10-25T22:12:44.928Z"
   },
   {
    "duration": 54,
    "start_time": "2024-10-25T22:14:27.020Z"
   },
   {
    "duration": 44,
    "start_time": "2024-10-25T22:15:40.040Z"
   },
   {
    "duration": 16,
    "start_time": "2024-10-25T22:17:41.555Z"
   },
   {
    "duration": 6,
    "start_time": "2024-10-25T22:19:19.684Z"
   },
   {
    "duration": 946,
    "start_time": "2024-10-25T22:28:55.820Z"
   },
   {
    "duration": 246,
    "start_time": "2024-10-26T19:19:10.297Z"
   },
   {
    "duration": 14,
    "start_time": "2024-10-26T19:24:07.955Z"
   },
   {
    "duration": 12,
    "start_time": "2024-10-26T19:26:09.653Z"
   },
   {
    "duration": 380,
    "start_time": "2024-10-26T19:26:27.378Z"
   },
   {
    "duration": 36,
    "start_time": "2024-10-26T19:27:08.475Z"
   },
   {
    "duration": 19,
    "start_time": "2024-10-26T19:27:17.005Z"
   },
   {
    "duration": 3,
    "start_time": "2024-10-26T19:29:28.557Z"
   },
   {
    "duration": 4,
    "start_time": "2024-10-26T19:29:55.642Z"
   },
   {
    "duration": 14,
    "start_time": "2024-10-26T19:31:14.028Z"
   },
   {
    "duration": 4,
    "start_time": "2024-10-26T19:32:09.678Z"
   },
   {
    "duration": 12,
    "start_time": "2024-10-26T19:35:05.683Z"
   },
   {
    "duration": 17,
    "start_time": "2024-10-26T19:35:19.333Z"
   },
   {
    "duration": 4,
    "start_time": "2024-10-26T19:35:38.112Z"
   },
   {
    "duration": 373,
    "start_time": "2024-10-26T19:35:51.684Z"
   },
   {
    "duration": 200,
    "start_time": "2024-10-26T19:35:52.059Z"
   },
   {
    "duration": 1113,
    "start_time": "2024-10-26T19:35:52.261Z"
   },
   {
    "duration": 18,
    "start_time": "2024-10-26T19:35:53.376Z"
   },
   {
    "duration": 20,
    "start_time": "2024-10-26T19:35:53.396Z"
   },
   {
    "duration": 128,
    "start_time": "2024-10-26T19:35:53.418Z"
   },
   {
    "duration": 20,
    "start_time": "2024-10-26T19:35:53.548Z"
   },
   {
    "duration": 145,
    "start_time": "2024-10-26T19:35:53.570Z"
   },
   {
    "duration": 120,
    "start_time": "2024-10-26T19:35:53.717Z"
   },
   {
    "duration": 74,
    "start_time": "2024-10-26T19:35:53.839Z"
   },
   {
    "duration": 17,
    "start_time": "2024-10-26T19:35:53.915Z"
   },
   {
    "duration": 6,
    "start_time": "2024-10-26T19:35:53.934Z"
   },
   {
    "duration": 26,
    "start_time": "2024-10-26T19:35:53.942Z"
   },
   {
    "duration": 3,
    "start_time": "2024-10-26T19:35:53.971Z"
   },
   {
    "duration": 4,
    "start_time": "2024-10-26T19:35:53.977Z"
   },
   {
    "duration": 5,
    "start_time": "2024-10-26T19:35:54.008Z"
   },
   {
    "duration": 4,
    "start_time": "2024-10-26T19:35:54.015Z"
   },
   {
    "duration": 1129,
    "start_time": "2024-10-26T19:35:54.022Z"
   },
   {
    "duration": 2,
    "start_time": "2024-10-26T19:35:55.153Z"
   },
   {
    "duration": 4,
    "start_time": "2024-10-26T19:35:55.157Z"
   },
   {
    "duration": 5,
    "start_time": "2024-10-26T19:35:55.163Z"
   },
   {
    "duration": 4,
    "start_time": "2024-10-26T19:35:55.169Z"
   },
   {
    "duration": 4,
    "start_time": "2024-10-26T19:35:55.174Z"
   },
   {
    "duration": 30,
    "start_time": "2024-10-26T19:35:55.180Z"
   },
   {
    "duration": 2,
    "start_time": "2024-10-26T19:35:55.213Z"
   },
   {
    "duration": 4,
    "start_time": "2024-10-26T19:35:55.217Z"
   },
   {
    "duration": 3,
    "start_time": "2024-10-26T19:35:55.224Z"
   },
   {
    "duration": 2,
    "start_time": "2024-10-26T19:35:55.229Z"
   },
   {
    "duration": 5,
    "start_time": "2024-10-26T19:37:18.597Z"
   },
   {
    "duration": 12,
    "start_time": "2024-10-26T19:40:33.401Z"
   },
   {
    "duration": 18,
    "start_time": "2024-10-26T19:42:04.132Z"
   },
   {
    "duration": 641,
    "start_time": "2024-10-26T19:54:11.089Z"
   },
   {
    "duration": 20,
    "start_time": "2024-10-26T19:59:07.584Z"
   },
   {
    "duration": 126,
    "start_time": "2024-10-26T19:59:40.563Z"
   },
   {
    "duration": 5,
    "start_time": "2024-10-26T20:00:12.209Z"
   },
   {
    "duration": 14,
    "start_time": "2024-10-26T20:03:09.768Z"
   },
   {
    "duration": 5,
    "start_time": "2024-10-26T20:03:20.896Z"
   },
   {
    "duration": 42,
    "start_time": "2024-10-26T20:14:27.233Z"
   },
   {
    "duration": 57,
    "start_time": "2024-10-26T20:15:08.317Z"
   },
   {
    "duration": 37,
    "start_time": "2024-10-26T20:15:22.440Z"
   },
   {
    "duration": 5,
    "start_time": "2024-10-26T20:15:29.957Z"
   },
   {
    "duration": 158,
    "start_time": "2024-10-28T20:40:25.426Z"
   },
   {
    "duration": 375,
    "start_time": "2024-10-28T20:40:35.884Z"
   },
   {
    "duration": 178,
    "start_time": "2024-10-28T20:40:36.261Z"
   },
   {
    "duration": 1008,
    "start_time": "2024-10-28T20:40:36.441Z"
   },
   {
    "duration": 17,
    "start_time": "2024-10-28T20:40:37.452Z"
   },
   {
    "duration": 15,
    "start_time": "2024-10-28T20:40:37.470Z"
   },
   {
    "duration": 124,
    "start_time": "2024-10-28T20:40:37.487Z"
   },
   {
    "duration": 12,
    "start_time": "2024-10-28T20:40:37.613Z"
   },
   {
    "duration": 128,
    "start_time": "2024-10-28T20:40:37.627Z"
   },
   {
    "duration": 104,
    "start_time": "2024-10-28T20:40:37.757Z"
   },
   {
    "duration": 42,
    "start_time": "2024-10-28T20:40:37.865Z"
   },
   {
    "duration": 12,
    "start_time": "2024-10-28T20:40:37.909Z"
   },
   {
    "duration": 23,
    "start_time": "2024-10-28T20:40:37.922Z"
   },
   {
    "duration": 17,
    "start_time": "2024-10-28T20:40:37.947Z"
   },
   {
    "duration": 6,
    "start_time": "2024-10-28T20:40:37.966Z"
   },
   {
    "duration": 4,
    "start_time": "2024-10-28T20:40:37.974Z"
   },
   {
    "duration": 4,
    "start_time": "2024-10-28T20:40:37.979Z"
   },
   {
    "duration": 3,
    "start_time": "2024-10-28T20:40:37.984Z"
   },
   {
    "duration": 3,
    "start_time": "2024-10-28T20:40:37.989Z"
   },
   {
    "duration": 935,
    "start_time": "2024-10-28T20:40:37.994Z"
   },
   {
    "duration": 3,
    "start_time": "2024-10-28T20:40:38.930Z"
   },
   {
    "duration": 10,
    "start_time": "2024-10-28T20:40:38.943Z"
   },
   {
    "duration": 4,
    "start_time": "2024-10-28T20:40:38.955Z"
   },
   {
    "duration": 2,
    "start_time": "2024-10-28T20:40:38.960Z"
   },
   {
    "duration": 2,
    "start_time": "2024-10-28T20:40:38.964Z"
   },
   {
    "duration": 2,
    "start_time": "2024-10-28T20:40:38.968Z"
   },
   {
    "duration": 18,
    "start_time": "2024-10-28T20:40:38.972Z"
   },
   {
    "duration": 2,
    "start_time": "2024-10-28T20:40:38.992Z"
   },
   {
    "duration": 160,
    "start_time": "2024-10-28T20:40:38.997Z"
   },
   {
    "duration": 3,
    "start_time": "2024-10-28T20:40:39.158Z"
   },
   {
    "duration": 3,
    "start_time": "2024-10-28T20:40:39.162Z"
   },
   {
    "duration": 3,
    "start_time": "2024-10-28T20:40:39.166Z"
   },
   {
    "duration": 2,
    "start_time": "2024-10-28T20:40:39.171Z"
   },
   {
    "duration": 20,
    "start_time": "2024-10-28T20:42:31.917Z"
   },
   {
    "duration": 21,
    "start_time": "2024-10-28T20:48:17.151Z"
   },
   {
    "duration": 13,
    "start_time": "2024-10-28T20:53:20.170Z"
   },
   {
    "duration": 12,
    "start_time": "2024-10-28T20:54:35.554Z"
   },
   {
    "duration": 4,
    "start_time": "2024-10-28T20:56:44.734Z"
   },
   {
    "duration": 633,
    "start_time": "2024-10-28T21:01:53.065Z"
   },
   {
    "duration": 337,
    "start_time": "2024-10-28T21:10:24.199Z"
   },
   {
    "duration": 171,
    "start_time": "2024-10-28T21:10:24.538Z"
   },
   {
    "duration": 947,
    "start_time": "2024-10-28T21:10:24.710Z"
   },
   {
    "duration": 15,
    "start_time": "2024-10-28T21:10:25.661Z"
   },
   {
    "duration": 16,
    "start_time": "2024-10-28T21:10:25.678Z"
   },
   {
    "duration": 123,
    "start_time": "2024-10-28T21:10:25.695Z"
   },
   {
    "duration": 13,
    "start_time": "2024-10-28T21:10:25.820Z"
   },
   {
    "duration": 112,
    "start_time": "2024-10-28T21:10:25.842Z"
   },
   {
    "duration": 110,
    "start_time": "2024-10-28T21:10:25.956Z"
   },
   {
    "duration": 43,
    "start_time": "2024-10-28T21:10:26.069Z"
   },
   {
    "duration": 12,
    "start_time": "2024-10-28T21:10:26.114Z"
   },
   {
    "duration": 4,
    "start_time": "2024-10-28T21:10:26.143Z"
   },
   {
    "duration": 21,
    "start_time": "2024-10-28T21:10:26.149Z"
   },
   {
    "duration": 10,
    "start_time": "2024-10-28T21:10:26.171Z"
   },
   {
    "duration": 3,
    "start_time": "2024-10-28T21:10:26.183Z"
   },
   {
    "duration": 3,
    "start_time": "2024-10-28T21:10:26.188Z"
   },
   {
    "duration": 4,
    "start_time": "2024-10-28T21:10:26.193Z"
   },
   {
    "duration": 3,
    "start_time": "2024-10-28T21:10:26.199Z"
   },
   {
    "duration": 916,
    "start_time": "2024-10-28T21:10:26.204Z"
   },
   {
    "duration": 5,
    "start_time": "2024-10-28T21:10:27.122Z"
   },
   {
    "duration": 658,
    "start_time": "2024-10-28T21:10:27.128Z"
   },
   {
    "duration": 12,
    "start_time": "2024-10-28T21:10:27.788Z"
   },
   {
    "duration": 4,
    "start_time": "2024-10-28T21:10:27.802Z"
   },
   {
    "duration": 2,
    "start_time": "2024-10-28T21:10:27.808Z"
   },
   {
    "duration": 3,
    "start_time": "2024-10-28T21:10:27.812Z"
   },
   {
    "duration": 2,
    "start_time": "2024-10-28T21:10:27.842Z"
   },
   {
    "duration": 24,
    "start_time": "2024-10-28T21:10:27.846Z"
   },
   {
    "duration": 2,
    "start_time": "2024-10-28T21:10:27.874Z"
   },
   {
    "duration": 146,
    "start_time": "2024-10-28T21:10:27.879Z"
   },
   {
    "duration": 2,
    "start_time": "2024-10-28T21:10:28.027Z"
   },
   {
    "duration": 15,
    "start_time": "2024-10-28T21:10:28.030Z"
   },
   {
    "duration": 3,
    "start_time": "2024-10-28T21:10:28.047Z"
   },
   {
    "duration": 4,
    "start_time": "2024-10-28T21:10:28.051Z"
   },
   {
    "duration": 158,
    "start_time": "2024-10-29T00:43:23.583Z"
   },
   {
    "duration": 385,
    "start_time": "2024-10-29T00:44:13.839Z"
   },
   {
    "duration": 179,
    "start_time": "2024-10-29T00:44:14.226Z"
   },
   {
    "duration": 1043,
    "start_time": "2024-10-29T00:44:14.407Z"
   },
   {
    "duration": 16,
    "start_time": "2024-10-29T00:44:15.453Z"
   },
   {
    "duration": 13,
    "start_time": "2024-10-29T00:44:15.470Z"
   },
   {
    "duration": 126,
    "start_time": "2024-10-29T00:44:15.486Z"
   },
   {
    "duration": 13,
    "start_time": "2024-10-29T00:44:15.613Z"
   },
   {
    "duration": 128,
    "start_time": "2024-10-29T00:44:15.627Z"
   },
   {
    "duration": 112,
    "start_time": "2024-10-29T00:44:15.757Z"
   },
   {
    "duration": 45,
    "start_time": "2024-10-29T00:44:15.872Z"
   },
   {
    "duration": 25,
    "start_time": "2024-10-29T00:44:15.918Z"
   },
   {
    "duration": 9,
    "start_time": "2024-10-29T00:44:15.944Z"
   },
   {
    "duration": 27,
    "start_time": "2024-10-29T00:44:15.954Z"
   },
   {
    "duration": 14,
    "start_time": "2024-10-29T00:44:15.983Z"
   },
   {
    "duration": 4,
    "start_time": "2024-10-29T00:44:15.999Z"
   },
   {
    "duration": 3,
    "start_time": "2024-10-29T00:44:16.005Z"
   },
   {
    "duration": 34,
    "start_time": "2024-10-29T00:44:16.010Z"
   },
   {
    "duration": 3,
    "start_time": "2024-10-29T00:44:16.046Z"
   },
   {
    "duration": 897,
    "start_time": "2024-10-29T00:44:16.051Z"
   },
   {
    "duration": 5,
    "start_time": "2024-10-29T00:44:16.949Z"
   },
   {
    "duration": 692,
    "start_time": "2024-10-29T00:44:16.956Z"
   },
   {
    "duration": 13,
    "start_time": "2024-10-29T00:44:17.649Z"
   },
   {
    "duration": 4,
    "start_time": "2024-10-29T00:44:17.665Z"
   },
   {
    "duration": 5,
    "start_time": "2024-10-29T00:44:17.671Z"
   },
   {
    "duration": 2,
    "start_time": "2024-10-29T00:44:17.678Z"
   },
   {
    "duration": 2,
    "start_time": "2024-10-29T00:44:17.682Z"
   },
   {
    "duration": 2,
    "start_time": "2024-10-29T00:44:17.686Z"
   },
   {
    "duration": 56,
    "start_time": "2024-10-29T00:44:17.692Z"
   },
   {
    "duration": 2,
    "start_time": "2024-10-29T00:44:17.750Z"
   },
   {
    "duration": 137,
    "start_time": "2024-10-29T00:44:17.754Z"
   },
   {
    "duration": 3,
    "start_time": "2024-10-29T00:44:17.892Z"
   },
   {
    "duration": 2,
    "start_time": "2024-10-29T00:44:17.897Z"
   },
   {
    "duration": 3,
    "start_time": "2024-10-29T00:44:17.900Z"
   },
   {
    "duration": 2,
    "start_time": "2024-10-29T00:44:17.904Z"
   },
   {
    "duration": 162,
    "start_time": "2024-10-29T21:32:33.697Z"
   },
   {
    "duration": 382,
    "start_time": "2024-10-29T21:32:44.758Z"
   },
   {
    "duration": 188,
    "start_time": "2024-10-29T21:32:45.142Z"
   },
   {
    "duration": 1044,
    "start_time": "2024-10-29T21:32:45.332Z"
   },
   {
    "duration": 15,
    "start_time": "2024-10-29T21:32:46.379Z"
   },
   {
    "duration": 24,
    "start_time": "2024-10-29T21:32:46.396Z"
   },
   {
    "duration": 113,
    "start_time": "2024-10-29T21:32:46.422Z"
   },
   {
    "duration": 15,
    "start_time": "2024-10-29T21:32:46.537Z"
   },
   {
    "duration": 124,
    "start_time": "2024-10-29T21:32:46.554Z"
   },
   {
    "duration": 107,
    "start_time": "2024-10-29T21:32:46.680Z"
   },
   {
    "duration": 53,
    "start_time": "2024-10-29T21:32:46.790Z"
   },
   {
    "duration": 13,
    "start_time": "2024-10-29T21:32:46.844Z"
   },
   {
    "duration": 5,
    "start_time": "2024-10-29T21:32:46.859Z"
   },
   {
    "duration": 22,
    "start_time": "2024-10-29T21:32:46.865Z"
   },
   {
    "duration": 32,
    "start_time": "2024-10-29T21:32:46.888Z"
   },
   {
    "duration": 4,
    "start_time": "2024-10-29T21:32:46.921Z"
   },
   {
    "duration": 3,
    "start_time": "2024-10-29T21:32:46.927Z"
   },
   {
    "duration": 4,
    "start_time": "2024-10-29T21:32:46.932Z"
   },
   {
    "duration": 4,
    "start_time": "2024-10-29T21:32:46.937Z"
   },
   {
    "duration": 956,
    "start_time": "2024-10-29T21:32:46.942Z"
   },
   {
    "duration": 5,
    "start_time": "2024-10-29T21:32:47.900Z"
   },
   {
    "duration": 670,
    "start_time": "2024-10-29T21:32:47.906Z"
   },
   {
    "duration": 12,
    "start_time": "2024-10-29T21:32:48.577Z"
   },
   {
    "duration": 5,
    "start_time": "2024-10-29T21:32:48.590Z"
   },
   {
    "duration": 18,
    "start_time": "2024-10-29T21:32:48.597Z"
   },
   {
    "duration": 2,
    "start_time": "2024-10-29T21:32:48.617Z"
   },
   {
    "duration": 1,
    "start_time": "2024-10-29T21:32:48.621Z"
   },
   {
    "duration": 3,
    "start_time": "2024-10-29T21:32:48.624Z"
   },
   {
    "duration": 20,
    "start_time": "2024-10-29T21:32:48.631Z"
   },
   {
    "duration": 2,
    "start_time": "2024-10-29T21:32:48.653Z"
   },
   {
    "duration": 158,
    "start_time": "2024-10-29T21:32:48.657Z"
   },
   {
    "duration": 4,
    "start_time": "2024-10-29T21:32:48.817Z"
   },
   {
    "duration": 319,
    "start_time": "2024-10-29T21:32:48.823Z"
   },
   {
    "duration": 2,
    "start_time": "2024-10-29T21:32:49.144Z"
   },
   {
    "duration": 3,
    "start_time": "2024-10-29T21:32:49.148Z"
   },
   {
    "duration": 2,
    "start_time": "2024-10-29T21:32:49.153Z"
   },
   {
    "duration": 789,
    "start_time": "2024-10-29T21:40:19.537Z"
   },
   {
    "duration": 376,
    "start_time": "2024-10-29T21:44:04.311Z"
   },
   {
    "duration": 166,
    "start_time": "2024-10-29T21:44:04.694Z"
   },
   {
    "duration": 962,
    "start_time": "2024-10-29T21:44:04.862Z"
   },
   {
    "duration": 16,
    "start_time": "2024-10-29T21:44:05.826Z"
   },
   {
    "duration": 14,
    "start_time": "2024-10-29T21:44:05.844Z"
   },
   {
    "duration": 120,
    "start_time": "2024-10-29T21:44:05.860Z"
   },
   {
    "duration": 12,
    "start_time": "2024-10-29T21:44:05.982Z"
   },
   {
    "duration": 133,
    "start_time": "2024-10-29T21:44:05.997Z"
   },
   {
    "duration": 108,
    "start_time": "2024-10-29T21:44:06.132Z"
   },
   {
    "duration": 45,
    "start_time": "2024-10-29T21:44:06.242Z"
   },
   {
    "duration": 26,
    "start_time": "2024-10-29T21:44:06.289Z"
   },
   {
    "duration": 5,
    "start_time": "2024-10-29T21:44:06.317Z"
   },
   {
    "duration": 22,
    "start_time": "2024-10-29T21:44:06.323Z"
   },
   {
    "duration": 11,
    "start_time": "2024-10-29T21:44:06.349Z"
   },
   {
    "duration": 4,
    "start_time": "2024-10-29T21:44:06.361Z"
   },
   {
    "duration": 4,
    "start_time": "2024-10-29T21:44:06.366Z"
   },
   {
    "duration": 3,
    "start_time": "2024-10-29T21:44:06.373Z"
   },
   {
    "duration": 4,
    "start_time": "2024-10-29T21:44:06.412Z"
   },
   {
    "duration": 941,
    "start_time": "2024-10-29T21:44:06.417Z"
   },
   {
    "duration": 5,
    "start_time": "2024-10-29T21:44:07.360Z"
   },
   {
    "duration": 664,
    "start_time": "2024-10-29T21:44:07.367Z"
   },
   {
    "duration": 14,
    "start_time": "2024-10-29T21:44:08.033Z"
   },
   {
    "duration": 5,
    "start_time": "2024-10-29T21:44:08.048Z"
   },
   {
    "duration": 5,
    "start_time": "2024-10-29T21:44:08.054Z"
   },
   {
    "duration": 2,
    "start_time": "2024-10-29T21:44:08.060Z"
   },
   {
    "duration": 2,
    "start_time": "2024-10-29T21:44:08.065Z"
   },
   {
    "duration": 3,
    "start_time": "2024-10-29T21:44:08.068Z"
   },
   {
    "duration": 50,
    "start_time": "2024-10-29T21:44:08.073Z"
   },
   {
    "duration": 3,
    "start_time": "2024-10-29T21:44:08.125Z"
   },
   {
    "duration": 141,
    "start_time": "2024-10-29T21:44:08.129Z"
   },
   {
    "duration": 5,
    "start_time": "2024-10-29T21:44:08.271Z"
   },
   {
    "duration": 792,
    "start_time": "2024-10-29T21:44:08.277Z"
   },
   {
    "duration": 0,
    "start_time": "2024-10-29T21:44:09.070Z"
   },
   {
    "duration": 0,
    "start_time": "2024-10-29T21:44:09.072Z"
   },
   {
    "duration": 0,
    "start_time": "2024-10-29T21:44:09.072Z"
   },
   {
    "duration": 16,
    "start_time": "2024-10-29T21:47:38.758Z"
   },
   {
    "duration": 358,
    "start_time": "2024-10-29T21:47:51.086Z"
   },
   {
    "duration": 186,
    "start_time": "2024-10-29T21:51:29.183Z"
   },
   {
    "duration": 167,
    "start_time": "2024-10-30T00:37:08.598Z"
   },
   {
    "duration": 432,
    "start_time": "2024-10-30T00:37:25.748Z"
   },
   {
    "duration": 188,
    "start_time": "2024-10-30T00:37:26.182Z"
   },
   {
    "duration": 1070,
    "start_time": "2024-10-30T00:37:26.372Z"
   },
   {
    "duration": 15,
    "start_time": "2024-10-30T00:37:27.444Z"
   },
   {
    "duration": 15,
    "start_time": "2024-10-30T00:37:27.462Z"
   },
   {
    "duration": 146,
    "start_time": "2024-10-30T00:37:27.479Z"
   },
   {
    "duration": 12,
    "start_time": "2024-10-30T00:37:27.628Z"
   },
   {
    "duration": 152,
    "start_time": "2024-10-30T00:37:27.642Z"
   },
   {
    "duration": 134,
    "start_time": "2024-10-30T00:37:27.796Z"
   },
   {
    "duration": 55,
    "start_time": "2024-10-30T00:37:27.934Z"
   },
   {
    "duration": 29,
    "start_time": "2024-10-30T00:37:27.991Z"
   },
   {
    "duration": 5,
    "start_time": "2024-10-30T00:37:28.021Z"
   },
   {
    "duration": 25,
    "start_time": "2024-10-30T00:37:28.029Z"
   },
   {
    "duration": 14,
    "start_time": "2024-10-30T00:37:28.056Z"
   },
   {
    "duration": 4,
    "start_time": "2024-10-30T00:37:28.072Z"
   },
   {
    "duration": 37,
    "start_time": "2024-10-30T00:37:28.077Z"
   },
   {
    "duration": 5,
    "start_time": "2024-10-30T00:37:28.117Z"
   },
   {
    "duration": 3,
    "start_time": "2024-10-30T00:37:28.125Z"
   },
   {
    "duration": 1015,
    "start_time": "2024-10-30T00:37:28.131Z"
   },
   {
    "duration": 5,
    "start_time": "2024-10-30T00:37:29.147Z"
   },
   {
    "duration": 682,
    "start_time": "2024-10-30T00:37:29.154Z"
   },
   {
    "duration": 13,
    "start_time": "2024-10-30T00:37:29.837Z"
   },
   {
    "duration": 5,
    "start_time": "2024-10-30T00:37:29.852Z"
   },
   {
    "duration": 10,
    "start_time": "2024-10-30T00:37:35.391Z"
   },
   {
    "duration": 8,
    "start_time": "2024-10-30T00:40:52.368Z"
   },
   {
    "duration": 8,
    "start_time": "2024-10-30T00:42:13.349Z"
   },
   {
    "duration": 8,
    "start_time": "2024-10-30T00:43:28.128Z"
   },
   {
    "duration": 4,
    "start_time": "2024-10-30T00:45:22.058Z"
   },
   {
    "duration": 5,
    "start_time": "2024-10-30T00:46:21.371Z"
   },
   {
    "duration": 5,
    "start_time": "2024-10-30T00:46:39.417Z"
   },
   {
    "duration": 9,
    "start_time": "2024-10-30T00:47:08.422Z"
   },
   {
    "duration": 8,
    "start_time": "2024-10-30T00:47:37.988Z"
   },
   {
    "duration": 6,
    "start_time": "2024-10-30T00:49:38.556Z"
   },
   {
    "duration": 24,
    "start_time": "2024-10-30T00:54:04.628Z"
   },
   {
    "duration": 11,
    "start_time": "2024-10-30T00:55:49.597Z"
   },
   {
    "duration": 9,
    "start_time": "2024-10-30T21:48:25.674Z"
   },
   {
    "duration": 5,
    "start_time": "2024-10-30T21:50:56.897Z"
   },
   {
    "duration": 181,
    "start_time": "2024-10-30T21:56:37.453Z"
   },
   {
    "duration": 371,
    "start_time": "2024-10-30T21:56:55.378Z"
   },
   {
    "duration": 187,
    "start_time": "2024-10-30T21:56:55.752Z"
   },
   {
    "duration": 1036,
    "start_time": "2024-10-30T21:56:55.942Z"
   },
   {
    "duration": 16,
    "start_time": "2024-10-30T21:56:56.980Z"
   },
   {
    "duration": 23,
    "start_time": "2024-10-30T21:56:56.998Z"
   },
   {
    "duration": 107,
    "start_time": "2024-10-30T21:56:57.022Z"
   },
   {
    "duration": 12,
    "start_time": "2024-10-30T21:56:57.131Z"
   },
   {
    "duration": 140,
    "start_time": "2024-10-30T21:56:57.144Z"
   },
   {
    "duration": 110,
    "start_time": "2024-10-30T21:56:57.286Z"
   },
   {
    "duration": 55,
    "start_time": "2024-10-30T21:56:57.398Z"
   },
   {
    "duration": 12,
    "start_time": "2024-10-30T21:56:57.455Z"
   },
   {
    "duration": 4,
    "start_time": "2024-10-30T21:56:57.469Z"
   },
   {
    "duration": 45,
    "start_time": "2024-10-30T21:56:57.474Z"
   },
   {
    "duration": 10,
    "start_time": "2024-10-30T21:56:57.525Z"
   },
   {
    "duration": 3,
    "start_time": "2024-10-30T21:56:57.537Z"
   },
   {
    "duration": 3,
    "start_time": "2024-10-30T21:56:57.542Z"
   },
   {
    "duration": 4,
    "start_time": "2024-10-30T21:56:57.547Z"
   },
   {
    "duration": 5,
    "start_time": "2024-10-30T21:56:57.552Z"
   },
   {
    "duration": 960,
    "start_time": "2024-10-30T21:56:57.558Z"
   },
   {
    "duration": 4,
    "start_time": "2024-10-30T21:56:58.520Z"
   },
   {
    "duration": 704,
    "start_time": "2024-10-30T21:56:58.526Z"
   },
   {
    "duration": 11,
    "start_time": "2024-10-30T21:56:59.232Z"
   },
   {
    "duration": 3,
    "start_time": "2024-10-30T21:56:59.245Z"
   },
   {
    "duration": 7,
    "start_time": "2024-10-30T21:56:59.251Z"
   },
   {
    "duration": 6,
    "start_time": "2024-10-30T21:56:59.261Z"
   },
   {
    "duration": 4,
    "start_time": "2024-10-30T21:56:59.269Z"
   },
   {
    "duration": 35,
    "start_time": "2024-10-30T21:56:59.275Z"
   },
   {
    "duration": 21,
    "start_time": "2024-10-30T21:56:59.311Z"
   },
   {
    "duration": 24,
    "start_time": "2024-10-30T21:56:59.334Z"
   },
   {
    "duration": 156,
    "start_time": "2024-10-30T21:56:59.360Z"
   },
   {
    "duration": 5,
    "start_time": "2024-10-30T21:56:59.517Z"
   },
   {
    "duration": 10,
    "start_time": "2024-10-30T21:56:59.524Z"
   },
   {
    "duration": 10,
    "start_time": "2024-10-30T21:56:59.536Z"
   },
   {
    "duration": 3,
    "start_time": "2024-10-30T21:56:59.547Z"
   },
   {
    "duration": 3,
    "start_time": "2024-10-30T21:56:59.551Z"
   },
   {
    "duration": 141,
    "start_time": "2024-10-30T22:09:07.802Z"
   },
   {
    "duration": 190,
    "start_time": "2024-10-30T22:24:09.514Z"
   },
   {
    "duration": 355,
    "start_time": "2024-10-30T22:24:21.960Z"
   },
   {
    "duration": 179,
    "start_time": "2024-10-30T22:24:22.317Z"
   },
   {
    "duration": 937,
    "start_time": "2024-10-30T22:24:22.498Z"
   },
   {
    "duration": 17,
    "start_time": "2024-10-30T22:24:23.437Z"
   },
   {
    "duration": 15,
    "start_time": "2024-10-30T22:24:23.457Z"
   },
   {
    "duration": 114,
    "start_time": "2024-10-30T22:24:23.474Z"
   },
   {
    "duration": 26,
    "start_time": "2024-10-30T22:24:23.590Z"
   },
   {
    "duration": 114,
    "start_time": "2024-10-30T22:24:23.617Z"
   },
   {
    "duration": 108,
    "start_time": "2024-10-30T22:24:23.732Z"
   },
   {
    "duration": 47,
    "start_time": "2024-10-30T22:24:23.842Z"
   },
   {
    "duration": 27,
    "start_time": "2024-10-30T22:24:23.891Z"
   },
   {
    "duration": 5,
    "start_time": "2024-10-30T22:24:23.920Z"
   },
   {
    "duration": 22,
    "start_time": "2024-10-30T22:24:23.927Z"
   },
   {
    "duration": 11,
    "start_time": "2024-10-30T22:24:23.953Z"
   },
   {
    "duration": 7,
    "start_time": "2024-10-30T22:24:23.967Z"
   },
   {
    "duration": 33,
    "start_time": "2024-10-30T22:24:23.976Z"
   },
   {
    "duration": 4,
    "start_time": "2024-10-30T22:24:24.011Z"
   },
   {
    "duration": 4,
    "start_time": "2024-10-30T22:24:24.017Z"
   },
   {
    "duration": 997,
    "start_time": "2024-10-30T22:24:24.023Z"
   },
   {
    "duration": 5,
    "start_time": "2024-10-30T22:24:25.022Z"
   },
   {
    "duration": 719,
    "start_time": "2024-10-30T22:24:25.029Z"
   },
   {
    "duration": 12,
    "start_time": "2024-10-30T22:24:25.750Z"
   },
   {
    "duration": 5,
    "start_time": "2024-10-30T22:24:25.763Z"
   },
   {
    "duration": 9,
    "start_time": "2024-10-30T22:24:25.770Z"
   },
   {
    "duration": 27,
    "start_time": "2024-10-30T22:24:25.782Z"
   },
   {
    "duration": 4,
    "start_time": "2024-10-30T22:24:25.811Z"
   },
   {
    "duration": 5,
    "start_time": "2024-10-30T22:24:25.817Z"
   },
   {
    "duration": 19,
    "start_time": "2024-10-30T22:24:25.825Z"
   },
   {
    "duration": 25,
    "start_time": "2024-10-30T22:24:25.846Z"
   },
   {
    "duration": 157,
    "start_time": "2024-10-30T22:24:25.873Z"
   },
   {
    "duration": 4,
    "start_time": "2024-10-30T22:24:26.032Z"
   },
   {
    "duration": 10,
    "start_time": "2024-10-30T22:24:26.038Z"
   },
   {
    "duration": 11,
    "start_time": "2024-10-30T22:24:26.049Z"
   },
   {
    "duration": 158,
    "start_time": "2024-10-30T22:24:26.062Z"
   },
   {
    "duration": 210,
    "start_time": "2024-10-30T22:24:26.222Z"
   },
   {
    "duration": 157,
    "start_time": "2024-10-31T01:08:46.741Z"
   },
   {
    "duration": 12,
    "start_time": "2024-10-31T01:09:26.793Z"
   },
   {
    "duration": 349,
    "start_time": "2024-10-31T01:09:35.894Z"
   },
   {
    "duration": 178,
    "start_time": "2024-10-31T01:09:36.245Z"
   },
   {
    "duration": 1069,
    "start_time": "2024-10-31T01:09:36.425Z"
   },
   {
    "duration": 19,
    "start_time": "2024-10-31T01:09:37.495Z"
   },
   {
    "duration": 14,
    "start_time": "2024-10-31T01:09:37.516Z"
   },
   {
    "duration": 112,
    "start_time": "2024-10-31T01:09:37.531Z"
   },
   {
    "duration": 18,
    "start_time": "2024-10-31T01:09:37.646Z"
   },
   {
    "duration": 143,
    "start_time": "2024-10-31T01:09:37.668Z"
   },
   {
    "duration": 113,
    "start_time": "2024-10-31T01:09:37.814Z"
   },
   {
    "duration": 45,
    "start_time": "2024-10-31T01:09:37.929Z"
   },
   {
    "duration": 12,
    "start_time": "2024-10-31T01:09:37.976Z"
   },
   {
    "duration": 5,
    "start_time": "2024-10-31T01:09:38.005Z"
   },
   {
    "duration": 23,
    "start_time": "2024-10-31T01:09:38.012Z"
   },
   {
    "duration": 10,
    "start_time": "2024-10-31T01:09:38.039Z"
   },
   {
    "duration": 3,
    "start_time": "2024-10-31T01:09:38.051Z"
   },
   {
    "duration": 3,
    "start_time": "2024-10-31T01:09:38.056Z"
   },
   {
    "duration": 3,
    "start_time": "2024-10-31T01:09:38.061Z"
   },
   {
    "duration": 41,
    "start_time": "2024-10-31T01:09:38.066Z"
   },
   {
    "duration": 959,
    "start_time": "2024-10-31T01:09:38.109Z"
   },
   {
    "duration": 5,
    "start_time": "2024-10-31T01:09:39.069Z"
   },
   {
    "duration": 689,
    "start_time": "2024-10-31T01:09:39.076Z"
   },
   {
    "duration": 11,
    "start_time": "2024-10-31T01:09:39.767Z"
   },
   {
    "duration": 5,
    "start_time": "2024-10-31T01:09:39.779Z"
   },
   {
    "duration": 25,
    "start_time": "2024-10-31T01:09:39.786Z"
   },
   {
    "duration": 8,
    "start_time": "2024-10-31T01:09:39.813Z"
   },
   {
    "duration": 4,
    "start_time": "2024-10-31T01:09:39.822Z"
   },
   {
    "duration": 5,
    "start_time": "2024-10-31T01:09:39.829Z"
   },
   {
    "duration": 19,
    "start_time": "2024-10-31T01:09:39.836Z"
   },
   {
    "duration": 57,
    "start_time": "2024-10-31T01:09:39.857Z"
   },
   {
    "duration": 134,
    "start_time": "2024-10-31T01:09:39.916Z"
   },
   {
    "duration": 4,
    "start_time": "2024-10-31T01:09:40.052Z"
   },
   {
    "duration": 10,
    "start_time": "2024-10-31T01:09:40.058Z"
   },
   {
    "duration": 11,
    "start_time": "2024-10-31T01:09:40.069Z"
   },
   {
    "duration": 126,
    "start_time": "2024-10-31T01:09:40.105Z"
   },
   {
    "duration": 184,
    "start_time": "2024-10-31T01:09:40.233Z"
   },
   {
    "duration": 14,
    "start_time": "2024-10-31T01:18:55.176Z"
   },
   {
    "duration": 313,
    "start_time": "2024-10-31T01:19:19.886Z"
   },
   {
    "duration": 161,
    "start_time": "2024-10-31T01:19:20.201Z"
   },
   {
    "duration": 967,
    "start_time": "2024-10-31T01:19:20.364Z"
   },
   {
    "duration": 14,
    "start_time": "2024-10-31T01:19:21.333Z"
   },
   {
    "duration": 13,
    "start_time": "2024-10-31T01:19:21.348Z"
   },
   {
    "duration": 125,
    "start_time": "2024-10-31T01:19:21.362Z"
   },
   {
    "duration": 17,
    "start_time": "2024-10-31T01:19:21.489Z"
   },
   {
    "duration": 121,
    "start_time": "2024-10-31T01:19:21.507Z"
   },
   {
    "duration": 117,
    "start_time": "2024-10-31T01:19:21.630Z"
   },
   {
    "duration": 42,
    "start_time": "2024-10-31T01:19:21.750Z"
   },
   {
    "duration": 20,
    "start_time": "2024-10-31T01:19:21.794Z"
   },
   {
    "duration": 5,
    "start_time": "2024-10-31T01:19:21.816Z"
   },
   {
    "duration": 21,
    "start_time": "2024-10-31T01:19:21.824Z"
   },
   {
    "duration": 10,
    "start_time": "2024-10-31T01:19:21.847Z"
   },
   {
    "duration": 4,
    "start_time": "2024-10-31T01:19:21.858Z"
   },
   {
    "duration": 3,
    "start_time": "2024-10-31T01:19:21.864Z"
   },
   {
    "duration": 38,
    "start_time": "2024-10-31T01:19:21.869Z"
   },
   {
    "duration": 4,
    "start_time": "2024-10-31T01:19:21.909Z"
   },
   {
    "duration": 942,
    "start_time": "2024-10-31T01:19:21.914Z"
   },
   {
    "duration": 5,
    "start_time": "2024-10-31T01:19:22.858Z"
   },
   {
    "duration": 693,
    "start_time": "2024-10-31T01:19:22.865Z"
   },
   {
    "duration": 12,
    "start_time": "2024-10-31T01:19:23.560Z"
   },
   {
    "duration": 4,
    "start_time": "2024-10-31T01:19:23.573Z"
   },
   {
    "duration": 26,
    "start_time": "2024-10-31T01:19:23.579Z"
   },
   {
    "duration": 8,
    "start_time": "2024-10-31T01:19:23.606Z"
   },
   {
    "duration": 4,
    "start_time": "2024-10-31T01:19:23.615Z"
   },
   {
    "duration": 5,
    "start_time": "2024-10-31T01:19:23.621Z"
   },
   {
    "duration": 18,
    "start_time": "2024-10-31T01:19:23.629Z"
   },
   {
    "duration": 23,
    "start_time": "2024-10-31T01:19:23.649Z"
   },
   {
    "duration": 166,
    "start_time": "2024-10-31T01:19:23.674Z"
   },
   {
    "duration": 5,
    "start_time": "2024-10-31T01:19:23.842Z"
   },
   {
    "duration": 9,
    "start_time": "2024-10-31T01:19:23.849Z"
   },
   {
    "duration": 9,
    "start_time": "2024-10-31T01:19:23.860Z"
   },
   {
    "duration": 151,
    "start_time": "2024-10-31T01:19:23.872Z"
   },
   {
    "duration": 192,
    "start_time": "2024-10-31T01:19:24.025Z"
   },
   {
    "duration": 13,
    "start_time": "2024-10-31T01:20:02.494Z"
   },
   {
    "duration": 182,
    "start_time": "2024-10-31T01:20:18.234Z"
   },
   {
    "duration": 5,
    "start_time": "2024-10-31T01:31:46.096Z"
   },
   {
    "duration": 47,
    "start_time": "2024-10-31T01:34:10.508Z"
   },
   {
    "duration": 5,
    "start_time": "2024-10-31T01:34:19.203Z"
   },
   {
    "duration": 6,
    "start_time": "2024-10-31T01:34:56.269Z"
   },
   {
    "duration": 14,
    "start_time": "2024-10-31T01:42:13.263Z"
   },
   {
    "duration": 358,
    "start_time": "2024-10-31T01:44:12.601Z"
   },
   {
    "duration": 340,
    "start_time": "2024-10-31T01:44:29.156Z"
   },
   {
    "duration": 159,
    "start_time": "2024-10-31T01:44:29.498Z"
   },
   {
    "duration": 956,
    "start_time": "2024-10-31T01:44:29.659Z"
   },
   {
    "duration": 14,
    "start_time": "2024-10-31T01:44:30.619Z"
   },
   {
    "duration": 13,
    "start_time": "2024-10-31T01:44:30.636Z"
   },
   {
    "duration": 124,
    "start_time": "2024-10-31T01:44:30.650Z"
   },
   {
    "duration": 13,
    "start_time": "2024-10-31T01:44:30.776Z"
   },
   {
    "duration": 132,
    "start_time": "2024-10-31T01:44:30.790Z"
   },
   {
    "duration": 110,
    "start_time": "2024-10-31T01:44:30.923Z"
   },
   {
    "duration": 44,
    "start_time": "2024-10-31T01:44:31.037Z"
   },
   {
    "duration": 25,
    "start_time": "2024-10-31T01:44:31.083Z"
   },
   {
    "duration": 5,
    "start_time": "2024-10-31T01:44:31.109Z"
   },
   {
    "duration": 21,
    "start_time": "2024-10-31T01:44:31.116Z"
   },
   {
    "duration": 11,
    "start_time": "2024-10-31T01:44:31.138Z"
   },
   {
    "duration": 4,
    "start_time": "2024-10-31T01:44:31.150Z"
   },
   {
    "duration": 3,
    "start_time": "2024-10-31T01:44:31.156Z"
   },
   {
    "duration": 4,
    "start_time": "2024-10-31T01:44:31.161Z"
   },
   {
    "duration": 38,
    "start_time": "2024-10-31T01:44:31.167Z"
   },
   {
    "duration": 971,
    "start_time": "2024-10-31T01:44:31.207Z"
   },
   {
    "duration": 4,
    "start_time": "2024-10-31T01:44:32.180Z"
   },
   {
    "duration": 716,
    "start_time": "2024-10-31T01:44:32.186Z"
   },
   {
    "duration": 14,
    "start_time": "2024-10-31T01:44:32.906Z"
   },
   {
    "duration": 4,
    "start_time": "2024-10-31T01:44:32.921Z"
   },
   {
    "duration": 8,
    "start_time": "2024-10-31T01:44:32.927Z"
   },
   {
    "duration": 7,
    "start_time": "2024-10-31T01:44:32.937Z"
   },
   {
    "duration": 4,
    "start_time": "2024-10-31T01:44:32.946Z"
   },
   {
    "duration": 5,
    "start_time": "2024-10-31T01:44:32.951Z"
   },
   {
    "duration": 53,
    "start_time": "2024-10-31T01:44:32.961Z"
   },
   {
    "duration": 24,
    "start_time": "2024-10-31T01:44:33.016Z"
   },
   {
    "duration": 137,
    "start_time": "2024-10-31T01:44:33.042Z"
   },
   {
    "duration": 4,
    "start_time": "2024-10-31T01:44:33.181Z"
   },
   {
    "duration": 22,
    "start_time": "2024-10-31T01:44:33.187Z"
   },
   {
    "duration": 10,
    "start_time": "2024-10-31T01:44:33.211Z"
   },
   {
    "duration": 144,
    "start_time": "2024-10-31T01:44:33.223Z"
   },
   {
    "duration": 333,
    "start_time": "2024-10-31T01:44:33.369Z"
   },
   {
    "duration": 0,
    "start_time": "2024-10-31T01:44:33.705Z"
   },
   {
    "duration": 0,
    "start_time": "2024-10-31T01:44:33.705Z"
   },
   {
    "duration": 0,
    "start_time": "2024-10-31T01:44:33.707Z"
   },
   {
    "duration": 5,
    "start_time": "2024-10-31T01:45:15.715Z"
   },
   {
    "duration": 378,
    "start_time": "2024-10-31T01:45:20.579Z"
   },
   {
    "duration": 24,
    "start_time": "2024-10-31T01:45:52.441Z"
   },
   {
    "duration": 40,
    "start_time": "2024-10-31T01:47:49.753Z"
   },
   {
    "duration": 2103,
    "start_time": "2024-10-31T01:48:05.342Z"
   },
   {
    "duration": 5,
    "start_time": "2024-10-31T01:52:58.213Z"
   },
   {
    "duration": 4,
    "start_time": "2024-10-31T01:54:28.217Z"
   },
   {
    "duration": 5,
    "start_time": "2024-10-31T01:54:41.078Z"
   },
   {
    "duration": 4,
    "start_time": "2024-10-31T01:55:38.777Z"
   },
   {
    "duration": 177,
    "start_time": "2024-10-31T01:55:59.121Z"
   },
   {
    "duration": 53,
    "start_time": "2024-10-31T02:03:24.727Z"
   },
   {
    "duration": 156,
    "start_time": "2024-10-31T02:03:24.782Z"
   },
   {
    "duration": 917,
    "start_time": "2024-10-31T02:03:24.939Z"
   },
   {
    "duration": 14,
    "start_time": "2024-10-31T02:03:25.859Z"
   },
   {
    "duration": 12,
    "start_time": "2024-10-31T02:03:25.875Z"
   },
   {
    "duration": 85,
    "start_time": "2024-10-31T02:03:25.905Z"
   },
   {
    "duration": 18,
    "start_time": "2024-10-31T02:03:25.992Z"
   },
   {
    "duration": 103,
    "start_time": "2024-10-31T02:03:26.011Z"
   },
   {
    "duration": 94,
    "start_time": "2024-10-31T02:03:26.115Z"
   },
   {
    "duration": 46,
    "start_time": "2024-10-31T02:03:26.212Z"
   },
   {
    "duration": 13,
    "start_time": "2024-10-31T02:03:26.259Z"
   },
   {
    "duration": 4,
    "start_time": "2024-10-31T02:03:26.274Z"
   },
   {
    "duration": 41,
    "start_time": "2024-10-31T02:03:26.280Z"
   },
   {
    "duration": 10,
    "start_time": "2024-10-31T02:03:26.323Z"
   },
   {
    "duration": 3,
    "start_time": "2024-10-31T02:03:26.335Z"
   },
   {
    "duration": 5,
    "start_time": "2024-10-31T02:03:26.339Z"
   },
   {
    "duration": 5,
    "start_time": "2024-10-31T02:03:26.345Z"
   },
   {
    "duration": 3,
    "start_time": "2024-10-31T02:03:26.351Z"
   },
   {
    "duration": 923,
    "start_time": "2024-10-31T02:03:26.356Z"
   },
   {
    "duration": 5,
    "start_time": "2024-10-31T02:03:27.282Z"
   },
   {
    "duration": 640,
    "start_time": "2024-10-31T02:03:27.289Z"
   },
   {
    "duration": 12,
    "start_time": "2024-10-31T02:03:27.931Z"
   },
   {
    "duration": 5,
    "start_time": "2024-10-31T02:03:27.944Z"
   },
   {
    "duration": 8,
    "start_time": "2024-10-31T02:03:27.950Z"
   },
   {
    "duration": 7,
    "start_time": "2024-10-31T02:03:27.960Z"
   },
   {
    "duration": 4,
    "start_time": "2024-10-31T02:03:27.969Z"
   },
   {
    "duration": 31,
    "start_time": "2024-10-31T02:03:27.975Z"
   },
   {
    "duration": 18,
    "start_time": "2024-10-31T02:03:28.010Z"
   },
   {
    "duration": 23,
    "start_time": "2024-10-31T02:03:28.030Z"
   },
   {
    "duration": 152,
    "start_time": "2024-10-31T02:03:28.054Z"
   },
   {
    "duration": 5,
    "start_time": "2024-10-31T02:03:28.208Z"
   },
   {
    "duration": 10,
    "start_time": "2024-10-31T02:03:28.215Z"
   },
   {
    "duration": 9,
    "start_time": "2024-10-31T02:03:35.394Z"
   },
   {
    "duration": 12,
    "start_time": "2024-10-31T02:04:25.446Z"
   },
   {
    "duration": 4,
    "start_time": "2024-10-31T02:04:41.520Z"
   },
   {
    "duration": 5,
    "start_time": "2024-10-31T02:04:52.021Z"
   },
   {
    "duration": 46,
    "start_time": "2024-10-31T02:05:33.649Z"
   },
   {
    "duration": 129,
    "start_time": "2024-10-31T02:05:33.697Z"
   },
   {
    "duration": 941,
    "start_time": "2024-10-31T02:05:33.828Z"
   },
   {
    "duration": 14,
    "start_time": "2024-10-31T02:05:34.772Z"
   },
   {
    "duration": 25,
    "start_time": "2024-10-31T02:05:34.787Z"
   },
   {
    "duration": 92,
    "start_time": "2024-10-31T02:05:34.813Z"
   },
   {
    "duration": 11,
    "start_time": "2024-10-31T02:05:34.907Z"
   },
   {
    "duration": 108,
    "start_time": "2024-10-31T02:05:34.919Z"
   },
   {
    "duration": 89,
    "start_time": "2024-10-31T02:05:35.029Z"
   },
   {
    "duration": 38,
    "start_time": "2024-10-31T02:05:35.122Z"
   },
   {
    "duration": 11,
    "start_time": "2024-10-31T02:05:35.162Z"
   },
   {
    "duration": 4,
    "start_time": "2024-10-31T02:05:35.175Z"
   },
   {
    "duration": 43,
    "start_time": "2024-10-31T02:05:35.181Z"
   },
   {
    "duration": 11,
    "start_time": "2024-10-31T02:05:35.226Z"
   },
   {
    "duration": 3,
    "start_time": "2024-10-31T02:05:35.238Z"
   },
   {
    "duration": 4,
    "start_time": "2024-10-31T02:05:35.243Z"
   },
   {
    "duration": 3,
    "start_time": "2024-10-31T02:05:35.249Z"
   },
   {
    "duration": 4,
    "start_time": "2024-10-31T02:05:35.254Z"
   },
   {
    "duration": 914,
    "start_time": "2024-10-31T02:05:35.259Z"
   },
   {
    "duration": 5,
    "start_time": "2024-10-31T02:05:36.175Z"
   },
   {
    "duration": 678,
    "start_time": "2024-10-31T02:05:36.182Z"
   },
   {
    "duration": 13,
    "start_time": "2024-10-31T02:05:36.862Z"
   },
   {
    "duration": 4,
    "start_time": "2024-10-31T02:05:36.877Z"
   },
   {
    "duration": 28,
    "start_time": "2024-10-31T02:05:36.883Z"
   },
   {
    "duration": 7,
    "start_time": "2024-10-31T02:05:36.913Z"
   },
   {
    "duration": 4,
    "start_time": "2024-10-31T02:05:36.922Z"
   },
   {
    "duration": 4,
    "start_time": "2024-10-31T02:05:36.928Z"
   },
   {
    "duration": 18,
    "start_time": "2024-10-31T02:05:36.936Z"
   },
   {
    "duration": 51,
    "start_time": "2024-10-31T02:05:36.955Z"
   },
   {
    "duration": 132,
    "start_time": "2024-10-31T02:05:37.008Z"
   },
   {
    "duration": 5,
    "start_time": "2024-10-31T02:05:37.141Z"
   },
   {
    "duration": 10,
    "start_time": "2024-10-31T02:05:37.148Z"
   },
   {
    "duration": 7,
    "start_time": "2024-10-31T02:05:37.160Z"
   },
   {
    "duration": 7,
    "start_time": "2024-10-31T02:05:49.101Z"
   },
   {
    "duration": 10,
    "start_time": "2024-10-31T02:06:07.071Z"
   },
   {
    "duration": 6,
    "start_time": "2024-10-31T02:06:21.459Z"
   },
   {
    "duration": 7,
    "start_time": "2024-10-31T02:06:27.969Z"
   },
   {
    "duration": 10,
    "start_time": "2024-10-31T02:06:51.925Z"
   },
   {
    "duration": 126,
    "start_time": "2024-10-31T02:08:36.394Z"
   },
   {
    "duration": 51,
    "start_time": "2024-10-31T02:22:06.484Z"
   },
   {
    "duration": 157,
    "start_time": "2024-10-31T02:22:06.537Z"
   },
   {
    "duration": 920,
    "start_time": "2024-10-31T02:22:06.696Z"
   },
   {
    "duration": 15,
    "start_time": "2024-10-31T02:22:07.618Z"
   },
   {
    "duration": 13,
    "start_time": "2024-10-31T02:22:07.635Z"
   },
   {
    "duration": 111,
    "start_time": "2024-10-31T02:22:07.649Z"
   },
   {
    "duration": 10,
    "start_time": "2024-10-31T02:22:07.762Z"
   },
   {
    "duration": 108,
    "start_time": "2024-10-31T02:22:07.774Z"
   },
   {
    "duration": 108,
    "start_time": "2024-10-31T02:22:07.884Z"
   },
   {
    "duration": 44,
    "start_time": "2024-10-31T02:22:07.995Z"
   },
   {
    "duration": 11,
    "start_time": "2024-10-31T02:22:08.041Z"
   },
   {
    "duration": 4,
    "start_time": "2024-10-31T02:22:08.054Z"
   },
   {
    "duration": 20,
    "start_time": "2024-10-31T02:22:08.059Z"
   },
   {
    "duration": 31,
    "start_time": "2024-10-31T02:22:08.081Z"
   },
   {
    "duration": 3,
    "start_time": "2024-10-31T02:22:08.114Z"
   },
   {
    "duration": 3,
    "start_time": "2024-10-31T02:22:08.119Z"
   },
   {
    "duration": 4,
    "start_time": "2024-10-31T02:22:08.123Z"
   },
   {
    "duration": 3,
    "start_time": "2024-10-31T02:22:08.129Z"
   },
   {
    "duration": 962,
    "start_time": "2024-10-31T02:22:08.134Z"
   },
   {
    "duration": 8,
    "start_time": "2024-10-31T02:22:09.098Z"
   },
   {
    "duration": 712,
    "start_time": "2024-10-31T02:22:09.107Z"
   },
   {
    "duration": 12,
    "start_time": "2024-10-31T02:22:09.820Z"
   },
   {
    "duration": 4,
    "start_time": "2024-10-31T02:22:09.834Z"
   },
   {
    "duration": 7,
    "start_time": "2024-10-31T02:22:09.840Z"
   },
   {
    "duration": 8,
    "start_time": "2024-10-31T02:22:09.849Z"
   },
   {
    "duration": 5,
    "start_time": "2024-10-31T02:22:09.859Z"
   },
   {
    "duration": 39,
    "start_time": "2024-10-31T02:22:09.866Z"
   },
   {
    "duration": 18,
    "start_time": "2024-10-31T02:22:09.908Z"
   },
   {
    "duration": 22,
    "start_time": "2024-10-31T02:22:09.928Z"
   },
   {
    "duration": 147,
    "start_time": "2024-10-31T02:22:09.952Z"
   },
   {
    "duration": 4,
    "start_time": "2024-10-31T02:22:10.104Z"
   },
   {
    "duration": 9,
    "start_time": "2024-10-31T02:22:10.110Z"
   },
   {
    "duration": 129,
    "start_time": "2024-10-31T02:22:10.121Z"
   },
   {
    "duration": 8,
    "start_time": "2024-10-31T02:22:10.252Z"
   },
   {
    "duration": 144,
    "start_time": "2024-10-31T02:22:10.262Z"
   },
   {
    "duration": 6,
    "start_time": "2024-10-31T02:22:13.982Z"
   },
   {
    "duration": 5,
    "start_time": "2024-10-31T02:22:21.540Z"
   },
   {
    "duration": 3,
    "start_time": "2024-10-31T02:22:32.293Z"
   },
   {
    "duration": 47,
    "start_time": "2024-10-31T02:22:57.853Z"
   },
   {
    "duration": 168,
    "start_time": "2024-10-31T02:22:57.903Z"
   },
   {
    "duration": 933,
    "start_time": "2024-10-31T02:22:58.073Z"
   },
   {
    "duration": 17,
    "start_time": "2024-10-31T02:22:59.008Z"
   },
   {
    "duration": 16,
    "start_time": "2024-10-31T02:22:59.028Z"
   },
   {
    "duration": 110,
    "start_time": "2024-10-31T02:22:59.045Z"
   },
   {
    "duration": 10,
    "start_time": "2024-10-31T02:22:59.156Z"
   },
   {
    "duration": 106,
    "start_time": "2024-10-31T02:22:59.168Z"
   },
   {
    "duration": 96,
    "start_time": "2024-10-31T02:22:59.276Z"
   },
   {
    "duration": 50,
    "start_time": "2024-10-31T02:22:59.374Z"
   },
   {
    "duration": 11,
    "start_time": "2024-10-31T02:22:59.426Z"
   },
   {
    "duration": 5,
    "start_time": "2024-10-31T02:22:59.440Z"
   },
   {
    "duration": 20,
    "start_time": "2024-10-31T02:22:59.447Z"
   },
   {
    "duration": 10,
    "start_time": "2024-10-31T02:22:59.471Z"
   },
   {
    "duration": 4,
    "start_time": "2024-10-31T02:22:59.504Z"
   },
   {
    "duration": 4,
    "start_time": "2024-10-31T02:22:59.509Z"
   },
   {
    "duration": 4,
    "start_time": "2024-10-31T02:22:59.516Z"
   },
   {
    "duration": 3,
    "start_time": "2024-10-31T02:22:59.522Z"
   },
   {
    "duration": 942,
    "start_time": "2024-10-31T02:22:59.527Z"
   },
   {
    "duration": 4,
    "start_time": "2024-10-31T02:23:00.472Z"
   },
   {
    "duration": 686,
    "start_time": "2024-10-31T02:23:00.478Z"
   },
   {
    "duration": 14,
    "start_time": "2024-10-31T02:23:01.166Z"
   },
   {
    "duration": 4,
    "start_time": "2024-10-31T02:23:01.182Z"
   },
   {
    "duration": 23,
    "start_time": "2024-10-31T02:23:01.188Z"
   },
   {
    "duration": 9,
    "start_time": "2024-10-31T02:23:01.212Z"
   },
   {
    "duration": 7,
    "start_time": "2024-10-31T02:23:01.224Z"
   },
   {
    "duration": 5,
    "start_time": "2024-10-31T02:23:01.233Z"
   },
   {
    "duration": 25,
    "start_time": "2024-10-31T02:23:01.239Z"
   },
   {
    "duration": 55,
    "start_time": "2024-10-31T02:23:01.265Z"
   },
   {
    "duration": 127,
    "start_time": "2024-10-31T02:23:01.322Z"
   },
   {
    "duration": 4,
    "start_time": "2024-10-31T02:23:01.451Z"
   },
   {
    "duration": 10,
    "start_time": "2024-10-31T02:23:01.457Z"
   },
   {
    "duration": 137,
    "start_time": "2024-10-31T02:23:01.468Z"
   },
   {
    "duration": 10,
    "start_time": "2024-10-31T02:23:01.607Z"
   },
   {
    "duration": 142,
    "start_time": "2024-10-31T02:23:01.619Z"
   },
   {
    "duration": 5,
    "start_time": "2024-10-31T02:23:23.931Z"
   },
   {
    "duration": 110,
    "start_time": "2024-10-31T02:26:56.849Z"
   },
   {
    "duration": 11,
    "start_time": "2024-10-31T02:30:52.861Z"
   },
   {
    "duration": 46,
    "start_time": "2024-10-31T02:31:20.795Z"
   },
   {
    "duration": 151,
    "start_time": "2024-10-31T02:31:20.843Z"
   },
   {
    "duration": 916,
    "start_time": "2024-10-31T02:31:20.996Z"
   },
   {
    "duration": 16,
    "start_time": "2024-10-31T02:31:21.915Z"
   },
   {
    "duration": 13,
    "start_time": "2024-10-31T02:31:21.932Z"
   },
   {
    "duration": 106,
    "start_time": "2024-10-31T02:31:21.947Z"
   },
   {
    "duration": 12,
    "start_time": "2024-10-31T02:31:22.055Z"
   },
   {
    "duration": 123,
    "start_time": "2024-10-31T02:31:22.068Z"
   },
   {
    "duration": 100,
    "start_time": "2024-10-31T02:31:22.192Z"
   },
   {
    "duration": 41,
    "start_time": "2024-10-31T02:31:22.297Z"
   },
   {
    "duration": 11,
    "start_time": "2024-10-31T02:31:22.340Z"
   },
   {
    "duration": 5,
    "start_time": "2024-10-31T02:31:22.353Z"
   },
   {
    "duration": 20,
    "start_time": "2024-10-31T02:31:22.360Z"
   },
   {
    "duration": 30,
    "start_time": "2024-10-31T02:31:22.382Z"
   },
   {
    "duration": 3,
    "start_time": "2024-10-31T02:31:22.414Z"
   },
   {
    "duration": 4,
    "start_time": "2024-10-31T02:31:22.421Z"
   },
   {
    "duration": 5,
    "start_time": "2024-10-31T02:31:22.427Z"
   },
   {
    "duration": 6,
    "start_time": "2024-10-31T02:31:22.433Z"
   },
   {
    "duration": 936,
    "start_time": "2024-10-31T02:31:22.441Z"
   },
   {
    "duration": 4,
    "start_time": "2024-10-31T02:31:23.379Z"
   },
   {
    "duration": 690,
    "start_time": "2024-10-31T02:31:23.385Z"
   },
   {
    "duration": 11,
    "start_time": "2024-10-31T02:31:24.077Z"
   },
   {
    "duration": 14,
    "start_time": "2024-10-31T02:31:24.091Z"
   },
   {
    "duration": 8,
    "start_time": "2024-10-31T02:31:24.107Z"
   },
   {
    "duration": 8,
    "start_time": "2024-10-31T02:31:24.117Z"
   },
   {
    "duration": 5,
    "start_time": "2024-10-31T02:31:24.126Z"
   },
   {
    "duration": 8,
    "start_time": "2024-10-31T02:31:24.132Z"
   },
   {
    "duration": 22,
    "start_time": "2024-10-31T02:31:24.144Z"
   },
   {
    "duration": 58,
    "start_time": "2024-10-31T02:31:24.167Z"
   },
   {
    "duration": 134,
    "start_time": "2024-10-31T02:31:24.228Z"
   },
   {
    "duration": 5,
    "start_time": "2024-10-31T02:31:24.364Z"
   },
   {
    "duration": 10,
    "start_time": "2024-10-31T02:31:24.371Z"
   },
   {
    "duration": 137,
    "start_time": "2024-10-31T02:31:24.382Z"
   },
   {
    "duration": 10,
    "start_time": "2024-10-31T02:31:24.521Z"
   },
   {
    "duration": 144,
    "start_time": "2024-10-31T02:31:24.532Z"
   },
   {
    "duration": 12,
    "start_time": "2024-10-31T02:31:24.678Z"
   },
   {
    "duration": 7,
    "start_time": "2024-10-31T02:32:54.354Z"
   },
   {
    "duration": 29,
    "start_time": "2024-10-31T02:34:00.325Z"
   },
   {
    "duration": 10,
    "start_time": "2024-10-31T02:34:11.202Z"
   },
   {
    "duration": 7,
    "start_time": "2024-10-31T02:34:52.021Z"
   },
   {
    "duration": 48,
    "start_time": "2024-10-31T02:35:06.656Z"
   },
   {
    "duration": 154,
    "start_time": "2024-10-31T02:35:06.706Z"
   },
   {
    "duration": 932,
    "start_time": "2024-10-31T02:35:06.862Z"
   },
   {
    "duration": 20,
    "start_time": "2024-10-31T02:35:07.796Z"
   },
   {
    "duration": 20,
    "start_time": "2024-10-31T02:35:07.818Z"
   },
   {
    "duration": 88,
    "start_time": "2024-10-31T02:35:07.840Z"
   },
   {
    "duration": 10,
    "start_time": "2024-10-31T02:35:07.930Z"
   },
   {
    "duration": 113,
    "start_time": "2024-10-31T02:35:07.942Z"
   },
   {
    "duration": 100,
    "start_time": "2024-10-31T02:35:08.057Z"
   },
   {
    "duration": 37,
    "start_time": "2024-10-31T02:35:08.158Z"
   },
   {
    "duration": 19,
    "start_time": "2024-10-31T02:35:08.196Z"
   },
   {
    "duration": 6,
    "start_time": "2024-10-31T02:35:08.216Z"
   },
   {
    "duration": 19,
    "start_time": "2024-10-31T02:35:08.224Z"
   },
   {
    "duration": 10,
    "start_time": "2024-10-31T02:35:08.247Z"
   },
   {
    "duration": 4,
    "start_time": "2024-10-31T02:35:08.258Z"
   },
   {
    "duration": 4,
    "start_time": "2024-10-31T02:35:08.263Z"
   },
   {
    "duration": 39,
    "start_time": "2024-10-31T02:35:08.268Z"
   },
   {
    "duration": 3,
    "start_time": "2024-10-31T02:35:08.308Z"
   },
   {
    "duration": 913,
    "start_time": "2024-10-31T02:35:08.313Z"
   },
   {
    "duration": 7,
    "start_time": "2024-10-31T02:35:09.227Z"
   },
   {
    "duration": 681,
    "start_time": "2024-10-31T02:35:09.236Z"
   },
   {
    "duration": 12,
    "start_time": "2024-10-31T02:35:09.919Z"
   },
   {
    "duration": 4,
    "start_time": "2024-10-31T02:35:09.932Z"
   },
   {
    "duration": 8,
    "start_time": "2024-10-31T02:35:09.938Z"
   },
   {
    "duration": 7,
    "start_time": "2024-10-31T02:35:09.947Z"
   },
   {
    "duration": 4,
    "start_time": "2024-10-31T02:35:09.956Z"
   },
   {
    "duration": 5,
    "start_time": "2024-10-31T02:35:09.961Z"
   },
   {
    "duration": 53,
    "start_time": "2024-10-31T02:35:09.967Z"
   },
   {
    "duration": 25,
    "start_time": "2024-10-31T02:35:10.021Z"
   },
   {
    "duration": 140,
    "start_time": "2024-10-31T02:35:10.048Z"
   },
   {
    "duration": 4,
    "start_time": "2024-10-31T02:35:10.190Z"
   },
   {
    "duration": 10,
    "start_time": "2024-10-31T02:35:10.204Z"
   },
   {
    "duration": 129,
    "start_time": "2024-10-31T02:35:10.216Z"
   },
   {
    "duration": 9,
    "start_time": "2024-10-31T02:35:10.347Z"
   },
   {
    "duration": 146,
    "start_time": "2024-10-31T02:35:10.357Z"
   },
   {
    "duration": 45,
    "start_time": "2024-10-31T02:35:13.452Z"
   },
   {
    "duration": 44,
    "start_time": "2024-10-31T02:35:30.307Z"
   },
   {
    "duration": 157,
    "start_time": "2024-10-31T02:35:30.353Z"
   },
   {
    "duration": 941,
    "start_time": "2024-10-31T02:35:30.512Z"
   },
   {
    "duration": 15,
    "start_time": "2024-10-31T02:35:31.455Z"
   },
   {
    "duration": 13,
    "start_time": "2024-10-31T02:35:31.473Z"
   },
   {
    "duration": 98,
    "start_time": "2024-10-31T02:35:31.487Z"
   },
   {
    "duration": 22,
    "start_time": "2024-10-31T02:35:31.587Z"
   },
   {
    "duration": 102,
    "start_time": "2024-10-31T02:35:31.611Z"
   },
   {
    "duration": 91,
    "start_time": "2024-10-31T02:35:31.716Z"
   },
   {
    "duration": 37,
    "start_time": "2024-10-31T02:35:31.809Z"
   },
   {
    "duration": 13,
    "start_time": "2024-10-31T02:35:31.848Z"
   },
   {
    "duration": 5,
    "start_time": "2024-10-31T02:35:31.863Z"
   },
   {
    "duration": 40,
    "start_time": "2024-10-31T02:35:31.869Z"
   },
   {
    "duration": 11,
    "start_time": "2024-10-31T02:35:31.913Z"
   },
   {
    "duration": 4,
    "start_time": "2024-10-31T02:35:31.925Z"
   },
   {
    "duration": 4,
    "start_time": "2024-10-31T02:35:31.931Z"
   },
   {
    "duration": 4,
    "start_time": "2024-10-31T02:35:31.936Z"
   },
   {
    "duration": 4,
    "start_time": "2024-10-31T02:35:31.942Z"
   },
   {
    "duration": 886,
    "start_time": "2024-10-31T02:35:31.948Z"
   },
   {
    "duration": 4,
    "start_time": "2024-10-31T02:35:32.836Z"
   },
   {
    "duration": 635,
    "start_time": "2024-10-31T02:35:32.842Z"
   },
   {
    "duration": 11,
    "start_time": "2024-10-31T02:35:33.479Z"
   },
   {
    "duration": 14,
    "start_time": "2024-10-31T02:35:33.492Z"
   },
   {
    "duration": 7,
    "start_time": "2024-10-31T02:35:33.508Z"
   },
   {
    "duration": 8,
    "start_time": "2024-10-31T02:35:33.517Z"
   },
   {
    "duration": 4,
    "start_time": "2024-10-31T02:35:33.526Z"
   },
   {
    "duration": 5,
    "start_time": "2024-10-31T02:35:33.532Z"
   },
   {
    "duration": 18,
    "start_time": "2024-10-31T02:35:33.538Z"
   },
   {
    "duration": 56,
    "start_time": "2024-10-31T02:35:33.558Z"
   },
   {
    "duration": 132,
    "start_time": "2024-10-31T02:35:33.616Z"
   },
   {
    "duration": 6,
    "start_time": "2024-10-31T02:35:33.749Z"
   },
   {
    "duration": 9,
    "start_time": "2024-10-31T02:35:33.757Z"
   },
   {
    "duration": 137,
    "start_time": "2024-10-31T02:35:33.769Z"
   },
   {
    "duration": 9,
    "start_time": "2024-10-31T02:35:33.908Z"
   },
   {
    "duration": 141,
    "start_time": "2024-10-31T02:35:33.919Z"
   },
   {
    "duration": 28,
    "start_time": "2024-10-31T02:35:36.320Z"
   },
   {
    "duration": 7,
    "start_time": "2024-10-31T02:36:18.279Z"
   },
   {
    "duration": 376,
    "start_time": "2024-11-01T23:07:44.761Z"
   },
   {
    "duration": 365,
    "start_time": "2024-11-01T23:07:52.645Z"
   },
   {
    "duration": 176,
    "start_time": "2024-11-01T23:07:53.012Z"
   },
   {
    "duration": 1015,
    "start_time": "2024-11-01T23:07:53.190Z"
   },
   {
    "duration": 24,
    "start_time": "2024-11-01T23:07:54.206Z"
   },
   {
    "duration": 14,
    "start_time": "2024-11-01T23:07:54.233Z"
   },
   {
    "duration": 106,
    "start_time": "2024-11-01T23:07:54.248Z"
   },
   {
    "duration": 13,
    "start_time": "2024-11-01T23:07:54.356Z"
   },
   {
    "duration": 122,
    "start_time": "2024-11-01T23:07:54.370Z"
   },
   {
    "duration": 100,
    "start_time": "2024-11-01T23:07:54.493Z"
   },
   {
    "duration": 51,
    "start_time": "2024-11-01T23:07:54.595Z"
   },
   {
    "duration": 12,
    "start_time": "2024-11-01T23:07:54.648Z"
   },
   {
    "duration": 4,
    "start_time": "2024-11-01T23:07:54.662Z"
   },
   {
    "duration": 21,
    "start_time": "2024-11-01T23:07:54.667Z"
   },
   {
    "duration": 36,
    "start_time": "2024-11-01T23:07:54.693Z"
   },
   {
    "duration": 4,
    "start_time": "2024-11-01T23:07:54.731Z"
   },
   {
    "duration": 4,
    "start_time": "2024-11-01T23:07:54.737Z"
   },
   {
    "duration": 5,
    "start_time": "2024-11-01T23:07:54.743Z"
   },
   {
    "duration": 5,
    "start_time": "2024-11-01T23:07:54.750Z"
   },
   {
    "duration": 863,
    "start_time": "2024-11-01T23:07:54.757Z"
   },
   {
    "duration": 5,
    "start_time": "2024-11-01T23:07:55.624Z"
   },
   {
    "duration": 625,
    "start_time": "2024-11-01T23:07:55.631Z"
   },
   {
    "duration": 12,
    "start_time": "2024-11-01T23:07:56.258Z"
   },
   {
    "duration": 4,
    "start_time": "2024-11-01T23:07:56.272Z"
   },
   {
    "duration": 8,
    "start_time": "2024-11-01T23:07:56.279Z"
   },
   {
    "duration": 36,
    "start_time": "2024-11-01T23:07:56.289Z"
   },
   {
    "duration": 5,
    "start_time": "2024-11-01T23:07:56.327Z"
   },
   {
    "duration": 6,
    "start_time": "2024-11-01T23:07:56.333Z"
   },
   {
    "duration": 18,
    "start_time": "2024-11-01T23:07:56.341Z"
   },
   {
    "duration": 23,
    "start_time": "2024-11-01T23:07:56.360Z"
   },
   {
    "duration": 151,
    "start_time": "2024-11-01T23:07:56.384Z"
   },
   {
    "duration": 4,
    "start_time": "2024-11-01T23:07:56.538Z"
   },
   {
    "duration": 9,
    "start_time": "2024-11-01T23:07:56.544Z"
   },
   {
    "duration": 137,
    "start_time": "2024-11-01T23:07:56.554Z"
   },
   {
    "duration": 8,
    "start_time": "2024-11-01T23:07:56.693Z"
   },
   {
    "duration": 142,
    "start_time": "2024-11-01T23:07:56.703Z"
   },
   {
    "duration": 57,
    "start_time": "2024-11-01T23:07:56.847Z"
   },
   {
    "duration": 20,
    "start_time": "2024-11-01T23:07:56.906Z"
   },
   {
    "duration": 6,
    "start_time": "2024-11-01T23:07:56.928Z"
   },
   {
    "duration": 6,
    "start_time": "2024-11-01T23:07:56.935Z"
   },
   {
    "duration": 2088,
    "start_time": "2024-11-01T23:07:56.943Z"
   },
   {
    "duration": 217,
    "start_time": "2024-11-01T23:29:33.028Z"
   },
   {
    "duration": 389,
    "start_time": "2024-11-02T01:33:25.765Z"
   },
   {
    "duration": 186,
    "start_time": "2024-11-02T01:33:26.156Z"
   },
   {
    "duration": 1021,
    "start_time": "2024-11-02T01:33:26.344Z"
   },
   {
    "duration": 18,
    "start_time": "2024-11-02T01:33:27.367Z"
   },
   {
    "duration": 15,
    "start_time": "2024-11-02T01:33:27.388Z"
   },
   {
    "duration": 133,
    "start_time": "2024-11-02T01:33:27.405Z"
   },
   {
    "duration": 13,
    "start_time": "2024-11-02T01:33:27.540Z"
   },
   {
    "duration": 136,
    "start_time": "2024-11-02T01:33:27.555Z"
   },
   {
    "duration": 123,
    "start_time": "2024-11-02T01:33:27.693Z"
   },
   {
    "duration": 52,
    "start_time": "2024-11-02T01:33:27.818Z"
   },
   {
    "duration": 13,
    "start_time": "2024-11-02T01:33:27.872Z"
   },
   {
    "duration": 6,
    "start_time": "2024-11-02T01:33:27.886Z"
   },
   {
    "duration": 43,
    "start_time": "2024-11-02T01:33:27.894Z"
   },
   {
    "duration": 11,
    "start_time": "2024-11-02T01:33:27.941Z"
   },
   {
    "duration": 3,
    "start_time": "2024-11-02T01:33:27.954Z"
   },
   {
    "duration": 4,
    "start_time": "2024-11-02T01:33:27.959Z"
   },
   {
    "duration": 4,
    "start_time": "2024-11-02T01:33:27.964Z"
   },
   {
    "duration": 3,
    "start_time": "2024-11-02T01:33:27.970Z"
   },
   {
    "duration": 981,
    "start_time": "2024-11-02T01:33:27.975Z"
   },
   {
    "duration": 4,
    "start_time": "2024-11-02T01:33:28.958Z"
   },
   {
    "duration": 722,
    "start_time": "2024-11-02T01:33:28.964Z"
   },
   {
    "duration": 13,
    "start_time": "2024-11-02T01:33:29.688Z"
   },
   {
    "duration": 4,
    "start_time": "2024-11-02T01:33:29.702Z"
   },
   {
    "duration": 25,
    "start_time": "2024-11-02T01:33:29.708Z"
   },
   {
    "duration": 7,
    "start_time": "2024-11-02T01:33:29.735Z"
   },
   {
    "duration": 4,
    "start_time": "2024-11-02T01:33:29.744Z"
   },
   {
    "duration": 6,
    "start_time": "2024-11-02T01:33:29.750Z"
   },
   {
    "duration": 19,
    "start_time": "2024-11-02T01:33:29.757Z"
   },
   {
    "duration": 52,
    "start_time": "2024-11-02T01:33:29.779Z"
   },
   {
    "duration": 140,
    "start_time": "2024-11-02T01:33:29.833Z"
   },
   {
    "duration": 6,
    "start_time": "2024-11-02T01:33:29.974Z"
   },
   {
    "duration": 11,
    "start_time": "2024-11-02T01:33:29.982Z"
   },
   {
    "duration": 140,
    "start_time": "2024-11-02T01:33:29.994Z"
   },
   {
    "duration": 8,
    "start_time": "2024-11-02T01:33:30.137Z"
   },
   {
    "duration": 144,
    "start_time": "2024-11-02T01:33:30.147Z"
   },
   {
    "duration": 66,
    "start_time": "2024-11-02T01:33:30.292Z"
   },
   {
    "duration": 7,
    "start_time": "2024-11-02T01:33:30.360Z"
   },
   {
    "duration": 6,
    "start_time": "2024-11-02T01:33:30.369Z"
   },
   {
    "duration": 8,
    "start_time": "2024-11-02T01:33:30.376Z"
   },
   {
    "duration": 2129,
    "start_time": "2024-11-02T01:33:30.385Z"
   },
   {
    "duration": 192,
    "start_time": "2024-11-02T01:33:32.518Z"
   },
   {
    "duration": 5,
    "start_time": "2024-11-02T01:33:53.861Z"
   },
   {
    "duration": 214,
    "start_time": "2024-11-02T01:34:22.684Z"
   },
   {
    "duration": 6,
    "start_time": "2024-11-02T01:34:58.903Z"
   },
   {
    "duration": 7,
    "start_time": "2024-11-02T01:58:15.062Z"
   },
   {
    "duration": 7,
    "start_time": "2024-11-02T01:59:26.745Z"
   },
   {
    "duration": 116,
    "start_time": "2024-11-02T02:05:14.264Z"
   },
   {
    "duration": 117,
    "start_time": "2024-11-02T02:06:12.233Z"
   },
   {
    "duration": 14,
    "start_time": "2024-11-02T02:13:09.855Z"
   },
   {
    "duration": 11350,
    "start_time": "2024-11-02T02:13:35.299Z"
   },
   {
    "duration": 351,
    "start_time": "2024-11-02T02:13:49.307Z"
   },
   {
    "duration": 191,
    "start_time": "2024-11-02T02:13:49.660Z"
   },
   {
    "duration": 972,
    "start_time": "2024-11-02T02:13:49.854Z"
   },
   {
    "duration": 15,
    "start_time": "2024-11-02T02:13:50.832Z"
   },
   {
    "duration": 14,
    "start_time": "2024-11-02T02:13:50.849Z"
   },
   {
    "duration": 134,
    "start_time": "2024-11-02T02:13:50.865Z"
   },
   {
    "duration": 12,
    "start_time": "2024-11-02T02:13:51.002Z"
   },
   {
    "duration": 128,
    "start_time": "2024-11-02T02:13:51.015Z"
   },
   {
    "duration": 118,
    "start_time": "2024-11-02T02:13:51.145Z"
   },
   {
    "duration": 47,
    "start_time": "2024-11-02T02:13:51.265Z"
   },
   {
    "duration": 24,
    "start_time": "2024-11-02T02:13:51.314Z"
   },
   {
    "duration": 5,
    "start_time": "2024-11-02T02:13:51.340Z"
   },
   {
    "duration": 21,
    "start_time": "2024-11-02T02:13:51.347Z"
   },
   {
    "duration": 11,
    "start_time": "2024-11-02T02:13:51.373Z"
   },
   {
    "duration": 3,
    "start_time": "2024-11-02T02:13:51.386Z"
   },
   {
    "duration": 4,
    "start_time": "2024-11-02T02:13:51.390Z"
   },
   {
    "duration": 36,
    "start_time": "2024-11-02T02:13:51.396Z"
   },
   {
    "duration": 4,
    "start_time": "2024-11-02T02:13:51.434Z"
   },
   {
    "duration": 952,
    "start_time": "2024-11-02T02:13:51.439Z"
   },
   {
    "duration": 4,
    "start_time": "2024-11-02T02:13:52.393Z"
   },
   {
    "duration": 701,
    "start_time": "2024-11-02T02:13:52.399Z"
   },
   {
    "duration": 12,
    "start_time": "2024-11-02T02:13:53.102Z"
   },
   {
    "duration": 18,
    "start_time": "2024-11-02T02:13:53.116Z"
   },
   {
    "duration": 9,
    "start_time": "2024-11-02T02:13:53.136Z"
   },
   {
    "duration": 9,
    "start_time": "2024-11-02T02:13:53.147Z"
   },
   {
    "duration": 5,
    "start_time": "2024-11-02T02:13:53.158Z"
   },
   {
    "duration": 5,
    "start_time": "2024-11-02T02:13:53.165Z"
   },
   {
    "duration": 18,
    "start_time": "2024-11-02T02:13:53.172Z"
   },
   {
    "duration": 56,
    "start_time": "2024-11-02T02:13:53.192Z"
   },
   {
    "duration": 137,
    "start_time": "2024-11-02T02:13:53.250Z"
   },
   {
    "duration": 5,
    "start_time": "2024-11-02T02:13:53.389Z"
   },
   {
    "duration": 10,
    "start_time": "2024-11-02T02:13:53.397Z"
   },
   {
    "duration": 141,
    "start_time": "2024-11-02T02:13:53.409Z"
   },
   {
    "duration": 8,
    "start_time": "2024-11-02T02:13:53.552Z"
   },
   {
    "duration": 142,
    "start_time": "2024-11-02T02:13:53.562Z"
   },
   {
    "duration": 69,
    "start_time": "2024-11-02T02:13:53.706Z"
   },
   {
    "duration": 7,
    "start_time": "2024-11-02T02:13:53.776Z"
   },
   {
    "duration": 6,
    "start_time": "2024-11-02T02:13:53.784Z"
   },
   {
    "duration": 6,
    "start_time": "2024-11-02T02:13:53.792Z"
   },
   {
    "duration": 390,
    "start_time": "2024-11-02T02:13:53.800Z"
   },
   {
    "duration": 6,
    "start_time": "2024-11-02T02:13:54.194Z"
   },
   {
    "duration": 8,
    "start_time": "2024-11-02T02:13:54.202Z"
   },
   {
    "duration": 25,
    "start_time": "2024-11-02T02:13:54.212Z"
   },
   {
    "duration": 133,
    "start_time": "2024-11-02T02:13:54.239Z"
   },
   {
    "duration": 11207,
    "start_time": "2024-11-02T02:13:54.373Z"
   },
   {
    "duration": 11018,
    "start_time": "2024-11-02T02:16:11.645Z"
   },
   {
    "duration": 2063,
    "start_time": "2024-11-02T02:18:07.891Z"
   },
   {
    "duration": 7,
    "start_time": "2024-11-02T02:20:04.695Z"
   },
   {
    "duration": 131,
    "start_time": "2024-11-02T02:31:17.754Z"
   },
   {
    "duration": 5,
    "start_time": "2024-11-02T02:37:19.682Z"
   },
   {
    "duration": 4,
    "start_time": "2024-11-02T02:38:31.574Z"
   },
   {
    "duration": 4,
    "start_time": "2024-11-02T02:39:06.891Z"
   },
   {
    "duration": 348,
    "start_time": "2024-11-02T02:39:34.422Z"
   },
   {
    "duration": 164,
    "start_time": "2024-11-02T02:39:34.773Z"
   },
   {
    "duration": 988,
    "start_time": "2024-11-02T02:39:34.938Z"
   },
   {
    "duration": 15,
    "start_time": "2024-11-02T02:39:35.933Z"
   },
   {
    "duration": 15,
    "start_time": "2024-11-02T02:39:35.950Z"
   },
   {
    "duration": 122,
    "start_time": "2024-11-02T02:39:35.966Z"
   },
   {
    "duration": 12,
    "start_time": "2024-11-02T02:39:36.090Z"
   },
   {
    "duration": 138,
    "start_time": "2024-11-02T02:39:36.104Z"
   },
   {
    "duration": 112,
    "start_time": "2024-11-02T02:39:36.244Z"
   },
   {
    "duration": 48,
    "start_time": "2024-11-02T02:39:36.359Z"
   },
   {
    "duration": 26,
    "start_time": "2024-11-02T02:39:36.409Z"
   },
   {
    "duration": 6,
    "start_time": "2024-11-02T02:39:36.436Z"
   },
   {
    "duration": 22,
    "start_time": "2024-11-02T02:39:36.443Z"
   },
   {
    "duration": 10,
    "start_time": "2024-11-02T02:39:36.468Z"
   },
   {
    "duration": 4,
    "start_time": "2024-11-02T02:39:36.480Z"
   },
   {
    "duration": 5,
    "start_time": "2024-11-02T02:39:36.485Z"
   },
   {
    "duration": 40,
    "start_time": "2024-11-02T02:39:36.491Z"
   },
   {
    "duration": 4,
    "start_time": "2024-11-02T02:39:36.533Z"
   },
   {
    "duration": 938,
    "start_time": "2024-11-02T02:39:36.539Z"
   },
   {
    "duration": 5,
    "start_time": "2024-11-02T02:39:37.478Z"
   },
   {
    "duration": 740,
    "start_time": "2024-11-02T02:39:37.484Z"
   },
   {
    "duration": 18,
    "start_time": "2024-11-02T02:39:38.225Z"
   },
   {
    "duration": 5,
    "start_time": "2024-11-02T02:39:38.244Z"
   },
   {
    "duration": 7,
    "start_time": "2024-11-02T02:39:38.251Z"
   },
   {
    "duration": 8,
    "start_time": "2024-11-02T02:39:38.260Z"
   },
   {
    "duration": 5,
    "start_time": "2024-11-02T02:39:38.269Z"
   },
   {
    "duration": 6,
    "start_time": "2024-11-02T02:39:38.276Z"
   },
   {
    "duration": 52,
    "start_time": "2024-11-02T02:39:38.287Z"
   },
   {
    "duration": 24,
    "start_time": "2024-11-02T02:39:38.341Z"
   },
   {
    "duration": 144,
    "start_time": "2024-11-02T02:39:38.367Z"
   },
   {
    "duration": 4,
    "start_time": "2024-11-02T02:39:38.513Z"
   },
   {
    "duration": 9,
    "start_time": "2024-11-02T02:39:38.531Z"
   },
   {
    "duration": 125,
    "start_time": "2024-11-02T02:39:38.542Z"
   },
   {
    "duration": 9,
    "start_time": "2024-11-02T02:39:38.669Z"
   },
   {
    "duration": 147,
    "start_time": "2024-11-02T02:39:38.680Z"
   },
   {
    "duration": 58,
    "start_time": "2024-11-02T02:39:38.831Z"
   },
   {
    "duration": 7,
    "start_time": "2024-11-02T02:39:38.891Z"
   },
   {
    "duration": 6,
    "start_time": "2024-11-02T02:39:38.900Z"
   },
   {
    "duration": 28,
    "start_time": "2024-11-02T02:39:38.908Z"
   },
   {
    "duration": 354,
    "start_time": "2024-11-02T02:39:38.938Z"
   },
   {
    "duration": 6,
    "start_time": "2024-11-02T02:39:39.294Z"
   },
   {
    "duration": 3,
    "start_time": "2024-11-02T02:39:39.302Z"
   },
   {
    "duration": 0,
    "start_time": "2024-11-02T02:39:39.307Z"
   },
   {
    "duration": 0,
    "start_time": "2024-11-02T02:39:39.308Z"
   },
   {
    "duration": 0,
    "start_time": "2024-11-02T02:39:39.309Z"
   },
   {
    "duration": 0,
    "start_time": "2024-11-02T02:39:39.310Z"
   },
   {
    "duration": 0,
    "start_time": "2024-11-02T02:39:39.311Z"
   },
   {
    "duration": 96,
    "start_time": "2024-11-02T02:42:25.267Z"
   },
   {
    "duration": 174,
    "start_time": "2024-11-02T02:43:16.821Z"
   },
   {
    "duration": 166,
    "start_time": "2024-11-02T20:25:56.171Z"
   },
   {
    "duration": 349,
    "start_time": "2024-11-02T20:26:20.504Z"
   },
   {
    "duration": 190,
    "start_time": "2024-11-02T20:26:20.855Z"
   },
   {
    "duration": 1059,
    "start_time": "2024-11-02T20:26:21.047Z"
   },
   {
    "duration": 17,
    "start_time": "2024-11-02T20:26:22.108Z"
   },
   {
    "duration": 14,
    "start_time": "2024-11-02T20:26:22.127Z"
   },
   {
    "duration": 126,
    "start_time": "2024-11-02T20:26:22.143Z"
   },
   {
    "duration": 13,
    "start_time": "2024-11-02T20:26:22.272Z"
   },
   {
    "duration": 125,
    "start_time": "2024-11-02T20:26:22.287Z"
   },
   {
    "duration": 104,
    "start_time": "2024-11-02T20:26:22.415Z"
   },
   {
    "duration": 45,
    "start_time": "2024-11-02T20:26:22.521Z"
   },
   {
    "duration": 14,
    "start_time": "2024-11-02T20:26:22.568Z"
   },
   {
    "duration": 5,
    "start_time": "2024-11-02T20:26:22.584Z"
   },
   {
    "duration": 48,
    "start_time": "2024-11-02T20:26:22.590Z"
   },
   {
    "duration": 10,
    "start_time": "2024-11-02T20:26:22.643Z"
   },
   {
    "duration": 3,
    "start_time": "2024-11-02T20:26:22.654Z"
   },
   {
    "duration": 3,
    "start_time": "2024-11-02T20:26:22.659Z"
   },
   {
    "duration": 3,
    "start_time": "2024-11-02T20:26:22.664Z"
   },
   {
    "duration": 3,
    "start_time": "2024-11-02T20:26:22.669Z"
   },
   {
    "duration": 951,
    "start_time": "2024-11-02T20:26:22.674Z"
   },
   {
    "duration": 4,
    "start_time": "2024-11-02T20:26:23.627Z"
   },
   {
    "duration": 718,
    "start_time": "2024-11-02T20:26:23.633Z"
   },
   {
    "duration": 12,
    "start_time": "2024-11-02T20:26:24.354Z"
   },
   {
    "duration": 5,
    "start_time": "2024-11-02T20:26:24.368Z"
   },
   {
    "duration": 9,
    "start_time": "2024-11-02T20:26:24.374Z"
   },
   {
    "duration": 8,
    "start_time": "2024-11-02T20:26:24.385Z"
   },
   {
    "duration": 5,
    "start_time": "2024-11-02T20:26:24.423Z"
   },
   {
    "duration": 6,
    "start_time": "2024-11-02T20:26:24.430Z"
   },
   {
    "duration": 19,
    "start_time": "2024-11-02T20:26:24.437Z"
   },
   {
    "duration": 23,
    "start_time": "2024-11-02T20:26:24.457Z"
   },
   {
    "duration": 184,
    "start_time": "2024-11-02T20:26:24.482Z"
   },
   {
    "duration": 4,
    "start_time": "2024-11-02T20:26:24.668Z"
   },
   {
    "duration": 10,
    "start_time": "2024-11-02T20:26:24.674Z"
   },
   {
    "duration": 147,
    "start_time": "2024-11-02T20:26:24.685Z"
   },
   {
    "duration": 9,
    "start_time": "2024-11-02T20:26:24.833Z"
   },
   {
    "duration": 137,
    "start_time": "2024-11-02T20:26:24.844Z"
   },
   {
    "duration": 67,
    "start_time": "2024-11-02T20:26:24.983Z"
   },
   {
    "duration": 8,
    "start_time": "2024-11-02T20:26:25.052Z"
   },
   {
    "duration": 6,
    "start_time": "2024-11-02T20:26:25.061Z"
   },
   {
    "duration": 7,
    "start_time": "2024-11-02T20:26:25.068Z"
   },
   {
    "duration": 2336,
    "start_time": "2024-11-02T20:26:25.077Z"
   },
   {
    "duration": 6,
    "start_time": "2024-11-02T20:26:27.423Z"
   },
   {
    "duration": 7,
    "start_time": "2024-11-02T20:26:27.430Z"
   },
   {
    "duration": 6,
    "start_time": "2024-11-02T20:26:27.439Z"
   },
   {
    "duration": 7,
    "start_time": "2024-11-02T20:26:27.447Z"
   },
   {
    "duration": 164,
    "start_time": "2024-11-02T20:26:27.456Z"
   },
   {
    "duration": 2834,
    "start_time": "2024-11-02T20:26:27.625Z"
   },
   {
    "duration": 9,
    "start_time": "2024-11-02T20:26:30.461Z"
   },
   {
    "duration": 288,
    "start_time": "2024-11-02T20:29:53.414Z"
   },
   {
    "duration": 511,
    "start_time": "2024-11-02T20:35:51.317Z"
   },
   {
    "duration": 148,
    "start_time": "2024-11-02T20:38:43.270Z"
   },
   {
    "duration": 154,
    "start_time": "2024-11-02T20:39:21.286Z"
   },
   {
    "duration": 150,
    "start_time": "2024-11-02T20:39:30.640Z"
   },
   {
    "duration": 119,
    "start_time": "2024-11-02T20:44:46.675Z"
   },
   {
    "duration": 99,
    "start_time": "2024-11-02T20:45:24.404Z"
   },
   {
    "duration": 289,
    "start_time": "2024-11-02T20:50:07.958Z"
   },
   {
    "duration": 8,
    "start_time": "2024-11-02T20:53:19.673Z"
   },
   {
    "duration": 352,
    "start_time": "2024-11-02T20:55:03.888Z"
   },
   {
    "duration": 161,
    "start_time": "2024-11-02T20:55:04.242Z"
   },
   {
    "duration": 968,
    "start_time": "2024-11-02T20:55:04.405Z"
   },
   {
    "duration": 15,
    "start_time": "2024-11-02T20:55:05.376Z"
   },
   {
    "duration": 14,
    "start_time": "2024-11-02T20:55:05.395Z"
   },
   {
    "duration": 112,
    "start_time": "2024-11-02T20:55:05.424Z"
   },
   {
    "duration": 13,
    "start_time": "2024-11-02T20:55:05.538Z"
   },
   {
    "duration": 142,
    "start_time": "2024-11-02T20:55:05.553Z"
   },
   {
    "duration": 117,
    "start_time": "2024-11-02T20:55:05.697Z"
   },
   {
    "duration": 50,
    "start_time": "2024-11-02T20:55:05.818Z"
   },
   {
    "duration": 14,
    "start_time": "2024-11-02T20:55:05.870Z"
   },
   {
    "duration": 6,
    "start_time": "2024-11-02T20:55:05.885Z"
   },
   {
    "duration": 43,
    "start_time": "2024-11-02T20:55:05.892Z"
   },
   {
    "duration": 12,
    "start_time": "2024-11-02T20:55:05.937Z"
   },
   {
    "duration": 3,
    "start_time": "2024-11-02T20:55:05.951Z"
   },
   {
    "duration": 4,
    "start_time": "2024-11-02T20:55:05.956Z"
   },
   {
    "duration": 5,
    "start_time": "2024-11-02T20:55:05.961Z"
   },
   {
    "duration": 4,
    "start_time": "2024-11-02T20:55:05.967Z"
   },
   {
    "duration": 965,
    "start_time": "2024-11-02T20:55:05.972Z"
   },
   {
    "duration": 5,
    "start_time": "2024-11-02T20:55:06.939Z"
   },
   {
    "duration": 700,
    "start_time": "2024-11-02T20:55:06.946Z"
   },
   {
    "duration": 13,
    "start_time": "2024-11-02T20:55:07.648Z"
   },
   {
    "duration": 4,
    "start_time": "2024-11-02T20:55:07.663Z"
   },
   {
    "duration": 9,
    "start_time": "2024-11-02T20:55:07.669Z"
   },
   {
    "duration": 9,
    "start_time": "2024-11-02T20:55:07.680Z"
   },
   {
    "duration": 36,
    "start_time": "2024-11-02T20:55:07.691Z"
   },
   {
    "duration": 7,
    "start_time": "2024-11-02T20:55:07.729Z"
   },
   {
    "duration": 20,
    "start_time": "2024-11-02T20:55:07.742Z"
   },
   {
    "duration": 24,
    "start_time": "2024-11-02T20:55:07.765Z"
   },
   {
    "duration": 151,
    "start_time": "2024-11-02T20:55:07.791Z"
   },
   {
    "duration": 5,
    "start_time": "2024-11-02T20:55:07.944Z"
   },
   {
    "duration": 9,
    "start_time": "2024-11-02T20:55:07.951Z"
   },
   {
    "duration": 141,
    "start_time": "2024-11-02T20:55:07.963Z"
   },
   {
    "duration": 18,
    "start_time": "2024-11-02T20:55:08.106Z"
   },
   {
    "duration": 146,
    "start_time": "2024-11-02T20:55:08.125Z"
   },
   {
    "duration": 67,
    "start_time": "2024-11-02T20:55:08.273Z"
   },
   {
    "duration": 7,
    "start_time": "2024-11-02T20:55:08.342Z"
   },
   {
    "duration": 6,
    "start_time": "2024-11-02T20:55:08.350Z"
   },
   {
    "duration": 7,
    "start_time": "2024-11-02T20:55:08.358Z"
   },
   {
    "duration": 399,
    "start_time": "2024-11-02T20:55:08.367Z"
   },
   {
    "duration": 6,
    "start_time": "2024-11-02T20:55:08.767Z"
   },
   {
    "duration": 9,
    "start_time": "2024-11-02T20:55:08.775Z"
   },
   {
    "duration": 291,
    "start_time": "2024-11-02T20:55:08.786Z"
   },
   {
    "duration": 0,
    "start_time": "2024-11-02T20:55:09.079Z"
   },
   {
    "duration": 0,
    "start_time": "2024-11-02T20:55:09.080Z"
   },
   {
    "duration": 0,
    "start_time": "2024-11-02T20:55:09.081Z"
   },
   {
    "duration": 0,
    "start_time": "2024-11-02T20:55:09.082Z"
   },
   {
    "duration": 0,
    "start_time": "2024-11-02T20:55:09.083Z"
   },
   {
    "duration": 0,
    "start_time": "2024-11-02T20:55:09.084Z"
   },
   {
    "duration": 557,
    "start_time": "2024-11-02T20:55:59.443Z"
   },
   {
    "duration": 8,
    "start_time": "2024-11-02T20:56:17.437Z"
   },
   {
    "duration": 41,
    "start_time": "2024-11-02T20:59:33.380Z"
   },
   {
    "duration": 15,
    "start_time": "2024-11-02T20:59:50.842Z"
   },
   {
    "duration": 19,
    "start_time": "2024-11-02T21:07:36.183Z"
   },
   {
    "duration": 19,
    "start_time": "2024-11-02T21:08:49.282Z"
   },
   {
    "duration": 60,
    "start_time": "2024-11-02T21:09:00.734Z"
   },
   {
    "duration": 166,
    "start_time": "2024-11-04T01:04:43.400Z"
   },
   {
    "duration": 377,
    "start_time": "2024-11-04T01:05:00.963Z"
   },
   {
    "duration": 176,
    "start_time": "2024-11-04T01:05:01.343Z"
   },
   {
    "duration": 1041,
    "start_time": "2024-11-04T01:05:01.521Z"
   },
   {
    "duration": 16,
    "start_time": "2024-11-04T01:05:02.564Z"
   },
   {
    "duration": 27,
    "start_time": "2024-11-04T01:05:02.583Z"
   },
   {
    "duration": 111,
    "start_time": "2024-11-04T01:05:02.611Z"
   },
   {
    "duration": 13,
    "start_time": "2024-11-04T01:05:02.723Z"
   },
   {
    "duration": 122,
    "start_time": "2024-11-04T01:05:02.738Z"
   },
   {
    "duration": 107,
    "start_time": "2024-11-04T01:05:02.862Z"
   },
   {
    "duration": 54,
    "start_time": "2024-11-04T01:05:02.971Z"
   },
   {
    "duration": 13,
    "start_time": "2024-11-04T01:05:03.027Z"
   },
   {
    "duration": 5,
    "start_time": "2024-11-04T01:05:03.041Z"
   },
   {
    "duration": 21,
    "start_time": "2024-11-04T01:05:03.048Z"
   },
   {
    "duration": 37,
    "start_time": "2024-11-04T01:05:03.073Z"
   },
   {
    "duration": 3,
    "start_time": "2024-11-04T01:05:03.112Z"
   },
   {
    "duration": 3,
    "start_time": "2024-11-04T01:05:03.117Z"
   },
   {
    "duration": 3,
    "start_time": "2024-11-04T01:05:03.122Z"
   },
   {
    "duration": 3,
    "start_time": "2024-11-04T01:05:03.127Z"
   },
   {
    "duration": 916,
    "start_time": "2024-11-04T01:05:03.132Z"
   },
   {
    "duration": 4,
    "start_time": "2024-11-04T01:05:04.050Z"
   },
   {
    "duration": 685,
    "start_time": "2024-11-04T01:05:04.056Z"
   },
   {
    "duration": 12,
    "start_time": "2024-11-04T01:05:04.743Z"
   },
   {
    "duration": 4,
    "start_time": "2024-11-04T01:05:04.757Z"
   },
   {
    "duration": 8,
    "start_time": "2024-11-04T01:05:04.763Z"
   },
   {
    "duration": 7,
    "start_time": "2024-11-04T01:05:04.773Z"
   },
   {
    "duration": 5,
    "start_time": "2024-11-04T01:05:04.810Z"
   },
   {
    "duration": 5,
    "start_time": "2024-11-04T01:05:04.817Z"
   },
   {
    "duration": 18,
    "start_time": "2024-11-04T01:05:04.824Z"
   },
   {
    "duration": 24,
    "start_time": "2024-11-04T01:05:04.844Z"
   },
   {
    "duration": 165,
    "start_time": "2024-11-04T01:05:04.870Z"
   },
   {
    "duration": 4,
    "start_time": "2024-11-04T01:05:05.037Z"
   },
   {
    "duration": 9,
    "start_time": "2024-11-04T01:05:05.043Z"
   },
   {
    "duration": 138,
    "start_time": "2024-11-04T01:05:05.054Z"
   },
   {
    "duration": 15,
    "start_time": "2024-11-04T01:05:05.195Z"
   },
   {
    "duration": 136,
    "start_time": "2024-11-04T01:05:05.212Z"
   },
   {
    "duration": 65,
    "start_time": "2024-11-04T01:05:05.350Z"
   },
   {
    "duration": 7,
    "start_time": "2024-11-04T01:05:05.417Z"
   },
   {
    "duration": 5,
    "start_time": "2024-11-04T01:05:05.426Z"
   },
   {
    "duration": 7,
    "start_time": "2024-11-04T01:05:05.433Z"
   },
   {
    "duration": 2062,
    "start_time": "2024-11-04T01:05:05.442Z"
   },
   {
    "duration": 7,
    "start_time": "2024-11-04T01:05:07.508Z"
   },
   {
    "duration": 7,
    "start_time": "2024-11-04T01:05:07.517Z"
   },
   {
    "duration": 4,
    "start_time": "2024-11-04T01:05:07.525Z"
   },
   {
    "duration": 782,
    "start_time": "2024-11-04T01:05:07.531Z"
   },
   {
    "duration": 7,
    "start_time": "2024-11-04T01:05:08.315Z"
   },
   {
    "duration": 38,
    "start_time": "2024-11-04T01:05:08.324Z"
   },
   {
    "duration": 7,
    "start_time": "2024-11-04T01:05:08.364Z"
   },
   {
    "duration": 80,
    "start_time": "2024-11-04T01:05:08.373Z"
   },
   {
    "duration": 6,
    "start_time": "2024-11-04T01:05:08.455Z"
   },
   {
    "duration": 122,
    "start_time": "2024-11-04T01:05:08.463Z"
   },
   {
    "duration": 2056,
    "start_time": "2024-11-04T01:05:08.586Z"
   },
   {
    "duration": 8,
    "start_time": "2024-11-04T01:05:10.644Z"
   },
   {
    "duration": 284,
    "start_time": "2024-11-04T01:13:33.839Z"
   },
   {
    "duration": 14,
    "start_time": "2024-11-04T01:13:47.519Z"
   },
   {
    "duration": 14,
    "start_time": "2024-11-04T01:14:05.453Z"
   },
   {
    "duration": 9,
    "start_time": "2024-11-04T01:14:15.493Z"
   },
   {
    "duration": 90,
    "start_time": "2024-11-04T01:23:45.773Z"
   },
   {
    "duration": 383,
    "start_time": "2024-11-04T01:24:33.616Z"
   },
   {
    "duration": 186,
    "start_time": "2024-11-04T01:24:34.002Z"
   },
   {
    "duration": 956,
    "start_time": "2024-11-04T01:24:34.189Z"
   },
   {
    "duration": 18,
    "start_time": "2024-11-04T01:24:35.149Z"
   },
   {
    "duration": 16,
    "start_time": "2024-11-04T01:24:35.169Z"
   },
   {
    "duration": 123,
    "start_time": "2024-11-04T01:24:35.187Z"
   },
   {
    "duration": 16,
    "start_time": "2024-11-04T01:24:35.312Z"
   },
   {
    "duration": 161,
    "start_time": "2024-11-04T01:24:35.331Z"
   },
   {
    "duration": 126,
    "start_time": "2024-11-04T01:24:35.494Z"
   },
   {
    "duration": 47,
    "start_time": "2024-11-04T01:24:35.624Z"
   },
   {
    "duration": 12,
    "start_time": "2024-11-04T01:24:35.673Z"
   },
   {
    "duration": 22,
    "start_time": "2024-11-04T01:24:35.687Z"
   },
   {
    "duration": 30,
    "start_time": "2024-11-04T01:24:35.711Z"
   },
   {
    "duration": 13,
    "start_time": "2024-11-04T01:24:35.743Z"
   },
   {
    "duration": 5,
    "start_time": "2024-11-04T01:24:35.758Z"
   },
   {
    "duration": 5,
    "start_time": "2024-11-04T01:24:35.766Z"
   },
   {
    "duration": 6,
    "start_time": "2024-11-04T01:24:35.772Z"
   },
   {
    "duration": 32,
    "start_time": "2024-11-04T01:24:35.779Z"
   },
   {
    "duration": 962,
    "start_time": "2024-11-04T01:24:35.815Z"
   },
   {
    "duration": 5,
    "start_time": "2024-11-04T01:24:36.778Z"
   },
   {
    "duration": 751,
    "start_time": "2024-11-04T01:24:36.784Z"
   },
   {
    "duration": 12,
    "start_time": "2024-11-04T01:24:37.538Z"
   },
   {
    "duration": 4,
    "start_time": "2024-11-04T01:24:37.553Z"
   },
   {
    "duration": 10,
    "start_time": "2024-11-04T01:24:37.559Z"
   },
   {
    "duration": 9,
    "start_time": "2024-11-04T01:24:37.571Z"
   },
   {
    "duration": 29,
    "start_time": "2024-11-04T01:24:37.582Z"
   },
   {
    "duration": 6,
    "start_time": "2024-11-04T01:24:37.613Z"
   },
   {
    "duration": 24,
    "start_time": "2024-11-04T01:24:37.624Z"
   },
   {
    "duration": 26,
    "start_time": "2024-11-04T01:24:37.650Z"
   },
   {
    "duration": 178,
    "start_time": "2024-11-04T01:24:37.678Z"
   },
   {
    "duration": 5,
    "start_time": "2024-11-04T01:24:37.858Z"
   },
   {
    "duration": 9,
    "start_time": "2024-11-04T01:24:37.865Z"
   },
   {
    "duration": 151,
    "start_time": "2024-11-04T01:24:37.876Z"
   },
   {
    "duration": 15,
    "start_time": "2024-11-04T01:24:38.029Z"
   },
   {
    "duration": 159,
    "start_time": "2024-11-04T01:24:38.045Z"
   },
   {
    "duration": 61,
    "start_time": "2024-11-04T01:24:38.209Z"
   },
   {
    "duration": 9,
    "start_time": "2024-11-04T01:24:38.272Z"
   },
   {
    "duration": 25,
    "start_time": "2024-11-04T01:24:38.283Z"
   },
   {
    "duration": 7,
    "start_time": "2024-11-04T01:24:38.311Z"
   },
   {
    "duration": 426,
    "start_time": "2024-11-04T01:24:38.321Z"
   },
   {
    "duration": 6,
    "start_time": "2024-11-04T01:24:38.750Z"
   },
   {
    "duration": 10,
    "start_time": "2024-11-04T01:24:38.758Z"
   },
   {
    "duration": 23148,
    "start_time": "2024-11-04T01:24:38.769Z"
   },
   {
    "duration": 0,
    "start_time": "2024-11-04T01:25:01.919Z"
   },
   {
    "duration": 0,
    "start_time": "2024-11-04T01:25:01.920Z"
   },
   {
    "duration": 0,
    "start_time": "2024-11-04T01:25:01.921Z"
   },
   {
    "duration": 0,
    "start_time": "2024-11-04T01:25:01.922Z"
   },
   {
    "duration": 0,
    "start_time": "2024-11-04T01:25:01.923Z"
   },
   {
    "duration": 0,
    "start_time": "2024-11-04T01:25:01.925Z"
   },
   {
    "duration": 0,
    "start_time": "2024-11-04T01:25:01.926Z"
   },
   {
    "duration": 0,
    "start_time": "2024-11-04T01:25:01.927Z"
   },
   {
    "duration": 0,
    "start_time": "2024-11-04T01:25:01.929Z"
   },
   {
    "duration": 0,
    "start_time": "2024-11-04T01:25:01.930Z"
   },
   {
    "duration": 0,
    "start_time": "2024-11-04T01:25:01.931Z"
   },
   {
    "duration": 13,
    "start_time": "2024-11-04T01:26:58.220Z"
   },
   {
    "duration": 12,
    "start_time": "2024-11-04T01:37:57.644Z"
   },
   {
    "duration": 15,
    "start_time": "2024-11-04T01:38:16.353Z"
   },
   {
    "duration": 15,
    "start_time": "2024-11-04T01:39:13.990Z"
   },
   {
    "duration": 162,
    "start_time": "2024-11-05T01:41:23.911Z"
   },
   {
    "duration": 3,
    "start_time": "2024-11-05T01:41:28.535Z"
   },
   {
    "duration": 12,
    "start_time": "2024-11-05T01:41:33.422Z"
   },
   {
    "duration": 402,
    "start_time": "2024-11-05T01:41:43.941Z"
   },
   {
    "duration": 192,
    "start_time": "2024-11-05T01:41:44.345Z"
   },
   {
    "duration": 1042,
    "start_time": "2024-11-05T01:41:44.539Z"
   },
   {
    "duration": 16,
    "start_time": "2024-11-05T01:41:45.584Z"
   },
   {
    "duration": 19,
    "start_time": "2024-11-05T01:41:45.601Z"
   },
   {
    "duration": 113,
    "start_time": "2024-11-05T01:41:45.622Z"
   },
   {
    "duration": 13,
    "start_time": "2024-11-05T01:41:45.736Z"
   },
   {
    "duration": 125,
    "start_time": "2024-11-05T01:41:45.750Z"
   },
   {
    "duration": 115,
    "start_time": "2024-11-05T01:41:45.876Z"
   },
   {
    "duration": 53,
    "start_time": "2024-11-05T01:41:45.994Z"
   },
   {
    "duration": 12,
    "start_time": "2024-11-05T01:41:46.049Z"
   },
   {
    "duration": 5,
    "start_time": "2024-11-05T01:41:46.063Z"
   },
   {
    "duration": 40,
    "start_time": "2024-11-05T01:41:46.069Z"
   },
   {
    "duration": 10,
    "start_time": "2024-11-05T01:41:46.111Z"
   },
   {
    "duration": 4,
    "start_time": "2024-11-05T01:41:46.122Z"
   },
   {
    "duration": 4,
    "start_time": "2024-11-05T01:41:46.127Z"
   },
   {
    "duration": 4,
    "start_time": "2024-11-05T01:41:46.132Z"
   },
   {
    "duration": 4,
    "start_time": "2024-11-05T01:41:46.137Z"
   },
   {
    "duration": 921,
    "start_time": "2024-11-05T01:41:46.142Z"
   },
   {
    "duration": 5,
    "start_time": "2024-11-05T01:41:47.065Z"
   },
   {
    "duration": 755,
    "start_time": "2024-11-05T01:41:47.072Z"
   },
   {
    "duration": 12,
    "start_time": "2024-11-05T01:41:47.828Z"
   },
   {
    "duration": 3,
    "start_time": "2024-11-05T01:41:47.842Z"
   },
   {
    "duration": 7,
    "start_time": "2024-11-05T01:41:47.847Z"
   },
   {
    "duration": 7,
    "start_time": "2024-11-05T01:41:47.855Z"
   },
   {
    "duration": 4,
    "start_time": "2024-11-05T01:41:47.864Z"
   },
   {
    "duration": 40,
    "start_time": "2024-11-05T01:41:47.870Z"
   },
   {
    "duration": 18,
    "start_time": "2024-11-05T01:41:47.916Z"
   },
   {
    "duration": 26,
    "start_time": "2024-11-05T01:41:47.936Z"
   },
   {
    "duration": 141,
    "start_time": "2024-11-05T01:41:47.964Z"
   },
   {
    "duration": 4,
    "start_time": "2024-11-05T01:41:48.109Z"
   },
   {
    "duration": 10,
    "start_time": "2024-11-05T01:41:48.115Z"
   },
   {
    "duration": 139,
    "start_time": "2024-11-05T01:41:48.127Z"
   },
   {
    "duration": 9,
    "start_time": "2024-11-05T01:41:48.268Z"
   },
   {
    "duration": 144,
    "start_time": "2024-11-05T01:41:48.279Z"
   },
   {
    "duration": 57,
    "start_time": "2024-11-05T01:41:48.425Z"
   },
   {
    "duration": 7,
    "start_time": "2024-11-05T01:41:48.484Z"
   },
   {
    "duration": 20,
    "start_time": "2024-11-05T01:41:48.493Z"
   },
   {
    "duration": 7,
    "start_time": "2024-11-05T01:41:48.515Z"
   },
   {
    "duration": 2057,
    "start_time": "2024-11-05T01:41:48.523Z"
   },
   {
    "duration": 6,
    "start_time": "2024-11-05T01:41:50.583Z"
   },
   {
    "duration": 22,
    "start_time": "2024-11-05T01:41:50.591Z"
   },
   {
    "duration": 3,
    "start_time": "2024-11-05T01:41:50.614Z"
   },
   {
    "duration": 12,
    "start_time": "2024-11-05T01:41:50.619Z"
   },
   {
    "duration": 7,
    "start_time": "2024-11-05T01:41:50.632Z"
   },
   {
    "duration": 4,
    "start_time": "2024-11-05T01:41:50.640Z"
   },
   {
    "duration": 773,
    "start_time": "2024-11-05T01:41:50.645Z"
   },
   {
    "duration": 7,
    "start_time": "2024-11-05T01:41:51.420Z"
   },
   {
    "duration": 40,
    "start_time": "2024-11-05T01:41:51.428Z"
   },
   {
    "duration": 7,
    "start_time": "2024-11-05T01:41:51.470Z"
   },
   {
    "duration": 79,
    "start_time": "2024-11-05T01:41:51.479Z"
   },
   {
    "duration": 7,
    "start_time": "2024-11-05T01:41:51.560Z"
   },
   {
    "duration": 118,
    "start_time": "2024-11-05T01:41:51.568Z"
   },
   {
    "duration": 2072,
    "start_time": "2024-11-05T01:41:51.688Z"
   },
   {
    "duration": 7,
    "start_time": "2024-11-05T01:41:53.762Z"
   },
   {
    "duration": 284,
    "start_time": "2024-11-05T01:42:54.426Z"
   },
   {
    "duration": 123,
    "start_time": "2024-11-05T01:43:04.610Z"
   },
   {
    "duration": 127,
    "start_time": "2024-11-05T01:43:28.226Z"
   },
   {
    "duration": 10,
    "start_time": "2024-11-05T01:45:32.500Z"
   },
   {
    "duration": 926,
    "start_time": "2024-11-05T01:45:36.063Z"
   },
   {
    "duration": 1126,
    "start_time": "2024-11-05T01:54:02.097Z"
   },
   {
    "duration": 1524,
    "start_time": "2024-11-05T01:55:03.176Z"
   },
   {
    "duration": 1546,
    "start_time": "2024-11-05T01:56:51.375Z"
   },
   {
    "duration": 257,
    "start_time": "2024-11-05T02:00:55.043Z"
   },
   {
    "duration": 238,
    "start_time": "2024-11-05T02:00:58.593Z"
   },
   {
    "duration": 242,
    "start_time": "2024-11-05T02:01:21.725Z"
   },
   {
    "duration": 383,
    "start_time": "2024-11-05T23:38:42.956Z"
   },
   {
    "duration": 182,
    "start_time": "2024-11-05T23:38:43.341Z"
   },
   {
    "duration": 1026,
    "start_time": "2024-11-05T23:38:43.525Z"
   },
   {
    "duration": 15,
    "start_time": "2024-11-05T23:38:44.555Z"
   },
   {
    "duration": 13,
    "start_time": "2024-11-05T23:38:44.572Z"
   },
   {
    "duration": 118,
    "start_time": "2024-11-05T23:38:44.587Z"
   },
   {
    "duration": 13,
    "start_time": "2024-11-05T23:38:44.707Z"
   },
   {
    "duration": 122,
    "start_time": "2024-11-05T23:38:44.722Z"
   },
   {
    "duration": 102,
    "start_time": "2024-11-05T23:38:44.846Z"
   },
   {
    "duration": 42,
    "start_time": "2024-11-05T23:38:44.952Z"
   },
   {
    "duration": 21,
    "start_time": "2024-11-05T23:38:44.995Z"
   },
   {
    "duration": 5,
    "start_time": "2024-11-05T23:38:45.018Z"
   },
   {
    "duration": 21,
    "start_time": "2024-11-05T23:38:45.025Z"
   },
   {
    "duration": 9,
    "start_time": "2024-11-05T23:38:45.047Z"
   },
   {
    "duration": 3,
    "start_time": "2024-11-05T23:38:45.058Z"
   },
   {
    "duration": 3,
    "start_time": "2024-11-05T23:38:45.063Z"
   },
   {
    "duration": 3,
    "start_time": "2024-11-05T23:38:45.104Z"
   },
   {
    "duration": 3,
    "start_time": "2024-11-05T23:38:45.109Z"
   },
   {
    "duration": 891,
    "start_time": "2024-11-05T23:38:45.114Z"
   },
   {
    "duration": 5,
    "start_time": "2024-11-05T23:38:46.006Z"
   },
   {
    "duration": 637,
    "start_time": "2024-11-05T23:38:46.013Z"
   },
   {
    "duration": 11,
    "start_time": "2024-11-05T23:38:46.652Z"
   },
   {
    "duration": 5,
    "start_time": "2024-11-05T23:38:46.665Z"
   },
   {
    "duration": 7,
    "start_time": "2024-11-05T23:38:46.671Z"
   },
   {
    "duration": 30,
    "start_time": "2024-11-05T23:38:46.680Z"
   },
   {
    "duration": 4,
    "start_time": "2024-11-05T23:38:46.712Z"
   },
   {
    "duration": 5,
    "start_time": "2024-11-05T23:38:46.718Z"
   },
   {
    "duration": 17,
    "start_time": "2024-11-05T23:38:46.728Z"
   },
   {
    "duration": 23,
    "start_time": "2024-11-05T23:38:46.746Z"
   },
   {
    "duration": 156,
    "start_time": "2024-11-05T23:38:46.771Z"
   },
   {
    "duration": 4,
    "start_time": "2024-11-05T23:38:46.929Z"
   },
   {
    "duration": 9,
    "start_time": "2024-11-05T23:38:46.935Z"
   },
   {
    "duration": 137,
    "start_time": "2024-11-05T23:38:46.946Z"
   },
   {
    "duration": 20,
    "start_time": "2024-11-05T23:38:47.085Z"
   },
   {
    "duration": 145,
    "start_time": "2024-11-05T23:38:47.107Z"
   },
   {
    "duration": 63,
    "start_time": "2024-11-05T23:38:47.254Z"
   },
   {
    "duration": 6,
    "start_time": "2024-11-05T23:38:47.319Z"
   },
   {
    "duration": 5,
    "start_time": "2024-11-05T23:38:47.327Z"
   },
   {
    "duration": 7,
    "start_time": "2024-11-05T23:38:47.333Z"
   },
   {
    "duration": 2007,
    "start_time": "2024-11-05T23:38:47.342Z"
   },
   {
    "duration": 5,
    "start_time": "2024-11-05T23:38:49.351Z"
   },
   {
    "duration": 9,
    "start_time": "2024-11-05T23:38:49.357Z"
   },
   {
    "duration": 3,
    "start_time": "2024-11-05T23:38:49.367Z"
   },
   {
    "duration": 145,
    "start_time": "2024-11-05T23:38:49.371Z"
   },
   {
    "duration": 9,
    "start_time": "2024-11-05T23:38:49.518Z"
   },
   {
    "duration": 9,
    "start_time": "2024-11-05T23:38:49.529Z"
   },
   {
    "duration": 1298,
    "start_time": "2024-11-05T23:38:49.540Z"
   },
   {
    "duration": 7,
    "start_time": "2024-11-05T23:38:50.840Z"
   },
   {
    "duration": 40,
    "start_time": "2024-11-05T23:38:50.849Z"
   },
   {
    "duration": 8,
    "start_time": "2024-11-05T23:38:50.890Z"
   },
   {
    "duration": 1442,
    "start_time": "2024-11-05T23:38:50.899Z"
   },
   {
    "duration": 7,
    "start_time": "2024-11-05T23:38:52.343Z"
   },
   {
    "duration": 260,
    "start_time": "2024-11-05T23:38:52.352Z"
   },
   {
    "duration": 274,
    "start_time": "2024-11-05T23:38:52.616Z"
   },
   {
    "duration": 7,
    "start_time": "2024-11-05T23:38:52.891Z"
   },
   {
    "duration": 404,
    "start_time": "2024-11-06T00:09:32.248Z"
   },
   {
    "duration": 179,
    "start_time": "2024-11-06T00:09:32.656Z"
   },
   {
    "duration": 1186,
    "start_time": "2024-11-06T00:09:32.839Z"
   },
   {
    "duration": 18,
    "start_time": "2024-11-06T00:09:34.026Z"
   },
   {
    "duration": 20,
    "start_time": "2024-11-06T00:09:34.046Z"
   },
   {
    "duration": 112,
    "start_time": "2024-11-06T00:09:34.069Z"
   },
   {
    "duration": 13,
    "start_time": "2024-11-06T00:09:34.183Z"
   },
   {
    "duration": 157,
    "start_time": "2024-11-06T00:09:34.197Z"
   },
   {
    "duration": 124,
    "start_time": "2024-11-06T00:09:34.356Z"
   },
   {
    "duration": 52,
    "start_time": "2024-11-06T00:09:34.482Z"
   },
   {
    "duration": 17,
    "start_time": "2024-11-06T00:09:34.537Z"
   },
   {
    "duration": 5,
    "start_time": "2024-11-06T00:09:34.556Z"
   },
   {
    "duration": 24,
    "start_time": "2024-11-06T00:09:34.563Z"
   },
   {
    "duration": 35,
    "start_time": "2024-11-06T00:09:34.590Z"
   },
   {
    "duration": 5,
    "start_time": "2024-11-06T00:09:34.627Z"
   },
   {
    "duration": 4,
    "start_time": "2024-11-06T00:09:34.634Z"
   },
   {
    "duration": 3,
    "start_time": "2024-11-06T00:09:34.640Z"
   },
   {
    "duration": 4,
    "start_time": "2024-11-06T00:09:34.645Z"
   },
   {
    "duration": 1034,
    "start_time": "2024-11-06T00:09:34.651Z"
   },
   {
    "duration": 4,
    "start_time": "2024-11-06T00:09:35.687Z"
   },
   {
    "duration": 694,
    "start_time": "2024-11-06T00:09:35.693Z"
   },
   {
    "duration": 12,
    "start_time": "2024-11-06T00:09:36.389Z"
   },
   {
    "duration": 4,
    "start_time": "2024-11-06T00:09:36.402Z"
   },
   {
    "duration": 8,
    "start_time": "2024-11-06T00:09:36.423Z"
   },
   {
    "duration": 8,
    "start_time": "2024-11-06T00:09:36.433Z"
   },
   {
    "duration": 6,
    "start_time": "2024-11-06T00:09:36.443Z"
   },
   {
    "duration": 7,
    "start_time": "2024-11-06T00:09:36.451Z"
   },
   {
    "duration": 19,
    "start_time": "2024-11-06T00:09:36.460Z"
   },
   {
    "duration": 55,
    "start_time": "2024-11-06T00:09:36.481Z"
   },
   {
    "duration": 137,
    "start_time": "2024-11-06T00:09:36.538Z"
   },
   {
    "duration": 4,
    "start_time": "2024-11-06T00:09:36.676Z"
   },
   {
    "duration": 14,
    "start_time": "2024-11-06T00:09:36.682Z"
   },
   {
    "duration": 136,
    "start_time": "2024-11-06T00:09:36.698Z"
   },
   {
    "duration": 11,
    "start_time": "2024-11-06T00:09:36.837Z"
   },
   {
    "duration": 146,
    "start_time": "2024-11-06T00:09:36.851Z"
   },
   {
    "duration": 63,
    "start_time": "2024-11-06T00:09:36.999Z"
   },
   {
    "duration": 8,
    "start_time": "2024-11-06T00:09:37.064Z"
   },
   {
    "duration": 6,
    "start_time": "2024-11-06T00:09:37.074Z"
   },
   {
    "duration": 6,
    "start_time": "2024-11-06T00:09:37.081Z"
   },
   {
    "duration": 2587,
    "start_time": "2024-11-06T00:09:37.089Z"
   },
   {
    "duration": 6,
    "start_time": "2024-11-06T00:09:39.681Z"
   },
   {
    "duration": 9,
    "start_time": "2024-11-06T00:09:39.689Z"
   },
   {
    "duration": 4,
    "start_time": "2024-11-06T00:09:39.699Z"
   },
   {
    "duration": 134,
    "start_time": "2024-11-06T00:09:39.723Z"
   },
   {
    "duration": 10,
    "start_time": "2024-11-06T00:09:39.859Z"
   },
   {
    "duration": 9,
    "start_time": "2024-11-06T00:09:39.872Z"
   },
   {
    "duration": 1550,
    "start_time": "2024-11-06T00:09:39.882Z"
   },
   {
    "duration": 13,
    "start_time": "2024-11-06T00:09:41.434Z"
   },
   {
    "duration": 45,
    "start_time": "2024-11-06T00:09:41.451Z"
   },
   {
    "duration": 8,
    "start_time": "2024-11-06T00:09:41.498Z"
   },
   {
    "duration": 1725,
    "start_time": "2024-11-06T00:09:41.507Z"
   },
   {
    "duration": 12,
    "start_time": "2024-11-06T00:09:43.234Z"
   },
   {
    "duration": 261,
    "start_time": "2024-11-06T00:09:43.248Z"
   },
   {
    "duration": 312,
    "start_time": "2024-11-06T00:09:43.512Z"
   },
   {
    "duration": 8,
    "start_time": "2024-11-06T00:09:43.826Z"
   },
   {
    "duration": 12,
    "start_time": "2024-11-06T00:12:06.326Z"
   },
   {
    "duration": 391,
    "start_time": "2024-11-06T01:50:50.068Z"
   },
   {
    "duration": 179,
    "start_time": "2024-11-06T01:50:50.461Z"
   },
   {
    "duration": 1043,
    "start_time": "2024-11-06T01:50:50.641Z"
   },
   {
    "duration": 25,
    "start_time": "2024-11-06T01:50:51.685Z"
   },
   {
    "duration": 15,
    "start_time": "2024-11-06T01:50:51.713Z"
   },
   {
    "duration": 119,
    "start_time": "2024-11-06T01:50:51.730Z"
   },
   {
    "duration": 12,
    "start_time": "2024-11-06T01:50:51.851Z"
   },
   {
    "duration": 127,
    "start_time": "2024-11-06T01:50:51.865Z"
   },
   {
    "duration": 111,
    "start_time": "2024-11-06T01:50:51.994Z"
   },
   {
    "duration": 46,
    "start_time": "2024-11-06T01:50:52.110Z"
   },
   {
    "duration": 12,
    "start_time": "2024-11-06T01:50:52.158Z"
   },
   {
    "duration": 4,
    "start_time": "2024-11-06T01:50:52.172Z"
   },
   {
    "duration": 45,
    "start_time": "2024-11-06T01:50:52.178Z"
   },
   {
    "duration": 11,
    "start_time": "2024-11-06T01:50:52.228Z"
   },
   {
    "duration": 4,
    "start_time": "2024-11-06T01:50:52.240Z"
   },
   {
    "duration": 4,
    "start_time": "2024-11-06T01:50:52.246Z"
   },
   {
    "duration": 4,
    "start_time": "2024-11-06T01:50:52.254Z"
   },
   {
    "duration": 4,
    "start_time": "2024-11-06T01:50:52.260Z"
   },
   {
    "duration": 977,
    "start_time": "2024-11-06T01:50:52.266Z"
   },
   {
    "duration": 4,
    "start_time": "2024-11-06T01:50:53.245Z"
   },
   {
    "duration": 693,
    "start_time": "2024-11-06T01:50:53.251Z"
   },
   {
    "duration": 12,
    "start_time": "2024-11-06T01:50:53.946Z"
   },
   {
    "duration": 4,
    "start_time": "2024-11-06T01:50:53.960Z"
   },
   {
    "duration": 8,
    "start_time": "2024-11-06T01:50:53.966Z"
   },
   {
    "duration": 36,
    "start_time": "2024-11-06T01:50:53.976Z"
   },
   {
    "duration": 5,
    "start_time": "2024-11-06T01:50:54.015Z"
   },
   {
    "duration": 5,
    "start_time": "2024-11-06T01:50:54.022Z"
   },
   {
    "duration": 20,
    "start_time": "2024-11-06T01:50:54.029Z"
   },
   {
    "duration": 24,
    "start_time": "2024-11-06T01:50:54.050Z"
   },
   {
    "duration": 158,
    "start_time": "2024-11-06T01:50:54.077Z"
   },
   {
    "duration": 5,
    "start_time": "2024-11-06T01:50:54.236Z"
   },
   {
    "duration": 9,
    "start_time": "2024-11-06T01:50:54.243Z"
   },
   {
    "duration": 137,
    "start_time": "2024-11-06T01:50:54.253Z"
   },
   {
    "duration": 18,
    "start_time": "2024-11-06T01:50:54.392Z"
   },
   {
    "duration": 140,
    "start_time": "2024-11-06T01:50:54.412Z"
   },
   {
    "duration": 65,
    "start_time": "2024-11-06T01:50:54.554Z"
   },
   {
    "duration": 6,
    "start_time": "2024-11-06T01:50:54.621Z"
   },
   {
    "duration": 5,
    "start_time": "2024-11-06T01:50:54.628Z"
   },
   {
    "duration": 6,
    "start_time": "2024-11-06T01:50:54.635Z"
   },
   {
    "duration": 2076,
    "start_time": "2024-11-06T01:50:54.642Z"
   },
   {
    "duration": 5,
    "start_time": "2024-11-06T01:50:56.722Z"
   },
   {
    "duration": 10,
    "start_time": "2024-11-06T01:50:56.729Z"
   },
   {
    "duration": 2,
    "start_time": "2024-11-06T01:50:56.740Z"
   },
   {
    "duration": 147,
    "start_time": "2024-11-06T01:50:56.744Z"
   },
   {
    "duration": 7,
    "start_time": "2024-11-06T01:50:56.893Z"
   },
   {
    "duration": 10,
    "start_time": "2024-11-06T01:50:56.909Z"
   },
   {
    "duration": 1321,
    "start_time": "2024-11-06T01:50:56.920Z"
   },
   {
    "duration": 7,
    "start_time": "2024-11-06T01:50:58.243Z"
   },
   {
    "duration": 40,
    "start_time": "2024-11-06T01:50:58.252Z"
   },
   {
    "duration": 14,
    "start_time": "2024-11-06T01:50:58.295Z"
   },
   {
    "duration": 1586,
    "start_time": "2024-11-06T01:50:58.310Z"
   },
   {
    "duration": 12,
    "start_time": "2024-11-06T01:50:59.898Z"
   },
   {
    "duration": 300,
    "start_time": "2024-11-06T01:50:59.911Z"
   },
   {
    "duration": 249,
    "start_time": "2024-11-06T01:51:00.213Z"
   },
   {
    "duration": 9,
    "start_time": "2024-11-06T01:51:00.464Z"
   },
   {
    "duration": 10,
    "start_time": "2024-11-06T01:58:06.016Z"
   },
   {
    "duration": 7,
    "start_time": "2024-11-06T02:04:43.912Z"
   },
   {
    "duration": 15,
    "start_time": "2024-11-06T02:12:47.260Z"
   },
   {
    "duration": 112,
    "start_time": "2024-11-06T02:17:36.384Z"
   },
   {
    "duration": 112,
    "start_time": "2024-11-06T02:18:00.639Z"
   },
   {
    "duration": 366,
    "start_time": "2024-11-06T03:00:14.654Z"
   },
   {
    "duration": 182,
    "start_time": "2024-11-06T03:00:15.022Z"
   },
   {
    "duration": 1023,
    "start_time": "2024-11-06T03:00:15.208Z"
   },
   {
    "duration": 15,
    "start_time": "2024-11-06T03:00:16.234Z"
   },
   {
    "duration": 14,
    "start_time": "2024-11-06T03:00:16.251Z"
   },
   {
    "duration": 119,
    "start_time": "2024-11-06T03:00:16.267Z"
   },
   {
    "duration": 19,
    "start_time": "2024-11-06T03:00:16.387Z"
   },
   {
    "duration": 132,
    "start_time": "2024-11-06T03:00:16.407Z"
   },
   {
    "duration": 105,
    "start_time": "2024-11-06T03:00:16.541Z"
   },
   {
    "duration": 44,
    "start_time": "2024-11-06T03:00:16.648Z"
   },
   {
    "duration": 11,
    "start_time": "2024-11-06T03:00:16.705Z"
   },
   {
    "duration": 4,
    "start_time": "2024-11-06T03:00:16.718Z"
   },
   {
    "duration": 21,
    "start_time": "2024-11-06T03:00:16.726Z"
   },
   {
    "duration": 10,
    "start_time": "2024-11-06T03:00:16.748Z"
   },
   {
    "duration": 3,
    "start_time": "2024-11-06T03:00:16.760Z"
   },
   {
    "duration": 3,
    "start_time": "2024-11-06T03:00:16.765Z"
   },
   {
    "duration": 3,
    "start_time": "2024-11-06T03:00:16.805Z"
   },
   {
    "duration": 4,
    "start_time": "2024-11-06T03:00:16.810Z"
   },
   {
    "duration": 890,
    "start_time": "2024-11-06T03:00:16.815Z"
   },
   {
    "duration": 5,
    "start_time": "2024-11-06T03:00:17.707Z"
   },
   {
    "duration": 659,
    "start_time": "2024-11-06T03:00:17.714Z"
   },
   {
    "duration": 12,
    "start_time": "2024-11-06T03:00:18.375Z"
   },
   {
    "duration": 16,
    "start_time": "2024-11-06T03:00:18.389Z"
   },
   {
    "duration": 7,
    "start_time": "2024-11-06T03:00:18.407Z"
   },
   {
    "duration": 8,
    "start_time": "2024-11-06T03:00:18.416Z"
   },
   {
    "duration": 6,
    "start_time": "2024-11-06T03:00:18.425Z"
   },
   {
    "duration": 4,
    "start_time": "2024-11-06T03:00:18.433Z"
   },
   {
    "duration": 18,
    "start_time": "2024-11-06T03:00:18.438Z"
   },
   {
    "duration": 55,
    "start_time": "2024-11-06T03:00:18.458Z"
   },
   {
    "duration": 133,
    "start_time": "2024-11-06T03:00:18.515Z"
   },
   {
    "duration": 4,
    "start_time": "2024-11-06T03:00:18.650Z"
   },
   {
    "duration": 9,
    "start_time": "2024-11-06T03:00:18.656Z"
   },
   {
    "duration": 142,
    "start_time": "2024-11-06T03:00:18.667Z"
   },
   {
    "duration": 9,
    "start_time": "2024-11-06T03:00:18.812Z"
   },
   {
    "duration": 134,
    "start_time": "2024-11-06T03:00:18.823Z"
   },
   {
    "duration": 64,
    "start_time": "2024-11-06T03:00:18.958Z"
   },
   {
    "duration": 7,
    "start_time": "2024-11-06T03:00:19.024Z"
   },
   {
    "duration": 6,
    "start_time": "2024-11-06T03:00:19.033Z"
   },
   {
    "duration": 7,
    "start_time": "2024-11-06T03:00:19.041Z"
   },
   {
    "duration": 2060,
    "start_time": "2024-11-06T03:00:19.053Z"
   },
   {
    "duration": 6,
    "start_time": "2024-11-06T03:00:21.115Z"
   },
   {
    "duration": 9,
    "start_time": "2024-11-06T03:00:21.123Z"
   },
   {
    "duration": 3,
    "start_time": "2024-11-06T03:00:21.133Z"
   },
   {
    "duration": 145,
    "start_time": "2024-11-06T03:00:21.137Z"
   },
   {
    "duration": 7,
    "start_time": "2024-11-06T03:00:21.283Z"
   },
   {
    "duration": 19,
    "start_time": "2024-11-06T03:00:21.292Z"
   },
   {
    "duration": 1369,
    "start_time": "2024-11-06T03:00:21.313Z"
   },
   {
    "duration": 8,
    "start_time": "2024-11-06T03:00:22.684Z"
   },
   {
    "duration": 51,
    "start_time": "2024-11-06T03:00:22.694Z"
   },
   {
    "duration": 7,
    "start_time": "2024-11-06T03:00:22.747Z"
   },
   {
    "duration": 1525,
    "start_time": "2024-11-06T03:00:22.756Z"
   },
   {
    "duration": 6,
    "start_time": "2024-11-06T03:00:24.283Z"
   },
   {
    "duration": 251,
    "start_time": "2024-11-06T03:00:24.290Z"
   },
   {
    "duration": 249,
    "start_time": "2024-11-06T03:00:24.543Z"
   },
   {
    "duration": 15,
    "start_time": "2024-11-06T03:00:24.794Z"
   },
   {
    "duration": 6,
    "start_time": "2024-11-06T03:00:24.811Z"
   },
   {
    "duration": 12,
    "start_time": "2024-11-06T03:00:24.819Z"
   },
   {
    "duration": 130,
    "start_time": "2024-11-06T03:00:24.833Z"
   },
   {
    "duration": 9,
    "start_time": "2024-11-06T03:10:50.689Z"
   },
   {
    "duration": 79,
    "start_time": "2024-11-06T03:12:04.199Z"
   },
   {
    "duration": 113,
    "start_time": "2024-11-06T03:13:00.446Z"
   },
   {
    "duration": 125,
    "start_time": "2024-11-06T03:13:06.419Z"
   },
   {
    "duration": 111,
    "start_time": "2024-11-06T03:13:17.546Z"
   },
   {
    "duration": 114,
    "start_time": "2024-11-06T03:13:27.177Z"
   },
   {
    "duration": 19,
    "start_time": "2024-11-06T03:14:22.606Z"
   },
   {
    "duration": 118,
    "start_time": "2024-11-06T03:15:32.980Z"
   },
   {
    "duration": 113,
    "start_time": "2024-11-06T03:15:43.659Z"
   },
   {
    "duration": 165,
    "start_time": "2024-11-06T03:17:07.713Z"
   },
   {
    "duration": 779,
    "start_time": "2024-11-06T03:21:31.704Z"
   },
   {
    "duration": 206,
    "start_time": "2024-11-06T03:24:30.483Z"
   },
   {
    "duration": 16,
    "start_time": "2024-11-06T03:24:55.966Z"
   },
   {
    "duration": 214,
    "start_time": "2024-11-06T03:25:30.940Z"
   },
   {
    "duration": 358,
    "start_time": "2024-11-06T04:08:26.790Z"
   },
   {
    "duration": 164,
    "start_time": "2024-11-06T04:08:27.149Z"
   },
   {
    "duration": 1175,
    "start_time": "2024-11-06T04:08:27.314Z"
   },
   {
    "duration": 13,
    "start_time": "2024-11-06T04:08:28.492Z"
   },
   {
    "duration": 13,
    "start_time": "2024-11-06T04:08:28.507Z"
   },
   {
    "duration": 124,
    "start_time": "2024-11-06T04:08:28.522Z"
   },
   {
    "duration": 13,
    "start_time": "2024-11-06T04:08:28.648Z"
   },
   {
    "duration": 126,
    "start_time": "2024-11-06T04:08:28.663Z"
   },
   {
    "duration": 109,
    "start_time": "2024-11-06T04:08:28.790Z"
   },
   {
    "duration": 53,
    "start_time": "2024-11-06T04:08:28.902Z"
   },
   {
    "duration": 12,
    "start_time": "2024-11-06T04:08:28.957Z"
   },
   {
    "duration": 4,
    "start_time": "2024-11-06T04:08:28.971Z"
   },
   {
    "duration": 22,
    "start_time": "2024-11-06T04:08:28.977Z"
   },
   {
    "duration": 14,
    "start_time": "2024-11-06T04:08:29.000Z"
   },
   {
    "duration": 28,
    "start_time": "2024-11-06T04:08:29.017Z"
   },
   {
    "duration": 4,
    "start_time": "2024-11-06T04:08:29.047Z"
   },
   {
    "duration": 5,
    "start_time": "2024-11-06T04:08:29.053Z"
   },
   {
    "duration": 3,
    "start_time": "2024-11-06T04:08:29.062Z"
   },
   {
    "duration": 1078,
    "start_time": "2024-11-06T04:08:29.067Z"
   },
   {
    "duration": 5,
    "start_time": "2024-11-06T04:08:30.148Z"
   },
   {
    "duration": 719,
    "start_time": "2024-11-06T04:08:30.155Z"
   },
   {
    "duration": 12,
    "start_time": "2024-11-06T04:08:30.875Z"
   },
   {
    "duration": 7,
    "start_time": "2024-11-06T04:08:30.888Z"
   },
   {
    "duration": 7,
    "start_time": "2024-11-06T04:08:30.896Z"
   },
   {
    "duration": 8,
    "start_time": "2024-11-06T04:08:30.906Z"
   },
   {
    "duration": 28,
    "start_time": "2024-11-06T04:08:30.915Z"
   },
   {
    "duration": 7,
    "start_time": "2024-11-06T04:08:30.945Z"
   },
   {
    "duration": 20,
    "start_time": "2024-11-06T04:08:30.958Z"
   },
   {
    "duration": 24,
    "start_time": "2024-11-06T04:08:30.979Z"
   },
   {
    "duration": 152,
    "start_time": "2024-11-06T04:08:31.005Z"
   },
   {
    "duration": 6,
    "start_time": "2024-11-06T04:08:31.160Z"
   },
   {
    "duration": 11,
    "start_time": "2024-11-06T04:08:31.170Z"
   },
   {
    "duration": 137,
    "start_time": "2024-11-06T04:08:31.185Z"
   },
   {
    "duration": 19,
    "start_time": "2024-11-06T04:08:31.324Z"
   },
   {
    "duration": 134,
    "start_time": "2024-11-06T04:08:31.344Z"
   },
   {
    "duration": 67,
    "start_time": "2024-11-06T04:08:31.479Z"
   },
   {
    "duration": 7,
    "start_time": "2024-11-06T04:08:31.548Z"
   },
   {
    "duration": 6,
    "start_time": "2024-11-06T04:08:31.556Z"
   },
   {
    "duration": 6,
    "start_time": "2024-11-06T04:08:31.563Z"
   },
   {
    "duration": 352,
    "start_time": "2024-11-06T04:08:31.571Z"
   },
   {
    "duration": 5,
    "start_time": "2024-11-06T04:08:31.925Z"
   },
   {
    "duration": 9,
    "start_time": "2024-11-06T04:08:31.942Z"
   },
   {
    "duration": 3,
    "start_time": "2024-11-06T04:08:31.953Z"
   },
   {
    "duration": 130,
    "start_time": "2024-11-06T04:08:31.958Z"
   },
   {
    "duration": 8,
    "start_time": "2024-11-06T04:08:32.090Z"
   },
   {
    "duration": 9,
    "start_time": "2024-11-06T04:08:32.100Z"
   },
   {
    "duration": 1314,
    "start_time": "2024-11-06T04:08:32.111Z"
   },
   {
    "duration": 6,
    "start_time": "2024-11-06T04:08:33.427Z"
   },
   {
    "duration": 40,
    "start_time": "2024-11-06T04:08:33.435Z"
   },
   {
    "duration": 7,
    "start_time": "2024-11-06T04:08:33.477Z"
   },
   {
    "duration": 1550,
    "start_time": "2024-11-06T04:08:33.486Z"
   },
   {
    "duration": 9,
    "start_time": "2024-11-06T04:08:35.038Z"
   },
   {
    "duration": 267,
    "start_time": "2024-11-06T04:08:35.048Z"
   },
   {
    "duration": 255,
    "start_time": "2024-11-06T04:08:35.317Z"
   },
   {
    "duration": 9,
    "start_time": "2024-11-06T04:08:35.574Z"
   },
   {
    "duration": 138,
    "start_time": "2024-11-06T04:08:35.585Z"
   },
   {
    "duration": 25,
    "start_time": "2024-11-06T04:08:35.724Z"
   },
   {
    "duration": 200,
    "start_time": "2024-11-06T04:08:35.751Z"
   },
   {
    "duration": 186,
    "start_time": "2024-11-06T22:48:53.160Z"
   },
   {
    "duration": 390,
    "start_time": "2024-11-06T22:49:12.936Z"
   },
   {
    "duration": 179,
    "start_time": "2024-11-06T22:49:13.329Z"
   },
   {
    "duration": 1025,
    "start_time": "2024-11-06T22:49:13.511Z"
   },
   {
    "duration": 16,
    "start_time": "2024-11-06T22:49:14.538Z"
   },
   {
    "duration": 14,
    "start_time": "2024-11-06T22:49:14.558Z"
   },
   {
    "duration": 125,
    "start_time": "2024-11-06T22:49:14.574Z"
   },
   {
    "duration": 23,
    "start_time": "2024-11-06T22:49:14.701Z"
   },
   {
    "duration": 127,
    "start_time": "2024-11-06T22:49:14.726Z"
   },
   {
    "duration": 114,
    "start_time": "2024-11-06T22:49:14.855Z"
   },
   {
    "duration": 58,
    "start_time": "2024-11-06T22:49:14.970Z"
   },
   {
    "duration": 12,
    "start_time": "2024-11-06T22:49:15.029Z"
   },
   {
    "duration": 5,
    "start_time": "2024-11-06T22:49:15.044Z"
   },
   {
    "duration": 26,
    "start_time": "2024-11-06T22:49:15.050Z"
   },
   {
    "duration": 41,
    "start_time": "2024-11-06T22:49:15.080Z"
   },
   {
    "duration": 4,
    "start_time": "2024-11-06T22:49:15.124Z"
   },
   {
    "duration": 4,
    "start_time": "2024-11-06T22:49:15.130Z"
   },
   {
    "duration": 4,
    "start_time": "2024-11-06T22:49:15.136Z"
   },
   {
    "duration": 4,
    "start_time": "2024-11-06T22:49:15.141Z"
   },
   {
    "duration": 971,
    "start_time": "2024-11-06T22:49:15.147Z"
   },
   {
    "duration": 5,
    "start_time": "2024-11-06T22:49:16.119Z"
   },
   {
    "duration": 674,
    "start_time": "2024-11-06T22:49:16.125Z"
   },
   {
    "duration": 16,
    "start_time": "2024-11-06T22:49:16.801Z"
   },
   {
    "duration": 5,
    "start_time": "2024-11-06T22:49:16.819Z"
   },
   {
    "duration": 7,
    "start_time": "2024-11-06T22:49:16.826Z"
   },
   {
    "duration": 8,
    "start_time": "2024-11-06T22:49:16.834Z"
   },
   {
    "duration": 4,
    "start_time": "2024-11-06T22:49:16.844Z"
   },
   {
    "duration": 5,
    "start_time": "2024-11-06T22:49:16.849Z"
   },
   {
    "duration": 18,
    "start_time": "2024-11-06T22:49:16.856Z"
   },
   {
    "duration": 23,
    "start_time": "2024-11-06T22:49:16.912Z"
   },
   {
    "duration": 136,
    "start_time": "2024-11-06T22:49:16.937Z"
   },
   {
    "duration": 4,
    "start_time": "2024-11-06T22:49:17.075Z"
   },
   {
    "duration": 9,
    "start_time": "2024-11-06T22:49:17.080Z"
   },
   {
    "duration": 137,
    "start_time": "2024-11-06T22:49:17.091Z"
   },
   {
    "duration": 10,
    "start_time": "2024-11-06T22:49:17.231Z"
   },
   {
    "duration": 167,
    "start_time": "2024-11-06T22:49:17.243Z"
   },
   {
    "duration": 57,
    "start_time": "2024-11-06T22:49:17.412Z"
   },
   {
    "duration": 7,
    "start_time": "2024-11-06T22:49:17.470Z"
   },
   {
    "duration": 6,
    "start_time": "2024-11-06T22:49:17.479Z"
   },
   {
    "duration": 28,
    "start_time": "2024-11-06T22:49:17.486Z"
   },
   {
    "duration": 2084,
    "start_time": "2024-11-06T22:49:17.515Z"
   },
   {
    "duration": 6,
    "start_time": "2024-11-06T22:49:19.611Z"
   },
   {
    "duration": 9,
    "start_time": "2024-11-06T22:49:19.619Z"
   },
   {
    "duration": 2,
    "start_time": "2024-11-06T22:49:19.630Z"
   },
   {
    "duration": 148,
    "start_time": "2024-11-06T22:49:19.634Z"
   },
   {
    "duration": 7,
    "start_time": "2024-11-06T22:49:19.783Z"
   },
   {
    "duration": 25,
    "start_time": "2024-11-06T22:49:19.793Z"
   },
   {
    "duration": 1305,
    "start_time": "2024-11-06T22:49:19.819Z"
   },
   {
    "duration": 7,
    "start_time": "2024-11-06T22:49:21.126Z"
   },
   {
    "duration": 40,
    "start_time": "2024-11-06T22:49:21.135Z"
   },
   {
    "duration": 6,
    "start_time": "2024-11-06T22:49:21.177Z"
   },
   {
    "duration": 1528,
    "start_time": "2024-11-06T22:49:21.185Z"
   },
   {
    "duration": 7,
    "start_time": "2024-11-06T22:49:22.714Z"
   },
   {
    "duration": 274,
    "start_time": "2024-11-06T22:49:22.724Z"
   },
   {
    "duration": 257,
    "start_time": "2024-11-06T22:49:23.000Z"
   },
   {
    "duration": 12,
    "start_time": "2024-11-06T22:49:23.261Z"
   },
   {
    "duration": 141,
    "start_time": "2024-11-06T22:49:23.276Z"
   },
   {
    "duration": 18,
    "start_time": "2024-11-06T22:49:23.419Z"
   },
   {
    "duration": 207,
    "start_time": "2024-11-06T22:49:23.439Z"
   },
   {
    "duration": 181,
    "start_time": "2024-11-06T22:55:49.925Z"
   },
   {
    "duration": 117,
    "start_time": "2024-11-06T22:57:49.002Z"
   },
   {
    "duration": 381,
    "start_time": "2024-11-08T01:28:34.260Z"
   },
   {
    "duration": 195,
    "start_time": "2024-11-08T01:28:34.643Z"
   },
   {
    "duration": 1129,
    "start_time": "2024-11-08T01:28:34.840Z"
   },
   {
    "duration": 15,
    "start_time": "2024-11-08T01:28:35.972Z"
   },
   {
    "duration": 24,
    "start_time": "2024-11-08T01:28:35.989Z"
   },
   {
    "duration": 116,
    "start_time": "2024-11-08T01:28:36.014Z"
   },
   {
    "duration": 13,
    "start_time": "2024-11-08T01:28:36.131Z"
   },
   {
    "duration": 127,
    "start_time": "2024-11-08T01:28:36.145Z"
   },
   {
    "duration": 114,
    "start_time": "2024-11-08T01:28:36.274Z"
   },
   {
    "duration": 55,
    "start_time": "2024-11-08T01:28:36.391Z"
   },
   {
    "duration": 12,
    "start_time": "2024-11-08T01:28:36.448Z"
   },
   {
    "duration": 4,
    "start_time": "2024-11-08T01:28:36.462Z"
   },
   {
    "duration": 24,
    "start_time": "2024-11-08T01:28:36.468Z"
   },
   {
    "duration": 11,
    "start_time": "2024-11-08T01:28:36.512Z"
   },
   {
    "duration": 4,
    "start_time": "2024-11-08T01:28:36.524Z"
   },
   {
    "duration": 3,
    "start_time": "2024-11-08T01:28:36.530Z"
   },
   {
    "duration": 4,
    "start_time": "2024-11-08T01:28:36.535Z"
   },
   {
    "duration": 4,
    "start_time": "2024-11-08T01:28:36.540Z"
   },
   {
    "duration": 955,
    "start_time": "2024-11-08T01:28:36.545Z"
   },
   {
    "duration": 10,
    "start_time": "2024-11-08T01:28:37.502Z"
   },
   {
    "duration": 710,
    "start_time": "2024-11-08T01:28:37.514Z"
   },
   {
    "duration": 12,
    "start_time": "2024-11-08T01:28:38.225Z"
   },
   {
    "duration": 4,
    "start_time": "2024-11-08T01:28:38.238Z"
   },
   {
    "duration": 8,
    "start_time": "2024-11-08T01:28:38.244Z"
   },
   {
    "duration": 7,
    "start_time": "2024-11-08T01:28:38.254Z"
   },
   {
    "duration": 4,
    "start_time": "2024-11-08T01:28:38.262Z"
   },
   {
    "duration": 5,
    "start_time": "2024-11-08T01:28:38.268Z"
   },
   {
    "duration": 53,
    "start_time": "2024-11-08T01:28:38.277Z"
   },
   {
    "duration": 24,
    "start_time": "2024-11-08T01:28:38.331Z"
   },
   {
    "duration": 143,
    "start_time": "2024-11-08T01:28:38.356Z"
   },
   {
    "duration": 4,
    "start_time": "2024-11-08T01:28:38.501Z"
   },
   {
    "duration": 9,
    "start_time": "2024-11-08T01:28:38.511Z"
   },
   {
    "duration": 129,
    "start_time": "2024-11-08T01:28:38.522Z"
   },
   {
    "duration": 8,
    "start_time": "2024-11-08T01:28:38.653Z"
   },
   {
    "duration": 143,
    "start_time": "2024-11-08T01:28:38.663Z"
   },
   {
    "duration": 57,
    "start_time": "2024-11-08T01:28:38.812Z"
   },
   {
    "duration": 7,
    "start_time": "2024-11-08T01:28:38.870Z"
   },
   {
    "duration": 5,
    "start_time": "2024-11-08T01:28:38.879Z"
   },
   {
    "duration": 27,
    "start_time": "2024-11-08T01:28:38.886Z"
   },
   {
    "duration": 2091,
    "start_time": "2024-11-08T01:28:38.916Z"
   },
   {
    "duration": 125,
    "start_time": "2024-11-08T01:28:41.011Z"
   },
   {
    "duration": 9,
    "start_time": "2024-11-08T01:28:41.138Z"
   },
   {
    "duration": 3,
    "start_time": "2024-11-08T01:28:41.149Z"
   },
   {
    "duration": 141,
    "start_time": "2024-11-08T01:28:41.154Z"
   },
   {
    "duration": 18,
    "start_time": "2024-11-08T01:28:41.297Z"
   },
   {
    "duration": 10,
    "start_time": "2024-11-08T01:28:41.318Z"
   },
   {
    "duration": 1306,
    "start_time": "2024-11-08T01:28:41.330Z"
   },
   {
    "duration": 7,
    "start_time": "2024-11-08T01:28:42.638Z"
   },
   {
    "duration": 168,
    "start_time": "2024-11-08T01:28:42.647Z"
   },
   {
    "duration": 7,
    "start_time": "2024-11-08T01:28:42.816Z"
   },
   {
    "duration": 1549,
    "start_time": "2024-11-08T01:28:42.825Z"
   },
   {
    "duration": 7,
    "start_time": "2024-11-08T01:28:44.376Z"
   },
   {
    "duration": 273,
    "start_time": "2024-11-08T01:28:44.385Z"
   },
   {
    "duration": 260,
    "start_time": "2024-11-08T01:28:44.660Z"
   },
   {
    "duration": 11,
    "start_time": "2024-11-08T01:28:44.922Z"
   },
   {
    "duration": 144,
    "start_time": "2024-11-08T01:28:44.935Z"
   },
   {
    "duration": 19,
    "start_time": "2024-11-08T01:28:45.080Z"
   },
   {
    "duration": 216,
    "start_time": "2024-11-08T01:28:45.100Z"
   },
   {
    "duration": 66,
    "start_time": "2024-11-08T01:35:26.984Z"
   },
   {
    "duration": 186,
    "start_time": "2024-11-08T01:45:15.643Z"
   },
   {
    "duration": 529,
    "start_time": "2024-11-08T01:46:11.515Z"
   },
   {
    "duration": 166,
    "start_time": "2024-11-08T01:46:12.046Z"
   },
   {
    "duration": 966,
    "start_time": "2024-11-08T01:46:12.214Z"
   },
   {
    "duration": 15,
    "start_time": "2024-11-08T01:46:13.181Z"
   },
   {
    "duration": 24,
    "start_time": "2024-11-08T01:46:13.199Z"
   },
   {
    "duration": 114,
    "start_time": "2024-11-08T01:46:13.226Z"
   },
   {
    "duration": 12,
    "start_time": "2024-11-08T01:46:13.342Z"
   },
   {
    "duration": 136,
    "start_time": "2024-11-08T01:46:13.356Z"
   },
   {
    "duration": 117,
    "start_time": "2024-11-08T01:46:13.494Z"
   },
   {
    "duration": 45,
    "start_time": "2024-11-08T01:46:13.614Z"
   },
   {
    "duration": 11,
    "start_time": "2024-11-08T01:46:13.661Z"
   },
   {
    "duration": 5,
    "start_time": "2024-11-08T01:46:13.674Z"
   },
   {
    "duration": 46,
    "start_time": "2024-11-08T01:46:13.680Z"
   },
   {
    "duration": 11,
    "start_time": "2024-11-08T01:46:13.730Z"
   },
   {
    "duration": 3,
    "start_time": "2024-11-08T01:46:13.743Z"
   },
   {
    "duration": 4,
    "start_time": "2024-11-08T01:46:13.747Z"
   },
   {
    "duration": 3,
    "start_time": "2024-11-08T01:46:13.753Z"
   },
   {
    "duration": 4,
    "start_time": "2024-11-08T01:46:13.758Z"
   },
   {
    "duration": 963,
    "start_time": "2024-11-08T01:46:13.763Z"
   },
   {
    "duration": 4,
    "start_time": "2024-11-08T01:46:14.729Z"
   },
   {
    "duration": 738,
    "start_time": "2024-11-08T01:46:14.736Z"
   },
   {
    "duration": 11,
    "start_time": "2024-11-08T01:46:15.476Z"
   },
   {
    "duration": 5,
    "start_time": "2024-11-08T01:46:15.489Z"
   },
   {
    "duration": 7,
    "start_time": "2024-11-08T01:46:15.511Z"
   },
   {
    "duration": 7,
    "start_time": "2024-11-08T01:46:15.520Z"
   },
   {
    "duration": 4,
    "start_time": "2024-11-08T01:46:15.528Z"
   },
   {
    "duration": 5,
    "start_time": "2024-11-08T01:46:15.533Z"
   },
   {
    "duration": 18,
    "start_time": "2024-11-08T01:46:15.540Z"
   },
   {
    "duration": 52,
    "start_time": "2024-11-08T01:46:15.560Z"
   },
   {
    "duration": 132,
    "start_time": "2024-11-08T01:46:15.614Z"
   },
   {
    "duration": 4,
    "start_time": "2024-11-08T01:46:15.748Z"
   },
   {
    "duration": 10,
    "start_time": "2024-11-08T01:46:15.754Z"
   },
   {
    "duration": 138,
    "start_time": "2024-11-08T01:46:15.765Z"
   },
   {
    "duration": 13,
    "start_time": "2024-11-08T01:46:15.905Z"
   },
   {
    "duration": 62,
    "start_time": "2024-11-08T01:46:15.920Z"
   },
   {
    "duration": 84,
    "start_time": "2024-11-08T01:46:15.984Z"
   },
   {
    "duration": 7,
    "start_time": "2024-11-08T01:46:16.069Z"
   },
   {
    "duration": 5,
    "start_time": "2024-11-08T01:46:16.078Z"
   },
   {
    "duration": 6,
    "start_time": "2024-11-08T01:46:16.084Z"
   },
   {
    "duration": 206,
    "start_time": "2024-11-08T01:46:16.092Z"
   },
   {
    "duration": 134,
    "start_time": "2024-11-08T01:46:16.303Z"
   },
   {
    "duration": 8,
    "start_time": "2024-11-08T01:46:16.439Z"
   },
   {
    "duration": 3,
    "start_time": "2024-11-08T01:46:16.448Z"
   },
   {
    "duration": 138,
    "start_time": "2024-11-08T01:46:16.453Z"
   },
   {
    "duration": 10,
    "start_time": "2024-11-08T01:46:16.594Z"
   },
   {
    "duration": 10,
    "start_time": "2024-11-08T01:46:16.612Z"
   },
   {
    "duration": 1364,
    "start_time": "2024-11-08T01:46:16.624Z"
   },
   {
    "duration": 22,
    "start_time": "2024-11-08T01:46:17.990Z"
   },
   {
    "duration": 177,
    "start_time": "2024-11-08T01:46:18.014Z"
   },
   {
    "duration": 6,
    "start_time": "2024-11-08T01:46:18.193Z"
   },
   {
    "duration": 1586,
    "start_time": "2024-11-08T01:46:18.212Z"
   },
   {
    "duration": 13,
    "start_time": "2024-11-08T01:46:19.800Z"
   },
   {
    "duration": 281,
    "start_time": "2024-11-08T01:46:19.815Z"
   },
   {
    "duration": 252,
    "start_time": "2024-11-08T01:46:20.098Z"
   },
   {
    "duration": 10,
    "start_time": "2024-11-08T01:46:20.352Z"
   },
   {
    "duration": 148,
    "start_time": "2024-11-08T01:46:20.364Z"
   },
   {
    "duration": 17,
    "start_time": "2024-11-08T01:46:20.514Z"
   },
   {
    "duration": 208,
    "start_time": "2024-11-08T01:46:20.533Z"
   },
   {
    "duration": 176,
    "start_time": "2024-11-08T01:47:58.271Z"
   },
   {
    "duration": 128,
    "start_time": "2024-11-08T01:51:27.778Z"
   },
   {
    "duration": 5,
    "start_time": "2024-11-08T01:55:17.575Z"
   },
   {
    "duration": 4,
    "start_time": "2024-11-08T01:55:24.206Z"
   },
   {
    "duration": 233,
    "start_time": "2024-11-08T01:55:29.917Z"
   },
   {
    "duration": 509,
    "start_time": "2024-11-08T01:55:42.319Z"
   },
   {
    "duration": 225,
    "start_time": "2024-11-08T01:55:46.745Z"
   },
   {
    "duration": 222,
    "start_time": "2024-11-08T01:56:25.903Z"
   },
   {
    "duration": 225,
    "start_time": "2024-11-08T01:56:40.926Z"
   },
   {
    "duration": 37,
    "start_time": "2024-11-08T01:58:39.421Z"
   },
   {
    "duration": 35,
    "start_time": "2024-11-08T02:01:00.838Z"
   },
   {
    "duration": 230,
    "start_time": "2024-11-08T02:01:13.626Z"
   },
   {
    "duration": 547,
    "start_time": "2024-11-08T02:01:35.029Z"
   },
   {
    "duration": 164,
    "start_time": "2024-11-08T02:01:35.578Z"
   },
   {
    "duration": 976,
    "start_time": "2024-11-08T02:01:35.744Z"
   },
   {
    "duration": 14,
    "start_time": "2024-11-08T02:01:36.722Z"
   },
   {
    "duration": 13,
    "start_time": "2024-11-08T02:01:36.740Z"
   },
   {
    "duration": 125,
    "start_time": "2024-11-08T02:01:36.754Z"
   },
   {
    "duration": 14,
    "start_time": "2024-11-08T02:01:36.880Z"
   },
   {
    "duration": 136,
    "start_time": "2024-11-08T02:01:36.895Z"
   },
   {
    "duration": 113,
    "start_time": "2024-11-08T02:01:37.032Z"
   },
   {
    "duration": 45,
    "start_time": "2024-11-08T02:01:37.147Z"
   },
   {
    "duration": 24,
    "start_time": "2024-11-08T02:01:37.194Z"
   },
   {
    "duration": 4,
    "start_time": "2024-11-08T02:01:37.222Z"
   },
   {
    "duration": 32,
    "start_time": "2024-11-08T02:01:37.229Z"
   },
   {
    "duration": 10,
    "start_time": "2024-11-08T02:01:37.265Z"
   },
   {
    "duration": 4,
    "start_time": "2024-11-08T02:01:37.280Z"
   },
   {
    "duration": 29,
    "start_time": "2024-11-08T02:01:37.286Z"
   },
   {
    "duration": 4,
    "start_time": "2024-11-08T02:01:37.317Z"
   },
   {
    "duration": 3,
    "start_time": "2024-11-08T02:01:37.323Z"
   },
   {
    "duration": 968,
    "start_time": "2024-11-08T02:01:37.328Z"
   },
   {
    "duration": 4,
    "start_time": "2024-11-08T02:01:38.298Z"
   },
   {
    "duration": 743,
    "start_time": "2024-11-08T02:01:38.303Z"
   },
   {
    "duration": 12,
    "start_time": "2024-11-08T02:01:39.048Z"
   },
   {
    "duration": 4,
    "start_time": "2024-11-08T02:01:39.062Z"
   },
   {
    "duration": 8,
    "start_time": "2024-11-08T02:01:39.068Z"
   },
   {
    "duration": 7,
    "start_time": "2024-11-08T02:01:39.077Z"
   },
   {
    "duration": 5,
    "start_time": "2024-11-08T02:01:39.112Z"
   },
   {
    "duration": 6,
    "start_time": "2024-11-08T02:01:39.118Z"
   },
   {
    "duration": 19,
    "start_time": "2024-11-08T02:01:39.125Z"
   },
   {
    "duration": 24,
    "start_time": "2024-11-08T02:01:39.146Z"
   },
   {
    "duration": 152,
    "start_time": "2024-11-08T02:01:39.172Z"
   },
   {
    "duration": 4,
    "start_time": "2024-11-08T02:01:39.326Z"
   },
   {
    "duration": 9,
    "start_time": "2024-11-08T02:01:39.332Z"
   },
   {
    "duration": 142,
    "start_time": "2024-11-08T02:01:39.343Z"
   },
   {
    "duration": 8,
    "start_time": "2024-11-08T02:01:39.487Z"
   },
   {
    "duration": 77,
    "start_time": "2024-11-08T02:01:39.496Z"
   },
   {
    "duration": 66,
    "start_time": "2024-11-08T02:01:39.574Z"
   },
   {
    "duration": 7,
    "start_time": "2024-11-08T02:01:39.641Z"
   },
   {
    "duration": 5,
    "start_time": "2024-11-08T02:01:39.650Z"
   },
   {
    "duration": 7,
    "start_time": "2024-11-08T02:01:39.656Z"
   },
   {
    "duration": 211,
    "start_time": "2024-11-08T02:01:39.664Z"
   },
   {
    "duration": 144,
    "start_time": "2024-11-08T02:01:39.881Z"
   },
   {
    "duration": 236,
    "start_time": "2024-11-08T02:01:40.026Z"
   },
   {
    "duration": 2,
    "start_time": "2024-11-08T02:01:40.264Z"
   },
   {
    "duration": 125,
    "start_time": "2024-11-08T02:01:40.268Z"
   },
   {
    "duration": 18,
    "start_time": "2024-11-08T02:01:40.395Z"
   },
   {
    "duration": 10,
    "start_time": "2024-11-08T02:01:40.415Z"
   },
   {
    "duration": 1302,
    "start_time": "2024-11-08T02:01:40.426Z"
   },
   {
    "duration": 7,
    "start_time": "2024-11-08T02:01:41.730Z"
   },
   {
    "duration": 179,
    "start_time": "2024-11-08T02:01:41.739Z"
   },
   {
    "duration": 6,
    "start_time": "2024-11-08T02:01:41.920Z"
   },
   {
    "duration": 1588,
    "start_time": "2024-11-08T02:01:41.928Z"
   },
   {
    "duration": 7,
    "start_time": "2024-11-08T02:01:43.519Z"
   },
   {
    "duration": 294,
    "start_time": "2024-11-08T02:01:43.528Z"
   },
   {
    "duration": 251,
    "start_time": "2024-11-08T02:01:43.824Z"
   },
   {
    "duration": 8,
    "start_time": "2024-11-08T02:01:44.077Z"
   },
   {
    "duration": 142,
    "start_time": "2024-11-08T02:01:44.087Z"
   },
   {
    "duration": 18,
    "start_time": "2024-11-08T02:01:44.230Z"
   },
   {
    "duration": 209,
    "start_time": "2024-11-08T02:01:44.249Z"
   },
   {
    "duration": 558,
    "start_time": "2024-11-08T02:02:22.033Z"
   },
   {
    "duration": 232,
    "start_time": "2024-11-08T02:03:05.843Z"
   },
   {
    "duration": 540,
    "start_time": "2024-11-08T02:08:46.227Z"
   },
   {
    "duration": 156,
    "start_time": "2024-11-08T02:08:46.770Z"
   },
   {
    "duration": 988,
    "start_time": "2024-11-08T02:08:46.927Z"
   },
   {
    "duration": 15,
    "start_time": "2024-11-08T02:08:47.918Z"
   },
   {
    "duration": 12,
    "start_time": "2024-11-08T02:08:47.936Z"
   },
   {
    "duration": 129,
    "start_time": "2024-11-08T02:08:47.950Z"
   },
   {
    "duration": 13,
    "start_time": "2024-11-08T02:08:48.081Z"
   },
   {
    "duration": 132,
    "start_time": "2024-11-08T02:08:48.095Z"
   },
   {
    "duration": 113,
    "start_time": "2024-11-08T02:08:48.229Z"
   },
   {
    "duration": 45,
    "start_time": "2024-11-08T02:08:48.344Z"
   },
   {
    "duration": 21,
    "start_time": "2024-11-08T02:08:48.391Z"
   },
   {
    "duration": 5,
    "start_time": "2024-11-08T02:08:48.413Z"
   },
   {
    "duration": 25,
    "start_time": "2024-11-08T02:08:48.420Z"
   },
   {
    "duration": 11,
    "start_time": "2024-11-08T02:08:48.449Z"
   },
   {
    "duration": 5,
    "start_time": "2024-11-08T02:08:48.462Z"
   },
   {
    "duration": 4,
    "start_time": "2024-11-08T02:08:48.468Z"
   },
   {
    "duration": 40,
    "start_time": "2024-11-08T02:08:48.473Z"
   },
   {
    "duration": 4,
    "start_time": "2024-11-08T02:08:48.515Z"
   },
   {
    "duration": 942,
    "start_time": "2024-11-08T02:08:48.521Z"
   },
   {
    "duration": 5,
    "start_time": "2024-11-08T02:08:49.465Z"
   },
   {
    "duration": 723,
    "start_time": "2024-11-08T02:08:49.472Z"
   },
   {
    "duration": 16,
    "start_time": "2024-11-08T02:08:50.197Z"
   },
   {
    "duration": 5,
    "start_time": "2024-11-08T02:08:50.214Z"
   },
   {
    "duration": 8,
    "start_time": "2024-11-08T02:08:50.220Z"
   },
   {
    "duration": 7,
    "start_time": "2024-11-08T02:08:50.229Z"
   },
   {
    "duration": 4,
    "start_time": "2024-11-08T02:08:50.238Z"
   },
   {
    "duration": 5,
    "start_time": "2024-11-08T02:08:50.244Z"
   },
   {
    "duration": 18,
    "start_time": "2024-11-08T02:08:50.251Z"
   },
   {
    "duration": 56,
    "start_time": "2024-11-08T02:08:50.270Z"
   },
   {
    "duration": 141,
    "start_time": "2024-11-08T02:08:50.328Z"
   },
   {
    "duration": 4,
    "start_time": "2024-11-08T02:08:50.470Z"
   },
   {
    "duration": 11,
    "start_time": "2024-11-08T02:08:50.476Z"
   },
   {
    "duration": 138,
    "start_time": "2024-11-08T02:08:50.489Z"
   },
   {
    "duration": 8,
    "start_time": "2024-11-08T02:08:50.629Z"
   },
   {
    "duration": 78,
    "start_time": "2024-11-08T02:08:50.639Z"
   },
   {
    "duration": 58,
    "start_time": "2024-11-08T02:08:50.719Z"
   },
   {
    "duration": 6,
    "start_time": "2024-11-08T02:08:50.779Z"
   },
   {
    "duration": 25,
    "start_time": "2024-11-08T02:08:50.787Z"
   },
   {
    "duration": 7,
    "start_time": "2024-11-08T02:08:50.814Z"
   },
   {
    "duration": 199,
    "start_time": "2024-11-08T02:08:50.822Z"
   },
   {
    "duration": 132,
    "start_time": "2024-11-08T02:08:51.025Z"
   },
   {
    "duration": 239,
    "start_time": "2024-11-08T02:08:51.159Z"
   },
   {
    "duration": 3,
    "start_time": "2024-11-08T02:08:51.399Z"
   },
   {
    "duration": 128,
    "start_time": "2024-11-08T02:08:51.412Z"
   },
   {
    "duration": 9,
    "start_time": "2024-11-08T02:08:51.542Z"
   },
   {
    "duration": 9,
    "start_time": "2024-11-08T02:08:51.553Z"
   },
   {
    "duration": 1288,
    "start_time": "2024-11-08T02:08:51.564Z"
   },
   {
    "duration": 7,
    "start_time": "2024-11-08T02:08:52.854Z"
   },
   {
    "duration": 177,
    "start_time": "2024-11-08T02:08:52.863Z"
   },
   {
    "duration": 8,
    "start_time": "2024-11-08T02:08:53.042Z"
   },
   {
    "duration": 1578,
    "start_time": "2024-11-08T02:08:53.051Z"
   },
   {
    "duration": 7,
    "start_time": "2024-11-08T02:08:54.630Z"
   },
   {
    "duration": 302,
    "start_time": "2024-11-08T02:08:54.638Z"
   },
   {
    "duration": 257,
    "start_time": "2024-11-08T02:08:54.942Z"
   },
   {
    "duration": 16,
    "start_time": "2024-11-08T02:08:55.201Z"
   },
   {
    "duration": 136,
    "start_time": "2024-11-08T02:08:55.219Z"
   },
   {
    "duration": 17,
    "start_time": "2024-11-08T02:08:55.357Z"
   },
   {
    "duration": 210,
    "start_time": "2024-11-08T02:08:55.376Z"
   },
   {
    "duration": 230,
    "start_time": "2024-11-08T02:10:23.432Z"
   },
   {
    "duration": 305,
    "start_time": "2024-11-08T02:10:47.956Z"
   },
   {
    "duration": 246,
    "start_time": "2024-11-08T02:12:18.577Z"
   },
   {
    "duration": 39,
    "start_time": "2024-11-08T02:13:27.995Z"
   },
   {
    "duration": 37,
    "start_time": "2024-11-08T02:14:21.550Z"
   },
   {
    "duration": 225,
    "start_time": "2024-11-08T02:14:31.867Z"
   },
   {
    "duration": 37,
    "start_time": "2024-11-08T02:17:38.786Z"
   },
   {
    "duration": 36,
    "start_time": "2024-11-08T02:17:50.592Z"
   },
   {
    "duration": 41,
    "start_time": "2024-11-08T02:18:04.339Z"
   },
   {
    "duration": 231,
    "start_time": "2024-11-08T02:18:40.901Z"
   },
   {
    "duration": 244,
    "start_time": "2024-11-08T02:18:56.515Z"
   },
   {
    "duration": 231,
    "start_time": "2024-11-08T02:20:49.206Z"
   },
   {
    "duration": 491,
    "start_time": "2024-11-08T02:21:53.869Z"
   },
   {
    "duration": 510,
    "start_time": "2024-11-08T02:22:15.508Z"
   },
   {
    "duration": 186,
    "start_time": "2024-11-08T02:22:16.020Z"
   },
   {
    "duration": 963,
    "start_time": "2024-11-08T02:22:16.212Z"
   },
   {
    "duration": 16,
    "start_time": "2024-11-08T02:22:17.177Z"
   },
   {
    "duration": 29,
    "start_time": "2024-11-08T02:22:17.196Z"
   },
   {
    "duration": 128,
    "start_time": "2024-11-08T02:22:17.227Z"
   },
   {
    "duration": 13,
    "start_time": "2024-11-08T02:22:17.357Z"
   },
   {
    "duration": 144,
    "start_time": "2024-11-08T02:22:17.372Z"
   },
   {
    "duration": 114,
    "start_time": "2024-11-08T02:22:17.518Z"
   },
   {
    "duration": 46,
    "start_time": "2024-11-08T02:22:17.634Z"
   },
   {
    "duration": 12,
    "start_time": "2024-11-08T02:22:17.682Z"
   },
   {
    "duration": 5,
    "start_time": "2024-11-08T02:22:17.711Z"
   },
   {
    "duration": 25,
    "start_time": "2024-11-08T02:22:17.718Z"
   },
   {
    "duration": 11,
    "start_time": "2024-11-08T02:22:17.748Z"
   },
   {
    "duration": 3,
    "start_time": "2024-11-08T02:22:17.761Z"
   },
   {
    "duration": 3,
    "start_time": "2024-11-08T02:22:17.766Z"
   },
   {
    "duration": 4,
    "start_time": "2024-11-08T02:22:17.771Z"
   },
   {
    "duration": 3,
    "start_time": "2024-11-08T02:22:17.813Z"
   },
   {
    "duration": 980,
    "start_time": "2024-11-08T02:22:17.818Z"
   },
   {
    "duration": 5,
    "start_time": "2024-11-08T02:22:18.799Z"
   },
   {
    "duration": 705,
    "start_time": "2024-11-08T02:22:18.812Z"
   },
   {
    "duration": 12,
    "start_time": "2024-11-08T02:22:19.519Z"
   },
   {
    "duration": 4,
    "start_time": "2024-11-08T02:22:19.533Z"
   },
   {
    "duration": 8,
    "start_time": "2024-11-08T02:22:19.539Z"
   },
   {
    "duration": 7,
    "start_time": "2024-11-08T02:22:19.549Z"
   },
   {
    "duration": 4,
    "start_time": "2024-11-08T02:22:19.559Z"
   },
   {
    "duration": 7,
    "start_time": "2024-11-08T02:22:19.564Z"
   },
   {
    "duration": 55,
    "start_time": "2024-11-08T02:22:19.573Z"
   },
   {
    "duration": 24,
    "start_time": "2024-11-08T02:22:19.630Z"
   },
   {
    "duration": 144,
    "start_time": "2024-11-08T02:22:19.656Z"
   },
   {
    "duration": 10,
    "start_time": "2024-11-08T02:22:19.802Z"
   },
   {
    "duration": 10,
    "start_time": "2024-11-08T02:22:19.814Z"
   },
   {
    "duration": 139,
    "start_time": "2024-11-08T02:22:19.826Z"
   },
   {
    "duration": 10,
    "start_time": "2024-11-08T02:22:19.967Z"
   },
   {
    "duration": 78,
    "start_time": "2024-11-08T02:22:19.979Z"
   },
   {
    "duration": 62,
    "start_time": "2024-11-08T02:22:20.059Z"
   },
   {
    "duration": 6,
    "start_time": "2024-11-08T02:22:20.123Z"
   },
   {
    "duration": 5,
    "start_time": "2024-11-08T02:22:20.131Z"
   },
   {
    "duration": 7,
    "start_time": "2024-11-08T02:22:20.138Z"
   },
   {
    "duration": 220,
    "start_time": "2024-11-08T02:22:20.146Z"
   },
   {
    "duration": 132,
    "start_time": "2024-11-08T02:22:20.370Z"
   },
   {
    "duration": 236,
    "start_time": "2024-11-08T02:22:20.511Z"
   },
   {
    "duration": 2,
    "start_time": "2024-11-08T02:22:20.749Z"
   },
   {
    "duration": 131,
    "start_time": "2024-11-08T02:22:20.753Z"
   },
   {
    "duration": 7,
    "start_time": "2024-11-08T02:22:20.887Z"
   },
   {
    "duration": 22,
    "start_time": "2024-11-08T02:22:20.896Z"
   },
   {
    "duration": 1344,
    "start_time": "2024-11-08T02:22:20.920Z"
   },
   {
    "duration": 7,
    "start_time": "2024-11-08T02:22:22.267Z"
   },
   {
    "duration": 187,
    "start_time": "2024-11-08T02:22:22.275Z"
   },
   {
    "duration": 9,
    "start_time": "2024-11-08T02:22:22.463Z"
   },
   {
    "duration": 1589,
    "start_time": "2024-11-08T02:22:22.473Z"
   },
   {
    "duration": 6,
    "start_time": "2024-11-08T02:22:24.064Z"
   },
   {
    "duration": 278,
    "start_time": "2024-11-08T02:22:24.072Z"
   },
   {
    "duration": 267,
    "start_time": "2024-11-08T02:22:24.352Z"
   },
   {
    "duration": 8,
    "start_time": "2024-11-08T02:22:24.621Z"
   },
   {
    "duration": 151,
    "start_time": "2024-11-08T02:22:24.631Z"
   },
   {
    "duration": 18,
    "start_time": "2024-11-08T02:22:24.784Z"
   },
   {
    "duration": 212,
    "start_time": "2024-11-08T02:22:24.804Z"
   },
   {
    "duration": 247,
    "start_time": "2024-11-08T02:22:58.773Z"
   },
   {
    "duration": 282,
    "start_time": "2024-11-08T02:23:40.168Z"
   },
   {
    "duration": 778,
    "start_time": "2024-11-08T02:26:21.818Z"
   },
   {
    "duration": 246,
    "start_time": "2024-11-08T02:26:58.125Z"
   },
   {
    "duration": 6,
    "start_time": "2024-11-08T02:30:01.781Z"
   },
   {
    "duration": 175,
    "start_time": "2024-11-08T02:30:01.790Z"
   },
   {
    "duration": 0,
    "start_time": "2024-11-08T02:30:01.969Z"
   },
   {
    "duration": 0,
    "start_time": "2024-11-08T02:30:01.971Z"
   },
   {
    "duration": 0,
    "start_time": "2024-11-08T02:30:01.972Z"
   },
   {
    "duration": 0,
    "start_time": "2024-11-08T02:30:01.974Z"
   },
   {
    "duration": 0,
    "start_time": "2024-11-08T02:30:01.976Z"
   },
   {
    "duration": 0,
    "start_time": "2024-11-08T02:30:01.977Z"
   },
   {
    "duration": 0,
    "start_time": "2024-11-08T02:30:01.978Z"
   },
   {
    "duration": 0,
    "start_time": "2024-11-08T02:30:01.979Z"
   },
   {
    "duration": 0,
    "start_time": "2024-11-08T02:30:01.980Z"
   },
   {
    "duration": 0,
    "start_time": "2024-11-08T02:30:02.012Z"
   },
   {
    "duration": 0,
    "start_time": "2024-11-08T02:30:02.013Z"
   },
   {
    "duration": 0,
    "start_time": "2024-11-08T02:30:02.014Z"
   },
   {
    "duration": 0,
    "start_time": "2024-11-08T02:30:02.015Z"
   },
   {
    "duration": 0,
    "start_time": "2024-11-08T02:30:02.016Z"
   },
   {
    "duration": 0,
    "start_time": "2024-11-08T02:30:02.017Z"
   },
   {
    "duration": 0,
    "start_time": "2024-11-08T02:30:02.018Z"
   },
   {
    "duration": 0,
    "start_time": "2024-11-08T02:30:02.019Z"
   },
   {
    "duration": 0,
    "start_time": "2024-11-08T02:30:02.021Z"
   },
   {
    "duration": 0,
    "start_time": "2024-11-08T02:30:02.022Z"
   },
   {
    "duration": 0,
    "start_time": "2024-11-08T02:30:02.022Z"
   },
   {
    "duration": 0,
    "start_time": "2024-11-08T02:30:02.024Z"
   },
   {
    "duration": 0,
    "start_time": "2024-11-08T02:30:02.024Z"
   },
   {
    "duration": 0,
    "start_time": "2024-11-08T02:30:02.026Z"
   },
   {
    "duration": 0,
    "start_time": "2024-11-08T02:30:02.027Z"
   },
   {
    "duration": 0,
    "start_time": "2024-11-08T02:30:02.028Z"
   },
   {
    "duration": 0,
    "start_time": "2024-11-08T02:30:02.029Z"
   },
   {
    "duration": 0,
    "start_time": "2024-11-08T02:30:02.030Z"
   },
   {
    "duration": 0,
    "start_time": "2024-11-08T02:30:02.031Z"
   },
   {
    "duration": 0,
    "start_time": "2024-11-08T02:30:02.032Z"
   },
   {
    "duration": 0,
    "start_time": "2024-11-08T02:30:02.033Z"
   },
   {
    "duration": 0,
    "start_time": "2024-11-08T02:30:02.034Z"
   },
   {
    "duration": 0,
    "start_time": "2024-11-08T02:30:02.035Z"
   },
   {
    "duration": 0,
    "start_time": "2024-11-08T02:30:02.036Z"
   },
   {
    "duration": 0,
    "start_time": "2024-11-08T02:30:02.037Z"
   },
   {
    "duration": 0,
    "start_time": "2024-11-08T02:30:02.038Z"
   },
   {
    "duration": 0,
    "start_time": "2024-11-08T02:30:02.038Z"
   },
   {
    "duration": 0,
    "start_time": "2024-11-08T02:30:02.040Z"
   },
   {
    "duration": 0,
    "start_time": "2024-11-08T02:30:02.040Z"
   },
   {
    "duration": 0,
    "start_time": "2024-11-08T02:30:02.041Z"
   },
   {
    "duration": 0,
    "start_time": "2024-11-08T02:30:02.042Z"
   },
   {
    "duration": 0,
    "start_time": "2024-11-08T02:30:02.043Z"
   },
   {
    "duration": 0,
    "start_time": "2024-11-08T02:30:02.044Z"
   },
   {
    "duration": 0,
    "start_time": "2024-11-08T02:30:02.045Z"
   },
   {
    "duration": 0,
    "start_time": "2024-11-08T02:30:02.046Z"
   },
   {
    "duration": 0,
    "start_time": "2024-11-08T02:30:02.047Z"
   },
   {
    "duration": 0,
    "start_time": "2024-11-08T02:30:02.048Z"
   },
   {
    "duration": 0,
    "start_time": "2024-11-08T02:30:02.049Z"
   },
   {
    "duration": 0,
    "start_time": "2024-11-08T02:30:02.051Z"
   },
   {
    "duration": 0,
    "start_time": "2024-11-08T02:30:02.112Z"
   },
   {
    "duration": 0,
    "start_time": "2024-11-08T02:30:02.113Z"
   },
   {
    "duration": 0,
    "start_time": "2024-11-08T02:30:02.114Z"
   },
   {
    "duration": 0,
    "start_time": "2024-11-08T02:30:02.115Z"
   },
   {
    "duration": 0,
    "start_time": "2024-11-08T02:30:02.116Z"
   },
   {
    "duration": 0,
    "start_time": "2024-11-08T02:30:02.118Z"
   },
   {
    "duration": 16,
    "start_time": "2024-11-08T02:30:02.122Z"
   },
   {
    "duration": 0,
    "start_time": "2024-11-08T02:30:02.139Z"
   },
   {
    "duration": 519,
    "start_time": "2024-11-08T02:30:43.443Z"
   },
   {
    "duration": 147,
    "start_time": "2024-11-08T02:30:43.965Z"
   },
   {
    "duration": 763,
    "start_time": "2024-11-08T02:30:44.113Z"
   },
   {
    "duration": 15,
    "start_time": "2024-11-08T02:30:44.878Z"
   },
   {
    "duration": 29,
    "start_time": "2024-11-08T02:30:44.895Z"
   },
   {
    "duration": 108,
    "start_time": "2024-11-08T02:30:44.926Z"
   },
   {
    "duration": 13,
    "start_time": "2024-11-08T02:30:45.035Z"
   },
   {
    "duration": 122,
    "start_time": "2024-11-08T02:30:45.049Z"
   },
   {
    "duration": 101,
    "start_time": "2024-11-08T02:30:45.172Z"
   },
   {
    "duration": 53,
    "start_time": "2024-11-08T02:30:45.275Z"
   },
   {
    "duration": 12,
    "start_time": "2024-11-08T02:30:45.330Z"
   },
   {
    "duration": 6,
    "start_time": "2024-11-08T02:30:45.343Z"
   },
   {
    "duration": 27,
    "start_time": "2024-11-08T02:30:45.350Z"
   },
   {
    "duration": 40,
    "start_time": "2024-11-08T02:30:45.381Z"
   },
   {
    "duration": 4,
    "start_time": "2024-11-08T02:30:45.422Z"
   },
   {
    "duration": 4,
    "start_time": "2024-11-08T02:30:45.428Z"
   },
   {
    "duration": 4,
    "start_time": "2024-11-08T02:30:45.433Z"
   },
   {
    "duration": 3,
    "start_time": "2024-11-08T02:30:45.439Z"
   },
   {
    "duration": 815,
    "start_time": "2024-11-08T02:30:45.444Z"
   },
   {
    "duration": 4,
    "start_time": "2024-11-08T02:30:46.261Z"
   },
   {
    "duration": 704,
    "start_time": "2024-11-08T02:30:46.267Z"
   },
   {
    "duration": 12,
    "start_time": "2024-11-08T02:30:46.973Z"
   },
   {
    "duration": 4,
    "start_time": "2024-11-08T02:30:46.986Z"
   },
   {
    "duration": 23,
    "start_time": "2024-11-08T02:30:46.992Z"
   },
   {
    "duration": 7,
    "start_time": "2024-11-08T02:30:47.017Z"
   },
   {
    "duration": 5,
    "start_time": "2024-11-08T02:30:47.025Z"
   },
   {
    "duration": 4,
    "start_time": "2024-11-08T02:30:47.032Z"
   },
   {
    "duration": 7,
    "start_time": "2024-11-08T02:30:47.038Z"
   },
   {
    "duration": 11,
    "start_time": "2024-11-08T02:30:47.046Z"
   },
   {
    "duration": 16,
    "start_time": "2024-11-08T02:30:47.059Z"
   },
   {
    "duration": 4,
    "start_time": "2024-11-08T02:30:47.113Z"
   },
   {
    "duration": 9,
    "start_time": "2024-11-08T02:30:47.119Z"
   },
   {
    "duration": 13,
    "start_time": "2024-11-08T02:30:47.130Z"
   },
   {
    "duration": 10,
    "start_time": "2024-11-08T02:30:47.144Z"
   },
   {
    "duration": 91,
    "start_time": "2024-11-08T02:30:47.155Z"
   },
   {
    "duration": 67,
    "start_time": "2024-11-08T02:30:47.247Z"
   },
   {
    "duration": 6,
    "start_time": "2024-11-08T02:30:47.316Z"
   },
   {
    "duration": 5,
    "start_time": "2024-11-08T02:30:47.324Z"
   },
   {
    "duration": 8,
    "start_time": "2024-11-08T02:30:47.330Z"
   },
   {
    "duration": 222,
    "start_time": "2024-11-08T02:30:47.341Z"
   },
   {
    "duration": 136,
    "start_time": "2024-11-08T02:30:47.569Z"
   },
   {
    "duration": 227,
    "start_time": "2024-11-08T02:30:47.707Z"
   },
   {
    "duration": 4,
    "start_time": "2024-11-08T02:30:47.936Z"
   },
   {
    "duration": 138,
    "start_time": "2024-11-08T02:30:47.941Z"
   },
   {
    "duration": 7,
    "start_time": "2024-11-08T02:30:48.081Z"
   },
   {
    "duration": 26,
    "start_time": "2024-11-08T02:30:48.090Z"
   },
   {
    "duration": 1314,
    "start_time": "2024-11-08T02:30:48.118Z"
   },
   {
    "duration": 7,
    "start_time": "2024-11-08T02:30:49.435Z"
   },
   {
    "duration": 180,
    "start_time": "2024-11-08T02:30:49.443Z"
   },
   {
    "duration": 6,
    "start_time": "2024-11-08T02:30:49.625Z"
   },
   {
    "duration": 1313,
    "start_time": "2024-11-08T02:30:49.633Z"
   },
   {
    "duration": 6,
    "start_time": "2024-11-08T02:30:50.949Z"
   },
   {
    "duration": 260,
    "start_time": "2024-11-08T02:30:50.957Z"
   },
   {
    "duration": 249,
    "start_time": "2024-11-08T02:30:51.219Z"
   },
   {
    "duration": 10,
    "start_time": "2024-11-08T02:30:51.470Z"
   },
   {
    "duration": 131,
    "start_time": "2024-11-08T02:30:51.482Z"
   },
   {
    "duration": 15,
    "start_time": "2024-11-08T02:30:51.615Z"
   },
   {
    "duration": 226,
    "start_time": "2024-11-08T02:30:51.632Z"
   },
   {
    "duration": 205,
    "start_time": "2024-11-08T02:31:21.195Z"
   },
   {
    "duration": 503,
    "start_time": "2024-11-08T02:33:44.393Z"
   },
   {
    "duration": 153,
    "start_time": "2024-11-08T02:33:44.898Z"
   },
   {
    "duration": 937,
    "start_time": "2024-11-08T02:33:45.052Z"
   },
   {
    "duration": 23,
    "start_time": "2024-11-08T02:33:45.992Z"
   },
   {
    "duration": 12,
    "start_time": "2024-11-08T02:33:46.017Z"
   },
   {
    "duration": 122,
    "start_time": "2024-11-08T02:33:46.031Z"
   },
   {
    "duration": 14,
    "start_time": "2024-11-08T02:33:46.154Z"
   },
   {
    "duration": 110,
    "start_time": "2024-11-08T02:33:46.169Z"
   },
   {
    "duration": 102,
    "start_time": "2024-11-08T02:33:46.281Z"
   },
   {
    "duration": 52,
    "start_time": "2024-11-08T02:33:46.386Z"
   },
   {
    "duration": 11,
    "start_time": "2024-11-08T02:33:46.440Z"
   },
   {
    "duration": 4,
    "start_time": "2024-11-08T02:33:46.453Z"
   },
   {
    "duration": 24,
    "start_time": "2024-11-08T02:33:46.459Z"
   },
   {
    "duration": 34,
    "start_time": "2024-11-08T02:33:46.484Z"
   },
   {
    "duration": 4,
    "start_time": "2024-11-08T02:33:46.520Z"
   },
   {
    "duration": 3,
    "start_time": "2024-11-08T02:33:46.526Z"
   },
   {
    "duration": 4,
    "start_time": "2024-11-08T02:33:46.531Z"
   },
   {
    "duration": 4,
    "start_time": "2024-11-08T02:33:46.536Z"
   },
   {
    "duration": 816,
    "start_time": "2024-11-08T02:33:46.541Z"
   },
   {
    "duration": 5,
    "start_time": "2024-11-08T02:33:47.359Z"
   },
   {
    "duration": 713,
    "start_time": "2024-11-08T02:33:47.366Z"
   },
   {
    "duration": 11,
    "start_time": "2024-11-08T02:33:48.081Z"
   },
   {
    "duration": 19,
    "start_time": "2024-11-08T02:33:48.094Z"
   },
   {
    "duration": 7,
    "start_time": "2024-11-08T02:33:48.115Z"
   },
   {
    "duration": 8,
    "start_time": "2024-11-08T02:33:48.124Z"
   },
   {
    "duration": 4,
    "start_time": "2024-11-08T02:33:48.133Z"
   },
   {
    "duration": 6,
    "start_time": "2024-11-08T02:33:48.139Z"
   },
   {
    "duration": 7,
    "start_time": "2024-11-08T02:33:48.150Z"
   },
   {
    "duration": 11,
    "start_time": "2024-11-08T02:33:48.158Z"
   },
   {
    "duration": 53,
    "start_time": "2024-11-08T02:33:48.171Z"
   },
   {
    "duration": 4,
    "start_time": "2024-11-08T02:33:48.226Z"
   },
   {
    "duration": 9,
    "start_time": "2024-11-08T02:33:48.232Z"
   },
   {
    "duration": 12,
    "start_time": "2024-11-08T02:33:48.242Z"
   },
   {
    "duration": 9,
    "start_time": "2024-11-08T02:33:48.256Z"
   },
   {
    "duration": 98,
    "start_time": "2024-11-08T02:33:48.266Z"
   },
   {
    "duration": 64,
    "start_time": "2024-11-08T02:33:48.366Z"
   },
   {
    "duration": 7,
    "start_time": "2024-11-08T02:33:48.432Z"
   },
   {
    "duration": 5,
    "start_time": "2024-11-08T02:33:48.441Z"
   },
   {
    "duration": 6,
    "start_time": "2024-11-08T02:33:48.448Z"
   },
   {
    "duration": 214,
    "start_time": "2024-11-08T02:33:48.456Z"
   },
   {
    "duration": 139,
    "start_time": "2024-11-08T02:33:48.672Z"
   },
   {
    "duration": 217,
    "start_time": "2024-11-08T02:33:48.813Z"
   },
   {
    "duration": 3,
    "start_time": "2024-11-08T02:33:49.032Z"
   },
   {
    "duration": 134,
    "start_time": "2024-11-08T02:33:49.037Z"
   },
   {
    "duration": 7,
    "start_time": "2024-11-08T02:33:49.173Z"
   },
   {
    "duration": 8,
    "start_time": "2024-11-08T02:33:49.182Z"
   },
   {
    "duration": 1359,
    "start_time": "2024-11-08T02:33:49.193Z"
   },
   {
    "duration": 9,
    "start_time": "2024-11-08T02:33:50.554Z"
   },
   {
    "duration": 184,
    "start_time": "2024-11-08T02:33:50.565Z"
   },
   {
    "duration": 6,
    "start_time": "2024-11-08T02:33:50.751Z"
   },
   {
    "duration": 1324,
    "start_time": "2024-11-08T02:33:50.759Z"
   },
   {
    "duration": 9,
    "start_time": "2024-11-08T02:33:52.085Z"
   },
   {
    "duration": 357,
    "start_time": "2024-11-08T02:33:52.096Z"
   },
   {
    "duration": 300,
    "start_time": "2024-11-08T02:33:52.456Z"
   },
   {
    "duration": 10,
    "start_time": "2024-11-08T02:33:52.757Z"
   },
   {
    "duration": 133,
    "start_time": "2024-11-08T02:33:52.769Z"
   },
   {
    "duration": 22,
    "start_time": "2024-11-08T02:33:52.903Z"
   },
   {
    "duration": 244,
    "start_time": "2024-11-08T02:33:52.927Z"
   },
   {
    "duration": 470,
    "start_time": "2024-11-08T05:28:41.873Z"
   },
   {
    "duration": 142,
    "start_time": "2024-11-08T05:28:42.345Z"
   },
   {
    "duration": 742,
    "start_time": "2024-11-08T05:28:42.489Z"
   },
   {
    "duration": 14,
    "start_time": "2024-11-08T05:28:43.235Z"
   },
   {
    "duration": 12,
    "start_time": "2024-11-08T05:28:43.251Z"
   },
   {
    "duration": 110,
    "start_time": "2024-11-08T05:28:43.265Z"
   },
   {
    "duration": 12,
    "start_time": "2024-11-08T05:28:43.377Z"
   },
   {
    "duration": 113,
    "start_time": "2024-11-08T05:28:43.391Z"
   },
   {
    "duration": 83,
    "start_time": "2024-11-08T05:28:43.506Z"
   },
   {
    "duration": 55,
    "start_time": "2024-11-08T05:28:43.592Z"
   },
   {
    "duration": 11,
    "start_time": "2024-11-08T05:28:43.649Z"
   },
   {
    "duration": 5,
    "start_time": "2024-11-08T05:28:43.662Z"
   },
   {
    "duration": 42,
    "start_time": "2024-11-08T05:28:43.669Z"
   },
   {
    "duration": 11,
    "start_time": "2024-11-08T05:28:43.713Z"
   },
   {
    "duration": 4,
    "start_time": "2024-11-08T05:28:43.725Z"
   },
   {
    "duration": 4,
    "start_time": "2024-11-08T05:28:43.730Z"
   },
   {
    "duration": 3,
    "start_time": "2024-11-08T05:28:43.736Z"
   },
   {
    "duration": 3,
    "start_time": "2024-11-08T05:28:43.741Z"
   },
   {
    "duration": 778,
    "start_time": "2024-11-08T05:28:43.745Z"
   },
   {
    "duration": 5,
    "start_time": "2024-11-08T05:28:44.525Z"
   },
   {
    "duration": 687,
    "start_time": "2024-11-08T05:28:44.532Z"
   },
   {
    "duration": 11,
    "start_time": "2024-11-08T05:28:45.220Z"
   },
   {
    "duration": 4,
    "start_time": "2024-11-08T05:28:45.233Z"
   },
   {
    "duration": 7,
    "start_time": "2024-11-08T05:28:45.239Z"
   },
   {
    "duration": 7,
    "start_time": "2024-11-08T05:28:45.247Z"
   },
   {
    "duration": 6,
    "start_time": "2024-11-08T05:28:45.255Z"
   },
   {
    "duration": 4,
    "start_time": "2024-11-08T05:28:45.262Z"
   },
   {
    "duration": 40,
    "start_time": "2024-11-08T05:28:45.270Z"
   },
   {
    "duration": 10,
    "start_time": "2024-11-08T05:28:45.311Z"
   },
   {
    "duration": 15,
    "start_time": "2024-11-08T05:28:45.323Z"
   },
   {
    "duration": 4,
    "start_time": "2024-11-08T05:28:45.340Z"
   },
   {
    "duration": 8,
    "start_time": "2024-11-08T05:28:45.347Z"
   },
   {
    "duration": 12,
    "start_time": "2024-11-08T05:28:45.357Z"
   },
   {
    "duration": 45,
    "start_time": "2024-11-08T05:28:45.371Z"
   },
   {
    "duration": 61,
    "start_time": "2024-11-08T05:28:45.418Z"
   },
   {
    "duration": 74,
    "start_time": "2024-11-08T05:28:45.481Z"
   },
   {
    "duration": 6,
    "start_time": "2024-11-08T05:28:45.557Z"
   },
   {
    "duration": 7,
    "start_time": "2024-11-08T05:28:45.565Z"
   },
   {
    "duration": 7,
    "start_time": "2024-11-08T05:28:45.573Z"
   },
   {
    "duration": 209,
    "start_time": "2024-11-08T05:28:45.582Z"
   },
   {
    "duration": 135,
    "start_time": "2024-11-08T05:28:45.793Z"
   },
   {
    "duration": 216,
    "start_time": "2024-11-08T05:28:45.930Z"
   },
   {
    "duration": 3,
    "start_time": "2024-11-08T05:28:46.148Z"
   },
   {
    "duration": 131,
    "start_time": "2024-11-08T05:28:46.153Z"
   },
   {
    "duration": 6,
    "start_time": "2024-11-08T05:28:46.286Z"
   },
   {
    "duration": 20,
    "start_time": "2024-11-08T05:28:46.294Z"
   },
   {
    "duration": 1328,
    "start_time": "2024-11-08T05:28:46.315Z"
   },
   {
    "duration": 7,
    "start_time": "2024-11-08T05:28:47.645Z"
   },
   {
    "duration": 192,
    "start_time": "2024-11-08T05:28:47.654Z"
   },
   {
    "duration": 9,
    "start_time": "2024-11-08T05:28:47.847Z"
   },
   {
    "duration": 1252,
    "start_time": "2024-11-08T05:28:47.857Z"
   },
   {
    "duration": 7,
    "start_time": "2024-11-08T05:28:49.111Z"
   },
   {
    "duration": 238,
    "start_time": "2024-11-08T05:28:49.120Z"
   },
   {
    "duration": 250,
    "start_time": "2024-11-08T05:28:49.359Z"
   },
   {
    "duration": 10,
    "start_time": "2024-11-08T05:28:49.610Z"
   },
   {
    "duration": 127,
    "start_time": "2024-11-08T05:28:49.621Z"
   },
   {
    "duration": 17,
    "start_time": "2024-11-08T05:28:49.750Z"
   },
   {
    "duration": 218,
    "start_time": "2024-11-08T05:28:49.768Z"
   },
   {
    "duration": 2414,
    "start_time": "2025-04-21T21:24:21.407Z"
   },
   {
    "duration": 229,
    "start_time": "2025-04-21T21:24:23.824Z"
   },
   {
    "duration": 1180,
    "start_time": "2025-04-21T21:24:24.055Z"
   },
   {
    "duration": 16,
    "start_time": "2025-04-21T21:24:25.238Z"
   },
   {
    "duration": 25,
    "start_time": "2025-04-21T21:24:25.256Z"
   },
   {
    "duration": 102,
    "start_time": "2025-04-21T21:24:25.283Z"
   },
   {
    "duration": 18,
    "start_time": "2025-04-21T21:24:25.387Z"
   },
   {
    "duration": 109,
    "start_time": "2025-04-21T21:24:25.407Z"
   },
   {
    "duration": 94,
    "start_time": "2025-04-21T21:24:25.518Z"
   },
   {
    "duration": 55,
    "start_time": "2025-04-21T21:24:25.615Z"
   },
   {
    "duration": 12,
    "start_time": "2025-04-21T21:24:25.672Z"
   },
   {
    "duration": 6,
    "start_time": "2025-04-21T21:24:25.686Z"
   },
   {
    "duration": 26,
    "start_time": "2025-04-21T21:24:25.695Z"
   },
   {
    "duration": 14,
    "start_time": "2025-04-21T21:24:25.722Z"
   },
   {
    "duration": 5,
    "start_time": "2025-04-21T21:24:25.740Z"
   },
   {
    "duration": 21,
    "start_time": "2025-04-21T21:24:25.749Z"
   },
   {
    "duration": 4,
    "start_time": "2025-04-21T21:24:25.772Z"
   },
   {
    "duration": 4,
    "start_time": "2025-04-21T21:24:25.777Z"
   },
   {
    "duration": 861,
    "start_time": "2025-04-21T21:24:25.783Z"
   },
   {
    "duration": 4,
    "start_time": "2025-04-21T21:24:26.646Z"
   },
   {
    "duration": 726,
    "start_time": "2025-04-21T21:24:26.652Z"
   },
   {
    "duration": 12,
    "start_time": "2025-04-21T21:24:27.380Z"
   },
   {
    "duration": 5,
    "start_time": "2025-04-21T21:24:27.394Z"
   },
   {
    "duration": 11,
    "start_time": "2025-04-21T21:24:27.403Z"
   },
   {
    "duration": 10,
    "start_time": "2025-04-21T21:24:27.415Z"
   },
   {
    "duration": 5,
    "start_time": "2025-04-21T21:24:27.427Z"
   },
   {
    "duration": 40,
    "start_time": "2025-04-21T21:24:27.434Z"
   },
   {
    "duration": 9,
    "start_time": "2025-04-21T21:24:27.479Z"
   },
   {
    "duration": 11,
    "start_time": "2025-04-21T21:24:27.489Z"
   },
   {
    "duration": 16,
    "start_time": "2025-04-21T21:24:27.502Z"
   },
   {
    "duration": 5,
    "start_time": "2025-04-21T21:24:27.519Z"
   },
   {
    "duration": 10,
    "start_time": "2025-04-21T21:24:27.525Z"
   },
   {
    "duration": 41,
    "start_time": "2025-04-21T21:24:27.536Z"
   },
   {
    "duration": 9,
    "start_time": "2025-04-21T21:24:27.579Z"
   },
   {
    "duration": 79,
    "start_time": "2025-04-21T21:24:27.591Z"
   },
   {
    "duration": 57,
    "start_time": "2025-04-21T21:24:27.674Z"
   },
   {
    "duration": 6,
    "start_time": "2025-04-21T21:24:27.733Z"
   },
   {
    "duration": 6,
    "start_time": "2025-04-21T21:24:27.741Z"
   },
   {
    "duration": 7,
    "start_time": "2025-04-21T21:24:27.771Z"
   },
   {
    "duration": 197,
    "start_time": "2025-04-21T21:24:27.779Z"
   },
   {
    "duration": 136,
    "start_time": "2025-04-21T21:24:27.979Z"
   },
   {
    "duration": 273,
    "start_time": "2025-04-21T21:24:28.117Z"
   },
   {
    "duration": 2,
    "start_time": "2025-04-21T21:24:28.392Z"
   },
   {
    "duration": 139,
    "start_time": "2025-04-21T21:24:28.396Z"
   },
   {
    "duration": 9,
    "start_time": "2025-04-21T21:24:28.537Z"
   },
   {
    "duration": 8,
    "start_time": "2025-04-21T21:24:28.548Z"
   },
   {
    "duration": 1256,
    "start_time": "2025-04-21T21:24:28.570Z"
   },
   {
    "duration": 7,
    "start_time": "2025-04-21T21:24:29.828Z"
   },
   {
    "duration": 199,
    "start_time": "2025-04-21T21:24:29.837Z"
   },
   {
    "duration": 7,
    "start_time": "2025-04-21T21:24:30.038Z"
   },
   {
    "duration": 1259,
    "start_time": "2025-04-21T21:24:30.047Z"
   },
   {
    "duration": 7,
    "start_time": "2025-04-21T21:24:31.308Z"
   },
   {
    "duration": 290,
    "start_time": "2025-04-21T21:24:31.317Z"
   },
   {
    "duration": 288,
    "start_time": "2025-04-21T21:24:31.610Z"
   },
   {
    "duration": 11,
    "start_time": "2025-04-21T21:24:31.900Z"
   },
   {
    "duration": 125,
    "start_time": "2025-04-21T21:24:31.914Z"
   },
   {
    "duration": 19,
    "start_time": "2025-04-21T21:24:32.040Z"
   },
   {
    "duration": 207,
    "start_time": "2025-04-21T21:24:32.060Z"
   }
  ],
  "kernelspec": {
   "display_name": "base",
   "language": "python",
   "name": "python3"
  },
  "language_info": {
   "codemirror_mode": {
    "name": "ipython",
    "version": 3
   },
   "file_extension": ".py",
   "mimetype": "text/x-python",
   "name": "python",
   "nbconvert_exporter": "python",
   "pygments_lexer": "ipython3",
   "version": "3.12.7"
  },
  "toc": {
   "base_numbering": 1,
   "nav_menu": {},
   "number_sections": true,
   "sideBar": true,
   "skip_h1_title": true,
   "title_cell": "Table of Contents",
   "title_sidebar": "Contents",
   "toc_cell": false,
   "toc_position": {},
   "toc_section_display": true,
   "toc_window_display": false
  }
 },
 "nbformat": 4,
 "nbformat_minor": 5
}
