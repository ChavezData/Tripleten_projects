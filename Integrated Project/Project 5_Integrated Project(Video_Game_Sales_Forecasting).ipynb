{
 "cells": [
  {
   "cell_type": "markdown",
   "metadata": {},
   "source": [
    "# Online Games Analysis for 2017"
   ]
  },
  {
   "cell_type": "markdown",
   "metadata": {},
   "source": [
    "The goal of this project is to analyze historical data in game sales to identify the patterns that determine whether a game can be said to be successful or not."
   ]
  },
  {
   "cell_type": "code",
   "execution_count": 1,
   "metadata": {},
   "outputs": [],
   "source": [
    "import pandas as pd\n",
    "import numpy as np \n",
    "from math import factorial\n",
    "from scipy import stats as st\n",
    "\n",
    "from matplotlib import pyplot as plt\n",
    "import seaborn as sns"
   ]
  },
  {
   "cell_type": "code",
   "execution_count": 2,
   "metadata": {},
   "outputs": [],
   "source": [
    "try:\n",
    "    df_games = pd.read_csv(\"/datasets/games.csv\")\n",
    "except FileNotFoundError:\n",
    "    df_games = pd.read_csv('https://practicum-content.s3.us-west-1.amazonaws.com/datasets/games.csv')"
   ]
  },
  {
   "cell_type": "markdown",
   "metadata": {},
   "source": [
    "displayed the top info of the dataset"
   ]
  },
  {
   "cell_type": "code",
   "execution_count": 3,
   "metadata": {},
   "outputs": [
    {
     "data": {
      "text/html": [
       "<div>\n",
       "<style scoped>\n",
       "    .dataframe tbody tr th:only-of-type {\n",
       "        vertical-align: middle;\n",
       "    }\n",
       "\n",
       "    .dataframe tbody tr th {\n",
       "        vertical-align: top;\n",
       "    }\n",
       "\n",
       "    .dataframe thead th {\n",
       "        text-align: right;\n",
       "    }\n",
       "</style>\n",
       "<table border=\"1\" class=\"dataframe\">\n",
       "  <thead>\n",
       "    <tr style=\"text-align: right;\">\n",
       "      <th></th>\n",
       "      <th>Name</th>\n",
       "      <th>Platform</th>\n",
       "      <th>Year_of_Release</th>\n",
       "      <th>Genre</th>\n",
       "      <th>NA_sales</th>\n",
       "      <th>EU_sales</th>\n",
       "      <th>JP_sales</th>\n",
       "      <th>Other_sales</th>\n",
       "      <th>Critic_Score</th>\n",
       "      <th>User_Score</th>\n",
       "      <th>Rating</th>\n",
       "    </tr>\n",
       "  </thead>\n",
       "  <tbody>\n",
       "    <tr>\n",
       "      <th>0</th>\n",
       "      <td>Wii Sports</td>\n",
       "      <td>Wii</td>\n",
       "      <td>2006.0</td>\n",
       "      <td>Sports</td>\n",
       "      <td>41.36</td>\n",
       "      <td>28.96</td>\n",
       "      <td>3.77</td>\n",
       "      <td>8.45</td>\n",
       "      <td>76.0</td>\n",
       "      <td>8</td>\n",
       "      <td>E</td>\n",
       "    </tr>\n",
       "    <tr>\n",
       "      <th>1</th>\n",
       "      <td>Super Mario Bros.</td>\n",
       "      <td>NES</td>\n",
       "      <td>1985.0</td>\n",
       "      <td>Platform</td>\n",
       "      <td>29.08</td>\n",
       "      <td>3.58</td>\n",
       "      <td>6.81</td>\n",
       "      <td>0.77</td>\n",
       "      <td>NaN</td>\n",
       "      <td>NaN</td>\n",
       "      <td>NaN</td>\n",
       "    </tr>\n",
       "    <tr>\n",
       "      <th>2</th>\n",
       "      <td>Mario Kart Wii</td>\n",
       "      <td>Wii</td>\n",
       "      <td>2008.0</td>\n",
       "      <td>Racing</td>\n",
       "      <td>15.68</td>\n",
       "      <td>12.76</td>\n",
       "      <td>3.79</td>\n",
       "      <td>3.29</td>\n",
       "      <td>82.0</td>\n",
       "      <td>8.3</td>\n",
       "      <td>E</td>\n",
       "    </tr>\n",
       "    <tr>\n",
       "      <th>3</th>\n",
       "      <td>Wii Sports Resort</td>\n",
       "      <td>Wii</td>\n",
       "      <td>2009.0</td>\n",
       "      <td>Sports</td>\n",
       "      <td>15.61</td>\n",
       "      <td>10.93</td>\n",
       "      <td>3.28</td>\n",
       "      <td>2.95</td>\n",
       "      <td>80.0</td>\n",
       "      <td>8</td>\n",
       "      <td>E</td>\n",
       "    </tr>\n",
       "    <tr>\n",
       "      <th>4</th>\n",
       "      <td>Pokemon Red/Pokemon Blue</td>\n",
       "      <td>GB</td>\n",
       "      <td>1996.0</td>\n",
       "      <td>Role-Playing</td>\n",
       "      <td>11.27</td>\n",
       "      <td>8.89</td>\n",
       "      <td>10.22</td>\n",
       "      <td>1.00</td>\n",
       "      <td>NaN</td>\n",
       "      <td>NaN</td>\n",
       "      <td>NaN</td>\n",
       "    </tr>\n",
       "  </tbody>\n",
       "</table>\n",
       "</div>"
      ],
      "text/plain": [
       "                       Name Platform  Year_of_Release         Genre  NA_sales  \\\n",
       "0                Wii Sports      Wii           2006.0        Sports     41.36   \n",
       "1         Super Mario Bros.      NES           1985.0      Platform     29.08   \n",
       "2            Mario Kart Wii      Wii           2008.0        Racing     15.68   \n",
       "3         Wii Sports Resort      Wii           2009.0        Sports     15.61   \n",
       "4  Pokemon Red/Pokemon Blue       GB           1996.0  Role-Playing     11.27   \n",
       "\n",
       "   EU_sales  JP_sales  Other_sales  Critic_Score User_Score Rating  \n",
       "0     28.96      3.77         8.45          76.0          8      E  \n",
       "1      3.58      6.81         0.77           NaN        NaN    NaN  \n",
       "2     12.76      3.79         3.29          82.0        8.3      E  \n",
       "3     10.93      3.28         2.95          80.0          8      E  \n",
       "4      8.89     10.22         1.00           NaN        NaN    NaN  "
      ]
     },
     "metadata": {},
     "output_type": "display_data"
    },
    {
     "name": "stdout",
     "output_type": "stream",
     "text": [
      "<class 'pandas.core.frame.DataFrame'>\n",
      "RangeIndex: 16715 entries, 0 to 16714\n",
      "Data columns (total 11 columns):\n",
      " #   Column           Non-Null Count  Dtype  \n",
      "---  ------           --------------  -----  \n",
      " 0   Name             16713 non-null  object \n",
      " 1   Platform         16715 non-null  object \n",
      " 2   Year_of_Release  16446 non-null  float64\n",
      " 3   Genre            16713 non-null  object \n",
      " 4   NA_sales         16715 non-null  float64\n",
      " 5   EU_sales         16715 non-null  float64\n",
      " 6   JP_sales         16715 non-null  float64\n",
      " 7   Other_sales      16715 non-null  float64\n",
      " 8   Critic_Score     8137 non-null   float64\n",
      " 9   User_Score       10014 non-null  object \n",
      " 10  Rating           9949 non-null   object \n",
      "dtypes: float64(6), object(5)\n",
      "memory usage: 1.4+ MB\n"
     ]
    },
    {
     "data": {
      "text/plain": [
       "None"
      ]
     },
     "metadata": {},
     "output_type": "display_data"
    }
   ],
   "source": [
    "display(df_games.head())\n",
    "display(df_games.info())"
   ]
  },
  {
   "cell_type": "markdown",
   "metadata": {},
   "source": [
    "From the first look at the dataset there are some missing values that will be filled in."
   ]
  },
  {
   "cell_type": "markdown",
   "metadata": {},
   "source": [
    "Columns have been changed to lowercase letters and the types have been formatted to their proper places in the cell below."
   ]
  },
  {
   "cell_type": "code",
   "execution_count": 4,
   "metadata": {},
   "outputs": [],
   "source": [
    "df_games.columns = df_games.columns.str.lower()\n",
    "\n",
    "df_games = df_games.loc[(df_games['year_of_release'] != None) & (df_games['year_of_release'] >= 2000)].reset_index(drop=True)\n",
    "\n",
    "df_games.loc[df_games['user_score'] == 'tbd', 'user_score'] = None\n",
    "\n",
    "df_games['user_score'] = df_games['user_score'].astype('float64')*10\n",
    "\n",
    "df_games.loc[df_games['rating'] == 'EC', 'rating'] = 'E'\n",
    "df_games.loc[df_games['rating'] == 'K-A', 'rating'] = 'M'\n",
    "df_games.loc[df_games['rating'] == 'AO', 'rating'] = 'M'\n",
    "df_games.loc[df_games['rating'] == 'RP', 'rating'] = 'E10+'\n",
    "\n",
    "df_games['total_sales'] = df_games['na_sales'] + df_games['eu_sales'] + df_games['jp_sales'] + df_games['other_sales']"
   ]
  },
  {
   "cell_type": "code",
   "execution_count": 5,
   "metadata": {},
   "outputs": [],
   "source": [
    "df_games['year_of_release'] = df_games['year_of_release'].astype(int)"
   ]
  },
  {
   "cell_type": "code",
   "execution_count": 6,
   "metadata": {
    "scrolled": true
   },
   "outputs": [
    {
     "name": "stdout",
     "output_type": "stream",
     "text": [
      "<class 'pandas.core.frame.DataFrame'>\n",
      "RangeIndex: 14470 entries, 0 to 14469\n",
      "Data columns (total 12 columns):\n",
      " #   Column           Non-Null Count  Dtype  \n",
      "---  ------           --------------  -----  \n",
      " 0   name             14470 non-null  object \n",
      " 1   platform         14470 non-null  object \n",
      " 2   year_of_release  14470 non-null  int64  \n",
      " 3   genre            14470 non-null  object \n",
      " 4   na_sales         14470 non-null  float64\n",
      " 5   eu_sales         14470 non-null  float64\n",
      " 6   jp_sales         14470 non-null  float64\n",
      " 7   other_sales      14470 non-null  float64\n",
      " 8   critic_score     7887 non-null   float64\n",
      " 9   user_score       7371 non-null   float64\n",
      " 10  rating           9663 non-null   object \n",
      " 11  total_sales      14470 non-null  float64\n",
      "dtypes: float64(7), int64(1), object(4)\n",
      "memory usage: 1.3+ MB\n"
     ]
    },
    {
     "data": {
      "text/plain": [
       "None"
      ]
     },
     "metadata": {},
     "output_type": "display_data"
    },
    {
     "data": {
      "text/html": [
       "<div>\n",
       "<style scoped>\n",
       "    .dataframe tbody tr th:only-of-type {\n",
       "        vertical-align: middle;\n",
       "    }\n",
       "\n",
       "    .dataframe tbody tr th {\n",
       "        vertical-align: top;\n",
       "    }\n",
       "\n",
       "    .dataframe thead th {\n",
       "        text-align: right;\n",
       "    }\n",
       "</style>\n",
       "<table border=\"1\" class=\"dataframe\">\n",
       "  <thead>\n",
       "    <tr style=\"text-align: right;\">\n",
       "      <th></th>\n",
       "      <th>name</th>\n",
       "      <th>platform</th>\n",
       "      <th>year_of_release</th>\n",
       "      <th>genre</th>\n",
       "      <th>na_sales</th>\n",
       "      <th>eu_sales</th>\n",
       "      <th>jp_sales</th>\n",
       "      <th>other_sales</th>\n",
       "      <th>critic_score</th>\n",
       "      <th>user_score</th>\n",
       "      <th>rating</th>\n",
       "      <th>total_sales</th>\n",
       "    </tr>\n",
       "  </thead>\n",
       "  <tbody>\n",
       "    <tr>\n",
       "      <th>0</th>\n",
       "      <td>Wii Sports</td>\n",
       "      <td>Wii</td>\n",
       "      <td>2006</td>\n",
       "      <td>Sports</td>\n",
       "      <td>41.36</td>\n",
       "      <td>28.96</td>\n",
       "      <td>3.77</td>\n",
       "      <td>8.45</td>\n",
       "      <td>76.0</td>\n",
       "      <td>80.0</td>\n",
       "      <td>E</td>\n",
       "      <td>82.54</td>\n",
       "    </tr>\n",
       "    <tr>\n",
       "      <th>1</th>\n",
       "      <td>Mario Kart Wii</td>\n",
       "      <td>Wii</td>\n",
       "      <td>2008</td>\n",
       "      <td>Racing</td>\n",
       "      <td>15.68</td>\n",
       "      <td>12.76</td>\n",
       "      <td>3.79</td>\n",
       "      <td>3.29</td>\n",
       "      <td>82.0</td>\n",
       "      <td>83.0</td>\n",
       "      <td>E</td>\n",
       "      <td>35.52</td>\n",
       "    </tr>\n",
       "    <tr>\n",
       "      <th>2</th>\n",
       "      <td>Wii Sports Resort</td>\n",
       "      <td>Wii</td>\n",
       "      <td>2009</td>\n",
       "      <td>Sports</td>\n",
       "      <td>15.61</td>\n",
       "      <td>10.93</td>\n",
       "      <td>3.28</td>\n",
       "      <td>2.95</td>\n",
       "      <td>80.0</td>\n",
       "      <td>80.0</td>\n",
       "      <td>E</td>\n",
       "      <td>32.77</td>\n",
       "    </tr>\n",
       "    <tr>\n",
       "      <th>3</th>\n",
       "      <td>New Super Mario Bros.</td>\n",
       "      <td>DS</td>\n",
       "      <td>2006</td>\n",
       "      <td>Platform</td>\n",
       "      <td>11.28</td>\n",
       "      <td>9.14</td>\n",
       "      <td>6.50</td>\n",
       "      <td>2.88</td>\n",
       "      <td>89.0</td>\n",
       "      <td>85.0</td>\n",
       "      <td>E</td>\n",
       "      <td>29.80</td>\n",
       "    </tr>\n",
       "    <tr>\n",
       "      <th>4</th>\n",
       "      <td>Wii Play</td>\n",
       "      <td>Wii</td>\n",
       "      <td>2006</td>\n",
       "      <td>Misc</td>\n",
       "      <td>13.96</td>\n",
       "      <td>9.18</td>\n",
       "      <td>2.93</td>\n",
       "      <td>2.84</td>\n",
       "      <td>58.0</td>\n",
       "      <td>66.0</td>\n",
       "      <td>E</td>\n",
       "      <td>28.91</td>\n",
       "    </tr>\n",
       "  </tbody>\n",
       "</table>\n",
       "</div>"
      ],
      "text/plain": [
       "                    name platform  year_of_release     genre  na_sales  \\\n",
       "0             Wii Sports      Wii             2006    Sports     41.36   \n",
       "1         Mario Kart Wii      Wii             2008    Racing     15.68   \n",
       "2      Wii Sports Resort      Wii             2009    Sports     15.61   \n",
       "3  New Super Mario Bros.       DS             2006  Platform     11.28   \n",
       "4               Wii Play      Wii             2006      Misc     13.96   \n",
       "\n",
       "   eu_sales  jp_sales  other_sales  critic_score  user_score rating  \\\n",
       "0     28.96      3.77         8.45          76.0        80.0      E   \n",
       "1     12.76      3.79         3.29          82.0        83.0      E   \n",
       "2     10.93      3.28         2.95          80.0        80.0      E   \n",
       "3      9.14      6.50         2.88          89.0        85.0      E   \n",
       "4      9.18      2.93         2.84          58.0        66.0      E   \n",
       "\n",
       "   total_sales  \n",
       "0        82.54  \n",
       "1        35.52  \n",
       "2        32.77  \n",
       "3        29.80  \n",
       "4        28.91  "
      ]
     },
     "metadata": {},
     "output_type": "display_data"
    }
   ],
   "source": [
    "display(df_games.info())\n",
    "display(df_games.head())"
   ]
  },
  {
   "cell_type": "code",
   "execution_count": 7,
   "metadata": {},
   "outputs": [],
   "source": [
    "df_games['rating'] = df_games['rating'].fillna('Unknown')\n",
    "\n",
    "df_games.dropna(subset=['name', 'genre'], inplace=True)\n",
    "                                               "
   ]
  },
  {
   "cell_type": "markdown",
   "metadata": {},
   "source": [
    "Filled in missing value for 'rating' with Unknown."
   ]
  },
  {
   "cell_type": "code",
   "execution_count": 8,
   "metadata": {},
   "outputs": [
    {
     "data": {
      "image/png": "[encoded data removed]",
      "text/plain": [
       "<Figure size 640x480 with 1 Axes>"
      ]
     },
     "metadata": {},
     "output_type": "display_data"
    }
   ],
   "source": [
    "yearly_sales = df_games.groupby('year_of_release')['total_sales'].sum()\n",
    "\n",
    "yearly_sales.plot(kind='bar')\n",
    "plt.xlabel('Year of Release')\n",
    "plt.ylabel('Total Sales')\n",
    "plt.title('Distribution of Game Sales by Year')\n",
    "plt.show()"
   ]
  },
  {
   "cell_type": "markdown",
   "metadata": {},
   "source": [
    "From what this bar graph above shows is that from the year 2000 the sales have gone up to its highest in 2008 and then started decreasing to the year 2016."
   ]
  },
  {
   "cell_type": "code",
   "execution_count": 9,
   "metadata": {},
   "outputs": [
    {
     "data": {
      "image/png": "[encoded data removed]",
      "text/plain": [
       "<Figure size 640x480 with 1 Axes>"
      ]
     },
     "metadata": {},
     "output_type": "display_data"
    }
   ],
   "source": [
    "platform_medians = df_games.groupby('platform')['total_sales'].median().sort_values()\n",
    "\n",
    "df_games['platform'] = pd.Categorical(df_games['platform'], categories=platform_medians.index, ordered=True)\n",
    "\n",
    "df_games.boxplot(column='total_sales', by='platform')\n",
    "plt.xticks(rotation=45)\n",
    "plt.ylim(0, 3)\n",
    "plt.show()"
   ]
  },
  {
   "cell_type": "markdown",
   "metadata": {},
   "source": [
    "Based on this boxplot above, the platform that had the most global sales of games was Gameboy and the platform with the least is PS5."
   ]
  },
  {
   "cell_type": "code",
   "execution_count": 10,
   "metadata": {},
   "outputs": [
    {
     "data": {
      "image/png": "[encoded data removed]",
      "text/plain": [
       "<Figure size 640x480 with 1 Axes>"
      ]
     },
     "metadata": {},
     "output_type": "display_data"
    }
   ],
   "source": [
    "platform_sales = df_games.groupby('platform')['total_sales'].sum()\n",
    "\n",
    "platform_sales.plot(kind='bar')\n",
    "plt.xlabel('Platform')\n",
    "plt.ylabel('Total Sales')\n",
    "plt.title('Distribution of Total Sales by Platform')\n",
    "plt.show()"
   ]
  },
  {
   "cell_type": "markdown",
   "metadata": {},
   "source": [
    "On the graph above it shows that PS2 had the most total sales and the least with no sales at all is a handheld game console called WonderSwan."
   ]
  },
  {
   "cell_type": "code",
   "execution_count": 11,
   "metadata": {},
   "outputs": [
    {
     "name": "stdout",
     "output_type": "stream",
     "text": [
      "3.6363636363636362\n"
     ]
    }
   ],
   "source": [
    "df_games = df_games[(df_games['year_of_release'] >= 2013)]\n",
    "\n",
    "df_lifespan = df_games.groupby('platform')['year_of_release'].agg(['min', 'max'])\n",
    "df_lifespan['lifespan'] = df_lifespan['max'] - df_lifespan['min'] + 1\n",
    "\n",
    "average_lifespan = df_lifespan['lifespan'].mean()\n",
    "\n",
    "print(average_lifespan)"
   ]
  },
  {
   "cell_type": "markdown",
   "metadata": {},
   "source": [
    "In the cell above we have the lifespan of each platform since the year 2013."
   ]
  },
  {
   "cell_type": "code",
   "execution_count": 12,
   "metadata": {},
   "outputs": [
    {
     "name": "stdout",
     "output_type": "stream",
     "text": [
      "Correlation between user score and total sales: -0.002607813354598264\n",
      "Correlation between critic score and total sales: 0.3136995151027369\n"
     ]
    }
   ],
   "source": [
    "correlation_user = df_games['user_score'].corr(df_games['total_sales'])\n",
    "correlation_critic = df_games['critic_score'].corr(df_games['total_sales'])\n",
    "\n",
    "print(\"Correlation between user score and total sales:\", correlation_user)\n",
    "print(\"Correlation between critic score and total sales:\", correlation_critic)"
   ]
  },
  {
   "cell_type": "code",
   "execution_count": 13,
   "metadata": {},
   "outputs": [
    {
     "name": "stdout",
     "output_type": "stream",
     "text": [
      "              total_sales  user_score  critic_score\n",
      "total_sales      1.000000   -0.031957      0.406568\n",
      "user_score      -0.031957    1.000000      0.557654\n",
      "critic_score     0.406568    0.557654      1.000000\n"
     ]
    }
   ],
   "source": [
    "ps4_games = df_games[df_games['platform'] == 'PS4']\n",
    "print(ps4_games[['total_sales', 'user_score', 'critic_score']].corr())"
   ]
  },
  {
   "cell_type": "markdown",
   "metadata": {},
   "source": [
    "Above cell contains the calculated correlation with total sales with user score and critic score."
   ]
  },
  {
   "cell_type": "code",
   "execution_count": 14,
   "metadata": {},
   "outputs": [
    {
     "data": {
      "image/png": "[encoded data removed]",
      "text/plain": [
       "<Figure size 1000x600 with 1 Axes>"
      ]
     },
     "metadata": {},
     "output_type": "display_data"
    }
   ],
   "source": [
    "plt.figure(figsize=(10, 6))\n",
    "sns.scatterplot(data=ps4_games, x='user_score', y='total_sales', label='User Score')\n",
    "\n",
    "sns.scatterplot(data=ps4_games, x='critic_score', y='total_sales', label='Critic Score')\n",
    "plt.title('PS4 Critic Score and User Score vs Total Sales (PS4)')\n",
    "plt.xlabel('Score')\n",
    "plt.ylabel('Total Sales')\n",
    "plt.legend()\n",
    "plt.show()"
   ]
  },
  {
   "cell_type": "markdown",
   "metadata": {},
   "source": [
    "The above scatterplot shows the correlation between critic score and user score with total sales."
   ]
  },
  {
   "cell_type": "code",
   "execution_count": 15,
   "metadata": {},
   "outputs": [
    {
     "name": "stdout",
     "output_type": "stream",
     "text": [
      "           genre  total_sales\n",
      "0         Action       321.87\n",
      "1        Shooter       232.98\n",
      "2         Sports       150.65\n",
      "3   Role-Playing       145.89\n",
      "4           Misc        62.82\n",
      "5       Platform        42.63\n",
      "6         Racing        39.89\n",
      "7       Fighting        35.31\n",
      "8      Adventure        23.64\n",
      "9     Simulation        21.76\n",
      "10      Strategy        10.08\n",
      "11        Puzzle         3.17\n"
     ]
    }
   ],
   "source": [
    "genre_analysis = df_games.groupby('genre')['total_sales'].agg('sum').sort_values(ascending=False).reset_index()\n",
    "print(genre_analysis)"
   ]
  },
  {
   "cell_type": "code",
   "execution_count": 16,
   "metadata": {},
   "outputs": [
    {
     "data": {
      "image/png": "[encoded data removed]",
      "text/plain": [
       "<Figure size 640x480 with 1 Axes>"
      ]
     },
     "metadata": {},
     "output_type": "display_data"
    }
   ],
   "source": [
    "df_games.boxplot(column='total_sales', by='genre')\n",
    "plt.xlabel('Genre')\n",
    "plt.ylabel('Total sales')\n",
    "plt.title('Boxplot of Total Sales by Genre')\n",
    "plt.xticks(rotation=45)\n",
    "plt.ylim(0, 3)\n",
    "plt.show()"
   ]
  },
  {
   "cell_type": "markdown",
   "metadata": {},
   "source": [
    "Based on this analysis, the shooter genre is the highest in total sales with platform genre right under it and the lowest genre in total sales is adventure."
   ]
  },
  {
   "cell_type": "code",
   "execution_count": 17,
   "metadata": {},
   "outputs": [
    {
     "name": "stdout",
     "output_type": "stream",
     "text": [
      "Top 5 platforms for NA Sales: ['PS4', 'XOne', 'X360', 'PS3', '3DS']\n",
      "Top 5 platforms for JP Sales: ['3DS', 'PS3', 'PSV', 'PS4', 'WiiU']\n",
      "Top 5 platforms for EU Sales: ['PS4', 'PS3', 'XOne', 'X360', '3DS']\n"
     ]
    }
   ],
   "source": [
    "def get_top_5_platforms(df_games, region_column):\n",
    "    return df_games.groupby('platform')[region_column].sum().nlargest(5).index.tolist()\n",
    "\n",
    "top_na_platforms = get_top_5_platforms(df_games, 'na_sales')\n",
    "top_jp_platforms = get_top_5_platforms(df_games, 'jp_sales')\n",
    "top_eu_platforms = get_top_5_platforms(df_games, 'eu_sales')\n",
    "\n",
    "print(\"Top 5 platforms for NA Sales:\", top_na_platforms)\n",
    "print(\"Top 5 platforms for JP Sales:\", top_jp_platforms)\n",
    "print(\"Top 5 platforms for EU Sales:\", top_eu_platforms)"
   ]
  },
  {
   "cell_type": "markdown",
   "metadata": {},
   "source": [
    "This analysis shows that the top 5 platforms in North America are X360, PS2, Wii, PS3, and DS.\n",
    "The top 5 platforms for Japan sales are DS, PS2, 3DS, PS3, and PSP.\n",
    "The top 5 platforms for Europe sales are PS2, PS3, X360, Wii, and DS."
   ]
  },
  {
   "cell_type": "code",
   "execution_count": 18,
   "metadata": {},
   "outputs": [
    {
     "data": {
      "image/png": "[encoded data removed]",
      "text/plain": [
       "<Figure size 640x480 with 1 Axes>"
      ]
     },
     "metadata": {},
     "output_type": "display_data"
    }
   ],
   "source": [
    "grouped_data = df_games.groupby(['rating', 'platform'])[['na_sales', 'eu_sales', 'jp_sales']].sum()\n",
    "\n",
    "average_sales = grouped_data.groupby('rating').mean()\n",
    "\n",
    "average_sales.plot(kind='bar')\n",
    "plt.xlabel('ESRB Rating')\n",
    "plt.ylabel('Average Sales')\n",
    "plt.title('Average Sales by ESRB Rating')\n",
    "plt.show()\n",
    "\n",
    "na_sales_by_rating = grouped_data['na_sales'].groupby('rating').mean()\n",
    "eu_sales_by_rating = grouped_data['eu_sales'].groupby('rating').mean()\n",
    "jp_sales_by_rating = grouped_data['jp_sales'].groupby('rating').mean()\n"
   ]
  },
  {
   "cell_type": "markdown",
   "metadata": {},
   "source": [
    "The grouped data chart above shows that the games that are rated \"E\" have the most sales with \"M\" at second and \"T\" at third and that leaves \"E10+\" at last."
   ]
  },
  {
   "cell_type": "code",
   "execution_count": 19,
   "metadata": {},
   "outputs": [
    {
     "data": {
      "image/png": "[encoded data removed]",
      "text/plain": [
       "<Figure size 640x480 with 1 Axes>"
      ]
     },
     "metadata": {},
     "output_type": "display_data"
    }
   ],
   "source": [
    "genre_sales = df_games.groupby('genre')['na_sales'].sum()\n",
    "\n",
    "top_5_genres = genre_sales.sort_values(ascending=False).head(5)\n",
    "\n",
    "top_5_genres.plot(kind='bar')\n",
    "plt.xlabel('Genre')\n",
    "plt.ylabel('North America Sales')\n",
    "plt.title('Top 5 Genres in North America')\n",
    "plt.show()"
   ]
  },
  {
   "cell_type": "markdown",
   "metadata": {},
   "source": [
    "In the cell above these are the top 5 genres for North America with Action leading at the top and Role-playing at the bottom."
   ]
  },
  {
   "cell_type": "code",
   "execution_count": 20,
   "metadata": {},
   "outputs": [
    {
     "data": {
      "image/png": "[encoded data removed]",
      "text/plain": [
       "<Figure size 640x480 with 1 Axes>"
      ]
     },
     "metadata": {},
     "output_type": "display_data"
    }
   ],
   "source": [
    "top_5_genres = df_games.groupby('genre')['jp_sales'].sum().nlargest(5).index\n",
    "\n",
    "df_top_5 = df_games[df_games['genre'].isin(top_5_genres)]\n",
    "\n",
    "genre_jp_sales = df_top_5.groupby('genre')['jp_sales'].sum()\n",
    "\n",
    "genre_jp_sales.plot(kind='bar')\n",
    "plt.xlabel('Genre')\n",
    "plt.ylabel('JP Sales')\n",
    "plt.title('Top 5 Genres in Japan')\n",
    "plt.show()"
   ]
  },
  {
   "cell_type": "markdown",
   "metadata": {},
   "source": [
    "In the cell above these are the top 5 genres for Japan with Role-playing at the top and platform at the bottom."
   ]
  },
  {
   "cell_type": "code",
   "execution_count": 21,
   "metadata": {},
   "outputs": [
    {
     "data": {
      "image/png": "[encoded data removed]",
      "text/plain": [
       "<Figure size 1000x600 with 1 Axes>"
      ]
     },
     "metadata": {},
     "output_type": "display_data"
    }
   ],
   "source": [
    "top_5_genres = df_games.groupby('genre')['eu_sales'].sum().nlargest(5).index\n",
    "\n",
    "df_top_5 = df_games[df_games['genre'].isin(top_5_genres)]\n",
    "\n",
    "plt.figure(figsize=(10, 6))\n",
    "sns.barplot(x='genre', y='eu_sales', data=df_top_5, estimator=sum)\n",
    "plt.title('Top 5 Genres in Europe by Sales')\n",
    "plt.xlabel('Genre')\n",
    "plt.ylabel('EU Sales')\n",
    "plt.show()"
   ]
  },
  {
   "cell_type": "markdown",
   "metadata": {},
   "source": [
    "In the cell above these are the top 5 genres for Europe with Action leading at the top and Racing just below Misc to be last."
   ]
  },
  {
   "cell_type": "code",
   "execution_count": 22,
   "metadata": {},
   "outputs": [
    {
     "name": "stdout",
     "output_type": "stream",
     "text": [
      "XBox One user ratings variance: 189.65\n",
      "PC user ratings variance: 301.63\n"
     ]
    }
   ],
   "source": [
    "xone_user_ratings = df_games[df_games['platform'] == 'XOne']['user_score'].dropna()\n",
    "pc_user_ratings = df_games[df_games['platform'] == 'PC']['user_score'].dropna()\n",
    "\n",
    "print('XBox One user ratings variance:', np.var(xone_user_ratings).round(2))\n",
    "print('PC user ratings variance:', np.var(pc_user_ratings).round(2))"
   ]
  },
  {
   "cell_type": "markdown",
   "metadata": {},
   "source": [
    "A commonly used significance level is 0.05 (5%), which means you are willing to accept a 5% chance of incorrectly rejecting the null hypothesis."
   ]
  },
  {
   "cell_type": "code",
   "execution_count": 23,
   "metadata": {},
   "outputs": [
    {
     "name": "stdout",
     "output_type": "stream",
     "text": [
      "p-value: 0.1475959401343053\n",
      "We can't reject the null hypothesis\n"
     ]
    }
   ],
   "source": [
    "alpha = 0.05\n",
    "results_1 = st.ttest_ind(xone_user_ratings, pc_user_ratings, equal_var=False, nan_policy='omit')\n",
    "\n",
    "print('p-value:',results_1.pvalue) \n",
    "\n",
    "if results_1.pvalue < alpha:\n",
    "    print(\"We reject the null hypothesis\")\n",
    "else:\n",
    "    print(\"We can't reject the null hypothesis\")"
   ]
  },
  {
   "cell_type": "markdown",
   "metadata": {},
   "source": [
    "The null hypothesis cannot be rejected in this test so the average user ratings on xbox one and PC are the same."
   ]
  },
  {
   "cell_type": "code",
   "execution_count": 24,
   "metadata": {},
   "outputs": [
    {
     "name": "stdout",
     "output_type": "stream",
     "text": [
      "User ratings of Action genre variance: 176.48\n",
      "User ratings of Sports genre variance: 316.07\n"
     ]
    }
   ],
   "source": [
    "action_user_ratings = df_games[df_games['genre'] == 'Action']['user_score']\n",
    "sports_user_ratings = df_games[df_games['genre'] == 'Sports']['user_score']\n",
    "\n",
    "print('User ratings of Action genre variance:', np.var(action_user_ratings).round(2))\n",
    "print('User ratings of Sports genre variance:', np.var(sports_user_ratings).round(2))"
   ]
  },
  {
   "cell_type": "markdown",
   "metadata": {},
   "source": [
    "A commonly used significance level is 0.05 (5%), which means you are willing to accept a 5% chance of incorrectly rejecting the null hypothesis."
   ]
  },
  {
   "cell_type": "code",
   "execution_count": 25,
   "metadata": {},
   "outputs": [
    {
     "name": "stdout",
     "output_type": "stream",
     "text": [
      "p-value: 1.4460039700704734e-20\n",
      "We reject the null hypothesis\n"
     ]
    }
   ],
   "source": [
    "alpha = 0.05\n",
    "results_2 = st.ttest_ind(action_user_ratings, sports_user_ratings, equal_var=False, nan_policy='omit')\n",
    "\n",
    "print('p-value:',results_2.pvalue) \n",
    "\n",
    "if results_2.pvalue < alpha:\n",
    "    print(\"We reject the null hypothesis\")\n",
    "else:\n",
    "    print(\"We can't reject the null hypothesis\")"
   ]
  },
  {
   "cell_type": "markdown",
   "metadata": {},
   "source": [
    "The null hypothesis is rejected in this test so the average user ratings of the action and sports are not equal."
   ]
  },
  {
   "cell_type": "markdown",
   "metadata": {},
   "source": [
    "CONCLUSION:\n",
    "\n",
    "North America generates the most revenue compared to other region.\n",
    "\n",
    "The platform that had the most global sales of games was GameBoy and the platform with the least is PS5.\n",
    "\n",
    "PS2 had the most total sales and the least with no sales at all is a handheld game console called WonderSwan.\n",
    "\n",
    "The sports genre is the highest in total sales with racing genre right under it and the lowest genre in total sales is strategy.\n",
    "\n",
    "The top 5 platforms in North America are X360, PS2, Wii, PS3, and DS. The top 5 platforms for Japan sales are DS, PS2, 3DS, PS3, and PSP. The top 5 platforms for Europe sales are PS2, PS3, X360, Wii, and DS.\n",
    "\n",
    "The games that are rated \"M\" have the most sales with \"Unknown\" at second and \"E\" at third and that leaves \"E10+\" at last.\n",
    "\n",
    "THERE WERE TWO HYPOTHESIS TESTED:\n",
    "\n",
    "The null hypothesis cannot be rejected in this test so the average user ratings on xbox one and PC are the same.\n",
    "\n",
    "The null hypothesis is rejected in this test so the average user ratings of the action and sports are not equal.\n"
   ]
  }
 ],
 "metadata": {
  "ExecuteTimeLog": [
   {
    "duration": 331,
    "start_time": "2024-12-13T23:07:04.928Z"
   },
   {
    "duration": 35,
    "start_time": "2024-12-13T23:07:05.262Z"
   },
   {
    "duration": 177,
    "start_time": "2024-12-13T23:07:05.299Z"
   },
   {
    "duration": 15,
    "start_time": "2024-12-13T23:07:21.312Z"
   },
   {
    "duration": 20,
    "start_time": "2024-12-13T23:12:47.988Z"
   },
   {
    "duration": 3,
    "start_time": "2024-12-13T23:15:18.150Z"
   },
   {
    "duration": 14,
    "start_time": "2024-12-13T23:19:00.490Z"
   },
   {
    "duration": 3,
    "start_time": "2024-12-13T23:19:12.787Z"
   },
   {
    "duration": 24,
    "start_time": "2024-12-13T23:19:12.792Z"
   },
   {
    "duration": 19,
    "start_time": "2024-12-13T23:19:12.817Z"
   },
   {
    "duration": 2,
    "start_time": "2024-12-13T23:19:12.839Z"
   },
   {
    "duration": 13,
    "start_time": "2024-12-13T23:19:12.843Z"
   },
   {
    "duration": 3,
    "start_time": "2024-12-13T23:19:24.432Z"
   },
   {
    "duration": 22,
    "start_time": "2024-12-13T23:19:24.437Z"
   },
   {
    "duration": 18,
    "start_time": "2024-12-13T23:19:24.461Z"
   },
   {
    "duration": 3,
    "start_time": "2024-12-13T23:19:24.481Z"
   },
   {
    "duration": 20,
    "start_time": "2024-12-13T23:19:24.486Z"
   },
   {
    "duration": 395,
    "start_time": "2024-12-13T23:19:36.369Z"
   },
   {
    "duration": 12,
    "start_time": "2024-12-13T23:20:00.083Z"
   },
   {
    "duration": 322,
    "start_time": "2024-12-13T23:20:11.227Z"
   },
   {
    "duration": 23,
    "start_time": "2024-12-13T23:20:11.551Z"
   },
   {
    "duration": 23,
    "start_time": "2024-12-13T23:20:11.575Z"
   },
   {
    "duration": 3,
    "start_time": "2024-12-13T23:20:11.612Z"
   },
   {
    "duration": 6,
    "start_time": "2024-12-13T23:20:11.616Z"
   },
   {
    "duration": 7,
    "start_time": "2024-12-13T23:21:43.727Z"
   },
   {
    "duration": 13,
    "start_time": "2024-12-13T23:41:08.975Z"
   },
   {
    "duration": 12,
    "start_time": "2024-12-13T23:43:31.701Z"
   },
   {
    "duration": 2512,
    "start_time": "2024-12-13T23:44:23.470Z"
   },
   {
    "duration": 28,
    "start_time": "2024-12-13T23:44:25.985Z"
   },
   {
    "duration": 21,
    "start_time": "2024-12-13T23:44:26.014Z"
   },
   {
    "duration": 13,
    "start_time": "2024-12-13T23:44:26.037Z"
   },
   {
    "duration": 10,
    "start_time": "2024-12-13T23:44:26.052Z"
   },
   {
    "duration": 25,
    "start_time": "2024-12-13T23:45:02.651Z"
   },
   {
    "duration": 2502,
    "start_time": "2024-12-14T01:28:40.333Z"
   },
   {
    "duration": 41,
    "start_time": "2024-12-14T01:28:42.837Z"
   },
   {
    "duration": 22,
    "start_time": "2024-12-14T01:28:42.884Z"
   },
   {
    "duration": 14,
    "start_time": "2024-12-14T01:28:42.912Z"
   },
   {
    "duration": 24,
    "start_time": "2024-12-14T01:28:42.928Z"
   },
   {
    "duration": 219,
    "start_time": "2024-12-14T01:37:18.643Z"
   },
   {
    "duration": 12,
    "start_time": "2024-12-14T01:37:41.512Z"
   },
   {
    "duration": 23,
    "start_time": "2024-12-14T01:37:56.130Z"
   },
   {
    "duration": 20,
    "start_time": "2024-12-14T01:38:04.350Z"
   },
   {
    "duration": 159,
    "start_time": "2024-12-14T01:42:03.993Z"
   },
   {
    "duration": 205,
    "start_time": "2024-12-14T02:01:01.369Z"
   },
   {
    "duration": 455,
    "start_time": "2024-12-14T02:16:42.040Z"
   },
   {
    "duration": 186,
    "start_time": "2024-12-14T02:17:02.965Z"
   },
   {
    "duration": 115,
    "start_time": "2024-12-14T02:32:37.457Z"
   },
   {
    "duration": 49,
    "start_time": "2024-12-14T02:41:07.947Z"
   },
   {
    "duration": 12,
    "start_time": "2024-12-14T02:41:27.610Z"
   },
   {
    "duration": 42,
    "start_time": "2024-12-14T02:42:36.332Z"
   },
   {
    "duration": 3,
    "start_time": "2024-12-14T02:43:05.103Z"
   },
   {
    "duration": 752,
    "start_time": "2024-12-14T02:43:25.904Z"
   },
   {
    "duration": 23,
    "start_time": "2024-12-14T02:43:26.658Z"
   },
   {
    "duration": 34,
    "start_time": "2024-12-14T02:43:26.683Z"
   },
   {
    "duration": 15,
    "start_time": "2024-12-14T02:43:26.719Z"
   },
   {
    "duration": 3,
    "start_time": "2024-12-14T02:43:26.736Z"
   },
   {
    "duration": 19,
    "start_time": "2024-12-14T02:43:26.740Z"
   },
   {
    "duration": 180,
    "start_time": "2024-12-14T02:43:26.760Z"
   },
   {
    "duration": 165,
    "start_time": "2024-12-14T02:43:26.942Z"
   },
   {
    "duration": 241,
    "start_time": "2024-12-14T02:43:27.109Z"
   },
   {
    "duration": 126,
    "start_time": "2024-12-14T02:43:27.352Z"
   },
   {
    "duration": 114,
    "start_time": "2024-12-14T02:43:50.874Z"
   },
   {
    "duration": 111,
    "start_time": "2024-12-14T02:48:46.968Z"
   },
   {
    "duration": 828,
    "start_time": "2024-12-14T02:49:11.518Z"
   },
   {
    "duration": 24,
    "start_time": "2024-12-14T02:49:12.349Z"
   },
   {
    "duration": 22,
    "start_time": "2024-12-14T02:49:12.374Z"
   },
   {
    "duration": 14,
    "start_time": "2024-12-14T02:49:12.411Z"
   },
   {
    "duration": 3,
    "start_time": "2024-12-14T02:49:12.427Z"
   },
   {
    "duration": 18,
    "start_time": "2024-12-14T02:49:12.432Z"
   },
   {
    "duration": 183,
    "start_time": "2024-12-14T02:49:12.452Z"
   },
   {
    "duration": 163,
    "start_time": "2024-12-14T02:49:12.637Z"
   },
   {
    "duration": 234,
    "start_time": "2024-12-14T02:49:12.801Z"
   },
   {
    "duration": 125,
    "start_time": "2024-12-14T02:49:13.037Z"
   },
   {
    "duration": 116,
    "start_time": "2024-12-14T02:49:13.164Z"
   },
   {
    "duration": 6,
    "start_time": "2024-12-14T02:59:07.825Z"
   },
   {
    "duration": 2539,
    "start_time": "2024-12-15T00:23:13.429Z"
   },
   {
    "duration": 37,
    "start_time": "2024-12-15T00:23:15.969Z"
   },
   {
    "duration": 25,
    "start_time": "2024-12-15T00:23:16.008Z"
   },
   {
    "duration": 17,
    "start_time": "2024-12-15T00:23:16.035Z"
   },
   {
    "duration": 3,
    "start_time": "2024-12-15T00:23:16.056Z"
   },
   {
    "duration": 27,
    "start_time": "2024-12-15T00:23:16.061Z"
   },
   {
    "duration": 175,
    "start_time": "2024-12-15T00:23:16.090Z"
   },
   {
    "duration": 158,
    "start_time": "2024-12-15T00:23:16.267Z"
   },
   {
    "duration": 196,
    "start_time": "2024-12-15T00:23:16.427Z"
   },
   {
    "duration": 121,
    "start_time": "2024-12-15T00:23:16.624Z"
   },
   {
    "duration": 112,
    "start_time": "2024-12-15T00:23:16.747Z"
   },
   {
    "duration": 7,
    "start_time": "2024-12-15T00:23:16.861Z"
   },
   {
    "duration": 269,
    "start_time": "2024-12-15T00:38:57.570Z"
   },
   {
    "duration": 16,
    "start_time": "2024-12-15T00:39:10.300Z"
   },
   {
    "duration": 17,
    "start_time": "2024-12-15T00:39:23.891Z"
   },
   {
    "duration": 9,
    "start_time": "2024-12-15T00:46:33.031Z"
   },
   {
    "duration": 871,
    "start_time": "2024-12-15T00:50:27.237Z"
   },
   {
    "duration": 27,
    "start_time": "2024-12-15T00:50:28.110Z"
   },
   {
    "duration": 31,
    "start_time": "2024-12-15T00:50:28.139Z"
   },
   {
    "duration": 20,
    "start_time": "2024-12-15T00:50:28.172Z"
   },
   {
    "duration": 4,
    "start_time": "2024-12-15T00:50:28.212Z"
   },
   {
    "duration": 20,
    "start_time": "2024-12-15T00:50:28.217Z"
   },
   {
    "duration": 174,
    "start_time": "2024-12-15T00:50:28.239Z"
   },
   {
    "duration": 216,
    "start_time": "2024-12-15T00:50:28.415Z"
   },
   {
    "duration": 246,
    "start_time": "2024-12-15T00:50:28.632Z"
   },
   {
    "duration": 124,
    "start_time": "2024-12-15T00:50:28.881Z"
   },
   {
    "duration": 117,
    "start_time": "2024-12-15T00:50:29.011Z"
   },
   {
    "duration": 8,
    "start_time": "2024-12-15T00:50:29.129Z"
   },
   {
    "duration": 21,
    "start_time": "2024-12-15T00:50:29.139Z"
   },
   {
    "duration": 9,
    "start_time": "2024-12-15T00:50:29.163Z"
   },
   {
    "duration": 311,
    "start_time": "2024-12-15T01:13:34.194Z"
   },
   {
    "duration": 10,
    "start_time": "2024-12-15T01:14:30.106Z"
   },
   {
    "duration": 135,
    "start_time": "2024-12-15T01:27:22.272Z"
   },
   {
    "duration": 2567,
    "start_time": "2024-12-17T22:36:40.553Z"
   },
   {
    "duration": 36,
    "start_time": "2024-12-17T22:36:43.123Z"
   },
   {
    "duration": 21,
    "start_time": "2024-12-17T22:36:43.163Z"
   },
   {
    "duration": 23,
    "start_time": "2024-12-17T22:36:43.187Z"
   },
   {
    "duration": 4,
    "start_time": "2024-12-17T22:36:43.211Z"
   },
   {
    "duration": 19,
    "start_time": "2024-12-17T22:36:43.216Z"
   },
   {
    "duration": 178,
    "start_time": "2024-12-17T22:36:43.237Z"
   },
   {
    "duration": 164,
    "start_time": "2024-12-17T22:36:43.417Z"
   },
   {
    "duration": 199,
    "start_time": "2024-12-17T22:36:43.582Z"
   },
   {
    "duration": 124,
    "start_time": "2024-12-17T22:36:43.783Z"
   },
   {
    "duration": 172,
    "start_time": "2024-12-17T22:36:43.909Z"
   },
   {
    "duration": 7,
    "start_time": "2024-12-17T22:36:44.083Z"
   },
   {
    "duration": 25,
    "start_time": "2024-12-17T22:36:44.093Z"
   },
   {
    "duration": 8,
    "start_time": "2024-12-17T22:36:44.121Z"
   },
   {
    "duration": 156,
    "start_time": "2024-12-17T22:36:44.131Z"
   },
   {
    "duration": 12,
    "start_time": "2024-12-17T22:52:02.422Z"
   },
   {
    "duration": 11,
    "start_time": "2024-12-17T22:59:07.691Z"
   },
   {
    "duration": 10,
    "start_time": "2024-12-17T22:59:14.067Z"
   },
   {
    "duration": 796,
    "start_time": "2024-12-17T22:59:30.364Z"
   },
   {
    "duration": 24,
    "start_time": "2024-12-17T22:59:31.162Z"
   },
   {
    "duration": 36,
    "start_time": "2024-12-17T22:59:31.187Z"
   },
   {
    "duration": 15,
    "start_time": "2024-12-17T22:59:31.224Z"
   },
   {
    "duration": 3,
    "start_time": "2024-12-17T22:59:31.242Z"
   },
   {
    "duration": 20,
    "start_time": "2024-12-17T22:59:31.247Z"
   },
   {
    "duration": 47,
    "start_time": "2024-12-17T22:59:31.268Z"
   },
   {
    "duration": 162,
    "start_time": "2024-12-17T22:59:31.317Z"
   },
   {
    "duration": 167,
    "start_time": "2024-12-17T22:59:31.481Z"
   },
   {
    "duration": 242,
    "start_time": "2024-12-17T22:59:31.649Z"
   },
   {
    "duration": 124,
    "start_time": "2024-12-17T22:59:31.893Z"
   },
   {
    "duration": 120,
    "start_time": "2024-12-17T22:59:32.019Z"
   },
   {
    "duration": 6,
    "start_time": "2024-12-17T22:59:32.141Z"
   },
   {
    "duration": 8,
    "start_time": "2024-12-17T22:59:32.150Z"
   },
   {
    "duration": 8,
    "start_time": "2024-12-17T22:59:32.159Z"
   },
   {
    "duration": 154,
    "start_time": "2024-12-17T22:59:32.169Z"
   },
   {
    "duration": 12,
    "start_time": "2024-12-17T23:07:48.999Z"
   },
   {
    "duration": 16,
    "start_time": "2024-12-17T23:08:00.364Z"
   },
   {
    "duration": 7,
    "start_time": "2024-12-17T23:23:15.101Z"
   },
   {
    "duration": 4,
    "start_time": "2024-12-17T23:23:19.144Z"
   },
   {
    "duration": 9,
    "start_time": "2024-12-17T23:23:38.067Z"
   },
   {
    "duration": 4,
    "start_time": "2024-12-17T23:23:42.788Z"
   },
   {
    "duration": 2548,
    "start_time": "2024-12-18T22:42:42.452Z"
   },
   {
    "duration": 34,
    "start_time": "2024-12-18T22:42:45.002Z"
   },
   {
    "duration": 22,
    "start_time": "2024-12-18T22:42:45.038Z"
   },
   {
    "duration": 15,
    "start_time": "2024-12-18T22:42:45.063Z"
   },
   {
    "duration": 4,
    "start_time": "2024-12-18T22:42:45.081Z"
   },
   {
    "duration": 40,
    "start_time": "2024-12-18T22:42:45.086Z"
   },
   {
    "duration": 15,
    "start_time": "2024-12-18T22:42:45.128Z"
   },
   {
    "duration": 178,
    "start_time": "2024-12-18T22:42:45.145Z"
   },
   {
    "duration": 162,
    "start_time": "2024-12-18T22:42:45.324Z"
   },
   {
    "duration": 194,
    "start_time": "2024-12-18T22:42:45.487Z"
   },
   {
    "duration": 127,
    "start_time": "2024-12-18T22:42:45.682Z"
   },
   {
    "duration": 169,
    "start_time": "2024-12-18T22:42:45.811Z"
   },
   {
    "duration": 7,
    "start_time": "2024-12-18T22:42:45.982Z"
   },
   {
    "duration": 7,
    "start_time": "2024-12-18T22:42:45.992Z"
   },
   {
    "duration": 145,
    "start_time": "2024-12-18T22:42:46.001Z"
   },
   {
    "duration": 14,
    "start_time": "2024-12-18T22:42:46.148Z"
   },
   {
    "duration": 7,
    "start_time": "2024-12-18T22:42:46.164Z"
   },
   {
    "duration": 4,
    "start_time": "2024-12-18T22:42:46.173Z"
   },
   {
    "duration": 8,
    "start_time": "2024-12-18T22:42:46.178Z"
   },
   {
    "duration": 4,
    "start_time": "2024-12-18T22:42:46.187Z"
   },
   {
    "duration": 2528,
    "start_time": "2024-12-19T01:51:00.119Z"
   },
   {
    "duration": 36,
    "start_time": "2024-12-19T01:51:02.650Z"
   },
   {
    "duration": 23,
    "start_time": "2024-12-19T01:51:02.687Z"
   },
   {
    "duration": 18,
    "start_time": "2024-12-19T01:51:02.712Z"
   },
   {
    "duration": 4,
    "start_time": "2024-12-19T01:51:02.742Z"
   },
   {
    "duration": 20,
    "start_time": "2024-12-19T01:51:02.747Z"
   },
   {
    "duration": 11,
    "start_time": "2024-12-19T01:51:02.769Z"
   },
   {
    "duration": 197,
    "start_time": "2024-12-19T01:51:02.782Z"
   },
   {
    "duration": 194,
    "start_time": "2024-12-19T01:51:02.980Z"
   },
   {
    "duration": 173,
    "start_time": "2024-12-19T01:51:03.177Z"
   },
   {
    "duration": 122,
    "start_time": "2024-12-19T01:51:03.352Z"
   },
   {
    "duration": 118,
    "start_time": "2024-12-19T01:51:03.476Z"
   },
   {
    "duration": 7,
    "start_time": "2024-12-19T01:51:03.596Z"
   },
   {
    "duration": 9,
    "start_time": "2024-12-19T01:51:03.604Z"
   },
   {
    "duration": 199,
    "start_time": "2024-12-19T01:51:03.614Z"
   },
   {
    "duration": 15,
    "start_time": "2024-12-19T01:51:03.815Z"
   },
   {
    "duration": 17,
    "start_time": "2024-12-19T01:51:03.831Z"
   },
   {
    "duration": 4,
    "start_time": "2024-12-19T01:51:03.850Z"
   },
   {
    "duration": 7,
    "start_time": "2024-12-19T01:51:03.856Z"
   },
   {
    "duration": 4,
    "start_time": "2024-12-19T01:51:03.865Z"
   },
   {
    "duration": 780,
    "start_time": "2024-12-19T02:39:35.136Z"
   },
   {
    "duration": 33,
    "start_time": "2024-12-19T02:39:35.919Z"
   },
   {
    "duration": 26,
    "start_time": "2024-12-19T02:39:35.954Z"
   },
   {
    "duration": 15,
    "start_time": "2024-12-19T02:39:35.981Z"
   },
   {
    "duration": 4,
    "start_time": "2024-12-19T02:39:35.998Z"
   },
   {
    "duration": 40,
    "start_time": "2024-12-19T02:39:36.005Z"
   },
   {
    "duration": 13,
    "start_time": "2024-12-19T02:39:36.046Z"
   },
   {
    "duration": 188,
    "start_time": "2024-12-19T02:39:36.060Z"
   },
   {
    "duration": 194,
    "start_time": "2024-12-19T02:39:36.250Z"
   },
   {
    "duration": 219,
    "start_time": "2024-12-19T02:39:36.446Z"
   },
   {
    "duration": 127,
    "start_time": "2024-12-19T02:39:36.667Z"
   },
   {
    "duration": 115,
    "start_time": "2024-12-19T02:39:36.796Z"
   },
   {
    "duration": 7,
    "start_time": "2024-12-19T02:39:36.913Z"
   },
   {
    "duration": 22,
    "start_time": "2024-12-19T02:39:36.924Z"
   },
   {
    "duration": 140,
    "start_time": "2024-12-19T02:39:36.947Z"
   },
   {
    "duration": 7,
    "start_time": "2024-12-19T02:39:37.089Z"
   },
   {
    "duration": 3,
    "start_time": "2024-12-19T02:39:37.100Z"
   },
   {
    "duration": 8,
    "start_time": "2024-12-19T02:39:37.105Z"
   },
   {
    "duration": 28,
    "start_time": "2024-12-19T02:39:37.115Z"
   },
   {
    "duration": 2509,
    "start_time": "2024-12-19T08:35:57.488Z"
   },
   {
    "duration": 35,
    "start_time": "2024-12-19T08:35:59.999Z"
   },
   {
    "duration": 21,
    "start_time": "2024-12-19T08:36:00.036Z"
   },
   {
    "duration": 15,
    "start_time": "2024-12-19T08:36:00.059Z"
   },
   {
    "duration": 3,
    "start_time": "2024-12-19T08:36:00.076Z"
   },
   {
    "duration": 19,
    "start_time": "2024-12-19T08:36:00.080Z"
   },
   {
    "duration": 10,
    "start_time": "2024-12-19T08:36:00.100Z"
   },
   {
    "duration": 192,
    "start_time": "2024-12-19T08:36:00.111Z"
   },
   {
    "duration": 191,
    "start_time": "2024-12-19T08:36:00.305Z"
   },
   {
    "duration": 169,
    "start_time": "2024-12-19T08:36:00.500Z"
   },
   {
    "duration": 133,
    "start_time": "2024-12-19T08:36:00.671Z"
   },
   {
    "duration": 127,
    "start_time": "2024-12-19T08:36:00.805Z"
   },
   {
    "duration": 10,
    "start_time": "2024-12-19T08:36:00.934Z"
   },
   {
    "duration": 11,
    "start_time": "2024-12-19T08:36:00.950Z"
   },
   {
    "duration": 186,
    "start_time": "2024-12-19T08:36:00.963Z"
   },
   {
    "duration": 7,
    "start_time": "2024-12-19T08:36:01.152Z"
   },
   {
    "duration": 4,
    "start_time": "2024-12-19T08:36:01.161Z"
   },
   {
    "duration": 7,
    "start_time": "2024-12-19T08:36:01.166Z"
   },
   {
    "duration": 4,
    "start_time": "2024-12-19T08:36:01.175Z"
   },
   {
    "duration": 161,
    "start_time": "2024-12-24T01:27:17.645Z"
   },
   {
    "duration": 2510,
    "start_time": "2024-12-24T01:27:25.710Z"
   },
   {
    "duration": 34,
    "start_time": "2024-12-24T01:27:28.222Z"
   },
   {
    "duration": 23,
    "start_time": "2024-12-24T01:27:28.258Z"
   },
   {
    "duration": 14,
    "start_time": "2024-12-24T01:27:28.282Z"
   },
   {
    "duration": 3,
    "start_time": "2024-12-24T01:27:28.299Z"
   },
   {
    "duration": 33,
    "start_time": "2024-12-24T01:27:28.306Z"
   },
   {
    "duration": 11,
    "start_time": "2024-12-24T01:27:28.340Z"
   },
   {
    "duration": 173,
    "start_time": "2024-12-24T01:27:28.352Z"
   },
   {
    "duration": 199,
    "start_time": "2024-12-24T01:27:28.527Z"
   },
   {
    "duration": 164,
    "start_time": "2024-12-24T01:27:28.727Z"
   },
   {
    "duration": 123,
    "start_time": "2024-12-24T01:27:28.893Z"
   },
   {
    "duration": 120,
    "start_time": "2024-12-24T01:27:29.018Z"
   },
   {
    "duration": 7,
    "start_time": "2024-12-24T01:27:29.140Z"
   },
   {
    "duration": 531,
    "start_time": "2024-12-24T01:27:29.151Z"
   },
   {
    "duration": 0,
    "start_time": "2024-12-24T01:27:29.684Z"
   },
   {
    "duration": 0,
    "start_time": "2024-12-24T01:27:29.685Z"
   },
   {
    "duration": 0,
    "start_time": "2024-12-24T01:27:29.686Z"
   },
   {
    "duration": 0,
    "start_time": "2024-12-24T01:27:29.687Z"
   },
   {
    "duration": 0,
    "start_time": "2024-12-24T01:27:29.688Z"
   },
   {
    "duration": 0,
    "start_time": "2024-12-24T01:27:29.689Z"
   },
   {
    "duration": 210,
    "start_time": "2024-12-24T01:28:11.295Z"
   },
   {
    "duration": 254,
    "start_time": "2024-12-24T01:28:35.761Z"
   },
   {
    "duration": 9,
    "start_time": "2024-12-24T02:02:11.089Z"
   },
   {
    "duration": 4,
    "start_time": "2024-12-24T02:02:16.614Z"
   },
   {
    "duration": 24,
    "start_time": "2024-12-24T02:02:16.620Z"
   },
   {
    "duration": 20,
    "start_time": "2024-12-24T02:02:16.645Z"
   },
   {
    "duration": 14,
    "start_time": "2024-12-24T02:02:16.667Z"
   },
   {
    "duration": 4,
    "start_time": "2024-12-24T02:02:16.684Z"
   },
   {
    "duration": 44,
    "start_time": "2024-12-24T02:02:16.690Z"
   },
   {
    "duration": 8,
    "start_time": "2024-12-24T02:02:16.736Z"
   },
   {
    "duration": 166,
    "start_time": "2024-12-24T02:02:16.746Z"
   },
   {
    "duration": 197,
    "start_time": "2024-12-24T02:02:16.913Z"
   },
   {
    "duration": 166,
    "start_time": "2024-12-24T02:02:17.112Z"
   },
   {
    "duration": 126,
    "start_time": "2024-12-24T02:02:17.280Z"
   },
   {
    "duration": 145,
    "start_time": "2024-12-24T02:02:17.408Z"
   },
   {
    "duration": 8,
    "start_time": "2024-12-24T02:02:17.555Z"
   },
   {
    "duration": 225,
    "start_time": "2024-12-24T02:02:17.566Z"
   },
   {
    "duration": 8,
    "start_time": "2024-12-24T02:02:17.793Z"
   },
   {
    "duration": 162,
    "start_time": "2024-12-24T02:02:17.803Z"
   },
   {
    "duration": 7,
    "start_time": "2024-12-24T02:02:17.967Z"
   },
   {
    "duration": 6,
    "start_time": "2024-12-24T02:02:17.975Z"
   },
   {
    "duration": 7,
    "start_time": "2024-12-24T02:02:17.982Z"
   },
   {
    "duration": 35,
    "start_time": "2024-12-24T02:02:17.991Z"
   },
   {
    "duration": 11,
    "start_time": "2024-12-24T02:10:05.982Z"
   },
   {
    "duration": 11,
    "start_time": "2024-12-24T02:11:00.446Z"
   },
   {
    "duration": 116,
    "start_time": "2024-12-24T02:29:22.146Z"
   },
   {
    "duration": 105,
    "start_time": "2024-12-24T02:31:53.673Z"
   },
   {
    "duration": 250,
    "start_time": "2024-12-24T02:35:01.987Z"
   },
   {
    "duration": 736,
    "start_time": "2024-12-24T02:35:22.466Z"
   },
   {
    "duration": 778,
    "start_time": "2024-12-24T02:41:11.085Z"
   },
   {
    "duration": 23,
    "start_time": "2024-12-24T02:41:11.865Z"
   },
   {
    "duration": 34,
    "start_time": "2024-12-24T02:41:11.890Z"
   },
   {
    "duration": 14,
    "start_time": "2024-12-24T02:41:11.926Z"
   },
   {
    "duration": 3,
    "start_time": "2024-12-24T02:41:11.942Z"
   },
   {
    "duration": 19,
    "start_time": "2024-12-24T02:41:11.947Z"
   },
   {
    "duration": 8,
    "start_time": "2024-12-24T02:41:11.968Z"
   },
   {
    "duration": 186,
    "start_time": "2024-12-24T02:41:11.978Z"
   },
   {
    "duration": 195,
    "start_time": "2024-12-24T02:41:12.166Z"
   },
   {
    "duration": 205,
    "start_time": "2024-12-24T02:41:12.363Z"
   },
   {
    "duration": 10,
    "start_time": "2024-12-24T02:41:12.570Z"
   },
   {
    "duration": 129,
    "start_time": "2024-12-24T02:41:12.581Z"
   },
   {
    "duration": 119,
    "start_time": "2024-12-24T02:41:12.712Z"
   },
   {
    "duration": 6,
    "start_time": "2024-12-24T02:41:12.835Z"
   },
   {
    "duration": 213,
    "start_time": "2024-12-24T02:41:12.843Z"
   },
   {
    "duration": 9,
    "start_time": "2024-12-24T02:41:13.058Z"
   },
   {
    "duration": 158,
    "start_time": "2024-12-24T02:41:13.068Z"
   },
   {
    "duration": 115,
    "start_time": "2024-12-24T02:41:13.227Z"
   },
   {
    "duration": 109,
    "start_time": "2024-12-24T02:41:13.344Z"
   },
   {
    "duration": 765,
    "start_time": "2024-12-24T02:41:13.454Z"
   },
   {
    "duration": 8,
    "start_time": "2024-12-24T02:41:14.224Z"
   },
   {
    "duration": 5,
    "start_time": "2024-12-24T02:41:14.233Z"
   },
   {
    "duration": 6,
    "start_time": "2024-12-24T02:41:14.240Z"
   },
   {
    "duration": 5,
    "start_time": "2024-12-24T02:41:14.247Z"
   },
   {
    "duration": 2551,
    "start_time": "2024-12-24T04:27:40.351Z"
   },
   {
    "duration": 40,
    "start_time": "2024-12-24T04:27:42.905Z"
   },
   {
    "duration": 23,
    "start_time": "2024-12-24T04:27:42.947Z"
   },
   {
    "duration": 20,
    "start_time": "2024-12-24T04:27:42.972Z"
   },
   {
    "duration": 4,
    "start_time": "2024-12-24T04:27:42.993Z"
   },
   {
    "duration": 19,
    "start_time": "2024-12-24T04:27:42.999Z"
   },
   {
    "duration": 5,
    "start_time": "2024-12-24T04:27:43.020Z"
   },
   {
    "duration": 0,
    "start_time": "2024-12-24T04:27:43.028Z"
   },
   {
    "duration": 0,
    "start_time": "2024-12-24T04:27:43.029Z"
   },
   {
    "duration": 0,
    "start_time": "2024-12-24T04:27:43.030Z"
   },
   {
    "duration": 0,
    "start_time": "2024-12-24T04:27:43.031Z"
   },
   {
    "duration": 0,
    "start_time": "2024-12-24T04:27:43.032Z"
   },
   {
    "duration": 0,
    "start_time": "2024-12-24T04:27:43.034Z"
   },
   {
    "duration": 0,
    "start_time": "2024-12-24T04:27:43.035Z"
   },
   {
    "duration": 0,
    "start_time": "2024-12-24T04:27:43.036Z"
   },
   {
    "duration": 0,
    "start_time": "2024-12-24T04:27:43.037Z"
   },
   {
    "duration": 0,
    "start_time": "2024-12-24T04:27:43.038Z"
   },
   {
    "duration": 0,
    "start_time": "2024-12-24T04:27:43.040Z"
   },
   {
    "duration": 0,
    "start_time": "2024-12-24T04:27:43.041Z"
   },
   {
    "duration": 0,
    "start_time": "2024-12-24T04:27:43.086Z"
   },
   {
    "duration": 0,
    "start_time": "2024-12-24T04:27:43.088Z"
   },
   {
    "duration": 0,
    "start_time": "2024-12-24T04:27:43.090Z"
   },
   {
    "duration": 1,
    "start_time": "2024-12-24T04:27:43.090Z"
   },
   {
    "duration": 0,
    "start_time": "2024-12-24T04:27:43.091Z"
   },
   {
    "duration": 839,
    "start_time": "2024-12-24T04:30:39.802Z"
   },
   {
    "duration": 26,
    "start_time": "2024-12-24T04:30:40.644Z"
   },
   {
    "duration": 32,
    "start_time": "2024-12-24T04:30:40.672Z"
   },
   {
    "duration": 15,
    "start_time": "2024-12-24T04:30:40.706Z"
   },
   {
    "duration": 3,
    "start_time": "2024-12-24T04:30:40.723Z"
   },
   {
    "duration": 20,
    "start_time": "2024-12-24T04:30:40.728Z"
   },
   {
    "duration": 37,
    "start_time": "2024-12-24T04:30:40.749Z"
   },
   {
    "duration": 0,
    "start_time": "2024-12-24T04:30:40.789Z"
   },
   {
    "duration": 0,
    "start_time": "2024-12-24T04:30:40.790Z"
   },
   {
    "duration": 0,
    "start_time": "2024-12-24T04:30:40.791Z"
   },
   {
    "duration": 0,
    "start_time": "2024-12-24T04:30:40.792Z"
   },
   {
    "duration": 0,
    "start_time": "2024-12-24T04:30:40.793Z"
   },
   {
    "duration": 0,
    "start_time": "2024-12-24T04:30:40.793Z"
   },
   {
    "duration": 1,
    "start_time": "2024-12-24T04:30:40.794Z"
   },
   {
    "duration": 0,
    "start_time": "2024-12-24T04:30:40.796Z"
   },
   {
    "duration": 0,
    "start_time": "2024-12-24T04:30:40.797Z"
   },
   {
    "duration": 0,
    "start_time": "2024-12-24T04:30:40.798Z"
   },
   {
    "duration": 0,
    "start_time": "2024-12-24T04:30:40.799Z"
   },
   {
    "duration": 0,
    "start_time": "2024-12-24T04:30:40.800Z"
   },
   {
    "duration": 0,
    "start_time": "2024-12-24T04:30:40.801Z"
   },
   {
    "duration": 0,
    "start_time": "2024-12-24T04:30:40.802Z"
   },
   {
    "duration": 0,
    "start_time": "2024-12-24T04:30:40.803Z"
   },
   {
    "duration": 0,
    "start_time": "2024-12-24T04:30:40.804Z"
   },
   {
    "duration": 0,
    "start_time": "2024-12-24T04:30:40.805Z"
   },
   {
    "duration": 2589,
    "start_time": "2024-12-24T15:22:54.136Z"
   },
   {
    "duration": 35,
    "start_time": "2024-12-24T15:22:56.727Z"
   },
   {
    "duration": 22,
    "start_time": "2024-12-24T15:22:56.764Z"
   },
   {
    "duration": 15,
    "start_time": "2024-12-24T15:22:56.787Z"
   },
   {
    "duration": 3,
    "start_time": "2024-12-24T15:22:56.804Z"
   },
   {
    "duration": 19,
    "start_time": "2024-12-24T15:22:56.824Z"
   },
   {
    "duration": 5,
    "start_time": "2024-12-24T15:22:56.845Z"
   },
   {
    "duration": 0,
    "start_time": "2024-12-24T15:22:56.852Z"
   },
   {
    "duration": 0,
    "start_time": "2024-12-24T15:22:56.854Z"
   },
   {
    "duration": 0,
    "start_time": "2024-12-24T15:22:56.855Z"
   },
   {
    "duration": 0,
    "start_time": "2024-12-24T15:22:56.857Z"
   },
   {
    "duration": 0,
    "start_time": "2024-12-24T15:22:56.858Z"
   },
   {
    "duration": 0,
    "start_time": "2024-12-24T15:22:56.860Z"
   },
   {
    "duration": 0,
    "start_time": "2024-12-24T15:22:56.861Z"
   },
   {
    "duration": 0,
    "start_time": "2024-12-24T15:22:56.863Z"
   },
   {
    "duration": 0,
    "start_time": "2024-12-24T15:22:56.864Z"
   },
   {
    "duration": 0,
    "start_time": "2024-12-24T15:22:56.866Z"
   },
   {
    "duration": 0,
    "start_time": "2024-12-24T15:22:56.867Z"
   },
   {
    "duration": 0,
    "start_time": "2024-12-24T15:22:56.869Z"
   },
   {
    "duration": 0,
    "start_time": "2024-12-24T15:22:56.870Z"
   },
   {
    "duration": 0,
    "start_time": "2024-12-24T15:22:56.872Z"
   },
   {
    "duration": 0,
    "start_time": "2024-12-24T15:22:56.873Z"
   },
   {
    "duration": 0,
    "start_time": "2024-12-24T15:22:56.874Z"
   },
   {
    "duration": 0,
    "start_time": "2024-12-24T15:22:56.875Z"
   },
   {
    "duration": 12,
    "start_time": "2024-12-24T15:24:40.421Z"
   },
   {
    "duration": 7,
    "start_time": "2024-12-24T15:26:31.653Z"
   },
   {
    "duration": 821,
    "start_time": "2024-12-24T15:26:44.249Z"
   },
   {
    "duration": 22,
    "start_time": "2024-12-24T15:26:45.072Z"
   },
   {
    "duration": 30,
    "start_time": "2024-12-24T15:26:45.096Z"
   },
   {
    "duration": 13,
    "start_time": "2024-12-24T15:26:45.128Z"
   },
   {
    "duration": 3,
    "start_time": "2024-12-24T15:26:45.144Z"
   },
   {
    "duration": 19,
    "start_time": "2024-12-24T15:26:45.148Z"
   },
   {
    "duration": 7,
    "start_time": "2024-12-24T15:26:45.169Z"
   },
   {
    "duration": 196,
    "start_time": "2024-12-24T15:26:45.178Z"
   },
   {
    "duration": 191,
    "start_time": "2024-12-24T15:26:45.376Z"
   },
   {
    "duration": 214,
    "start_time": "2024-12-24T15:26:45.568Z"
   },
   {
    "duration": 11,
    "start_time": "2024-12-24T15:26:45.784Z"
   },
   {
    "duration": 130,
    "start_time": "2024-12-24T15:26:45.796Z"
   },
   {
    "duration": 113,
    "start_time": "2024-12-24T15:26:45.929Z"
   },
   {
    "duration": 6,
    "start_time": "2024-12-24T15:26:46.045Z"
   },
   {
    "duration": 210,
    "start_time": "2024-12-24T15:26:46.052Z"
   },
   {
    "duration": 8,
    "start_time": "2024-12-24T15:26:46.264Z"
   },
   {
    "duration": 158,
    "start_time": "2024-12-24T15:26:46.274Z"
   },
   {
    "duration": 114,
    "start_time": "2024-12-24T15:26:46.433Z"
   },
   {
    "duration": 108,
    "start_time": "2024-12-24T15:26:46.549Z"
   },
   {
    "duration": 743,
    "start_time": "2024-12-24T15:26:46.659Z"
   },
   {
    "duration": 7,
    "start_time": "2024-12-24T15:26:47.404Z"
   },
   {
    "duration": 14,
    "start_time": "2024-12-24T15:26:47.413Z"
   },
   {
    "duration": 6,
    "start_time": "2024-12-24T15:26:47.429Z"
   },
   {
    "duration": 4,
    "start_time": "2024-12-24T15:26:47.437Z"
   },
   {
    "duration": 2664,
    "start_time": "2024-12-24T18:45:46.657Z"
   },
   {
    "duration": 35,
    "start_time": "2024-12-24T18:45:49.324Z"
   },
   {
    "duration": 28,
    "start_time": "2024-12-24T18:45:49.361Z"
   },
   {
    "duration": 16,
    "start_time": "2024-12-24T18:45:49.391Z"
   },
   {
    "duration": 3,
    "start_time": "2024-12-24T18:45:49.408Z"
   },
   {
    "duration": 20,
    "start_time": "2024-12-24T18:45:49.413Z"
   },
   {
    "duration": 8,
    "start_time": "2024-12-24T18:45:49.435Z"
   },
   {
    "duration": 200,
    "start_time": "2024-12-24T18:45:49.444Z"
   },
   {
    "duration": 201,
    "start_time": "2024-12-24T18:45:49.646Z"
   },
   {
    "duration": 185,
    "start_time": "2024-12-24T18:45:49.850Z"
   },
   {
    "duration": 11,
    "start_time": "2024-12-24T18:45:50.038Z"
   },
   {
    "duration": 136,
    "start_time": "2024-12-24T18:45:50.051Z"
   },
   {
    "duration": 119,
    "start_time": "2024-12-24T18:45:50.190Z"
   },
   {
    "duration": 8,
    "start_time": "2024-12-24T18:45:50.311Z"
   },
   {
    "duration": 287,
    "start_time": "2024-12-24T18:45:50.320Z"
   },
   {
    "duration": 9,
    "start_time": "2024-12-24T18:45:50.610Z"
   },
   {
    "duration": 169,
    "start_time": "2024-12-24T18:45:50.621Z"
   },
   {
    "duration": 119,
    "start_time": "2024-12-24T18:45:50.792Z"
   },
   {
    "duration": 111,
    "start_time": "2024-12-24T18:45:50.913Z"
   },
   {
    "duration": 747,
    "start_time": "2024-12-24T18:45:51.026Z"
   },
   {
    "duration": 14,
    "start_time": "2024-12-24T18:45:51.775Z"
   },
   {
    "duration": 6,
    "start_time": "2024-12-24T18:45:51.790Z"
   },
   {
    "duration": 9,
    "start_time": "2024-12-24T18:45:51.798Z"
   },
   {
    "duration": 6,
    "start_time": "2024-12-24T18:45:51.808Z"
   },
   {
    "duration": 2481,
    "start_time": "2024-12-25T07:06:02.913Z"
   },
   {
    "duration": 36,
    "start_time": "2024-12-25T07:06:05.396Z"
   },
   {
    "duration": 22,
    "start_time": "2024-12-25T07:06:05.434Z"
   },
   {
    "duration": 14,
    "start_time": "2024-12-25T07:06:05.459Z"
   },
   {
    "duration": 3,
    "start_time": "2024-12-25T07:06:05.475Z"
   },
   {
    "duration": 20,
    "start_time": "2024-12-25T07:06:05.480Z"
   },
   {
    "duration": 34,
    "start_time": "2024-12-25T07:06:05.502Z"
   },
   {
    "duration": 164,
    "start_time": "2024-12-25T07:06:05.538Z"
   },
   {
    "duration": 193,
    "start_time": "2024-12-25T07:06:05.705Z"
   },
   {
    "duration": 161,
    "start_time": "2024-12-25T07:06:05.902Z"
   },
   {
    "duration": 10,
    "start_time": "2024-12-25T07:06:06.065Z"
   },
   {
    "duration": 129,
    "start_time": "2024-12-25T07:06:06.077Z"
   },
   {
    "duration": 116,
    "start_time": "2024-12-25T07:06:06.208Z"
   },
   {
    "duration": 6,
    "start_time": "2024-12-25T07:06:06.331Z"
   },
   {
    "duration": 268,
    "start_time": "2024-12-25T07:06:06.338Z"
   },
   {
    "duration": 9,
    "start_time": "2024-12-25T07:06:06.608Z"
   },
   {
    "duration": 153,
    "start_time": "2024-12-25T07:06:06.619Z"
   },
   {
    "duration": 115,
    "start_time": "2024-12-25T07:06:06.775Z"
   },
   {
    "duration": 111,
    "start_time": "2024-12-25T07:06:06.893Z"
   },
   {
    "duration": 754,
    "start_time": "2024-12-25T07:06:07.005Z"
   },
   {
    "duration": 7,
    "start_time": "2024-12-25T07:06:07.761Z"
   },
   {
    "duration": 6,
    "start_time": "2024-12-25T07:06:07.769Z"
   },
   {
    "duration": 7,
    "start_time": "2024-12-25T07:06:07.777Z"
   },
   {
    "duration": 4,
    "start_time": "2024-12-25T07:06:07.786Z"
   },
   {
    "duration": 155,
    "start_time": "2024-12-25T16:32:15.631Z"
   },
   {
    "duration": 2507,
    "start_time": "2024-12-25T16:32:23.004Z"
   },
   {
    "duration": 40,
    "start_time": "2024-12-25T16:32:25.513Z"
   },
   {
    "duration": 25,
    "start_time": "2024-12-25T16:32:25.555Z"
   },
   {
    "duration": 15,
    "start_time": "2024-12-25T16:32:25.583Z"
   },
   {
    "duration": 3,
    "start_time": "2024-12-25T16:32:25.599Z"
   },
   {
    "duration": 19,
    "start_time": "2024-12-25T16:32:25.604Z"
   },
   {
    "duration": 7,
    "start_time": "2024-12-25T16:32:25.625Z"
   },
   {
    "duration": 191,
    "start_time": "2024-12-25T16:32:25.633Z"
   },
   {
    "duration": 183,
    "start_time": "2024-12-25T16:32:25.826Z"
   },
   {
    "duration": 264,
    "start_time": "2024-12-25T16:32:26.012Z"
   },
   {
    "duration": 219,
    "start_time": "2024-12-25T16:32:26.278Z"
   },
   {
    "duration": 11,
    "start_time": "2024-12-25T16:32:26.499Z"
   },
   {
    "duration": 142,
    "start_time": "2024-12-25T16:32:26.511Z"
   },
   {
    "duration": 119,
    "start_time": "2024-12-25T16:32:26.655Z"
   },
   {
    "duration": 7,
    "start_time": "2024-12-25T16:32:26.776Z"
   },
   {
    "duration": 216,
    "start_time": "2024-12-25T16:32:26.786Z"
   },
   {
    "duration": 9,
    "start_time": "2024-12-25T16:32:27.004Z"
   },
   {
    "duration": 159,
    "start_time": "2024-12-25T16:32:27.014Z"
   },
   {
    "duration": 120,
    "start_time": "2024-12-25T16:32:27.175Z"
   },
   {
    "duration": 109,
    "start_time": "2024-12-25T16:32:27.297Z"
   },
   {
    "duration": 739,
    "start_time": "2024-12-25T16:32:27.408Z"
   },
   {
    "duration": 7,
    "start_time": "2024-12-25T16:32:28.148Z"
   },
   {
    "duration": 16,
    "start_time": "2024-12-25T16:32:28.157Z"
   },
   {
    "duration": 7,
    "start_time": "2024-12-25T16:32:28.175Z"
   },
   {
    "duration": 5,
    "start_time": "2024-12-25T16:32:28.184Z"
   },
   {
    "duration": 325,
    "start_time": "2024-12-25T16:38:06.523Z"
   },
   {
    "duration": 14,
    "start_time": "2024-12-25T16:46:15.309Z"
   },
   {
    "duration": 218,
    "start_time": "2024-12-25T16:49:44.129Z"
   },
   {
    "duration": 222,
    "start_time": "2024-12-25T16:54:51.843Z"
   },
   {
    "duration": 15,
    "start_time": "2024-12-25T16:57:29.661Z"
   },
   {
    "duration": 338,
    "start_time": "2024-12-25T17:00:33.300Z"
   },
   {
    "duration": 224,
    "start_time": "2024-12-25T17:06:18.542Z"
   },
   {
    "duration": 784,
    "start_time": "2024-12-25T17:23:29.329Z"
   },
   {
    "duration": 24,
    "start_time": "2024-12-25T17:23:30.115Z"
   },
   {
    "duration": 30,
    "start_time": "2024-12-25T17:23:30.141Z"
   },
   {
    "duration": 15,
    "start_time": "2024-12-25T17:23:30.172Z"
   },
   {
    "duration": 3,
    "start_time": "2024-12-25T17:23:30.190Z"
   },
   {
    "duration": 19,
    "start_time": "2024-12-25T17:23:30.194Z"
   },
   {
    "duration": 7,
    "start_time": "2024-12-25T17:23:30.215Z"
   },
   {
    "duration": 188,
    "start_time": "2024-12-25T17:23:30.224Z"
   },
   {
    "duration": 305,
    "start_time": "2024-12-25T17:23:30.413Z"
   },
   {
    "duration": 169,
    "start_time": "2024-12-25T17:23:30.720Z"
   },
   {
    "duration": 13,
    "start_time": "2024-12-25T17:23:30.891Z"
   },
   {
    "duration": 128,
    "start_time": "2024-12-25T17:23:30.906Z"
   },
   {
    "duration": 279,
    "start_time": "2024-12-25T17:23:31.036Z"
   },
   {
    "duration": 7,
    "start_time": "2024-12-25T17:23:31.318Z"
   },
   {
    "duration": 245,
    "start_time": "2024-12-25T17:23:31.327Z"
   },
   {
    "duration": 10,
    "start_time": "2024-12-25T17:23:31.573Z"
   },
   {
    "duration": 151,
    "start_time": "2024-12-25T17:23:31.586Z"
   },
   {
    "duration": 116,
    "start_time": "2024-12-25T17:23:31.740Z"
   },
   {
    "duration": 141,
    "start_time": "2024-12-25T17:23:31.858Z"
   },
   {
    "duration": 797,
    "start_time": "2024-12-25T17:23:32.001Z"
   },
   {
    "duration": 7,
    "start_time": "2024-12-25T17:23:32.800Z"
   },
   {
    "duration": 5,
    "start_time": "2024-12-25T17:23:32.808Z"
   },
   {
    "duration": 7,
    "start_time": "2024-12-25T17:23:32.814Z"
   },
   {
    "duration": 5,
    "start_time": "2024-12-25T17:23:32.823Z"
   },
   {
    "duration": 2540,
    "start_time": "2024-12-25T18:54:52.387Z"
   },
   {
    "duration": 35,
    "start_time": "2024-12-25T18:54:54.929Z"
   },
   {
    "duration": 23,
    "start_time": "2024-12-25T18:54:54.965Z"
   },
   {
    "duration": 14,
    "start_time": "2024-12-25T18:54:54.990Z"
   },
   {
    "duration": 3,
    "start_time": "2024-12-25T18:54:55.006Z"
   },
   {
    "duration": 20,
    "start_time": "2024-12-25T18:54:55.010Z"
   },
   {
    "duration": 7,
    "start_time": "2024-12-25T18:54:55.032Z"
   },
   {
    "duration": 157,
    "start_time": "2024-12-25T18:54:55.069Z"
   },
   {
    "duration": 258,
    "start_time": "2024-12-25T18:54:55.228Z"
   },
   {
    "duration": 165,
    "start_time": "2024-12-25T18:54:55.490Z"
   },
   {
    "duration": 21,
    "start_time": "2024-12-25T18:54:55.657Z"
   },
   {
    "duration": 126,
    "start_time": "2024-12-25T18:54:55.680Z"
   },
   {
    "duration": 328,
    "start_time": "2024-12-25T18:54:55.808Z"
   },
   {
    "duration": 7,
    "start_time": "2024-12-25T18:54:56.139Z"
   },
   {
    "duration": 244,
    "start_time": "2024-12-25T18:54:56.147Z"
   },
   {
    "duration": 8,
    "start_time": "2024-12-25T18:54:56.393Z"
   },
   {
    "duration": 141,
    "start_time": "2024-12-25T18:54:56.403Z"
   },
   {
    "duration": 115,
    "start_time": "2024-12-25T18:54:56.547Z"
   },
   {
    "duration": 110,
    "start_time": "2024-12-25T18:54:56.664Z"
   },
   {
    "duration": 757,
    "start_time": "2024-12-25T18:54:56.777Z"
   },
   {
    "duration": 6,
    "start_time": "2024-12-25T18:54:57.536Z"
   },
   {
    "duration": 5,
    "start_time": "2024-12-25T18:54:57.544Z"
   },
   {
    "duration": 22,
    "start_time": "2024-12-25T18:54:57.551Z"
   },
   {
    "duration": 5,
    "start_time": "2024-12-25T18:54:57.575Z"
   },
   {
    "duration": 7,
    "start_time": "2024-12-25T19:19:22.603Z"
   },
   {
    "duration": 159,
    "start_time": "2024-12-26T02:29:29.835Z"
   },
   {
    "duration": 2506,
    "start_time": "2024-12-26T02:29:36.920Z"
   },
   {
    "duration": 36,
    "start_time": "2024-12-26T02:29:39.429Z"
   },
   {
    "duration": 23,
    "start_time": "2024-12-26T02:29:39.467Z"
   },
   {
    "duration": 15,
    "start_time": "2024-12-26T02:29:39.492Z"
   },
   {
    "duration": 3,
    "start_time": "2024-12-26T02:29:39.509Z"
   },
   {
    "duration": 20,
    "start_time": "2024-12-26T02:29:39.514Z"
   },
   {
    "duration": 7,
    "start_time": "2024-12-26T02:29:39.535Z"
   },
   {
    "duration": 190,
    "start_time": "2024-12-26T02:29:39.544Z"
   },
   {
    "duration": 291,
    "start_time": "2024-12-26T02:29:39.736Z"
   },
   {
    "duration": 212,
    "start_time": "2024-12-26T02:29:40.029Z"
   },
   {
    "duration": 13,
    "start_time": "2024-12-26T02:29:40.243Z"
   },
   {
    "duration": 128,
    "start_time": "2024-12-26T02:29:40.258Z"
   },
   {
    "duration": 276,
    "start_time": "2024-12-26T02:29:40.388Z"
   },
   {
    "duration": 7,
    "start_time": "2024-12-26T02:29:40.667Z"
   },
   {
    "duration": 218,
    "start_time": "2024-12-26T02:29:40.675Z"
   },
   {
    "duration": 7,
    "start_time": "2024-12-26T02:29:40.896Z"
   },
   {
    "duration": 159,
    "start_time": "2024-12-26T02:29:40.904Z"
   },
   {
    "duration": 129,
    "start_time": "2024-12-26T02:29:41.065Z"
   },
   {
    "duration": 109,
    "start_time": "2024-12-26T02:29:41.197Z"
   },
   {
    "duration": 741,
    "start_time": "2024-12-26T02:29:41.308Z"
   },
   {
    "duration": 9,
    "start_time": "2024-12-26T02:29:42.050Z"
   },
   {
    "duration": 5,
    "start_time": "2024-12-26T02:29:42.061Z"
   },
   {
    "duration": 23,
    "start_time": "2024-12-26T02:29:42.068Z"
   },
   {
    "duration": 5,
    "start_time": "2024-12-26T02:29:42.093Z"
   },
   {
    "duration": 13,
    "start_time": "2024-12-26T02:38:44.710Z"
   },
   {
    "duration": 2581,
    "start_time": "2024-12-26T18:46:12.794Z"
   },
   {
    "duration": 36,
    "start_time": "2024-12-26T18:46:15.378Z"
   },
   {
    "duration": 22,
    "start_time": "2024-12-26T18:46:15.416Z"
   },
   {
    "duration": 14,
    "start_time": "2024-12-26T18:46:15.440Z"
   },
   {
    "duration": 4,
    "start_time": "2024-12-26T18:46:15.457Z"
   },
   {
    "duration": 35,
    "start_time": "2024-12-26T18:46:15.462Z"
   },
   {
    "duration": 7,
    "start_time": "2024-12-26T18:46:15.499Z"
   },
   {
    "duration": 177,
    "start_time": "2024-12-26T18:46:15.507Z"
   },
   {
    "duration": 301,
    "start_time": "2024-12-26T18:46:15.686Z"
   },
   {
    "duration": 158,
    "start_time": "2024-12-26T18:46:15.989Z"
   },
   {
    "duration": 14,
    "start_time": "2024-12-26T18:46:16.149Z"
   },
   {
    "duration": 716,
    "start_time": "2024-12-26T18:46:16.166Z"
   },
   {
    "duration": 0,
    "start_time": "2024-12-26T18:46:16.886Z"
   },
   {
    "duration": 0,
    "start_time": "2024-12-26T18:46:16.887Z"
   },
   {
    "duration": 0,
    "start_time": "2024-12-26T18:46:16.889Z"
   },
   {
    "duration": 0,
    "start_time": "2024-12-26T18:46:16.890Z"
   },
   {
    "duration": 0,
    "start_time": "2024-12-26T18:46:16.892Z"
   },
   {
    "duration": 0,
    "start_time": "2024-12-26T18:46:16.894Z"
   },
   {
    "duration": 0,
    "start_time": "2024-12-26T18:46:16.895Z"
   },
   {
    "duration": 1,
    "start_time": "2024-12-26T18:46:16.896Z"
   },
   {
    "duration": 0,
    "start_time": "2024-12-26T18:46:16.898Z"
   },
   {
    "duration": 0,
    "start_time": "2024-12-26T18:46:16.900Z"
   },
   {
    "duration": 0,
    "start_time": "2024-12-26T18:46:16.902Z"
   },
   {
    "duration": 0,
    "start_time": "2024-12-26T18:46:16.903Z"
   },
   {
    "duration": 45,
    "start_time": "2024-12-26T19:06:59.166Z"
   },
   {
    "duration": 128,
    "start_time": "2024-12-26T19:10:03.103Z"
   },
   {
    "duration": 54,
    "start_time": "2024-12-26T19:30:03.651Z"
   },
   {
    "duration": 8,
    "start_time": "2024-12-26T19:30:46.938Z"
   },
   {
    "duration": 5,
    "start_time": "2024-12-26T19:41:54.440Z"
   },
   {
    "duration": 2521,
    "start_time": "2024-12-27T01:15:08.319Z"
   },
   {
    "duration": 36,
    "start_time": "2024-12-27T01:15:10.842Z"
   },
   {
    "duration": 21,
    "start_time": "2024-12-27T01:15:10.879Z"
   },
   {
    "duration": 19,
    "start_time": "2024-12-27T01:15:10.902Z"
   },
   {
    "duration": 4,
    "start_time": "2024-12-27T01:15:10.923Z"
   },
   {
    "duration": 19,
    "start_time": "2024-12-27T01:15:10.928Z"
   },
   {
    "duration": 8,
    "start_time": "2024-12-27T01:15:10.948Z"
   },
   {
    "duration": 183,
    "start_time": "2024-12-27T01:15:10.958Z"
   },
   {
    "duration": 311,
    "start_time": "2024-12-27T01:15:11.142Z"
   },
   {
    "duration": 206,
    "start_time": "2024-12-27T01:15:11.456Z"
   },
   {
    "duration": 8,
    "start_time": "2024-12-27T01:15:11.664Z"
   },
   {
    "duration": 0,
    "start_time": "2024-12-27T01:15:11.674Z"
   },
   {
    "duration": 0,
    "start_time": "2024-12-27T01:15:11.675Z"
   },
   {
    "duration": 0,
    "start_time": "2024-12-27T01:15:11.677Z"
   },
   {
    "duration": 0,
    "start_time": "2024-12-27T01:15:11.678Z"
   },
   {
    "duration": 0,
    "start_time": "2024-12-27T01:15:11.679Z"
   },
   {
    "duration": 0,
    "start_time": "2024-12-27T01:15:11.682Z"
   },
   {
    "duration": 1,
    "start_time": "2024-12-27T01:15:11.682Z"
   },
   {
    "duration": 0,
    "start_time": "2024-12-27T01:15:11.684Z"
   },
   {
    "duration": 0,
    "start_time": "2024-12-27T01:15:11.685Z"
   },
   {
    "duration": 0,
    "start_time": "2024-12-27T01:15:11.686Z"
   },
   {
    "duration": 0,
    "start_time": "2024-12-27T01:15:11.687Z"
   },
   {
    "duration": 0,
    "start_time": "2024-12-27T01:15:11.709Z"
   },
   {
    "duration": 0,
    "start_time": "2024-12-27T01:15:11.710Z"
   },
   {
    "duration": 0,
    "start_time": "2024-12-27T01:15:11.711Z"
   },
   {
    "duration": 330,
    "start_time": "2024-12-27T01:21:49.509Z"
   },
   {
    "duration": 828,
    "start_time": "2024-12-27T01:22:28.524Z"
   },
   {
    "duration": 25,
    "start_time": "2024-12-27T01:22:29.354Z"
   },
   {
    "duration": 31,
    "start_time": "2024-12-27T01:22:29.380Z"
   },
   {
    "duration": 14,
    "start_time": "2024-12-27T01:22:29.413Z"
   },
   {
    "duration": 3,
    "start_time": "2024-12-27T01:22:29.429Z"
   },
   {
    "duration": 19,
    "start_time": "2024-12-27T01:22:29.434Z"
   },
   {
    "duration": 7,
    "start_time": "2024-12-27T01:22:29.454Z"
   },
   {
    "duration": 190,
    "start_time": "2024-12-27T01:22:29.463Z"
   },
   {
    "duration": 355,
    "start_time": "2024-12-27T01:22:29.655Z"
   },
   {
    "duration": 161,
    "start_time": "2024-12-27T01:22:30.013Z"
   },
   {
    "duration": 322,
    "start_time": "2024-12-27T01:22:30.176Z"
   },
   {
    "duration": 0,
    "start_time": "2024-12-27T01:22:30.500Z"
   },
   {
    "duration": 0,
    "start_time": "2024-12-27T01:22:30.502Z"
   },
   {
    "duration": 0,
    "start_time": "2024-12-27T01:22:30.508Z"
   },
   {
    "duration": 0,
    "start_time": "2024-12-27T01:22:30.509Z"
   },
   {
    "duration": 0,
    "start_time": "2024-12-27T01:22:30.511Z"
   },
   {
    "duration": 0,
    "start_time": "2024-12-27T01:22:30.512Z"
   },
   {
    "duration": 0,
    "start_time": "2024-12-27T01:22:30.513Z"
   },
   {
    "duration": 0,
    "start_time": "2024-12-27T01:22:30.514Z"
   },
   {
    "duration": 0,
    "start_time": "2024-12-27T01:22:30.515Z"
   },
   {
    "duration": 0,
    "start_time": "2024-12-27T01:22:30.516Z"
   },
   {
    "duration": 0,
    "start_time": "2024-12-27T01:22:30.518Z"
   },
   {
    "duration": 0,
    "start_time": "2024-12-27T01:22:30.519Z"
   },
   {
    "duration": 0,
    "start_time": "2024-12-27T01:22:30.520Z"
   },
   {
    "duration": 0,
    "start_time": "2024-12-27T01:22:30.521Z"
   },
   {
    "duration": 10,
    "start_time": "2024-12-27T01:25:30.092Z"
   },
   {
    "duration": 18,
    "start_time": "2024-12-27T01:25:41.967Z"
   },
   {
    "duration": 6,
    "start_time": "2024-12-27T01:27:24.463Z"
   },
   {
    "duration": 19,
    "start_time": "2024-12-27T01:27:43.768Z"
   },
   {
    "duration": 767,
    "start_time": "2024-12-27T01:29:37.687Z"
   },
   {
    "duration": 27,
    "start_time": "2024-12-27T01:29:38.456Z"
   },
   {
    "duration": 31,
    "start_time": "2024-12-27T01:29:38.486Z"
   },
   {
    "duration": 17,
    "start_time": "2024-12-27T01:29:38.520Z"
   },
   {
    "duration": 4,
    "start_time": "2024-12-27T01:29:38.539Z"
   },
   {
    "duration": 20,
    "start_time": "2024-12-27T01:29:38.545Z"
   },
   {
    "duration": 7,
    "start_time": "2024-12-27T01:29:38.568Z"
   },
   {
    "duration": 180,
    "start_time": "2024-12-27T01:29:38.577Z"
   },
   {
    "duration": 343,
    "start_time": "2024-12-27T01:29:38.759Z"
   },
   {
    "duration": 159,
    "start_time": "2024-12-27T01:29:39.104Z"
   },
   {
    "duration": 7,
    "start_time": "2024-12-27T01:29:39.265Z"
   },
   {
    "duration": 17,
    "start_time": "2024-12-27T01:29:39.274Z"
   },
   {
    "duration": 18,
    "start_time": "2024-12-27T01:29:39.293Z"
   },
   {
    "duration": 230,
    "start_time": "2024-12-27T01:29:39.314Z"
   },
   {
    "duration": 0,
    "start_time": "2024-12-27T01:29:39.546Z"
   },
   {
    "duration": 0,
    "start_time": "2024-12-27T01:29:39.549Z"
   },
   {
    "duration": 0,
    "start_time": "2024-12-27T01:29:39.550Z"
   },
   {
    "duration": 0,
    "start_time": "2024-12-27T01:29:39.551Z"
   },
   {
    "duration": 0,
    "start_time": "2024-12-27T01:29:39.552Z"
   },
   {
    "duration": 0,
    "start_time": "2024-12-27T01:29:39.554Z"
   },
   {
    "duration": 0,
    "start_time": "2024-12-27T01:29:39.555Z"
   },
   {
    "duration": 0,
    "start_time": "2024-12-27T01:29:39.556Z"
   },
   {
    "duration": 0,
    "start_time": "2024-12-27T01:29:39.557Z"
   },
   {
    "duration": 0,
    "start_time": "2024-12-27T01:29:39.559Z"
   },
   {
    "duration": 0,
    "start_time": "2024-12-27T01:29:39.560Z"
   },
   {
    "duration": 780,
    "start_time": "2024-12-27T01:48:22.165Z"
   },
   {
    "duration": 27,
    "start_time": "2024-12-27T01:48:22.947Z"
   },
   {
    "duration": 34,
    "start_time": "2024-12-27T01:48:22.976Z"
   },
   {
    "duration": 15,
    "start_time": "2024-12-27T01:48:23.011Z"
   },
   {
    "duration": 3,
    "start_time": "2024-12-27T01:48:23.028Z"
   },
   {
    "duration": 18,
    "start_time": "2024-12-27T01:48:23.033Z"
   },
   {
    "duration": 7,
    "start_time": "2024-12-27T01:48:23.052Z"
   },
   {
    "duration": 185,
    "start_time": "2024-12-27T01:48:23.060Z"
   },
   {
    "duration": 338,
    "start_time": "2024-12-27T01:48:23.247Z"
   },
   {
    "duration": 152,
    "start_time": "2024-12-27T01:48:23.587Z"
   },
   {
    "duration": 8,
    "start_time": "2024-12-27T01:48:23.741Z"
   },
   {
    "duration": 19,
    "start_time": "2024-12-27T01:48:23.750Z"
   },
   {
    "duration": 5,
    "start_time": "2024-12-27T01:48:23.772Z"
   },
   {
    "duration": 7,
    "start_time": "2024-12-27T01:48:39.816Z"
   },
   {
    "duration": 264,
    "start_time": "2024-12-27T01:49:34.133Z"
   },
   {
    "duration": 259,
    "start_time": "2024-12-27T01:51:06.779Z"
   },
   {
    "duration": 285,
    "start_time": "2024-12-27T01:51:46.789Z"
   },
   {
    "duration": 257,
    "start_time": "2024-12-27T01:52:54.262Z"
   },
   {
    "duration": 165,
    "start_time": "2024-12-27T01:53:38.050Z"
   },
   {
    "duration": 807,
    "start_time": "2024-12-27T01:55:30.644Z"
   },
   {
    "duration": 24,
    "start_time": "2024-12-27T01:55:31.453Z"
   },
   {
    "duration": 31,
    "start_time": "2024-12-27T01:55:31.479Z"
   },
   {
    "duration": 14,
    "start_time": "2024-12-27T01:55:31.511Z"
   },
   {
    "duration": 2,
    "start_time": "2024-12-27T01:55:31.528Z"
   },
   {
    "duration": 19,
    "start_time": "2024-12-27T01:55:31.532Z"
   },
   {
    "duration": 6,
    "start_time": "2024-12-27T01:55:31.553Z"
   },
   {
    "duration": 190,
    "start_time": "2024-12-27T01:55:31.561Z"
   },
   {
    "duration": 349,
    "start_time": "2024-12-27T01:55:31.753Z"
   },
   {
    "duration": 168,
    "start_time": "2024-12-27T01:55:32.103Z"
   },
   {
    "duration": 8,
    "start_time": "2024-12-27T01:55:32.273Z"
   },
   {
    "duration": 32,
    "start_time": "2024-12-27T01:55:32.282Z"
   },
   {
    "duration": 5,
    "start_time": "2024-12-27T01:55:32.315Z"
   },
   {
    "duration": 6,
    "start_time": "2024-12-27T01:55:32.324Z"
   },
   {
    "duration": 196,
    "start_time": "2024-12-27T01:55:32.331Z"
   },
   {
    "duration": 6,
    "start_time": "2024-12-27T01:55:32.529Z"
   },
   {
    "duration": 225,
    "start_time": "2024-12-27T01:55:32.537Z"
   },
   {
    "duration": 10,
    "start_time": "2024-12-27T01:55:32.763Z"
   },
   {
    "duration": 156,
    "start_time": "2024-12-27T01:55:32.775Z"
   },
   {
    "duration": 118,
    "start_time": "2024-12-27T01:55:32.933Z"
   },
   {
    "duration": 104,
    "start_time": "2024-12-27T01:55:33.053Z"
   },
   {
    "duration": 794,
    "start_time": "2024-12-27T01:55:33.158Z"
   },
   {
    "duration": 6,
    "start_time": "2024-12-27T01:55:33.954Z"
   },
   {
    "duration": 6,
    "start_time": "2024-12-27T01:55:33.962Z"
   },
   {
    "duration": 7,
    "start_time": "2024-12-27T01:55:33.969Z"
   },
   {
    "duration": 5,
    "start_time": "2024-12-27T01:55:33.978Z"
   },
   {
    "duration": 7,
    "start_time": "2024-12-27T01:56:27.216Z"
   },
   {
    "duration": 4,
    "start_time": "2024-12-27T01:56:48.702Z"
   },
   {
    "duration": 5,
    "start_time": "2024-12-27T01:57:11.960Z"
   },
   {
    "duration": 4,
    "start_time": "2024-12-27T01:57:22.890Z"
   },
   {
    "duration": 6,
    "start_time": "2024-12-27T01:58:04.039Z"
   },
   {
    "duration": 4,
    "start_time": "2024-12-27T01:58:10.689Z"
   },
   {
    "duration": 8,
    "start_time": "2024-12-27T01:58:23.439Z"
   },
   {
    "duration": 5,
    "start_time": "2024-12-27T01:58:27.757Z"
   },
   {
    "duration": 9,
    "start_time": "2024-12-27T02:02:35.264Z"
   },
   {
    "duration": 8,
    "start_time": "2024-12-27T02:02:54.888Z"
   },
   {
    "duration": 8,
    "start_time": "2024-12-27T02:03:18.943Z"
   },
   {
    "duration": 836,
    "start_time": "2024-12-27T02:03:27.617Z"
   },
   {
    "duration": 24,
    "start_time": "2024-12-27T02:03:28.455Z"
   },
   {
    "duration": 30,
    "start_time": "2024-12-27T02:03:28.480Z"
   },
   {
    "duration": 14,
    "start_time": "2024-12-27T02:03:28.511Z"
   },
   {
    "duration": 4,
    "start_time": "2024-12-27T02:03:28.528Z"
   },
   {
    "duration": 20,
    "start_time": "2024-12-27T02:03:28.533Z"
   },
   {
    "duration": 7,
    "start_time": "2024-12-27T02:03:28.554Z"
   },
   {
    "duration": 185,
    "start_time": "2024-12-27T02:03:28.562Z"
   },
   {
    "duration": 350,
    "start_time": "2024-12-27T02:03:28.748Z"
   },
   {
    "duration": 161,
    "start_time": "2024-12-27T02:03:29.100Z"
   },
   {
    "duration": 231,
    "start_time": "2024-12-27T02:03:29.263Z"
   },
   {
    "duration": 0,
    "start_time": "2024-12-27T02:03:29.497Z"
   },
   {
    "duration": 0,
    "start_time": "2024-12-27T02:03:29.498Z"
   },
   {
    "duration": 0,
    "start_time": "2024-12-27T02:03:29.499Z"
   },
   {
    "duration": 0,
    "start_time": "2024-12-27T02:03:29.510Z"
   },
   {
    "duration": 1,
    "start_time": "2024-12-27T02:03:29.510Z"
   },
   {
    "duration": 1,
    "start_time": "2024-12-27T02:03:29.511Z"
   },
   {
    "duration": 0,
    "start_time": "2024-12-27T02:03:29.513Z"
   },
   {
    "duration": 0,
    "start_time": "2024-12-27T02:03:29.514Z"
   },
   {
    "duration": 0,
    "start_time": "2024-12-27T02:03:29.515Z"
   },
   {
    "duration": 0,
    "start_time": "2024-12-27T02:03:29.517Z"
   },
   {
    "duration": 0,
    "start_time": "2024-12-27T02:03:29.517Z"
   },
   {
    "duration": 0,
    "start_time": "2024-12-27T02:03:29.518Z"
   },
   {
    "duration": 0,
    "start_time": "2024-12-27T02:03:29.520Z"
   },
   {
    "duration": 0,
    "start_time": "2024-12-27T02:03:29.521Z"
   },
   {
    "duration": 0,
    "start_time": "2024-12-27T02:03:29.522Z"
   },
   {
    "duration": 9,
    "start_time": "2024-12-27T02:04:54.813Z"
   },
   {
    "duration": 20,
    "start_time": "2024-12-27T02:04:59.896Z"
   },
   {
    "duration": 831,
    "start_time": "2024-12-27T02:05:24.117Z"
   },
   {
    "duration": 25,
    "start_time": "2024-12-27T02:05:24.951Z"
   },
   {
    "duration": 34,
    "start_time": "2024-12-27T02:05:24.978Z"
   },
   {
    "duration": 15,
    "start_time": "2024-12-27T02:05:25.013Z"
   },
   {
    "duration": 4,
    "start_time": "2024-12-27T02:05:25.030Z"
   },
   {
    "duration": 20,
    "start_time": "2024-12-27T02:05:25.035Z"
   },
   {
    "duration": 8,
    "start_time": "2024-12-27T02:05:25.056Z"
   },
   {
    "duration": 187,
    "start_time": "2024-12-27T02:05:25.066Z"
   },
   {
    "duration": 339,
    "start_time": "2024-12-27T02:05:25.255Z"
   },
   {
    "duration": 166,
    "start_time": "2024-12-27T02:05:25.596Z"
   },
   {
    "duration": 10,
    "start_time": "2024-12-27T02:05:25.763Z"
   },
   {
    "duration": 19,
    "start_time": "2024-12-27T02:05:25.774Z"
   },
   {
    "duration": 17,
    "start_time": "2024-12-27T02:05:25.794Z"
   },
   {
    "duration": 7,
    "start_time": "2024-12-27T02:05:25.814Z"
   },
   {
    "duration": 184,
    "start_time": "2024-12-27T02:05:25.822Z"
   },
   {
    "duration": 7,
    "start_time": "2024-12-27T02:05:26.008Z"
   },
   {
    "duration": 209,
    "start_time": "2024-12-27T02:05:26.016Z"
   },
   {
    "duration": 8,
    "start_time": "2024-12-27T02:05:26.227Z"
   },
   {
    "duration": 164,
    "start_time": "2024-12-27T02:05:26.237Z"
   },
   {
    "duration": 113,
    "start_time": "2024-12-27T02:05:26.403Z"
   },
   {
    "duration": 109,
    "start_time": "2024-12-27T02:05:26.517Z"
   },
   {
    "duration": 270,
    "start_time": "2024-12-27T02:05:26.628Z"
   },
   {
    "duration": 12,
    "start_time": "2024-12-27T02:05:26.900Z"
   },
   {
    "duration": 5,
    "start_time": "2024-12-27T02:05:26.913Z"
   },
   {
    "duration": 6,
    "start_time": "2024-12-27T02:05:26.919Z"
   },
   {
    "duration": 5,
    "start_time": "2024-12-27T02:05:26.926Z"
   },
   {
    "duration": 4,
    "start_time": "2024-12-27T02:13:03.043Z"
   },
   {
    "duration": 4,
    "start_time": "2024-12-27T02:13:19.571Z"
   },
   {
    "duration": 4,
    "start_time": "2024-12-27T02:13:29.530Z"
   },
   {
    "duration": 4,
    "start_time": "2024-12-27T02:13:53.579Z"
   },
   {
    "duration": 5,
    "start_time": "2024-12-27T02:14:36.825Z"
   },
   {
    "duration": 3,
    "start_time": "2024-12-27T02:14:48.489Z"
   },
   {
    "duration": 5,
    "start_time": "2024-12-27T02:15:53.653Z"
   },
   {
    "duration": 6,
    "start_time": "2024-12-27T02:17:17.779Z"
   },
   {
    "duration": 816,
    "start_time": "2024-12-27T02:17:24.836Z"
   },
   {
    "duration": 24,
    "start_time": "2024-12-27T02:17:25.654Z"
   },
   {
    "duration": 31,
    "start_time": "2024-12-27T02:17:25.679Z"
   },
   {
    "duration": 14,
    "start_time": "2024-12-27T02:17:25.711Z"
   },
   {
    "duration": 3,
    "start_time": "2024-12-27T02:17:25.727Z"
   },
   {
    "duration": 18,
    "start_time": "2024-12-27T02:17:25.732Z"
   },
   {
    "duration": 7,
    "start_time": "2024-12-27T02:17:25.752Z"
   },
   {
    "duration": 187,
    "start_time": "2024-12-27T02:17:25.761Z"
   },
   {
    "duration": 343,
    "start_time": "2024-12-27T02:17:25.950Z"
   },
   {
    "duration": 158,
    "start_time": "2024-12-27T02:17:26.297Z"
   },
   {
    "duration": 3,
    "start_time": "2024-12-27T02:17:26.458Z"
   },
   {
    "duration": 0,
    "start_time": "2024-12-27T02:17:26.463Z"
   },
   {
    "duration": 0,
    "start_time": "2024-12-27T02:17:26.464Z"
   },
   {
    "duration": 0,
    "start_time": "2024-12-27T02:17:26.465Z"
   },
   {
    "duration": 0,
    "start_time": "2024-12-27T02:17:26.467Z"
   },
   {
    "duration": 0,
    "start_time": "2024-12-27T02:17:26.468Z"
   },
   {
    "duration": 0,
    "start_time": "2024-12-27T02:17:26.470Z"
   },
   {
    "duration": 0,
    "start_time": "2024-12-27T02:17:26.471Z"
   },
   {
    "duration": 0,
    "start_time": "2024-12-27T02:17:26.473Z"
   },
   {
    "duration": 0,
    "start_time": "2024-12-27T02:17:26.474Z"
   },
   {
    "duration": 0,
    "start_time": "2024-12-27T02:17:26.475Z"
   },
   {
    "duration": 0,
    "start_time": "2024-12-27T02:17:26.476Z"
   },
   {
    "duration": 0,
    "start_time": "2024-12-27T02:17:26.509Z"
   },
   {
    "duration": 0,
    "start_time": "2024-12-27T02:17:26.511Z"
   },
   {
    "duration": 0,
    "start_time": "2024-12-27T02:17:26.513Z"
   },
   {
    "duration": 0,
    "start_time": "2024-12-27T02:17:26.514Z"
   },
   {
    "duration": 5,
    "start_time": "2024-12-27T02:18:46.819Z"
   },
   {
    "duration": 6,
    "start_time": "2024-12-27T02:22:51.073Z"
   },
   {
    "duration": 4,
    "start_time": "2024-12-27T02:23:28.151Z"
   },
   {
    "duration": 4,
    "start_time": "2024-12-27T02:23:40.644Z"
   },
   {
    "duration": 19,
    "start_time": "2024-12-27T02:23:44.251Z"
   },
   {
    "duration": 9,
    "start_time": "2024-12-27T02:27:38.585Z"
   },
   {
    "duration": 8,
    "start_time": "2024-12-27T02:28:20.597Z"
   },
   {
    "duration": 781,
    "start_time": "2024-12-27T02:28:31.371Z"
   },
   {
    "duration": 26,
    "start_time": "2024-12-27T02:28:32.154Z"
   },
   {
    "duration": 30,
    "start_time": "2024-12-27T02:28:32.181Z"
   },
   {
    "duration": 14,
    "start_time": "2024-12-27T02:28:32.214Z"
   },
   {
    "duration": 3,
    "start_time": "2024-12-27T02:28:32.231Z"
   },
   {
    "duration": 19,
    "start_time": "2024-12-27T02:28:32.236Z"
   },
   {
    "duration": 7,
    "start_time": "2024-12-27T02:28:32.257Z"
   },
   {
    "duration": 186,
    "start_time": "2024-12-27T02:28:32.266Z"
   },
   {
    "duration": 343,
    "start_time": "2024-12-27T02:28:32.454Z"
   },
   {
    "duration": 155,
    "start_time": "2024-12-27T02:28:32.801Z"
   },
   {
    "duration": 8,
    "start_time": "2024-12-27T02:28:32.958Z"
   },
   {
    "duration": 16,
    "start_time": "2024-12-27T02:28:32.968Z"
   },
   {
    "duration": 24,
    "start_time": "2024-12-27T02:28:32.986Z"
   },
   {
    "duration": 7,
    "start_time": "2024-12-27T02:28:33.012Z"
   },
   {
    "duration": 192,
    "start_time": "2024-12-27T02:28:33.021Z"
   },
   {
    "duration": 7,
    "start_time": "2024-12-27T02:28:33.214Z"
   },
   {
    "duration": 217,
    "start_time": "2024-12-27T02:28:33.223Z"
   },
   {
    "duration": 8,
    "start_time": "2024-12-27T02:28:33.441Z"
   },
   {
    "duration": 158,
    "start_time": "2024-12-27T02:28:33.451Z"
   },
   {
    "duration": 114,
    "start_time": "2024-12-27T02:28:33.611Z"
   },
   {
    "duration": 109,
    "start_time": "2024-12-27T02:28:33.727Z"
   },
   {
    "duration": 274,
    "start_time": "2024-12-27T02:28:33.838Z"
   },
   {
    "duration": 6,
    "start_time": "2024-12-27T02:28:34.115Z"
   },
   {
    "duration": 3,
    "start_time": "2024-12-27T02:28:34.123Z"
   },
   {
    "duration": 6,
    "start_time": "2024-12-27T02:28:34.128Z"
   },
   {
    "duration": 5,
    "start_time": "2024-12-27T02:28:34.136Z"
   },
   {
    "duration": 800,
    "start_time": "2024-12-27T02:41:40.063Z"
   },
   {
    "duration": 25,
    "start_time": "2024-12-27T02:41:40.865Z"
   },
   {
    "duration": 27,
    "start_time": "2024-12-27T02:41:40.892Z"
   },
   {
    "duration": 14,
    "start_time": "2024-12-27T02:41:40.921Z"
   },
   {
    "duration": 3,
    "start_time": "2024-12-27T02:41:40.938Z"
   },
   {
    "duration": 19,
    "start_time": "2024-12-27T02:41:40.943Z"
   },
   {
    "duration": 8,
    "start_time": "2024-12-27T02:41:40.963Z"
   },
   {
    "duration": 193,
    "start_time": "2024-12-27T02:41:40.972Z"
   },
   {
    "duration": 339,
    "start_time": "2024-12-27T02:41:41.167Z"
   },
   {
    "duration": 171,
    "start_time": "2024-12-27T02:41:41.508Z"
   },
   {
    "duration": 9,
    "start_time": "2024-12-27T02:41:41.680Z"
   },
   {
    "duration": 20,
    "start_time": "2024-12-27T02:41:41.691Z"
   },
   {
    "duration": 6,
    "start_time": "2024-12-27T02:41:41.713Z"
   },
   {
    "duration": 183,
    "start_time": "2024-12-27T02:41:41.722Z"
   },
   {
    "duration": 7,
    "start_time": "2024-12-27T02:41:41.906Z"
   },
   {
    "duration": 205,
    "start_time": "2024-12-27T02:41:41.914Z"
   },
   {
    "duration": 7,
    "start_time": "2024-12-27T02:41:42.121Z"
   },
   {
    "duration": 160,
    "start_time": "2024-12-27T02:41:42.130Z"
   },
   {
    "duration": 111,
    "start_time": "2024-12-27T02:41:42.292Z"
   },
   {
    "duration": 110,
    "start_time": "2024-12-27T02:41:42.410Z"
   },
   {
    "duration": 277,
    "start_time": "2024-12-27T02:41:42.522Z"
   },
   {
    "duration": 11,
    "start_time": "2024-12-27T02:41:42.801Z"
   },
   {
    "duration": 4,
    "start_time": "2024-12-27T02:41:42.814Z"
   },
   {
    "duration": 6,
    "start_time": "2024-12-27T02:41:42.819Z"
   },
   {
    "duration": 5,
    "start_time": "2024-12-27T02:41:42.826Z"
   },
   {
    "duration": 784,
    "start_time": "2025-04-21T21:35:31.822Z"
   },
   {
    "duration": 35,
    "start_time": "2025-04-21T21:35:32.608Z"
   },
   {
    "duration": 26,
    "start_time": "2025-04-21T21:35:32.646Z"
   },
   {
    "duration": 14,
    "start_time": "2025-04-21T21:35:32.675Z"
   },
   {
    "duration": 3,
    "start_time": "2025-04-21T21:35:32.691Z"
   },
   {
    "duration": 21,
    "start_time": "2025-04-21T21:35:32.696Z"
   },
   {
    "duration": 7,
    "start_time": "2025-04-21T21:35:32.719Z"
   },
   {
    "duration": 201,
    "start_time": "2025-04-21T21:35:32.729Z"
   },
   {
    "duration": 322,
    "start_time": "2025-04-21T21:35:32.931Z"
   },
   {
    "duration": 186,
    "start_time": "2025-04-21T21:35:33.256Z"
   },
   {
    "duration": 9,
    "start_time": "2025-04-21T21:35:33.444Z"
   },
   {
    "duration": 17,
    "start_time": "2025-04-21T21:35:33.455Z"
   },
   {
    "duration": 7,
    "start_time": "2025-04-21T21:35:33.473Z"
   },
   {
    "duration": 189,
    "start_time": "2025-04-21T21:35:33.482Z"
   },
   {
    "duration": 8,
    "start_time": "2025-04-21T21:35:33.672Z"
   },
   {
    "duration": 231,
    "start_time": "2025-04-21T21:35:33.681Z"
   },
   {
    "duration": 13,
    "start_time": "2025-04-21T21:35:33.914Z"
   },
   {
    "duration": 156,
    "start_time": "2025-04-21T21:35:33.929Z"
   },
   {
    "duration": 142,
    "start_time": "2025-04-21T21:35:34.086Z"
   },
   {
    "duration": 114,
    "start_time": "2025-04-21T21:35:34.231Z"
   },
   {
    "duration": 287,
    "start_time": "2025-04-21T21:35:34.347Z"
   },
   {
    "duration": 7,
    "start_time": "2025-04-21T21:35:34.636Z"
   },
   {
    "duration": 5,
    "start_time": "2025-04-21T21:35:34.644Z"
   },
   {
    "duration": 23,
    "start_time": "2025-04-21T21:35:34.651Z"
   },
   {
    "duration": 5,
    "start_time": "2025-04-21T21:35:34.677Z"
   }
  ],
  "kernelspec": {
   "display_name": "base",
   "language": "python",
   "name": "python3"
  },
  "language_info": {
   "codemirror_mode": {
    "name": "ipython",
    "version": 3
   },
   "file_extension": ".py",
   "mimetype": "text/x-python",
   "name": "python",
   "nbconvert_exporter": "python",
   "pygments_lexer": "ipython3",
   "version": "3.12.7"
  },
  "toc": {
   "base_numbering": 1,
   "nav_menu": {},
   "number_sections": true,
   "sideBar": true,
   "skip_h1_title": true,
   "title_cell": "Table of Contents",
   "title_sidebar": "Contents",
   "toc_cell": false,
   "toc_position": {},
   "toc_section_display": true,
   "toc_window_display": false
  }
 },
 "nbformat": 4,
 "nbformat_minor": 2
}
