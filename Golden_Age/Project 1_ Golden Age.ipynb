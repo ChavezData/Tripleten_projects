{
 "cells": [
  {
   "cell_type": "markdown",
   "id": "f85a80d2",
   "metadata": {
    "id": "f85a80d2"
   },
   "source": [
    "## Basic Python - Project <a id='intro'></a>"
   ]
  },
  {
   "cell_type": "markdown",
   "id": "a1262df4",
   "metadata": {
    "id": "a1262df4"
   },
   "source": [
    "## Introduction <a id='intro'></a>\n",
    "In this project, you will work with data from the entertainment industry. You will study a dataset with records on movies and shows. The research will focus on the \"Golden Age\" of television, which began in 1999 with the release of *The Sopranos* and is still ongoing.\n",
    "\n",
    "The aim of this project is to investigate how the number of votes a title receives impacts its ratings. The assumption is that highly-rated shows (we will focus on TV shows, ignoring movies) released during the \"Golden Age\" of television also have the most votes.\n",
    "\n",
    "### Stages\n",
    "Data on movies and shows is stored in the `/datasets/movies_and_shows.csv` file. There is no information about the quality of the data, so you will need to explore it before doing the analysis.\n",
    "\n",
    "First, you'll evaluate the quality of the data and see whether its issues are significant. Then, during data preprocessing, you will try to account for the most critical problems.\n",
    "\n",
    "Your project will consist of three stages:\n",
    " 1. Data overview\n",
    " 2. Data preprocessing\n",
    " 3. Data analysis"
   ]
  },
  {
   "cell_type": "markdown",
   "id": "ac0593ac",
   "metadata": {
    "id": "ac0593ac"
   },
   "source": [
    "## Stage 1. Data overview <a id='data_review'></a>\n",
    "\n",
    "Open and explore the data."
   ]
  },
  {
   "cell_type": "markdown",
   "id": "e86ed00e",
   "metadata": {
    "id": "e86ed00e"
   },
   "source": [
    "You'll need `pandas`, so import it."
   ]
  },
  {
   "cell_type": "code",
   "execution_count": 1,
   "id": "1727d3f8",
   "metadata": {
    "id": "1727d3f8"
   },
   "outputs": [],
   "source": [
    "# importing pandas\n",
    "import pandas as pd"
   ]
  },
  {
   "cell_type": "markdown",
   "id": "9821beeb",
   "metadata": {
    "id": "9821beeb"
   },
   "source": [
    "Read the `movies_and_shows.csv` file from the `datasets` folder and save it in the `df` variable:"
   ]
  },
  {
   "cell_type": "code",
   "execution_count": null,
   "id": "fc5a1402",
   "metadata": {
    "id": "fc5a1402"
   },
   "outputs": [
    {
     "name": "stdout",
     "output_type": "stream",
     "text": [
      "<class 'pandas.core.frame.DataFrame'>\n",
      "RangeIndex: 85579 entries, 0 to 85578\n",
      "Data columns (total 9 columns):\n",
      " #   Column        Non-Null Count  Dtype  \n",
      "---  ------        --------------  -----  \n",
      " 0      name       85579 non-null  object \n",
      " 1   Character     85579 non-null  object \n",
      " 2   r0le          85579 non-null  object \n",
      " 3   TITLE         85578 non-null  object \n",
      " 4     Type        85579 non-null  object \n",
      " 5   release Year  85579 non-null  int64  \n",
      " 6   genres        85579 non-null  object \n",
      " 7   imdb sc0re    80970 non-null  float64\n",
      " 8   imdb v0tes    80853 non-null  float64\n",
      "dtypes: float64(2), int64(1), object(6)\n",
      "memory usage: 5.9+ MB\n"
     ]
    }
   ],
   "source": [
    "# reading the files and storing the files\n",
    "try:\n",
    "    df = pd.read_csv(\"/datasets/movies_and_shows.csv\")\n",
    "except FileNotFoundError:\n",
    "    df = pd.read_csv('https://practicum-content.s3.us-west-1.amazonaws.com/datasets/movies_and_shows.csv')\n",
    "df.info()"
   ]
  },
  {
   "cell_type": "markdown",
   "id": "1cd0a96d",
   "metadata": {
    "id": "1cd0a96d"
   },
   "source": [
    "Print the first 10 table rows:"
   ]
  },
  {
   "cell_type": "code",
   "execution_count": 3,
   "id": "acd92001",
   "metadata": {
    "id": "acd92001"
   },
   "outputs": [
    {
     "data": {
      "text/html": [
       "<div>\n",
       "<style scoped>\n",
       "    .dataframe tbody tr th:only-of-type {\n",
       "        vertical-align: middle;\n",
       "    }\n",
       "\n",
       "    .dataframe tbody tr th {\n",
       "        vertical-align: top;\n",
       "    }\n",
       "\n",
       "    .dataframe thead th {\n",
       "        text-align: right;\n",
       "    }\n",
       "</style>\n",
       "<table border=\"1\" class=\"dataframe\">\n",
       "  <thead>\n",
       "    <tr style=\"text-align: right;\">\n",
       "      <th></th>\n",
       "      <th>name</th>\n",
       "      <th>Character</th>\n",
       "      <th>r0le</th>\n",
       "      <th>TITLE</th>\n",
       "      <th>Type</th>\n",
       "      <th>release Year</th>\n",
       "      <th>genres</th>\n",
       "      <th>imdb sc0re</th>\n",
       "      <th>imdb v0tes</th>\n",
       "    </tr>\n",
       "  </thead>\n",
       "  <tbody>\n",
       "    <tr>\n",
       "      <th>0</th>\n",
       "      <td>Robert De Niro</td>\n",
       "      <td>Travis Bickle</td>\n",
       "      <td>ACTOR</td>\n",
       "      <td>Taxi Driver</td>\n",
       "      <td>MOVIE</td>\n",
       "      <td>1976</td>\n",
       "      <td>['drama', 'crime']</td>\n",
       "      <td>8.2</td>\n",
       "      <td>808582.0</td>\n",
       "    </tr>\n",
       "    <tr>\n",
       "      <th>1</th>\n",
       "      <td>Jodie Foster</td>\n",
       "      <td>Iris Steensma</td>\n",
       "      <td>ACTOR</td>\n",
       "      <td>Taxi Driver</td>\n",
       "      <td>MOVIE</td>\n",
       "      <td>1976</td>\n",
       "      <td>['drama', 'crime']</td>\n",
       "      <td>8.2</td>\n",
       "      <td>808582.0</td>\n",
       "    </tr>\n",
       "    <tr>\n",
       "      <th>2</th>\n",
       "      <td>Albert Brooks</td>\n",
       "      <td>Tom</td>\n",
       "      <td>ACTOR</td>\n",
       "      <td>Taxi Driver</td>\n",
       "      <td>MOVIE</td>\n",
       "      <td>1976</td>\n",
       "      <td>['drama', 'crime']</td>\n",
       "      <td>8.2</td>\n",
       "      <td>808582.0</td>\n",
       "    </tr>\n",
       "    <tr>\n",
       "      <th>3</th>\n",
       "      <td>Harvey Keitel</td>\n",
       "      <td>Matthew 'Sport' Higgins</td>\n",
       "      <td>ACTOR</td>\n",
       "      <td>Taxi Driver</td>\n",
       "      <td>MOVIE</td>\n",
       "      <td>1976</td>\n",
       "      <td>['drama', 'crime']</td>\n",
       "      <td>8.2</td>\n",
       "      <td>808582.0</td>\n",
       "    </tr>\n",
       "    <tr>\n",
       "      <th>4</th>\n",
       "      <td>Cybill Shepherd</td>\n",
       "      <td>Betsy</td>\n",
       "      <td>ACTOR</td>\n",
       "      <td>Taxi Driver</td>\n",
       "      <td>MOVIE</td>\n",
       "      <td>1976</td>\n",
       "      <td>['drama', 'crime']</td>\n",
       "      <td>8.2</td>\n",
       "      <td>808582.0</td>\n",
       "    </tr>\n",
       "    <tr>\n",
       "      <th>5</th>\n",
       "      <td>Peter Boyle</td>\n",
       "      <td>Wizard</td>\n",
       "      <td>ACTOR</td>\n",
       "      <td>Taxi Driver</td>\n",
       "      <td>MOVIE</td>\n",
       "      <td>1976</td>\n",
       "      <td>['drama', 'crime']</td>\n",
       "      <td>8.2</td>\n",
       "      <td>808582.0</td>\n",
       "    </tr>\n",
       "    <tr>\n",
       "      <th>6</th>\n",
       "      <td>Leonard Harris</td>\n",
       "      <td>Senator Charles Palantine</td>\n",
       "      <td>ACTOR</td>\n",
       "      <td>Taxi Driver</td>\n",
       "      <td>MOVIE</td>\n",
       "      <td>1976</td>\n",
       "      <td>['drama', 'crime']</td>\n",
       "      <td>8.2</td>\n",
       "      <td>808582.0</td>\n",
       "    </tr>\n",
       "    <tr>\n",
       "      <th>7</th>\n",
       "      <td>Diahnne Abbott</td>\n",
       "      <td>Concession Girl</td>\n",
       "      <td>ACTOR</td>\n",
       "      <td>Taxi Driver</td>\n",
       "      <td>MOVIE</td>\n",
       "      <td>1976</td>\n",
       "      <td>['drama', 'crime']</td>\n",
       "      <td>8.2</td>\n",
       "      <td>808582.0</td>\n",
       "    </tr>\n",
       "    <tr>\n",
       "      <th>8</th>\n",
       "      <td>Gino Ardito</td>\n",
       "      <td>Policeman at Rally</td>\n",
       "      <td>ACTOR</td>\n",
       "      <td>Taxi Driver</td>\n",
       "      <td>MOVIE</td>\n",
       "      <td>1976</td>\n",
       "      <td>['drama', 'crime']</td>\n",
       "      <td>8.2</td>\n",
       "      <td>808582.0</td>\n",
       "    </tr>\n",
       "    <tr>\n",
       "      <th>9</th>\n",
       "      <td>Martin Scorsese</td>\n",
       "      <td>Passenger Watching Silhouette</td>\n",
       "      <td>ACTOR</td>\n",
       "      <td>Taxi Driver</td>\n",
       "      <td>MOVIE</td>\n",
       "      <td>1976</td>\n",
       "      <td>['drama', 'crime']</td>\n",
       "      <td>8.2</td>\n",
       "      <td>808582.0</td>\n",
       "    </tr>\n",
       "  </tbody>\n",
       "</table>\n",
       "</div>"
      ],
      "text/plain": [
       "              name                      Character   r0le        TITLE   Type  \\\n",
       "0   Robert De Niro                  Travis Bickle  ACTOR  Taxi Driver  MOVIE   \n",
       "1     Jodie Foster                  Iris Steensma  ACTOR  Taxi Driver  MOVIE   \n",
       "2    Albert Brooks                            Tom  ACTOR  Taxi Driver  MOVIE   \n",
       "3    Harvey Keitel        Matthew 'Sport' Higgins  ACTOR  Taxi Driver  MOVIE   \n",
       "4  Cybill Shepherd                          Betsy  ACTOR  Taxi Driver  MOVIE   \n",
       "5      Peter Boyle                         Wizard  ACTOR  Taxi Driver  MOVIE   \n",
       "6   Leonard Harris      Senator Charles Palantine  ACTOR  Taxi Driver  MOVIE   \n",
       "7   Diahnne Abbott                Concession Girl  ACTOR  Taxi Driver  MOVIE   \n",
       "8      Gino Ardito             Policeman at Rally  ACTOR  Taxi Driver  MOVIE   \n",
       "9  Martin Scorsese  Passenger Watching Silhouette  ACTOR  Taxi Driver  MOVIE   \n",
       "\n",
       "   release Year              genres  imdb sc0re  imdb v0tes  \n",
       "0          1976  ['drama', 'crime']         8.2    808582.0  \n",
       "1          1976  ['drama', 'crime']         8.2    808582.0  \n",
       "2          1976  ['drama', 'crime']         8.2    808582.0  \n",
       "3          1976  ['drama', 'crime']         8.2    808582.0  \n",
       "4          1976  ['drama', 'crime']         8.2    808582.0  \n",
       "5          1976  ['drama', 'crime']         8.2    808582.0  \n",
       "6          1976  ['drama', 'crime']         8.2    808582.0  \n",
       "7          1976  ['drama', 'crime']         8.2    808582.0  \n",
       "8          1976  ['drama', 'crime']         8.2    808582.0  \n",
       "9          1976  ['drama', 'crime']         8.2    808582.0  "
      ]
     },
     "execution_count": 3,
     "metadata": {},
     "output_type": "execute_result"
    }
   ],
   "source": [
    "# obtaining the first 10 rows from the df table\n",
    "# hint: you can use head() and tail() in Jupyter Notebook without wrapping them into print()\n",
    "  \n",
    "df.head(10)"
   ]
  },
  {
   "cell_type": "markdown",
   "id": "e579aa91",
   "metadata": {
    "id": "e579aa91"
   },
   "source": [
    "Obtain the general information about the table with one command:"
   ]
  },
  {
   "cell_type": "code",
   "execution_count": 4,
   "id": "7bf66d2a",
   "metadata": {
    "id": "7bf66d2a"
   },
   "outputs": [
    {
     "name": "stdout",
     "output_type": "stream",
     "text": [
      "<class 'pandas.core.frame.DataFrame'>\n",
      "RangeIndex: 85579 entries, 0 to 85578\n",
      "Data columns (total 9 columns):\n",
      " #   Column        Non-Null Count  Dtype  \n",
      "---  ------        --------------  -----  \n",
      " 0      name       85579 non-null  object \n",
      " 1   Character     85579 non-null  object \n",
      " 2   r0le          85579 non-null  object \n",
      " 3   TITLE         85578 non-null  object \n",
      " 4     Type        85579 non-null  object \n",
      " 5   release Year  85579 non-null  int64  \n",
      " 6   genres        85579 non-null  object \n",
      " 7   imdb sc0re    80970 non-null  float64\n",
      " 8   imdb v0tes    80853 non-null  float64\n",
      "dtypes: float64(2), int64(1), object(6)\n",
      "memory usage: 5.9+ MB\n"
     ]
    }
   ],
   "source": [
    "# obtaining general information about the data in df\n",
    "df.info()"
   ]
  },
  {
   "cell_type": "markdown",
   "id": "e91f62a7",
   "metadata": {
    "id": "e91f62a7"
   },
   "source": [
    "The table contains nine columns. The majority store the same data type: object. The only exceptions are `'release Year'` (int64 type), `'imdb sc0re'` (float64 type) and `'imdb v0tes'` (float64 type). Scores and votes will be used in our analysis, so it's important to verify that they are present in the dataframe in the appropriate numeric format. Three columns (`'TITLE'`, `'imdb sc0re'` and `'imdb v0tes'`) have missing values.\n",
    "\n",
    "According to the documentation:\n",
    "- `'name'` — actor/director's name and last name\n",
    "- `'Character'` — character played (for actors)\n",
    "- `'r0le '` — the person's contribution to the title (it can be in the capacity of either actor or director)\n",
    "- `'TITLE '` — title of the movie (show)\n",
    "- `'  Type'` — show or movie\n",
    "- `'release Year'` — year when movie (show) was released\n",
    "- `'genres'` — list of genres under which the movie (show) falls\n",
    "- `'imdb sc0re'` — score on IMDb\n",
    "- `'imdb v0tes'` — votes on IMDb\n",
    "\n",
    "We can see three issues with the column names:\n",
    "1. Some names are uppercase, while others are lowercase.\n",
    "2. There are names containing whitespace.\n",
    "3. A few column names have digit '0' instead of letter 'o'.\n"
   ]
  },
  {
   "cell_type": "markdown",
   "id": "4355de7b",
   "metadata": {
    "id": "4355de7b"
   },
   "source": [
    "### Conclusions <a id='data_review_conclusions'></a>\n",
    "\n",
    "Each row in the table stores data about a movie or show. The columns can be divided into two categories: the first is about the roles held by different people who worked on the movie or show (role, name of the actor or director, and character if the row is about an actor); the second category is information about the movie or show itself (title, release year, genre, imdb figures).\n",
    "\n",
    "It's clear that there is sufficient data to do the analysis and evaluate our assumption. However, to move forward, we need to preprocess the data."
   ]
  },
  {
   "cell_type": "markdown",
   "id": "c5dc9111",
   "metadata": {
    "id": "c5dc9111"
   },
   "source": [
    "## Stage 2. Data preprocessing <a id='data_preprocessing'></a>\n",
    "Correct the formatting in the column headers and deal with the missing values. Then, check whether there are duplicates in the data."
   ]
  },
  {
   "cell_type": "code",
   "execution_count": 5,
   "id": "9c850d13",
   "metadata": {
    "id": "9c850d13"
   },
   "outputs": [
    {
     "data": {
      "text/plain": [
       "['   name',\n",
       " 'Character',\n",
       " 'r0le',\n",
       " 'TITLE',\n",
       " '  Type',\n",
       " 'release Year',\n",
       " 'genres',\n",
       " 'imdb sc0re',\n",
       " 'imdb v0tes']"
      ]
     },
     "execution_count": 5,
     "metadata": {},
     "output_type": "execute_result"
    }
   ],
   "source": [
    "# the list of column names in the df table\n",
    "df.columns.tolist()"
   ]
  },
  {
   "cell_type": "markdown",
   "id": "5f966df9",
   "metadata": {
    "id": "5f966df9"
   },
   "source": [
    "Change the column names according to the rules of good style:\n",
    "* If the name has several words, use snake_case\n",
    "* All characters must be lowercase\n",
    "* Remove whitespace\n",
    "* Replace zero with letter 'o'"
   ]
  },
  {
   "cell_type": "code",
   "execution_count": 6,
   "id": "23a1dc11",
   "metadata": {
    "id": "23a1dc11"
   },
   "outputs": [],
   "source": [
    "# renaming columns\n",
    "df.rename(columns= {'   name': 'name',\n",
    " 'Character': 'character',\n",
    " 'r0le': 'role',\n",
    " 'TITLE': 'title',\n",
    " '  Type': 'type',\n",
    " 'release Year': 'release_year',\n",
    " 'imdb sc0re': 'imdb_score',\n",
    " 'imdb v0tes': 'imdb_votes'},inplace=True)"
   ]
  },
  {
   "cell_type": "code",
   "execution_count": 7,
   "id": "304c14dc",
   "metadata": {},
   "outputs": [
    {
     "data": {
      "text/html": [
       "<div>\n",
       "<style scoped>\n",
       "    .dataframe tbody tr th:only-of-type {\n",
       "        vertical-align: middle;\n",
       "    }\n",
       "\n",
       "    .dataframe tbody tr th {\n",
       "        vertical-align: top;\n",
       "    }\n",
       "\n",
       "    .dataframe thead th {\n",
       "        text-align: right;\n",
       "    }\n",
       "</style>\n",
       "<table border=\"1\" class=\"dataframe\">\n",
       "  <thead>\n",
       "    <tr style=\"text-align: right;\">\n",
       "      <th></th>\n",
       "      <th>name</th>\n",
       "      <th>character</th>\n",
       "      <th>role</th>\n",
       "      <th>title</th>\n",
       "      <th>type</th>\n",
       "      <th>release_year</th>\n",
       "      <th>genres</th>\n",
       "      <th>imdb_score</th>\n",
       "      <th>imdb_votes</th>\n",
       "    </tr>\n",
       "  </thead>\n",
       "  <tbody>\n",
       "    <tr>\n",
       "      <th>0</th>\n",
       "      <td>Robert De Niro</td>\n",
       "      <td>Travis Bickle</td>\n",
       "      <td>ACTOR</td>\n",
       "      <td>Taxi Driver</td>\n",
       "      <td>MOVIE</td>\n",
       "      <td>1976</td>\n",
       "      <td>['drama', 'crime']</td>\n",
       "      <td>8.2</td>\n",
       "      <td>808582.0</td>\n",
       "    </tr>\n",
       "    <tr>\n",
       "      <th>1</th>\n",
       "      <td>Jodie Foster</td>\n",
       "      <td>Iris Steensma</td>\n",
       "      <td>ACTOR</td>\n",
       "      <td>Taxi Driver</td>\n",
       "      <td>MOVIE</td>\n",
       "      <td>1976</td>\n",
       "      <td>['drama', 'crime']</td>\n",
       "      <td>8.2</td>\n",
       "      <td>808582.0</td>\n",
       "    </tr>\n",
       "    <tr>\n",
       "      <th>2</th>\n",
       "      <td>Albert Brooks</td>\n",
       "      <td>Tom</td>\n",
       "      <td>ACTOR</td>\n",
       "      <td>Taxi Driver</td>\n",
       "      <td>MOVIE</td>\n",
       "      <td>1976</td>\n",
       "      <td>['drama', 'crime']</td>\n",
       "      <td>8.2</td>\n",
       "      <td>808582.0</td>\n",
       "    </tr>\n",
       "    <tr>\n",
       "      <th>3</th>\n",
       "      <td>Harvey Keitel</td>\n",
       "      <td>Matthew 'Sport' Higgins</td>\n",
       "      <td>ACTOR</td>\n",
       "      <td>Taxi Driver</td>\n",
       "      <td>MOVIE</td>\n",
       "      <td>1976</td>\n",
       "      <td>['drama', 'crime']</td>\n",
       "      <td>8.2</td>\n",
       "      <td>808582.0</td>\n",
       "    </tr>\n",
       "    <tr>\n",
       "      <th>4</th>\n",
       "      <td>Cybill Shepherd</td>\n",
       "      <td>Betsy</td>\n",
       "      <td>ACTOR</td>\n",
       "      <td>Taxi Driver</td>\n",
       "      <td>MOVIE</td>\n",
       "      <td>1976</td>\n",
       "      <td>['drama', 'crime']</td>\n",
       "      <td>8.2</td>\n",
       "      <td>808582.0</td>\n",
       "    </tr>\n",
       "    <tr>\n",
       "      <th>...</th>\n",
       "      <td>...</td>\n",
       "      <td>...</td>\n",
       "      <td>...</td>\n",
       "      <td>...</td>\n",
       "      <td>...</td>\n",
       "      <td>...</td>\n",
       "      <td>...</td>\n",
       "      <td>...</td>\n",
       "      <td>...</td>\n",
       "    </tr>\n",
       "    <tr>\n",
       "      <th>85574</th>\n",
       "      <td>Adelaida Buscato</td>\n",
       "      <td>Mar??a Paz</td>\n",
       "      <td>ACTOR</td>\n",
       "      <td>Lokillo</td>\n",
       "      <td>the movie</td>\n",
       "      <td>2021</td>\n",
       "      <td>['comedy']</td>\n",
       "      <td>3.8</td>\n",
       "      <td>68.0</td>\n",
       "    </tr>\n",
       "    <tr>\n",
       "      <th>85575</th>\n",
       "      <td>Luz Stella Luengas</td>\n",
       "      <td>Karen Bayona</td>\n",
       "      <td>ACTOR</td>\n",
       "      <td>Lokillo</td>\n",
       "      <td>the movie</td>\n",
       "      <td>2021</td>\n",
       "      <td>['comedy']</td>\n",
       "      <td>3.8</td>\n",
       "      <td>68.0</td>\n",
       "    </tr>\n",
       "    <tr>\n",
       "      <th>85576</th>\n",
       "      <td>In??s Prieto</td>\n",
       "      <td>Fanny</td>\n",
       "      <td>ACTOR</td>\n",
       "      <td>Lokillo</td>\n",
       "      <td>the movie</td>\n",
       "      <td>2021</td>\n",
       "      <td>['comedy']</td>\n",
       "      <td>3.8</td>\n",
       "      <td>68.0</td>\n",
       "    </tr>\n",
       "    <tr>\n",
       "      <th>85577</th>\n",
       "      <td>Isabel Gaona</td>\n",
       "      <td>Cacica</td>\n",
       "      <td>ACTOR</td>\n",
       "      <td>Lokillo</td>\n",
       "      <td>MOVIE</td>\n",
       "      <td>2021</td>\n",
       "      <td>['comedy']</td>\n",
       "      <td>3.8</td>\n",
       "      <td>68.0</td>\n",
       "    </tr>\n",
       "    <tr>\n",
       "      <th>85578</th>\n",
       "      <td>Julian Gaviria</td>\n",
       "      <td>unknown</td>\n",
       "      <td>DIRECTOR</td>\n",
       "      <td>Lokillo</td>\n",
       "      <td>the movie</td>\n",
       "      <td>2021</td>\n",
       "      <td>['comedy']</td>\n",
       "      <td>3.8</td>\n",
       "      <td>68.0</td>\n",
       "    </tr>\n",
       "  </tbody>\n",
       "</table>\n",
       "<p>85579 rows × 9 columns</p>\n",
       "</div>"
      ],
      "text/plain": [
       "                     name                character      role        title  \\\n",
       "0          Robert De Niro            Travis Bickle     ACTOR  Taxi Driver   \n",
       "1            Jodie Foster            Iris Steensma     ACTOR  Taxi Driver   \n",
       "2           Albert Brooks                      Tom     ACTOR  Taxi Driver   \n",
       "3           Harvey Keitel  Matthew 'Sport' Higgins     ACTOR  Taxi Driver   \n",
       "4         Cybill Shepherd                    Betsy     ACTOR  Taxi Driver   \n",
       "...                   ...                      ...       ...          ...   \n",
       "85574    Adelaida Buscato               Mar??a Paz     ACTOR      Lokillo   \n",
       "85575  Luz Stella Luengas             Karen Bayona     ACTOR      Lokillo   \n",
       "85576        In??s Prieto                    Fanny     ACTOR      Lokillo   \n",
       "85577        Isabel Gaona                   Cacica     ACTOR      Lokillo   \n",
       "85578      Julian Gaviria                  unknown  DIRECTOR      Lokillo   \n",
       "\n",
       "            type  release_year              genres  imdb_score  imdb_votes  \n",
       "0          MOVIE          1976  ['drama', 'crime']         8.2    808582.0  \n",
       "1          MOVIE          1976  ['drama', 'crime']         8.2    808582.0  \n",
       "2          MOVIE          1976  ['drama', 'crime']         8.2    808582.0  \n",
       "3          MOVIE          1976  ['drama', 'crime']         8.2    808582.0  \n",
       "4          MOVIE          1976  ['drama', 'crime']         8.2    808582.0  \n",
       "...          ...           ...                 ...         ...         ...  \n",
       "85574  the movie          2021          ['comedy']         3.8        68.0  \n",
       "85575  the movie          2021          ['comedy']         3.8        68.0  \n",
       "85576  the movie          2021          ['comedy']         3.8        68.0  \n",
       "85577      MOVIE          2021          ['comedy']         3.8        68.0  \n",
       "85578  the movie          2021          ['comedy']         3.8        68.0  \n",
       "\n",
       "[85579 rows x 9 columns]"
      ]
     },
     "execution_count": 7,
     "metadata": {},
     "output_type": "execute_result"
    }
   ],
   "source": [
    "df"
   ]
  },
  {
   "cell_type": "markdown",
   "id": "464fbd04",
   "metadata": {
    "id": "464fbd04"
   },
   "source": [
    "Check the result. Print the names of the columns once more:"
   ]
  },
  {
   "cell_type": "code",
   "execution_count": 8,
   "id": "0eb6527f",
   "metadata": {
    "id": "0eb6527f"
   },
   "outputs": [
    {
     "data": {
      "text/plain": [
       "Index(['name', 'character', 'role', 'title', 'type', 'release_year', 'genres',\n",
       "       'imdb_score', 'imdb_votes'],\n",
       "      dtype='object')"
      ]
     },
     "execution_count": 8,
     "metadata": {},
     "output_type": "execute_result"
    }
   ],
   "source": [
    "# checking result: the list of column names\n",
    "df.columns"
   ]
  },
  {
   "cell_type": "markdown",
   "id": "14d9c319",
   "metadata": {
    "id": "14d9c319"
   },
   "source": [
    "### Missing values <a id='missing_values'></a>\n",
    "First, find the number of missing values in the table. To do so, combine two `pandas` methods:"
   ]
  },
  {
   "cell_type": "code",
   "execution_count": 9,
   "id": "21c427f2",
   "metadata": {
    "id": "21c427f2",
    "outputId": "2cf9ccda-afb2-494c-c192-06e33d5c8475"
   },
   "outputs": [
    {
     "data": {
      "text/plain": [
       "name               0\n",
       "character          0\n",
       "role               0\n",
       "title              1\n",
       "type               0\n",
       "release_year       0\n",
       "genres             0\n",
       "imdb_score      4609\n",
       "imdb_votes      4726\n",
       "dtype: int64"
      ]
     },
     "execution_count": 9,
     "metadata": {},
     "output_type": "execute_result"
    }
   ],
   "source": [
    "# calculating missing values\n",
    "df.isnull().sum()"
   ]
  },
  {
   "cell_type": "markdown",
   "id": "c8272df3",
   "metadata": {
    "id": "c8272df3"
   },
   "source": [
    "Not all missing values affect the research: the single missing value in `'title'` is not critical. The missing values in columns `'imdb_score'` and `'imdb_votes'` represent around 6% of all records (4,609 and 4,726, respectively, of the total 85,579). This could potentially affect our research. To avoid this issue, we will drop rows with missing values in the `'imdb_score'` and `'imdb_votes'` columns."
   ]
  },
  {
   "cell_type": "code",
   "execution_count": 10,
   "id": "599d5550",
   "metadata": {
    "id": "599d5550"
   },
   "outputs": [],
   "source": [
    "# dropping rows where columns with title, scores and votes have missing values\n",
    "df.dropna(subset=['imdb_score', 'title', 'imdb_votes'], inplace=True)"
   ]
  },
  {
   "cell_type": "markdown",
   "id": "2156887f",
   "metadata": {
    "id": "2156887f"
   },
   "source": [
    "Make sure the table doesn't contain any more missing values. Count the missing values again."
   ]
  },
  {
   "cell_type": "code",
   "execution_count": 11,
   "id": "55c0b0ce",
   "metadata": {
    "id": "55c0b0ce"
   },
   "outputs": [
    {
     "data": {
      "text/plain": [
       "name            0\n",
       "character       0\n",
       "role            0\n",
       "title           0\n",
       "type            0\n",
       "release_year    0\n",
       "genres          0\n",
       "imdb_score      0\n",
       "imdb_votes      0\n",
       "dtype: int64"
      ]
     },
     "execution_count": 11,
     "metadata": {},
     "output_type": "execute_result"
    }
   ],
   "source": [
    "# counting missing values\n",
    "df.isnull().sum()"
   ]
  },
  {
   "cell_type": "markdown",
   "id": "a7dc7aa0",
   "metadata": {
    "id": "a7dc7aa0"
   },
   "source": [
    "### Duplicates <a id='duplicates'></a>\n",
    "Find the number of duplicate rows in the table using one command:"
   ]
  },
  {
   "cell_type": "code",
   "execution_count": 12,
   "id": "9227df01",
   "metadata": {
    "id": "9227df01"
   },
   "outputs": [
    {
     "data": {
      "text/plain": [
       "6994"
      ]
     },
     "execution_count": 12,
     "metadata": {},
     "output_type": "execute_result"
    }
   ],
   "source": [
    "# counting duplicate row\n",
    "df.duplicated().sum()"
   ]
  },
  {
   "cell_type": "markdown",
   "id": "5f6eb0fc",
   "metadata": {
    "id": "5f6eb0fc"
   },
   "source": [
    "Review the duplicate rows to determine if removing them would distort our dataset."
   ]
  },
  {
   "cell_type": "code",
   "execution_count": 13,
   "id": "bcf32fcb",
   "metadata": {
    "id": "bcf32fcb"
   },
   "outputs": [
    {
     "name": "stdout",
     "output_type": "stream",
     "text": [
      "Table with duplicates:\n"
     ]
    },
    {
     "data": {
      "text/html": [
       "<div>\n",
       "<style scoped>\n",
       "    .dataframe tbody tr th:only-of-type {\n",
       "        vertical-align: middle;\n",
       "    }\n",
       "\n",
       "    .dataframe tbody tr th {\n",
       "        vertical-align: top;\n",
       "    }\n",
       "\n",
       "    .dataframe thead th {\n",
       "        text-align: right;\n",
       "    }\n",
       "</style>\n",
       "<table border=\"1\" class=\"dataframe\">\n",
       "  <thead>\n",
       "    <tr style=\"text-align: right;\">\n",
       "      <th></th>\n",
       "      <th>name</th>\n",
       "      <th>character</th>\n",
       "      <th>role</th>\n",
       "      <th>title</th>\n",
       "      <th>type</th>\n",
       "      <th>release_year</th>\n",
       "      <th>genres</th>\n",
       "      <th>imdb_score</th>\n",
       "      <th>imdb_votes</th>\n",
       "    </tr>\n",
       "  </thead>\n",
       "  <tbody>\n",
       "    <tr>\n",
       "      <th>7560</th>\n",
       "      <td>Philip Greene</td>\n",
       "      <td>Baseball Fan (uncredited)</td>\n",
       "      <td>ACTOR</td>\n",
       "      <td>How Do You Know</td>\n",
       "      <td>MOVIE</td>\n",
       "      <td>2010</td>\n",
       "      <td>['comedy', 'drama', 'romance']</td>\n",
       "      <td>5.4</td>\n",
       "      <td>50383.0</td>\n",
       "    </tr>\n",
       "    <tr>\n",
       "      <th>7561</th>\n",
       "      <td>Philip Greene</td>\n",
       "      <td>Baseball Fan (uncredited)</td>\n",
       "      <td>ACTOR</td>\n",
       "      <td>How Do You Know</td>\n",
       "      <td>MOVIE</td>\n",
       "      <td>2010</td>\n",
       "      <td>['comedy', 'drama', 'romance']</td>\n",
       "      <td>5.4</td>\n",
       "      <td>50383.0</td>\n",
       "    </tr>\n",
       "    <tr>\n",
       "      <th>14502</th>\n",
       "      <td>Dan Levy</td>\n",
       "      <td>Reporter</td>\n",
       "      <td>ACTOR</td>\n",
       "      <td>A Very Harold &amp; Kumar Christmas</td>\n",
       "      <td>MOVIE</td>\n",
       "      <td>2011</td>\n",
       "      <td>['comedy', 'fantasy', 'romance']</td>\n",
       "      <td>6.2</td>\n",
       "      <td>69562.0</td>\n",
       "    </tr>\n",
       "    <tr>\n",
       "      <th>14512</th>\n",
       "      <td>Dan Levy</td>\n",
       "      <td>Reporter</td>\n",
       "      <td>ACTOR</td>\n",
       "      <td>A Very Harold &amp; Kumar Christmas</td>\n",
       "      <td>MOVIE</td>\n",
       "      <td>2011</td>\n",
       "      <td>['comedy', 'fantasy', 'romance']</td>\n",
       "      <td>6.2</td>\n",
       "      <td>69562.0</td>\n",
       "    </tr>\n",
       "    <tr>\n",
       "      <th>18951</th>\n",
       "      <td>Nicolas Le Nev??</td>\n",
       "      <td>unknown</td>\n",
       "      <td>DIRECTOR</td>\n",
       "      <td>Sammy &amp; Co</td>\n",
       "      <td>SHOW</td>\n",
       "      <td>2014</td>\n",
       "      <td>['animation', 'european']</td>\n",
       "      <td>5.7</td>\n",
       "      <td>31.0</td>\n",
       "    </tr>\n",
       "    <tr>\n",
       "      <th>...</th>\n",
       "      <td>...</td>\n",
       "      <td>...</td>\n",
       "      <td>...</td>\n",
       "      <td>...</td>\n",
       "      <td>...</td>\n",
       "      <td>...</td>\n",
       "      <td>...</td>\n",
       "      <td>...</td>\n",
       "      <td>...</td>\n",
       "    </tr>\n",
       "    <tr>\n",
       "      <th>85569</th>\n",
       "      <td>Jessica Cediel</td>\n",
       "      <td>Liliana Navarro</td>\n",
       "      <td>ACTOR</td>\n",
       "      <td>Lokillo</td>\n",
       "      <td>MOVIE</td>\n",
       "      <td>2021</td>\n",
       "      <td>['comedy']</td>\n",
       "      <td>3.8</td>\n",
       "      <td>68.0</td>\n",
       "    </tr>\n",
       "    <tr>\n",
       "      <th>85570</th>\n",
       "      <td>Javier Gardeaz?­bal</td>\n",
       "      <td>Agust??n \"Peluca\" Ort??z</td>\n",
       "      <td>ACTOR</td>\n",
       "      <td>Lokillo</td>\n",
       "      <td>MOVIE</td>\n",
       "      <td>2021</td>\n",
       "      <td>['comedy']</td>\n",
       "      <td>3.8</td>\n",
       "      <td>68.0</td>\n",
       "    </tr>\n",
       "    <tr>\n",
       "      <th>85571</th>\n",
       "      <td>Carla Giraldo</td>\n",
       "      <td>Valery Reinoso</td>\n",
       "      <td>ACTOR</td>\n",
       "      <td>Lokillo</td>\n",
       "      <td>MOVIE</td>\n",
       "      <td>2021</td>\n",
       "      <td>['comedy']</td>\n",
       "      <td>3.8</td>\n",
       "      <td>68.0</td>\n",
       "    </tr>\n",
       "    <tr>\n",
       "      <th>85572</th>\n",
       "      <td>Ana Mar??a S?­nchez</td>\n",
       "      <td>Lourdes</td>\n",
       "      <td>ACTOR</td>\n",
       "      <td>Lokillo</td>\n",
       "      <td>MOVIE</td>\n",
       "      <td>2021</td>\n",
       "      <td>['comedy']</td>\n",
       "      <td>3.8</td>\n",
       "      <td>68.0</td>\n",
       "    </tr>\n",
       "    <tr>\n",
       "      <th>85577</th>\n",
       "      <td>Isabel Gaona</td>\n",
       "      <td>Cacica</td>\n",
       "      <td>ACTOR</td>\n",
       "      <td>Lokillo</td>\n",
       "      <td>MOVIE</td>\n",
       "      <td>2021</td>\n",
       "      <td>['comedy']</td>\n",
       "      <td>3.8</td>\n",
       "      <td>68.0</td>\n",
       "    </tr>\n",
       "  </tbody>\n",
       "</table>\n",
       "<p>13988 rows × 9 columns</p>\n",
       "</div>"
      ],
      "text/plain": [
       "                      name                  character      role  \\\n",
       "7560         Philip Greene  Baseball Fan (uncredited)     ACTOR   \n",
       "7561         Philip Greene  Baseball Fan (uncredited)     ACTOR   \n",
       "14502             Dan Levy                   Reporter     ACTOR   \n",
       "14512             Dan Levy                   Reporter     ACTOR   \n",
       "18951     Nicolas Le Nev??                    unknown  DIRECTOR   \n",
       "...                    ...                        ...       ...   \n",
       "85569       Jessica Cediel            Liliana Navarro     ACTOR   \n",
       "85570  Javier Gardeaz?­bal   Agust??n \"Peluca\" Ort??z     ACTOR   \n",
       "85571        Carla Giraldo             Valery Reinoso     ACTOR   \n",
       "85572  Ana Mar??a S?­nchez                    Lourdes     ACTOR   \n",
       "85577         Isabel Gaona                     Cacica     ACTOR   \n",
       "\n",
       "                                 title   type  release_year  \\\n",
       "7560                   How Do You Know  MOVIE          2010   \n",
       "7561                   How Do You Know  MOVIE          2010   \n",
       "14502  A Very Harold & Kumar Christmas  MOVIE          2011   \n",
       "14512  A Very Harold & Kumar Christmas  MOVIE          2011   \n",
       "18951                       Sammy & Co   SHOW          2014   \n",
       "...                                ...    ...           ...   \n",
       "85569                          Lokillo  MOVIE          2021   \n",
       "85570                          Lokillo  MOVIE          2021   \n",
       "85571                          Lokillo  MOVIE          2021   \n",
       "85572                          Lokillo  MOVIE          2021   \n",
       "85577                          Lokillo  MOVIE          2021   \n",
       "\n",
       "                                 genres  imdb_score  imdb_votes  \n",
       "7560     ['comedy', 'drama', 'romance']         5.4     50383.0  \n",
       "7561     ['comedy', 'drama', 'romance']         5.4     50383.0  \n",
       "14502  ['comedy', 'fantasy', 'romance']         6.2     69562.0  \n",
       "14512  ['comedy', 'fantasy', 'romance']         6.2     69562.0  \n",
       "18951         ['animation', 'european']         5.7        31.0  \n",
       "...                                 ...         ...         ...  \n",
       "85569                        ['comedy']         3.8        68.0  \n",
       "85570                        ['comedy']         3.8        68.0  \n",
       "85571                        ['comedy']         3.8        68.0  \n",
       "85572                        ['comedy']         3.8        68.0  \n",
       "85577                        ['comedy']         3.8        68.0  \n",
       "\n",
       "[13988 rows x 9 columns]"
      ]
     },
     "metadata": {},
     "output_type": "display_data"
    },
    {
     "name": "stdout",
     "output_type": "stream",
     "text": [
      "\n",
      "Last 5 Rows of duplicates:\n"
     ]
    },
    {
     "data": {
      "text/html": [
       "<div>\n",
       "<style scoped>\n",
       "    .dataframe tbody tr th:only-of-type {\n",
       "        vertical-align: middle;\n",
       "    }\n",
       "\n",
       "    .dataframe tbody tr th {\n",
       "        vertical-align: top;\n",
       "    }\n",
       "\n",
       "    .dataframe thead th {\n",
       "        text-align: right;\n",
       "    }\n",
       "</style>\n",
       "<table border=\"1\" class=\"dataframe\">\n",
       "  <thead>\n",
       "    <tr style=\"text-align: right;\">\n",
       "      <th></th>\n",
       "      <th>name</th>\n",
       "      <th>character</th>\n",
       "      <th>role</th>\n",
       "      <th>title</th>\n",
       "      <th>type</th>\n",
       "      <th>release_year</th>\n",
       "      <th>genres</th>\n",
       "      <th>imdb_score</th>\n",
       "      <th>imdb_votes</th>\n",
       "    </tr>\n",
       "  </thead>\n",
       "  <tbody>\n",
       "    <tr>\n",
       "      <th>85569</th>\n",
       "      <td>Jessica Cediel</td>\n",
       "      <td>Liliana Navarro</td>\n",
       "      <td>ACTOR</td>\n",
       "      <td>Lokillo</td>\n",
       "      <td>MOVIE</td>\n",
       "      <td>2021</td>\n",
       "      <td>['comedy']</td>\n",
       "      <td>3.8</td>\n",
       "      <td>68.0</td>\n",
       "    </tr>\n",
       "    <tr>\n",
       "      <th>85570</th>\n",
       "      <td>Javier Gardeaz?­bal</td>\n",
       "      <td>Agust??n \"Peluca\" Ort??z</td>\n",
       "      <td>ACTOR</td>\n",
       "      <td>Lokillo</td>\n",
       "      <td>MOVIE</td>\n",
       "      <td>2021</td>\n",
       "      <td>['comedy']</td>\n",
       "      <td>3.8</td>\n",
       "      <td>68.0</td>\n",
       "    </tr>\n",
       "    <tr>\n",
       "      <th>85571</th>\n",
       "      <td>Carla Giraldo</td>\n",
       "      <td>Valery Reinoso</td>\n",
       "      <td>ACTOR</td>\n",
       "      <td>Lokillo</td>\n",
       "      <td>MOVIE</td>\n",
       "      <td>2021</td>\n",
       "      <td>['comedy']</td>\n",
       "      <td>3.8</td>\n",
       "      <td>68.0</td>\n",
       "    </tr>\n",
       "    <tr>\n",
       "      <th>85572</th>\n",
       "      <td>Ana Mar??a S?­nchez</td>\n",
       "      <td>Lourdes</td>\n",
       "      <td>ACTOR</td>\n",
       "      <td>Lokillo</td>\n",
       "      <td>MOVIE</td>\n",
       "      <td>2021</td>\n",
       "      <td>['comedy']</td>\n",
       "      <td>3.8</td>\n",
       "      <td>68.0</td>\n",
       "    </tr>\n",
       "    <tr>\n",
       "      <th>85577</th>\n",
       "      <td>Isabel Gaona</td>\n",
       "      <td>Cacica</td>\n",
       "      <td>ACTOR</td>\n",
       "      <td>Lokillo</td>\n",
       "      <td>MOVIE</td>\n",
       "      <td>2021</td>\n",
       "      <td>['comedy']</td>\n",
       "      <td>3.8</td>\n",
       "      <td>68.0</td>\n",
       "    </tr>\n",
       "  </tbody>\n",
       "</table>\n",
       "</div>"
      ],
      "text/plain": [
       "                      name                 character   role    title   type  \\\n",
       "85569       Jessica Cediel           Liliana Navarro  ACTOR  Lokillo  MOVIE   \n",
       "85570  Javier Gardeaz?­bal  Agust??n \"Peluca\" Ort??z  ACTOR  Lokillo  MOVIE   \n",
       "85571        Carla Giraldo            Valery Reinoso  ACTOR  Lokillo  MOVIE   \n",
       "85572  Ana Mar??a S?­nchez                   Lourdes  ACTOR  Lokillo  MOVIE   \n",
       "85577         Isabel Gaona                    Cacica  ACTOR  Lokillo  MOVIE   \n",
       "\n",
       "       release_year      genres  imdb_score  imdb_votes  \n",
       "85569          2021  ['comedy']         3.8        68.0  \n",
       "85570          2021  ['comedy']         3.8        68.0  \n",
       "85571          2021  ['comedy']         3.8        68.0  \n",
       "85572          2021  ['comedy']         3.8        68.0  \n",
       "85577          2021  ['comedy']         3.8        68.0  "
      ]
     },
     "metadata": {},
     "output_type": "display_data"
    }
   ],
   "source": [
    "# Produce table with duplicates (with original rows included) and review last 5 rows\n",
    "\n",
    "\n",
    "duplicates = df[df.duplicated(keep=False)]\n",
    "\n",
    "print(\"Table with duplicates:\")\n",
    "display(duplicates)\n",
    "\n",
    "print(\"\\nLast 5 Rows of duplicates:\")\n",
    "display(duplicates.tail())"
   ]
  },
  {
   "cell_type": "markdown",
   "id": "a1ed6640",
   "metadata": {
    "id": "a1ed6640"
   },
   "source": [
    "There are two clear duplicates in the printed rows. We can safely remove them.\n",
    "Call the `pandas` method for getting rid of duplicate rows:"
   ]
  },
  {
   "cell_type": "code",
   "execution_count": 14,
   "id": "000794aa",
   "metadata": {},
   "outputs": [
    {
     "name": "stdout",
     "output_type": "stream",
     "text": [
      "<class 'pandas.core.frame.DataFrame'>\n",
      "Int64Index: 80853 entries, 0 to 85578\n",
      "Data columns (total 9 columns):\n",
      " #   Column        Non-Null Count  Dtype  \n",
      "---  ------        --------------  -----  \n",
      " 0   name          80853 non-null  object \n",
      " 1   character     80853 non-null  object \n",
      " 2   role          80853 non-null  object \n",
      " 3   title         80853 non-null  object \n",
      " 4   type          80853 non-null  object \n",
      " 5   release_year  80853 non-null  int64  \n",
      " 6   genres        80853 non-null  object \n",
      " 7   imdb_score    80853 non-null  float64\n",
      " 8   imdb_votes    80853 non-null  float64\n",
      "dtypes: float64(2), int64(1), object(6)\n",
      "memory usage: 6.2+ MB\n"
     ]
    }
   ],
   "source": [
    "df.info()"
   ]
  },
  {
   "cell_type": "code",
   "execution_count": 15,
   "id": "724d5bc8",
   "metadata": {
    "id": "724d5bc8"
   },
   "outputs": [],
   "source": [
    "# removing duplicate rows\n",
    "\n",
    "df = df.drop_duplicates() # only display the correct answer, but the orignal df is still doesn't change"
   ]
  },
  {
   "cell_type": "markdown",
   "id": "fc8c77ba",
   "metadata": {
    "id": "fc8c77ba"
   },
   "source": [
    "Check for duplicate rows once more to make sure you have removed all of them:"
   ]
  },
  {
   "cell_type": "code",
   "execution_count": 16,
   "id": "8091a9bc",
   "metadata": {
    "id": "8091a9bc",
    "outputId": "c796d060-adc2-48c1-e3a3-cb7c92f4bee5"
   },
   "outputs": [
    {
     "data": {
      "text/plain": [
       "0"
      ]
     },
     "execution_count": 16,
     "metadata": {},
     "output_type": "execute_result"
    }
   ],
   "source": [
    "# checking for duplicates only show explicit duplicates\n",
    "\n",
    "df.duplicated().sum()"
   ]
  },
  {
   "cell_type": "markdown",
   "id": "1d802b07",
   "metadata": {
    "id": "1d802b07"
   },
   "source": [
    "Now get rid of implicit duplicates in the `'type'` column. For example, the string `'SHOW'` can be written in different ways. These kinds of errors will also affect the result."
   ]
  },
  {
   "cell_type": "markdown",
   "id": "d5f987ed",
   "metadata": {
    "id": "d5f987ed"
   },
   "source": [
    "Print a list of unique `'type'` names, sorted in alphabetical order. To do so:\n",
    "* Retrieve the intended dataframe column\n",
    "* Apply a sorting method to it\n",
    "* For the sorted column, call the method that will return all unique column values"
   ]
  },
  {
   "cell_type": "code",
   "execution_count": 17,
   "id": "b5b6093e",
   "metadata": {},
   "outputs": [
    {
     "data": {
      "text/plain": [
       "Index(['name', 'character', 'role', 'title', 'type', 'release_year', 'genres',\n",
       "       'imdb_score', 'imdb_votes'],\n",
       "      dtype='object')"
      ]
     },
     "execution_count": 17,
     "metadata": {},
     "output_type": "execute_result"
    }
   ],
   "source": [
    "df.columns"
   ]
  },
  {
   "cell_type": "code",
   "execution_count": 18,
   "id": "3d7b0ac5",
   "metadata": {
    "id": "3d7b0ac5"
   },
   "outputs": [],
   "source": [
    "# viewing unique type names\n",
    "\n",
    "unique_types = df['type'].unique()\n",
    "\n"
   ]
  },
  {
   "cell_type": "code",
   "execution_count": 19,
   "id": "08880640",
   "metadata": {},
   "outputs": [
    {
     "data": {
      "text/plain": [
       "array(['MOVIE', 'the movie', 'tv show', 'shows', 'movies', 'tv shows',\n",
       "       'tv series', 'tv', 'SHOW'], dtype=object)"
      ]
     },
     "execution_count": 19,
     "metadata": {},
     "output_type": "execute_result"
    }
   ],
   "source": [
    "unique_types"
   ]
  },
  {
   "cell_type": "markdown",
   "id": "ac6e8b18",
   "metadata": {
    "id": "ac6e8b18"
   },
   "source": [
    "Look through the list to find implicit duplicates of `'show'` (`'movie'` duplicates will be ignored since the assumption is about shows). These could be names written incorrectly or alternative names of the same genre.\n",
    "\n",
    "You will see the following implicit duplicates:\n",
    "* `'shows'`\n",
    "* `'SHOW'`\n",
    "* `'tv show'`\n",
    "* `'tv shows'`\n",
    "* `'tv series'`\n",
    "* `'tv'`\n",
    "\n",
    "To get rid of them, declare the function `replace_wrong_show()` with two parameters:\n",
    "* `wrong_shows_list=` — the list of duplicates\n",
    "* `correct_show=` — the string with the correct value\n",
    "\n",
    "The function should correct the names in the `'type'` column from the `df` table (i.e., replace each value from the `wrong_shows_list` list with the value in `correct_show`)."
   ]
  },
  {
   "cell_type": "code",
   "execution_count": 20,
   "id": "bff944f9",
   "metadata": {
    "id": "bff944f9"
   },
   "outputs": [],
   "source": [
    "# function for replacing implicit duplicates\n",
    "def replace_wrong_show(df, wrong_list, correct_value):\n",
    "    df.loc[:, 'type'] = df['type'].replace(wrong_list, correct_value)\n",
    "    return df\n"
   ]
  },
  {
   "cell_type": "markdown",
   "id": "d02d13a6",
   "metadata": {
    "id": "d02d13a6"
   },
   "source": [
    "Call `replace_wrong_show()` and pass it arguments so that it clears implicit duplicates and replaces them with `SHOW`:"
   ]
  },
  {
   "cell_type": "code",
   "execution_count": 21,
   "id": "a2217e53",
   "metadata": {
    "id": "a2217e53"
   },
   "outputs": [
    {
     "name": "stderr",
     "output_type": "stream",
     "text": [
      "/opt/conda/envs/python3/lib/python3.9/site-packages/pandas/core/indexing.py:1676: SettingWithCopyWarning: \n",
      "A value is trying to be set on a copy of a slice from a DataFrame.\n",
      "Try using .loc[row_indexer,col_indexer] = value instead\n",
      "\n",
      "See the caveats in the documentation: https://pandas.pydata.org/pandas-docs/stable/user_guide/indexing.html#returning-a-view-versus-a-copy\n",
      "  self._setitem_single_column(ilocs[0], value, pi)\n"
     ]
    }
   ],
   "source": [
    "# removing implicit duplicates\n",
    "wrong_list = ['shows','SHOW','tv show','tv shows','tv series','tv']\n",
    "correct_value = 'SHOW'\n",
    "\n",
    "df = replace_wrong_show(df, wrong_list, correct_value)\n"
   ]
  },
  {
   "cell_type": "markdown",
   "id": "318b09f7",
   "metadata": {
    "id": "318b09f7"
   },
   "source": [
    "Make sure the duplicate names are removed. Print the list of unique values from the `'type'` column:"
   ]
  },
  {
   "cell_type": "code",
   "execution_count": 22,
   "id": "25d49d73",
   "metadata": {
    "id": "25d49d73"
   },
   "outputs": [
    {
     "name": "stdout",
     "output_type": "stream",
     "text": [
      "Unique Genre Names:\n",
      "['MOVIE' 'the movie' 'SHOW' 'movies']\n"
     ]
    }
   ],
   "source": [
    "# viewing unique genre names\n",
    "unique_genres = df['type'].unique()\n",
    "print(\"Unique Genre Names:\")\n",
    "print(unique_genres)"
   ]
  },
  {
   "cell_type": "code",
   "execution_count": 23,
   "id": "7c45fab8",
   "metadata": {},
   "outputs": [
    {
     "data": {
      "text/plain": [
       "array(['MOVIE', 'the movie', 'SHOW', 'movies'], dtype=object)"
      ]
     },
     "execution_count": 23,
     "metadata": {},
     "output_type": "execute_result"
    }
   ],
   "source": [
    "df['type'].unique()"
   ]
  },
  {
   "cell_type": "code",
   "execution_count": 24,
   "id": "9682e8ee",
   "metadata": {},
   "outputs": [
    {
     "data": {
      "text/plain": [
       "43"
      ]
     },
     "execution_count": 24,
     "metadata": {},
     "output_type": "execute_result"
    }
   ],
   "source": [
    "df.duplicated().sum()"
   ]
  },
  {
   "cell_type": "code",
   "execution_count": 25,
   "id": "84d22907",
   "metadata": {},
   "outputs": [
    {
     "data": {
      "text/plain": [
       "0"
      ]
     },
     "execution_count": 25,
     "metadata": {},
     "output_type": "execute_result"
    }
   ],
   "source": [
    "df = df.drop_duplicates()\n",
    "df.duplicated().sum()"
   ]
  },
  {
   "cell_type": "markdown",
   "id": "18b2049e",
   "metadata": {
    "id": "18b2049e"
   },
   "source": [
    "### Conclusions <a id='data_preprocessing_conclusions'></a>\n",
    "We detected three issues with the data:\n",
    "\n",
    "- Incorrect header styles\n",
    "- Missing values\n",
    "- Duplicate rows and implicit duplicates\n",
    "\n",
    "The headers have been cleaned up to make processing the table simpler.\n",
    "\n",
    "All rows with missing values have been removed.\n",
    "\n",
    "The absence of duplicates will make the results more precise and easier to understand.\n",
    "\n",
    "Now we can move on to our analysis of the prepared data."
   ]
  },
  {
   "cell_type": "markdown",
   "id": "1aa0f1b1",
   "metadata": {
    "id": "1aa0f1b1"
   },
   "source": [
    "## Stage 3. Data analysis <a id='hypotheses'></a>"
   ]
  },
  {
   "cell_type": "markdown",
   "id": "f8fb6a0e",
   "metadata": {
    "id": "f8fb6a0e"
   },
   "source": [
    "Based on the previous project stages, you can now define how the assumption will be checked. Calculate the average amount of votes for each score (this data is available in the `imdb_score` and `imdb_votes` columns), and then check how these averages relate to each other. If the averages for shows with the highest scores are bigger than those for shows with lower scores, the assumption appears to be true.\n",
    "\n",
    "Based on this, complete the following steps:\n",
    "\n",
    "- Filter the dataframe to only include shows released in 1999 or later.\n",
    "- Group scores into buckets by rounding the values of the appropriate column (a set of 1-10 integers will help us make the outcome of our calculations more evident without damaging the quality of our research).\n",
    "- Identify outliers among scores based on their number of votes, and exclude scores with few votes.\n",
    "- Calculate the average votes for each score and check whether the assumption matches the results."
   ]
  },
  {
   "cell_type": "markdown",
   "id": "0ea2cb51",
   "metadata": {
    "id": "0ea2cb51"
   },
   "source": [
    "To filter the dataframe and only include shows released in 1999 or later, you will take two steps. First, keep only titles published in 1999 or later in our dataframe. Then, filter the table to only contain shows (movies will be removed)."
   ]
  },
  {
   "cell_type": "code",
   "execution_count": 26,
   "id": "6a704aa1",
   "metadata": {
    "id": "6a704aa1"
   },
   "outputs": [],
   "source": [
    "# using conditional indexing modify df so it has only titles released after 1999 (with 1999 included)\n",
    "df_slice = df[df['release_year'] >= 1999]\n",
    "# give the slice of dataframe new name\n",
    "new_df = df_slice.copy()"
   ]
  },
  {
   "cell_type": "code",
   "execution_count": 27,
   "id": "128dc6a9",
   "metadata": {
    "id": "128dc6a9",
    "scrolled": true
   },
   "outputs": [],
   "source": [
    "# repeat conditional indexing so df has only shows (movies are removed as result)\n",
    "df_slice = df_slice[df_slice['type'] == 'SHOW'] # how to make conditional slice"
   ]
  },
  {
   "cell_type": "markdown",
   "id": "9648040c",
   "metadata": {
    "id": "9648040c"
   },
   "source": [
    "The scores that are to be grouped should be rounded. For instance, titles with scores like 7.8, 8.1, and 8.3 will all be placed in the same bucket with a score of 8."
   ]
  },
  {
   "cell_type": "code",
   "execution_count": 28,
   "id": "54bbd5c0",
   "metadata": {
    "id": "54bbd5c0"
   },
   "outputs": [
    {
     "data": {
      "text/html": [
       "<div>\n",
       "<style scoped>\n",
       "    .dataframe tbody tr th:only-of-type {\n",
       "        vertical-align: middle;\n",
       "    }\n",
       "\n",
       "    .dataframe tbody tr th {\n",
       "        vertical-align: top;\n",
       "    }\n",
       "\n",
       "    .dataframe thead th {\n",
       "        text-align: right;\n",
       "    }\n",
       "</style>\n",
       "<table border=\"1\" class=\"dataframe\">\n",
       "  <thead>\n",
       "    <tr style=\"text-align: right;\">\n",
       "      <th></th>\n",
       "      <th>name</th>\n",
       "      <th>character</th>\n",
       "      <th>role</th>\n",
       "      <th>title</th>\n",
       "      <th>type</th>\n",
       "      <th>release_year</th>\n",
       "      <th>genres</th>\n",
       "      <th>imdb_score</th>\n",
       "      <th>imdb_votes</th>\n",
       "    </tr>\n",
       "  </thead>\n",
       "  <tbody>\n",
       "    <tr>\n",
       "      <th>77655</th>\n",
       "      <td>Maneerat Kam-Uan</td>\n",
       "      <td>Ae</td>\n",
       "      <td>ACTOR</td>\n",
       "      <td>Let's Eat</td>\n",
       "      <td>SHOW</td>\n",
       "      <td>2021</td>\n",
       "      <td>['drama', 'comedy']</td>\n",
       "      <td>8.0</td>\n",
       "      <td>5.0</td>\n",
       "    </tr>\n",
       "    <tr>\n",
       "      <th>77656</th>\n",
       "      <td>Rudklao Amratisha</td>\n",
       "      <td>unknown</td>\n",
       "      <td>ACTOR</td>\n",
       "      <td>Let's Eat</td>\n",
       "      <td>SHOW</td>\n",
       "      <td>2021</td>\n",
       "      <td>['drama', 'comedy']</td>\n",
       "      <td>8.0</td>\n",
       "      <td>5.0</td>\n",
       "    </tr>\n",
       "    <tr>\n",
       "      <th>77657</th>\n",
       "      <td>Jaturong Mokjok</td>\n",
       "      <td>unknown</td>\n",
       "      <td>ACTOR</td>\n",
       "      <td>Let's Eat</td>\n",
       "      <td>SHOW</td>\n",
       "      <td>2021</td>\n",
       "      <td>['drama', 'comedy']</td>\n",
       "      <td>8.0</td>\n",
       "      <td>5.0</td>\n",
       "    </tr>\n",
       "    <tr>\n",
       "      <th>77658</th>\n",
       "      <td>Pisamai Wilaisak</td>\n",
       "      <td>unknown</td>\n",
       "      <td>ACTOR</td>\n",
       "      <td>Let's Eat</td>\n",
       "      <td>SHOW</td>\n",
       "      <td>2021</td>\n",
       "      <td>['drama', 'comedy']</td>\n",
       "      <td>8.0</td>\n",
       "      <td>5.0</td>\n",
       "    </tr>\n",
       "    <tr>\n",
       "      <th>77659</th>\n",
       "      <td>Sarawut Wichiensarn</td>\n",
       "      <td>unknown</td>\n",
       "      <td>DIRECTOR</td>\n",
       "      <td>Let's Eat</td>\n",
       "      <td>SHOW</td>\n",
       "      <td>2021</td>\n",
       "      <td>['drama', 'comedy']</td>\n",
       "      <td>8.0</td>\n",
       "      <td>5.0</td>\n",
       "    </tr>\n",
       "  </tbody>\n",
       "</table>\n",
       "</div>"
      ],
      "text/plain": [
       "                      name character      role      title  type  release_year  \\\n",
       "77655     Maneerat Kam-Uan        Ae     ACTOR  Let's Eat  SHOW          2021   \n",
       "77656    Rudklao Amratisha   unknown     ACTOR  Let's Eat  SHOW          2021   \n",
       "77657      Jaturong Mokjok   unknown     ACTOR  Let's Eat  SHOW          2021   \n",
       "77658     Pisamai Wilaisak   unknown     ACTOR  Let's Eat  SHOW          2021   \n",
       "77659  Sarawut Wichiensarn   unknown  DIRECTOR  Let's Eat  SHOW          2021   \n",
       "\n",
       "                    genres  imdb_score  imdb_votes  \n",
       "77655  ['drama', 'comedy']         8.0         5.0  \n",
       "77656  ['drama', 'comedy']         8.0         5.0  \n",
       "77657  ['drama', 'comedy']         8.0         5.0  \n",
       "77658  ['drama', 'comedy']         8.0         5.0  \n",
       "77659  ['drama', 'comedy']         8.0         5.0  "
      ]
     },
     "execution_count": 28,
     "metadata": {},
     "output_type": "execute_result"
    }
   ],
   "source": [
    "# rounding column with scores\n",
    "df_slice = df_slice.round(0)\n",
    "\n",
    "#checking the outcome with tail()\n",
    "df_slice.tail()"
   ]
  },
  {
   "cell_type": "markdown",
   "id": "36dbd00a",
   "metadata": {
    "id": "36dbd00a"
   },
   "source": [
    "It is now time to identify outliers based on the number of votes."
   ]
  },
  {
   "cell_type": "code",
   "execution_count": 29,
   "id": "b8b55e95",
   "metadata": {
    "id": "b8b55e95"
   },
   "outputs": [
    {
     "name": "stdout",
     "output_type": "stream",
     "text": [
      "imdb_score\n",
      "2.0       24\n",
      "3.0       27\n",
      "4.0      179\n",
      "5.0      589\n",
      "6.0     2477\n",
      "7.0     4706\n",
      "8.0     4820\n",
      "9.0      557\n",
      "10.0       8\n",
      "Name: name, dtype: int64\n"
     ]
    }
   ],
   "source": [
    "# Use groupby() for scores and count all unique values in each group, print the result\n",
    "\n",
    "result = df_slice.groupby('imdb_score')['name'].count()\n",
    "\n",
    "print(result)"
   ]
  },
  {
   "cell_type": "markdown",
   "id": "1ba6daae",
   "metadata": {
    "id": "1ba6daae"
   },
   "source": [
    "Based on the aggregation performed, it is evident that scores 2 (24 voted shows), 3 (27 voted shows), and 10 (only 8 voted shows) are outliers. There isn't enough data for these scores for the average number of votes to be meaningful."
   ]
  },
  {
   "cell_type": "markdown",
   "id": "bd468c46",
   "metadata": {
    "id": "bd468c46"
   },
   "source": [
    "To obtain the mean numbers of votes for the selected scores (we identified a range of 4-9 as acceptable), use conditional filtering and grouping."
   ]
  },
  {
   "cell_type": "code",
   "execution_count": 30,
   "id": "d1867e0e",
   "metadata": {
    "id": "d1867e0e"
   },
   "outputs": [
    {
     "data": {
      "text/html": [
       "<div>\n",
       "<style scoped>\n",
       "    .dataframe tbody tr th:only-of-type {\n",
       "        vertical-align: middle;\n",
       "    }\n",
       "\n",
       "    .dataframe tbody tr th {\n",
       "        vertical-align: top;\n",
       "    }\n",
       "\n",
       "    .dataframe thead th {\n",
       "        text-align: right;\n",
       "    }\n",
       "</style>\n",
       "<table border=\"1\" class=\"dataframe\">\n",
       "  <thead>\n",
       "    <tr style=\"text-align: right;\">\n",
       "      <th></th>\n",
       "      <th>imdb_score</th>\n",
       "      <th>imdb_votes</th>\n",
       "    </tr>\n",
       "  </thead>\n",
       "  <tbody>\n",
       "    <tr>\n",
       "      <th>0</th>\n",
       "      <td>4.0</td>\n",
       "      <td>5296.553073</td>\n",
       "    </tr>\n",
       "    <tr>\n",
       "      <th>1</th>\n",
       "      <td>5.0</td>\n",
       "      <td>3159.726655</td>\n",
       "    </tr>\n",
       "    <tr>\n",
       "      <th>2</th>\n",
       "      <td>6.0</td>\n",
       "      <td>3503.104966</td>\n",
       "    </tr>\n",
       "    <tr>\n",
       "      <th>3</th>\n",
       "      <td>7.0</td>\n",
       "      <td>8727.068211</td>\n",
       "    </tr>\n",
       "    <tr>\n",
       "      <th>4</th>\n",
       "      <td>8.0</td>\n",
       "      <td>30431.420539</td>\n",
       "    </tr>\n",
       "    <tr>\n",
       "      <th>5</th>\n",
       "      <td>9.0</td>\n",
       "      <td>126904.109515</td>\n",
       "    </tr>\n",
       "  </tbody>\n",
       "</table>\n",
       "</div>"
      ],
      "text/plain": [
       "   imdb_score     imdb_votes\n",
       "0         4.0    5296.553073\n",
       "1         5.0    3159.726655\n",
       "2         6.0    3503.104966\n",
       "3         7.0    8727.068211\n",
       "4         8.0   30431.420539\n",
       "5         9.0  126904.109515"
      ]
     },
     "execution_count": 30,
     "metadata": {},
     "output_type": "execute_result"
    }
   ],
   "source": [
    "# filter dataframe using two conditions (scores to be in the range 4-9)\n",
    "filtered_df = df_slice.loc[(df_slice['imdb_score'] >= 4) & (df_slice['imdb_score'] <= 9)]\n",
    "# group scores and corresponding average number of votes, reset index and print the result\n",
    "grouped_df = filtered_df.groupby('imdb_score', as_index=False)['imdb_votes'].mean()\n",
    "\n",
    "grouped_df.reset_index(drop=True, inplace=True)\n",
    "\n",
    "grouped_df"
   ]
  },
  {
   "cell_type": "markdown",
   "id": "96a66d14",
   "metadata": {
    "id": "96a66d14"
   },
   "source": [
    "Now for the final step! Round the column with the averages, rename both columns, and print the dataframe in descending order."
   ]
  },
  {
   "cell_type": "code",
   "execution_count": 31,
   "id": "5999051b",
   "metadata": {
    "id": "5999051b"
   },
   "outputs": [
    {
     "data": {
      "text/html": [
       "<div>\n",
       "<style scoped>\n",
       "    .dataframe tbody tr th:only-of-type {\n",
       "        vertical-align: middle;\n",
       "    }\n",
       "\n",
       "    .dataframe tbody tr th {\n",
       "        vertical-align: top;\n",
       "    }\n",
       "\n",
       "    .dataframe thead th {\n",
       "        text-align: right;\n",
       "    }\n",
       "</style>\n",
       "<table border=\"1\" class=\"dataframe\">\n",
       "  <thead>\n",
       "    <tr style=\"text-align: right;\">\n",
       "      <th></th>\n",
       "      <th>Score</th>\n",
       "      <th>Average_Votes</th>\n",
       "    </tr>\n",
       "  </thead>\n",
       "  <tbody>\n",
       "    <tr>\n",
       "      <th>5</th>\n",
       "      <td>9.0</td>\n",
       "      <td>126904.0</td>\n",
       "    </tr>\n",
       "    <tr>\n",
       "      <th>4</th>\n",
       "      <td>8.0</td>\n",
       "      <td>30431.0</td>\n",
       "    </tr>\n",
       "    <tr>\n",
       "      <th>3</th>\n",
       "      <td>7.0</td>\n",
       "      <td>8727.0</td>\n",
       "    </tr>\n",
       "    <tr>\n",
       "      <th>0</th>\n",
       "      <td>4.0</td>\n",
       "      <td>5297.0</td>\n",
       "    </tr>\n",
       "    <tr>\n",
       "      <th>2</th>\n",
       "      <td>6.0</td>\n",
       "      <td>3503.0</td>\n",
       "    </tr>\n",
       "    <tr>\n",
       "      <th>1</th>\n",
       "      <td>5.0</td>\n",
       "      <td>3160.0</td>\n",
       "    </tr>\n",
       "  </tbody>\n",
       "</table>\n",
       "</div>"
      ],
      "text/plain": [
       "   Score  Average_Votes\n",
       "5    9.0       126904.0\n",
       "4    8.0        30431.0\n",
       "3    7.0         8727.0\n",
       "0    4.0         5297.0\n",
       "2    6.0         3503.0\n",
       "1    5.0         3160.0"
      ]
     },
     "execution_count": 31,
     "metadata": {},
     "output_type": "execute_result"
    }
   ],
   "source": [
    "# round column with averages\n",
    "grouped_df = grouped_df.round() #the code should be precise\n",
    "# rename columns\n",
    "grouped_df.rename(columns={'imdb_score':'Score' ,'imdb_votes': 'Average_Votes' }, inplace=True)\n",
    "# print dataframe in descending order\n",
    "grouped_df = grouped_df.sort_values(by='Average_Votes', ascending=False)\n",
    "\n",
    "grouped_df"
   ]
  },
  {
   "cell_type": "markdown",
   "id": "af07386d",
   "metadata": {
    "id": "af07386d"
   },
   "source": [
    "The assumption macthes the analysis: the shows with the top 3 scores have the most amounts of votes."
   ]
  },
  {
   "cell_type": "markdown",
   "id": "84e29a37",
   "metadata": {
    "id": "84e29a37"
   },
   "source": [
    "## Conclusion <a id='hypotheses'></a>"
   ]
  },
  {
   "cell_type": "markdown",
   "id": "984766a3",
   "metadata": {
    "id": "984766a3"
   },
   "source": [
    "The research done confirms that highly-rated shows released during the \"Golden Age\" of television also have the most votes. While shows with score 4 have more votes than ones with scores 5 and 6, the top three (scores 7-9) have the largest number. The data studied represents around 94% of the original set, so we can be confident in our findings."
   ]
  }
 ],
 "metadata": {
  "ExecuteTimeLog": [
   {
    "duration": 322,
    "start_time": "2024-06-20T16:18:28.858Z"
   },
   {
    "duration": 349,
    "start_time": "2024-06-20T16:18:37.693Z"
   },
   {
    "duration": 351,
    "start_time": "2024-06-20T16:18:47.910Z"
   },
   {
    "duration": 22,
    "start_time": "2024-06-20T16:18:58.170Z"
   },
   {
    "duration": 20,
    "start_time": "2024-06-20T16:18:59.790Z"
   },
   {
    "duration": 341,
    "start_time": "2024-06-20T16:19:03.572Z"
   },
   {
    "duration": 349,
    "start_time": "2024-06-20T16:19:13.915Z"
   },
   {
    "duration": 359,
    "start_time": "2024-06-20T16:19:20.263Z"
   },
   {
    "duration": 341,
    "start_time": "2024-06-20T16:19:37.570Z"
   },
   {
    "duration": 362,
    "start_time": "2024-07-10T13:40:52.938Z"
   },
   {
    "duration": 391,
    "start_time": "2024-07-10T13:41:14.491Z"
   },
   {
    "duration": 345,
    "start_time": "2024-07-10T13:41:33.981Z"
   },
   {
    "duration": 368,
    "start_time": "2024-07-10T13:41:45.929Z"
   },
   {
    "duration": 353,
    "start_time": "2024-07-10T13:56:47.805Z"
   },
   {
    "duration": 360,
    "start_time": "2024-07-10T14:14:26.342Z"
   },
   {
    "duration": 351,
    "start_time": "2024-07-10T14:14:34.433Z"
   },
   {
    "duration": 345,
    "start_time": "2024-07-10T14:14:43.366Z"
   },
   {
    "duration": 354,
    "start_time": "2024-07-10T14:14:51.294Z"
   },
   {
    "duration": 350,
    "start_time": "2024-07-10T14:15:02.043Z"
   },
   {
    "duration": 469,
    "start_time": "2024-07-10T14:15:09.292Z"
   },
   {
    "duration": 2573,
    "start_time": "2024-07-31T12:36:25.092Z"
   },
   {
    "duration": 5,
    "start_time": "2024-07-31T12:36:56.602Z"
   },
   {
    "duration": 6,
    "start_time": "2024-07-31T12:36:58.120Z"
   },
   {
    "duration": 7,
    "start_time": "2024-07-31T12:37:01.050Z"
   },
   {
    "duration": 6,
    "start_time": "2024-07-31T12:37:02.964Z"
   },
   {
    "duration": 610,
    "start_time": "2024-07-31T12:37:07.939Z"
   },
   {
    "duration": 6,
    "start_time": "2024-07-31T12:37:12.522Z"
   },
   {
    "duration": 4,
    "start_time": "2024-07-31T12:37:54.156Z"
   },
   {
    "duration": 4,
    "start_time": "2024-07-31T12:38:00.013Z"
   },
   {
    "duration": 842,
    "start_time": "2024-07-31T12:38:43.242Z"
   },
   {
    "duration": 825,
    "start_time": "2024-07-31T12:38:51.149Z"
   },
   {
    "duration": 34,
    "start_time": "2024-07-31T12:39:01.683Z"
   },
   {
    "duration": 395,
    "start_time": "2024-08-07T10:38:28.532Z"
   },
   {
    "duration": 342,
    "start_time": "2024-08-07T10:38:44.370Z"
   },
   {
    "duration": 6,
    "start_time": "2024-09-02T11:34:30.875Z"
   },
   {
    "duration": 2,
    "start_time": "2024-09-02T11:34:36.557Z"
   },
   {
    "duration": 6,
    "start_time": "2024-09-02T11:34:44.957Z"
   },
   {
    "duration": 2,
    "start_time": "2024-09-11T13:32:46.785Z"
   },
   {
    "duration": 2,
    "start_time": "2024-09-11T13:32:52.387Z"
   },
   {
    "duration": 296,
    "start_time": "2024-10-09T01:22:12.866Z"
   },
   {
    "duration": 4,
    "start_time": "2024-10-09T01:22:13.165Z"
   },
   {
    "duration": 0,
    "start_time": "2024-10-09T01:22:13.173Z"
   },
   {
    "duration": 0,
    "start_time": "2024-10-09T01:22:13.175Z"
   },
   {
    "duration": 0,
    "start_time": "2024-10-09T01:22:13.176Z"
   },
   {
    "duration": 0,
    "start_time": "2024-10-09T01:22:13.177Z"
   },
   {
    "duration": 0,
    "start_time": "2024-10-09T01:22:13.178Z"
   },
   {
    "duration": 0,
    "start_time": "2024-10-09T01:22:13.179Z"
   },
   {
    "duration": 0,
    "start_time": "2024-10-09T01:22:13.180Z"
   },
   {
    "duration": 0,
    "start_time": "2024-10-09T01:22:13.182Z"
   },
   {
    "duration": 0,
    "start_time": "2024-10-09T01:22:13.183Z"
   },
   {
    "duration": 0,
    "start_time": "2024-10-09T01:22:13.184Z"
   },
   {
    "duration": 0,
    "start_time": "2024-10-09T01:22:13.185Z"
   },
   {
    "duration": 0,
    "start_time": "2024-10-09T01:22:13.186Z"
   },
   {
    "duration": 0,
    "start_time": "2024-10-09T01:22:13.212Z"
   },
   {
    "duration": 0,
    "start_time": "2024-10-09T01:22:13.213Z"
   },
   {
    "duration": 0,
    "start_time": "2024-10-09T01:22:13.214Z"
   },
   {
    "duration": 0,
    "start_time": "2024-10-09T01:22:13.215Z"
   },
   {
    "duration": 0,
    "start_time": "2024-10-09T01:22:13.217Z"
   },
   {
    "duration": 1,
    "start_time": "2024-10-09T01:22:13.218Z"
   },
   {
    "duration": 0,
    "start_time": "2024-10-09T01:22:13.221Z"
   },
   {
    "duration": 0,
    "start_time": "2024-10-09T01:22:13.222Z"
   },
   {
    "duration": 0,
    "start_time": "2024-10-09T01:22:13.223Z"
   },
   {
    "duration": 0,
    "start_time": "2024-10-09T01:22:13.224Z"
   },
   {
    "duration": 3,
    "start_time": "2024-10-09T01:22:18.769Z"
   },
   {
    "duration": 175,
    "start_time": "2024-10-09T01:22:19.128Z"
   },
   {
    "duration": 12,
    "start_time": "2024-10-09T01:22:20.012Z"
   },
   {
    "duration": 12,
    "start_time": "2024-10-09T01:22:20.341Z"
   },
   {
    "duration": 13,
    "start_time": "2024-10-09T01:22:20.679Z"
   },
   {
    "duration": 4,
    "start_time": "2024-10-09T01:22:21.024Z"
   },
   {
    "duration": 3,
    "start_time": "2024-10-09T01:22:21.379Z"
   },
   {
    "duration": 17,
    "start_time": "2024-10-09T01:22:21.738Z"
   },
   {
    "duration": 12,
    "start_time": "2024-10-09T01:22:22.107Z"
   },
   {
    "duration": 4,
    "start_time": "2024-10-09T01:22:22.464Z"
   },
   {
    "duration": 12,
    "start_time": "2024-10-09T01:22:22.855Z"
   },
   {
    "duration": 15,
    "start_time": "2024-10-09T01:22:23.226Z"
   },
   {
    "duration": 5,
    "start_time": "2024-10-09T01:22:23.827Z"
   },
   {
    "duration": 13,
    "start_time": "2024-10-09T01:22:24.225Z"
   },
   {
    "duration": 3,
    "start_time": "2024-10-09T01:22:24.603Z"
   },
   {
    "duration": 13,
    "start_time": "2024-10-09T01:22:24.986Z"
   },
   {
    "duration": 13,
    "start_time": "2024-10-09T01:22:25.988Z"
   },
   {
    "duration": 13,
    "start_time": "2024-10-09T01:22:26.181Z"
   },
   {
    "duration": 4,
    "start_time": "2024-10-09T01:22:26.556Z"
   },
   {
    "duration": 13,
    "start_time": "2024-10-09T01:22:26.960Z"
   },
   {
    "duration": 15,
    "start_time": "2024-10-09T01:22:27.569Z"
   },
   {
    "duration": 4,
    "start_time": "2024-10-09T01:22:27.977Z"
   },
   {
    "duration": 165,
    "start_time": "2024-10-12T18:34:14.244Z"
   },
   {
    "duration": 317,
    "start_time": "2024-10-15T01:15:38.047Z"
   },
   {
    "duration": 136,
    "start_time": "2024-10-15T01:15:48.931Z"
   },
   {
    "duration": 5,
    "start_time": "2024-10-15T01:16:15.768Z"
   },
   {
    "duration": 13,
    "start_time": "2024-10-15T01:21:38.366Z"
   },
   {
    "duration": 22,
    "start_time": "2024-10-15T01:22:23.353Z"
   },
   {
    "duration": 4,
    "start_time": "2024-10-15T01:24:42.262Z"
   },
   {
    "duration": 89,
    "start_time": "2024-10-15T01:24:56.651Z"
   },
   {
    "duration": 38,
    "start_time": "2024-10-15T01:27:23.134Z"
   },
   {
    "duration": 15,
    "start_time": "2024-10-15T01:38:36.597Z"
   },
   {
    "duration": 14,
    "start_time": "2024-10-15T01:39:16.598Z"
   },
   {
    "duration": 3,
    "start_time": "2024-10-15T01:40:26.978Z"
   },
   {
    "duration": 12,
    "start_time": "2024-10-15T01:40:39.064Z"
   },
   {
    "duration": 7,
    "start_time": "2024-10-15T01:42:12.530Z"
   },
   {
    "duration": 3,
    "start_time": "2024-10-15T01:42:51.746Z"
   },
   {
    "duration": 19,
    "start_time": "2024-10-15T01:43:05.192Z"
   },
   {
    "duration": 253,
    "start_time": "2024-10-15T01:46:55.293Z"
   },
   {
    "duration": 19,
    "start_time": "2024-10-15T01:47:18.654Z"
   },
   {
    "duration": 5,
    "start_time": "2024-10-15T01:47:57.851Z"
   },
   {
    "duration": 55,
    "start_time": "2024-10-15T01:48:19.381Z"
   },
   {
    "duration": 59,
    "start_time": "2024-10-15T01:48:37.704Z"
   },
   {
    "duration": 10,
    "start_time": "2024-10-15T01:48:56.984Z"
   },
   {
    "duration": 55,
    "start_time": "2024-10-15T01:49:11.069Z"
   },
   {
    "duration": 55,
    "start_time": "2024-10-15T01:49:39.567Z"
   },
   {
    "duration": 47,
    "start_time": "2024-10-15T01:49:55.364Z"
   },
   {
    "duration": 43,
    "start_time": "2024-10-15T01:49:59.930Z"
   },
   {
    "duration": 5,
    "start_time": "2024-10-15T01:50:04.865Z"
   },
   {
    "duration": 203,
    "start_time": "2024-10-15T01:50:17.875Z"
   },
   {
    "duration": 48,
    "start_time": "2024-10-15T01:51:17.490Z"
   },
   {
    "duration": 40,
    "start_time": "2024-10-15T01:51:53.354Z"
   },
   {
    "duration": 48,
    "start_time": "2024-10-15T01:52:32.629Z"
   },
   {
    "duration": 39,
    "start_time": "2024-10-15T01:53:20.709Z"
   },
   {
    "duration": 43,
    "start_time": "2024-10-15T01:53:50.320Z"
   },
   {
    "duration": 11,
    "start_time": "2024-10-15T01:54:36.207Z"
   },
   {
    "duration": 143,
    "start_time": "2024-10-15T01:57:44.898Z"
   },
   {
    "duration": 37,
    "start_time": "2024-10-15T01:59:39.837Z"
   },
   {
    "duration": 46,
    "start_time": "2024-10-15T01:59:53.222Z"
   },
   {
    "duration": 38,
    "start_time": "2024-10-15T02:00:29.354Z"
   },
   {
    "duration": 18,
    "start_time": "2024-10-15T02:00:43.639Z"
   },
   {
    "duration": 5,
    "start_time": "2024-10-15T02:02:18.296Z"
   },
   {
    "duration": 4,
    "start_time": "2024-10-15T02:02:25.531Z"
   },
   {
    "duration": 22,
    "start_time": "2024-10-15T02:03:10.609Z"
   },
   {
    "duration": 8,
    "start_time": "2024-10-15T20:55:02.187Z"
   },
   {
    "duration": 160,
    "start_time": "2024-10-15T20:55:17.137Z"
   },
   {
    "duration": 14,
    "start_time": "2024-10-15T20:55:48.439Z"
   },
   {
    "duration": 12,
    "start_time": "2024-10-15T20:56:53.553Z"
   },
   {
    "duration": 12,
    "start_time": "2024-10-15T20:57:34.058Z"
   },
   {
    "duration": 11,
    "start_time": "2024-10-15T21:06:22.082Z"
   },
   {
    "duration": 12,
    "start_time": "2024-10-15T21:06:29.533Z"
   },
   {
    "duration": 316,
    "start_time": "2024-10-15T21:07:32.598Z"
   },
   {
    "duration": 13,
    "start_time": "2024-10-15T21:09:22.408Z"
   },
   {
    "duration": 14,
    "start_time": "2024-10-15T21:17:32.376Z"
   },
   {
    "duration": 15,
    "start_time": "2024-10-15T21:17:46.566Z"
   },
   {
    "duration": 14,
    "start_time": "2024-10-15T21:17:54.208Z"
   },
   {
    "duration": 12,
    "start_time": "2024-10-15T21:20:42.969Z"
   },
   {
    "duration": 14,
    "start_time": "2024-10-15T21:22:26.723Z"
   },
   {
    "duration": 20,
    "start_time": "2024-10-15T21:25:01.749Z"
   },
   {
    "duration": 6,
    "start_time": "2024-10-15T21:25:12.319Z"
   },
   {
    "duration": 16,
    "start_time": "2024-10-15T21:25:17.880Z"
   },
   {
    "duration": 4,
    "start_time": "2024-10-15T21:25:27.215Z"
   },
   {
    "duration": 15,
    "start_time": "2024-10-15T21:25:41.787Z"
   },
   {
    "duration": 16,
    "start_time": "2024-10-15T21:25:45.178Z"
   },
   {
    "duration": 12,
    "start_time": "2024-10-15T21:25:53.942Z"
   },
   {
    "duration": 14,
    "start_time": "2024-10-15T21:26:00.345Z"
   },
   {
    "duration": 172,
    "start_time": "2024-10-16T23:48:52.884Z"
   },
   {
    "duration": 295,
    "start_time": "2024-10-17T01:10:15.264Z"
   },
   {
    "duration": 138,
    "start_time": "2024-10-17T01:10:15.561Z"
   },
   {
    "duration": 15,
    "start_time": "2024-10-17T01:10:15.700Z"
   },
   {
    "duration": 25,
    "start_time": "2024-10-17T01:10:15.716Z"
   },
   {
    "duration": 5,
    "start_time": "2024-10-17T01:10:15.744Z"
   },
   {
    "duration": 57,
    "start_time": "2024-10-17T01:10:15.751Z"
   },
   {
    "duration": 3,
    "start_time": "2024-10-17T01:10:15.810Z"
   },
   {
    "duration": 13,
    "start_time": "2024-10-17T01:10:15.814Z"
   },
   {
    "duration": 3,
    "start_time": "2024-10-17T01:10:15.829Z"
   },
   {
    "duration": 48,
    "start_time": "2024-10-17T01:10:15.833Z"
   },
   {
    "duration": 171,
    "start_time": "2024-10-17T01:10:15.882Z"
   },
   {
    "duration": 0,
    "start_time": "2024-10-17T01:10:16.056Z"
   },
   {
    "duration": 0,
    "start_time": "2024-10-17T01:10:16.056Z"
   },
   {
    "duration": 0,
    "start_time": "2024-10-17T01:10:16.057Z"
   },
   {
    "duration": 0,
    "start_time": "2024-10-17T01:10:16.071Z"
   },
   {
    "duration": 0,
    "start_time": "2024-10-17T01:10:16.072Z"
   },
   {
    "duration": 0,
    "start_time": "2024-10-17T01:10:16.073Z"
   },
   {
    "duration": 0,
    "start_time": "2024-10-17T01:10:16.074Z"
   },
   {
    "duration": 0,
    "start_time": "2024-10-17T01:10:16.075Z"
   },
   {
    "duration": 0,
    "start_time": "2024-10-17T01:10:16.076Z"
   },
   {
    "duration": 0,
    "start_time": "2024-10-17T01:10:16.077Z"
   },
   {
    "duration": 0,
    "start_time": "2024-10-17T01:10:16.079Z"
   },
   {
    "duration": 0,
    "start_time": "2024-10-17T01:10:16.081Z"
   },
   {
    "duration": 0,
    "start_time": "2024-10-17T01:10:16.082Z"
   },
   {
    "duration": 0,
    "start_time": "2024-10-17T01:10:16.084Z"
   },
   {
    "duration": 0,
    "start_time": "2024-10-17T01:10:16.085Z"
   },
   {
    "duration": 190,
    "start_time": "2024-10-17T01:12:39.925Z"
   },
   {
    "duration": 12,
    "start_time": "2024-10-17T01:13:17.336Z"
   },
   {
    "duration": 38,
    "start_time": "2024-10-17T01:16:03.480Z"
   },
   {
    "duration": 39,
    "start_time": "2024-10-17T01:19:18.040Z"
   },
   {
    "duration": 18,
    "start_time": "2024-10-17T01:20:17.379Z"
   },
   {
    "duration": 19,
    "start_time": "2024-10-17T01:20:30.670Z"
   },
   {
    "duration": 225,
    "start_time": "2024-10-17T01:20:46.068Z"
   },
   {
    "duration": 310,
    "start_time": "2024-10-17T01:21:06.162Z"
   },
   {
    "duration": 152,
    "start_time": "2024-10-17T01:21:06.474Z"
   },
   {
    "duration": 15,
    "start_time": "2024-10-17T01:21:06.630Z"
   },
   {
    "duration": 37,
    "start_time": "2024-10-17T01:21:06.648Z"
   },
   {
    "duration": 8,
    "start_time": "2024-10-17T01:21:06.687Z"
   },
   {
    "duration": 76,
    "start_time": "2024-10-17T01:21:06.697Z"
   },
   {
    "duration": 4,
    "start_time": "2024-10-17T01:21:06.775Z"
   },
   {
    "duration": 18,
    "start_time": "2024-10-17T01:21:06.782Z"
   },
   {
    "duration": 7,
    "start_time": "2024-10-17T01:21:06.802Z"
   },
   {
    "duration": 37,
    "start_time": "2024-10-17T01:21:06.819Z"
   },
   {
    "duration": 21,
    "start_time": "2024-10-17T01:21:06.858Z"
   },
   {
    "duration": 28,
    "start_time": "2024-10-17T01:21:06.881Z"
   },
   {
    "duration": 242,
    "start_time": "2024-10-17T01:21:06.912Z"
   },
   {
    "duration": 80,
    "start_time": "2024-10-17T01:21:07.156Z"
   },
   {
    "duration": 74,
    "start_time": "2024-10-17T01:21:07.239Z"
   },
   {
    "duration": 74,
    "start_time": "2024-10-17T01:21:07.315Z"
   },
   {
    "duration": 882,
    "start_time": "2024-10-17T01:21:07.392Z"
   },
   {
    "duration": 0,
    "start_time": "2024-10-17T01:21:08.275Z"
   },
   {
    "duration": 0,
    "start_time": "2024-10-17T01:21:08.277Z"
   },
   {
    "duration": 0,
    "start_time": "2024-10-17T01:21:08.279Z"
   },
   {
    "duration": 0,
    "start_time": "2024-10-17T01:21:08.280Z"
   },
   {
    "duration": 1,
    "start_time": "2024-10-17T01:21:08.281Z"
   },
   {
    "duration": 0,
    "start_time": "2024-10-17T01:21:08.283Z"
   },
   {
    "duration": 0,
    "start_time": "2024-10-17T01:21:08.284Z"
   },
   {
    "duration": 0,
    "start_time": "2024-10-17T01:21:08.292Z"
   },
   {
    "duration": 0,
    "start_time": "2024-10-17T01:21:08.294Z"
   },
   {
    "duration": 5,
    "start_time": "2024-10-17T01:23:36.874Z"
   },
   {
    "duration": 6,
    "start_time": "2024-10-17T01:24:42.032Z"
   },
   {
    "duration": 8,
    "start_time": "2024-10-17T01:25:17.579Z"
   },
   {
    "duration": 4,
    "start_time": "2024-10-17T01:25:31.236Z"
   },
   {
    "duration": 11,
    "start_time": "2024-10-17T01:26:21.308Z"
   },
   {
    "duration": 82,
    "start_time": "2024-10-17T01:32:02.107Z"
   },
   {
    "duration": 49,
    "start_time": "2024-10-17T01:32:17.765Z"
   },
   {
    "duration": 41,
    "start_time": "2024-10-17T01:32:28.300Z"
   },
   {
    "duration": 38,
    "start_time": "2024-10-17T01:32:42.919Z"
   },
   {
    "duration": 4,
    "start_time": "2024-10-17T01:32:50.242Z"
   },
   {
    "duration": 15,
    "start_time": "2024-10-17T01:32:53.721Z"
   },
   {
    "duration": 19,
    "start_time": "2024-10-17T01:35:02.499Z"
   },
   {
    "duration": 158,
    "start_time": "2024-10-17T22:26:54.107Z"
   },
   {
    "duration": 12,
    "start_time": "2024-10-17T22:27:04.447Z"
   },
   {
    "duration": 12,
    "start_time": "2024-10-17T22:36:08.649Z"
   },
   {
    "duration": 13,
    "start_time": "2024-10-17T22:36:33.369Z"
   },
   {
    "duration": 11,
    "start_time": "2024-10-17T22:40:14.293Z"
   },
   {
    "duration": 16,
    "start_time": "2024-10-17T22:40:46.216Z"
   },
   {
    "duration": 338,
    "start_time": "2024-10-17T22:41:52.502Z"
   },
   {
    "duration": 141,
    "start_time": "2024-10-17T22:41:52.842Z"
   },
   {
    "duration": 13,
    "start_time": "2024-10-17T22:41:52.985Z"
   },
   {
    "duration": 25,
    "start_time": "2024-10-17T22:41:53.000Z"
   },
   {
    "duration": 3,
    "start_time": "2024-10-17T22:41:53.027Z"
   },
   {
    "duration": 3,
    "start_time": "2024-10-17T22:41:53.033Z"
   },
   {
    "duration": 13,
    "start_time": "2024-10-17T22:41:53.038Z"
   },
   {
    "duration": 35,
    "start_time": "2024-10-17T22:41:53.053Z"
   },
   {
    "duration": 22,
    "start_time": "2024-10-17T22:41:53.090Z"
   },
   {
    "duration": 20,
    "start_time": "2024-10-17T22:41:53.115Z"
   },
   {
    "duration": 25,
    "start_time": "2024-10-17T22:41:53.139Z"
   },
   {
    "duration": 154,
    "start_time": "2024-10-17T22:41:53.186Z"
   },
   {
    "duration": 55,
    "start_time": "2024-10-17T22:41:53.342Z"
   },
   {
    "duration": 46,
    "start_time": "2024-10-17T22:41:53.400Z"
   },
   {
    "duration": 210,
    "start_time": "2024-10-17T22:41:53.449Z"
   },
   {
    "duration": 0,
    "start_time": "2024-10-17T22:41:53.661Z"
   },
   {
    "duration": 0,
    "start_time": "2024-10-17T22:41:53.662Z"
   },
   {
    "duration": 0,
    "start_time": "2024-10-17T22:41:53.663Z"
   },
   {
    "duration": 0,
    "start_time": "2024-10-17T22:41:53.664Z"
   },
   {
    "duration": 0,
    "start_time": "2024-10-17T22:41:53.665Z"
   },
   {
    "duration": 0,
    "start_time": "2024-10-17T22:41:53.666Z"
   },
   {
    "duration": 0,
    "start_time": "2024-10-17T22:41:53.667Z"
   },
   {
    "duration": 0,
    "start_time": "2024-10-17T22:41:53.669Z"
   },
   {
    "duration": 0,
    "start_time": "2024-10-17T22:41:53.670Z"
   },
   {
    "duration": 0,
    "start_time": "2024-10-17T22:41:53.687Z"
   },
   {
    "duration": 0,
    "start_time": "2024-10-17T22:41:53.688Z"
   },
   {
    "duration": 0,
    "start_time": "2024-10-17T22:41:53.689Z"
   },
   {
    "duration": 6,
    "start_time": "2024-10-17T22:43:07.302Z"
   },
   {
    "duration": 4,
    "start_time": "2024-10-17T22:43:10.637Z"
   },
   {
    "duration": 13,
    "start_time": "2024-10-17T22:43:21.286Z"
   },
   {
    "duration": 52,
    "start_time": "2024-10-17T22:43:34.185Z"
   },
   {
    "duration": 420,
    "start_time": "2024-10-17T22:48:33.057Z"
   },
   {
    "duration": 196,
    "start_time": "2024-10-18T00:48:54.384Z"
   },
   {
    "duration": 14,
    "start_time": "2024-10-18T00:50:05.082Z"
   },
   {
    "duration": 11,
    "start_time": "2024-10-18T00:56:31.872Z"
   },
   {
    "duration": 11,
    "start_time": "2024-10-18T01:06:47.308Z"
   },
   {
    "duration": 12,
    "start_time": "2024-10-18T01:07:26.204Z"
   },
   {
    "duration": 14,
    "start_time": "2024-10-18T01:11:23.093Z"
   },
   {
    "duration": 12,
    "start_time": "2024-10-18T01:13:30.750Z"
   },
   {
    "duration": 34,
    "start_time": "2024-10-18T01:13:54.565Z"
   },
   {
    "duration": 11,
    "start_time": "2024-10-18T01:16:58.970Z"
   },
   {
    "duration": 13,
    "start_time": "2024-10-18T01:21:21.805Z"
   },
   {
    "duration": 332,
    "start_time": "2024-10-18T01:22:03.222Z"
   },
   {
    "duration": 151,
    "start_time": "2024-10-18T01:22:03.556Z"
   },
   {
    "duration": 15,
    "start_time": "2024-10-18T01:22:03.708Z"
   },
   {
    "duration": 25,
    "start_time": "2024-10-18T01:22:03.725Z"
   },
   {
    "duration": 5,
    "start_time": "2024-10-18T01:22:03.753Z"
   },
   {
    "duration": 4,
    "start_time": "2024-10-18T01:22:03.760Z"
   },
   {
    "duration": 17,
    "start_time": "2024-10-18T01:22:03.786Z"
   },
   {
    "duration": 4,
    "start_time": "2024-10-18T01:22:03.805Z"
   },
   {
    "duration": 26,
    "start_time": "2024-10-18T01:22:03.811Z"
   },
   {
    "duration": 18,
    "start_time": "2024-10-18T01:22:03.841Z"
   },
   {
    "duration": 44,
    "start_time": "2024-10-18T01:22:03.861Z"
   },
   {
    "duration": 181,
    "start_time": "2024-10-18T01:22:03.907Z"
   },
   {
    "duration": 52,
    "start_time": "2024-10-18T01:22:04.091Z"
   },
   {
    "duration": 71,
    "start_time": "2024-10-18T01:22:04.146Z"
   },
   {
    "duration": 190,
    "start_time": "2024-10-18T01:22:04.219Z"
   },
   {
    "duration": 0,
    "start_time": "2024-10-18T01:22:04.411Z"
   },
   {
    "duration": 0,
    "start_time": "2024-10-18T01:22:04.412Z"
   },
   {
    "duration": 0,
    "start_time": "2024-10-18T01:22:04.414Z"
   },
   {
    "duration": 0,
    "start_time": "2024-10-18T01:22:04.415Z"
   },
   {
    "duration": 0,
    "start_time": "2024-10-18T01:22:04.416Z"
   },
   {
    "duration": 0,
    "start_time": "2024-10-18T01:22:04.417Z"
   },
   {
    "duration": 0,
    "start_time": "2024-10-18T01:22:04.419Z"
   },
   {
    "duration": 0,
    "start_time": "2024-10-18T01:22:04.420Z"
   },
   {
    "duration": 0,
    "start_time": "2024-10-18T01:22:04.421Z"
   },
   {
    "duration": 1,
    "start_time": "2024-10-18T01:22:04.422Z"
   },
   {
    "duration": 0,
    "start_time": "2024-10-18T01:22:04.424Z"
   },
   {
    "duration": 0,
    "start_time": "2024-10-18T01:22:04.425Z"
   },
   {
    "duration": 0,
    "start_time": "2024-10-18T01:22:04.427Z"
   },
   {
    "duration": 14,
    "start_time": "2024-10-18T01:27:58.519Z"
   },
   {
    "duration": 290,
    "start_time": "2024-10-18T01:29:47.683Z"
   },
   {
    "duration": 115,
    "start_time": "2024-10-18T01:29:47.975Z"
   },
   {
    "duration": 15,
    "start_time": "2024-10-18T01:29:48.091Z"
   },
   {
    "duration": 29,
    "start_time": "2024-10-18T01:29:48.108Z"
   },
   {
    "duration": 5,
    "start_time": "2024-10-18T01:29:48.141Z"
   },
   {
    "duration": 3,
    "start_time": "2024-10-18T01:29:48.149Z"
   },
   {
    "duration": 41,
    "start_time": "2024-10-18T01:29:48.154Z"
   },
   {
    "duration": 3,
    "start_time": "2024-10-18T01:29:48.197Z"
   },
   {
    "duration": 19,
    "start_time": "2024-10-18T01:29:48.201Z"
   },
   {
    "duration": 14,
    "start_time": "2024-10-18T01:29:48.221Z"
   },
   {
    "duration": 17,
    "start_time": "2024-10-18T01:29:48.236Z"
   },
   {
    "duration": 172,
    "start_time": "2024-10-18T01:29:48.255Z"
   },
   {
    "duration": 58,
    "start_time": "2024-10-18T01:29:48.429Z"
   },
   {
    "duration": 50,
    "start_time": "2024-10-18T01:29:48.490Z"
   },
   {
    "duration": 185,
    "start_time": "2024-10-18T01:29:48.542Z"
   },
   {
    "duration": 0,
    "start_time": "2024-10-18T01:29:48.729Z"
   },
   {
    "duration": 0,
    "start_time": "2024-10-18T01:29:48.730Z"
   },
   {
    "duration": 0,
    "start_time": "2024-10-18T01:29:48.731Z"
   },
   {
    "duration": 0,
    "start_time": "2024-10-18T01:29:48.732Z"
   },
   {
    "duration": 0,
    "start_time": "2024-10-18T01:29:48.734Z"
   },
   {
    "duration": 0,
    "start_time": "2024-10-18T01:29:48.736Z"
   },
   {
    "duration": 0,
    "start_time": "2024-10-18T01:29:48.737Z"
   },
   {
    "duration": 0,
    "start_time": "2024-10-18T01:29:48.739Z"
   },
   {
    "duration": 0,
    "start_time": "2024-10-18T01:29:48.740Z"
   },
   {
    "duration": 0,
    "start_time": "2024-10-18T01:29:48.742Z"
   },
   {
    "duration": 0,
    "start_time": "2024-10-18T01:29:48.743Z"
   },
   {
    "duration": 0,
    "start_time": "2024-10-18T01:29:48.744Z"
   },
   {
    "duration": 0,
    "start_time": "2024-10-18T01:29:48.745Z"
   },
   {
    "duration": 158,
    "start_time": "2024-10-19T02:05:12.271Z"
   },
   {
    "duration": 286,
    "start_time": "2024-10-19T02:05:23.785Z"
   },
   {
    "duration": 151,
    "start_time": "2024-10-19T02:05:24.073Z"
   },
   {
    "duration": 14,
    "start_time": "2024-10-19T02:05:24.226Z"
   },
   {
    "duration": 24,
    "start_time": "2024-10-19T02:05:24.243Z"
   },
   {
    "duration": 4,
    "start_time": "2024-10-19T02:05:24.268Z"
   },
   {
    "duration": 4,
    "start_time": "2024-10-19T02:05:24.273Z"
   },
   {
    "duration": 39,
    "start_time": "2024-10-19T02:05:24.278Z"
   },
   {
    "duration": 3,
    "start_time": "2024-10-19T02:05:24.320Z"
   },
   {
    "duration": 20,
    "start_time": "2024-10-19T02:05:24.325Z"
   },
   {
    "duration": 14,
    "start_time": "2024-10-19T02:05:24.349Z"
   },
   {
    "duration": 19,
    "start_time": "2024-10-19T02:05:24.364Z"
   },
   {
    "duration": 153,
    "start_time": "2024-10-19T02:05:24.409Z"
   },
   {
    "duration": 59,
    "start_time": "2024-10-19T02:05:24.564Z"
   },
   {
    "duration": 58,
    "start_time": "2024-10-19T02:05:24.625Z"
   },
   {
    "duration": 35,
    "start_time": "2024-10-19T02:05:27.673Z"
   },
   {
    "duration": 10,
    "start_time": "2024-10-19T02:05:35.750Z"
   },
   {
    "duration": 45,
    "start_time": "2024-10-19T02:05:49.262Z"
   },
   {
    "duration": 5,
    "start_time": "2024-10-19T02:07:58.827Z"
   },
   {
    "duration": 4,
    "start_time": "2024-10-19T02:08:19.870Z"
   },
   {
    "duration": 4,
    "start_time": "2024-10-19T02:08:59.912Z"
   },
   {
    "duration": 2,
    "start_time": "2024-10-19T02:12:57.233Z"
   },
   {
    "duration": 2,
    "start_time": "2024-10-19T02:14:52.159Z"
   },
   {
    "duration": 121,
    "start_time": "2024-10-19T02:14:52.163Z"
   },
   {
    "duration": 10,
    "start_time": "2024-10-19T02:14:52.285Z"
   },
   {
    "duration": 29,
    "start_time": "2024-10-19T02:14:52.297Z"
   },
   {
    "duration": 3,
    "start_time": "2024-10-19T02:14:52.328Z"
   },
   {
    "duration": 3,
    "start_time": "2024-10-19T02:14:52.333Z"
   },
   {
    "duration": 12,
    "start_time": "2024-10-19T02:14:52.338Z"
   },
   {
    "duration": 3,
    "start_time": "2024-10-19T02:14:52.352Z"
   },
   {
    "duration": 19,
    "start_time": "2024-10-19T02:14:52.357Z"
   },
   {
    "duration": 41,
    "start_time": "2024-10-19T02:14:52.378Z"
   },
   {
    "duration": 18,
    "start_time": "2024-10-19T02:14:52.420Z"
   },
   {
    "duration": 160,
    "start_time": "2024-10-19T02:14:52.439Z"
   },
   {
    "duration": 57,
    "start_time": "2024-10-19T02:14:52.601Z"
   },
   {
    "duration": 70,
    "start_time": "2024-10-19T02:14:52.659Z"
   },
   {
    "duration": 42,
    "start_time": "2024-10-19T02:14:52.731Z"
   },
   {
    "duration": 4,
    "start_time": "2024-10-19T02:14:52.775Z"
   },
   {
    "duration": 6,
    "start_time": "2024-10-19T02:14:52.781Z"
   },
   {
    "duration": 3,
    "start_time": "2024-10-19T02:14:52.810Z"
   },
   {
    "duration": 2,
    "start_time": "2024-10-19T02:14:55.468Z"
   },
   {
    "duration": 16,
    "start_time": "2024-10-19T02:14:58.453Z"
   },
   {
    "duration": 54,
    "start_time": "2024-10-19T02:17:29.512Z"
   },
   {
    "duration": 64,
    "start_time": "2024-10-19T02:18:25.267Z"
   },
   {
    "duration": 6,
    "start_time": "2024-10-19T02:19:53.086Z"
   },
   {
    "duration": 10,
    "start_time": "2024-10-19T02:20:13.792Z"
   },
   {
    "duration": 9,
    "start_time": "2024-10-19T02:20:20.572Z"
   },
   {
    "duration": 21,
    "start_time": "2024-10-19T02:22:39.226Z"
   },
   {
    "duration": 3,
    "start_time": "2024-10-19T02:22:54.956Z"
   },
   {
    "duration": 120,
    "start_time": "2024-10-19T02:22:54.962Z"
   },
   {
    "duration": 10,
    "start_time": "2024-10-19T02:22:55.084Z"
   },
   {
    "duration": 32,
    "start_time": "2024-10-19T02:22:55.096Z"
   },
   {
    "duration": 4,
    "start_time": "2024-10-19T02:22:55.129Z"
   },
   {
    "duration": 4,
    "start_time": "2024-10-19T02:22:55.135Z"
   },
   {
    "duration": 13,
    "start_time": "2024-10-19T02:22:55.140Z"
   },
   {
    "duration": 3,
    "start_time": "2024-10-19T02:22:55.155Z"
   },
   {
    "duration": 20,
    "start_time": "2024-10-19T02:22:55.160Z"
   },
   {
    "duration": 13,
    "start_time": "2024-10-19T02:22:55.210Z"
   },
   {
    "duration": 19,
    "start_time": "2024-10-19T02:22:55.226Z"
   },
   {
    "duration": 64,
    "start_time": "2024-10-19T02:22:55.246Z"
   },
   {
    "duration": 60,
    "start_time": "2024-10-19T02:22:55.311Z"
   },
   {
    "duration": 23,
    "start_time": "2024-10-19T02:22:57.955Z"
   },
   {
    "duration": 54,
    "start_time": "2024-10-19T02:23:23.452Z"
   },
   {
    "duration": 22,
    "start_time": "2024-10-19T02:23:48.871Z"
   },
   {
    "duration": 49,
    "start_time": "2024-10-19T02:25:40.251Z"
   },
   {
    "duration": 21,
    "start_time": "2024-10-19T02:25:46.293Z"
   },
   {
    "duration": 41,
    "start_time": "2024-10-19T02:25:57.626Z"
   },
   {
    "duration": 3,
    "start_time": "2024-10-19T02:26:31.331Z"
   },
   {
    "duration": 15,
    "start_time": "2024-10-19T02:26:49.209Z"
   },
   {
    "duration": 44,
    "start_time": "2024-10-19T02:27:51.967Z"
   },
   {
    "duration": 84,
    "start_time": "2024-10-19T02:28:58.782Z"
   },
   {
    "duration": 6,
    "start_time": "2024-10-19T02:29:52.077Z"
   },
   {
    "duration": 12,
    "start_time": "2024-10-19T02:32:02.618Z"
   },
   {
    "duration": 291,
    "start_time": "2024-10-19T02:42:41.601Z"
   },
   {
    "duration": 124,
    "start_time": "2024-10-19T02:42:41.894Z"
   },
   {
    "duration": 13,
    "start_time": "2024-10-19T02:42:42.020Z"
   },
   {
    "duration": 23,
    "start_time": "2024-10-19T02:42:42.036Z"
   },
   {
    "duration": 4,
    "start_time": "2024-10-19T02:42:42.061Z"
   },
   {
    "duration": 4,
    "start_time": "2024-10-19T02:42:42.067Z"
   },
   {
    "duration": 38,
    "start_time": "2024-10-19T02:42:42.072Z"
   },
   {
    "duration": 4,
    "start_time": "2024-10-19T02:42:42.111Z"
   },
   {
    "duration": 19,
    "start_time": "2024-10-19T02:42:42.118Z"
   },
   {
    "duration": 14,
    "start_time": "2024-10-19T02:42:42.140Z"
   },
   {
    "duration": 19,
    "start_time": "2024-10-19T02:42:42.156Z"
   },
   {
    "duration": 72,
    "start_time": "2024-10-19T02:42:42.178Z"
   },
   {
    "duration": 72,
    "start_time": "2024-10-19T02:42:42.252Z"
   },
   {
    "duration": 22,
    "start_time": "2024-10-19T02:42:42.326Z"
   },
   {
    "duration": 65,
    "start_time": "2024-10-19T02:42:42.349Z"
   },
   {
    "duration": 39,
    "start_time": "2024-10-19T02:42:42.415Z"
   },
   {
    "duration": 4,
    "start_time": "2024-10-19T02:42:42.456Z"
   },
   {
    "duration": 6,
    "start_time": "2024-10-19T02:42:42.461Z"
   },
   {
    "duration": 3,
    "start_time": "2024-10-19T02:42:42.473Z"
   },
   {
    "duration": 2,
    "start_time": "2024-10-19T02:42:42.478Z"
   },
   {
    "duration": 39,
    "start_time": "2024-10-19T02:42:42.482Z"
   },
   {
    "duration": 546,
    "start_time": "2024-10-19T02:42:42.523Z"
   },
   {
    "duration": 0,
    "start_time": "2024-10-19T02:42:43.071Z"
   },
   {
    "duration": 0,
    "start_time": "2024-10-19T02:42:43.073Z"
   },
   {
    "duration": 0,
    "start_time": "2024-10-19T02:42:43.074Z"
   },
   {
    "duration": 0,
    "start_time": "2024-10-19T02:42:43.075Z"
   },
   {
    "duration": 0,
    "start_time": "2024-10-19T02:42:43.076Z"
   },
   {
    "duration": 0,
    "start_time": "2024-10-19T02:42:43.077Z"
   },
   {
    "duration": 0,
    "start_time": "2024-10-19T02:42:43.078Z"
   },
   {
    "duration": 0,
    "start_time": "2024-10-19T02:42:43.079Z"
   },
   {
    "duration": 0,
    "start_time": "2024-10-19T02:42:43.080Z"
   },
   {
    "duration": 14,
    "start_time": "2024-10-19T02:43:40.385Z"
   },
   {
    "duration": 8,
    "start_time": "2024-10-19T02:43:45.784Z"
   },
   {
    "duration": 16,
    "start_time": "2024-10-19T02:43:49.717Z"
   },
   {
    "duration": 154,
    "start_time": "2024-10-19T02:43:55.088Z"
   },
   {
    "duration": 44,
    "start_time": "2024-10-19T02:44:01.473Z"
   },
   {
    "duration": 9316,
    "start_time": "2024-10-19T02:44:50.828Z"
   },
   {
    "duration": 273,
    "start_time": "2024-10-19T09:18:00.952Z"
   },
   {
    "duration": 138,
    "start_time": "2024-10-19T09:18:01.228Z"
   },
   {
    "duration": 17,
    "start_time": "2024-10-19T09:18:01.367Z"
   },
   {
    "duration": 24,
    "start_time": "2024-10-19T09:18:01.386Z"
   },
   {
    "duration": 4,
    "start_time": "2024-10-19T09:18:01.412Z"
   },
   {
    "duration": 3,
    "start_time": "2024-10-19T09:18:01.419Z"
   },
   {
    "duration": 12,
    "start_time": "2024-10-19T09:18:01.424Z"
   },
   {
    "duration": 34,
    "start_time": "2024-10-19T09:18:01.437Z"
   },
   {
    "duration": 18,
    "start_time": "2024-10-19T09:18:01.473Z"
   },
   {
    "duration": 14,
    "start_time": "2024-10-19T09:18:01.492Z"
   },
   {
    "duration": 18,
    "start_time": "2024-10-19T09:18:01.507Z"
   },
   {
    "duration": 67,
    "start_time": "2024-10-19T09:18:01.527Z"
   },
   {
    "duration": 60,
    "start_time": "2024-10-19T09:18:01.595Z"
   },
   {
    "duration": 25,
    "start_time": "2024-10-19T09:18:01.672Z"
   },
   {
    "duration": 49,
    "start_time": "2024-10-19T09:18:01.699Z"
   },
   {
    "duration": 58,
    "start_time": "2024-10-19T09:18:01.749Z"
   },
   {
    "duration": 4,
    "start_time": "2024-10-19T09:18:01.808Z"
   },
   {
    "duration": 5,
    "start_time": "2024-10-19T09:18:01.814Z"
   },
   {
    "duration": 3,
    "start_time": "2024-10-19T09:18:01.821Z"
   },
   {
    "duration": 3,
    "start_time": "2024-10-19T09:18:01.826Z"
   },
   {
    "duration": 45,
    "start_time": "2024-10-19T09:18:01.831Z"
   },
   {
    "duration": 6,
    "start_time": "2024-10-19T09:18:01.877Z"
   },
   {
    "duration": 7,
    "start_time": "2024-10-19T09:18:01.886Z"
   },
   {
    "duration": 40,
    "start_time": "2024-10-19T09:18:01.894Z"
   },
   {
    "duration": 100,
    "start_time": "2024-10-19T09:18:01.935Z"
   },
   {
    "duration": 13,
    "start_time": "2024-10-19T09:18:02.036Z"
   },
   {
    "duration": 6,
    "start_time": "2024-10-19T09:18:02.050Z"
   },
   {
    "duration": 26,
    "start_time": "2024-10-19T09:18:02.057Z"
   },
   {
    "duration": 508,
    "start_time": "2024-10-19T09:18:02.085Z"
   },
   {
    "duration": 0,
    "start_time": "2024-10-19T09:18:02.595Z"
   },
   {
    "duration": 0,
    "start_time": "2024-10-19T09:18:02.597Z"
   },
   {
    "duration": 315,
    "start_time": "2024-10-19T09:20:16.173Z"
   },
   {
    "duration": 136,
    "start_time": "2024-10-19T09:20:16.491Z"
   },
   {
    "duration": 14,
    "start_time": "2024-10-19T09:20:16.628Z"
   },
   {
    "duration": 33,
    "start_time": "2024-10-19T09:20:16.643Z"
   },
   {
    "duration": 4,
    "start_time": "2024-10-19T09:20:16.679Z"
   },
   {
    "duration": 4,
    "start_time": "2024-10-19T09:20:16.685Z"
   },
   {
    "duration": 12,
    "start_time": "2024-10-19T09:20:16.691Z"
   },
   {
    "duration": 4,
    "start_time": "2024-10-19T09:20:16.705Z"
   },
   {
    "duration": 19,
    "start_time": "2024-10-19T09:20:16.710Z"
   },
   {
    "duration": 47,
    "start_time": "2024-10-19T09:20:16.730Z"
   },
   {
    "duration": 18,
    "start_time": "2024-10-19T09:20:16.779Z"
   },
   {
    "duration": 43,
    "start_time": "2024-10-19T09:20:16.798Z"
   },
   {
    "duration": 79,
    "start_time": "2024-10-19T09:20:16.843Z"
   },
   {
    "duration": 21,
    "start_time": "2024-10-19T09:20:16.926Z"
   },
   {
    "duration": 65,
    "start_time": "2024-10-19T09:20:16.949Z"
   },
   {
    "duration": 41,
    "start_time": "2024-10-19T09:20:17.015Z"
   },
   {
    "duration": 13,
    "start_time": "2024-10-19T09:20:17.058Z"
   },
   {
    "duration": 9,
    "start_time": "2024-10-19T09:20:17.073Z"
   },
   {
    "duration": 4,
    "start_time": "2024-10-19T09:20:17.085Z"
   },
   {
    "duration": 3,
    "start_time": "2024-10-19T09:20:17.090Z"
   },
   {
    "duration": 16,
    "start_time": "2024-10-19T09:20:17.094Z"
   },
   {
    "duration": 5,
    "start_time": "2024-10-19T09:20:17.111Z"
   },
   {
    "duration": 7,
    "start_time": "2024-10-19T09:20:17.118Z"
   },
   {
    "duration": 82,
    "start_time": "2024-10-19T09:20:17.127Z"
   },
   {
    "duration": 96,
    "start_time": "2024-10-19T09:20:17.211Z"
   },
   {
    "duration": 11,
    "start_time": "2024-10-19T09:20:17.308Z"
   },
   {
    "duration": 7,
    "start_time": "2024-10-19T09:20:17.321Z"
   },
   {
    "duration": 190,
    "start_time": "2024-10-19T09:20:17.329Z"
   },
   {
    "duration": 0,
    "start_time": "2024-10-19T09:20:17.521Z"
   },
   {
    "duration": 0,
    "start_time": "2024-10-19T09:20:17.522Z"
   },
   {
    "duration": 0,
    "start_time": "2024-10-19T09:20:17.523Z"
   },
   {
    "duration": 321,
    "start_time": "2024-10-19T09:20:37.977Z"
   },
   {
    "duration": 122,
    "start_time": "2024-10-19T09:20:38.300Z"
   },
   {
    "duration": 15,
    "start_time": "2024-10-19T09:20:38.423Z"
   },
   {
    "duration": 36,
    "start_time": "2024-10-19T09:20:38.440Z"
   },
   {
    "duration": 4,
    "start_time": "2024-10-19T09:20:38.478Z"
   },
   {
    "duration": 3,
    "start_time": "2024-10-19T09:20:38.484Z"
   },
   {
    "duration": 12,
    "start_time": "2024-10-19T09:20:38.489Z"
   },
   {
    "duration": 3,
    "start_time": "2024-10-19T09:20:38.503Z"
   },
   {
    "duration": 19,
    "start_time": "2024-10-19T09:20:38.509Z"
   },
   {
    "duration": 47,
    "start_time": "2024-10-19T09:20:38.531Z"
   },
   {
    "duration": 19,
    "start_time": "2024-10-19T09:20:38.580Z"
   },
   {
    "duration": 48,
    "start_time": "2024-10-19T09:20:38.600Z"
   },
   {
    "duration": 76,
    "start_time": "2024-10-19T09:20:38.649Z"
   },
   {
    "duration": 21,
    "start_time": "2024-10-19T09:20:38.728Z"
   },
   {
    "duration": 60,
    "start_time": "2024-10-19T09:20:38.750Z"
   },
   {
    "duration": 42,
    "start_time": "2024-10-19T09:20:38.814Z"
   },
   {
    "duration": 14,
    "start_time": "2024-10-19T09:20:38.857Z"
   },
   {
    "duration": 5,
    "start_time": "2024-10-19T09:20:38.873Z"
   },
   {
    "duration": 4,
    "start_time": "2024-10-19T09:20:38.880Z"
   },
   {
    "duration": 3,
    "start_time": "2024-10-19T09:20:38.886Z"
   },
   {
    "duration": 16,
    "start_time": "2024-10-19T09:20:38.890Z"
   },
   {
    "duration": 6,
    "start_time": "2024-10-19T09:20:38.908Z"
   },
   {
    "duration": 6,
    "start_time": "2024-10-19T09:20:38.916Z"
   },
   {
    "duration": 82,
    "start_time": "2024-10-19T09:20:38.924Z"
   },
   {
    "duration": 89,
    "start_time": "2024-10-19T09:20:39.007Z"
   },
   {
    "duration": 11,
    "start_time": "2024-10-19T09:20:39.098Z"
   },
   {
    "duration": 7,
    "start_time": "2024-10-19T09:20:39.110Z"
   },
   {
    "duration": 8,
    "start_time": "2024-10-19T09:20:39.121Z"
   },
   {
    "duration": 514,
    "start_time": "2024-10-19T09:20:39.130Z"
   },
   {
    "duration": 0,
    "start_time": "2024-10-19T09:20:39.646Z"
   },
   {
    "duration": 0,
    "start_time": "2024-10-19T09:20:39.647Z"
   },
   {
    "duration": 301,
    "start_time": "2024-10-19T09:20:59.969Z"
   },
   {
    "duration": 121,
    "start_time": "2024-10-19T09:21:00.272Z"
   },
   {
    "duration": 14,
    "start_time": "2024-10-19T09:21:00.395Z"
   },
   {
    "duration": 24,
    "start_time": "2024-10-19T09:21:00.411Z"
   },
   {
    "duration": 4,
    "start_time": "2024-10-19T09:21:00.436Z"
   },
   {
    "duration": 3,
    "start_time": "2024-10-19T09:21:00.441Z"
   },
   {
    "duration": 35,
    "start_time": "2024-10-19T09:21:00.446Z"
   },
   {
    "duration": 3,
    "start_time": "2024-10-19T09:21:00.483Z"
   },
   {
    "duration": 19,
    "start_time": "2024-10-19T09:21:00.488Z"
   },
   {
    "duration": 14,
    "start_time": "2024-10-19T09:21:00.509Z"
   },
   {
    "duration": 48,
    "start_time": "2024-10-19T09:21:00.524Z"
   },
   {
    "duration": 41,
    "start_time": "2024-10-19T09:21:00.573Z"
   },
   {
    "duration": 71,
    "start_time": "2024-10-19T09:21:00.617Z"
   },
   {
    "duration": 21,
    "start_time": "2024-10-19T09:21:00.689Z"
   },
   {
    "duration": 64,
    "start_time": "2024-10-19T09:21:00.712Z"
   },
   {
    "duration": 44,
    "start_time": "2024-10-19T09:21:00.778Z"
   },
   {
    "duration": 4,
    "start_time": "2024-10-19T09:21:00.824Z"
   },
   {
    "duration": 5,
    "start_time": "2024-10-19T09:21:00.830Z"
   },
   {
    "duration": 3,
    "start_time": "2024-10-19T09:21:00.837Z"
   },
   {
    "duration": 28,
    "start_time": "2024-10-19T09:21:00.842Z"
   },
   {
    "duration": 15,
    "start_time": "2024-10-19T09:21:00.872Z"
   },
   {
    "duration": 6,
    "start_time": "2024-10-19T09:21:00.889Z"
   },
   {
    "duration": 6,
    "start_time": "2024-10-19T09:21:00.897Z"
   },
   {
    "duration": 67,
    "start_time": "2024-10-19T09:21:00.904Z"
   },
   {
    "duration": 79,
    "start_time": "2024-10-19T09:21:00.972Z"
   },
   {
    "duration": 24,
    "start_time": "2024-10-19T09:21:01.053Z"
   },
   {
    "duration": 8,
    "start_time": "2024-10-19T09:21:01.079Z"
   },
   {
    "duration": 12,
    "start_time": "2024-10-19T09:21:01.091Z"
   },
   {
    "duration": 526,
    "start_time": "2024-10-19T09:21:01.105Z"
   },
   {
    "duration": 0,
    "start_time": "2024-10-19T09:21:01.633Z"
   },
   {
    "duration": 0,
    "start_time": "2024-10-19T09:21:01.635Z"
   },
   {
    "duration": 161,
    "start_time": "2024-10-19T18:37:36.564Z"
   },
   {
    "duration": 12,
    "start_time": "2024-10-19T18:37:54.173Z"
   },
   {
    "duration": 14,
    "start_time": "2024-10-19T18:43:59.933Z"
   },
   {
    "duration": 13,
    "start_time": "2024-10-19T18:45:17.010Z"
   },
   {
    "duration": 326,
    "start_time": "2024-10-19T18:45:26.539Z"
   },
   {
    "duration": 136,
    "start_time": "2024-10-19T18:45:26.867Z"
   },
   {
    "duration": 13,
    "start_time": "2024-10-19T18:45:27.005Z"
   },
   {
    "duration": 23,
    "start_time": "2024-10-19T18:45:27.024Z"
   },
   {
    "duration": 4,
    "start_time": "2024-10-19T18:45:27.048Z"
   },
   {
    "duration": 4,
    "start_time": "2024-10-19T18:45:27.053Z"
   },
   {
    "duration": 12,
    "start_time": "2024-10-19T18:45:27.059Z"
   },
   {
    "duration": 3,
    "start_time": "2024-10-19T18:45:27.073Z"
   },
   {
    "duration": 51,
    "start_time": "2024-10-19T18:45:27.078Z"
   },
   {
    "duration": 13,
    "start_time": "2024-10-19T18:45:27.132Z"
   },
   {
    "duration": 18,
    "start_time": "2024-10-19T18:45:27.146Z"
   },
   {
    "duration": 39,
    "start_time": "2024-10-19T18:45:27.165Z"
   },
   {
    "duration": 72,
    "start_time": "2024-10-19T18:45:27.206Z"
   },
   {
    "duration": 22,
    "start_time": "2024-10-19T18:45:27.279Z"
   },
   {
    "duration": 43,
    "start_time": "2024-10-19T18:45:27.323Z"
   },
   {
    "duration": 56,
    "start_time": "2024-10-19T18:45:27.368Z"
   },
   {
    "duration": 4,
    "start_time": "2024-10-19T18:45:27.426Z"
   },
   {
    "duration": 5,
    "start_time": "2024-10-19T18:45:27.431Z"
   },
   {
    "duration": 3,
    "start_time": "2024-10-19T18:45:27.439Z"
   },
   {
    "duration": 3,
    "start_time": "2024-10-19T18:45:27.444Z"
   },
   {
    "duration": 16,
    "start_time": "2024-10-19T18:45:27.448Z"
   },
   {
    "duration": 6,
    "start_time": "2024-10-19T18:45:27.466Z"
   },
   {
    "duration": 8,
    "start_time": "2024-10-19T18:45:27.473Z"
   },
   {
    "duration": 83,
    "start_time": "2024-10-19T18:45:27.482Z"
   },
   {
    "duration": 94,
    "start_time": "2024-10-19T18:45:27.567Z"
   },
   {
    "duration": 11,
    "start_time": "2024-10-19T18:45:27.663Z"
   },
   {
    "duration": 9,
    "start_time": "2024-10-19T18:45:27.676Z"
   },
   {
    "duration": 11,
    "start_time": "2024-10-19T18:45:27.688Z"
   },
   {
    "duration": 396,
    "start_time": "2024-10-19T18:45:27.701Z"
   },
   {
    "duration": 0,
    "start_time": "2024-10-19T18:45:28.098Z"
   },
   {
    "duration": 0,
    "start_time": "2024-10-19T18:45:28.099Z"
   },
   {
    "duration": 163,
    "start_time": "2024-10-21T20:57:26.913Z"
   },
   {
    "duration": 12,
    "start_time": "2024-10-21T21:26:17.884Z"
   },
   {
    "duration": 12,
    "start_time": "2024-10-21T21:26:24.130Z"
   },
   {
    "duration": 290,
    "start_time": "2024-10-21T21:26:48.428Z"
   },
   {
    "duration": 140,
    "start_time": "2024-10-21T21:26:48.721Z"
   },
   {
    "duration": 14,
    "start_time": "2024-10-21T21:26:48.863Z"
   },
   {
    "duration": 23,
    "start_time": "2024-10-21T21:26:48.878Z"
   },
   {
    "duration": 3,
    "start_time": "2024-10-21T21:26:48.903Z"
   },
   {
    "duration": 4,
    "start_time": "2024-10-21T21:26:48.908Z"
   },
   {
    "duration": 12,
    "start_time": "2024-10-21T21:26:48.913Z"
   },
   {
    "duration": 4,
    "start_time": "2024-10-21T21:26:48.927Z"
   },
   {
    "duration": 50,
    "start_time": "2024-10-21T21:26:48.932Z"
   },
   {
    "duration": 13,
    "start_time": "2024-10-21T21:26:48.984Z"
   },
   {
    "duration": 18,
    "start_time": "2024-10-21T21:26:48.999Z"
   },
   {
    "duration": 62,
    "start_time": "2024-10-21T21:26:49.018Z"
   },
   {
    "duration": 59,
    "start_time": "2024-10-21T21:26:49.083Z"
   },
   {
    "duration": 37,
    "start_time": "2024-10-21T21:26:49.146Z"
   },
   {
    "duration": 43,
    "start_time": "2024-10-21T21:26:49.184Z"
   },
   {
    "duration": 50,
    "start_time": "2024-10-21T21:26:49.228Z"
   },
   {
    "duration": 3,
    "start_time": "2024-10-21T21:26:49.280Z"
   },
   {
    "duration": 5,
    "start_time": "2024-10-21T21:26:49.285Z"
   },
   {
    "duration": 4,
    "start_time": "2024-10-21T21:26:49.291Z"
   },
   {
    "duration": 3,
    "start_time": "2024-10-21T21:26:49.297Z"
   },
   {
    "duration": 16,
    "start_time": "2024-10-21T21:26:49.303Z"
   },
   {
    "duration": 5,
    "start_time": "2024-10-21T21:26:49.320Z"
   },
   {
    "duration": 43,
    "start_time": "2024-10-21T21:26:49.327Z"
   },
   {
    "duration": 37,
    "start_time": "2024-10-21T21:26:49.372Z"
   },
   {
    "duration": 94,
    "start_time": "2024-10-21T21:26:49.411Z"
   },
   {
    "duration": 11,
    "start_time": "2024-10-21T21:26:49.507Z"
   },
   {
    "duration": 8,
    "start_time": "2024-10-21T21:26:49.520Z"
   },
   {
    "duration": 14,
    "start_time": "2024-10-21T21:26:49.532Z"
   },
   {
    "duration": 389,
    "start_time": "2024-10-21T21:26:49.548Z"
   },
   {
    "duration": 0,
    "start_time": "2024-10-21T21:26:49.938Z"
   },
   {
    "duration": 0,
    "start_time": "2024-10-21T21:26:49.939Z"
   },
   {
    "duration": 374,
    "start_time": "2024-10-22T02:05:17.120Z"
   },
   {
    "duration": 181,
    "start_time": "2024-10-22T02:05:17.498Z"
   },
   {
    "duration": 14,
    "start_time": "2024-10-22T02:05:17.680Z"
   },
   {
    "duration": 35,
    "start_time": "2024-10-22T02:05:17.699Z"
   },
   {
    "duration": 4,
    "start_time": "2024-10-22T02:05:17.736Z"
   },
   {
    "duration": 4,
    "start_time": "2024-10-22T02:05:17.741Z"
   },
   {
    "duration": 14,
    "start_time": "2024-10-22T02:05:17.747Z"
   },
   {
    "duration": 4,
    "start_time": "2024-10-22T02:05:17.763Z"
   },
   {
    "duration": 51,
    "start_time": "2024-10-22T02:05:17.769Z"
   },
   {
    "duration": 23,
    "start_time": "2024-10-22T02:05:17.824Z"
   },
   {
    "duration": 27,
    "start_time": "2024-10-22T02:05:17.849Z"
   },
   {
    "duration": 88,
    "start_time": "2024-10-22T02:05:17.878Z"
   },
   {
    "duration": 84,
    "start_time": "2024-10-22T02:05:17.968Z"
   },
   {
    "duration": 28,
    "start_time": "2024-10-22T02:05:18.054Z"
   },
   {
    "duration": 77,
    "start_time": "2024-10-22T02:05:18.083Z"
   },
   {
    "duration": 49,
    "start_time": "2024-10-22T02:05:18.163Z"
   },
   {
    "duration": 4,
    "start_time": "2024-10-22T02:05:18.215Z"
   },
   {
    "duration": 8,
    "start_time": "2024-10-22T02:05:18.221Z"
   },
   {
    "duration": 6,
    "start_time": "2024-10-22T02:05:18.231Z"
   },
   {
    "duration": 4,
    "start_time": "2024-10-22T02:05:18.239Z"
   },
   {
    "duration": 19,
    "start_time": "2024-10-22T02:05:18.245Z"
   },
   {
    "duration": 6,
    "start_time": "2024-10-22T02:05:18.265Z"
   },
   {
    "duration": 39,
    "start_time": "2024-10-22T02:05:18.274Z"
   },
   {
    "duration": 56,
    "start_time": "2024-10-22T02:05:18.315Z"
   },
   {
    "duration": 95,
    "start_time": "2024-10-22T02:05:18.374Z"
   },
   {
    "duration": 12,
    "start_time": "2024-10-22T02:05:18.471Z"
   },
   {
    "duration": 10,
    "start_time": "2024-10-22T02:05:18.485Z"
   },
   {
    "duration": 15,
    "start_time": "2024-10-22T02:05:18.515Z"
   },
   {
    "duration": 418,
    "start_time": "2024-10-22T02:05:18.532Z"
   },
   {
    "duration": 6,
    "start_time": "2024-10-22T02:16:51.956Z"
   },
   {
    "duration": 260,
    "start_time": "2024-10-22T02:19:04.583Z"
   },
   {
    "duration": 16,
    "start_time": "2024-10-22T02:19:26.352Z"
   },
   {
    "duration": 14,
    "start_time": "2024-10-22T02:20:19.528Z"
   },
   {
    "duration": 20,
    "start_time": "2024-10-22T02:20:53.024Z"
   },
   {
    "duration": 21,
    "start_time": "2024-10-22T02:22:13.367Z"
   },
   {
    "duration": 23,
    "start_time": "2024-10-22T02:22:37.197Z"
   },
   {
    "duration": 5,
    "start_time": "2024-10-22T02:22:44.641Z"
   },
   {
    "duration": 13,
    "start_time": "2024-10-22T02:22:48.562Z"
   },
   {
    "duration": 6,
    "start_time": "2024-10-22T02:24:04.998Z"
   },
   {
    "duration": 13,
    "start_time": "2024-10-22T02:24:12.591Z"
   },
   {
    "duration": 160,
    "start_time": "2024-10-22T02:27:15.040Z"
   },
   {
    "duration": 11,
    "start_time": "2024-10-22T02:28:15.838Z"
   },
   {
    "duration": 3,
    "start_time": "2024-10-22T02:30:06.348Z"
   },
   {
    "duration": 21,
    "start_time": "2024-10-22T02:31:47.392Z"
   },
   {
    "duration": 15,
    "start_time": "2024-10-22T02:38:38.147Z"
   },
   {
    "duration": 7,
    "start_time": "2024-10-22T02:39:03.089Z"
   },
   {
    "duration": 8,
    "start_time": "2024-10-22T02:40:58.388Z"
   },
   {
    "duration": 11,
    "start_time": "2024-10-22T02:41:15.828Z"
   },
   {
    "duration": 9,
    "start_time": "2024-10-22T02:41:31.419Z"
   },
   {
    "duration": 324,
    "start_time": "2025-04-21T21:18:18.406Z"
   },
   {
    "duration": 159,
    "start_time": "2025-04-21T21:18:18.734Z"
   },
   {
    "duration": 16,
    "start_time": "2025-04-21T21:18:18.894Z"
   },
   {
    "duration": 23,
    "start_time": "2025-04-21T21:18:18.912Z"
   },
   {
    "duration": 3,
    "start_time": "2025-04-21T21:18:18.938Z"
   },
   {
    "duration": 3,
    "start_time": "2025-04-21T21:18:18.945Z"
   },
   {
    "duration": 30,
    "start_time": "2025-04-21T21:18:18.950Z"
   },
   {
    "duration": 3,
    "start_time": "2025-04-21T21:18:18.982Z"
   },
   {
    "duration": 19,
    "start_time": "2025-04-21T21:18:18.987Z"
   },
   {
    "duration": 16,
    "start_time": "2025-04-21T21:18:19.009Z"
   },
   {
    "duration": 45,
    "start_time": "2025-04-21T21:18:19.026Z"
   },
   {
    "duration": 44,
    "start_time": "2025-04-21T21:18:19.073Z"
   },
   {
    "duration": 72,
    "start_time": "2025-04-21T21:18:19.119Z"
   },
   {
    "duration": 24,
    "start_time": "2025-04-21T21:18:19.194Z"
   },
   {
    "duration": 60,
    "start_time": "2025-04-21T21:18:19.220Z"
   },
   {
    "duration": 41,
    "start_time": "2025-04-21T21:18:19.284Z"
   },
   {
    "duration": 5,
    "start_time": "2025-04-21T21:18:19.328Z"
   },
   {
    "duration": 7,
    "start_time": "2025-04-21T21:18:19.334Z"
   },
   {
    "duration": 4,
    "start_time": "2025-04-21T21:18:19.343Z"
   },
   {
    "duration": 23,
    "start_time": "2025-04-21T21:18:19.348Z"
   },
   {
    "duration": 18,
    "start_time": "2025-04-21T21:18:19.373Z"
   },
   {
    "duration": 7,
    "start_time": "2025-04-21T21:18:19.392Z"
   },
   {
    "duration": 9,
    "start_time": "2025-04-21T21:18:19.401Z"
   },
   {
    "duration": 72,
    "start_time": "2025-04-21T21:18:19.413Z"
   },
   {
    "duration": 87,
    "start_time": "2025-04-21T21:18:19.487Z"
   },
   {
    "duration": 12,
    "start_time": "2025-04-21T21:18:19.575Z"
   },
   {
    "duration": 9,
    "start_time": "2025-04-21T21:18:19.588Z"
   },
   {
    "duration": 12,
    "start_time": "2025-04-21T21:18:19.599Z"
   },
   {
    "duration": 5,
    "start_time": "2025-04-21T21:18:19.613Z"
   },
   {
    "duration": 12,
    "start_time": "2025-04-21T21:18:19.619Z"
   },
   {
    "duration": 39,
    "start_time": "2025-04-21T21:18:19.632Z"
   }
  ],
  "colab": {
   "provenance": [],
   "toc_visible": true
  },
  "kernelspec": {
   "display_name": "base",
   "language": "python",
   "name": "python3"
  },
  "language_info": {
   "codemirror_mode": {
    "name": "ipython",
    "version": 3
   },
   "file_extension": ".py",
   "mimetype": "text/x-python",
   "name": "python",
   "nbconvert_exporter": "python",
   "pygments_lexer": "ipython3",
   "version": "3.12.7"
  },
  "toc": {
   "base_numbering": 1,
   "nav_menu": {},
   "number_sections": true,
   "sideBar": true,
   "skip_h1_title": true,
   "title_cell": "Table of Contents",
   "title_sidebar": "Contents",
   "toc_cell": false,
   "toc_position": {},
   "toc_section_display": true,
   "toc_window_display": false
  }
 },
 "nbformat": 4,
 "nbformat_minor": 5
}
