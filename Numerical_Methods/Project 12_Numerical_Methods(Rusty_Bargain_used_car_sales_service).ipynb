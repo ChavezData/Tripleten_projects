{
 "cells": [
  {
   "cell_type": "markdown",
   "metadata": {},
   "source": [
    "Rusty Bargain used car sales service is developing an app to attract new customers. In that app, you can quickly find out the market value of your car. You have access to historical data: technical specifications, trim versions, and prices. You need to build the model to determine the value. \n",
    "\n",
    "Rusty Bargain is interested in:\n",
    "\n",
    "- the quality of the prediction;\n",
    "- the speed of the prediction;\n",
    "- the time required for training"
   ]
  },
  {
   "cell_type": "markdown",
   "metadata": {},
   "source": [
    "## Data preparation"
   ]
  },
  {
   "cell_type": "code",
   "execution_count": null,
   "metadata": {},
   "outputs": [],
   "source": []
  },
  {
   "cell_type": "code",
   "execution_count": 7,
   "metadata": {},
   "outputs": [],
   "source": [
    "import pandas as pd \n",
    "import numpy as np\n",
    "import time\n",
    "import plotly.graph_objects as go\n",
    "import matplotlib.pyplot as plt\n",
    "import seaborn as sns\n",
    "from sklearn.metrics import mean_squared_error as mse\n",
    "from sklearn.metrics import mean_squared_error\n",
    "from sklearn.preprocessing import OneHotEncoder, StandardScaler\n",
    "from sklearn.preprocessing import OrdinalEncoder\n",
    "from sklearn.linear_model import LinearRegression\n",
    "from sklearn.tree import DecisionTreeRegressor\n",
    "from sklearn.ensemble import RandomForestRegressor\n",
    "from sklearn.model_selection import train_test_split, cross_val_score, cross_val_predict\n",
    "from sklearn.metrics import make_scorer\n",
    "from sklearn.experimental import enable_iterative_imputer\n",
    "from sklearn.model_selection import RandomizedSearchCV\n",
    "from sklearn.model_selection import GridSearchCV\n",
    "from sklearn.impute import SimpleImputer, IterativeImputer, KNNImputer\n",
    "from sklearn.preprocessing import OrdinalEncoder, LabelEncoder\n",
    "from sklearn.pipeline import Pipeline\n",
    "import lightgbm as lgb\n",
    "from lightgbm import LGBMRegressor\n",
    "from catboost import CatBoostRegressor, Pool \n",
    "from xgboost import XGBRegressor\n",
    "import plotly.io as pio"
   ]
  },
  {
   "cell_type": "code",
   "execution_count": 8,
   "metadata": {},
   "outputs": [
    {
     "data": {
      "text/html": [
       "<div>\n",
       "<style scoped>\n",
       "    .dataframe tbody tr th:only-of-type {\n",
       "        vertical-align: middle;\n",
       "    }\n",
       "\n",
       "    .dataframe tbody tr th {\n",
       "        vertical-align: top;\n",
       "    }\n",
       "\n",
       "    .dataframe thead th {\n",
       "        text-align: right;\n",
       "    }\n",
       "</style>\n",
       "<table border=\"1\" class=\"dataframe\">\n",
       "  <thead>\n",
       "    <tr style=\"text-align: right;\">\n",
       "      <th></th>\n",
       "      <th>DateCrawled</th>\n",
       "      <th>Price</th>\n",
       "      <th>VehicleType</th>\n",
       "      <th>RegistrationYear</th>\n",
       "      <th>Gearbox</th>\n",
       "      <th>Power</th>\n",
       "      <th>Model</th>\n",
       "      <th>Mileage</th>\n",
       "      <th>RegistrationMonth</th>\n",
       "      <th>FuelType</th>\n",
       "      <th>Brand</th>\n",
       "      <th>NotRepaired</th>\n",
       "      <th>DateCreated</th>\n",
       "      <th>NumberOfPictures</th>\n",
       "      <th>PostalCode</th>\n",
       "      <th>LastSeen</th>\n",
       "    </tr>\n",
       "  </thead>\n",
       "  <tbody>\n",
       "    <tr>\n",
       "      <th>0</th>\n",
       "      <td>24/03/2016 11:52</td>\n",
       "      <td>480</td>\n",
       "      <td>NaN</td>\n",
       "      <td>1993</td>\n",
       "      <td>manual</td>\n",
       "      <td>0</td>\n",
       "      <td>golf</td>\n",
       "      <td>150000</td>\n",
       "      <td>0</td>\n",
       "      <td>petrol</td>\n",
       "      <td>volkswagen</td>\n",
       "      <td>NaN</td>\n",
       "      <td>24/03/2016 00:00</td>\n",
       "      <td>0</td>\n",
       "      <td>70435</td>\n",
       "      <td>07/04/2016 03:16</td>\n",
       "    </tr>\n",
       "    <tr>\n",
       "      <th>1</th>\n",
       "      <td>24/03/2016 10:58</td>\n",
       "      <td>18300</td>\n",
       "      <td>coupe</td>\n",
       "      <td>2011</td>\n",
       "      <td>manual</td>\n",
       "      <td>190</td>\n",
       "      <td>NaN</td>\n",
       "      <td>125000</td>\n",
       "      <td>5</td>\n",
       "      <td>gasoline</td>\n",
       "      <td>audi</td>\n",
       "      <td>yes</td>\n",
       "      <td>24/03/2016 00:00</td>\n",
       "      <td>0</td>\n",
       "      <td>66954</td>\n",
       "      <td>07/04/2016 01:46</td>\n",
       "    </tr>\n",
       "    <tr>\n",
       "      <th>2</th>\n",
       "      <td>14/03/2016 12:52</td>\n",
       "      <td>9800</td>\n",
       "      <td>suv</td>\n",
       "      <td>2004</td>\n",
       "      <td>auto</td>\n",
       "      <td>163</td>\n",
       "      <td>grand</td>\n",
       "      <td>125000</td>\n",
       "      <td>8</td>\n",
       "      <td>gasoline</td>\n",
       "      <td>jeep</td>\n",
       "      <td>NaN</td>\n",
       "      <td>14/03/2016 00:00</td>\n",
       "      <td>0</td>\n",
       "      <td>90480</td>\n",
       "      <td>05/04/2016 12:47</td>\n",
       "    </tr>\n",
       "    <tr>\n",
       "      <th>3</th>\n",
       "      <td>17/03/2016 16:54</td>\n",
       "      <td>1500</td>\n",
       "      <td>small</td>\n",
       "      <td>2001</td>\n",
       "      <td>manual</td>\n",
       "      <td>75</td>\n",
       "      <td>golf</td>\n",
       "      <td>150000</td>\n",
       "      <td>6</td>\n",
       "      <td>petrol</td>\n",
       "      <td>volkswagen</td>\n",
       "      <td>no</td>\n",
       "      <td>17/03/2016 00:00</td>\n",
       "      <td>0</td>\n",
       "      <td>91074</td>\n",
       "      <td>17/03/2016 17:40</td>\n",
       "    </tr>\n",
       "    <tr>\n",
       "      <th>4</th>\n",
       "      <td>31/03/2016 17:25</td>\n",
       "      <td>3600</td>\n",
       "      <td>small</td>\n",
       "      <td>2008</td>\n",
       "      <td>manual</td>\n",
       "      <td>69</td>\n",
       "      <td>fabia</td>\n",
       "      <td>90000</td>\n",
       "      <td>7</td>\n",
       "      <td>gasoline</td>\n",
       "      <td>skoda</td>\n",
       "      <td>no</td>\n",
       "      <td>31/03/2016 00:00</td>\n",
       "      <td>0</td>\n",
       "      <td>60437</td>\n",
       "      <td>06/04/2016 10:17</td>\n",
       "    </tr>\n",
       "  </tbody>\n",
       "</table>\n",
       "</div>"
      ],
      "text/plain": [
       "        DateCrawled  Price VehicleType  RegistrationYear Gearbox  Power  \\\n",
       "0  24/03/2016 11:52    480         NaN              1993  manual      0   \n",
       "1  24/03/2016 10:58  18300       coupe              2011  manual    190   \n",
       "2  14/03/2016 12:52   9800         suv              2004    auto    163   \n",
       "3  17/03/2016 16:54   1500       small              2001  manual     75   \n",
       "4  31/03/2016 17:25   3600       small              2008  manual     69   \n",
       "\n",
       "   Model  Mileage  RegistrationMonth  FuelType       Brand NotRepaired  \\\n",
       "0   golf   150000                  0    petrol  volkswagen         NaN   \n",
       "1    NaN   125000                  5  gasoline        audi         yes   \n",
       "2  grand   125000                  8  gasoline        jeep         NaN   \n",
       "3   golf   150000                  6    petrol  volkswagen          no   \n",
       "4  fabia    90000                  7  gasoline       skoda          no   \n",
       "\n",
       "        DateCreated  NumberOfPictures  PostalCode          LastSeen  \n",
       "0  24/03/2016 00:00                 0       70435  07/04/2016 03:16  \n",
       "1  24/03/2016 00:00                 0       66954  07/04/2016 01:46  \n",
       "2  14/03/2016 00:00                 0       90480  05/04/2016 12:47  \n",
       "3  17/03/2016 00:00                 0       91074  17/03/2016 17:40  \n",
       "4  31/03/2016 00:00                 0       60437  06/04/2016 10:17  "
      ]
     },
     "execution_count": 8,
     "metadata": {},
     "output_type": "execute_result"
    }
   ],
   "source": [
    "df_car = pd.read_csv(\"datasets/car_data.csv\")\n",
    "df_car.head()"
   ]
  },
  {
   "cell_type": "code",
   "execution_count": 9,
   "metadata": {},
   "outputs": [],
   "source": [
    "try:\n",
    "    df_car = pd.read_csv(\"datasets/car_data.csv\")\n",
    "except FileNotFoundError:\n",
    "    df_car = pd.read_csv('https://practicum-content.s3.us-west-1.amazonaws.com/datasets/car_data.csv')"
   ]
  },
  {
   "cell_type": "code",
   "execution_count": 10,
   "metadata": {},
   "outputs": [
    {
     "data": {
      "text/html": [
       "<div>\n",
       "<style scoped>\n",
       "    .dataframe tbody tr th:only-of-type {\n",
       "        vertical-align: middle;\n",
       "    }\n",
       "\n",
       "    .dataframe tbody tr th {\n",
       "        vertical-align: top;\n",
       "    }\n",
       "\n",
       "    .dataframe thead th {\n",
       "        text-align: right;\n",
       "    }\n",
       "</style>\n",
       "<table border=\"1\" class=\"dataframe\">\n",
       "  <thead>\n",
       "    <tr style=\"text-align: right;\">\n",
       "      <th></th>\n",
       "      <th>DateCrawled</th>\n",
       "      <th>Price</th>\n",
       "      <th>VehicleType</th>\n",
       "      <th>RegistrationYear</th>\n",
       "      <th>Gearbox</th>\n",
       "      <th>Power</th>\n",
       "      <th>Model</th>\n",
       "      <th>Mileage</th>\n",
       "      <th>RegistrationMonth</th>\n",
       "      <th>FuelType</th>\n",
       "      <th>Brand</th>\n",
       "      <th>NotRepaired</th>\n",
       "      <th>DateCreated</th>\n",
       "      <th>NumberOfPictures</th>\n",
       "      <th>PostalCode</th>\n",
       "      <th>LastSeen</th>\n",
       "    </tr>\n",
       "  </thead>\n",
       "  <tbody>\n",
       "    <tr>\n",
       "      <th>0</th>\n",
       "      <td>24/03/2016 11:52</td>\n",
       "      <td>480</td>\n",
       "      <td>NaN</td>\n",
       "      <td>1993</td>\n",
       "      <td>manual</td>\n",
       "      <td>0</td>\n",
       "      <td>golf</td>\n",
       "      <td>150000</td>\n",
       "      <td>0</td>\n",
       "      <td>petrol</td>\n",
       "      <td>volkswagen</td>\n",
       "      <td>NaN</td>\n",
       "      <td>24/03/2016 00:00</td>\n",
       "      <td>0</td>\n",
       "      <td>70435</td>\n",
       "      <td>07/04/2016 03:16</td>\n",
       "    </tr>\n",
       "    <tr>\n",
       "      <th>1</th>\n",
       "      <td>24/03/2016 10:58</td>\n",
       "      <td>18300</td>\n",
       "      <td>coupe</td>\n",
       "      <td>2011</td>\n",
       "      <td>manual</td>\n",
       "      <td>190</td>\n",
       "      <td>NaN</td>\n",
       "      <td>125000</td>\n",
       "      <td>5</td>\n",
       "      <td>gasoline</td>\n",
       "      <td>audi</td>\n",
       "      <td>yes</td>\n",
       "      <td>24/03/2016 00:00</td>\n",
       "      <td>0</td>\n",
       "      <td>66954</td>\n",
       "      <td>07/04/2016 01:46</td>\n",
       "    </tr>\n",
       "    <tr>\n",
       "      <th>2</th>\n",
       "      <td>14/03/2016 12:52</td>\n",
       "      <td>9800</td>\n",
       "      <td>suv</td>\n",
       "      <td>2004</td>\n",
       "      <td>auto</td>\n",
       "      <td>163</td>\n",
       "      <td>grand</td>\n",
       "      <td>125000</td>\n",
       "      <td>8</td>\n",
       "      <td>gasoline</td>\n",
       "      <td>jeep</td>\n",
       "      <td>NaN</td>\n",
       "      <td>14/03/2016 00:00</td>\n",
       "      <td>0</td>\n",
       "      <td>90480</td>\n",
       "      <td>05/04/2016 12:47</td>\n",
       "    </tr>\n",
       "    <tr>\n",
       "      <th>3</th>\n",
       "      <td>17/03/2016 16:54</td>\n",
       "      <td>1500</td>\n",
       "      <td>small</td>\n",
       "      <td>2001</td>\n",
       "      <td>manual</td>\n",
       "      <td>75</td>\n",
       "      <td>golf</td>\n",
       "      <td>150000</td>\n",
       "      <td>6</td>\n",
       "      <td>petrol</td>\n",
       "      <td>volkswagen</td>\n",
       "      <td>no</td>\n",
       "      <td>17/03/2016 00:00</td>\n",
       "      <td>0</td>\n",
       "      <td>91074</td>\n",
       "      <td>17/03/2016 17:40</td>\n",
       "    </tr>\n",
       "    <tr>\n",
       "      <th>4</th>\n",
       "      <td>31/03/2016 17:25</td>\n",
       "      <td>3600</td>\n",
       "      <td>small</td>\n",
       "      <td>2008</td>\n",
       "      <td>manual</td>\n",
       "      <td>69</td>\n",
       "      <td>fabia</td>\n",
       "      <td>90000</td>\n",
       "      <td>7</td>\n",
       "      <td>gasoline</td>\n",
       "      <td>skoda</td>\n",
       "      <td>no</td>\n",
       "      <td>31/03/2016 00:00</td>\n",
       "      <td>0</td>\n",
       "      <td>60437</td>\n",
       "      <td>06/04/2016 10:17</td>\n",
       "    </tr>\n",
       "  </tbody>\n",
       "</table>\n",
       "</div>"
      ],
      "text/plain": [
       "        DateCrawled  Price VehicleType  RegistrationYear Gearbox  Power  \\\n",
       "0  24/03/2016 11:52    480         NaN              1993  manual      0   \n",
       "1  24/03/2016 10:58  18300       coupe              2011  manual    190   \n",
       "2  14/03/2016 12:52   9800         suv              2004    auto    163   \n",
       "3  17/03/2016 16:54   1500       small              2001  manual     75   \n",
       "4  31/03/2016 17:25   3600       small              2008  manual     69   \n",
       "\n",
       "   Model  Mileage  RegistrationMonth  FuelType       Brand NotRepaired  \\\n",
       "0   golf   150000                  0    petrol  volkswagen         NaN   \n",
       "1    NaN   125000                  5  gasoline        audi         yes   \n",
       "2  grand   125000                  8  gasoline        jeep         NaN   \n",
       "3   golf   150000                  6    petrol  volkswagen          no   \n",
       "4  fabia    90000                  7  gasoline       skoda          no   \n",
       "\n",
       "        DateCreated  NumberOfPictures  PostalCode          LastSeen  \n",
       "0  24/03/2016 00:00                 0       70435  07/04/2016 03:16  \n",
       "1  24/03/2016 00:00                 0       66954  07/04/2016 01:46  \n",
       "2  14/03/2016 00:00                 0       90480  05/04/2016 12:47  \n",
       "3  17/03/2016 00:00                 0       91074  17/03/2016 17:40  \n",
       "4  31/03/2016 00:00                 0       60437  06/04/2016 10:17  "
      ]
     },
     "execution_count": 10,
     "metadata": {},
     "output_type": "execute_result"
    }
   ],
   "source": [
    "df_car.head()"
   ]
  },
  {
   "cell_type": "code",
   "execution_count": 11,
   "metadata": {},
   "outputs": [
    {
     "data": {
      "text/html": [
       "<div>\n",
       "<style scoped>\n",
       "    .dataframe tbody tr th:only-of-type {\n",
       "        vertical-align: middle;\n",
       "    }\n",
       "\n",
       "    .dataframe tbody tr th {\n",
       "        vertical-align: top;\n",
       "    }\n",
       "\n",
       "    .dataframe thead th {\n",
       "        text-align: right;\n",
       "    }\n",
       "</style>\n",
       "<table border=\"1\" class=\"dataframe\">\n",
       "  <thead>\n",
       "    <tr style=\"text-align: right;\">\n",
       "      <th></th>\n",
       "      <th>DateCrawled</th>\n",
       "      <th>Price</th>\n",
       "      <th>VehicleType</th>\n",
       "      <th>RegistrationYear</th>\n",
       "      <th>Gearbox</th>\n",
       "      <th>Power</th>\n",
       "      <th>Model</th>\n",
       "      <th>Mileage</th>\n",
       "      <th>RegistrationMonth</th>\n",
       "      <th>FuelType</th>\n",
       "      <th>Brand</th>\n",
       "      <th>NotRepaired</th>\n",
       "      <th>DateCreated</th>\n",
       "      <th>NumberOfPictures</th>\n",
       "      <th>PostalCode</th>\n",
       "      <th>LastSeen</th>\n",
       "    </tr>\n",
       "  </thead>\n",
       "  <tbody>\n",
       "    <tr>\n",
       "      <th>354364</th>\n",
       "      <td>21/03/2016 09:50</td>\n",
       "      <td>0</td>\n",
       "      <td>NaN</td>\n",
       "      <td>2005</td>\n",
       "      <td>manual</td>\n",
       "      <td>0</td>\n",
       "      <td>colt</td>\n",
       "      <td>150000</td>\n",
       "      <td>7</td>\n",
       "      <td>petrol</td>\n",
       "      <td>mitsubishi</td>\n",
       "      <td>yes</td>\n",
       "      <td>21/03/2016 00:00</td>\n",
       "      <td>0</td>\n",
       "      <td>2694</td>\n",
       "      <td>21/03/2016 10:42</td>\n",
       "    </tr>\n",
       "    <tr>\n",
       "      <th>354365</th>\n",
       "      <td>14/03/2016 17:48</td>\n",
       "      <td>2200</td>\n",
       "      <td>NaN</td>\n",
       "      <td>2005</td>\n",
       "      <td>NaN</td>\n",
       "      <td>0</td>\n",
       "      <td>NaN</td>\n",
       "      <td>20000</td>\n",
       "      <td>1</td>\n",
       "      <td>NaN</td>\n",
       "      <td>sonstige_autos</td>\n",
       "      <td>NaN</td>\n",
       "      <td>14/03/2016 00:00</td>\n",
       "      <td>0</td>\n",
       "      <td>39576</td>\n",
       "      <td>06/04/2016 00:46</td>\n",
       "    </tr>\n",
       "    <tr>\n",
       "      <th>354366</th>\n",
       "      <td>05/03/2016 19:56</td>\n",
       "      <td>1199</td>\n",
       "      <td>convertible</td>\n",
       "      <td>2000</td>\n",
       "      <td>auto</td>\n",
       "      <td>101</td>\n",
       "      <td>fortwo</td>\n",
       "      <td>125000</td>\n",
       "      <td>3</td>\n",
       "      <td>petrol</td>\n",
       "      <td>smart</td>\n",
       "      <td>no</td>\n",
       "      <td>05/03/2016 00:00</td>\n",
       "      <td>0</td>\n",
       "      <td>26135</td>\n",
       "      <td>11/03/2016 18:17</td>\n",
       "    </tr>\n",
       "    <tr>\n",
       "      <th>354367</th>\n",
       "      <td>19/03/2016 18:57</td>\n",
       "      <td>9200</td>\n",
       "      <td>bus</td>\n",
       "      <td>1996</td>\n",
       "      <td>manual</td>\n",
       "      <td>102</td>\n",
       "      <td>transporter</td>\n",
       "      <td>150000</td>\n",
       "      <td>3</td>\n",
       "      <td>gasoline</td>\n",
       "      <td>volkswagen</td>\n",
       "      <td>no</td>\n",
       "      <td>19/03/2016 00:00</td>\n",
       "      <td>0</td>\n",
       "      <td>87439</td>\n",
       "      <td>07/04/2016 07:15</td>\n",
       "    </tr>\n",
       "    <tr>\n",
       "      <th>354368</th>\n",
       "      <td>20/03/2016 19:41</td>\n",
       "      <td>3400</td>\n",
       "      <td>wagon</td>\n",
       "      <td>2002</td>\n",
       "      <td>manual</td>\n",
       "      <td>100</td>\n",
       "      <td>golf</td>\n",
       "      <td>150000</td>\n",
       "      <td>6</td>\n",
       "      <td>gasoline</td>\n",
       "      <td>volkswagen</td>\n",
       "      <td>NaN</td>\n",
       "      <td>20/03/2016 00:00</td>\n",
       "      <td>0</td>\n",
       "      <td>40764</td>\n",
       "      <td>24/03/2016 12:45</td>\n",
       "    </tr>\n",
       "  </tbody>\n",
       "</table>\n",
       "</div>"
      ],
      "text/plain": [
       "             DateCrawled  Price  VehicleType  RegistrationYear Gearbox  Power  \\\n",
       "354364  21/03/2016 09:50      0          NaN              2005  manual      0   \n",
       "354365  14/03/2016 17:48   2200          NaN              2005     NaN      0   \n",
       "354366  05/03/2016 19:56   1199  convertible              2000    auto    101   \n",
       "354367  19/03/2016 18:57   9200          bus              1996  manual    102   \n",
       "354368  20/03/2016 19:41   3400        wagon              2002  manual    100   \n",
       "\n",
       "              Model  Mileage  RegistrationMonth  FuelType           Brand  \\\n",
       "354364         colt   150000                  7    petrol      mitsubishi   \n",
       "354365          NaN    20000                  1       NaN  sonstige_autos   \n",
       "354366       fortwo   125000                  3    petrol           smart   \n",
       "354367  transporter   150000                  3  gasoline      volkswagen   \n",
       "354368         golf   150000                  6  gasoline      volkswagen   \n",
       "\n",
       "       NotRepaired       DateCreated  NumberOfPictures  PostalCode  \\\n",
       "354364         yes  21/03/2016 00:00                 0        2694   \n",
       "354365         NaN  14/03/2016 00:00                 0       39576   \n",
       "354366          no  05/03/2016 00:00                 0       26135   \n",
       "354367          no  19/03/2016 00:00                 0       87439   \n",
       "354368         NaN  20/03/2016 00:00                 0       40764   \n",
       "\n",
       "                LastSeen  \n",
       "354364  21/03/2016 10:42  \n",
       "354365  06/04/2016 00:46  \n",
       "354366  11/03/2016 18:17  \n",
       "354367  07/04/2016 07:15  \n",
       "354368  24/03/2016 12:45  "
      ]
     },
     "execution_count": 11,
     "metadata": {},
     "output_type": "execute_result"
    }
   ],
   "source": [
    "df_car.tail()"
   ]
  },
  {
   "cell_type": "code",
   "execution_count": 12,
   "metadata": {},
   "outputs": [
    {
     "name": "stdout",
     "output_type": "stream",
     "text": [
      "<class 'pandas.core.frame.DataFrame'>\n",
      "RangeIndex: 354369 entries, 0 to 354368\n",
      "Data columns (total 16 columns):\n",
      " #   Column             Non-Null Count   Dtype \n",
      "---  ------             --------------   ----- \n",
      " 0   DateCrawled        354369 non-null  object\n",
      " 1   Price              354369 non-null  int64 \n",
      " 2   VehicleType        316879 non-null  object\n",
      " 3   RegistrationYear   354369 non-null  int64 \n",
      " 4   Gearbox            334536 non-null  object\n",
      " 5   Power              354369 non-null  int64 \n",
      " 6   Model              334664 non-null  object\n",
      " 7   Mileage            354369 non-null  int64 \n",
      " 8   RegistrationMonth  354369 non-null  int64 \n",
      " 9   FuelType           321474 non-null  object\n",
      " 10  Brand              354369 non-null  object\n",
      " 11  NotRepaired        283215 non-null  object\n",
      " 12  DateCreated        354369 non-null  object\n",
      " 13  NumberOfPictures   354369 non-null  int64 \n",
      " 14  PostalCode         354369 non-null  int64 \n",
      " 15  LastSeen           354369 non-null  object\n",
      "dtypes: int64(7), object(9)\n",
      "memory usage: 43.3+ MB\n"
     ]
    }
   ],
   "source": [
    "df_car.info()"
   ]
  },
  {
   "cell_type": "code",
   "execution_count": 13,
   "metadata": {},
   "outputs": [
    {
     "data": {
      "text/html": [
       "<div>\n",
       "<style scoped>\n",
       "    .dataframe tbody tr th:only-of-type {\n",
       "        vertical-align: middle;\n",
       "    }\n",
       "\n",
       "    .dataframe tbody tr th {\n",
       "        vertical-align: top;\n",
       "    }\n",
       "\n",
       "    .dataframe thead th {\n",
       "        text-align: right;\n",
       "    }\n",
       "</style>\n",
       "<table border=\"1\" class=\"dataframe\">\n",
       "  <thead>\n",
       "    <tr style=\"text-align: right;\">\n",
       "      <th></th>\n",
       "      <th>Price</th>\n",
       "      <th>RegistrationYear</th>\n",
       "      <th>Power</th>\n",
       "      <th>Mileage</th>\n",
       "      <th>RegistrationMonth</th>\n",
       "      <th>NumberOfPictures</th>\n",
       "      <th>PostalCode</th>\n",
       "    </tr>\n",
       "  </thead>\n",
       "  <tbody>\n",
       "    <tr>\n",
       "      <th>count</th>\n",
       "      <td>354369.000000</td>\n",
       "      <td>354369.000000</td>\n",
       "      <td>354369.000000</td>\n",
       "      <td>354369.000000</td>\n",
       "      <td>354369.000000</td>\n",
       "      <td>354369.0</td>\n",
       "      <td>354369.000000</td>\n",
       "    </tr>\n",
       "    <tr>\n",
       "      <th>mean</th>\n",
       "      <td>4416.656776</td>\n",
       "      <td>2004.234448</td>\n",
       "      <td>110.094337</td>\n",
       "      <td>128211.172535</td>\n",
       "      <td>5.714645</td>\n",
       "      <td>0.0</td>\n",
       "      <td>50508.689087</td>\n",
       "    </tr>\n",
       "    <tr>\n",
       "      <th>std</th>\n",
       "      <td>4514.158514</td>\n",
       "      <td>90.227958</td>\n",
       "      <td>189.850405</td>\n",
       "      <td>37905.341530</td>\n",
       "      <td>3.726421</td>\n",
       "      <td>0.0</td>\n",
       "      <td>25783.096248</td>\n",
       "    </tr>\n",
       "    <tr>\n",
       "      <th>min</th>\n",
       "      <td>0.000000</td>\n",
       "      <td>1000.000000</td>\n",
       "      <td>0.000000</td>\n",
       "      <td>5000.000000</td>\n",
       "      <td>0.000000</td>\n",
       "      <td>0.0</td>\n",
       "      <td>1067.000000</td>\n",
       "    </tr>\n",
       "    <tr>\n",
       "      <th>25%</th>\n",
       "      <td>1050.000000</td>\n",
       "      <td>1999.000000</td>\n",
       "      <td>69.000000</td>\n",
       "      <td>125000.000000</td>\n",
       "      <td>3.000000</td>\n",
       "      <td>0.0</td>\n",
       "      <td>30165.000000</td>\n",
       "    </tr>\n",
       "    <tr>\n",
       "      <th>50%</th>\n",
       "      <td>2700.000000</td>\n",
       "      <td>2003.000000</td>\n",
       "      <td>105.000000</td>\n",
       "      <td>150000.000000</td>\n",
       "      <td>6.000000</td>\n",
       "      <td>0.0</td>\n",
       "      <td>49413.000000</td>\n",
       "    </tr>\n",
       "    <tr>\n",
       "      <th>75%</th>\n",
       "      <td>6400.000000</td>\n",
       "      <td>2008.000000</td>\n",
       "      <td>143.000000</td>\n",
       "      <td>150000.000000</td>\n",
       "      <td>9.000000</td>\n",
       "      <td>0.0</td>\n",
       "      <td>71083.000000</td>\n",
       "    </tr>\n",
       "    <tr>\n",
       "      <th>max</th>\n",
       "      <td>20000.000000</td>\n",
       "      <td>9999.000000</td>\n",
       "      <td>20000.000000</td>\n",
       "      <td>150000.000000</td>\n",
       "      <td>12.000000</td>\n",
       "      <td>0.0</td>\n",
       "      <td>99998.000000</td>\n",
       "    </tr>\n",
       "  </tbody>\n",
       "</table>\n",
       "</div>"
      ],
      "text/plain": [
       "               Price  RegistrationYear          Power        Mileage  \\\n",
       "count  354369.000000     354369.000000  354369.000000  354369.000000   \n",
       "mean     4416.656776       2004.234448     110.094337  128211.172535   \n",
       "std      4514.158514         90.227958     189.850405   37905.341530   \n",
       "min         0.000000       1000.000000       0.000000    5000.000000   \n",
       "25%      1050.000000       1999.000000      69.000000  125000.000000   \n",
       "50%      2700.000000       2003.000000     105.000000  150000.000000   \n",
       "75%      6400.000000       2008.000000     143.000000  150000.000000   \n",
       "max     20000.000000       9999.000000   20000.000000  150000.000000   \n",
       "\n",
       "       RegistrationMonth  NumberOfPictures     PostalCode  \n",
       "count      354369.000000          354369.0  354369.000000  \n",
       "mean            5.714645               0.0   50508.689087  \n",
       "std             3.726421               0.0   25783.096248  \n",
       "min             0.000000               0.0    1067.000000  \n",
       "25%             3.000000               0.0   30165.000000  \n",
       "50%             6.000000               0.0   49413.000000  \n",
       "75%             9.000000               0.0   71083.000000  \n",
       "max            12.000000               0.0   99998.000000  "
      ]
     },
     "execution_count": 13,
     "metadata": {},
     "output_type": "execute_result"
    }
   ],
   "source": [
    "df_car.describe()"
   ]
  },
  {
   "cell_type": "code",
   "execution_count": 14,
   "metadata": {},
   "outputs": [
    {
     "data": {
      "text/html": [
       "<div>\n",
       "<style scoped>\n",
       "    .dataframe tbody tr th:only-of-type {\n",
       "        vertical-align: middle;\n",
       "    }\n",
       "\n",
       "    .dataframe tbody tr th {\n",
       "        vertical-align: top;\n",
       "    }\n",
       "\n",
       "    .dataframe thead th {\n",
       "        text-align: right;\n",
       "    }\n",
       "</style>\n",
       "<table border=\"1\" class=\"dataframe\">\n",
       "  <thead>\n",
       "    <tr style=\"text-align: right;\">\n",
       "      <th></th>\n",
       "      <th>DateCrawled</th>\n",
       "      <th>VehicleType</th>\n",
       "      <th>Gearbox</th>\n",
       "      <th>Model</th>\n",
       "      <th>FuelType</th>\n",
       "      <th>Brand</th>\n",
       "      <th>NotRepaired</th>\n",
       "      <th>DateCreated</th>\n",
       "      <th>LastSeen</th>\n",
       "    </tr>\n",
       "  </thead>\n",
       "  <tbody>\n",
       "    <tr>\n",
       "      <th>count</th>\n",
       "      <td>354369</td>\n",
       "      <td>316879</td>\n",
       "      <td>334536</td>\n",
       "      <td>334664</td>\n",
       "      <td>321474</td>\n",
       "      <td>354369</td>\n",
       "      <td>283215</td>\n",
       "      <td>354369</td>\n",
       "      <td>354369</td>\n",
       "    </tr>\n",
       "    <tr>\n",
       "      <th>unique</th>\n",
       "      <td>15470</td>\n",
       "      <td>8</td>\n",
       "      <td>2</td>\n",
       "      <td>250</td>\n",
       "      <td>7</td>\n",
       "      <td>40</td>\n",
       "      <td>2</td>\n",
       "      <td>109</td>\n",
       "      <td>18592</td>\n",
       "    </tr>\n",
       "    <tr>\n",
       "      <th>top</th>\n",
       "      <td>05/03/2016 14:25</td>\n",
       "      <td>sedan</td>\n",
       "      <td>manual</td>\n",
       "      <td>golf</td>\n",
       "      <td>petrol</td>\n",
       "      <td>volkswagen</td>\n",
       "      <td>no</td>\n",
       "      <td>03/04/2016 00:00</td>\n",
       "      <td>07/04/2016 07:16</td>\n",
       "    </tr>\n",
       "    <tr>\n",
       "      <th>freq</th>\n",
       "      <td>66</td>\n",
       "      <td>91457</td>\n",
       "      <td>268251</td>\n",
       "      <td>29232</td>\n",
       "      <td>216352</td>\n",
       "      <td>77013</td>\n",
       "      <td>247161</td>\n",
       "      <td>13719</td>\n",
       "      <td>654</td>\n",
       "    </tr>\n",
       "  </tbody>\n",
       "</table>\n",
       "</div>"
      ],
      "text/plain": [
       "             DateCrawled VehicleType Gearbox   Model FuelType       Brand  \\\n",
       "count             354369      316879  334536  334664   321474      354369   \n",
       "unique             15470           8       2     250        7          40   \n",
       "top     05/03/2016 14:25       sedan  manual    golf   petrol  volkswagen   \n",
       "freq                  66       91457  268251   29232   216352       77013   \n",
       "\n",
       "       NotRepaired       DateCreated          LastSeen  \n",
       "count       283215            354369            354369  \n",
       "unique           2               109             18592  \n",
       "top             no  03/04/2016 00:00  07/04/2016 07:16  \n",
       "freq        247161             13719               654  "
      ]
     },
     "execution_count": 14,
     "metadata": {},
     "output_type": "execute_result"
    }
   ],
   "source": [
    "df_car.describe(include='object')"
   ]
  },
  {
   "cell_type": "code",
   "execution_count": 15,
   "metadata": {},
   "outputs": [
    {
     "name": "stdout",
     "output_type": "stream",
     "text": [
      "354369\n",
      "262\n",
      "354107\n"
     ]
    }
   ],
   "source": [
    "print(df_car.shape[0])\n",
    "print(df_car.duplicated().sum())\n",
    "df_car = df_car.drop_duplicates(keep='first').reset_index()\n",
    "print(df_car.shape[0])"
   ]
  },
  {
   "cell_type": "code",
   "execution_count": 16,
   "metadata": {},
   "outputs": [
    {
     "data": {
      "text/plain": [
       "index                    0\n",
       "DateCrawled              0\n",
       "Price                    0\n",
       "VehicleType          37484\n",
       "RegistrationYear         0\n",
       "Gearbox              19830\n",
       "Power                    0\n",
       "Model                19701\n",
       "Mileage                  0\n",
       "RegistrationMonth        0\n",
       "FuelType             32889\n",
       "Brand                    0\n",
       "NotRepaired          71145\n",
       "DateCreated              0\n",
       "NumberOfPictures         0\n",
       "PostalCode               0\n",
       "LastSeen                 0\n",
       "dtype: int64"
      ]
     },
     "execution_count": 16,
     "metadata": {},
     "output_type": "execute_result"
    }
   ],
   "source": [
    "df_car.isna().sum()"
   ]
  },
  {
   "cell_type": "markdown",
   "metadata": {},
   "source": []
  },
  {
   "cell_type": "code",
   "execution_count": 17,
   "metadata": {},
   "outputs": [],
   "source": [
    "# dropping unnecessary columns\n",
    "df_car.drop(columns=['DateCrawled', 'DateCreated', 'NumberOfPictures', 'PostalCode', 'LastSeen'], inplace=True)"
   ]
  },
  {
   "cell_type": "code",
   "execution_count": 18,
   "metadata": {},
   "outputs": [
    {
     "data": {
      "text/html": [
       "<div>\n",
       "<style scoped>\n",
       "    .dataframe tbody tr th:only-of-type {\n",
       "        vertical-align: middle;\n",
       "    }\n",
       "\n",
       "    .dataframe tbody tr th {\n",
       "        vertical-align: top;\n",
       "    }\n",
       "\n",
       "    .dataframe thead th {\n",
       "        text-align: right;\n",
       "    }\n",
       "</style>\n",
       "<table border=\"1\" class=\"dataframe\">\n",
       "  <thead>\n",
       "    <tr style=\"text-align: right;\">\n",
       "      <th></th>\n",
       "      <th>index</th>\n",
       "      <th>Price</th>\n",
       "      <th>VehicleType</th>\n",
       "      <th>RegistrationYear</th>\n",
       "      <th>Gearbox</th>\n",
       "      <th>Power</th>\n",
       "      <th>Model</th>\n",
       "      <th>Mileage</th>\n",
       "      <th>RegistrationMonth</th>\n",
       "      <th>FuelType</th>\n",
       "      <th>Brand</th>\n",
       "      <th>NotRepaired</th>\n",
       "    </tr>\n",
       "  </thead>\n",
       "  <tbody>\n",
       "    <tr>\n",
       "      <th>22</th>\n",
       "      <td>22</td>\n",
       "      <td>2900</td>\n",
       "      <td>NaN</td>\n",
       "      <td>2018</td>\n",
       "      <td>manual</td>\n",
       "      <td>90</td>\n",
       "      <td>meriva</td>\n",
       "      <td>150000</td>\n",
       "      <td>5</td>\n",
       "      <td>petrol</td>\n",
       "      <td>opel</td>\n",
       "      <td>no</td>\n",
       "    </tr>\n",
       "    <tr>\n",
       "      <th>26</th>\n",
       "      <td>26</td>\n",
       "      <td>5555</td>\n",
       "      <td>NaN</td>\n",
       "      <td>2017</td>\n",
       "      <td>manual</td>\n",
       "      <td>125</td>\n",
       "      <td>c4</td>\n",
       "      <td>125000</td>\n",
       "      <td>4</td>\n",
       "      <td>NaN</td>\n",
       "      <td>citroen</td>\n",
       "      <td>no</td>\n",
       "    </tr>\n",
       "    <tr>\n",
       "      <th>48</th>\n",
       "      <td>48</td>\n",
       "      <td>7750</td>\n",
       "      <td>NaN</td>\n",
       "      <td>2017</td>\n",
       "      <td>manual</td>\n",
       "      <td>80</td>\n",
       "      <td>golf</td>\n",
       "      <td>100000</td>\n",
       "      <td>1</td>\n",
       "      <td>petrol</td>\n",
       "      <td>volkswagen</td>\n",
       "      <td>NaN</td>\n",
       "    </tr>\n",
       "    <tr>\n",
       "      <th>51</th>\n",
       "      <td>51</td>\n",
       "      <td>2000</td>\n",
       "      <td>NaN</td>\n",
       "      <td>2017</td>\n",
       "      <td>manual</td>\n",
       "      <td>90</td>\n",
       "      <td>punto</td>\n",
       "      <td>150000</td>\n",
       "      <td>11</td>\n",
       "      <td>gasoline</td>\n",
       "      <td>fiat</td>\n",
       "      <td>yes</td>\n",
       "    </tr>\n",
       "    <tr>\n",
       "      <th>57</th>\n",
       "      <td>57</td>\n",
       "      <td>2399</td>\n",
       "      <td>NaN</td>\n",
       "      <td>2018</td>\n",
       "      <td>manual</td>\n",
       "      <td>64</td>\n",
       "      <td>other</td>\n",
       "      <td>125000</td>\n",
       "      <td>3</td>\n",
       "      <td>NaN</td>\n",
       "      <td>seat</td>\n",
       "      <td>no</td>\n",
       "    </tr>\n",
       "  </tbody>\n",
       "</table>\n",
       "</div>"
      ],
      "text/plain": [
       "    index  Price VehicleType  RegistrationYear Gearbox  Power   Model  \\\n",
       "22     22   2900         NaN              2018  manual     90  meriva   \n",
       "26     26   5555         NaN              2017  manual    125      c4   \n",
       "48     48   7750         NaN              2017  manual     80    golf   \n",
       "51     51   2000         NaN              2017  manual     90   punto   \n",
       "57     57   2399         NaN              2018  manual     64   other   \n",
       "\n",
       "    Mileage  RegistrationMonth  FuelType       Brand NotRepaired  \n",
       "22   150000                  5    petrol        opel          no  \n",
       "26   125000                  4       NaN     citroen          no  \n",
       "48   100000                  1    petrol  volkswagen         NaN  \n",
       "51   150000                 11  gasoline        fiat         yes  \n",
       "57   125000                  3       NaN        seat          no  "
      ]
     },
     "execution_count": 18,
     "metadata": {},
     "output_type": "execute_result"
    }
   ],
   "source": [
    "# inspecting high values\n",
    "df_car.loc[df_car['RegistrationYear'] > 2016].head()"
   ]
  },
  {
   "cell_type": "code",
   "execution_count": 19,
   "metadata": {},
   "outputs": [],
   "source": [
    "df_car = df_car.loc[df_car['RegistrationYear'] <= 2016]"
   ]
  },
  {
   "cell_type": "markdown",
   "metadata": {},
   "source": [
    "The data is from 2016, so it is impossible for a car's registration year to be later than that. it is best to remove these rows from the dataset because it is hard to estimate the coreect registration year accurately."
   ]
  },
  {
   "cell_type": "code",
   "execution_count": 20,
   "metadata": {},
   "outputs": [
    {
     "data": {
      "text/html": [
       "<div>\n",
       "<style scoped>\n",
       "    .dataframe tbody tr th:only-of-type {\n",
       "        vertical-align: middle;\n",
       "    }\n",
       "\n",
       "    .dataframe tbody tr th {\n",
       "        vertical-align: top;\n",
       "    }\n",
       "\n",
       "    .dataframe thead th {\n",
       "        text-align: right;\n",
       "    }\n",
       "</style>\n",
       "<table border=\"1\" class=\"dataframe\">\n",
       "  <thead>\n",
       "    <tr style=\"text-align: right;\">\n",
       "      <th></th>\n",
       "      <th>index</th>\n",
       "      <th>Price</th>\n",
       "      <th>VehicleType</th>\n",
       "      <th>RegistrationYear</th>\n",
       "      <th>Gearbox</th>\n",
       "      <th>Power</th>\n",
       "      <th>Model</th>\n",
       "      <th>Mileage</th>\n",
       "      <th>RegistrationMonth</th>\n",
       "      <th>FuelType</th>\n",
       "      <th>Brand</th>\n",
       "      <th>NotRepaired</th>\n",
       "    </tr>\n",
       "  </thead>\n",
       "  <tbody>\n",
       "    <tr>\n",
       "      <th>2102</th>\n",
       "      <td>2102</td>\n",
       "      <td>0</td>\n",
       "      <td>sedan</td>\n",
       "      <td>1999</td>\n",
       "      <td>NaN</td>\n",
       "      <td>1799</td>\n",
       "      <td>vectra</td>\n",
       "      <td>150000</td>\n",
       "      <td>1</td>\n",
       "      <td>petrol</td>\n",
       "      <td>opel</td>\n",
       "      <td>yes</td>\n",
       "    </tr>\n",
       "    <tr>\n",
       "      <th>7661</th>\n",
       "      <td>7661</td>\n",
       "      <td>1499</td>\n",
       "      <td>small</td>\n",
       "      <td>1999</td>\n",
       "      <td>manual</td>\n",
       "      <td>7515</td>\n",
       "      <td>lupo</td>\n",
       "      <td>150000</td>\n",
       "      <td>4</td>\n",
       "      <td>petrol</td>\n",
       "      <td>volkswagen</td>\n",
       "      <td>NaN</td>\n",
       "    </tr>\n",
       "    <tr>\n",
       "      <th>9664</th>\n",
       "      <td>9664</td>\n",
       "      <td>2599</td>\n",
       "      <td>NaN</td>\n",
       "      <td>2016</td>\n",
       "      <td>manual</td>\n",
       "      <td>1779</td>\n",
       "      <td>zafira</td>\n",
       "      <td>150000</td>\n",
       "      <td>0</td>\n",
       "      <td>petrol</td>\n",
       "      <td>opel</td>\n",
       "      <td>no</td>\n",
       "    </tr>\n",
       "    <tr>\n",
       "      <th>9875</th>\n",
       "      <td>9875</td>\n",
       "      <td>550</td>\n",
       "      <td>wagon</td>\n",
       "      <td>2003</td>\n",
       "      <td>manual</td>\n",
       "      <td>1753</td>\n",
       "      <td>focus</td>\n",
       "      <td>150000</td>\n",
       "      <td>1</td>\n",
       "      <td>gasoline</td>\n",
       "      <td>ford</td>\n",
       "      <td>yes</td>\n",
       "    </tr>\n",
       "    <tr>\n",
       "      <th>11039</th>\n",
       "      <td>11039</td>\n",
       "      <td>0</td>\n",
       "      <td>sedan</td>\n",
       "      <td>1998</td>\n",
       "      <td>manual</td>\n",
       "      <td>10317</td>\n",
       "      <td>other</td>\n",
       "      <td>150000</td>\n",
       "      <td>8</td>\n",
       "      <td>petrol</td>\n",
       "      <td>fiat</td>\n",
       "      <td>no</td>\n",
       "    </tr>\n",
       "    <tr>\n",
       "      <th>...</th>\n",
       "      <td>...</td>\n",
       "      <td>...</td>\n",
       "      <td>...</td>\n",
       "      <td>...</td>\n",
       "      <td>...</td>\n",
       "      <td>...</td>\n",
       "      <td>...</td>\n",
       "      <td>...</td>\n",
       "      <td>...</td>\n",
       "      <td>...</td>\n",
       "      <td>...</td>\n",
       "      <td>...</td>\n",
       "    </tr>\n",
       "    <tr>\n",
       "      <th>347751</th>\n",
       "      <td>348006</td>\n",
       "      <td>355</td>\n",
       "      <td>sedan</td>\n",
       "      <td>1998</td>\n",
       "      <td>manual</td>\n",
       "      <td>1799</td>\n",
       "      <td>vectra</td>\n",
       "      <td>150000</td>\n",
       "      <td>6</td>\n",
       "      <td>petrol</td>\n",
       "      <td>opel</td>\n",
       "      <td>NaN</td>\n",
       "    </tr>\n",
       "    <tr>\n",
       "      <th>347882</th>\n",
       "      <td>348137</td>\n",
       "      <td>850</td>\n",
       "      <td>sedan</td>\n",
       "      <td>1993</td>\n",
       "      <td>auto</td>\n",
       "      <td>9012</td>\n",
       "      <td>golf</td>\n",
       "      <td>150000</td>\n",
       "      <td>0</td>\n",
       "      <td>petrol</td>\n",
       "      <td>volkswagen</td>\n",
       "      <td>NaN</td>\n",
       "    </tr>\n",
       "    <tr>\n",
       "      <th>347982</th>\n",
       "      <td>348237</td>\n",
       "      <td>3000</td>\n",
       "      <td>coupe</td>\n",
       "      <td>2007</td>\n",
       "      <td>manual</td>\n",
       "      <td>2007</td>\n",
       "      <td>corsa</td>\n",
       "      <td>150000</td>\n",
       "      <td>3</td>\n",
       "      <td>gasoline</td>\n",
       "      <td>opel</td>\n",
       "      <td>yes</td>\n",
       "    </tr>\n",
       "    <tr>\n",
       "      <th>348412</th>\n",
       "      <td>348668</td>\n",
       "      <td>1000</td>\n",
       "      <td>wagon</td>\n",
       "      <td>1996</td>\n",
       "      <td>manual</td>\n",
       "      <td>2598</td>\n",
       "      <td>a6</td>\n",
       "      <td>150000</td>\n",
       "      <td>7</td>\n",
       "      <td>NaN</td>\n",
       "      <td>audi</td>\n",
       "      <td>NaN</td>\n",
       "    </tr>\n",
       "    <tr>\n",
       "      <th>348626</th>\n",
       "      <td>348883</td>\n",
       "      <td>7500</td>\n",
       "      <td>sedan</td>\n",
       "      <td>2011</td>\n",
       "      <td>manual</td>\n",
       "      <td>1548</td>\n",
       "      <td>scenic</td>\n",
       "      <td>90000</td>\n",
       "      <td>4</td>\n",
       "      <td>petrol</td>\n",
       "      <td>renault</td>\n",
       "      <td>NaN</td>\n",
       "    </tr>\n",
       "  </tbody>\n",
       "</table>\n",
       "<p>193 rows × 12 columns</p>\n",
       "</div>"
      ],
      "text/plain": [
       "         index  Price VehicleType  RegistrationYear Gearbox  Power   Model  \\\n",
       "2102      2102      0       sedan              1999     NaN   1799  vectra   \n",
       "7661      7661   1499       small              1999  manual   7515    lupo   \n",
       "9664      9664   2599         NaN              2016  manual   1779  zafira   \n",
       "9875      9875    550       wagon              2003  manual   1753   focus   \n",
       "11039    11039      0       sedan              1998  manual  10317   other   \n",
       "...        ...    ...         ...               ...     ...    ...     ...   \n",
       "347751  348006    355       sedan              1998  manual   1799  vectra   \n",
       "347882  348137    850       sedan              1993    auto   9012    golf   \n",
       "347982  348237   3000       coupe              2007  manual   2007   corsa   \n",
       "348412  348668   1000       wagon              1996  manual   2598      a6   \n",
       "348626  348883   7500       sedan              2011  manual   1548  scenic   \n",
       "\n",
       "        Mileage  RegistrationMonth  FuelType       Brand NotRepaired  \n",
       "2102     150000                  1    petrol        opel         yes  \n",
       "7661     150000                  4    petrol  volkswagen         NaN  \n",
       "9664     150000                  0    petrol        opel          no  \n",
       "9875     150000                  1  gasoline        ford         yes  \n",
       "11039    150000                  8    petrol        fiat          no  \n",
       "...         ...                ...       ...         ...         ...  \n",
       "347751   150000                  6    petrol        opel         NaN  \n",
       "347882   150000                  0    petrol  volkswagen         NaN  \n",
       "347982   150000                  3  gasoline        opel         yes  \n",
       "348412   150000                  7       NaN        audi         NaN  \n",
       "348626    90000                  4    petrol     renault         NaN  \n",
       "\n",
       "[193 rows x 12 columns]"
      ]
     },
     "execution_count": 20,
     "metadata": {},
     "output_type": "execute_result"
    }
   ],
   "source": [
    "df_car.loc[df_car['Power'] > 1499]"
   ]
  },
  {
   "cell_type": "code",
   "execution_count": 21,
   "metadata": {},
   "outputs": [],
   "source": [
    "df_car = df_car.loc[df_car['Power'] <= 1499]"
   ]
  },
  {
   "cell_type": "markdown",
   "metadata": {},
   "source": [
    "A Google search reveals that the highest horsepower available fo a car in 2016  was 1,499. Values exceeding 1,499 indicate inaccurate data and constitute only 0.0005 of the entire datset. Consequently, these rows are discarded rather than being replaced with an estimate."
   ]
  },
  {
   "cell_type": "code",
   "execution_count": 22,
   "metadata": {},
   "outputs": [
    {
     "data": {
      "text/html": [
       "<div>\n",
       "<style scoped>\n",
       "    .dataframe tbody tr th:only-of-type {\n",
       "        vertical-align: middle;\n",
       "    }\n",
       "\n",
       "    .dataframe tbody tr th {\n",
       "        vertical-align: top;\n",
       "    }\n",
       "\n",
       "    .dataframe thead th {\n",
       "        text-align: right;\n",
       "    }\n",
       "</style>\n",
       "<table border=\"1\" class=\"dataframe\">\n",
       "  <thead>\n",
       "    <tr style=\"text-align: right;\">\n",
       "      <th></th>\n",
       "      <th>index</th>\n",
       "      <th>Price</th>\n",
       "      <th>VehicleType</th>\n",
       "      <th>RegistrationYear</th>\n",
       "      <th>Gearbox</th>\n",
       "      <th>Power</th>\n",
       "      <th>Model</th>\n",
       "      <th>Mileage</th>\n",
       "      <th>RegistrationMonth</th>\n",
       "      <th>FuelType</th>\n",
       "      <th>Brand</th>\n",
       "      <th>NotRepaired</th>\n",
       "    </tr>\n",
       "  </thead>\n",
       "  <tbody>\n",
       "    <tr>\n",
       "      <th>15</th>\n",
       "      <td>15</td>\n",
       "      <td>450</td>\n",
       "      <td>small</td>\n",
       "      <td>1910</td>\n",
       "      <td>NaN</td>\n",
       "      <td>0</td>\n",
       "      <td>ka</td>\n",
       "      <td>5000</td>\n",
       "      <td>0</td>\n",
       "      <td>petrol</td>\n",
       "      <td>ford</td>\n",
       "      <td>NaN</td>\n",
       "    </tr>\n",
       "    <tr>\n",
       "      <th>622</th>\n",
       "      <td>622</td>\n",
       "      <td>0</td>\n",
       "      <td>NaN</td>\n",
       "      <td>1111</td>\n",
       "      <td>NaN</td>\n",
       "      <td>0</td>\n",
       "      <td>NaN</td>\n",
       "      <td>5000</td>\n",
       "      <td>0</td>\n",
       "      <td>NaN</td>\n",
       "      <td>opel</td>\n",
       "      <td>NaN</td>\n",
       "    </tr>\n",
       "    <tr>\n",
       "      <th>1928</th>\n",
       "      <td>1928</td>\n",
       "      <td>7000</td>\n",
       "      <td>suv</td>\n",
       "      <td>1945</td>\n",
       "      <td>manual</td>\n",
       "      <td>48</td>\n",
       "      <td>other</td>\n",
       "      <td>150000</td>\n",
       "      <td>2</td>\n",
       "      <td>petrol</td>\n",
       "      <td>volkswagen</td>\n",
       "      <td>no</td>\n",
       "    </tr>\n",
       "    <tr>\n",
       "      <th>2273</th>\n",
       "      <td>2273</td>\n",
       "      <td>1800</td>\n",
       "      <td>convertible</td>\n",
       "      <td>1925</td>\n",
       "      <td>NaN</td>\n",
       "      <td>0</td>\n",
       "      <td>NaN</td>\n",
       "      <td>5000</td>\n",
       "      <td>1</td>\n",
       "      <td>NaN</td>\n",
       "      <td>sonstige_autos</td>\n",
       "      <td>no</td>\n",
       "    </tr>\n",
       "    <tr>\n",
       "      <th>3333</th>\n",
       "      <td>3333</td>\n",
       "      <td>10500</td>\n",
       "      <td>sedan</td>\n",
       "      <td>1955</td>\n",
       "      <td>manual</td>\n",
       "      <td>30</td>\n",
       "      <td>other</td>\n",
       "      <td>60000</td>\n",
       "      <td>0</td>\n",
       "      <td>petrol</td>\n",
       "      <td>ford</td>\n",
       "      <td>NaN</td>\n",
       "    </tr>\n",
       "    <tr>\n",
       "      <th>...</th>\n",
       "      <td>...</td>\n",
       "      <td>...</td>\n",
       "      <td>...</td>\n",
       "      <td>...</td>\n",
       "      <td>...</td>\n",
       "      <td>...</td>\n",
       "      <td>...</td>\n",
       "      <td>...</td>\n",
       "      <td>...</td>\n",
       "      <td>...</td>\n",
       "      <td>...</td>\n",
       "      <td>...</td>\n",
       "    </tr>\n",
       "    <tr>\n",
       "      <th>351041</th>\n",
       "      <td>351299</td>\n",
       "      <td>5500</td>\n",
       "      <td>bus</td>\n",
       "      <td>1956</td>\n",
       "      <td>manual</td>\n",
       "      <td>37</td>\n",
       "      <td>NaN</td>\n",
       "      <td>60000</td>\n",
       "      <td>4</td>\n",
       "      <td>petrol</td>\n",
       "      <td>sonstige_autos</td>\n",
       "      <td>no</td>\n",
       "    </tr>\n",
       "    <tr>\n",
       "      <th>351423</th>\n",
       "      <td>351682</td>\n",
       "      <td>11500</td>\n",
       "      <td>NaN</td>\n",
       "      <td>1800</td>\n",
       "      <td>NaN</td>\n",
       "      <td>16</td>\n",
       "      <td>other</td>\n",
       "      <td>5000</td>\n",
       "      <td>6</td>\n",
       "      <td>petrol</td>\n",
       "      <td>fiat</td>\n",
       "      <td>NaN</td>\n",
       "    </tr>\n",
       "    <tr>\n",
       "      <th>353270</th>\n",
       "      <td>353531</td>\n",
       "      <td>6000</td>\n",
       "      <td>sedan</td>\n",
       "      <td>1937</td>\n",
       "      <td>manual</td>\n",
       "      <td>38</td>\n",
       "      <td>other</td>\n",
       "      <td>5000</td>\n",
       "      <td>0</td>\n",
       "      <td>petrol</td>\n",
       "      <td>mercedes_benz</td>\n",
       "      <td>NaN</td>\n",
       "    </tr>\n",
       "    <tr>\n",
       "      <th>353699</th>\n",
       "      <td>353961</td>\n",
       "      <td>200</td>\n",
       "      <td>NaN</td>\n",
       "      <td>1910</td>\n",
       "      <td>NaN</td>\n",
       "      <td>0</td>\n",
       "      <td>NaN</td>\n",
       "      <td>5000</td>\n",
       "      <td>0</td>\n",
       "      <td>petrol</td>\n",
       "      <td>sonstige_autos</td>\n",
       "      <td>NaN</td>\n",
       "    </tr>\n",
       "    <tr>\n",
       "      <th>354054</th>\n",
       "      <td>354316</td>\n",
       "      <td>3300</td>\n",
       "      <td>coupe</td>\n",
       "      <td>1957</td>\n",
       "      <td>manual</td>\n",
       "      <td>40</td>\n",
       "      <td>other</td>\n",
       "      <td>100000</td>\n",
       "      <td>11</td>\n",
       "      <td>petrol</td>\n",
       "      <td>trabant</td>\n",
       "      <td>no</td>\n",
       "    </tr>\n",
       "  </tbody>\n",
       "</table>\n",
       "<p>419 rows × 12 columns</p>\n",
       "</div>"
      ],
      "text/plain": [
       "         index  Price  VehicleType  RegistrationYear Gearbox  Power  Model  \\\n",
       "15          15    450        small              1910     NaN      0     ka   \n",
       "622        622      0          NaN              1111     NaN      0    NaN   \n",
       "1928      1928   7000          suv              1945  manual     48  other   \n",
       "2273      2273   1800  convertible              1925     NaN      0    NaN   \n",
       "3333      3333  10500        sedan              1955  manual     30  other   \n",
       "...        ...    ...          ...               ...     ...    ...    ...   \n",
       "351041  351299   5500          bus              1956  manual     37    NaN   \n",
       "351423  351682  11500          NaN              1800     NaN     16  other   \n",
       "353270  353531   6000        sedan              1937  manual     38  other   \n",
       "353699  353961    200          NaN              1910     NaN      0    NaN   \n",
       "354054  354316   3300        coupe              1957  manual     40  other   \n",
       "\n",
       "        Mileage  RegistrationMonth FuelType           Brand NotRepaired  \n",
       "15         5000                  0   petrol            ford         NaN  \n",
       "622        5000                  0      NaN            opel         NaN  \n",
       "1928     150000                  2   petrol      volkswagen          no  \n",
       "2273       5000                  1      NaN  sonstige_autos          no  \n",
       "3333      60000                  0   petrol            ford         NaN  \n",
       "...         ...                ...      ...             ...         ...  \n",
       "351041    60000                  4   petrol  sonstige_autos          no  \n",
       "351423     5000                  6   petrol            fiat         NaN  \n",
       "353270     5000                  0   petrol   mercedes_benz         NaN  \n",
       "353699     5000                  0   petrol  sonstige_autos         NaN  \n",
       "354054   100000                 11   petrol         trabant          no  \n",
       "\n",
       "[419 rows x 12 columns]"
      ]
     },
     "execution_count": 22,
     "metadata": {},
     "output_type": "execute_result"
    }
   ],
   "source": [
    "df_car.loc[df_car['RegistrationYear'] < 1960]"
   ]
  },
  {
   "cell_type": "code",
   "execution_count": 23,
   "metadata": {},
   "outputs": [],
   "source": [
    "df_car = df_car.loc[df_car['RegistrationYear'] > 1960]"
   ]
  },
  {
   "cell_type": "markdown",
   "metadata": {},
   "source": [
    "0.001 of the dataset contains records with a registration year before 1960. These records could be errors or, more likely, indicate antique cars. Considering that it is highly unlikely for a used car older than 60 years to be sold compared to newer models, these records will also be discarded."
   ]
  },
  {
   "cell_type": "code",
   "execution_count": 24,
   "metadata": {},
   "outputs": [
    {
     "data": {
      "text/html": [
       "<div>\n",
       "<style scoped>\n",
       "    .dataframe tbody tr th:only-of-type {\n",
       "        vertical-align: middle;\n",
       "    }\n",
       "\n",
       "    .dataframe tbody tr th {\n",
       "        vertical-align: top;\n",
       "    }\n",
       "\n",
       "    .dataframe thead th {\n",
       "        text-align: right;\n",
       "    }\n",
       "</style>\n",
       "<table border=\"1\" class=\"dataframe\">\n",
       "  <thead>\n",
       "    <tr style=\"text-align: right;\">\n",
       "      <th></th>\n",
       "      <th>index</th>\n",
       "      <th>Price</th>\n",
       "      <th>VehicleType</th>\n",
       "      <th>RegistrationYear</th>\n",
       "      <th>Gearbox</th>\n",
       "      <th>Power</th>\n",
       "      <th>Model</th>\n",
       "      <th>Mileage</th>\n",
       "      <th>RegistrationMonth</th>\n",
       "      <th>FuelType</th>\n",
       "      <th>Brand</th>\n",
       "      <th>NotRepaired</th>\n",
       "    </tr>\n",
       "  </thead>\n",
       "  <tbody>\n",
       "    <tr>\n",
       "      <th>7</th>\n",
       "      <td>7</td>\n",
       "      <td>0</td>\n",
       "      <td>sedan</td>\n",
       "      <td>1980</td>\n",
       "      <td>manual</td>\n",
       "      <td>50</td>\n",
       "      <td>other</td>\n",
       "      <td>40000</td>\n",
       "      <td>7</td>\n",
       "      <td>petrol</td>\n",
       "      <td>volkswagen</td>\n",
       "      <td>no</td>\n",
       "    </tr>\n",
       "    <tr>\n",
       "      <th>40</th>\n",
       "      <td>40</td>\n",
       "      <td>0</td>\n",
       "      <td>NaN</td>\n",
       "      <td>1990</td>\n",
       "      <td>NaN</td>\n",
       "      <td>0</td>\n",
       "      <td>corsa</td>\n",
       "      <td>150000</td>\n",
       "      <td>1</td>\n",
       "      <td>petrol</td>\n",
       "      <td>opel</td>\n",
       "      <td>NaN</td>\n",
       "    </tr>\n",
       "    <tr>\n",
       "      <th>59</th>\n",
       "      <td>59</td>\n",
       "      <td>1</td>\n",
       "      <td>suv</td>\n",
       "      <td>1994</td>\n",
       "      <td>manual</td>\n",
       "      <td>286</td>\n",
       "      <td>NaN</td>\n",
       "      <td>150000</td>\n",
       "      <td>11</td>\n",
       "      <td>NaN</td>\n",
       "      <td>sonstige_autos</td>\n",
       "      <td>NaN</td>\n",
       "    </tr>\n",
       "    <tr>\n",
       "      <th>89</th>\n",
       "      <td>89</td>\n",
       "      <td>1</td>\n",
       "      <td>sedan</td>\n",
       "      <td>1995</td>\n",
       "      <td>manual</td>\n",
       "      <td>113</td>\n",
       "      <td>e_klasse</td>\n",
       "      <td>150000</td>\n",
       "      <td>4</td>\n",
       "      <td>gasoline</td>\n",
       "      <td>mercedes_benz</td>\n",
       "      <td>no</td>\n",
       "    </tr>\n",
       "    <tr>\n",
       "      <th>115</th>\n",
       "      <td>115</td>\n",
       "      <td>0</td>\n",
       "      <td>small</td>\n",
       "      <td>1999</td>\n",
       "      <td>NaN</td>\n",
       "      <td>0</td>\n",
       "      <td>NaN</td>\n",
       "      <td>5000</td>\n",
       "      <td>0</td>\n",
       "      <td>petrol</td>\n",
       "      <td>volkswagen</td>\n",
       "      <td>NaN</td>\n",
       "    </tr>\n",
       "  </tbody>\n",
       "</table>\n",
       "</div>"
      ],
      "text/plain": [
       "     index  Price VehicleType  RegistrationYear Gearbox  Power     Model  \\\n",
       "7        7      0       sedan              1980  manual     50     other   \n",
       "40      40      0         NaN              1990     NaN      0     corsa   \n",
       "59      59      1         suv              1994  manual    286       NaN   \n",
       "89      89      1       sedan              1995  manual    113  e_klasse   \n",
       "115    115      0       small              1999     NaN      0       NaN   \n",
       "\n",
       "     Mileage  RegistrationMonth  FuelType           Brand NotRepaired  \n",
       "7      40000                  7    petrol      volkswagen          no  \n",
       "40    150000                  1    petrol            opel         NaN  \n",
       "59    150000                 11       NaN  sonstige_autos         NaN  \n",
       "89    150000                  4  gasoline   mercedes_benz          no  \n",
       "115     5000                  0    petrol      volkswagen         NaN  "
      ]
     },
     "execution_count": 24,
     "metadata": {},
     "output_type": "execute_result"
    }
   ],
   "source": [
    "df_car.loc[df_car['Price'] <= 100].head()"
   ]
  },
  {
   "cell_type": "code",
   "execution_count": 25,
   "metadata": {},
   "outputs": [],
   "source": [
    "df_car = df_car.loc[df_car['Price'] > 100]"
   ]
  },
  {
   "cell_type": "markdown",
   "metadata": {},
   "source": [
    "Entries with a price of 100 or less will be excluded form the analysis. It is highly unlikely that a user would sell their car for such a low price. Therefore, dropping these rows will help prevent any potential bias in the results. Price is the primary variable of interest here, so this action is necessary to ensure the accuracy of the analysis."
   ]
  },
  {
   "cell_type": "code",
   "execution_count": 26,
   "metadata": {},
   "outputs": [
    {
     "data": {
      "text/plain": [
       "VehicleType\n",
       "sedan          88730\n",
       "small          76885\n",
       "wagon          63278\n",
       "bus            28211\n",
       "convertible    19750\n",
       "coupe          15487\n",
       "suv            11715\n",
       "other           2996\n",
       "Name: count, dtype: int64"
      ]
     },
     "execution_count": 26,
     "metadata": {},
     "output_type": "execute_result"
    }
   ],
   "source": [
    "# checking these columns for unusual values\n",
    "df_car['VehicleType'].value_counts()"
   ]
  },
  {
   "cell_type": "code",
   "execution_count": 27,
   "metadata": {},
   "outputs": [
    {
     "data": {
      "text/plain": [
       "Gearbox\n",
       "manual    248603\n",
       "auto       62657\n",
       "Name: count, dtype: int64"
      ]
     },
     "execution_count": 27,
     "metadata": {},
     "output_type": "execute_result"
    }
   ],
   "source": [
    "df_car['Gearbox'].value_counts()"
   ]
  },
  {
   "cell_type": "code",
   "execution_count": 28,
   "metadata": {},
   "outputs": [
    {
     "data": {
      "text/plain": [
       "Model\n",
       "golf                  26459\n",
       "other                 22727\n",
       "3er                   18532\n",
       "polo                  11808\n",
       "corsa                 11316\n",
       "                      ...  \n",
       "kalina                    6\n",
       "rangerover                3\n",
       "serie_3                   3\n",
       "range_rover_evoque        2\n",
       "serie_1                   1\n",
       "Name: count, Length: 250, dtype: int64"
      ]
     },
     "execution_count": 28,
     "metadata": {},
     "output_type": "execute_result"
    }
   ],
   "source": [
    "df_car['Model'].value_counts()"
   ]
  },
  {
   "cell_type": "code",
   "execution_count": 29,
   "metadata": {},
   "outputs": [
    {
     "data": {
      "text/plain": [
       "FuelType\n",
       "petrol      202398\n",
       "gasoline     94483\n",
       "lpg           5006\n",
       "cng            527\n",
       "hybrid         219\n",
       "other          146\n",
       "electric        85\n",
       "Name: count, dtype: int64"
      ]
     },
     "execution_count": 29,
     "metadata": {},
     "output_type": "execute_result"
    }
   ],
   "source": [
    "df_car['FuelType'].value_counts()"
   ]
  },
  {
   "cell_type": "code",
   "execution_count": 30,
   "metadata": {},
   "outputs": [
    {
     "data": {
      "text/plain": [
       "Brand\n",
       "volkswagen        69998\n",
       "opel              36062\n",
       "bmw               34429\n",
       "mercedes_benz     30129\n",
       "audi              27441\n",
       "ford              23044\n",
       "renault           16157\n",
       "peugeot           10306\n",
       "fiat               8725\n",
       "seat               6282\n",
       "skoda              5270\n",
       "mazda              5204\n",
       "smart              4935\n",
       "citroen            4723\n",
       "nissan             4567\n",
       "toyota             4377\n",
       "hyundai            3375\n",
       "mini               3048\n",
       "volvo              3021\n",
       "mitsubishi         2785\n",
       "honda              2574\n",
       "sonstige_autos     2438\n",
       "kia                2288\n",
       "suzuki             2170\n",
       "alfa_romeo         2120\n",
       "chevrolet          1633\n",
       "chrysler           1304\n",
       "dacia               861\n",
       "daihatsu            727\n",
       "subaru              701\n",
       "porsche             691\n",
       "jeep                617\n",
       "land_rover          525\n",
       "saab                501\n",
       "daewoo              492\n",
       "jaguar              481\n",
       "trabant             445\n",
       "rover               427\n",
       "lancia              425\n",
       "lada                206\n",
       "Name: count, dtype: int64"
      ]
     },
     "execution_count": 30,
     "metadata": {},
     "output_type": "execute_result"
    }
   ],
   "source": [
    "df_car['Brand'].value_counts()"
   ]
  },
  {
   "cell_type": "code",
   "execution_count": 31,
   "metadata": {},
   "outputs": [
    {
     "data": {
      "text/html": [
       "<div>\n",
       "<style scoped>\n",
       "    .dataframe tbody tr th:only-of-type {\n",
       "        vertical-align: middle;\n",
       "    }\n",
       "\n",
       "    .dataframe tbody tr th {\n",
       "        vertical-align: top;\n",
       "    }\n",
       "\n",
       "    .dataframe thead th {\n",
       "        text-align: right;\n",
       "    }\n",
       "</style>\n",
       "<table border=\"1\" class=\"dataframe\">\n",
       "  <thead>\n",
       "    <tr style=\"text-align: right;\">\n",
       "      <th></th>\n",
       "      <th>index</th>\n",
       "      <th>Price</th>\n",
       "      <th>VehicleType</th>\n",
       "      <th>RegistrationYear</th>\n",
       "      <th>Gearbox</th>\n",
       "      <th>Power</th>\n",
       "      <th>Model</th>\n",
       "      <th>Mileage</th>\n",
       "      <th>RegistrationMonth</th>\n",
       "      <th>FuelType</th>\n",
       "      <th>Brand</th>\n",
       "      <th>NotRepaired</th>\n",
       "    </tr>\n",
       "  </thead>\n",
       "  <tbody>\n",
       "    <tr>\n",
       "      <th>0</th>\n",
       "      <td>0</td>\n",
       "      <td>480</td>\n",
       "      <td>NaN</td>\n",
       "      <td>1993</td>\n",
       "      <td>manual</td>\n",
       "      <td>0</td>\n",
       "      <td>golf</td>\n",
       "      <td>150000</td>\n",
       "      <td>0</td>\n",
       "      <td>petrol</td>\n",
       "      <td>volkswagen</td>\n",
       "      <td>NaN</td>\n",
       "    </tr>\n",
       "    <tr>\n",
       "      <th>9</th>\n",
       "      <td>9</td>\n",
       "      <td>999</td>\n",
       "      <td>small</td>\n",
       "      <td>1998</td>\n",
       "      <td>manual</td>\n",
       "      <td>101</td>\n",
       "      <td>golf</td>\n",
       "      <td>150000</td>\n",
       "      <td>0</td>\n",
       "      <td>NaN</td>\n",
       "      <td>volkswagen</td>\n",
       "      <td>NaN</td>\n",
       "    </tr>\n",
       "    <tr>\n",
       "      <th>16</th>\n",
       "      <td>16</td>\n",
       "      <td>300</td>\n",
       "      <td>NaN</td>\n",
       "      <td>2016</td>\n",
       "      <td>NaN</td>\n",
       "      <td>60</td>\n",
       "      <td>polo</td>\n",
       "      <td>150000</td>\n",
       "      <td>0</td>\n",
       "      <td>petrol</td>\n",
       "      <td>volkswagen</td>\n",
       "      <td>NaN</td>\n",
       "    </tr>\n",
       "    <tr>\n",
       "      <th>36</th>\n",
       "      <td>36</td>\n",
       "      <td>1600</td>\n",
       "      <td>other</td>\n",
       "      <td>1991</td>\n",
       "      <td>manual</td>\n",
       "      <td>75</td>\n",
       "      <td>kadett</td>\n",
       "      <td>70000</td>\n",
       "      <td>0</td>\n",
       "      <td>NaN</td>\n",
       "      <td>opel</td>\n",
       "      <td>NaN</td>\n",
       "    </tr>\n",
       "    <tr>\n",
       "      <th>54</th>\n",
       "      <td>54</td>\n",
       "      <td>4700</td>\n",
       "      <td>wagon</td>\n",
       "      <td>2005</td>\n",
       "      <td>manual</td>\n",
       "      <td>0</td>\n",
       "      <td>signum</td>\n",
       "      <td>150000</td>\n",
       "      <td>0</td>\n",
       "      <td>NaN</td>\n",
       "      <td>opel</td>\n",
       "      <td>no</td>\n",
       "    </tr>\n",
       "  </tbody>\n",
       "</table>\n",
       "</div>"
      ],
      "text/plain": [
       "    index  Price VehicleType  RegistrationYear Gearbox  Power   Model  \\\n",
       "0       0    480         NaN              1993  manual      0    golf   \n",
       "9       9    999       small              1998  manual    101    golf   \n",
       "16     16    300         NaN              2016     NaN     60    polo   \n",
       "36     36   1600       other              1991  manual     75  kadett   \n",
       "54     54   4700       wagon              2005  manual      0  signum   \n",
       "\n",
       "    Mileage  RegistrationMonth FuelType       Brand NotRepaired  \n",
       "0    150000                  0   petrol  volkswagen         NaN  \n",
       "9    150000                  0      NaN  volkswagen         NaN  \n",
       "16   150000                  0   petrol  volkswagen         NaN  \n",
       "36    70000                  0      NaN        opel         NaN  \n",
       "54   150000                  0      NaN        opel          no  "
      ]
     },
     "execution_count": 31,
     "metadata": {},
     "output_type": "execute_result"
    }
   ],
   "source": [
    "# inspecting 0 values in registration month and power\n",
    "df_car.loc[df_car['RegistrationMonth'] == 0].head()"
   ]
  },
  {
   "cell_type": "code",
   "execution_count": 32,
   "metadata": {},
   "outputs": [],
   "source": [
    "df_car = df_car.loc[df_car['RegistrationMonth'] > 0]"
   ]
  },
  {
   "cell_type": "markdown",
   "metadata": {},
   "source": [
    "The correct range for Registration month is from 1 to 12. It is challenging to precisely determine the correct registration month, so entries with a Registration month of 0 will be dropped."
   ]
  },
  {
   "cell_type": "code",
   "execution_count": 33,
   "metadata": {},
   "outputs": [
    {
     "data": {
      "text/html": [
       "<div>\n",
       "<style scoped>\n",
       "    .dataframe tbody tr th:only-of-type {\n",
       "        vertical-align: middle;\n",
       "    }\n",
       "\n",
       "    .dataframe tbody tr th {\n",
       "        vertical-align: top;\n",
       "    }\n",
       "\n",
       "    .dataframe thead th {\n",
       "        text-align: right;\n",
       "    }\n",
       "</style>\n",
       "<table border=\"1\" class=\"dataframe\">\n",
       "  <thead>\n",
       "    <tr style=\"text-align: right;\">\n",
       "      <th></th>\n",
       "      <th>index</th>\n",
       "      <th>Price</th>\n",
       "      <th>VehicleType</th>\n",
       "      <th>RegistrationYear</th>\n",
       "      <th>Gearbox</th>\n",
       "      <th>Power</th>\n",
       "      <th>Model</th>\n",
       "      <th>Mileage</th>\n",
       "      <th>RegistrationMonth</th>\n",
       "      <th>FuelType</th>\n",
       "      <th>Brand</th>\n",
       "      <th>NotRepaired</th>\n",
       "    </tr>\n",
       "  </thead>\n",
       "  <tbody>\n",
       "    <tr>\n",
       "      <th>32</th>\n",
       "      <td>32</td>\n",
       "      <td>245</td>\n",
       "      <td>sedan</td>\n",
       "      <td>1994</td>\n",
       "      <td>NaN</td>\n",
       "      <td>0</td>\n",
       "      <td>golf</td>\n",
       "      <td>150000</td>\n",
       "      <td>2</td>\n",
       "      <td>petrol</td>\n",
       "      <td>volkswagen</td>\n",
       "      <td>no</td>\n",
       "    </tr>\n",
       "    <tr>\n",
       "      <th>37</th>\n",
       "      <td>37</td>\n",
       "      <td>1500</td>\n",
       "      <td>NaN</td>\n",
       "      <td>2016</td>\n",
       "      <td>NaN</td>\n",
       "      <td>0</td>\n",
       "      <td>kangoo</td>\n",
       "      <td>150000</td>\n",
       "      <td>1</td>\n",
       "      <td>gasoline</td>\n",
       "      <td>renault</td>\n",
       "      <td>no</td>\n",
       "    </tr>\n",
       "    <tr>\n",
       "      <th>55</th>\n",
       "      <td>55</td>\n",
       "      <td>550</td>\n",
       "      <td>wagon</td>\n",
       "      <td>1999</td>\n",
       "      <td>manual</td>\n",
       "      <td>0</td>\n",
       "      <td>astra</td>\n",
       "      <td>150000</td>\n",
       "      <td>8</td>\n",
       "      <td>gasoline</td>\n",
       "      <td>opel</td>\n",
       "      <td>yes</td>\n",
       "    </tr>\n",
       "    <tr>\n",
       "      <th>70</th>\n",
       "      <td>70</td>\n",
       "      <td>800</td>\n",
       "      <td>small</td>\n",
       "      <td>1993</td>\n",
       "      <td>manual</td>\n",
       "      <td>0</td>\n",
       "      <td>polo</td>\n",
       "      <td>150000</td>\n",
       "      <td>3</td>\n",
       "      <td>petrol</td>\n",
       "      <td>volkswagen</td>\n",
       "      <td>no</td>\n",
       "    </tr>\n",
       "    <tr>\n",
       "      <th>90</th>\n",
       "      <td>90</td>\n",
       "      <td>2400</td>\n",
       "      <td>sedan</td>\n",
       "      <td>2003</td>\n",
       "      <td>manual</td>\n",
       "      <td>0</td>\n",
       "      <td>a4</td>\n",
       "      <td>150000</td>\n",
       "      <td>9</td>\n",
       "      <td>gasoline</td>\n",
       "      <td>audi</td>\n",
       "      <td>NaN</td>\n",
       "    </tr>\n",
       "  </tbody>\n",
       "</table>\n",
       "</div>"
      ],
      "text/plain": [
       "    index  Price VehicleType  RegistrationYear Gearbox  Power   Model  \\\n",
       "32     32    245       sedan              1994     NaN      0    golf   \n",
       "37     37   1500         NaN              2016     NaN      0  kangoo   \n",
       "55     55    550       wagon              1999  manual      0   astra   \n",
       "70     70    800       small              1993  manual      0    polo   \n",
       "90     90   2400       sedan              2003  manual      0      a4   \n",
       "\n",
       "    Mileage  RegistrationMonth  FuelType       Brand NotRepaired  \n",
       "32   150000                  2    petrol  volkswagen          no  \n",
       "37   150000                  1  gasoline     renault          no  \n",
       "55   150000                  8  gasoline        opel         yes  \n",
       "70   150000                  3    petrol  volkswagen          no  \n",
       "90   150000                  9  gasoline        audi         NaN  "
      ]
     },
     "execution_count": 33,
     "metadata": {},
     "output_type": "execute_result"
    }
   ],
   "source": [
    "df_car.loc[df_car['Power'] == 0].head()"
   ]
  },
  {
   "cell_type": "code",
   "execution_count": 34,
   "metadata": {},
   "outputs": [],
   "source": [
    "df_car = df_car.loc[df_car['Power'] > 0]"
   ]
  },
  {
   "cell_type": "markdown",
   "metadata": {},
   "source": [
    "Since the datset spans a wide range of years and horsepower has significantly increased over time, it becomes challenging  to determine the accurate horsepower for these entries. Consequently, these rows will be removed from the dataset. "
   ]
  },
  {
   "cell_type": "code",
   "execution_count": 35,
   "metadata": {},
   "outputs": [
    {
     "data": {
      "text/html": [
       "<div>\n",
       "<style scoped>\n",
       "    .dataframe tbody tr th:only-of-type {\n",
       "        vertical-align: middle;\n",
       "    }\n",
       "\n",
       "    .dataframe tbody tr th {\n",
       "        vertical-align: top;\n",
       "    }\n",
       "\n",
       "    .dataframe thead th {\n",
       "        text-align: right;\n",
       "    }\n",
       "</style>\n",
       "<table border=\"1\" class=\"dataframe\">\n",
       "  <thead>\n",
       "    <tr style=\"text-align: right;\">\n",
       "      <th></th>\n",
       "      <th>index</th>\n",
       "      <th>Price</th>\n",
       "      <th>VehicleType</th>\n",
       "      <th>RegistrationYear</th>\n",
       "      <th>Gearbox</th>\n",
       "      <th>Power</th>\n",
       "      <th>Model</th>\n",
       "      <th>Mileage</th>\n",
       "      <th>RegistrationMonth</th>\n",
       "      <th>FuelType</th>\n",
       "      <th>Brand</th>\n",
       "      <th>NotRepaired</th>\n",
       "    </tr>\n",
       "  </thead>\n",
       "  <tbody>\n",
       "    <tr>\n",
       "      <th>1</th>\n",
       "      <td>1</td>\n",
       "      <td>18300</td>\n",
       "      <td>coupe</td>\n",
       "      <td>2011</td>\n",
       "      <td>manual</td>\n",
       "      <td>190</td>\n",
       "      <td>NaN</td>\n",
       "      <td>125000</td>\n",
       "      <td>5</td>\n",
       "      <td>gasoline</td>\n",
       "      <td>audi</td>\n",
       "      <td>yes</td>\n",
       "    </tr>\n",
       "    <tr>\n",
       "      <th>81</th>\n",
       "      <td>81</td>\n",
       "      <td>350</td>\n",
       "      <td>small</td>\n",
       "      <td>1997</td>\n",
       "      <td>manual</td>\n",
       "      <td>54</td>\n",
       "      <td>NaN</td>\n",
       "      <td>150000</td>\n",
       "      <td>3</td>\n",
       "      <td>NaN</td>\n",
       "      <td>fiat</td>\n",
       "      <td>yes</td>\n",
       "    </tr>\n",
       "    <tr>\n",
       "      <th>151</th>\n",
       "      <td>151</td>\n",
       "      <td>6799</td>\n",
       "      <td>small</td>\n",
       "      <td>2009</td>\n",
       "      <td>NaN</td>\n",
       "      <td>60</td>\n",
       "      <td>NaN</td>\n",
       "      <td>20000</td>\n",
       "      <td>5</td>\n",
       "      <td>petrol</td>\n",
       "      <td>volkswagen</td>\n",
       "      <td>no</td>\n",
       "    </tr>\n",
       "    <tr>\n",
       "      <th>161</th>\n",
       "      <td>161</td>\n",
       "      <td>1495</td>\n",
       "      <td>wagon</td>\n",
       "      <td>2001</td>\n",
       "      <td>NaN</td>\n",
       "      <td>64</td>\n",
       "      <td>NaN</td>\n",
       "      <td>150000</td>\n",
       "      <td>9</td>\n",
       "      <td>gasoline</td>\n",
       "      <td>volkswagen</td>\n",
       "      <td>NaN</td>\n",
       "    </tr>\n",
       "    <tr>\n",
       "      <th>273</th>\n",
       "      <td>273</td>\n",
       "      <td>1500</td>\n",
       "      <td>coupe</td>\n",
       "      <td>1994</td>\n",
       "      <td>manual</td>\n",
       "      <td>116</td>\n",
       "      <td>NaN</td>\n",
       "      <td>150000</td>\n",
       "      <td>8</td>\n",
       "      <td>NaN</td>\n",
       "      <td>audi</td>\n",
       "      <td>no</td>\n",
       "    </tr>\n",
       "  </tbody>\n",
       "</table>\n",
       "</div>"
      ],
      "text/plain": [
       "     index  Price VehicleType  RegistrationYear Gearbox  Power Model  Mileage  \\\n",
       "1        1  18300       coupe              2011  manual    190   NaN   125000   \n",
       "81      81    350       small              1997  manual     54   NaN   150000   \n",
       "151    151   6799       small              2009     NaN     60   NaN    20000   \n",
       "161    161   1495       wagon              2001     NaN     64   NaN   150000   \n",
       "273    273   1500       coupe              1994  manual    116   NaN   150000   \n",
       "\n",
       "     RegistrationMonth  FuelType       Brand NotRepaired  \n",
       "1                    5  gasoline        audi         yes  \n",
       "81                   3       NaN        fiat         yes  \n",
       "151                  5    petrol  volkswagen          no  \n",
       "161                  9  gasoline  volkswagen         NaN  \n",
       "273                  8       NaN        audi          no  "
      ]
     },
     "execution_count": 35,
     "metadata": {},
     "output_type": "execute_result"
    }
   ],
   "source": [
    "# missing values in model\n",
    "df_car.loc[df_car['Model'].isna()].head()"
   ]
  },
  {
   "cell_type": "code",
   "execution_count": 36,
   "metadata": {},
   "outputs": [
    {
     "data": {
      "text/plain": [
       "<Axes: >"
      ]
     },
     "execution_count": 36,
     "metadata": {},
     "output_type": "execute_result"
    },
    {
     "data": {
      "image/png": "[encoded data removed]",
      "text/plain": [
       "<Figure size 640x480 with 1 Axes>"
      ]
     },
     "metadata": {},
     "output_type": "display_data"
    }
   ],
   "source": [
    "df_car.loc[df_car['Model'] == 'other', 'Price'].hist()"
   ]
  },
  {
   "cell_type": "code",
   "execution_count": 37,
   "metadata": {},
   "outputs": [
    {
     "data": {
      "text/plain": [
       "Model\n",
       "100         1300.0\n",
       "145          750.0\n",
       "147         2000.0\n",
       "156         1350.0\n",
       "159         6500.0\n",
       "            ...   \n",
       "yaris       3500.0\n",
       "yeti       12990.0\n",
       "ypsilon      999.0\n",
       "z_reihe     9900.0\n",
       "zafira      3299.0\n",
       "Name: Price, Length: 249, dtype: float64"
      ]
     },
     "execution_count": 37,
     "metadata": {},
     "output_type": "execute_result"
    }
   ],
   "source": [
    "df_car.groupby('Model')['Price'].median()"
   ]
  },
  {
   "cell_type": "code",
   "execution_count": 38,
   "metadata": {},
   "outputs": [],
   "source": [
    "# filled in NaN with unknown\n",
    "df_car['Model'] = df_car['Model'].fillna('unknown')"
   ]
  },
  {
   "cell_type": "markdown",
   "metadata": {},
   "source": [
    "Initially, I thought of grouping NA values in the Model column into the 'other' category. However, after understanding that the model significantly impacts the final price of a car, I decided to remove the rows containing NA and 'other' values in the Model column."
   ]
  },
  {
   "cell_type": "code",
   "execution_count": 39,
   "metadata": {},
   "outputs": [
    {
     "data": {
      "text/html": [
       "<div>\n",
       "<style scoped>\n",
       "    .dataframe tbody tr th:only-of-type {\n",
       "        vertical-align: middle;\n",
       "    }\n",
       "\n",
       "    .dataframe tbody tr th {\n",
       "        vertical-align: top;\n",
       "    }\n",
       "\n",
       "    .dataframe thead th {\n",
       "        text-align: right;\n",
       "    }\n",
       "</style>\n",
       "<table border=\"1\" class=\"dataframe\">\n",
       "  <thead>\n",
       "    <tr style=\"text-align: right;\">\n",
       "      <th></th>\n",
       "      <th>index</th>\n",
       "      <th>Price</th>\n",
       "      <th>VehicleType</th>\n",
       "      <th>RegistrationYear</th>\n",
       "      <th>Gearbox</th>\n",
       "      <th>Power</th>\n",
       "      <th>Model</th>\n",
       "      <th>Mileage</th>\n",
       "      <th>RegistrationMonth</th>\n",
       "      <th>FuelType</th>\n",
       "      <th>Brand</th>\n",
       "      <th>NotRepaired</th>\n",
       "    </tr>\n",
       "  </thead>\n",
       "  <tbody>\n",
       "    <tr>\n",
       "      <th>31</th>\n",
       "      <td>31</td>\n",
       "      <td>899</td>\n",
       "      <td>NaN</td>\n",
       "      <td>2016</td>\n",
       "      <td>manual</td>\n",
       "      <td>60</td>\n",
       "      <td>clio</td>\n",
       "      <td>150000</td>\n",
       "      <td>6</td>\n",
       "      <td>petrol</td>\n",
       "      <td>renault</td>\n",
       "      <td>NaN</td>\n",
       "    </tr>\n",
       "    <tr>\n",
       "      <th>35</th>\n",
       "      <td>35</td>\n",
       "      <td>350</td>\n",
       "      <td>NaN</td>\n",
       "      <td>2016</td>\n",
       "      <td>manual</td>\n",
       "      <td>75</td>\n",
       "      <td>golf</td>\n",
       "      <td>150000</td>\n",
       "      <td>4</td>\n",
       "      <td>petrol</td>\n",
       "      <td>volkswagen</td>\n",
       "      <td>no</td>\n",
       "    </tr>\n",
       "    <tr>\n",
       "      <th>52</th>\n",
       "      <td>52</td>\n",
       "      <td>1400</td>\n",
       "      <td>NaN</td>\n",
       "      <td>2016</td>\n",
       "      <td>manual</td>\n",
       "      <td>55</td>\n",
       "      <td>other</td>\n",
       "      <td>5000</td>\n",
       "      <td>1</td>\n",
       "      <td>NaN</td>\n",
       "      <td>hyundai</td>\n",
       "      <td>NaN</td>\n",
       "    </tr>\n",
       "    <tr>\n",
       "      <th>71</th>\n",
       "      <td>71</td>\n",
       "      <td>2300</td>\n",
       "      <td>NaN</td>\n",
       "      <td>1997</td>\n",
       "      <td>manual</td>\n",
       "      <td>150</td>\n",
       "      <td>5er</td>\n",
       "      <td>150000</td>\n",
       "      <td>3</td>\n",
       "      <td>NaN</td>\n",
       "      <td>bmw</td>\n",
       "      <td>no</td>\n",
       "    </tr>\n",
       "    <tr>\n",
       "      <th>77</th>\n",
       "      <td>77</td>\n",
       "      <td>800</td>\n",
       "      <td>NaN</td>\n",
       "      <td>2000</td>\n",
       "      <td>manual</td>\n",
       "      <td>90</td>\n",
       "      <td>golf</td>\n",
       "      <td>150000</td>\n",
       "      <td>2</td>\n",
       "      <td>gasoline</td>\n",
       "      <td>volkswagen</td>\n",
       "      <td>NaN</td>\n",
       "    </tr>\n",
       "    <tr>\n",
       "      <th>...</th>\n",
       "      <td>...</td>\n",
       "      <td>...</td>\n",
       "      <td>...</td>\n",
       "      <td>...</td>\n",
       "      <td>...</td>\n",
       "      <td>...</td>\n",
       "      <td>...</td>\n",
       "      <td>...</td>\n",
       "      <td>...</td>\n",
       "      <td>...</td>\n",
       "      <td>...</td>\n",
       "      <td>...</td>\n",
       "    </tr>\n",
       "    <tr>\n",
       "      <th>353806</th>\n",
       "      <td>354068</td>\n",
       "      <td>3700</td>\n",
       "      <td>NaN</td>\n",
       "      <td>2016</td>\n",
       "      <td>manual</td>\n",
       "      <td>90</td>\n",
       "      <td>golf</td>\n",
       "      <td>150000</td>\n",
       "      <td>4</td>\n",
       "      <td>gasoline</td>\n",
       "      <td>volkswagen</td>\n",
       "      <td>NaN</td>\n",
       "    </tr>\n",
       "    <tr>\n",
       "      <th>353845</th>\n",
       "      <td>354107</td>\n",
       "      <td>395</td>\n",
       "      <td>NaN</td>\n",
       "      <td>2016</td>\n",
       "      <td>manual</td>\n",
       "      <td>60</td>\n",
       "      <td>golf</td>\n",
       "      <td>150000</td>\n",
       "      <td>12</td>\n",
       "      <td>petrol</td>\n",
       "      <td>volkswagen</td>\n",
       "      <td>NaN</td>\n",
       "    </tr>\n",
       "    <tr>\n",
       "      <th>353853</th>\n",
       "      <td>354115</td>\n",
       "      <td>299</td>\n",
       "      <td>NaN</td>\n",
       "      <td>2016</td>\n",
       "      <td>manual</td>\n",
       "      <td>60</td>\n",
       "      <td>astra</td>\n",
       "      <td>150000</td>\n",
       "      <td>4</td>\n",
       "      <td>petrol</td>\n",
       "      <td>opel</td>\n",
       "      <td>yes</td>\n",
       "    </tr>\n",
       "    <tr>\n",
       "      <th>354089</th>\n",
       "      <td>354351</td>\n",
       "      <td>1900</td>\n",
       "      <td>NaN</td>\n",
       "      <td>2000</td>\n",
       "      <td>manual</td>\n",
       "      <td>110</td>\n",
       "      <td>unknown</td>\n",
       "      <td>150000</td>\n",
       "      <td>7</td>\n",
       "      <td>NaN</td>\n",
       "      <td>volkswagen</td>\n",
       "      <td>no</td>\n",
       "    </tr>\n",
       "    <tr>\n",
       "      <th>354099</th>\n",
       "      <td>354361</td>\n",
       "      <td>5250</td>\n",
       "      <td>NaN</td>\n",
       "      <td>2016</td>\n",
       "      <td>auto</td>\n",
       "      <td>150</td>\n",
       "      <td>159</td>\n",
       "      <td>150000</td>\n",
       "      <td>12</td>\n",
       "      <td>NaN</td>\n",
       "      <td>alfa_romeo</td>\n",
       "      <td>no</td>\n",
       "    </tr>\n",
       "  </tbody>\n",
       "</table>\n",
       "<p>7420 rows × 12 columns</p>\n",
       "</div>"
      ],
      "text/plain": [
       "         index  Price VehicleType  RegistrationYear Gearbox  Power    Model  \\\n",
       "31          31    899         NaN              2016  manual     60     clio   \n",
       "35          35    350         NaN              2016  manual     75     golf   \n",
       "52          52   1400         NaN              2016  manual     55    other   \n",
       "71          71   2300         NaN              1997  manual    150      5er   \n",
       "77          77    800         NaN              2000  manual     90     golf   \n",
       "...        ...    ...         ...               ...     ...    ...      ...   \n",
       "353806  354068   3700         NaN              2016  manual     90     golf   \n",
       "353845  354107    395         NaN              2016  manual     60     golf   \n",
       "353853  354115    299         NaN              2016  manual     60    astra   \n",
       "354089  354351   1900         NaN              2000  manual    110  unknown   \n",
       "354099  354361   5250         NaN              2016    auto    150      159   \n",
       "\n",
       "        Mileage  RegistrationMonth  FuelType       Brand NotRepaired  \n",
       "31       150000                  6    petrol     renault         NaN  \n",
       "35       150000                  4    petrol  volkswagen          no  \n",
       "52         5000                  1       NaN     hyundai         NaN  \n",
       "71       150000                  3       NaN         bmw          no  \n",
       "77       150000                  2  gasoline  volkswagen         NaN  \n",
       "...         ...                ...       ...         ...         ...  \n",
       "353806   150000                  4  gasoline  volkswagen         NaN  \n",
       "353845   150000                 12    petrol  volkswagen         NaN  \n",
       "353853   150000                  4    petrol        opel         yes  \n",
       "354089   150000                  7       NaN  volkswagen          no  \n",
       "354099   150000                 12       NaN  alfa_romeo          no  \n",
       "\n",
       "[7420 rows x 12 columns]"
      ]
     },
     "execution_count": 39,
     "metadata": {},
     "output_type": "execute_result"
    }
   ],
   "source": [
    "df_car.loc[df_car['VehicleType'].isna()]"
   ]
  },
  {
   "cell_type": "code",
   "execution_count": 40,
   "metadata": {},
   "outputs": [
    {
     "name": "stderr",
     "output_type": "stream",
     "text": [
      "C:\\Users\\IU STUDENT\\AppData\\Local\\Temp\\ipykernel_9608\\3277406770.py:1: FutureWarning: A value is trying to be set on a copy of a DataFrame or Series through chained assignment using an inplace method.\n",
      "The behavior will change in pandas 3.0. This inplace method will never work because the intermediate object on which we are setting values always behaves as a copy.\n",
      "\n",
      "For example, when doing 'df[col].method(value, inplace=True)', try using 'df.method({col: value}, inplace=True)' or df[col] = df[col].method(value) instead, to perform the operation inplace on the original object.\n",
      "\n",
      "\n",
      "  df_car['VehicleType'].fillna(df_car.groupby('Model')['VehicleType'].transform(lambda x:x.value_counts().index[0]), inplace=True)\n"
     ]
    }
   ],
   "source": [
    "df_car['VehicleType'].fillna(df_car.groupby('Model')['VehicleType'].transform(lambda x:x.value_counts().index[0]), inplace=True)"
   ]
  },
  {
   "cell_type": "markdown",
   "metadata": {},
   "source": [
    "VehicleType's NA values are replaced with the mode of each car model because vehicle type usually remains consistent with the car model."
   ]
  },
  {
   "cell_type": "code",
   "execution_count": 41,
   "metadata": {},
   "outputs": [
    {
     "data": {
      "text/html": [
       "<div>\n",
       "<style scoped>\n",
       "    .dataframe tbody tr th:only-of-type {\n",
       "        vertical-align: middle;\n",
       "    }\n",
       "\n",
       "    .dataframe tbody tr th {\n",
       "        vertical-align: top;\n",
       "    }\n",
       "\n",
       "    .dataframe thead th {\n",
       "        text-align: right;\n",
       "    }\n",
       "</style>\n",
       "<table border=\"1\" class=\"dataframe\">\n",
       "  <thead>\n",
       "    <tr style=\"text-align: right;\">\n",
       "      <th></th>\n",
       "      <th>index</th>\n",
       "      <th>Price</th>\n",
       "      <th>VehicleType</th>\n",
       "      <th>RegistrationYear</th>\n",
       "      <th>Gearbox</th>\n",
       "      <th>Power</th>\n",
       "      <th>Model</th>\n",
       "      <th>Mileage</th>\n",
       "      <th>RegistrationMonth</th>\n",
       "      <th>FuelType</th>\n",
       "      <th>Brand</th>\n",
       "      <th>NotRepaired</th>\n",
       "    </tr>\n",
       "  </thead>\n",
       "  <tbody>\n",
       "    <tr>\n",
       "      <th>151</th>\n",
       "      <td>151</td>\n",
       "      <td>6799</td>\n",
       "      <td>small</td>\n",
       "      <td>2009</td>\n",
       "      <td>NaN</td>\n",
       "      <td>60</td>\n",
       "      <td>unknown</td>\n",
       "      <td>20000</td>\n",
       "      <td>5</td>\n",
       "      <td>petrol</td>\n",
       "      <td>volkswagen</td>\n",
       "      <td>no</td>\n",
       "    </tr>\n",
       "    <tr>\n",
       "      <th>161</th>\n",
       "      <td>161</td>\n",
       "      <td>1495</td>\n",
       "      <td>wagon</td>\n",
       "      <td>2001</td>\n",
       "      <td>NaN</td>\n",
       "      <td>64</td>\n",
       "      <td>unknown</td>\n",
       "      <td>150000</td>\n",
       "      <td>9</td>\n",
       "      <td>gasoline</td>\n",
       "      <td>volkswagen</td>\n",
       "      <td>NaN</td>\n",
       "    </tr>\n",
       "    <tr>\n",
       "      <th>208</th>\n",
       "      <td>208</td>\n",
       "      <td>2250</td>\n",
       "      <td>small</td>\n",
       "      <td>2001</td>\n",
       "      <td>NaN</td>\n",
       "      <td>41</td>\n",
       "      <td>fortwo</td>\n",
       "      <td>150000</td>\n",
       "      <td>10</td>\n",
       "      <td>gasoline</td>\n",
       "      <td>smart</td>\n",
       "      <td>no</td>\n",
       "    </tr>\n",
       "    <tr>\n",
       "      <th>276</th>\n",
       "      <td>276</td>\n",
       "      <td>2400</td>\n",
       "      <td>convertible</td>\n",
       "      <td>2001</td>\n",
       "      <td>NaN</td>\n",
       "      <td>115</td>\n",
       "      <td>golf</td>\n",
       "      <td>150000</td>\n",
       "      <td>8</td>\n",
       "      <td>petrol</td>\n",
       "      <td>volkswagen</td>\n",
       "      <td>no</td>\n",
       "    </tr>\n",
       "    <tr>\n",
       "      <th>294</th>\n",
       "      <td>294</td>\n",
       "      <td>2390</td>\n",
       "      <td>small</td>\n",
       "      <td>2016</td>\n",
       "      <td>NaN</td>\n",
       "      <td>83</td>\n",
       "      <td>jazz</td>\n",
       "      <td>150000</td>\n",
       "      <td>12</td>\n",
       "      <td>petrol</td>\n",
       "      <td>honda</td>\n",
       "      <td>no</td>\n",
       "    </tr>\n",
       "    <tr>\n",
       "      <th>...</th>\n",
       "      <td>...</td>\n",
       "      <td>...</td>\n",
       "      <td>...</td>\n",
       "      <td>...</td>\n",
       "      <td>...</td>\n",
       "      <td>...</td>\n",
       "      <td>...</td>\n",
       "      <td>...</td>\n",
       "      <td>...</td>\n",
       "      <td>...</td>\n",
       "      <td>...</td>\n",
       "      <td>...</td>\n",
       "    </tr>\n",
       "    <tr>\n",
       "      <th>353291</th>\n",
       "      <td>353552</td>\n",
       "      <td>11950</td>\n",
       "      <td>bus</td>\n",
       "      <td>2012</td>\n",
       "      <td>NaN</td>\n",
       "      <td>109</td>\n",
       "      <td>kangoo</td>\n",
       "      <td>90000</td>\n",
       "      <td>8</td>\n",
       "      <td>gasoline</td>\n",
       "      <td>renault</td>\n",
       "      <td>no</td>\n",
       "    </tr>\n",
       "    <tr>\n",
       "      <th>353403</th>\n",
       "      <td>353664</td>\n",
       "      <td>2350</td>\n",
       "      <td>sedan</td>\n",
       "      <td>2002</td>\n",
       "      <td>NaN</td>\n",
       "      <td>75</td>\n",
       "      <td>golf</td>\n",
       "      <td>125000</td>\n",
       "      <td>6</td>\n",
       "      <td>NaN</td>\n",
       "      <td>volkswagen</td>\n",
       "      <td>NaN</td>\n",
       "    </tr>\n",
       "    <tr>\n",
       "      <th>353630</th>\n",
       "      <td>353892</td>\n",
       "      <td>7900</td>\n",
       "      <td>bus</td>\n",
       "      <td>2009</td>\n",
       "      <td>NaN</td>\n",
       "      <td>140</td>\n",
       "      <td>unknown</td>\n",
       "      <td>125000</td>\n",
       "      <td>7</td>\n",
       "      <td>gasoline</td>\n",
       "      <td>sonstige_autos</td>\n",
       "      <td>no</td>\n",
       "    </tr>\n",
       "    <tr>\n",
       "      <th>353871</th>\n",
       "      <td>354133</td>\n",
       "      <td>250</td>\n",
       "      <td>small</td>\n",
       "      <td>1994</td>\n",
       "      <td>NaN</td>\n",
       "      <td>75</td>\n",
       "      <td>golf</td>\n",
       "      <td>150000</td>\n",
       "      <td>6</td>\n",
       "      <td>petrol</td>\n",
       "      <td>volkswagen</td>\n",
       "      <td>no</td>\n",
       "    </tr>\n",
       "    <tr>\n",
       "      <th>354023</th>\n",
       "      <td>354285</td>\n",
       "      <td>3500</td>\n",
       "      <td>small</td>\n",
       "      <td>2001</td>\n",
       "      <td>NaN</td>\n",
       "      <td>75</td>\n",
       "      <td>corsa</td>\n",
       "      <td>90000</td>\n",
       "      <td>4</td>\n",
       "      <td>petrol</td>\n",
       "      <td>opel</td>\n",
       "      <td>no</td>\n",
       "    </tr>\n",
       "  </tbody>\n",
       "</table>\n",
       "<p>3726 rows × 12 columns</p>\n",
       "</div>"
      ],
      "text/plain": [
       "         index  Price  VehicleType  RegistrationYear Gearbox  Power    Model  \\\n",
       "151        151   6799        small              2009     NaN     60  unknown   \n",
       "161        161   1495        wagon              2001     NaN     64  unknown   \n",
       "208        208   2250        small              2001     NaN     41   fortwo   \n",
       "276        276   2400  convertible              2001     NaN    115     golf   \n",
       "294        294   2390        small              2016     NaN     83     jazz   \n",
       "...        ...    ...          ...               ...     ...    ...      ...   \n",
       "353291  353552  11950          bus              2012     NaN    109   kangoo   \n",
       "353403  353664   2350        sedan              2002     NaN     75     golf   \n",
       "353630  353892   7900          bus              2009     NaN    140  unknown   \n",
       "353871  354133    250        small              1994     NaN     75     golf   \n",
       "354023  354285   3500        small              2001     NaN     75    corsa   \n",
       "\n",
       "        Mileage  RegistrationMonth  FuelType           Brand NotRepaired  \n",
       "151       20000                  5    petrol      volkswagen          no  \n",
       "161      150000                  9  gasoline      volkswagen         NaN  \n",
       "208      150000                 10  gasoline           smart          no  \n",
       "276      150000                  8    petrol      volkswagen          no  \n",
       "294      150000                 12    petrol           honda          no  \n",
       "...         ...                ...       ...             ...         ...  \n",
       "353291    90000                  8  gasoline         renault          no  \n",
       "353403   125000                  6       NaN      volkswagen         NaN  \n",
       "353630   125000                  7  gasoline  sonstige_autos          no  \n",
       "353871   150000                  6    petrol      volkswagen          no  \n",
       "354023    90000                  4    petrol            opel          no  \n",
       "\n",
       "[3726 rows x 12 columns]"
      ]
     },
     "execution_count": 41,
     "metadata": {},
     "output_type": "execute_result"
    }
   ],
   "source": [
    "df_car.loc[df_car['Gearbox'].isna()]"
   ]
  },
  {
   "cell_type": "code",
   "execution_count": 42,
   "metadata": {},
   "outputs": [
    {
     "name": "stderr",
     "output_type": "stream",
     "text": [
      "C:\\Users\\IU STUDENT\\AppData\\Local\\Temp\\ipykernel_9608\\2390945874.py:1: FutureWarning: A value is trying to be set on a copy of a DataFrame or Series through chained assignment using an inplace method.\n",
      "The behavior will change in pandas 3.0. This inplace method will never work because the intermediate object on which we are setting values always behaves as a copy.\n",
      "\n",
      "For example, when doing 'df[col].method(value, inplace=True)', try using 'df.method({col: value}, inplace=True)' or df[col] = df[col].method(value) instead, to perform the operation inplace on the original object.\n",
      "\n",
      "\n",
      "  df_car['Gearbox'].fillna(df_car.groupby('Model')['Gearbox'].transform(lambda x:x.value_counts().index[0]), inplace=True)\n"
     ]
    }
   ],
   "source": [
    "df_car['Gearbox'].fillna(df_car.groupby('Model')['Gearbox'].transform(lambda x:x.value_counts().index[0]), inplace=True)"
   ]
  },
  {
   "cell_type": "markdown",
   "metadata": {},
   "source": [
    "Similarly, in Gearbox, NA values are replaced with the mode of each car model because the gearbox type usually remains consistent with the car model."
   ]
  },
  {
   "cell_type": "code",
   "execution_count": 43,
   "metadata": {},
   "outputs": [
    {
     "data": {
      "text/html": [
       "<div>\n",
       "<style scoped>\n",
       "    .dataframe tbody tr th:only-of-type {\n",
       "        vertical-align: middle;\n",
       "    }\n",
       "\n",
       "    .dataframe tbody tr th {\n",
       "        vertical-align: top;\n",
       "    }\n",
       "\n",
       "    .dataframe thead th {\n",
       "        text-align: right;\n",
       "    }\n",
       "</style>\n",
       "<table border=\"1\" class=\"dataframe\">\n",
       "  <thead>\n",
       "    <tr style=\"text-align: right;\">\n",
       "      <th></th>\n",
       "      <th>index</th>\n",
       "      <th>Price</th>\n",
       "      <th>VehicleType</th>\n",
       "      <th>RegistrationYear</th>\n",
       "      <th>Gearbox</th>\n",
       "      <th>Power</th>\n",
       "      <th>Model</th>\n",
       "      <th>Mileage</th>\n",
       "      <th>RegistrationMonth</th>\n",
       "      <th>FuelType</th>\n",
       "      <th>Brand</th>\n",
       "      <th>NotRepaired</th>\n",
       "    </tr>\n",
       "  </thead>\n",
       "  <tbody>\n",
       "    <tr>\n",
       "      <th>13</th>\n",
       "      <td>13</td>\n",
       "      <td>2500</td>\n",
       "      <td>wagon</td>\n",
       "      <td>2004</td>\n",
       "      <td>manual</td>\n",
       "      <td>131</td>\n",
       "      <td>passat</td>\n",
       "      <td>150000</td>\n",
       "      <td>2</td>\n",
       "      <td>NaN</td>\n",
       "      <td>volkswagen</td>\n",
       "      <td>no</td>\n",
       "    </tr>\n",
       "    <tr>\n",
       "      <th>41</th>\n",
       "      <td>41</td>\n",
       "      <td>7500</td>\n",
       "      <td>sedan</td>\n",
       "      <td>2002</td>\n",
       "      <td>auto</td>\n",
       "      <td>306</td>\n",
       "      <td>e_klasse</td>\n",
       "      <td>150000</td>\n",
       "      <td>4</td>\n",
       "      <td>NaN</td>\n",
       "      <td>mercedes_benz</td>\n",
       "      <td>NaN</td>\n",
       "    </tr>\n",
       "    <tr>\n",
       "      <th>52</th>\n",
       "      <td>52</td>\n",
       "      <td>1400</td>\n",
       "      <td>sedan</td>\n",
       "      <td>2016</td>\n",
       "      <td>manual</td>\n",
       "      <td>55</td>\n",
       "      <td>other</td>\n",
       "      <td>5000</td>\n",
       "      <td>1</td>\n",
       "      <td>NaN</td>\n",
       "      <td>hyundai</td>\n",
       "      <td>NaN</td>\n",
       "    </tr>\n",
       "    <tr>\n",
       "      <th>71</th>\n",
       "      <td>71</td>\n",
       "      <td>2300</td>\n",
       "      <td>sedan</td>\n",
       "      <td>1997</td>\n",
       "      <td>manual</td>\n",
       "      <td>150</td>\n",
       "      <td>5er</td>\n",
       "      <td>150000</td>\n",
       "      <td>3</td>\n",
       "      <td>NaN</td>\n",
       "      <td>bmw</td>\n",
       "      <td>no</td>\n",
       "    </tr>\n",
       "    <tr>\n",
       "      <th>81</th>\n",
       "      <td>81</td>\n",
       "      <td>350</td>\n",
       "      <td>small</td>\n",
       "      <td>1997</td>\n",
       "      <td>manual</td>\n",
       "      <td>54</td>\n",
       "      <td>unknown</td>\n",
       "      <td>150000</td>\n",
       "      <td>3</td>\n",
       "      <td>NaN</td>\n",
       "      <td>fiat</td>\n",
       "      <td>yes</td>\n",
       "    </tr>\n",
       "    <tr>\n",
       "      <th>...</th>\n",
       "      <td>...</td>\n",
       "      <td>...</td>\n",
       "      <td>...</td>\n",
       "      <td>...</td>\n",
       "      <td>...</td>\n",
       "      <td>...</td>\n",
       "      <td>...</td>\n",
       "      <td>...</td>\n",
       "      <td>...</td>\n",
       "      <td>...</td>\n",
       "      <td>...</td>\n",
       "      <td>...</td>\n",
       "    </tr>\n",
       "    <tr>\n",
       "      <th>354003</th>\n",
       "      <td>354265</td>\n",
       "      <td>3000</td>\n",
       "      <td>sedan</td>\n",
       "      <td>2001</td>\n",
       "      <td>auto</td>\n",
       "      <td>150</td>\n",
       "      <td>a4</td>\n",
       "      <td>150000</td>\n",
       "      <td>8</td>\n",
       "      <td>NaN</td>\n",
       "      <td>audi</td>\n",
       "      <td>yes</td>\n",
       "    </tr>\n",
       "    <tr>\n",
       "      <th>354065</th>\n",
       "      <td>354327</td>\n",
       "      <td>2999</td>\n",
       "      <td>wagon</td>\n",
       "      <td>2004</td>\n",
       "      <td>manual</td>\n",
       "      <td>234</td>\n",
       "      <td>vectra</td>\n",
       "      <td>100000</td>\n",
       "      <td>1</td>\n",
       "      <td>NaN</td>\n",
       "      <td>opel</td>\n",
       "      <td>NaN</td>\n",
       "    </tr>\n",
       "    <tr>\n",
       "      <th>354077</th>\n",
       "      <td>354339</td>\n",
       "      <td>3850</td>\n",
       "      <td>convertible</td>\n",
       "      <td>2006</td>\n",
       "      <td>manual</td>\n",
       "      <td>108</td>\n",
       "      <td>2_reihe</td>\n",
       "      <td>125000</td>\n",
       "      <td>2</td>\n",
       "      <td>NaN</td>\n",
       "      <td>peugeot</td>\n",
       "      <td>no</td>\n",
       "    </tr>\n",
       "    <tr>\n",
       "      <th>354089</th>\n",
       "      <td>354351</td>\n",
       "      <td>1900</td>\n",
       "      <td>sedan</td>\n",
       "      <td>2000</td>\n",
       "      <td>manual</td>\n",
       "      <td>110</td>\n",
       "      <td>unknown</td>\n",
       "      <td>150000</td>\n",
       "      <td>7</td>\n",
       "      <td>NaN</td>\n",
       "      <td>volkswagen</td>\n",
       "      <td>no</td>\n",
       "    </tr>\n",
       "    <tr>\n",
       "      <th>354099</th>\n",
       "      <td>354361</td>\n",
       "      <td>5250</td>\n",
       "      <td>wagon</td>\n",
       "      <td>2016</td>\n",
       "      <td>auto</td>\n",
       "      <td>150</td>\n",
       "      <td>159</td>\n",
       "      <td>150000</td>\n",
       "      <td>12</td>\n",
       "      <td>NaN</td>\n",
       "      <td>alfa_romeo</td>\n",
       "      <td>no</td>\n",
       "    </tr>\n",
       "  </tbody>\n",
       "</table>\n",
       "<p>10976 rows × 12 columns</p>\n",
       "</div>"
      ],
      "text/plain": [
       "         index  Price  VehicleType  RegistrationYear Gearbox  Power     Model  \\\n",
       "13          13   2500        wagon              2004  manual    131    passat   \n",
       "41          41   7500        sedan              2002    auto    306  e_klasse   \n",
       "52          52   1400        sedan              2016  manual     55     other   \n",
       "71          71   2300        sedan              1997  manual    150       5er   \n",
       "81          81    350        small              1997  manual     54   unknown   \n",
       "...        ...    ...          ...               ...     ...    ...       ...   \n",
       "354003  354265   3000        sedan              2001    auto    150        a4   \n",
       "354065  354327   2999        wagon              2004  manual    234    vectra   \n",
       "354077  354339   3850  convertible              2006  manual    108   2_reihe   \n",
       "354089  354351   1900        sedan              2000  manual    110   unknown   \n",
       "354099  354361   5250        wagon              2016    auto    150       159   \n",
       "\n",
       "        Mileage  RegistrationMonth FuelType          Brand NotRepaired  \n",
       "13       150000                  2      NaN     volkswagen          no  \n",
       "41       150000                  4      NaN  mercedes_benz         NaN  \n",
       "52         5000                  1      NaN        hyundai         NaN  \n",
       "71       150000                  3      NaN            bmw          no  \n",
       "81       150000                  3      NaN           fiat         yes  \n",
       "...         ...                ...      ...            ...         ...  \n",
       "354003   150000                  8      NaN           audi         yes  \n",
       "354065   100000                  1      NaN           opel         NaN  \n",
       "354077   125000                  2      NaN        peugeot          no  \n",
       "354089   150000                  7      NaN     volkswagen          no  \n",
       "354099   150000                 12      NaN     alfa_romeo          no  \n",
       "\n",
       "[10976 rows x 12 columns]"
      ]
     },
     "execution_count": 43,
     "metadata": {},
     "output_type": "execute_result"
    }
   ],
   "source": [
    "df_car.loc[df_car['FuelType'].isna()]"
   ]
  },
  {
   "cell_type": "code",
   "execution_count": 44,
   "metadata": {},
   "outputs": [
    {
     "name": "stderr",
     "output_type": "stream",
     "text": [
      "C:\\Users\\IU STUDENT\\AppData\\Local\\Temp\\ipykernel_9608\\1605539551.py:1: FutureWarning: A value is trying to be set on a copy of a DataFrame or Series through chained assignment using an inplace method.\n",
      "The behavior will change in pandas 3.0. This inplace method will never work because the intermediate object on which we are setting values always behaves as a copy.\n",
      "\n",
      "For example, when doing 'df[col].method(value, inplace=True)', try using 'df.method({col: value}, inplace=True)' or df[col] = df[col].method(value) instead, to perform the operation inplace on the original object.\n",
      "\n",
      "\n",
      "  df_car['FuelType'].fillna(df_car.groupby('Model')['FuelType'].transform(lambda x:x.value_counts().index[0]), inplace=True)\n"
     ]
    }
   ],
   "source": [
    "df_car['FuelType'].fillna(df_car.groupby('Model')['FuelType'].transform(lambda x:x.value_counts().index[0]), inplace=True)"
   ]
  },
  {
   "cell_type": "markdown",
   "metadata": {},
   "source": [
    "NA values in FuelType are replaced with the fuel type of each respective car nodel, as fuel type usually remains consistent with the car model."
   ]
  },
  {
   "cell_type": "code",
   "execution_count": 45,
   "metadata": {},
   "outputs": [
    {
     "data": {
      "text/html": [
       "<div>\n",
       "<style scoped>\n",
       "    .dataframe tbody tr th:only-of-type {\n",
       "        vertical-align: middle;\n",
       "    }\n",
       "\n",
       "    .dataframe tbody tr th {\n",
       "        vertical-align: top;\n",
       "    }\n",
       "\n",
       "    .dataframe thead th {\n",
       "        text-align: right;\n",
       "    }\n",
       "</style>\n",
       "<table border=\"1\" class=\"dataframe\">\n",
       "  <thead>\n",
       "    <tr style=\"text-align: right;\">\n",
       "      <th></th>\n",
       "      <th>index</th>\n",
       "      <th>Price</th>\n",
       "      <th>VehicleType</th>\n",
       "      <th>RegistrationYear</th>\n",
       "      <th>Gearbox</th>\n",
       "      <th>Power</th>\n",
       "      <th>Model</th>\n",
       "      <th>Mileage</th>\n",
       "      <th>RegistrationMonth</th>\n",
       "      <th>FuelType</th>\n",
       "      <th>Brand</th>\n",
       "      <th>NotRepaired</th>\n",
       "    </tr>\n",
       "  </thead>\n",
       "  <tbody>\n",
       "    <tr>\n",
       "      <th>2</th>\n",
       "      <td>2</td>\n",
       "      <td>9800</td>\n",
       "      <td>suv</td>\n",
       "      <td>2004</td>\n",
       "      <td>auto</td>\n",
       "      <td>163</td>\n",
       "      <td>grand</td>\n",
       "      <td>125000</td>\n",
       "      <td>8</td>\n",
       "      <td>gasoline</td>\n",
       "      <td>jeep</td>\n",
       "      <td>NaN</td>\n",
       "    </tr>\n",
       "    <tr>\n",
       "      <th>8</th>\n",
       "      <td>8</td>\n",
       "      <td>14500</td>\n",
       "      <td>bus</td>\n",
       "      <td>2014</td>\n",
       "      <td>manual</td>\n",
       "      <td>125</td>\n",
       "      <td>c_max</td>\n",
       "      <td>30000</td>\n",
       "      <td>8</td>\n",
       "      <td>petrol</td>\n",
       "      <td>ford</td>\n",
       "      <td>NaN</td>\n",
       "    </tr>\n",
       "    <tr>\n",
       "      <th>12</th>\n",
       "      <td>12</td>\n",
       "      <td>999</td>\n",
       "      <td>wagon</td>\n",
       "      <td>1995</td>\n",
       "      <td>manual</td>\n",
       "      <td>115</td>\n",
       "      <td>passat</td>\n",
       "      <td>150000</td>\n",
       "      <td>11</td>\n",
       "      <td>petrol</td>\n",
       "      <td>volkswagen</td>\n",
       "      <td>NaN</td>\n",
       "    </tr>\n",
       "    <tr>\n",
       "      <th>31</th>\n",
       "      <td>31</td>\n",
       "      <td>899</td>\n",
       "      <td>small</td>\n",
       "      <td>2016</td>\n",
       "      <td>manual</td>\n",
       "      <td>60</td>\n",
       "      <td>clio</td>\n",
       "      <td>150000</td>\n",
       "      <td>6</td>\n",
       "      <td>petrol</td>\n",
       "      <td>renault</td>\n",
       "      <td>NaN</td>\n",
       "    </tr>\n",
       "    <tr>\n",
       "      <th>41</th>\n",
       "      <td>41</td>\n",
       "      <td>7500</td>\n",
       "      <td>sedan</td>\n",
       "      <td>2002</td>\n",
       "      <td>auto</td>\n",
       "      <td>306</td>\n",
       "      <td>e_klasse</td>\n",
       "      <td>150000</td>\n",
       "      <td>4</td>\n",
       "      <td>gasoline</td>\n",
       "      <td>mercedes_benz</td>\n",
       "      <td>NaN</td>\n",
       "    </tr>\n",
       "  </tbody>\n",
       "</table>\n",
       "</div>"
      ],
      "text/plain": [
       "    index  Price VehicleType  RegistrationYear Gearbox  Power     Model  \\\n",
       "2       2   9800         suv              2004    auto    163     grand   \n",
       "8       8  14500         bus              2014  manual    125     c_max   \n",
       "12     12    999       wagon              1995  manual    115    passat   \n",
       "31     31    899       small              2016  manual     60      clio   \n",
       "41     41   7500       sedan              2002    auto    306  e_klasse   \n",
       "\n",
       "    Mileage  RegistrationMonth  FuelType          Brand NotRepaired  \n",
       "2    125000                  8  gasoline           jeep         NaN  \n",
       "8     30000                  8    petrol           ford         NaN  \n",
       "12   150000                 11    petrol     volkswagen         NaN  \n",
       "31   150000                  6    petrol        renault         NaN  \n",
       "41   150000                  4  gasoline  mercedes_benz         NaN  "
      ]
     },
     "execution_count": 45,
     "metadata": {},
     "output_type": "execute_result"
    }
   ],
   "source": [
    "df_car.loc[df_car['NotRepaired'].isna()].head()"
   ]
  },
  {
   "cell_type": "code",
   "execution_count": 46,
   "metadata": {},
   "outputs": [
    {
     "data": {
      "text/plain": [
       "NotRepaired\n",
       "no     217809\n",
       "yes     25460\n",
       "Name: count, dtype: int64"
      ]
     },
     "execution_count": 46,
     "metadata": {},
     "output_type": "execute_result"
    }
   ],
   "source": [
    "df_car['NotRepaired'].value_counts()"
   ]
  },
  {
   "cell_type": "code",
   "execution_count": 47,
   "metadata": {},
   "outputs": [
    {
     "name": "stderr",
     "output_type": "stream",
     "text": [
      "C:\\Users\\IU STUDENT\\AppData\\Local\\Temp\\ipykernel_9608\\2300424277.py:1: FutureWarning: A value is trying to be set on a copy of a DataFrame or Series through chained assignment using an inplace method.\n",
      "The behavior will change in pandas 3.0. This inplace method will never work because the intermediate object on which we are setting values always behaves as a copy.\n",
      "\n",
      "For example, when doing 'df[col].method(value, inplace=True)', try using 'df.method({col: value}, inplace=True)' or df[col] = df[col].method(value) instead, to perform the operation inplace on the original object.\n",
      "\n",
      "\n",
      "  df_car['NotRepaired'].fillna('no', inplace=True)\n"
     ]
    }
   ],
   "source": [
    "df_car['NotRepaired'].fillna('no', inplace=True)"
   ]
  },
  {
   "cell_type": "markdown",
   "metadata": {},
   "source": [
    "NotRepaired values with NA are replaced with the value 'no', which is the most frequently used value across the entire dataset."
   ]
  },
  {
   "cell_type": "code",
   "execution_count": 48,
   "metadata": {},
   "outputs": [
    {
     "data": {
      "text/plain": [
       "0"
      ]
     },
     "execution_count": 48,
     "metadata": {},
     "output_type": "execute_result"
    }
   ],
   "source": [
    "# finding duplicates\n",
    "df_car.duplicated().sum()"
   ]
  },
  {
   "cell_type": "code",
   "execution_count": 49,
   "metadata": {},
   "outputs": [
    {
     "name": "stdout",
     "output_type": "stream",
     "text": [
      "276994\n",
      "0\n",
      "276994\n"
     ]
    }
   ],
   "source": [
    "print(df_car.shape[0])\n",
    "print(df_car.duplicated().sum())\n",
    "df_car = df_car.drop_duplicates(keep='first').reset_index()\n",
    "print(df_car.shape[0])\n"
   ]
  },
  {
   "cell_type": "code",
   "execution_count": 50,
   "metadata": {},
   "outputs": [
    {
     "data": {
      "text/html": [
       "<div>\n",
       "<style scoped>\n",
       "    .dataframe tbody tr th:only-of-type {\n",
       "        vertical-align: middle;\n",
       "    }\n",
       "\n",
       "    .dataframe tbody tr th {\n",
       "        vertical-align: top;\n",
       "    }\n",
       "\n",
       "    .dataframe thead th {\n",
       "        text-align: right;\n",
       "    }\n",
       "</style>\n",
       "<table border=\"1\" class=\"dataframe\">\n",
       "  <thead>\n",
       "    <tr style=\"text-align: right;\">\n",
       "      <th></th>\n",
       "      <th>level_0</th>\n",
       "      <th>index</th>\n",
       "      <th>Price</th>\n",
       "      <th>VehicleType</th>\n",
       "      <th>RegistrationYear</th>\n",
       "      <th>Gearbox</th>\n",
       "      <th>Power</th>\n",
       "      <th>Model</th>\n",
       "      <th>Mileage</th>\n",
       "      <th>RegistrationMonth</th>\n",
       "      <th>FuelType</th>\n",
       "      <th>Brand</th>\n",
       "      <th>NotRepaired</th>\n",
       "    </tr>\n",
       "  </thead>\n",
       "  <tbody>\n",
       "    <tr>\n",
       "      <th>0</th>\n",
       "      <td>1</td>\n",
       "      <td>1</td>\n",
       "      <td>18300</td>\n",
       "      <td>coupe</td>\n",
       "      <td>2011</td>\n",
       "      <td>manual</td>\n",
       "      <td>190</td>\n",
       "      <td>unknown</td>\n",
       "      <td>125000</td>\n",
       "      <td>5</td>\n",
       "      <td>gasoline</td>\n",
       "      <td>audi</td>\n",
       "      <td>yes</td>\n",
       "    </tr>\n",
       "    <tr>\n",
       "      <th>1</th>\n",
       "      <td>2</td>\n",
       "      <td>2</td>\n",
       "      <td>9800</td>\n",
       "      <td>suv</td>\n",
       "      <td>2004</td>\n",
       "      <td>auto</td>\n",
       "      <td>163</td>\n",
       "      <td>grand</td>\n",
       "      <td>125000</td>\n",
       "      <td>8</td>\n",
       "      <td>gasoline</td>\n",
       "      <td>jeep</td>\n",
       "      <td>no</td>\n",
       "    </tr>\n",
       "    <tr>\n",
       "      <th>2</th>\n",
       "      <td>3</td>\n",
       "      <td>3</td>\n",
       "      <td>1500</td>\n",
       "      <td>small</td>\n",
       "      <td>2001</td>\n",
       "      <td>manual</td>\n",
       "      <td>75</td>\n",
       "      <td>golf</td>\n",
       "      <td>150000</td>\n",
       "      <td>6</td>\n",
       "      <td>petrol</td>\n",
       "      <td>volkswagen</td>\n",
       "      <td>no</td>\n",
       "    </tr>\n",
       "    <tr>\n",
       "      <th>3</th>\n",
       "      <td>4</td>\n",
       "      <td>4</td>\n",
       "      <td>3600</td>\n",
       "      <td>small</td>\n",
       "      <td>2008</td>\n",
       "      <td>manual</td>\n",
       "      <td>69</td>\n",
       "      <td>fabia</td>\n",
       "      <td>90000</td>\n",
       "      <td>7</td>\n",
       "      <td>gasoline</td>\n",
       "      <td>skoda</td>\n",
       "      <td>no</td>\n",
       "    </tr>\n",
       "    <tr>\n",
       "      <th>4</th>\n",
       "      <td>5</td>\n",
       "      <td>5</td>\n",
       "      <td>650</td>\n",
       "      <td>sedan</td>\n",
       "      <td>1995</td>\n",
       "      <td>manual</td>\n",
       "      <td>102</td>\n",
       "      <td>3er</td>\n",
       "      <td>150000</td>\n",
       "      <td>10</td>\n",
       "      <td>petrol</td>\n",
       "      <td>bmw</td>\n",
       "      <td>yes</td>\n",
       "    </tr>\n",
       "  </tbody>\n",
       "</table>\n",
       "</div>"
      ],
      "text/plain": [
       "   level_0  index  Price VehicleType  RegistrationYear Gearbox  Power  \\\n",
       "0        1      1  18300       coupe              2011  manual    190   \n",
       "1        2      2   9800         suv              2004    auto    163   \n",
       "2        3      3   1500       small              2001  manual     75   \n",
       "3        4      4   3600       small              2008  manual     69   \n",
       "4        5      5    650       sedan              1995  manual    102   \n",
       "\n",
       "     Model  Mileage  RegistrationMonth  FuelType       Brand NotRepaired  \n",
       "0  unknown   125000                  5  gasoline        audi         yes  \n",
       "1    grand   125000                  8  gasoline        jeep          no  \n",
       "2     golf   150000                  6    petrol  volkswagen          no  \n",
       "3    fabia    90000                  7  gasoline       skoda          no  \n",
       "4      3er   150000                 10    petrol         bmw         yes  "
      ]
     },
     "execution_count": 50,
     "metadata": {},
     "output_type": "execute_result"
    }
   ],
   "source": [
    "df_car.head()"
   ]
  },
  {
   "cell_type": "code",
   "execution_count": 51,
   "metadata": {},
   "outputs": [
    {
     "name": "stdout",
     "output_type": "stream",
     "text": [
      "<class 'pandas.core.frame.DataFrame'>\n",
      "RangeIndex: 276994 entries, 0 to 276993\n",
      "Data columns (total 13 columns):\n",
      " #   Column             Non-Null Count   Dtype \n",
      "---  ------             --------------   ----- \n",
      " 0   level_0            276994 non-null  int64 \n",
      " 1   index              276994 non-null  int64 \n",
      " 2   Price              276994 non-null  int64 \n",
      " 3   VehicleType        276994 non-null  object\n",
      " 4   RegistrationYear   276994 non-null  int64 \n",
      " 5   Gearbox            276994 non-null  object\n",
      " 6   Power              276994 non-null  int64 \n",
      " 7   Model              276994 non-null  object\n",
      " 8   Mileage            276994 non-null  int64 \n",
      " 9   RegistrationMonth  276994 non-null  int64 \n",
      " 10  FuelType           276994 non-null  object\n",
      " 11  Brand              276994 non-null  object\n",
      " 12  NotRepaired        276994 non-null  object\n",
      "dtypes: int64(7), object(6)\n",
      "memory usage: 27.5+ MB\n"
     ]
    }
   ],
   "source": [
    "df_car.info()"
   ]
  },
  {
   "cell_type": "markdown",
   "metadata": {},
   "source": [
    "We will divide the data into 3 sets: training (60%), validation(20%), and test(20%). This 3:1:1 ratio accounts for the fact that the test data originates from the same source. If the test data were separate, we would only need to split the source data into training and validation sets. The validation set would then make up 25% of the source data to maintain the same split ratio."
   ]
  },
  {
   "cell_type": "code",
   "execution_count": 52,
   "metadata": {},
   "outputs": [
    {
     "name": "stdout",
     "output_type": "stream",
     "text": [
      "Training Features Size: (166196, 12)\n",
      "\n",
      "Validation Features Size: (55399, 12)\n",
      "\n",
      "Test Features Size: (55399, 12)\n"
     ]
    }
   ],
   "source": [
    "# Extract the feature variables\n",
    "features = df_car.drop(['Price'], axis=1)\n",
    "\n",
    "# Extract the target variable 'Price'\n",
    "target = df_car['Price']\n",
    "\n",
    "# Split data: 60% for training, 20% for validation, and 20% for testing\n",
    "features_train, features_temp, target_train, target_temp = train_test_split(features, target, test_size=0.4, random_state=12345)\n",
    "\n",
    "# Further split the remaining 40% into validation (20%) and test (20%) sets\n",
    "features_valid, features_test, target_valid, target_test = train_test_split(features_temp, target_temp, test_size=0.5, random_state=12345)\n",
    "\n",
    "# Print the size of each dataset\n",
    "print('Training Features Size:', features_train.shape)\n",
    "print()\n",
    "print('Validation Features Size:', features_valid.shape)\n",
    "print()\n",
    "print('Test Features Size:', features_test.shape)"
   ]
  },
  {
   "cell_type": "markdown",
   "metadata": {},
   "source": [
    "With the data split correctly, we will encode categorial features using 2 methods: label encoding for Random Forest and XGBoost, and one-hot encoding for Linear Regression. CatBoost and LightGBM handle categoricals internally, so no additional encoding is needed. This ensures each model gets the best encoding for its needs."
   ]
  },
  {
   "cell_type": "markdown",
   "metadata": {},
   "source": [
    "We will explicitly define our categorial features to simplify encoding."
   ]
  },
  {
   "cell_type": "code",
   "execution_count": 53,
   "metadata": {},
   "outputs": [],
   "source": [
    "categorical_features = ['VehicleType', 'Gearbox', 'Model', 'FuelType', 'Brand', 'NotRepaired']"
   ]
  },
  {
   "cell_type": "code",
   "execution_count": 54,
   "metadata": {},
   "outputs": [
    {
     "name": "stdout",
     "output_type": "stream",
     "text": [
      "Training Features Size (Label Encoded): (166196, 12)\n",
      "\n",
      "Validation Features Size (Label Encoded): (55399, 12)\n",
      "\n",
      "Test Features Size (Label Encoded): (55399, 12)\n"
     ]
    }
   ],
   "source": [
    "# Initialize OrdinalEncoder\n",
    "ordinal_encoder = OrdinalEncoder(handle_unknown='use_encoded_value', unknown_value=-1)\n",
    "\n",
    "# Fit and transform on training features\n",
    "features_train_encoded = features_train.copy()\n",
    "features_train_encoded[categorical_features] = ordinal_encoder.fit_transform(features_train[categorical_features])\n",
    "\n",
    "# Fit and transform validation features\n",
    "features_valid_encoded = features_valid.copy()\n",
    "features_valid_encoded[categorical_features] = ordinal_encoder.transform(features_valid[categorical_features])\n",
    "\n",
    "# Fit and transform test features\n",
    "features_test_encoded = features_test.copy()\n",
    "features_test_encoded[categorical_features] = ordinal_encoder.transform(features_test[categorical_features])\n",
    "\n",
    "# Print the size of each dataset after label encoding\n",
    "print('Training Features Size (Label Encoded):', features_train_encoded.shape)\n",
    "print()\n",
    "print('Validation Features Size (Label Encoded):', features_valid_encoded.shape)\n",
    "print()\n",
    "print('Test Features Size (Label Encoded):', features_test_encoded.shape)"
   ]
  },
  {
   "cell_type": "code",
   "execution_count": 55,
   "metadata": {},
   "outputs": [
    {
     "name": "stdout",
     "output_type": "stream",
     "text": [
      "Training Features Size (One-Hot Encoded): (166196, 309)\n",
      "\n",
      "Validation Features Size (One-Hot Encoded): (55399, 309)\n",
      "\n",
      "Test Features Size (One-Hot Encoded): (55399, 309)\n"
     ]
    }
   ],
   "source": [
    "# Apply one-hot encoding to training features\n",
    "features_train_ohe = pd.get_dummies(features_train, columns=categorical_features, drop_first=True)\n",
    "\n",
    "# Apply one-hot encoding to validation features\n",
    "features_valid_ohe = pd.get_dummies(features_valid, columns=categorical_features, drop_first=True)\n",
    "\n",
    "# Apply one-hot encoding to test features\n",
    "features_test_ohe = pd.get_dummies(features_test, columns=categorical_features, drop_first=True)\n",
    "\n",
    "# To align columns between different sets, find the union of all columns and reindex\n",
    "all_columns = set(features_train_ohe.columns) | set(features_valid_ohe.columns) | set(features_test_ohe.columns)\n",
    "features_train_ohe = features_train_ohe.reindex(columns=all_columns, fill_value=0)\n",
    "features_valid_ohe = features_valid_ohe.reindex(columns=all_columns, fill_value=0)\n",
    "features_test_ohe = features_test_ohe.reindex(columns=all_columns, fill_value=0)\n",
    "\n",
    "# Print the size of each dataset after one-hot encoding\n",
    "print('Training Features Size (One-Hot Encoded):', features_train_ohe.shape)\n",
    "print()\n",
    "print('Validation Features Size (One-Hot Encoded):', features_valid_ohe.shape)\n",
    "print()\n",
    "print('Test Features Size (One-Hot Encoded):', features_test_ohe.shape)"
   ]
  },
  {
   "cell_type": "markdown",
   "metadata": {},
   "source": [
    "Now that the data has been successfully preprocessed and encoded, we can procees to train various machine learning models using it."
   ]
  },
  {
   "cell_type": "markdown",
   "metadata": {},
   "source": [
    "## Model training"
   ]
  },
  {
   "cell_type": "markdown",
   "metadata": {},
   "source": [
    "To streamline model training evaluation, I have developed a function that assesses various machine learning models, both with and without hyperparameter tuning. \n",
    "\n",
    "The function calculates key performance metrics, including training and prediction time on the validation set, and computes RMSE for prediction accuracy. It prints and returns these metrics for analyzing model efficiency and effectiveness."
   ]
  },
  {
   "cell_type": "code",
   "execution_count": 56,
   "metadata": {},
   "outputs": [],
   "source": [
    "def model_eval(model, features_train, features_valid, target_train, target_valid):\n",
    "    # Record the start time for model training\n",
    "    training_start_time = time.time()\n",
    "\n",
    "    # Train the model on the training data\n",
    "    model.fit(features_train, target_train)\n",
    "\n",
    "    # Calculate the time taken to train the model\n",
    "    training_time = time.time() - training_start_time\n",
    "\n",
    "    # Record the start time for making predictions\n",
    "    prediction_start_time = time.time()\n",
    "\n",
    "    # Generate predictions on the validation set\n",
    "    predictions = model.predict(features_valid)\n",
    "    \n",
    "    # Calculate the time taken to make predictions\n",
    "    prediction_time = time.time() - prediction_start_time\n",
    "\n",
    "    # Compute the total time taken for training and prediction\n",
    "    total_time = training_time + prediction_time\n",
    "\n",
    "    # Calculate the Root Mean Squared Error (RMSE) of the predictions\n",
    "    rmse = np.sqrt(mean_squared_error(target_valid, predictions))\n",
    "\n",
    "    # Print out the RMSE, training time, prediction time, and total time\n",
    "    print(\"RMSE:\", rmse)\n",
    "    print(\"Training Time:\", training_time)\n",
    "    print(\"Prediction Time:\", prediction_time)\n",
    "    print(\"Total Time:\", total_time)\n",
    "\n",
    "    # Return RMSE, training time, prediction time, and total time\n",
    "    return rmse, training_time, prediction_time, total_time"
   ]
  },
  {
   "cell_type": "markdown",
   "metadata": {},
   "source": [
    "We will begin with a Linear Regression model. Although it is not the best choice for hyperparameter tuning, it serves as a useful benchmark for evaluating other methods. For instance, if gradient boosting performs poorly compared to linear regression, it suggests potential problems with the implementation or configuration of the gradient boosting model."
   ]
  },
  {
   "cell_type": "code",
   "execution_count": 57,
   "metadata": {},
   "outputs": [
    {
     "name": "stdout",
     "output_type": "stream",
     "text": [
      "LINEAR REGRESSION STATS:\n",
      "------------------------\n",
      "RMSE: 2664.308960504923\n",
      "Training Time: 4.588937282562256\n",
      "Prediction Time: 0.2723655700683594\n",
      "Total Time: 4.861302852630615\n"
     ]
    }
   ],
   "source": [
    "# Initialize the Linear Regression model\n",
    "# Train with one hot encoded data\n",
    "lr_model = LinearRegression()\n",
    "\n",
    "print(\"LINEAR REGRESSION STATS:\")\n",
    "print(\"------------------------\")\n",
    "\n",
    "# Evaluate the Linear Regression model\n",
    "lr_rmse, lr_training_time, lr_prediction_time, lr_total_time = model_eval(lr_model, \n",
    "                                                                          features_train_ohe, \n",
    "                                                                          features_valid_ohe, \n",
    "                                                                          target_train, \n",
    "                                                                          target_valid)"
   ]
  },
  {
   "cell_type": "code",
   "execution_count": 58,
   "metadata": {},
   "outputs": [
    {
     "name": "stdout",
     "output_type": "stream",
     "text": [
      "RANDOM FOREST STATS:\n",
      "--------------------\n",
      "RMSE: 1602.979891691272\n",
      "Training Time: 155.88798069953918\n",
      "Prediction Time: 2.169525623321533\n",
      "Total Time: 158.05750632286072\n"
     ]
    }
   ],
   "source": [
    "# Initialize the Random Forest model\n",
    "# Train with label encoded data\n",
    "rf_model = RandomForestRegressor(random_state=12345)\n",
    "\n",
    "print(\"RANDOM FOREST STATS:\")\n",
    "print(\"--------------------\")\n",
    "\n",
    "# Evaluate the Random Forest model\n",
    "rf_rmse, rf_training_time, rf_prediction_time, rf_total_time = model_eval(rf_model, \n",
    "                                                                          features_train_encoded, \n",
    "                                                                          features_valid_encoded, \n",
    "                                                                          target_train, \n",
    "                                                                          target_valid)"
   ]
  },
  {
   "cell_type": "code",
   "execution_count": null,
   "metadata": {},
   "outputs": [
    {
     "name": "stdout",
     "output_type": "stream",
     "text": [
      "BEST RANDOM FOREST HYPERPARAMETERS: {'n_estimators': 100, 'min_samples_split': 2, 'min_samples_leaf': 1, 'max_features': 'log2', 'max_depth': None}\n",
      "\n",
      "RANDOM FOREST (TUNED) STATS:\n",
      "----------------------------\n"
     ]
    }
   ],
   "source": [
    "# Set up RandomizedSearchCV for tuning the Random Forest model\n",
    "# Random Forest with hyperparameter tuning with label encoded data\n",
    "rf_random_search = RandomizedSearchCV(\n",
    "    rf_model, \n",
    "    param_distributions={'n_estimators': [10, 50, 100, 200], \n",
    "                         'max_features': ['sqrt', 'log2'],\n",
    "                         'max_depth': [None, 10, 20, 30, 40],\n",
    "                         'min_samples_split': [2, 5, 10], \n",
    "                         'min_samples_leaf': [1, 2, 4]}, \n",
    "    n_iter=10,     \n",
    "    cv=3,                        \n",
    "    scoring='neg_root_mean_squared_error',\n",
    "    n_jobs=-1,                      \n",
    "    random_state=12345\n",
    ")\n",
    "\n",
    "# Fit the RandomizedSearchCV object to the training data\n",
    "rf_random_search.fit(features_train_encoded, target_train)\n",
    "\n",
    "print(\"BEST RANDOM FOREST HYPERPARAMETERS:\", rf_random_search.best_params_)\n",
    "print()\n",
    "\n",
    "# Get the best Random Forest model from the search\n",
    "tuned_rf_model = rf_random_search.best_estimator_\n",
    "\n",
    "print(\"RANDOM FOREST (TUNED) STATS:\")\n",
    "print(\"----------------------------\")\n",
    "\n",
    "# Evaluate the tuned Random Forest model\n",
    "tuned_rf_rmse, tuned_rf_training_time, tuned_rf_prediction_time, tuned_rf_total_time = model_eval(tuned_rf_model, \n",
    "                                                                                                  features_train_encoded, \n",
    "                                                                                                  features_valid_encoded, \n",
    "                                                                                                  target_train, \n",
    "                                                                                                  target_valid)"
   ]
  },
  {
   "cell_type": "markdown",
   "metadata": {},
   "source": [
    "LightGBM can handle categorial features natively. Converting them to the category dtype signals to LighGBM that these features are categorical, enabling the algorithm to use internal optimizations for processing such data, leading to more efficient training and potentially better performance."
   ]
  },
  {
   "cell_type": "code",
   "execution_count": null,
   "metadata": {},
   "outputs": [],
   "source": [
    "#Light GBM\n",
    "# Create copies of the training, validation, and test feature datasets\n",
    "features_train_cat = features_train.copy()\n",
    "features_valid_cat = features_valid.copy()\n",
    "features_test_cat = features_test.copy()\n",
    "\n",
    "# Convert categorical features to 'category' dtype for all datasets\n",
    "for feature in categorical_features:\n",
    "    features_train_cat[feature] = features_train[feature].astype('category')\n",
    "    features_valid_cat[feature] = features_valid[feature].astype('category')\n",
    "    features_test_cat[feature] = features_test[feature].astype('category')\n",
    "\n",
    "# Initialize the LightGBM model\n",
    "lgbm_model = LGBMRegressor(random_state=12345, verbose=-1)\n",
    "\n",
    "print(\"LIGHTGBM STATS:\")\n",
    "print(\"---------------\")\n",
    "\n",
    "# Evaluate the LightGBM model\n",
    "lgbm_rmse, lgbm_training_time, lgbm_prediction_time, lgbm_total_time = model_eval(lgbm_model, \n",
    "                                                                                  features_train_cat, \n",
    "                                                                                  features_valid_cat, \n",
    "                                                                                  target_train, \n",
    "                                                                                  target_valid)"
   ]
  },
  {
   "cell_type": "code",
   "execution_count": null,
   "metadata": {},
   "outputs": [],
   "source": [
    "# LightGBM with hyperparameters Tuning\n",
    "# Set up RandomizedSearchCV for tuning the LightGBM model\n",
    "lgbm_random_search = RandomizedSearchCV(\n",
    "    lgbm_model, \n",
    "    param_distributions={'num_leaves': [31, 50, 70],\n",
    "                         'max_depth': [-1, 10, 20, 30],\n",
    "                         'learning_rate': [0.01, 0.05, 0.1, 0.2],\n",
    "                         'n_estimators': [50, 100, 200, 300],\n",
    "                         'subsample': [0.6, 0.8, 1.0],\n",
    "                         'colsample_bytree': [0.6, 0.8, 1.0],\n",
    "                         'reg_alpha': [0, 0.1, 0.5, 1],\n",
    "                         'reg_lambda': [0, 0.1, 0.5, 1]}, \n",
    "    n_iter=10,     \n",
    "    cv=3,                        \n",
    "    scoring='neg_root_mean_squared_error',\n",
    "    n_jobs=-1,                      \n",
    "    random_state=12345\n",
    ")\n",
    "\n",
    "# Fit the RandomizedSearchCV object to the training data\n",
    "lgbm_random_search.fit(features_train_cat, target_train)\n",
    "\n",
    "print(\"BEST LIGHTGBM HYPERPARAMETERS:\", lgbm_random_search.best_params_)\n",
    "print()\n",
    "\n",
    "# Get the best LightGBM model from the search\n",
    "tuned_lgbm_model = lgbm_random_search.best_estimator_\n",
    "\n",
    "print(\"LIGHTGBM (TUNED) STATS:\")\n",
    "print(\"-----------------------\")\n",
    "\n",
    "# Evaluate the tuned LightGBM model\n",
    "tuned_lgbm_rmse, tuned_lgbm_training_time, tuned_lgbm_prediction_time, tuned_lgbm_total_time = model_eval(tuned_lgbm_model, \n",
    "                                                                                                          features_train_cat, \n",
    "                                                                                                          features_valid_cat, \n",
    "                                                                                                          target_train, \n",
    "                                                                                                          target_valid)"
   ]
  },
  {
   "cell_type": "markdown",
   "metadata": {},
   "source": [
    "CatBoost is optimized for handling categorical features efficiently. By explicitly specifying these features in the parameters, CatBoost applies its advanced algorithms for categorical data, eliminating manual encoding and improving performance and accuracy."
   ]
  },
  {
   "cell_type": "code",
   "execution_count": null,
   "metadata": {
    "scrolled": true
   },
   "outputs": [],
   "source": [
    "# Cat Boost \n",
    "# Initialize the CatBoost model\n",
    "cb_model = CatBoostRegressor(random_state=12345, cat_features=categorical_features, verbose=False)\n",
    "\n",
    "print(\"CATBOOST STATS:\")\n",
    "print(\"---------------\")\n",
    "\n",
    "# Evaluate the CatBoost model\n",
    "cb_rmse, cb_training_time, cb_prediction_time, cb_total_time = model_eval(cb_model, \n",
    "                                                                          features_train, \n",
    "                                                                          features_valid, \n",
    "                                                                          target_train, \n",
    "                                                                          target_valid)"
   ]
  },
  {
   "cell_type": "code",
   "execution_count": null,
   "metadata": {
    "scrolled": true
   },
   "outputs": [],
   "source": [
    "# Cat Boost with hyperparameter tuning\n",
    "# Set up RandomizedSearchCV for tuning the CatBoost model\n",
    "cb_random_search = RandomizedSearchCV(\n",
    "    cb_model, \n",
    "    param_distributions={'depth': [6, 8, 10, 12],\n",
    "                         'learning_rate': [0.01, 0.05, 0.1, 0.2],\n",
    "                         'iterations': [100, 200, 300, 500],\n",
    "                         'l2_leaf_reg': [1, 3, 5, 10],\n",
    "                         'border_count': [32, 50, 100],\n",
    "                         'bagging_temperature': [0, 0.5, 1],\n",
    "                         'random_strength': [0, 1, 2, 3]}, \n",
    "    n_iter=10,                 \n",
    "    cv=3,                        \n",
    "    scoring='neg_root_mean_squared_error',  \n",
    "    n_jobs=-1,                   \n",
    "    random_state=12345\n",
    ")\n",
    "\n",
    "# Fit the RandomizedSearchCV object to the training data\n",
    "cb_random_search.fit(features_train, target_train)\n",
    "\n",
    "print(\"BEST CATBOOST HYPERPARAMETERS:\", cb_random_search.best_params_)\n",
    "print()\n",
    "\n",
    "# Get the best CatBoost model from the search\n",
    "tuned_cb_model = cb_random_search.best_estimator_\n",
    "\n",
    "print(\"CATBOOST (TUNED) STATS:\")\n",
    "print(\"-----------------------\")\n",
    "\n",
    "# Evaluate the tuned CatBoost model\n",
    "tuned_cb_rmse, tuned_cb_training_time, tuned_cb_prediction_time, tuned_cb_total_time = model_eval(tuned_cb_model, \n",
    "                                                                                                  features_train, \n",
    "                                                                                                  features_valid, \n",
    "                                                                                                  target_train, \n",
    "                                                                                                  target_valid)"
   ]
  },
  {
   "cell_type": "code",
   "execution_count": null,
   "metadata": {
    "scrolled": true
   },
   "outputs": [],
   "source": [
    "# XGBoost model\n",
    "# Initialize the XGBoost model\n",
    "xgb_model = XGBRegressor(random_state=12345)\n",
    "\n",
    "print(\"XGBOOST STATS:\")\n",
    "print(\"--------------\")\n",
    "\n",
    "# Evaluate the XGBoost model\n",
    "xgb_rmse, xgb_training_time, xgb_prediction_time, xgb_total_time = model_eval(xgb_model, \n",
    "                                                                              features_train_encoded, \n",
    "                                                                              features_valid_encoded, \n",
    "                                                                              target_train, \n",
    "                                                                              target_valid)"
   ]
  },
  {
   "cell_type": "code",
   "execution_count": null,
   "metadata": {
    "scrolled": true
   },
   "outputs": [],
   "source": [
    "# XGBoost with hyperparameter tuning\n",
    "# Set up RandomizedSearchCV for tuning the XGBoost model\n",
    "xgb_random_search = RandomizedSearchCV(\n",
    "    xgb_model, \n",
    "    param_distributions={'n_estimators': [50, 100, 200, 300],\n",
    "                         'max_depth': [3, 5, 7, 10],\n",
    "                         'learning_rate': [0.01, 0.05, 0.1, 0.2],\n",
    "                         'subsample': [0.6, 0.8, 1.0],\n",
    "                         'colsample_bytree': [0.6, 0.8, 1.0],\n",
    "                         'gamma': [0, 0.1, 0.5, 1],\n",
    "                         'reg_alpha': [0, 0.1, 0.5, 1],\n",
    "                         'reg_lambda': [0, 0.1, 0.5, 1]}, \n",
    "    n_iter=10,                      \n",
    "    cv=3,                      \n",
    "    scoring='neg_root_mean_squared_error', \n",
    "    n_jobs=-1,                     \n",
    "    random_state=12345\n",
    ")\n",
    "\n",
    "# Fit the RandomizedSearchCV object to the training data\n",
    "xgb_random_search.fit(features_train_encoded, target_train)\n",
    "\n",
    "print(\"BEST XGBOOST HYPERPARAMETERS:\", xgb_random_search.best_params_)\n",
    "print()\n",
    "\n",
    "# Get the best XGBoost model from the search\n",
    "tuned_xgb_model = xgb_random_search.best_estimator_\n",
    "\n",
    "print(\"XGBOOST (TUNED) STATS:\")\n",
    "print(\"----------------------\")\n",
    "\n",
    "# Evaluate the tuned XGBoost model\n",
    "tuned_xgb_rmse, tuned_xgb_training_time, tuned_xgb_prediction_time, tuned_xgb_total_time = model_eval(tuned_xgb_model, \n",
    "                                                                                                      features_train_encoded, \n",
    "                                                                                                      features_valid_encoded, \n",
    "                                                                                                      target_train, target_valid)"
   ]
  },
  {
   "cell_type": "markdown",
   "metadata": {},
   "source": [
    "## Model analysis"
   ]
  },
  {
   "cell_type": "markdown",
   "metadata": {},
   "source": [
    "We will analyze our trained and tested models using the validation set to identify the most beneficial one for Rusty Bargain. To compare and draw conclusions, we will compile their statistics into a singly data frame, making it easier to evaluate and compare their effectiveness."
   ]
  },
  {
   "cell_type": "code",
   "execution_count": null,
   "metadata": {},
   "outputs": [],
   "source": [
    "model_analysis = pd.DataFrame({'Model': ['Linear Regression', \n",
    "                                         'Random Forest', \n",
    "                                         'Random Forest (Tuned)',\n",
    "                                         'LightGBM', \n",
    "                                         'LightGBM (Tuned)',\n",
    "                                         'CatBoost',\n",
    "                                         'CatBoost (Tuned)',\n",
    "                                         'XGBoost',\n",
    "                                         'XGBoost (Tuned)'],\n",
    "\n",
    "                                'RMSE': [lr_rmse, \n",
    "                                         rf_rmse, \n",
    "                                         tuned_rf_rmse,\n",
    "                                         lgbm_rmse, \n",
    "                                         tuned_lgbm_rmse,\n",
    "                                         cb_rmse, \n",
    "                                         tuned_cb_rmse,\n",
    "                                         xgb_rmse,\n",
    "                                         tuned_xgb_rmse],\n",
    "                                \n",
    "                                'Training Time': [lr_training_time, \n",
    "                                                  rf_training_time,\n",
    "                                                  tuned_rf_training_time, \n",
    "                                                  lgbm_training_time,\n",
    "                                                  tuned_lgbm_training_time, \n",
    "                                                  cb_training_time, \n",
    "                                                  tuned_cb_training_time,\n",
    "                                                  xgb_training_time,\n",
    "                                                  tuned_xgb_training_time],\n",
    "                                \n",
    "                                'Prediction Time': [lr_prediction_time, \n",
    "                                                    rf_prediction_time, \n",
    "                                                    tuned_rf_prediction_time,\n",
    "                                                    lgbm_prediction_time, \n",
    "                                                    tuned_lgbm_prediction_time,\n",
    "                                                    cb_prediction_time, \n",
    "                                                    tuned_cb_prediction_time,\n",
    "                                                    xgb_prediction_time,\n",
    "                                                    tuned_xgb_prediction_time],\n",
    "                                \n",
    "                                'Total Time': [lr_total_time, \n",
    "                                               rf_total_time, \n",
    "                                               tuned_rf_total_time,\n",
    "                                               lgbm_total_time,\n",
    "                                               tuned_lgbm_total_time, \n",
    "                                               cb_total_time, \n",
    "                                               tuned_cb_total_time,\n",
    "                                               xgb_total_time,\n",
    "                                               tuned_xgb_total_time]})\n",
    "\n",
    "display(model_analysis)"
   ]
  },
  {
   "cell_type": "markdown",
   "metadata": {},
   "source": [
    "To gain a cleare understanding of the models' performance, we will organize the data based on RMSE. This approach will enable us to assess and compare which models achieved the highest accuracy."
   ]
  },
  {
   "cell_type": "code",
   "execution_count": null,
   "metadata": {},
   "outputs": [],
   "source": [
    "display(model_analysis[['Model', 'RMSE']].sort_values(by='RMSE'))"
   ]
  },
  {
   "cell_type": "markdown",
   "metadata": {},
   "source": [
    "The analysis of RMSE values shows that the XGBoost(tuned) model has the lowest RMSE of 1548.19, followed by CatBoost(tuned) with 1559.19, then LightGBM(tuned) with 1572.67, Random Forest(tuned) with 1589.30."
   ]
  },
  {
   "cell_type": "code",
   "execution_count": null,
   "metadata": {},
   "outputs": [],
   "source": [
    "display(model_analysis[['Model', 'Total Time']].sort_values(by='Total Time'))"
   ]
  },
  {
   "cell_type": "markdown",
   "metadata": {},
   "source": [
    "LightGBM is the fastest model, taking 2.46 seconds, followed by its tuned version at 2.60 seconds. Linear Regression is also fast, with untuned versions taking 5.82 seconds, then it is Random Forest(tuned) with 24.91 seconds."
   ]
  },
  {
   "cell_type": "markdown",
   "metadata": {},
   "source": [
    "Based on the analysis of RMSE and performance times for each model, we can conclude that the LightGBM model with the optimized hyperparameters is the most suitable choice for Rusty Bargain. While the tuned CatBoost and XGBoost models achieve higher accuracy, LightGBM's performance time is significantly faster, ranking second in terms of speed among all models, just behind the untuned LightGBM. This optimal combination of accuracy and efficiency makes the tuned LightGBM model the ideal solution for Rusty Bargain's requirements."
   ]
  },
  {
   "cell_type": "code",
   "execution_count": null,
   "metadata": {},
   "outputs": [],
   "source": [
    "# Record the start time for making predictions\n",
    "lgbm_final_prediction_start_time = time.time()\n",
    "\n",
    "# Generate predictions on the test set\n",
    "lgbm_final_predictions = lgbm_model.predict(features_test_cat)\n",
    "\n",
    "# Calculate the time taken to make predictions\n",
    "lgbm_final_prediction_time = time.time() - lgbm_final_prediction_start_time\n",
    "\n",
    "# Calculate the Root Mean Squared Error (RMSE) of the predictions\n",
    "lgbm_final_rmse = np.sqrt(mean_squared_error(target_test, lgbm_final_predictions))\n",
    "\n",
    "print(\"LIGHTGBM TEST STATS:\")\n",
    "print(\"----------------------------\")\n",
    "print(\"RMSE:\", lgbm_final_rmse)\n",
    "print(\"Training Time:\", lgbm_training_time)\n",
    "print(\"Prediction Time:\", lgbm_final_prediction_time)\n",
    "print(\"Total Time:\", lgbm_training_time + lgbm_final_prediction_time)"
   ]
  },
  {
   "cell_type": "markdown",
   "metadata": {},
   "source": [
    "Conclusion:\n",
    "\n",
    "The LightGBM model, with its optimized hyperparameters, achieved and impressive RMSE of 1580.28 on the test data, showcasing its strong performance and accuracy. The training process took only 2.06 seconds, while the prediction time was a mere 0.30 seconds. These efficient execution times are particularly advantageous for rapid model deployment. Moreover, the total processing time of 2.36 seconds is remarkably fast, making it an ideal choice for large-scale applications. These results further validate the model's effectiveness, as it consistently maintains high accuracy while delivering quick performance. Considering these factors, the LightGBM model remains an exceptional choice for the Rusty Bargain project."
   ]
  },
  {
   "cell_type": "markdown",
   "metadata": {},
   "source": [
    "# Checklist"
   ]
  },
  {
   "cell_type": "markdown",
   "metadata": {},
   "source": [
    "Type 'x' to check. Then press Shift+Enter."
   ]
  },
  {
   "cell_type": "markdown",
   "metadata": {},
   "source": [
    "- [x]  Jupyter Notebook is open\n",
    "- [x]  Code is error free\n",
    "- [x]  The cells with the code have been arranged in order of execution\n",
    "- [x]  The data has been downloaded and prepared\n",
    "- [x]  The models have been trained\n",
    "- [x]  The analysis of speed and quality of the models has been performed"
   ]
  }
 ],
 "metadata": {
  "ExecuteTimeLog": [
   {
    "duration": 154,
    "start_time": "2025-02-19T00:13:48.818Z"
   },
   {
    "duration": 328,
    "start_time": "2025-02-19T00:13:56.778Z"
   },
   {
    "duration": 349,
    "start_time": "2025-02-19T00:14:11.332Z"
   },
   {
    "duration": 472,
    "start_time": "2025-02-19T00:14:19.279Z"
   },
   {
    "duration": 0,
    "start_time": "2025-02-19T00:14:19.753Z"
   },
   {
    "duration": 0,
    "start_time": "2025-02-19T00:14:19.755Z"
   },
   {
    "duration": 636,
    "start_time": "2025-02-19T00:14:50.001Z"
   },
   {
    "duration": 435,
    "start_time": "2025-02-19T00:14:53.198Z"
   },
   {
    "duration": 426,
    "start_time": "2025-02-19T00:15:24.029Z"
   },
   {
    "duration": 14,
    "start_time": "2025-02-19T00:15:28.068Z"
   },
   {
    "duration": 96,
    "start_time": "2025-02-19T00:16:21.878Z"
   },
   {
    "duration": 19,
    "start_time": "2025-02-19T00:17:11.294Z"
   },
   {
    "duration": 139,
    "start_time": "2025-02-19T00:17:24.086Z"
   },
   {
    "duration": 3,
    "start_time": "2025-02-19T00:45:03.878Z"
   },
   {
    "duration": 33,
    "start_time": "2025-02-19T00:46:36.331Z"
   },
   {
    "duration": 14,
    "start_time": "2025-02-19T00:46:45.718Z"
   },
   {
    "duration": 13,
    "start_time": "2025-02-19T00:49:00.621Z"
   },
   {
    "duration": 13,
    "start_time": "2025-02-19T00:52:16.907Z"
   },
   {
    "duration": 960,
    "start_time": "2025-02-19T22:52:12.833Z"
   },
   {
    "duration": 482,
    "start_time": "2025-02-19T22:52:13.796Z"
   },
   {
    "duration": 13,
    "start_time": "2025-02-19T22:52:14.280Z"
   },
   {
    "duration": 93,
    "start_time": "2025-02-19T22:52:14.295Z"
   },
   {
    "duration": 100,
    "start_time": "2025-02-19T22:52:14.392Z"
   },
   {
    "duration": 3,
    "start_time": "2025-02-19T22:52:14.493Z"
   },
   {
    "duration": 13,
    "start_time": "2025-02-19T22:52:14.505Z"
   },
   {
    "duration": 12,
    "start_time": "2025-02-19T22:52:14.520Z"
   },
   {
    "duration": 13,
    "start_time": "2025-02-19T22:52:14.534Z"
   },
   {
    "duration": 13,
    "start_time": "2025-02-19T22:55:24.479Z"
   },
   {
    "duration": 513,
    "start_time": "2025-02-19T23:05:43.812Z"
   },
   {
    "duration": 942,
    "start_time": "2025-02-19T23:06:14.130Z"
   },
   {
    "duration": 424,
    "start_time": "2025-02-19T23:06:15.075Z"
   },
   {
    "duration": 15,
    "start_time": "2025-02-19T23:06:15.501Z"
   },
   {
    "duration": 101,
    "start_time": "2025-02-19T23:06:15.518Z"
   },
   {
    "duration": 101,
    "start_time": "2025-02-19T23:06:15.621Z"
   },
   {
    "duration": 3,
    "start_time": "2025-02-19T23:06:15.724Z"
   },
   {
    "duration": 13,
    "start_time": "2025-02-19T23:06:15.729Z"
   },
   {
    "duration": 13,
    "start_time": "2025-02-19T23:06:15.744Z"
   },
   {
    "duration": 45,
    "start_time": "2025-02-19T23:06:15.759Z"
   },
   {
    "duration": 14,
    "start_time": "2025-02-19T23:06:15.808Z"
   },
   {
    "duration": 18231,
    "start_time": "2025-02-19T23:06:15.824Z"
   },
   {
    "duration": 58,
    "start_time": "2025-02-19T23:06:34.057Z"
   },
   {
    "duration": 31,
    "start_time": "2025-02-19T23:20:58.343Z"
   },
   {
    "duration": 9,
    "start_time": "2025-02-19T23:21:13.885Z"
   },
   {
    "duration": 4,
    "start_time": "2025-02-19T23:26:28.555Z"
   },
   {
    "duration": 99,
    "start_time": "2025-02-19T23:27:26.639Z"
   },
   {
    "duration": 87,
    "start_time": "2025-02-19T23:27:46.285Z"
   },
   {
    "duration": 952,
    "start_time": "2025-02-20T22:50:12.809Z"
   },
   {
    "duration": 457,
    "start_time": "2025-02-20T22:50:13.763Z"
   },
   {
    "duration": 18,
    "start_time": "2025-02-20T22:50:14.221Z"
   },
   {
    "duration": 108,
    "start_time": "2025-02-20T22:50:14.240Z"
   },
   {
    "duration": 95,
    "start_time": "2025-02-20T22:50:14.350Z"
   },
   {
    "duration": 3,
    "start_time": "2025-02-20T22:50:14.447Z"
   },
   {
    "duration": 13,
    "start_time": "2025-02-20T22:50:14.452Z"
   },
   {
    "duration": 13,
    "start_time": "2025-02-20T22:50:14.467Z"
   },
   {
    "duration": 33,
    "start_time": "2025-02-20T22:50:14.481Z"
   },
   {
    "duration": 12,
    "start_time": "2025-02-20T22:50:14.516Z"
   },
   {
    "duration": 17601,
    "start_time": "2025-02-20T22:50:14.530Z"
   },
   {
    "duration": 46,
    "start_time": "2025-02-20T22:50:32.133Z"
   },
   {
    "duration": 41,
    "start_time": "2025-02-20T22:50:32.181Z"
   },
   {
    "duration": 10,
    "start_time": "2025-02-20T22:50:32.226Z"
   },
   {
    "duration": 4,
    "start_time": "2025-02-20T22:50:32.238Z"
   },
   {
    "duration": 117,
    "start_time": "2025-02-20T22:50:32.244Z"
   },
   {
    "duration": 91,
    "start_time": "2025-02-20T22:50:32.363Z"
   },
   {
    "duration": 294,
    "start_time": "2025-02-20T22:50:32.456Z"
   },
   {
    "duration": 6,
    "start_time": "2025-02-20T22:50:45.850Z"
   },
   {
    "duration": 15,
    "start_time": "2025-02-20T22:56:39.827Z"
   },
   {
    "duration": 51,
    "start_time": "2025-02-20T23:03:40.101Z"
   },
   {
    "duration": 22,
    "start_time": "2025-02-20T23:06:00.174Z"
   },
   {
    "duration": 9,
    "start_time": "2025-02-20T23:09:31.026Z"
   },
   {
    "duration": 12,
    "start_time": "2025-02-20T23:09:41.255Z"
   },
   {
    "duration": 14,
    "start_time": "2025-02-20T23:17:49.879Z"
   },
   {
    "duration": 20,
    "start_time": "2025-02-20T23:18:49.955Z"
   },
   {
    "duration": 24,
    "start_time": "2025-02-20T23:21:22.846Z"
   },
   {
    "duration": 8,
    "start_time": "2025-02-20T23:21:48.883Z"
   },
   {
    "duration": 15,
    "start_time": "2025-02-20T23:32:39.818Z"
   },
   {
    "duration": 22,
    "start_time": "2025-02-20T23:33:24.809Z"
   },
   {
    "duration": 21701,
    "start_time": "2025-02-20T23:34:21.275Z"
   },
   {
    "duration": 883,
    "start_time": "2025-02-20T23:35:02.589Z"
   },
   {
    "duration": 397,
    "start_time": "2025-02-20T23:35:03.474Z"
   },
   {
    "duration": 14,
    "start_time": "2025-02-20T23:35:03.873Z"
   },
   {
    "duration": 100,
    "start_time": "2025-02-20T23:35:03.889Z"
   },
   {
    "duration": 98,
    "start_time": "2025-02-20T23:35:03.992Z"
   },
   {
    "duration": 2,
    "start_time": "2025-02-20T23:35:04.092Z"
   },
   {
    "duration": 22,
    "start_time": "2025-02-20T23:35:04.096Z"
   },
   {
    "duration": 12,
    "start_time": "2025-02-20T23:35:04.121Z"
   },
   {
    "duration": 12,
    "start_time": "2025-02-20T23:35:04.135Z"
   },
   {
    "duration": 13,
    "start_time": "2025-02-20T23:35:04.149Z"
   },
   {
    "duration": 18251,
    "start_time": "2025-02-20T23:35:04.163Z"
   },
   {
    "duration": 47,
    "start_time": "2025-02-20T23:35:22.415Z"
   },
   {
    "duration": 45,
    "start_time": "2025-02-20T23:35:22.464Z"
   },
   {
    "duration": 10,
    "start_time": "2025-02-20T23:35:22.511Z"
   },
   {
    "duration": 3,
    "start_time": "2025-02-20T23:35:22.523Z"
   },
   {
    "duration": 114,
    "start_time": "2025-02-20T23:35:22.528Z"
   },
   {
    "duration": 86,
    "start_time": "2025-02-20T23:35:22.644Z"
   },
   {
    "duration": 5,
    "start_time": "2025-02-20T23:35:22.732Z"
   },
   {
    "duration": 16,
    "start_time": "2025-02-20T23:35:22.739Z"
   },
   {
    "duration": 77,
    "start_time": "2025-02-20T23:35:22.757Z"
   },
   {
    "duration": 22,
    "start_time": "2025-02-20T23:35:22.836Z"
   },
   {
    "duration": 11,
    "start_time": "2025-02-20T23:35:22.860Z"
   },
   {
    "duration": 12,
    "start_time": "2025-02-20T23:35:22.873Z"
   },
   {
    "duration": 23,
    "start_time": "2025-02-20T23:35:22.908Z"
   },
   {
    "duration": 7,
    "start_time": "2025-02-20T23:35:22.933Z"
   },
   {
    "duration": 278,
    "start_time": "2025-02-20T23:35:22.942Z"
   },
   {
    "duration": 1942,
    "start_time": "2025-02-20T23:39:34.071Z"
   },
   {
    "duration": 4,
    "start_time": "2025-02-20T23:41:20.199Z"
   },
   {
    "duration": 104,
    "start_time": "2025-02-20T23:41:26.965Z"
   },
   {
    "duration": 7,
    "start_time": "2025-02-20T23:43:14.291Z"
   },
   {
    "duration": 105,
    "start_time": "2025-02-20T23:44:13.212Z"
   },
   {
    "duration": 7,
    "start_time": "2025-02-20T23:45:27.244Z"
   },
   {
    "duration": 29,
    "start_time": "2025-02-20T23:45:39.744Z"
   },
   {
    "duration": 2853,
    "start_time": "2025-02-21T17:56:08.294Z"
   },
   {
    "duration": 570,
    "start_time": "2025-02-21T17:56:11.150Z"
   },
   {
    "duration": 13,
    "start_time": "2025-02-21T17:56:11.722Z"
   },
   {
    "duration": 106,
    "start_time": "2025-02-21T17:56:11.737Z"
   },
   {
    "duration": 97,
    "start_time": "2025-02-21T17:56:11.845Z"
   },
   {
    "duration": 3,
    "start_time": "2025-02-21T17:56:11.944Z"
   },
   {
    "duration": 13,
    "start_time": "2025-02-21T17:56:11.949Z"
   },
   {
    "duration": 13,
    "start_time": "2025-02-21T17:56:11.963Z"
   },
   {
    "duration": 13,
    "start_time": "2025-02-21T17:56:11.978Z"
   },
   {
    "duration": 13,
    "start_time": "2025-02-21T17:56:11.993Z"
   },
   {
    "duration": 18204,
    "start_time": "2025-02-21T17:56:12.007Z"
   },
   {
    "duration": 53,
    "start_time": "2025-02-21T17:56:30.213Z"
   },
   {
    "duration": 32,
    "start_time": "2025-02-21T17:56:30.267Z"
   },
   {
    "duration": 10,
    "start_time": "2025-02-21T17:56:30.304Z"
   },
   {
    "duration": 5,
    "start_time": "2025-02-21T17:56:30.315Z"
   },
   {
    "duration": 122,
    "start_time": "2025-02-21T17:56:30.321Z"
   },
   {
    "duration": 100,
    "start_time": "2025-02-21T17:56:30.444Z"
   },
   {
    "duration": 7,
    "start_time": "2025-02-21T17:56:30.546Z"
   },
   {
    "duration": 16,
    "start_time": "2025-02-21T17:56:30.554Z"
   },
   {
    "duration": 48,
    "start_time": "2025-02-21T17:56:30.572Z"
   },
   {
    "duration": 42,
    "start_time": "2025-02-21T17:56:30.622Z"
   },
   {
    "duration": 12,
    "start_time": "2025-02-21T17:56:30.665Z"
   },
   {
    "duration": 13,
    "start_time": "2025-02-21T17:56:30.679Z"
   },
   {
    "duration": 23,
    "start_time": "2025-02-21T17:56:30.693Z"
   },
   {
    "duration": 27,
    "start_time": "2025-02-21T17:56:30.718Z"
   },
   {
    "duration": 130,
    "start_time": "2025-02-21T17:56:30.747Z"
   },
   {
    "duration": 7,
    "start_time": "2025-02-21T17:56:30.879Z"
   },
   {
    "duration": 121,
    "start_time": "2025-02-21T17:56:30.887Z"
   },
   {
    "duration": 33,
    "start_time": "2025-02-21T17:56:31.010Z"
   },
   {
    "duration": 2,
    "start_time": "2025-02-21T18:03:06.151Z"
   },
   {
    "duration": 228,
    "start_time": "2025-02-21T18:03:08.967Z"
   },
   {
    "duration": 847,
    "start_time": "2025-02-21T18:03:43.512Z"
   },
   {
    "duration": 343,
    "start_time": "2025-02-21T18:07:27.716Z"
   },
   {
    "duration": 14,
    "start_time": "2025-02-21T18:20:38.028Z"
   },
   {
    "duration": 122,
    "start_time": "2025-02-21T18:24:52.033Z"
   },
   {
    "duration": 130,
    "start_time": "2025-02-21T18:26:03.165Z"
   },
   {
    "duration": 504,
    "start_time": "2025-02-21T18:26:53.345Z"
   },
   {
    "duration": 730,
    "start_time": "2025-02-21T18:48:27.161Z"
   },
   {
    "duration": 221,
    "start_time": "2025-02-21T18:53:18.962Z"
   },
   {
    "duration": 163,
    "start_time": "2025-02-21T18:53:43.338Z"
   },
   {
    "duration": 58,
    "start_time": "2025-02-21T19:03:31.028Z"
   },
   {
    "duration": 14,
    "start_time": "2025-02-21T19:05:49.566Z"
   },
   {
    "duration": 25,
    "start_time": "2025-02-21T19:06:41.642Z"
   },
   {
    "duration": 24,
    "start_time": "2025-02-21T19:07:15.305Z"
   },
   {
    "duration": 6,
    "start_time": "2025-02-21T19:07:39.447Z"
   },
   {
    "duration": 8,
    "start_time": "2025-02-21T19:11:10.117Z"
   },
   {
    "duration": 7,
    "start_time": "2025-02-21T19:11:43.397Z"
   },
   {
    "duration": 14,
    "start_time": "2025-02-21T19:12:19.009Z"
   },
   {
    "duration": 22,
    "start_time": "2025-02-21T19:42:58.843Z"
   },
   {
    "duration": 14,
    "start_time": "2025-02-21T19:45:35.789Z"
   },
   {
    "duration": 50,
    "start_time": "2025-02-21T19:55:32.298Z"
   },
   {
    "duration": 16,
    "start_time": "2025-02-21T19:58:33.200Z"
   },
   {
    "duration": 70,
    "start_time": "2025-02-21T19:59:53.342Z"
   },
   {
    "duration": 142,
    "start_time": "2025-02-21T20:00:36.056Z"
   },
   {
    "duration": 5,
    "start_time": "2025-02-21T20:02:28.132Z"
   },
   {
    "duration": 3,
    "start_time": "2025-02-21T20:02:41.569Z"
   },
   {
    "duration": 343,
    "start_time": "2025-02-21T20:21:09.042Z"
   },
   {
    "duration": 223,
    "start_time": "2025-02-21T20:24:46.512Z"
   },
   {
    "duration": 54,
    "start_time": "2025-02-21T20:25:56.054Z"
   },
   {
    "duration": 13,
    "start_time": "2025-02-21T20:28:37.063Z"
   },
   {
    "duration": 2,
    "start_time": "2025-02-21T20:30:25.508Z"
   },
   {
    "duration": 353,
    "start_time": "2025-02-21T20:31:20.642Z"
   },
   {
    "duration": 14,
    "start_time": "2025-02-21T20:31:39.713Z"
   },
   {
    "duration": 357,
    "start_time": "2025-02-21T20:32:35.164Z"
   },
   {
    "duration": 13,
    "start_time": "2025-02-21T20:32:39.007Z"
   },
   {
    "duration": 352,
    "start_time": "2025-02-21T20:33:20.030Z"
   },
   {
    "duration": 19,
    "start_time": "2025-02-21T20:33:23.023Z"
   },
   {
    "duration": 14,
    "start_time": "2025-02-21T20:33:51.212Z"
   },
   {
    "duration": 14,
    "start_time": "2025-02-21T20:34:04.018Z"
   },
   {
    "duration": 52,
    "start_time": "2025-02-21T20:37:45.996Z"
   },
   {
    "duration": 15,
    "start_time": "2025-02-21T20:38:24.505Z"
   },
   {
    "duration": 151,
    "start_time": "2025-02-21T20:39:40.294Z"
   },
   {
    "duration": 3,
    "start_time": "2025-02-21T20:40:17.283Z"
   },
   {
    "duration": 134,
    "start_time": "2025-02-21T20:40:29.497Z"
   },
   {
    "duration": 15,
    "start_time": "2025-02-21T20:40:33.948Z"
   },
   {
    "duration": 13,
    "start_time": "2025-02-21T20:40:43.422Z"
   },
   {
    "duration": 162,
    "start_time": "2025-02-22T00:47:46.461Z"
   },
   {
    "duration": 2812,
    "start_time": "2025-02-22T00:47:53.263Z"
   },
   {
    "duration": 461,
    "start_time": "2025-02-22T00:47:56.078Z"
   },
   {
    "duration": 14,
    "start_time": "2025-02-22T00:47:56.541Z"
   },
   {
    "duration": 11,
    "start_time": "2025-02-22T00:47:56.557Z"
   },
   {
    "duration": 99,
    "start_time": "2025-02-22T00:48:27.625Z"
   },
   {
    "duration": 60,
    "start_time": "2025-02-22T00:49:26.723Z"
   },
   {
    "duration": 334,
    "start_time": "2025-02-22T00:50:10.928Z"
   },
   {
    "duration": 293,
    "start_time": "2025-02-22T00:50:47.834Z"
   },
   {
    "duration": 88,
    "start_time": "2025-02-22T00:51:03.386Z"
   },
   {
    "duration": 15,
    "start_time": "2025-02-22T00:51:41.399Z"
   },
   {
    "duration": 15,
    "start_time": "2025-02-22T00:52:06.308Z"
   },
   {
    "duration": 27,
    "start_time": "2025-02-22T00:53:36.681Z"
   },
   {
    "duration": 15,
    "start_time": "2025-02-22T00:54:14.318Z"
   },
   {
    "duration": 2932,
    "start_time": "2025-02-22T16:49:02.584Z"
   },
   {
    "duration": 476,
    "start_time": "2025-02-22T16:49:05.518Z"
   },
   {
    "duration": 21,
    "start_time": "2025-02-22T16:49:05.997Z"
   },
   {
    "duration": 11,
    "start_time": "2025-02-22T16:49:06.020Z"
   },
   {
    "duration": 138,
    "start_time": "2025-02-22T16:49:06.034Z"
   },
   {
    "duration": 69,
    "start_time": "2025-02-22T16:49:06.174Z"
   },
   {
    "duration": 370,
    "start_time": "2025-02-22T16:49:06.245Z"
   },
   {
    "duration": 97,
    "start_time": "2025-02-22T16:49:06.617Z"
   },
   {
    "duration": 17,
    "start_time": "2025-02-22T16:49:06.715Z"
   },
   {
    "duration": 17,
    "start_time": "2025-02-22T16:49:06.734Z"
   },
   {
    "duration": 27,
    "start_time": "2025-02-22T16:49:06.753Z"
   },
   {
    "duration": 38,
    "start_time": "2025-02-22T16:49:06.784Z"
   },
   {
    "duration": 15,
    "start_time": "2025-02-22T16:54:35.238Z"
   },
   {
    "duration": 23,
    "start_time": "2025-02-22T16:55:08.923Z"
   },
   {
    "duration": 305,
    "start_time": "2025-02-22T16:55:57.545Z"
   },
   {
    "duration": 15,
    "start_time": "2025-02-22T16:56:08.221Z"
   },
   {
    "duration": 16,
    "start_time": "2025-02-22T16:56:49.615Z"
   },
   {
    "duration": 19,
    "start_time": "2025-02-22T16:56:55.965Z"
   },
   {
    "duration": 32,
    "start_time": "2025-02-22T16:57:27.626Z"
   },
   {
    "duration": 36,
    "start_time": "2025-02-22T16:57:44.565Z"
   },
   {
    "duration": 37,
    "start_time": "2025-02-22T16:58:02.613Z"
   },
   {
    "duration": 30,
    "start_time": "2025-02-22T16:58:27.714Z"
   },
   {
    "duration": 25,
    "start_time": "2025-02-22T16:58:46.208Z"
   },
   {
    "duration": 14,
    "start_time": "2025-02-22T16:59:35.419Z"
   },
   {
    "duration": 20,
    "start_time": "2025-02-22T17:01:04.081Z"
   },
   {
    "duration": 21,
    "start_time": "2025-02-22T17:23:15.238Z"
   },
   {
    "duration": 13,
    "start_time": "2025-02-22T17:37:21.594Z"
   },
   {
    "duration": 19,
    "start_time": "2025-02-22T17:38:08.525Z"
   },
   {
    "duration": 19,
    "start_time": "2025-02-22T17:39:12.881Z"
   },
   {
    "duration": 158,
    "start_time": "2025-02-22T17:39:38.313Z"
   },
   {
    "duration": 27,
    "start_time": "2025-02-22T17:40:27.155Z"
   },
   {
    "duration": 29,
    "start_time": "2025-02-22T17:40:52.175Z"
   },
   {
    "duration": 25,
    "start_time": "2025-02-22T17:41:24.430Z"
   },
   {
    "duration": 22,
    "start_time": "2025-02-22T17:41:46.408Z"
   },
   {
    "duration": 161,
    "start_time": "2025-02-22T17:46:38.907Z"
   },
   {
    "duration": 21,
    "start_time": "2025-02-22T17:46:58.460Z"
   },
   {
    "duration": 160,
    "start_time": "2025-02-22T17:47:44.848Z"
   },
   {
    "duration": 32,
    "start_time": "2025-02-22T17:48:03.308Z"
   },
   {
    "duration": 157,
    "start_time": "2025-02-22T17:49:13.527Z"
   },
   {
    "duration": 18,
    "start_time": "2025-02-22T17:49:32.929Z"
   },
   {
    "duration": 20,
    "start_time": "2025-02-22T17:50:03.152Z"
   },
   {
    "duration": 15,
    "start_time": "2025-02-22T17:50:19.555Z"
   },
   {
    "duration": 123,
    "start_time": "2025-02-22T17:50:59.326Z"
   },
   {
    "duration": 103,
    "start_time": "2025-02-22T17:51:45.216Z"
   },
   {
    "duration": 11,
    "start_time": "2025-02-22T17:52:21.878Z"
   },
   {
    "duration": 49,
    "start_time": "2025-02-22T17:56:59.165Z"
   },
   {
    "duration": 114,
    "start_time": "2025-02-22T17:58:33.292Z"
   },
   {
    "duration": 4,
    "start_time": "2025-02-22T17:59:38.615Z"
   },
   {
    "duration": 128,
    "start_time": "2025-02-22T18:00:51.242Z"
   },
   {
    "duration": 16,
    "start_time": "2025-02-22T18:05:13.872Z"
   },
   {
    "duration": 456,
    "start_time": "2025-02-22T18:05:23.559Z"
   },
   {
    "duration": 3,
    "start_time": "2025-02-22T18:05:26.222Z"
   },
   {
    "duration": 25,
    "start_time": "2025-02-22T18:06:57.131Z"
   },
   {
    "duration": 4,
    "start_time": "2025-02-22T18:07:10.187Z"
   },
   {
    "duration": 2,
    "start_time": "2025-02-22T18:07:59.871Z"
   },
   {
    "duration": 15,
    "start_time": "2025-02-22T18:08:15.209Z"
   },
   {
    "duration": 4,
    "start_time": "2025-02-22T18:08:50.998Z"
   },
   {
    "duration": 1087,
    "start_time": "2025-02-22T18:08:59.946Z"
   },
   {
    "duration": 418,
    "start_time": "2025-02-22T18:09:01.035Z"
   },
   {
    "duration": 12,
    "start_time": "2025-02-22T18:09:01.457Z"
   },
   {
    "duration": 9,
    "start_time": "2025-02-22T18:09:01.472Z"
   },
   {
    "duration": 112,
    "start_time": "2025-02-22T18:09:01.483Z"
   },
   {
    "duration": 64,
    "start_time": "2025-02-22T18:09:01.597Z"
   },
   {
    "duration": 346,
    "start_time": "2025-02-22T18:09:01.663Z"
   },
   {
    "duration": 88,
    "start_time": "2025-02-22T18:09:02.011Z"
   },
   {
    "duration": 20,
    "start_time": "2025-02-22T18:09:02.109Z"
   },
   {
    "duration": 16,
    "start_time": "2025-02-22T18:09:02.131Z"
   },
   {
    "duration": 28,
    "start_time": "2025-02-22T18:09:02.149Z"
   },
   {
    "duration": 35,
    "start_time": "2025-02-22T18:09:02.179Z"
   },
   {
    "duration": 18,
    "start_time": "2025-02-22T18:09:02.218Z"
   },
   {
    "duration": 15,
    "start_time": "2025-02-22T18:09:02.238Z"
   },
   {
    "duration": 18,
    "start_time": "2025-02-22T18:09:02.254Z"
   },
   {
    "duration": 41,
    "start_time": "2025-02-22T18:09:02.274Z"
   },
   {
    "duration": 18,
    "start_time": "2025-02-22T18:09:02.317Z"
   },
   {
    "duration": 23,
    "start_time": "2025-02-22T18:09:02.337Z"
   },
   {
    "duration": 23,
    "start_time": "2025-02-22T18:09:02.362Z"
   },
   {
    "duration": 43,
    "start_time": "2025-02-22T18:09:02.387Z"
   },
   {
    "duration": 23,
    "start_time": "2025-02-22T18:09:02.432Z"
   },
   {
    "duration": 24,
    "start_time": "2025-02-22T18:09:02.456Z"
   },
   {
    "duration": 32,
    "start_time": "2025-02-22T18:09:02.481Z"
   },
   {
    "duration": 17,
    "start_time": "2025-02-22T18:09:02.515Z"
   },
   {
    "duration": 12,
    "start_time": "2025-02-22T18:09:02.534Z"
   },
   {
    "duration": 16,
    "start_time": "2025-02-22T18:09:02.549Z"
   },
   {
    "duration": 45,
    "start_time": "2025-02-22T18:09:02.566Z"
   },
   {
    "duration": 143,
    "start_time": "2025-02-22T18:09:02.612Z"
   },
   {
    "duration": 23,
    "start_time": "2025-02-22T18:09:02.757Z"
   },
   {
    "duration": 37,
    "start_time": "2025-02-22T18:09:02.782Z"
   },
   {
    "duration": 25,
    "start_time": "2025-02-22T18:09:02.820Z"
   },
   {
    "duration": 23,
    "start_time": "2025-02-22T18:09:02.846Z"
   },
   {
    "duration": 176,
    "start_time": "2025-02-22T18:09:02.870Z"
   },
   {
    "duration": 21,
    "start_time": "2025-02-22T18:09:03.048Z"
   },
   {
    "duration": 175,
    "start_time": "2025-02-22T18:09:03.071Z"
   },
   {
    "duration": 23,
    "start_time": "2025-02-22T18:09:03.248Z"
   },
   {
    "duration": 166,
    "start_time": "2025-02-22T18:09:03.272Z"
   },
   {
    "duration": 17,
    "start_time": "2025-02-22T18:09:03.439Z"
   },
   {
    "duration": 19,
    "start_time": "2025-02-22T18:09:03.458Z"
   },
   {
    "duration": 27,
    "start_time": "2025-02-22T18:09:03.482Z"
   },
   {
    "duration": 83,
    "start_time": "2025-02-22T18:09:03.511Z"
   },
   {
    "duration": 113,
    "start_time": "2025-02-22T18:09:03.596Z"
   },
   {
    "duration": 9,
    "start_time": "2025-02-22T18:09:03.711Z"
   },
   {
    "duration": 41,
    "start_time": "2025-02-22T18:09:03.723Z"
   },
   {
    "duration": 86,
    "start_time": "2025-02-22T18:09:03.768Z"
   },
   {
    "duration": 4,
    "start_time": "2025-02-22T18:09:03.855Z"
   },
   {
    "duration": 114,
    "start_time": "2025-02-22T18:09:03.861Z"
   },
   {
    "duration": 474,
    "start_time": "2025-02-22T18:09:03.977Z"
   },
   {
    "duration": 4,
    "start_time": "2025-02-22T18:09:04.453Z"
   },
   {
    "duration": 25,
    "start_time": "2025-02-22T18:09:04.459Z"
   },
   {
    "duration": 25,
    "start_time": "2025-02-22T18:09:04.485Z"
   },
   {
    "duration": 3,
    "start_time": "2025-02-22T18:09:04.512Z"
   },
   {
    "duration": 3,
    "start_time": "2025-02-22T18:09:04.516Z"
   },
   {
    "duration": 4,
    "start_time": "2025-02-22T18:12:49.365Z"
   },
   {
    "duration": 4464,
    "start_time": "2025-02-22T18:13:50.359Z"
   },
   {
    "duration": 4,
    "start_time": "2025-02-22T18:14:28.995Z"
   },
   {
    "duration": 4121,
    "start_time": "2025-02-22T18:14:36.110Z"
   },
   {
    "duration": 1048,
    "start_time": "2025-02-22T18:16:28.488Z"
   },
   {
    "duration": 418,
    "start_time": "2025-02-22T18:16:29.538Z"
   },
   {
    "duration": 15,
    "start_time": "2025-02-22T18:16:29.957Z"
   },
   {
    "duration": 10,
    "start_time": "2025-02-22T18:16:29.974Z"
   },
   {
    "duration": 107,
    "start_time": "2025-02-22T18:16:29.986Z"
   },
   {
    "duration": 60,
    "start_time": "2025-02-22T18:16:30.095Z"
   },
   {
    "duration": 345,
    "start_time": "2025-02-22T18:16:30.157Z"
   },
   {
    "duration": 91,
    "start_time": "2025-02-22T18:16:30.503Z"
   },
   {
    "duration": 24,
    "start_time": "2025-02-22T18:16:30.596Z"
   },
   {
    "duration": 15,
    "start_time": "2025-02-22T18:16:30.624Z"
   },
   {
    "duration": 29,
    "start_time": "2025-02-22T18:16:30.641Z"
   },
   {
    "duration": 15,
    "start_time": "2025-02-22T18:16:30.672Z"
   },
   {
    "duration": 22,
    "start_time": "2025-02-22T18:16:30.709Z"
   },
   {
    "duration": 15,
    "start_time": "2025-02-22T18:16:30.733Z"
   },
   {
    "duration": 20,
    "start_time": "2025-02-22T18:16:30.750Z"
   },
   {
    "duration": 38,
    "start_time": "2025-02-22T18:16:30.771Z"
   },
   {
    "duration": 18,
    "start_time": "2025-02-22T18:16:30.811Z"
   },
   {
    "duration": 23,
    "start_time": "2025-02-22T18:16:30.831Z"
   },
   {
    "duration": 22,
    "start_time": "2025-02-22T18:16:30.856Z"
   },
   {
    "duration": 45,
    "start_time": "2025-02-22T18:16:30.880Z"
   },
   {
    "duration": 24,
    "start_time": "2025-02-22T18:16:30.926Z"
   },
   {
    "duration": 23,
    "start_time": "2025-02-22T18:16:30.951Z"
   },
   {
    "duration": 34,
    "start_time": "2025-02-22T18:16:30.976Z"
   },
   {
    "duration": 17,
    "start_time": "2025-02-22T18:16:31.011Z"
   },
   {
    "duration": 13,
    "start_time": "2025-02-22T18:16:31.030Z"
   },
   {
    "duration": 16,
    "start_time": "2025-02-22T18:16:31.045Z"
   },
   {
    "duration": 20,
    "start_time": "2025-02-22T18:16:31.062Z"
   },
   {
    "duration": 142,
    "start_time": "2025-02-22T18:16:31.110Z"
   },
   {
    "duration": 23,
    "start_time": "2025-02-22T18:16:31.254Z"
   },
   {
    "duration": 37,
    "start_time": "2025-02-22T18:16:31.279Z"
   },
   {
    "duration": 25,
    "start_time": "2025-02-22T18:16:31.317Z"
   },
   {
    "duration": 22,
    "start_time": "2025-02-22T18:16:31.344Z"
   },
   {
    "duration": 173,
    "start_time": "2025-02-22T18:16:31.368Z"
   },
   {
    "duration": 22,
    "start_time": "2025-02-22T18:16:31.542Z"
   },
   {
    "duration": 169,
    "start_time": "2025-02-22T18:16:31.566Z"
   },
   {
    "duration": 23,
    "start_time": "2025-02-22T18:16:31.736Z"
   },
   {
    "duration": 175,
    "start_time": "2025-02-22T18:16:31.761Z"
   },
   {
    "duration": 17,
    "start_time": "2025-02-22T18:16:31.938Z"
   },
   {
    "duration": 21,
    "start_time": "2025-02-22T18:16:31.957Z"
   },
   {
    "duration": 30,
    "start_time": "2025-02-22T18:16:31.979Z"
   },
   {
    "duration": 83,
    "start_time": "2025-02-22T18:16:32.010Z"
   },
   {
    "duration": 118,
    "start_time": "2025-02-22T18:16:32.095Z"
   },
   {
    "duration": 9,
    "start_time": "2025-02-22T18:16:32.215Z"
   },
   {
    "duration": 44,
    "start_time": "2025-02-22T18:16:32.226Z"
   },
   {
    "duration": 91,
    "start_time": "2025-02-22T18:16:32.271Z"
   },
   {
    "duration": 4,
    "start_time": "2025-02-22T18:16:32.364Z"
   },
   {
    "duration": 111,
    "start_time": "2025-02-22T18:16:32.370Z"
   },
   {
    "duration": 476,
    "start_time": "2025-02-22T18:16:32.483Z"
   },
   {
    "duration": 4,
    "start_time": "2025-02-22T18:16:32.960Z"
   },
   {
    "duration": 25,
    "start_time": "2025-02-22T18:16:32.966Z"
   },
   {
    "duration": 17,
    "start_time": "2025-02-22T18:16:32.993Z"
   },
   {
    "duration": 3,
    "start_time": "2025-02-22T18:16:33.012Z"
   },
   {
    "duration": 3,
    "start_time": "2025-02-22T18:16:33.016Z"
   },
   {
    "duration": 4188,
    "start_time": "2025-02-22T18:16:33.021Z"
   },
   {
    "duration": 4,
    "start_time": "2025-02-22T18:17:14.364Z"
   },
   {
    "duration": 4331,
    "start_time": "2025-02-22T18:18:50.979Z"
   },
   {
    "duration": 3,
    "start_time": "2025-02-22T18:26:43.810Z"
   },
   {
    "duration": 135924,
    "start_time": "2025-02-22T18:26:50.807Z"
   },
   {
    "duration": 4,
    "start_time": "2025-02-22T18:29:06.733Z"
   },
   {
    "duration": 4112,
    "start_time": "2025-02-22T18:29:21.617Z"
   },
   {
    "duration": 2712,
    "start_time": "2025-02-22T18:30:51.797Z"
   },
   {
    "duration": 2027,
    "start_time": "2025-02-22T18:31:54.884Z"
   },
   {
    "duration": 13897,
    "start_time": "2025-02-22T18:33:28.344Z"
   },
   {
    "duration": 5,
    "start_time": "2025-02-22T18:33:46.166Z"
   },
   {
    "duration": 2596,
    "start_time": "2025-02-22T18:33:49.743Z"
   },
   {
    "duration": 6,
    "start_time": "2025-02-22T18:34:04.753Z"
   },
   {
    "duration": 3,
    "start_time": "2025-02-22T18:34:57.384Z"
   },
   {
    "duration": 1901,
    "start_time": "2025-02-22T18:35:01.525Z"
   },
   {
    "duration": 4,
    "start_time": "2025-02-22T18:36:17.997Z"
   },
   {
    "duration": 80923,
    "start_time": "2025-02-22T18:36:23.520Z"
   },
   {
    "duration": 4,
    "start_time": "2025-02-22T18:43:24.696Z"
   },
   {
    "duration": 439363,
    "start_time": "2025-02-22T18:43:28.295Z"
   },
   {
    "duration": 64222,
    "start_time": "2025-02-22T18:56:12.790Z"
   },
   {
    "duration": 388486,
    "start_time": "2025-02-22T18:58:10.148Z"
   },
   {
    "duration": 46589,
    "start_time": "2025-02-22T19:05:46.007Z"
   },
   {
    "duration": 37167,
    "start_time": "2025-02-22T19:08:18.327Z"
   },
   {
    "duration": 47507,
    "start_time": "2025-02-22T19:11:26.095Z"
   },
   {
    "duration": 4,
    "start_time": "2025-02-22T19:13:42.824Z"
   },
   {
    "duration": 1744,
    "start_time": "2025-02-22T19:13:47.666Z"
   },
   {
    "duration": 868,
    "start_time": "2025-02-22T19:17:23.051Z"
   },
   {
    "duration": 4,
    "start_time": "2025-02-22T19:19:05.177Z"
   },
   {
    "duration": 1319,
    "start_time": "2025-02-22T19:19:09.286Z"
   },
   {
    "duration": 1475,
    "start_time": "2025-02-22T19:19:51.147Z"
   },
   {
    "duration": 4,
    "start_time": "2025-02-22T20:57:57.552Z"
   },
   {
    "duration": 46512,
    "start_time": "2025-02-22T20:58:17.572Z"
   },
   {
    "duration": 7,
    "start_time": "2025-02-23T09:41:35.203Z"
   },
   {
    "duration": 2896,
    "start_time": "2025-02-23T17:04:29.129Z"
   },
   {
    "duration": 471,
    "start_time": "2025-02-23T17:04:32.027Z"
   },
   {
    "duration": 20,
    "start_time": "2025-02-23T17:04:32.499Z"
   },
   {
    "duration": 9,
    "start_time": "2025-02-23T17:04:32.522Z"
   },
   {
    "duration": 114,
    "start_time": "2025-02-23T17:04:32.534Z"
   },
   {
    "duration": 75,
    "start_time": "2025-02-23T17:04:32.650Z"
   },
   {
    "duration": 358,
    "start_time": "2025-02-23T17:04:32.727Z"
   },
   {
    "duration": 96,
    "start_time": "2025-02-23T17:04:33.087Z"
   },
   {
    "duration": 28,
    "start_time": "2025-02-23T17:04:33.185Z"
   },
   {
    "duration": 18,
    "start_time": "2025-02-23T17:04:33.216Z"
   },
   {
    "duration": 26,
    "start_time": "2025-02-23T17:04:33.235Z"
   },
   {
    "duration": 13,
    "start_time": "2025-02-23T17:04:33.263Z"
   },
   {
    "duration": 42,
    "start_time": "2025-02-23T17:04:33.278Z"
   },
   {
    "duration": 14,
    "start_time": "2025-02-23T17:04:33.322Z"
   },
   {
    "duration": 17,
    "start_time": "2025-02-23T17:04:33.338Z"
   },
   {
    "duration": 14,
    "start_time": "2025-02-23T17:04:33.356Z"
   },
   {
    "duration": 37,
    "start_time": "2025-02-23T17:04:33.373Z"
   },
   {
    "duration": 25,
    "start_time": "2025-02-23T17:04:33.412Z"
   },
   {
    "duration": 25,
    "start_time": "2025-02-23T17:04:33.440Z"
   },
   {
    "duration": 45,
    "start_time": "2025-02-23T17:04:33.467Z"
   },
   {
    "duration": 23,
    "start_time": "2025-02-23T17:04:33.514Z"
   },
   {
    "duration": 24,
    "start_time": "2025-02-23T17:04:33.538Z"
   },
   {
    "duration": 15,
    "start_time": "2025-02-23T17:04:33.563Z"
   },
   {
    "duration": 37,
    "start_time": "2025-02-23T17:04:33.580Z"
   },
   {
    "duration": 12,
    "start_time": "2025-02-23T17:04:33.619Z"
   },
   {
    "duration": 15,
    "start_time": "2025-02-23T17:04:33.633Z"
   },
   {
    "duration": 18,
    "start_time": "2025-02-23T17:04:33.650Z"
   },
   {
    "duration": 165,
    "start_time": "2025-02-23T17:04:33.672Z"
   },
   {
    "duration": 22,
    "start_time": "2025-02-23T17:04:33.839Z"
   },
   {
    "duration": 24,
    "start_time": "2025-02-23T17:04:33.863Z"
   },
   {
    "duration": 24,
    "start_time": "2025-02-23T17:04:33.906Z"
   },
   {
    "duration": 22,
    "start_time": "2025-02-23T17:04:33.931Z"
   },
   {
    "duration": 168,
    "start_time": "2025-02-23T17:04:33.955Z"
   },
   {
    "duration": 24,
    "start_time": "2025-02-23T17:04:34.125Z"
   },
   {
    "duration": 174,
    "start_time": "2025-02-23T17:04:34.151Z"
   },
   {
    "duration": 23,
    "start_time": "2025-02-23T17:04:34.327Z"
   },
   {
    "duration": 165,
    "start_time": "2025-02-23T17:04:34.352Z"
   },
   {
    "duration": 17,
    "start_time": "2025-02-23T17:04:34.519Z"
   },
   {
    "duration": 18,
    "start_time": "2025-02-23T17:04:34.538Z"
   },
   {
    "duration": 10,
    "start_time": "2025-02-23T17:04:34.557Z"
   },
   {
    "duration": 107,
    "start_time": "2025-02-23T17:04:34.568Z"
   },
   {
    "duration": 111,
    "start_time": "2025-02-23T17:04:34.677Z"
   },
   {
    "duration": 9,
    "start_time": "2025-02-23T17:04:34.789Z"
   },
   {
    "duration": 45,
    "start_time": "2025-02-23T17:04:34.800Z"
   },
   {
    "duration": 81,
    "start_time": "2025-02-23T17:04:34.847Z"
   },
   {
    "duration": 4,
    "start_time": "2025-02-23T17:04:34.929Z"
   },
   {
    "duration": 103,
    "start_time": "2025-02-23T17:04:34.934Z"
   },
   {
    "duration": 484,
    "start_time": "2025-02-23T17:04:35.039Z"
   },
   {
    "duration": 4,
    "start_time": "2025-02-23T17:04:35.525Z"
   },
   {
    "duration": 26,
    "start_time": "2025-02-23T17:04:35.530Z"
   },
   {
    "duration": 4,
    "start_time": "2025-02-23T17:04:35.558Z"
   },
   {
    "duration": 4,
    "start_time": "2025-02-23T17:04:35.564Z"
   },
   {
    "duration": 4,
    "start_time": "2025-02-23T17:04:35.569Z"
   },
   {
    "duration": 4445,
    "start_time": "2025-02-23T17:04:35.574Z"
   },
   {
    "duration": 133380,
    "start_time": "2025-02-23T17:04:40.020Z"
   },
   {
    "duration": 3007,
    "start_time": "2025-02-23T17:06:53.402Z"
   },
   {
    "duration": 2095,
    "start_time": "2025-02-23T17:06:56.411Z"
   },
   {
    "duration": 3,
    "start_time": "2025-02-23T17:06:58.508Z"
   },
   {
    "duration": 0,
    "start_time": "2025-02-23T17:06:58.513Z"
   },
   {
    "duration": 0,
    "start_time": "2025-02-23T17:06:58.515Z"
   },
   {
    "duration": 0,
    "start_time": "2025-02-23T17:06:58.517Z"
   },
   {
    "duration": 0,
    "start_time": "2025-02-23T17:06:58.518Z"
   },
   {
    "duration": 0,
    "start_time": "2025-02-23T17:06:58.519Z"
   },
   {
    "duration": 1,
    "start_time": "2025-02-23T17:06:58.519Z"
   },
   {
    "duration": 0,
    "start_time": "2025-02-23T17:06:58.520Z"
   },
   {
    "duration": 0,
    "start_time": "2025-02-23T17:06:58.522Z"
   },
   {
    "duration": 0,
    "start_time": "2025-02-23T17:06:58.523Z"
   },
   {
    "duration": 0,
    "start_time": "2025-02-23T17:06:58.524Z"
   },
   {
    "duration": 0,
    "start_time": "2025-02-23T17:06:58.525Z"
   },
   {
    "duration": 14312,
    "start_time": "2025-02-23T17:19:17.916Z"
   },
   {
    "duration": 2769,
    "start_time": "2025-02-25T01:27:24.088Z"
   },
   {
    "duration": 473,
    "start_time": "2025-02-25T01:27:26.859Z"
   },
   {
    "duration": 13,
    "start_time": "2025-02-25T01:27:27.334Z"
   },
   {
    "duration": 10,
    "start_time": "2025-02-25T01:27:27.348Z"
   },
   {
    "duration": 106,
    "start_time": "2025-02-25T01:27:27.361Z"
   },
   {
    "duration": 74,
    "start_time": "2025-02-25T01:27:27.469Z"
   },
   {
    "duration": 345,
    "start_time": "2025-02-25T01:27:27.545Z"
   },
   {
    "duration": 98,
    "start_time": "2025-02-25T01:27:27.892Z"
   },
   {
    "duration": 15,
    "start_time": "2025-02-25T01:27:27.992Z"
   },
   {
    "duration": 27,
    "start_time": "2025-02-25T01:27:28.009Z"
   },
   {
    "duration": 25,
    "start_time": "2025-02-25T01:27:28.038Z"
   },
   {
    "duration": 15,
    "start_time": "2025-02-25T01:27:28.065Z"
   },
   {
    "duration": 22,
    "start_time": "2025-02-25T01:27:28.081Z"
   },
   {
    "duration": 33,
    "start_time": "2025-02-25T01:27:28.107Z"
   },
   {
    "duration": 18,
    "start_time": "2025-02-25T01:27:28.141Z"
   },
   {
    "duration": 13,
    "start_time": "2025-02-25T01:27:28.161Z"
   },
   {
    "duration": 20,
    "start_time": "2025-02-25T01:27:28.175Z"
   },
   {
    "duration": 55,
    "start_time": "2025-02-25T01:27:28.197Z"
   },
   {
    "duration": 24,
    "start_time": "2025-02-25T01:27:28.255Z"
   },
   {
    "duration": 43,
    "start_time": "2025-02-25T01:27:28.282Z"
   },
   {
    "duration": 22,
    "start_time": "2025-02-25T01:27:28.327Z"
   },
   {
    "duration": 24,
    "start_time": "2025-02-25T01:27:28.351Z"
   },
   {
    "duration": 12,
    "start_time": "2025-02-25T01:27:28.377Z"
   },
   {
    "duration": 37,
    "start_time": "2025-02-25T01:27:28.391Z"
   },
   {
    "duration": 13,
    "start_time": "2025-02-25T01:27:28.429Z"
   },
   {
    "duration": 15,
    "start_time": "2025-02-25T01:27:28.443Z"
   },
   {
    "duration": 19,
    "start_time": "2025-02-25T01:27:28.460Z"
   },
   {
    "duration": 216,
    "start_time": "2025-02-25T01:27:28.480Z"
   },
   {
    "duration": 28,
    "start_time": "2025-02-25T01:27:28.697Z"
   },
   {
    "duration": 24,
    "start_time": "2025-02-25T01:27:28.727Z"
   },
   {
    "duration": 24,
    "start_time": "2025-02-25T01:27:28.753Z"
   },
   {
    "duration": 21,
    "start_time": "2025-02-25T01:27:28.779Z"
   },
   {
    "duration": 158,
    "start_time": "2025-02-25T01:27:28.823Z"
   },
   {
    "duration": 21,
    "start_time": "2025-02-25T01:27:28.983Z"
   },
   {
    "duration": 164,
    "start_time": "2025-02-25T01:27:29.005Z"
   },
   {
    "duration": 22,
    "start_time": "2025-02-25T01:27:29.171Z"
   },
   {
    "duration": 189,
    "start_time": "2025-02-25T01:27:29.195Z"
   },
   {
    "duration": 19,
    "start_time": "2025-02-25T01:27:29.386Z"
   },
   {
    "duration": 31,
    "start_time": "2025-02-25T01:27:29.407Z"
   },
   {
    "duration": 10,
    "start_time": "2025-02-25T01:27:29.440Z"
   },
   {
    "duration": 96,
    "start_time": "2025-02-25T01:27:29.455Z"
   },
   {
    "duration": 106,
    "start_time": "2025-02-25T01:27:29.552Z"
   },
   {
    "duration": 9,
    "start_time": "2025-02-25T01:27:29.660Z"
   },
   {
    "duration": 55,
    "start_time": "2025-02-25T01:27:29.670Z"
   },
   {
    "duration": 73,
    "start_time": "2025-02-25T01:27:29.727Z"
   },
   {
    "duration": 4,
    "start_time": "2025-02-25T01:27:29.801Z"
   },
   {
    "duration": 117,
    "start_time": "2025-02-25T01:27:29.807Z"
   },
   {
    "duration": 461,
    "start_time": "2025-02-25T01:27:29.927Z"
   },
   {
    "duration": 4,
    "start_time": "2025-02-25T01:27:30.389Z"
   },
   {
    "duration": 40,
    "start_time": "2025-02-25T01:27:30.395Z"
   },
   {
    "duration": 4,
    "start_time": "2025-02-25T01:27:30.436Z"
   },
   {
    "duration": 3,
    "start_time": "2025-02-25T01:27:30.442Z"
   },
   {
    "duration": 7,
    "start_time": "2025-02-25T01:27:30.447Z"
   },
   {
    "duration": 4097,
    "start_time": "2025-02-25T01:27:30.456Z"
   },
   {
    "duration": 131832,
    "start_time": "2025-02-25T01:27:34.558Z"
   },
   {
    "duration": 2846,
    "start_time": "2025-02-25T01:29:46.392Z"
   },
   {
    "duration": 2100,
    "start_time": "2025-02-25T01:29:49.240Z"
   },
   {
    "duration": 14063,
    "start_time": "2025-02-25T01:29:51.342Z"
   },
   {
    "duration": 80362,
    "start_time": "2025-02-25T01:30:05.407Z"
   },
   {
    "duration": 419876,
    "start_time": "2025-02-25T01:31:25.773Z"
   },
   {
    "duration": 61774,
    "start_time": "2025-02-25T01:38:25.651Z"
   },
   {
    "duration": 27611,
    "start_time": "2025-02-25T01:39:27.427Z"
   },
   {
    "duration": 44762,
    "start_time": "2025-02-25T01:39:55.041Z"
   },
   {
    "duration": 36690,
    "start_time": "2025-02-25T01:40:39.807Z"
   },
   {
    "duration": 45434,
    "start_time": "2025-02-25T01:41:16.498Z"
   },
   {
    "duration": 1709,
    "start_time": "2025-02-25T01:42:01.934Z"
   },
   {
    "duration": 1019,
    "start_time": "2025-02-25T01:42:03.724Z"
   },
   {
    "duration": 1256,
    "start_time": "2025-02-25T01:42:04.824Z"
   },
   {
    "duration": 1480,
    "start_time": "2025-02-25T01:42:06.082Z"
   },
   {
    "duration": 3,
    "start_time": "2025-02-25T02:08:33.687Z"
   },
   {
    "duration": 4165,
    "start_time": "2025-02-25T02:09:02.966Z"
   },
   {
    "duration": 1050,
    "start_time": "2025-02-25T02:23:38.619Z"
   },
   {
    "duration": 412,
    "start_time": "2025-02-25T02:23:39.672Z"
   },
   {
    "duration": 15,
    "start_time": "2025-02-25T02:23:40.085Z"
   },
   {
    "duration": 10,
    "start_time": "2025-02-25T02:23:40.101Z"
   },
   {
    "duration": 92,
    "start_time": "2025-02-25T02:23:40.125Z"
   },
   {
    "duration": 86,
    "start_time": "2025-02-25T02:23:40.224Z"
   },
   {
    "duration": 359,
    "start_time": "2025-02-25T02:23:40.312Z"
   },
   {
    "duration": 96,
    "start_time": "2025-02-25T02:23:40.673Z"
   },
   {
    "duration": 15,
    "start_time": "2025-02-25T02:23:40.771Z"
   },
   {
    "duration": 14,
    "start_time": "2025-02-25T02:23:40.788Z"
   },
   {
    "duration": 41,
    "start_time": "2025-02-25T02:23:40.804Z"
   },
   {
    "duration": 14,
    "start_time": "2025-02-25T02:23:40.846Z"
   },
   {
    "duration": 18,
    "start_time": "2025-02-25T02:23:40.862Z"
   },
   {
    "duration": 14,
    "start_time": "2025-02-25T02:23:40.883Z"
   },
   {
    "duration": 43,
    "start_time": "2025-02-25T02:23:40.898Z"
   },
   {
    "duration": 14,
    "start_time": "2025-02-25T02:23:40.942Z"
   },
   {
    "duration": 17,
    "start_time": "2025-02-25T02:23:40.957Z"
   },
   {
    "duration": 26,
    "start_time": "2025-02-25T02:23:40.976Z"
   },
   {
    "duration": 22,
    "start_time": "2025-02-25T02:23:41.025Z"
   },
   {
    "duration": 23,
    "start_time": "2025-02-25T02:23:41.049Z"
   },
   {
    "duration": 23,
    "start_time": "2025-02-25T02:23:41.073Z"
   },
   {
    "duration": 43,
    "start_time": "2025-02-25T02:23:41.098Z"
   },
   {
    "duration": 14,
    "start_time": "2025-02-25T02:23:41.143Z"
   },
   {
    "duration": 17,
    "start_time": "2025-02-25T02:23:41.158Z"
   },
   {
    "duration": 16,
    "start_time": "2025-02-25T02:23:41.177Z"
   },
   {
    "duration": 39,
    "start_time": "2025-02-25T02:23:41.195Z"
   },
   {
    "duration": 19,
    "start_time": "2025-02-25T02:23:41.236Z"
   },
   {
    "duration": 156,
    "start_time": "2025-02-25T02:23:41.257Z"
   },
   {
    "duration": 32,
    "start_time": "2025-02-25T02:23:41.415Z"
   },
   {
    "duration": 26,
    "start_time": "2025-02-25T02:23:41.448Z"
   },
   {
    "duration": 26,
    "start_time": "2025-02-25T02:23:41.476Z"
   },
   {
    "duration": 34,
    "start_time": "2025-02-25T02:23:41.503Z"
   },
   {
    "duration": 170,
    "start_time": "2025-02-25T02:23:41.538Z"
   },
   {
    "duration": 25,
    "start_time": "2025-02-25T02:23:41.710Z"
   },
   {
    "duration": 161,
    "start_time": "2025-02-25T02:23:41.737Z"
   },
   {
    "duration": 32,
    "start_time": "2025-02-25T02:23:41.899Z"
   },
   {
    "duration": 157,
    "start_time": "2025-02-25T02:23:41.932Z"
   },
   {
    "duration": 18,
    "start_time": "2025-02-25T02:23:42.091Z"
   },
   {
    "duration": 27,
    "start_time": "2025-02-25T02:23:42.111Z"
   },
   {
    "duration": 10,
    "start_time": "2025-02-25T02:23:42.140Z"
   },
   {
    "duration": 100,
    "start_time": "2025-02-25T02:23:42.154Z"
   },
   {
    "duration": 109,
    "start_time": "2025-02-25T02:23:42.256Z"
   },
   {
    "duration": 1003,
    "start_time": "2025-02-25T02:25:19.249Z"
   },
   {
    "duration": 408,
    "start_time": "2025-02-25T02:25:20.254Z"
   },
   {
    "duration": 15,
    "start_time": "2025-02-25T02:25:20.664Z"
   },
   {
    "duration": 12,
    "start_time": "2025-02-25T02:25:20.682Z"
   },
   {
    "duration": 128,
    "start_time": "2025-02-25T02:25:20.696Z"
   },
   {
    "duration": 59,
    "start_time": "2025-02-25T02:25:20.826Z"
   },
   {
    "duration": 359,
    "start_time": "2025-02-25T02:25:20.887Z"
   },
   {
    "duration": 101,
    "start_time": "2025-02-25T02:25:21.248Z"
   },
   {
    "duration": 16,
    "start_time": "2025-02-25T02:25:21.350Z"
   },
   {
    "duration": 15,
    "start_time": "2025-02-25T02:25:21.370Z"
   },
   {
    "duration": 46,
    "start_time": "2025-02-25T02:25:21.386Z"
   },
   {
    "duration": 16,
    "start_time": "2025-02-25T02:25:21.434Z"
   },
   {
    "duration": 18,
    "start_time": "2025-02-25T02:25:21.451Z"
   },
   {
    "duration": 14,
    "start_time": "2025-02-25T02:25:21.472Z"
   },
   {
    "duration": 39,
    "start_time": "2025-02-25T02:25:21.488Z"
   },
   {
    "duration": 14,
    "start_time": "2025-02-25T02:25:21.528Z"
   },
   {
    "duration": 18,
    "start_time": "2025-02-25T02:25:21.543Z"
   },
   {
    "duration": 24,
    "start_time": "2025-02-25T02:25:21.562Z"
   },
   {
    "duration": 43,
    "start_time": "2025-02-25T02:25:21.587Z"
   },
   {
    "duration": 23,
    "start_time": "2025-02-25T02:25:21.632Z"
   },
   {
    "duration": 23,
    "start_time": "2025-02-25T02:25:21.657Z"
   },
   {
    "duration": 45,
    "start_time": "2025-02-25T02:25:21.681Z"
   },
   {
    "duration": 13,
    "start_time": "2025-02-25T02:25:21.728Z"
   },
   {
    "duration": 16,
    "start_time": "2025-02-25T02:25:21.742Z"
   },
   {
    "duration": 16,
    "start_time": "2025-02-25T02:25:21.760Z"
   },
   {
    "duration": 16,
    "start_time": "2025-02-25T02:25:21.778Z"
   },
   {
    "duration": 46,
    "start_time": "2025-02-25T02:25:21.796Z"
   },
   {
    "duration": 160,
    "start_time": "2025-02-25T02:25:21.846Z"
   },
   {
    "duration": 27,
    "start_time": "2025-02-25T02:25:22.007Z"
   },
   {
    "duration": 24,
    "start_time": "2025-02-25T02:25:22.036Z"
   },
   {
    "duration": 25,
    "start_time": "2025-02-25T02:25:22.062Z"
   },
   {
    "duration": 43,
    "start_time": "2025-02-25T02:25:22.089Z"
   },
   {
    "duration": 179,
    "start_time": "2025-02-25T02:25:22.133Z"
   },
   {
    "duration": 27,
    "start_time": "2025-02-25T02:25:22.313Z"
   },
   {
    "duration": 163,
    "start_time": "2025-02-25T02:25:22.342Z"
   },
   {
    "duration": 32,
    "start_time": "2025-02-25T02:25:22.507Z"
   },
   {
    "duration": 162,
    "start_time": "2025-02-25T02:25:22.540Z"
   },
   {
    "duration": 22,
    "start_time": "2025-02-25T02:25:22.704Z"
   },
   {
    "duration": 19,
    "start_time": "2025-02-25T02:25:22.728Z"
   },
   {
    "duration": 9,
    "start_time": "2025-02-25T02:25:22.749Z"
   },
   {
    "duration": 106,
    "start_time": "2025-02-25T02:25:22.760Z"
   },
   {
    "duration": 198,
    "start_time": "2025-02-25T02:25:22.867Z"
   },
   {
    "duration": 1022,
    "start_time": "2025-02-25T02:31:58.470Z"
   },
   {
    "duration": 422,
    "start_time": "2025-02-25T02:31:59.494Z"
   },
   {
    "duration": 17,
    "start_time": "2025-02-25T02:31:59.918Z"
   },
   {
    "duration": 10,
    "start_time": "2025-02-25T02:31:59.937Z"
   },
   {
    "duration": 101,
    "start_time": "2025-02-25T02:31:59.949Z"
   },
   {
    "duration": 56,
    "start_time": "2025-02-25T02:32:00.052Z"
   },
   {
    "duration": 355,
    "start_time": "2025-02-25T02:32:00.110Z"
   },
   {
    "duration": 541,
    "start_time": "2025-02-25T02:32:00.466Z"
   },
   {
    "duration": 2953,
    "start_time": "2025-02-25T23:08:44.374Z"
   },
   {
    "duration": 482,
    "start_time": "2025-02-25T23:08:47.329Z"
   },
   {
    "duration": 19,
    "start_time": "2025-02-25T23:08:47.813Z"
   },
   {
    "duration": 16,
    "start_time": "2025-02-25T23:08:47.834Z"
   },
   {
    "duration": 112,
    "start_time": "2025-02-25T23:08:47.853Z"
   },
   {
    "duration": 71,
    "start_time": "2025-02-25T23:08:47.967Z"
   },
   {
    "duration": 339,
    "start_time": "2025-02-25T23:08:48.040Z"
   },
   {
    "duration": 542,
    "start_time": "2025-02-25T23:08:48.381Z"
   },
   {
    "duration": 94,
    "start_time": "2025-02-25T23:08:48.925Z"
   },
   {
    "duration": 29,
    "start_time": "2025-02-25T23:08:49.021Z"
   },
   {
    "duration": 17,
    "start_time": "2025-02-25T23:08:49.052Z"
   },
   {
    "duration": 43,
    "start_time": "2025-02-25T23:08:49.071Z"
   },
   {
    "duration": 16,
    "start_time": "2025-02-25T23:08:49.116Z"
   },
   {
    "duration": 19,
    "start_time": "2025-02-25T23:08:49.135Z"
   },
   {
    "duration": 42,
    "start_time": "2025-02-25T23:08:49.156Z"
   },
   {
    "duration": 23,
    "start_time": "2025-02-25T23:08:49.201Z"
   },
   {
    "duration": 18,
    "start_time": "2025-02-25T23:08:49.226Z"
   },
   {
    "duration": 45,
    "start_time": "2025-02-25T23:08:49.245Z"
   },
   {
    "duration": 32,
    "start_time": "2025-02-25T23:08:49.292Z"
   },
   {
    "duration": 24,
    "start_time": "2025-02-25T23:08:49.326Z"
   },
   {
    "duration": 43,
    "start_time": "2025-02-25T23:08:49.352Z"
   },
   {
    "duration": 32,
    "start_time": "2025-02-25T23:08:49.397Z"
   },
   {
    "duration": 38,
    "start_time": "2025-02-25T23:08:49.431Z"
   },
   {
    "duration": 14,
    "start_time": "2025-02-25T23:08:49.487Z"
   },
   {
    "duration": 18,
    "start_time": "2025-02-25T23:08:49.503Z"
   },
   {
    "duration": 16,
    "start_time": "2025-02-25T23:08:49.524Z"
   },
   {
    "duration": 48,
    "start_time": "2025-02-25T23:08:49.542Z"
   },
   {
    "duration": 27,
    "start_time": "2025-02-25T23:08:49.592Z"
   },
   {
    "duration": 156,
    "start_time": "2025-02-25T23:08:49.622Z"
   },
   {
    "duration": 37,
    "start_time": "2025-02-25T23:08:49.780Z"
   },
   {
    "duration": 17,
    "start_time": "2025-02-25T23:08:49.819Z"
   },
   {
    "duration": 30,
    "start_time": "2025-02-25T23:08:49.838Z"
   },
   {
    "duration": 181,
    "start_time": "2025-02-25T23:08:49.887Z"
   },
   {
    "duration": 29,
    "start_time": "2025-02-25T23:08:50.069Z"
   },
   {
    "duration": 176,
    "start_time": "2025-02-25T23:08:50.099Z"
   },
   {
    "duration": 34,
    "start_time": "2025-02-25T23:08:50.276Z"
   },
   {
    "duration": 181,
    "start_time": "2025-02-25T23:08:50.312Z"
   },
   {
    "duration": 32,
    "start_time": "2025-02-25T23:08:50.496Z"
   },
   {
    "duration": 20,
    "start_time": "2025-02-25T23:08:50.532Z"
   },
   {
    "duration": 16,
    "start_time": "2025-02-25T23:08:50.554Z"
   },
   {
    "duration": 173,
    "start_time": "2025-02-25T23:08:50.589Z"
   },
   {
    "duration": 246,
    "start_time": "2025-02-25T23:08:50.764Z"
   },
   {
    "duration": 18,
    "start_time": "2025-02-25T23:08:51.012Z"
   },
   {
    "duration": 57,
    "start_time": "2025-02-25T23:08:51.032Z"
   },
   {
    "duration": 98,
    "start_time": "2025-02-25T23:08:51.092Z"
   },
   {
    "duration": 8,
    "start_time": "2025-02-25T23:08:51.192Z"
   },
   {
    "duration": 169,
    "start_time": "2025-02-25T23:08:51.202Z"
   },
   {
    "duration": 641,
    "start_time": "2025-02-25T23:08:51.373Z"
   },
   {
    "duration": 5,
    "start_time": "2025-02-25T23:08:52.015Z"
   },
   {
    "duration": 41,
    "start_time": "2025-02-25T23:08:52.022Z"
   },
   {
    "duration": 4,
    "start_time": "2025-02-25T23:08:52.065Z"
   },
   {
    "duration": 16,
    "start_time": "2025-02-25T23:08:52.071Z"
   },
   {
    "duration": 3,
    "start_time": "2025-02-25T23:08:52.089Z"
   },
   {
    "duration": 6326,
    "start_time": "2025-02-25T23:08:52.094Z"
   },
   {
    "duration": 243560,
    "start_time": "2025-02-25T23:08:58.422Z"
   },
   {
    "duration": 205004,
    "start_time": "2025-02-25T23:13:01.984Z"
   },
   {
    "duration": 119496,
    "start_time": "2025-02-25T23:16:26.990Z"
   },
   {
    "duration": 19117,
    "start_time": "2025-02-25T23:18:26.488Z"
   },
   {
    "duration": 105365,
    "start_time": "2025-02-25T23:18:45.607Z"
   },
   {
    "duration": 3345,
    "start_time": "2025-02-26T21:57:30.358Z"
   },
   {
    "duration": 547,
    "start_time": "2025-02-26T21:57:33.706Z"
   },
   {
    "duration": 18,
    "start_time": "2025-02-26T21:57:34.255Z"
   },
   {
    "duration": 12,
    "start_time": "2025-02-26T21:57:34.286Z"
   },
   {
    "duration": 133,
    "start_time": "2025-02-26T21:57:34.301Z"
   },
   {
    "duration": 97,
    "start_time": "2025-02-26T21:57:34.435Z"
   },
   {
    "duration": 371,
    "start_time": "2025-02-26T21:57:34.534Z"
   },
   {
    "duration": 537,
    "start_time": "2025-02-26T21:57:34.907Z"
   },
   {
    "duration": 93,
    "start_time": "2025-02-26T21:57:35.446Z"
   },
   {
    "duration": 28,
    "start_time": "2025-02-26T21:57:35.541Z"
   },
   {
    "duration": 21,
    "start_time": "2025-02-26T21:57:35.588Z"
   },
   {
    "duration": 33,
    "start_time": "2025-02-26T21:57:35.611Z"
   },
   {
    "duration": 19,
    "start_time": "2025-02-26T21:57:35.646Z"
   },
   {
    "duration": 21,
    "start_time": "2025-02-26T21:57:35.686Z"
   },
   {
    "duration": 16,
    "start_time": "2025-02-26T21:57:35.709Z"
   },
   {
    "duration": 24,
    "start_time": "2025-02-26T21:57:35.727Z"
   },
   {
    "duration": 45,
    "start_time": "2025-02-26T21:57:35.753Z"
   },
   {
    "duration": 23,
    "start_time": "2025-02-26T21:57:35.800Z"
   },
   {
    "duration": 32,
    "start_time": "2025-02-26T21:57:35.825Z"
   },
   {
    "duration": 44,
    "start_time": "2025-02-26T21:57:35.860Z"
   },
   {
    "duration": 24,
    "start_time": "2025-02-26T21:57:35.906Z"
   },
   {
    "duration": 37,
    "start_time": "2025-02-26T21:57:35.932Z"
   },
   {
    "duration": 25,
    "start_time": "2025-02-26T21:57:35.987Z"
   },
   {
    "duration": 16,
    "start_time": "2025-02-26T21:57:36.014Z"
   },
   {
    "duration": 19,
    "start_time": "2025-02-26T21:57:36.032Z"
   },
   {
    "duration": 43,
    "start_time": "2025-02-26T21:57:36.053Z"
   },
   {
    "duration": 17,
    "start_time": "2025-02-26T21:57:36.098Z"
   },
   {
    "duration": 21,
    "start_time": "2025-02-26T21:57:36.117Z"
   },
   {
    "duration": 191,
    "start_time": "2025-02-26T21:57:36.139Z"
   },
   {
    "duration": 24,
    "start_time": "2025-02-26T21:57:36.332Z"
   },
   {
    "duration": 32,
    "start_time": "2025-02-26T21:57:36.357Z"
   },
   {
    "duration": 30,
    "start_time": "2025-02-26T21:57:36.391Z"
   },
   {
    "duration": 264,
    "start_time": "2025-02-26T21:57:36.423Z"
   },
   {
    "duration": 31,
    "start_time": "2025-02-26T21:57:36.692Z"
   },
   {
    "duration": 219,
    "start_time": "2025-02-26T21:57:36.728Z"
   },
   {
    "duration": 39,
    "start_time": "2025-02-26T21:57:36.949Z"
   },
   {
    "duration": 201,
    "start_time": "2025-02-26T21:57:36.990Z"
   },
   {
    "duration": 23,
    "start_time": "2025-02-26T21:57:37.194Z"
   },
   {
    "duration": 33,
    "start_time": "2025-02-26T21:57:37.219Z"
   },
   {
    "duration": 33,
    "start_time": "2025-02-26T21:57:37.254Z"
   },
   {
    "duration": 119,
    "start_time": "2025-02-26T21:57:37.293Z"
   },
   {
    "duration": 246,
    "start_time": "2025-02-26T21:57:37.414Z"
   },
   {
    "duration": 23,
    "start_time": "2025-02-26T21:57:37.664Z"
   },
   {
    "duration": 53,
    "start_time": "2025-02-26T21:57:37.689Z"
   },
   {
    "duration": 132,
    "start_time": "2025-02-26T21:57:37.744Z"
   },
   {
    "duration": 16,
    "start_time": "2025-02-26T21:57:37.878Z"
   },
   {
    "duration": 272,
    "start_time": "2025-02-26T21:57:37.897Z"
   },
   {
    "duration": 618,
    "start_time": "2025-02-26T21:57:38.171Z"
   },
   {
    "duration": 4,
    "start_time": "2025-02-26T21:57:38.792Z"
   },
   {
    "duration": 46,
    "start_time": "2025-02-26T21:57:38.798Z"
   },
   {
    "duration": 4,
    "start_time": "2025-02-26T21:57:38.846Z"
   },
   {
    "duration": 3,
    "start_time": "2025-02-26T21:57:38.852Z"
   },
   {
    "duration": 4,
    "start_time": "2025-02-26T21:57:38.857Z"
   },
   {
    "duration": 7755,
    "start_time": "2025-02-26T21:57:38.864Z"
   },
   {
    "duration": 267037,
    "start_time": "2025-02-26T21:57:46.621Z"
   },
   {
    "duration": 231844,
    "start_time": "2025-02-26T22:02:13.661Z"
   },
   {
    "duration": 222919,
    "start_time": "2025-02-26T22:06:05.509Z"
   },
   {
    "duration": 20120,
    "start_time": "2025-02-26T22:09:48.430Z"
   },
   {
    "duration": 108201,
    "start_time": "2025-02-26T22:10:08.552Z"
   },
   {
    "duration": 845724,
    "start_time": "2025-02-26T22:11:56.755Z"
   },
   {
    "duration": 2784,
    "start_time": "2025-02-28T19:45:42.217Z"
   },
   {
    "duration": 466,
    "start_time": "2025-02-28T19:45:45.003Z"
   },
   {
    "duration": 14,
    "start_time": "2025-02-28T19:45:45.476Z"
   },
   {
    "duration": 10,
    "start_time": "2025-02-28T19:45:45.492Z"
   },
   {
    "duration": 119,
    "start_time": "2025-02-28T19:45:45.504Z"
   },
   {
    "duration": 63,
    "start_time": "2025-02-28T19:45:45.625Z"
   },
   {
    "duration": 348,
    "start_time": "2025-02-28T19:45:45.690Z"
   },
   {
    "duration": 534,
    "start_time": "2025-02-28T19:45:46.041Z"
   },
   {
    "duration": 87,
    "start_time": "2025-02-28T19:45:46.577Z"
   },
   {
    "duration": 18,
    "start_time": "2025-02-28T19:45:46.667Z"
   },
   {
    "duration": 15,
    "start_time": "2025-02-28T19:45:46.686Z"
   },
   {
    "duration": 40,
    "start_time": "2025-02-28T19:45:46.702Z"
   },
   {
    "duration": 14,
    "start_time": "2025-02-28T19:45:46.744Z"
   },
   {
    "duration": 19,
    "start_time": "2025-02-28T19:45:46.760Z"
   },
   {
    "duration": 14,
    "start_time": "2025-02-28T19:45:46.781Z"
   },
   {
    "duration": 42,
    "start_time": "2025-02-28T19:45:46.797Z"
   },
   {
    "duration": 13,
    "start_time": "2025-02-28T19:45:46.841Z"
   },
   {
    "duration": 18,
    "start_time": "2025-02-28T19:45:46.856Z"
   },
   {
    "duration": 24,
    "start_time": "2025-02-28T19:45:46.876Z"
   },
   {
    "duration": 43,
    "start_time": "2025-02-28T19:45:46.901Z"
   },
   {
    "duration": 23,
    "start_time": "2025-02-28T19:45:46.946Z"
   },
   {
    "duration": 25,
    "start_time": "2025-02-28T19:45:46.970Z"
   },
   {
    "duration": 40,
    "start_time": "2025-02-28T19:45:46.996Z"
   },
   {
    "duration": 13,
    "start_time": "2025-02-28T19:45:47.038Z"
   },
   {
    "duration": 17,
    "start_time": "2025-02-28T19:45:47.053Z"
   },
   {
    "duration": 13,
    "start_time": "2025-02-28T19:45:47.076Z"
   },
   {
    "duration": 16,
    "start_time": "2025-02-28T19:45:47.090Z"
   },
   {
    "duration": 19,
    "start_time": "2025-02-28T19:45:47.132Z"
   },
   {
    "duration": 149,
    "start_time": "2025-02-28T19:45:47.153Z"
   },
   {
    "duration": 28,
    "start_time": "2025-02-28T19:45:47.304Z"
   },
   {
    "duration": 12,
    "start_time": "2025-02-28T19:45:47.333Z"
   },
   {
    "duration": 23,
    "start_time": "2025-02-28T19:45:47.346Z"
   },
   {
    "duration": 187,
    "start_time": "2025-02-28T19:45:47.371Z"
   },
   {
    "duration": 23,
    "start_time": "2025-02-28T19:45:47.560Z"
   },
   {
    "duration": 182,
    "start_time": "2025-02-28T19:45:47.584Z"
   },
   {
    "duration": 24,
    "start_time": "2025-02-28T19:45:47.768Z"
   },
   {
    "duration": 179,
    "start_time": "2025-02-28T19:45:47.793Z"
   },
   {
    "duration": 19,
    "start_time": "2025-02-28T19:45:47.974Z"
   },
   {
    "duration": 37,
    "start_time": "2025-02-28T19:45:47.995Z"
   },
   {
    "duration": 14,
    "start_time": "2025-02-28T19:45:48.033Z"
   },
   {
    "duration": 111,
    "start_time": "2025-02-28T19:45:48.049Z"
   },
   {
    "duration": 237,
    "start_time": "2025-02-28T19:45:48.162Z"
   },
   {
    "duration": 9,
    "start_time": "2025-02-28T19:45:48.401Z"
   },
   {
    "duration": 66,
    "start_time": "2025-02-28T19:45:48.411Z"
   },
   {
    "duration": 92,
    "start_time": "2025-02-28T19:45:48.479Z"
   },
   {
    "duration": 8,
    "start_time": "2025-02-28T19:45:48.573Z"
   },
   {
    "duration": 151,
    "start_time": "2025-02-28T19:45:48.583Z"
   },
   {
    "duration": 595,
    "start_time": "2025-02-28T19:45:48.736Z"
   },
   {
    "duration": 4,
    "start_time": "2025-02-28T19:45:49.333Z"
   },
   {
    "duration": 34,
    "start_time": "2025-02-28T19:45:49.338Z"
   },
   {
    "duration": 4,
    "start_time": "2025-02-28T19:45:49.373Z"
   },
   {
    "duration": 3,
    "start_time": "2025-02-28T19:45:49.379Z"
   },
   {
    "duration": 3,
    "start_time": "2025-02-28T19:45:49.384Z"
   },
   {
    "duration": 3,
    "start_time": "2025-02-28T19:45:49.388Z"
   },
   {
    "duration": 5876,
    "start_time": "2025-02-28T19:45:49.393Z"
   },
   {
    "duration": 221694,
    "start_time": "2025-02-28T19:45:55.274Z"
   },
   {
    "duration": 3585,
    "start_time": "2025-02-28T19:49:36.970Z"
   },
   {
    "duration": 2494,
    "start_time": "2025-02-28T19:49:40.557Z"
   },
   {
    "duration": 17973,
    "start_time": "2025-02-28T19:49:43.131Z"
   },
   {
    "duration": 99396,
    "start_time": "2025-02-28T19:50:01.106Z"
   },
   {
    "duration": 677404,
    "start_time": "2025-02-28T19:51:40.504Z"
   },
   {
    "duration": 78836,
    "start_time": "2025-02-28T20:02:57.910Z"
   },
   {
    "duration": 33101,
    "start_time": "2025-02-28T20:04:16.748Z"
   },
   {
    "duration": 56019,
    "start_time": "2025-02-28T20:04:49.851Z"
   },
   {
    "duration": 46469,
    "start_time": "2025-02-28T20:05:45.871Z"
   },
   {
    "duration": 76650,
    "start_time": "2025-02-28T20:06:32.342Z"
   },
   {
    "duration": 2251,
    "start_time": "2025-02-28T20:07:48.994Z"
   },
   {
    "duration": 1206,
    "start_time": "2025-02-28T20:07:51.246Z"
   },
   {
    "duration": 1613,
    "start_time": "2025-02-28T20:07:52.530Z"
   },
   {
    "duration": 1877,
    "start_time": "2025-02-28T20:07:54.145Z"
   },
   {
    "duration": 2914,
    "start_time": "2025-03-01T17:03:28.802Z"
   },
   {
    "duration": 460,
    "start_time": "2025-03-01T17:03:31.718Z"
   },
   {
    "duration": 15,
    "start_time": "2025-03-01T17:03:32.179Z"
   },
   {
    "duration": 17,
    "start_time": "2025-03-01T17:03:32.196Z"
   },
   {
    "duration": 111,
    "start_time": "2025-03-01T17:03:32.217Z"
   },
   {
    "duration": 59,
    "start_time": "2025-03-01T17:03:32.329Z"
   },
   {
    "duration": 374,
    "start_time": "2025-03-01T17:03:32.390Z"
   },
   {
    "duration": 528,
    "start_time": "2025-03-01T17:03:32.767Z"
   },
   {
    "duration": 100,
    "start_time": "2025-03-01T17:03:33.297Z"
   },
   {
    "duration": 30,
    "start_time": "2025-03-01T17:03:33.399Z"
   },
   {
    "duration": 14,
    "start_time": "2025-03-01T17:03:33.431Z"
   },
   {
    "duration": 24,
    "start_time": "2025-03-01T17:03:33.447Z"
   },
   {
    "duration": 40,
    "start_time": "2025-03-01T17:03:33.473Z"
   },
   {
    "duration": 20,
    "start_time": "2025-03-01T17:03:33.516Z"
   },
   {
    "duration": 15,
    "start_time": "2025-03-01T17:03:33.537Z"
   },
   {
    "duration": 20,
    "start_time": "2025-03-01T17:03:33.553Z"
   },
   {
    "duration": 39,
    "start_time": "2025-03-01T17:03:33.574Z"
   },
   {
    "duration": 22,
    "start_time": "2025-03-01T17:03:33.614Z"
   },
   {
    "duration": 25,
    "start_time": "2025-03-01T17:03:33.637Z"
   },
   {
    "duration": 42,
    "start_time": "2025-03-01T17:03:33.664Z"
   },
   {
    "duration": 25,
    "start_time": "2025-03-01T17:03:33.708Z"
   },
   {
    "duration": 25,
    "start_time": "2025-03-01T17:03:33.734Z"
   },
   {
    "duration": 25,
    "start_time": "2025-03-01T17:03:33.760Z"
   },
   {
    "duration": 13,
    "start_time": "2025-03-01T17:03:33.805Z"
   },
   {
    "duration": 17,
    "start_time": "2025-03-01T17:03:33.820Z"
   },
   {
    "duration": 13,
    "start_time": "2025-03-01T17:03:33.838Z"
   },
   {
    "duration": 16,
    "start_time": "2025-03-01T17:03:33.853Z"
   },
   {
    "duration": 47,
    "start_time": "2025-03-01T17:03:33.870Z"
   },
   {
    "duration": 148,
    "start_time": "2025-03-01T17:03:33.919Z"
   },
   {
    "duration": 23,
    "start_time": "2025-03-01T17:03:34.070Z"
   },
   {
    "duration": 23,
    "start_time": "2025-03-01T17:03:34.094Z"
   },
   {
    "duration": 29,
    "start_time": "2025-03-01T17:03:34.119Z"
   },
   {
    "duration": 186,
    "start_time": "2025-03-01T17:03:34.150Z"
   },
   {
    "duration": 24,
    "start_time": "2025-03-01T17:03:34.337Z"
   },
   {
    "duration": 178,
    "start_time": "2025-03-01T17:03:34.363Z"
   },
   {
    "duration": 24,
    "start_time": "2025-03-01T17:03:34.543Z"
   },
   {
    "duration": 176,
    "start_time": "2025-03-01T17:03:34.568Z"
   },
   {
    "duration": 19,
    "start_time": "2025-03-01T17:03:34.746Z"
   },
   {
    "duration": 21,
    "start_time": "2025-03-01T17:03:34.767Z"
   },
   {
    "duration": 12,
    "start_time": "2025-03-01T17:03:34.805Z"
   },
   {
    "duration": 112,
    "start_time": "2025-03-01T17:03:34.822Z"
   },
   {
    "duration": 233,
    "start_time": "2025-03-01T17:03:34.936Z"
   },
   {
    "duration": 11,
    "start_time": "2025-03-01T17:03:35.171Z"
   },
   {
    "duration": 70,
    "start_time": "2025-03-01T17:03:35.184Z"
   },
   {
    "duration": 101,
    "start_time": "2025-03-01T17:03:35.255Z"
   },
   {
    "duration": 8,
    "start_time": "2025-03-01T17:03:35.357Z"
   },
   {
    "duration": 162,
    "start_time": "2025-03-01T17:03:35.367Z"
   },
   {
    "duration": 697,
    "start_time": "2025-03-01T17:03:35.530Z"
   },
   {
    "duration": 5,
    "start_time": "2025-03-01T17:03:36.230Z"
   },
   {
    "duration": 39,
    "start_time": "2025-03-01T17:03:36.237Z"
   },
   {
    "duration": 4,
    "start_time": "2025-03-01T17:03:36.278Z"
   },
   {
    "duration": 23,
    "start_time": "2025-03-01T17:03:36.284Z"
   },
   {
    "duration": 3,
    "start_time": "2025-03-01T17:03:36.308Z"
   },
   {
    "duration": 6096,
    "start_time": "2025-03-01T17:03:36.312Z"
   },
   {
    "duration": 232287,
    "start_time": "2025-03-01T17:03:42.410Z"
   },
   {
    "duration": 60125,
    "start_time": "2025-03-01T17:07:34.699Z"
   },
   {
    "duration": 2881,
    "start_time": "2025-03-01T17:08:34.825Z"
   },
   {
    "duration": 18495,
    "start_time": "2025-03-01T17:08:37.708Z"
   },
   {
    "duration": 101435,
    "start_time": "2025-03-01T17:08:56.205Z"
   },
   {
    "duration": 700934,
    "start_time": "2025-03-01T17:10:37.642Z"
   },
   {
    "duration": 80846,
    "start_time": "2025-03-01T17:22:18.578Z"
   },
   {
    "duration": 34699,
    "start_time": "2025-03-01T17:23:39.506Z"
   },
   {
    "duration": 59733,
    "start_time": "2025-03-01T17:24:14.207Z"
   },
   {
    "duration": 45941,
    "start_time": "2025-03-01T17:25:13.942Z"
   },
   {
    "duration": 78638,
    "start_time": "2025-03-01T17:25:59.885Z"
   },
   {
    "duration": 2293,
    "start_time": "2025-03-01T17:27:18.526Z"
   },
   {
    "duration": 1284,
    "start_time": "2025-03-01T17:27:20.822Z"
   },
   {
    "duration": 1740,
    "start_time": "2025-03-01T17:27:22.108Z"
   },
   {
    "duration": 1894,
    "start_time": "2025-03-01T17:27:23.849Z"
   },
   {
    "duration": 6104,
    "start_time": "2025-03-01T17:39:00.704Z"
   },
   {
    "duration": 6361,
    "start_time": "2025-03-01T17:39:40.549Z"
   },
   {
    "duration": 6164,
    "start_time": "2025-03-01T17:39:51.843Z"
   },
   {
    "duration": 6121,
    "start_time": "2025-03-01T17:40:45.084Z"
   },
   {
    "duration": 6139,
    "start_time": "2025-03-01T17:41:03.770Z"
   },
   {
    "duration": 2873,
    "start_time": "2025-03-04T01:27:06.124Z"
   },
   {
    "duration": 458,
    "start_time": "2025-03-04T01:27:08.999Z"
   },
   {
    "duration": 14,
    "start_time": "2025-03-04T01:27:09.459Z"
   },
   {
    "duration": 10,
    "start_time": "2025-03-04T01:27:09.474Z"
   },
   {
    "duration": 109,
    "start_time": "2025-03-04T01:27:09.488Z"
   },
   {
    "duration": 70,
    "start_time": "2025-03-04T01:27:09.598Z"
   },
   {
    "duration": 339,
    "start_time": "2025-03-04T01:27:09.670Z"
   },
   {
    "duration": 526,
    "start_time": "2025-03-04T01:27:10.012Z"
   },
   {
    "duration": 92,
    "start_time": "2025-03-04T01:27:10.541Z"
   },
   {
    "duration": 27,
    "start_time": "2025-03-04T01:27:10.635Z"
   },
   {
    "duration": 15,
    "start_time": "2025-03-04T01:27:10.664Z"
   },
   {
    "duration": 43,
    "start_time": "2025-03-04T01:27:10.681Z"
   },
   {
    "duration": 17,
    "start_time": "2025-03-04T01:27:10.725Z"
   },
   {
    "duration": 18,
    "start_time": "2025-03-04T01:27:10.746Z"
   },
   {
    "duration": 15,
    "start_time": "2025-03-04T01:27:10.766Z"
   },
   {
    "duration": 43,
    "start_time": "2025-03-04T01:27:10.783Z"
   },
   {
    "duration": 15,
    "start_time": "2025-03-04T01:27:10.828Z"
   },
   {
    "duration": 18,
    "start_time": "2025-03-04T01:27:10.845Z"
   },
   {
    "duration": 23,
    "start_time": "2025-03-04T01:27:10.865Z"
   },
   {
    "duration": 48,
    "start_time": "2025-03-04T01:27:10.890Z"
   },
   {
    "duration": 24,
    "start_time": "2025-03-04T01:27:10.939Z"
   },
   {
    "duration": 23,
    "start_time": "2025-03-04T01:27:10.965Z"
   },
   {
    "duration": 39,
    "start_time": "2025-03-04T01:27:10.989Z"
   },
   {
    "duration": 13,
    "start_time": "2025-03-04T01:27:11.030Z"
   },
   {
    "duration": 19,
    "start_time": "2025-03-04T01:27:11.045Z"
   },
   {
    "duration": 14,
    "start_time": "2025-03-04T01:27:11.066Z"
   },
   {
    "duration": 45,
    "start_time": "2025-03-04T01:27:11.082Z"
   },
   {
    "duration": 20,
    "start_time": "2025-03-04T01:27:11.128Z"
   },
   {
    "duration": 213,
    "start_time": "2025-03-04T01:27:11.150Z"
   },
   {
    "duration": 22,
    "start_time": "2025-03-04T01:27:11.365Z"
   },
   {
    "duration": 12,
    "start_time": "2025-03-04T01:27:11.389Z"
   },
   {
    "duration": 36,
    "start_time": "2025-03-04T01:27:11.403Z"
   },
   {
    "duration": 187,
    "start_time": "2025-03-04T01:27:11.441Z"
   },
   {
    "duration": 23,
    "start_time": "2025-03-04T01:27:11.630Z"
   },
   {
    "duration": 179,
    "start_time": "2025-03-04T01:27:11.655Z"
   },
   {
    "duration": 25,
    "start_time": "2025-03-04T01:27:11.836Z"
   },
   {
    "duration": 170,
    "start_time": "2025-03-04T01:27:11.863Z"
   },
   {
    "duration": 20,
    "start_time": "2025-03-04T01:27:12.035Z"
   },
   {
    "duration": 19,
    "start_time": "2025-03-04T01:27:12.057Z"
   },
   {
    "duration": 11,
    "start_time": "2025-03-04T01:27:12.079Z"
   },
   {
    "duration": 130,
    "start_time": "2025-03-04T01:27:12.095Z"
   },
   {
    "duration": 233,
    "start_time": "2025-03-04T01:27:12.227Z"
   },
   {
    "duration": 9,
    "start_time": "2025-03-04T01:27:12.463Z"
   },
   {
    "duration": 69,
    "start_time": "2025-03-04T01:27:12.474Z"
   },
   {
    "duration": 96,
    "start_time": "2025-03-04T01:27:12.545Z"
   },
   {
    "duration": 8,
    "start_time": "2025-03-04T01:27:12.643Z"
   },
   {
    "duration": 162,
    "start_time": "2025-03-04T01:27:12.652Z"
   },
   {
    "duration": 616,
    "start_time": "2025-03-04T01:27:12.816Z"
   },
   {
    "duration": 3,
    "start_time": "2025-03-04T01:27:13.434Z"
   },
   {
    "duration": 38,
    "start_time": "2025-03-04T01:27:13.439Z"
   },
   {
    "duration": 5,
    "start_time": "2025-03-04T01:27:13.479Z"
   },
   {
    "duration": 4,
    "start_time": "2025-03-04T01:27:13.486Z"
   },
   {
    "duration": 3,
    "start_time": "2025-03-04T01:27:13.491Z"
   },
   {
    "duration": 6335,
    "start_time": "2025-03-04T01:27:13.496Z"
   },
   {
    "duration": 226905,
    "start_time": "2025-03-04T01:27:19.833Z"
   },
   {
    "duration": 5601,
    "start_time": "2025-03-04T01:31:06.740Z"
   },
   {
    "duration": 3388,
    "start_time": "2025-03-04T01:31:12.343Z"
   },
   {
    "duration": 18163,
    "start_time": "2025-03-04T01:31:15.734Z"
   },
   {
    "duration": 100908,
    "start_time": "2025-03-04T01:31:33.899Z"
   },
   {
    "duration": 710871,
    "start_time": "2025-03-04T01:33:14.809Z"
   },
   {
    "duration": 79951,
    "start_time": "2025-03-04T01:45:05.682Z"
   },
   {
    "duration": 36303,
    "start_time": "2025-03-04T01:46:25.636Z"
   },
   {
    "duration": 56358,
    "start_time": "2025-03-04T01:47:01.942Z"
   },
   {
    "duration": 48860,
    "start_time": "2025-03-04T01:47:58.302Z"
   },
   {
    "duration": 87168,
    "start_time": "2025-03-04T01:48:47.165Z"
   },
   {
    "duration": 2298,
    "start_time": "2025-03-04T01:50:14.335Z"
   },
   {
    "duration": 1304,
    "start_time": "2025-03-04T01:50:16.635Z"
   },
   {
    "duration": 1696,
    "start_time": "2025-03-04T01:50:17.941Z"
   },
   {
    "duration": 1915,
    "start_time": "2025-03-04T01:50:19.639Z"
   },
   {
    "duration": 1080,
    "start_time": "2025-03-04T01:51:40.765Z"
   },
   {
    "duration": 407,
    "start_time": "2025-03-04T01:51:41.848Z"
   },
   {
    "duration": 13,
    "start_time": "2025-03-04T01:51:42.257Z"
   },
   {
    "duration": 10,
    "start_time": "2025-03-04T01:51:42.271Z"
   },
   {
    "duration": 107,
    "start_time": "2025-03-04T01:51:42.285Z"
   },
   {
    "duration": 65,
    "start_time": "2025-03-04T01:51:42.394Z"
   },
   {
    "duration": 331,
    "start_time": "2025-03-04T01:51:42.461Z"
   },
   {
    "duration": 510,
    "start_time": "2025-03-04T01:51:42.794Z"
   },
   {
    "duration": 95,
    "start_time": "2025-03-04T01:51:43.307Z"
   },
   {
    "duration": 36,
    "start_time": "2025-03-04T01:51:43.404Z"
   },
   {
    "duration": 15,
    "start_time": "2025-03-04T01:51:43.442Z"
   },
   {
    "duration": 22,
    "start_time": "2025-03-04T01:51:43.459Z"
   },
   {
    "duration": 14,
    "start_time": "2025-03-04T01:51:43.483Z"
   },
   {
    "duration": 19,
    "start_time": "2025-03-04T01:51:43.523Z"
   },
   {
    "duration": 16,
    "start_time": "2025-03-04T01:51:43.543Z"
   },
   {
    "duration": 19,
    "start_time": "2025-03-04T01:51:43.560Z"
   },
   {
    "duration": 14,
    "start_time": "2025-03-04T01:51:43.581Z"
   },
   {
    "duration": 43,
    "start_time": "2025-03-04T01:51:43.597Z"
   },
   {
    "duration": 23,
    "start_time": "2025-03-04T01:51:43.642Z"
   },
   {
    "duration": 24,
    "start_time": "2025-03-04T01:51:43.667Z"
   },
   {
    "duration": 44,
    "start_time": "2025-03-04T01:51:43.693Z"
   },
   {
    "duration": 23,
    "start_time": "2025-03-04T01:51:43.739Z"
   },
   {
    "duration": 24,
    "start_time": "2025-03-04T01:51:43.764Z"
   },
   {
    "duration": 13,
    "start_time": "2025-03-04T01:51:43.790Z"
   },
   {
    "duration": 18,
    "start_time": "2025-03-04T01:51:43.825Z"
   },
   {
    "duration": 16,
    "start_time": "2025-03-04T01:51:43.845Z"
   },
   {
    "duration": 18,
    "start_time": "2025-03-04T01:51:43.863Z"
   },
   {
    "duration": 43,
    "start_time": "2025-03-04T01:51:43.882Z"
   },
   {
    "duration": 163,
    "start_time": "2025-03-04T01:51:43.926Z"
   },
   {
    "duration": 22,
    "start_time": "2025-03-04T01:51:44.091Z"
   },
   {
    "duration": 12,
    "start_time": "2025-03-04T01:51:44.123Z"
   },
   {
    "duration": 22,
    "start_time": "2025-03-04T01:51:44.137Z"
   },
   {
    "duration": 183,
    "start_time": "2025-03-04T01:51:44.161Z"
   },
   {
    "duration": 31,
    "start_time": "2025-03-04T01:51:44.345Z"
   },
   {
    "duration": 167,
    "start_time": "2025-03-04T01:51:44.378Z"
   },
   {
    "duration": 25,
    "start_time": "2025-03-04T01:51:44.547Z"
   },
   {
    "duration": 188,
    "start_time": "2025-03-04T01:51:44.574Z"
   },
   {
    "duration": 20,
    "start_time": "2025-03-04T01:51:44.764Z"
   },
   {
    "duration": 19,
    "start_time": "2025-03-04T01:51:44.786Z"
   },
   {
    "duration": 19,
    "start_time": "2025-03-04T01:51:44.807Z"
   },
   {
    "duration": 112,
    "start_time": "2025-03-04T01:51:44.831Z"
   },
   {
    "duration": 233,
    "start_time": "2025-03-04T01:51:44.945Z"
   },
   {
    "duration": 9,
    "start_time": "2025-03-04T01:51:45.180Z"
   },
   {
    "duration": 61,
    "start_time": "2025-03-04T01:51:45.191Z"
   },
   {
    "duration": 95,
    "start_time": "2025-03-04T01:51:45.255Z"
   },
   {
    "duration": 7,
    "start_time": "2025-03-04T01:51:45.352Z"
   },
   {
    "duration": 3,
    "start_time": "2025-03-04T01:51:45.361Z"
   },
   {
    "duration": 161,
    "start_time": "2025-03-04T01:51:45.365Z"
   },
   {
    "duration": 601,
    "start_time": "2025-03-04T01:51:45.528Z"
   },
   {
    "duration": 4,
    "start_time": "2025-03-04T01:51:46.131Z"
   },
   {
    "duration": 38,
    "start_time": "2025-03-04T01:51:46.137Z"
   },
   {
    "duration": 4,
    "start_time": "2025-03-04T01:51:46.177Z"
   },
   {
    "duration": 3,
    "start_time": "2025-03-04T01:51:46.183Z"
   },
   {
    "duration": 2,
    "start_time": "2025-03-04T01:51:46.189Z"
   },
   {
    "duration": 6277,
    "start_time": "2025-03-04T01:51:46.193Z"
   },
   {
    "duration": 225604,
    "start_time": "2025-03-04T01:51:52.472Z"
   },
   {
    "duration": 3763,
    "start_time": "2025-03-04T01:55:38.078Z"
   },
   {
    "duration": 2597,
    "start_time": "2025-03-04T01:55:41.843Z"
   },
   {
    "duration": 18751,
    "start_time": "2025-03-04T01:55:44.443Z"
   },
   {
    "duration": 100753,
    "start_time": "2025-03-04T01:56:03.197Z"
   },
   {
    "duration": 1108,
    "start_time": "2025-03-04T02:06:15.352Z"
   },
   {
    "duration": 409,
    "start_time": "2025-03-04T02:06:16.462Z"
   },
   {
    "duration": 14,
    "start_time": "2025-03-04T02:06:16.873Z"
   },
   {
    "duration": 11,
    "start_time": "2025-03-04T02:06:16.888Z"
   },
   {
    "duration": 110,
    "start_time": "2025-03-04T02:06:16.901Z"
   },
   {
    "duration": 65,
    "start_time": "2025-03-04T02:06:17.013Z"
   },
   {
    "duration": 348,
    "start_time": "2025-03-04T02:06:17.080Z"
   },
   {
    "duration": 554,
    "start_time": "2025-03-04T02:06:17.430Z"
   },
   {
    "duration": 94,
    "start_time": "2025-03-04T02:06:17.986Z"
   },
   {
    "duration": 18,
    "start_time": "2025-03-04T02:06:18.082Z"
   },
   {
    "duration": 38,
    "start_time": "2025-03-04T02:06:18.102Z"
   },
   {
    "duration": 18,
    "start_time": "2025-03-04T02:06:18.143Z"
   },
   {
    "duration": 15,
    "start_time": "2025-03-04T02:06:18.162Z"
   },
   {
    "duration": 20,
    "start_time": "2025-03-04T02:06:18.181Z"
   },
   {
    "duration": 36,
    "start_time": "2025-03-04T02:06:18.203Z"
   },
   {
    "duration": 18,
    "start_time": "2025-03-04T02:06:18.240Z"
   },
   {
    "duration": 15,
    "start_time": "2025-03-04T02:06:18.259Z"
   },
   {
    "duration": 19,
    "start_time": "2025-03-04T02:06:18.275Z"
   },
   {
    "duration": 51,
    "start_time": "2025-03-04T02:06:18.296Z"
   },
   {
    "duration": 23,
    "start_time": "2025-03-04T02:06:18.348Z"
   },
   {
    "duration": 24,
    "start_time": "2025-03-04T02:06:18.373Z"
   },
   {
    "duration": 43,
    "start_time": "2025-03-04T02:06:18.398Z"
   },
   {
    "duration": 23,
    "start_time": "2025-03-04T02:06:18.443Z"
   },
   {
    "duration": 13,
    "start_time": "2025-03-04T02:06:18.467Z"
   },
   {
    "duration": 16,
    "start_time": "2025-03-04T02:06:18.482Z"
   },
   {
    "duration": 33,
    "start_time": "2025-03-04T02:06:18.500Z"
   },
   {
    "duration": 16,
    "start_time": "2025-03-04T02:06:18.535Z"
   },
   {
    "duration": 19,
    "start_time": "2025-03-04T02:06:18.553Z"
   },
   {
    "duration": 154,
    "start_time": "2025-03-04T02:06:18.573Z"
   },
   {
    "duration": 23,
    "start_time": "2025-03-04T02:06:18.729Z"
   },
   {
    "duration": 11,
    "start_time": "2025-03-04T02:06:18.754Z"
   },
   {
    "duration": 24,
    "start_time": "2025-03-04T02:06:18.767Z"
   },
   {
    "duration": 198,
    "start_time": "2025-03-04T02:06:18.793Z"
   },
   {
    "duration": 36,
    "start_time": "2025-03-04T02:06:18.993Z"
   },
   {
    "duration": 180,
    "start_time": "2025-03-04T02:06:19.031Z"
   },
   {
    "duration": 30,
    "start_time": "2025-03-04T02:06:19.212Z"
   },
   {
    "duration": 173,
    "start_time": "2025-03-04T02:06:19.243Z"
   },
   {
    "duration": 19,
    "start_time": "2025-03-04T02:06:19.418Z"
   },
   {
    "duration": 20,
    "start_time": "2025-03-04T02:06:19.439Z"
   },
   {
    "duration": 11,
    "start_time": "2025-03-04T02:06:19.461Z"
   },
   {
    "duration": 123,
    "start_time": "2025-03-04T02:06:19.478Z"
   },
   {
    "duration": 258,
    "start_time": "2025-03-04T02:06:19.602Z"
   },
   {
    "duration": 9,
    "start_time": "2025-03-04T02:06:19.862Z"
   },
   {
    "duration": 63,
    "start_time": "2025-03-04T02:06:19.873Z"
   },
   {
    "duration": 91,
    "start_time": "2025-03-04T02:06:19.937Z"
   },
   {
    "duration": 7,
    "start_time": "2025-03-04T02:06:20.030Z"
   },
   {
    "duration": 238,
    "start_time": "2025-03-04T02:06:20.039Z"
   },
   {
    "duration": 148,
    "start_time": "2025-03-04T02:06:20.279Z"
   },
   {
    "duration": 595,
    "start_time": "2025-03-04T02:06:20.429Z"
   },
   {
    "duration": 4,
    "start_time": "2025-03-04T02:06:21.025Z"
   },
   {
    "duration": 35,
    "start_time": "2025-03-04T02:06:21.030Z"
   },
   {
    "duration": 4,
    "start_time": "2025-03-04T02:06:21.067Z"
   },
   {
    "duration": 3,
    "start_time": "2025-03-04T02:06:21.072Z"
   },
   {
    "duration": 5,
    "start_time": "2025-03-04T02:06:21.076Z"
   },
   {
    "duration": 5682,
    "start_time": "2025-03-04T02:06:21.082Z"
   },
   {
    "duration": 225017,
    "start_time": "2025-03-04T02:06:26.766Z"
   },
   {
    "duration": 3548,
    "start_time": "2025-03-04T02:10:11.785Z"
   },
   {
    "duration": 2905,
    "start_time": "2025-03-04T02:10:15.335Z"
   },
   {
    "duration": 18107,
    "start_time": "2025-03-04T02:10:18.244Z"
   },
   {
    "duration": 100714,
    "start_time": "2025-03-04T02:10:36.352Z"
   },
   {
    "duration": 728688,
    "start_time": "2025-03-04T02:12:17.069Z"
   },
   {
    "duration": 92180,
    "start_time": "2025-03-04T02:24:25.759Z"
   },
   {
    "duration": 48289,
    "start_time": "2025-03-04T02:25:57.940Z"
   },
   {
    "duration": 58391,
    "start_time": "2025-03-04T02:26:46.233Z"
   },
   {
    "duration": 45001,
    "start_time": "2025-03-04T02:27:44.625Z"
   },
   {
    "duration": 77646,
    "start_time": "2025-03-04T02:28:29.627Z"
   },
   {
    "duration": 2351,
    "start_time": "2025-03-04T02:29:47.275Z"
   },
   {
    "duration": 1205,
    "start_time": "2025-03-04T02:29:49.628Z"
   },
   {
    "duration": 1683,
    "start_time": "2025-03-04T02:29:50.835Z"
   },
   {
    "duration": 1891,
    "start_time": "2025-03-04T02:29:52.520Z"
   },
   {
    "duration": 2828,
    "start_time": "2025-03-04T21:28:32.849Z"
   },
   {
    "duration": 444,
    "start_time": "2025-03-04T21:28:35.680Z"
   },
   {
    "duration": 17,
    "start_time": "2025-03-04T21:28:36.126Z"
   },
   {
    "duration": 10,
    "start_time": "2025-03-04T21:28:36.145Z"
   },
   {
    "duration": 105,
    "start_time": "2025-03-04T21:28:36.159Z"
   },
   {
    "duration": 56,
    "start_time": "2025-03-04T21:28:36.265Z"
   },
   {
    "duration": 354,
    "start_time": "2025-03-04T21:28:36.323Z"
   },
   {
    "duration": 507,
    "start_time": "2025-03-04T21:28:36.678Z"
   },
   {
    "duration": 95,
    "start_time": "2025-03-04T21:28:37.187Z"
   },
   {
    "duration": 24,
    "start_time": "2025-03-04T21:28:37.284Z"
   },
   {
    "duration": 14,
    "start_time": "2025-03-04T21:28:37.311Z"
   },
   {
    "duration": 25,
    "start_time": "2025-03-04T21:28:37.343Z"
   },
   {
    "duration": 16,
    "start_time": "2025-03-04T21:28:37.370Z"
   },
   {
    "duration": 19,
    "start_time": "2025-03-04T21:28:37.390Z"
   },
   {
    "duration": 39,
    "start_time": "2025-03-04T21:28:37.410Z"
   },
   {
    "duration": 19,
    "start_time": "2025-03-04T21:28:37.451Z"
   },
   {
    "duration": 14,
    "start_time": "2025-03-04T21:28:37.472Z"
   },
   {
    "duration": 21,
    "start_time": "2025-03-04T21:28:37.488Z"
   },
   {
    "duration": 44,
    "start_time": "2025-03-04T21:28:37.512Z"
   },
   {
    "duration": 32,
    "start_time": "2025-03-04T21:28:37.557Z"
   },
   {
    "duration": 30,
    "start_time": "2025-03-04T21:28:37.591Z"
   },
   {
    "duration": 41,
    "start_time": "2025-03-04T21:28:37.622Z"
   },
   {
    "duration": 24,
    "start_time": "2025-03-04T21:28:37.665Z"
   },
   {
    "duration": 12,
    "start_time": "2025-03-04T21:28:37.691Z"
   },
   {
    "duration": 37,
    "start_time": "2025-03-04T21:28:37.705Z"
   },
   {
    "duration": 12,
    "start_time": "2025-03-04T21:28:37.744Z"
   },
   {
    "duration": 16,
    "start_time": "2025-03-04T21:28:37.758Z"
   },
   {
    "duration": 19,
    "start_time": "2025-03-04T21:28:37.776Z"
   },
   {
    "duration": 168,
    "start_time": "2025-03-04T21:28:37.797Z"
   },
   {
    "duration": 22,
    "start_time": "2025-03-04T21:28:37.967Z"
   },
   {
    "duration": 13,
    "start_time": "2025-03-04T21:28:37.991Z"
   },
   {
    "duration": 39,
    "start_time": "2025-03-04T21:28:38.006Z"
   },
   {
    "duration": 168,
    "start_time": "2025-03-04T21:28:38.047Z"
   },
   {
    "duration": 31,
    "start_time": "2025-03-04T21:28:38.217Z"
   },
   {
    "duration": 169,
    "start_time": "2025-03-04T21:28:38.249Z"
   },
   {
    "duration": 28,
    "start_time": "2025-03-04T21:28:38.420Z"
   },
   {
    "duration": 168,
    "start_time": "2025-03-04T21:28:38.449Z"
   },
   {
    "duration": 19,
    "start_time": "2025-03-04T21:28:38.618Z"
   },
   {
    "duration": 21,
    "start_time": "2025-03-04T21:28:38.643Z"
   },
   {
    "duration": 11,
    "start_time": "2025-03-04T21:28:38.666Z"
   },
   {
    "duration": 118,
    "start_time": "2025-03-04T21:28:38.682Z"
   },
   {
    "duration": 257,
    "start_time": "2025-03-04T21:28:38.802Z"
   },
   {
    "duration": 9,
    "start_time": "2025-03-04T21:28:39.062Z"
   },
   {
    "duration": 51,
    "start_time": "2025-03-04T21:28:39.073Z"
   },
   {
    "duration": 99,
    "start_time": "2025-03-04T21:28:39.126Z"
   },
   {
    "duration": 17,
    "start_time": "2025-03-04T21:28:39.226Z"
   },
   {
    "duration": 214,
    "start_time": "2025-03-04T21:28:39.245Z"
   },
   {
    "duration": 161,
    "start_time": "2025-03-04T21:28:39.461Z"
   },
   {
    "duration": 605,
    "start_time": "2025-03-04T21:28:39.624Z"
   },
   {
    "duration": 11,
    "start_time": "2025-03-04T21:28:40.231Z"
   },
   {
    "duration": 36,
    "start_time": "2025-03-04T21:28:40.244Z"
   },
   {
    "duration": 4,
    "start_time": "2025-03-04T21:28:40.282Z"
   },
   {
    "duration": 3,
    "start_time": "2025-03-04T21:28:40.288Z"
   },
   {
    "duration": 4,
    "start_time": "2025-03-04T21:28:40.292Z"
   },
   {
    "duration": 5767,
    "start_time": "2025-03-04T21:28:40.298Z"
   },
   {
    "duration": 220253,
    "start_time": "2025-03-04T21:28:46.067Z"
   },
   {
    "duration": 3939,
    "start_time": "2025-03-04T21:32:26.322Z"
   },
   {
    "duration": 2679,
    "start_time": "2025-03-04T21:32:30.264Z"
   },
   {
    "duration": 18158,
    "start_time": "2025-03-04T21:32:32.945Z"
   },
   {
    "duration": 100705,
    "start_time": "2025-03-04T21:32:51.105Z"
   },
   {
    "duration": 708662,
    "start_time": "2025-03-04T21:34:31.812Z"
   },
   {
    "duration": 97973,
    "start_time": "2025-03-04T21:46:20.476Z"
   },
   {
    "duration": 42808,
    "start_time": "2025-03-04T21:47:58.452Z"
   },
   {
    "duration": 68046,
    "start_time": "2025-03-04T21:48:41.261Z"
   },
   {
    "duration": 55637,
    "start_time": "2025-03-04T21:49:49.309Z"
   },
   {
    "duration": 80315,
    "start_time": "2025-03-04T21:50:44.948Z"
   },
   {
    "duration": 2293,
    "start_time": "2025-03-04T21:52:05.265Z"
   },
   {
    "duration": 1293,
    "start_time": "2025-03-04T21:52:07.560Z"
   },
   {
    "duration": 1678,
    "start_time": "2025-03-04T21:52:08.855Z"
   },
   {
    "duration": 1912,
    "start_time": "2025-03-04T21:52:10.535Z"
   },
   {
    "duration": 165,
    "start_time": "2025-03-05T22:08:34.201Z"
   },
   {
    "duration": 3067,
    "start_time": "2025-03-05T22:08:50.609Z"
   },
   {
    "duration": 509,
    "start_time": "2025-03-05T22:08:53.680Z"
   },
   {
    "duration": 19,
    "start_time": "2025-03-05T22:08:54.191Z"
   },
   {
    "duration": 13,
    "start_time": "2025-03-05T22:08:54.212Z"
   },
   {
    "duration": 128,
    "start_time": "2025-03-05T22:08:54.229Z"
   },
   {
    "duration": 82,
    "start_time": "2025-03-05T22:08:54.359Z"
   },
   {
    "duration": 373,
    "start_time": "2025-03-05T22:08:54.443Z"
   },
   {
    "duration": 523,
    "start_time": "2025-03-05T22:08:54.818Z"
   },
   {
    "duration": 99,
    "start_time": "2025-03-05T22:08:55.343Z"
   },
   {
    "duration": 28,
    "start_time": "2025-03-05T22:08:55.444Z"
   },
   {
    "duration": 32,
    "start_time": "2025-03-05T22:08:55.474Z"
   },
   {
    "duration": 25,
    "start_time": "2025-03-05T22:08:55.508Z"
   },
   {
    "duration": 17,
    "start_time": "2025-03-05T22:08:55.535Z"
   },
   {
    "duration": 19,
    "start_time": "2025-03-05T22:08:55.555Z"
   },
   {
    "duration": 39,
    "start_time": "2025-03-05T22:08:55.576Z"
   },
   {
    "duration": 20,
    "start_time": "2025-03-05T22:08:55.617Z"
   },
   {
    "duration": 16,
    "start_time": "2025-03-05T22:08:55.639Z"
   },
   {
    "duration": 18,
    "start_time": "2025-03-05T22:08:55.657Z"
   },
   {
    "duration": 50,
    "start_time": "2025-03-05T22:08:55.677Z"
   },
   {
    "duration": 34,
    "start_time": "2025-03-05T22:08:55.729Z"
   },
   {
    "duration": 62,
    "start_time": "2025-03-05T22:08:55.765Z"
   },
   {
    "duration": 24,
    "start_time": "2025-03-05T22:08:55.828Z"
   },
   {
    "duration": 58,
    "start_time": "2025-03-05T22:08:55.855Z"
   },
   {
    "duration": 15,
    "start_time": "2025-03-05T22:08:55.915Z"
   },
   {
    "duration": 20,
    "start_time": "2025-03-05T22:08:55.932Z"
   },
   {
    "duration": 14,
    "start_time": "2025-03-05T22:08:55.954Z"
   },
   {
    "duration": 17,
    "start_time": "2025-03-05T22:08:56.006Z"
   },
   {
    "duration": 21,
    "start_time": "2025-03-05T22:08:56.025Z"
   },
   {
    "duration": 158,
    "start_time": "2025-03-05T22:08:56.048Z"
   },
   {
    "duration": 25,
    "start_time": "2025-03-05T22:08:56.208Z"
   },
   {
    "duration": 12,
    "start_time": "2025-03-05T22:08:56.235Z"
   },
   {
    "duration": 24,
    "start_time": "2025-03-05T22:08:56.249Z"
   },
   {
    "duration": 197,
    "start_time": "2025-03-05T22:08:56.275Z"
   },
   {
    "duration": 22,
    "start_time": "2025-03-05T22:08:56.474Z"
   },
   {
    "duration": 172,
    "start_time": "2025-03-05T22:08:56.506Z"
   },
   {
    "duration": 29,
    "start_time": "2025-03-05T22:08:56.680Z"
   },
   {
    "duration": 185,
    "start_time": "2025-03-05T22:08:56.710Z"
   },
   {
    "duration": 19,
    "start_time": "2025-03-05T22:08:56.897Z"
   },
   {
    "duration": 20,
    "start_time": "2025-03-05T22:08:56.918Z"
   },
   {
    "duration": 11,
    "start_time": "2025-03-05T22:08:56.940Z"
   },
   {
    "duration": 126,
    "start_time": "2025-03-05T22:08:56.956Z"
   },
   {
    "duration": 233,
    "start_time": "2025-03-05T22:08:57.084Z"
   },
   {
    "duration": 10,
    "start_time": "2025-03-05T22:08:57.319Z"
   },
   {
    "duration": 51,
    "start_time": "2025-03-05T22:08:57.330Z"
   },
   {
    "duration": 122,
    "start_time": "2025-03-05T22:08:57.383Z"
   },
   {
    "duration": 2,
    "start_time": "2025-03-05T22:09:31.917Z"
   },
   {
    "duration": 474,
    "start_time": "2025-03-05T22:11:35.149Z"
   },
   {
    "duration": 303,
    "start_time": "2025-03-05T22:12:15.116Z"
   },
   {
    "duration": 4,
    "start_time": "2025-03-05T22:13:24.543Z"
   },
   {
    "duration": 9535,
    "start_time": "2025-03-05T22:14:04.721Z"
   },
   {
    "duration": 80806,
    "start_time": "2025-03-05T22:15:18.265Z"
   },
   {
    "duration": 339275,
    "start_time": "2025-03-05T22:18:24.601Z"
   },
   {
    "duration": 205,
    "start_time": "2025-03-05T22:24:03.878Z"
   },
   {
    "duration": 0,
    "start_time": "2025-03-05T22:24:04.084Z"
   },
   {
    "duration": 0,
    "start_time": "2025-03-05T22:24:04.086Z"
   },
   {
    "duration": 5,
    "start_time": "2025-03-05T22:25:55.937Z"
   },
   {
    "duration": 2991,
    "start_time": "2025-03-05T22:26:20.816Z"
   },
   {
    "duration": 100335,
    "start_time": "2025-03-05T22:27:01.313Z"
   },
   {
    "duration": 92657,
    "start_time": "2025-03-05T22:28:41.650Z"
   },
   {
    "duration": 1319312,
    "start_time": "2025-03-05T22:30:14.309Z"
   },
   {
    "duration": 14,
    "start_time": "2025-03-05T22:52:13.623Z"
   },
   {
    "duration": 0,
    "start_time": "2025-03-05T22:52:13.639Z"
   },
   {
    "duration": 0,
    "start_time": "2025-03-05T22:52:13.641Z"
   },
   {
    "duration": 0,
    "start_time": "2025-03-05T22:52:13.643Z"
   },
   {
    "duration": 0,
    "start_time": "2025-03-05T22:52:13.644Z"
   },
   {
    "duration": 0,
    "start_time": "2025-03-05T22:52:13.645Z"
   },
   {
    "duration": 20,
    "start_time": "2025-03-05T22:58:07.844Z"
   },
   {
    "duration": 5,
    "start_time": "2025-03-05T22:58:46.300Z"
   },
   {
    "duration": 26788,
    "start_time": "2025-03-05T22:58:58.130Z"
   },
   {
    "duration": 1129177,
    "start_time": "2025-03-05T22:59:38.029Z"
   },
   {
    "duration": 11,
    "start_time": "2025-03-05T23:18:27.208Z"
   },
   {
    "duration": 8,
    "start_time": "2025-03-05T23:18:27.220Z"
   },
   {
    "duration": 6,
    "start_time": "2025-03-05T23:18:27.230Z"
   },
   {
    "duration": 369,
    "start_time": "2025-03-05T23:18:27.238Z"
   },
   {
    "duration": 2825,
    "start_time": "2025-03-06T00:40:41.588Z"
   },
   {
    "duration": 439,
    "start_time": "2025-03-06T00:40:44.415Z"
   },
   {
    "duration": 13,
    "start_time": "2025-03-06T00:40:44.856Z"
   },
   {
    "duration": 11,
    "start_time": "2025-03-06T00:40:44.871Z"
   },
   {
    "duration": 107,
    "start_time": "2025-03-06T00:40:44.884Z"
   },
   {
    "duration": 71,
    "start_time": "2025-03-06T00:40:44.993Z"
   },
   {
    "duration": 352,
    "start_time": "2025-03-06T00:40:45.066Z"
   },
   {
    "duration": 497,
    "start_time": "2025-03-06T00:40:45.424Z"
   },
   {
    "duration": 88,
    "start_time": "2025-03-06T00:40:45.924Z"
   },
   {
    "duration": 25,
    "start_time": "2025-03-06T00:40:46.027Z"
   },
   {
    "duration": 16,
    "start_time": "2025-03-06T00:40:46.064Z"
   },
   {
    "duration": 23,
    "start_time": "2025-03-06T00:40:46.081Z"
   },
   {
    "duration": 25,
    "start_time": "2025-03-06T00:40:46.106Z"
   },
   {
    "duration": 18,
    "start_time": "2025-03-06T00:40:46.133Z"
   },
   {
    "duration": 14,
    "start_time": "2025-03-06T00:40:46.153Z"
   },
   {
    "duration": 18,
    "start_time": "2025-03-06T00:40:46.169Z"
   },
   {
    "duration": 47,
    "start_time": "2025-03-06T00:40:46.188Z"
   },
   {
    "duration": 18,
    "start_time": "2025-03-06T00:40:46.237Z"
   },
   {
    "duration": 24,
    "start_time": "2025-03-06T00:40:46.257Z"
   },
   {
    "duration": 43,
    "start_time": "2025-03-06T00:40:46.282Z"
   },
   {
    "duration": 26,
    "start_time": "2025-03-06T00:40:46.327Z"
   },
   {
    "duration": 24,
    "start_time": "2025-03-06T00:40:46.355Z"
   },
   {
    "duration": 46,
    "start_time": "2025-03-06T00:40:46.381Z"
   },
   {
    "duration": 13,
    "start_time": "2025-03-06T00:40:46.429Z"
   },
   {
    "duration": 19,
    "start_time": "2025-03-06T00:40:46.443Z"
   },
   {
    "duration": 15,
    "start_time": "2025-03-06T00:40:46.463Z"
   },
   {
    "duration": 16,
    "start_time": "2025-03-06T00:40:46.480Z"
   },
   {
    "duration": 21,
    "start_time": "2025-03-06T00:40:46.528Z"
   },
   {
    "duration": 147,
    "start_time": "2025-03-06T00:40:46.551Z"
   },
   {
    "duration": 33,
    "start_time": "2025-03-06T00:40:46.700Z"
   },
   {
    "duration": 11,
    "start_time": "2025-03-06T00:40:46.735Z"
   },
   {
    "duration": 24,
    "start_time": "2025-03-06T00:40:46.748Z"
   },
   {
    "duration": 182,
    "start_time": "2025-03-06T00:40:46.773Z"
   },
   {
    "duration": 22,
    "start_time": "2025-03-06T00:40:46.957Z"
   },
   {
    "duration": 180,
    "start_time": "2025-03-06T00:40:46.981Z"
   },
   {
    "duration": 26,
    "start_time": "2025-03-06T00:40:47.162Z"
   },
   {
    "duration": 177,
    "start_time": "2025-03-06T00:40:47.190Z"
   },
   {
    "duration": 19,
    "start_time": "2025-03-06T00:40:47.369Z"
   },
   {
    "duration": 34,
    "start_time": "2025-03-06T00:40:47.390Z"
   },
   {
    "duration": 12,
    "start_time": "2025-03-06T00:40:47.426Z"
   },
   {
    "duration": 124,
    "start_time": "2025-03-06T00:40:47.439Z"
   },
   {
    "duration": 224,
    "start_time": "2025-03-06T00:40:47.565Z"
   },
   {
    "duration": 9,
    "start_time": "2025-03-06T00:40:47.791Z"
   },
   {
    "duration": 68,
    "start_time": "2025-03-06T00:40:47.802Z"
   },
   {
    "duration": 110,
    "start_time": "2025-03-06T00:40:47.872Z"
   },
   {
    "duration": 3,
    "start_time": "2025-03-06T00:40:47.984Z"
   },
   {
    "duration": 474,
    "start_time": "2025-03-06T00:40:47.988Z"
   },
   {
    "duration": 325,
    "start_time": "2025-03-06T00:40:48.464Z"
   },
   {
    "duration": 4,
    "start_time": "2025-03-06T00:40:48.792Z"
   },
   {
    "duration": 5831,
    "start_time": "2025-03-06T00:40:48.798Z"
   },
   {
    "duration": 75883,
    "start_time": "2025-03-06T00:40:54.631Z"
   },
   {
    "duration": 329449,
    "start_time": "2025-03-06T00:42:10.516Z"
   },
   {
    "duration": 2569,
    "start_time": "2025-03-06T00:47:39.968Z"
   },
   {
    "duration": 91190,
    "start_time": "2025-03-06T00:47:42.539Z"
   },
   {
    "duration": 99002,
    "start_time": "2025-03-06T00:49:13.732Z"
   },
   {
    "duration": 1266365,
    "start_time": "2025-03-06T00:50:52.736Z"
   },
   {
    "duration": 35833,
    "start_time": "2025-03-06T01:11:59.104Z"
   },
   {
    "duration": 970114,
    "start_time": "2025-03-06T01:12:34.939Z"
   },
   {
    "duration": 10,
    "start_time": "2025-03-06T01:28:45.055Z"
   },
   {
    "duration": 8,
    "start_time": "2025-03-06T01:28:45.067Z"
   },
   {
    "duration": 8,
    "start_time": "2025-03-06T01:28:45.124Z"
   },
   {
    "duration": 306,
    "start_time": "2025-03-06T01:28:45.134Z"
   },
   {
    "duration": 297,
    "start_time": "2025-03-06T02:21:16.548Z"
   },
   {
    "duration": 1190,
    "start_time": "2025-04-21T23:58:36.375Z"
   },
   {
    "duration": 452,
    "start_time": "2025-04-21T23:58:37.568Z"
   },
   {
    "duration": 19,
    "start_time": "2025-04-21T23:58:38.022Z"
   },
   {
    "duration": 10,
    "start_time": "2025-04-21T23:58:38.044Z"
   },
   {
    "duration": 105,
    "start_time": "2025-04-21T23:58:38.057Z"
   },
   {
    "duration": 56,
    "start_time": "2025-04-21T23:58:38.163Z"
   },
   {
    "duration": 348,
    "start_time": "2025-04-21T23:58:38.221Z"
   },
   {
    "duration": 490,
    "start_time": "2025-04-21T23:58:38.571Z"
   },
   {
    "duration": 93,
    "start_time": "2025-04-21T23:58:39.063Z"
   },
   {
    "duration": 26,
    "start_time": "2025-04-21T23:58:39.158Z"
   },
   {
    "duration": 15,
    "start_time": "2025-04-21T23:58:39.186Z"
   },
   {
    "duration": 43,
    "start_time": "2025-04-21T23:58:39.203Z"
   },
   {
    "duration": 15,
    "start_time": "2025-04-21T23:58:39.248Z"
   },
   {
    "duration": 18,
    "start_time": "2025-04-21T23:58:39.266Z"
   },
   {
    "duration": 15,
    "start_time": "2025-04-21T23:58:39.285Z"
   },
   {
    "duration": 38,
    "start_time": "2025-04-21T23:58:39.302Z"
   },
   {
    "duration": 14,
    "start_time": "2025-04-21T23:58:39.342Z"
   },
   {
    "duration": 19,
    "start_time": "2025-04-21T23:58:39.358Z"
   },
   {
    "duration": 25,
    "start_time": "2025-04-21T23:58:39.378Z"
   },
   {
    "duration": 49,
    "start_time": "2025-04-21T23:58:39.404Z"
   },
   {
    "duration": 25,
    "start_time": "2025-04-21T23:58:39.455Z"
   },
   {
    "duration": 23,
    "start_time": "2025-04-21T23:58:39.482Z"
   },
   {
    "duration": 48,
    "start_time": "2025-04-21T23:58:39.506Z"
   },
   {
    "duration": 14,
    "start_time": "2025-04-21T23:58:39.558Z"
   },
   {
    "duration": 19,
    "start_time": "2025-04-21T23:58:39.574Z"
   },
   {
    "duration": 13,
    "start_time": "2025-04-21T23:58:39.595Z"
   },
   {
    "duration": 40,
    "start_time": "2025-04-21T23:58:39.609Z"
   },
   {
    "duration": 20,
    "start_time": "2025-04-21T23:58:39.651Z"
   },
   {
    "duration": 155,
    "start_time": "2025-04-21T23:58:39.673Z"
   },
   {
    "duration": 25,
    "start_time": "2025-04-21T23:58:39.829Z"
   },
   {
    "duration": 12,
    "start_time": "2025-04-21T23:58:39.855Z"
   },
   {
    "duration": 24,
    "start_time": "2025-04-21T23:58:39.868Z"
   },
   {
    "duration": 191,
    "start_time": "2025-04-21T23:58:39.893Z"
   },
   {
    "duration": 21,
    "start_time": "2025-04-21T23:58:40.086Z"
   },
   {
    "duration": 177,
    "start_time": "2025-04-21T23:58:40.109Z"
   },
   {
    "duration": 24,
    "start_time": "2025-04-21T23:58:40.288Z"
   },
   {
    "duration": 187,
    "start_time": "2025-04-21T23:58:40.313Z"
   },
   {
    "duration": 20,
    "start_time": "2025-04-21T23:58:40.502Z"
   },
   {
    "duration": 26,
    "start_time": "2025-04-21T23:58:40.523Z"
   },
   {
    "duration": 11,
    "start_time": "2025-04-21T23:58:40.551Z"
   },
   {
    "duration": 122,
    "start_time": "2025-04-21T23:58:40.567Z"
   },
   {
    "duration": 231,
    "start_time": "2025-04-21T23:58:40.691Z"
   },
   {
    "duration": 17,
    "start_time": "2025-04-21T23:58:40.924Z"
   },
   {
    "duration": 52,
    "start_time": "2025-04-21T23:58:40.943Z"
   },
   {
    "duration": 112,
    "start_time": "2025-04-21T23:58:40.999Z"
   },
   {
    "duration": 2,
    "start_time": "2025-04-21T23:58:41.113Z"
   },
   {
    "duration": 481,
    "start_time": "2025-04-21T23:58:41.116Z"
   },
   {
    "duration": 296,
    "start_time": "2025-04-21T23:58:41.599Z"
   },
   {
    "duration": 4,
    "start_time": "2025-04-21T23:58:41.897Z"
   },
   {
    "duration": 7152,
    "start_time": "2025-04-21T23:58:41.903Z"
   }
  ],
  "kernelspec": {
   "display_name": "base",
   "language": "python",
   "name": "python3"
  },
  "language_info": {
   "codemirror_mode": {
    "name": "ipython",
    "version": 3
   },
   "file_extension": ".py",
   "mimetype": "text/x-python",
   "name": "python",
   "nbconvert_exporter": "python",
   "pygments_lexer": "ipython3",
   "version": "3.12.7"
  },
  "toc": {
   "base_numbering": 1,
   "nav_menu": {},
   "number_sections": true,
   "sideBar": true,
   "skip_h1_title": true,
   "title_cell": "Table of Contents",
   "title_sidebar": "Contents",
   "toc_cell": false,
   "toc_position": {},
   "toc_section_display": true,
   "toc_window_display": false
  }
 },
 "nbformat": 4,
 "nbformat_minor": 2
}
